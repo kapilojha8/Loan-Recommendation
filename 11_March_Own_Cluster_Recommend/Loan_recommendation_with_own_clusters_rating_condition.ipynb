{
 "cells": [
  {
   "cell_type": "markdown",
   "id": "8433267c-e538-444a-8fbf-bbe8f7eab0e2",
   "metadata": {
    "id": "8433267c-e538-444a-8fbf-bbe8f7eab0e2"
   },
   "source": [
    "# Loan Recommendation System\n",
    "## POC - Proof Of Concept"
   ]
  },
  {
   "cell_type": "raw",
   "id": "3393d7be-0421-4ea8-90c0-d6104e07c990",
   "metadata": {},
   "source": [
    "ALS training , Cosine Similarity , Centered Cosine Similarity\n",
    "Created the Clusters according to own intutuin about Loan Amount by checking the patters drawn on histogram."
   ]
  },
  {
   "attachments": {},
   "cell_type": "markdown",
   "id": "d42fa2b8-f9f5-4795-958f-e86c7453430f",
   "metadata": {},
   "source": [
    "<img src=\"ClusterSchema.png\" />"
   ]
  },
  {
   "cell_type": "code",
   "execution_count": 1,
   "id": "e20dd32e-1530-42f6-bdf9-c3f5806e837b",
   "metadata": {
    "id": "e20dd32e-1530-42f6-bdf9-c3f5806e837b"
   },
   "outputs": [],
   "source": [
    "from pyspark.sql import SparkSession\n",
    "from pyspark.sql.functions import col, expr, rank, count #countDistinct\n",
    "from pyspark.sql import functions as F\n",
    "from pyspark.ml.recommendation import ALS\n",
    "from pyspark.ml.evaluation import RegressionEvaluator\n",
    "from pyspark.ml.linalg import Vectors  ##DenseMatrix\n",
    "import matplotlib.pyplot as plt\n",
    "import pandas as pd\n",
    "import numpy as np\n",
    "import operator\n",
    "import time"
   ]
  },
  {
   "cell_type": "code",
   "execution_count": null,
   "id": "ec2c3dd8-7bb0-4bfb-a8bf-cd51a0fd1de3",
   "metadata": {},
   "outputs": [],
   "source": []
  },
  {
   "cell_type": "code",
   "execution_count": 2,
   "id": "7feab969-e8a3-4d26-adb0-080556999837",
   "metadata": {
    "id": "7feab969-e8a3-4d26-adb0-080556999837"
   },
   "outputs": [],
   "source": [
    "spark = SparkSession.builder.appName('loan_recommendation_with_clusters').config(\"spark.driver.memory\", \"12g\").getOrCreate()"
   ]
  },
  {
   "cell_type": "code",
   "execution_count": 3,
   "id": "c193e8d5-ed73-4ce1-8c2a-8580263c5921",
   "metadata": {
    "colab": {
     "base_uri": "https://localhost:8080/"
    },
    "id": "c193e8d5-ed73-4ce1-8c2a-8580263c5921",
    "outputId": "35bc7aa7-972b-4000-ea33-dfbd4074f696"
   },
   "outputs": [
    {
     "name": "stdout",
     "output_type": "stream",
     "text": [
      "root\n",
      " |-- Id: string (nullable = true)\n",
      " |-- AccountID: string (nullable = true)\n",
      " |-- Number_Of_Loans_Granted__c: integer (nullable = true)\n",
      " |-- Num_Of_Loans_Paid__c: integer (nullable = true)\n",
      " |-- Purpose_of_Loan__c: string (nullable = true)\n",
      " |-- Total_Repayments__c: integer (nullable = true)\n",
      " |-- Amount: integer (nullable = true)\n",
      " |-- Term_in_Weeks__c: double (nullable = true)\n",
      " |-- Payment_Frequency__c: string (nullable = true)\n",
      " |-- StageName: string (nullable = true)\n",
      " |-- Applicant Age: integer (nullable = true)\n",
      " |-- summary_income: double (nullable = true)\n",
      " |-- summary_income_cv: double (nullable = true)\n",
      " |-- city: string (nullable = true)\n",
      " |-- state: string (nullable = true)\n",
      " |-- Country: string (nullable = true)\n",
      " |-- userId: integer (nullable = true)\n",
      " |-- loanId: integer (nullable = true)\n",
      " |-- count: integer (nullable = true)\n",
      " |-- Cluster_result: integer (nullable = true)\n",
      "\n"
     ]
    }
   ],
   "source": [
    "# loans_df = spark.read.csv(\"RecommendData/df_temp_cluster_rating_condition_data.csv\", inferSchema=True, header=True)\n",
    "loans_df = spark.read.csv(\"Loan_Dataset/df_temp_cluster_Own_Loan_Amount_Condition.csv\", inferSchema=True, header=True)\n",
    "\n",
    "loans_df.printSchema()"
   ]
  },
  {
   "cell_type": "code",
   "execution_count": 4,
   "id": "_wOkxYLVyNiw",
   "metadata": {
    "colab": {
     "base_uri": "https://localhost:8080/"
    },
    "id": "_wOkxYLVyNiw",
    "outputId": "cfcd8bbe-05c0-4c1e-a4d8-7c7d05b6ffbd"
   },
   "outputs": [
    {
     "name": "stdout",
     "output_type": "stream",
     "text": [
      "+-------+------------------+-----------------+-------------------+--------------------+------------------+\n",
      "|summary|    Cluster_result|           Amount|Total_Repayments__c|Payment_Frequency__c|             count|\n",
      "+-------+------------------+-----------------+-------------------+--------------------+------------------+\n",
      "|  count|            481071|           481071|             481071|              481071|            481071|\n",
      "|   mean|11.568618769370842|861.5759420127174|  7.075398433911003|                NULL|1.6787376499518782|\n",
      "| stddev| 8.303280980759853|809.0576736930908|   4.13654303900754|                NULL|0.8991013265350597|\n",
      "|    min|                 1|              100|                  1|         Fortnightly|                 0|\n",
      "|    max|                38|             5000|                 45|              Weekly|                 8|\n",
      "+-------+------------------+-----------------+-------------------+--------------------+------------------+\n",
      "\n"
     ]
    }
   ],
   "source": [
    "loans_df.select([\"Cluster_result\",\"Amount\",\"Total_Repayments__c\",\"Payment_Frequency__c\",\"count\"]).describe().show(10)"
   ]
  },
  {
   "cell_type": "code",
   "execution_count": null,
   "id": "5eed5a11-8e0a-44b3-bf4c-ba0c3ccbc428",
   "metadata": {},
   "outputs": [],
   "source": []
  },
  {
   "cell_type": "markdown",
   "id": "4bfaf097-19ab-46bc-8aaf-cc8a2a427600",
   "metadata": {
    "id": "4bfaf097-19ab-46bc-8aaf-cc8a2a427600"
   },
   "source": [
    "* Id: Likely a unique identifier for each data point.\n",
    "* AccountID: Unique identifier for an account (possibly borrower).\n",
    "* Loan-related features: \n",
    "    1. Number_Of_Loans_Granted__c: Number of loans granted to the account.\n",
    "    2. Num_Of_Loans_Paid__c: Number of loans paid by the account.\n",
    "    3. Purpose_of_Loan__c: Category of the loan purpose (e.g., mortgage, education).\n",
    "    4. Total_Repayments__c: Total amount repaid by the account.\n",
    "    5. Amount: Loan amount requested.\n",
    "    6. Term_in_Weeks__c: Loan term in weeks.\n",
    "    7. Payment_Frequency__c: Frequency of loan repayment (e.g., weekly, monthly).\n",
    "* Borrower-related features:\n",
    "    1. StageName: Current stage of the loan application (e.g., application, approved, rejected).    \n",
    "    2. Applicant Age: Age of the loan applicant    \n",
    "    3. summary_income: Summary of applicant's incom    \n",
    "    4. summary_income_cv: Coefficient of variation of applicant's income\n",
    "    5. Location-related features:\n",
    "    6. city: City of the applicant.\n",
    "    7. state: State of the applicant.\n",
    "    8. Country: Country of the applicant\n",
    "* Additional features:\n",
    "    1. userId: Unique identifier for a user Account Id in Numeric).     \n",
    "    2. loanId: Unique identifier for a lo (Id or loanId in Numeric)\n",
    "    3. counFeature related to the Ratings of the Loans.\n",
    "    4. LoanIdFormat: Format of the loan(Created LoanId using Clusters)."
   ]
  },
  {
   "cell_type": "code",
   "execution_count": 5,
   "id": "66fda6a1-a162-4b31-9076-0a3a230f16de",
   "metadata": {
    "colab": {
     "base_uri": "https://localhost:8080/"
    },
    "id": "66fda6a1-a162-4b31-9076-0a3a230f16de",
    "outputId": "be53b169-4850-4a81-af21-8c6bc59651d8"
   },
   "outputs": [
    {
     "name": "stdout",
     "output_type": "stream",
     "text": [
      "+--------------+------+-------------------+--------------------+-----+\n",
      "|Cluster_result|Amount|Total_Repayments__c|Payment_Frequency__c|count|\n",
      "+--------------+------+-------------------+--------------------+-----+\n",
      "|             1|   150|                  6|              Weekly|    1|\n",
      "|             1|   100|                  3|         Fortnightly|    1|\n",
      "|             1|   100|                  6|         Fortnightly|    1|\n",
      "|             1|   100|                  5|         Fortnightly|    1|\n",
      "|             1|   100|                  6|              Weekly|    1|\n",
      "|             1|   100|                  3|         Fortnightly|    1|\n",
      "|             1|   150|                  3|         Fortnightly|    1|\n",
      "|             1|   100|                  6|              Weekly|    1|\n",
      "|             1|   100|                 10|              Weekly|    1|\n",
      "|             1|   100|                 10|              Weekly|    1|\n",
      "+--------------+------+-------------------+--------------------+-----+\n",
      "only showing top 10 rows\n",
      "\n"
     ]
    }
   ],
   "source": [
    "loans_df.select([\"Cluster_result\",\"Amount\",\"Total_Repayments__c\",\"Payment_Frequency__c\",\"count\"]).show(10)"
   ]
  },
  {
   "cell_type": "markdown",
   "id": "b9c00e8d-2a22-467e-a46a-8275b07e8a1d",
   "metadata": {
    "id": "b9c00e8d-2a22-467e-a46a-8275b07e8a1d"
   },
   "source": [
    "### Aggregating the loans per user (getting all loans for each user user)"
   ]
  },
  {
   "cell_type": "code",
   "execution_count": 6,
   "id": "1f3bbcf2-2094-4a5f-a1f9-4cc11caa6ecd",
   "metadata": {
    "id": "1f3bbcf2-2094-4a5f-a1f9-4cc11caa6ecd"
   },
   "outputs": [],
   "source": [
    "user_loans = loans_df.groupby(\"userId\").agg(F.collect_set(\"Cluster_result\").alias(\"loans\"))"
   ]
  },
  {
   "cell_type": "code",
   "execution_count": 7,
   "id": "3c03a160-ff69-437a-b5a7-771d7ded072e",
   "metadata": {
    "id": "3c03a160-ff69-437a-b5a7-771d7ded072e"
   },
   "outputs": [],
   "source": [
    "Actual_loans_taken = user_loans.toPandas().to_dict('records')"
   ]
  },
  {
   "cell_type": "markdown",
   "id": "29df3020-fddb-4fed-8476-d5f5fdc7787e",
   "metadata": {},
   "source": [
    "### EDA - Exploratory Data Analysis "
   ]
  },
  {
   "cell_type": "markdown",
   "id": "c8e16b8f-5128-4cac-9dd5-853ae81884da",
   "metadata": {},
   "source": [
    "<img src=\"https://editor.analyticsvidhya.com/uploads/24537Zoom-EDA.png\" height=500 width=\"500\" />"
   ]
  },
  {
   "cell_type": "code",
   "execution_count": 8,
   "id": "b17fa619-e0b5-459a-aa9b-1b30dfb9b411",
   "metadata": {
    "colab": {
     "base_uri": "https://localhost:8080/"
    },
    "id": "b17fa619-e0b5-459a-aa9b-1b30dfb9b411",
    "outputId": "9d5eec1e-cd5d-4d5d-d014-488ebbf8c76a"
   },
   "outputs": [
    {
     "name": "stdout",
     "output_type": "stream",
     "text": [
      "+-------+------------------+------------------+------------------+-----------------+--------------------------+--------------------+\n",
      "|summary|            userId|    Cluster_result|             count|           Amount|Number_Of_Loans_Granted__c|Num_Of_Loans_Paid__c|\n",
      "+-------+------------------+------------------+------------------+-----------------+--------------------------+--------------------+\n",
      "|  count|            481071|            481071|            481071|           481071|                    481071|              481071|\n",
      "|   mean|24326.531557711856|11.568618769370842|1.6787376499518782|861.5759420127174|        11.976535688079306|  11.937926002606684|\n",
      "| stddev| 15297.49656622274| 8.303280980759853|0.8991013265350597|809.0576736930908|         8.181979971617142|   8.305027934063407|\n",
      "|    min|                 1|                 1|                 0|              100|                         0|                   3|\n",
      "|    max|             59174|                38|                 8|             5000|                        73|                  73|\n",
      "+-------+------------------+------------------+------------------+-----------------+--------------------------+--------------------+\n",
      "\n"
     ]
    }
   ],
   "source": [
    "loans_df.select([\"userId\",\"Cluster_result\",\"count\",\"Amount\",\"Number_Of_Loans_Granted__c\",\"Num_Of_Loans_Paid__c\"]).describe().show()"
   ]
  },
  {
   "cell_type": "markdown",
   "id": "79c26c2f-a109-404a-8bed-23d9f9f2e7aa",
   "metadata": {
    "id": "879b0ed5-5a6a-4f4f-a02a-1ef3be15bd8d"
   },
   "source": [
    "#### Plotting the Frequnecy of Count(Ratings)"
   ]
  },
  {
   "cell_type": "code",
   "execution_count": 9,
   "id": "8e20cc21-d8fc-478f-ae00-442e698e0c7b",
   "metadata": {
    "colab": {
     "base_uri": "https://localhost:8080/",
     "height": 472
    },
    "id": "8e20cc21-d8fc-478f-ae00-442e698e0c7b",
    "outputId": "2b35959a-6515-4167-f6fe-77670bdf5621"
   },
   "outputs": [
    {
     "data": {
      "image/png": "[encoded data removed]",
      "text/plain": [
       "<Figure size 640x480 with 1 Axes>"
      ]
     },
     "metadata": {},
     "output_type": "display_data"
    }
   ],
   "source": [
    "hist_data  = loans_df.toPandas()\n",
    "\n",
    "hist_data['count'].hist()\n",
    "plt.xlabel(\"count\")\n",
    "plt.ylabel(\"Frequency\")\n",
    "plt.title(f\"Histogram of count\")\n",
    "plt.show()"
   ]
  },
  {
   "cell_type": "code",
   "execution_count": 10,
   "id": "c26920fa-9008-4bb7-a49f-696a18c18d75",
   "metadata": {},
   "outputs": [
    {
     "data": {
      "image/png": "[encoded data removed]",
      "text/plain": [
       "<Figure size 640x480 with 1 Axes>"
      ]
     },
     "metadata": {},
     "output_type": "display_data"
    }
   ],
   "source": [
    "hist_data['Amount'].hist(bins=30)\n",
    "plt.xlabel(\"Amount\")\n",
    "plt.ylabel(\"Frequency\")\n",
    "plt.title(f\"Histogram of count\")\n",
    "plt.show()"
   ]
  },
  {
   "cell_type": "markdown",
   "id": "933367fb-a834-46ad-956d-50aa18f5dcac",
   "metadata": {},
   "source": [
    "#### Counting the No. of user & No. of Loans & No. of Explicitely Created Loan Id (Clustered Loan Id's)"
   ]
  },
  {
   "cell_type": "code",
   "execution_count": 11,
   "id": "93606394-8fb4-4d30-8235-c8e1cdb15a13",
   "metadata": {
    "colab": {
     "base_uri": "https://localhost:8080/"
    },
    "id": "93606394-8fb4-4d30-8235-c8e1cdb15a13",
    "outputId": "a22f27c8-e289-4239-c523-26008a1dbcd1"
   },
   "outputs": [
    {
     "name": "stdout",
     "output_type": "stream",
     "text": [
      "Number of unique loanId_format: 38\n",
      "Number of unique Loan Id: 407389\n"
     ]
    }
   ],
   "source": [
    "# Count the number of unique items\n",
    "num_unique_loan_id_format = loans_df.select('Cluster_result').distinct().count()\n",
    "print(f\"Number of unique loanId_format: {num_unique_loan_id_format}\")\n",
    "\n",
    "# Count the number of unique users\n",
    "num_unique_id = loans_df.select('Id').distinct().count()\n",
    "print(f\"Number of unique Loan Id: {num_unique_id}\")"
   ]
  },
  {
   "cell_type": "code",
   "execution_count": 12,
   "id": "aa9f871b-ee01-470a-af88-09d50dc228cb",
   "metadata": {
    "colab": {
     "base_uri": "https://localhost:8080/"
    },
    "id": "aa9f871b-ee01-470a-af88-09d50dc228cb",
    "outputId": "b65a41c3-e5d6-45f7-c51d-197262023df3"
   },
   "outputs": [
    {
     "name": "stdout",
     "output_type": "stream",
     "text": [
      "Number of unique users: 59158\n"
     ]
    }
   ],
   "source": [
    "# Count the number of unique items\n",
    "tmp = loans_df.select('userId').distinct().count()\n",
    "print(f\"Number of unique users: {tmp}\")"
   ]
  },
  {
   "cell_type": "markdown",
   "id": "d8329935-38de-4370-bb9e-3d3f584b7331",
   "metadata": {},
   "source": [
    "#### Values of count(Rating) Column."
   ]
  },
  {
   "cell_type": "code",
   "execution_count": 13,
   "id": "41d386c0-47de-457f-a0f1-4efb4f9ff850",
   "metadata": {
    "colab": {
     "base_uri": "https://localhost:8080/"
    },
    "id": "41d386c0-47de-457f-a0f1-4efb4f9ff850",
    "outputId": "d7e9b873-14c7-44f8-f496-d6fc7871cc10"
   },
   "outputs": [
    {
     "name": "stdout",
     "output_type": "stream",
     "text": [
      "Distinct values of count:\n",
      "+-----+\n",
      "|count|\n",
      "+-----+\n",
      "|    0|\n",
      "|    1|\n",
      "|    2|\n",
      "|    3|\n",
      "|    4|\n",
      "|    5|\n",
      "|    6|\n",
      "|    7|\n",
      "|    8|\n",
      "+-----+\n",
      "\n"
     ]
    }
   ],
   "source": [
    "print('Distinct values of count:')\n",
    "loans_df.select('count').distinct().orderBy(\"count\").show()"
   ]
  },
  {
   "cell_type": "markdown",
   "id": "6ea6197c-53b9-4c06-a20d-1e1f2233d371",
   "metadata": {
    "id": "6ea6197c-53b9-4c06-a20d-1e1f2233d371"
   },
   "source": [
    "### Converting the dataset into train validation split."
   ]
  },
  {
   "cell_type": "code",
   "execution_count": 14,
   "id": "25b7a938-17f5-460f-a3bf-78ebd6628477",
   "metadata": {
    "colab": {
     "base_uri": "https://localhost:8080/"
    },
    "id": "25b7a938-17f5-460f-a3bf-78ebd6628477",
    "outputId": "ca050fbb-ec36-449a-a158-bd295d61f4c7"
   },
   "outputs": [
    {
     "name": "stdout",
     "output_type": "stream",
     "text": [
      "+--------------+-----+------+\n",
      "|Cluster_result|count|Amount|\n",
      "+--------------+-----+------+\n",
      "|             1|    1|   150|\n",
      "|             1|    1|   100|\n",
      "|             1|    1|   100|\n",
      "|             1|    1|   100|\n",
      "|             1|    1|   100|\n",
      "|             1|    1|   100|\n",
      "|             1|    1|   150|\n",
      "|             1|    1|   100|\n",
      "|             1|    1|   100|\n",
      "|             1|    1|   100|\n",
      "+--------------+-----+------+\n",
      "only showing top 10 rows\n",
      "\n"
     ]
    }
   ],
   "source": [
    "# we have to use 3 columns or features to put into the ALs Model.\n",
    "loans_df.select([\"Cluster_result\",\"count\",\"Amount\"]).show(10)"
   ]
  },
  {
   "cell_type": "code",
   "execution_count": 15,
   "id": "471dc8a3-2474-41c2-a4c2-d3f09756df0d",
   "metadata": {
    "colab": {
     "base_uri": "https://localhost:8080/"
    },
    "id": "471dc8a3-2474-41c2-a4c2-d3f09756df0d",
    "outputId": "52665e11-2fa3-44d2-a6ec-2ca780e2ed12"
   },
   "outputs": [
    {
     "data": {
      "text/plain": [
       "DataFrame[Id: string, AccountID: string, Number_Of_Loans_Granted__c: int, Num_Of_Loans_Paid__c: int, Purpose_of_Loan__c: string, Total_Repayments__c: int, Amount: int, Term_in_Weeks__c: double, Payment_Frequency__c: string, StageName: string, Applicant Age: int, summary_income: double, summary_income_cv: double, city: string, state: string, Country: string, userId: int, loanId: int, count: int, Cluster_result: int]"
      ]
     },
     "execution_count": 15,
     "metadata": {},
     "output_type": "execute_result"
    }
   ],
   "source": [
    "train, validation = loans_df.randomSplit([0.8, 0.2])\n",
    "train.cache()\n",
    "validation.cache()"
   ]
  },
  {
   "cell_type": "code",
   "execution_count": 16,
   "id": "b2ad213d-bf88-4d40-b43e-609a301116fe",
   "metadata": {
    "colab": {
     "base_uri": "https://localhost:8080/"
    },
    "id": "b2ad213d-bf88-4d40-b43e-609a301116fe",
    "outputId": "6f47e580-7040-4096-a3cd-b17a451c7b0d"
   },
   "outputs": [
    {
     "name": "stdout",
     "output_type": "stream",
     "text": [
      "+------+------+--------------+-----+------+-------------------+\n",
      "|userId|loanId|Cluster_result|count|Amount|Total_Repayments__c|\n",
      "+------+------+--------------+-----+------+-------------------+\n",
      "| 24365|     2|             3|    3|   250|                  4|\n",
      "| 24423|    61|             2|    1|   200|                  2|\n",
      "|   171|    63|             5|    2|   350|                  3|\n",
      "|   181|    81|             2|    3|   200|                  5|\n",
      "|     5|   110|             3|    2|   250|                  5|\n",
      "| 23566|   125|             3|    1|   250|                 10|\n",
      "|    21|   153|             5|    2|   350|                  4|\n",
      "|    25|   160|             4|    1|   300|                  4|\n",
      "|    27|   164|             5|    1|   350|                  4|\n",
      "| 24541|   179|             4|    2|   300|                  2|\n",
      "|    34|   186|             3|    4|   250|                  2|\n",
      "| 23640|   189|             2|    1|   200|                  5|\n",
      "| 25421|   193|             2|    3|   200|                  5|\n",
      "| 25300|   194|             2|    2|   200|                 10|\n",
      "| 24391|   201|             2|    1|   200|                  4|\n",
      "| 23763|   208|             4|    2|   300|                 10|\n",
      "| 24733|   210|             4|    4|   300|                  2|\n",
      "|    59|   211|             2|    1|   200|                  1|\n",
      "| 23737|   227|             4|    2|   300|                  3|\n",
      "|    88|   250|             3|    3|   250|                  2|\n",
      "+------+------+--------------+-----+------+-------------------+\n",
      "only showing top 20 rows\n",
      "\n"
     ]
    }
   ],
   "source": [
    "validation.select([\"userId\",\"loanId\",\"Cluster_result\",\"count\",\"Amount\",\"Total_Repayments__c\"]).show()"
   ]
  },
  {
   "cell_type": "code",
   "execution_count": 17,
   "id": "b4ec2ccf-e2df-4169-82d1-84b24e8cdf75",
   "metadata": {
    "colab": {
     "base_uri": "https://localhost:8080/"
    },
    "id": "b4ec2ccf-e2df-4169-82d1-84b24e8cdf75",
    "outputId": "f19eaff2-a5e0-49f3-f62e-b001cff34f4f"
   },
   "outputs": [
    {
     "name": "stdout",
     "output_type": "stream",
     "text": [
      "root\n",
      " |-- Id: string (nullable = true)\n",
      " |-- AccountID: string (nullable = true)\n",
      " |-- Number_Of_Loans_Granted__c: integer (nullable = true)\n",
      " |-- Num_Of_Loans_Paid__c: integer (nullable = true)\n",
      " |-- Purpose_of_Loan__c: string (nullable = true)\n",
      " |-- Total_Repayments__c: integer (nullable = true)\n",
      " |-- Amount: integer (nullable = true)\n",
      " |-- Term_in_Weeks__c: double (nullable = true)\n",
      " |-- Payment_Frequency__c: string (nullable = true)\n",
      " |-- StageName: string (nullable = true)\n",
      " |-- Applicant Age: integer (nullable = true)\n",
      " |-- summary_income: double (nullable = true)\n",
      " |-- summary_income_cv: double (nullable = true)\n",
      " |-- city: string (nullable = true)\n",
      " |-- state: string (nullable = true)\n",
      " |-- Country: string (nullable = true)\n",
      " |-- userId: integer (nullable = true)\n",
      " |-- loanId: integer (nullable = true)\n",
      " |-- count: integer (nullable = true)\n",
      " |-- Cluster_result: integer (nullable = true)\n",
      "\n"
     ]
    }
   ],
   "source": [
    "loans_df.printSchema()"
   ]
  },
  {
   "cell_type": "code",
   "execution_count": 18,
   "id": "d5b8e385-ea9a-408f-b8fd-25e7160b8bf6",
   "metadata": {
    "id": "e2226eb6-5980-4249-bd83-5f3b6862faf1"
   },
   "outputs": [],
   "source": [
    "def train_ALS(train_data, validation_data, num_iters, reg_param, ranks):\n",
    "    \"\"\"\n",
    "    Grid Search Function to select the best model based on RMSE of hold-out data\n",
    "    \"\"\"\n",
    "    # initial\n",
    "    min_error = float('inf')\n",
    "    best_rank = -1\n",
    "    best_regularization = 0\n",
    "    best_model = None\n",
    "    for rank in ranks:\n",
    "        for reg in reg_param:\n",
    "            # Train the model using the training data\n",
    "            als_model = ALS(maxIter=num_iters,regParam=reg, rank=rank,\n",
    "                                        userCol='userId', itemCol='Cluster_result', ratingCol='count', seed=99,\n",
    "                           coldStartStrategy=\"drop\",nonnegative=True)\n",
    "            model = als_model.fit(train_data)\n",
    "\n",
    "            # Generate predictions on the test data\n",
    "            predictions = model.transform(validation_data)\n",
    "            predictions = predictions.withColumn(\"prediction\", expr(\"CASE WHEN prediction < 0 THEN 0 WHEN prediction > 9 THEN 9 ELSE prediction END\"))\n",
    "\n",
    "            evaluator = RegressionEvaluator(metricName='rmse', labelCol='count', predictionCol='prediction')\n",
    "            error = evaluator.evaluate(predictions)\n",
    "\n",
    "            print('{} latent factors and regularization = {}: validation RMSE is {}'.format(rank, reg, error))\n",
    "            if error < min_error:\n",
    "                min_error = error\n",
    "                best_rank = rank\n",
    "                best_regularization = reg\n",
    "                best_model = model\n",
    "    print('\\nThe best model has {} latent factors and regularization = {}'.format(best_rank, best_regularization))\n",
    "    return best_model"
   ]
  },
  {
   "cell_type": "code",
   "execution_count": 19,
   "id": "dee88c45-50a4-4ad2-afd4-656ea78ff9c1",
   "metadata": {
    "colab": {
     "base_uri": "https://localhost:8080/"
    },
    "id": "fb8832fe-fe68-4372-9d4d-294633e187b0",
    "outputId": "3e5ff3d7-03e0-47ff-e991-54d111806a49"
   },
   "outputs": [
    {
     "name": "stdout",
     "output_type": "stream",
     "text": [
      "8 latent factors and regularization = 0.001: validation RMSE is 0.027291810100999098\n",
      "8 latent factors and regularization = 0.01: validation RMSE is 0.06829386905299778\n",
      "8 latent factors and regularization = 0.05: validation RMSE is 0.0902678242570907\n",
      "8 latent factors and regularization = 0.1: validation RMSE is 0.11052060736249794\n",
      "8 latent factors and regularization = 0.2: validation RMSE is 0.2004820884010486\n",
      "10 latent factors and regularization = 0.001: validation RMSE is 0.05003836269635477\n",
      "10 latent factors and regularization = 0.01: validation RMSE is 0.06451790281904692\n",
      "10 latent factors and regularization = 0.05: validation RMSE is 0.07809885908882634\n",
      "10 latent factors and regularization = 0.1: validation RMSE is 0.10094090525227799\n",
      "10 latent factors and regularization = 0.2: validation RMSE is 0.19997559922912145\n",
      "20 latent factors and regularization = 0.001: validation RMSE is 0.13273193256128804\n",
      "20 latent factors and regularization = 0.01: validation RMSE is 0.045216700966731346\n",
      "20 latent factors and regularization = 0.05: validation RMSE is 0.08469331016724022\n",
      "20 latent factors and regularization = 0.1: validation RMSE is 0.10492670787826915\n",
      "20 latent factors and regularization = 0.2: validation RMSE is 0.20016808129239816\n",
      "40 latent factors and regularization = 0.001: validation RMSE is 0.17372455395414318\n",
      "40 latent factors and regularization = 0.01: validation RMSE is 0.04060772473812342\n",
      "40 latent factors and regularization = 0.05: validation RMSE is 0.0892908077243261\n",
      "40 latent factors and regularization = 0.1: validation RMSE is 0.11331007922967533\n",
      "40 latent factors and regularization = 0.2: validation RMSE is 0.20063544329951358\n",
      "60 latent factors and regularization = 0.001: validation RMSE is 0.21026430024923126\n",
      "60 latent factors and regularization = 0.01: validation RMSE is 0.03290013995291208\n",
      "60 latent factors and regularization = 0.05: validation RMSE is 0.08911091338571264\n",
      "60 latent factors and regularization = 0.1: validation RMSE is 0.11107987235061295\n",
      "60 latent factors and regularization = 0.2: validation RMSE is 0.20032462813690788\n",
      "\n",
      "The best model has 8 latent factors and regularization = 0.001\n",
      "Total Runtime: 312.18 seconds\n"
     ]
    }
   ],
   "source": [
    "# hyper-param config\n",
    "num_iterations = 10\n",
    "ranks = [8, 10, 20, 40, 60]\n",
    "reg_params = [0.001, 0.01, 0.05, 0.1, 0.2]\n",
    "\n",
    "# grid search and select best model\n",
    "start_time = time.time()\n",
    "final_model = train_ALS(train, validation, num_iterations, reg_params, ranks)\n",
    "\n",
    "print ('Total Runtime: {:.2f} seconds'.format(time.time() - start_time))"
   ]
  },
  {
   "cell_type": "raw",
   "id": "3fecf41b-aafd-4e74-a2d5-7ef82cba8cc2",
   "metadata": {
    "id": "c7cf3c57-11f2-46bd-b434-1cebf52a0c13"
   },
   "source": [
    "#OLD :  40 latent factors and regularization = 0.001\n",
    "#NEW: The best model has 8 latent factors and regularization = 0.001\n",
    "03 feb : The best model has 10 latent factors and regularization = 0.001\n",
    "08 feb : The best model has 20 latent factors and regularization = 0.01\n",
    "11 feb : The best model has 20 latent factors and regularization = 0.01\n",
    "12 feb : The best model has 60 latent factors and regularization = 0.01 : validation RMSE is 0.03137979806564294\n",
    "\n",
    "\n",
    "In general, a lower RMSE value indicates better model performance, as it signifies that the model's predictions are closer to the observed values. However, there is no fixed threshold for what constitutes a \"good\" or \"ideal\" RMSE value, as it depends on factors such as the nature of the data, the complexity of the problem, and the specific requirements of the application."
   ]
  },
  {
   "cell_type": "code",
   "execution_count": null,
   "id": "c2b528f0-eec2-4227-9d7c-701fd06f07f8",
   "metadata": {},
   "outputs": [],
   "source": []
  },
  {
   "cell_type": "raw",
   "id": "ff089015-f438-4f06-a2cd-34fbad8ebdad",
   "metadata": {
    "scrolled": true
   },
   "source": [
    "final_model.save(\"Recommendation_ALS_Model_OWN_LOAN_CLUSTER_STRATEGY\")"
   ]
  },
  {
   "cell_type": "markdown",
   "id": "bc2b0ef2-8126-4a7e-b2c9-49851bf63c18",
   "metadata": {
    "id": "bc2b0ef2-8126-4a7e-b2c9-49851bf63c18"
   },
   "source": [
    "## Predicting the results from validation data"
   ]
  },
  {
   "cell_type": "code",
   "execution_count": 20,
   "id": "57ba7905-f3e0-4a23-8b3d-0c41ffa5d0ca",
   "metadata": {
    "id": "57ba7905-f3e0-4a23-8b3d-0c41ffa5d0ca"
   },
   "outputs": [],
   "source": [
    "predictions = final_model.transform(validation)\n",
    "# predictions = predictions.withColumn(\"prediction\", expr(\"CASE WHEN prediction < 0 THEN 0 WHEN prediction > 9 THEN 9 ELSE prediction END\"))"
   ]
  },
  {
   "cell_type": "code",
   "execution_count": 21,
   "id": "6cd93785-db30-4571-b897-8ccf3d28e6fa",
   "metadata": {
    "colab": {
     "base_uri": "https://localhost:8080/"
    },
    "id": "6cd93785-db30-4571-b897-8ccf3d28e6fa",
    "outputId": "96d1432d-747d-42dd-9a7f-928f2ac2b98e"
   },
   "outputs": [
    {
     "name": "stdout",
     "output_type": "stream",
     "text": [
      "+------+------+-----+--------------+----------+\n",
      "|userId|loanId|count|Cluster_result|prediction|\n",
      "+------+------+-----+--------------+----------+\n",
      "|    10|106872|    4|             5| 3.9454827|\n",
      "|    10| 12340|    4|             6| 3.9418194|\n",
      "|    10| 17247|    4|             6| 3.9418194|\n",
      "|    10| 53184|    4|             8| 3.9318826|\n",
      "|    10| 81289|    4|             8| 3.9318826|\n",
      "+------+------+-----+--------------+----------+\n",
      "\n"
     ]
    }
   ],
   "source": [
    "predictions.filter(predictions.userId == 10).select(\"userId\", \"loanId\", \"count\", \"Cluster_result\", \"prediction\").show(20)"
   ]
  },
  {
   "cell_type": "markdown",
   "id": "ec61d4fc-bf4d-4d22-a160-2df1e5e19246",
   "metadata": {
    "id": "ec61d4fc-bf4d-4d22-a160-2df1e5e19246"
   },
   "source": [
    "## Error Evaluation with RMSE"
   ]
  },
  {
   "cell_type": "markdown",
   "id": "e2d55e52-4dec-48df-8df2-88866b499378",
   "metadata": {
    "id": "e2d55e52-4dec-48df-8df2-88866b499378"
   },
   "source": [
    "<img src=\"https://docs.oracle.com/en/cloud/saas/planning-budgeting-cloud/pfusu/img/insights_rmse_formula.jpg\" height=\"300\" width=\"300\" />"
   ]
  },
  {
   "cell_type": "code",
   "execution_count": 22,
   "id": "5e28740c-bd7f-4213-986a-04b0b8453f48",
   "metadata": {
    "colab": {
     "base_uri": "https://localhost:8080/"
    },
    "id": "5e28740c-bd7f-4213-986a-04b0b8453f48",
    "outputId": "919fe55b-832c-41b1-b13e-c65d2061fa3b"
   },
   "outputs": [
    {
     "name": "stdout",
     "output_type": "stream",
     "text": [
      "Root Mean Squared Error (RMSE) = 0.027291810100999098\n"
     ]
    }
   ],
   "source": [
    "# Evaluate the model using Root Mean Squared Error (RMSE)\n",
    "evaluator = RegressionEvaluator(metricName=\"rmse\", labelCol=\"count\", predictionCol=\"prediction\")\n",
    "rmse = evaluator.evaluate(predictions)\n",
    "print(\"Root Mean Squared Error (RMSE) = \" + str(rmse))"
   ]
  },
  {
   "cell_type": "markdown",
   "id": "c8069530-1743-4e8b-81de-d8726a15a25e",
   "metadata": {
    "id": "c8069530-1743-4e8b-81de-d8726a15a25e"
   },
   "source": [
    "## Recommendation of N users"
   ]
  },
  {
   "cell_type": "code",
   "execution_count": 23,
   "id": "5fbbfcf7-90ab-4c5e-a5e4-d781f369fb39",
   "metadata": {
    "id": "5fbbfcf7-90ab-4c5e-a5e4-d781f369fb39"
   },
   "outputs": [],
   "source": [
    "userRecommends = final_model.recommendForAllUsers(5)\n",
    "loanRecommends = final_model.recommendForAllItems(5)"
   ]
  },
  {
   "cell_type": "code",
   "execution_count": 24,
   "id": "ba1eaaf8-ecef-43e9-9070-e70c3c6d8315",
   "metadata": {
    "colab": {
     "base_uri": "https://localhost:8080/"
    },
    "id": "ba1eaaf8-ecef-43e9-9070-e70c3c6d8315",
    "outputId": "a0e7e3d1-e16a-4114-bc65-15e9715c18a7"
   },
   "outputs": [
    {
     "name": "stdout",
     "output_type": "stream",
     "text": [
      "root\n",
      " |-- userId: integer (nullable = false)\n",
      " |-- recommendations: array (nullable = true)\n",
      " |    |-- element: struct (containsNull = true)\n",
      " |    |    |-- Cluster_result: integer (nullable = true)\n",
      " |    |    |-- rating: float (nullable = true)\n",
      "\n"
     ]
    }
   ],
   "source": [
    "userRecommends.printSchema()"
   ]
  },
  {
   "cell_type": "code",
   "execution_count": 25,
   "id": "e1d49ac8-fae2-43c6-97dd-016464edf5ea",
   "metadata": {
    "colab": {
     "base_uri": "https://localhost:8080/"
    },
    "id": "e1d49ac8-fae2-43c6-97dd-016464edf5ea",
    "outputId": "05f7e327-fc70-4e45-f9f3-2b3bcd5401e3"
   },
   "outputs": [
    {
     "name": "stdout",
     "output_type": "stream",
     "text": [
      "root\n",
      " |-- Id: string (nullable = true)\n",
      " |-- AccountID: string (nullable = true)\n",
      " |-- Number_Of_Loans_Granted__c: integer (nullable = true)\n",
      " |-- Num_Of_Loans_Paid__c: integer (nullable = true)\n",
      " |-- Purpose_of_Loan__c: string (nullable = true)\n",
      " |-- Total_Repayments__c: integer (nullable = true)\n",
      " |-- Amount: integer (nullable = true)\n",
      " |-- Term_in_Weeks__c: double (nullable = true)\n",
      " |-- Payment_Frequency__c: string (nullable = true)\n",
      " |-- StageName: string (nullable = true)\n",
      " |-- Applicant Age: integer (nullable = true)\n",
      " |-- summary_income: double (nullable = true)\n",
      " |-- summary_income_cv: double (nullable = true)\n",
      " |-- city: string (nullable = true)\n",
      " |-- state: string (nullable = true)\n",
      " |-- Country: string (nullable = true)\n",
      " |-- userId: integer (nullable = true)\n",
      " |-- loanId: integer (nullable = true)\n",
      " |-- count: integer (nullable = true)\n",
      " |-- Cluster_result: integer (nullable = true)\n",
      "\n"
     ]
    }
   ],
   "source": [
    "validation.printSchema()"
   ]
  },
  {
   "cell_type": "code",
   "execution_count": 26,
   "id": "8a0d5b92-658f-4367-b041-5ce8cf534b7a",
   "metadata": {},
   "outputs": [
    {
     "data": {
      "text/plain": [
       "95763"
      ]
     },
     "execution_count": 26,
     "metadata": {},
     "output_type": "execute_result"
    }
   ],
   "source": [
    "validation.count()"
   ]
  },
  {
   "cell_type": "markdown",
   "id": "b0c44455-54f9-4bc2-834e-6a6a123cba2e",
   "metadata": {
    "id": "b0c44455-54f9-4bc2-834e-6a6a123cba2e"
   },
   "source": [
    "## ALS Model Evaluation"
   ]
  },
  {
   "cell_type": "code",
   "execution_count": 27,
   "id": "7fd677b6-2055-4995-bd1d-7367cbc3d903",
   "metadata": {
    "id": "7fd677b6-2055-4995-bd1d-7367cbc3d903"
   },
   "outputs": [],
   "source": [
    "# Assuming you have a DataFrame 'validation_data' containing the ground truth interactions\n",
    "# and a DataFrame 'recommendations' containing the top-N recommendations generated by the ALS model\n",
    "\n",
    "# Join recommendations with ground truth data to identify true positives\n",
    "true_positives = predictions.join(validation, ['userId', 'Cluster_result'], 'inner')"
   ]
  },
  {
   "cell_type": "code",
   "execution_count": 28,
   "id": "33526f67-bf22-491e-9aec-b02d8ae9eb9f",
   "metadata": {
    "id": "33526f67-bf22-491e-9aec-b02d8ae9eb9f"
   },
   "outputs": [],
   "source": [
    "# Calculate the number of true positives per user\n",
    "tp_per_user = true_positives.groupBy('userId').agg(expr('count(Cluster_result) as true_positives'))"
   ]
  },
  {
   "cell_type": "code",
   "execution_count": 29,
   "id": "1312c8e0-c174-4d01-b079-c48d12cbd582",
   "metadata": {
    "id": "1312c8e0-c174-4d01-b079-c48d12cbd582"
   },
   "outputs": [],
   "source": [
    " # Calculate the total number of relevant items per user in the ground truth data\n",
    "relevant_per_user = validation.groupBy('userId').agg(expr('count(Cluster_result) as relevant'))"
   ]
  },
  {
   "cell_type": "code",
   "execution_count": 30,
   "id": "331e28a0-b31f-4ca7-b426-6aaa869ca599",
   "metadata": {
    "id": "331e28a0-b31f-4ca7-b426-6aaa869ca599"
   },
   "outputs": [],
   "source": [
    "# Calculate Precision per user\n",
    "precision_per_user = tp_per_user.join(relevant_per_user, 'userId', 'inner') \\\n",
    "    .selectExpr('userId', 'true_positives / relevant as precision')"
   ]
  },
  {
   "cell_type": "code",
   "execution_count": 31,
   "id": "6a7d7e11-6e29-41a3-84b7-20b42d84e5da",
   "metadata": {
    "id": "6a7d7e11-6e29-41a3-84b7-20b42d84e5da"
   },
   "outputs": [],
   "source": [
    "# Calculate Recall per user\n",
    "recall_per_user = tp_per_user.join(relevant_per_user, 'userId', 'inner') \\\n",
    "    .selectExpr('userId', 'true_positives / relevant as recall')"
   ]
  },
  {
   "cell_type": "code",
   "execution_count": 32,
   "id": "4fa119c7-560c-4eea-83ca-246357a53682",
   "metadata": {
    "id": "4fa119c7-560c-4eea-83ca-246357a53682"
   },
   "outputs": [],
   "source": [
    "# Calculate F1-score per user\n",
    "f1_score_per_user = precision_per_user.join(recall_per_user, 'userId', 'inner') \\\n",
    "    .selectExpr('userId', '(2 * precision * recall) / (precision + recall) as f1_score')"
   ]
  },
  {
   "cell_type": "code",
   "execution_count": 33,
   "id": "a855a9fa-c9d4-4866-be4b-bbcbb1846b33",
   "metadata": {
    "id": "a855a9fa-c9d4-4866-be4b-bbcbb1846b33"
   },
   "outputs": [],
   "source": [
    "# Calculate overall Precision, Recall, and F1-score\n",
    "overall_precision = precision_per_user.agg({'precision': 'avg'}).collect()[0][0]\n",
    "overall_recall = recall_per_user.agg({'recall': 'avg'}).collect()[0][0]\n",
    "overall_f1_score = f1_score_per_user.agg({'f1_score': 'avg'}).collect()[0][0]\n"
   ]
  },
  {
   "cell_type": "code",
   "execution_count": 34,
   "id": "837dfdff-a6fa-4a8f-961c-c7eb98d16cb7",
   "metadata": {
    "colab": {
     "base_uri": "https://localhost:8080/"
    },
    "id": "837dfdff-a6fa-4a8f-961c-c7eb98d16cb7",
    "outputId": "d34ff23a-9a29-4d1b-e641-e38f8a299fbe"
   },
   "outputs": [
    {
     "name": "stdout",
     "output_type": "stream",
     "text": [
      "Overall Precision: 1.2830755096902888\n",
      "Overall Recall: 1.2830755096902888\n",
      "Overall F1-score: 1.2830755096902802\n"
     ]
    }
   ],
   "source": [
    "\n",
    "# Print the results\n",
    "print(\"Overall Precision:\", overall_precision)\n",
    "print(\"Overall Recall:\", overall_recall)\n",
    "print(\"Overall F1-score:\", overall_f1_score)\n"
   ]
  },
  {
   "cell_type": "code",
   "execution_count": 35,
   "id": "853c846f-1b77-4f36-b7ee-7f5ca2fb0bd6",
   "metadata": {
    "id": "853c846f-1b77-4f36-b7ee-7f5ca2fb0bd6"
   },
   "outputs": [],
   "source": [
    "evaluator = RegressionEvaluator(metricName=\"mae\", labelCol=\"count\", predictionCol=\"prediction\")\n",
    "mae = evaluator.evaluate(predictions)"
   ]
  },
  {
   "cell_type": "code",
   "execution_count": 36,
   "id": "a9f7a090-1055-4557-acc3-c688485fa86a",
   "metadata": {},
   "outputs": [
    {
     "data": {
      "text/plain": [
       "('The Mean Absolute Error is :', 0.021920923672114175)"
      ]
     },
     "execution_count": 36,
     "metadata": {},
     "output_type": "execute_result"
    }
   ],
   "source": [
    "\"The Mean Absolute Error is :\",mae"
   ]
  },
  {
   "cell_type": "markdown",
   "id": "2e334b00-3dd4-4be8-8d57-180e6e60af92",
   "metadata": {
    "id": "2e334b00-3dd4-4be8-8d57-180e6e60af92"
   },
   "source": [
    "## User Factors and Item Factors to calculate the cosine Similarity"
   ]
  },
  {
   "cell_type": "code",
   "execution_count": 37,
   "id": "d38ab8b5-cb23-4a04-93f2-741727bd1303",
   "metadata": {
    "id": "d38ab8b5-cb23-4a04-93f2-741727bd1303"
   },
   "outputs": [],
   "source": [
    "userFactors = final_model.userFactors\n",
    "itemFactors = final_model.itemFactors"
   ]
  },
  {
   "cell_type": "code",
   "execution_count": 38,
   "id": "56ef610b-520c-48f1-8aa6-46fe79a300b9",
   "metadata": {},
   "outputs": [
    {
     "name": "stdout",
     "output_type": "stream",
     "text": [
      "58809\n",
      "root\n",
      " |-- id: integer (nullable = false)\n",
      " |-- features: array (nullable = true)\n",
      " |    |-- element: float (containsNull = false)\n",
      "\n",
      "Priting the Schema of userFactors None\n"
     ]
    }
   ],
   "source": [
    "print(userFactors.count())\n",
    "print(\"Priting the Schema of userFactors\",userFactors.printSchema())"
   ]
  },
  {
   "cell_type": "code",
   "execution_count": 93,
   "id": "3c7bec83-1afa-4c12-ab98-55c2bacb73ca",
   "metadata": {},
   "outputs": [
    {
     "data": {
      "text/plain": [
       "[Row(id=43, features=[0.7725750803947449, 0.9910363554954529, 0.18550951778888702, 1.2600431442260742, 0.22888483107089996, 2.6211564540863037, 1.542779564857483, 0.33505648374557495])]"
      ]
     },
     "execution_count": 93,
     "metadata": {},
     "output_type": "execute_result"
    }
   ],
   "source": [
    "\n",
    "userFactors.filter(userFactors.id == 43 ).collect()"
   ]
  },
  {
   "cell_type": "code",
   "execution_count": null,
   "id": "589e5f60-906f-476d-a4a6-da5bf2ea5cde",
   "metadata": {},
   "outputs": [],
   "source": []
  },
  {
   "cell_type": "code",
   "execution_count": 58,
   "id": "fbfd4eed-d924-4ce1-90da-60a592c7d522",
   "metadata": {},
   "outputs": [
    {
     "name": "stdout",
     "output_type": "stream",
     "text": [
      "+---+-----------------------------------------------------------------------------------------------------+\n",
      "|id |features                                                                                             |\n",
      "+---+-----------------------------------------------------------------------------------------------------+\n",
      "|10 |[0.060640376, 0.07379613, 0.01645249, 0.09126509, 0.0014382865, 0.21174338, 0.12290682, 0.02415844]  |\n",
      "|20 |[0.06366401, 0.071771264, 0.016012935, 0.09130068, 0.010460623, 0.21190561, 0.12123302, 0.02319845]  |\n",
      "|30 |[0.05712997, 0.07172645, 0.01472184, 0.09875775, 0.020301528, 0.20809855, 0.12107107, 0.026115062]   |\n",
      "|1  |[0.07624056, 0.059839588, 0.54002213, 0.12337257, 0.033788886, 0.19642247, 0.108981125, 0.0]         |\n",
      "|11 |[0.067305624, 0.07565757, 0.015690058, 0.08738142, 0.0030882107, 0.21201986, 0.1217782, 0.02304225]  |\n",
      "|21 |[0.062449407, 0.07190183, 0.016465226, 0.093305565, 0.010106376, 0.21113224, 0.12083635, 0.02470574] |\n",
      "|31 |[0.29899782, 0.06675568, 0.04231286, 0.07079863, 0.44647568, 0.076111026, 0.09204852, 0.02119914]    |\n",
      "|2  |[0.044076543, 0.08015994, 0.02092181, 0.08146905, 0.0, 0.2196234, 0.123265885, 0.01955825]           |\n",
      "|12 |[0.06070448, 0.072902754, 0.017135397, 0.09237449, 0.0022024363, 0.21121502, 0.12276879, 0.025139293]|\n",
      "|22 |[0.062158864, 0.07045302, 0.014887612, 0.09352089, 0.015599927, 0.21006209, 0.1222881, 0.026007868]  |\n",
      "+---+-----------------------------------------------------------------------------------------------------+\n",
      "only showing top 10 rows\n",
      "\n"
     ]
    }
   ],
   "source": [
    "itemFactors.select(\"id\",\"features\").show(10,truncate=False)"
   ]
  },
  {
   "cell_type": "code",
   "execution_count": null,
   "id": "9ceace9b-fff7-4555-9854-adbe1c00cf17",
   "metadata": {},
   "outputs": [],
   "source": []
  },
  {
   "cell_type": "markdown",
   "id": "1589f64a-0d7d-4508-8dbe-37ff54ca0458",
   "metadata": {
    "id": "1589f64a-0d7d-4508-8dbe-37ff54ca0458"
   },
   "source": [
    "## Calculate cosine similarity:"
   ]
  },
  {
   "cell_type": "markdown",
   "id": "aaa1fcf4-f406-442a-9be1-4f6860bcdb83",
   "metadata": {
    "id": "aaa1fcf4-f406-442a-9be1-4f6860bcdb83"
   },
   "source": [
    "<img src=\"https://datascience103579984.files.wordpress.com/2020/01/13-12.png\" height=\"600\" width=\"600\" />"
   ]
  },
  {
   "cell_type": "code",
   "execution_count": 59,
   "id": "76bee01e-c55e-4472-9e0e-d5bf2b0c8157",
   "metadata": {
    "id": "76bee01e-c55e-4472-9e0e-d5bf2b0c8157"
   },
   "outputs": [],
   "source": [
    "def cosine_similarity(u1, u2):\n",
    "    \"\"\"Calculates cosine similarity between two user factors.\"\"\"\n",
    "    # Convert lists to DenseVectors before performing operations\n",
    "    u1_vector = Vectors.dense(u1)\n",
    "    u2_vector = Vectors.dense(u2)\n",
    "    return u1_vector.dot(u2_vector) / (u1_vector.norm(p=2) * u2_vector.norm(p=2))"
   ]
  },
  {
   "cell_type": "markdown",
   "id": "4e57c89c-33b0-4005-94cb-c8e7bc86fc1f",
   "metadata": {
    "id": "4e57c89c-33b0-4005-94cb-c8e7bc86fc1f"
   },
   "source": [
    "### user-User Cosine Similarity code"
   ]
  },
  {
   "cell_type": "code",
   "execution_count": 60,
   "id": "e5da4c16-8350-4580-a7cf-b872356d231c",
   "metadata": {
    "colab": {
     "base_uri": "https://localhost:8080/"
    },
    "id": "e5da4c16-8350-4580-a7cf-b872356d231c",
    "outputId": "939a0bc6-074c-4c33-fc7d-bc032f85579f"
   },
   "outputs": [
    {
     "name": "stdout",
     "output_type": "stream",
     "text": [
      "Cosine similarity between users 10 and 20: 0.9990678087622747\n"
     ]
    }
   ],
   "source": [
    "# Example usage\n",
    "user1_id = 10\n",
    "user2_id = 20\n",
    "user1_factors = userFactors.filter(userFactors.id == user1_id ).collect()[0][1]\n",
    "user2_factors = userFactors.filter(userFactors.id == user2_id ).collect()[0][1]\n",
    "# user1_factors = userFactors.to_dense().rdd.filter(lambda x: x[0] == user1_id).collect()[0][1]\n",
    "# user2_factors = userFactors.to_dense().rdd.filter(lambda x: x[0] == user2_id).collect()[0][1]\n",
    "similarity = cosine_similarity(user1_factors, user2_factors)\n",
    "print(f\"Cosine similarity between users {user1_id} and {user2_id}: {similarity}\")\n"
   ]
  },
  {
   "cell_type": "markdown",
   "id": "37946b00-6e3f-498c-91ba-d722b5785b9c",
   "metadata": {
    "id": "37946b00-6e3f-498c-91ba-d722b5785b9c"
   },
   "source": [
    "### User-Item Cosine Similarity code"
   ]
  },
  {
   "cell_type": "code",
   "execution_count": 61,
   "id": "c8f1a8db-172b-4122-9030-9e5c40162fc6",
   "metadata": {
    "colab": {
     "base_uri": "https://localhost:8080/"
    },
    "id": "c8f1a8db-172b-4122-9030-9e5c40162fc6",
    "outputId": "d2a833a7-6024-41d7-adbb-ed9b227dad5d"
   },
   "outputs": [
    {
     "name": "stdout",
     "output_type": "stream",
     "text": [
      "Cosine similarity between users 10 and 1: 0.5031378635422614\n"
     ]
    }
   ],
   "source": [
    "# Example usage\n",
    "user1_id = 10\n",
    "item_id = 1\n",
    "user_factors = userFactors.filter(userFactors.id == user1_id ).collect()[0][1]\n",
    "item_factors = itemFactors.filter(itemFactors.id == item_id ).collect()[0][1]\n",
    "\n",
    "user_item_similarity = cosine_similarity(user_factors, item_factors)\n",
    "print(f\"Cosine similarity between users {user1_id} and {item_id}: {user_item_similarity}\")"
   ]
  },
  {
   "cell_type": "markdown",
   "id": "a8f99d3c-a41b-45a5-a1f3-a754a40d86ef",
   "metadata": {
    "id": "a8f99d3c-a41b-45a5-a1f3-a754a40d86ef"
   },
   "source": [
    "###  Cosine Similarity of user 10 with all Loans"
   ]
  },
  {
   "cell_type": "code",
   "execution_count": 62,
   "id": "f8edb118-b30d-428a-a1b0-86de708ae480",
   "metadata": {
    "id": "f8edb118-b30d-428a-a1b0-86de708ae480"
   },
   "outputs": [],
   "source": [
    "TopCosineLoanforuser10 = []\n",
    "for item in range(itemFactors.count()):\n",
    "    item_id = itemFactors.select(\"Id\").sort(\"Id\").take(itemFactors.count())[item][0]\n",
    "    user1_id = 10\n",
    "    user_factors = userFactors.filter(userFactors.id == user1_id ).collect()[0][1]\n",
    "    item_factors = itemFactors.filter(itemFactors.id == item_id ).collect()[0][1]\n",
    "\n",
    "\n",
    "    user_item_similarity = cosine_similarity(user_factors, item_factors)\n",
    "    TopCosineLoanforuser10.append({\"userID\":user1_id,\"LoanId\":item_id,\"CosineSimilarity\":user_item_similarity})"
   ]
  },
  {
   "cell_type": "code",
   "execution_count": 63,
   "id": "a65ec1b5-4c8a-45f3-81ec-ac03d5ebc44a",
   "metadata": {
    "colab": {
     "base_uri": "https://localhost:8080/"
    },
    "id": "a65ec1b5-4c8a-45f3-81ec-ac03d5ebc44a",
    "outputId": "de66de4c-2c38-4324-8fb1-f48a7016f2d5"
   },
   "outputs": [
    {
     "data": {
      "text/plain": [
       "[{'userID': 10, 'LoanId': 4, 'CosineSimilarity': 0.9997594178089819},\n",
       " {'userID': 10, 'LoanId': 6, 'CosineSimilarity': 0.9995120962462724},\n",
       " {'userID': 10, 'LoanId': 2, 'CosineSimilarity': 0.999288909342322},\n",
       " {'userID': 10, 'LoanId': 25, 'CosineSimilarity': 0.9992548057720446},\n",
       " {'userID': 10, 'LoanId': 9, 'CosineSimilarity': 0.9991152743422744},\n",
       " {'userID': 10, 'LoanId': 8, 'CosineSimilarity': 0.9990678089742598},\n",
       " {'userID': 10, 'LoanId': 7, 'CosineSimilarity': 0.9990063766583603},\n",
       " {'userID': 10, 'LoanId': 10, 'CosineSimilarity': 0.9989919988014851},\n",
       " {'userID': 10, 'LoanId': 5, 'CosineSimilarity': 0.9988329206582994},\n",
       " {'userID': 10, 'LoanId': 12, 'CosineSimilarity': 0.9988216993271013},\n",
       " {'userID': 10, 'LoanId': 16, 'CosineSimilarity': 0.998738497142623},\n",
       " {'userID': 10, 'LoanId': 14, 'CosineSimilarity': 0.9985519832806705},\n",
       " {'userID': 10, 'LoanId': 13, 'CosineSimilarity': 0.9983750418158638},\n",
       " {'userID': 10, 'LoanId': 11, 'CosineSimilarity': 0.998195856965576},\n",
       " {'userID': 10, 'LoanId': 19, 'CosineSimilarity': 0.9981370311177067},\n",
       " {'userID': 10, 'LoanId': 15, 'CosineSimilarity': 0.9980801302298299},\n",
       " {'userID': 10, 'LoanId': 20, 'CosineSimilarity': 0.9979734488938478},\n",
       " {'userID': 10, 'LoanId': 21, 'CosineSimilarity': 0.9979537866516641},\n",
       " {'userID': 10, 'LoanId': 17, 'CosineSimilarity': 0.9977605165250737},\n",
       " {'userID': 10, 'LoanId': 27, 'CosineSimilarity': 0.9975315272104882},\n",
       " {'userID': 10, 'LoanId': 23, 'CosineSimilarity': 0.9974715138497153},\n",
       " {'userID': 10, 'LoanId': 18, 'CosineSimilarity': 0.9973169498131809},\n",
       " {'userID': 10, 'LoanId': 24, 'CosineSimilarity': 0.9971338005945797},\n",
       " {'userID': 10, 'LoanId': 22, 'CosineSimilarity': 0.9968930853672162},\n",
       " {'userID': 10, 'LoanId': 29, 'CosineSimilarity': 0.9965274329205578},\n",
       " {'userID': 10, 'LoanId': 28, 'CosineSimilarity': 0.9958428484853558},\n",
       " {'userID': 10, 'LoanId': 32, 'CosineSimilarity': 0.9957214012931678},\n",
       " {'userID': 10, 'LoanId': 33, 'CosineSimilarity': 0.9955274017644954},\n",
       " {'userID': 10, 'LoanId': 30, 'CosineSimilarity': 0.9955258051544561},\n",
       " {'userID': 10, 'LoanId': 38, 'CosineSimilarity': 0.9937719149417273},\n",
       " {'userID': 10, 'LoanId': 26, 'CosineSimilarity': 0.9933446007132344},\n",
       " {'userID': 10, 'LoanId': 34, 'CosineSimilarity': 0.9913125935779594},\n",
       " {'userID': 10, 'LoanId': 36, 'CosineSimilarity': 0.9895752508912733},\n",
       " {'userID': 10, 'LoanId': 35, 'CosineSimilarity': 0.9882464253827392},\n",
       " {'userID': 10, 'LoanId': 3, 'CosineSimilarity': 0.9542526025779703},\n",
       " {'userID': 10, 'LoanId': 37, 'CosineSimilarity': 0.8372238035135513},\n",
       " {'userID': 10, 'LoanId': 1, 'CosineSimilarity': 0.5031378635422614},\n",
       " {'userID': 10, 'LoanId': 31, 'CosineSimilarity': 0.35847243362796277}]"
      ]
     },
     "execution_count": 63,
     "metadata": {},
     "output_type": "execute_result"
    }
   ],
   "source": [
    "sorted_Cosine_list = sorted(TopCosineLoanforuser10, key=operator.itemgetter('CosineSimilarity'),reverse=True)\n",
    "sorted_Cosine_list"
   ]
  },
  {
   "cell_type": "markdown",
   "id": "e7acbc72-5db5-4367-9c4b-419f10a4f273",
   "metadata": {
    "id": "e7acbc72-5db5-4367-9c4b-419f10a4f273"
   },
   "source": [
    "### Cosine Similarity of all users with all loans"
   ]
  },
  {
   "cell_type": "code",
   "execution_count": 64,
   "id": "UVPowXhyAjkj",
   "metadata": {
    "id": "UVPowXhyAjkj"
   },
   "outputs": [],
   "source": [
    "# Collect all user factors into a dictionary\n",
    "user_factors_dict = userFactors.select(\"id\", \"features\").rdd.collectAsMap()\n",
    "\n",
    "# Broadcast the user factors dictionary to all workers\n",
    "broadcast_user_factors = spark.sparkContext.broadcast(user_factors_dict)\n",
    "\n",
    "# Collect all item factors into a dictionary\n",
    "item_factors_dict = itemFactors.select(\"id\", \"features\").rdd.collectAsMap()\n",
    "\n",
    "# Broadcast the item factors dictionary to all workers\n",
    "broadcast_item_factors = spark.sparkContext.broadcast(item_factors_dict)"
   ]
  },
  {
   "cell_type": "code",
   "execution_count": 65,
   "id": "wP3GLSUnAzMK",
   "metadata": {
    "id": "wP3GLSUnAzMK"
   },
   "outputs": [],
   "source": [
    "# Initially the code is like this !!\n",
    "def cosine_similarity(u1, u2):\n",
    "    \"\"\"Calculates cosine similarity between two user factors.\"\"\"\n",
    "    # Convert lists to DenseVectors before performing operations\n",
    "    u1_vector = Vectors.dense(u1)\n",
    "    u2_vector = Vectors.dense(u2)\n",
    "    return u1_vector.dot(u2_vector) / (u1_vector.norm(p=2) * u2_vector.norm(p=2))"
   ]
  },
  {
   "cell_type": "markdown",
   "id": "dncZNvKBBSYS",
   "metadata": {
    "id": "dncZNvKBBSYS"
   },
   "source": [
    "def cosine_similarity(vec1, vec2):\n",
    "    dot_product = sum(v1 * v2 for v1, v2 in zip(vec1, vec2))\n",
    "    magnitude1 = sum(v ** 2 for v in vec1) ** 0.5\n",
    "    magnitude2 = sum(v ** 2 for v in vec2) ** 0.5\n",
    "    return dot_product / (magnitude1 * magnitude2)"
   ]
  },
  {
   "cell_type": "code",
   "execution_count": 66,
   "id": "yDlpr92SAjry",
   "metadata": {
    "colab": {
     "base_uri": "https://localhost:8080/"
    },
    "id": "yDlpr92SAjry",
    "outputId": "0a829487-1631-40be-84ca-0b05a845477e"
   },
   "outputs": [
    {
     "name": "stdout",
     "output_type": "stream",
     "text": [
      "The time taken to run code for 25000 users is : 0.0035649245977401735 hours\n"
     ]
    }
   ],
   "source": [
    "\n",
    "\n",
    "# Initialize list to store recommendations\n",
    "CosineSilty_first10 = []\n",
    "starttime = time.time()\n",
    "Nusers = 25000\n",
    "\n",
    "# Iterate over users\n",
    "for userId in range(1, Nusers):\n",
    "    user_factors = broadcast_user_factors.value.get(userId)\n",
    "    if user_factors:\n",
    "        TopCosineLoanforuser10 = []\n",
    "        # Iterate over items\n",
    "        for item_id, item_factors in broadcast_item_factors.value.items():\n",
    "            user_item_similarity = cosine_similarity(user_factors, item_factors)\n",
    "            TopCosineLoanforuser10.append({item_id: user_item_similarity})\n",
    "\n",
    "        # Sort recommendations based on similarity\n",
    "        Recomnd_loans = sorted(TopCosineLoanforuser10, key=lambda x: list(x.values())[0], reverse=True)\n",
    "        CosineSilty_first10.append({\"UserId\": userId, \"Recommendation\": Recomnd_loans})\n",
    "\n",
    "endtime = time.time()\n",
    "runtime_hours = (endtime - starttime) / 3600\n",
    "print(f\"The time taken to run code for {Nusers} users is : {runtime_hours} hours\")"
   ]
  },
  {
   "cell_type": "code",
   "execution_count": null,
   "id": "uVUjN4bdAjyC",
   "metadata": {
    "colab": {
     "base_uri": "https://localhost:8080/"
    },
    "id": "uVUjN4bdAjyC",
    "outputId": "e14c7dbe-e643-4568-c857-ffe2b9b9eb83",
    "scrolled": true
   },
   "outputs": [],
   "source": []
  },
  {
   "cell_type": "code",
   "execution_count": 67,
   "id": "f7acc075-cb60-44d4-a35d-30fe68d886ce",
   "metadata": {
    "id": "f7acc075-cb60-44d4-a35d-30fe68d886ce"
   },
   "outputs": [],
   "source": [
    "# Define a function to extract top-N recommendations\n",
    "def extract_top_n_recommendations(recommendations_data, n=2500):\n",
    "    top_n_recommendations = [{'userId': user_recommendation['UserId'],\n",
    "                              'Recommendation': [list(rec.keys())[0] for rec in user_recommendation['Recommendation'][:n]]}\n",
    "                             for user_recommendation in recommendations_data]\n",
    "    return top_n_recommendations\n",
    "\n",
    "# Extract top-N recommendations\n",
    "starttime = time.time()\n",
    "top_n_recommendations = extract_top_n_recommendations(CosineSilty_first10, n=5)\n",
    "endtime = time.time()\n",
    "runtime_hours = (endtime - starttime) / 3600\n"
   ]
  },
  {
   "cell_type": "code",
   "execution_count": 68,
   "id": "fee9c5a0-7468-4707-944a-79fa4945a68d",
   "metadata": {
    "colab": {
     "base_uri": "https://localhost:8080/"
    },
    "id": "fee9c5a0-7468-4707-944a-79fa4945a68d",
    "outputId": "9358dca2-e67b-4916-8c28-31717c65202c",
    "scrolled": true
   },
   "outputs": [
    {
     "data": {
      "text/plain": [
       "[{'userId': 1, 'Recommendation': [21, 13, 20, 18, 16]},\n",
       " {'userId': 2, 'Recommendation': [10, 12, 25, 14, 16]},\n",
       " {'userId': 3, 'Recommendation': [25, 10, 12, 6, 7]},\n",
       " {'userId': 4, 'Recommendation': [2, 4, 6, 9, 25]},\n",
       " {'userId': 5, 'Recommendation': [25, 10, 8, 12, 6]},\n",
       " {'userId': 6, 'Recommendation': [12, 10, 16, 14, 25]},\n",
       " {'userId': 7, 'Recommendation': [10, 25, 12, 7, 6]},\n",
       " {'userId': 8, 'Recommendation': [21, 13, 16, 14, 20]},\n",
       " {'userId': 9, 'Recommendation': [6, 7, 10, 25, 5]},\n",
       " {'userId': 10, 'Recommendation': [4, 6, 2, 25, 9]},\n",
       " {'userId': 11, 'Recommendation': [4, 6, 25, 10, 7]},\n",
       " {'userId': 12, 'Recommendation': [25, 16, 14, 10, 12]},\n",
       " {'userId': 13, 'Recommendation': [8, 25, 10, 6, 12]},\n",
       " {'userId': 14, 'Recommendation': [21, 16, 13, 14, 15]},\n",
       " {'userId': 15, 'Recommendation': [4, 6, 25, 2, 7]},\n",
       " {'userId': 16, 'Recommendation': [16, 14, 12, 13, 25]},\n",
       " {'userId': 17, 'Recommendation': [6, 25, 4, 10, 7]},\n",
       " {'userId': 18, 'Recommendation': [8, 10, 25, 12, 7]},\n",
       " {'userId': 19, 'Recommendation': [12, 10, 25, 16, 8]},\n",
       " {'userId': 20, 'Recommendation': [8, 12, 10, 25, 14]},\n",
       " {'userId': 21, 'Recommendation': [24, 21, 23, 22, 27]},\n",
       " {'userId': 22, 'Recommendation': [6, 5, 4, 2, 25]},\n",
       " {'userId': 23, 'Recommendation': [4, 6, 5, 2, 7]},\n",
       " {'userId': 24, 'Recommendation': [12, 16, 14, 10, 13]},\n",
       " {'userId': 25, 'Recommendation': [6, 4, 25, 10, 7]},\n",
       " {'userId': 26, 'Recommendation': [12, 10, 14, 8, 25]},\n",
       " {'userId': 27, 'Recommendation': [4, 6, 7, 25, 10]},\n",
       " {'userId': 28, 'Recommendation': [10, 12, 8, 25, 14]},\n",
       " {'userId': 29, 'Recommendation': [2, 4, 6, 9, 25]},\n",
       " {'userId': 30, 'Recommendation': [8, 25, 12, 10, 16]},\n",
       " {'userId': 31, 'Recommendation': [21, 16, 20, 13, 23]},\n",
       " {'userId': 32, 'Recommendation': [6, 25, 4, 10, 7]},\n",
       " {'userId': 33, 'Recommendation': [16, 14, 13, 21, 15]},\n",
       " {'userId': 34, 'Recommendation': [25, 10, 14, 12, 16]},\n",
       " {'userId': 35, 'Recommendation': [2, 4, 6, 9, 25]},\n",
       " {'userId': 36, 'Recommendation': [12, 10, 8, 25, 14]},\n",
       " {'userId': 37, 'Recommendation': [21, 15, 16, 13, 14]},\n",
       " {'userId': 38, 'Recommendation': [4, 6, 25, 8, 7]},\n",
       " {'userId': 39, 'Recommendation': [4, 6, 25, 7, 5]},\n",
       " {'userId': 40, 'Recommendation': [14, 16, 12, 13, 10]},\n",
       " {'userId': 41, 'Recommendation': [38, 32, 30, 24, 27]},\n",
       " {'userId': 42, 'Recommendation': [25, 10, 12, 16, 14]},\n",
       " {'userId': 43, 'Recommendation': [30, 24, 32, 38, 22]},\n",
       " {'userId': 44, 'Recommendation': [8, 10, 12, 25, 7]},\n",
       " {'userId': 45, 'Recommendation': [16, 13, 21, 14, 27]},\n",
       " {'userId': 46, 'Recommendation': [2, 4, 6, 9, 25]},\n",
       " {'userId': 47, 'Recommendation': [12, 16, 10, 14, 25]},\n",
       " {'userId': 48, 'Recommendation': [4, 6, 25, 7, 10]},\n",
       " {'userId': 49, 'Recommendation': [2, 4, 6, 9, 25]},\n",
       " {'userId': 50, 'Recommendation': [16, 14, 13, 12, 25]},\n",
       " {'userId': 51, 'Recommendation': [2, 4, 6, 9, 25]},\n",
       " {'userId': 52, 'Recommendation': [25, 8, 10, 12, 6]},\n",
       " {'userId': 53, 'Recommendation': [12, 10, 14, 25, 16]},\n",
       " {'userId': 54, 'Recommendation': [6, 4, 25, 7, 10]},\n",
       " {'userId': 55, 'Recommendation': [10, 12, 25, 16, 14]},\n",
       " {'userId': 56, 'Recommendation': [12, 16, 10, 14, 8]},\n",
       " {'userId': 57, 'Recommendation': [14, 13, 16, 15, 12]},\n",
       " {'userId': 58, 'Recommendation': [2, 4, 6, 25, 9]},\n",
       " {'userId': 59, 'Recommendation': [13, 18, 21, 16, 15]},\n",
       " {'userId': 60, 'Recommendation': [6, 10, 25, 7, 8]},\n",
       " {'userId': 61, 'Recommendation': [6, 25, 10, 7, 4]},\n",
       " {'userId': 62, 'Recommendation': [25, 8, 10, 12, 16]},\n",
       " {'userId': 63, 'Recommendation': [8, 10, 25, 6, 7]},\n",
       " {'userId': 64, 'Recommendation': [5, 6, 7, 11, 4]},\n",
       " {'userId': 65, 'Recommendation': [6, 4, 25, 10, 7]},\n",
       " {'userId': 67, 'Recommendation': [16, 13, 21, 14, 20]},\n",
       " {'userId': 68, 'Recommendation': [23, 20, 21, 18, 19]},\n",
       " {'userId': 69, 'Recommendation': [8, 10, 12, 25, 7]},\n",
       " {'userId': 70, 'Recommendation': [2, 4, 6, 9, 25]},\n",
       " {'userId': 71, 'Recommendation': [2, 4, 6, 9, 25]},\n",
       " {'userId': 72, 'Recommendation': [25, 10, 12, 16, 7]},\n",
       " {'userId': 73, 'Recommendation': [25, 10, 6, 4, 8]},\n",
       " {'userId': 74, 'Recommendation': [25, 16, 14, 13, 12]},\n",
       " {'userId': 75, 'Recommendation': [16, 21, 13, 14, 15]},\n",
       " {'userId': 76, 'Recommendation': [10, 6, 7, 25, 12]},\n",
       " {'userId': 77, 'Recommendation': [25, 8, 10, 12, 16]},\n",
       " {'userId': 78, 'Recommendation': [25, 6, 10, 8, 4]},\n",
       " {'userId': 79, 'Recommendation': [16, 14, 13, 12, 25]},\n",
       " {'userId': 80, 'Recommendation': [7, 10, 25, 6, 12]},\n",
       " {'userId': 81, 'Recommendation': [4, 6, 5, 2, 25]},\n",
       " {'userId': 82, 'Recommendation': [8, 12, 10, 25, 14]},\n",
       " {'userId': 83, 'Recommendation': [6, 25, 7, 4, 10]},\n",
       " {'userId': 84, 'Recommendation': [25, 10, 8, 12, 6]},\n",
       " {'userId': 85, 'Recommendation': [14, 16, 13, 12, 15]},\n",
       " {'userId': 86, 'Recommendation': [6, 25, 10, 7, 4]},\n",
       " {'userId': 87, 'Recommendation': [4, 6, 25, 8, 9]},\n",
       " {'userId': 88, 'Recommendation': [4, 6, 2, 25, 7]},\n",
       " {'userId': 89, 'Recommendation': [12, 10, 25, 14, 16]},\n",
       " {'userId': 90, 'Recommendation': [14, 25, 10, 12, 16]},\n",
       " {'userId': 91, 'Recommendation': [4, 6, 25, 9, 10]},\n",
       " {'userId': 92, 'Recommendation': [4, 6, 2, 7, 25]},\n",
       " {'userId': 93, 'Recommendation': [14, 16, 13, 19, 15]},\n",
       " {'userId': 94, 'Recommendation': [12, 10, 14, 16, 25]},\n",
       " {'userId': 95, 'Recommendation': [10, 7, 6, 25, 8]},\n",
       " {'userId': 96, 'Recommendation': [25, 6, 4, 10, 8]},\n",
       " {'userId': 97, 'Recommendation': [6, 25, 4, 8, 7]},\n",
       " {'userId': 98, 'Recommendation': [16, 21, 13, 14, 15]},\n",
       " {'userId': 99, 'Recommendation': [4, 6, 25, 2, 7]},\n",
       " {'userId': 100, 'Recommendation': [21, 20, 15, 18, 13]},\n",
       " {'userId': 101, 'Recommendation': [25, 10, 16, 12, 14]},\n",
       " {'userId': 102, 'Recommendation': [25, 10, 6, 12, 7]},\n",
       " {'userId': 103, 'Recommendation': [4, 6, 25, 7, 10]},\n",
       " {'userId': 104, 'Recommendation': [25, 14, 16, 10, 12]},\n",
       " {'userId': 105, 'Recommendation': [4, 6, 25, 7, 10]},\n",
       " {'userId': 106, 'Recommendation': [10, 7, 6, 25, 12]},\n",
       " {'userId': 107, 'Recommendation': [6, 4, 5, 7, 25]},\n",
       " {'userId': 108, 'Recommendation': [25, 4, 6, 8, 10]},\n",
       " {'userId': 109, 'Recommendation': [36, 35, 26, 30, 24]},\n",
       " {'userId': 110, 'Recommendation': [16, 21, 13, 14, 20]},\n",
       " {'userId': 111, 'Recommendation': [10, 12, 14, 25, 16]},\n",
       " {'userId': 112, 'Recommendation': [21, 16, 13, 14, 20]},\n",
       " {'userId': 113, 'Recommendation': [26, 25, 13, 16, 12]},\n",
       " {'userId': 114, 'Recommendation': [4, 6, 7, 25, 5]},\n",
       " {'userId': 115, 'Recommendation': [4, 6, 2, 25, 9]},\n",
       " {'userId': 116, 'Recommendation': [24, 15, 23, 21, 18]},\n",
       " {'userId': 117, 'Recommendation': [12, 10, 14, 25, 16]},\n",
       " {'userId': 118, 'Recommendation': [4, 6, 25, 7, 5]},\n",
       " {'userId': 119, 'Recommendation': [21, 16, 13, 24, 23]},\n",
       " {'userId': 120, 'Recommendation': [2, 4, 6, 9, 25]},\n",
       " {'userId': 121, 'Recommendation': [25, 10, 12, 8, 16]},\n",
       " {'userId': 122, 'Recommendation': [15, 21, 20, 14, 18]},\n",
       " {'userId': 123, 'Recommendation': [24, 21, 22, 23, 27]},\n",
       " {'userId': 124, 'Recommendation': [25, 6, 10, 16, 8]},\n",
       " {'userId': 125, 'Recommendation': [13, 16, 25, 14, 12]},\n",
       " {'userId': 126, 'Recommendation': [6, 4, 25, 10, 7]},\n",
       " {'userId': 127, 'Recommendation': [10, 12, 25, 8, 7]},\n",
       " {'userId': 128, 'Recommendation': [16, 13, 14, 12, 25]},\n",
       " {'userId': 129, 'Recommendation': [18, 23, 21, 15, 13]},\n",
       " {'userId': 130, 'Recommendation': [10, 12, 25, 14, 16]},\n",
       " {'userId': 131, 'Recommendation': [16, 13, 14, 21, 25]},\n",
       " {'userId': 132, 'Recommendation': [2, 4, 6, 9, 25]},\n",
       " {'userId': 133, 'Recommendation': [25, 10, 12, 16, 14]},\n",
       " {'userId': 134, 'Recommendation': [4, 6, 25, 10, 8]},\n",
       " {'userId': 135, 'Recommendation': [21, 20, 15, 19, 23]},\n",
       " {'userId': 136, 'Recommendation': [8, 25, 10, 12, 7]},\n",
       " {'userId': 137, 'Recommendation': [4, 2, 6, 9, 25]},\n",
       " {'userId': 138, 'Recommendation': [21, 16, 13, 14, 20]},\n",
       " {'userId': 139, 'Recommendation': [10, 25, 12, 7, 6]},\n",
       " {'userId': 140, 'Recommendation': [2, 4, 6, 9, 25]},\n",
       " {'userId': 141, 'Recommendation': [4, 25, 6, 8, 10]},\n",
       " {'userId': 142, 'Recommendation': [13, 16, 14, 21, 15]},\n",
       " {'userId': 143, 'Recommendation': [6, 7, 10, 25, 4]},\n",
       " {'userId': 144, 'Recommendation': [35, 36, 38, 30, 26]},\n",
       " {'userId': 145, 'Recommendation': [33, 28, 32, 29, 38]},\n",
       " {'userId': 146, 'Recommendation': [10, 12, 25, 8, 16]},\n",
       " {'userId': 147, 'Recommendation': [13, 16, 14, 12, 21]},\n",
       " {'userId': 148, 'Recommendation': [4, 2, 6, 25, 9]},\n",
       " {'userId': 149, 'Recommendation': [4, 2, 6, 9, 25]},\n",
       " {'userId': 150, 'Recommendation': [6, 7, 4, 10, 25]},\n",
       " {'userId': 151, 'Recommendation': [21, 20, 13, 14, 16]},\n",
       " {'userId': 152, 'Recommendation': [25, 16, 10, 12, 14]},\n",
       " {'userId': 153, 'Recommendation': [14, 10, 12, 25, 13]},\n",
       " {'userId': 154, 'Recommendation': [14, 13, 16, 12, 21]},\n",
       " {'userId': 155, 'Recommendation': [16, 14, 13, 25, 12]},\n",
       " {'userId': 156, 'Recommendation': [14, 16, 13, 15, 21]},\n",
       " {'userId': 157, 'Recommendation': [21, 13, 16, 20, 23]},\n",
       " {'userId': 158, 'Recommendation': [16, 13, 14, 21, 15]},\n",
       " {'userId': 159, 'Recommendation': [6, 7, 5, 4, 10]},\n",
       " {'userId': 160, 'Recommendation': [25, 10, 8, 12, 7]},\n",
       " {'userId': 161, 'Recommendation': [25, 8, 10, 6, 12]},\n",
       " {'userId': 162, 'Recommendation': [30, 24, 32, 23, 22]},\n",
       " {'userId': 163, 'Recommendation': [2, 4, 6, 9, 25]},\n",
       " {'userId': 164, 'Recommendation': [16, 12, 14, 13, 10]},\n",
       " {'userId': 165, 'Recommendation': [14, 13, 16, 12, 25]},\n",
       " {'userId': 166, 'Recommendation': [24, 23, 21, 22, 18]},\n",
       " {'userId': 167, 'Recommendation': [16, 13, 14, 25, 21]},\n",
       " {'userId': 168, 'Recommendation': [2, 4, 6, 9, 25]},\n",
       " {'userId': 169, 'Recommendation': [25, 4, 6, 8, 10]},\n",
       " {'userId': 170, 'Recommendation': [6, 4, 7, 25, 10]},\n",
       " {'userId': 171, 'Recommendation': [6, 4, 25, 10, 7]},\n",
       " {'userId': 172, 'Recommendation': [10, 25, 12, 14, 7]},\n",
       " {'userId': 173, 'Recommendation': [21, 16, 13, 14, 15]},\n",
       " {'userId': 174, 'Recommendation': [25, 6, 4, 10, 12]},\n",
       " {'userId': 175, 'Recommendation': [8, 25, 10, 12, 16]},\n",
       " {'userId': 176, 'Recommendation': [14, 13, 15, 16, 19]},\n",
       " {'userId': 177, 'Recommendation': [16, 14, 12, 10, 25]},\n",
       " {'userId': 178, 'Recommendation': [4, 6, 2, 25, 5]},\n",
       " {'userId': 179, 'Recommendation': [8, 10, 12, 25, 14]},\n",
       " {'userId': 180, 'Recommendation': [14, 16, 15, 13, 19]},\n",
       " {'userId': 181, 'Recommendation': [16, 14, 13, 12, 25]},\n",
       " {'userId': 182, 'Recommendation': [10, 12, 25, 14, 8]},\n",
       " {'userId': 183, 'Recommendation': [21, 18, 23, 20, 13]},\n",
       " {'userId': 184, 'Recommendation': [36, 35, 26, 30, 38]},\n",
       " {'userId': 185, 'Recommendation': [6, 7, 10, 25, 8]},\n",
       " {'userId': 186, 'Recommendation': [14, 13, 16, 12, 10]},\n",
       " {'userId': 187, 'Recommendation': [12, 10, 14, 16, 25]},\n",
       " {'userId': 188, 'Recommendation': [16, 14, 12, 10, 13]},\n",
       " {'userId': 189, 'Recommendation': [21, 23, 20, 18, 13]},\n",
       " {'userId': 190, 'Recommendation': [25, 6, 10, 4, 8]},\n",
       " {'userId': 191, 'Recommendation': [16, 21, 13, 15, 14]},\n",
       " {'userId': 192, 'Recommendation': [25, 16, 14, 10, 13]},\n",
       " {'userId': 193, 'Recommendation': [8, 6, 25, 10, 4]},\n",
       " {'userId': 194, 'Recommendation': [8, 10, 12, 25, 7]},\n",
       " {'userId': 195, 'Recommendation': [4, 6, 25, 2, 9]},\n",
       " {'userId': 196, 'Recommendation': [4, 2, 6, 25, 5]},\n",
       " {'userId': 197, 'Recommendation': [4, 6, 9, 7, 25]},\n",
       " {'userId': 198, 'Recommendation': [25, 6, 10, 8, 7]},\n",
       " {'userId': 199, 'Recommendation': [4, 2, 6, 9, 25]},\n",
       " {'userId': 200, 'Recommendation': [24, 21, 23, 15, 16]},\n",
       " {'userId': 201, 'Recommendation': [10, 12, 25, 14, 16]},\n",
       " {'userId': 202, 'Recommendation': [6, 10, 25, 7, 12]},\n",
       " {'userId': 203, 'Recommendation': [16, 13, 14, 21, 15]},\n",
       " {'userId': 204, 'Recommendation': [21, 13, 16, 14, 15]},\n",
       " {'userId': 205, 'Recommendation': [8, 10, 12, 25, 14]},\n",
       " {'userId': 206, 'Recommendation': [4, 6, 8, 25, 10]},\n",
       " {'userId': 207, 'Recommendation': [25, 10, 8, 12, 6]},\n",
       " {'userId': 208, 'Recommendation': [6, 4, 7, 5, 25]},\n",
       " {'userId': 209, 'Recommendation': [12, 10, 16, 25, 14]},\n",
       " {'userId': 210, 'Recommendation': [4, 6, 2, 25, 7]},\n",
       " {'userId': 211, 'Recommendation': [21, 18, 20, 23, 15]},\n",
       " {'userId': 212, 'Recommendation': [25, 6, 4, 10, 12]},\n",
       " {'userId': 213, 'Recommendation': [14, 16, 13, 12, 10]},\n",
       " {'userId': 214, 'Recommendation': [10, 7, 6, 25, 12]},\n",
       " {'userId': 215, 'Recommendation': [8, 10, 12, 25, 7]},\n",
       " {'userId': 216, 'Recommendation': [24, 27, 22, 23, 30]},\n",
       " {'userId': 217, 'Recommendation': [21, 13, 14, 16, 20]},\n",
       " {'userId': 218, 'Recommendation': [14, 15, 16, 13, 10]},\n",
       " {'userId': 219, 'Recommendation': [7, 8, 10, 12, 25]},\n",
       " {'userId': 220, 'Recommendation': [25, 6, 4, 10, 16]},\n",
       " {'userId': 221, 'Recommendation': [14, 10, 25, 12, 16]},\n",
       " {'userId': 222, 'Recommendation': [25, 6, 10, 4, 8]},\n",
       " {'userId': 223, 'Recommendation': [6, 25, 10, 7, 8]},\n",
       " {'userId': 224, 'Recommendation': [4, 6, 25, 7, 10]},\n",
       " {'userId': 225, 'Recommendation': [16, 13, 14, 12, 25]},\n",
       " {'userId': 226, 'Recommendation': [6, 4, 25, 7, 10]},\n",
       " {'userId': 227, 'Recommendation': [38, 28, 34, 32, 33]},\n",
       " {'userId': 228, 'Recommendation': [8, 25, 10, 6, 12]},\n",
       " {'userId': 229, 'Recommendation': [21, 23, 18, 20, 22]},\n",
       " {'userId': 230, 'Recommendation': [12, 10, 25, 16, 14]},\n",
       " {'userId': 231, 'Recommendation': [14, 16, 13, 12, 25]},\n",
       " {'userId': 232, 'Recommendation': [4, 2, 6, 5, 25]},\n",
       " {'userId': 233, 'Recommendation': [2, 4, 6, 9, 25]},\n",
       " {'userId': 234, 'Recommendation': [4, 6, 25, 7, 10]},\n",
       " {'userId': 235, 'Recommendation': [8, 10, 25, 12, 7]},\n",
       " {'userId': 236, 'Recommendation': [25, 4, 6, 8, 10]},\n",
       " {'userId': 237, 'Recommendation': [4, 6, 25, 2, 5]},\n",
       " {'userId': 238, 'Recommendation': [7, 10, 6, 8, 25]},\n",
       " {'userId': 239, 'Recommendation': [16, 14, 13, 15, 21]},\n",
       " {'userId': 240, 'Recommendation': [21, 20, 18, 23, 13]},\n",
       " {'userId': 241, 'Recommendation': [30, 24, 23, 22, 32]},\n",
       " {'userId': 242, 'Recommendation': [16, 14, 13, 25, 12]},\n",
       " {'userId': 243, 'Recommendation': [10, 12, 25, 7, 8]},\n",
       " {'userId': 244, 'Recommendation': [6, 7, 10, 25, 4]},\n",
       " {'userId': 245, 'Recommendation': [10, 12, 25, 8, 16]},\n",
       " {'userId': 246, 'Recommendation': [25, 6, 4, 10, 16]},\n",
       " {'userId': 247, 'Recommendation': [16, 14, 13, 21, 12]},\n",
       " {'userId': 248, 'Recommendation': [24, 22, 27, 32, 30]},\n",
       " {'userId': 249, 'Recommendation': [4, 6, 9, 7, 25]},\n",
       " {'userId': 250, 'Recommendation': [24, 16, 15, 27, 23]},\n",
       " {'userId': 251, 'Recommendation': [14, 12, 13, 16, 10]},\n",
       " {'userId': 252, 'Recommendation': [12, 8, 10, 25, 14]},\n",
       " {'userId': 253, 'Recommendation': [21, 24, 16, 23, 13]},\n",
       " {'userId': 254, 'Recommendation': [25, 10, 8, 6, 12]},\n",
       " {'userId': 255, 'Recommendation': [25, 16, 12, 10, 14]},\n",
       " {'userId': 256, 'Recommendation': [25, 12, 10, 14, 16]},\n",
       " {'userId': 257, 'Recommendation': [14, 13, 16, 21, 15]},\n",
       " {'userId': 258, 'Recommendation': [16, 14, 25, 13, 12]},\n",
       " {'userId': 259, 'Recommendation': [4, 6, 25, 2, 7]},\n",
       " {'userId': 260, 'Recommendation': [8, 25, 10, 6, 4]},\n",
       " {'userId': 261, 'Recommendation': [25, 8, 10, 12, 16]},\n",
       " {'userId': 262, 'Recommendation': [10, 12, 25, 14, 16]},\n",
       " {'userId': 263, 'Recommendation': [14, 25, 12, 10, 16]},\n",
       " {'userId': 264, 'Recommendation': [16, 13, 14, 12, 25]},\n",
       " {'userId': 265, 'Recommendation': [16, 25, 12, 14, 13]},\n",
       " {'userId': 266, 'Recommendation': [21, 13, 20, 16, 14]},\n",
       " {'userId': 267, 'Recommendation': [14, 13, 16, 15, 21]},\n",
       " {'userId': 268, 'Recommendation': [2, 4, 6, 9, 25]},\n",
       " {'userId': 269, 'Recommendation': [4, 2, 6, 9, 25]},\n",
       " {'userId': 270, 'Recommendation': [4, 6, 7, 25, 10]},\n",
       " {'userId': 271, 'Recommendation': [8, 12, 10, 25, 14]},\n",
       " {'userId': 272, 'Recommendation': [6, 4, 7, 25, 8]},\n",
       " {'userId': 273, 'Recommendation': [4, 6, 7, 25, 2]},\n",
       " {'userId': 274, 'Recommendation': [6, 25, 10, 7, 12]},\n",
       " {'userId': 275, 'Recommendation': [10, 8, 7, 25, 12]},\n",
       " {'userId': 276, 'Recommendation': [4, 6, 2, 7, 25]},\n",
       " {'userId': 277, 'Recommendation': [25, 4, 6, 10, 16]},\n",
       " {'userId': 278, 'Recommendation': [12, 8, 10, 25, 14]},\n",
       " {'userId': 279, 'Recommendation': [10, 25, 12, 16, 8]},\n",
       " {'userId': 280, 'Recommendation': [10, 25, 12, 16, 14]},\n",
       " {'userId': 281, 'Recommendation': [6, 4, 25, 10, 7]},\n",
       " {'userId': 282, 'Recommendation': [16, 12, 14, 13, 10]},\n",
       " {'userId': 283, 'Recommendation': [10, 25, 12, 8, 7]},\n",
       " {'userId': 284, 'Recommendation': [4, 6, 25, 10, 8]},\n",
       " {'userId': 285, 'Recommendation': [10, 25, 12, 16, 14]},\n",
       " {'userId': 286, 'Recommendation': [2, 4, 6, 5, 25]},\n",
       " {'userId': 287, 'Recommendation': [12, 10, 25, 16, 14]},\n",
       " {'userId': 288, 'Recommendation': [10, 7, 12, 8, 25]},\n",
       " {'userId': 289, 'Recommendation': [16, 13, 21, 14, 15]},\n",
       " {'userId': 290, 'Recommendation': [6, 4, 25, 10, 7]},\n",
       " {'userId': 291, 'Recommendation': [8, 10, 12, 25, 7]},\n",
       " {'userId': 292, 'Recommendation': [16, 14, 25, 13, 21]},\n",
       " {'userId': 293, 'Recommendation': [4, 6, 7, 25, 10]},\n",
       " {'userId': 294, 'Recommendation': [13, 14, 21, 20, 16]},\n",
       " {'userId': 295, 'Recommendation': [2, 4, 6, 9, 25]},\n",
       " {'userId': 296, 'Recommendation': [10, 8, 7, 25, 12]},\n",
       " {'userId': 297, 'Recommendation': [10, 25, 12, 7, 6]},\n",
       " {'userId': 298, 'Recommendation': [10, 25, 6, 12, 7]},\n",
       " {'userId': 299, 'Recommendation': [10, 12, 14, 16, 25]},\n",
       " {'userId': 300, 'Recommendation': [24, 30, 27, 22, 32]},\n",
       " {'userId': 301, 'Recommendation': [21, 23, 18, 20, 24]},\n",
       " {'userId': 302, 'Recommendation': [8, 25, 10, 12, 6]},\n",
       " {'userId': 303, 'Recommendation': [25, 6, 10, 12, 7]},\n",
       " {'userId': 304, 'Recommendation': [16, 13, 21, 14, 15]},\n",
       " {'userId': 305, 'Recommendation': [10, 12, 25, 16, 14]},\n",
       " {'userId': 306, 'Recommendation': [14, 16, 13, 21, 15]},\n",
       " {'userId': 307, 'Recommendation': [12, 16, 14, 13, 10]},\n",
       " {'userId': 308, 'Recommendation': [24, 27, 22, 23, 30]},\n",
       " {'userId': 309, 'Recommendation': [16, 13, 14, 12, 25]},\n",
       " {'userId': 310, 'Recommendation': [6, 25, 4, 10, 7]},\n",
       " {'userId': 311, 'Recommendation': [16, 13, 14, 21, 15]},\n",
       " {'userId': 312, 'Recommendation': [8, 12, 10, 25, 14]},\n",
       " {'userId': 313, 'Recommendation': [14, 13, 16, 21, 25]},\n",
       " {'userId': 314, 'Recommendation': [8, 12, 10, 25, 14]},\n",
       " {'userId': 315, 'Recommendation': [24, 21, 23, 27, 22]},\n",
       " {'userId': 316, 'Recommendation': [8, 12, 10, 25, 14]},\n",
       " {'userId': 317, 'Recommendation': [6, 25, 4, 10, 7]},\n",
       " {'userId': 318, 'Recommendation': [21, 16, 13, 23, 14]},\n",
       " {'userId': 319, 'Recommendation': [6, 25, 10, 4, 7]},\n",
       " {'userId': 320, 'Recommendation': [14, 15, 13, 16, 21]},\n",
       " {'userId': 321, 'Recommendation': [16, 14, 25, 13, 15]},\n",
       " {'userId': 322, 'Recommendation': [16, 13, 14, 21, 15]},\n",
       " {'userId': 323, 'Recommendation': [14, 13, 15, 19, 17]},\n",
       " {'userId': 324, 'Recommendation': [4, 6, 9, 7, 25]},\n",
       " {'userId': 325, 'Recommendation': [16, 14, 13, 12, 25]},\n",
       " {'userId': 326, 'Recommendation': [4, 6, 25, 7, 10]},\n",
       " {'userId': 327, 'Recommendation': [14, 13, 17, 20, 15]},\n",
       " {'userId': 328, 'Recommendation': [16, 21, 13, 14, 15]},\n",
       " {'userId': 329, 'Recommendation': [10, 7, 12, 25, 8]},\n",
       " {'userId': 330, 'Recommendation': [25, 10, 16, 12, 14]},\n",
       " {'userId': 331, 'Recommendation': [21, 13, 16, 23, 20]},\n",
       " {'userId': 332, 'Recommendation': [2, 4, 6, 9, 25]},\n",
       " {'userId': 333, 'Recommendation': [24, 22, 27, 23, 30]},\n",
       " {'userId': 334, 'Recommendation': [21, 20, 13, 16, 23]},\n",
       " {'userId': 335, 'Recommendation': [12, 10, 14, 16, 25]},\n",
       " {'userId': 336, 'Recommendation': [21, 13, 20, 16, 14]},\n",
       " {'userId': 337, 'Recommendation': [25, 8, 10, 12, 7]},\n",
       " {'userId': 338, 'Recommendation': [35, 36, 38, 30, 26]},\n",
       " {'userId': 339, 'Recommendation': [16, 25, 12, 14, 10]},\n",
       " {'userId': 340, 'Recommendation': [25, 10, 8, 12, 14]},\n",
       " {'userId': 341, 'Recommendation': [6, 25, 10, 7, 12]},\n",
       " {'userId': 342, 'Recommendation': [8, 12, 10, 25, 14]},\n",
       " {'userId': 343, 'Recommendation': [14, 13, 16, 21, 25]},\n",
       " {'userId': 344, 'Recommendation': [24, 22, 27, 23, 18]},\n",
       " {'userId': 345, 'Recommendation': [25, 10, 12, 8, 16]},\n",
       " {'userId': 346, 'Recommendation': [4, 6, 5, 2, 25]},\n",
       " {'userId': 347, 'Recommendation': [25, 10, 12, 16, 14]},\n",
       " {'userId': 348, 'Recommendation': [4, 6, 7, 2, 25]},\n",
       " {'userId': 349, 'Recommendation': [14, 16, 13, 12, 10]},\n",
       " {'userId': 350, 'Recommendation': [2, 4, 6, 9, 25]},\n",
       " {'userId': 351, 'Recommendation': [6, 25, 4, 7, 10]},\n",
       " {'userId': 352, 'Recommendation': [10, 8, 12, 25, 7]},\n",
       " {'userId': 353, 'Recommendation': [21, 23, 24, 18, 22]},\n",
       " {'userId': 354, 'Recommendation': [7, 10, 6, 25, 12]},\n",
       " {'userId': 355, 'Recommendation': [8, 10, 25, 12, 7]},\n",
       " {'userId': 356, 'Recommendation': [4, 6, 25, 7, 8]},\n",
       " {'userId': 357, 'Recommendation': [16, 13, 14, 21, 15]},\n",
       " {'userId': 358, 'Recommendation': [4, 6, 25, 2, 9]},\n",
       " {'userId': 359, 'Recommendation': [4, 6, 8, 25, 10]},\n",
       " {'userId': 360, 'Recommendation': [14, 10, 12, 16, 25]},\n",
       " {'userId': 361, 'Recommendation': [14, 12, 13, 16, 10]},\n",
       " {'userId': 362, 'Recommendation': [24, 21, 23, 22, 18]},\n",
       " {'userId': 363, 'Recommendation': [16, 21, 13, 14, 15]},\n",
       " {'userId': 364, 'Recommendation': [2, 4, 6, 9, 5]},\n",
       " {'userId': 365, 'Recommendation': [10, 12, 25, 14, 16]},\n",
       " {'userId': 366, 'Recommendation': [21, 24, 16, 27, 23]},\n",
       " {'userId': 367, 'Recommendation': [8, 6, 25, 10, 4]},\n",
       " {'userId': 368, 'Recommendation': [10, 8, 7, 25, 12]},\n",
       " {'userId': 369, 'Recommendation': [8, 12, 10, 25, 14]},\n",
       " {'userId': 370, 'Recommendation': [2, 4, 6, 9, 25]},\n",
       " {'userId': 371, 'Recommendation': [10, 12, 25, 8, 7]},\n",
       " {'userId': 372, 'Recommendation': [8, 25, 10, 12, 7]},\n",
       " {'userId': 373, 'Recommendation': [16, 14, 13, 12, 25]},\n",
       " {'userId': 374, 'Recommendation': [16, 25, 14, 12, 10]},\n",
       " {'userId': 375, 'Recommendation': [25, 6, 10, 8, 12]},\n",
       " {'userId': 376, 'Recommendation': [10, 12, 25, 8, 16]},\n",
       " {'userId': 377, 'Recommendation': [14, 16, 13, 15, 21]},\n",
       " {'userId': 378, 'Recommendation': [4, 2, 6, 9, 25]},\n",
       " {'userId': 379, 'Recommendation': [25, 6, 10, 7, 12]},\n",
       " {'userId': 380, 'Recommendation': [14, 12, 16, 13, 25]},\n",
       " {'userId': 381, 'Recommendation': [12, 10, 25, 8, 16]},\n",
       " {'userId': 382, 'Recommendation': [25, 16, 4, 6, 27]},\n",
       " {'userId': 383, 'Recommendation': [25, 10, 16, 12, 14]},\n",
       " {'userId': 384, 'Recommendation': [14, 12, 10, 16, 25]},\n",
       " {'userId': 385, 'Recommendation': [16, 14, 13, 12, 21]},\n",
       " {'userId': 386, 'Recommendation': [12, 16, 10, 14, 8]},\n",
       " {'userId': 387, 'Recommendation': [35, 36, 38, 30, 32]},\n",
       " {'userId': 388, 'Recommendation': [4, 6, 25, 2, 5]},\n",
       " {'userId': 389, 'Recommendation': [16, 14, 13, 25, 12]},\n",
       " {'userId': 390, 'Recommendation': [2, 4, 6, 9, 25]},\n",
       " {'userId': 391, 'Recommendation': [8, 10, 25, 12, 7]},\n",
       " {'userId': 392, 'Recommendation': [4, 6, 25, 8, 10]},\n",
       " {'userId': 393, 'Recommendation': [4, 2, 6, 9, 25]},\n",
       " {'userId': 394, 'Recommendation': [21, 13, 20, 15, 14]},\n",
       " {'userId': 395, 'Recommendation': [4, 6, 25, 8, 10]},\n",
       " {'userId': 396, 'Recommendation': [16, 13, 14, 21, 25]},\n",
       " {'userId': 397, 'Recommendation': [10, 25, 12, 7, 14]},\n",
       " {'userId': 398, 'Recommendation': [14, 13, 15, 21, 16]},\n",
       " {'userId': 399, 'Recommendation': [10, 25, 12, 14, 7]},\n",
       " {'userId': 400, 'Recommendation': [25, 12, 16, 10, 14]},\n",
       " {'userId': 401, 'Recommendation': [24, 27, 22, 23, 21]},\n",
       " {'userId': 402, 'Recommendation': [19, 15, 14, 20, 16]},\n",
       " {'userId': 403, 'Recommendation': [18, 21, 20, 15, 19]},\n",
       " {'userId': 404, 'Recommendation': [10, 25, 8, 12, 6]},\n",
       " {'userId': 405, 'Recommendation': [8, 10, 25, 7, 12]},\n",
       " {'userId': 406, 'Recommendation': [25, 16, 12, 10, 14]},\n",
       " {'userId': 407, 'Recommendation': [12, 16, 14, 10, 13]},\n",
       " {'userId': 408, 'Recommendation': [10, 6, 25, 7, 8]},\n",
       " {'userId': 409, 'Recommendation': [25, 10, 12, 8, 7]},\n",
       " {'userId': 410, 'Recommendation': [10, 12, 25, 8, 14]},\n",
       " {'userId': 411, 'Recommendation': [25, 16, 10, 14, 12]},\n",
       " {'userId': 412, 'Recommendation': [10, 12, 8, 25, 16]},\n",
       " {'userId': 413, 'Recommendation': [14, 13, 16, 12, 15]},\n",
       " {'userId': 414, 'Recommendation': [14, 12, 16, 10, 25]},\n",
       " {'userId': 415, 'Recommendation': [25, 10, 12, 8, 16]},\n",
       " {'userId': 416, 'Recommendation': [2, 4, 6, 9, 25]},\n",
       " {'userId': 417, 'Recommendation': [16, 21, 13, 14, 20]},\n",
       " {'userId': 418, 'Recommendation': [8, 12, 10, 25, 16]},\n",
       " {'userId': 419, 'Recommendation': [2, 4, 6, 9, 25]},\n",
       " {'userId': 420, 'Recommendation': [25, 6, 10, 16, 12]},\n",
       " {'userId': 421, 'Recommendation': [16, 13, 21, 14, 20]},\n",
       " {'userId': 422, 'Recommendation': [2, 4, 6, 9, 25]},\n",
       " {'userId': 423, 'Recommendation': [13, 14, 21, 16, 15]},\n",
       " {'userId': 424, 'Recommendation': [25, 10, 6, 12, 7]},\n",
       " {'userId': 425, 'Recommendation': [2, 4, 6, 9, 25]},\n",
       " {'userId': 426, 'Recommendation': [12, 10, 8, 25, 16]},\n",
       " {'userId': 427, 'Recommendation': [25, 6, 16, 10, 4]},\n",
       " {'userId': 428, 'Recommendation': [2, 4, 6, 9, 25]},\n",
       " {'userId': 429, 'Recommendation': [14, 13, 16, 15, 21]},\n",
       " {'userId': 430, 'Recommendation': [14, 16, 13, 12, 10]},\n",
       " {'userId': 431, 'Recommendation': [38, 32, 30, 24, 27]},\n",
       " {'userId': 432, 'Recommendation': [4, 2, 6, 9, 25]},\n",
       " {'userId': 433, 'Recommendation': [10, 12, 25, 14, 16]},\n",
       " {'userId': 434, 'Recommendation': [4, 2, 6, 9, 25]},\n",
       " {'userId': 435, 'Recommendation': [12, 10, 14, 16, 25]},\n",
       " {'userId': 436, 'Recommendation': [16, 13, 14, 12, 25]},\n",
       " {'userId': 437, 'Recommendation': [8, 12, 10, 25, 14]},\n",
       " {'userId': 438, 'Recommendation': [2, 4, 6, 9, 25]},\n",
       " {'userId': 439, 'Recommendation': [16, 14, 13, 25, 12]},\n",
       " {'userId': 440, 'Recommendation': [4, 6, 7, 25, 9]},\n",
       " {'userId': 441, 'Recommendation': [25, 10, 16, 12, 6]},\n",
       " {'userId': 442, 'Recommendation': [4, 6, 7, 25, 10]},\n",
       " {'userId': 443, 'Recommendation': [10, 12, 25, 8, 7]},\n",
       " {'userId': 444, 'Recommendation': [6, 5, 7, 10, 11]},\n",
       " {'userId': 445, 'Recommendation': [10, 12, 25, 8, 7]},\n",
       " {'userId': 446, 'Recommendation': [21, 20, 13, 23, 16]},\n",
       " {'userId': 447, 'Recommendation': [12, 16, 25, 10, 14]},\n",
       " {'userId': 448, 'Recommendation': [14, 16, 13, 12, 10]},\n",
       " {'userId': 449, 'Recommendation': [25, 14, 10, 16, 12]},\n",
       " {'userId': 450, 'Recommendation': [35, 36, 38, 30, 24]},\n",
       " {'userId': 451, 'Recommendation': [4, 6, 25, 7, 10]},\n",
       " {'userId': 452, 'Recommendation': [10, 12, 25, 14, 7]},\n",
       " {'userId': 453, 'Recommendation': [25, 10, 12, 16, 14]},\n",
       " {'userId': 454, 'Recommendation': [4, 6, 25, 7, 10]},\n",
       " {'userId': 455, 'Recommendation': [6, 7, 10, 25, 4]},\n",
       " {'userId': 456, 'Recommendation': [14, 13, 21, 16, 15]},\n",
       " {'userId': 457, 'Recommendation': [27, 24, 23, 22, 21]},\n",
       " {'userId': 458, 'Recommendation': [16, 13, 14, 21, 15]},\n",
       " {'userId': 459, 'Recommendation': [6, 7, 10, 25, 4]},\n",
       " {'userId': 460, 'Recommendation': [25, 16, 10, 12, 14]},\n",
       " {'userId': 461, 'Recommendation': [6, 5, 7, 10, 11]},\n",
       " {'userId': 462, 'Recommendation': [22, 23, 24, 27, 18]},\n",
       " {'userId': 463, 'Recommendation': [16, 12, 14, 13, 10]},\n",
       " {'userId': 464, 'Recommendation': [24, 23, 27, 15, 21]},\n",
       " {'userId': 465, 'Recommendation': [23, 21, 18, 20, 19]},\n",
       " {'userId': 466, 'Recommendation': [14, 12, 16, 10, 13]},\n",
       " {'userId': 467, 'Recommendation': [25, 16, 12, 10, 13]},\n",
       " {'userId': 468, 'Recommendation': [10, 25, 12, 8, 7]},\n",
       " {'userId': 469, 'Recommendation': [10, 7, 12, 8, 25]},\n",
       " {'userId': 470, 'Recommendation': [4, 6, 2, 25, 9]},\n",
       " {'userId': 471, 'Recommendation': [23, 18, 22, 20, 21]},\n",
       " {'userId': 472, 'Recommendation': [20, 19, 25, 21, 14]},\n",
       " {'userId': 473, 'Recommendation': [30, 32, 24, 38, 27]},\n",
       " {'userId': 474, 'Recommendation': [25, 10, 6, 12, 8]},\n",
       " {'userId': 475, 'Recommendation': [25, 12, 16, 10, 14]},\n",
       " {'userId': 476, 'Recommendation': [4, 6, 8, 25, 10]},\n",
       " {'userId': 477, 'Recommendation': [4, 6, 25, 2, 7]},\n",
       " {'userId': 478, 'Recommendation': [21, 15, 13, 14, 20]},\n",
       " {'userId': 479, 'Recommendation': [10, 8, 7, 25, 12]},\n",
       " {'userId': 480, 'Recommendation': [25, 16, 12, 10, 14]},\n",
       " {'userId': 481, 'Recommendation': [6, 4, 25, 7, 10]},\n",
       " {'userId': 482, 'Recommendation': [25, 10, 12, 16, 14]},\n",
       " {'userId': 483, 'Recommendation': [6, 10, 25, 8, 7]},\n",
       " {'userId': 484, 'Recommendation': [10, 12, 25, 8, 16]},\n",
       " {'userId': 485, 'Recommendation': [10, 12, 8, 25, 14]},\n",
       " {'userId': 486, 'Recommendation': [10, 25, 6, 7, 12]},\n",
       " {'userId': 487, 'Recommendation': [6, 4, 7, 25, 10]},\n",
       " {'userId': 488, 'Recommendation': [30, 24, 32, 27, 38]},\n",
       " {'userId': 489, 'Recommendation': [10, 12, 25, 7, 14]},\n",
       " {'userId': 490, 'Recommendation': [4, 6, 25, 7, 10]},\n",
       " {'userId': 491, 'Recommendation': [21, 20, 15, 18, 13]},\n",
       " {'userId': 492, 'Recommendation': [10, 12, 25, 8, 14]},\n",
       " {'userId': 493, 'Recommendation': [25, 10, 12, 16, 8]},\n",
       " {'userId': 494, 'Recommendation': [4, 6, 25, 7, 10]},\n",
       " {'userId': 495, 'Recommendation': [4, 2, 6, 9, 25]},\n",
       " {'userId': 496, 'Recommendation': [30, 32, 38, 24, 27]},\n",
       " {'userId': 497, 'Recommendation': [13, 21, 14, 20, 16]},\n",
       " {'userId': 498, 'Recommendation': [2, 4, 6, 9, 25]},\n",
       " {'userId': 499, 'Recommendation': [16, 14, 13, 12, 21]},\n",
       " {'userId': 500, 'Recommendation': [6, 4, 7, 10, 25]},\n",
       " {'userId': 501, 'Recommendation': [8, 12, 10, 25, 14]},\n",
       " {'userId': 502, 'Recommendation': [25, 10, 16, 12, 6]},\n",
       " {'userId': 503, 'Recommendation': [16, 14, 13, 21, 15]},\n",
       " {'userId': 504, 'Recommendation': [4, 6, 8, 25, 10]},\n",
       " {'userId': 505, 'Recommendation': [12, 10, 25, 14, 16]},\n",
       " {'userId': 506, 'Recommendation': [6, 7, 4, 10, 25]},\n",
       " {'userId': 507, 'Recommendation': [14, 16, 13, 12, 10]},\n",
       " {'userId': 508, 'Recommendation': [14, 16, 12, 13, 10]},\n",
       " {'userId': 509, 'Recommendation': [21, 23, 18, 20, 13]},\n",
       " {'userId': 510, 'Recommendation': [22, 18, 24, 23, 21]},\n",
       " {'userId': 511, 'Recommendation': [14, 13, 15, 16, 21]},\n",
       " {'userId': 512, 'Recommendation': [6, 4, 5, 25, 7]},\n",
       " {'userId': 513, 'Recommendation': [7, 11, 5, 6, 10]},\n",
       " {'userId': 514, 'Recommendation': [10, 25, 8, 12, 7]},\n",
       " {'userId': 515, 'Recommendation': [10, 25, 12, 14, 7]},\n",
       " {'userId': 516, 'Recommendation': [2, 4, 6, 9, 25]},\n",
       " {'userId': 517, 'Recommendation': [2, 4, 6, 9, 25]},\n",
       " {'userId': 518, 'Recommendation': [25, 10, 16, 12, 14]},\n",
       " {'userId': 519, 'Recommendation': [24, 21, 22, 23, 18]},\n",
       " {'userId': 520, 'Recommendation': [8, 10, 25, 12, 7]},\n",
       " {'userId': 521, 'Recommendation': [12, 25, 10, 8, 16]},\n",
       " {'userId': 522, 'Recommendation': [6, 5, 7, 4, 10]},\n",
       " {'userId': 523, 'Recommendation': [21, 23, 16, 20, 24]},\n",
       " {'userId': 524, 'Recommendation': [4, 6, 25, 2, 7]},\n",
       " {'userId': 525, 'Recommendation': [10, 12, 25, 7, 14]},\n",
       " {'userId': 526, 'Recommendation': [21, 20, 13, 16, 14]},\n",
       " {'userId': 527, 'Recommendation': [25, 6, 10, 7, 12]},\n",
       " {'userId': 528, 'Recommendation': [2, 4, 6, 9, 25]},\n",
       " {'userId': 529, 'Recommendation': [14, 13, 16, 21, 15]},\n",
       " {'userId': 530, 'Recommendation': [21, 20, 18, 19, 15]},\n",
       " {'userId': 531, 'Recommendation': [25, 6, 10, 7, 12]},\n",
       " {'userId': 532, 'Recommendation': [25, 6, 5, 8, 10]},\n",
       " {'userId': 533, 'Recommendation': [12, 16, 10, 14, 8]},\n",
       " {'userId': 534, 'Recommendation': [14, 12, 10, 25, 16]},\n",
       " {'userId': 535, 'Recommendation': [16, 21, 13, 14, 15]},\n",
       " {'userId': 536, 'Recommendation': [4, 2, 6, 9, 25]},\n",
       " {'userId': 537, 'Recommendation': [16, 21, 13, 14, 15]},\n",
       " {'userId': 538, 'Recommendation': [4, 6, 9, 7, 25]},\n",
       " {'userId': 539, 'Recommendation': [16, 21, 13, 14, 20]},\n",
       " {'userId': 540, 'Recommendation': [21, 18, 22, 20, 23]},\n",
       " {'userId': 541, 'Recommendation': [4, 6, 25, 7, 8]},\n",
       " {'userId': 542, 'Recommendation': [6, 25, 10, 12, 7]},\n",
       " {'userId': 543, 'Recommendation': [6, 4, 25, 10, 7]},\n",
       " {'userId': 544, 'Recommendation': [16, 13, 14, 12, 25]},\n",
       " {'userId': 545, 'Recommendation': [8, 12, 10, 25, 14]},\n",
       " {'userId': 546, 'Recommendation': [21, 16, 20, 13, 14]},\n",
       " {'userId': 547, 'Recommendation': [16, 25, 14, 12, 13]},\n",
       " {'userId': 548, 'Recommendation': [14, 16, 10, 12, 13]},\n",
       " {'userId': 549, 'Recommendation': [2, 4, 6, 9, 25]},\n",
       " {'userId': 550, 'Recommendation': [6, 10, 25, 7, 12]},\n",
       " {'userId': 551, 'Recommendation': [4, 6, 9, 2, 25]},\n",
       " {'userId': 552, 'Recommendation': [8, 25, 12, 10, 16]},\n",
       " {'userId': 553, 'Recommendation': [25, 10, 6, 7, 12]},\n",
       " {'userId': 554, 'Recommendation': [24, 27, 22, 23, 21]},\n",
       " {'userId': 555, 'Recommendation': [12, 10, 25, 16, 14]},\n",
       " {'userId': 556, 'Recommendation': [25, 10, 8, 12, 6]},\n",
       " {'userId': 557, 'Recommendation': [25, 14, 10, 16, 12]},\n",
       " {'userId': 558, 'Recommendation': [4, 6, 8, 25, 10]},\n",
       " {'userId': 559, 'Recommendation': [25, 16, 10, 12, 14]},\n",
       " {'userId': 560, 'Recommendation': [6, 7, 10, 25, 12]},\n",
       " {'userId': 561, 'Recommendation': [25, 16, 10, 12, 8]},\n",
       " {'userId': 562, 'Recommendation': [8, 6, 25, 4, 10]},\n",
       " {'userId': 563, 'Recommendation': [16, 14, 13, 12, 21]},\n",
       " {'userId': 564, 'Recommendation': [4, 6, 2, 25, 7]},\n",
       " {'userId': 565, 'Recommendation': [14, 13, 21, 15, 20]},\n",
       " {'userId': 566, 'Recommendation': [10, 12, 25, 16, 14]},\n",
       " {'userId': 567, 'Recommendation': [13, 21, 14, 16, 15]},\n",
       " {'userId': 568, 'Recommendation': [10, 12, 25, 8, 16]},\n",
       " {'userId': 569, 'Recommendation': [14, 13, 16, 12, 25]},\n",
       " {'userId': 570, 'Recommendation': [25, 10, 12, 8, 16]},\n",
       " {'userId': 571, 'Recommendation': [25, 10, 12, 16, 14]},\n",
       " {'userId': 572, 'Recommendation': [4, 6, 9, 7, 25]},\n",
       " {'userId': 573, 'Recommendation': [2, 4, 6, 9, 25]},\n",
       " {'userId': 574, 'Recommendation': [21, 16, 13, 14, 20]},\n",
       " {'userId': 575, 'Recommendation': [4, 25, 6, 2, 8]},\n",
       " {'userId': 576, 'Recommendation': [2, 4, 6, 25, 8]},\n",
       " {'userId': 577, 'Recommendation': [14, 16, 13, 12, 15]},\n",
       " {'userId': 578, 'Recommendation': [8, 10, 25, 12, 7]},\n",
       " {'userId': 579, 'Recommendation': [8, 25, 10, 12, 7]},\n",
       " {'userId': 580, 'Recommendation': [24, 30, 32, 27, 22]},\n",
       " {'userId': 581, 'Recommendation': [16, 14, 13, 25, 12]},\n",
       " {'userId': 582, 'Recommendation': [10, 12, 25, 14, 16]},\n",
       " {'userId': 583, 'Recommendation': [16, 14, 13, 12, 10]},\n",
       " {'userId': 584, 'Recommendation': [23, 27, 20, 22, 21]},\n",
       " {'userId': 585, 'Recommendation': [2, 4, 6, 9, 25]},\n",
       " {'userId': 586, 'Recommendation': [4, 6, 25, 9, 2]},\n",
       " {'userId': 587, 'Recommendation': [12, 10, 14, 8, 13]},\n",
       " {'userId': 588, 'Recommendation': [4, 6, 25, 8, 9]},\n",
       " {'userId': 589, 'Recommendation': [25, 16, 12, 10, 14]},\n",
       " {'userId': 590, 'Recommendation': [16, 13, 14, 12, 25]},\n",
       " {'userId': 591, 'Recommendation': [14, 13, 16, 21, 15]},\n",
       " {'userId': 592, 'Recommendation': [16, 13, 14, 12, 25]},\n",
       " {'userId': 593, 'Recommendation': [25, 14, 16, 10, 13]},\n",
       " {'userId': 594, 'Recommendation': [21, 13, 16, 14, 15]},\n",
       " {'userId': 595, 'Recommendation': [21, 23, 18, 20, 22]},\n",
       " {'userId': 596, 'Recommendation': [8, 6, 25, 10, 4]},\n",
       " {'userId': 597, 'Recommendation': [16, 14, 13, 12, 21]},\n",
       " {'userId': 598, 'Recommendation': [21, 18, 23, 22, 13]},\n",
       " {'userId': 599, 'Recommendation': [10, 12, 25, 14, 16]},\n",
       " {'userId': 600, 'Recommendation': [10, 12, 25, 8, 14]},\n",
       " {'userId': 601, 'Recommendation': [2, 4, 6, 5, 25]},\n",
       " {'userId': 602, 'Recommendation': [4, 6, 25, 7, 2]},\n",
       " {'userId': 603, 'Recommendation': [4, 6, 8, 25, 10]},\n",
       " {'userId': 604, 'Recommendation': [2, 4, 6, 9, 25]},\n",
       " {'userId': 605, 'Recommendation': [4, 6, 7, 25, 5]},\n",
       " {'userId': 606, 'Recommendation': [25, 12, 10, 8, 16]},\n",
       " {'userId': 607, 'Recommendation': [6, 7, 25, 10, 12]},\n",
       " {'userId': 608, 'Recommendation': [15, 14, 19, 21, 20]},\n",
       " {'userId': 609, 'Recommendation': [4, 6, 5, 2, 7]},\n",
       " {'userId': 610, 'Recommendation': [4, 6, 25, 9, 10]},\n",
       " {'userId': 611, 'Recommendation': [6, 7, 4, 10, 25]},\n",
       " {'userId': 612, 'Recommendation': [14, 15, 13, 21, 16]},\n",
       " {'userId': 613, 'Recommendation': [6, 4, 25, 10, 7]},\n",
       " {'userId': 614, 'Recommendation': [14, 13, 16, 12, 25]},\n",
       " {'userId': 615, 'Recommendation': [10, 8, 25, 12, 7]},\n",
       " {'userId': 616, 'Recommendation': [2, 4, 6, 9, 5]},\n",
       " {'userId': 617, 'Recommendation': [24, 22, 23, 21, 27]},\n",
       " {'userId': 618, 'Recommendation': [25, 8, 10, 6, 12]},\n",
       " {'userId': 619, 'Recommendation': [4, 6, 7, 25, 10]},\n",
       " {'userId': 620, 'Recommendation': [12, 10, 25, 8, 14]},\n",
       " {'userId': 621, 'Recommendation': [12, 16, 10, 14, 8]},\n",
       " {'userId': 622, 'Recommendation': [4, 2, 6, 9, 25]},\n",
       " {'userId': 623, 'Recommendation': [13, 16, 21, 14, 15]},\n",
       " {'userId': 624, 'Recommendation': [2, 4, 6, 9, 25]},\n",
       " {'userId': 625, 'Recommendation': [4, 6, 25, 2, 8]},\n",
       " {'userId': 626, 'Recommendation': [10, 12, 25, 8, 14]},\n",
       " {'userId': 627, 'Recommendation': [12, 10, 25, 16, 14]},\n",
       " {'userId': 628, 'Recommendation': [21, 18, 13, 23, 15]},\n",
       " {'userId': 629, 'Recommendation': [4, 6, 25, 2, 9]},\n",
       " {'userId': 630, 'Recommendation': [8, 12, 10, 25, 14]},\n",
       " {'userId': 631, 'Recommendation': [8, 25, 10, 12, 7]},\n",
       " {'userId': 632, 'Recommendation': [16, 14, 13, 25, 12]},\n",
       " {'userId': 633, 'Recommendation': [12, 16, 10, 14, 8]},\n",
       " {'userId': 634, 'Recommendation': [10, 12, 25, 14, 7]},\n",
       " {'userId': 635, 'Recommendation': [12, 8, 10, 25, 14]},\n",
       " {'userId': 636, 'Recommendation': [16, 12, 14, 25, 13]},\n",
       " {'userId': 637, 'Recommendation': [6, 25, 4, 10, 7]},\n",
       " {'userId': 639, 'Recommendation': [12, 10, 14, 25, 16]},\n",
       " {'userId': 640, 'Recommendation': [21, 13, 15, 14, 20]},\n",
       " {'userId': 641, 'Recommendation': [16, 14, 13, 12, 25]},\n",
       " {'userId': 642, 'Recommendation': [25, 10, 16, 12, 14]},\n",
       " {'userId': 643, 'Recommendation': [25, 10, 12, 16, 14]},\n",
       " {'userId': 644, 'Recommendation': [25, 8, 10, 12, 16]},\n",
       " {'userId': 645, 'Recommendation': [16, 14, 25, 12, 13]},\n",
       " {'userId': 646, 'Recommendation': [25, 6, 10, 12, 8]},\n",
       " {'userId': 647, 'Recommendation': [10, 7, 6, 25, 12]},\n",
       " {'userId': 648, 'Recommendation': [10, 8, 12, 25, 7]},\n",
       " {'userId': 649, 'Recommendation': [35, 36, 38, 30, 26]},\n",
       " {'userId': 650, 'Recommendation': [13, 16, 14, 21, 15]},\n",
       " {'userId': 651, 'Recommendation': [25, 13, 14, 16, 15]},\n",
       " {'userId': 652, 'Recommendation': [16, 12, 14, 25, 13]},\n",
       " {'userId': 653, 'Recommendation': [21, 20, 18, 15, 19]},\n",
       " {'userId': 654, 'Recommendation': [2, 4, 6, 9, 25]},\n",
       " {'userId': 655, 'Recommendation': [4, 6, 25, 2, 8]},\n",
       " {'userId': 656, 'Recommendation': [14, 12, 13, 16, 10]},\n",
       " {'userId': 657, 'Recommendation': [4, 6, 2, 25, 9]},\n",
       " {'userId': 658, 'Recommendation': [16, 13, 21, 14, 15]},\n",
       " {'userId': 659, 'Recommendation': [14, 10, 12, 16, 25]},\n",
       " {'userId': 660, 'Recommendation': [10, 12, 25, 8, 14]},\n",
       " {'userId': 661, 'Recommendation': [4, 6, 9, 7, 25]},\n",
       " {'userId': 662, 'Recommendation': [21, 13, 16, 23, 20]},\n",
       " {'userId': 663, 'Recommendation': [8, 12, 10, 25, 16]},\n",
       " {'userId': 664, 'Recommendation': [25, 10, 12, 7, 6]},\n",
       " {'userId': 665, 'Recommendation': [25, 12, 10, 14, 16]},\n",
       " {'userId': 666, 'Recommendation': [16, 21, 13, 15, 14]},\n",
       " {'userId': 667, 'Recommendation': [16, 14, 13, 12, 21]},\n",
       " {'userId': 668, 'Recommendation': [7, 10, 14, 11, 12]},\n",
       " {'userId': 669, 'Recommendation': [6, 7, 10, 25, 4]},\n",
       " {'userId': 670, 'Recommendation': [4, 6, 9, 7, 25]},\n",
       " {'userId': 671, 'Recommendation': [6, 4, 7, 25, 10]},\n",
       " {'userId': 672, 'Recommendation': [12, 25, 16, 10, 14]},\n",
       " {'userId': 673, 'Recommendation': [16, 14, 13, 12, 25]},\n",
       " {'userId': 674, 'Recommendation': [25, 6, 4, 5, 10]},\n",
       " {'userId': 675, 'Recommendation': [6, 4, 7, 5, 25]},\n",
       " {'userId': 676, 'Recommendation': [14, 13, 20, 17, 15]},\n",
       " {'userId': 677, 'Recommendation': [30, 24, 32, 27, 23]},\n",
       " {'userId': 678, 'Recommendation': [6, 4, 7, 25, 10]},\n",
       " {'userId': 679, 'Recommendation': [13, 16, 14, 21, 25]},\n",
       " {'userId': 680, 'Recommendation': [16, 14, 12, 13, 10]},\n",
       " {'userId': 681, 'Recommendation': [14, 12, 10, 13, 16]},\n",
       " {'userId': 682, 'Recommendation': [6, 7, 4, 10, 25]},\n",
       " {'userId': 683, 'Recommendation': [2, 4, 6, 9, 25]},\n",
       " {'userId': 684, 'Recommendation': [6, 7, 10, 25, 5]},\n",
       " {'userId': 685, 'Recommendation': [30, 24, 32, 38, 23]},\n",
       " {'userId': 686, 'Recommendation': [6, 7, 10, 25, 12]},\n",
       " {'userId': 687, 'Recommendation': [14, 16, 12, 13, 10]},\n",
       " {'userId': 688, 'Recommendation': [4, 2, 6, 9, 25]},\n",
       " {'userId': 689, 'Recommendation': [25, 8, 10, 16, 6]},\n",
       " {'userId': 690, 'Recommendation': [4, 6, 9, 7, 25]},\n",
       " {'userId': 691, 'Recommendation': [16, 12, 14, 13, 10]},\n",
       " {'userId': 692, 'Recommendation': [14, 13, 12, 10, 16]},\n",
       " {'userId': 693, 'Recommendation': [25, 6, 10, 12, 7]},\n",
       " {'userId': 694, 'Recommendation': [6, 7, 4, 25, 10]},\n",
       " {'userId': 695, 'Recommendation': [10, 25, 12, 7, 6]},\n",
       " {'userId': 696, 'Recommendation': [14, 16, 13, 25, 12]},\n",
       " {'userId': 697, 'Recommendation': [14, 13, 12, 10, 16]},\n",
       " {'userId': 698, 'Recommendation': [7, 10, 6, 25, 12]},\n",
       " {'userId': 699, 'Recommendation': [10, 7, 12, 25, 8]},\n",
       " {'userId': 700, 'Recommendation': [10, 8, 7, 25, 12]},\n",
       " {'userId': 701, 'Recommendation': [4, 6, 2, 25, 5]},\n",
       " {'userId': 702, 'Recommendation': [4, 2, 6, 9, 25]},\n",
       " {'userId': 703, 'Recommendation': [14, 16, 12, 10, 25]},\n",
       " {'userId': 704, 'Recommendation': [24, 27, 22, 30, 23]},\n",
       " {'userId': 705, 'Recommendation': [16, 14, 12, 13, 25]},\n",
       " {'userId': 706, 'Recommendation': [24, 30, 32, 27, 22]},\n",
       " {'userId': 707, 'Recommendation': [14, 13, 15, 16, 21]},\n",
       " {'userId': 708, 'Recommendation': [25, 16, 10, 8, 12]},\n",
       " {'userId': 709, 'Recommendation': [4, 6, 2, 9, 25]},\n",
       " {'userId': 710, 'Recommendation': [8, 12, 10, 25, 7]},\n",
       " {'userId': 711, 'Recommendation': [14, 13, 16, 25, 15]},\n",
       " {'userId': 712, 'Recommendation': [4, 6, 8, 25, 10]},\n",
       " {'userId': 713, 'Recommendation': [25, 4, 6, 2, 8]},\n",
       " {'userId': 714, 'Recommendation': [12, 25, 10, 8, 16]},\n",
       " {'userId': 715, 'Recommendation': [6, 4, 25, 7, 10]},\n",
       " {'userId': 716, 'Recommendation': [12, 10, 25, 16, 8]},\n",
       " {'userId': 717, 'Recommendation': [6, 7, 4, 10, 25]},\n",
       " {'userId': 718, 'Recommendation': [6, 4, 25, 10, 8]},\n",
       " {'userId': 719, 'Recommendation': [16, 13, 14, 21, 15]},\n",
       " {'userId': 720, 'Recommendation': [7, 5, 6, 10, 11]},\n",
       " {'userId': 721, 'Recommendation': [16, 12, 14, 13, 10]},\n",
       " {'userId': 722, 'Recommendation': [4, 6, 25, 7, 9]},\n",
       " {'userId': 723, 'Recommendation': [24, 30, 32, 22, 27]},\n",
       " {'userId': 724, 'Recommendation': [12, 16, 10, 14, 8]},\n",
       " {'userId': 725, 'Recommendation': [3, 2, 4, 27, 6]},\n",
       " {'userId': 726, 'Recommendation': [4, 6, 7, 25, 9]},\n",
       " {'userId': 727, 'Recommendation': [6, 4, 7, 25, 10]},\n",
       " {'userId': 728, 'Recommendation': [2, 4, 6, 9, 25]},\n",
       " {'userId': 729, 'Recommendation': [16, 14, 13, 21, 15]},\n",
       " {'userId': 730, 'Recommendation': [10, 12, 25, 7, 14]},\n",
       " {'userId': 731, 'Recommendation': [2, 4, 6, 9, 25]},\n",
       " {'userId': 732, 'Recommendation': [25, 16, 8, 10, 12]},\n",
       " {'userId': 733, 'Recommendation': [25, 6, 10, 8, 7]},\n",
       " {'userId': 734, 'Recommendation': [10, 12, 25, 14, 16]},\n",
       " {'userId': 735, 'Recommendation': [16, 13, 14, 21, 15]},\n",
       " {'userId': 736, 'Recommendation': [7, 10, 6, 8, 25]},\n",
       " {'userId': 737, 'Recommendation': [13, 14, 16, 12, 21]},\n",
       " {'userId': 738, 'Recommendation': [4, 2, 6, 9, 25]},\n",
       " {'userId': 739, 'Recommendation': [14, 13, 16, 15, 25]},\n",
       " {'userId': 740, 'Recommendation': [16, 12, 10, 25, 14]},\n",
       " {'userId': 741, 'Recommendation': [14, 16, 13, 12, 25]},\n",
       " {'userId': 742, 'Recommendation': [4, 6, 25, 8, 7]},\n",
       " {'userId': 743, 'Recommendation': [10, 12, 25, 14, 16]},\n",
       " {'userId': 744, 'Recommendation': [10, 12, 14, 11, 25]},\n",
       " {'userId': 745, 'Recommendation': [27, 24, 22, 23, 32]},\n",
       " {'userId': 746, 'Recommendation': [4, 6, 8, 25, 10]},\n",
       " {'userId': 747, 'Recommendation': [25, 10, 6, 7, 12]},\n",
       " {'userId': 748, 'Recommendation': [4, 6, 2, 25, 9]},\n",
       " {'userId': 749, 'Recommendation': [2, 4, 6, 9, 25]},\n",
       " {'userId': 750, 'Recommendation': [10, 12, 25, 7, 14]},\n",
       " {'userId': 751, 'Recommendation': [14, 16, 13, 12, 10]},\n",
       " {'userId': 752, 'Recommendation': [8, 10, 25, 12, 16]},\n",
       " {'userId': 753, 'Recommendation': [10, 8, 7, 25, 12]},\n",
       " {'userId': 754, 'Recommendation': [2, 4, 6, 9, 25]},\n",
       " {'userId': 755, 'Recommendation': [21, 13, 20, 16, 14]},\n",
       " {'userId': 756, 'Recommendation': [8, 25, 10, 12, 6]},\n",
       " {'userId': 757, 'Recommendation': [4, 6, 25, 10, 7]},\n",
       " {'userId': 758, 'Recommendation': [12, 10, 14, 8, 25]},\n",
       " {'userId': 759, 'Recommendation': [16, 14, 12, 25, 10]},\n",
       " {'userId': 760, 'Recommendation': [14, 13, 15, 16, 12]},\n",
       " {'userId': 761, 'Recommendation': [12, 10, 14, 16, 25]},\n",
       " {'userId': 762, 'Recommendation': [4, 25, 6, 2, 8]},\n",
       " {'userId': 763, 'Recommendation': [8, 25, 10, 6, 4]},\n",
       " {'userId': 764, 'Recommendation': [4, 6, 25, 7, 9]},\n",
       " {'userId': 765, 'Recommendation': [6, 4, 7, 25, 10]},\n",
       " {'userId': 766, 'Recommendation': [16, 14, 25, 13, 10]},\n",
       " {'userId': 767, 'Recommendation': [4, 6, 25, 9, 8]},\n",
       " {'userId': 768, 'Recommendation': [4, 6, 5, 2, 7]},\n",
       " {'userId': 769, 'Recommendation': [24, 23, 30, 27, 22]},\n",
       " {'userId': 770, 'Recommendation': [10, 7, 25, 6, 12]},\n",
       " {'userId': 771, 'Recommendation': [25, 12, 10, 16, 8]},\n",
       " {'userId': 772, 'Recommendation': [12, 10, 14, 8, 16]},\n",
       " {'userId': 773, 'Recommendation': [8, 10, 12, 25, 7]},\n",
       " {'userId': 774, 'Recommendation': [8, 25, 6, 4, 10]},\n",
       " {'userId': 775, 'Recommendation': [2, 4, 6, 9, 25]},\n",
       " {'userId': 776, 'Recommendation': [25, 16, 10, 12, 14]},\n",
       " {'userId': 777, 'Recommendation': [6, 4, 25, 7, 10]},\n",
       " {'userId': 778, 'Recommendation': [14, 10, 12, 25, 16]},\n",
       " {'userId': 779, 'Recommendation': [16, 14, 25, 12, 10]},\n",
       " {'userId': 780, 'Recommendation': [21, 24, 16, 23, 13]},\n",
       " {'userId': 781, 'Recommendation': [10, 25, 8, 12, 6]},\n",
       " {'userId': 782, 'Recommendation': [21, 16, 23, 20, 13]},\n",
       " {'userId': 783, 'Recommendation': [16, 14, 13, 21, 15]},\n",
       " {'userId': 784, 'Recommendation': [12, 8, 10, 25, 14]},\n",
       " {'userId': 785, 'Recommendation': [24, 30, 27, 22, 23]},\n",
       " {'userId': 786, 'Recommendation': [10, 12, 8, 25, 14]},\n",
       " {'userId': 787, 'Recommendation': [25, 4, 8, 2, 6]},\n",
       " {'userId': 788, 'Recommendation': [8, 12, 10, 25, 14]},\n",
       " {'userId': 789, 'Recommendation': [4, 6, 7, 25, 10]},\n",
       " {'userId': 790, 'Recommendation': [2, 4, 6, 9, 25]},\n",
       " {'userId': 791, 'Recommendation': [25, 10, 12, 16, 14]},\n",
       " {'userId': 792, 'Recommendation': [21, 20, 15, 18, 13]},\n",
       " {'userId': 793, 'Recommendation': [14, 13, 21, 15, 20]},\n",
       " {'userId': 794, 'Recommendation': [14, 16, 13, 12, 21]},\n",
       " {'userId': 795, 'Recommendation': [8, 25, 6, 10, 12]},\n",
       " {'userId': 796, 'Recommendation': [14, 16, 13, 15, 21]},\n",
       " {'userId': 797, 'Recommendation': [2, 4, 6, 25, 8]},\n",
       " {'userId': 798, 'Recommendation': [8, 10, 7, 25, 12]},\n",
       " {'userId': 799, 'Recommendation': [4, 6, 25, 7, 2]},\n",
       " {'userId': 800, 'Recommendation': [21, 20, 13, 14, 15]},\n",
       " {'userId': 801, 'Recommendation': [25, 10, 16, 14, 7]},\n",
       " {'userId': 802, 'Recommendation': [4, 6, 25, 8, 7]},\n",
       " {'userId': 803, 'Recommendation': [25, 16, 10, 14, 12]},\n",
       " {'userId': 804, 'Recommendation': [8, 10, 12, 25, 14]},\n",
       " {'userId': 805, 'Recommendation': [4, 6, 25, 7, 9]},\n",
       " {'userId': 806, 'Recommendation': [16, 13, 14, 12, 25]},\n",
       " {'userId': 807, 'Recommendation': [24, 27, 22, 30, 23]},\n",
       " {'userId': 808, 'Recommendation': [25, 10, 8, 16, 12]},\n",
       " {'userId': 809, 'Recommendation': [25, 4, 6, 10, 16]},\n",
       " {'userId': 810, 'Recommendation': [10, 12, 25, 14, 16]},\n",
       " {'userId': 811, 'Recommendation': [16, 13, 14, 12, 21]},\n",
       " {'userId': 812, 'Recommendation': [25, 16, 12, 10, 13]},\n",
       " {'userId': 813, 'Recommendation': [12, 10, 8, 25, 16]},\n",
       " {'userId': 814, 'Recommendation': [29, 34, 18, 22, 21]},\n",
       " {'userId': 815, 'Recommendation': [14, 16, 13, 12, 10]},\n",
       " {'userId': 816, 'Recommendation': [15, 14, 19, 21, 20]},\n",
       " {'userId': 817, 'Recommendation': [14, 13, 16, 21, 25]},\n",
       " {'userId': 818, 'Recommendation': [4, 6, 8, 25, 10]},\n",
       " {'userId': 819, 'Recommendation': [25, 10, 14, 12, 16]},\n",
       " {'userId': 820, 'Recommendation': [8, 6, 25, 10, 4]},\n",
       " {'userId': 821, 'Recommendation': [22, 24, 23, 27, 18]},\n",
       " {'userId': 822, 'Recommendation': [21, 16, 13, 24, 23]},\n",
       " {'userId': 823, 'Recommendation': [8, 12, 10, 25, 14]},\n",
       " {'userId': 824, 'Recommendation': [25, 10, 8, 12, 16]},\n",
       " {'userId': 825, 'Recommendation': [24, 27, 22, 23, 21]},\n",
       " {'userId': 826, 'Recommendation': [6, 7, 10, 25, 4]},\n",
       " {'userId': 827, 'Recommendation': [8, 6, 25, 10, 4]},\n",
       " {'userId': 828, 'Recommendation': [34, 38, 33, 28, 32]},\n",
       " {'userId': 829, 'Recommendation': [16, 14, 13, 12, 25]},\n",
       " {'userId': 830, 'Recommendation': [4, 6, 25, 9, 8]},\n",
       " {'userId': 831, 'Recommendation': [21, 20, 13, 16, 15]},\n",
       " {'userId': 832, 'Recommendation': [14, 16, 25, 13, 12]},\n",
       " {'userId': 833, 'Recommendation': [2, 4, 6, 9, 25]},\n",
       " {'userId': 834, 'Recommendation': [2, 4, 6, 9, 25]},\n",
       " {'userId': 835, 'Recommendation': [6, 25, 4, 5, 7]},\n",
       " {'userId': 836, 'Recommendation': [16, 13, 21, 14, 27]},\n",
       " {'userId': 837, 'Recommendation': [12, 16, 14, 10, 25]},\n",
       " {'userId': 838, 'Recommendation': [14, 12, 16, 10, 25]},\n",
       " {'userId': 839, 'Recommendation': [4, 6, 5, 7, 2]},\n",
       " {'userId': 840, 'Recommendation': [8, 10, 12, 25, 16]},\n",
       " {'userId': 841, 'Recommendation': [6, 8, 25, 10, 4]},\n",
       " {'userId': 842, 'Recommendation': [25, 6, 4, 16, 10]},\n",
       " {'userId': 843, 'Recommendation': [10, 25, 12, 7, 14]},\n",
       " {'userId': 844, 'Recommendation': [6, 4, 7, 5, 10]},\n",
       " {'userId': 845, 'Recommendation': [25, 10, 6, 12, 7]},\n",
       " {'userId': 846, 'Recommendation': [3, 2, 4, 27, 6]},\n",
       " {'userId': 847, 'Recommendation': [14, 13, 16, 21, 15]},\n",
       " {'userId': 848, 'Recommendation': [25, 10, 12, 8, 16]},\n",
       " {'userId': 849, 'Recommendation': [12, 25, 10, 16, 14]},\n",
       " {'userId': 850, 'Recommendation': [6, 4, 7, 25, 10]},\n",
       " {'userId': 851, 'Recommendation': [10, 6, 25, 7, 12]},\n",
       " {'userId': 852, 'Recommendation': [10, 25, 12, 8, 16]},\n",
       " {'userId': 853, 'Recommendation': [6, 4, 7, 25, 10]},\n",
       " {'userId': 854, 'Recommendation': [4, 6, 2, 25, 5]},\n",
       " {'userId': 855, 'Recommendation': [25, 10, 12, 8, 7]},\n",
       " {'userId': 856, 'Recommendation': [4, 2, 6, 9, 25]},\n",
       " {'userId': 857, 'Recommendation': [12, 10, 14, 16, 8]},\n",
       " {'userId': 858, 'Recommendation': [25, 8, 10, 12, 6]},\n",
       " {'userId': 859, 'Recommendation': [16, 13, 14, 12, 8]},\n",
       " {'userId': 860, 'Recommendation': [2, 4, 6, 9, 25]},\n",
       " {'userId': 861, 'Recommendation': [21, 18, 23, 20, 13]},\n",
       " {'userId': 862, 'Recommendation': [29, 22, 18, 23, 21]},\n",
       " {'userId': 863, 'Recommendation': [4, 2, 6, 9, 25]},\n",
       " {'userId': 864, 'Recommendation': [21, 16, 13, 23, 24]},\n",
       " {'userId': 865, 'Recommendation': [8, 12, 10, 25, 14]},\n",
       " {'userId': 866, 'Recommendation': [23, 21, 24, 22, 27]},\n",
       " {'userId': 867, 'Recommendation': [8, 25, 10, 6, 4]},\n",
       " {'userId': 868, 'Recommendation': [14, 16, 13, 25, 15]},\n",
       " {'userId': 869, 'Recommendation': [25, 10, 6, 8, 12]},\n",
       " {'userId': 870, 'Recommendation': [4, 2, 6, 9, 25]},\n",
       " {'userId': 871, 'Recommendation': [10, 25, 6, 12, 7]},\n",
       " {'userId': 872, 'Recommendation': [10, 12, 25, 8, 7]},\n",
       " {'userId': 873, 'Recommendation': [10, 25, 6, 12, 7]},\n",
       " {'userId': 874, 'Recommendation': [4, 6, 25, 8, 10]},\n",
       " {'userId': 875, 'Recommendation': [25, 10, 12, 16, 8]},\n",
       " {'userId': 876, 'Recommendation': [7, 10, 11, 25, 12]},\n",
       " {'userId': 877, 'Recommendation': [35, 36, 30, 38, 24]},\n",
       " {'userId': 878, 'Recommendation': [6, 4, 5, 7, 25]},\n",
       " {'userId': 879, 'Recommendation': [2, 4, 6, 25, 9]},\n",
       " {'userId': 880, 'Recommendation': [4, 2, 6, 25, 9]},\n",
       " {'userId': 881, 'Recommendation': [38, 34, 33, 32, 28]},\n",
       " {'userId': 882, 'Recommendation': [21, 23, 18, 24, 22]},\n",
       " {'userId': 883, 'Recommendation': [8, 25, 10, 12, 16]},\n",
       " {'userId': 884, 'Recommendation': [23, 22, 18, 21, 24]},\n",
       " {'userId': 885, 'Recommendation': [2, 4, 6, 9, 25]},\n",
       " {'userId': 886, 'Recommendation': [14, 13, 16, 12, 21]},\n",
       " {'userId': 887, 'Recommendation': [25, 10, 12, 8, 6]},\n",
       " {'userId': 888, 'Recommendation': [2, 4, 6, 9, 25]},\n",
       " {'userId': 889, 'Recommendation': [12, 10, 16, 14, 25]},\n",
       " {'userId': 890, 'Recommendation': [25, 10, 12, 16, 8]},\n",
       " {'userId': 891, 'Recommendation': [4, 6, 7, 25, 10]},\n",
       " {'userId': 892, 'Recommendation': [4, 2, 6, 9, 25]},\n",
       " {'userId': 893, 'Recommendation': [25, 6, 4, 10, 16]},\n",
       " {'userId': 894, 'Recommendation': [16, 14, 13, 21, 12]},\n",
       " {'userId': 895, 'Recommendation': [2, 4, 6, 9, 25]},\n",
       " {'userId': 896, 'Recommendation': [4, 6, 7, 9, 25]},\n",
       " {'userId': 897, 'Recommendation': [16, 13, 14, 25, 12]},\n",
       " {'userId': 898, 'Recommendation': [16, 12, 14, 10, 13]},\n",
       " {'userId': 899, 'Recommendation': [4, 6, 25, 7, 9]},\n",
       " {'userId': 900, 'Recommendation': [6, 4, 25, 8, 7]},\n",
       " {'userId': 901, 'Recommendation': [25, 10, 16, 12, 6]},\n",
       " {'userId': 902, 'Recommendation': [25, 8, 10, 12, 16]},\n",
       " {'userId': 903, 'Recommendation': [6, 4, 25, 10, 8]},\n",
       " {'userId': 904, 'Recommendation': [10, 12, 25, 14, 16]},\n",
       " {'userId': 905, 'Recommendation': [12, 10, 14, 16, 25]},\n",
       " {'userId': 906, 'Recommendation': [6, 4, 25, 7, 10]},\n",
       " {'userId': 907, 'Recommendation': [2, 4, 6, 9, 25]},\n",
       " {'userId': 908, 'Recommendation': [4, 6, 25, 7, 10]},\n",
       " {'userId': 909, 'Recommendation': [4, 6, 25, 2, 9]},\n",
       " {'userId': 910, 'Recommendation': [6, 7, 10, 25, 12]},\n",
       " {'userId': 911, 'Recommendation': [14, 13, 16, 12, 15]},\n",
       " {'userId': 912, 'Recommendation': [4, 6, 2, 9, 25]},\n",
       " {'userId': 913, 'Recommendation': [6, 7, 4, 10, 25]},\n",
       " {'userId': 914, 'Recommendation': [16, 21, 13, 14, 20]},\n",
       " {'userId': 915, 'Recommendation': [35, 36, 26, 30, 38]},\n",
       " {'userId': 916, 'Recommendation': [25, 6, 10, 8, 7]},\n",
       " {'userId': 917, 'Recommendation': [12, 14, 10, 25, 16]},\n",
       " {'userId': 918, 'Recommendation': [21, 13, 14, 20, 15]},\n",
       " {'userId': 919, 'Recommendation': [10, 25, 12, 7, 8]},\n",
       " {'userId': 920, 'Recommendation': [14, 13, 16, 15, 21]},\n",
       " {'userId': 921, 'Recommendation': [4, 6, 2, 9, 25]},\n",
       " {'userId': 922, 'Recommendation': [25, 10, 16, 12, 6]},\n",
       " {'userId': 923, 'Recommendation': [8, 10, 12, 7, 25]},\n",
       " {'userId': 924, 'Recommendation': [16, 21, 13, 14, 15]},\n",
       " {'userId': 925, 'Recommendation': [21, 13, 18, 20, 15]},\n",
       " {'userId': 926, 'Recommendation': [14, 12, 10, 13, 16]},\n",
       " {'userId': 927, 'Recommendation': [6, 25, 4, 10, 8]},\n",
       " {'userId': 928, 'Recommendation': [16, 14, 12, 13, 10]},\n",
       " {'userId': 929, 'Recommendation': [16, 13, 14, 19, 21]},\n",
       " {'userId': 930, 'Recommendation': [25, 10, 14, 12, 7]},\n",
       " {'userId': 931, 'Recommendation': [16, 14, 13, 21, 15]},\n",
       " {'userId': 932, 'Recommendation': [16, 25, 12, 10, 14]},\n",
       " {'userId': 933, 'Recommendation': [10, 25, 7, 12, 6]},\n",
       " {'userId': 934, 'Recommendation': [25, 16, 14, 10, 8]},\n",
       " {'userId': 935, 'Recommendation': [6, 25, 7, 10, 8]},\n",
       " {'userId': 936, 'Recommendation': [10, 25, 12, 7, 6]},\n",
       " {'userId': 937, 'Recommendation': [12, 10, 14, 25, 16]},\n",
       " {'userId': 938, 'Recommendation': [12, 10, 14, 25, 16]},\n",
       " {'userId': 939, 'Recommendation': [10, 12, 8, 25, 14]},\n",
       " {'userId': 940, 'Recommendation': [10, 25, 7, 12, 6]},\n",
       " {'userId': 941, 'Recommendation': [14, 10, 12, 25, 13]},\n",
       " {'userId': 942, 'Recommendation': [8, 10, 12, 25, 7]},\n",
       " {'userId': 943, 'Recommendation': [25, 6, 4, 10, 8]},\n",
       " {'userId': 944, 'Recommendation': [10, 6, 25, 7, 12]},\n",
       " {'userId': 945, 'Recommendation': [14, 13, 16, 21, 12]},\n",
       " {'userId': 946, 'Recommendation': [16, 14, 12, 25, 10]},\n",
       " {'userId': 947, 'Recommendation': [2, 4, 6, 9, 25]},\n",
       " {'userId': 948, 'Recommendation': [21, 13, 16, 14, 20]},\n",
       " {'userId': 949, 'Recommendation': [6, 25, 4, 10, 8]},\n",
       " {'userId': 950, 'Recommendation': [16, 27, 25, 24, 21]},\n",
       " {'userId': 951, 'Recommendation': [2, 4, 6, 9, 25]},\n",
       " {'userId': 952, 'Recommendation': [4, 6, 8, 25, 10]},\n",
       " {'userId': 953, 'Recommendation': [4, 6, 2, 5, 25]},\n",
       " {'userId': 954, 'Recommendation': [12, 10, 14, 25, 16]},\n",
       " {'userId': 955, 'Recommendation': [25, 10, 12, 16, 8]},\n",
       " {'userId': 956, 'Recommendation': [10, 12, 25, 14, 8]},\n",
       " {'userId': 957, 'Recommendation': [14, 12, 16, 13, 10]},\n",
       " {'userId': 958, 'Recommendation': [4, 6, 25, 8, 10]},\n",
       " {'userId': 959, 'Recommendation': [21, 23, 24, 13, 18]},\n",
       " {'userId': 960, 'Recommendation': [14, 16, 13, 12, 10]},\n",
       " {'userId': 961, 'Recommendation': [24, 21, 23, 18, 15]},\n",
       " {'userId': 962, 'Recommendation': [4, 6, 7, 25, 5]},\n",
       " {'userId': 963, 'Recommendation': [14, 13, 15, 16, 21]},\n",
       " {'userId': 964, 'Recommendation': [6, 4, 25, 7, 8]},\n",
       " {'userId': 965, 'Recommendation': [7, 5, 6, 11, 10]},\n",
       " {'userId': 966, 'Recommendation': [21, 23, 20, 18, 19]},\n",
       " {'userId': 967, 'Recommendation': [25, 6, 4, 10, 12]},\n",
       " {'userId': 968, 'Recommendation': [10, 25, 12, 8, 16]},\n",
       " {'userId': 969, 'Recommendation': [6, 4, 7, 5, 25]},\n",
       " {'userId': 970, 'Recommendation': [6, 4, 25, 10, 12]},\n",
       " {'userId': 971, 'Recommendation': [6, 4, 7, 5, 25]},\n",
       " {'userId': 972, 'Recommendation': [25, 10, 12, 16, 14]},\n",
       " {'userId': 973, 'Recommendation': [2, 4, 6, 9, 25]},\n",
       " {'userId': 974, 'Recommendation': [21, 13, 14, 16, 20]},\n",
       " {'userId': 975, 'Recommendation': [2, 4, 6, 9, 25]},\n",
       " {'userId': 976, 'Recommendation': [12, 14, 16, 10, 13]},\n",
       " {'userId': 977, 'Recommendation': [24, 30, 32, 27, 23]},\n",
       " {'userId': 978, 'Recommendation': [16, 25, 10, 12, 14]},\n",
       " {'userId': 979, 'Recommendation': [8, 12, 10, 25, 14]},\n",
       " {'userId': 980, 'Recommendation': [25, 6, 8, 10, 12]},\n",
       " {'userId': 981, 'Recommendation': [25, 16, 14, 13, 12]},\n",
       " {'userId': 982, 'Recommendation': [25, 16, 10, 14, 12]},\n",
       " {'userId': 983, 'Recommendation': [6, 7, 4, 10, 25]},\n",
       " {'userId': 984, 'Recommendation': [4, 6, 2, 9, 7]},\n",
       " {'userId': 985, 'Recommendation': [6, 4, 25, 7, 10]},\n",
       " {'userId': 986, 'Recommendation': [6, 7, 4, 10, 25]},\n",
       " {'userId': 987, 'Recommendation': [25, 8, 6, 10, 4]},\n",
       " {'userId': 988, 'Recommendation': [19, 20, 17, 15, 18]},\n",
       " {'userId': 989, 'Recommendation': [14, 13, 15, 16, 21]},\n",
       " {'userId': 990, 'Recommendation': [12, 16, 10, 14, 8]},\n",
       " {'userId': 991, 'Recommendation': [24, 30, 32, 27, 22]},\n",
       " {'userId': 992, 'Recommendation': [12, 10, 14, 25, 16]},\n",
       " {'userId': 993, 'Recommendation': [2, 4, 6, 9, 25]},\n",
       " {'userId': 994, 'Recommendation': [10, 12, 8, 7, 25]},\n",
       " {'userId': 995, 'Recommendation': [14, 10, 25, 12, 16]},\n",
       " {'userId': 996, 'Recommendation': [8, 12, 10, 25, 14]},\n",
       " {'userId': 997, 'Recommendation': [25, 6, 10, 12, 7]},\n",
       " {'userId': 998, 'Recommendation': [38, 30, 32, 24, 27]},\n",
       " {'userId': 999, 'Recommendation': [16, 14, 13, 21, 15]},\n",
       " {'userId': 1000, 'Recommendation': [10, 25, 12, 16, 14]},\n",
       " {'userId': 1001, 'Recommendation': [6, 4, 7, 10, 25]},\n",
       " {'userId': 1002, 'Recommendation': [25, 10, 8, 12, 7]},\n",
       " ...]"
      ]
     },
     "execution_count": 68,
     "metadata": {},
     "output_type": "execute_result"
    }
   ],
   "source": [
    "top_n_recommendations"
   ]
  },
  {
   "cell_type": "code",
   "execution_count": 69,
   "id": "9865826d-f3c1-46ba-8c55-5a6fa58bcf70",
   "metadata": {
    "id": "9865826d-f3c1-46ba-8c55-5a6fa58bcf70"
   },
   "outputs": [],
   "source": [
    "# Function to recommend top N loans not taken by the user\n",
    "def recommend_loans_not_taken(user_id, recommendations, actual_loans_taken, top_n):\n",
    "    taken_loans = set(actual_loans_taken.get(user_id, []))\n",
    "    recommended_loans = []\n",
    "    for rec in recommendations:\n",
    "        loan_id = list(rec.keys())[0]\n",
    "        if loan_id not in taken_loans:\n",
    "            recommended_loans.append(loan_id)\n",
    "            if len(recommended_loans) == top_n:\n",
    "                break\n",
    "    return recommended_loans\n",
    "\n",
    "# Define a dictionary to store actual loans taken by each user\n",
    "actual_loans_taken_dict = {record['userId']: record['loans'] for record in Actual_loans_taken}\n",
    "\n",
    "# Create a list to store recommendations for each user\n",
    "recommendations_for_users = []\n",
    "\n",
    "# Iterate over each user\n",
    "for rec_user in CosineSilty_first10:\n",
    "    user_id = rec_user['UserId']\n",
    "    recommendations = rec_user['Recommendation']\n",
    "    # Recommend top N loans not taken by the user\n",
    "    recommended_loans = recommend_loans_not_taken(user_id, recommendations, actual_loans_taken_dict, top_n=5)\n",
    "    recommendations_for_users.append({'UserId': user_id, 'Recommendations': recommended_loans})\n",
    "\n"
   ]
  },
  {
   "cell_type": "code",
   "execution_count": 71,
   "id": "94ef57ea-b190-4779-90ab-175cf477433d",
   "metadata": {},
   "outputs": [
    {
     "data": {
      "text/plain": [
       "[{'UserId': 1, 'Recommendations': [13, 20, 23, 19, 22]},\n",
       " {'UserId': 2, 'Recommendations': [12, 14, 15, 7, 21]},\n",
       " {'UserId': 3, 'Recommendations': [12, 7, 16, 14, 13]},\n",
       " {'UserId': 4, 'Recommendations': [6, 9, 25, 5, 7]},\n",
       " {'UserId': 5, 'Recommendations': [25, 12, 7, 14, 13]},\n",
       " {'UserId': 6, 'Recommendations': [10, 14, 25, 13, 15]},\n",
       " {'UserId': 7, 'Recommendations': [10, 7, 14, 8, 13]},\n",
       " {'UserId': 8, 'Recommendations': [14, 19, 23, 17, 22]},\n",
       " {'UserId': 9, 'Recommendations': [10, 25, 5, 12, 4]},\n",
       " {'UserId': 10, 'Recommendations': [9, 7, 10, 16, 14]},\n",
       " {'UserId': 11, 'Recommendations': [25, 7, 9, 5, 13]},\n",
       " {'UserId': 12, 'Recommendations': [25, 10, 12, 13, 15]},\n",
       " {'UserId': 13, 'Recommendations': [10, 12, 7, 16, 14]},\n",
       " {'UserId': 14, 'Recommendations': [13, 14, 15, 20, 18]},\n",
       " {'UserId': 15, 'Recommendations': [7, 9, 12, 16, 14]},\n",
       " {'UserId': 16, 'Recommendations': [14, 13, 10, 15, 21]},\n",
       " {'UserId': 17, 'Recommendations': [25, 7, 14, 13, 9]},\n",
       " {'UserId': 18, 'Recommendations': [10, 25, 12, 7, 16]},\n",
       " {'UserId': 19, 'Recommendations': [12, 25, 13, 7, 15]},\n",
       " {'UserId': 20, 'Recommendations': [12, 10, 25, 14, 7]},\n",
       " {'UserId': 21, 'Recommendations': [21, 23, 27, 18, 20]},\n",
       " {'UserId': 22, 'Recommendations': [4, 2, 25, 7, 10]},\n",
       " {'UserId': 23, 'Recommendations': [4, 6, 7, 25, 10]},\n",
       " {'UserId': 24, 'Recommendations': [12, 10, 13, 25, 15]},\n",
       " {'UserId': 25, 'Recommendations': [6, 25, 10, 8, 16]},\n",
       " {'UserId': 26, 'Recommendations': [12, 14, 25, 13, 16]},\n",
       " {'UserId': 27, 'Recommendations': [4, 7, 25, 10, 9]},\n",
       " {'UserId': 28, 'Recommendations': [12, 25, 7, 16, 13]},\n",
       " {'UserId': 29, 'Recommendations': [6, 9, 25, 7, 5]},\n",
       " {'UserId': 30, 'Recommendations': [12, 10, 16, 14, 13]},\n",
       " {'UserId': 31, 'Recommendations': [20, 13, 23, 19, 27]},\n",
       " {'UserId': 32, 'Recommendations': [10, 7, 12, 16, 14]},\n",
       " {'UserId': 33, 'Recommendations': [13, 21, 15, 20, 19]},\n",
       " {'UserId': 34, 'Recommendations': [25, 16, 13, 21, 20]},\n",
       " {'UserId': 35, 'Recommendations': [6, 9, 25, 7, 5]},\n",
       " {'UserId': 36, 'Recommendations': [10, 25, 14, 13, 7]},\n",
       " {'UserId': 37, 'Recommendations': [21, 15, 16, 18, 19]},\n",
       " {'UserId': 38, 'Recommendations': [25, 7, 9, 12, 5]},\n",
       " {'UserId': 39, 'Recommendations': [25, 7, 10, 9, 12]},\n",
       " {'UserId': 40, 'Recommendations': [12, 13, 25, 15, 21]},\n",
       " {'UserId': 41, 'Recommendations': [30, 24, 22, 23, 29]},\n",
       " {'UserId': 42, 'Recommendations': [10, 12, 16, 14, 13]},\n",
       " {'UserId': 43, 'Recommendations': [32, 22, 27, 18, 29]},\n",
       " {'UserId': 44, 'Recommendations': [10, 12, 7, 14, 16]},\n",
       " {'UserId': 45, 'Recommendations': [16, 13, 21, 14, 27]},\n",
       " {'UserId': 46, 'Recommendations': [4, 6, 9, 25, 5]},\n",
       " {'UserId': 47, 'Recommendations': [12, 10, 14, 25, 15]},\n",
       " {'UserId': 48, 'Recommendations': [25, 7, 10, 12, 5]},\n",
       " {'UserId': 49, 'Recommendations': [9, 25, 7, 5, 8]},\n",
       " {'UserId': 50, 'Recommendations': [14, 13, 12, 10, 15]},\n",
       " {'UserId': 51, 'Recommendations': [2, 9, 25, 5, 7]},\n",
       " {'UserId': 52, 'Recommendations': [6, 16, 14, 4, 7]},\n",
       " {'UserId': 53, 'Recommendations': [12, 25, 16, 13, 7]},\n",
       " {'UserId': 54, 'Recommendations': [25, 16, 11, 9, 13]},\n",
       " {'UserId': 55, 'Recommendations': [25, 14, 7, 13, 15]},\n",
       " {'UserId': 56, 'Recommendations': [12, 10, 14, 25, 13]},\n",
       " {'UserId': 57, 'Recommendations': [13, 16, 12, 19, 20]},\n",
       " {'UserId': 58, 'Recommendations': [9, 5, 7, 10, 16]},\n",
       " {'UserId': 59, 'Recommendations': [13, 15, 14, 23, 25]},\n",
       " {'UserId': 60, 'Recommendations': [6, 25, 7, 12, 16]},\n",
       " {'UserId': 61, 'Recommendations': [25, 7, 4, 12, 8]},\n",
       " {'UserId': 62, 'Recommendations': [25, 10, 12, 6, 7]},\n",
       " {'UserId': 63, 'Recommendations': [10, 25, 7, 12, 4]},\n",
       " {'UserId': 64, 'Recommendations': [6, 7, 11, 4, 10]},\n",
       " {'UserId': 65, 'Recommendations': [4, 25, 7, 12, 16]},\n",
       " {'UserId': 67, 'Recommendations': [13, 19, 23, 25, 12]},\n",
       " {'UserId': 68, 'Recommendations': [23, 20, 21, 18, 19]},\n",
       " {'UserId': 69, 'Recommendations': [12, 25, 16, 14, 13]},\n",
       " {'UserId': 70, 'Recommendations': [4, 6, 25, 7, 10]},\n",
       " {'UserId': 71, 'Recommendations': [9, 25, 7, 5, 10]},\n",
       " {'UserId': 72, 'Recommendations': [25, 10, 12, 7, 14]},\n",
       " {'UserId': 73, 'Recommendations': [25, 6, 4, 8, 16]},\n",
       " {'UserId': 74, 'Recommendations': [14, 13, 12, 15, 20]},\n",
       " {'UserId': 75, 'Recommendations': [16, 21, 13, 14, 15]},\n",
       " {'UserId': 76, 'Recommendations': [7, 25, 12, 8, 14]},\n",
       " {'UserId': 77, 'Recommendations': [25, 16, 14, 7, 6]},\n",
       " {'UserId': 78, 'Recommendations': [25, 6, 12, 7, 16]},\n",
       " {'UserId': 79, 'Recommendations': [14, 13, 12, 10, 15]},\n",
       " {'UserId': 80, 'Recommendations': [10, 25, 6, 11, 16]},\n",
       " {'UserId': 81, 'Recommendations': [25, 7, 10, 8, 9]},\n",
       " {'UserId': 82, 'Recommendations': [12, 10, 25, 14, 7]},\n",
       " {'UserId': 83, 'Recommendations': [6, 25, 7, 4, 10]},\n",
       " {'UserId': 84, 'Recommendations': [10, 12, 6, 7, 16]},\n",
       " {'UserId': 85, 'Recommendations': [14, 13, 19, 20, 7]},\n",
       " {'UserId': 86, 'Recommendations': [25, 14, 13, 11, 9]},\n",
       " {'UserId': 87, 'Recommendations': [6, 25, 9, 10, 7]},\n",
       " {'UserId': 88, 'Recommendations': [25, 7, 9, 10, 12]},\n",
       " {'UserId': 89, 'Recommendations': [14, 16, 8, 7, 15]},\n",
       " {'UserId': 90, 'Recommendations': [14, 25, 10, 12, 13]},\n",
       " {'UserId': 91, 'Recommendations': [6, 9, 10, 7, 12]},\n",
       " {'UserId': 92, 'Recommendations': [7, 25, 9, 10, 8]},\n",
       " {'UserId': 93, 'Recommendations': [14, 13, 19, 15, 25]},\n",
       " {'UserId': 94, 'Recommendations': [12, 25, 13, 15, 7]},\n",
       " {'UserId': 95, 'Recommendations': [7, 25, 12, 14, 16]},\n",
       " {'UserId': 96, 'Recommendations': [25, 4, 7, 9, 14]},\n",
       " {'UserId': 97, 'Recommendations': [25, 7, 10, 12, 16]},\n",
       " {'UserId': 98, 'Recommendations': [21, 13, 14, 15, 20]},\n",
       " {'UserId': 99, 'Recommendations': [6, 25, 5, 8, 9]},\n",
       " {'UserId': 100, 'Recommendations': [21, 20, 15, 13, 14]},\n",
       " {'UserId': 101, 'Recommendations': [10, 12, 14, 6, 8]},\n",
       " {'UserId': 102, 'Recommendations': [25, 7, 16, 13, 15]},\n",
       " {'UserId': 103, 'Recommendations': [4, 25, 7, 10, 9]},\n",
       " {'UserId': 104, 'Recommendations': [14, 16, 10, 12, 13]},\n",
       " {'UserId': 105, 'Recommendations': [6, 25, 7, 9, 12]},\n",
       " {'UserId': 106, 'Recommendations': [7, 25, 12, 14, 16]},\n",
       " {'UserId': 107, 'Recommendations': [6, 7, 25, 10, 12]},\n",
       " {'UserId': 108, 'Recommendations': [25, 4, 10, 7, 12]},\n",
       " {'UserId': 109, 'Recommendations': [36, 35, 24, 38, 22]},\n",
       " {'UserId': 110, 'Recommendations': [13, 14, 20, 15, 19]},\n",
       " {'UserId': 111, 'Recommendations': [12, 14, 25, 13, 7]},\n",
       " {'UserId': 112, 'Recommendations': [13, 20, 15, 23, 18]},\n",
       " {'UserId': 113, 'Recommendations': [25, 13, 16, 12, 15]},\n",
       " {'UserId': 114, 'Recommendations': [4, 6, 7, 25, 10]},\n",
       " {'UserId': 115, 'Recommendations': [25, 9, 10, 8, 12]},\n",
       " {'UserId': 116, 'Recommendations': [15, 23, 21, 18, 27]},\n",
       " {'UserId': 117, 'Recommendations': [25, 13, 7, 15, 21]},\n",
       " {'UserId': 118, 'Recommendations': [25, 12, 9, 16, 14]},\n",
       " {'UserId': 119, 'Recommendations': [21, 13, 23, 15, 18]},\n",
       " {'UserId': 120, 'Recommendations': [4, 6, 9, 25, 5]},\n",
       " {'UserId': 121, 'Recommendations': [25, 12, 7, 13, 6]},\n",
       " {'UserId': 122, 'Recommendations': [20, 14, 13, 19, 17]},\n",
       " {'UserId': 123, 'Recommendations': [22, 23, 18, 20, 13]},\n",
       " {'UserId': 124, 'Recommendations': [25, 6, 10, 16, 12]},\n",
       " {'UserId': 125, 'Recommendations': [14, 12, 20, 19, 18]},\n",
       " {'UserId': 126, 'Recommendations': [25, 10, 7, 16, 9]},\n",
       " {'UserId': 127, 'Recommendations': [12, 25, 7, 14, 16]},\n",
       " {'UserId': 128, 'Recommendations': [13, 14, 12, 25, 10]},\n",
       " {'UserId': 129, 'Recommendations': [18, 23, 21, 15, 13]},\n",
       " {'UserId': 130, 'Recommendations': [25, 16, 13, 19, 11]},\n",
       " {'UserId': 131, 'Recommendations': [13, 14, 21, 15, 20]},\n",
       " {'UserId': 132, 'Recommendations': [4, 6, 9, 25, 5]},\n",
       " {'UserId': 133, 'Recommendations': [10, 12, 16, 14, 13]},\n",
       " {'UserId': 134, 'Recommendations': [4, 7, 12, 9, 14]},\n",
       " {'UserId': 135, 'Recommendations': [21, 15, 19, 23, 13]},\n",
       " {'UserId': 136, 'Recommendations': [25, 10, 12, 7, 16]},\n",
       " {'UserId': 137, 'Recommendations': [6, 9, 25, 7, 8]},\n",
       " {'UserId': 138, 'Recommendations': [13, 14, 20, 15, 19]},\n",
       " {'UserId': 139, 'Recommendations': [25, 12, 7, 16, 13]},\n",
       " {'UserId': 140, 'Recommendations': [4, 6, 9, 25, 5]},\n",
       " {'UserId': 141, 'Recommendations': [6, 10, 9, 12, 7]},\n",
       " {'UserId': 142, 'Recommendations': [13, 14, 21, 15, 20]},\n",
       " {'UserId': 143, 'Recommendations': [10, 25, 12, 14, 5]},\n",
       " {'UserId': 144, 'Recommendations': [35, 36, 26, 32, 34]},\n",
       " {'UserId': 145, 'Recommendations': [33, 32, 38, 34, 22]},\n",
       " {'UserId': 146, 'Recommendations': [10, 12, 25, 7, 13]},\n",
       " {'UserId': 147, 'Recommendations': [13, 14, 12, 21, 25]},\n",
       " {'UserId': 148, 'Recommendations': [25, 9, 7, 10, 13]},\n",
       " {'UserId': 149, 'Recommendations': [6, 9, 25, 7, 8]},\n",
       " {'UserId': 150, 'Recommendations': [7, 10, 25, 8, 14]},\n",
       " {'UserId': 151, 'Recommendations': [20, 13, 14, 18, 15]},\n",
       " {'UserId': 152, 'Recommendations': [10, 14, 13, 8, 7]},\n",
       " {'UserId': 153, 'Recommendations': [14, 10, 13, 16, 17]},\n",
       " {'UserId': 154, 'Recommendations': [13, 16, 12, 10, 15]},\n",
       " {'UserId': 155, 'Recommendations': [14, 13, 12, 15, 20]},\n",
       " {'UserId': 156, 'Recommendations': [14, 16, 13, 21, 20]},\n",
       " {'UserId': 157, 'Recommendations': [13, 20, 19, 27, 17]},\n",
       " {'UserId': 158, 'Recommendations': [13, 21, 15, 12, 20]},\n",
       " {'UserId': 159, 'Recommendations': [6, 10, 25, 8, 12]},\n",
       " {'UserId': 160, 'Recommendations': [25, 12, 14, 13, 15]},\n",
       " {'UserId': 161, 'Recommendations': [25, 10, 6, 12, 7]},\n",
       " {'UserId': 162, 'Recommendations': [23, 22, 27, 18, 15]},\n",
       " {'UserId': 163, 'Recommendations': [9, 25, 5, 7, 8]},\n",
       " {'UserId': 164, 'Recommendations': [14, 13, 10, 25, 15]},\n",
       " {'UserId': 165, 'Recommendations': [14, 13, 16, 12, 25]},\n",
       " {'UserId': 166, 'Recommendations': [23, 22, 18, 15, 13]},\n",
       " {'UserId': 167, 'Recommendations': [16, 13, 14, 21, 12]},\n",
       " {'UserId': 168, 'Recommendations': [6, 9, 25, 7, 5]},\n",
       " {'UserId': 169, 'Recommendations': [25, 6, 10, 16, 12]},\n",
       " {'UserId': 170, 'Recommendations': [4, 25, 10, 5, 12]},\n",
       " {'UserId': 171, 'Recommendations': [25, 7, 12, 8, 9]},\n",
       " {'UserId': 172, 'Recommendations': [25, 12, 14, 7, 6]},\n",
       " {'UserId': 173, 'Recommendations': [13, 14, 15, 20, 18]},\n",
       " {'UserId': 174, 'Recommendations': [6, 10, 12, 7, 8]},\n",
       " {'UserId': 175, 'Recommendations': [25, 10, 12, 7, 14]},\n",
       " {'UserId': 176, 'Recommendations': [14, 13, 15, 16, 21]},\n",
       " {'UserId': 177, 'Recommendations': [14, 25, 13, 7, 17]},\n",
       " {'UserId': 178, 'Recommendations': [4, 25, 7, 10, 8]},\n",
       " {'UserId': 179, 'Recommendations': [10, 12, 25, 7, 16]},\n",
       " {'UserId': 180, 'Recommendations': [14, 15, 13, 19, 21]},\n",
       " {'UserId': 181, 'Recommendations': [15, 20, 19, 17, 7]},\n",
       " {'UserId': 182, 'Recommendations': [10, 12, 25, 14, 16]},\n",
       " {'UserId': 183, 'Recommendations': [20, 13, 15, 14, 16]},\n",
       " {'UserId': 184, 'Recommendations': [36, 35, 26, 30, 38]},\n",
       " {'UserId': 185, 'Recommendations': [7, 10, 25, 12, 14]},\n",
       " {'UserId': 186, 'Recommendations': [13, 12, 10, 25, 20]},\n",
       " {'UserId': 187, 'Recommendations': [25, 13, 15, 7, 21]},\n",
       " {'UserId': 188, 'Recommendations': [14, 12, 13, 21, 19]},\n",
       " {'UserId': 189, 'Recommendations': [21, 20, 18, 13, 14]},\n",
       " {'UserId': 190, 'Recommendations': [25, 12, 7, 13, 19]},\n",
       " {'UserId': 191, 'Recommendations': [21, 13, 18, 20, 25]},\n",
       " {'UserId': 192, 'Recommendations': [25, 13, 19, 21, 20]},\n",
       " {'UserId': 193, 'Recommendations': [6, 25, 10, 7, 12]},\n",
       " {'UserId': 194, 'Recommendations': [10, 12, 25, 7, 14]},\n",
       " {'UserId': 195, 'Recommendations': [6, 25, 9, 10, 7]},\n",
       " {'UserId': 196, 'Recommendations': [4, 6, 25, 7, 8]},\n",
       " {'UserId': 197, 'Recommendations': [6, 9, 7, 25, 10]},\n",
       " {'UserId': 198, 'Recommendations': [25, 10, 7, 4, 14]},\n",
       " {'UserId': 199, 'Recommendations': [4, 6, 9, 25, 7]},\n",
       " {'UserId': 200, 'Recommendations': [23, 15, 16, 18, 27]},\n",
       " {'UserId': 201, 'Recommendations': [12, 25, 14, 16, 7]},\n",
       " {'UserId': 202, 'Recommendations': [10, 25, 7, 12, 14]},\n",
       " {'UserId': 203, 'Recommendations': [13, 15, 20, 12, 25]},\n",
       " {'UserId': 204, 'Recommendations': [21, 13, 16, 15, 20]},\n",
       " {'UserId': 205, 'Recommendations': [10, 12, 25, 14, 7]},\n",
       " {'UserId': 206, 'Recommendations': [6, 25, 10, 7, 12]},\n",
       " {'UserId': 207, 'Recommendations': [25, 10, 7, 15, 11]},\n",
       " {'UserId': 208, 'Recommendations': [25, 10, 8, 12, 11]},\n",
       " {'UserId': 209, 'Recommendations': [12, 25, 14, 13, 7]},\n",
       " {'UserId': 210, 'Recommendations': [6, 25, 7, 9, 10]},\n",
       " {'UserId': 211, 'Recommendations': [21, 20, 15, 19, 13]},\n",
       " {'UserId': 212, 'Recommendations': [6, 10, 12, 8, 7]},\n",
       " {'UserId': 213, 'Recommendations': [25, 20, 19, 17, 7]},\n",
       " {'UserId': 214, 'Recommendations': [7, 25, 14, 16, 11]},\n",
       " {'UserId': 215, 'Recommendations': [10, 12, 25, 7, 14]},\n",
       " {'UserId': 216, 'Recommendations': [27, 22, 23, 32, 18]},\n",
       " {'UserId': 217, 'Recommendations': [13, 14, 20, 18, 17]},\n",
       " {'UserId': 218, 'Recommendations': [14, 13, 10, 19, 25]},\n",
       " {'UserId': 219, 'Recommendations': [7, 10, 12, 25, 6]},\n",
       " {'UserId': 220, 'Recommendations': [25, 4, 10, 16, 7]},\n",
       " {'UserId': 221, 'Recommendations': [14, 10, 25, 12, 16]},\n",
       " {'UserId': 222, 'Recommendations': [25, 10, 12, 16, 7]},\n",
       " {'UserId': 223, 'Recommendations': [10, 7, 16, 13, 11]},\n",
       " {'UserId': 224, 'Recommendations': [4, 25, 7, 10, 8]},\n",
       " {'UserId': 225, 'Recommendations': [13, 14, 12, 10, 21]},\n",
       " {'UserId': 226, 'Recommendations': [25, 7, 12, 9, 16]},\n",
       " {'UserId': 227, 'Recommendations': [38, 28, 34, 32, 33]},\n",
       " {'UserId': 228, 'Recommendations': [25, 10, 12, 7, 4]},\n",
       " {'UserId': 229, 'Recommendations': [18, 13, 15, 19, 14]},\n",
       " {'UserId': 230, 'Recommendations': [10, 13, 7, 21, 20]},\n",
       " {'UserId': 231, 'Recommendations': [14, 13, 12, 15, 21]},\n",
       " {'UserId': 232, 'Recommendations': [6, 25, 7, 10, 9]},\n",
       " {'UserId': 233, 'Recommendations': [6, 9, 25, 5, 7]},\n",
       " {'UserId': 234, 'Recommendations': [25, 7, 10, 9, 8]},\n",
       " {'UserId': 235, 'Recommendations': [10, 25, 12, 7, 16]},\n",
       " {'UserId': 236, 'Recommendations': [25, 6, 10, 12, 9]},\n",
       " {'UserId': 237, 'Recommendations': [25, 9, 12, 11, 13]},\n",
       " {'UserId': 238, 'Recommendations': [10, 25, 12, 14, 16]},\n",
       " {'UserId': 239, 'Recommendations': [14, 13, 21, 19, 25]},\n",
       " {'UserId': 240, 'Recommendations': [20, 18, 13, 19, 14]},\n",
       " {'UserId': 241, 'Recommendations': [30, 23, 18, 27, 29]},\n",
       " {'UserId': 242, 'Recommendations': [16, 14, 13, 25, 21]},\n",
       " {'UserId': 243, 'Recommendations': [25, 14, 16, 13, 15]},\n",
       " {'UserId': 244, 'Recommendations': [7, 10, 25, 12, 14]},\n",
       " {'UserId': 245, 'Recommendations': [10, 12, 25, 16, 14]},\n",
       " {'UserId': 246, 'Recommendations': [10, 7, 9, 13, 5]},\n",
       " {'UserId': 247, 'Recommendations': [14, 15, 25, 20, 10]},\n",
       " {'UserId': 248, 'Recommendations': [22, 27, 32, 23, 18]},\n",
       " {'UserId': 249, 'Recommendations': [6, 9, 7, 25, 10]},\n",
       " {'UserId': 250, 'Recommendations': [24, 16, 15, 27, 23]},\n",
       " {'UserId': 251, 'Recommendations': [12, 13, 16, 10, 25]},\n",
       " {'UserId': 252, 'Recommendations': [12, 25, 14, 7, 16]},\n",
       " {'UserId': 253, 'Recommendations': [21, 13, 22, 18, 27]},\n",
       " {'UserId': 254, 'Recommendations': [25, 10, 7, 16, 14]},\n",
       " {'UserId': 255, 'Recommendations': [16, 10, 14, 13, 7]},\n",
       " {'UserId': 256, 'Recommendations': [12, 10, 16, 13, 7]},\n",
       " {'UserId': 257, 'Recommendations': [14, 13, 16, 21, 15]},\n",
       " {'UserId': 258, 'Recommendations': [14, 13, 12, 10, 15]},\n",
       " {'UserId': 259, 'Recommendations': [4, 25, 7, 9, 10]},\n",
       " {'UserId': 260, 'Recommendations': [25, 10, 6, 4, 12]},\n",
       " {'UserId': 261, 'Recommendations': [25, 10, 12, 16, 6]},\n",
       " {'UserId': 262, 'Recommendations': [16, 7, 15, 21, 19]},\n",
       " {'UserId': 263, 'Recommendations': [14, 12, 10, 16, 13]},\n",
       " {'UserId': 264, 'Recommendations': [13, 14, 12, 25, 10]},\n",
       " {'UserId': 265, 'Recommendations': [12, 14, 13, 10, 15]},\n",
       " {'UserId': 266, 'Recommendations': [13, 20, 14, 15, 17]},\n",
       " {'UserId': 267, 'Recommendations': [13, 20, 25, 23, 7]},\n",
       " {'UserId': 268, 'Recommendations': [4, 6, 9, 25, 5]},\n",
       " {'UserId': 269, 'Recommendations': [6, 9, 25, 7, 8]},\n",
       " {'UserId': 270, 'Recommendations': [7, 25, 10, 9, 12]},\n",
       " {'UserId': 271, 'Recommendations': [12, 10, 25, 14, 16]},\n",
       " {'UserId': 272, 'Recommendations': [7, 25, 10, 12, 9]},\n",
       " {'UserId': 273, 'Recommendations': [25, 10, 12, 16, 14]},\n",
       " {'UserId': 274, 'Recommendations': [25, 7, 12, 16, 13]},\n",
       " {'UserId': 275, 'Recommendations': [10, 7, 25, 12, 14]},\n",
       " {'UserId': 276, 'Recommendations': [6, 7, 25, 9, 10]},\n",
       " {'UserId': 277, 'Recommendations': [4, 6, 10, 12, 8]},\n",
       " {'UserId': 278, 'Recommendations': [12, 25, 7, 16, 13]},\n",
       " {'UserId': 279, 'Recommendations': [7, 13, 15, 11, 19]},\n",
       " {'UserId': 280, 'Recommendations': [14, 7, 21, 19, 20]},\n",
       " {'UserId': 281, 'Recommendations': [25, 10, 7, 12, 16]},\n",
       " {'UserId': 282, 'Recommendations': [12, 14, 13, 10, 25]},\n",
       " {'UserId': 283, 'Recommendations': [25, 7, 16, 14, 13]},\n",
       " {'UserId': 284, 'Recommendations': [10, 7, 12, 9, 14]},\n",
       " {'UserId': 285, 'Recommendations': [25, 12, 14, 8, 7]},\n",
       " {'UserId': 286, 'Recommendations': [4, 6, 25, 7, 9]},\n",
       " {'UserId': 287, 'Recommendations': [12, 25, 16, 13, 7]},\n",
       " {'UserId': 288, 'Recommendations': [10, 12, 25, 16, 13]},\n",
       " {'UserId': 289, 'Recommendations': [16, 13, 21, 14, 15]},\n",
       " {'UserId': 290, 'Recommendations': [25, 7, 12, 9, 16]},\n",
       " {'UserId': 291, 'Recommendations': [12, 25, 7, 14, 16]},\n",
       " {'UserId': 292, 'Recommendations': [16, 25, 13, 21, 15]},\n",
       " {'UserId': 293, 'Recommendations': [7, 25, 10, 9, 8]},\n",
       " {'UserId': 294, 'Recommendations': [14, 21, 20, 15, 19]},\n",
       " {'UserId': 295, 'Recommendations': [6, 9, 25, 7, 5]},\n",
       " {'UserId': 296, 'Recommendations': [10, 7, 25, 12, 14]},\n",
       " {'UserId': 297, 'Recommendations': [10, 25, 7, 8, 14]},\n",
       " {'UserId': 298, 'Recommendations': [10, 25, 12, 7, 14]},\n",
       " {'UserId': 299, 'Recommendations': [10, 14, 25, 13, 8]},\n",
       " {'UserId': 300, 'Recommendations': [22, 20, 29, 15, 13]},\n",
       " {'UserId': 301, 'Recommendations': [21, 23, 18, 20, 22]},\n",
       " {'UserId': 302, 'Recommendations': [25, 10, 12, 6, 7]},\n",
       " {'UserId': 303, 'Recommendations': [10, 12, 7, 8, 16]},\n",
       " {'UserId': 304, 'Recommendations': [13, 15, 20, 18, 23]},\n",
       " {'UserId': 305, 'Recommendations': [25, 16, 14, 13, 7]},\n",
       " {'UserId': 306, 'Recommendations': [13, 21, 15, 12, 20]},\n",
       " {'UserId': 307, 'Recommendations': [12, 14, 13, 10, 25]},\n",
       " {'UserId': 308, 'Recommendations': [27, 22, 23, 30, 21]},\n",
       " {'UserId': 309, 'Recommendations': [13, 14, 12, 10, 21]},\n",
       " {'UserId': 310, 'Recommendations': [25, 4, 10, 7, 12]},\n",
       " {'UserId': 311, 'Recommendations': [14, 15, 20, 12, 18]},\n",
       " {'UserId': 312, 'Recommendations': [12, 25, 14, 13, 7]},\n",
       " {'UserId': 313, 'Recommendations': [14, 13, 16, 15, 20]},\n",
       " {'UserId': 314, 'Recommendations': [12, 14, 7, 16, 6]},\n",
       " {'UserId': 315, 'Recommendations': [21, 23, 27, 22, 16]},\n",
       " {'UserId': 316, 'Recommendations': [12, 25, 14, 13, 7]},\n",
       " {'UserId': 317, 'Recommendations': [10, 12, 14, 13, 19]},\n",
       " {'UserId': 318, 'Recommendations': [13, 23, 14, 20, 15]},\n",
       " {'UserId': 319, 'Recommendations': [7, 12, 8, 16, 14]},\n",
       " {'UserId': 320, 'Recommendations': [13, 19, 20, 12, 17]},\n",
       " {'UserId': 321, 'Recommendations': [16, 14, 25, 13, 15]},\n",
       " {'UserId': 322, 'Recommendations': [16, 13, 14, 21, 15]},\n",
       " {'UserId': 323, 'Recommendations': [14, 15, 16, 20, 12]},\n",
       " {'UserId': 324, 'Recommendations': [6, 9, 7, 25, 10]},\n",
       " {'UserId': 325, 'Recommendations': [14, 13, 12, 15, 20]},\n",
       " {'UserId': 326, 'Recommendations': [7, 10, 9, 12, 16]},\n",
       " {'UserId': 327, 'Recommendations': [14, 13, 20, 15, 21]},\n",
       " {'UserId': 328, 'Recommendations': [21, 14, 15, 20, 18]},\n",
       " {'UserId': 329, 'Recommendations': [14, 16, 11, 15, 19]},\n",
       " {'UserId': 330, 'Recommendations': [25, 10, 12, 6, 8]},\n",
       " {'UserId': 331, 'Recommendations': [13, 20, 19, 27, 17]},\n",
       " {'UserId': 332, 'Recommendations': [6, 9, 25, 7, 5]},\n",
       " {'UserId': 333, 'Recommendations': [22, 27, 23, 18, 32]},\n",
       " {'UserId': 334, 'Recommendations': [20, 13, 23, 14, 19]},\n",
       " {'UserId': 335, 'Recommendations': [10, 14, 16, 25, 13]},\n",
       " {'UserId': 336, 'Recommendations': [20, 14, 15, 23, 17]},\n",
       " {'UserId': 337, 'Recommendations': [25, 10, 12, 14, 16]},\n",
       " {'UserId': 338, 'Recommendations': [35, 36, 30, 26, 32]},\n",
       " {'UserId': 339, 'Recommendations': [25, 12, 14, 10, 13]},\n",
       " {'UserId': 340, 'Recommendations': [25, 12, 14, 16, 7]},\n",
       " {'UserId': 341, 'Recommendations': [10, 7, 12, 14, 13]},\n",
       " {'UserId': 342, 'Recommendations': [10, 25, 14, 7, 13]},\n",
       " {'UserId': 343, 'Recommendations': [14, 13, 16, 15, 20]},\n",
       " {'UserId': 344, 'Recommendations': [23, 18, 20, 13, 15]},\n",
       " {'UserId': 345, 'Recommendations': [10, 12, 14, 13, 7]},\n",
       " {'UserId': 346, 'Recommendations': [2, 25, 7, 10, 8]},\n",
       " {'UserId': 347, 'Recommendations': [25, 10, 12, 14, 7]},\n",
       " {'UserId': 348, 'Recommendations': [4, 25, 5, 10, 9]},\n",
       " {'UserId': 349, 'Recommendations': [12, 25, 15, 21, 20]},\n",
       " {'UserId': 350, 'Recommendations': [6, 9, 25, 5, 7]},\n",
       " {'UserId': 351, 'Recommendations': [12, 16, 13, 19, 15]},\n",
       " {'UserId': 352, 'Recommendations': [12, 25, 7, 14, 16]},\n",
       " {'UserId': 353, 'Recommendations': [22, 20, 13, 27, 16]},\n",
       " {'UserId': 354, 'Recommendations': [7, 10, 25, 12, 14]},\n",
       " {'UserId': 355, 'Recommendations': [10, 12, 7, 14, 16]},\n",
       " {'UserId': 356, 'Recommendations': [4, 25, 7, 9, 10]},\n",
       " {'UserId': 357, 'Recommendations': [16, 13, 21, 20, 19]},\n",
       " {'UserId': 358, 'Recommendations': [6, 25, 2, 9, 7]},\n",
       " {'UserId': 359, 'Recommendations': [4, 6, 25, 10, 9]},\n",
       " {'UserId': 360, 'Recommendations': [14, 10, 12, 16, 25]},\n",
       " {'UserId': 361, 'Recommendations': [14, 12, 16, 25, 15]},\n",
       " {'UserId': 362, 'Recommendations': [23, 22, 18, 27, 20]},\n",
       " {'UserId': 363, 'Recommendations': [16, 21, 13, 14, 15]},\n",
       " {'UserId': 364, 'Recommendations': [4, 6, 9, 25, 7]},\n",
       " {'UserId': 365, 'Recommendations': [25, 14, 16, 7, 8]},\n",
       " {'UserId': 366, 'Recommendations': [21, 24, 27, 23, 13]},\n",
       " {'UserId': 367, 'Recommendations': [6, 25, 10, 7, 12]},\n",
       " {'UserId': 368, 'Recommendations': [10, 7, 25, 12, 14]},\n",
       " {'UserId': 369, 'Recommendations': [12, 10, 25, 14, 7]},\n",
       " {'UserId': 370, 'Recommendations': [4, 6, 9, 25, 5]},\n",
       " {'UserId': 371, 'Recommendations': [25, 7, 14, 16, 13]},\n",
       " {'UserId': 372, 'Recommendations': [25, 10, 12, 7, 6]},\n",
       " {'UserId': 373, 'Recommendations': [16, 13, 25, 20, 19]},\n",
       " {'UserId': 374, 'Recommendations': [14, 12, 10, 13, 15]},\n",
       " {'UserId': 375, 'Recommendations': [7, 9, 13, 5, 15]},\n",
       " {'UserId': 376, 'Recommendations': [12, 25, 8, 16, 14]},\n",
       " {'UserId': 377, 'Recommendations': [14, 13, 20, 19, 25]},\n",
       " {'UserId': 378, 'Recommendations': [6, 9, 25, 7, 10]},\n",
       " {'UserId': 379, 'Recommendations': [14, 13, 19, 11, 20]},\n",
       " {'UserId': 380, 'Recommendations': [14, 12, 16, 13, 15]},\n",
       " {'UserId': 381, 'Recommendations': [12, 10, 14, 13, 7]},\n",
       " {'UserId': 382, 'Recommendations': [25, 4, 6, 27, 14]},\n",
       " {'UserId': 383, 'Recommendations': [25, 10, 14, 13, 7]},\n",
       " {'UserId': 384, 'Recommendations': [14, 10, 16, 25, 13]},\n",
       " {'UserId': 385, 'Recommendations': [13, 12, 21, 15, 25]},\n",
       " {'UserId': 386, 'Recommendations': [12, 10, 14, 25, 13]},\n",
       " {'UserId': 387, 'Recommendations': [36, 30, 26, 22, 34]},\n",
       " {'UserId': 388, 'Recommendations': [25, 7, 8, 9, 16]},\n",
       " {'UserId': 389, 'Recommendations': [16, 14, 13, 25, 12]},\n",
       " {'UserId': 390, 'Recommendations': [4, 6, 9, 5, 7]},\n",
       " {'UserId': 391, 'Recommendations': [10, 25, 12, 16, 14]},\n",
       " {'UserId': 392, 'Recommendations': [4, 6, 25, 10, 7]},\n",
       " {'UserId': 393, 'Recommendations': [9, 25, 7, 5, 10]},\n",
       " {'UserId': 394, 'Recommendations': [13, 15, 14, 19, 23]},\n",
       " {'UserId': 395, 'Recommendations': [25, 10, 7, 12, 9]},\n",
       " {'UserId': 396, 'Recommendations': [13, 14, 21, 25, 20]},\n",
       " {'UserId': 397, 'Recommendations': [12, 14, 13, 11, 19]},\n",
       " {'UserId': 398, 'Recommendations': [13, 15, 21, 20, 19]},\n",
       " {'UserId': 399, 'Recommendations': [10, 25, 12, 7, 16]},\n",
       " {'UserId': 400, 'Recommendations': [12, 10, 14, 13, 15]},\n",
       " {'UserId': 401, 'Recommendations': [27, 22, 23, 21, 18]},\n",
       " {'UserId': 402, 'Recommendations': [19, 15, 14, 20, 16]},\n",
       " {'UserId': 403, 'Recommendations': [21, 20, 15, 19, 17]},\n",
       " {'UserId': 404, 'Recommendations': [25, 12, 7, 16, 14]},\n",
       " {'UserId': 405, 'Recommendations': [25, 7, 12, 14, 16]},\n",
       " {'UserId': 406, 'Recommendations': [12, 10, 14, 13, 15]},\n",
       " {'UserId': 407, 'Recommendations': [12, 10, 13, 25, 15]},\n",
       " {'UserId': 408, 'Recommendations': [25, 12, 16, 13, 5]},\n",
       " {'UserId': 409, 'Recommendations': [10, 12, 7, 14, 16]},\n",
       " {'UserId': 410, 'Recommendations': [10, 12, 25, 14, 7]},\n",
       " {'UserId': 411, 'Recommendations': [25, 10, 14, 12, 13]},\n",
       " {'UserId': 412, 'Recommendations': [10, 12, 25, 14, 7]},\n",
       " {'UserId': 413, 'Recommendations': [13, 25, 20, 19, 7]},\n",
       " {'UserId': 414, 'Recommendations': [10, 13, 15, 7, 19]},\n",
       " {'UserId': 415, 'Recommendations': [10, 12, 14, 7, 13]},\n",
       " {'UserId': 416, 'Recommendations': [4, 6, 9, 25, 5]},\n",
       " {'UserId': 417, 'Recommendations': [21, 13, 20, 15, 18]},\n",
       " {'UserId': 418, 'Recommendations': [12, 10, 14, 13, 7]},\n",
       " {'UserId': 419, 'Recommendations': [6, 9, 25, 7, 5]},\n",
       " {'UserId': 420, 'Recommendations': [12, 14, 7, 8, 13]},\n",
       " {'UserId': 421, 'Recommendations': [13, 20, 15, 19, 18]},\n",
       " {'UserId': 422, 'Recommendations': [4, 6, 9, 7, 5]},\n",
       " {'UserId': 423, 'Recommendations': [13, 21, 16, 15, 20]},\n",
       " {'UserId': 424, 'Recommendations': [10, 12, 7, 14, 13]},\n",
       " {'UserId': 425, 'Recommendations': [9, 25, 5, 7, 8]},\n",
       " {'UserId': 426, 'Recommendations': [12, 25, 14, 13, 7]},\n",
       " {'UserId': 427, 'Recommendations': [16, 10, 14, 7, 13]},\n",
       " {'UserId': 428, 'Recommendations': [4, 6, 9, 25, 5]},\n",
       " {'UserId': 429, 'Recommendations': [14, 13, 16, 19, 20]},\n",
       " {'UserId': 430, 'Recommendations': [13, 12, 10, 15, 21]},\n",
       " {'UserId': 431, 'Recommendations': [30, 24, 27, 22, 23]},\n",
       " {'UserId': 432, 'Recommendations': [6, 9, 25, 7, 10]},\n",
       " {'UserId': 433, 'Recommendations': [10, 25, 14, 7, 15]},\n",
       " {'UserId': 434, 'Recommendations': [9, 25, 7, 5, 10]},\n",
       " {'UserId': 435, 'Recommendations': [12, 25, 13, 15, 21]},\n",
       " {'UserId': 436, 'Recommendations': [13, 14, 12, 25, 10]},\n",
       " {'UserId': 437, 'Recommendations': [12, 10, 25, 14, 7]},\n",
       " {'UserId': 438, 'Recommendations': [4, 6, 9, 25, 5]},\n",
       " {'UserId': 439, 'Recommendations': [15, 20, 7, 18, 23]},\n",
       " {'UserId': 440, 'Recommendations': [7, 25, 9, 8, 12]},\n",
       " {'UserId': 441, 'Recommendations': [25, 10, 12, 6, 14]},\n",
       " {'UserId': 442, 'Recommendations': [7, 25, 10, 9, 8]},\n",
       " {'UserId': 443, 'Recommendations': [12, 25, 7, 14, 16]},\n",
       " {'UserId': 444, 'Recommendations': [7, 10, 11, 25, 4]},\n",
       " {'UserId': 445, 'Recommendations': [10, 12, 25, 7, 14]},\n",
       " {'UserId': 446, 'Recommendations': [20, 13, 16, 15, 19]},\n",
       " {'UserId': 447, 'Recommendations': [10, 14, 13, 15, 7]},\n",
       " {'UserId': 448, 'Recommendations': [13, 25, 21, 19, 20]},\n",
       " {'UserId': 449, 'Recommendations': [14, 10, 16, 12, 13]},\n",
       " {'UserId': 450, 'Recommendations': [35, 36, 30, 32, 22]},\n",
       " {'UserId': 451, 'Recommendations': [25, 7, 9, 5, 12]},\n",
       " {'UserId': 452, 'Recommendations': [12, 7, 16, 8, 13]},\n",
       " {'UserId': 453, 'Recommendations': [7, 15, 19, 20, 17]},\n",
       " {'UserId': 454, 'Recommendations': [25, 7, 10, 12, 16]},\n",
       " {'UserId': 455, 'Recommendations': [6, 7, 25, 4, 8]},\n",
       " {'UserId': 456, 'Recommendations': [19, 17, 10, 23, 22]},\n",
       " {'UserId': 457, 'Recommendations': [24, 23, 22, 18, 20]},\n",
       " {'UserId': 458, 'Recommendations': [13, 15, 12, 20, 25]},\n",
       " {'UserId': 459, 'Recommendations': [7, 10, 25, 12, 11]},\n",
       " {'UserId': 460, 'Recommendations': [25, 14, 13, 7, 20]},\n",
       " {'UserId': 461, 'Recommendations': [7, 10, 11, 25, 4]},\n",
       " {'UserId': 462, 'Recommendations': [22, 23, 18, 20, 15]},\n",
       " {'UserId': 463, 'Recommendations': [12, 14, 13, 10, 25]},\n",
       " {'UserId': 464, 'Recommendations': [23, 15, 18, 20, 22]},\n",
       " {'UserId': 465, 'Recommendations': [20, 13, 14, 24, 27]},\n",
       " {'UserId': 466, 'Recommendations': [21, 19, 20, 17, 8]},\n",
       " {'UserId': 467, 'Recommendations': [10, 13, 14, 15, 21]},\n",
       " {'UserId': 468, 'Recommendations': [25, 16, 14, 13, 15]},\n",
       " {'UserId': 469, 'Recommendations': [7, 12, 14, 6, 11]},\n",
       " {'UserId': 470, 'Recommendations': [4, 25, 9, 10, 5]},\n",
       " {'UserId': 471, 'Recommendations': [22, 20, 21, 19, 27]},\n",
       " {'UserId': 472, 'Recommendations': [19, 25, 21, 14, 13]},\n",
       " {'UserId': 473, 'Recommendations': [32, 27, 22, 23, 18]},\n",
       " {'UserId': 474, 'Recommendations': [25, 6, 8, 7, 16]},\n",
       " {'UserId': 475, 'Recommendations': [25, 12, 10, 14, 13]},\n",
       " {'UserId': 476, 'Recommendations': [6, 25, 10, 7, 9]},\n",
       " {'UserId': 477, 'Recommendations': [25, 10, 9, 12, 16]},\n",
       " {'UserId': 478, 'Recommendations': [13, 14, 19, 17, 22]},\n",
       " {'UserId': 479, 'Recommendations': [10, 7, 25, 12, 14]},\n",
       " {'UserId': 480, 'Recommendations': [12, 10, 14, 13, 8]},\n",
       " {'UserId': 481, 'Recommendations': [10, 8, 12, 9, 16]},\n",
       " {'UserId': 482, 'Recommendations': [25, 12, 14, 13, 7]},\n",
       " {'UserId': 483, 'Recommendations': [6, 25, 7, 12, 16]},\n",
       " {'UserId': 484, 'Recommendations': [25, 8, 16, 14, 7]},\n",
       " {'UserId': 485, 'Recommendations': [12, 25, 14, 7, 16]},\n",
       " {'UserId': 486, 'Recommendations': [25, 7, 12, 16, 8]},\n",
       " {'UserId': 487, 'Recommendations': [25, 10, 12, 9, 5]},\n",
       " {'UserId': 488, 'Recommendations': [32, 27, 22, 23, 18]},\n",
       " {'UserId': 489, 'Recommendations': [25, 7, 14, 13, 15]},\n",
       " {'UserId': 490, 'Recommendations': [25, 7, 10, 12, 9]},\n",
       " {'UserId': 491, 'Recommendations': [20, 15, 18, 13, 19]},\n",
       " {'UserId': 492, 'Recommendations': [25, 13, 7, 15, 21]},\n",
       " {'UserId': 493, 'Recommendations': [25, 14, 7, 6, 13]},\n",
       " {'UserId': 494, 'Recommendations': [25, 7, 10, 8, 9]},\n",
       " {'UserId': 495, 'Recommendations': [9, 25, 7, 10, 8]},\n",
       " {'UserId': 496, 'Recommendations': [32, 24, 27, 22, 23]},\n",
       " {'UserId': 497, 'Recommendations': [13, 21, 14, 20, 16]},\n",
       " {'UserId': 498, 'Recommendations': [6, 9, 25, 5, 7]},\n",
       " {'UserId': 499, 'Recommendations': [14, 12, 21, 25, 10]},\n",
       " {'UserId': 500, 'Recommendations': [6, 10, 25, 9, 12]},\n",
       " {'UserId': 501, 'Recommendations': [12, 10, 25, 14, 7]},\n",
       " {'UserId': 502, 'Recommendations': [10, 12, 6, 14, 8]},\n",
       " {'UserId': 503, 'Recommendations': [14, 13, 21, 15, 25]},\n",
       " {'UserId': 504, 'Recommendations': [6, 25, 10, 9, 7]},\n",
       " {'UserId': 505, 'Recommendations': [13, 7, 21, 19, 20]},\n",
       " {'UserId': 506, 'Recommendations': [7, 10, 25, 12, 16]},\n",
       " {'UserId': 507, 'Recommendations': [14, 15, 25, 21, 20]},\n",
       " {'UserId': 508, 'Recommendations': [12, 13, 10, 25, 15]},\n",
       " {'UserId': 509, 'Recommendations': [21, 23, 20, 13, 16]},\n",
       " {'UserId': 510, 'Recommendations': [22, 18, 23, 21, 13]},\n",
       " {'UserId': 511, 'Recommendations': [13, 12, 25, 23, 11]},\n",
       " {'UserId': 512, 'Recommendations': [6, 25, 7, 10, 12]},\n",
       " {'UserId': 513, 'Recommendations': [10, 25, 12, 14, 17]},\n",
       " {'UserId': 514, 'Recommendations': [12, 7, 13, 15, 11]},\n",
       " {'UserId': 515, 'Recommendations': [10, 25, 12, 14, 7]},\n",
       " {'UserId': 516, 'Recommendations': [9, 8, 10, 12, 14]},\n",
       " {'UserId': 517, 'Recommendations': [4, 6, 9, 25, 5]},\n",
       " {'UserId': 518, 'Recommendations': [25, 10, 16, 14, 6]},\n",
       " {'UserId': 519, 'Recommendations': [22, 23, 27, 13, 20]},\n",
       " {'UserId': 520, 'Recommendations': [10, 25, 12, 7, 14]},\n",
       " {'UserId': 521, 'Recommendations': [12, 10, 14, 13, 7]},\n",
       " {'UserId': 522, 'Recommendations': [6, 7, 10, 25, 11]},\n",
       " {'UserId': 523, 'Recommendations': [21, 23, 20, 13, 18]},\n",
       " {'UserId': 524, 'Recommendations': [6, 25, 12, 16, 14]},\n",
       " {'UserId': 525, 'Recommendations': [12, 25, 7, 14, 8]},\n",
       " {'UserId': 526, 'Recommendations': [20, 13, 14, 15, 23]},\n",
       " {'UserId': 527, 'Recommendations': [7, 12, 9, 19, 11]},\n",
       " {'UserId': 528, 'Recommendations': [4, 9, 25, 5, 7]},\n",
       " {'UserId': 529, 'Recommendations': [14, 13, 15, 20, 12]},\n",
       " {'UserId': 530, 'Recommendations': [19, 15, 13, 23, 12]},\n",
       " {'UserId': 531, 'Recommendations': [25, 7, 12, 14, 16]},\n",
       " {'UserId': 532, 'Recommendations': [25, 6, 5, 10, 4]},\n",
       " {'UserId': 533, 'Recommendations': [10, 14, 25, 13, 15]},\n",
       " {'UserId': 534, 'Recommendations': [12, 10, 13, 15, 8]},\n",
       " {'UserId': 535, 'Recommendations': [21, 13, 14, 20, 19]},\n",
       " {'UserId': 536, 'Recommendations': [6, 9, 25, 7, 8]},\n",
       " {'UserId': 537, 'Recommendations': [16, 21, 13, 14, 15]},\n",
       " {'UserId': 538, 'Recommendations': [9, 7, 25, 10, 8]},\n",
       " {'UserId': 539, 'Recommendations': [13, 14, 20, 23, 15]},\n",
       " {'UserId': 540, 'Recommendations': [18, 22, 23, 17, 19]},\n",
       " {'UserId': 541, 'Recommendations': [4, 25, 7, 9, 10]},\n",
       " {'UserId': 542, 'Recommendations': [25, 10, 12, 7, 14]},\n",
       " {'UserId': 543, 'Recommendations': [25, 7, 12, 5, 16]},\n",
       " {'UserId': 544, 'Recommendations': [13, 14, 12, 10, 21]},\n",
       " {'UserId': 545, 'Recommendations': [12, 10, 25, 14, 7]},\n",
       " {'UserId': 546, 'Recommendations': [20, 14, 15, 17, 22]},\n",
       " {'UserId': 547, 'Recommendations': [14, 12, 13, 10, 15]},\n",
       " {'UserId': 548, 'Recommendations': [10, 12, 13, 25, 19]},\n",
       " {'UserId': 549, 'Recommendations': [9, 25, 7, 5, 10]},\n",
       " {'UserId': 550, 'Recommendations': [6, 25, 7, 12, 16]},\n",
       " {'UserId': 551, 'Recommendations': [6, 8, 10, 7, 16]},\n",
       " {'UserId': 552, 'Recommendations': [12, 10, 16, 14, 13]},\n",
       " {'UserId': 553, 'Recommendations': [25, 7, 12, 14, 13]},\n",
       " {'UserId': 554, 'Recommendations': [21, 18, 20, 19, 15]},\n",
       " {'UserId': 555, 'Recommendations': [12, 14, 13, 15, 7]},\n",
       " {'UserId': 556, 'Recommendations': [10, 12, 6, 7, 16]},\n",
       " {'UserId': 557, 'Recommendations': [25, 10, 12, 7, 21]},\n",
       " {'UserId': 558, 'Recommendations': [4, 6, 25, 10, 9]},\n",
       " {'UserId': 559, 'Recommendations': [25, 10, 12, 14, 13]},\n",
       " {'UserId': 560, 'Recommendations': [7, 10, 25, 12, 4]},\n",
       " {'UserId': 561, 'Recommendations': [25, 10, 12, 14, 13]},\n",
       " {'UserId': 562, 'Recommendations': [6, 25, 10, 7, 12]},\n",
       " {'UserId': 563, 'Recommendations': [13, 12, 21, 25, 10]},\n",
       " {'UserId': 564, 'Recommendations': [25, 7, 9, 10, 12]},\n",
       " {'UserId': 565, 'Recommendations': [14, 13, 21, 15, 20]},\n",
       " {'UserId': 566, 'Recommendations': [10, 25, 14, 8, 7]},\n",
       " {'UserId': 567, 'Recommendations': [13, 14, 20, 19, 12]},\n",
       " {'UserId': 568, 'Recommendations': [12, 14, 7, 13, 15]},\n",
       " {'UserId': 569, 'Recommendations': [12, 10, 21, 15, 20]},\n",
       " {'UserId': 570, 'Recommendations': [10, 12, 14, 7, 6]},\n",
       " {'UserId': 571, 'Recommendations': [10, 12, 14, 13, 6]},\n",
       " {'UserId': 572, 'Recommendations': [6, 9, 7, 25, 10]},\n",
       " {'UserId': 573, 'Recommendations': [4, 9, 25, 5, 7]},\n",
       " {'UserId': 574, 'Recommendations': [21, 13, 20, 15, 19]},\n",
       " {'UserId': 575, 'Recommendations': [4, 6, 8, 16, 9]},\n",
       " {'UserId': 576, 'Recommendations': [4, 6, 25, 9, 10]},\n",
       " {'UserId': 577, 'Recommendations': [13, 15, 21, 10, 25]},\n",
       " {'UserId': 578, 'Recommendations': [25, 12, 7, 6, 16]},\n",
       " {'UserId': 579, 'Recommendations': [25, 10, 7, 6, 16]},\n",
       " {'UserId': 580, 'Recommendations': [32, 27, 22, 29, 20]},\n",
       " {'UserId': 581, 'Recommendations': [14, 13, 12, 21, 19]},\n",
       " {'UserId': 582, 'Recommendations': [25, 13, 7, 6, 21]},\n",
       " {'UserId': 583, 'Recommendations': [12, 10, 25, 21, 15]},\n",
       " {'UserId': 584, 'Recommendations': [23, 20, 22, 21, 18]},\n",
       " {'UserId': 585, 'Recommendations': [6, 9, 25, 7, 5]},\n",
       " {'UserId': 586, 'Recommendations': [4, 6, 25, 9, 10]},\n",
       " {'UserId': 587, 'Recommendations': [12, 10, 13, 16, 25]},\n",
       " {'UserId': 588, 'Recommendations': [6, 25, 9, 7, 10]},\n",
       " {'UserId': 589, 'Recommendations': [25, 12, 10, 14, 13]},\n",
       " {'UserId': 590, 'Recommendations': [13, 14, 12, 25, 10]},\n",
       " {'UserId': 591, 'Recommendations': [13, 12, 20, 10, 25]},\n",
       " {'UserId': 592, 'Recommendations': [13, 14, 12, 25, 10]},\n",
       " {'UserId': 593, 'Recommendations': [14, 16, 10, 13, 12]},\n",
       " {'UserId': 594, 'Recommendations': [13, 15, 19, 23, 17]},\n",
       " {'UserId': 595, 'Recommendations': [21, 23, 20, 13, 15]},\n",
       " {'UserId': 596, 'Recommendations': [6, 25, 10, 7, 12]},\n",
       " {'UserId': 597, 'Recommendations': [13, 12, 21, 15, 25]},\n",
       " {'UserId': 598, 'Recommendations': [18, 22, 13, 20, 14]},\n",
       " {'UserId': 599, 'Recommendations': [14, 19, 21, 20, 17]},\n",
       " {'UserId': 600, 'Recommendations': [12, 14, 16, 13, 7]},\n",
       " {'UserId': 601, 'Recommendations': [6, 25, 8, 10, 9]},\n",
       " {'UserId': 602, 'Recommendations': [6, 25, 5, 10, 8]},\n",
       " {'UserId': 603, 'Recommendations': [4, 6, 25, 10, 9]},\n",
       " {'UserId': 604, 'Recommendations': [6, 9, 25, 5, 7]},\n",
       " {'UserId': 605, 'Recommendations': [4, 7, 25, 10, 9]},\n",
       " {'UserId': 606, 'Recommendations': [12, 10, 16, 14, 13]},\n",
       " {'UserId': 607, 'Recommendations': [7, 25, 12, 8, 14]},\n",
       " {'UserId': 608, 'Recommendations': [14, 19, 21, 20, 18]},\n",
       " {'UserId': 609, 'Recommendations': [4, 6, 25, 10, 8]},\n",
       " {'UserId': 610, 'Recommendations': [4, 25, 9, 10, 8]},\n",
       " {'UserId': 611, 'Recommendations': [7, 10, 25, 12, 5]},\n",
       " {'UserId': 612, 'Recommendations': [13, 21, 16, 20, 19]},\n",
       " {'UserId': 613, 'Recommendations': [10, 7, 12, 16, 9]},\n",
       " {'UserId': 614, 'Recommendations': [10, 15, 21, 19, 17]},\n",
       " {'UserId': 615, 'Recommendations': [25, 12, 7, 6, 16]},\n",
       " {'UserId': 616, 'Recommendations': [6, 9, 25, 7, 8]},\n",
       " {'UserId': 617, 'Recommendations': [23, 21, 27, 20, 13]},\n",
       " {'UserId': 618, 'Recommendations': [25, 6, 7, 16, 4]},\n",
       " {'UserId': 619, 'Recommendations': [7, 25, 10, 9, 12]},\n",
       " {'UserId': 620, 'Recommendations': [12, 10, 25, 16, 13]},\n",
       " {'UserId': 621, 'Recommendations': [12, 10, 14, 25, 13]},\n",
       " {'UserId': 622, 'Recommendations': [6, 25, 7, 8, 10]},\n",
       " {'UserId': 623, 'Recommendations': [13, 14, 15, 25, 18]},\n",
       " {'UserId': 624, 'Recommendations': [4, 6, 9, 25, 5]},\n",
       " {'UserId': 625, 'Recommendations': [6, 25, 9, 10, 5]},\n",
       " {'UserId': 626, 'Recommendations': [12, 25, 14, 7, 16]},\n",
       " {'UserId': 627, 'Recommendations': [25, 14, 13, 7, 15]},\n",
       " {'UserId': 628, 'Recommendations': [21, 13, 23, 15, 16]},\n",
       " {'UserId': 629, 'Recommendations': [25, 2, 9, 7, 10]},\n",
       " {'UserId': 630, 'Recommendations': [12, 10, 25, 14, 7]},\n",
       " {'UserId': 631, 'Recommendations': [25, 10, 12, 7, 6]},\n",
       " {'UserId': 632, 'Recommendations': [14, 13, 10, 21, 20]},\n",
       " {'UserId': 633, 'Recommendations': [12, 10, 14, 25, 13]},\n",
       " {'UserId': 634, 'Recommendations': [12, 25, 7, 16, 8]},\n",
       " {'UserId': 635, 'Recommendations': [25, 14, 16, 13, 7]},\n",
       " {'UserId': 636, 'Recommendations': [14, 13, 10, 15, 21]},\n",
       " {'UserId': 637, 'Recommendations': [10, 7, 12, 8, 16]},\n",
       " {'UserId': 639, 'Recommendations': [25, 13, 15, 7, 21]},\n",
       " {'UserId': 640, 'Recommendations': [21, 13, 15, 14, 20]},\n",
       " {'UserId': 641, 'Recommendations': [14, 13, 12, 15, 20]},\n",
       " {'UserId': 642, 'Recommendations': [10, 16, 12, 14, 7]},\n",
       " {'UserId': 643, 'Recommendations': [10, 12, 16, 14, 13]},\n",
       " {'UserId': 644, 'Recommendations': [25, 10, 12, 7, 14]},\n",
       " {'UserId': 645, 'Recommendations': [14, 13, 10, 15, 20]},\n",
       " {'UserId': 646, 'Recommendations': [10, 14, 19, 15, 20]},\n",
       " {'UserId': 647, 'Recommendations': [12, 14, 13, 5, 15]},\n",
       " {'UserId': 648, 'Recommendations': [12, 25, 7, 14, 16]},\n",
       " {'UserId': 649, 'Recommendations': [36, 30, 26, 32, 34]},\n",
       " {'UserId': 650, 'Recommendations': [14, 12, 19, 23, 10]},\n",
       " {'UserId': 651, 'Recommendations': [13, 15, 19, 21, 10]},\n",
       " {'UserId': 652, 'Recommendations': [14, 13, 10, 15, 20]},\n",
       " {'UserId': 653, 'Recommendations': [20, 15, 19, 13, 14]},\n",
       " {'UserId': 654, 'Recommendations': [4, 6, 9, 25, 5]},\n",
       " {'UserId': 655, 'Recommendations': [4, 6, 25, 10, 9]},\n",
       " {'UserId': 656, 'Recommendations': [14, 13, 10, 25, 15]},\n",
       " {'UserId': 657, 'Recommendations': [25, 9, 7, 5, 10]},\n",
       " {'UserId': 658, 'Recommendations': [13, 21, 20, 18, 23]},\n",
       " {'UserId': 659, 'Recommendations': [10, 12, 25, 13, 15]},\n",
       " {'UserId': 660, 'Recommendations': [16, 7, 13, 15, 11]},\n",
       " {'UserId': 661, 'Recommendations': [4, 6, 9, 7, 25]},\n",
       " {'UserId': 662, 'Recommendations': [13, 23, 20, 18, 22]},\n",
       " {'UserId': 663, 'Recommendations': [12, 10, 14, 13, 7]},\n",
       " {'UserId': 664, 'Recommendations': [16, 19, 21, 17, 18]},\n",
       " {'UserId': 665, 'Recommendations': [12, 10, 13, 8, 15]},\n",
       " {'UserId': 666, 'Recommendations': [21, 14, 20, 18, 23]},\n",
       " {'UserId': 667, 'Recommendations': [13, 25, 15, 20, 19]},\n",
       " {'UserId': 668, 'Recommendations': [7, 10, 11, 12, 25]},\n",
       " {'UserId': 669, 'Recommendations': [7, 10, 25, 12, 16]},\n",
       " {'UserId': 670, 'Recommendations': [6, 9, 7, 25, 10]},\n",
       " {'UserId': 671, 'Recommendations': [7, 25, 10, 5, 12]},\n",
       " {'UserId': 672, 'Recommendations': [12, 25, 10, 14, 13]},\n",
       " {'UserId': 673, 'Recommendations': [14, 12, 25, 15, 20]},\n",
       " {'UserId': 674, 'Recommendations': [7, 14, 19, 13, 21]},\n",
       " {'UserId': 675, 'Recommendations': [7, 25, 10, 8, 12]},\n",
       " {'UserId': 676, 'Recommendations': [14, 20, 17, 15, 19]},\n",
       " {'UserId': 677, 'Recommendations': [32, 27, 23, 22, 29]},\n",
       " {'UserId': 678, 'Recommendations': [7, 10, 5, 12, 8]},\n",
       " {'UserId': 679, 'Recommendations': [13, 21, 15, 12, 19]},\n",
       " {'UserId': 680, 'Recommendations': [14, 12, 13, 25, 15]},\n",
       " {'UserId': 681, 'Recommendations': [13, 16, 21, 20, 19]},\n",
       " {'UserId': 682, 'Recommendations': [10, 25, 12, 8, 11]},\n",
       " {'UserId': 683, 'Recommendations': [4, 6, 9, 25, 5]},\n",
       " {'UserId': 684, 'Recommendations': [10, 25, 12, 4, 11]},\n",
       " {'UserId': 685, 'Recommendations': [30, 23, 22, 18, 29]},\n",
       " {'UserId': 686, 'Recommendations': [7, 25, 12, 4, 14]},\n",
       " {'UserId': 687, 'Recommendations': [13, 10, 25, 15, 21]},\n",
       " {'UserId': 688, 'Recommendations': [4, 9, 25, 7, 5]},\n",
       " {'UserId': 689, 'Recommendations': [25, 10, 7, 13, 9]},\n",
       " {'UserId': 690, 'Recommendations': [6, 9, 7, 25, 10]},\n",
       " {'UserId': 691, 'Recommendations': [12, 14, 13, 15, 20]},\n",
       " {'UserId': 692, 'Recommendations': [13, 12, 10, 15, 20]},\n",
       " {'UserId': 693, 'Recommendations': [10, 12, 7, 8, 16]},\n",
       " {'UserId': 694, 'Recommendations': [7, 25, 12, 14, 16]},\n",
       " {'UserId': 695, 'Recommendations': [25, 7, 6, 16, 13]},\n",
       " {'UserId': 696, 'Recommendations': [14, 16, 13, 10, 21]},\n",
       " {'UserId': 697, 'Recommendations': [13, 16, 20, 21, 18]},\n",
       " {'UserId': 698, 'Recommendations': [10, 25, 12, 14, 11]},\n",
       " {'UserId': 699, 'Recommendations': [10, 12, 14, 6, 16]},\n",
       " {'UserId': 700, 'Recommendations': [10, 7, 25, 12, 14]},\n",
       " {'UserId': 701, 'Recommendations': [6, 25, 7, 10, 9]},\n",
       " {'UserId': 702, 'Recommendations': [4, 6, 9, 25, 8]},\n",
       " {'UserId': 703, 'Recommendations': [12, 25, 19, 20, 7]},\n",
       " {'UserId': 704, 'Recommendations': [27, 22, 30, 23, 32]},\n",
       " {'UserId': 705, 'Recommendations': [14, 12, 25, 10, 15]},\n",
       " {'UserId': 706, 'Recommendations': [32, 27, 22, 23, 21]},\n",
       " {'UserId': 707, 'Recommendations': [13, 21, 20, 10, 25]},\n",
       " {'UserId': 708, 'Recommendations': [25, 16, 10, 12, 6]},\n",
       " {'UserId': 709, 'Recommendations': [6, 9, 25, 7, 10]},\n",
       " {'UserId': 710, 'Recommendations': [12, 25, 7, 14, 16]},\n",
       " {'UserId': 711, 'Recommendations': [14, 13, 16, 15, 12]},\n",
       " {'UserId': 712, 'Recommendations': [4, 25, 10, 9, 7]},\n",
       " {'UserId': 713, 'Recommendations': [4, 6, 2, 8, 5]},\n",
       " {'UserId': 714, 'Recommendations': [12, 10, 14, 13, 7]},\n",
       " {'UserId': 715, 'Recommendations': [6, 25, 7, 8, 12]},\n",
       " {'UserId': 716, 'Recommendations': [12, 10, 14, 13, 7]},\n",
       " {'UserId': 717, 'Recommendations': [6, 10, 25, 12, 5]},\n",
       " {'UserId': 718, 'Recommendations': [25, 10, 11, 19, 15]},\n",
       " {'UserId': 719, 'Recommendations': [13, 14, 15, 20, 19]},\n",
       " {'UserId': 720, 'Recommendations': [7, 6, 10, 11, 25]},\n",
       " {'UserId': 721, 'Recommendations': [12, 14, 13, 10, 25]},\n",
       " {'UserId': 722, 'Recommendations': [25, 9, 10, 12, 16]},\n",
       " {'UserId': 723, 'Recommendations': [24, 32, 27, 23, 21]},\n",
       " {'UserId': 724, 'Recommendations': [12, 10, 14, 25, 13]},\n",
       " {'UserId': 725, 'Recommendations': [2, 4, 27, 6, 33]},\n",
       " {'UserId': 726, 'Recommendations': [7, 25, 9, 10, 8]},\n",
       " {'UserId': 727, 'Recommendations': [6, 7, 25, 8, 12]},\n",
       " {'UserId': 728, 'Recommendations': [4, 6, 9, 25, 5]},\n",
       " {'UserId': 729, 'Recommendations': [14, 15, 25, 20, 19]},\n",
       " {'UserId': 730, 'Recommendations': [12, 25, 7, 14, 13]},\n",
       " {'UserId': 731, 'Recommendations': [6, 9, 25, 7, 8]},\n",
       " {'UserId': 732, 'Recommendations': [12, 14, 13, 6, 4]},\n",
       " {'UserId': 733, 'Recommendations': [25, 10, 7, 12, 4]},\n",
       " {'UserId': 734, 'Recommendations': [12, 14, 16, 7, 8]},\n",
       " {'UserId': 735, 'Recommendations': [13, 14, 21, 15, 20]},\n",
       " {'UserId': 736, 'Recommendations': [10, 25, 12, 14, 11]},\n",
       " {'UserId': 737, 'Recommendations': [14, 16, 12, 15, 10]},\n",
       " {'UserId': 738, 'Recommendations': [2, 6, 9, 25, 7]},\n",
       " {'UserId': 739, 'Recommendations': [14, 13, 16, 15, 21]},\n",
       " {'UserId': 740, 'Recommendations': [12, 25, 13, 8, 15]},\n",
       " {'UserId': 741, 'Recommendations': [13, 12, 20, 19, 18]},\n",
       " {'UserId': 742, 'Recommendations': [25, 9, 12, 16, 14]},\n",
       " {'UserId': 743, 'Recommendations': [25, 14, 16, 7, 8]},\n",
       " {'UserId': 744, 'Recommendations': [10, 14, 25, 7, 13]},\n",
       " {'UserId': 745, 'Recommendations': [22, 23, 32, 30, 21]},\n",
       " {'UserId': 746, 'Recommendations': [4, 6, 25, 10, 9]},\n",
       " {'UserId': 747, 'Recommendations': [10, 7, 12, 16, 14]},\n",
       " {'UserId': 748, 'Recommendations': [25, 9, 7, 12, 16]},\n",
       " {'UserId': 749, 'Recommendations': [2, 6, 9, 25, 5]},\n",
       " {'UserId': 750, 'Recommendations': [25, 7, 16, 8, 13]},\n",
       " {'UserId': 751, 'Recommendations': [13, 19, 20, 17, 7]},\n",
       " {'UserId': 752, 'Recommendations': [10, 25, 12, 14, 7]},\n",
       " {'UserId': 753, 'Recommendations': [10, 7, 25, 12, 14]},\n",
       " {'UserId': 754, 'Recommendations': [4, 6, 9, 25, 5]},\n",
       " {'UserId': 755, 'Recommendations': [13, 20, 14, 15, 23]},\n",
       " {'UserId': 756, 'Recommendations': [25, 10, 6, 7, 14]},\n",
       " {'UserId': 757, 'Recommendations': [4, 25, 7, 12, 9]},\n",
       " {'UserId': 758, 'Recommendations': [10, 14, 25, 13, 16]},\n",
       " {'UserId': 759, 'Recommendations': [14, 12, 10, 13, 15]},\n",
       " {'UserId': 760, 'Recommendations': [19, 21, 20, 25, 18]},\n",
       " {'UserId': 761, 'Recommendations': [25, 13, 7, 15, 21]},\n",
       " {'UserId': 762, 'Recommendations': [25, 6, 10, 9, 5]},\n",
       " {'UserId': 763, 'Recommendations': [25, 10, 6, 4, 12]},\n",
       " {'UserId': 764, 'Recommendations': [7, 9, 10, 8, 12]},\n",
       " {'UserId': 765, 'Recommendations': [4, 25, 10, 5, 8]},\n",
       " {'UserId': 766, 'Recommendations': [16, 14, 25, 13, 10]},\n",
       " {'UserId': 767, 'Recommendations': [6, 25, 9, 7, 10]},\n",
       " {'UserId': 768, 'Recommendations': [4, 6, 7, 25, 10]},\n",
       " {'UserId': 769, 'Recommendations': [23, 22, 18, 15, 29]},\n",
       " {'UserId': 770, 'Recommendations': [10, 25, 12, 16, 8]},\n",
       " {'UserId': 771, 'Recommendations': [25, 12, 13, 7, 6]},\n",
       " {'UserId': 772, 'Recommendations': [12, 10, 14, 25, 13]},\n",
       " {'UserId': 773, 'Recommendations': [10, 12, 7, 16, 14]},\n",
       " {'UserId': 774, 'Recommendations': [25, 6, 10, 7, 16]},\n",
       " {'UserId': 775, 'Recommendations': [4, 6, 9, 25, 5]},\n",
       " {'UserId': 776, 'Recommendations': [25, 10, 12, 14, 13]},\n",
       " {'UserId': 777, 'Recommendations': [9, 19, 15, 20, 21]},\n",
       " {'UserId': 778, 'Recommendations': [14, 10, 12, 25, 13]},\n",
       " {'UserId': 779, 'Recommendations': [14, 12, 10, 13, 15]},\n",
       " {'UserId': 780, 'Recommendations': [21, 23, 13, 22, 18]},\n",
       " {'UserId': 781, 'Recommendations': [25, 7, 16, 13, 15]},\n",
       " {'UserId': 782, 'Recommendations': [21, 16, 23, 20, 13]},\n",
       " {'UserId': 783, 'Recommendations': [13, 15, 12, 20, 19]},\n",
       " {'UserId': 784, 'Recommendations': [10, 14, 13, 15, 21]},\n",
       " {'UserId': 785, 'Recommendations': [27, 22, 23, 32, 18]},\n",
       " {'UserId': 786, 'Recommendations': [12, 25, 14, 7, 13]},\n",
       " {'UserId': 787, 'Recommendations': [25, 4, 6, 10, 9]},\n",
       " {'UserId': 788, 'Recommendations': [14, 7, 16, 13, 6]},\n",
       " {'UserId': 789, 'Recommendations': [4, 7, 25, 10, 5]},\n",
       " {'UserId': 790, 'Recommendations': [9, 25, 7, 5, 8]},\n",
       " {'UserId': 791, 'Recommendations': [10, 12, 14, 13, 6]},\n",
       " {'UserId': 792, 'Recommendations': [21, 20, 15, 13, 19]},\n",
       " {'UserId': 793, 'Recommendations': [13, 21, 15, 20, 17]},\n",
       " {'UserId': 794, 'Recommendations': [13, 10, 25, 15, 20]},\n",
       " {'UserId': 795, 'Recommendations': [25, 10, 4, 7, 16]},\n",
       " {'UserId': 796, 'Recommendations': [13, 21, 20, 19, 10]},\n",
       " {'UserId': 797, 'Recommendations': [4, 6, 25, 9, 10]},\n",
       " {'UserId': 798, 'Recommendations': [10, 25, 12, 6, 14]},\n",
       " {'UserId': 799, 'Recommendations': [25, 7, 10, 9, 12]},\n",
       " {'UserId': 800, 'Recommendations': [21, 13, 15, 19, 16]},\n",
       " {'UserId': 801, 'Recommendations': [25, 10, 16, 14, 7]},\n",
       " {'UserId': 802, 'Recommendations': [25, 10, 12, 5, 9]},\n",
       " {'UserId': 803, 'Recommendations': [16, 10, 14, 12, 13]},\n",
       " {'UserId': 804, 'Recommendations': [10, 12, 14, 16, 7]},\n",
       " {'UserId': 805, 'Recommendations': [25, 10, 12, 16, 14]},\n",
       " {'UserId': 806, 'Recommendations': [13, 14, 12, 25, 10]},\n",
       " {'UserId': 807, 'Recommendations': [27, 22, 23, 32, 18]},\n",
       " {'UserId': 808, 'Recommendations': [25, 16, 12, 14, 13]},\n",
       " {'UserId': 809, 'Recommendations': [25, 4, 6, 10, 12]},\n",
       " {'UserId': 810, 'Recommendations': [25, 13, 21, 19, 20]},\n",
       " {'UserId': 811, 'Recommendations': [13, 14, 12, 25, 10]},\n",
       " {'UserId': 812, 'Recommendations': [16, 12, 10, 14, 15]},\n",
       " {'UserId': 813, 'Recommendations': [25, 16, 14, 13, 7]},\n",
       " {'UserId': 814, 'Recommendations': [29, 18, 22, 21, 23]},\n",
       " {'UserId': 815, 'Recommendations': [7, 8, 11, 18, 22]},\n",
       " {'UserId': 816, 'Recommendations': [14, 19, 21, 20, 18]},\n",
       " {'UserId': 817, 'Recommendations': [14, 13, 16, 15, 20]},\n",
       " {'UserId': 818, 'Recommendations': [6, 25, 10, 7, 12]},\n",
       " {'UserId': 819, 'Recommendations': [25, 10, 14, 16, 13]},\n",
       " {'UserId': 820, 'Recommendations': [6, 25, 10, 7, 12]},\n",
       " {'UserId': 821, 'Recommendations': [22, 27, 20, 29, 15]},\n",
       " {'UserId': 822, 'Recommendations': [21, 13, 23, 20, 14]},\n",
       " {'UserId': 823, 'Recommendations': [12, 25, 14, 7, 13]},\n",
       " {'UserId': 824, 'Recommendations': [25, 10, 12, 16, 14]},\n",
       " {'UserId': 825, 'Recommendations': [22, 23, 21, 30, 32]},\n",
       " {'UserId': 826, 'Recommendations': [7, 10, 25, 12, 16]},\n",
       " {'UserId': 827, 'Recommendations': [6, 25, 10, 7, 12]},\n",
       " {'UserId': 828, 'Recommendations': [34, 33, 28, 29, 30]},\n",
       " {'UserId': 829, 'Recommendations': [13, 12, 10, 15, 21]},\n",
       " {'UserId': 830, 'Recommendations': [6, 25, 9, 7, 10]},\n",
       " {'UserId': 831, 'Recommendations': [20, 13, 15, 14, 23]},\n",
       " {'UserId': 832, 'Recommendations': [14, 13, 10, 15, 21]},\n",
       " {'UserId': 833, 'Recommendations': [6, 9, 25, 7, 8]},\n",
       " {'UserId': 834, 'Recommendations': [6, 9, 25, 5, 7]},\n",
       " {'UserId': 835, 'Recommendations': [6, 25, 7, 10, 12]},\n",
       " {'UserId': 836, 'Recommendations': [16, 13, 21, 14, 27]},\n",
       " {'UserId': 837, 'Recommendations': [14, 25, 15, 21, 7]},\n",
       " {'UserId': 838, 'Recommendations': [12, 25, 13, 15, 7]},\n",
       " {'UserId': 839, 'Recommendations': [6, 7, 25, 10, 8]},\n",
       " {'UserId': 840, 'Recommendations': [12, 25, 16, 13, 6]},\n",
       " {'UserId': 841, 'Recommendations': [25, 10, 4, 7, 12]},\n",
       " {'UserId': 842, 'Recommendations': [6, 4, 16, 10, 12]},\n",
       " {'UserId': 843, 'Recommendations': [10, 25, 7, 14, 16]},\n",
       " {'UserId': 844, 'Recommendations': [6, 7, 10, 25, 11]},\n",
       " {'UserId': 845, 'Recommendations': [25, 10, 12, 7, 16]},\n",
       " {'UserId': 846, 'Recommendations': [4, 27, 6, 5, 33]},\n",
       " {'UserId': 847, 'Recommendations': [14, 13, 15, 12, 19]},\n",
       " {'UserId': 848, 'Recommendations': [25, 10, 14, 6, 7]},\n",
       " {'UserId': 849, 'Recommendations': [12, 14, 13, 15, 7]},\n",
       " {'UserId': 850, 'Recommendations': [7, 25, 10, 8, 12]},\n",
       " {'UserId': 851, 'Recommendations': [25, 7, 12, 8, 16]},\n",
       " {'UserId': 852, 'Recommendations': [10, 25, 14, 7, 13]},\n",
       " {'UserId': 853, 'Recommendations': [7, 25, 10, 8, 9]},\n",
       " {'UserId': 854, 'Recommendations': [7, 9, 12, 14, 11]},\n",
       " {'UserId': 855, 'Recommendations': [12, 7, 14, 16, 13]},\n",
       " {'UserId': 856, 'Recommendations': [9, 25, 7, 5, 10]},\n",
       " {'UserId': 857, 'Recommendations': [12, 10, 25, 13, 15]},\n",
       " {'UserId': 858, 'Recommendations': [25, 6, 7, 16, 14]},\n",
       " {'UserId': 859, 'Recommendations': [16, 13, 14, 12, 10]},\n",
       " {'UserId': 860, 'Recommendations': [9, 25, 7, 5, 8]},\n",
       " {'UserId': 861, 'Recommendations': [23, 20, 13, 15, 14]},\n",
       " {'UserId': 862, 'Recommendations': [29, 22, 21, 20, 17]},\n",
       " {'UserId': 863, 'Recommendations': [6, 9, 25, 7, 10]},\n",
       " {'UserId': 864, 'Recommendations': [21, 13, 20, 18, 14]},\n",
       " {'UserId': 865, 'Recommendations': [10, 25, 14, 16, 13]},\n",
       " {'UserId': 866, 'Recommendations': [23, 24, 20, 13, 15]},\n",
       " {'UserId': 867, 'Recommendations': [25, 10, 6, 4, 12]},\n",
       " {'UserId': 868, 'Recommendations': [14, 13, 15, 12, 10]},\n",
       " {'UserId': 869, 'Recommendations': [25, 7, 16, 13, 4]},\n",
       " {'UserId': 870, 'Recommendations': [4, 6, 9, 25, 7]},\n",
       " {'UserId': 871, 'Recommendations': [10, 25, 7, 8, 16]},\n",
       " {'UserId': 872, 'Recommendations': [12, 25, 7, 14, 16]},\n",
       " {'UserId': 873, 'Recommendations': [10, 25, 12, 7, 14]},\n",
       " {'UserId': 874, 'Recommendations': [6, 25, 10, 7, 12]},\n",
       " {'UserId': 875, 'Recommendations': [10, 12, 16, 14, 13]},\n",
       " {'UserId': 876, 'Recommendations': [7, 10, 25, 12, 14]},\n",
       " {'UserId': 877, 'Recommendations': [36, 30, 26, 22, 18]},\n",
       " {'UserId': 878, 'Recommendations': [6, 4, 25, 10, 8]},\n",
       " {'UserId': 879, 'Recommendations': [25, 9, 7, 5, 10]},\n",
       " {'UserId': 880, 'Recommendations': [25, 9, 5, 10, 12]},\n",
       " {'UserId': 881, 'Recommendations': [32, 28, 29, 22, 27]},\n",
       " {'UserId': 882, 'Recommendations': [21, 23, 18, 22, 20]},\n",
       " {'UserId': 883, 'Recommendations': [25, 10, 12, 6, 7]},\n",
       " {'UserId': 884, 'Recommendations': [23, 22, 18, 15, 19]},\n",
       " {'UserId': 885, 'Recommendations': [4, 6, 9, 25, 7]},\n",
       " {'UserId': 886, 'Recommendations': [14, 13, 10, 15, 20]},\n",
       " {'UserId': 887, 'Recommendations': [25, 12, 7, 13, 4]},\n",
       " {'UserId': 888, 'Recommendations': [4, 6, 9, 25, 5]},\n",
       " {'UserId': 889, 'Recommendations': [10, 14, 25, 13, 15]},\n",
       " {'UserId': 890, 'Recommendations': [10, 12, 16, 14, 7]},\n",
       " {'UserId': 891, 'Recommendations': [7, 25, 10, 9, 12]},\n",
       " {'UserId': 892, 'Recommendations': [6, 9, 25, 7, 10]},\n",
       " {'UserId': 893, 'Recommendations': [25, 6, 10, 16, 12]},\n",
       " {'UserId': 894, 'Recommendations': [20, 19, 17, 18, 7]},\n",
       " {'UserId': 895, 'Recommendations': [6, 9, 25, 5, 7]},\n",
       " {'UserId': 896, 'Recommendations': [7, 9, 25, 10, 8]},\n",
       " {'UserId': 897, 'Recommendations': [13, 14, 25, 12, 10]},\n",
       " {'UserId': 898, 'Recommendations': [12, 14, 13, 25, 15]},\n",
       " {'UserId': 899, 'Recommendations': [25, 7, 9, 10, 12]},\n",
       " {'UserId': 900, 'Recommendations': [4, 25, 7, 10, 12]},\n",
       " {'UserId': 901, 'Recommendations': [25, 10, 12, 6, 14]},\n",
       " {'UserId': 902, 'Recommendations': [25, 10, 12, 6, 4]},\n",
       " {'UserId': 903, 'Recommendations': [6, 25, 10, 7, 9]},\n",
       " {'UserId': 904, 'Recommendations': [12, 16, 13, 7, 8]},\n",
       " {'UserId': 905, 'Recommendations': [10, 14, 16, 25, 13]},\n",
       " {'UserId': 906, 'Recommendations': [25, 12, 16, 14, 13]},\n",
       " {'UserId': 907, 'Recommendations': [6, 9, 25, 5, 7]},\n",
       " {'UserId': 908, 'Recommendations': [12, 16, 14, 13, 11]},\n",
       " {'UserId': 909, 'Recommendations': [4, 6, 25, 9, 8]},\n",
       " {'UserId': 910, 'Recommendations': [10, 12, 14, 16, 5]},\n",
       " {'UserId': 911, 'Recommendations': [13, 16, 12, 15, 21]},\n",
       " {'UserId': 912, 'Recommendations': [6, 9, 25, 7, 10]},\n",
       " {'UserId': 913, 'Recommendations': [7, 4, 10, 25, 5]},\n",
       " {'UserId': 914, 'Recommendations': [14, 20, 18, 19, 12]},\n",
       " {'UserId': 915, 'Recommendations': [35, 36, 26, 30, 38]},\n",
       " {'UserId': 916, 'Recommendations': [25, 16, 14, 13, 9]},\n",
       " {'UserId': 917, 'Recommendations': [10, 16, 13, 15, 20]},\n",
       " {'UserId': 918, 'Recommendations': [13, 14, 15, 16, 25]},\n",
       " {'UserId': 919, 'Recommendations': [25, 7, 14, 16, 13]},\n",
       " {'UserId': 920, 'Recommendations': [14, 13, 16, 15, 21]},\n",
       " {'UserId': 921, 'Recommendations': [6, 9, 25, 7, 10]},\n",
       " {'UserId': 922, 'Recommendations': [25, 10, 12, 6, 14]},\n",
       " {'UserId': 923, 'Recommendations': [10, 12, 25, 14, 16]},\n",
       " {'UserId': 924, 'Recommendations': [21, 13, 14, 15, 20]},\n",
       " {'UserId': 925, 'Recommendations': [21, 20, 15, 14, 17]},\n",
       " {'UserId': 926, 'Recommendations': [10, 13, 16, 25, 7]},\n",
       " {'UserId': 927, 'Recommendations': [4, 10, 16, 9, 14]},\n",
       " {'UserId': 928, 'Recommendations': [12, 13, 10, 25, 21]},\n",
       " {'UserId': 929, 'Recommendations': [16, 13, 14, 19, 20]},\n",
       " {'UserId': 930, 'Recommendations': [25, 10, 14, 12, 7]},\n",
       " {'UserId': 931, 'Recommendations': [16, 14, 13, 15, 20]},\n",
       " {'UserId': 932, 'Recommendations': [25, 12, 14, 13, 15]},\n",
       " {'UserId': 933, 'Recommendations': [25, 12, 16, 13, 4]},\n",
       " {'UserId': 934, 'Recommendations': [25, 16, 14, 10, 12]},\n",
       " {'UserId': 935, 'Recommendations': [25, 14, 13, 11, 15]},\n",
       " {'UserId': 936, 'Recommendations': [10, 25, 7, 14, 16]},\n",
       " {'UserId': 937, 'Recommendations': [25, 16, 13, 7, 15]},\n",
       " {'UserId': 938, 'Recommendations': [12, 25, 13, 8, 7]},\n",
       " {'UserId': 939, 'Recommendations': [12, 25, 7, 16, 13]},\n",
       " {'UserId': 940, 'Recommendations': [25, 12, 6, 16, 13]},\n",
       " {'UserId': 941, 'Recommendations': [12, 25, 13, 7, 16]},\n",
       " {'UserId': 942, 'Recommendations': [10, 12, 7, 16, 6]},\n",
       " {'UserId': 943, 'Recommendations': [10, 12, 7, 9, 13]},\n",
       " {'UserId': 944, 'Recommendations': [10, 25, 7, 8, 16]},\n",
       " {'UserId': 945, 'Recommendations': [14, 13, 16, 15, 20]},\n",
       " {'UserId': 946, 'Recommendations': [25, 13, 15, 19, 20]},\n",
       " {'UserId': 947, 'Recommendations': [6, 9, 25, 7, 5]},\n",
       " {'UserId': 948, 'Recommendations': [14, 20, 15, 23, 19]},\n",
       " {'UserId': 949, 'Recommendations': [25, 4, 12, 7, 9]},\n",
       " {'UserId': 950, 'Recommendations': [16, 27, 25, 21, 14]},\n",
       " {'UserId': 951, 'Recommendations': [9, 25, 5, 7, 8]},\n",
       " {'UserId': 952, 'Recommendations': [4, 6, 25, 10, 9]},\n",
       " {'UserId': 953, 'Recommendations': [25, 7, 10, 8, 9]},\n",
       " {'UserId': 954, 'Recommendations': [14, 25, 13, 15, 7]},\n",
       " {'UserId': 955, 'Recommendations': [25, 7, 15, 19, 20]},\n",
       " {'UserId': 956, 'Recommendations': [10, 25, 14, 7, 13]},\n",
       " {'UserId': 957, 'Recommendations': [13, 10, 25, 15, 21]},\n",
       " {'UserId': 958, 'Recommendations': [6, 25, 10, 7, 9]},\n",
       " {'UserId': 959, 'Recommendations': [21, 18, 22, 15, 20]},\n",
       " {'UserId': 960, 'Recommendations': [13, 25, 20, 19, 17]},\n",
       " {'UserId': 961, 'Recommendations': [23, 18, 15, 22, 13]},\n",
       " {'UserId': 962, 'Recommendations': [4, 6, 7, 25, 10]},\n",
       " {'UserId': 963, 'Recommendations': [13, 15, 21, 19, 17]},\n",
       " {'UserId': 964, 'Recommendations': [25, 10, 12, 16, 9]},\n",
       " {'UserId': 965, 'Recommendations': [6, 11, 10, 25, 12]},\n",
       " {'UserId': 966, 'Recommendations': [23, 20, 18, 22, 15]},\n",
       " {'UserId': 967, 'Recommendations': [6, 10, 12, 7, 8]},\n",
       " {'UserId': 968, 'Recommendations': [25, 12, 14, 7, 13]},\n",
       " {'UserId': 969, 'Recommendations': [7, 25, 10, 8, 12]},\n",
       " {'UserId': 970, 'Recommendations': [25, 10, 12, 9, 7]},\n",
       " {'UserId': 971, 'Recommendations': [6, 7, 25, 10, 12]},\n",
       " {'UserId': 972, 'Recommendations': [10, 12, 16, 14, 13]},\n",
       " {'UserId': 973, 'Recommendations': [2, 6, 9, 25, 5]},\n",
       " {'UserId': 974, 'Recommendations': [13, 14, 20, 15, 19]},\n",
       " {'UserId': 975, 'Recommendations': [4, 6, 9, 25, 5]},\n",
       " {'UserId': 976, 'Recommendations': [14, 10, 13, 25, 21]},\n",
       " {'UserId': 977, 'Recommendations': [24, 32, 27, 23, 22]},\n",
       " {'UserId': 978, 'Recommendations': [25, 10, 12, 14, 13]},\n",
       " {'UserId': 979, 'Recommendations': [12, 25, 14, 7, 16]},\n",
       " {'UserId': 980, 'Recommendations': [12, 7, 16, 13, 9]},\n",
       " {'UserId': 981, 'Recommendations': [25, 13, 12, 15, 21]},\n",
       " {'UserId': 982, 'Recommendations': [25, 10, 14, 12, 13]},\n",
       " {'UserId': 983, 'Recommendations': [7, 4, 10, 25, 5]},\n",
       " {'UserId': 984, 'Recommendations': [9, 7, 25, 10, 5]},\n",
       " {'UserId': 985, 'Recommendations': [4, 7, 10, 12, 8]},\n",
       " {'UserId': 986, 'Recommendations': [7, 4, 10, 25, 5]},\n",
       " {'UserId': 987, 'Recommendations': [25, 10, 4, 12, 14]},\n",
       " {'UserId': 988, 'Recommendations': [20, 17, 15, 18, 21]},\n",
       " {'UserId': 989, 'Recommendations': [13, 21, 20, 19, 17]},\n",
       " {'UserId': 990, 'Recommendations': [12, 10, 14, 25, 13]},\n",
       " {'UserId': 991, 'Recommendations': [22, 23, 18, 29, 20]},\n",
       " {'UserId': 992, 'Recommendations': [12, 14, 25, 16, 7]},\n",
       " {'UserId': 993, 'Recommendations': [4, 6, 9, 25, 5]},\n",
       " {'UserId': 994, 'Recommendations': [7, 25, 14, 16, 6]},\n",
       " {'UserId': 995, 'Recommendations': [14, 12, 15, 19, 17]},\n",
       " {'UserId': 996, 'Recommendations': [12, 10, 14, 7, 16]},\n",
       " {'UserId': 997, 'Recommendations': [10, 12, 7, 16, 14]},\n",
       " {'UserId': 998, 'Recommendations': [30, 32, 27, 22, 23]},\n",
       " {'UserId': 999, 'Recommendations': [14, 13, 15, 12, 10]},\n",
       " {'UserId': 1000, 'Recommendations': [10, 25, 12, 13, 7]},\n",
       " {'UserId': 1001, 'Recommendations': [6, 25, 12, 16, 14]},\n",
       " {'UserId': 1002, 'Recommendations': [10, 12, 6, 14, 13]},\n",
       " ...]"
      ]
     },
     "execution_count": 71,
     "metadata": {},
     "output_type": "execute_result"
    }
   ],
   "source": [
    "recommendations_for_users"
   ]
  },
  {
   "cell_type": "code",
   "execution_count": 72,
   "id": "35b6bede-3c68-4394-9550-dae525a35ccb",
   "metadata": {},
   "outputs": [
    {
     "name": "stdout",
     "output_type": "stream",
     "text": [
      "+------+---------------+----------------------------------------------------------+\n",
      "|userId|Cluster_result |rating                                                    |\n",
      "+------+---------------+----------------------------------------------------------+\n",
      "|1     |[1, 5, 2, 4, 6]|[3.1973941, 2.9754426, 2.973622, 2.9732902, 2.9721944]    |\n",
      "|6     |[1, 5, 2, 4, 6]|[1.0708739, 0.99103683, 0.9909493, 0.9904757, 0.98997426] |\n",
      "|12    |[1, 3, 2, 5, 4]|[2.1357608, 1.9834636, 1.9821872, 1.98141, 1.9804958]     |\n",
      "|13    |[1, 3, 2, 5, 4]|[1.0678552, 0.9914314, 0.9903309, 0.98941994, 0.9891567]  |\n",
      "|16    |[1, 5, 2, 4, 6]|[1.067719, 0.9914297, 0.99141026, 0.990965, 0.99046445]   |\n",
      "|22    |[1, 3, 2, 5, 4]|[1.075126, 0.99630827, 0.985632, 0.98390496, 0.98322177]  |\n",
      "|26    |[1, 5, 2, 4, 6]|[1.0689243, 0.9908544, 0.99049705, 0.99009454, 0.98965096]|\n",
      "|27    |[1, 3, 2, 4, 5]|[1.0532255, 0.993808, 0.9893897, 0.98748857, 0.98745155]  |\n",
      "|28    |[1, 5, 2, 4, 6]|[1.0684443, 0.99052495, 0.99040747, 0.9898506, 0.98936677]|\n",
      "|31    |[1, 3, 2, 5, 4]|[2.1483302, 1.9881383, 1.9831319, 1.9826151, 1.9816136]   |\n",
      "+------+---------------+----------------------------------------------------------+\n",
      "only showing top 10 rows\n",
      "\n"
     ]
    }
   ],
   "source": [
    "userRecommends.select([\"userId\",\"recommendations.Cluster_result\",\"recommendations.rating\"]).show(10,truncate=False)"
   ]
  },
  {
   "cell_type": "code",
   "execution_count": 73,
   "id": "c18fbd4d-e921-46b5-9aeb-431659a4d3fd",
   "metadata": {},
   "outputs": [],
   "source": [
    "actual = [listo for listo in actual_loans_taken_dict.values()]"
   ]
  },
  {
   "cell_type": "code",
   "execution_count": 74,
   "id": "2b488d0d-bb53-4e89-9b5e-ec73b5581f30",
   "metadata": {},
   "outputs": [],
   "source": [
    "predicted = [listo['Recommendation'] for listo in top_n_recommendations]"
   ]
  },
  {
   "cell_type": "code",
   "execution_count": 75,
   "id": "27a4c8a0-2e1e-42ce-a8a6-26d968029238",
   "metadata": {},
   "outputs": [],
   "source": [
    "def average_precision_at_k(actual, predicted, k):\n",
    "    # Initialize variables\n",
    "    num_hits = 0\n",
    "    precision_at_k = 0.0\n",
    "\n",
    "    # Iterate over the predicted list up to k\n",
    "    for i, p in enumerate(predicted[:k]):\n",
    "        # Check if the predicted item at position i is in the actual list\n",
    "        if p in actual:\n",
    "            num_hits += 1\n",
    "            # Calculate precision at position i\n",
    "            precision_at_k += num_hits / (i + 1)\n",
    "\n",
    "    # Calculate average precision at k\n",
    "    if not actual:\n",
    "        return 0.0\n",
    "    else:\n",
    "        return precision_at_k / min(len(actual), k)\n",
    "\n",
    "def map_at_k(actual, predicted, k):\n",
    "    # Calculate average precision at k for each query or user\n",
    "    average_precisions = [average_precision_at_k(a, p, k) for a, p in zip(actual, predicted)]\n",
    "    \n",
    "    # Return the mean of average precision at k values\n",
    "    return sum(average_precisions) / len(average_precisions)"
   ]
  },
  {
   "cell_type": "code",
   "execution_count": 76,
   "id": "3ef73b1f-3a48-4199-9e96-0e9baa294c8b",
   "metadata": {},
   "outputs": [
    {
     "name": "stdout",
     "output_type": "stream",
     "text": [
      "MAP@5: 0.2007\n"
     ]
    }
   ],
   "source": [
    "\n",
    "k = 5\n",
    "map_at_5 = map_at_k(actual, predicted, k)\n",
    "print(\"MAP@{}: {:.4f}\".format(k, map_at_5))"
   ]
  },
  {
   "cell_type": "code",
   "execution_count": 106,
   "id": "d4e2ce6d-25b7-4cfc-9b70-77b743902200",
   "metadata": {},
   "outputs": [
    {
     "name": "stdout",
     "output_type": "stream",
     "text": [
      "MAP@3: 0.2090\n"
     ]
    }
   ],
   "source": [
    "k = 3\n",
    "map_at_5 = map_at_k(actual, predicted, k)\n",
    "print(\"MAP@{}: {:.4f}\".format(k, map_at_5))"
   ]
  },
  {
   "cell_type": "code",
   "execution_count": 77,
   "id": "a57a1ecb-d2e1-4a5c-a3a7-252abff9658c",
   "metadata": {},
   "outputs": [],
   "source": [
    "userRecomd = userRecommends.select(\"recommendations.Cluster_result\").collect() #.show(10,truncate=False)"
   ]
  },
  {
   "cell_type": "code",
   "execution_count": 78,
   "id": "d46c9ee8-9968-4d0c-985e-1a76e4f1fbad",
   "metadata": {},
   "outputs": [],
   "source": [
    "ALsRecomd = [elemt.asDict()['Cluster_result'] for elemt in userRecomd]"
   ]
  },
  {
   "cell_type": "code",
   "execution_count": 79,
   "id": "c7382062-b088-4fb3-b76c-c17b8381da5a",
   "metadata": {},
   "outputs": [
    {
     "name": "stdout",
     "output_type": "stream",
     "text": [
      "MAP@5: 0.1339\n"
     ]
    }
   ],
   "source": [
    "\n",
    "k = 5\n",
    "map_at_5 = map_at_k(actual, ALsRecomd, k)\n",
    "print(\"MAP@{}: {:.4f}\".format(k, map_at_5))"
   ]
  },
  {
   "cell_type": "code",
   "execution_count": null,
   "id": "e7cdbb10-4a42-42b5-9455-a2123c0f8eff",
   "metadata": {},
   "outputs": [],
   "source": []
  },
  {
   "cell_type": "code",
   "execution_count": null,
   "id": "c6e81957-5424-4d26-b705-46f7168ff355",
   "metadata": {},
   "outputs": [],
   "source": []
  },
  {
   "cell_type": "code",
   "execution_count": null,
   "id": "654ad84a-e18c-4510-8c06-af7d55434e63",
   "metadata": {},
   "outputs": [],
   "source": []
  },
  {
   "cell_type": "code",
   "execution_count": null,
   "id": "628f205b-3613-4abb-9310-bd45e1e03357",
   "metadata": {},
   "outputs": [],
   "source": []
  },
  {
   "cell_type": "markdown",
   "id": "f37aa796-bc53-4cfd-a06f-7d7cf4c50d5c",
   "metadata": {
    "id": "f37aa796-bc53-4cfd-a06f-7d7cf4c50d5c"
   },
   "source": [
    "##  Calculate centered cosine similarity:"
   ]
  },
  {
   "cell_type": "code",
   "execution_count": 67,
   "id": "276d4b2a-9d94-40cb-a7f1-2aeb64938ffc",
   "metadata": {
    "id": "276d4b2a-9d94-40cb-a7f1-2aeb64938ffc"
   },
   "outputs": [],
   "source": [
    "def centered_cosine_similarity(u, v):\n",
    "    \"\"\" Calculate centered cosine similarity between two vectors u and v. \"\"\"\n",
    "    # Calculate mean of u and v\n",
    "    mean_u = sum(u) / len(u)\n",
    "    mean_v = sum(v) / len(v)\n",
    "\n",
    "    # Subtract mean from u and v\n",
    "    centered_u = Vectors.dense([x - mean_u for x in u])\n",
    "    centered_v = Vectors.dense([x - mean_v for x in v])\n",
    "\n",
    "    # Calculate centered cosine similarity\n",
    "    dot_product = float(centered_u.dot(centered_v))\n",
    "    norm_u = float(centered_u.norm(2))\n",
    "    norm_v = float(centered_v.norm(2))\n",
    "\n",
    "    centered_sim = dot_product / (norm_u * norm_v)\n",
    "    return centered_sim\n"
   ]
  },
  {
   "cell_type": "markdown",
   "id": "19afff63-8654-410f-b0e1-3579c0dbaf90",
   "metadata": {
    "id": "19afff63-8654-410f-b0e1-3579c0dbaf90"
   },
   "source": [
    "### User-User Centerd Cosine Similarity code"
   ]
  },
  {
   "cell_type": "code",
   "execution_count": 68,
   "id": "a32fbefc-c5b8-4cd0-be5e-8caf9a7a43c5",
   "metadata": {
    "colab": {
     "base_uri": "https://localhost:8080/"
    },
    "id": "a32fbefc-c5b8-4cd0-be5e-8caf9a7a43c5",
    "outputId": "641b5329-1f9f-482e-ec3e-ee687aca0934"
   },
   "outputs": [
    {
     "name": "stdout",
     "output_type": "stream",
     "text": [
      "Centered Cosine similarity between users 10 and 20: 0.9958091259308894\n"
     ]
    }
   ],
   "source": [
    "# Example usage\n",
    "user1_id = 10\n",
    "user2_id = 20\n",
    "user1_factors = userFactors.filter(userFactors.id == user1_id ).collect()[0][1]\n",
    "user2_factors = userFactors.filter(userFactors.id == user2_id ).collect()[0][1]\n",
    "similarity = centered_cosine_similarity(user1_factors, user2_factors)\n",
    "print(f\"Centered Cosine similarity between users {user1_id} and {user2_id}: {similarity}\")\n"
   ]
  },
  {
   "cell_type": "markdown",
   "id": "af032ead-97f1-49fb-b084-2e49794a33d6",
   "metadata": {
    "id": "af032ead-97f1-49fb-b084-2e49794a33d6"
   },
   "source": [
    "### User-Item Centerd Cosine Similarity code"
   ]
  },
  {
   "cell_type": "code",
   "execution_count": 69,
   "id": "44d9be35-49c5-4127-9c43-75fb2c98cbe7",
   "metadata": {
    "colab": {
     "base_uri": "https://localhost:8080/"
    },
    "id": "44d9be35-49c5-4127-9c43-75fb2c98cbe7",
    "outputId": "0b836551-00b9-4c11-9b1e-6c48494a5a6f"
   },
   "outputs": [
    {
     "name": "stdout",
     "output_type": "stream",
     "text": [
      "Centered Cosine similarity between users 10 and Item 1: 0.9846653141373279\n"
     ]
    }
   ],
   "source": [
    "# Example usage\n",
    "user1_id = 10\n",
    "item_id = 1\n",
    "user2_factors = userFactors.filter(userFactors.id == user1_id ).collect()[0][1]\n",
    "item3_factors = itemFactors.filter(itemFactors.id == item_id ).collect()[0][1]\n",
    "\n",
    "user_item_similarity = centered_cosine_similarity(user2_factors, item3_factors)\n",
    "print(f\"Centered Cosine similarity between users {user1_id} and Item {item_id}: {user_item_similarity}\")\n"
   ]
  },
  {
   "cell_type": "markdown",
   "id": "371d1ad2-6233-42fa-9162-faa06c8809d2",
   "metadata": {
    "id": "371d1ad2-6233-42fa-9162-faa06c8809d2"
   },
   "source": [
    "### Centered Cosine Similarity of user 10 with all Loans"
   ]
  },
  {
   "cell_type": "code",
   "execution_count": 70,
   "id": "45b22d6b-9553-4b4f-a3b5-80751b15a360",
   "metadata": {
    "id": "45b22d6b-9553-4b4f-a3b5-80751b15a360"
   },
   "outputs": [],
   "source": [
    "topNLoanforuser10 = []\n",
    "for item in range(itemFactors.count()):\n",
    "    item_id = itemFactors.select(\"Id\").sort(\"Id\").take(itemFactors.count())[item][0]\n",
    "    user1_id = 10\n",
    "    user_factors = userFactors.filter(userFactors.id == user1_id ).collect()[0][1]\n",
    "    item_factors = itemFactors.filter(itemFactors.id == item_id ).collect()[0][1]\n",
    "\n",
    "\n",
    "    user_item_similarity = centered_cosine_similarity(user_factors, item_factors)\n",
    "    topNLoanforuser10.append({\"userID\":user1_id,\"LoanId\":item_id,\"CenteredSimilarity\":user_item_similarity})"
   ]
  },
  {
   "cell_type": "code",
   "execution_count": null,
   "id": "e34d3003-bf4b-464c-8da7-b34a75136698",
   "metadata": {
    "id": "e34d3003-bf4b-464c-8da7-b34a75136698"
   },
   "outputs": [],
   "source": []
  },
  {
   "cell_type": "code",
   "execution_count": 71,
   "id": "43fcd076-13d2-4667-b7ad-ffd8dc9ae04d",
   "metadata": {
    "colab": {
     "base_uri": "https://localhost:8080/"
    },
    "id": "43fcd076-13d2-4667-b7ad-ffd8dc9ae04d",
    "outputId": "ce4150cd-d676-47a9-eab9-144a306f6190"
   },
   "outputs": [
    {
     "data": {
      "text/plain": [
       "[{'userID': 10, 'LoanId': 3, 'CenteredSimilarity': 0.9999751517477451},\n",
       " {'userID': 10, 'LoanId': 4, 'CenteredSimilarity': 0.9996252399081585},\n",
       " {'userID': 10, 'LoanId': 5, 'CenteredSimilarity': 0.9993524436452954},\n",
       " {'userID': 10, 'LoanId': 2, 'CenteredSimilarity': 0.9993435123150312},\n",
       " {'userID': 10, 'LoanId': 7, 'CenteredSimilarity': 0.9968689838562832},\n",
       " {'userID': 10, 'LoanId': 6, 'CenteredSimilarity': 0.9961854650889006},\n",
       " {'userID': 10, 'LoanId': 8, 'CenteredSimilarity': 0.9958091262067013},\n",
       " {'userID': 10, 'LoanId': 9, 'CenteredSimilarity': 0.9921921103738105},\n",
       " {'userID': 10, 'LoanId': 25, 'CenteredSimilarity': 0.9883251622950934},\n",
       " {'userID': 10, 'LoanId': 11, 'CenteredSimilarity': 0.9872106949357707},\n",
       " {'userID': 10, 'LoanId': 10, 'CenteredSimilarity': 0.9860440617410834},\n",
       " {'userID': 10, 'LoanId': 12, 'CenteredSimilarity': 0.9850307062957183},\n",
       " {'userID': 10, 'LoanId': 1, 'CenteredSimilarity': 0.9846653141373279},\n",
       " {'userID': 10, 'LoanId': 14, 'CenteredSimilarity': 0.981785449369162},\n",
       " {'userID': 10, 'LoanId': 13, 'CenteredSimilarity': 0.9817486250975127},\n",
       " {'userID': 10, 'LoanId': 16, 'CenteredSimilarity': 0.9804982641545484},\n",
       " {'userID': 10, 'LoanId': 15, 'CenteredSimilarity': 0.9796448028997394},\n",
       " {'userID': 10, 'LoanId': 17, 'CenteredSimilarity': 0.977077954579145},\n",
       " {'userID': 10, 'LoanId': 18, 'CenteredSimilarity': 0.9729256410405002},\n",
       " {'userID': 10, 'LoanId': 20, 'CenteredSimilarity': 0.9726260460202927},\n",
       " {'userID': 10, 'LoanId': 19, 'CenteredSimilarity': 0.9692600526908777},\n",
       " {'userID': 10, 'LoanId': 21, 'CenteredSimilarity': 0.9631191535674976},\n",
       " {'userID': 10, 'LoanId': 22, 'CenteredSimilarity': 0.9587758486494766},\n",
       " {'userID': 10, 'LoanId': 28, 'CenteredSimilarity': 0.9494055211793287},\n",
       " {'userID': 10, 'LoanId': 26, 'CenteredSimilarity': 0.9488803847996157},\n",
       " {'userID': 10, 'LoanId': 29, 'CenteredSimilarity': 0.9425383949676939},\n",
       " {'userID': 10, 'LoanId': 23, 'CenteredSimilarity': 0.9424014815755941},\n",
       " {'userID': 10, 'LoanId': 31, 'CenteredSimilarity': 0.9389234349974206},\n",
       " {'userID': 10, 'LoanId': 33, 'CenteredSimilarity': 0.9379017606460857},\n",
       " {'userID': 10, 'LoanId': 27, 'CenteredSimilarity': 0.9365658273070815},\n",
       " {'userID': 10, 'LoanId': 30, 'CenteredSimilarity': 0.9298412889891267},\n",
       " {'userID': 10, 'LoanId': 24, 'CenteredSimilarity': 0.9223730896878614},\n",
       " {'userID': 10, 'LoanId': 36, 'CenteredSimilarity': 0.9167024415853037},\n",
       " {'userID': 10, 'LoanId': 32, 'CenteredSimilarity': 0.9134915043581621},\n",
       " {'userID': 10, 'LoanId': 35, 'CenteredSimilarity': 0.9028532010178227},\n",
       " {'userID': 10, 'LoanId': 34, 'CenteredSimilarity': 0.8950783567139174},\n",
       " {'userID': 10, 'LoanId': 37, 'CenteredSimilarity': 0.8905033474737468},\n",
       " {'userID': 10, 'LoanId': 38, 'CenteredSimilarity': 0.8825736654083336}]"
      ]
     },
     "execution_count": 71,
     "metadata": {},
     "output_type": "execute_result"
    }
   ],
   "source": [
    "sorted_list = sorted(topNLoanforuser10, key=operator.itemgetter('CenteredSimilarity'),reverse=True)\n",
    "sorted_list"
   ]
  },
  {
   "cell_type": "code",
   "execution_count": 72,
   "id": "4208959e-85a9-4a9c-a0cb-be5b661f121a",
   "metadata": {
    "colab": {
     "base_uri": "https://localhost:8080/"
    },
    "id": "4208959e-85a9-4a9c-a0cb-be5b661f121a",
    "outputId": "24d6b2a5-11ae-4519-b003-483a5753b1b6"
   },
   "outputs": [
    {
     "data": {
      "text/plain": [
       "[{'userID': 10, 'LoanId': 1, 'CenteredSimilarity': 0.9846653141373279},\n",
       " {'userID': 10, 'LoanId': 2, 'CenteredSimilarity': 0.9993435123150312},\n",
       " {'userID': 10, 'LoanId': 3, 'CenteredSimilarity': 0.9999751517477451},\n",
       " {'userID': 10, 'LoanId': 4, 'CenteredSimilarity': 0.9996252399081585},\n",
       " {'userID': 10, 'LoanId': 5, 'CenteredSimilarity': 0.9993524436452954},\n",
       " {'userID': 10, 'LoanId': 6, 'CenteredSimilarity': 0.9961854650889006},\n",
       " {'userID': 10, 'LoanId': 7, 'CenteredSimilarity': 0.9968689838562832},\n",
       " {'userID': 10, 'LoanId': 8, 'CenteredSimilarity': 0.9958091262067013},\n",
       " {'userID': 10, 'LoanId': 9, 'CenteredSimilarity': 0.9921921103738105},\n",
       " {'userID': 10, 'LoanId': 10, 'CenteredSimilarity': 0.9860440617410834},\n",
       " {'userID': 10, 'LoanId': 11, 'CenteredSimilarity': 0.9872106949357707},\n",
       " {'userID': 10, 'LoanId': 12, 'CenteredSimilarity': 0.9850307062957183},\n",
       " {'userID': 10, 'LoanId': 13, 'CenteredSimilarity': 0.9817486250975127},\n",
       " {'userID': 10, 'LoanId': 14, 'CenteredSimilarity': 0.981785449369162},\n",
       " {'userID': 10, 'LoanId': 15, 'CenteredSimilarity': 0.9796448028997394},\n",
       " {'userID': 10, 'LoanId': 16, 'CenteredSimilarity': 0.9804982641545484},\n",
       " {'userID': 10, 'LoanId': 17, 'CenteredSimilarity': 0.977077954579145},\n",
       " {'userID': 10, 'LoanId': 18, 'CenteredSimilarity': 0.9729256410405002},\n",
       " {'userID': 10, 'LoanId': 19, 'CenteredSimilarity': 0.9692600526908777},\n",
       " {'userID': 10, 'LoanId': 20, 'CenteredSimilarity': 0.9726260460202927},\n",
       " {'userID': 10, 'LoanId': 21, 'CenteredSimilarity': 0.9631191535674976},\n",
       " {'userID': 10, 'LoanId': 22, 'CenteredSimilarity': 0.9587758486494766},\n",
       " {'userID': 10, 'LoanId': 23, 'CenteredSimilarity': 0.9424014815755941},\n",
       " {'userID': 10, 'LoanId': 24, 'CenteredSimilarity': 0.9223730896878614},\n",
       " {'userID': 10, 'LoanId': 25, 'CenteredSimilarity': 0.9883251622950934},\n",
       " {'userID': 10, 'LoanId': 26, 'CenteredSimilarity': 0.9488803847996157},\n",
       " {'userID': 10, 'LoanId': 27, 'CenteredSimilarity': 0.9365658273070815},\n",
       " {'userID': 10, 'LoanId': 28, 'CenteredSimilarity': 0.9494055211793287},\n",
       " {'userID': 10, 'LoanId': 29, 'CenteredSimilarity': 0.9425383949676939},\n",
       " {'userID': 10, 'LoanId': 30, 'CenteredSimilarity': 0.9298412889891267},\n",
       " {'userID': 10, 'LoanId': 31, 'CenteredSimilarity': 0.9389234349974206},\n",
       " {'userID': 10, 'LoanId': 32, 'CenteredSimilarity': 0.9134915043581621},\n",
       " {'userID': 10, 'LoanId': 33, 'CenteredSimilarity': 0.9379017606460857},\n",
       " {'userID': 10, 'LoanId': 34, 'CenteredSimilarity': 0.8950783567139174},\n",
       " {'userID': 10, 'LoanId': 35, 'CenteredSimilarity': 0.9028532010178227},\n",
       " {'userID': 10, 'LoanId': 36, 'CenteredSimilarity': 0.9167024415853037},\n",
       " {'userID': 10, 'LoanId': 37, 'CenteredSimilarity': 0.8905033474737468},\n",
       " {'userID': 10, 'LoanId': 38, 'CenteredSimilarity': 0.8825736654083336}]"
      ]
     },
     "execution_count": 72,
     "metadata": {},
     "output_type": "execute_result"
    }
   ],
   "source": [
    "sorted(topNLoanforuser10, key=operator.itemgetter('LoanId') )"
   ]
  },
  {
   "cell_type": "markdown",
   "id": "f81c7feb-5cde-439c-95c1-58ceba8c153f",
   "metadata": {
    "id": "bda9c1f5-25a0-42a2-acd6-073eb86e466f"
   },
   "source": [
    "## Cosine Similarity of all users with all loans"
   ]
  },
  {
   "cell_type": "code",
   "execution_count": 73,
   "id": "339cd31c-5804-4f05-a949-2de67919deff",
   "metadata": {
    "id": "339cd31c-5804-4f05-a949-2de67919deff"
   },
   "outputs": [],
   "source": [
    "# Collect all user factors into a dictionary\n",
    "user_factors_dict = userFactors.select(\"id\", \"features\").rdd.collectAsMap()\n",
    "\n",
    "# Broadcast the user factors dictionary to all workers\n",
    "broadcast_user_factors = spark.sparkContext.broadcast(user_factors_dict)\n",
    "\n",
    "# Collect all item factors into a dictionary\n",
    "item_factors_dict = itemFactors.select(\"id\", \"features\").rdd.collectAsMap()\n",
    "\n",
    "# Broadcast the item factors dictionary to all workers\n",
    "broadcast_item_factors = spark.sparkContext.broadcast(item_factors_dict)"
   ]
  },
  {
   "cell_type": "code",
   "execution_count": 74,
   "id": "682d6dff-efa2-4ce4-8626-1561af385d48",
   "metadata": {},
   "outputs": [],
   "source": [
    "def centered_cosine_similarity(u, v):\n",
    "    \"\"\" Calculate centered cosine similarity between two vectors u and v. \"\"\"\n",
    "    # Calculate mean of u and v\n",
    "    mean_u = sum(u) / len(u)\n",
    "    mean_v = sum(v) / len(v)\n",
    "\n",
    "    # Subtract mean from u and v\n",
    "    centered_u = Vectors.dense([x - mean_u for x in u])\n",
    "    centered_v = Vectors.dense([x - mean_v for x in v])\n",
    "\n",
    "    # Calculate centered cosine similarity\n",
    "    dot_product = float(centered_u.dot(centered_v))\n",
    "    norm_u = float(centered_u.norm(2))\n",
    "    norm_v = float(centered_v.norm(2))\n",
    "\n",
    "    centered_sim = dot_product / (norm_u * norm_v)\n",
    "    return centered_sim"
   ]
  },
  {
   "cell_type": "code",
   "execution_count": 75,
   "id": "3d642ef8-ec11-4194-a4f7-1184fcd3e536",
   "metadata": {
    "id": "3d642ef8-ec11-4194-a4f7-1184fcd3e536"
   },
   "outputs": [
    {
     "name": "stdout",
     "output_type": "stream",
     "text": [
      "The time taken to run code for 25000 users is : 0.006168066263198852 hours\n"
     ]
    }
   ],
   "source": [
    "# Initialize list to store recommendations\n",
    "Centered_CosineSilty_first10 = []\n",
    "starttime = time.time()\n",
    "Nusers = 25000\n",
    "\n",
    "# Iterate over users\n",
    "for userId in range(1, Nusers):\n",
    "    user_factors = broadcast_user_factors.value.get(userId)\n",
    "    if user_factors:\n",
    "        TopCosineLoanforuser10 = []\n",
    "        # Iterate over items\n",
    "        for item_id, item_factors in broadcast_item_factors.value.items():\n",
    "            user_item_similarity = centered_cosine_similarity(user_factors, item_factors)\n",
    "            TopCosineLoanforuser10.append({item_id: user_item_similarity})\n",
    "\n",
    "        # Sort recommendations based on similarity\n",
    "        Recomnd_loans = sorted(TopCosineLoanforuser10, key=lambda x: list(x.values())[0], reverse=True)\n",
    "        Centered_CosineSilty_first10.append({\"UserId\": userId, \"Recommendation\": Recomnd_loans})\n",
    "\n",
    "endtime = time.time()\n",
    "runtime_hours = (endtime - starttime) / 3600\n",
    "print(f\"The time taken to run code for {Nusers} users is : {runtime_hours} hours\")"
   ]
  },
  {
   "cell_type": "code",
   "execution_count": null,
   "id": "4c06228d-a082-4a3b-9e3f-feee5a68cf8d",
   "metadata": {
    "id": "4c06228d-a082-4a3b-9e3f-feee5a68cf8d"
   },
   "outputs": [],
   "source": []
  },
  {
   "cell_type": "code",
   "execution_count": 76,
   "id": "ed0ef5dc-e915-4f8e-b865-b1746bf5f087",
   "metadata": {
    "id": "ed0ef5dc-e915-4f8e-b865-b1746bf5f087"
   },
   "outputs": [],
   "source": [
    "# Define a function to extract top-N recommendations\n",
    "def extract_top_n_recommendations(recommendations_data, n=2500):\n",
    "    top_n_recommendations = [{'userId': user_recommendation['UserId'],\n",
    "                              'Recommendation': [list(rec.keys())[0] for rec in user_recommendation['Recommendation'][:n]]}\n",
    "                             for user_recommendation in recommendations_data]\n",
    "    return top_n_recommendations\n",
    "\n",
    "# Extract top-N recommendations\n",
    "starttime = time.time()\n",
    "top_n_Centered_recommendations = extract_top_n_recommendations(Centered_CosineSilty_first10, n=5)\n",
    "endtime = time.time()\n",
    "runtime_hours = (endtime - starttime) / 3600\n"
   ]
  },
  {
   "cell_type": "code",
   "execution_count": null,
   "id": "c4547435-9941-4520-9b28-8ff839ae7ed3",
   "metadata": {
    "id": "c4547435-9941-4520-9b28-8ff839ae7ed3"
   },
   "outputs": [],
   "source": []
  },
  {
   "cell_type": "code",
   "execution_count": 77,
   "id": "d11d5c2c-3baf-4b7b-8ef9-de0f952243b8",
   "metadata": {
    "id": "d11d5c2c-3baf-4b7b-8ef9-de0f952243b8"
   },
   "outputs": [],
   "source": [
    "# Function to recommend top N loans not taken by the user\n",
    "def recommend_loans_not_taken(user_id, recommendations, actual_loans_taken, top_n):\n",
    "    taken_loans = set(actual_loans_taken.get(user_id, []))\n",
    "    recommended_loans = []\n",
    "    for rec in recommendations:\n",
    "        loan_id = list(rec.keys())[0]\n",
    "        if loan_id not in taken_loans:\n",
    "            recommended_loans.append(loan_id)\n",
    "            if len(recommended_loans) == top_n:\n",
    "                break\n",
    "    return recommended_loans\n",
    "\n",
    "# Define a dictionary to store actual loans taken by each user\n",
    "actual_loans_taken_dict = {record['userId']: record['loans'] for record in Actual_loans_taken}\n",
    "\n",
    "# Create a list to store recommendations for each user\n",
    "recommendations_for_users = []\n",
    "\n",
    "# Iterate over each user\n",
    "for rec_user in Centered_CosineSilty_first10:\n",
    "    user_id = rec_user['UserId']\n",
    "    recommendations = rec_user['Recommendation']\n",
    "    # Recommend top N loans not taken by the user\n",
    "    recommended_loans = recommend_loans_not_taken(user_id, recommendations, actual_loans_taken_dict, top_n=5)\n",
    "    recommendations_for_users.append({'UserId': user_id, 'Recommendations': recommended_loans})\n",
    "\n"
   ]
  },
  {
   "cell_type": "code",
   "execution_count": null,
   "id": "7c6af000-b911-435a-8696-9633218b5770",
   "metadata": {
    "id": "7c6af000-b911-435a-8696-9633218b5770"
   },
   "outputs": [],
   "source": []
  },
  {
   "cell_type": "code",
   "execution_count": 78,
   "id": "c68c5e5d-e5ac-4508-a423-3e330cb8f111",
   "metadata": {
    "id": "c68c5e5d-e5ac-4508-a423-3e330cb8f111"
   },
   "outputs": [],
   "source": [
    "def average_precision_at_k(actual, predicted, k):\n",
    "    # Initialize variables\n",
    "    num_hits = 0\n",
    "    precision_at_k = 0.0\n",
    "\n",
    "    # Iterate over the predicted list up to k\n",
    "    for i, p in enumerate(predicted[:k]):\n",
    "        # Check if the predicted item at position i is in the actual list\n",
    "        if p in actual:\n",
    "            num_hits += 1\n",
    "            # Calculate precision at position i\n",
    "            precision_at_k += num_hits / (i + 1)\n",
    "\n",
    "    # Calculate average precision at k\n",
    "    if not actual:\n",
    "        return 0.0\n",
    "    else:\n",
    "        return precision_at_k / min(len(actual), k)\n",
    "\n",
    "def map_at_k(actual, predicted, k):\n",
    "    # Calculate average precision at k for each query or user\n",
    "    average_precisions = [average_precision_at_k(a, p, k) for a, p in zip(actual, predicted)]\n",
    "    \n",
    "    # Return the mean of average precision at k values\n",
    "    return sum(average_precisions) / len(average_precisions)"
   ]
  },
  {
   "cell_type": "code",
   "execution_count": 79,
   "id": "63416651-664b-403e-9596-9e66b2393fb0",
   "metadata": {
    "id": "63416651-664b-403e-9596-9e66b2393fb0"
   },
   "outputs": [],
   "source": [
    "actual = [listo for listo in actual_loans_taken_dict.values()]\n",
    "predicted = [listo['Recommendation'] for listo in top_n_Centered_recommendations]"
   ]
  },
  {
   "cell_type": "code",
   "execution_count": 80,
   "id": "256e7129-1d41-4c83-a8fe-35b3096769c5",
   "metadata": {
    "id": "256e7129-1d41-4c83-a8fe-35b3096769c5"
   },
   "outputs": [
    {
     "name": "stdout",
     "output_type": "stream",
     "text": [
      "MAP@5: 0.1867\n"
     ]
    }
   ],
   "source": [
    "\n",
    "k = 5\n",
    "map_at_5 = map_at_k(actual, predicted, k)\n",
    "print(\"MAP@{}: {:.4f}\".format(k, map_at_5))"
   ]
  },
  {
   "cell_type": "code",
   "execution_count": null,
   "id": "bd030929-f4a4-4c3c-92c5-3fb9927288d0",
   "metadata": {
    "id": "bd030929-f4a4-4c3c-92c5-3fb9927288d0"
   },
   "outputs": [],
   "source": []
  },
  {
   "cell_type": "code",
   "execution_count": null,
   "id": "d3357146-82d1-43df-866e-f1f793b5d5f7",
   "metadata": {
    "id": "d3357146-82d1-43df-866e-f1f793b5d5f7"
   },
   "outputs": [],
   "source": []
  },
  {
   "cell_type": "code",
   "execution_count": null,
   "id": "e91e388e-5cad-4204-ad5d-d135cdfc481a",
   "metadata": {
    "id": "e91e388e-5cad-4204-ad5d-d135cdfc481a"
   },
   "outputs": [],
   "source": []
  },
  {
   "cell_type": "code",
   "execution_count": null,
   "id": "ba3d5312-52ec-474a-9d94-2c6c7c1e50e8",
   "metadata": {
    "id": "ba3d5312-52ec-474a-9d94-2c6c7c1e50e8"
   },
   "outputs": [],
   "source": []
  },
  {
   "cell_type": "code",
   "execution_count": null,
   "id": "c944b550-9463-441a-9e25-9018e50567c5",
   "metadata": {
    "id": "c944b550-9463-441a-9e25-9018e50567c5"
   },
   "outputs": [],
   "source": []
  },
  {
   "cell_type": "code",
   "execution_count": null,
   "id": "7ec2edd5-0e51-4c5f-834e-8d55dbdc7b71",
   "metadata": {
    "id": "7ec2edd5-0e51-4c5f-834e-8d55dbdc7b71"
   },
   "outputs": [],
   "source": []
  },
  {
   "cell_type": "code",
   "execution_count": null,
   "id": "5717f72b-7997-42c5-8832-bfd3f5e40e4c",
   "metadata": {
    "id": "5717f72b-7997-42c5-8832-bfd3f5e40e4c"
   },
   "outputs": [],
   "source": []
  },
  {
   "cell_type": "code",
   "execution_count": null,
   "id": "036d5eea-a979-4bd6-ab7b-c276c3f51380",
   "metadata": {
    "id": "036d5eea-a979-4bd6-ab7b-c276c3f51380"
   },
   "outputs": [],
   "source": []
  },
  {
   "cell_type": "code",
   "execution_count": null,
   "id": "5f5e4e30-3372-425d-9d1d-c71cf1f10873",
   "metadata": {
    "id": "5f5e4e30-3372-425d-9d1d-c71cf1f10873"
   },
   "outputs": [],
   "source": []
  },
  {
   "cell_type": "code",
   "execution_count": null,
   "id": "abbe1e09-23b1-460f-a365-240ded79997e",
   "metadata": {
    "id": "abbe1e09-23b1-460f-a365-240ded79997e"
   },
   "outputs": [],
   "source": []
  },
  {
   "cell_type": "code",
   "execution_count": null,
   "id": "7b1fa6c2-9d42-4d95-afbe-4f98ecaa34a6",
   "metadata": {
    "id": "7b1fa6c2-9d42-4d95-afbe-4f98ecaa34a6"
   },
   "outputs": [],
   "source": []
  },
  {
   "cell_type": "code",
   "execution_count": null,
   "id": "5d54c7f1-d510-44bb-b43f-aca4d69bf48c",
   "metadata": {
    "id": "5d54c7f1-d510-44bb-b43f-aca4d69bf48c"
   },
   "outputs": [],
   "source": []
  },
  {
   "cell_type": "code",
   "execution_count": null,
   "id": "28f4c194-45a6-454a-a425-04b70cce6b4b",
   "metadata": {
    "id": "28f4c194-45a6-454a-a425-04b70cce6b4b"
   },
   "outputs": [],
   "source": []
  },
  {
   "cell_type": "code",
   "execution_count": null,
   "id": "6d03f14c-5673-441f-9fb5-3914644d1ae3",
   "metadata": {
    "id": "6d03f14c-5673-441f-9fb5-3914644d1ae3"
   },
   "outputs": [],
   "source": []
  },
  {
   "cell_type": "code",
   "execution_count": null,
   "id": "278c1b14-281f-4cbc-95e8-27f68fd40a4a",
   "metadata": {
    "id": "278c1b14-281f-4cbc-95e8-27f68fd40a4a"
   },
   "outputs": [],
   "source": []
  },
  {
   "cell_type": "code",
   "execution_count": null,
   "id": "e618922a-344e-4fb1-b2e2-88de635c969e",
   "metadata": {
    "id": "e618922a-344e-4fb1-b2e2-88de635c969e"
   },
   "outputs": [],
   "source": []
  },
  {
   "cell_type": "code",
   "execution_count": null,
   "id": "3421dd79-d437-4c41-bc4f-cdf05411e089",
   "metadata": {
    "id": "3421dd79-d437-4c41-bc4f-cdf05411e089"
   },
   "outputs": [],
   "source": []
  },
  {
   "cell_type": "code",
   "execution_count": null,
   "id": "e28c76af-7617-4f97-b041-e109469ad3eb",
   "metadata": {
    "id": "e28c76af-7617-4f97-b041-e109469ad3eb"
   },
   "outputs": [],
   "source": []
  },
  {
   "cell_type": "code",
   "execution_count": null,
   "id": "c829b7f0-0e63-46bb-bf15-dcec978badf9",
   "metadata": {
    "id": "c829b7f0-0e63-46bb-bf15-dcec978badf9"
   },
   "outputs": [],
   "source": []
  },
  {
   "cell_type": "code",
   "execution_count": null,
   "id": "f9ea209a-1981-46b5-9a5f-f161bc16ff73",
   "metadata": {
    "id": "f9ea209a-1981-46b5-9a5f-f161bc16ff73"
   },
   "outputs": [],
   "source": []
  },
  {
   "cell_type": "code",
   "execution_count": null,
   "id": "2c404be4-aab7-4dfd-8711-5acb10d6fb44",
   "metadata": {
    "id": "2c404be4-aab7-4dfd-8711-5acb10d6fb44"
   },
   "outputs": [],
   "source": []
  },
  {
   "cell_type": "code",
   "execution_count": null,
   "id": "52d77289-2856-4fde-bf75-270d73bdadb7",
   "metadata": {
    "id": "52d77289-2856-4fde-bf75-270d73bdadb7"
   },
   "outputs": [],
   "source": []
  },
  {
   "cell_type": "code",
   "execution_count": null,
   "id": "69ebb281-b9df-4c56-bbc5-a13c4ce7fa3d",
   "metadata": {
    "id": "69ebb281-b9df-4c56-bbc5-a13c4ce7fa3d"
   },
   "outputs": [],
   "source": []
  },
  {
   "cell_type": "code",
   "execution_count": null,
   "id": "3c8e36af-6f95-4836-9fa2-4255f0e8c996",
   "metadata": {
    "id": "3c8e36af-6f95-4836-9fa2-4255f0e8c996"
   },
   "outputs": [],
   "source": []
  },
  {
   "cell_type": "code",
   "execution_count": null,
   "id": "c5cea054-a7e3-475e-9496-625fa922e6ac",
   "metadata": {
    "id": "c5cea054-a7e3-475e-9496-625fa922e6ac"
   },
   "outputs": [],
   "source": []
  },
  {
   "cell_type": "code",
   "execution_count": null,
   "id": "9551ee09-871f-4714-aca0-f1367b427cb4",
   "metadata": {
    "id": "9551ee09-871f-4714-aca0-f1367b427cb4"
   },
   "outputs": [],
   "source": []
  },
  {
   "cell_type": "code",
   "execution_count": null,
   "id": "b6363316-327c-4857-9ca8-f5faead059c2",
   "metadata": {
    "id": "b6363316-327c-4857-9ca8-f5faead059c2"
   },
   "outputs": [],
   "source": []
  },
  {
   "cell_type": "code",
   "execution_count": null,
   "id": "9d5e2e17-f927-47ec-90d1-3e99bf69ccf2",
   "metadata": {
    "id": "9d5e2e17-f927-47ec-90d1-3e99bf69ccf2"
   },
   "outputs": [],
   "source": []
  },
  {
   "cell_type": "code",
   "execution_count": null,
   "id": "66323d0a-fcbd-40d0-a13e-6b9449a77f64",
   "metadata": {
    "id": "66323d0a-fcbd-40d0-a13e-6b9449a77f64"
   },
   "outputs": [],
   "source": []
  },
  {
   "cell_type": "code",
   "execution_count": null,
   "id": "7e719f90-aee0-453a-87d5-df0e82ae507d",
   "metadata": {
    "id": "7e719f90-aee0-453a-87d5-df0e82ae507d"
   },
   "outputs": [],
   "source": []
  },
  {
   "cell_type": "code",
   "execution_count": null,
   "id": "59d656cc-fa74-43fc-bcd2-9a73ff7c11ce",
   "metadata": {
    "id": "59d656cc-fa74-43fc-bcd2-9a73ff7c11ce"
   },
   "outputs": [],
   "source": []
  },
  {
   "cell_type": "code",
   "execution_count": null,
   "id": "d33def82-a07b-4e44-8f8e-560f0a15ffcc",
   "metadata": {
    "id": "d33def82-a07b-4e44-8f8e-560f0a15ffcc"
   },
   "outputs": [],
   "source": []
  },
  {
   "cell_type": "code",
   "execution_count": null,
   "id": "650b4b08-6081-4dc9-9e5f-b2e34a2008bc",
   "metadata": {
    "id": "650b4b08-6081-4dc9-9e5f-b2e34a2008bc"
   },
   "outputs": [],
   "source": []
  },
  {
   "cell_type": "code",
   "execution_count": null,
   "id": "f2c7c001-9cd5-4715-9d50-720d5ba66e2e",
   "metadata": {
    "id": "f2c7c001-9cd5-4715-9d50-720d5ba66e2e"
   },
   "outputs": [],
   "source": []
  },
  {
   "cell_type": "code",
   "execution_count": null,
   "id": "ece6e4b3-79ad-420c-8c39-e840866f075c",
   "metadata": {
    "id": "ece6e4b3-79ad-420c-8c39-e840866f075c"
   },
   "outputs": [],
   "source": []
  }
 ],
 "metadata": {
  "colab": {
   "provenance": []
  },
  "kernelspec": {
   "display_name": "Python 3 (ipykernel)",
   "language": "python",
   "name": "python3"
  },
  "language_info": {
   "codemirror_mode": {
    "name": "ipython",
    "version": 3
   },
   "file_extension": ".py",
   "mimetype": "text/x-python",
   "name": "python",
   "nbconvert_exporter": "python",
   "pygments_lexer": "ipython3",
   "version": "3.12.0"
  }
 },
 "nbformat": 4,
 "nbformat_minor": 5
}
