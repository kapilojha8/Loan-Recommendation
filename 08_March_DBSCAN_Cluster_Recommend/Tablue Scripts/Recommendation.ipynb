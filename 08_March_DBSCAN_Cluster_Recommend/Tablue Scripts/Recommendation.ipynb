{
 "cells": [
  {
   "cell_type": "markdown",
   "id": "156c7eb5-a0e2-4dfe-9f92-f63c042a94e3",
   "metadata": {},
   "source": [
    "# Clustering for the LoanIDs"
   ]
  },
  {
   "cell_type": "markdown",
   "id": "c901c2a4-0c3b-4007-aff5-d58b25671173",
   "metadata": {},
   "source": [
    "## Testing for make it best"
   ]
  },
  {
   "cell_type": "code",
   "execution_count": 1,
   "id": "f2852efb-95bf-49eb-ab5d-5817f6c1b52a",
   "metadata": {},
   "outputs": [],
   "source": [
    "import pandas as pd\n",
    "import numpy as np\n",
    "\n",
    "from sklearn.cluster import OPTICS\n",
    "\n",
    "from sklearn.cluster import DBSCAN\n",
    "from sklearn.metrics import silhouette_score\n",
    "from sklearn.model_selection import KFold"
   ]
  },
  {
   "cell_type": "code",
   "execution_count": 2,
   "id": "6ecca6ad-3f5c-4ec8-9443-f3498d82203c",
   "metadata": {},
   "outputs": [],
   "source": [
    "df = pd.read_csv(\"../All Data Create/Dataset/New Dataset half million.csv\")"
   ]
  },
  {
   "cell_type": "code",
   "execution_count": 3,
   "id": "edd4b542-f374-48e3-b93d-81fae5f5e335",
   "metadata": {},
   "outputs": [
    {
     "data": {
      "text/html": [
       "<div>\n",
       "<style scoped>\n",
       "    .dataframe tbody tr th:only-of-type {\n",
       "        vertical-align: middle;\n",
       "    }\n",
       "\n",
       "    .dataframe tbody tr th {\n",
       "        vertical-align: top;\n",
       "    }\n",
       "\n",
       "    .dataframe thead th {\n",
       "        text-align: right;\n",
       "    }\n",
       "</style>\n",
       "<table border=\"1\" class=\"dataframe\">\n",
       "  <thead>\n",
       "    <tr style=\"text-align: right;\">\n",
       "      <th></th>\n",
       "      <th>Id</th>\n",
       "      <th>AccountID</th>\n",
       "      <th>Number_Of_Loans_Granted__c</th>\n",
       "      <th>Num_Of_Loans_Paid__c</th>\n",
       "      <th>Purpose_of_Loan__c</th>\n",
       "      <th>Total_Repayments__c</th>\n",
       "      <th>Amount</th>\n",
       "      <th>Term_in_Weeks__c</th>\n",
       "      <th>Payment_Frequency__c</th>\n",
       "      <th>StageName</th>\n",
       "      <th>Applicant Age</th>\n",
       "      <th>summary_income</th>\n",
       "      <th>summary_income_cv</th>\n",
       "      <th>city</th>\n",
       "      <th>state</th>\n",
       "      <th>Country</th>\n",
       "    </tr>\n",
       "  </thead>\n",
       "  <tbody>\n",
       "    <tr>\n",
       "      <th>0</th>\n",
       "      <td>0060K00000RW5M4QAL</td>\n",
       "      <td>0010K00001fghU0QAI</td>\n",
       "      <td>75</td>\n",
       "      <td>73</td>\n",
       "      <td>Living Expenses</td>\n",
       "      <td>4</td>\n",
       "      <td>200</td>\n",
       "      <td>4.571</td>\n",
       "      <td>Weekly</td>\n",
       "      <td>Loan Paid</td>\n",
       "      <td>53</td>\n",
       "      <td>6500.0</td>\n",
       "      <td>NaN</td>\n",
       "      <td>Whittlesea</td>\n",
       "      <td>VIC</td>\n",
       "      <td>Australia</td>\n",
       "    </tr>\n",
       "    <tr>\n",
       "      <th>1</th>\n",
       "      <td>0062x00000AkpZnAAJ</td>\n",
       "      <td>0010K00001fghU0QAI</td>\n",
       "      <td>75</td>\n",
       "      <td>73</td>\n",
       "      <td>Living Expenses</td>\n",
       "      <td>10</td>\n",
       "      <td>200</td>\n",
       "      <td>10.429</td>\n",
       "      <td>Weekly</td>\n",
       "      <td>Loan Paid</td>\n",
       "      <td>53</td>\n",
       "      <td>6500.0</td>\n",
       "      <td>14429.94</td>\n",
       "      <td>Whittlesea</td>\n",
       "      <td>VIC</td>\n",
       "      <td>Australia</td>\n",
       "    </tr>\n",
       "    <tr>\n",
       "      <th>2</th>\n",
       "      <td>0062x00000AHV4lAAH</td>\n",
       "      <td>0010K00001fghU0QAI</td>\n",
       "      <td>75</td>\n",
       "      <td>73</td>\n",
       "      <td>Living Expenses</td>\n",
       "      <td>10</td>\n",
       "      <td>200</td>\n",
       "      <td>11.429</td>\n",
       "      <td>Weekly</td>\n",
       "      <td>Loan Paid</td>\n",
       "      <td>53</td>\n",
       "      <td>6500.0</td>\n",
       "      <td>9924.14</td>\n",
       "      <td>Whittlesea</td>\n",
       "      <td>VIC</td>\n",
       "      <td>Australia</td>\n",
       "    </tr>\n",
       "    <tr>\n",
       "      <th>3</th>\n",
       "      <td>0062x000009Ua6WAAS</td>\n",
       "      <td>0010K00001fghU0QAI</td>\n",
       "      <td>75</td>\n",
       "      <td>73</td>\n",
       "      <td>Living Expenses</td>\n",
       "      <td>10</td>\n",
       "      <td>200</td>\n",
       "      <td>10.286</td>\n",
       "      <td>Weekly</td>\n",
       "      <td>Loan Paid</td>\n",
       "      <td>53</td>\n",
       "      <td>6500.0</td>\n",
       "      <td>14683.88</td>\n",
       "      <td>Whittlesea</td>\n",
       "      <td>VIC</td>\n",
       "      <td>Australia</td>\n",
       "    </tr>\n",
       "    <tr>\n",
       "      <th>4</th>\n",
       "      <td>0062x000008zdrUAAQ</td>\n",
       "      <td>0010K00001fghU0QAI</td>\n",
       "      <td>75</td>\n",
       "      <td>73</td>\n",
       "      <td>Living Expenses</td>\n",
       "      <td>6</td>\n",
       "      <td>200</td>\n",
       "      <td>6.571</td>\n",
       "      <td>Weekly</td>\n",
       "      <td>Loan Paid</td>\n",
       "      <td>53</td>\n",
       "      <td>6500.0</td>\n",
       "      <td>8691.38</td>\n",
       "      <td>Whittlesea</td>\n",
       "      <td>VIC</td>\n",
       "      <td>Australia</td>\n",
       "    </tr>\n",
       "  </tbody>\n",
       "</table>\n",
       "</div>"
      ],
      "text/plain": [
       "                   Id           AccountID  Number_Of_Loans_Granted__c  \\\n",
       "0  0060K00000RW5M4QAL  0010K00001fghU0QAI                          75   \n",
       "1  0062x00000AkpZnAAJ  0010K00001fghU0QAI                          75   \n",
       "2  0062x00000AHV4lAAH  0010K00001fghU0QAI                          75   \n",
       "3  0062x000009Ua6WAAS  0010K00001fghU0QAI                          75   \n",
       "4  0062x000008zdrUAAQ  0010K00001fghU0QAI                          75   \n",
       "\n",
       "   Num_Of_Loans_Paid__c Purpose_of_Loan__c  Total_Repayments__c  Amount  \\\n",
       "0                    73    Living Expenses                    4     200   \n",
       "1                    73    Living Expenses                   10     200   \n",
       "2                    73    Living Expenses                   10     200   \n",
       "3                    73    Living Expenses                   10     200   \n",
       "4                    73    Living Expenses                    6     200   \n",
       "\n",
       "   Term_in_Weeks__c Payment_Frequency__c  StageName  Applicant Age  \\\n",
       "0             4.571               Weekly  Loan Paid             53   \n",
       "1            10.429               Weekly  Loan Paid             53   \n",
       "2            11.429               Weekly  Loan Paid             53   \n",
       "3            10.286               Weekly  Loan Paid             53   \n",
       "4             6.571               Weekly  Loan Paid             53   \n",
       "\n",
       "   summary_income  summary_income_cv        city state    Country  \n",
       "0          6500.0                NaN  Whittlesea   VIC  Australia  \n",
       "1          6500.0           14429.94  Whittlesea   VIC  Australia  \n",
       "2          6500.0            9924.14  Whittlesea   VIC  Australia  \n",
       "3          6500.0           14683.88  Whittlesea   VIC  Australia  \n",
       "4          6500.0            8691.38  Whittlesea   VIC  Australia  "
      ]
     },
     "execution_count": 3,
     "metadata": {},
     "output_type": "execute_result"
    }
   ],
   "source": [
    "df.head()"
   ]
  },
  {
   "cell_type": "code",
   "execution_count": 4,
   "id": "29a63e86-3583-4532-9817-41fcdb88da56",
   "metadata": {},
   "outputs": [
    {
     "data": {
      "text/plain": [
       "(514658, 16)"
      ]
     },
     "execution_count": 4,
     "metadata": {},
     "output_type": "execute_result"
    }
   ],
   "source": [
    "df.shape"
   ]
  },
  {
   "cell_type": "code",
   "execution_count": 5,
   "id": "40a4f7bc-5732-4355-b750-53fbb18c8167",
   "metadata": {},
   "outputs": [
    {
     "data": {
      "text/html": [
       "<div>\n",
       "<style scoped>\n",
       "    .dataframe tbody tr th:only-of-type {\n",
       "        vertical-align: middle;\n",
       "    }\n",
       "\n",
       "    .dataframe tbody tr th {\n",
       "        vertical-align: top;\n",
       "    }\n",
       "\n",
       "    .dataframe thead th {\n",
       "        text-align: right;\n",
       "    }\n",
       "</style>\n",
       "<table border=\"1\" class=\"dataframe\">\n",
       "  <thead>\n",
       "    <tr style=\"text-align: right;\">\n",
       "      <th></th>\n",
       "      <th>Amount</th>\n",
       "      <th>Total_Repayments__c</th>\n",
       "    </tr>\n",
       "  </thead>\n",
       "  <tbody>\n",
       "    <tr>\n",
       "      <th>1</th>\n",
       "      <td>200</td>\n",
       "      <td>10</td>\n",
       "    </tr>\n",
       "    <tr>\n",
       "      <th>2</th>\n",
       "      <td>200</td>\n",
       "      <td>10</td>\n",
       "    </tr>\n",
       "    <tr>\n",
       "      <th>3</th>\n",
       "      <td>200</td>\n",
       "      <td>10</td>\n",
       "    </tr>\n",
       "    <tr>\n",
       "      <th>4</th>\n",
       "      <td>200</td>\n",
       "      <td>6</td>\n",
       "    </tr>\n",
       "    <tr>\n",
       "      <th>5</th>\n",
       "      <td>200</td>\n",
       "      <td>10</td>\n",
       "    </tr>\n",
       "    <tr>\n",
       "      <th>...</th>\n",
       "      <td>...</td>\n",
       "      <td>...</td>\n",
       "    </tr>\n",
       "    <tr>\n",
       "      <th>996</th>\n",
       "      <td>2000</td>\n",
       "      <td>2</td>\n",
       "    </tr>\n",
       "    <tr>\n",
       "      <th>997</th>\n",
       "      <td>2000</td>\n",
       "      <td>2</td>\n",
       "    </tr>\n",
       "    <tr>\n",
       "      <th>998</th>\n",
       "      <td>2000</td>\n",
       "      <td>2</td>\n",
       "    </tr>\n",
       "    <tr>\n",
       "      <th>999</th>\n",
       "      <td>2000</td>\n",
       "      <td>3</td>\n",
       "    </tr>\n",
       "    <tr>\n",
       "      <th>1000</th>\n",
       "      <td>2000</td>\n",
       "      <td>3</td>\n",
       "    </tr>\n",
       "  </tbody>\n",
       "</table>\n",
       "<p>1000 rows × 2 columns</p>\n",
       "</div>"
      ],
      "text/plain": [
       "      Amount  Total_Repayments__c\n",
       "1        200                   10\n",
       "2        200                   10\n",
       "3        200                   10\n",
       "4        200                    6\n",
       "5        200                   10\n",
       "...      ...                  ...\n",
       "996     2000                    2\n",
       "997     2000                    2\n",
       "998     2000                    2\n",
       "999     2000                    3\n",
       "1000    2000                    3\n",
       "\n",
       "[1000 rows x 2 columns]"
      ]
     },
     "execution_count": 5,
     "metadata": {},
     "output_type": "execute_result"
    }
   ],
   "source": [
    "df[['Amount','Total_Repayments__c']].loc[1:1000]"
   ]
  },
  {
   "cell_type": "markdown",
   "id": "a350afd2-fe11-4763-ae2e-3b6974053bc8",
   "metadata": {},
   "source": [
    "#### Checking for null values"
   ]
  },
  {
   "cell_type": "code",
   "execution_count": 6,
   "id": "b76b4256-dac5-4d3a-bad8-6ec02ec4d6a3",
   "metadata": {},
   "outputs": [
    {
     "data": {
      "text/plain": [
       "Id                                0\n",
       "AccountID                         0\n",
       "Number_Of_Loans_Granted__c        0\n",
       "Num_Of_Loans_Paid__c              0\n",
       "Purpose_of_Loan__c               19\n",
       "Total_Repayments__c               0\n",
       "Amount                            0\n",
       "Term_in_Weeks__c                  0\n",
       "Payment_Frequency__c              0\n",
       "StageName                         0\n",
       "Applicant Age                     0\n",
       "summary_income                    0\n",
       "summary_income_cv             22618\n",
       "city                           2367\n",
       "state                             0\n",
       "Country                           0\n",
       "dtype: int64"
      ]
     },
     "execution_count": 6,
     "metadata": {},
     "output_type": "execute_result"
    }
   ],
   "source": [
    "df.isnull().sum()"
   ]
  },
  {
   "cell_type": "code",
   "execution_count": null,
   "id": "5dd09628-13e7-462b-a290-950009bb503e",
   "metadata": {},
   "outputs": [],
   "source": []
  },
  {
   "cell_type": "code",
   "execution_count": null,
   "id": "01729155-d24b-44fe-9a9f-5a926e96c64e",
   "metadata": {},
   "outputs": [],
   "source": []
  },
  {
   "cell_type": "markdown",
   "id": "9ab481aa-69a4-4df8-a61e-7aff6a9bae66",
   "metadata": {},
   "source": [
    "<h2> DBSCAN </h2>\n",
    "DBSCAN stands for Density-Based Spatial Clustering of Applications with Noise and is one of clustering algorithms implemented in scikit-learn library.  “A Density-Based Algorithm for Discovering Clusters in Large Spatial Database with Noise”.\n",
    "\n",
    "The core idea of DBSCAN is around concept of dense regions. The assumption is that natural clusters are composed of densely located points. This requires definition of “dense region”. To do these two parameters are required for DBSCAN algorithm.\n",
    "\n",
    "Eps, ε - distance\n",
    "MinPts – Minimum number of points within distance Eps\n",
    "Optionally the distance metric can be specified by a user, but usually Euclidean distance is implemented (like in scikit learn).\n",
    "\n",
    "A “dense region” is therefore created by a minimum number of points within distance between all of them, Eps. Points which are within this distance but not close to minimum number of other points are treated as “border points”. Remaining ones are noise or outliers. This is shown in the picture below (for MinPts=3). Red points (D) are in a “dense region” – each one has minimum of 3 neighbours within distance Eps. Green points (B) are border ones – they have a neighbour within distance Eps but less than 3. Blue point (O) is an outlier – no neighbours within distance Eps."
   ]
  },
  {
   "cell_type": "markdown",
   "id": "3d5caad1-dbf7-43be-a318-fa26eb6d5c84",
   "metadata": {},
   "source": [
    "<img src=\"https://pbs.twimg.com/media/FyBSN5_aIAAH6Rb?format=jpg&name=4096x4096\" height=\"400\" width=\"500\" />"
   ]
  },
  {
   "cell_type": "markdown",
   "id": "e25181a5-0332-47de-9633-c562df1e45f3",
   "metadata": {},
   "source": [
    "- Advantages of this approach:\n",
    "    - it finds number of clusters itself, based on eps and MinPts parameters\n",
    "    - It it able to differentiate elongated clusters or clusters surrounded by other clusters in contrary to e.g. K-Means where clusters are always convex.\n",
    "    - It is also able to find points not fitting into any cluster – it detects outliers.\n",
    "\n",
    "- The biggest drawback of DBSCAN:\n",
    "    - High computational expense of average O(n log(n)) coming from a need to execute a neighbourhood query for each point.\n",
    "    - Poorly identifies clusters with various densities"
   ]
  },
  {
   "cell_type": "code",
   "execution_count": null,
   "id": "0ef70aa0-035d-40f1-8609-58e41286823a",
   "metadata": {},
   "outputs": [],
   "source": []
  },
  {
   "cell_type": "code",
   "execution_count": null,
   "id": "0a6646e3-3c7e-4658-bd36-6bdd3fbfdfe5",
   "metadata": {},
   "outputs": [],
   "source": []
  },
  {
   "cell_type": "code",
   "execution_count": null,
   "id": "1727f49e-9fd9-4011-a74b-f6826e716cba",
   "metadata": {},
   "outputs": [],
   "source": []
  },
  {
   "cell_type": "markdown",
   "id": "be053387-373c-49d6-b968-bab119022548",
   "metadata": {},
   "source": [
    "In DBSCAN there are two major hyperparameters:\n",
    "- eps\n",
    "- min_samples"
   ]
  },
  {
   "cell_type": "code",
   "execution_count": null,
   "id": "444aee2d-b917-45a4-ba5e-7b8fa198dd70",
   "metadata": {},
   "outputs": [],
   "source": []
  },
  {
   "cell_type": "code",
   "execution_count": null,
   "id": "ceb03b95-b028-4d80-9ad6-5fa62f77295c",
   "metadata": {},
   "outputs": [],
   "source": []
  },
  {
   "cell_type": "code",
   "execution_count": 7,
   "id": "9523e080-1046-4eff-9e5a-2298ef07d8e1",
   "metadata": {},
   "outputs": [],
   "source": [
    "# Define the parameters for DBSCAN\n",
    "eps_values = np.arange(8,12.75,0.25)  # Example values for epsilon\n",
    "min_samples_values = np.arange(3,10)  # Example values for min_samples\n",
    "\n",
    "# Define the number of folds for cross-validation\n",
    "num_folds = 5\n",
    "kf = KFold(n_splits=num_folds)"
   ]
  },
  {
   "cell_type": "code",
   "execution_count": null,
   "id": "353968b2-7ddb-48d6-9aba-74fcb44f395d",
   "metadata": {},
   "outputs": [],
   "source": []
  },
  {
   "cell_type": "code",
   "execution_count": 8,
   "id": "a426126c-5198-44b1-869a-e05ea9367b28",
   "metadata": {},
   "outputs": [],
   "source": [
    "X = df[['Amount','Total_Repayments__c']].iloc[:100000]"
   ]
  },
  {
   "cell_type": "code",
   "execution_count": null,
   "id": "6c39ad5c-8bdc-424f-a717-b6efa21907be",
   "metadata": {},
   "outputs": [],
   "source": []
  },
  {
   "cell_type": "code",
   "execution_count": null,
   "id": "b205df90-028f-4fe3-94de-0c81db54e4cd",
   "metadata": {},
   "outputs": [],
   "source": []
  },
  {
   "cell_type": "code",
   "execution_count": 9,
   "id": "16c42ea5-9f8f-43ed-b752-cd8459ba93ec",
   "metadata": {},
   "outputs": [
    {
     "name": "stderr",
     "output_type": "stream",
     "text": [
      "C:\\Users\\Ritik.Raghuwanshi\\AppData\\Local\\Programs\\Python\\Python312\\Lib\\site-packages\\sklearn\\cluster\\_optics.py:1081: RuntimeWarning: divide by zero encountered in divide\n",
      "  ratio = reachability_plot[:-1] / reachability_plot[1:]\n",
      "C:\\Users\\Ritik.Raghuwanshi\\AppData\\Local\\Programs\\Python\\Python312\\Lib\\site-packages\\sklearn\\cluster\\_optics.py:1081: RuntimeWarning: divide by zero encountered in divide\n",
      "  ratio = reachability_plot[:-1] / reachability_plot[1:]\n",
      "C:\\Users\\Ritik.Raghuwanshi\\AppData\\Local\\Programs\\Python\\Python312\\Lib\\site-packages\\sklearn\\cluster\\_optics.py:1081: RuntimeWarning: divide by zero encountered in divide\n",
      "  ratio = reachability_plot[:-1] / reachability_plot[1:]\n",
      "C:\\Users\\Ritik.Raghuwanshi\\AppData\\Local\\Programs\\Python\\Python312\\Lib\\site-packages\\sklearn\\cluster\\_optics.py:1081: RuntimeWarning: divide by zero encountered in divide\n",
      "  ratio = reachability_plot[:-1] / reachability_plot[1:]\n",
      "C:\\Users\\Ritik.Raghuwanshi\\AppData\\Local\\Programs\\Python\\Python312\\Lib\\site-packages\\sklearn\\cluster\\_optics.py:1081: RuntimeWarning: divide by zero encountered in divide\n",
      "  ratio = reachability_plot[:-1] / reachability_plot[1:]\n",
      "C:\\Users\\Ritik.Raghuwanshi\\AppData\\Local\\Programs\\Python\\Python312\\Lib\\site-packages\\sklearn\\cluster\\_optics.py:1081: RuntimeWarning: divide by zero encountered in divide\n",
      "  ratio = reachability_plot[:-1] / reachability_plot[1:]\n",
      "C:\\Users\\Ritik.Raghuwanshi\\AppData\\Local\\Programs\\Python\\Python312\\Lib\\site-packages\\sklearn\\cluster\\_optics.py:1081: RuntimeWarning: divide by zero encountered in divide\n",
      "  ratio = reachability_plot[:-1] / reachability_plot[1:]\n",
      "C:\\Users\\Ritik.Raghuwanshi\\AppData\\Local\\Programs\\Python\\Python312\\Lib\\site-packages\\sklearn\\cluster\\_optics.py:1081: RuntimeWarning: divide by zero encountered in divide\n",
      "  ratio = reachability_plot[:-1] / reachability_plot[1:]\n",
      "C:\\Users\\Ritik.Raghuwanshi\\AppData\\Local\\Programs\\Python\\Python312\\Lib\\site-packages\\sklearn\\cluster\\_optics.py:1081: RuntimeWarning: divide by zero encountered in divide\n",
      "  ratio = reachability_plot[:-1] / reachability_plot[1:]\n"
     ]
    },
    {
     "name": "stdout",
     "output_type": "stream",
     "text": [
      "Best parameters: {'min_samples': 3}\n",
      "Validation silhouette score: 0.9852925008426683\n"
     ]
    },
    {
     "name": "stderr",
     "output_type": "stream",
     "text": [
      "C:\\Users\\Ritik.Raghuwanshi\\AppData\\Local\\Programs\\Python\\Python312\\Lib\\site-packages\\sklearn\\cluster\\_optics.py:1081: RuntimeWarning: divide by zero encountered in divide\n",
      "  ratio = reachability_plot[:-1] / reachability_plot[1:]\n",
      "C:\\Users\\Ritik.Raghuwanshi\\AppData\\Local\\Programs\\Python\\Python312\\Lib\\site-packages\\sklearn\\cluster\\_optics.py:1081: RuntimeWarning: divide by zero encountered in divide\n",
      "  ratio = reachability_plot[:-1] / reachability_plot[1:]\n",
      "C:\\Users\\Ritik.Raghuwanshi\\AppData\\Local\\Programs\\Python\\Python312\\Lib\\site-packages\\sklearn\\cluster\\_optics.py:1081: RuntimeWarning: divide by zero encountered in divide\n",
      "  ratio = reachability_plot[:-1] / reachability_plot[1:]\n",
      "C:\\Users\\Ritik.Raghuwanshi\\AppData\\Local\\Programs\\Python\\Python312\\Lib\\site-packages\\sklearn\\cluster\\_optics.py:1081: RuntimeWarning: divide by zero encountered in divide\n",
      "  ratio = reachability_plot[:-1] / reachability_plot[1:]\n",
      "C:\\Users\\Ritik.Raghuwanshi\\AppData\\Local\\Programs\\Python\\Python312\\Lib\\site-packages\\sklearn\\cluster\\_optics.py:1081: RuntimeWarning: divide by zero encountered in divide\n",
      "  ratio = reachability_plot[:-1] / reachability_plot[1:]\n",
      "C:\\Users\\Ritik.Raghuwanshi\\AppData\\Local\\Programs\\Python\\Python312\\Lib\\site-packages\\sklearn\\cluster\\_optics.py:1081: RuntimeWarning: divide by zero encountered in divide\n",
      "  ratio = reachability_plot[:-1] / reachability_plot[1:]\n",
      "C:\\Users\\Ritik.Raghuwanshi\\AppData\\Local\\Programs\\Python\\Python312\\Lib\\site-packages\\sklearn\\cluster\\_optics.py:1081: RuntimeWarning: divide by zero encountered in divide\n",
      "  ratio = reachability_plot[:-1] / reachability_plot[1:]\n",
      "C:\\Users\\Ritik.Raghuwanshi\\AppData\\Local\\Programs\\Python\\Python312\\Lib\\site-packages\\sklearn\\cluster\\_optics.py:1081: RuntimeWarning: divide by zero encountered in divide\n",
      "  ratio = reachability_plot[:-1] / reachability_plot[1:]\n",
      "C:\\Users\\Ritik.Raghuwanshi\\AppData\\Local\\Programs\\Python\\Python312\\Lib\\site-packages\\sklearn\\cluster\\_optics.py:1081: RuntimeWarning: divide by zero encountered in divide\n",
      "  ratio = reachability_plot[:-1] / reachability_plot[1:]\n"
     ]
    },
    {
     "name": "stdout",
     "output_type": "stream",
     "text": [
      "Best parameters: {'min_samples': 3}\n",
      "Validation silhouette score: 0.9791913817290447\n"
     ]
    },
    {
     "name": "stderr",
     "output_type": "stream",
     "text": [
      "C:\\Users\\Ritik.Raghuwanshi\\AppData\\Local\\Programs\\Python\\Python312\\Lib\\site-packages\\sklearn\\cluster\\_optics.py:1081: RuntimeWarning: divide by zero encountered in divide\n",
      "  ratio = reachability_plot[:-1] / reachability_plot[1:]\n",
      "C:\\Users\\Ritik.Raghuwanshi\\AppData\\Local\\Programs\\Python\\Python312\\Lib\\site-packages\\sklearn\\cluster\\_optics.py:1081: RuntimeWarning: divide by zero encountered in divide\n",
      "  ratio = reachability_plot[:-1] / reachability_plot[1:]\n",
      "C:\\Users\\Ritik.Raghuwanshi\\AppData\\Local\\Programs\\Python\\Python312\\Lib\\site-packages\\sklearn\\cluster\\_optics.py:1081: RuntimeWarning: divide by zero encountered in divide\n",
      "  ratio = reachability_plot[:-1] / reachability_plot[1:]\n",
      "C:\\Users\\Ritik.Raghuwanshi\\AppData\\Local\\Programs\\Python\\Python312\\Lib\\site-packages\\sklearn\\cluster\\_optics.py:1081: RuntimeWarning: divide by zero encountered in divide\n",
      "  ratio = reachability_plot[:-1] / reachability_plot[1:]\n",
      "C:\\Users\\Ritik.Raghuwanshi\\AppData\\Local\\Programs\\Python\\Python312\\Lib\\site-packages\\sklearn\\cluster\\_optics.py:1081: RuntimeWarning: divide by zero encountered in divide\n",
      "  ratio = reachability_plot[:-1] / reachability_plot[1:]\n",
      "C:\\Users\\Ritik.Raghuwanshi\\AppData\\Local\\Programs\\Python\\Python312\\Lib\\site-packages\\sklearn\\cluster\\_optics.py:1081: RuntimeWarning: divide by zero encountered in divide\n",
      "  ratio = reachability_plot[:-1] / reachability_plot[1:]\n",
      "C:\\Users\\Ritik.Raghuwanshi\\AppData\\Local\\Programs\\Python\\Python312\\Lib\\site-packages\\sklearn\\cluster\\_optics.py:1081: RuntimeWarning: divide by zero encountered in divide\n",
      "  ratio = reachability_plot[:-1] / reachability_plot[1:]\n",
      "C:\\Users\\Ritik.Raghuwanshi\\AppData\\Local\\Programs\\Python\\Python312\\Lib\\site-packages\\sklearn\\cluster\\_optics.py:1081: RuntimeWarning: divide by zero encountered in divide\n",
      "  ratio = reachability_plot[:-1] / reachability_plot[1:]\n",
      "C:\\Users\\Ritik.Raghuwanshi\\AppData\\Local\\Programs\\Python\\Python312\\Lib\\site-packages\\sklearn\\cluster\\_optics.py:1081: RuntimeWarning: divide by zero encountered in divide\n",
      "  ratio = reachability_plot[:-1] / reachability_plot[1:]\n"
     ]
    },
    {
     "name": "stdout",
     "output_type": "stream",
     "text": [
      "Best parameters: {'min_samples': 3}\n",
      "Validation silhouette score: 0.9811846332087539\n"
     ]
    },
    {
     "name": "stderr",
     "output_type": "stream",
     "text": [
      "C:\\Users\\Ritik.Raghuwanshi\\AppData\\Local\\Programs\\Python\\Python312\\Lib\\site-packages\\sklearn\\cluster\\_optics.py:1081: RuntimeWarning: divide by zero encountered in divide\n",
      "  ratio = reachability_plot[:-1] / reachability_plot[1:]\n",
      "C:\\Users\\Ritik.Raghuwanshi\\AppData\\Local\\Programs\\Python\\Python312\\Lib\\site-packages\\sklearn\\cluster\\_optics.py:1081: RuntimeWarning: divide by zero encountered in divide\n",
      "  ratio = reachability_plot[:-1] / reachability_plot[1:]\n",
      "C:\\Users\\Ritik.Raghuwanshi\\AppData\\Local\\Programs\\Python\\Python312\\Lib\\site-packages\\sklearn\\cluster\\_optics.py:1081: RuntimeWarning: divide by zero encountered in divide\n",
      "  ratio = reachability_plot[:-1] / reachability_plot[1:]\n",
      "C:\\Users\\Ritik.Raghuwanshi\\AppData\\Local\\Programs\\Python\\Python312\\Lib\\site-packages\\sklearn\\cluster\\_optics.py:1081: RuntimeWarning: divide by zero encountered in divide\n",
      "  ratio = reachability_plot[:-1] / reachability_plot[1:]\n",
      "C:\\Users\\Ritik.Raghuwanshi\\AppData\\Local\\Programs\\Python\\Python312\\Lib\\site-packages\\sklearn\\cluster\\_optics.py:1081: RuntimeWarning: divide by zero encountered in divide\n",
      "  ratio = reachability_plot[:-1] / reachability_plot[1:]\n",
      "C:\\Users\\Ritik.Raghuwanshi\\AppData\\Local\\Programs\\Python\\Python312\\Lib\\site-packages\\sklearn\\cluster\\_optics.py:1081: RuntimeWarning: divide by zero encountered in divide\n",
      "  ratio = reachability_plot[:-1] / reachability_plot[1:]\n",
      "C:\\Users\\Ritik.Raghuwanshi\\AppData\\Local\\Programs\\Python\\Python312\\Lib\\site-packages\\sklearn\\cluster\\_optics.py:1081: RuntimeWarning: divide by zero encountered in divide\n",
      "  ratio = reachability_plot[:-1] / reachability_plot[1:]\n",
      "C:\\Users\\Ritik.Raghuwanshi\\AppData\\Local\\Programs\\Python\\Python312\\Lib\\site-packages\\sklearn\\cluster\\_optics.py:1081: RuntimeWarning: divide by zero encountered in divide\n",
      "  ratio = reachability_plot[:-1] / reachability_plot[1:]\n",
      "C:\\Users\\Ritik.Raghuwanshi\\AppData\\Local\\Programs\\Python\\Python312\\Lib\\site-packages\\sklearn\\cluster\\_optics.py:1081: RuntimeWarning: divide by zero encountered in divide\n",
      "  ratio = reachability_plot[:-1] / reachability_plot[1:]\n"
     ]
    },
    {
     "name": "stdout",
     "output_type": "stream",
     "text": [
      "Best parameters: {'min_samples': 3}\n",
      "Validation silhouette score: 0.9773562816220767\n"
     ]
    },
    {
     "name": "stderr",
     "output_type": "stream",
     "text": [
      "C:\\Users\\Ritik.Raghuwanshi\\AppData\\Local\\Programs\\Python\\Python312\\Lib\\site-packages\\sklearn\\cluster\\_optics.py:1081: RuntimeWarning: divide by zero encountered in divide\n",
      "  ratio = reachability_plot[:-1] / reachability_plot[1:]\n",
      "C:\\Users\\Ritik.Raghuwanshi\\AppData\\Local\\Programs\\Python\\Python312\\Lib\\site-packages\\sklearn\\cluster\\_optics.py:1081: RuntimeWarning: divide by zero encountered in divide\n",
      "  ratio = reachability_plot[:-1] / reachability_plot[1:]\n",
      "C:\\Users\\Ritik.Raghuwanshi\\AppData\\Local\\Programs\\Python\\Python312\\Lib\\site-packages\\sklearn\\cluster\\_optics.py:1081: RuntimeWarning: divide by zero encountered in divide\n",
      "  ratio = reachability_plot[:-1] / reachability_plot[1:]\n",
      "C:\\Users\\Ritik.Raghuwanshi\\AppData\\Local\\Programs\\Python\\Python312\\Lib\\site-packages\\sklearn\\cluster\\_optics.py:1081: RuntimeWarning: divide by zero encountered in divide\n",
      "  ratio = reachability_plot[:-1] / reachability_plot[1:]\n",
      "C:\\Users\\Ritik.Raghuwanshi\\AppData\\Local\\Programs\\Python\\Python312\\Lib\\site-packages\\sklearn\\cluster\\_optics.py:1081: RuntimeWarning: divide by zero encountered in divide\n",
      "  ratio = reachability_plot[:-1] / reachability_plot[1:]\n",
      "C:\\Users\\Ritik.Raghuwanshi\\AppData\\Local\\Programs\\Python\\Python312\\Lib\\site-packages\\sklearn\\cluster\\_optics.py:1081: RuntimeWarning: divide by zero encountered in divide\n",
      "  ratio = reachability_plot[:-1] / reachability_plot[1:]\n",
      "C:\\Users\\Ritik.Raghuwanshi\\AppData\\Local\\Programs\\Python\\Python312\\Lib\\site-packages\\sklearn\\cluster\\_optics.py:1081: RuntimeWarning: divide by zero encountered in divide\n",
      "  ratio = reachability_plot[:-1] / reachability_plot[1:]\n",
      "C:\\Users\\Ritik.Raghuwanshi\\AppData\\Local\\Programs\\Python\\Python312\\Lib\\site-packages\\sklearn\\cluster\\_optics.py:1081: RuntimeWarning: divide by zero encountered in divide\n",
      "  ratio = reachability_plot[:-1] / reachability_plot[1:]\n",
      "C:\\Users\\Ritik.Raghuwanshi\\AppData\\Local\\Programs\\Python\\Python312\\Lib\\site-packages\\sklearn\\cluster\\_optics.py:1081: RuntimeWarning: divide by zero encountered in divide\n",
      "  ratio = reachability_plot[:-1] / reachability_plot[1:]\n"
     ]
    },
    {
     "name": "stdout",
     "output_type": "stream",
     "text": [
      "Best parameters: {'min_samples': 3}\n",
      "Validation silhouette score: 0.973370884284894\n"
     ]
    }
   ],
   "source": [
    "for train_index, val_index in kf.split(X):\n",
    "    X_train, X_val = X.iloc[train_index], X.iloc[val_index]\n",
    "    best_score = -1\n",
    "    best_params = {}\n",
    "\n",
    "    # Iterate over parameter combinations\n",
    " \n",
    "    for min_samples in min_samples_values:\n",
    "        # Train DBSCAN model\n",
    "        OPTICSscan =  OPTICS(min_samples=min_samples) #DBSCAN(eps=eps, min_samples=min_samples)\n",
    "        OPTICSscan.fit(X_train)\n",
    "\n",
    "        # Evaluate model using silhouette score\n",
    "        labels = OPTICSscan.labels_\n",
    "        if len(set(labels)) > 1:  # Silhouette score requires at least 2 clusters\n",
    "            score = silhouette_score(X_train, labels)\n",
    "            if score > best_score:\n",
    "                best_score = score\n",
    "                best_params = {'min_samples': min_samples}\n",
    "\n",
    "    # Train DBSCAN model on the entire training set with the best parameters\n",
    "    best_OPTICS = OPTICS(min_samples=best_params['min_samples'])\n",
    "    best_OPTICS.fit(X_train)\n",
    "\n",
    "    # Evaluate the best model on the validation set\n",
    "    val_labels = best_OPTICS.fit_predict(X_val)\n",
    "    val_score = silhouette_score(X_val, val_labels)\n",
    "\n",
    "    print(\"Best parameters:\", best_params)\n",
    "    print(\"Validation silhouette score:\", val_score)\n",
    "\n",
    "# Get reachability distances\n",
    "# reachability_distances = clustering.reachability_[clustering.ordering_]"
   ]
  },
  {
   "cell_type": "code",
   "execution_count": null,
   "id": "55c3afa9-ea63-4bc3-9cf1-049982c88f3d",
   "metadata": {},
   "outputs": [],
   "source": []
  },
  {
   "cell_type": "raw",
   "id": "1f1bc5ea-92ba-4208-b2ef-45cb0c70c0b0",
   "metadata": {},
   "source": [
    "# Perform k-fold cross-validation\n",
    "for train_index, val_index in kf.split(X):\n",
    "    X_train, X_val = X.iloc[train_index], X.iloc[val_index]\n",
    "    best_score = -1\n",
    "    best_params = {}\n",
    "\n",
    "    # Iterate over parameter combinations\n",
    "    for eps in eps_values:\n",
    "        for min_samples in min_samples_values:\n",
    "            # Train DBSCAN model\n",
    "            dbscan = DBSCAN(eps=eps, min_samples=min_samples)\n",
    "            dbscan.fit(X_train)\n",
    "\n",
    "            # Evaluate model using silhouette score\n",
    "            labels = dbscan.labels_\n",
    "            if len(set(labels)) > 1:  # Silhouette score requires at least 2 clusters\n",
    "                score = silhouette_score(X_train, labels)\n",
    "                if score > best_score:\n",
    "                    best_score = score\n",
    "                    best_params = {'eps': eps, 'min_samples': min_samples}\n",
    "\n",
    "    # Train DBSCAN model on the entire training set with the best parameters\n",
    "    best_dbscan = DBSCAN(eps=best_params['eps'], min_samples=best_params['min_samples'])\n",
    "    best_dbscan.fit(X_train)\n",
    "\n",
    "    # Evaluate the best model on the validation set\n",
    "    val_labels = best_dbscan.fit_predict(X_val)\n",
    "    val_score = silhouette_score(X_val, val_labels)\n",
    "\n",
    "    print(\"Best parameters:\", best_params)\n",
    "    print(\"Validation silhouette score:\", val_score)"
   ]
  },
  {
   "cell_type": "raw",
   "id": "bc5d383b-4afe-41d7-8514-2d55cc566f91",
   "metadata": {},
   "source": [
    "dbscan_model = DBSCAN(eps=12, min_samples=5)\n",
    "# Perform clustering\n",
    "cluster_labels = dbscan_model.fit(df[['Amount','Total_Repayments__c']].loc[:200000])"
   ]
  },
  {
   "cell_type": "raw",
   "id": "614e1960-2286-480a-8689-207d00e7e72e",
   "metadata": {},
   "source": [
    "best_dbscan = DBSCAN(eps=best_params['eps'], min_samples=best_params['min_samples'])\n",
    "best_dbscan.fit(X_train)\n",
    "\n",
    "# Evaluate the best model on the validation set\n",
    "val_labels = best_dbscan.fit_predict(X_val)\n",
    "val_score = silhouette_score(X_val, val_labels)\n",
    "\n",
    "print(\"Best parameters:\", best_params)\n",
    "print(\"Validation silhouette score:\", val_score)"
   ]
  },
  {
   "cell_type": "raw",
   "id": "128745a5-d76a-40ce-b5cc-08d044397cda",
   "metadata": {},
   "source": [
    "# Example input data (replace this with your own dataset)\n",
    "input_data = np.array([[1, 2], [2, 2], [2, 3], [5, 5], [5,6], \n",
    "                       [8, 7], [8, 8], [25, 80]])\n",
    "\n",
    "# Perform DBSCAN clustering\n",
    "cluster_labels = dbscan_clustering(input_data, eps=3, min_samples=2)\n",
    "\n",
    "# Print cluster labels\n",
    "print(\"Cluster Labels:\", cluster_labels)"
   ]
  },
  {
   "cell_type": "raw",
   "id": "26117a76-1a14-4337-a752-67ed5be96cd4",
   "metadata": {},
   "source": [
    "# Perform DBSCAN clustering\n",
    "cluster_labels = dbscan_clustering(df[['Amount','Total_Repayments__c']].loc[:200000], eps=3, min_samples=5)"
   ]
  },
  {
   "cell_type": "code",
   "execution_count": 28,
   "id": "d46c629e-befc-424c-ab44-d369b12cd093",
   "metadata": {},
   "outputs": [
    {
     "data": {
      "text/html": [
       "<div>\n",
       "<style scoped>\n",
       "    .dataframe tbody tr th:only-of-type {\n",
       "        vertical-align: middle;\n",
       "    }\n",
       "\n",
       "    .dataframe tbody tr th {\n",
       "        vertical-align: top;\n",
       "    }\n",
       "\n",
       "    .dataframe thead th {\n",
       "        text-align: right;\n",
       "    }\n",
       "</style>\n",
       "<table border=\"1\" class=\"dataframe\">\n",
       "  <thead>\n",
       "    <tr style=\"text-align: right;\">\n",
       "      <th></th>\n",
       "      <th>Amount</th>\n",
       "      <th>Total_Repayments__c</th>\n",
       "    </tr>\n",
       "  </thead>\n",
       "  <tbody>\n",
       "    <tr>\n",
       "      <th>100000</th>\n",
       "      <td>1500</td>\n",
       "      <td>14</td>\n",
       "    </tr>\n",
       "    <tr>\n",
       "      <th>100001</th>\n",
       "      <td>200</td>\n",
       "      <td>3</td>\n",
       "    </tr>\n",
       "    <tr>\n",
       "      <th>100002</th>\n",
       "      <td>250</td>\n",
       "      <td>3</td>\n",
       "    </tr>\n",
       "    <tr>\n",
       "      <th>100003</th>\n",
       "      <td>350</td>\n",
       "      <td>3</td>\n",
       "    </tr>\n",
       "    <tr>\n",
       "      <th>100004</th>\n",
       "      <td>400</td>\n",
       "      <td>3</td>\n",
       "    </tr>\n",
       "    <tr>\n",
       "      <th>...</th>\n",
       "      <td>...</td>\n",
       "      <td>...</td>\n",
       "    </tr>\n",
       "    <tr>\n",
       "      <th>199995</th>\n",
       "      <td>500</td>\n",
       "      <td>4</td>\n",
       "    </tr>\n",
       "    <tr>\n",
       "      <th>199996</th>\n",
       "      <td>500</td>\n",
       "      <td>4</td>\n",
       "    </tr>\n",
       "    <tr>\n",
       "      <th>199997</th>\n",
       "      <td>400</td>\n",
       "      <td>6</td>\n",
       "    </tr>\n",
       "    <tr>\n",
       "      <th>199998</th>\n",
       "      <td>300</td>\n",
       "      <td>6</td>\n",
       "    </tr>\n",
       "    <tr>\n",
       "      <th>199999</th>\n",
       "      <td>300</td>\n",
       "      <td>4</td>\n",
       "    </tr>\n",
       "  </tbody>\n",
       "</table>\n",
       "<p>100000 rows × 2 columns</p>\n",
       "</div>"
      ],
      "text/plain": [
       "        Amount  Total_Repayments__c\n",
       "100000    1500                   14\n",
       "100001     200                    3\n",
       "100002     250                    3\n",
       "100003     350                    3\n",
       "100004     400                    3\n",
       "...        ...                  ...\n",
       "199995     500                    4\n",
       "199996     500                    4\n",
       "199997     400                    6\n",
       "199998     300                    6\n",
       "199999     300                    4\n",
       "\n",
       "[100000 rows x 2 columns]"
      ]
     },
     "execution_count": 28,
     "metadata": {},
     "output_type": "execute_result"
    }
   ],
   "source": [
    "df[['Amount','Total_Repayments__c']].iloc[100000:200000]"
   ]
  },
  {
   "cell_type": "code",
   "execution_count": 32,
   "id": "fc5002e4-cfde-4a1e-b792-14e2bb33984f",
   "metadata": {},
   "outputs": [],
   "source": [
    "df_copy = df.copy()"
   ]
  },
  {
   "cell_type": "code",
   "execution_count": 33,
   "id": "a5006cb0-6a0a-4df5-897a-0ac4d1a9f1ee",
   "metadata": {},
   "outputs": [
    {
     "ename": "MemoryError",
     "evalue": "Unable to allocate 3.75 MiB for an array with shape (1, 491895) and data type float64",
     "output_type": "error",
     "traceback": [
      "\u001b[1;31m---------------------------------------------------------------------------\u001b[0m",
      "\u001b[1;31mMemoryError\u001b[0m                               Traceback (most recent call last)",
      "Cell \u001b[1;32mIn[33], line 1\u001b[0m\n\u001b[1;32m----> 1\u001b[0m df_copy[\u001b[38;5;124m\"\u001b[39m\u001b[38;5;124mCluster_result\u001b[39m\u001b[38;5;124m\"\u001b[39m] \u001b[38;5;241m=\u001b[39m  \u001b[43mbest_OPTICS\u001b[49m\u001b[38;5;241;43m.\u001b[39;49m\u001b[43mfit_predict\u001b[49m\u001b[43m(\u001b[49m\u001b[43mdf\u001b[49m\u001b[43m[\u001b[49m\u001b[43m[\u001b[49m\u001b[38;5;124;43m'\u001b[39;49m\u001b[38;5;124;43mAmount\u001b[39;49m\u001b[38;5;124;43m'\u001b[39;49m\u001b[43m,\u001b[49m\u001b[38;5;124;43m'\u001b[39;49m\u001b[38;5;124;43mTotal_Repayments__c\u001b[39;49m\u001b[38;5;124;43m'\u001b[39;49m\u001b[43m]\u001b[49m\u001b[43m]\u001b[49m\u001b[43m)\u001b[49m\n",
      "File \u001b[1;32m~\\AppData\\Local\\Programs\\Python\\Python312\\Lib\\site-packages\\sklearn\\base.py:884\u001b[0m, in \u001b[0;36mClusterMixin.fit_predict\u001b[1;34m(self, X, y, **kwargs)\u001b[0m\n\u001b[0;32m    861\u001b[0m \u001b[38;5;250m\u001b[39m\u001b[38;5;124;03m\"\"\"\u001b[39;00m\n\u001b[0;32m    862\u001b[0m \u001b[38;5;124;03mPerform clustering on `X` and returns cluster labels.\u001b[39;00m\n\u001b[0;32m    863\u001b[0m \n\u001b[1;32m   (...)\u001b[0m\n\u001b[0;32m    880\u001b[0m \u001b[38;5;124;03m    Cluster labels.\u001b[39;00m\n\u001b[0;32m    881\u001b[0m \u001b[38;5;124;03m\"\"\"\u001b[39;00m\n\u001b[0;32m    882\u001b[0m \u001b[38;5;66;03m# non-optimized default implementation; override when a better\u001b[39;00m\n\u001b[0;32m    883\u001b[0m \u001b[38;5;66;03m# method is possible for a given clustering algorithm\u001b[39;00m\n\u001b[1;32m--> 884\u001b[0m \u001b[38;5;28;43mself\u001b[39;49m\u001b[38;5;241;43m.\u001b[39;49m\u001b[43mfit\u001b[49m\u001b[43m(\u001b[49m\u001b[43mX\u001b[49m\u001b[43m,\u001b[49m\u001b[43m \u001b[49m\u001b[38;5;241;43m*\u001b[39;49m\u001b[38;5;241;43m*\u001b[39;49m\u001b[43mkwargs\u001b[49m\u001b[43m)\u001b[49m\n\u001b[0;32m    885\u001b[0m \u001b[38;5;28;01mreturn\u001b[39;00m \u001b[38;5;28mself\u001b[39m\u001b[38;5;241m.\u001b[39mlabels_\n",
      "File \u001b[1;32m~\\AppData\\Local\\Programs\\Python\\Python312\\Lib\\site-packages\\sklearn\\base.py:1351\u001b[0m, in \u001b[0;36m_fit_context.<locals>.decorator.<locals>.wrapper\u001b[1;34m(estimator, *args, **kwargs)\u001b[0m\n\u001b[0;32m   1344\u001b[0m     estimator\u001b[38;5;241m.\u001b[39m_validate_params()\n\u001b[0;32m   1346\u001b[0m \u001b[38;5;28;01mwith\u001b[39;00m config_context(\n\u001b[0;32m   1347\u001b[0m     skip_parameter_validation\u001b[38;5;241m=\u001b[39m(\n\u001b[0;32m   1348\u001b[0m         prefer_skip_nested_validation \u001b[38;5;129;01mor\u001b[39;00m global_skip_validation\n\u001b[0;32m   1349\u001b[0m     )\n\u001b[0;32m   1350\u001b[0m ):\n\u001b[1;32m-> 1351\u001b[0m     \u001b[38;5;28;01mreturn\u001b[39;00m \u001b[43mfit_method\u001b[49m\u001b[43m(\u001b[49m\u001b[43mestimator\u001b[49m\u001b[43m,\u001b[49m\u001b[43m \u001b[49m\u001b[38;5;241;43m*\u001b[39;49m\u001b[43margs\u001b[49m\u001b[43m,\u001b[49m\u001b[43m \u001b[49m\u001b[38;5;241;43m*\u001b[39;49m\u001b[38;5;241;43m*\u001b[39;49m\u001b[43mkwargs\u001b[49m\u001b[43m)\u001b[49m\n",
      "File \u001b[1;32m~\\AppData\\Local\\Programs\\Python\\Python312\\Lib\\site-packages\\sklearn\\cluster\\_optics.py:348\u001b[0m, in \u001b[0;36mOPTICS.fit\u001b[1;34m(self, X, y)\u001b[0m\n\u001b[0;32m    340\u001b[0m         X\u001b[38;5;241m.\u001b[39msetdiag(X\u001b[38;5;241m.\u001b[39mdiagonal())\n\u001b[0;32m    341\u001b[0m memory \u001b[38;5;241m=\u001b[39m check_memory(\u001b[38;5;28mself\u001b[39m\u001b[38;5;241m.\u001b[39mmemory)\n\u001b[0;32m    343\u001b[0m (\n\u001b[0;32m    344\u001b[0m     \u001b[38;5;28mself\u001b[39m\u001b[38;5;241m.\u001b[39mordering_,\n\u001b[0;32m    345\u001b[0m     \u001b[38;5;28mself\u001b[39m\u001b[38;5;241m.\u001b[39mcore_distances_,\n\u001b[0;32m    346\u001b[0m     \u001b[38;5;28mself\u001b[39m\u001b[38;5;241m.\u001b[39mreachability_,\n\u001b[0;32m    347\u001b[0m     \u001b[38;5;28mself\u001b[39m\u001b[38;5;241m.\u001b[39mpredecessor_,\n\u001b[1;32m--> 348\u001b[0m ) \u001b[38;5;241m=\u001b[39m \u001b[43mmemory\u001b[49m\u001b[38;5;241;43m.\u001b[39;49m\u001b[43mcache\u001b[49m\u001b[43m(\u001b[49m\u001b[43mcompute_optics_graph\u001b[49m\u001b[43m)\u001b[49m\u001b[43m(\u001b[49m\n\u001b[0;32m    349\u001b[0m \u001b[43m    \u001b[49m\u001b[43mX\u001b[49m\u001b[38;5;241;43m=\u001b[39;49m\u001b[43mX\u001b[49m\u001b[43m,\u001b[49m\n\u001b[0;32m    350\u001b[0m \u001b[43m    \u001b[49m\u001b[43mmin_samples\u001b[49m\u001b[38;5;241;43m=\u001b[39;49m\u001b[38;5;28;43mself\u001b[39;49m\u001b[38;5;241;43m.\u001b[39;49m\u001b[43mmin_samples\u001b[49m\u001b[43m,\u001b[49m\n\u001b[0;32m    351\u001b[0m \u001b[43m    \u001b[49m\u001b[43malgorithm\u001b[49m\u001b[38;5;241;43m=\u001b[39;49m\u001b[38;5;28;43mself\u001b[39;49m\u001b[38;5;241;43m.\u001b[39;49m\u001b[43malgorithm\u001b[49m\u001b[43m,\u001b[49m\n\u001b[0;32m    352\u001b[0m \u001b[43m    \u001b[49m\u001b[43mleaf_size\u001b[49m\u001b[38;5;241;43m=\u001b[39;49m\u001b[38;5;28;43mself\u001b[39;49m\u001b[38;5;241;43m.\u001b[39;49m\u001b[43mleaf_size\u001b[49m\u001b[43m,\u001b[49m\n\u001b[0;32m    353\u001b[0m \u001b[43m    \u001b[49m\u001b[43mmetric\u001b[49m\u001b[38;5;241;43m=\u001b[39;49m\u001b[38;5;28;43mself\u001b[39;49m\u001b[38;5;241;43m.\u001b[39;49m\u001b[43mmetric\u001b[49m\u001b[43m,\u001b[49m\n\u001b[0;32m    354\u001b[0m \u001b[43m    \u001b[49m\u001b[43mmetric_params\u001b[49m\u001b[38;5;241;43m=\u001b[39;49m\u001b[38;5;28;43mself\u001b[39;49m\u001b[38;5;241;43m.\u001b[39;49m\u001b[43mmetric_params\u001b[49m\u001b[43m,\u001b[49m\n\u001b[0;32m    355\u001b[0m \u001b[43m    \u001b[49m\u001b[43mp\u001b[49m\u001b[38;5;241;43m=\u001b[39;49m\u001b[38;5;28;43mself\u001b[39;49m\u001b[38;5;241;43m.\u001b[39;49m\u001b[43mp\u001b[49m\u001b[43m,\u001b[49m\n\u001b[0;32m    356\u001b[0m \u001b[43m    \u001b[49m\u001b[43mn_jobs\u001b[49m\u001b[38;5;241;43m=\u001b[39;49m\u001b[38;5;28;43mself\u001b[39;49m\u001b[38;5;241;43m.\u001b[39;49m\u001b[43mn_jobs\u001b[49m\u001b[43m,\u001b[49m\n\u001b[0;32m    357\u001b[0m \u001b[43m    \u001b[49m\u001b[43mmax_eps\u001b[49m\u001b[38;5;241;43m=\u001b[39;49m\u001b[38;5;28;43mself\u001b[39;49m\u001b[38;5;241;43m.\u001b[39;49m\u001b[43mmax_eps\u001b[49m\u001b[43m,\u001b[49m\n\u001b[0;32m    358\u001b[0m \u001b[43m\u001b[49m\u001b[43m)\u001b[49m\n\u001b[0;32m    360\u001b[0m \u001b[38;5;66;03m# Extract clusters from the calculated orders and reachability\u001b[39;00m\n\u001b[0;32m    361\u001b[0m \u001b[38;5;28;01mif\u001b[39;00m \u001b[38;5;28mself\u001b[39m\u001b[38;5;241m.\u001b[39mcluster_method \u001b[38;5;241m==\u001b[39m \u001b[38;5;124m\"\u001b[39m\u001b[38;5;124mxi\u001b[39m\u001b[38;5;124m\"\u001b[39m:\n",
      "File \u001b[1;32m~\\AppData\\Local\\Programs\\Python\\Python312\\Lib\\site-packages\\joblib\\memory.py:353\u001b[0m, in \u001b[0;36mNotMemorizedFunc.__call__\u001b[1;34m(self, *args, **kwargs)\u001b[0m\n\u001b[0;32m    352\u001b[0m \u001b[38;5;28;01mdef\u001b[39;00m \u001b[38;5;21m__call__\u001b[39m(\u001b[38;5;28mself\u001b[39m, \u001b[38;5;241m*\u001b[39margs, \u001b[38;5;241m*\u001b[39m\u001b[38;5;241m*\u001b[39mkwargs):\n\u001b[1;32m--> 353\u001b[0m     \u001b[38;5;28;01mreturn\u001b[39;00m \u001b[38;5;28;43mself\u001b[39;49m\u001b[38;5;241;43m.\u001b[39;49m\u001b[43mfunc\u001b[49m\u001b[43m(\u001b[49m\u001b[38;5;241;43m*\u001b[39;49m\u001b[43margs\u001b[49m\u001b[43m,\u001b[49m\u001b[43m \u001b[49m\u001b[38;5;241;43m*\u001b[39;49m\u001b[38;5;241;43m*\u001b[39;49m\u001b[43mkwargs\u001b[49m\u001b[43m)\u001b[49m\n",
      "File \u001b[1;32m~\\AppData\\Local\\Programs\\Python\\Python312\\Lib\\site-packages\\sklearn\\utils\\_param_validation.py:213\u001b[0m, in \u001b[0;36mvalidate_params.<locals>.decorator.<locals>.wrapper\u001b[1;34m(*args, **kwargs)\u001b[0m\n\u001b[0;32m    207\u001b[0m \u001b[38;5;28;01mtry\u001b[39;00m:\n\u001b[0;32m    208\u001b[0m     \u001b[38;5;28;01mwith\u001b[39;00m config_context(\n\u001b[0;32m    209\u001b[0m         skip_parameter_validation\u001b[38;5;241m=\u001b[39m(\n\u001b[0;32m    210\u001b[0m             prefer_skip_nested_validation \u001b[38;5;129;01mor\u001b[39;00m global_skip_validation\n\u001b[0;32m    211\u001b[0m         )\n\u001b[0;32m    212\u001b[0m     ):\n\u001b[1;32m--> 213\u001b[0m         \u001b[38;5;28;01mreturn\u001b[39;00m \u001b[43mfunc\u001b[49m\u001b[43m(\u001b[49m\u001b[38;5;241;43m*\u001b[39;49m\u001b[43margs\u001b[49m\u001b[43m,\u001b[49m\u001b[43m \u001b[49m\u001b[38;5;241;43m*\u001b[39;49m\u001b[38;5;241;43m*\u001b[39;49m\u001b[43mkwargs\u001b[49m\u001b[43m)\u001b[49m\n\u001b[0;32m    214\u001b[0m \u001b[38;5;28;01mexcept\u001b[39;00m InvalidParameterError \u001b[38;5;28;01mas\u001b[39;00m e:\n\u001b[0;32m    215\u001b[0m     \u001b[38;5;66;03m# When the function is just a wrapper around an estimator, we allow\u001b[39;00m\n\u001b[0;32m    216\u001b[0m     \u001b[38;5;66;03m# the function to delegate validation to the estimator, but we replace\u001b[39;00m\n\u001b[0;32m    217\u001b[0m     \u001b[38;5;66;03m# the name of the estimator by the name of the function in the error\u001b[39;00m\n\u001b[0;32m    218\u001b[0m     \u001b[38;5;66;03m# message to avoid confusion.\u001b[39;00m\n\u001b[0;32m    219\u001b[0m     msg \u001b[38;5;241m=\u001b[39m re\u001b[38;5;241m.\u001b[39msub(\n\u001b[0;32m    220\u001b[0m         \u001b[38;5;124mr\u001b[39m\u001b[38;5;124m\"\u001b[39m\u001b[38;5;124mparameter of \u001b[39m\u001b[38;5;124m\\\u001b[39m\u001b[38;5;124mw+ must be\u001b[39m\u001b[38;5;124m\"\u001b[39m,\n\u001b[0;32m    221\u001b[0m         \u001b[38;5;124mf\u001b[39m\u001b[38;5;124m\"\u001b[39m\u001b[38;5;124mparameter of \u001b[39m\u001b[38;5;132;01m{\u001b[39;00mfunc\u001b[38;5;241m.\u001b[39m\u001b[38;5;18m__qualname__\u001b[39m\u001b[38;5;132;01m}\u001b[39;00m\u001b[38;5;124m must be\u001b[39m\u001b[38;5;124m\"\u001b[39m,\n\u001b[0;32m    222\u001b[0m         \u001b[38;5;28mstr\u001b[39m(e),\n\u001b[0;32m    223\u001b[0m     )\n",
      "File \u001b[1;32m~\\AppData\\Local\\Programs\\Python\\Python312\\Lib\\site-packages\\sklearn\\cluster\\_optics.py:645\u001b[0m, in \u001b[0;36mcompute_optics_graph\u001b[1;34m(X, min_samples, max_eps, metric, p, metric_params, algorithm, leaf_size, n_jobs)\u001b[0m\n\u001b[0;32m    643\u001b[0m     ordering[ordering_idx] \u001b[38;5;241m=\u001b[39m point\n\u001b[0;32m    644\u001b[0m     \u001b[38;5;28;01mif\u001b[39;00m core_distances_[point] \u001b[38;5;241m!=\u001b[39m np\u001b[38;5;241m.\u001b[39minf:\n\u001b[1;32m--> 645\u001b[0m         \u001b[43m_set_reach_dist\u001b[49m\u001b[43m(\u001b[49m\n\u001b[0;32m    646\u001b[0m \u001b[43m            \u001b[49m\u001b[43mcore_distances_\u001b[49m\u001b[38;5;241;43m=\u001b[39;49m\u001b[43mcore_distances_\u001b[49m\u001b[43m,\u001b[49m\n\u001b[0;32m    647\u001b[0m \u001b[43m            \u001b[49m\u001b[43mreachability_\u001b[49m\u001b[38;5;241;43m=\u001b[39;49m\u001b[43mreachability_\u001b[49m\u001b[43m,\u001b[49m\n\u001b[0;32m    648\u001b[0m \u001b[43m            \u001b[49m\u001b[43mpredecessor_\u001b[49m\u001b[38;5;241;43m=\u001b[39;49m\u001b[43mpredecessor_\u001b[49m\u001b[43m,\u001b[49m\n\u001b[0;32m    649\u001b[0m \u001b[43m            \u001b[49m\u001b[43mpoint_index\u001b[49m\u001b[38;5;241;43m=\u001b[39;49m\u001b[43mpoint\u001b[49m\u001b[43m,\u001b[49m\n\u001b[0;32m    650\u001b[0m \u001b[43m            \u001b[49m\u001b[43mprocessed\u001b[49m\u001b[38;5;241;43m=\u001b[39;49m\u001b[43mprocessed\u001b[49m\u001b[43m,\u001b[49m\n\u001b[0;32m    651\u001b[0m \u001b[43m            \u001b[49m\u001b[43mX\u001b[49m\u001b[38;5;241;43m=\u001b[39;49m\u001b[43mX\u001b[49m\u001b[43m,\u001b[49m\n\u001b[0;32m    652\u001b[0m \u001b[43m            \u001b[49m\u001b[43mnbrs\u001b[49m\u001b[38;5;241;43m=\u001b[39;49m\u001b[43mnbrs\u001b[49m\u001b[43m,\u001b[49m\n\u001b[0;32m    653\u001b[0m \u001b[43m            \u001b[49m\u001b[43mmetric\u001b[49m\u001b[38;5;241;43m=\u001b[39;49m\u001b[43mmetric\u001b[49m\u001b[43m,\u001b[49m\n\u001b[0;32m    654\u001b[0m \u001b[43m            \u001b[49m\u001b[43mmetric_params\u001b[49m\u001b[38;5;241;43m=\u001b[39;49m\u001b[43mmetric_params\u001b[49m\u001b[43m,\u001b[49m\n\u001b[0;32m    655\u001b[0m \u001b[43m            \u001b[49m\u001b[43mp\u001b[49m\u001b[38;5;241;43m=\u001b[39;49m\u001b[43mp\u001b[49m\u001b[43m,\u001b[49m\n\u001b[0;32m    656\u001b[0m \u001b[43m            \u001b[49m\u001b[43mmax_eps\u001b[49m\u001b[38;5;241;43m=\u001b[39;49m\u001b[43mmax_eps\u001b[49m\u001b[43m,\u001b[49m\n\u001b[0;32m    657\u001b[0m \u001b[43m        \u001b[49m\u001b[43m)\u001b[49m\n\u001b[0;32m    658\u001b[0m \u001b[38;5;28;01mif\u001b[39;00m np\u001b[38;5;241m.\u001b[39mall(np\u001b[38;5;241m.\u001b[39misinf(reachability_)):\n\u001b[0;32m    659\u001b[0m     warnings\u001b[38;5;241m.\u001b[39mwarn(\n\u001b[0;32m    660\u001b[0m         (\n\u001b[0;32m    661\u001b[0m             \u001b[38;5;124m\"\u001b[39m\u001b[38;5;124mAll reachability values are inf. Set a larger\u001b[39m\u001b[38;5;124m\"\u001b[39m\n\u001b[1;32m   (...)\u001b[0m\n\u001b[0;32m    664\u001b[0m         \u001b[38;5;167;01mUserWarning\u001b[39;00m,\n\u001b[0;32m    665\u001b[0m     )\n",
      "File \u001b[1;32m~\\AppData\\Local\\Programs\\Python\\Python312\\Lib\\site-packages\\sklearn\\cluster\\_optics.py:706\u001b[0m, in \u001b[0;36m_set_reach_dist\u001b[1;34m(core_distances_, reachability_, predecessor_, point_index, processed, X, nbrs, metric, metric_params, p, max_eps)\u001b[0m\n\u001b[0;32m    702\u001b[0m     \u001b[38;5;28;01mif\u001b[39;00m metric \u001b[38;5;241m==\u001b[39m \u001b[38;5;124m\"\u001b[39m\u001b[38;5;124mminkowski\u001b[39m\u001b[38;5;124m\"\u001b[39m \u001b[38;5;129;01mand\u001b[39;00m \u001b[38;5;124m\"\u001b[39m\u001b[38;5;124mp\u001b[39m\u001b[38;5;124m\"\u001b[39m \u001b[38;5;129;01mnot\u001b[39;00m \u001b[38;5;129;01min\u001b[39;00m _params:\n\u001b[0;32m    703\u001b[0m         \u001b[38;5;66;03m# the same logic as neighbors, p is ignored if explicitly set\u001b[39;00m\n\u001b[0;32m    704\u001b[0m         \u001b[38;5;66;03m# in the dict params\u001b[39;00m\n\u001b[0;32m    705\u001b[0m         _params[\u001b[38;5;124m\"\u001b[39m\u001b[38;5;124mp\u001b[39m\u001b[38;5;124m\"\u001b[39m] \u001b[38;5;241m=\u001b[39m p\n\u001b[1;32m--> 706\u001b[0m     dists \u001b[38;5;241m=\u001b[39m \u001b[43mpairwise_distances\u001b[49m\u001b[43m(\u001b[49m\u001b[43mP\u001b[49m\u001b[43m,\u001b[49m\u001b[43m \u001b[49m\u001b[43mX\u001b[49m\u001b[43m[\u001b[49m\u001b[43munproc\u001b[49m\u001b[43m]\u001b[49m\u001b[43m,\u001b[49m\u001b[43m \u001b[49m\u001b[43mmetric\u001b[49m\u001b[43m,\u001b[49m\u001b[43m \u001b[49m\u001b[43mn_jobs\u001b[49m\u001b[38;5;241;43m=\u001b[39;49m\u001b[38;5;28;43;01mNone\u001b[39;49;00m\u001b[43m,\u001b[49m\u001b[43m \u001b[49m\u001b[38;5;241;43m*\u001b[39;49m\u001b[38;5;241;43m*\u001b[39;49m\u001b[43m_params\u001b[49m\u001b[43m)\u001b[49m\u001b[38;5;241m.\u001b[39mravel()\n\u001b[0;32m    708\u001b[0m rdists \u001b[38;5;241m=\u001b[39m np\u001b[38;5;241m.\u001b[39mmaximum(dists, core_distances_[point_index])\n\u001b[0;32m    709\u001b[0m np\u001b[38;5;241m.\u001b[39maround(rdists, decimals\u001b[38;5;241m=\u001b[39mnp\u001b[38;5;241m.\u001b[39mfinfo(rdists\u001b[38;5;241m.\u001b[39mdtype)\u001b[38;5;241m.\u001b[39mprecision, out\u001b[38;5;241m=\u001b[39mrdists)\n",
      "File \u001b[1;32m~\\AppData\\Local\\Programs\\Python\\Python312\\Lib\\site-packages\\sklearn\\utils\\_param_validation.py:213\u001b[0m, in \u001b[0;36mvalidate_params.<locals>.decorator.<locals>.wrapper\u001b[1;34m(*args, **kwargs)\u001b[0m\n\u001b[0;32m    207\u001b[0m \u001b[38;5;28;01mtry\u001b[39;00m:\n\u001b[0;32m    208\u001b[0m     \u001b[38;5;28;01mwith\u001b[39;00m config_context(\n\u001b[0;32m    209\u001b[0m         skip_parameter_validation\u001b[38;5;241m=\u001b[39m(\n\u001b[0;32m    210\u001b[0m             prefer_skip_nested_validation \u001b[38;5;129;01mor\u001b[39;00m global_skip_validation\n\u001b[0;32m    211\u001b[0m         )\n\u001b[0;32m    212\u001b[0m     ):\n\u001b[1;32m--> 213\u001b[0m         \u001b[38;5;28;01mreturn\u001b[39;00m \u001b[43mfunc\u001b[49m\u001b[43m(\u001b[49m\u001b[38;5;241;43m*\u001b[39;49m\u001b[43margs\u001b[49m\u001b[43m,\u001b[49m\u001b[43m \u001b[49m\u001b[38;5;241;43m*\u001b[39;49m\u001b[38;5;241;43m*\u001b[39;49m\u001b[43mkwargs\u001b[49m\u001b[43m)\u001b[49m\n\u001b[0;32m    214\u001b[0m \u001b[38;5;28;01mexcept\u001b[39;00m InvalidParameterError \u001b[38;5;28;01mas\u001b[39;00m e:\n\u001b[0;32m    215\u001b[0m     \u001b[38;5;66;03m# When the function is just a wrapper around an estimator, we allow\u001b[39;00m\n\u001b[0;32m    216\u001b[0m     \u001b[38;5;66;03m# the function to delegate validation to the estimator, but we replace\u001b[39;00m\n\u001b[0;32m    217\u001b[0m     \u001b[38;5;66;03m# the name of the estimator by the name of the function in the error\u001b[39;00m\n\u001b[0;32m    218\u001b[0m     \u001b[38;5;66;03m# message to avoid confusion.\u001b[39;00m\n\u001b[0;32m    219\u001b[0m     msg \u001b[38;5;241m=\u001b[39m re\u001b[38;5;241m.\u001b[39msub(\n\u001b[0;32m    220\u001b[0m         \u001b[38;5;124mr\u001b[39m\u001b[38;5;124m\"\u001b[39m\u001b[38;5;124mparameter of \u001b[39m\u001b[38;5;124m\\\u001b[39m\u001b[38;5;124mw+ must be\u001b[39m\u001b[38;5;124m\"\u001b[39m,\n\u001b[0;32m    221\u001b[0m         \u001b[38;5;124mf\u001b[39m\u001b[38;5;124m\"\u001b[39m\u001b[38;5;124mparameter of \u001b[39m\u001b[38;5;132;01m{\u001b[39;00mfunc\u001b[38;5;241m.\u001b[39m\u001b[38;5;18m__qualname__\u001b[39m\u001b[38;5;132;01m}\u001b[39;00m\u001b[38;5;124m must be\u001b[39m\u001b[38;5;124m\"\u001b[39m,\n\u001b[0;32m    222\u001b[0m         \u001b[38;5;28mstr\u001b[39m(e),\n\u001b[0;32m    223\u001b[0m     )\n",
      "File \u001b[1;32m~\\AppData\\Local\\Programs\\Python\\Python312\\Lib\\site-packages\\sklearn\\metrics\\pairwise.py:2331\u001b[0m, in \u001b[0;36mpairwise_distances\u001b[1;34m(X, Y, metric, n_jobs, force_all_finite, **kwds)\u001b[0m\n\u001b[0;32m   2328\u001b[0m         \u001b[38;5;28;01mreturn\u001b[39;00m distance\u001b[38;5;241m.\u001b[39msquareform(distance\u001b[38;5;241m.\u001b[39mpdist(X, metric\u001b[38;5;241m=\u001b[39mmetric, \u001b[38;5;241m*\u001b[39m\u001b[38;5;241m*\u001b[39mkwds))\n\u001b[0;32m   2329\u001b[0m     func \u001b[38;5;241m=\u001b[39m partial(distance\u001b[38;5;241m.\u001b[39mcdist, metric\u001b[38;5;241m=\u001b[39mmetric, \u001b[38;5;241m*\u001b[39m\u001b[38;5;241m*\u001b[39mkwds)\n\u001b[1;32m-> 2331\u001b[0m \u001b[38;5;28;01mreturn\u001b[39;00m \u001b[43m_parallel_pairwise\u001b[49m\u001b[43m(\u001b[49m\u001b[43mX\u001b[49m\u001b[43m,\u001b[49m\u001b[43m \u001b[49m\u001b[43mY\u001b[49m\u001b[43m,\u001b[49m\u001b[43m \u001b[49m\u001b[43mfunc\u001b[49m\u001b[43m,\u001b[49m\u001b[43m \u001b[49m\u001b[43mn_jobs\u001b[49m\u001b[43m,\u001b[49m\u001b[43m \u001b[49m\u001b[38;5;241;43m*\u001b[39;49m\u001b[38;5;241;43m*\u001b[39;49m\u001b[43mkwds\u001b[49m\u001b[43m)\u001b[49m\n",
      "File \u001b[1;32m~\\AppData\\Local\\Programs\\Python\\Python312\\Lib\\site-packages\\sklearn\\metrics\\pairwise.py:1871\u001b[0m, in \u001b[0;36m_parallel_pairwise\u001b[1;34m(X, Y, func, n_jobs, **kwds)\u001b[0m\n\u001b[0;32m   1868\u001b[0m X, Y, dtype \u001b[38;5;241m=\u001b[39m _return_float_dtype(X, Y)\n\u001b[0;32m   1870\u001b[0m \u001b[38;5;28;01mif\u001b[39;00m effective_n_jobs(n_jobs) \u001b[38;5;241m==\u001b[39m \u001b[38;5;241m1\u001b[39m:\n\u001b[1;32m-> 1871\u001b[0m     \u001b[38;5;28;01mreturn\u001b[39;00m \u001b[43mfunc\u001b[49m\u001b[43m(\u001b[49m\u001b[43mX\u001b[49m\u001b[43m,\u001b[49m\u001b[43m \u001b[49m\u001b[43mY\u001b[49m\u001b[43m,\u001b[49m\u001b[43m \u001b[49m\u001b[38;5;241;43m*\u001b[39;49m\u001b[38;5;241;43m*\u001b[39;49m\u001b[43mkwds\u001b[49m\u001b[43m)\u001b[49m\n\u001b[0;32m   1873\u001b[0m \u001b[38;5;66;03m# enforce a threading backend to prevent data communication overhead\u001b[39;00m\n\u001b[0;32m   1874\u001b[0m fd \u001b[38;5;241m=\u001b[39m delayed(_dist_wrapper)\n",
      "File \u001b[1;32m~\\AppData\\Local\\Programs\\Python\\Python312\\Lib\\site-packages\\scipy\\spatial\\distance.py:3032\u001b[0m, in \u001b[0;36mcdist\u001b[1;34m(XA, XB, metric, out, **kwargs)\u001b[0m\n\u001b[0;32m   3030\u001b[0m \u001b[38;5;28;01mif\u001b[39;00m metric_info \u001b[38;5;129;01mis\u001b[39;00m \u001b[38;5;129;01mnot\u001b[39;00m \u001b[38;5;28;01mNone\u001b[39;00m:\n\u001b[0;32m   3031\u001b[0m     cdist_fn \u001b[38;5;241m=\u001b[39m metric_info\u001b[38;5;241m.\u001b[39mcdist_func\n\u001b[1;32m-> 3032\u001b[0m     \u001b[38;5;28;01mreturn\u001b[39;00m \u001b[43mcdist_fn\u001b[49m\u001b[43m(\u001b[49m\u001b[43mXA\u001b[49m\u001b[43m,\u001b[49m\u001b[43m \u001b[49m\u001b[43mXB\u001b[49m\u001b[43m,\u001b[49m\u001b[43m \u001b[49m\u001b[43mout\u001b[49m\u001b[38;5;241;43m=\u001b[39;49m\u001b[43mout\u001b[49m\u001b[43m,\u001b[49m\u001b[43m \u001b[49m\u001b[38;5;241;43m*\u001b[39;49m\u001b[38;5;241;43m*\u001b[39;49m\u001b[43mkwargs\u001b[49m\u001b[43m)\u001b[49m\n\u001b[0;32m   3033\u001b[0m \u001b[38;5;28;01melif\u001b[39;00m mstr\u001b[38;5;241m.\u001b[39mstartswith(\u001b[38;5;124m\"\u001b[39m\u001b[38;5;124mtest_\u001b[39m\u001b[38;5;124m\"\u001b[39m):\n\u001b[0;32m   3034\u001b[0m     metric_info \u001b[38;5;241m=\u001b[39m _TEST_METRICS\u001b[38;5;241m.\u001b[39mget(mstr, \u001b[38;5;28;01mNone\u001b[39;00m)\n",
      "\u001b[1;31mMemoryError\u001b[0m: Unable to allocate 3.75 MiB for an array with shape (1, 491895) and data type float64"
     ]
    }
   ],
   "source": [
    "df_copy[\"Cluster_result\"] =  best_OPTICS.fit_predict(df[['Amount','Total_Repayments__c']])"
   ]
  },
  {
   "cell_type": "code",
   "execution_count": null,
   "id": "66efe878-1918-4e1b-8a7f-c9841ccf275b",
   "metadata": {},
   "outputs": [],
   "source": [
    "df_copy[\"Cluster_result\"].hist()"
   ]
  },
  {
   "cell_type": "code",
   "execution_count": null,
   "id": "39aaefff-2b5d-4c14-849f-6b63dd8d7820",
   "metadata": {},
   "outputs": [],
   "source": [
    "df_copy[\"Cluster_result\"].value_counts()"
   ]
  },
  {
   "cell_type": "code",
   "execution_count": null,
   "id": "a00af07c-d101-4c80-a12e-f37e19cce8c5",
   "metadata": {},
   "outputs": [],
   "source": [
    "df_copy[\"Cluster_result\"].describe()"
   ]
  },
  {
   "cell_type": "code",
   "execution_count": null,
   "id": "0bde7d94-110d-4e4c-9939-7fc14fb89f47",
   "metadata": {},
   "outputs": [],
   "source": [
    "df_copy[df_copy[\"Cluster_result\"]==0]"
   ]
  },
  {
   "cell_type": "code",
   "execution_count": null,
   "id": "1012351c-812f-4192-9025-35081c37741c",
   "metadata": {},
   "outputs": [],
   "source": [
    "df_copy[[\"Total_Repayments__c\",\"Cluster_result\", \"Amount\"]].groupby(\"Cluster_result\").describe()"
   ]
  },
  {
   "cell_type": "raw",
   "id": "578b6599-3541-465c-a569-660bf6451ba0",
   "metadata": {},
   "source": [
    "# Importing necessary libraries\n",
    "from sklearn.cluster import DBSCAN\n",
    "import numpy as np\n",
    "\n",
    "def dbscan_clustering(input_data, eps=0.5, min_samples=5):\n",
    "    \"\"\"\n",
    "    Perform DBSCAN clustering on input data.\n",
    "    \n",
    "    Args:\n",
    "    input_data (numpy.ndarray): Input data for clustering.\n",
    "    eps (float): The maximum distance between two samples for one to be considered as in the neighborhood of the other.\n",
    "    min_samples (int): The number of samples in a neighborhood for a point to be considered as a core point.\n",
    "    \n",
    "    Returns:\n",
    "    numpy.ndarray: Array of cluster labels assigned to each data point.\n",
    "    \"\"\"\n",
    "    # Initialize DBSCAN model\n",
    "    dbscan_model = DBSCAN(eps=eps, min_samples=min_samples)\n",
    "    \n",
    "    # Perform clustering\n",
    "    cluster_labels = dbscan_model.fit_predict(input_data)\n",
    "    \n",
    "    return cluster_labels\n",
    "\n",
    "\n"
   ]
  }
 ],
 "metadata": {
  "kernelspec": {
   "display_name": "Python 3 (ipykernel)",
   "language": "python",
   "name": "python3"
  },
  "language_info": {
   "codemirror_mode": {
    "name": "ipython",
    "version": 3
   },
   "file_extension": ".py",
   "mimetype": "text/x-python",
   "name": "python",
   "nbconvert_exporter": "python",
   "pygments_lexer": "ipython3",
   "version": "3.12.0"
  }
 },
 "nbformat": 4,
 "nbformat_minor": 5
}
