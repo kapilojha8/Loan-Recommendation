{
 "cells": [
  {
   "cell_type": "markdown",
   "id": "8433267c-e538-444a-8fbf-bbe8f7eab0e2",
   "metadata": {},
   "source": [
    "# Loan Recommendation System\n",
    "## POC - Proof Of Concept"
   ]
  },
  {
   "cell_type": "code",
   "execution_count": 1,
   "id": "e20dd32e-1530-42f6-bdf9-c3f5806e837b",
   "metadata": {},
   "outputs": [],
   "source": [
    "from pyspark.sql import SparkSession\n",
    "from pyspark.sql.functions import col, expr, rank, countDistinct, count\n",
    "from pyspark.sql.window import Window\n",
    "from pyspark.ml.recommendation import ALS\n",
    "from pyspark.ml.evaluation import RegressionEvaluator\n",
    "from pyspark.ml.feature import StringIndexer\n",
    "from pyspark.ml.tuning import TrainValidationSplit, ParamGridBuilder, CrossValidator\n",
    "import pandas as pd\n",
    "import matplotlib.pyplot as plt\n",
    "import time"
   ]
  },
  {
   "cell_type": "code",
   "execution_count": 2,
   "id": "9347be3d-5e8b-40b5-a5f5-91ec804deebd",
   "metadata": {},
   "outputs": [],
   "source": [
    "from pyspark.sql.functions import mean\n",
    "from pyspark.ml.feature import Normalizer\n",
    "from pyspark.ml.feature import VectorAssembler\n",
    "from pyspark.ml.linalg import Vectors, DenseMatrix\n",
    "from pyspark.ml import Pipeline "
   ]
  },
  {
   "cell_type": "code",
   "execution_count": 3,
   "id": "7feab969-e8a3-4d26-adb0-080556999837",
   "metadata": {},
   "outputs": [],
   "source": [
    "spark = SparkSession.builder.appName('loan_recommendation_with_clusters').config(\"spark.driver.memory\", \"2g\").getOrCreate()"
   ]
  },
  {
   "cell_type": "code",
   "execution_count": null,
   "id": "b8baeb64-b787-4ce9-8e19-9d5657040308",
   "metadata": {},
   "outputs": [],
   "source": []
  },
  {
   "cell_type": "code",
   "execution_count": 5,
   "id": "867605ca-18ec-48d8-8109-8871e4118aa6",
   "metadata": {},
   "outputs": [
    {
     "data": {
      "text/html": [
       "\n",
       "            <div>\n",
       "                <p><b>SparkSession - in-memory</b></p>\n",
       "                \n",
       "        <div>\n",
       "            <p><b>SparkContext</b></p>\n",
       "\n",
       "            <p><a href=\"http://MR-23:4040\">Spark UI</a></p>\n",
       "\n",
       "            <dl>\n",
       "              <dt>Version</dt>\n",
       "                <dd><code>v3.5.0</code></dd>\n",
       "              <dt>Master</dt>\n",
       "                <dd><code>local[*]</code></dd>\n",
       "              <dt>AppName</dt>\n",
       "                <dd><code>loan_recommendation_with_clusters</code></dd>\n",
       "            </dl>\n",
       "        </div>\n",
       "        \n",
       "            </div>\n",
       "        "
      ],
      "text/plain": [
       "<pyspark.sql.session.SparkSession at 0x20670dd36b0>"
      ]
     },
     "execution_count": 5,
     "metadata": {},
     "output_type": "execute_result"
    }
   ],
   "source": [
    "spark"
   ]
  },
  {
   "cell_type": "code",
   "execution_count": 6,
   "id": "c193e8d5-ed73-4ce1-8c2a-8580263c5921",
   "metadata": {},
   "outputs": [
    {
     "name": "stdout",
     "output_type": "stream",
     "text": [
      "root\n",
      " |-- Id: string (nullable = true)\n",
      " |-- AccountID: string (nullable = true)\n",
      " |-- Number_Of_Loans_Granted__c: integer (nullable = true)\n",
      " |-- Num_Of_Loans_Paid__c: integer (nullable = true)\n",
      " |-- Purpose_of_Loan__c: string (nullable = true)\n",
      " |-- Total_Repayments__c: integer (nullable = true)\n",
      " |-- Amount: integer (nullable = true)\n",
      " |-- Term_in_Weeks__c: double (nullable = true)\n",
      " |-- Payment_Frequency__c: string (nullable = true)\n",
      " |-- StageName: string (nullable = true)\n",
      " |-- Applicant Age: integer (nullable = true)\n",
      " |-- summary_income: double (nullable = true)\n",
      " |-- summary_income_cv: double (nullable = true)\n",
      " |-- city: string (nullable = true)\n",
      " |-- state: string (nullable = true)\n",
      " |-- Country: string (nullable = true)\n",
      " |-- userId: integer (nullable = true)\n",
      " |-- loanId: integer (nullable = true)\n",
      " |-- count: integer (nullable = true)\n",
      " |-- LoanIdFormat: integer (nullable = true)\n",
      "\n"
     ]
    }
   ],
   "source": [
    "loans_df = spark.read.csv(\"Loan_Dataset/df_temp_cluster_rating_condition_data.csv\", inferSchema=True, header=True)\n",
    "loans_df.printSchema()"
   ]
  },
  {
   "cell_type": "markdown",
   "id": "4bfaf097-19ab-46bc-8aaf-cc8a2a427600",
   "metadata": {},
   "source": [
    "- Id: Likely a unique identifier for each data point.\n",
    "- AccountID: Unique identifier for an account (possibly borrower).\n",
    "- <h4>Loan-related features: </h4> \n",
    "    -> Number_Of_Loans_Granted__c: Number of loans granted to the account.\n",
    "    -> Num_Of_Loans_Paid__c: Number of loans paid by the account.\n",
    "    -> Purpose_of_Loan__c: Category of the loan purpose (e.g., mortgage, education).\n",
    "    -> Total_Repayments__c: Total amount repaid by the account.\n",
    "    -> Amount: Loan amount requested.\n",
    "    -> Term_in_Weeks__c: Loan term in weeks.\n",
    "    -> Payment_Frequency__c: Frequency of loan repayment (e.g., weekly, monthly).\n",
    "- <h4>Borrower-related features: </h4>\r",
    "    -> \n",
    "StageName: Current stage of the loan application (e.g., application, approved, rejected).    -> \r\n",
    "Applicant Age: Age of the loan applicant    -> .\r\n",
    "summary_income: Summary of applicant's incom    -> e.\r\n",
    "summary_income_cv: Coefficient of variation of applicant's inco- <h4>me.\r\n",
    "Location-related feat </h4>u    -> res:\r\n",
    "city: City of the appli    -> cant.\r\n",
    "state: State of the appl    -> icant.\r\n",
    "Country: Country of the ap\n",
    "\n",
    "- <h4>Additional features:</h4>\r",
    "    -> \n",
    "userId: Unique identifier for a user Account Id in Numericr).    -> \r\n",
    "loanId: Unique identifier for a lo (Id or loanId in Numeric)an    -> .\r\n",
    "counFeature related to the Ratings of the Loansnt    -> s.\r\n",
    "LoanIdFormat: Format of the loan(Created LoanId using Clusters)nce).plicant."
   ]
  },
  {
   "cell_type": "code",
   "execution_count": 7,
   "id": "66fda6a1-a162-4b31-9076-0a3a230f16de",
   "metadata": {},
   "outputs": [
    {
     "name": "stdout",
     "output_type": "stream",
     "text": [
      "+------------+------+-------------------+--------------------+-----+\n",
      "|LoanIdFormat|Amount|Total_Repayments__c|Payment_Frequency__c|count|\n",
      "+------------+------+-------------------+--------------------+-----+\n",
      "|           1|   500|                 10|              Weekly|    3|\n",
      "|           1|   700|                 10|              Weekly|    3|\n",
      "|           1|   800|                 10|              Weekly|    3|\n",
      "|           1|   800|                 10|              Weekly|    3|\n",
      "|           1|   800|                 10|              Weekly|    3|\n",
      "|           1|   800|                 10|              Weekly|    3|\n",
      "|           1|   800|                 10|              Weekly|    3|\n",
      "|           1|   900|                 10|              Weekly|    3|\n",
      "|           1|  1000|                 10|              Weekly|    3|\n",
      "|           1|  1000|                 10|              Weekly|    3|\n",
      "+------------+------+-------------------+--------------------+-----+\n",
      "only showing top 10 rows\n",
      "\n"
     ]
    }
   ],
   "source": [
    "loans_df.select([\"LoanIdFormat\",\"Amount\",\"Total_Repayments__c\",\"Payment_Frequency__c\",\"count\"]).show(10)"
   ]
  },
  {
   "cell_type": "code",
   "execution_count": 8,
   "id": "b17fa619-e0b5-459a-aa9b-1b30dfb9b411",
   "metadata": {},
   "outputs": [
    {
     "name": "stdout",
     "output_type": "stream",
     "text": [
      "+-------+------------------+------------------+------------------+-----------------+-------------------+--------------------------+--------------------+\n",
      "|summary|            userId|      LoanIdFormat|             count|           Amount|Total_Repayments__c|Number_Of_Loans_Granted__c|Num_Of_Loans_Paid__c|\n",
      "+-------+------------------+------------------+------------------+-----------------+-------------------+--------------------------+--------------------+\n",
      "|  count|            559151|            559151|            559151|           559151|             559151|                    559151|              559151|\n",
      "|   mean|24735.774815747445| 4.527168868516734|1.6699120631099649|823.7755990778877| 7.0393507299459355|        11.901447015206983|   11.85676856519974|\n",
      "| stddev|15283.929730968575|2.7984778294163046|0.8954014280676444|766.2637755312196| 3.9631196080149786|         8.154409123854771|   8.273339043377455|\n",
      "|    min|                 1|                 1|                 0|              100|                  1|                         0|                   3|\n",
      "|    max|             59174|                20|                 8|             5000|                 45|                        73|                  73|\n",
      "+-------+------------------+------------------+------------------+-----------------+-------------------+--------------------------+--------------------+\n",
      "\n"
     ]
    }
   ],
   "source": [
    "loans_df.select([\"userId\",\"LoanIdFormat\",\"count\",\"Amount\",\"Total_Repayments__c\",\"Number_Of_Loans_Granted__c\",\"Num_Of_Loans_Paid__c\"]).describe().show()"
   ]
  },
  {
   "cell_type": "code",
   "execution_count": 9,
   "id": "aff3ab50-da66-4a88-ab6e-64da2d8ec778",
   "metadata": {
    "scrolled": true
   },
   "outputs": [
    {
     "name": "stdout",
     "output_type": "stream",
     "text": [
      "-RECORD 0------------------------------------------\n",
      " Id                         | 0062x00000DsEQcAAN   \n",
      " AccountID                  | 0010K00001ayVHPQA2   \n",
      " Number_Of_Loans_Granted__c | 27                   \n",
      " Num_Of_Loans_Paid__c       | 27                   \n",
      " Purpose_of_Loan__c         | Furniture or Appl... \n",
      " Total_Repayments__c        | 10                   \n",
      " Amount                     | 500                  \n",
      " Term_in_Weeks__c           | 10.143               \n",
      " Payment_Frequency__c       | Weekly               \n",
      " StageName                  | Loan Paid            \n",
      " Applicant Age              | 55                   \n",
      " summary_income             | 2166.67              \n",
      " summary_income_cv          | 5750.7               \n",
      " city                       | Jimboomba            \n",
      " state                      | QLD                  \n",
      " Country                    | Australia            \n",
      " userId                     | 1                    \n",
      " loanId                     | 385865               \n",
      " count                      | 3                    \n",
      " LoanIdFormat               | 1                    \n",
      "-RECORD 1------------------------------------------\n",
      " Id                         | 0062x00000471C0AAI   \n",
      " AccountID                  | 0010K00001ayVHPQA2   \n",
      " Number_Of_Loans_Granted__c | 27                   \n",
      " Num_Of_Loans_Paid__c       | 27                   \n",
      " Purpose_of_Loan__c         | Furniture or Appl... \n",
      " Total_Repayments__c        | 10                   \n",
      " Amount                     | 700                  \n",
      " Term_in_Weeks__c           | 10.0                 \n",
      " Payment_Frequency__c       | Weekly               \n",
      " StageName                  | Loan Paid            \n",
      " Applicant Age              | 55                   \n",
      " summary_income             | 2166.67              \n",
      " summary_income_cv          | 3901.44              \n",
      " city                       | Jimboomba            \n",
      " state                      | QLD                  \n",
      " Country                    | Australia            \n",
      " userId                     | 1                    \n",
      " loanId                     | 96163                \n",
      " count                      | 3                    \n",
      " LoanIdFormat               | 1                    \n",
      "-RECORD 2------------------------------------------\n",
      " Id                         | 0060K00000QSYfLQAX   \n",
      " AccountID                  | 0010K00001ayVHPQA2   \n",
      " Number_Of_Loans_Granted__c | 27                   \n",
      " Num_Of_Loans_Paid__c       | 27                   \n",
      " Purpose_of_Loan__c         | Vehicle Expenses     \n",
      " Total_Repayments__c        | 10                   \n",
      " Amount                     | 800                  \n",
      " Term_in_Weeks__c           | 10.0                 \n",
      " Payment_Frequency__c       | Weekly               \n",
      " StageName                  | Loan Paid            \n",
      " Applicant Age              | 55                   \n",
      " summary_income             | 2166.67              \n",
      " summary_income_cv          | 0.0                  \n",
      " city                       | Jimboomba            \n",
      " state                      | QLD                  \n",
      " Country                    | Australia            \n",
      " userId                     | 1                    \n",
      " loanId                     | 102                  \n",
      " count                      | 3                    \n",
      " LoanIdFormat               | 1                    \n",
      "-RECORD 3------------------------------------------\n",
      " Id                         | 0060K00000SvU4QQAV   \n",
      " AccountID                  | 0010K00001ayVHPQA2   \n",
      " Number_Of_Loans_Granted__c | 27                   \n",
      " Num_Of_Loans_Paid__c       | 27                   \n",
      " Purpose_of_Loan__c         | Furniture or Appl... \n",
      " Total_Repayments__c        | 10                   \n",
      " Amount                     | 800                  \n",
      " Term_in_Weeks__c           | 10.0                 \n",
      " Payment_Frequency__c       | Weekly               \n",
      " StageName                  | Loan Paid            \n",
      " Applicant Age              | 55                   \n",
      " summary_income             | 2166.67              \n",
      " summary_income_cv          | 0.0                  \n",
      " city                       | Jimboomba            \n",
      " state                      | QLD                  \n",
      " Country                    | Australia            \n",
      " userId                     | 1                    \n",
      " loanId                     | 10278                \n",
      " count                      | 3                    \n",
      " LoanIdFormat               | 1                    \n",
      "-RECORD 4------------------------------------------\n",
      " Id                         | 0060K00000S81TeQAJ   \n",
      " AccountID                  | 0010K00001ayVHPQA2   \n",
      " Number_Of_Loans_Granted__c | 27                   \n",
      " Num_Of_Loans_Paid__c       | 27                   \n",
      " Purpose_of_Loan__c         | Vehicle Expenses     \n",
      " Total_Repayments__c        | 10                   \n",
      " Amount                     | 800                  \n",
      " Term_in_Weeks__c           | 10.0                 \n",
      " Payment_Frequency__c       | Weekly               \n",
      " StageName                  | Loan Paid            \n",
      " Applicant Age              | 55                   \n",
      " summary_income             | 2166.67              \n",
      " summary_income_cv          | 0.0                  \n",
      " city                       | Jimboomba            \n",
      " state                      | QLD                  \n",
      " Country                    | Australia            \n",
      " userId                     | 1                    \n",
      " loanId                     | 6480                 \n",
      " count                      | 3                    \n",
      " LoanIdFormat               | 1                    \n",
      "-RECORD 5------------------------------------------\n",
      " Id                         | 0060K00000RVz9FQAT   \n",
      " AccountID                  | 0010K00001ayVHPQA2   \n",
      " Number_Of_Loans_Granted__c | 27                   \n",
      " Num_Of_Loans_Paid__c       | 27                   \n",
      " Purpose_of_Loan__c         | Vehicle Expenses     \n",
      " Total_Repayments__c        | 10                   \n",
      " Amount                     | 800                  \n",
      " Term_in_Weeks__c           | 9.857                \n",
      " Payment_Frequency__c       | Weekly               \n",
      " StageName                  | Loan Paid            \n",
      " Applicant Age              | 55                   \n",
      " summary_income             | 2166.67              \n",
      " summary_income_cv          | 0.0                  \n",
      " city                       | Jimboomba            \n",
      " state                      | QLD                  \n",
      " Country                    | Australia            \n",
      " userId                     | 1                    \n",
      " loanId                     | 4856                 \n",
      " count                      | 3                    \n",
      " LoanIdFormat               | 1                    \n",
      "-RECORD 6------------------------------------------\n",
      " Id                         | 0060K00000RSm5eQAD   \n",
      " AccountID                  | 0010K00001ayVHPQA2   \n",
      " Number_Of_Loans_Granted__c | 27                   \n",
      " Num_Of_Loans_Paid__c       | 27                   \n",
      " Purpose_of_Loan__c         | Repay Existing Debt  \n",
      " Total_Repayments__c        | 10                   \n",
      " Amount                     | 800                  \n",
      " Term_in_Weeks__c           | 10.0                 \n",
      " Payment_Frequency__c       | Weekly               \n",
      " StageName                  | Loan Paid            \n",
      " Applicant Age              | 55                   \n",
      " summary_income             | 2166.67              \n",
      " summary_income_cv          | 0.0                  \n",
      " city                       | Jimboomba            \n",
      " state                      | QLD                  \n",
      " Country                    | Australia            \n",
      " userId                     | 1                    \n",
      " loanId                     | 2664                 \n",
      " count                      | 3                    \n",
      " LoanIdFormat               | 1                    \n",
      "-RECORD 7------------------------------------------\n",
      " Id                         | 0062x000005U1CbAAK   \n",
      " AccountID                  | 0010K00001ayVHPQA2   \n",
      " Number_Of_Loans_Granted__c | 27                   \n",
      " Num_Of_Loans_Paid__c       | 27                   \n",
      " Purpose_of_Loan__c         | Vehicle Expenses     \n",
      " Total_Repayments__c        | 10                   \n",
      " Amount                     | 900                  \n",
      " Term_in_Weeks__c           | 9.857                \n",
      " Payment_Frequency__c       | Weekly               \n",
      " StageName                  | Loan Paid            \n",
      " Applicant Age              | 55                   \n",
      " summary_income             | 2166.67              \n",
      " summary_income_cv          | 3337.99              \n",
      " city                       | Jimboomba            \n",
      " state                      | QLD                  \n",
      " Country                    | Australia            \n",
      " userId                     | 1                    \n",
      " loanId                     | 111498               \n",
      " count                      | 3                    \n",
      " LoanIdFormat               | 1                    \n",
      "-RECORD 8------------------------------------------\n",
      " Id                         | 0060K00000U7781QAB   \n",
      " AccountID                  | 0010K00001ayVHPQA2   \n",
      " Number_Of_Loans_Granted__c | 27                   \n",
      " Num_Of_Loans_Paid__c       | 27                   \n",
      " Purpose_of_Loan__c         | Vehicle Expenses     \n",
      " Total_Repayments__c        | 10                   \n",
      " Amount                     | 1000                 \n",
      " Term_in_Weeks__c           | 10.0                 \n",
      " Payment_Frequency__c       | Weekly               \n",
      " StageName                  | Loan Paid            \n",
      " Applicant Age              | 55                   \n",
      " summary_income             | 2166.67              \n",
      " summary_income_cv          | 0.0                  \n",
      " city                       | Jimboomba            \n",
      " state                      | QLD                  \n",
      " Country                    | Australia            \n",
      " userId                     | 1                    \n",
      " loanId                     | 13633                \n",
      " count                      | 3                    \n",
      " LoanIdFormat               | 1                    \n",
      "-RECORD 9------------------------------------------\n",
      " Id                         | 0060K00000YZwv8QAD   \n",
      " AccountID                  | 0010K00001ayVHPQA2   \n",
      " Number_Of_Loans_Granted__c | 27                   \n",
      " Num_Of_Loans_Paid__c       | 27                   \n",
      " Purpose_of_Loan__c         | Furniture or Appl... \n",
      " Total_Repayments__c        | 10                   \n",
      " Amount                     | 1000                 \n",
      " Term_in_Weeks__c           | 10.0                 \n",
      " Payment_Frequency__c       | Weekly               \n",
      " StageName                  | Loan Paid            \n",
      " Applicant Age              | 55                   \n",
      " summary_income             | 2166.67              \n",
      " summary_income_cv          | 3074.46              \n",
      " city                       | Jimboomba            \n",
      " state                      | QLD                  \n",
      " Country                    | Australia            \n",
      " userId                     | 1                    \n",
      " loanId                     | 52404                \n",
      " count                      | 3                    \n",
      " LoanIdFormat               | 1                    \n",
      "-RECORD 10-----------------------------------------\n",
      " Id                         | 0062x0000070YprAAE   \n",
      " AccountID                  | 0010K00001ayVHjQAM   \n",
      " Number_Of_Loans_Granted__c | 15                   \n",
      " Num_Of_Loans_Paid__c       | 15                   \n",
      " Purpose_of_Loan__c         | Vehicle Expenses     \n",
      " Total_Repayments__c        | 10                   \n",
      " Amount                     | 300                  \n",
      " Term_in_Weeks__c           | 9.857                \n",
      " Payment_Frequency__c       | Weekly               \n",
      " StageName                  | Loan Paid            \n",
      " Applicant Age              | 36                   \n",
      " summary_income             | 6066.67              \n",
      " summary_income_cv          | 5176.26              \n",
      " city                       | Brisbane             \n",
      " state                      | QLD                  \n",
      " Country                    | Australia            \n",
      " userId                     | 2                    \n",
      " loanId                     | 133877               \n",
      " count                      | 2                    \n",
      " LoanIdFormat               | 1                    \n",
      "-RECORD 11-----------------------------------------\n",
      " Id                         | 0062x00000732K5AAI   \n",
      " AccountID                  | 0010K00001ayVHjQAM   \n",
      " Number_Of_Loans_Granted__c | 15                   \n",
      " Num_Of_Loans_Paid__c       | 15                   \n",
      " Purpose_of_Loan__c         | Home Maintenance ... \n",
      " Total_Repayments__c        | 10                   \n",
      " Amount                     | 350                  \n",
      " Term_in_Weeks__c           | 10.0                 \n",
      " Payment_Frequency__c       | Weekly               \n",
      " StageName                  | Loan Paid            \n",
      " Applicant Age              | 36                   \n",
      " summary_income             | 6066.67              \n",
      " summary_income_cv          | 5056.75              \n",
      " city                       | Brisbane             \n",
      " state                      | QLD                  \n",
      " Country                    | Australia            \n",
      " userId                     | 2                    \n",
      " loanId                     | 139276               \n",
      " count                      | 2                    \n",
      " LoanIdFormat               | 1                    \n",
      "-RECORD 12-----------------------------------------\n",
      " Id                         | 0062x000009032NAAQ   \n",
      " AccountID                  | 0010K00001ayVHjQAM   \n",
      " Number_Of_Loans_Granted__c | 15                   \n",
      " Num_Of_Loans_Paid__c       | 15                   \n",
      " Purpose_of_Loan__c         | Vehicle Expenses     \n",
      " Total_Repayments__c        | 10                   \n",
      " Amount                     | 400                  \n",
      " Term_in_Weeks__c           | 9.857                \n",
      " Payment_Frequency__c       | Weekly               \n",
      " StageName                  | Loan Paid            \n",
      " Applicant Age              | 36                   \n",
      " summary_income             | 6066.67              \n",
      " summary_income_cv          | 4921.72              \n",
      " city                       | Brisbane             \n",
      " state                      | QLD                  \n",
      " Country                    | Australia            \n",
      " userId                     | 2                    \n",
      " loanId                     | 168095               \n",
      " count                      | 2                    \n",
      " LoanIdFormat               | 1                    \n",
      "-RECORD 13-----------------------------------------\n",
      " Id                         | 0060K00000RVsZZQA1   \n",
      " AccountID                  | 0010K00001ayVHjQAM   \n",
      " Number_Of_Loans_Granted__c | 15                   \n",
      " Num_Of_Loans_Paid__c       | 15                   \n",
      " Purpose_of_Loan__c         | Furniture or Appl... \n",
      " Total_Repayments__c        | 10                   \n",
      " Amount                     | 600                  \n",
      " Term_in_Weeks__c           | 10.0                 \n",
      " Payment_Frequency__c       | Weekly               \n",
      " StageName                  | Loan Paid            \n",
      " Applicant Age              | 36                   \n",
      " summary_income             | 6066.67              \n",
      " summary_income_cv          | 0.0                  \n",
      " city                       | Brisbane             \n",
      " state                      | QLD                  \n",
      " Country                    | Australia            \n",
      " userId                     | 2                    \n",
      " loanId                     | 4760                 \n",
      " count                      | 2                    \n",
      " LoanIdFormat               | 1                    \n",
      "-RECORD 14-----------------------------------------\n",
      " Id                         | 0062x00000BHhsjAAD   \n",
      " AccountID                  | 0010K00001ayVHjQAM   \n",
      " Number_Of_Loans_Granted__c | 15                   \n",
      " Num_Of_Loans_Paid__c       | 15                   \n",
      " Purpose_of_Loan__c         | Vehicle Expenses     \n",
      " Total_Repayments__c        | 14                   \n",
      " Amount                     | 600                  \n",
      " Term_in_Weeks__c           | 14.0                 \n",
      " Payment_Frequency__c       | Weekly               \n",
      " StageName                  | Loan Paid            \n",
      " Applicant Age              | 36                   \n",
      " summary_income             | 6066.67              \n",
      " summary_income_cv          | 4245.5               \n",
      " city                       | Brisbane             \n",
      " state                      | QLD                  \n",
      " Country                    | Australia            \n",
      " userId                     | 2                    \n",
      " loanId                     | 286173               \n",
      " count                      | 2                    \n",
      " LoanIdFormat               | 1                    \n",
      "-RECORD 15-----------------------------------------\n",
      " Id                         | 0062x00000AdqkVAAR   \n",
      " AccountID                  | 0010K00001ayVHjQAM   \n",
      " Number_Of_Loans_Granted__c | 15                   \n",
      " Num_Of_Loans_Paid__c       | 15                   \n",
      " Purpose_of_Loan__c         | Home Maintenance ... \n",
      " Total_Repayments__c        | 14                   \n",
      " Amount                     | 600                  \n",
      " Term_in_Weeks__c           | 14.0                 \n",
      " Payment_Frequency__c       | Weekly               \n",
      " StageName                  | Loan Paid            \n",
      " Applicant Age              | 36                   \n",
      " summary_income             | 6066.67              \n",
      " summary_income_cv          | 5219.93              \n",
      " city                       | Brisbane             \n",
      " state                      | QLD                  \n",
      " Country                    | Australia            \n",
      " userId                     | 2                    \n",
      " loanId                     | 243982               \n",
      " count                      | 2                    \n",
      " LoanIdFormat               | 1                    \n",
      "-RECORD 16-----------------------------------------\n",
      " Id                         | 0062x00000A8CaFAAV   \n",
      " AccountID                  | 0010K00001ayVHjQAM   \n",
      " Number_Of_Loans_Granted__c | 15                   \n",
      " Num_Of_Loans_Paid__c       | 15                   \n",
      " Purpose_of_Loan__c         | Vehicle Expenses     \n",
      " Total_Repayments__c        | 14                   \n",
      " Amount                     | 600                  \n",
      " Term_in_Weeks__c           | 13.714               \n",
      " Payment_Frequency__c       | Weekly               \n",
      " StageName                  | Loan Paid            \n",
      " Applicant Age              | 36                   \n",
      " summary_income             | 6066.67              \n",
      " summary_income_cv          | 5062.59              \n",
      " city                       | Brisbane             \n",
      " state                      | QLD                  \n",
      " Country                    | Australia            \n",
      " userId                     | 2                    \n",
      " loanId                     | 212486               \n",
      " count                      | 2                    \n",
      " LoanIdFormat               | 1                    \n",
      "-RECORD 17-----------------------------------------\n",
      " Id                         | 0062x000009Fjw5AAC   \n",
      " AccountID                  | 0010K00001ayVHjQAM   \n",
      " Number_Of_Loans_Granted__c | 15                   \n",
      " Num_Of_Loans_Paid__c       | 15                   \n",
      " Purpose_of_Loan__c         | Home Maintenance ... \n",
      " Total_Repayments__c        | 14                   \n",
      " Amount                     | 600                  \n",
      " Term_in_Weeks__c           | 13.857               \n",
      " Payment_Frequency__c       | Weekly               \n",
      " StageName                  | Loan Paid            \n",
      " Applicant Age              | 36                   \n",
      " summary_income             | 6066.67              \n",
      " summary_income_cv          | 4720.26              \n",
      " city                       | Brisbane             \n",
      " state                      | QLD                  \n",
      " Country                    | Australia            \n",
      " userId                     | 2                    \n",
      " loanId                     | 185505               \n",
      " count                      | 2                    \n",
      " LoanIdFormat               | 1                    \n",
      "-RECORD 18-----------------------------------------\n",
      " Id                         | 0060K00000S7sobQAB   \n",
      " AccountID                  | 0010K00001ayVHjQAM   \n",
      " Number_Of_Loans_Granted__c | 15                   \n",
      " Num_Of_Loans_Paid__c       | 15                   \n",
      " Purpose_of_Loan__c         | Furniture or Appl... \n",
      " Total_Repayments__c        | 10                   \n",
      " Amount                     | 600                  \n",
      " Term_in_Weeks__c           | 10.143               \n",
      " Payment_Frequency__c       | Weekly               \n",
      " StageName                  | Loan Paid            \n",
      " Applicant Age              | 36                   \n",
      " summary_income             | 6066.67              \n",
      " summary_income_cv          | 0.0                  \n",
      " city                       | Brisbane             \n",
      " state                      | QLD                  \n",
      " Country                    | Australia            \n",
      " userId                     | 2                    \n",
      " loanId                     | 6324                 \n",
      " count                      | 2                    \n",
      " LoanIdFormat               | 1                    \n",
      "-RECORD 19-----------------------------------------\n",
      " Id                         | 0062x00000BBnydAAD   \n",
      " AccountID                  | 0010K00001ayVHjQAM   \n",
      " Number_Of_Loans_Granted__c | 15                   \n",
      " Num_Of_Loans_Paid__c       | 15                   \n",
      " Purpose_of_Loan__c         | Vehicle Expenses     \n",
      " Total_Repayments__c        | 10                   \n",
      " Amount                     | 1000                 \n",
      " Term_in_Weeks__c           | 10.714               \n",
      " Payment_Frequency__c       | Weekly               \n",
      " StageName                  | Loan Paid            \n",
      " Applicant Age              | 36                   \n",
      " summary_income             | 6066.67              \n",
      " summary_income_cv          | 4294.75              \n",
      " city                       | Brisbane             \n",
      " state                      | QLD                  \n",
      " Country                    | Australia            \n",
      " userId                     | 2                    \n",
      " loanId                     | 282397               \n",
      " count                      | 2                    \n",
      " LoanIdFormat               | 1                    \n",
      "only showing top 20 rows\n",
      "\n"
     ]
    }
   ],
   "source": [
    "loans_df.show(vertical=True)"
   ]
  },
  {
   "cell_type": "code",
   "execution_count": 10,
   "id": "879b0ed5-5a6a-4f4f-a02a-1ef3be15bd8d",
   "metadata": {},
   "outputs": [],
   "source": [
    "hist_data  = loans_df.toPandas()"
   ]
  },
  {
   "cell_type": "code",
   "execution_count": 11,
   "id": "8e20cc21-d8fc-478f-ae00-442e698e0c7b",
   "metadata": {},
   "outputs": [
    {
     "data": {
      "image/png": "[encoded data removed]",
      "text/plain": [
       "<Figure size 640x480 with 1 Axes>"
      ]
     },
     "metadata": {},
     "output_type": "display_data"
    }
   ],
   "source": [
    "hist_data['count'].hist()\n",
    "plt.xlabel(\"count\")\n",
    "plt.ylabel(\"Frequency\")\n",
    "plt.title(f\"Histogram of count\")\n",
    "plt.show()"
   ]
  },
  {
   "cell_type": "code",
   "execution_count": null,
   "id": "bf7ad932-9155-41cc-b30b-97711374a062",
   "metadata": {},
   "outputs": [],
   "source": []
  },
  {
   "cell_type": "code",
   "execution_count": null,
   "id": "30bb8db5-e183-44d9-b3f7-b9b3647bfb14",
   "metadata": {},
   "outputs": [],
   "source": []
  },
  {
   "cell_type": "code",
   "execution_count": 12,
   "id": "93606394-8fb4-4d30-8235-c8e1cdb15a13",
   "metadata": {},
   "outputs": [
    {
     "name": "stdout",
     "output_type": "stream",
     "text": [
      "Number of unique loanId_format: 20\n",
      "Number of unique Loan Id: 407389\n"
     ]
    }
   ],
   "source": [
    "# Count the number of unique items\n",
    "num_unique_loan_id_format = loans_df.select('LoanIdFormat').distinct().count()\n",
    "print(f\"Number of unique loanId_format: {num_unique_loan_id_format}\")\n",
    "\n",
    "# Count the number of unique users\n",
    "num_unique_id = loans_df.select('Id').distinct().count()\n",
    "print(f\"Number of unique Loan Id: {num_unique_id}\")"
   ]
  },
  {
   "cell_type": "code",
   "execution_count": 13,
   "id": "aa9f871b-ee01-470a-af88-09d50dc228cb",
   "metadata": {},
   "outputs": [
    {
     "name": "stdout",
     "output_type": "stream",
     "text": [
      "Number of unique users: 59158\n"
     ]
    }
   ],
   "source": [
    "# Count the number of unique items\n",
    "tmp = loans_df.select('userId').distinct().count()\n",
    "print(f\"Number of unique users: {tmp}\")\n",
    "\n",
    "# Count the number of unique users\n",
    "# tmp = ratings_df.select('movieId').distinct().count()\n",
    "# print(f\"Number of unique movies: {tmp}\")"
   ]
  },
  {
   "cell_type": "code",
   "execution_count": 153,
   "id": "41d386c0-47de-457f-a0f1-4efb4f9ff850",
   "metadata": {},
   "outputs": [
    {
     "name": "stdout",
     "output_type": "stream",
     "text": [
      "Distinct values of count:\n",
      "[Row(count=0), Row(count=1), Row(count=2), Row(count=3), Row(count=4), Row(count=5), Row(count=6), Row(count=7), Row(count=8)]\n"
     ]
    }
   ],
   "source": [
    "print('Distinct values of count:')\n",
    "print(sorted(loans_df.select('count').distinct().collect()))"
   ]
  },
  {
   "cell_type": "code",
   "execution_count": 14,
   "id": "18f5bc8b-ee99-490a-89e0-8a319deb255f",
   "metadata": {},
   "outputs": [
    {
     "name": "stdout",
     "output_type": "stream",
     "text": [
      "+-----+\n",
      "|count|\n",
      "+-----+\n",
      "|    1|\n",
      "|    6|\n",
      "|    3|\n",
      "|    5|\n",
      "|    4|\n",
      "|    8|\n",
      "|    7|\n",
      "|    2|\n",
      "|    0|\n",
      "+-----+\n",
      "\n"
     ]
    }
   ],
   "source": [
    "# distinct values of the rating\n",
    "loans_df.select(\"count\").distinct().show()"
   ]
  },
  {
   "cell_type": "markdown",
   "id": "67ad89af-06f7-4fac-b6bb-9d0ec842ed04",
   "metadata": {},
   "source": [
    "========================================================================================================"
   ]
  },
  {
   "cell_type": "markdown",
   "id": "6ea6197c-53b9-4c06-a20d-1e1f2233d371",
   "metadata": {},
   "source": [
    "Converting the dataset into train test and validation split."
   ]
  },
  {
   "cell_type": "code",
   "execution_count": 15,
   "id": "25b7a938-17f5-460f-a3bf-78ebd6628477",
   "metadata": {},
   "outputs": [
    {
     "name": "stdout",
     "output_type": "stream",
     "text": [
      "+------------+-----+------+\n",
      "|LoanIdFormat|count|Amount|\n",
      "+------------+-----+------+\n",
      "|           1|    3|   500|\n",
      "|           1|    3|   700|\n",
      "|           1|    3|   800|\n",
      "|           1|    3|   800|\n",
      "|           1|    3|   800|\n",
      "|           1|    3|   800|\n",
      "|           1|    3|   800|\n",
      "|           1|    3|   900|\n",
      "|           1|    3|  1000|\n",
      "|           1|    3|  1000|\n",
      "+------------+-----+------+\n",
      "only showing top 10 rows\n",
      "\n"
     ]
    }
   ],
   "source": [
    "loans_df.select([\"LoanIdFormat\",\"count\",\"Amount\"]).show(10)"
   ]
  },
  {
   "cell_type": "code",
   "execution_count": 16,
   "id": "471dc8a3-2474-41c2-a4c2-d3f09756df0d",
   "metadata": {},
   "outputs": [
    {
     "data": {
      "text/plain": [
       "DataFrame[Id: string, AccountID: string, Number_Of_Loans_Granted__c: int, Num_Of_Loans_Paid__c: int, Purpose_of_Loan__c: string, Total_Repayments__c: int, Amount: int, Term_in_Weeks__c: double, Payment_Frequency__c: string, StageName: string, Applicant Age: int, summary_income: double, summary_income_cv: double, city: string, state: string, Country: string, userId: int, loanId: int, count: int, LoanIdFormat: int]"
      ]
     },
     "execution_count": 16,
     "metadata": {},
     "output_type": "execute_result"
    }
   ],
   "source": [
    "train, validation = loans_df.randomSplit([0.8, 0.2])\n",
    "# train, validation, test = loans_df.randomSplit([0.8, 0.1, 0.1])\n",
    "# # cache data\n",
    "train.cache()\n",
    "validation.cache()\n",
    "# test.cache()"
   ]
  },
  {
   "cell_type": "code",
   "execution_count": 17,
   "id": "b2ad213d-bf88-4d40-b43e-609a301116fe",
   "metadata": {},
   "outputs": [
    {
     "name": "stdout",
     "output_type": "stream",
     "text": [
      "+------+------+------------+-----+------+-------------------+\n",
      "|userId|loanId|LoanIdFormat|count|Amount|Total_Repayments__c|\n",
      "+------+------+------------+-----+------+-------------------+\n",
      "| 25117|    33|           1|    3|   650|                 10|\n",
      "| 23515|    37|           1|    3|   700|                 10|\n",
      "| 23556|   133|           1|    1|  1000|                 10|\n",
      "| 25300|   194|           1|    2|   200|                 10|\n",
      "|    74|   230|           1|    3|   350|                 10|\n",
      "| 24945|   286|           1|    1|   500|                 10|\n",
      "| 24534|   307|           1|    3|   500|                 10|\n",
      "| 24205|   332|           1|    3|   200|                 10|\n",
      "|   189|   334|           1|    1|   500|                 10|\n",
      "| 23435|   364|           1|    2|   250|                 10|\n",
      "| 24703|   370|           1|    4|   900|                 10|\n",
      "| 23545|   376|           1|    4|   400|                 10|\n",
      "| 23845|   429|           1|    3|   700|                 10|\n",
      "| 23505|   435|           1|    3|   600|                 10|\n",
      "| 23512|   620|           1|    3|   250|                 10|\n",
      "| 23552|   621|           1|    3|   800|                 10|\n",
      "| 23539|   626|           1|    3|  1000|                 10|\n",
      "| 23626|   641|           1|    1|   450|                 10|\n",
      "|   399|   652|           1|    1|   300|                 10|\n",
      "| 24255|   702|           1|    2|   550|                 10|\n",
      "+------+------+------------+-----+------+-------------------+\n",
      "only showing top 20 rows\n",
      "\n"
     ]
    }
   ],
   "source": [
    "validation.select([\"userId\",\"loanId\",\"LoanIdFormat\",\"count\",\"Amount\",\"Total_Repayments__c\"]).show()"
   ]
  },
  {
   "cell_type": "code",
   "execution_count": 18,
   "id": "b4ec2ccf-e2df-4169-82d1-84b24e8cdf75",
   "metadata": {},
   "outputs": [
    {
     "name": "stdout",
     "output_type": "stream",
     "text": [
      "root\n",
      " |-- Id: string (nullable = true)\n",
      " |-- AccountID: string (nullable = true)\n",
      " |-- Number_Of_Loans_Granted__c: integer (nullable = true)\n",
      " |-- Num_Of_Loans_Paid__c: integer (nullable = true)\n",
      " |-- Purpose_of_Loan__c: string (nullable = true)\n",
      " |-- Total_Repayments__c: integer (nullable = true)\n",
      " |-- Amount: integer (nullable = true)\n",
      " |-- Term_in_Weeks__c: double (nullable = true)\n",
      " |-- Payment_Frequency__c: string (nullable = true)\n",
      " |-- StageName: string (nullable = true)\n",
      " |-- Applicant Age: integer (nullable = true)\n",
      " |-- summary_income: double (nullable = true)\n",
      " |-- summary_income_cv: double (nullable = true)\n",
      " |-- city: string (nullable = true)\n",
      " |-- state: string (nullable = true)\n",
      " |-- Country: string (nullable = true)\n",
      " |-- userId: integer (nullable = true)\n",
      " |-- loanId: integer (nullable = true)\n",
      " |-- count: integer (nullable = true)\n",
      " |-- LoanIdFormat: integer (nullable = true)\n",
      "\n"
     ]
    }
   ],
   "source": [
    "loans_df.printSchema()"
   ]
  },
  {
   "cell_type": "code",
   "execution_count": 19,
   "id": "e2226eb6-5980-4249-bd83-5f3b6862faf1",
   "metadata": {},
   "outputs": [],
   "source": [
    "def train_ALS(train_data, validation_data, num_iters, reg_param, ranks):\n",
    "    \"\"\"\n",
    "    Grid Search Function to select the best model based on RMSE of hold-out data\n",
    "    \"\"\"\n",
    "    # initial\n",
    "    min_error = float('inf')\n",
    "    best_rank = -1\n",
    "    best_regularization = 0\n",
    "    best_model = None\n",
    "    for rank in ranks:\n",
    "        for reg in reg_param:\n",
    "            # Train the model using the training data\n",
    "            als_model = ALS(maxIter=num_iters,regParam=reg, rank=rank,\n",
    "                                        userCol='userId', itemCol='LoanIdFormat', ratingCol='count', seed=99,\n",
    "                           coldStartStrategy=\"drop\",nonnegative=True)\n",
    "            model = als_model.fit(train_data)\n",
    "            \n",
    "            # Generate predictions on the test data\n",
    "            predictions = model.transform(validation_data)\n",
    "            predictions = predictions.withColumn(\"prediction\", expr(\"CASE WHEN prediction < 0 THEN 0 WHEN prediction > 9 THEN 9 ELSE prediction END\"))\n",
    "            \n",
    "            evaluator = RegressionEvaluator(metricName='rmse', labelCol='count', predictionCol='prediction')\n",
    "            error = evaluator.evaluate(predictions)\n",
    "            \n",
    "            print('{} latent factors and regularization = {}: validation RMSE is {}'.format(rank, reg, error))\n",
    "            if error < min_error:\n",
    "                min_error = error\n",
    "                best_rank = rank\n",
    "                best_regularization = reg\n",
    "                best_model = model\n",
    "    print('\\nThe best model has {} latent factors and regularization = {}'.format(best_rank, best_regularization))\n",
    "    return best_model"
   ]
  },
  {
   "cell_type": "code",
   "execution_count": 20,
   "id": "fb8832fe-fe68-4372-9d4d-294633e187b0",
   "metadata": {},
   "outputs": [
    {
     "name": "stdout",
     "output_type": "stream",
     "text": [
      "8 latent factors and regularization = 0.001: validation RMSE is 0.028842204161434074\n",
      "8 latent factors and regularization = 0.01: validation RMSE is 0.05103586511811166\n",
      "8 latent factors and regularization = 0.05: validation RMSE is 0.08461358200186672\n",
      "8 latent factors and regularization = 0.1: validation RMSE is 0.10687898611747992\n",
      "8 latent factors and regularization = 0.2: validation RMSE is 0.19912760105738467\n",
      "10 latent factors and regularization = 0.001: validation RMSE is 0.12544393880094343\n",
      "10 latent factors and regularization = 0.01: validation RMSE is 0.03563578960947876\n",
      "10 latent factors and regularization = 0.05: validation RMSE is 0.07662848615347416\n",
      "10 latent factors and regularization = 0.1: validation RMSE is 0.09651748740437144\n",
      "10 latent factors and regularization = 0.2: validation RMSE is 0.1987478862479139\n",
      "20 latent factors and regularization = 0.001: validation RMSE is 0.059609877840866486\n",
      "20 latent factors and regularization = 0.01: validation RMSE is 0.03450637781418217\n",
      "20 latent factors and regularization = 0.05: validation RMSE is 0.08834148673310555\n",
      "20 latent factors and regularization = 0.1: validation RMSE is 0.10322211114645341\n",
      "20 latent factors and regularization = 0.2: validation RMSE is 0.19884245850533958\n",
      "40 latent factors and regularization = 0.001: validation RMSE is 0.15848178892884288\n",
      "40 latent factors and regularization = 0.01: validation RMSE is 0.054148745789379095\n",
      "40 latent factors and regularization = 0.05: validation RMSE is 0.09079821792272019\n",
      "40 latent factors and regularization = 0.1: validation RMSE is 0.10627665346237021\n",
      "40 latent factors and regularization = 0.2: validation RMSE is 0.19889894858096133\n",
      "60 latent factors and regularization = 0.001: validation RMSE is 0.13431486408922366\n",
      "60 latent factors and regularization = 0.01: validation RMSE is 0.052912409026652986\n",
      "60 latent factors and regularization = 0.05: validation RMSE is 0.09134731457976691\n",
      "60 latent factors and regularization = 0.1: validation RMSE is 0.1088420328182546\n",
      "60 latent factors and regularization = 0.2: validation RMSE is 0.19891294105347124\n",
      "\n",
      "The best model has 8 latent factors and regularization = 0.001\n",
      "Total Runtime: 241.46 seconds\n"
     ]
    }
   ],
   "source": [
    "# hyper-param config\n",
    "num_iterations = 10\n",
    "ranks = [8, 10, 20, 40, 60]\n",
    "reg_params = [0.001, 0.01, 0.05, 0.1, 0.2]\n",
    "\n",
    "# grid search and select best model\n",
    "start_time = time.time()\n",
    "final_model = train_ALS(train, validation, num_iterations, reg_params, ranks)\n",
    "\n",
    "print ('Total Runtime: {:.2f} seconds'.format(time.time() - start_time))"
   ]
  },
  {
   "cell_type": "code",
   "execution_count": 21,
   "id": "c7cf3c57-11f2-46bd-b434-1cebf52a0c13",
   "metadata": {},
   "outputs": [],
   "source": [
    "#OLD :  40 latent factors and regularization = 0.001\n",
    "#NEW: The best model has 8 latent factors and regularization = 0.001"
   ]
  },
  {
   "cell_type": "markdown",
   "id": "bc2b0ef2-8126-4a7e-b2c9-49851bf63c18",
   "metadata": {},
   "source": [
    "## Predicting the results from validation data"
   ]
  },
  {
   "cell_type": "code",
   "execution_count": 22,
   "id": "57ba7905-f3e0-4a23-8b3d-0c41ffa5d0ca",
   "metadata": {},
   "outputs": [],
   "source": [
    "predictions = final_model.transform(validation)\n",
    "# predictions = predictions.withColumn(\"prediction\", expr(\"CASE WHEN prediction < 0 THEN 0 WHEN prediction > 9 THEN 9 ELSE prediction END\"))"
   ]
  },
  {
   "cell_type": "code",
   "execution_count": 114,
   "id": "6cd93785-db30-4571-b897-8ccf3d28e6fa",
   "metadata": {},
   "outputs": [
    {
     "name": "stdout",
     "output_type": "stream",
     "text": [
      "+------+------+-----+------------+----------+\n",
      "|userId|loanId|count|LoanIdFormat|prediction|\n",
      "+------+------+-----+------------+----------+\n",
      "|    10|248485|    4|           1| 3.9935606|\n",
      "|    10|371513|    4|           1| 3.9935606|\n",
      "|    10| 10615|    4|           6| 3.9546485|\n",
      "|    10| 23209|    4|           6| 3.9546485|\n",
      "|    10|383859|    4|           2|  3.991086|\n",
      "+------+------+-----+------------+----------+\n",
      "\n"
     ]
    }
   ],
   "source": [
    "predictions.filter(predictions.userId == 10).select(\"userId\", \"loanId\", \"count\", \"LoanIdFormat\", \"prediction\").show(20)"
   ]
  },
  {
   "cell_type": "code",
   "execution_count": 150,
   "id": "e19b27ef-bf27-4cfe-8e4f-b9ac81705f5c",
   "metadata": {},
   "outputs": [
    {
     "data": {
      "text/plain": [
       "111352"
      ]
     },
     "execution_count": 150,
     "metadata": {},
     "output_type": "execute_result"
    }
   ],
   "source": [
    "predictions.count()"
   ]
  },
  {
   "cell_type": "code",
   "execution_count": 151,
   "id": "067e5d6e-f081-4b75-bd3f-6d9f38b0cb17",
   "metadata": {},
   "outputs": [
    {
     "data": {
      "text/plain": [
       "111877"
      ]
     },
     "execution_count": 151,
     "metadata": {},
     "output_type": "execute_result"
    }
   ],
   "source": [
    "validation.count()"
   ]
  },
  {
   "cell_type": "markdown",
   "id": "ec61d4fc-bf4d-4d22-a160-2df1e5e19246",
   "metadata": {},
   "source": [
    "## Error Evaluation with RMSE"
   ]
  },
  {
   "cell_type": "markdown",
   "id": "e2d55e52-4dec-48df-8df2-88866b499378",
   "metadata": {},
   "source": [
    "<img src=\"https://docs.oracle.com/en/cloud/saas/planning-budgeting-cloud/pfusu/img/insights_rmse_formula.jpg\" height=\"300\" width=\"300\" />"
   ]
  },
  {
   "cell_type": "code",
   "execution_count": 23,
   "id": "5e28740c-bd7f-4213-986a-04b0b8453f48",
   "metadata": {},
   "outputs": [
    {
     "name": "stdout",
     "output_type": "stream",
     "text": [
      "Root Mean Squared Error (RMSE) = 0.028842204161434074\n"
     ]
    }
   ],
   "source": [
    " \n",
    "# Evaluate the model using Root Mean Squared Error (RMSE)\n",
    "evaluator = RegressionEvaluator(metricName=\"rmse\", labelCol=\"count\", predictionCol=\"prediction\")\n",
    "rmse = evaluator.evaluate(predictions)\n",
    "print(\"Root Mean Squared Error (RMSE) = \" + str(rmse))\n"
   ]
  },
  {
   "cell_type": "markdown",
   "id": "c8069530-1743-4e8b-81de-d8726a15a25e",
   "metadata": {},
   "source": [
    "## Recommendation of N users"
   ]
  },
  {
   "cell_type": "code",
   "execution_count": 122,
   "id": "5fbbfcf7-90ab-4c5e-a5e4-d781f369fb39",
   "metadata": {},
   "outputs": [],
   "source": [
    "userRecommends = final_model.recommendForAllUsers(5)\n",
    "loanRecommends = final_model.recommendForAllItems(5)"
   ]
  },
  {
   "cell_type": "code",
   "execution_count": 126,
   "id": "ba1eaaf8-ecef-43e9-9070-e70c3c6d8315",
   "metadata": {},
   "outputs": [
    {
     "name": "stdout",
     "output_type": "stream",
     "text": [
      "root\n",
      " |-- userId: integer (nullable = false)\n",
      " |-- recommendations: array (nullable = true)\n",
      " |    |-- element: struct (containsNull = true)\n",
      " |    |    |-- LoanIdFormat: integer (nullable = true)\n",
      " |    |    |-- rating: float (nullable = true)\n",
      "\n"
     ]
    }
   ],
   "source": [
    "userRecommends.printSchema()"
   ]
  },
  {
   "cell_type": "code",
   "execution_count": 130,
   "id": "e1d49ac8-fae2-43c6-97dd-016464edf5ea",
   "metadata": {},
   "outputs": [
    {
     "name": "stdout",
     "output_type": "stream",
     "text": [
      "root\n",
      " |-- Id: string (nullable = true)\n",
      " |-- AccountID: string (nullable = true)\n",
      " |-- Number_Of_Loans_Granted__c: integer (nullable = true)\n",
      " |-- Num_Of_Loans_Paid__c: integer (nullable = true)\n",
      " |-- Purpose_of_Loan__c: string (nullable = true)\n",
      " |-- Total_Repayments__c: integer (nullable = true)\n",
      " |-- Amount: integer (nullable = true)\n",
      " |-- Term_in_Weeks__c: double (nullable = true)\n",
      " |-- Payment_Frequency__c: string (nullable = true)\n",
      " |-- StageName: string (nullable = true)\n",
      " |-- Applicant Age: integer (nullable = true)\n",
      " |-- summary_income: double (nullable = true)\n",
      " |-- summary_income_cv: double (nullable = true)\n",
      " |-- city: string (nullable = true)\n",
      " |-- state: string (nullable = true)\n",
      " |-- Country: string (nullable = true)\n",
      " |-- userId: integer (nullable = true)\n",
      " |-- loanId: integer (nullable = true)\n",
      " |-- count: integer (nullable = true)\n",
      " |-- LoanIdFormat: integer (nullable = true)\n",
      "\n"
     ]
    }
   ],
   "source": [
    "validation.printSchema()"
   ]
  },
  {
   "cell_type": "markdown",
   "id": "b0c44455-54f9-4bc2-834e-6a6a123cba2e",
   "metadata": {},
   "source": [
    "## ALS Model Evaluation"
   ]
  },
  {
   "cell_type": "code",
   "execution_count": null,
   "id": "6e348c3f-d520-4018-bcd8-d6d4e52e7b09",
   "metadata": {},
   "outputs": [],
   "source": [
    "from pyspark.sql.functions import col, expr"
   ]
  },
  {
   "cell_type": "code",
   "execution_count": 138,
   "id": "7fd677b6-2055-4995-bd1d-7367cbc3d903",
   "metadata": {},
   "outputs": [],
   "source": [
    "# Assuming you have a DataFrame 'validation_data' containing the ground truth interactions\n",
    "# and a DataFrame 'recommendations' containing the top-N recommendations generated by the ALS model\n",
    "\n",
    "# Join recommendations with ground truth data to identify true positives\n",
    "true_positives = predictions.join(validation, ['userId', 'LoanIdFormat'], 'inner')"
   ]
  },
  {
   "cell_type": "code",
   "execution_count": 142,
   "id": "33526f67-bf22-491e-9aec-b02d8ae9eb9f",
   "metadata": {},
   "outputs": [],
   "source": [
    "# Calculate the number of true positives per user\n",
    "tp_per_user = true_positives.groupBy('userId').agg(expr('count(LoanIdFormat) as true_positives'))"
   ]
  },
  {
   "cell_type": "code",
   "execution_count": 144,
   "id": "1312c8e0-c174-4d01-b079-c48d12cbd582",
   "metadata": {},
   "outputs": [],
   "source": [
    " # Calculate the total number of relevant items per user in the ground truth data\n",
    "relevant_per_user = validation.groupBy('userId').agg(expr('count(LoanIdFormat) as relevant'))"
   ]
  },
  {
   "cell_type": "code",
   "execution_count": 145,
   "id": "331e28a0-b31f-4ca7-b426-6aaa869ca599",
   "metadata": {},
   "outputs": [],
   "source": [
    "# Calculate Precision per user\n",
    "precision_per_user = tp_per_user.join(relevant_per_user, 'userId', 'inner') \\\n",
    "    .selectExpr('userId', 'true_positives / relevant as precision')"
   ]
  },
  {
   "cell_type": "code",
   "execution_count": 146,
   "id": "6a7d7e11-6e29-41a3-84b7-20b42d84e5da",
   "metadata": {},
   "outputs": [],
   "source": [
    "# Calculate Recall per user\n",
    "recall_per_user = tp_per_user.join(relevant_per_user, 'userId', 'inner') \\\n",
    "    .selectExpr('userId', 'true_positives / relevant as recall')"
   ]
  },
  {
   "cell_type": "code",
   "execution_count": 147,
   "id": "4fa119c7-560c-4eea-83ca-246357a53682",
   "metadata": {},
   "outputs": [],
   "source": [
    "# Calculate F1-score per user\n",
    "f1_score_per_user = precision_per_user.join(recall_per_user, 'userId', 'inner') \\\n",
    "    .selectExpr('userId', '(2 * precision * recall) / (precision + recall) as f1_score')"
   ]
  },
  {
   "cell_type": "code",
   "execution_count": 148,
   "id": "a855a9fa-c9d4-4866-be4b-bbcbb1846b33",
   "metadata": {},
   "outputs": [],
   "source": [
    "# Calculate overall Precision, Recall, and F1-score\n",
    "overall_precision = precision_per_user.agg({'precision': 'avg'}).collect()[0][0]\n",
    "overall_recall = recall_per_user.agg({'recall': 'avg'}).collect()[0][0]\n",
    "overall_f1_score = f1_score_per_user.agg({'f1_score': 'avg'}).collect()[0][0]\n"
   ]
  },
  {
   "cell_type": "code",
   "execution_count": 149,
   "id": "837dfdff-a6fa-4a8f-961c-c7eb98d16cb7",
   "metadata": {},
   "outputs": [
    {
     "name": "stdout",
     "output_type": "stream",
     "text": [
      "Overall Precision: 1.8466075417340844\n",
      "Overall Recall: 1.8466075417340844\n",
      "Overall F1-score: 1.8466075417340917\n"
     ]
    }
   ],
   "source": [
    "\n",
    "# Print the results\n",
    "print(\"Overall Precision:\", overall_precision)\n",
    "print(\"Overall Recall:\", overall_recall)\n",
    "print(\"Overall F1-score:\", overall_f1_score)\n"
   ]
  },
  {
   "cell_type": "code",
   "execution_count": null,
   "id": "853c846f-1b77-4f36-b7ee-7f5ca2fb0bd6",
   "metadata": {},
   "outputs": [],
   "source": []
  },
  {
   "cell_type": "markdown",
   "id": "2e334b00-3dd4-4be8-8d57-180e6e60af92",
   "metadata": {},
   "source": [
    "## User Factors and Item Factors to calculate the cosine Similarity"
   ]
  },
  {
   "cell_type": "code",
   "execution_count": null,
   "id": "d38ab8b5-cb23-4a04-93f2-741727bd1303",
   "metadata": {},
   "outputs": [],
   "source": [
    "userFactors = final_model.userFactors\n",
    "itemFactors = final_model.itemFactors"
   ]
  },
  {
   "cell_type": "code",
   "execution_count": null,
   "id": "d9d7f917-6be2-4d99-b6eb-623c0db8f71d",
   "metadata": {},
   "outputs": [],
   "source": []
  },
  {
   "cell_type": "code",
   "execution_count": null,
   "id": "85c66b3c-aa13-4c9b-855f-3a4b97d32658",
   "metadata": {},
   "outputs": [],
   "source": []
  },
  {
   "cell_type": "code",
   "execution_count": null,
   "id": "6db6aaa7-c7c0-4410-ba60-07d51fa6a1bf",
   "metadata": {},
   "outputs": [],
   "source": []
  },
  {
   "cell_type": "code",
   "execution_count": null,
   "id": "8494d4d8-ffc1-411b-9396-5303a32b3e98",
   "metadata": {},
   "outputs": [],
   "source": []
  },
  {
   "cell_type": "code",
   "execution_count": null,
   "id": "e06bdc43-7f0c-4541-86fd-a4d3159ef720",
   "metadata": {},
   "outputs": [],
   "source": []
  },
  {
   "cell_type": "code",
   "execution_count": null,
   "id": "4e0d68c6-0e2f-4d82-84b5-0dc9b151b3d7",
   "metadata": {},
   "outputs": [],
   "source": []
  },
  {
   "cell_type": "code",
   "execution_count": null,
   "id": "e46fc48b-934c-418c-94ea-598896737352",
   "metadata": {},
   "outputs": [],
   "source": []
  },
  {
   "cell_type": "code",
   "execution_count": null,
   "id": "b196210b-2c2d-4f88-b9c7-c044dfd28f40",
   "metadata": {},
   "outputs": [],
   "source": []
  },
  {
   "cell_type": "code",
   "execution_count": null,
   "id": "89b7a0c6-41a4-4de7-839e-1324c9a12cb1",
   "metadata": {},
   "outputs": [],
   "source": []
  },
  {
   "cell_type": "code",
   "execution_count": 26,
   "id": "faa3e89a-c09a-4b25-90bb-4219857e08f7",
   "metadata": {
    "scrolled": true
   },
   "outputs": [
    {
     "data": {
      "text/plain": [
       "[Row(id=1, features=[4.158053398132324, 2.334045648574829, 0.005036159418523312, 4.159778594970703, 1.981391429901123, 3.1190431118011475, 2.4070258140563965, 0.009476770646870136]),\n",
       " Row(id=2, features=[2.838655948638916, 1.4919605255126953, 0.0, 2.681072473526001, 1.4392510652542114, 2.1257224082946777, 1.5806996822357178, 0.0]),\n",
       " Row(id=3, features=[1.4075653553009033, 0.5733293294906616, 0.004282074980437756, 1.3201020956039429, 0.7914156317710876, 1.2892216444015503, 0.7133536338806152, 0.025837238878011703]),\n",
       " Row(id=4, features=[1.4584975242614746, 0.6837419271469116, 0.0, 1.3014748096466064, 0.767175555229187, 1.144400715827942, 0.7632264494895935, 0.0]),\n",
       " Row(id=5, features=[2.916995048522949, 1.3674838542938232, 0.0, 2.602949619293213, 1.534351110458374, 2.288801431655884, 1.526452898979187, 0.0]),\n",
       " Row(id=6, features=[1.455165147781372, 0.6823551654815674, 0.0, 1.2986465692520142, 0.76537024974823, 1.1416593790054321, 0.761584460735321, 0.0]),\n",
       " Row(id=7, features=[1.455165147781372, 0.6823551654815674, 0.0, 1.2986465692520142, 0.76537024974823, 1.1416593790054321, 0.761584460735321, 0.0]),\n",
       " Row(id=8, features=[2.763284921646118, 1.5649967193603516, 0.0, 2.7763524055480957, 1.3386136293411255, 2.062466621398926, 1.6124813556671143, 0.0]),\n",
       " Row(id=9, features=[1.4584975242614746, 0.6837419271469116, 0.0, 1.3014748096466064, 0.767175555229187, 1.144400715827942, 0.7632264494895935, 0.0]),\n",
       " Row(id=10, features=[5.79245138168335, 2.775902509689331, 0.0, 5.218905448913574, 3.028778314590454, 4.501433849334717, 3.0662426948547363, 0.0]),\n",
       " Row(id=11, features=[4.357924938201904, 2.0570731163024902, 0.0, 3.9019806385040283, 2.2874600887298584, 3.4108471870422363, 2.2888410091400146, 0.0]),\n",
       " Row(id=12, features=[2.8643367290496826, 1.2607910633087158, 0.004070288967341185, 2.6170737743377686, 1.5550848245620728, 2.4229490756988525, 1.476969838142395, 0.02455936186015606]),\n",
       " Row(id=13, features=[1.439157485961914, 0.7091360688209534, 0.0, 1.3125112056732178, 0.7484092712402344, 1.1108074188232422, 0.7724266648292542, 0.0]),\n",
       " Row(id=14, features=[1.3882157802581787, 0.7850856184959412, 0.0, 1.3805631399154663, 0.6780470013618469, 1.0234360694885254, 0.8079012036323547, 0.0]),\n",
       " Row(id=15, features=[2.8014087677001953, 1.5798985958099365, 0.0, 2.7309019565582275, 1.389811635017395, 2.0160861015319824, 1.621914029121399, 0.0]),\n",
       " Row(id=16, features=[1.3868147134780884, 0.6138665080070496, 0.004252706188708544, 1.342319130897522, 0.7652884125709534, 1.2358412742614746, 0.7314943075180054, 0.025660034269094467]),\n",
       " Row(id=17, features=[2.8027524948120117, 1.5804182291030884, 0.0, 2.7292320728302, 1.3916425704956055, 2.014390468597412, 1.6222360134124756, 0.0]),\n",
       " Row(id=18, features=[1.4273003339767456, 0.7373696565628052, 0.0, 1.3302116394042969, 0.7303438186645508, 1.070687174797058, 0.7865297794342041, 0.0]),\n",
       " Row(id=19, features=[2.878260374069214, 1.2850964069366455, 0.0030475836247205734, 2.611799716949463, 1.5510855913162231, 2.3918259143829346, 1.4881240129470825, 0.018388548865914345]),\n",
       " Row(id=20, features=[1.4584975242614746, 0.6837419271469116, 0.0, 1.3014748096466064, 0.767175555229187, 1.144400715827942, 0.7632264494895935, 0.0]),\n",
       " Row(id=21, features=[1.7755988836288452, 2.406818151473999, 1.2215372323989868, 2.1573994159698486, 2.133899450302124, 3.147319793701172, 1.599425196647644, 0.6274399161338806]),\n",
       " Row(id=22, features=[1.4376369714736938, 0.7151657938957214, 0.0, 1.3170137405395508, 0.7438744306564331, 1.0983102321624756, 0.776233434677124, 0.0]),\n",
       " Row(id=23, features=[1.4584975242614746, 0.6837419271469116, 0.0, 1.3014748096466064, 0.767175555229187, 1.144400715827942, 0.7632264494895935, 0.0]),\n",
       " Row(id=24, features=[1.403144121170044, 0.7908921837806702, 0.0, 1.3624082803726196, 0.6982346177101135, 1.0049550533294678, 0.8115401268005371, 0.0]),\n",
       " Row(id=25, features=[1.4450322389602661, 0.6966769695281982, 0.0, 1.3087328672409058, 0.7530297040939331, 1.1233317852020264, 0.7677345275878906, 0.0]),\n",
       " Row(id=26, features=[1.4269721508026123, 0.7268546223640442, 0.0, 1.3306607007980347, 0.729605495929718, 1.0874073505401611, 0.7814075350761414, 0.0]),\n",
       " Row(id=27, features=[1.4315729141235352, 0.7281047105789185, 0.0, 1.3246841430664062, 0.7359626293182373, 1.0821677446365356, 0.7822232842445374, 0.0]),\n",
       " Row(id=28, features=[1.403144121170044, 0.7908921837806702, 0.0, 1.3624082803726196, 0.6982346177101135, 1.0049550533294678, 0.8115401268005371, 0.0]),\n",
       " Row(id=29, features=[1.4562373161315918, 0.6812680959701538, 0.0, 1.2982856035232544, 0.7664099335670471, 1.14364755153656, 0.7612225413322449, 0.0]),\n",
       " Row(id=30, features=[1.3727178573608398, 0.7789580225944519, 0.0, 1.398166298866272, 0.6575754880905151, 1.0415103435516357, 0.8039330840110779, 0.0]),\n",
       " Row(id=31, features=[2.779243230819702, 1.0693811178207397, 0.005287432111799717, 2.6255502700805664, 1.6579784154891968, 2.650290012359619, 1.39726722240448, 0.05770602077245712]),\n",
       " Row(id=32, features=[1.4100390672683716, 0.5992649793624878, 0.003553840797394514, 1.3197505474090576, 0.7810283899307251, 1.2524807453155518, 0.7244376540184021, 0.021443210542201996]),\n",
       " Row(id=33, features=[1.456249713897705, 0.6825017333030701, 0.0, 1.294905662536621, 0.7761216163635254, 1.1380435228347778, 0.762954592704773, 0.0]),\n",
       " Row(id=34, features=[5.7327704429626465, 2.515296459197998, 0.008522015996277332, 5.243098735809326, 3.1170194149017334, 4.865932941436768, 2.953726291656494, 0.051420245319604874]),\n",
       " Row(id=35, features=[2.916995048522949, 1.3674838542938232, 0.0, 2.602949619293213, 1.534351110458374, 2.288801431655884, 1.526452898979187, 0.0]),\n",
       " Row(id=36, features=[1.403144121170044, 0.7908921837806702, 0.0, 1.3624082803726196, 0.6982346177101135, 1.0049550533294678, 0.8115401268005371, 0.0]),\n",
       " Row(id=37, features=[3.957941770553589, 1.8864775896072388, 0.0, 3.6059374809265137, 2.1008787155151367, 3.5951762199401855, 3.5238564014434814, 0.09217022359371185]),\n",
       " Row(id=38, features=[1.4584975242614746, 0.6837419271469116, 0.0, 1.3014748096466064, 0.767175555229187, 1.144400715827942, 0.7632264494895935, 0.0]),\n",
       " Row(id=39, features=[4.209432601928711, 2.3726766109466553, 0.0, 4.08722448348999, 2.0947039127349854, 3.014864921569824, 2.4346203804016113, 0.0]),\n",
       " Row(id=40, features=[1.4584975242614746, 0.6837419271469116, 0.0, 1.3014748096466064, 0.767175555229187, 1.144400715827942, 0.7632264494895935, 0.0]),\n",
       " Row(id=41, features=[2.5205202102661133, 1.2973209619522095, 0.042417947202920914, 2.480038642883301, 1.2260069847106934, 2.3581559658050537, 2.417210340499878, 0.10496941953897476]),\n",
       " Row(id=42, features=[1.3727178573608398, 0.7789580225944519, 0.0, 1.398166298866272, 0.6575754880905151, 1.0415103435516357, 0.8039330840110779, 0.0]),\n",
       " Row(id=43, features=[1.2524412870407104, 0.6831849217414856, 0.0, 1.2611312866210938, 0.6229143142700195, 1.141241192817688, 1.2222099304199219, 0.031648628413677216]),\n",
       " Row(id=44, features=[1.420041799545288, 0.7437829971313477, 0.0, 1.3311001062393188, 0.728486180305481, 1.0762741565704346, 0.7864701747894287, 0.0]),\n",
       " Row(id=45, features=[1.4376369714736938, 0.7151657938957214, 0.0, 1.3170137405395508, 0.7438744306564331, 1.0983102321624756, 0.776233434677124, 0.0]),\n",
       " Row(id=46, features=[1.4584975242614746, 0.6837419271469116, 0.0, 1.3014748096466064, 0.767175555229187, 1.144400715827942, 0.7632264494895935, 0.0]),\n",
       " Row(id=47, features=[2.910330295562744, 1.3647103309631348, 0.0, 2.5972931385040283, 1.53074049949646, 2.2833187580108643, 1.523168921470642, 0.0]),\n",
       " Row(id=48, features=[1.4584975242614746, 0.6837419271469116, 0.0, 1.3014748096466064, 0.767175555229187, 1.144400715827942, 0.7632264494895935, 0.0]),\n",
       " Row(id=49, features=[1.4568448066711426, 0.6808847784996033, 0.0, 1.2982739210128784, 0.7669293284416199, 1.144606113433838, 0.7611525058746338, 0.0]),\n",
       " Row(id=50, features=[1.3983066082000732, 0.5676565766334534, 0.004656188655644655, 1.3234803676605225, 0.7887948155403137, 1.2945040464401245, 0.7101964950561523, 0.028094569221138954]),\n",
       " Row(id=51, features=[1.4584975242614746, 0.6837419271469116, 0.0, 1.3014748096466064, 0.767175555229187, 1.144400715827942, 0.7632264494895935, 0.0]),\n",
       " Row(id=52, features=[1.3915847539901733, 0.8008435964584351, 0.0, 1.3636226654052734, 0.6952484846115112, 1.0136431455612183, 0.811335563659668, 0.0]),\n",
       " Row(id=53, features=[1.411689043045044, 0.5822405219078064, 0.003936780616641045, 1.3186149597167969, 0.7894697189331055, 1.2775568962097168, 0.7173839807510376, 0.023753797635436058]),\n",
       " Row(id=54, features=[5.8331451416015625, 2.7281665802001953, 0.0, 5.199835777282715, 3.070174217224121, 4.581560134887695, 3.0487446784973145, 0.0]),\n",
       " Row(id=55, features=[1.4584975242614746, 0.6837419271469116, 0.0, 1.3014748096466064, 0.767175555229187, 1.144400715827942, 0.7632264494895935, 0.0]),\n",
       " Row(id=56, features=[1.4315729141235352, 0.7281047105789185, 0.0, 1.3246841430664062, 0.7359626293182373, 1.0821677446365356, 0.7822232842445374, 0.0]),\n",
       " Row(id=57, features=[2.8663382530212402, 1.4196863174438477, 0.0, 2.6463043689727783, 1.474921464920044, 2.220344066619873, 1.546965479850769, 0.0]),\n",
       " Row(id=58, features=[4.349918365478516, 1.9957736730575562, 0.0018765183631330729, 3.9048409461975098, 2.3121938705444336, 3.4978559017181396, 2.2628753185272217, 0.011322560720145702]),\n",
       " Row(id=59, features=[1.3730894327163696, 0.5057511329650879, 0.0012706801062449813, 1.30312979221344, 0.8553400039672852, 1.3461835384368896, 0.6864451169967651, 0.03053656965494156]),\n",
       " Row(id=60, features=[1.4568448066711426, 0.6808847784996033, 0.0, 1.2982739210128784, 0.7669293284416199, 1.144606113433838, 0.7611525058746338, 0.0]),\n",
       " Row(id=61, features=[1.403144121170044, 0.7908921837806702, 0.0, 1.3624082803726196, 0.6982346177101135, 1.0049550533294678, 0.8115401268005371, 0.0]),\n",
       " Row(id=62, features=[1.4584975242614746, 0.6837419271469116, 0.0, 1.3014748096466064, 0.767175555229187, 1.144400715827942, 0.7632264494895935, 0.0]),\n",
       " Row(id=63, features=[1.4584975242614746, 0.6837419271469116, 0.0, 1.3014748096466064, 0.767175555229187, 1.144400715827942, 0.7632264494895935, 0.0]),\n",
       " Row(id=64, features=[1.4568448066711426, 0.6808847784996033, 0.0, 1.2982739210128784, 0.7669293284416199, 1.144606113433838, 0.7611525058746338, 0.0]),\n",
       " Row(id=65, features=[1.4584975242614746, 0.6837419271469116, 0.0, 1.3014748096466064, 0.767175555229187, 1.144400715827942, 0.7632264494895935, 0.0]),\n",
       " Row(id=66, features=[1.3965486288070679, 0.5496103763580322, 0.005200203973799944, 1.3240101337432861, 0.7965623140335083, 1.320197582244873, 0.7026099562644958, 0.03137705847620964]),\n",
       " Row(id=67, features=[4.19281530380249, 1.6549330949783325, 0.00573244784027338, 3.9293124675750732, 2.478405237197876, 3.908493995666504, 2.119279623031616, 0.07427015900611877]),\n",
       " Row(id=68, features=[1.3870543241500854, 0.5304661989212036, 0.001095091225579381, 1.3052998781204224, 0.8452342748641968, 1.3217018842697144, 0.6979861855506897, 0.026499075815081596]),\n",
       " Row(id=69, features=[4.277507305145264, 2.2216994762420654, 0.0, 3.996371269226074, 2.185234308242798, 3.200209379196167, 2.3640546798706055, 0.0]),\n",
       " Row(id=70, features=[1.4584975242614746, 0.6837419271469116, 0.0, 1.3014748096466064, 0.767175555229187, 1.144400715827942, 0.7632264494895935, 0.0]),\n",
       " Row(id=71, features=[2.889897584915161, 1.400260090827942, 0.0, 2.6164677143096924, 1.5064899921417236, 2.2347326278686523, 1.5386790037155151, 0.0]),\n",
       " Row(id=72, features=[1.4376369714736938, 0.7151657938957214, 0.0, 1.3170137405395508, 0.7438744306564331, 1.0983102321624756, 0.776233434677124, 0.0]),\n",
       " Row(id=73, features=[1.403144121170044, 0.7908921837806702, 0.0, 1.3624082803726196, 0.6982346177101135, 1.0049550533294678, 0.8115401268005371, 0.0]),\n",
       " Row(id=74, features=[4.211287498474121, 1.8452702760696411, 0.01031880360096693, 3.9836220741271973, 2.312211513519287, 3.697732448577881, 2.1946003437042236, 0.062261730432510376]),\n",
       " Row(id=75, features=[1.3882157802581787, 0.7850856184959412, 0.0, 1.3805631399154663, 0.6780470013618469, 1.0234360694885254, 0.8079012036323547, 0.0]),\n",
       " Row(id=76, features=[1.388704776763916, 0.577997088432312, 0.0018572822446003556, 1.3217107057571411, 0.8099386692047119, 1.2690397500991821, 0.7181746363639832, 0.02387329563498497]),\n",
       " Row(id=77, features=[2.8712449073791504, 1.2681888341903687, 0.0038521504029631615, 2.619767665863037, 1.556193470954895, 2.4191360473632812, 1.4816231727600098, 0.02324315346777439]),\n",
       " Row(id=78, features=[1.403144121170044, 0.7908921837806702, 0.0, 1.3624082803726196, 0.6982346177101135, 1.0049550533294678, 0.8115401268005371, 0.0]),\n",
       " Row(id=79, features=[2.858152389526367, 1.2502037286758423, 0.0006341719999909401, 2.604731321334839, 1.59421968460083, 2.420448064804077, 1.4761525392532349, 0.020163778215646744]),\n",
       " Row(id=80, features=[2.8445076942443848, 1.487391471862793, 0.0, 2.6735386848449707, 1.447147011756897, 2.128770351409912, 1.578751802444458, 0.0]),\n",
       " Row(id=81, features=[2.9129505157470703, 1.3621830940246582, 0.0, 2.5965182781219482, 1.5332425832748413, 2.2880842685699463, 1.5223594903945923, 0.0]),\n",
       " Row(id=82, features=[1.4315729141235352, 0.7281047105789185, 0.0, 1.3246841430664062, 0.7359626293182373, 1.0821677446365356, 0.7822232842445374, 0.0]),\n",
       " Row(id=83, features=[1.403144121170044, 0.7908921837806702, 0.0, 1.3624082803726196, 0.6982346177101135, 1.0049550533294678, 0.8115401268005371, 0.0]),\n",
       " Row(id=84, features=[1.3965486288070679, 0.5496103763580322, 0.005200203973799944, 1.3240101337432861, 0.7965623140335083, 1.320197582244873, 0.7026099562644958, 0.03137705847620964]),\n",
       " Row(id=85, features=[2.8366823196411133, 1.2047768831253052, 0.006317559629678726, 2.628434896469116, 1.56643545627594, 2.4969794750213623, 1.4517368078231812, 0.03811896964907646]),\n",
       " Row(id=86, features=[2.915465831756592, 1.361892819404602, 0.0, 2.5975449085235596, 1.5350053310394287, 2.2911179065704346, 1.522822618484497, 0.0]),\n",
       " Row(id=87, features=[1.457480788230896, 0.6808130145072937, 0.0, 1.2985347509384155, 0.767374575138092, 1.1453720331192017, 0.7612705826759338, 0.0]),\n",
       " Row(id=88, features=[4.375492572784424, 2.0512259006500244, 0.0, 3.9044241905212402, 2.3015267848968506, 3.4332022666931152, 2.2896792888641357, 0.0]),\n",
       " Row(id=89, features=[1.4269721508026123, 0.7268546223640442, 0.0, 1.3306607007980347, 0.729605495929718, 1.0874073505401611, 0.7814075350761414, 0.0]),\n",
       " Row(id=90, features=[1.4167674779891968, 0.59799724817276, 0.0033331927843391895, 1.3150912523269653, 0.7845953106880188, 1.2546449899673462, 0.7239986062049866, 0.02011186257004738]),\n",
       " Row(id=91, features=[1.3992078304290771, 0.7893697619438171, 0.0, 1.367303490638733, 0.692869246006012, 1.0099247694015503, 0.8105971813201904, 0.0]),\n",
       " Row(id=92, features=[1.4581655263900757, 0.6816341876983643, 0.0, 1.2995604276657104, 0.7675850987434387, 1.1455484628677368, 0.7619192600250244, 0.0]),\n",
       " Row(id=93, features=[1.4467569589614868, 0.6965752840042114, 0.0, 1.3061981201171875, 0.7555132508277893, 1.1219607591629028, 0.7677295804023743, 0.0]),\n",
       " Row(id=94, features=[1.4584975242614746, 0.6837419271469116, 0.0, 1.3014748096466064, 0.767175555229187, 1.144400715827942, 0.7632264494895935, 0.0]),\n",
       " Row(id=95, features=[1.403144121170044, 0.7908921837806702, 0.0, 1.3624082803726196, 0.6982346177101135, 1.0049550533294678, 0.8115401268005371, 0.0]),\n",
       " Row(id=96, features=[2.874343156814575, 1.290682077407837, 0.0030003967694938183, 2.612959861755371, 1.5465272665023804, 2.382050037384033, 1.4900857210159302, 0.018103832378983498]),\n",
       " Row(id=97, features=[2.9132754802703857, 1.3619787693023682, 0.0, 2.59651255607605, 1.533520221710205, 2.2885963916778564, 1.5223225355148315, 0.0]),\n",
       " Row(id=98, features=[1.4269721508026123, 0.7268546223640442, 0.0, 1.3306607007980347, 0.729605495929718, 1.0874073505401611, 0.7814075350761414, 0.0]),\n",
       " Row(id=99, features=[1.4584975242614746, 0.6837419271469116, 0.0, 1.3014748096466064, 0.767175555229187, 1.144400715827942, 0.7632264494895935, 0.0]),\n",
       " Row(id=100, features=[1.3868776559829712, 0.5290534496307373, 0.005993086379021406, 1.3272448778152466, 0.8009243607521057, 1.3468246459960938, 0.6932497024536133, 0.036161161959171295]),\n",
       " Row(id=101, features=[1.4584975242614746, 0.6837419271469116, 0.0, 1.3014748096466064, 0.767175555229187, 1.144400715827942, 0.7632264494895935, 0.0]),\n",
       " Row(id=102, features=[2.875033140182495, 1.2937248945236206, 0.0029035289771854877, 2.612757444381714, 1.5455079078674316, 2.377861738204956, 1.4914143085479736, 0.017519351094961166]),\n",
       " Row(id=103, features=[1.4584975242614746, 0.6837419271469116, 0.0, 1.3014748096466064, 0.767175555229187, 1.144400715827942, 0.7632264494895935, 0.0]),\n",
       " Row(id=104, features=[1.392929196357727, 0.5418696999549866, 0.005499276798218489, 1.3252556324005127, 0.7982226014137268, 1.3302634954452515, 0.6990941762924194, 0.033181607723236084]),\n",
       " Row(id=105, features=[1.4584975242614746, 0.6837419271469116, 0.0, 1.3014748096466064, 0.767175555229187, 1.144400715827942, 0.7632264494895935, 0.0]),\n",
       " Row(id=106, features=[1.4584975242614746, 0.6837419271469116, 0.0, 1.3014748096466064, 0.767175555229187, 1.144400715827942, 0.7632264494895935, 0.0]),\n",
       " Row(id=107, features=[1.4584975242614746, 0.6837419271469116, 0.0, 1.3014748096466064, 0.767175555229187, 1.144400715827942, 0.7632264494895935, 0.0]),\n",
       " Row(id=108, features=[1.4417054653167725, 0.7066944241523743, 0.0, 1.3120412826538086, 0.7491198778152466, 1.1089893579483032, 0.772336483001709, 0.0]),\n",
       " Row(id=109, features=[4.22026252746582, 2.057551622390747, 0.015515608713030815, 4.032583713531494, 2.1718056201934814, 3.4471681118011475, 2.292482614517212, 0.039052773267030716]),\n",
       " Row(id=110, features=[2.7995550632476807, 1.1123765707015991, 0.005993863567709923, 2.629215717315674, 1.6269186735153198, 2.6057136058807373, 1.414781928062439, 0.05224210396409035]),\n",
       " Row(id=111, features=[1.455784559249878, 0.681676983833313, 0.0, 1.2983964681625366, 0.765985906124115, 1.1428442001342773, 0.7613462805747986, 0.0]),\n",
       " Row(id=112, features=[1.3983066082000732, 0.5676565766334534, 0.004656188655644655, 1.3234803676605225, 0.7887948155403137, 1.2945040464401245, 0.7101964950561523, 0.028094569221138954]),\n",
       " Row(id=113, features=[1.3831121921539307, 0.7830783724784851, 0.0, 1.3864933252334595, 0.671253502368927, 1.0295071601867676, 0.806614875793457, 0.0]),\n",
       " Row(id=114, features=[1.4584975242614746, 0.6837419271469116, 0.0, 1.3014748096466064, 0.767175555229187, 1.144400715827942, 0.7632264494895935, 0.0]),\n",
       " Row(id=115, features=[4.312911033630371, 2.1454973220825195, 0.0, 3.9510412216186523, 2.2316231727600098, 3.2949306964874268, 2.328700304031372, 0.0]),\n",
       " Row(id=116, features=[3.9216768741607666, 1.5916335582733154, 0.011701404117047787, 3.6003060340881348, 2.258157968521118, 3.9706737995147705, 3.342437505722046, 0.13563349843025208]),\n",
       " Row(id=117, features=[2.916995048522949, 1.3674838542938232, 0.0, 2.602949619293213, 1.534351110458374, 2.288801431655884, 1.526452898979187, 0.0]),\n",
       " Row(id=118, features=[4.350491046905518, 2.0705621242523193, 0.0, 3.90785813331604, 2.279083490371704, 3.3911819458007812, 2.294628381729126, 0.0]),\n",
       " Row(id=119, features=[2.8144545555114746, 1.2313868999481201, 0.006320272572338581, 2.6510794162750244, 1.5390832424163818, 2.4648196697235107, 1.4629583358764648, 0.0381353422999382]),\n",
       " Row(id=120, features=[1.457480788230896, 0.6808130145072937, 0.0, 1.2985347509384155, 0.767374575138092, 1.1453720331192017, 0.7612705826759338, 0.0]),\n",
       " Row(id=121, features=[1.4562373161315918, 0.6812680959701538, 0.0, 1.2982856035232544, 0.7664099335670471, 1.14364755153656, 0.7612225413322449, 0.0]),\n",
       " Row(id=122, features=[1.3831121921539307, 0.7830783724784851, 0.0, 1.3864933252334595, 0.671253502368927, 1.0295071601867676, 0.806614875793457, 0.0]),\n",
       " Row(id=123, features=[4.124587059020996, 1.5209659337997437, 0.004290818702429533, 3.91558837890625, 2.563077926635742, 4.042621612548828, 2.061967372894287, 0.0922793447971344]),\n",
       " Row(id=124, features=[2.8799691200256348, 1.2871166467666626, 0.0031179282814264297, 2.6165659427642822, 1.5520325899124146, 2.3942975997924805, 1.4901700019836426, 0.01881299540400505]),\n",
       " Row(id=125, features=[2.8133127689361572, 1.201006293296814, 0.0024189313407987356, 2.6278183460235596, 1.5992008447647095, 2.4837646484375, 1.454362392425537, 0.03432836756110191]),\n",
       " Row(id=126, features=[1.4315729141235352, 0.7281047105789185, 0.0, 1.3246841430664062, 0.7359626293182373, 1.0821677446365356, 0.7822232842445374, 0.0]),\n",
       " Row(id=127, features=[1.4500006437301636, 0.6904809474945068, 0.0, 1.3027805089950562, 0.7594980001449585, 1.1299991607666016, 0.7650055885314941, 0.0]),\n",
       " Row(id=128, features=[1.403144121170044, 0.7908921837806702, 0.0, 1.3624082803726196, 0.6982346177101135, 1.0049550533294678, 0.8115401268005371, 0.0]),\n",
       " Row(id=129, features=[1.36661958694458, 0.7718192934989929, 0.0, 1.4053016901016235, 0.6450679898262024, 1.0552456378936768, 0.8014976382255554, 0.0]),\n",
       " Row(id=130, features=[4.209432601928711, 2.3726766109466553, 0.0, 4.08722448348999, 2.0947039127349854, 3.014864921569824, 2.4346203804016113, 0.0]),\n",
       " Row(id=131, features=[1.376462697982788, 0.7710550427436829, 0.0, 1.3952778577804565, 0.6532437801361084, 1.0512417554855347, 0.8032881021499634, 0.0]),\n",
       " Row(id=132, features=[1.4273003339767456, 0.7373696565628052, 0.0, 1.3302116394042969, 0.7303438186645508, 1.070687174797058, 0.7865297794342041, 0.0]),\n",
       " Row(id=133, features=[1.3727178573608398, 0.7789580225944519, 0.0, 1.398166298866272, 0.6575754880905151, 1.0415103435516357, 0.8039330840110779, 0.0]),\n",
       " Row(id=134, features=[1.4574075937271118, 0.6820883750915527, 0.0, 1.299040675163269, 0.7671462893486023, 1.143845796585083, 0.7619339227676392, 0.0]),\n",
       " Row(id=135, features=[1.4227092266082764, 0.7255058884620667, 0.0, 1.3360143899917603, 0.7237824201583862, 1.092373013496399, 0.7805380821228027, 0.0]),\n",
       " Row(id=136, features=[1.403144121170044, 0.7908921837806702, 0.0, 1.3624082803726196, 0.6982346177101135, 1.0049550533294678, 0.8115401268005371, 0.0]),\n",
       " Row(id=137, features=[1.4584975242614746, 0.6837419271469116, 0.0, 1.3014748096466064, 0.767175555229187, 1.144400715827942, 0.7632264494895935, 0.0]),\n",
       " Row(id=138, features=[1.3979390859603882, 0.7656024098396301, 0.006275290157645941, 1.3809003829956055, 0.6367287635803223, 1.0616084337234497, 0.7914336919784546, 0.01180849876254797]),\n",
       " Row(id=139, features=[2.916995048522949, 1.3674838542938232, 0.0, 2.602949619293213, 1.534351110458374, 2.288801431655884, 1.526452898979187, 0.0]),\n",
       " Row(id=140, features=[1.455165147781372, 0.6823551654815674, 0.0, 1.2986465692520142, 0.76537024974823, 1.1416593790054321, 0.761584460735321, 0.0]),\n",
       " Row(id=141, features=[1.420041799545288, 0.7437829971313477, 0.0, 1.3311001062393188, 0.728486180305481, 1.0762741565704346, 0.7864701747894287, 0.0]),\n",
       " Row(id=142, features=[1.3831068277359009, 0.5737888216972351, 0.005215341225266457, 1.3377605676651, 0.7804608345031738, 1.2880960702896118, 0.7133685946464539, 0.03146839141845703]),\n",
       " Row(id=143, features=[1.452946662902832, 0.6854695677757263, 0.0, 1.3001105785369873, 0.7629602551460266, 1.1369218826293945, 0.762835681438446, 0.0]),\n",
       " Row(id=144, features=[2.541422128677368, 1.3336949348449707, 0.012221855111420155, 2.490257740020752, 1.1940019130706787, 2.3302161693573, 2.427520513534546, 0.08710823208093643]),\n",
       " Row(id=145, features=[5.631310939788818, 2.457690715789795, 0.004333327058702707, 5.257269859313965, 3.1753616333007812, 4.889578819274902, 2.932583808898926, 0.06264779716730118]),\n",
       " Row(id=146, features=[1.4507678747177124, 0.6891138553619385, 0.0, 1.30203378200531, 0.760418176651001, 1.1318466663360596, 0.7644044756889343, 0.0]),\n",
       " Row(id=147, features=[1.4100390672683716, 0.5992649793624878, 0.003553840797394514, 1.3197505474090576, 0.7810283899307251, 1.2524807453155518, 0.7244376540184021, 0.021443210542201996]),\n",
       " Row(id=148, features=[2.80310320854187, 1.5805538892745972, 0.0, 2.728795289993286, 1.3921208381652832, 2.0139472484588623, 1.6223199367523193, 0.0]),\n",
       " Row(id=149, features=[1.403144121170044, 0.7908921837806702, 0.0, 1.3624082803726196, 0.6982346177101135, 1.0049550533294678, 0.8115401268005371, 0.0]),\n",
       " Row(id=150, features=[1.452946662902832, 0.6854695677757263, 0.0, 1.3001105785369873, 0.7629602551460266, 1.1369218826293945, 0.762835681438446, 0.0]),\n",
       " Row(id=151, features=[2.778079032897949, 1.0670270919799805, 0.00501116132363677, 2.6242520809173584, 1.6618385314941406, 2.651540756225586, 1.396497368812561, 0.05754464119672775]),\n",
       " Row(id=152, features=[2.810732126235962, 1.141021490097046, 0.008771567605435848, 2.6398940086364746, 1.5828049182891846, 2.583498001098633, 1.4236388206481934, 0.052925996482372284]),\n",
       " Row(id=153, features=[1.4019898176193237, 0.7992326617240906, 0.0, 1.345007061958313, 0.692736029624939, 1.0145552158355713, 0.8110109567642212, 0.0]),\n",
       " Row(id=154, features=[1.398776650428772, 0.5691372752189636, 0.004647574853152037, 1.3237918615341187, 0.7889599204063416, 1.2928218841552734, 0.7110194563865662, 0.028042595833539963]),\n",
       " Row(id=155, features=[1.4075536727905273, 0.7535299062728882, 0.0, 1.3554151058197021, 0.7038041353225708, 1.0590170621871948, 0.7934382557868958, 0.0]),\n",
       " Row(id=156, features=[4.191474914550781, 1.6534925699234009, 0.015357526019215584, 3.9684338569641113, 2.38834810256958, 3.951652765274048, 2.1093850135803223, 0.092664435505867]),\n",
       " Row(id=157, features=[4.184992790222168, 1.6388657093048096, 0.015985792502760887, 3.973642110824585, 2.3918297290802, 3.9735634326934814, 2.103306293487549, 0.09645527601242065]),\n",
       " Row(id=158, features=[1.4151872396469116, 0.5898078083992004, 0.0036434743087738752, 1.317347526550293, 0.7878143787384033, 1.2676446437835693, 0.7208050489425659, 0.02198404259979725]),\n",
       " Row(id=159, features=[1.443267822265625, 0.703506588935852, 0.0, 1.3101859092712402, 0.7511146664619446, 1.113043189048767, 0.7708778977394104, 0.0]),\n",
       " Row(id=160, features=[4.368711948394775, 2.043804407119751, 0.0, 3.8948569297790527, 2.299229621887207, 3.4309427738189697, 2.283667802810669, 0.0]),\n",
       " Row(id=161, features=[1.4313578605651855, 0.6248448491096497, 0.0022848467342555523, 1.311447024345398, 0.780129075050354, 1.2217038869857788, 0.7366344332695007, 0.01378633826971054]),\n",
       " Row(id=162, features=[2.600672483444214, 3.2822344303131104, 1.6687246561050415, 3.0893001556396484, 3.0802223682403564, 4.832418441772461, 3.035288095474243, 0.9149091839790344]),\n",
       " Row(id=163, features=[1.4568448066711426, 0.6808847784996033, 0.0, 1.2982739210128784, 0.7669293284416199, 1.144606113433838, 0.7611525058746338, 0.0]),\n",
       " Row(id=164, features=[1.403144121170044, 0.7908921837806702, 0.0, 1.3624082803726196, 0.6982346177101135, 1.0049550533294678, 0.8115401268005371, 0.0]),\n",
       " Row(id=165, features=[1.3911073207855225, 0.5586310625076294, 0.005179345142096281, 1.328084945678711, 0.7901154160499573, 1.306984782218933, 0.7063496112823486, 0.031251199543476105]),\n",
       " Row(id=166, features=[4.1399335861206055, 1.6615265607833862, 0.03509340435266495, 3.969989538192749, 2.4595789909362793, 3.898810625076294, 2.1361961364746094, 0.10176461189985275]),\n",
       " Row(id=167, features=[1.4155532121658325, 0.7334737181663513, 0.0, 1.344917893409729, 0.714310884475708, 1.0846036672592163, 0.7840415239334106, 0.0]),\n",
       " Row(id=168, features=[1.455165147781372, 0.6823551654815674, 0.0, 1.2986465692520142, 0.76537024974823, 1.1416593790054321, 0.761584460735321, 0.0]),\n",
       " Row(id=169, features=[1.4318435192108154, 0.6254702806472778, 0.0022138787899166346, 1.3099592924118042, 0.7798489332199097, 1.219770073890686, 0.7366716861724854, 0.013358130119740963]),\n",
       " Row(id=170, features=[1.4572252035140991, 0.6807864904403687, 0.0, 1.2983840703964233, 0.7672122120857239, 1.145104169845581, 0.7611910104751587, 0.0]),\n",
       " Row(id=171, features=[2.916995048522949, 1.3674838542938232, 0.0, 2.602949619293213, 1.534351110458374, 2.288801431655884, 1.526452898979187, 0.0]),\n",
       " Row(id=172, features=[1.4568448066711426, 0.6808847784996033, 0.0, 1.2982739210128784, 0.7669293284416199, 1.144606113433838, 0.7611525058746338, 0.0]),\n",
       " Row(id=173, features=[1.4069457054138184, 0.571635901927948, 0.002046979730948806, 1.310516595840454, 0.8133785128593445, 1.2810381650924683, 0.714697539806366, 0.021837541833519936]),\n",
       " Row(id=174, features=[1.3831121921539307, 0.7830783724784851, 0.0, 1.3864933252334595, 0.671253502368927, 1.0295071601867676, 0.806614875793457, 0.0]),\n",
       " Row(id=175, features=[1.443267822265625, 0.703506588935852, 0.0, 1.3101859092712402, 0.7511146664619446, 1.113043189048767, 0.7708778977394104, 0.0]),\n",
       " Row(id=176, features=[1.4227092266082764, 0.7255058884620667, 0.0, 1.3360143899917603, 0.7237824201583862, 1.092373013496399, 0.7805380821228027, 0.0]),\n",
       " Row(id=177, features=[4.292356491088867, 2.163997173309326, 0.0, 3.9774584770202637, 2.2039706707000732, 3.280341863632202, 2.3367278575897217, 0.0]),\n",
       " Row(id=178, features=[1.4584975242614746, 0.6837419271469116, 0.0, 1.3014748096466064, 0.767175555229187, 1.144400715827942, 0.7632264494895935, 0.0]),\n",
       " Row(id=179, features=[1.454280972480774, 0.6834936141967773, 0.0, 1.2991448640823364, 0.7644405364990234, 1.139845609664917, 0.7620234489440918, 0.0]),\n",
       " Row(id=180, features=[1.4279500246047974, 0.7127073407173157, 0.0, 1.3295857906341553, 0.7304984927177429, 1.1090586185455322, 0.7745988965034485, 0.0]),\n",
       " Row(id=181, features=[4.283474922180176, 1.8534362316131592, 0.007515325676649809, 3.9324700832366943, 2.343517780303955, 3.6873128414154053, 2.199162244796753, 0.04534606635570526]),\n",
       " Row(id=182, features=[1.4584975242614746, 0.6837419271469116, 0.0, 1.3014748096466064, 0.767175555229187, 1.144400715827942, 0.7632264494895935, 0.0]),\n",
       " Row(id=183, features=[5.5260233879089355, 2.0717601776123047, 0.025673599913716316, 5.315263271331787, 3.2126693725585938, 5.44385290145874, 2.7525293827056885, 0.15490970015525818]),\n",
       " Row(id=184, features=[0.9200340509414673, 1.1860089302062988, 0.5885050296783447, 1.081207036972046, 1.0748978853225708, 1.5610682964324951, 0.8016161322593689, 0.2997976243495941]),\n",
       " Row(id=185, features=[1.403144121170044, 0.7908921837806702, 0.0, 1.3624082803726196, 0.6982346177101135, 1.0049550533294678, 0.8115401268005371, 0.0]),\n",
       " Row(id=186, features=[1.4484531879425049, 0.6912665963172913, 0.0, 1.3050185441970825, 0.7573021650314331, 1.1301051378250122, 0.7653433680534363, 0.0]),\n",
       " Row(id=187, features=[1.4576616287231445, 0.680895209312439, 0.0, 1.2986940145492554, 0.7674704194068909, 1.1455156803131104, 0.761363685131073, 0.0]),\n",
       " Row(id=188, features=[2.8976306915283203, 1.3834916353225708, 0.0, 2.6085546016693115, 1.5158381462097168, 2.257641315460205, 1.5311235189437866, 0.0]),\n",
       " Row(id=189, features=[1.403144121170044, 0.7908921837806702, 0.0, 1.3624082803726196, 0.6982346177101135, 1.0049550533294678, 0.8115401268005371, 0.0]),\n",
       " Row(id=190, features=[2.916995048522949, 1.3674838542938232, 0.0, 2.602949619293213, 1.534351110458374, 2.288801431655884, 1.526452898979187, 0.0]),\n",
       " Row(id=191, features=[5.655765056610107, 2.350653648376465, 0.0008922234992496669, 5.20842170715332, 3.2826075553894043, 5.015078544616699, 2.891350030899048, 0.06297487020492554]),\n",
       " Row(id=192, features=[1.4568448066711426, 0.6808847784996033, 0.0, 1.2982739210128784, 0.7669293284416199, 1.144606113433838, 0.7611525058746338, 0.0]),\n",
       " Row(id=193, features=[1.452946662902832, 0.6854695677757263, 0.0, 1.3001105785369873, 0.7629602551460266, 1.1369218826293945, 0.762835681438446, 0.0]),\n",
       " Row(id=194, features=[1.4376369714736938, 0.7151657938957214, 0.0, 1.3170137405395508, 0.7438744306564331, 1.0983102321624756, 0.776233434677124, 0.0]),\n",
       " Row(id=195, features=[1.4390432834625244, 0.7063782811164856, 0.0, 1.31571364402771, 0.7453680038452148, 1.111601710319519, 0.7720867395401001, 0.0]),\n",
       " Row(id=196, features=[1.4572252035140991, 0.6807864904403687, 0.0, 1.2983840703964233, 0.7672122120857239, 1.145104169845581, 0.7611910104751587, 0.0]),\n",
       " Row(id=197, features=[1.4584975242614746, 0.6837419271469116, 0.0, 1.3014748096466064, 0.767175555229187, 1.144400715827942, 0.7632264494895935, 0.0]),\n",
       " Row(id=198, features=[2.8591084480285645, 1.2522963285446167, 0.004445462953299284, 2.619297504425049, 1.5563454627990723, 2.433927059173584, 1.4730925559997559, 0.026823092252016068]),\n",
       " Row(id=199, features=[1.4584975242614746, 0.6837419271469116, 0.0, 1.3014748096466064, 0.767175555229187, 1.144400715827942, 0.7632264494895935, 0.0]),\n",
       " Row(id=200, features=[1.4367650747299194, 0.7091565728187561, 0.0, 1.3185391426086426, 0.7423625588417053, 1.1087408065795898, 0.7733185291290283, 0.0]),\n",
       " Row(id=201, features=[1.4584975242614746, 0.6837419271469116, 0.0, 1.3014748096466064, 0.767175555229187, 1.144400715827942, 0.7632264494895935, 0.0]),\n",
       " Row(id=202, features=[1.403144121170044, 0.7908921837806702, 0.0, 1.3624082803726196, 0.6982346177101135, 1.0049550533294678, 0.8115401268005371, 0.0]),\n",
       " Row(id=203, features=[2.829474449157715, 1.2323944568634033, 0.005737083964049816, 2.6386878490448, 1.5462679862976074, 2.4619526863098145, 1.4633721113204956, 0.034616488963365555]),\n",
       " Row(id=204, features=[1.4324736595153809, 0.714032769203186, 0.0, 1.3238509893417358, 0.7366960644721985, 1.1039003133773804, 0.7754639387130737, 0.0]),\n",
       " Row(id=205, features=[1.3969087600708008, 0.7884777784347534, 0.0, 1.3701276779174805, 0.6897492408752441, 1.01279616355896, 0.810041069984436, 0.0]),\n",
       " Row(id=206, features=[1.4562373161315918, 0.6812680959701538, 0.0, 1.2982856035232544, 0.7664099335670471, 1.14364755153656, 0.7612225413322449, 0.0]),\n",
       " Row(id=207, features=[4.31662130355835, 2.1330606937408447, 0.0, 3.946735143661499, 2.2361927032470703, 3.3122785091400146, 2.322883129119873, 0.0]),\n",
       " Row(id=208, features=[4.375492572784424, 2.0512259006500244, 0.0, 3.9044241905212402, 2.3015267848968506, 3.4332022666931152, 2.2896792888641357, 0.0]),\n",
       " Row(id=209, features=[1.449101448059082, 0.6921249032020569, 0.0, 1.3036901950836182, 0.758406937122345, 1.1278035640716553, 0.7657343149185181, 0.0]),\n",
       " Row(id=210, features=[1.403144121170044, 0.7908921837806702, 0.0, 1.3624082803726196, 0.6982346177101135, 1.0049550533294678, 0.8115401268005371, 0.0]),\n",
       " Row(id=211, features=[1.3831121921539307, 0.7830783724784851, 0.0, 1.3864933252334595, 0.671253502368927, 1.0295071601867676, 0.806614875793457, 0.0]),\n",
       " Row(id=212, features=[1.4584975242614746, 0.6837419271469116, 0.0, 1.3014748096466064, 0.767175555229187, 1.144400715827942, 0.7632264494895935, 0.0]),\n",
       " Row(id=213, features=[5.679222583770752, 2.3992269039154053, 0.013023323379456997, 5.262672424316406, 3.142496109008789, 5.018161773681641, 2.9012956619262695, 0.07858029752969742]),\n",
       " Row(id=214, features=[2.916995048522949, 1.3674838542938232, 0.0, 2.602949619293213, 1.534351110458374, 2.288801431655884, 1.526452898979187, 0.0]),\n",
       " Row(id=215, features=[1.4584975242614746, 0.6837419271469116, 0.0, 1.3014748096466064, 0.767175555229187, 1.144400715827942, 0.7632264494895935, 0.0]),\n",
       " Row(id=216, features=[2.7486205101013184, 1.367128610610962, 0.004737017676234245, 2.746196746826172, 1.4178003072738647, 2.314570426940918, 1.5233056545257568, 0.02858227863907814]),\n",
       " Row(id=217, features=[4.148913383483887, 2.0767486095428467, 0.006782089825719595, 4.0945844650268555, 2.1560049057006836, 3.4234960079193115, 2.2981741428375244, 0.040921859443187714]),\n",
       " Row(id=218, features=[4.367029190063477, 2.0453598499298096, 0.0, 3.895298480987549, 2.297642946243286, 3.4279308319091797, 2.2841482162475586, 0.0]),\n",
       " Row(id=219, features=[1.4507678747177124, 0.6891138553619385, 0.0, 1.30203378200531, 0.760418176651001, 1.1318466663360596, 0.7644044756889343, 0.0]),\n",
       " Row(id=220, features=[1.4584975242614746, 0.6837419271469116, 0.0, 1.3014748096466064, 0.767175555229187, 1.144400715827942, 0.7632264494895935, 0.0]),\n",
       " Row(id=221, features=[2.8959460258483887, 1.3802802562713623, 0.0, 2.6131577491760254, 1.5124887228012085, 2.2663307189941406, 1.5297622680664062, 0.0]),\n",
       " Row(id=222, features=[2.8858983516693115, 1.2999821901321411, 0.002618836471810937, 2.6143884658813477, 1.5492035150527954, 2.3774123191833496, 1.4959790706634521, 0.01580156944692135]),\n",
       " Row(id=223, features=[2.8023147583007812, 1.5802490711212158, 0.0, 2.729776382446289, 1.3910460472106934, 2.0149431228637695, 1.6221312284469604, 0.0]),\n",
       " Row(id=224, features=[1.452946662902832, 0.6854695677757263, 0.0, 1.3001105785369873, 0.7629602551460266, 1.1369218826293945, 0.762835681438446, 0.0]),\n",
       " Row(id=225, features=[1.4507678747177124, 0.6891138553619385, 0.0, 1.30203378200531, 0.760418176651001, 1.1318466663360596, 0.7644044756889343, 0.0]),\n",
       " Row(id=226, features=[1.4576616287231445, 0.680895209312439, 0.0, 1.2986940145492554, 0.7674704194068909, 1.1455156803131104, 0.761363685131073, 0.0]),\n",
       " Row(id=227, features=[2.751967191696167, 1.0387585163116455, 0.004338063765317202, 2.6064112186431885, 1.6712092161178589, 2.658473014831543, 1.3798333406448364, 0.059518780559301376]),\n",
       " Row(id=228, features=[1.4568448066711426, 0.6808847784996033, 0.0, 1.2982739210128784, 0.7669293284416199, 1.144606113433838, 0.7611525058746338, 0.0]),\n",
       " Row(id=229, features=[2.7638044357299805, 1.5652018785476685, 0.0, 2.775759220123291, 1.3393011093139648, 2.0618579387664795, 1.6126137971878052, 0.0]),\n",
       " Row(id=230, features=[4.205028533935547, 2.336850643157959, 0.0, 4.09169864654541, 2.086594820022583, 3.0724551677703857, 2.4173948764801025, 0.0]),\n",
       " Row(id=231, features=[1.4366085529327393, 0.70599764585495, 0.0, 1.319002389907837, 0.7419617772102356, 1.1140629053115845, 0.7718059420585632, 0.0]),\n",
       " Row(id=232, features=[2.806288242340088, 1.5817843675613403, 0.0, 2.7248165607452393, 1.396469235420227, 2.0099101066589355, 1.6230802536010742, 0.0]),\n",
       " Row(id=233, features=[1.4376369714736938, 0.7151657938957214, 0.0, 1.3170137405395508, 0.7438744306564331, 1.0983102321624756, 0.776233434677124, 0.0]),\n",
       " Row(id=234, features=[1.425134539604187, 0.6113525629043579, 0.002808122429996729, 1.3137238025665283, 0.7830916047096252, 1.2394016981124878, 0.7305402755737305, 0.016943685710430145]),\n",
       " Row(id=235, features=[2.910330295562744, 1.3647103309631348, 0.0, 2.5972931385040283, 1.53074049949646, 2.2833187580108643, 1.523168921470642, 0.0]),\n",
       " Row(id=236, features=[1.4562373161315918, 0.6812680959701538, 0.0, 1.2982856035232544, 0.7664099335670471, 1.14364755153656, 0.7612225413322449, 0.0]),\n",
       " Row(id=237, features=[4.373467445373535, 2.0430874824523926, 0.0, 3.896658182144165, 2.302612781524658, 3.4367995262145996, 2.2844455242156982, 0.0]),\n",
       " Row(id=238, features=[2.907799005508423, 1.3680633306503296, 0.0, 2.59879732131958, 1.5280507802963257, 2.2780582904815674, 1.5244801044464111, 0.0]),\n",
       " Row(id=239, features=[1.4074703454971313, 0.753475546836853, 0.0, 1.3555066585540771, 0.7036948204040527, 1.0591448545455933, 0.7934061288833618, 0.0]),\n",
       " Row(id=240, features=[2.765115737915039, 1.0401724576950073, 0.012673203833401203, 2.6570608615875244, 1.6054917573928833, 2.716517686843872, 1.3782527446746826, 0.07646774500608444]),\n",
       " Row(id=241, features=[0.9253857731819153, 1.1458089351654053, 0.5716099143028259, 1.0745747089385986, 1.0846971273422241, 1.5865256786346436, 0.7833083271980286, 0.293355256319046]),\n",
       " Row(id=242, features=[0.9104240536689758, 1.2813968658447266, 0.6029055714607239, 1.0803803205490112, 1.0378365516662598, 1.4597097635269165, 0.8364642858505249, 0.2964690327644348]),\n",
       " Row(id=243, features=[1.4584975242614746, 0.6837419271469116, 0.0, 1.3014748096466064, 0.767175555229187, 1.144400715827942, 0.7632264494895935, 0.0]),\n",
       " Row(id=244, features=[1.4516286849975586, 0.687626302242279, 0.0, 1.3012343645095825, 0.7614368200302124, 1.1338862180709839, 0.7637569308280945, 0.0]),\n",
       " Row(id=245, features=[1.4507678747177124, 0.6891138553619385, 0.0, 1.30203378200531, 0.760418176651001, 1.1318466663360596, 0.7644044756889343, 0.0]),\n",
       " Row(id=246, features=[4.252984046936035, 2.244868040084839, 0.0, 4.0280680656433105, 2.1522011756896973, 3.1812686920166016, 2.374185562133789, 0.0]),\n",
       " Row(id=247, features=[2.851590633392334, 1.2450571060180664, 0.0018552894471213222, 2.6115612983703613, 1.585049033164978, 2.430393934249878, 1.472819447517395, 0.023869719356298447]),\n",
       " Row(id=248, features=[1.7907739877700806, 2.2485339641571045, 1.1722687482833862, 2.1727957725524902, 2.192960023880005, 3.258064031600952, 1.5512241125106812, 0.6188653111457825]),\n",
       " Row(id=249, features=[1.4584975242614746, 0.6837419271469116, 0.0, 1.3014748096466064, 0.767175555229187, 1.144400715827942, 0.7632264494895935, 0.0]),\n",
       " Row(id=250, features=[2.8200550079345703, 1.214935302734375, 0.020443914458155632, 2.6557061672210693, 1.5289690494537354, 2.497140884399414, 1.458907961845398, 0.0528186671435833]),\n",
       " Row(id=251, features=[1.4467569589614868, 0.6965752840042114, 0.0, 1.3061981201171875, 0.7555132508277893, 1.1219607591629028, 0.7677295804023743, 0.0]),\n",
       " Row(id=252, features=[1.403144121170044, 0.7908921837806702, 0.0, 1.3624082803726196, 0.6982346177101135, 1.0049550533294678, 0.8115401268005371, 0.0]),\n",
       " Row(id=253, features=[1.3882157802581787, 0.7850856184959412, 0.0, 1.3805631399154663, 0.6780470013618469, 1.0234360694885254, 0.8079012036323547, 0.0]),\n",
       " Row(id=254, features=[1.4220997095108032, 0.6076003909111023, 0.0029274169355630875, 1.312868356704712, 0.7828925848007202, 1.2421096563339233, 0.7283525466918945, 0.017663484439253807]),\n",
       " Row(id=255, features=[1.4531669616699219, 0.6842133402824402, 0.0, 1.298080563545227, 0.7659953832626343, 1.1368962526321411, 0.7624142169952393, 0.0]),\n",
       " Row(id=256, features=[1.3914246559143066, 0.8022395968437195, 0.00044937364873476326, 1.3492127656936646, 0.6827449202537537, 1.0300630331039429, 0.8104719519615173, 0.0]),\n",
       " Row(id=257, features=[1.4584975242614746, 0.6837419271469116, 0.0, 1.3014748096466064, 0.767175555229187, 1.144400715827942, 0.7632264494895935, 0.0]),\n",
       " Row(id=258, features=[1.3787274360656738, 0.792719841003418, 0.0, 1.3817484378814697, 0.6752514839172363, 1.0305283069610596, 0.807599663734436, 0.0]),\n",
       " Row(id=259, features=[1.4562373161315918, 0.6812680959701538, 0.0, 1.2982856035232544, 0.7664099335670471, 1.14364755153656, 0.7612225413322449, 0.0]),\n",
       " Row(id=260, features=[1.4584975242614746, 0.6837419271469116, 0.0, 1.3014748096466064, 0.767175555229187, 1.144400715827942, 0.7632264494895935, 0.0]),\n",
       " Row(id=261, features=[1.4584975242614746, 0.6837419271469116, 0.0, 1.3014748096466064, 0.767175555229187, 1.144400715827942, 0.7632264494895935, 0.0]),\n",
       " Row(id=262, features=[4.3148112297058105, 1.9195170402526855, 0.005109724123030901, 3.926736831665039, 2.3305020332336426, 3.6060891151428223, 2.2302167415618896, 0.030831119045615196]),\n",
       " Row(id=263, features=[1.3882157802581787, 0.7850856184959412, 0.0, 1.3805631399154663, 0.6780470013618469, 1.0234360694885254, 0.8079012036323547, 0.0]),\n",
       " Row(id=264, features=[1.4516286849975586, 0.687626302242279, 0.0, 1.3012343645095825, 0.7614368200302124, 1.1338862180709839, 0.7637569308280945, 0.0]),\n",
       " Row(id=265, features=[1.3965486288070679, 0.5496103763580322, 0.005200203973799944, 1.3240101337432861, 0.7965623140335083, 1.320197582244873, 0.7026099562644958, 0.03137705847620964]),\n",
       " Row(id=266, features=[7.0105671882629395, 3.3914670944213867, 0.008585423231124878, 6.712098598480225, 3.6748905181884766, 5.793469429016113, 3.7930665016174316, 0.05208374932408333]),\n",
       " Row(id=267, features=[4.20866060256958, 2.3102664947509766, 0.0, 4.085622310638428, 2.09301495552063, 3.1104753017425537, 2.403958559036255, 0.0]),\n",
       " Row(id=268, features=[1.4584975242614746, 0.6837419271469116, 0.0, 1.3014748096466064, 0.767175555229187, 1.144400715827942, 0.7632264494895935, 0.0]),\n",
       " Row(id=269, features=[1.4315729141235352, 0.7281047105789185, 0.0, 1.3246841430664062, 0.7359626293182373, 1.0821677446365356, 0.7822232842445374, 0.0]),\n",
       " Row(id=270, features=[1.4467569589614868, 0.6965752840042114, 0.0, 1.3061981201171875, 0.7555132508277893, 1.1219607591629028, 0.7677295804023743, 0.0]),\n",
       " Row(id=271, features=[1.4584975242614746, 0.6837419271469116, 0.0, 1.3014748096466064, 0.767175555229187, 1.144400715827942, 0.7632264494895935, 0.0]),\n",
       " Row(id=272, features=[1.4584975242614746, 0.6837419271469116, 0.0, 1.3014748096466064, 0.767175555229187, 1.144400715827942, 0.7632264494895935, 0.0]),\n",
       " Row(id=273, features=[2.8935139179229736, 1.3931505680084229, 0.0, 2.612396240234375, 1.5110265016555786, 2.2439215183258057, 1.5354591608047485, 0.0]),\n",
       " Row(id=274, features=[1.3969087600708008, 0.7884777784347534, 0.0, 1.3701276779174805, 0.6897492408752441, 1.01279616355896, 0.810041069984436, 0.0]),\n",
       " Row(id=275, features=[1.4584975242614746, 0.6837419271469116, 0.0, 1.3014748096466064, 0.767175555229187, 1.144400715827942, 0.7632264494895935, 0.0]),\n",
       " Row(id=276, features=[1.4584975242614746, 0.6837419271469116, 0.0, 1.3014748096466064, 0.767175555229187, 1.144400715827942, 0.7632264494895935, 0.0]),\n",
       " Row(id=277, features=[1.403144121170044, 0.7908921837806702, 0.0, 1.3624082803726196, 0.6982346177101135, 1.0049550533294678, 0.8115401268005371, 0.0]),\n",
       " Row(id=278, features=[1.4562373161315918, 0.6812680959701538, 0.0, 1.2982856035232544, 0.7664099335670471, 1.14364755153656, 0.7612225413322449, 0.0]),\n",
       " Row(id=279, features=[2.8917324542999268, 1.3932521343231201, 0.0, 2.6150147914886475, 1.5084609985351562, 2.2453434467315674, 1.5354626178741455, 0.0]),\n",
       " Row(id=280, features=[4.219379901885986, 2.3158178329467773, 0.0, 4.072530269622803, 2.1075692176818848, 3.094984292984009, 2.407236337661743, 0.0]),\n",
       " Row(id=281, features=[1.4261938333511353, 0.6152735948562622, 0.0026113265193998814, 1.311266303062439, 0.78146892786026, 1.232139229774475, 0.7318409085273743, 0.015756255015730858]),\n",
       " Row(id=282, features=[1.403144121170044, 0.7908921837806702, 0.0, 1.3624082803726196, 0.6982346177101135, 1.0049550533294678, 0.8115401268005371, 0.0]),\n",
       " Row(id=283, features=[2.916995048522949, 1.3674838542938232, 0.0, 2.602949619293213, 1.534351110458374, 2.288801431655884, 1.526452898979187, 0.0]),\n",
       " Row(id=284, features=[1.4294447898864746, 0.621544361114502, 0.002357668709009886, 1.3100570440292358, 0.7802695631980896, 1.22401762008667, 0.7346973419189453, 0.01422573160380125]),\n",
       " Row(id=285, features=[1.452946662902832, 0.6854695677757263, 0.0, 1.3001105785369873, 0.7629602551460266, 1.1369218826293945, 0.762835681438446, 0.0]),\n",
       " Row(id=286, features=[1.4584975242614746, 0.6837419271469116, 0.0, 1.3014748096466064, 0.767175555229187, 1.144400715827942, 0.7632264494895935, 0.0]),\n",
       " Row(id=287, features=[1.403144121170044, 0.7908921837806702, 0.0, 1.3624082803726196, 0.6982346177101135, 1.0049550533294678, 0.8115401268005371, 0.0]),\n",
       " Row(id=288, features=[1.4584975242614746, 0.6837419271469116, 0.0, 1.3014748096466064, 0.767175555229187, 1.144400715827942, 0.7632264494895935, 0.0]),\n",
       " Row(id=289, features=[1.3805367946624756, 0.7820615172386169, 0.0, 1.389435052871704, 0.6678451895713806, 1.0325255393981934, 0.8059580326080322, 0.0]),\n",
       " Row(id=290, features=[1.4562373161315918, 0.6812680959701538, 0.0, 1.2982856035232544, 0.7664099335670471, 1.14364755153656, 0.7612225413322449, 0.0]),\n",
       " Row(id=291, features=[2.8994340896606445, 1.38198983669281, 0.0, 2.6061272621154785, 1.518310546875, 2.258620023727417, 1.5304656028747559, 0.0]),\n",
       " Row(id=292, features=[1.3979390859603882, 0.7656024098396301, 0.006275290157645941, 1.3809003829956055, 0.6367287635803223, 1.0616084337234497, 0.7914336919784546, 0.01180849876254797]),\n",
       " Row(id=293, features=[1.4584975242614746, 0.6837419271469116, 0.0, 1.3014748096466064, 0.767175555229187, 1.144400715827942, 0.7632264494895935, 0.0]),\n",
       " Row(id=294, features=[1.4151872396469116, 0.5898078083992004, 0.0036434743087738752, 1.317347526550293, 0.7878143787384033, 1.2676446437835693, 0.7208050489425659, 0.02198404259979725]),\n",
       " Row(id=295, features=[1.4507678747177124, 0.6891138553619385, 0.0, 1.30203378200531, 0.760418176651001, 1.1318466663360596, 0.7644044756889343, 0.0]),\n",
       " Row(id=296, features=[1.4376369714736938, 0.7151657938957214, 0.0, 1.3170137405395508, 0.7438744306564331, 1.0983102321624756, 0.776233434677124, 0.0]),\n",
       " Row(id=297, features=[1.4584975242614746, 0.6837419271469116, 0.0, 1.3014748096466064, 0.767175555229187, 1.144400715827942, 0.7632264494895935, 0.0]),\n",
       " Row(id=298, features=[1.403144121170044, 0.7908921837806702, 0.0, 1.3624082803726196, 0.6982346177101135, 1.0049550533294678, 0.8115401268005371, 0.0]),\n",
       " Row(id=299, features=[1.4584975242614746, 0.6837419271469116, 0.0, 1.3014748096466064, 0.767175555229187, 1.144400715827942, 0.7632264494895935, 0.0]),\n",
       " Row(id=300, features=[3.8831777572631836, 1.9277260303497314, 0.015780996531248093, 3.6739983558654785, 1.9376356601715088, 3.574173927307129, 3.581804037094116, 0.1202428787946701]),\n",
       " Row(id=301, features=[0.9424477815628052, 1.2369439601898193, 0.5885850191116333, 1.062084674835205, 1.0635474920272827, 1.497565746307373, 0.8200600147247314, 0.2877492904663086]),\n",
       " Row(id=302, features=[2.825528383255005, 1.5388364791870117, 0.0, 2.698908805847168, 1.4221389293670654, 2.0624940395355225, 1.6029753684997559, 0.0]),\n",
       " Row(id=303, features=[1.3979891538619995, 0.5660577416419983, 0.004649600945413113, 1.3229981660842896, 0.7885468602180481, 1.2963471412658691, 0.709285318851471, 0.028054820373654366]),\n",
       " Row(id=304, features=[4.24872350692749, 1.974571943283081, 0.005781459156423807, 3.9754977226257324, 2.2696447372436523, 3.533604621887207, 2.250883102416992, 0.034884244203567505]),\n",
       " Row(id=305, features=[2.8821818828582764, 1.2919176816940308, 0.00293168518692255, 2.615753650665283, 1.5509769916534424, 2.3879966735839844, 1.4923378229141235, 0.017689239233732224]),\n",
       " Row(id=306, features=[1.402620792388916, 0.5626632571220398, 0.004695163574069738, 1.321871280670166, 0.7937375903129578, 1.3031679391860962, 0.7085261344909668, 0.02832973748445511]),\n",
       " Row(id=307, features=[2.8858983516693115, 1.2999821901321411, 0.002618836471810937, 2.6143884658813477, 1.5492035150527954, 2.3774123191833496, 1.4959790706634521, 0.01580156944692135]),\n",
       " Row(id=308, features=[2.9458322525024414, 3.0671327114105225, 1.4655627012252808, 3.4157092571258545, 3.0893595218658447, 4.778523921966553, 2.2822489738464355, 0.7992281317710876]),\n",
       " Row(id=309, features=[1.3929013013839722, 0.7869177460670471, 0.0, 1.3749855756759644, 0.6843361258506775, 1.0177433490753174, 0.8090618252754211, 0.0]),\n",
       " Row(id=310, features=[1.4584975242614746, 0.6837419271469116, 0.0, 1.3014748096466064, 0.767175555229187, 1.144400715827942, 0.7632264494895935, 0.0]),\n",
       " Row(id=311, features=[2.847865343093872, 1.2353217601776123, 0.0024000511039048433, 2.6138436794281006, 1.5858747959136963, 2.4443812370300293, 1.468340516090393, 0.026396730914711952]),\n",
       " Row(id=312, features=[5.821455001831055, 2.7285003662109375, 0.0, 5.194223880767822, 3.0622856616973877, 4.568193435668945, 3.0460031032562256, 0.0]),\n",
       " Row(id=313, features=[1.3753808736801147, 0.5229038596153259, 0.006401765160262585, 1.3326936960220337, 0.7961769104003906, 1.3534691333770752, 0.6897569298744202, 0.038627054542303085]),\n",
       " Row(id=314, features=[1.425134539604187, 0.6113525629043579, 0.002808122429996729, 1.3137238025665283, 0.7830916047096252, 1.2394016981124878, 0.7305402755737305, 0.016943685710430145]),\n",
       " Row(id=315, features=[1.3755500316619873, 0.5171005129814148, 0.006548391189426184, 1.3313041925430298, 0.7994032502174377, 1.3606961965560913, 0.6872051358222961, 0.03951176628470421]),\n",
       " Row(id=316, features=[1.4336721897125244, 0.6298640370368958, 0.0020901660900563, 1.3105989694595337, 0.7790263891220093, 1.2151187658309937, 0.7389011979103088, 0.012611671350896358]),\n",
       " Row(id=317, features=[4.33626651763916, 1.9705865383148193, 0.0028889989480376244, 3.90939998626709, 2.316498041152954, 3.5298352241516113, 2.2512359619140625, 0.017431678250432014]),\n",
       " Row(id=318, features=[4.170406818389893, 1.6071350574493408, 0.01240948773920536, 3.958045721054077, 2.4436135292053223, 3.9929635524749756, 2.093259811401367, 0.09466879069805145]),\n",
       " Row(id=319, features=[1.4204332828521729, 0.7431077361106873, 0.0, 1.3390840291976929, 0.7210752367973328, 1.0665534734725952, 0.789002001285553, 0.0]),\n",
       " Row(id=320, features=[4.199032306671143, 2.0266144275665283, 0.006999272387474775, 4.031019687652588, 2.2269463539123535, 3.4669926166534424, 2.276839256286621, 0.04223230108618736]),\n",
       " Row(id=321, features=[1.452946662902832, 0.6854695677757263, 0.0, 1.3001105785369873, 0.7629602551460266, 1.1369218826293945, 0.762835681438446, 0.0]),\n",
       " Row(id=322, features=[1.4241130352020264, 0.7214892506599426, 0.0, 1.3247708082199097, 0.7346610426902771, 1.1103806495666504, 0.7753918170928955, 0.0]),\n",
       " Row(id=323, features=[1.3953959941864014, 0.7878896594047546, 0.0, 1.3719713687896729, 0.6877020001411438, 1.0146723985671997, 0.8096729516983032, 0.0]),\n",
       " Row(id=324, features=[1.4584975242614746, 0.6837419271469116, 0.0, 1.3014748096466064, 0.767175555229187, 1.144400715827942, 0.7632264494895935, 0.0]),\n",
       " Row(id=325, features=[4.311911106109619, 1.9319080114364624, 0.004586281720548868, 3.9193079471588135, 2.3216469287872314, 3.579305648803711, 2.2334208488464355, 0.027672765776515007]),\n",
       " Row(id=326, features=[2.8739209175109863, 1.4300793409347534, 0.0, 2.635852813720703, 1.4858558177947998, 2.198049783706665, 1.5522907972335815, 0.0]),\n",
       " Row(id=327, features=[1.4227092266082764, 0.7255058884620667, 0.0, 1.3360143899917603, 0.7237824201583862, 1.092373013496399, 0.7805380821228027, 0.0]),\n",
       " Row(id=328, features=[4.214958190917969, 1.7032872438430786, 0.01349312998354435, 3.9630815982818604, 2.3778860569000244, 3.889509677886963, 2.1325039863586426, 0.08141501992940903]),\n",
       " Row(id=329, features=[4.304359436035156, 1.8965263366699219, 0.0058079990558326244, 3.924560546875, 2.334516763687134, 3.630892038345337, 2.2186503410339355, 0.03504437953233719]),\n",
       " Row(id=330, features=[1.4417054653167725, 0.7066944241523743, 0.0, 1.3120412826538086, 0.7491198778152466, 1.1089893579483032, 0.772336483001709, 0.0]),\n",
       " Row(id=331, features=[5.553105354309082, 2.1279828548431396, 0.023519743233919144, 5.307199001312256, 3.2012462615966797, 5.372157096862793, 2.7783806324005127, 0.14191372692584991]),\n",
       " Row(id=332, features=[1.4584975242614746, 0.6837419271469116, 0.0, 1.3014748096466064, 0.767175555229187, 1.144400715827942, 0.7632264494895935, 0.0]),\n",
       " Row(id=333, features=[1.382073998451233, 0.7459820508956909, 0.009714586660265923, 1.3981159925460815, 0.5888397693634033, 1.1009544134140015, 0.7759042978286743, 0.018280379474163055]),\n",
       " Row(id=334, features=[1.389685034751892, 0.5361601114273071, 0.005621470045298338, 1.3209401369094849, 0.7994503378868103, 1.3324310779571533, 0.6954459547996521, 0.033918894827365875]),\n",
       " Row(id=336, features=[4.178686141967773, 1.7445275783538818, 0.013501882553100586, 3.992081880569458, 2.336397647857666, 3.832331657409668, 2.1488585472106934, 0.08146783709526062]),\n",
       " Row(id=337, features=[1.4567294120788574, 0.6823409199714661, 0.0, 1.29916512966156, 0.7665179967880249, 1.143163800239563, 0.7619395852088928, 0.0]),\n",
       " Row(id=338, features=[1.3972055912017822, 0.7331163287162781, 0.0038782423362135887, 1.3597830533981323, 0.6917480230331421, 1.0944323539733887, 0.7880263328552246, 0.0]),\n",
       " Row(id=339, features=[1.449101448059082, 0.6921249032020569, 0.0, 1.3036901950836182, 0.758406937122345, 1.1278035640716553, 0.7657343149185181, 0.0]),\n",
       " Row(id=340, features=[1.4364869594573975, 0.6359697580337524, 0.0018533312249928713, 1.3095667362213135, 0.7776845097541809, 1.2071071863174438, 0.7416584491729736, 0.011182653717696667]),\n",
       " Row(id=341, features=[1.4220997095108032, 0.6076003909111023, 0.0029274169355630875, 1.312868356704712, 0.7828925848007202, 1.2421096563339233, 0.7283525466918945, 0.017663484439253807]),\n",
       " Row(id=342, features=[1.4467569589614868, 0.6965752840042114, 0.0, 1.3061981201171875, 0.7555132508277893, 1.1219607591629028, 0.7677295804023743, 0.0]),\n",
       " Row(id=343, features=[1.3753808736801147, 0.5229038596153259, 0.006401765160262585, 1.3326936960220337, 0.7961769104003906, 1.3534691333770752, 0.6897569298744202, 0.038627054542303085]),\n",
       " Row(id=344, features=[4.102298736572266, 1.5849488973617554, 0.030514752492308617, 3.950925350189209, 2.49655818939209, 3.9671082496643066, 2.097703695297241, 0.10838489234447479]),\n",
       " Row(id=345, features=[1.4100390672683716, 0.5992649793624878, 0.003553840797394514, 1.3197505474090576, 0.7810283899307251, 1.2524807453155518, 0.7244376540184021, 0.021443210542201996]),\n",
       " Row(id=346, features=[1.4562373161315918, 0.6812680959701538, 0.0, 1.2982856035232544, 0.7664099335670471, 1.14364755153656, 0.7612225413322449, 0.0]),\n",
       " Row(id=347, features=[1.4167674779891968, 0.59799724817276, 0.0033331927843391895, 1.3150912523269653, 0.7845953106880188, 1.2546449899673462, 0.7239986062049866, 0.02011186257004738]),\n",
       " Row(id=348, features=[1.4315729141235352, 0.7281047105789185, 0.0, 1.3246841430664062, 0.7359626293182373, 1.0821677446365356, 0.7822232842445374, 0.0]),\n",
       " Row(id=349, features=[1.403144121170044, 0.7908921837806702, 0.0, 1.3624082803726196, 0.6982346177101135, 1.0049550533294678, 0.8115401268005371, 0.0]),\n",
       " Row(id=350, features=[1.4467569589614868, 0.6965752840042114, 0.0, 1.3061981201171875, 0.7555132508277893, 1.1219607591629028, 0.7677295804023743, 0.0]),\n",
       " Row(id=351, features=[4.370408535003662, 2.043891668319702, 0.0, 3.8956165313720703, 2.3003995418548584, 3.4326138496398926, 2.284125328063965, 0.0]),\n",
       " Row(id=352, features=[1.4562373161315918, 0.6812680959701538, 0.0, 1.2982856035232544, 0.7664099335670471, 1.14364755153656, 0.7612225413322449, 0.0]),\n",
       " Row(id=353, features=[2.8707852363586426, 3.1957507133483887, 1.5616668462753296, 3.3495912551879883, 3.1768174171447754, 4.774564743041992, 2.3115222454071045, 0.8327445983886719]),\n",
       " Row(id=354, features=[1.4584975242614746, 0.6837419271469116, 0.0, 1.3014748096466064, 0.767175555229187, 1.144400715827942, 0.7632264494895935, 0.0]),\n",
       " Row(id=355, features=[1.3986567258834839, 0.7891561388969421, 0.0, 1.3679828643798828, 0.6921204924583435, 1.0106152296066284, 0.8104642629623413, 0.0]),\n",
       " Row(id=356, features=[1.455165147781372, 0.6823551654815674, 0.0, 1.2986465692520142, 0.76537024974823, 1.1416593790054321, 0.761584460735321, 0.0]),\n",
       " Row(id=357, features=[1.4075653553009033, 0.5733293294906616, 0.004282074980437756, 1.3201020956039429, 0.7914156317710876, 1.2892216444015503, 0.7133536338806152, 0.025837238878011703]),\n",
       " Row(id=358, features=[1.403144121170044, 0.7908921837806702, 0.0, 1.3624082803726196, 0.6982346177101135, 1.0049550533294678, 0.8115401268005371, 0.0]),\n",
       " Row(id=359, features=[1.452946662902832, 0.6854695677757263, 0.0, 1.3001105785369873, 0.7629602551460266, 1.1369218826293945, 0.762835681438446, 0.0]),\n",
       " Row(id=360, features=[1.4507678747177124, 0.6891138553619385, 0.0, 1.30203378200531, 0.760418176651001, 1.1318466663360596, 0.7644044756889343, 0.0]),\n",
       " Row(id=361, features=[1.403144121170044, 0.7908921837806702, 0.0, 1.3624082803726196, 0.6982346177101135, 1.0049550533294678, 0.8115401268005371, 0.0]),\n",
       " Row(id=362, features=[1.383729100227356, 0.5224953889846802, 0.006244559306651354, 1.3281983137130737, 0.8022650480270386, 1.3552058935165405, 0.690238356590271, 0.03767850250005722]),\n",
       " Row(id=363, features=[2.8650803565979004, 1.4147318601608276, 0.0, 2.648193359375, 1.4729610681533813, 2.2292580604553223, 1.544529914855957, 0.0]),\n",
       " Row(id=364, features=[2.91579008102417, 1.3622287511825562, 0.0, 2.5979864597320557, 1.5351208448410034, 2.2912395000457764, 1.5230990648269653, 0.0]),\n",
       " Row(id=365, features=[1.4467569589614868, 0.6965752840042114, 0.0, 1.3061981201171875, 0.7555132508277893, 1.1219607591629028, 0.7677295804023743, 0.0]),\n",
       " Row(id=366, features=[1.3049403429031372, 0.643599808216095, 0.0, 1.2093294858932495, 0.6871466636657715, 1.1784623861312866, 1.1948317289352417, 0.03087025135755539]),\n",
       " Row(id=367, features=[1.4584975242614746, 0.6837419271469116, 0.0, 1.3014748096466064, 0.767175555229187, 1.144400715827942, 0.7632264494895935, 0.0]),\n",
       " Row(id=368, features=[1.452946662902832, 0.6854695677757263, 0.0, 1.3001105785369873, 0.7629602551460266, 1.1369218826293945, 0.762835681438446, 0.0]),\n",
       " Row(id=369, features=[1.403144121170044, 0.7908921837806702, 0.0, 1.3624082803726196, 0.6982346177101135, 1.0049550533294678, 0.8115401268005371, 0.0]),\n",
       " Row(id=370, features=[1.4467569589614868, 0.6965752840042114, 0.0, 1.3061981201171875, 0.7555132508277893, 1.1219607591629028, 0.7677295804023743, 0.0]),\n",
       " Row(id=371, features=[1.452946662902832, 0.6854695677757263, 0.0, 1.3001105785369873, 0.7629602551460266, 1.1369218826293945, 0.762835681438446, 0.0]),\n",
       " Row(id=372, features=[1.4516286849975586, 0.687626302242279, 0.0, 1.3012343645095825, 0.7614368200302124, 1.1338862180709839, 0.7637569308280945, 0.0]),\n",
       " Row(id=373, features=[3.905813455581665, 2.0706675052642822, 0.0, 3.74745774269104, 2.004117965698242, 3.3755712509155273, 3.487797498703003, 0.0815177634358406]),\n",
       " Row(id=374, features=[1.4011402130126953, 0.5645399689674377, 0.004663372877985239, 1.321672797203064, 0.7920029759407043, 1.2992433309555054, 0.7090433835983276, 0.028137918561697006]),\n",
       " Row(id=375, features=[7.100979328155518, 3.742718458175659, 0.0, 6.69108247756958, 3.6101579666137695, 5.2991743087768555, 3.9561142921447754, 0.0]),\n",
       " Row(id=376, features=[1.403144121170044, 0.7908921837806702, 0.0, 1.3624082803726196, 0.6982346177101135, 1.0049550533294678, 0.8115401268005371, 0.0]),\n",
       " Row(id=377, features=[2.8243460655212402, 1.166890025138855, 0.00774161983281374, 2.6355297565460205, 1.5780889987945557, 2.550692558288574, 1.435577154159546, 0.04671148583292961]),\n",
       " Row(id=378, features=[1.4584975242614746, 0.6837419271469116, 0.0, 1.3014748096466064, 0.767175555229187, 1.144400715827942, 0.7632264494895935, 0.0]),\n",
       " Row(id=379, features=[4.243003845214844, 2.2779693603515625, 0.0, 4.041528224945068, 2.1391637325286865, 3.137068271636963, 2.3898766040802, 0.0]),\n",
       " Row(id=380, features=[1.4091988801956177, 0.5839524269104004, 0.003880672622472048, 1.3177859783172607, 0.7866602540016174, 1.2727231979370117, 0.7174883484840393, 0.023415252566337585]),\n",
       " Row(id=381, features=[1.403144121170044, 0.7908921837806702, 0.0, 1.3624082803726196, 0.6982346177101135, 1.0049550533294678, 0.8115401268005371, 0.0]),\n",
       " Row(id=382, features=[1.4315729141235352, 0.7281047105789185, 0.0, 1.3246841430664062, 0.7359626293182373, 1.0821677446365356, 0.7822232842445374, 0.0]),\n",
       " Row(id=383, features=[1.402620792388916, 0.5626632571220398, 0.004695163574069738, 1.321871280670166, 0.7937375903129578, 1.3031679391860962, 0.7085261344909668, 0.02832973748445511]),\n",
       " Row(id=384, features=[1.40883469581604, 0.5788528919219971, 0.004065398126840591, 1.3184481859207153, 0.789336621761322, 1.280470848083496, 0.7155120968818665, 0.024529851973056793]),\n",
       " Row(id=385, features=[1.403144121170044, 0.7908921837806702, 0.0, 1.3624082803726196, 0.6982346177101135, 1.0049550533294678, 0.8115401268005371, 0.0]),\n",
       " Row(id=386, features=[1.4584975242614746, 0.6837419271469116, 0.0, 1.3014748096466064, 0.767175555229187, 1.144400715827942, 0.7632264494895935, 0.0]),\n",
       " Row(id=387, features=[1.2632938623428345, 0.6677570939064026, 0.01564093492925167, 1.268683910369873, 0.5825190544128418, 1.1702548265457153, 1.2063649892807007, 0.0524754524230957]),\n",
       " Row(id=388, features=[5.659544467926025, 3.0588161945343018, 0.0, 5.386462688446045, 2.8555750846862793, 4.148120880126953, 3.1971333026885986, 0.0]),\n",
       " Row(id=389, features=[1.4075653553009033, 0.5733293294906616, 0.004282074980437756, 1.3201020956039429, 0.7914156317710876, 1.2892216444015503, 0.7133536338806152, 0.025837238878011703]),\n",
       " Row(id=390, features=[1.4584975242614746, 0.6837419271469116, 0.0, 1.3014748096466064, 0.767175555229187, 1.144400715827942, 0.7632264494895935, 0.0]),\n",
       " Row(id=391, features=[2.9151570796966553, 1.3616994619369507, 0.0, 2.597228765487671, 1.5348573923110962, 2.290910482406616, 1.5226328372955322, 0.0]),\n",
       " Row(id=392, features=[2.9144504070281982, 1.3615729808807373, 0.0, 2.5967681407928467, 1.5344244241714478, 2.290208339691162, 1.5223820209503174, 0.0]),\n",
       " Row(id=393, features=[2.8935139179229736, 1.3931505680084229, 0.0, 2.612396240234375, 1.5110265016555786, 2.2439215183258057, 1.5354591608047485, 0.0]),\n",
       " Row(id=394, features=[1.3751392364501953, 0.506644606590271, 0.001816574833355844, 1.3073798418045044, 0.851405143737793, 1.35045325756073, 0.6870182752609253, 0.03159697726368904]),\n",
       " Row(id=395, features=[1.4507678747177124, 0.6891138553619385, 0.0, 1.30203378200531, 0.760418176651001, 1.1318466663360596, 0.7644044756889343, 0.0]),\n",
       " Row(id=396, features=[2.8211276531219482, 1.5012938976287842, 0.004177876282483339, 2.7160980701446533, 1.3593584299087524, 2.1415441036224365, 1.5773181915283203, 0.019545726478099823]),\n",
       " Row(id=397, features=[2.8591206073760986, 1.2474567890167236, 0.004574974533170462, 2.6193995475769043, 1.55856192111969, 2.4411327838897705, 1.4711029529571533, 0.027604538947343826]),\n",
       " Row(id=398, features=[1.402620792388916, 0.5626632571220398, 0.004695163574069738, 1.321871280670166, 0.7937375903129578, 1.3031679391860962, 0.7085261344909668, 0.02832973748445511]),\n",
       " Row(id=399, features=[1.403144121170044, 0.7908921837806702, 0.0, 1.3624082803726196, 0.6982346177101135, 1.0049550533294678, 0.8115401268005371, 0.0]),\n",
       " Row(id=400, features=[2.8441994190216064, 1.2152007818222046, 0.005854833871126175, 2.625736713409424, 1.5657851696014404, 2.4842193126678467, 1.456705093383789, 0.035326968878507614]),\n",
       " Row(id=401, features=[1.3805367946624756, 0.7820615172386169, 0.0, 1.389435052871704, 0.6678451895713806, 1.0325255393981934, 0.8059580326080322, 0.0]),\n",
       " Row(id=402, features=[1.3887569904327393, 0.5330102443695068, 0.005840884055942297, 1.3266444206237793, 0.8000990748405457, 1.3417311906814575, 0.6950584650039673, 0.035242799669504166]),\n",
       " Row(id=403, features=[1.3965486288070679, 0.5496103763580322, 0.005200203973799944, 1.3240101337432861, 0.7965623140335083, 1.320197582244873, 0.7026099562644958, 0.03137705847620964]),\n",
       " Row(id=404, features=[1.403144121170044, 0.7908921837806702, 0.0, 1.3624082803726196, 0.6982346177101135, 1.0049550533294678, 0.8115401268005371, 0.0]),\n",
       " Row(id=405, features=[1.403144121170044, 0.7908921837806702, 0.0, 1.3624082803726196, 0.6982346177101135, 1.0049550533294678, 0.8115401268005371, 0.0]),\n",
       " Row(id=406, features=[1.3949010372161865, 0.7980082035064697, 0.0, 1.3632889986038208, 0.6961084604263306, 1.011170744895935, 0.8114019632339478, 0.0]),\n",
       " Row(id=407, features=[1.4572252035140991, 0.6807864904403687, 0.0, 1.2983840703964233, 0.7672122120857239, 1.145104169845581, 0.7611910104751587, 0.0]),\n",
       " Row(id=408, features=[4.375492572784424, 2.0512259006500244, 0.0, 3.9044241905212402, 2.3015267848968506, 3.4332022666931152, 2.2896792888641357, 0.0]),\n",
       " Row(id=409, features=[1.444237470626831, 0.6967204809188843, 0.0, 1.3098962306976318, 0.7518868446350098, 1.1239641904830933, 0.7677346467971802, 0.0]),\n",
       " Row(id=410, features=[1.455165147781372, 0.6823551654815674, 0.0, 1.2986465692520142, 0.76537024974823, 1.1416593790054321, 0.761584460735321, 0.0]),\n",
       " Row(id=411, features=[2.9159481525421143, 1.3624566793441772, 0.0, 2.598255157470703, 1.5351579189300537, 2.291252613067627, 1.523271083831787, 0.0]),\n",
       " Row(id=412, features=[1.4562373161315918, 0.6812680959701538, 0.0, 1.2982856035232544, 0.7664099335670471, 1.14364755153656, 0.7612225413322449, 0.0]),\n",
       " Row(id=413, features=[4.239497184753418, 1.7562267780303955, 0.011405727826058865, 3.953123092651367, 2.3661413192749023, 3.819225788116455, 2.1562297344207764, 0.0688200294971466]),\n",
       " Row(id=414, features=[2.8551645278930664, 1.2330094575881958, 0.005124402232468128, 2.622856378555298, 1.563474416732788, 2.462812662124634, 1.46518874168396, 0.03091968409717083]),\n",
       " Row(id=415, features=[1.436781883239746, 0.7113712430000305, 0.0, 1.3129147291183472, 0.7477611303329468, 1.1125397682189941, 0.7724859714508057, 0.0]),\n",
       " Row(id=416, features=[1.4584975242614746, 0.6837419271469116, 0.0, 1.3014748096466064, 0.767175555229187, 1.144400715827942, 0.7632264494895935, 0.0]),\n",
       " Row(id=417, features=[2.8372278213500977, 1.1992862224578857, 0.0, 2.597162961959839, 1.6365708112716675, 2.4721202850341797, 1.4559996128082275, 0.025251375511288643]),\n",
       " Row(id=418, features=[1.3844051361083984, 0.806922972202301, 0.0, 1.36430025100708, 0.6933767199516296, 1.0189348459243774, 0.8111685514450073, 0.0]),\n",
       " Row(id=419, features=[1.4376369714736938, 0.7151657938957214, 0.0, 1.3170137405395508, 0.7438744306564331, 1.0983102321624756, 0.776233434677124, 0.0]),\n",
       " Row(id=420, features=[4.2533111572265625, 2.1011033058166504, 0.0029284977354109287, 3.9993598461151123, 2.21364164352417, 3.366393804550171, 2.3089823722839355, 0.017670007422566414]),\n",
       " Row(id=421, features=[1.8155468702316284, 2.540318250656128, 1.249887466430664, 2.146472454071045, 2.0514047145843506, 3.0467638969421387, 1.6427613496780396, 0.625816285610199]),\n",
       " Row(id=422, features=[2.914729595184326, 1.361579418182373, 0.0, 2.596914052963257, 1.5346083641052246, 2.2905170917510986, 1.5224558115005493, 0.0]),\n",
       " Row(id=423, features=[1.4039809703826904, 0.5697279572486877, 0.004444231744855642, 1.3204541206359863, 0.7910569310188293, 1.2924286127090454, 0.71138596534729, 0.026815662160515785]),\n",
       " Row(id=424, features=[1.4296629428863525, 0.7299485802650452, 0.0, 1.3271626234054565, 0.7333870530128479, 1.0806407928466797, 0.7830325961112976, 0.0]),\n",
       " Row(id=425, features=[1.4577946662902832, 0.6810010075569153, 0.0, 1.2988487482070923, 0.7675274610519409, 1.1455888748168945, 0.7614585757255554, 0.0]),\n",
       " Row(id=426, features=[1.403144121170044, 0.7908921837806702, 0.0, 1.3624082803726196, 0.6982346177101135, 1.0049550533294678, 0.8115401268005371, 0.0]),\n",
       " Row(id=427, features=[4.226733207702637, 1.7287076711654663, 0.012508388608694077, 3.958853244781494, 2.3723442554473877, 3.8562541007995605, 2.144005537033081, 0.07547327876091003]),\n",
       " Row(id=428, features=[1.4584975242614746, 0.6837419271469116, 0.0, 1.3014748096466064, 0.767175555229187, 1.144400715827942, 0.7632264494895935, 0.0]),\n",
       " Row(id=429, features=[1.3965486288070679, 0.5496103763580322, 0.005200203973799944, 1.3240101337432861, 0.7965623140335083, 1.320197582244873, 0.7026099562644958, 0.03137705847620964]),\n",
       " Row(id=430, features=[2.8188695907592773, 1.5254957675933838, 0.0, 2.7069010734558105, 1.4128912687301636, 2.0874619483947754, 1.5961154699325562, 0.0]),\n",
       " Row(id=431, features=[2.4541780948638916, 1.332586646080017, 0.035664740949869156, 2.478269338607788, 1.1774373054504395, 2.278759717941284, 2.4643285274505615, 0.10061778873205185]),\n",
       " Row(id=432, features=[1.4417054653167725, 0.7066944241523743, 0.0, 1.3120412826538086, 0.7491198778152466, 1.1089893579483032, 0.772336483001709, 0.0]),\n",
       " Row(id=433, features=[1.4313578605651855, 0.6248448491096497, 0.0022848467342555523, 1.311447024345398, 0.780129075050354, 1.2217038869857788, 0.7366344332695007, 0.01378633826971054]),\n",
       " Row(id=434, features=[1.403144121170044, 0.7908921837806702, 0.0, 1.3624082803726196, 0.6982346177101135, 1.0049550533294678, 0.8115401268005371, 0.0]),\n",
       " Row(id=435, features=[1.454280972480774, 0.6834936141967773, 0.0, 1.2991448640823364, 0.7644405364990234, 1.139845609664917, 0.7620234489440918, 0.0]),\n",
       " Row(id=436, features=[1.3882157802581787, 0.7850856184959412, 0.0, 1.3805631399154663, 0.6780470013618469, 1.0234360694885254, 0.8079012036323547, 0.0]),\n",
       " Row(id=437, features=[1.455165147781372, 0.6823551654815674, 0.0, 1.2986465692520142, 0.76537024974823, 1.1416593790054321, 0.761584460735321, 0.0]),\n",
       " Row(id=438, features=[2.910330295562744, 1.3647103309631348, 0.0, 2.5972931385040283, 1.53074049949646, 2.2833187580108643, 1.523168921470642, 0.0]),\n",
       " Row(id=439, features=[5.674984455108643, 2.3927416801452637, 0.008697200566530228, 5.241511344909668, 3.1850380897521973, 5.002575397491455, 2.9017221927642822, 0.07111150771379471]),\n",
       " Row(id=440, features=[1.4417054653167725, 0.7066944241523743, 0.0, 1.3120412826538086, 0.7491198778152466, 1.1089893579483032, 0.772336483001709, 0.0]),\n",
       " Row(id=441, features=[1.403144121170044, 0.7908921837806702, 0.0, 1.3624082803726196, 0.6982346177101135, 1.0049550533294678, 0.8115401268005371, 0.0]),\n",
       " Row(id=442, features=[2.916995048522949, 1.3674838542938232, 0.0, 2.602949619293213, 1.534351110458374, 2.288801431655884, 1.526452898979187, 0.0]),\n",
       " Row(id=443, features=[1.403144121170044, 0.7908921837806702, 0.0, 1.3624082803726196, 0.6982346177101135, 1.0049550533294678, 0.8115401268005371, 0.0]),\n",
       " Row(id=444, features=[1.4584975242614746, 0.6837419271469116, 0.0, 1.3014748096466064, 0.767175555229187, 1.144400715827942, 0.7632264494895935, 0.0]),\n",
       " Row(id=445, features=[1.4584975242614746, 0.6837419271469116, 0.0, 1.3014748096466064, 0.767175555229187, 1.144400715827942, 0.7632264494895935, 0.0]),\n",
       " Row(id=446, features=[1.4239444732666016, 0.7080633640289307, 0.0035886529367417097, 1.3370252847671509, 0.6959277391433716, 1.1222631931304932, 0.7673149108886719, 0.006752931512892246]),\n",
       " Row(id=447, features=[4.358839988708496, 2.056408643722534, 0.0, 3.900331735610962, 2.2888808250427246, 3.4107656478881836, 2.2885069847106934, 0.0]),\n",
       " Row(id=448, features=[4.253654956817627, 2.123303174972534, 0.004099697340279818, 4.002357482910156, 2.2027392387390137, 3.3353793621063232, 2.318286657333374, 0.019643642008304596]),\n",
       " Row(id=449, features=[1.378373622894287, 0.5430446267127991, 0.005932280793786049, 1.3351529836654663, 0.789723813533783, 1.328015685081482, 0.6991421580314636, 0.035794273018836975]),\n",
       " Row(id=450, features=[1.7022470235824585, 2.2232539653778076, 1.161921501159668, 2.0550785064697266, 2.095193386077881, 3.266209125518799, 2.0078508853912354, 0.6355697512626648]),\n",
       " Row(id=451, features=[2.885258436203003, 1.4096089601516724, 0.0, 2.621880054473877, 1.5006016492843628, 2.2227797508239746, 1.5429421663284302, 0.0]),\n",
       " Row(id=452, features=[2.8023147583007812, 1.5802490711212158, 0.0, 2.729776382446289, 1.3910460472106934, 2.0149431228637695, 1.6221312284469604, 0.0]),\n",
       " Row(id=453, features=[4.284891605377197, 1.8603310585021973, 0.007265831809490919, 3.9309864044189453, 2.3409340381622314, 3.6768007278442383, 2.201946496963501, 0.043840669095516205]),\n",
       " Row(id=454, features=[2.819059133529663, 1.2991703748703003, 0.005084657110273838, 2.6582491397857666, 1.519389033317566, 2.373411178588867, 1.4942858219146729, 0.030679870396852493]),\n",
       " Row(id=455, features=[1.454280972480774, 0.6834936141967773, 0.0, 1.2991448640823364, 0.7644405364990234, 1.139845609664917, 0.7620234489440918, 0.0]),\n",
       " Row(id=456, features=[4.208518981933594, 2.280724048614502, 0.0, 4.084374904632568, 2.0926008224487305, 3.155371904373169, 2.3894317150115967, 0.0]),\n",
       " Row(id=457, features=[1.3933969736099243, 0.5483587384223938, 0.0002657476579770446, 1.2995145320892334, 0.8406209945678711, 1.2943981885910034, 0.7053893208503723, 0.02186996303498745]),\n",
       " Row(id=458, features=[1.4326058626174927, 0.7141205668449402, 0.0, 1.3237054347991943, 0.736869752407074, 1.1036949157714844, 0.7755155563354492, 0.0]),\n",
       " Row(id=459, features=[1.403144121170044, 0.7908921837806702, 0.0, 1.3624082803726196, 0.6982346177101135, 1.0049550533294678, 0.8115401268005371, 0.0]),\n",
       " Row(id=460, features=[5.795375823974609, 2.6558279991149902, 0.0, 5.196563243865967, 3.1143553256988525, 4.657216548919678, 3.0181732177734375, 0.010791059583425522]),\n",
       " Row(id=461, features=[1.403144121170044, 0.7908921837806702, 0.0, 1.3624082803726196, 0.6982346177101135, 1.0049550533294678, 0.8115401268005371, 0.0]),\n",
       " Row(id=462, features=[4.144464015960693, 1.7269774675369263, 0.042235299944877625, 3.983751058578491, 2.175111770629883, 3.836575746536255, 2.1154286861419678, 0.11348657310009003]),\n",
       " Row(id=463, features=[1.4584975242614746, 0.6837419271469116, 0.0, 1.3014748096466064, 0.767175555229187, 1.144400715827942, 0.7632264494895935, 0.0]),\n",
       " Row(id=464, features=[5.667753219604492, 2.916590452194214, 0.0024815918877720833, 5.3782243728637695, 2.785827159881592, 4.403330326080322, 3.11454439163208, 0.04356798157095909]),\n",
       " Row(id=465, features=[4.1364970207214355, 2.344161033630371, 0.0, 4.174091339111328, 1.9967896938323975, 3.103520393371582, 2.4165616035461426, 0.0]),\n",
       " Row(id=466, features=[2.8923118114471436, 1.3932178020477295, 0.0, 2.6141629219055176, 1.5092954635620117, 2.244882822036743, 1.5354608297348022, 0.0]),\n",
       " Row(id=467, features=[2.8924617767333984, 1.3873509168624878, 0.0, 2.6153621673583984, 1.508798599243164, 2.2553813457489014, 1.5327755212783813, 0.0]),\n",
       " Row(id=468, features=[4.332127094268799, 1.9664068222045898, 0.0030953609384596348, 3.9104413986206055, 2.3161838054656982, 3.534146308898926, 2.249077320098877, 0.01867682859301567]),\n",
       " Row(id=469, features=[1.420041799545288, 0.7437829971313477, 0.0, 1.3311001062393188, 0.728486180305481, 1.0762741565704346, 0.7864701747894287, 0.0]),\n",
       " Row(id=470, features=[1.457480788230896, 0.6808130145072937, 0.0, 1.2985347509384155, 0.767374575138092, 1.1453720331192017, 0.7612705826759338, 0.0]),\n",
       " Row(id=471, features=[1.441943645477295, 0.6966695785522461, 0.0, 1.3131664991378784, 0.7486183643341064, 1.1259760856628418, 0.7676392793655396, 0.0]),\n",
       " Row(id=472, features=[1.3855353593826294, 0.5262450575828552, 0.006100915838032961, 1.3276606798171997, 0.8015033602714539, 1.3504245281219482, 0.6919625401496887, 0.03681178390979767]),\n",
       " Row(id=473, features=[0.8313210606575012, 1.0919783115386963, 0.5872913002967834, 1.0270942449569702, 1.045481562614441, 1.6639403104782104, 0.9944368600845337, 0.3266694247722626]),\n",
       " Row(id=474, features=[1.4584975242614746, 0.6837419271469116, 0.0, 1.3014748096466064, 0.767175555229187, 1.144400715827942, 0.7632264494895935, 0.0]),\n",
       " Row(id=475, features=[1.403144121170044, 0.7908921837806702, 0.0, 1.3624082803726196, 0.6982346177101135, 1.0049550533294678, 0.8115401268005371, 0.0]),\n",
       " Row(id=476, features=[1.4584975242614746, 0.6837419271469116, 0.0, 1.3014748096466064, 0.767175555229187, 1.144400715827942, 0.7632264494895935, 0.0]),\n",
       " Row(id=477, features=[2.912055253982544, 1.3628935813903809, 0.0, 2.596656322479248, 1.5324333906173706, 2.2865662574768066, 1.5225472450256348, 0.0]),\n",
       " Row(id=478, features=[2.78015398979187, 1.571628451347351, 0.0, 2.756716728210449, 1.3610820770263672, 2.0423686504364014, 1.6167278289794922, 0.0]),\n",
       " Row(id=479, features=[1.452946662902832, 0.6854695677757263, 0.0, 1.3001105785369873, 0.7629602551460266, 1.1369218826293945, 0.762835681438446, 0.0]),\n",
       " Row(id=480, features=[1.3727178573608398, 0.7789580225944519, 0.0, 1.398166298866272, 0.6575754880905151, 1.0415103435516357, 0.8039330840110779, 0.0]),\n",
       " Row(id=481, features=[1.4559051990509033, 0.6828224658966064, 0.0, 1.2995399236679077, 0.7656712532043457, 1.1422890424728394, 0.762056827545166, 0.0]),\n",
       " Row(id=482, features=[1.4167275428771973, 0.7528586387634277, 0.0, 1.3439788818359375, 0.7162076234817505, 1.0540130138397217, 0.7935822010040283, 0.0]),\n",
       " Row(id=483, features=[1.4467569589614868, 0.6965752840042114, 0.0, 1.3061981201171875, 0.7555132508277893, 1.1219607591629028, 0.7677295804023743, 0.0]),\n",
       " Row(id=484, features=[1.4584975242614746, 0.6837419271469116, 0.0, 1.3014748096466064, 0.767175555229187, 1.144400715827942, 0.7632264494895935, 0.0]),\n",
       " Row(id=485, features=[1.4376369714736938, 0.7151657938957214, 0.0, 1.3170137405395508, 0.7438744306564331, 1.0983102321624756, 0.776233434677124, 0.0]),\n",
       " Row(id=486, features=[1.4584975242614746, 0.6837419271469116, 0.0, 1.3014748096466064, 0.767175555229187, 1.144400715827942, 0.7632264494895935, 0.0]),\n",
       " Row(id=487, features=[1.4568448066711426, 0.6808847784996033, 0.0, 1.2982739210128784, 0.7669293284416199, 1.144606113433838, 0.7611525058746338, 0.0]),\n",
       " Row(id=488, features=[0.9039639234542847, 1.1763924360275269, 0.5957239866256714, 1.0857900381088257, 1.0505475997924805, 1.5826795101165771, 0.7911520004272461, 0.30923181772232056]),\n",
       " Row(id=489, features=[4.375492572784424, 2.0512259006500244, 0.0, 3.9044241905212402, 2.3015267848968506, 3.4332022666931152, 2.2896792888641357, 0.0]),\n",
       " Row(id=490, features=[4.370025157928467, 2.042904853820801, 0.0, 3.894773006439209, 2.3003737926483154, 3.4330661296844482, 2.283475160598755, 0.0]),\n",
       " Row(id=491, features=[1.4007422924041748, 0.5586185455322266, 0.0048517328687012196, 1.3225377798080444, 0.7946153879165649, 1.30845046043396, 0.7066941261291504, 0.02927444875240326]),\n",
       " Row(id=492, features=[2.9124746322631836, 1.3625361919403076, 0.0, 2.596571207046509, 1.5328198671340942, 2.28729510307312, 1.5224450826644897, 0.0]),\n",
       " Row(id=493, features=[2.839547634124756, 1.507770299911499, 0.0, 2.680219888687134, 1.4407747983932495, 2.100645065307617, 1.5884580612182617, 0.0]),\n",
       " Row(id=494, features=[2.916995048522949, 1.3674838542938232, 0.0, 2.602949619293213, 1.534351110458374, 2.288801431655884, 1.526452898979187, 0.0]),\n",
       " Row(id=495, features=[4.209432601928711, 2.3726766109466553, 0.0, 4.08722448348999, 2.0947039127349854, 3.014864921569824, 2.4346203804016113, 0.0]),\n",
       " Row(id=496, features=[1.7563633918762207, 2.4378883838653564, 1.25812566280365, 2.161236524581909, 2.0491573810577393, 3.1790897846221924, 1.5903815031051636, 0.6541561484336853]),\n",
       " Row(id=497, features=[2.765115737915039, 1.0401724576950073, 0.012673203833401203, 2.6570608615875244, 1.6054917573928833, 2.716517686843872, 1.3782527446746826, 0.07646774500608444]),\n",
       " Row(id=498, features=[7.291214942932129, 3.4093780517578125, 0.0, 6.498997688293457, 3.837822198867798, 5.727306365966797, 3.810394525527954, 0.0]),\n",
       " Row(id=499, features=[1.424136996269226, 0.7442854642868042, 0.0, 1.3343507051467896, 0.726166844367981, 1.0621464252471924, 0.7897509336471558, 0.0]),\n",
       " Row(id=500, features=[1.455165147781372, 0.6823551654815674, 0.0, 1.2986465692520142, 0.76537024974823, 1.1416593790054321, 0.761584460735321, 0.0]),\n",
       " Row(id=501, features=[1.4376369714736938, 0.7151657938957214, 0.0, 1.3170137405395508, 0.7438744306564331, 1.0983102321624756, 0.776233434677124, 0.0]),\n",
       " Row(id=502, features=[1.4075653553009033, 0.5733293294906616, 0.004282074980437756, 1.3201020956039429, 0.7914156317710876, 1.2892216444015503, 0.7133536338806152, 0.025837238878011703]),\n",
       " Row(id=503, features=[2.7983100414276123, 1.553636908531189, 0.006804225966334343, 2.7499845027923584, 1.3257319927215576, 2.0762643814086914, 1.6010586023330688, 0.012803821824491024]),\n",
       " Row(id=504, features=[1.455165147781372, 0.6823551654815674, 0.0, 1.2986465692520142, 0.76537024974823, 1.1416593790054321, 0.761584460735321, 0.0]),\n",
       " Row(id=505, features=[2.8310303688049316, 1.191149115562439, 0.006858178414404392, 2.6310126781463623, 1.5700877904891968, 2.515479564666748, 1.4457683563232422, 0.04138096421957016]),\n",
       " Row(id=506, features=[1.4584975242614746, 0.6837419271469116, 0.0, 1.3014748096466064, 0.767175555229187, 1.144400715827942, 0.7632264494895935, 0.0]),\n",
       " Row(id=507, features=[1.4279242753982544, 0.62364262342453, 0.0023295124992728233, 1.3104175329208374, 0.7783533334732056, 1.2202775478363037, 0.7353881001472473, 0.014055842533707619]),\n",
       " Row(id=508, features=[2.916995048522949, 1.3674838542938232, 0.0, 2.602949619293213, 1.534351110458374, 2.288801431655884, 1.526452898979187, 0.0]),\n",
       " Row(id=509, features=[1.3651752471923828, 0.5615542531013489, 0.004944677464663982, 1.3690836429595947, 0.7616085410118103, 1.2710744142532349, 0.7107882499694824, 0.029835257679224014]),\n",
       " Row(id=510, features=[1.3546956777572632, 0.8179513812065125, 0.0, 1.378654956817627, 0.673699140548706, 1.0454590320587158, 0.8077916502952576, 0.0]),\n",
       " Row(id=511, features=[4.187283992767334, 1.6588997840881348, 0.015325883403420448, 3.970386266708374, 2.3835222721099854, 3.9427382946014404, 2.1113390922546387, 0.09247350692749023]),\n",
       " Row(id=512, features=[1.4315729141235352, 0.7281047105789185, 0.0, 1.3246841430664062, 0.7359626293182373, 1.0821677446365356, 0.7822232842445374, 0.0]),\n",
       " Row(id=513, features=[1.4584975242614746, 0.6837419271469116, 0.0, 1.3014748096466064, 0.767175555229187, 1.144400715827942, 0.7632264494895935, 0.0]),\n",
       " Row(id=514, features=[4.288334369659424, 1.8646329641342163, 0.007073006127029657, 3.930171012878418, 2.340808629989624, 3.672053098678589, 2.204092025756836, 0.04267719388008118]),\n",
       " Row(id=515, features=[1.3985595703125, 0.5865212678909302, 0.004184108227491379, 1.326856255531311, 0.7795324921607971, 1.2703213691711426, 0.7185288667678833, 0.02524612657725811]),\n",
       " Row(id=516, features=[5.795319557189941, 2.647139549255371, 0.003211947390809655, 5.215484619140625, 3.0880722999572754, 4.689321041107178, 3.0124714374542236, 0.01938028819859028]),\n",
       " Row(id=517, features=[1.4584975242614746, 0.6837419271469116, 0.0, 1.3014748096466064, 0.767175555229187, 1.144400715827942, 0.7632264494895935, 0.0]),\n",
       " Row(id=518, features=[1.4227092266082764, 0.7255058884620667, 0.0, 1.3360143899917603, 0.7237824201583862, 1.092373013496399, 0.7805380821228027, 0.0]),\n",
       " Row(id=519, features=[1.3937965631484985, 0.7537310719490051, 0.0, 1.3673814535140991, 0.6870359778404236, 1.0732340812683105, 0.7920862436294556, 0.0]),\n",
       " Row(id=520, features=[1.454280972480774, 0.6834936141967773, 0.0, 1.2991448640823364, 0.7644405364990234, 1.139845609664917, 0.7620234489440918, 0.0]),\n",
       " Row(id=521, features=[1.4167674779891968, 0.59799724817276, 0.0033331927843391895, 1.3150912523269653, 0.7845953106880188, 1.2546449899673462, 0.7239986062049866, 0.02011186257004738]),\n",
       " Row(id=522, features=[1.403144121170044, 0.7908921837806702, 0.0, 1.3624082803726196, 0.6982346177101135, 1.0049550533294678, 0.8115401268005371, 0.0]),\n",
       " Row(id=523, features=[0.9430006742477417, 1.1855511665344238, 0.5710093975067139, 1.0870654582977295, 1.0612932443618774, 1.5325324535369873, 0.8069915175437927, 0.28824111819267273]),\n",
       " Row(id=524, features=[2.910330295562744, 1.3647103309631348, 0.0, 2.5972931385040283, 1.53074049949646, 2.2833187580108643, 1.523168921470642, 0.0]),\n",
       " Row(id=525, features=[1.452946662902832, 0.6854695677757263, 0.0, 1.3001105785369873, 0.7629602551460266, 1.1369218826293945, 0.762835681438446, 0.0]),\n",
       " Row(id=526, features=[1.3752230405807495, 0.7736954689025879, 0.0, 1.3962502479553223, 0.654692530632019, 1.0480036735534668, 0.8035085201263428, 0.0]),\n",
       " Row(id=527, features=[7.222479820251465, 3.2668590545654297, 0.002692294307053089, 6.519065856933594, 3.899027109146118, 5.90640926361084, 3.750394821166992, 0.029408276081085205]),\n",
       " Row(id=528, features=[1.4584975242614746, 0.6837419271469116, 0.0, 1.3014748096466064, 0.767175555229187, 1.144400715827942, 0.7632264494895935, 0.0]),\n",
       " Row(id=529, features=[2.7996320724487305, 1.1145308017730713, 0.009797106496989727, 2.644869089126587, 1.5893559455871582, 2.6194489002227783, 1.411942720413208, 0.05911390855908394]),\n",
       " Row(id=530, features=[2.7775139808654785, 1.0660204887390137, 0.011681768111884594, 2.6532888412475586, 1.6001981496810913, 2.683462381362915, 1.3901169300079346, 0.07048559933900833]),\n",
       " Row(id=531, features=[2.7999672889709473, 1.5793405771255493, 0.0, 2.732689142227173, 1.3878487348556519, 2.0179011821746826, 1.6215678453445435, 0.0]),\n",
       " Row(id=532, features=[1.4584975242614746, 0.6837419271469116, 0.0, 1.3014748096466064, 0.767175555229187, 1.144400715827942, 0.7632264494895935, 0.0]),\n",
       " Row(id=533, features=[1.4584975242614746, 0.6837419271469116, 0.0, 1.3014748096466064, 0.767175555229187, 1.144400715827942, 0.7632264494895935, 0.0]),\n",
       " Row(id=534, features=[1.4140881299972534, 0.7486569881439209, 0.0, 1.3397367000579834, 0.7195126414299011, 1.0714590549468994, 0.7889022827148438, 0.0]),\n",
       " Row(id=535, features=[1.399751901626587, 0.5564883947372437, 0.004934166092425585, 1.322887659072876, 0.795076847076416, 1.3112306594848633, 0.7057288885116577, 0.0297718346118927]),\n",
       " Row(id=536, features=[1.4568448066711426, 0.6808847784996033, 0.0, 1.2982739210128784, 0.7669293284416199, 1.144606113433838, 0.7611525058746338, 0.0]),\n",
       " Row(id=537, features=[1.376644253730774, 0.5083032846450806, 0.006782479118555784, 1.329925537109375, 0.8049489259719849, 1.3728597164154053, 0.6836139559745789, 0.04092421010136604]),\n",
       " Row(id=538, features=[1.4376369714736938, 0.7151657938957214, 0.0, 1.3170137405395508, 0.7438744306564331, 1.0983102321624756, 0.776233434677124, 0.0]),\n",
       " Row(id=539, features=[1.4075653553009033, 0.5733293294906616, 0.004282074980437756, 1.3201020956039429, 0.7914156317710876, 1.2892216444015503, 0.7133536338806152, 0.025837238878011703]),\n",
       " Row(id=540, features=[4.145047187805176, 1.655005693435669, 0.03330761939287186, 3.9832379817962646, 2.426210880279541, 3.926802396774292, 2.1269712448120117, 0.10585920512676239]),\n",
       " Row(id=541, features=[1.4313578605651855, 0.6248448491096497, 0.0022848467342555523, 1.311447024345398, 0.780129075050354, 1.2217038869857788, 0.7366344332695007, 0.01378633826971054]),\n",
       " Row(id=542, features=[1.4584975242614746, 0.6837419271469116, 0.0, 1.3014748096466064, 0.767175555229187, 1.144400715827942, 0.7632264494895935, 0.0]),\n",
       " Row(id=543, features=[1.4584975242614746, 0.6837419271469116, 0.0, 1.3014748096466064, 0.767175555229187, 1.144400715827942, 0.7632264494895935, 0.0]),\n",
       " Row(id=544, features=[1.3965486288070679, 0.5496103763580322, 0.005200203973799944, 1.3240101337432861, 0.7965623140335083, 1.320197582244873, 0.7026099562644958, 0.03137705847620964]),\n",
       " Row(id=545, features=[1.4075653553009033, 0.5733293294906616, 0.004282074980437756, 1.3201020956039429, 0.7914156317710876, 1.2892216444015503, 0.7133536338806152, 0.025837238878011703]),\n",
       " Row(id=546, features=[5.5688934326171875, 2.160604953765869, 0.022185254842042923, 5.2990827560424805, 3.1944799423217773, 5.327417373657227, 2.792774200439453, 0.13386167585849762]),\n",
       " Row(id=547, features=[1.423197627067566, 0.7157224416732788, 0.00011069283937104046, 1.336264729499817, 0.7423489689826965, 1.078054428100586, 0.7772085666656494, 0.0]),\n",
       " Row(id=548, features=[1.4417054653167725, 0.7066944241523743, 0.0, 1.3120412826538086, 0.7491198778152466, 1.1089893579483032, 0.772336483001709, 0.0]),\n",
       " Row(id=549, features=[2.8267617225646973, 1.5360944271087646, 0.0, 2.6972572803497314, 1.423781156539917, 2.06585693359375, 1.6016929149627686, 0.0]),\n",
       " Row(id=550, features=[1.4315729141235352, 0.7281047105789185, 0.0, 1.3246841430664062, 0.7359626293182373, 1.0821677446365356, 0.7822232842445374, 0.0]),\n",
       " Row(id=551, features=[1.4544028043746948, 0.6839519143104553, 0.0, 1.3005449771881104, 0.7640078663825989, 1.1406283378601074, 0.7624296545982361, 0.0]),\n",
       " Row(id=552, features=[1.4326058626174927, 0.7141205668449402, 0.0, 1.3237054347991943, 0.736869752407074, 1.1036949157714844, 0.7755155563354492, 0.0]),\n",
       " Row(id=553, features=[2.909165859222412, 1.367139458656311, 0.0, 2.6001808643341064, 1.5286638736724854, 2.281747341156006, 1.5244537591934204, 0.0]),\n",
       " Row(id=554, features=[2.7626919746398926, 1.1410771608352661, 0.029372790828347206, 2.6533830165863037, 1.617583155632019, 2.558583974838257, 1.4407380819320679, 0.06808629631996155]),\n",
       " Row(id=555, features=[1.3949010372161865, 0.7980082035064697, 0.0, 1.3632889986038208, 0.6961084604263306, 1.011170744895935, 0.8114019632339478, 0.0]),\n",
       " Row(id=556, features=[1.4507678747177124, 0.6891138553619385, 0.0, 1.30203378200531, 0.760418176651001, 1.1318466663360596, 0.7644044756889343, 0.0]),\n",
       " Row(id=557, features=[2.8100528717041016, 1.5428037643432617, 0.0, 2.718559980392456, 1.4011492729187012, 2.0668630599975586, 1.6041511297225952, 0.0]),\n",
       " Row(id=558, features=[1.452946662902832, 0.6854695677757263, 0.0, 1.3001105785369873, 0.7629602551460266, 1.1369218826293945, 0.762835681438446, 0.0]),\n",
       " Row(id=559, features=[1.4525624513626099, 0.6855419874191284, 0.0, 1.2993345260620117, 0.7641505002975464, 1.135749340057373, 0.7629287838935852, 0.0]),\n",
       " Row(id=560, features=[1.4584975242614746, 0.6837419271469116, 0.0, 1.3014748096466064, 0.767175555229187, 1.144400715827942, 0.7632264494895935, 0.0]),\n",
       " Row(id=561, features=[1.4294447898864746, 0.621544361114502, 0.002357668709009886, 1.3100570440292358, 0.7802695631980896, 1.22401762008667, 0.7346973419189453, 0.01422573160380125]),\n",
       " Row(id=562, features=[2.9144504070281982, 1.3615729808807373, 0.0, 2.5967681407928467, 1.5344244241714478, 2.290208339691162, 1.5223820209503174, 0.0]),\n",
       " Row(id=563, features=[1.403144121170044, 0.7908921837806702, 0.0, 1.3624082803726196, 0.6982346177101135, 1.0049550533294678, 0.8115401268005371, 0.0]),\n",
       " Row(id=564, features=[2.897394895553589, 1.3857524394989014, 0.0, 2.6082189083099365, 1.5158259868621826, 2.2536158561706543, 1.5321381092071533, 0.0]),\n",
       " Row(id=565, features=[1.3727178573608398, 0.7789580225944519, 0.0, 1.398166298866272, 0.6575754880905151, 1.0415103435516357, 0.8039330840110779, 0.0]),\n",
       " Row(id=566, features=[1.403144121170044, 0.7908921837806702, 0.0, 1.3624082803726196, 0.6982346177101135, 1.0049550533294678, 0.8115401268005371, 0.0]),\n",
       " Row(id=567, features=[4.217291831970215, 1.7100281715393066, 0.013192291371524334, 3.960303544998169, 2.375657558441162, 3.8786704540252686, 2.1351051330566406, 0.07959982007741928]),\n",
       " Row(id=568, features=[2.7869837284088135, 1.5931614637374878, 0.0, 2.7316551208496094, 1.3868292570114136, 2.0265893936157227, 1.621809959411621, 0.0]),\n",
       " Row(id=569, features=[1.4216387271881104, 0.6227231621742249, 0.002558753825724125, 1.3146083354949951, 0.7754527926445007, 1.2212985754013062, 0.7348195910453796, 0.015439041890203953]),\n",
       " Row(id=570, features=[2.846208333969116, 1.2139049768447876, 0.005957503337413073, 2.6289305686950684, 1.5681140422821045, 2.4903435707092285, 1.457105040550232, 0.03594646230340004]),\n",
       " Row(id=571, features=[1.3979443311691284, 0.5588530898094177, 0.004907355643808842, 1.3230868577957153, 0.7930075526237488, 1.3067290782928467, 0.7064787745475769, 0.02961006574332714]),\n",
       " Row(id=572, features=[1.4467569589614868, 0.6965752840042114, 0.0, 1.3061981201171875, 0.7555132508277893, 1.1219607591629028, 0.7677295804023743, 0.0]),\n",
       " Row(id=573, features=[1.455165147781372, 0.6823551654815674, 0.0, 1.2986465692520142, 0.76537024974823, 1.1416593790054321, 0.761584460735321, 0.0]),\n",
       " Row(id=574, features=[1.3898879289627075, 0.5438737869262695, 0.005497804377228022, 1.3259737491607666, 0.7953382730484009, 1.3260083198547363, 0.699557363986969, 0.03317272290587425]),\n",
       " Row(id=575, features=[1.417595624923706, 0.7500300407409668, 0.0, 1.3351224660873413, 0.7245015501976013, 1.0672003030776978, 0.7896775007247925, 0.0]),\n",
       " Row(id=576, features=[1.455165147781372, 0.6823551654815674, 0.0, 1.2986465692520142, 0.76537024974823, 1.1416593790054321, 0.761584460735321, 0.0]),\n",
       " Row(id=577, features=[2.7992160320281982, 1.2707322835922241, 0.00634590070694685, 2.671203851699829, 1.519518494606018, 2.4143295288085938, 1.4814958572387695, 0.038289979100227356]),\n",
       " Row(id=578, features=[1.403144121170044, 0.7908921837806702, 0.0, 1.3624082803726196, 0.6982346177101135, 1.0049550533294678, 0.8115401268005371, 0.0]),\n",
       " Row(id=579, features=[1.403144121170044, 0.7908921837806702, 0.0, 1.3624082803726196, 0.6982346177101135, 1.0049550533294678, 0.8115401268005371, 0.0]),\n",
       " Row(id=580, features=[2.569528341293335, 3.3369572162628174, 1.7445685863494873, 3.07489013671875, 3.152488946914673, 4.893868923187256, 2.99137806892395, 0.9491233229637146]),\n",
       " Row(id=581, features=[2.8017423152923584, 1.1169902086257935, 0.009648961015045643, 2.642610788345337, 1.589416265487671, 2.6151371002197266, 1.412890076637268, 0.058220021426677704]),\n",
       " Row(id=582, features=[5.793438911437988, 2.646934986114502, 0.003415455110371113, 5.220821857452393, 3.0880749225616455, 4.693171977996826, 3.013164520263672, 0.020608216524124146]),\n",
       " Row(id=583, features=[1.4538995027542114, 0.6840316653251648, 0.0, 1.29939866065979, 0.7640253901481628, 1.1390291452407837, 0.7622400522232056, 0.0]),\n",
       " Row(id=584, features=[1.406088948249817, 0.7518872618675232, 0.01075079757720232, 1.376001238822937, 0.610335111618042, 1.0840563774108887, 0.7794250845909119, 0.020230265334248543]),\n",
       " Row(id=585, features=[1.4584975242614746, 0.6837419271469116, 0.0, 1.3014748096466064, 0.767175555229187, 1.144400715827942, 0.7632264494895935, 0.0]),\n",
       " Row(id=586, features=[1.4584975242614746, 0.6837419271469116, 0.0, 1.3014748096466064, 0.767175555229187, 1.144400715827942, 0.7632264494895935, 0.0]),\n",
       " Row(id=587, features=[1.4467569589614868, 0.6965752840042114, 0.0, 1.3061981201171875, 0.7555132508277893, 1.1219607591629028, 0.7677295804023743, 0.0]),\n",
       " Row(id=588, features=[1.403144121170044, 0.7908921837806702, 0.0, 1.3624082803726196, 0.6982346177101135, 1.0049550533294678, 0.8115401268005371, 0.0]),\n",
       " Row(id=589, features=[1.4584975242614746, 0.6837419271469116, 0.0, 1.3014748096466064, 0.767175555229187, 1.144400715827942, 0.7632264494895935, 0.0]),\n",
       " Row(id=590, features=[1.4584975242614746, 0.6837419271469116, 0.0, 1.3014748096466064, 0.767175555229187, 1.144400715827942, 0.7632264494895935, 0.0]),\n",
       " Row(id=591, features=[1.4132392406463623, 0.7537260055541992, 0.0, 1.3483966588974, 0.7114803194999695, 1.0550280809402466, 0.7938328385353088, 0.0]),\n",
       " Row(id=592, features=[1.403144121170044, 0.7908921837806702, 0.0, 1.3624082803726196, 0.6982346177101135, 1.0049550533294678, 0.8115401268005371, 0.0]),\n",
       " Row(id=593, features=[1.3759253025054932, 0.5991725921630859, 0.0047017429023981094, 1.343383550643921, 0.7671263217926025, 1.2675552368164062, 0.7220161557197571, 0.028369436040520668]),\n",
       " Row(id=594, features=[2.7940943241119385, 1.103760838508606, 0.01022636890411377, 2.646766185760498, 1.5914088487625122, 2.6332664489746094, 1.4070080518722534, 0.06170399487018585]),\n",
       " Row(id=595, features=[1.376644253730774, 0.5083032846450806, 0.006782479118555784, 1.329925537109375, 0.8049489259719849, 1.3728597164154053, 0.6836139559745789, 0.04092421010136604]),\n",
       " Row(id=596, features=[1.4467569589614868, 0.6965752840042114, 0.0, 1.3061981201171875, 0.7555132508277893, 1.1219607591629028, 0.7677295804023743, 0.0]),\n",
       " Row(id=597, features=[1.4315729141235352, 0.7281047105789185, 0.0, 1.3246841430664062, 0.7359626293182373, 1.0821677446365356, 0.7822232842445374, 0.0]),\n",
       " Row(id=598, features=[2.7805697917938232, 1.095798373222351, 0.011910688132047653, 2.637171506881714, 1.635421633720398, 2.623634099960327, 1.4110867977142334, 0.06049523875117302]),\n",
       " Row(id=599, features=[4.223126411437988, 2.325974702835083, 0.0, 4.063713550567627, 2.1169159412384033, 3.0822904109954834, 2.4109225273132324, 0.0]),\n",
       " Row(id=600, features=[1.3844051361083984, 0.806922972202301, 0.0, 1.36430025100708, 0.6933767199516296, 1.0189348459243774, 0.8111685514450073, 0.0]),\n",
       " Row(id=601, features=[2.905893325805664, 1.3709391355514526, 0.0, 2.6002211570739746, 1.5259205102920532, 2.273843765258789, 1.525671362876892, 0.0]),\n",
       " Row(id=602, features=[1.4582784175872803, 0.6820105314254761, 0.0, 1.2999292612075806, 0.7675476670265198, 1.1454037427902222, 0.7621661424636841, 0.0]),\n",
       " Row(id=603, features=[1.4584975242614746, 0.6837419271469116, 0.0, 1.3014748096466064, 0.767175555229187, 1.144400715827942, 0.7632264494895935, 0.0]),\n",
       " Row(id=604, features=[1.4584975242614746, 0.6837419271469116, 0.0, 1.3014748096466064, 0.767175555229187, 1.144400715827942, 0.7632264494895935, 0.0]),\n",
       " Row(id=605, features=[1.4376369714736938, 0.7151657938957214, 0.0, 1.3170137405395508, 0.7438744306564331, 1.0983102321624756, 0.776233434677124, 0.0]),\n",
       " Row(id=606, features=[1.3965486288070679, 0.5496103763580322, 0.005200203973799944, 1.3240101337432861, 0.7965623140335083, 1.320197582244873, 0.7026099562644958, 0.03137705847620964]),\n",
       " Row(id=607, features=[1.4467569589614868, 0.6965752840042114, 0.0, 1.3061981201171875, 0.7555132508277893, 1.1219607591629028, 0.7677295804023743, 0.0]),\n",
       " Row(id=608, features=[1.403144121170044, 0.7908921837806702, 0.0, 1.3624082803726196, 0.6982346177101135, 1.0049550533294678, 0.8115401268005371, 0.0]),\n",
       " Row(id=609, features=[1.452946662902832, 0.6854695677757263, 0.0, 1.3001105785369873, 0.7629602551460266, 1.1369218826293945, 0.762835681438446, 0.0]),\n",
       " Row(id=610, features=[2.902545690536499, 1.3743960857391357, 0.0, 2.604522466659546, 1.5214293003082275, 2.2707715034484863, 1.5271943807601929, 0.0]),\n",
       " Row(id=611, features=[1.403144121170044, 0.7908921837806702, 0.0, 1.3624082803726196, 0.6982346177101135, 1.0049550533294678, 0.8115401268005371, 0.0]),\n",
       " Row(id=612, features=[1.4376369714736938, 0.7151657938957214, 0.0, 1.3170137405395508, 0.7438744306564331, 1.0983102321624756, 0.776233434677124, 0.0]),\n",
       " Row(id=613, features=[2.916995048522949, 1.3674838542938232, 0.0, 2.602949619293213, 1.534351110458374, 2.288801431655884, 1.526452898979187, 0.0]),\n",
       " Row(id=614, features=[4.200432777404785, 2.335111141204834, 0.0, 4.097319602966309, 2.080390691757202, 3.0781068801879883, 2.416294574737549, 0.0]),\n",
       " Row(id=615, features=[1.4376369714736938, 0.7151657938957214, 0.0, 1.3170137405395508, 0.7438744306564331, 1.0983102321624756, 0.776233434677124, 0.0]),\n",
       " Row(id=616, features=[2.910330295562744, 1.3647103309631348, 0.0, 2.5972931385040283, 1.53074049949646, 2.2833187580108643, 1.523168921470642, 0.0]),\n",
       " Row(id=617, features=[1.409035325050354, 0.7451499700546265, 0.0, 1.3532451391220093, 0.7057154774665833, 1.0708304643630981, 0.7894048690795898, 0.0]),\n",
       " Row(id=618, features=[2.872462511062622, 1.4362746477127075, 0.0, 2.6375374794006348, 1.4840974807739258, 2.1891767978668213, 1.5552115440368652, 0.0]),\n",
       " Row(id=619, features=[1.4584975242614746, 0.6837419271469116, 0.0, 1.3014748096466064, 0.767175555229187, 1.144400715827942, 0.7632264494895935, 0.0]),\n",
       " Row(id=620, features=[1.4217032194137573, 0.7496323585510254, 0.0, 1.3375567197799683, 0.7229454517364502, 1.0555567741394043, 0.7922442555427551, 0.0]),\n",
       " Row(id=621, features=[1.4376369714736938, 0.7151657938957214, 0.0, 1.3170137405395508, 0.7438744306564331, 1.0983102321624756, 0.776233434677124, 0.0]),\n",
       " Row(id=622, features=[1.4584975242614746, 0.6837419271469116, 0.0, 1.3014748096466064, 0.767175555229187, 1.144400715827942, 0.7632264494895935, 0.0]),\n",
       " Row(id=623, features=[2.8274896144866943, 1.255507230758667, 0.001860580756329, 2.6271262168884277, 1.5701038837432861, 2.4134154319763184, 1.476851224899292, 0.025747328996658325]),\n",
       " Row(id=624, features=[1.4584975242614746, 0.6837419271469116, 0.0, 1.3014748096466064, 0.767175555229187, 1.144400715827942, 0.7632264494895935, 0.0]),\n",
       " Row(id=625, features=[1.4538995027542114, 0.6840316653251648, 0.0, 1.29939866065979, 0.7640253901481628, 1.1390291452407837, 0.7622400522232056, 0.0]),\n",
       " Row(id=626, features=[1.4485259056091309, 0.691307544708252, 0.0, 1.3049359321594238, 0.7573984861373901, 1.1300013065338135, 0.7653679251670837, 0.0]),\n",
       " Row(id=627, features=[1.455784559249878, 0.681676983833313, 0.0, 1.2983964681625366, 0.765985906124115, 1.1428442001342773, 0.7613462805747986, 0.0]),\n",
       " Row(id=628, features=[1.3825578689575195, 0.5200862288475037, 0.006336601916700602, 1.3285304307937622, 0.8027458786964417, 1.358258843421936, 0.6891263723373413, 0.03823387250304222]),\n",
       " Row(id=629, features=[1.4480358362197876, 0.6941216588020325, 0.0, 1.304808497428894, 0.7570995092391968, 1.125166654586792, 0.7666260600090027, 0.0]),\n",
       " Row(id=630, features=[1.4584975242614746, 0.6837419271469116, 0.0, 1.3014748096466064, 0.767175555229187, 1.144400715827942, 0.7632264494895935, 0.0]),\n",
       " Row(id=631, features=[1.4572252035140991, 0.6807864904403687, 0.0, 1.2983840703964233, 0.7672122120857239, 1.145104169845581, 0.7611910104751587, 0.0]),\n",
       " Row(id=632, features=[2.8789563179016113, 1.4183483123779297, 0.0016332134837284684, 2.6327006816864014, 1.4783635139465332, 2.216639518737793, 1.5448832511901855, 0.0030732923187315464]),\n",
       " Row(id=633, features=[1.452946662902832, 0.6854695677757263, 0.0, 1.3001105785369873, 0.7629602551460266, 1.1369218826293945, 0.762835681438446, 0.0]),\n",
       " Row(id=634, features=[1.4467569589614868, 0.6965752840042114, 0.0, 1.3061981201171875, 0.7555132508277893, 1.1219607591629028, 0.7677295804023743, 0.0]),\n",
       " Row(id=635, features=[1.4376369714736938, 0.7151657938957214, 0.0, 1.3170137405395508, 0.7438744306564331, 1.0983102321624756, 0.776233434677124, 0.0]),\n",
       " Row(id=636, features=[1.411689043045044, 0.5822405219078064, 0.003936780616641045, 1.3186149597167969, 0.7894697189331055, 1.2775568962097168, 0.7173839807510376, 0.023753797635436058]),\n",
       " Row(id=637, features=[1.3831068277359009, 0.5737888216972351, 0.005215341225266457, 1.3377605676651, 0.7804608345031738, 1.2880960702896118, 0.7133685946464539, 0.03146839141845703]),\n",
       " Row(id=639, features=[2.9124746322631836, 1.3625361919403076, 0.0, 2.596571207046509, 1.5328198671340942, 2.28729510307312, 1.5224450826644897, 0.0]),\n",
       " Row(id=640, features=[1.398776650428772, 0.5691372752189636, 0.004647574853152037, 1.3237918615341187, 0.7889599204063416, 1.2928218841552734, 0.7110194563865662, 0.028042595833539963]),\n",
       " Row(id=641, features=[1.4039809703826904, 0.5697279572486877, 0.004444231744855642, 1.3204541206359863, 0.7910569310188293, 1.2924286127090454, 0.71138596534729, 0.026815662160515785]),\n",
       " Row(id=642, features=[1.4284123182296753, 0.7235046029090881, 0.0, 1.3182953596115112, 0.7414805293083191, 1.105361819267273, 0.7762577533721924, 0.0]),\n",
       " Row(id=643, features=[1.3965486288070679, 0.5496103763580322, 0.005200203973799944, 1.3240101337432861, 0.7965623140335083, 1.320197582244873, 0.7026099562644958, 0.03137705847620964]),\n",
       " Row(id=644, features=[1.4568448066711426, 0.6808847784996033, 0.0, 1.2982739210128784, 0.7669293284416199, 1.144606113433838, 0.7611525058746338, 0.0]),\n",
       " Row(id=645, features=[4.233509063720703, 1.7441411018371582, 0.011852096766233444, 3.9542453289031982, 2.3683884143829346, 3.8339757919311523, 2.1505260467529297, 0.071513332426548]),\n",
       " Row(id=646, features=[4.218722820281982, 2.331986904144287, 0.0, 4.065587043762207, 2.1146020889282227, 3.0807225704193115, 2.412362575531006, 0.0]),\n",
       " Row(id=647, features=[5.819406032562256, 2.7311363220214844, 0.0, 5.1960673332214355, 3.0598604679107666, 4.564695358276367, 3.04709792137146, 0.0]),\n",
       " Row(id=648, features=[1.4584975242614746, 0.6837419271469116, 0.0, 1.3014748096466064, 0.767175555229187, 1.144400715827942, 0.7632264494895935, 0.0]),\n",
       " Row(id=649, features=[1.8107542991638184, 2.21179461479187, 1.0694129467010498, 2.061115264892578, 2.018598794937134, 3.115194320678711, 2.0788040161132812, 0.576259195804596]),\n",
       " Row(id=650, features=[4.166453838348389, 1.6228488683700562, 0.006060602143406868, 3.9370691776275635, 2.4930365085601807, 3.943998336791992, 2.1059012413024902, 0.08185382932424545]),\n",
       " Row(id=651, features=[2.836712598800659, 1.2906605005264282, 0.00433832174167037, 2.639295816421509, 1.5303632020950317, 2.3900539875030518, 1.4885083436965942, 0.02617662027478218]),\n",
       " Row(id=652, features=[2.7812581062316895, 1.1044986248016357, 0.010663683526217937, 2.6547811031341553, 1.585202932357788, 2.6308178901672363, 1.4069730043411255, 0.0643426701426506]),\n",
       " Row(id=653, features=[1.3870184421539307, 0.5315489768981934, 0.005882341880351305, 1.3259583711624146, 0.7995874285697937, 1.342105746269226, 0.6940449476242065, 0.035492949187755585]),\n",
       " Row(id=654, features=[1.4584975242614746, 0.6837419271469116, 0.0, 1.3014748096466064, 0.767175555229187, 1.144400715827942, 0.7632264494895935, 0.0]),\n",
       " Row(id=655, features=[1.4584975242614746, 0.6837419271469116, 0.0, 1.3014748096466064, 0.767175555229187, 1.144400715827942, 0.7632264494895935, 0.0]),\n",
       " Row(id=656, features=[1.403144121170044, 0.7908921837806702, 0.0, 1.3624082803726196, 0.6982346177101135, 1.0049550533294678, 0.8115401268005371, 0.0]),\n",
       " Row(id=657, features=[4.3697381019592285, 2.0430727005004883, 0.0, 3.8947672843933105, 2.3001322746276855, 3.4326226711273193, 2.2835004329681396, 0.0]),\n",
       " Row(id=658, features=[2.8014845848083496, 1.1172370910644531, 0.009703465737402439, 2.645075559616089, 1.5892307758331299, 2.61690092086792, 1.4133882522583008, 0.05854889750480652]),\n",
       " Row(id=659, features=[1.4273003339767456, 0.7373696565628052, 0.0, 1.3302116394042969, 0.7303438186645508, 1.070687174797058, 0.7865297794342041, 0.0]),\n",
       " Row(id=660, features=[4.369486331939697, 2.0437939167022705, 0.0, 3.89526104927063, 2.2997398376464844, 3.431842803955078, 2.2838587760925293, 0.0]),\n",
       " Row(id=661, features=[1.4467569589614868, 0.6965752840042114, 0.0, 1.3061981201171875, 0.7555132508277893, 1.1219607591629028, 0.7677295804023743, 0.0]),\n",
       " Row(id=662, features=[1.3851611614227295, 0.7838855385780334, 0.0, 1.3841285705566406, 0.6739746332168579, 1.027084231376648, 0.8071337938308716, 0.0]),\n",
       " Row(id=663, features=[1.3986567258834839, 0.7891561388969421, 0.0, 1.3679828643798828, 0.6921204924583435, 1.0106152296066284, 0.8104642629623413, 0.0]),\n",
       " Row(id=664, features=[5.757474422454834, 2.569512367248535, 0.00611472874879837, 5.224135875701904, 3.1031248569488525, 4.785772323608398, 2.9762158393859863, 0.03689512982964516]),\n",
       " Row(id=665, features=[1.3929013013839722, 0.7869177460670471, 0.0, 1.3749855756759644, 0.6843361258506775, 1.0177433490753174, 0.8090618252754211, 0.0]),\n",
       " Row(id=666, features=[1.3969087600708008, 0.7884777784347534, 0.0, 1.3701276779174805, 0.6897492408752441, 1.01279616355896, 0.810041069984436, 0.0]),\n",
       " Row(id=667, features=[2.850269079208374, 1.2227051258087158, 0.005616244859993458, 2.6274476051330566, 1.5661832094192505, 2.4788033962249756, 1.461080551147461, 0.03388737142086029]),\n",
       " Row(id=668, features=[1.4584975242614746, 0.6837419271469116, 0.0, 1.3014748096466064, 0.767175555229187, 1.144400715827942, 0.7632264494895935, 0.0]),\n",
       " Row(id=669, features=[1.4417054653167725, 0.7066944241523743, 0.0, 1.3120412826538086, 0.7491198778152466, 1.1089893579483032, 0.772336483001709, 0.0]),\n",
       " Row(id=670, features=[1.4584975242614746, 0.6837419271469116, 0.0, 1.3014748096466064, 0.767175555229187, 1.144400715827942, 0.7632264494895935, 0.0]),\n",
       " Row(id=671, features=[1.4467569589614868, 0.6965752840042114, 0.0, 1.3061981201171875, 0.7555132508277893, 1.1219607591629028, 0.7677295804023743, 0.0]),\n",
       " Row(id=672, features=[1.4204332828521729, 0.7431077361106873, 0.0, 1.3390840291976929, 0.7210752367973328, 1.0665534734725952, 0.789002001285553, 0.0]),\n",
       " Row(id=673, features=[2.873828887939453, 1.421390414237976, 0.0, 2.6364657878875732, 1.4853053092956543, 2.21222186088562, 1.548120379447937, 0.0]),\n",
       " Row(id=674, features=[4.313019752502441, 1.9237340688705444, 0.0047751301899552345, 3.9187183380126953, 2.326082229614258, 3.5914745330810547, 2.2301039695739746, 0.028812240809202194]),\n",
       " Row(id=675, features=[4.348708152770996, 2.0737924575805664, 0.0, 3.909637451171875, 2.2769291400909424, 3.386849880218506, 2.2960562705993652, 0.0]),\n",
       " Row(id=676, features=[1.4075653553009033, 0.5733293294906616, 0.004282074980437756, 1.3201020956039429, 0.7914156317710876, 1.2892216444015503, 0.7133536338806152, 0.025837238878011703]),\n",
       " Row(id=677, features=[0.900691032409668, 1.1014163494110107, 0.5725435018539429, 1.0907511711120605, 1.0821841955184937, 1.6344174146652222, 0.7660477161407471, 0.30502793192863464]),\n",
       " Row(id=678, features=[1.444237470626831, 0.6967204809188843, 0.0, 1.3098962306976318, 0.7518868446350098, 1.1239641904830933, 0.7677346467971802, 0.0]),\n",
       " Row(id=679, features=[2.787045955657959, 1.141975998878479, 0.005671419203281403, 2.6420934200286865, 1.6070806980133057, 2.565887689590454, 1.4275301694869995, 0.050480619072914124]),\n",
       " Row(id=680, features=[1.4584975242614746, 0.6837419271469116, 0.0, 1.3014748096466064, 0.767175555229187, 1.144400715827942, 0.7632264494895935, 0.0]),\n",
       " Row(id=681, features=[2.8374929428100586, 1.195026159286499, 0.0066895210184156895, 2.6321074962615967, 1.5722534656524658, 2.515094041824341, 1.4485749006271362, 0.04036331921815872]),\n",
       " Row(id=682, features=[2.916995048522949, 1.3674838542938232, 0.0, 2.602949619293213, 1.534351110458374, 2.288801431655884, 1.526452898979187, 0.0]),\n",
       " Row(id=683, features=[1.4584975242614746, 0.6837419271469116, 0.0, 1.3014748096466064, 0.767175555229187, 1.144400715827942, 0.7632264494895935, 0.0]),\n",
       " Row(id=684, features=[1.4467569589614868, 0.6965752840042114, 0.0, 1.3061981201171875, 0.7555132508277893, 1.1219607591629028, 0.7677295804023743, 0.0]),\n",
       " Row(id=685, features=[2.520908832550049, 1.3166606426239014, 0.03967135399580002, 2.5373480319976807, 1.1210602521896362, 2.381488084793091, 2.4024698734283447, 0.11283455044031143]),\n",
       " Row(id=686, features=[1.4507678747177124, 0.6891138553619385, 0.0, 1.30203378200531, 0.760418176651001, 1.1318466663360596, 0.7644044756889343, 0.0]),\n",
       " Row(id=687, features=[1.403144121170044, 0.7908921837806702, 0.0, 1.3624082803726196, 0.6982346177101135, 1.0049550533294678, 0.8115401268005371, 0.0]),\n",
       " Row(id=688, features=[1.4417054653167725, 0.7066944241523743, 0.0, 1.3120412826538086, 0.7491198778152466, 1.1089893579483032, 0.772336483001709, 0.0]),\n",
       " Row(id=689, features=[4.227299213409424, 2.321544885635376, 0.0, 4.062753677368164, 2.11840558052063, 3.080888509750366, 2.4104363918304443, 0.0]),\n",
       " Row(id=690, features=[1.403144121170044, 0.7908921837806702, 0.0, 1.3624082803726196, 0.6982346177101135, 1.0049550533294678, 0.8115401268005371, 0.0]),\n",
       " Row(id=691, features=[2.8206934928894043, 1.1618791818618774, 0.00794144906103611, 2.635873794555664, 1.5783278942108154, 2.5559163093566895, 1.4330116510391235, 0.04791722074151039]),\n",
       " Row(id=692, features=[1.411689043045044, 0.5822405219078064, 0.003936780616641045, 1.3186149597167969, 0.7894697189331055, 1.2775568962097168, 0.7173839807510376, 0.023753797635436058]),\n",
       " Row(id=693, features=[1.444237470626831, 0.6967204809188843, 0.0, 1.3098962306976318, 0.7518868446350098, 1.1239641904830933, 0.7677346467971802, 0.0]),\n",
       " Row(id=694, features=[4.373813152313232, 2.043515920639038, 0.0, 3.8971874713897705, 2.3027145862579346, 3.436878204345703, 2.2847812175750732, 0.0]),\n",
       " Row(id=695, features=[2.912055253982544, 1.3628935813903809, 0.0, 2.596656322479248, 1.5324333906173706, 2.2865662574768066, 1.5225472450256348, 0.0]),\n",
       " Row(id=696, features=[1.4092308282852173, 0.5982458591461182, 0.0035523802507668734, 1.320225477218628, 0.7800895571708679, 1.2540727853775024, 0.7238362431526184, 0.021434396505355835]),\n",
       " Row(id=697, features=[4.279033660888672, 1.8541463613510132, 0.007580289151519537, 3.9329330921173096, 2.340707540512085, 3.683722496032715, 2.1988751888275146, 0.04573804512619972]),\n",
       " Row(id=698, features=[1.4584975242614746, 0.6837419271469116, 0.0, 1.3014748096466064, 0.767175555229187, 1.144400715827942, 0.7632264494895935, 0.0]),\n",
       " Row(id=699, features=[1.426127314567566, 0.6274603009223938, 0.0023110173642635345, 1.31181001663208, 0.7760152220726013, 1.2146921157836914, 0.7370047569274902, 0.013944245874881744]),\n",
       " Row(id=700, features=[1.403144121170044, 0.7908921837806702, 0.0, 1.3624082803726196, 0.6982346177101135, 1.0049550533294678, 0.8115401268005371, 0.0]),\n",
       " Row(id=701, features=[1.4342931509017944, 0.6311769485473633, 0.0019751922227442265, 1.3083536624908447, 0.7783723473548889, 1.2115834951400757, 0.7390938401222229, 0.01191793940961361]),\n",
       " Row(id=702, features=[1.403144121170044, 0.7908921837806702, 0.0, 1.3624082803726196, 0.6982346177101135, 1.0049550533294678, 0.8115401268005371, 0.0]),\n",
       " Row(id=703, features=[1.4444488286972046, 0.6532455682754517, 0.001183164305984974, 1.3066431283950806, 0.77388596534729, 1.1844346523284912, 0.749458909034729, 0.007138992194086313]),\n",
       " Row(id=704, features=[1.376644253730774, 0.5083032846450806, 0.006782479118555784, 1.329925537109375, 0.8049489259719849, 1.3728597164154053, 0.6836139559745789, 0.04092421010136604]),\n",
       " Row(id=705, features=[2.8338191509246826, 1.5204356908798218, 0.0, 2.6878325939178467, 1.4331685304641724, 2.0850765705108643, 1.594373345375061, 0.0]),\n",
       " Row(id=706, features=[0.8621594309806824, 1.1699638366699219, 0.6242502927780151, 1.0795477628707886, 1.0596786737442017, 1.6366342306137085, 0.7773721814155579, 0.3307075798511505]),\n",
       " Row(id=707, features=[2.817089080810547, 1.150888442993164, 0.008400272578001022, 2.6394994258880615, 1.5819083452224731, 2.5729081630706787, 1.4286208152770996, 0.05068567395210266]),\n",
       " Row(id=708, features=[1.4231754541397095, 0.7361277937889099, 0.0, 1.3355141878128052, 0.7246628403663635, 1.0755174160003662, 0.7857332229614258, 0.0]),\n",
       " Row(id=709, features=[1.4507678747177124, 0.6891138553619385, 0.0, 1.30203378200531, 0.760418176651001, 1.1318466663360596, 0.7644044756889343, 0.0]),\n",
       " Row(id=710, features=[2.9129505157470703, 1.3621830940246582, 0.0, 2.5965182781219482, 1.5332425832748413, 2.2880842685699463, 1.5223594903945923, 0.0]),\n",
       " Row(id=711, features=[1.3744378089904785, 0.8023924827575684, 0.0, 1.3767448663711548, 0.6794368624687195, 1.0313059091567993, 0.808587372303009, 0.0]),\n",
       " Row(id=712, features=[1.4584975242614746, 0.6837419271469116, 0.0, 1.3014748096466064, 0.767175555229187, 1.144400715827942, 0.7632264494895935, 0.0]),\n",
       " Row(id=713, features=[1.3943233489990234, 0.7874720692634583, 0.0, 1.3732714653015137, 0.6862531304359436, 1.0159964561462402, 0.8094107508659363, 0.0]),\n",
       " Row(id=714, features=[1.3882157802581787, 0.7850856184959412, 0.0, 1.3805631399154663, 0.6780470013618469, 1.0234360694885254, 0.8079012036323547, 0.0]),\n",
       " Row(id=715, features=[1.4562373161315918, 0.6812680959701538, 0.0, 1.2982856035232544, 0.7664099335670471, 1.14364755153656, 0.7612225413322449, 0.0]),\n",
       " Row(id=716, features=[2.9070489406585693, 1.3688644170761108, 0.0, 2.6007447242736816, 1.5266586542129517, 2.278330087661743, 1.5249465703964233, 0.0]),\n",
       " Row(id=717, features=[1.4584975242614746, 0.6837419271469116, 0.0, 1.3014748096466064, 0.767175555229187, 1.144400715827942, 0.7632264494895935, 0.0]),\n",
       " Row(id=718, features=[5.802071571350098, 2.758220911026001, 0.0, 5.209095001220703, 3.040478467941284, 4.524991035461426, 3.05839204788208, 0.0]),\n",
       " Row(id=719, features=[1.3805367946624756, 0.7820615172386169, 0.0, 1.389435052871704, 0.6678451895713806, 1.0325255393981934, 0.8059580326080322, 0.0]),\n",
       " Row(id=720, features=[1.452946662902832, 0.6854695677757263, 0.0, 1.3001105785369873, 0.7629602551460266, 1.1369218826293945, 0.762835681438446, 0.0]),\n",
       " Row(id=721, features=[2.806288242340088, 1.5817843675613403, 0.0, 2.7248165607452393, 1.396469235420227, 2.0099101066589355, 1.6230802536010742, 0.0]),\n",
       " Row(id=722, features=[2.9165568351745605, 1.3640210628509521, 0.0, 2.599858522415161, 1.5350953340530396, 2.2908074855804443, 1.5243322849273682, 0.0]),\n",
       " Row(id=723, features=[0.841144859790802, 1.1102277040481567, 0.5792350769042969, 1.0352684259414673, 1.0165239572525024, 1.6285611391067505, 1.009264349937439, 0.32084792852401733]),\n",
       " Row(id=724, features=[1.3965486288070679, 0.5496103763580322, 0.005200203973799944, 1.3240101337432861, 0.7965623140335083, 1.320197582244873, 0.7026099562644958, 0.03137705847620964]),\n",
       " Row(id=725, features=[1.452946662902832, 0.6854695677757263, 0.0, 1.3001105785369873, 0.7629602551460266, 1.1369218826293945, 0.762835681438446, 0.0]),\n",
       " Row(id=726, features=[1.4507678747177124, 0.6891138553619385, 0.0, 1.30203378200531, 0.760418176651001, 1.1318466663360596, 0.7644044756889343, 0.0]),\n",
       " Row(id=727, features=[1.4584975242614746, 0.6837419271469116, 0.0, 1.3014748096466064, 0.767175555229187, 1.144400715827942, 0.7632264494895935, 0.0]),\n",
       " Row(id=728, features=[1.4572252035140991, 0.6807864904403687, 0.0, 1.2983840703964233, 0.7672122120857239, 1.145104169845581, 0.7611910104751587, 0.0]),\n",
       " Row(id=729, features=[1.3965486288070679, 0.5496103763580322, 0.005200203973799944, 1.3240101337432861, 0.7965623140335083, 1.320197582244873, 0.7026099562644958, 0.03137705847620964]),\n",
       " Row(id=730, features=[1.4507678747177124, 0.6891138553619385, 0.0, 1.30203378200531, 0.760418176651001, 1.1318466663360596, 0.7644044756889343, 0.0]),\n",
       " Row(id=731, features=[1.4584975242614746, 0.6837419271469116, 0.0, 1.3014748096466064, 0.767175555229187, 1.144400715827942, 0.7632264494895935, 0.0]),\n",
       " Row(id=732, features=[1.3886353969573975, 0.7968590259552002, 0.0, 1.3697923421859741, 0.6887505054473877, 1.0184508562088013, 0.8101112842559814, 0.0]),\n",
       " Row(id=733, features=[1.403144121170044, 0.7908921837806702, 0.0, 1.3624082803726196, 0.6982346177101135, 1.0049550533294678, 0.8115401268005371, 0.0]),\n",
       " Row(id=734, features=[1.3727178573608398, 0.7789580225944519, 0.0, 1.398166298866272, 0.6575754880905151, 1.0415103435516357, 0.8039330840110779, 0.0]),\n",
       " Row(id=735, features=[1.3953959941864014, 0.7878896594047546, 0.0, 1.3719713687896729, 0.6877020001411438, 1.0146723985671997, 0.8096729516983032, 0.0]),\n",
       " Row(id=736, features=[2.916995048522949, 1.3674838542938232, 0.0, 2.602949619293213, 1.534351110458374, 2.288801431655884, 1.526452898979187, 0.0]),\n",
       " Row(id=737, features=[2.810422420501709, 1.1364963054656982, 0.00895779300481081, 2.6418933868408203, 1.5850458145141602, 2.591736078262329, 1.4221090078353882, 0.054049648344516754]),\n",
       " Row(id=738, features=[1.4584975242614746, 0.6837419271469116, 0.0, 1.3014748096466064, 0.767175555229187, 1.144400715827942, 0.7632264494895935, 0.0]),\n",
       " Row(id=739, features=[2.8265624046325684, 1.1806095838546753, 0.007272113114595413, 2.6331281661987305, 1.5727044343948364, 2.5298681259155273, 1.441136360168457, 0.04387856647372246]),\n",
       " Row(id=740, features=[1.4584975242614746, 0.6837419271469116, 0.0, 1.3014748096466064, 0.767175555229187, 1.144400715827942, 0.7632264494895935, 0.0]),\n",
       " Row(id=741, features=[4.292515277862549, 1.8780744075775146, 0.006576680578291416, 3.926762819290161, 2.3371312618255615, 3.6519627571105957, 2.209672212600708, 0.03968245908617973]),\n",
       " Row(id=742, features=[4.342907905578613, 2.0846476554870605, 0.0, 3.9157135486602783, 2.2698163986206055, 3.372506618499756, 2.3009023666381836, 0.0]),\n",
       " Row(id=743, features=[1.4584975242614746, 0.6837419271469116, 0.0, 1.3014748096466064, 0.767175555229187, 1.144400715827942, 0.7632264494895935, 0.0]),\n",
       " Row(id=744, features=[1.4507678747177124, 0.6891138553619385, 0.0, 1.30203378200531, 0.760418176651001, 1.1318466663360596, 0.7644044756889343, 0.0]),\n",
       " Row(id=745, features=[1.3579813241958618, 0.48780423402786255, 0.004192836582660675, 1.3081138134002686, 0.8315927982330322, 1.3685925006866455, 0.6735082864761353, 0.038352373987436295]),\n",
       " Row(id=746, features=[1.452946662902832, 0.6854695677757263, 0.0, 1.3001105785369873, 0.7629602551460266, 1.1369218826293945, 0.762835681438446, 0.0]),\n",
       " Row(id=747, features=[1.4204332828521729, 0.7431077361106873, 0.0, 1.3390840291976929, 0.7210752367973328, 1.0665534734725952, 0.789002001285553, 0.0]),\n",
       " Row(id=748, features=[2.806288242340088, 1.5817843675613403, 0.0, 2.7248165607452393, 1.396469235420227, 2.0099101066589355, 1.6230802536010742, 0.0]),\n",
       " Row(id=749, features=[1.452946662902832, 0.6854695677757263, 0.0, 1.3001105785369873, 0.7629602551460266, 1.1369218826293945, 0.762835681438446, 0.0]),\n",
       " Row(id=750, features=[1.4584975242614746, 0.6837419271469116, 0.0, 1.3014748096466064, 0.767175555229187, 1.144400715827942, 0.7632264494895935, 0.0]),\n",
       " Row(id=751, features=[2.8696935176849365, 1.425308346748352, 0.0, 2.637488842010498, 1.4824210405349731, 2.214501142501831, 1.5488238334655762, 0.0]),\n",
       " Row(id=752, features=[1.4467569589614868, 0.6965752840042114, 0.0, 1.3061981201171875, 0.7555132508277893, 1.1219607591629028, 0.7677295804023743, 0.0]),\n",
       " Row(id=753, features=[1.4584975242614746, 0.6837419271469116, 0.0, 1.3014748096466064, 0.767175555229187, 1.144400715827942, 0.7632264494895935, 0.0]),\n",
       " Row(id=754, features=[1.4584975242614746, 0.6837419271469116, 0.0, 1.3014748096466064, 0.767175555229187, 1.144400715827942, 0.7632264494895935, 0.0]),\n",
       " Row(id=755, features=[4.181204319000244, 1.6343119144439697, 0.01617584191262722, 3.9739863872528076, 2.3917839527130127, 3.978025436401367, 2.1009104251861572, 0.0976020023226738]),\n",
       " Row(id=756, features=[2.916995048522949, 1.3674838542938232, 0.0, 2.602949619293213, 1.534351110458374, 2.288801431655884, 1.526452898979187, 0.0]),\n",
       " Row(id=757, features=[1.4572252035140991, 0.6807864904403687, 0.0, 1.2983840703964233, 0.7672122120857239, 1.145104169845581, 0.7611910104751587, 0.0]),\n",
       " Row(id=758, features=[1.4208093881607056, 0.6019810438156128, 0.0031715244986116886, 1.3153022527694702, 0.7851473689079285, 1.2516900300979614, 0.7263063788414001, 0.01913638599216938]),\n",
       " Row(id=759, features=[1.4220997095108032, 0.6076003909111023, 0.0029274169355630875, 1.312868356704712, 0.7828925848007202, 1.2421096563339233, 0.7283525466918945, 0.017663484439253807]),\n",
       " Row(id=760, features=[4.2006611824035645, 2.337697744369507, 0.0, 4.096765518188477, 2.0824496746063232, 3.0739998817443848, 2.417012929916382, 0.0]),\n",
       " Row(id=761, features=[2.916995048522949, 1.3674838542938232, 0.0, 2.602949619293213, 1.534351110458374, 2.288801431655884, 1.526452898979187, 0.0]),\n",
       " Row(id=762, features=[4.363842010498047, 2.04913592338562, 0.0, 3.896822929382324, 2.294389486312866, 3.42162823677063, 2.2855403423309326, 0.0]),\n",
       " Row(id=763, features=[1.403144121170044, 0.7908921837806702, 0.0, 1.3624082803726196, 0.6982346177101135, 1.0049550533294678, 0.8115401268005371, 0.0]),\n",
       " Row(id=764, features=[4.3367180824279785, 2.0000007152557373, 0.0021051415242254734, 3.9091954231262207, 2.303377866744995, 3.486772298812866, 2.26348614692688, 0.012702029198408127]),\n",
       " Row(id=765, features=[1.4584975242614746, 0.6837419271469116, 0.0, 1.3014748096466064, 0.767175555229187, 1.144400715827942, 0.7632264494895935, 0.0]),\n",
       " Row(id=766, features=[1.444237470626831, 0.6967204809188843, 0.0, 1.3098962306976318, 0.7518868446350098, 1.1239641904830933, 0.7677346467971802, 0.0]),\n",
       " Row(id=767, features=[1.403144121170044, 0.7908921837806702, 0.0, 1.3624082803726196, 0.6982346177101135, 1.0049550533294678, 0.8115401268005371, 0.0]),\n",
       " Row(id=768, features=[1.403144121170044, 0.7908921837806702, 0.0, 1.3624082803726196, 0.6982346177101135, 1.0049550533294678, 0.8115401268005371, 0.0]),\n",
       " Row(id=769, features=[4.14199686050415, 1.7324872016906738, 0.05149329453706741, 3.994396924972534, 2.3975696563720703, 3.820054769515991, 2.1713342666625977, 0.10735908895730972]),\n",
       " Row(id=770, features=[1.4584975242614746, 0.6837419271469116, 0.0, 1.3014748096466064, 0.767175555229187, 1.144400715827942, 0.7632264494895935, 0.0]),\n",
       " Row(id=771, features=[1.4313578605651855, 0.6248448491096497, 0.0022848467342555523, 1.311447024345398, 0.780129075050354, 1.2217038869857788, 0.7366344332695007, 0.01378633826971054]),\n",
       " Row(id=772, features=[1.4376369714736938, 0.7151657938957214, 0.0, 1.3170137405395508, 0.7438744306564331, 1.0983102321624756, 0.776233434677124, 0.0]),\n",
       " Row(id=773, features=[2.9124746322631836, 1.3625361919403076, 0.0, 2.596571207046509, 1.5328198671340942, 2.28729510307312, 1.5224450826644897, 0.0]),\n",
       " Row(id=774, features=[1.419773817062378, 0.7538851499557495, 0.0, 1.340109944343567, 0.7203873991966248, 1.0503225326538086, 0.7942290306091309, 0.0]),\n",
       " Row(id=775, features=[1.4584975242614746, 0.6837419271469116, 0.0, 1.3014748096466064, 0.767175555229187, 1.144400715827942, 0.7632264494895935, 0.0]),\n",
       " Row(id=776, features=[2.8005340099334717, 1.5795599222183228, 0.0, 2.731987237930298, 1.3886202573776245, 2.01718807220459, 1.6217039823532104, 0.0]),\n",
       " Row(id=777, features=[4.369554042816162, 2.043189287185669, 0.0, 3.8947713375091553, 2.2999746799468994, 3.4323315620422363, 2.283521890640259, 0.0]),\n",
       " Row(id=778, features=[1.403144121170044, 0.7908921837806702, 0.0, 1.3624082803726196, 0.6982346177101135, 1.0049550533294678, 0.8115401268005371, 0.0]),\n",
       " Row(id=779, features=[1.4157344102859497, 0.7345958352088928, 0.00034986462560482323, 1.336091160774231, 0.7247475981712341, 1.0692474842071533, 0.7845533490180969, 0.0]),\n",
       " Row(id=780, features=[1.3965486288070679, 0.5496103763580322, 0.005200203973799944, 1.3240101337432861, 0.7965623140335083, 1.320197582244873, 0.7026099562644958, 0.03137705847620964]),\n",
       " Row(id=781, features=[2.916995048522949, 1.3674838542938232, 0.0, 2.602949619293213, 1.534351110458374, 2.288801431655884, 1.526452898979187, 0.0]),\n",
       " Row(id=782, features=[1.3579813241958618, 0.48780423402786255, 0.004192836582660675, 1.3081138134002686, 0.8315927982330322, 1.3685925006866455, 0.6735082864761353, 0.038352373987436295]),\n",
       " Row(id=783, features=[1.411689043045044, 0.5822405219078064, 0.003936780616641045, 1.3186149597167969, 0.7894697189331055, 1.2775568962097168, 0.7173839807510376, 0.023753797635436058]),\n",
       " Row(id=784, features=[2.901463270187378, 1.3757661581039429, 0.0, 2.604214906692505, 1.5216152667999268, 2.2676258087158203, 1.527790904045105, 0.0]),\n",
       " Row(id=785, features=[4.137735366821289, 1.5562808513641357, 0.01834355667233467, 3.969878911972046, 2.455491542816162, 4.055942058563232, 2.0723979473114014, 0.10994676500558853]),\n",
       " Row(id=786, features=[1.4568448066711426, 0.6808847784996033, 0.0, 1.2982739210128784, 0.7669293284416199, 1.144606113433838, 0.7611525058746338, 0.0]),\n",
       " Row(id=787, features=[1.4376369714736938, 0.7151657938957214, 0.0, 1.3170137405395508, 0.7438744306564331, 1.0983102321624756, 0.776233434677124, 0.0]),\n",
       " Row(id=788, features=[1.4285669326782227, 0.6187930703163147, 0.002519565401598811, 1.3124687671661377, 0.7814582586288452, 1.2296427488327026, 0.7339011430740356, 0.015202585607767105]),\n",
       " Row(id=789, features=[1.4467569589614868, 0.6965752840042114, 0.0, 1.3061981201171875, 0.7555132508277893, 1.1219607591629028, 0.7677295804023743, 0.0]),\n",
       " Row(id=790, features=[1.4584975242614746, 0.6837419271469116, 0.0, 1.3014748096466064, 0.767175555229187, 1.144400715827942, 0.7632264494895935, 0.0]),\n",
       " Row(id=791, features=[1.4326058626174927, 0.7141205668449402, 0.0, 1.3237054347991943, 0.736869752407074, 1.1036949157714844, 0.7755155563354492, 0.0]),\n",
       " Row(id=792, features=[1.409486174583435, 0.5856357216835022, 0.003875778056681156, 1.3183848857879639, 0.7866280674934387, 1.2708911895751953, 0.7184171676635742, 0.02338571846485138]),\n",
       " Row(id=793, features=[2.8338654041290283, 1.4838457107543945, 0.0, 2.686927318572998, 1.4325960874557495, 2.141470193862915, 1.576497197151184, 0.0]),\n",
       " Row(id=794, features=[1.4261938333511353, 0.6152735948562622, 0.0026113265193998814, 1.311266303062439, 0.78146892786026, 1.232139229774475, 0.7318409085273743, 0.015756255015730858]),\n",
       " Row(id=795, features=[1.4516286849975586, 0.687626302242279, 0.0, 1.3012343645095825, 0.7614368200302124, 1.1338862180709839, 0.7637569308280945, 0.0]),\n",
       " Row(id=796, features=[4.2472310066223145, 1.791352391242981, 0.010100091807544231, 3.945721387863159, 2.3527286052703857, 3.7662758827209473, 2.170440196990967, 0.060942064970731735]),\n",
       " Row(id=797, features=[1.452946662902832, 0.6854695677757263, 0.0, 1.3001105785369873, 0.7629602551460266, 1.1369218826293945, 0.762835681438446, 0.0]),\n",
       " Row(id=798, features=[1.455784559249878, 0.681676983833313, 0.0, 1.2983964681625366, 0.765985906124115, 1.1428442001342773, 0.7613462805747986, 0.0]),\n",
       " Row(id=799, features=[2.914729595184326, 1.361579418182373, 0.0, 2.596914052963257, 1.5346083641052246, 2.2905170917510986, 1.5224558115005493, 0.0]),\n",
       " Row(id=800, features=[1.3882157802581787, 0.7850856184959412, 0.0, 1.3805631399154663, 0.6780470013618469, 1.0234360694885254, 0.8079012036323547, 0.0]),\n",
       " Row(id=801, features=[1.4376369714736938, 0.7151657938957214, 0.0, 1.3170137405395508, 0.7438744306564331, 1.0983102321624756, 0.776233434677124, 0.0]),\n",
       " Row(id=802, features=[1.4584975242614746, 0.6837419271469116, 0.0, 1.3014748096466064, 0.767175555229187, 1.144400715827942, 0.7632264494895935, 0.0]),\n",
       " Row(id=803, features=[2.838153839111328, 1.196031928062439, 0.0025311533827334642, 2.614159107208252, 1.6105960607528687, 2.4949910640716553, 1.4527662992477417, 0.03224848583340645]),\n",
       " Row(id=804, features=[1.4219090938568115, 0.746257483959198, 0.0, 1.3346259593963623, 0.7255975008010864, 1.0638657808303833, 0.78973388671875, 0.0]),\n",
       " Row(id=805, features=[2.8281641006469727, 1.5329787731170654, 0.0, 2.695380926132202, 1.4256476163864136, 2.069678783416748, 1.6002360582351685, 0.0]),\n",
       " Row(id=806, features=[1.4217032194137573, 0.7496323585510254, 0.0, 1.3375567197799683, 0.7229454517364502, 1.0555567741394043, 0.7922442555427551, 0.0]),\n",
       " Row(id=807, features=[2.1005141735076904, 1.6114262342453003, 0.0, 3.325192451477051, 1.2965357303619385, 2.078510284423828, 1.7038905620574951, 0.0]),\n",
       " Row(id=808, features=[1.4167674779891968, 0.59799724817276, 0.0033331927843391895, 1.3150912523269653, 0.7845953106880188, 1.2546449899673462, 0.7239986062049866, 0.02011186257004738]),\n",
       " Row(id=809, features=[1.452946662902832, 0.6854695677757263, 0.0, 1.3001105785369873, 0.7629602551460266, 1.1369218826293945, 0.762835681438446, 0.0]),\n",
       " Row(id=810, features=[2.912947177886963, 1.3634793758392334, 0.0, 2.5933620929718018, 1.5425143241882324, 2.2826101779937744, 1.5240826606750488, 0.0]),\n",
       " Row(id=811, features=[1.390076994895935, 0.7858142256736755, 0.0, 1.3783583641052246, 0.6805410385131836, 1.0211843252182007, 0.8083639144897461, 0.0]),\n",
       " Row(id=812, features=[1.4209699630737305, 0.7138358950614929, 0.1020386591553688, 1.3289713859558105, 0.7500779032707214, 1.0864455699920654, 0.7905577421188354, 0.0]),\n",
       " Row(id=813, features=[1.4584975242614746, 0.6837419271469116, 0.0, 1.3014748096466064, 0.767175555229187, 1.144400715827942, 0.7632264494895935, 0.0]),\n",
       " Row(id=814, features=[1.4045933485031128, 0.7397792339324951, 0.0, 1.359390139579773, 0.6992548108100891, 1.0850673913955688, 0.782480776309967, 0.0012399576371535659]),\n",
       " Row(id=815, features=[5.643648624420166, 3.0075294971466064, 0.0, 5.397218704223633, 2.840405225753784, 4.2469801902771, 3.168668746948242, 0.0]),\n",
       " Row(id=816, features=[1.4584975242614746, 0.6837419271469116, 0.0, 1.3014748096466064, 0.767175555229187, 1.144400715827942, 0.7632264494895935, 0.0]),\n",
       " Row(id=817, features=[1.376644253730774, 0.5083032846450806, 0.006782479118555784, 1.329925537109375, 0.8049489259719849, 1.3728597164154053, 0.6836139559745789, 0.04092421010136604]),\n",
       " Row(id=818, features=[1.455165147781372, 0.6823551654815674, 0.0, 1.2986465692520142, 0.76537024974823, 1.1416593790054321, 0.761584460735321, 0.0]),\n",
       " Row(id=819, features=[1.4584975242614746, 0.6837419271469116, 0.0, 1.3014748096466064, 0.767175555229187, 1.144400715827942, 0.7632264494895935, 0.0]),\n",
       " Row(id=820, features=[1.4562373161315918, 0.6812680959701538, 0.0, 1.2982856035232544, 0.7664099335670471, 1.14364755153656, 0.7612225413322449, 0.0]),\n",
       " Row(id=821, features=[1.3661339282989502, 0.76932692527771, 0.0, 1.407419204711914, 0.6312191486358643, 1.0649137496948242, 0.7978477478027344, 0.009018795564770699]),\n",
       " Row(id=822, features=[1.3902250528335571, 0.5565862655639648, 0.00517939543351531, 1.327962875366211, 0.7893477082252502, 1.3095238208770752, 0.7051712274551392, 0.03125150501728058]),\n",
       " Row(id=823, features=[4.209432601928711, 2.3726766109466553, 0.0, 4.08722448348999, 2.0947039127349854, 3.014864921569824, 2.4346203804016113, 0.0]),\n",
       " Row(id=824, features=[1.4223291873931885, 0.615243136882782, 0.0027293460443615913, 1.3130371570587158, 0.7795959711074829, 1.2311943769454956, 0.7315976023674011, 0.016468362882733345]),\n",
       " Row(id=825, features=[1.3655056953430176, 0.7674527168273926, 0.1082848459482193, 1.400913119316101, 0.6734557151794434, 1.0268336534500122, 0.8165050745010376, 0.0]),\n",
       " Row(id=826, features=[1.4507678747177124, 0.6891138553619385, 0.0, 1.30203378200531, 0.760418176651001, 1.1318466663360596, 0.7644044756889343, 0.0]),\n",
       " Row(id=828, features=[3.7805657386779785, 2.0539162158966064, 0.0, 3.8109469413757324, 1.8433656692504883, 3.4473719596862793, 3.6156582832336426, 0.11035746335983276]),\n",
       " Row(id=829, features=[1.412753939628601, 0.7581155896186829, 0.0, 1.3426584005355835, 0.7169002294540405, 1.056471347808838, 0.7938031554222107, 0.0]),\n",
       " Row(id=830, features=[1.4584975242614746, 0.6837419271469116, 0.0, 1.3014748096466064, 0.767175555229187, 1.144400715827942, 0.7632264494895935, 0.0]),\n",
       " Row(id=831, features=[1.381111741065979, 0.5171422958374023, 0.006448730826377869, 1.3289178609848022, 0.8033214807510376, 1.3619627952575684, 0.6877615451812744, 0.038910433650016785]),\n",
       " Row(id=832, features=[2.829638719558716, 1.4778298139572144, 0.0, 2.6865813732147217, 1.4318660497665405, 2.160238027572632, 1.5715150833129883, 0.0]),\n",
       " Row(id=833, features=[1.4273003339767456, 0.7373696565628052, 0.0, 1.3302116394042969, 0.7303438186645508, 1.070687174797058, 0.7865297794342041, 0.0]),\n",
       " Row(id=834, features=[1.4584975242614746, 0.6837419271469116, 0.0, 1.3014748096466064, 0.767175555229187, 1.144400715827942, 0.7632264494895935, 0.0]),\n",
       " Row(id=835, features=[1.4584975242614746, 0.6837419271469116, 0.0, 1.3014748096466064, 0.767175555229187, 1.144400715827942, 0.7632264494895935, 0.0]),\n",
       " Row(id=836, features=[1.3887569904327393, 0.5330102443695068, 0.005840884055942297, 1.3266444206237793, 0.8000990748405457, 1.3417311906814575, 0.6950584650039673, 0.035242799669504166]),\n",
       " Row(id=837, features=[2.871943712234497, 1.2685340642929077, 0.003749258117750287, 2.617142677307129, 1.555951714515686, 2.416731595993042, 1.4813497066497803, 0.02262232080101967]),\n",
       " Row(id=838, features=[2.885981321334839, 1.3025039434432983, 0.0023604303132742643, 2.608325242996216, 1.5469874143600464, 2.368302583694458, 1.495833396911621, 0.014242393895983696]),\n",
       " Row(id=839, features=[1.4315729141235352, 0.7281047105789185, 0.0, 1.3246841430664062, 0.7359626293182373, 1.0821677446365356, 0.7822232842445374, 0.0]),\n",
       " Row(id=840, features=[1.4584975242614746, 0.6837419271469116, 0.0, 1.3014748096466064, 0.767175555229187, 1.144400715827942, 0.7632264494895935, 0.0]),\n",
       " Row(id=841, features=[1.4584975242614746, 0.6837419271469116, 0.0, 1.3014748096466064, 0.767175555229187, 1.144400715827942, 0.7632264494895935, 0.0]),\n",
       " Row(id=842, features=[1.3965486288070679, 0.5496103763580322, 0.005200203973799944, 1.3240101337432861, 0.7965623140335083, 1.320197582244873, 0.7026099562644958, 0.03137705847620964]),\n",
       " Row(id=843, features=[1.403144121170044, 0.7908921837806702, 0.0, 1.3624082803726196, 0.6982346177101135, 1.0049550533294678, 0.8115401268005371, 0.0]),\n",
       " Row(id=844, features=[1.4584975242614746, 0.6837419271469116, 0.0, 1.3014748096466064, 0.767175555229187, 1.144400715827942, 0.7632264494895935, 0.0]),\n",
       " Row(id=845, features=[1.3953959941864014, 0.7878896594047546, 0.0, 1.3719713687896729, 0.6877020001411438, 1.0146723985671997, 0.8096729516983032, 0.0]),\n",
       " Row(id=846, features=[1.4467569589614868, 0.6965752840042114, 0.0, 1.3061981201171875, 0.7555132508277893, 1.1219607591629028, 0.7677295804023743, 0.0]),\n",
       " Row(id=847, features=[2.8395397663116455, 1.2142632007598877, 0.006001492030918598, 2.6277036666870117, 1.56364905834198, 2.4843029975891113, 1.4559663534164429, 0.036211878061294556]),\n",
       " Row(id=848, features=[1.4376369714736938, 0.7151657938957214, 0.0, 1.3170137405395508, 0.7438744306564331, 1.0983102321624756, 0.776233434677124, 0.0]),\n",
       " Row(id=849, features=[1.4507678747177124, 0.6891138553619385, 0.0, 1.30203378200531, 0.760418176651001, 1.1318466663360596, 0.7644044756889343, 0.0]),\n",
       " Row(id=850, features=[1.424136996269226, 0.7442854642868042, 0.0, 1.3343507051467896, 0.726166844367981, 1.0621464252471924, 0.7897509336471558, 0.0]),\n",
       " Row(id=851, features=[1.4507678747177124, 0.6891138553619385, 0.0, 1.30203378200531, 0.760418176651001, 1.1318466663360596, 0.7644044756889343, 0.0]),\n",
       " Row(id=852, features=[2.806288242340088, 1.5817843675613403, 0.0, 2.7248165607452393, 1.396469235420227, 2.0099101066589355, 1.6230802536010742, 0.0]),\n",
       " Row(id=853, features=[1.4584975242614746, 0.6837419271469116, 0.0, 1.3014748096466064, 0.767175555229187, 1.144400715827942, 0.7632264494895935, 0.0]),\n",
       " Row(id=854, features=[5.6073994636535645, 3.181668996810913, 0.00045370959560386837, 5.425525665283203, 2.7826688289642334, 4.044887065887451, 3.2473833560943604, 0.0]),\n",
       " Row(id=855, features=[1.390076994895935, 0.7858142256736755, 0.0, 1.3783583641052246, 0.6805410385131836, 1.0211843252182007, 0.8083639144897461, 0.0]),\n",
       " Row(id=856, features=[1.4562373161315918, 0.6812680959701538, 0.0, 1.2982856035232544, 0.7664099335670471, 1.14364755153656, 0.7612225413322449, 0.0]),\n",
       " Row(id=857, features=[1.403144121170044, 0.7908921837806702, 0.0, 1.3624082803726196, 0.6982346177101135, 1.0049550533294678, 0.8115401268005371, 0.0]),\n",
       " Row(id=858, features=[1.403144121170044, 0.7908921837806702, 0.0, 1.3624082803726196, 0.6982346177101135, 1.0049550533294678, 0.8115401268005371, 0.0]),\n",
       " Row(id=859, features=[1.4269721508026123, 0.7268546223640442, 0.0, 1.3306607007980347, 0.729605495929718, 1.0874073505401611, 0.7814075350761414, 0.0]),\n",
       " Row(id=860, features=[2.806288242340088, 1.5817843675613403, 0.0, 2.7248165607452393, 1.396469235420227, 2.0099101066589355, 1.6230802536010742, 0.0]),\n",
       " Row(id=861, features=[2.773106098175049, 1.0668585300445557, 0.011741450056433678, 2.6537392139434814, 1.5973279476165771, 2.679699182510376, 1.3898828029632568, 0.07084570825099945]),\n",
       " Row(id=862, features=[1.3466346263885498, 0.7619196772575378, 0.0, 1.4256572723388672, 0.6217027306556702, 1.0668977499008179, 0.8105863928794861, 0.0154120409861207]),\n",
       " Row(id=863, features=[1.4584975242614746, 0.6837419271469116, 0.0, 1.3014748096466064, 0.767175555229187, 1.144400715827942, 0.7632264494895935, 0.0]),\n",
       " Row(id=864, features=[1.3887569904327393, 0.5330102443695068, 0.005840884055942297, 1.3266444206237793, 0.8000990748405457, 1.3417311906814575, 0.6950584650039673, 0.035242799669504166]),\n",
       " Row(id=865, features=[1.403144121170044, 0.7908921837806702, 0.0, 1.3624082803726196, 0.6982346177101135, 1.0049550533294678, 0.8115401268005371, 0.0]),\n",
       " Row(id=866, features=[1.3781131505966187, 0.5254719853401184, 0.0018440107814967632, 1.3136086463928223, 0.8413925170898438, 1.3307141065597534, 0.6957778334617615, 0.02999434620141983]),\n",
       " Row(id=867, features=[1.403144121170044, 0.7908921837806702, 0.0, 1.3624082803726196, 0.6982346177101135, 1.0049550533294678, 0.8115401268005371, 0.0]),\n",
       " Row(id=868, features=[1.3887569904327393, 0.5330102443695068, 0.005840884055942297, 1.3266444206237793, 0.8000990748405457, 1.3417311906814575, 0.6950584650039673, 0.035242799669504166]),\n",
       " Row(id=869, features=[1.4497170448303223, 0.690994918346405, 0.0, 1.3030636310577393, 0.7591552734375, 1.1293100118637085, 0.7652328014373779, 0.0]),\n",
       " Row(id=870, features=[1.4584975242614746, 0.6837419271469116, 0.0, 1.3014748096466064, 0.767175555229187, 1.144400715827942, 0.7632264494895935, 0.0]),\n",
       " Row(id=871, features=[1.4562373161315918, 0.6812680959701538, 0.0, 1.2982856035232544, 0.7664099335670471, 1.14364755153656, 0.7612225413322449, 0.0]),\n",
       " Row(id=872, features=[1.4584975242614746, 0.6837419271469116, 0.0, 1.3014748096466064, 0.767175555229187, 1.144400715827942, 0.7632264494895935, 0.0]),\n",
       " Row(id=873, features=[1.452946662902832, 0.6854695677757263, 0.0, 1.3001105785369873, 0.7629602551460266, 1.1369218826293945, 0.762835681438446, 0.0]),\n",
       " Row(id=874, features=[2.8674073219299316, 1.2827452421188354, 0.0034298663958907127, 2.6165075302124023, 1.546802043914795, 2.3922598361968994, 1.4864461421966553, 0.020695170387625694]),\n",
       " Row(id=875, features=[1.4161633253097534, 0.7422706484794617, 0.0, 1.336247205734253, 0.7229337096214294, 1.080942988395691, 0.7856284976005554, 0.0]),\n",
       " Row(id=876, features=[1.403144121170044, 0.7908921837806702, 0.0, 1.3624082803726196, 0.6982346177101135, 1.0049550533294678, 0.8115401268005371, 0.0]),\n",
       " Row(id=877, features=[2.808539628982544, 3.531876564025879, 1.7181004285812378, 3.2378275394439697, 3.173663377761841, 4.641701698303223, 2.392033338546753, 0.8708741068840027]),\n",
       " Row(id=878, features=[1.4584975242614746, 0.6837419271469116, 0.0, 1.3014748096466064, 0.767175555229187, 1.144400715827942, 0.7632264494895935, 0.0]),\n",
       " Row(id=879, features=[2.8225831985473633, 1.5453907251358032, 0.0, 2.7028579711914062, 1.4182155132293701, 2.0544590950012207, 1.6060411930084229, 0.0]),\n",
       " Row(id=880, features=[2.9163310527801514, 1.3632683753967285, 0.0, 2.599120855331421, 1.5351701974868774, 2.2910969257354736, 1.5238385200500488, 0.0]),\n",
       " Row(id=881, features=[1.9006471633911133, 2.2357664108276367, 1.0845038890838623, 2.188141107559204, 2.1134109497070312, 3.122265577316284, 1.5651882886886597, 0.5602529048919678]),\n",
       " Row(id=882, features=[1.3965486288070679, 0.5496103763580322, 0.005200203973799944, 1.3240101337432861, 0.7965623140335083, 1.320197582244873, 0.7026099562644958, 0.03137705847620964]),\n",
       " Row(id=883, features=[1.455165147781372, 0.6823551654815674, 0.0, 1.2986465692520142, 0.76537024974823, 1.1416593790054321, 0.761584460735321, 0.0]),\n",
       " Row(id=884, features=[2.7413132190704346, 1.05131995677948, 0.211435467004776, 2.6527857780456543, 1.6626076698303223, 2.635190725326538, 1.4193772077560425, 0.06389522552490234]),\n",
       " Row(id=885, features=[1.4467569589614868, 0.6965752840042114, 0.0, 1.3061981201171875, 0.7555132508277893, 1.1219607591629028, 0.7677295804023743, 0.0]),\n",
       " Row(id=886, features=[4.166506767272949, 2.3559844493865967, 0.0, 4.139482021331787, 2.036634683609009, 3.068054437637329, 2.4241652488708496, 0.0]),\n",
       " Row(id=887, features=[1.4343197345733643, 0.722207248210907, 0.0, 1.3211793899536133, 0.7395573258399963, 1.0895061492919922, 0.7794888615608215, 0.0]),\n",
       " Row(id=888, features=[2.916995048522949, 1.3674838542938232, 0.0, 2.602949619293213, 1.534351110458374, 2.288801431655884, 1.526452898979187, 0.0]),\n",
       " Row(id=889, features=[1.403144121170044, 0.7908921837806702, 0.0, 1.3624082803726196, 0.6982346177101135, 1.0049550533294678, 0.8115401268005371, 0.0]),\n",
       " Row(id=890, features=[1.4167674779891968, 0.59799724817276, 0.0033331927843391895, 1.3150912523269653, 0.7845953106880188, 1.2546449899673462, 0.7239986062049866, 0.02011186257004738]),\n",
       " Row(id=891, features=[1.4562373161315918, 0.6812680959701538, 0.0, 1.2982856035232544, 0.7664099335670471, 1.14364755153656, 0.7612225413322449, 0.0]),\n",
       " Row(id=892, features=[1.4568448066711426, 0.6808847784996033, 0.0, 1.2982739210128784, 0.7669293284416199, 1.144606113433838, 0.7611525058746338, 0.0]),\n",
       " Row(id=893, features=[1.4500010013580322, 0.6884725689888, 0.0, 1.3040016889572144, 0.7589653134346008, 1.1343876123428345, 0.7641690969467163, 0.0]),\n",
       " Row(id=894, features=[4.245957851409912, 2.173116445541382, 0.292784184217453, 4.031118392944336, 2.2139220237731934, 3.189234972000122, 2.391669511795044, 0.0]),\n",
       " Row(id=895, features=[1.4562373161315918, 0.6812680959701538, 0.0, 1.2982856035232544, 0.7664099335670471, 1.14364755153656, 0.7612225413322449, 0.0]),\n",
       " Row(id=896, features=[1.4467569589614868, 0.6965752840042114, 0.0, 1.3061981201171875, 0.7555132508277893, 1.1219607591629028, 0.7677295804023743, 0.0]),\n",
       " Row(id=897, features=[1.409486174583435, 0.5856357216835022, 0.003875778056681156, 1.3183848857879639, 0.7866280674934387, 1.2708911895751953, 0.7184171676635742, 0.02338571846485138]),\n",
       " Row(id=898, features=[1.403144121170044, 0.7908921837806702, 0.0, 1.3624082803726196, 0.6982346177101135, 1.0049550533294678, 0.8115401268005371, 0.0]),\n",
       " Row(id=899, features=[2.916995048522949, 1.3674838542938232, 0.0, 2.602949619293213, 1.534351110458374, 2.288801431655884, 1.526452898979187, 0.0]),\n",
       " Row(id=900, features=[2.806288242340088, 1.5817843675613403, 0.0, 2.7248165607452393, 1.396469235420227, 2.0099101066589355, 1.6230802536010742, 0.0]),\n",
       " Row(id=901, features=[1.3909223079681396, 0.7861449122428894, 0.0, 1.377353310585022, 0.6816751956939697, 1.0201584100723267, 0.8085734844207764, 0.0]),\n",
       " Row(id=902, features=[1.452946662902832, 0.6854695677757263, 0.0, 1.3001105785369873, 0.7629602551460266, 1.1369218826293945, 0.762835681438446, 0.0]),\n",
       " Row(id=903, features=[1.4584975242614746, 0.6837419271469116, 0.0, 1.3014748096466064, 0.767175555229187, 1.144400715827942, 0.7632264494895935, 0.0]),\n",
       " Row(id=904, features=[1.4559051990509033, 0.6828224658966064, 0.0, 1.2995399236679077, 0.7656712532043457, 1.1422890424728394, 0.762056827545166, 0.0]),\n",
       " Row(id=905, features=[1.403144121170044, 0.7908921837806702, 0.0, 1.3624082803726196, 0.6982346177101135, 1.0049550533294678, 0.8115401268005371, 0.0]),\n",
       " Row(id=906, features=[2.8874711990356445, 1.405121922492981, 0.0, 2.6192753314971924, 1.5034185647964478, 2.228501081466675, 1.5408926010131836, 0.0]),\n",
       " Row(id=907, features=[1.4584975242614746, 0.6837419271469116, 0.0, 1.3014748096466064, 0.767175555229187, 1.144400715827942, 0.7632264494895935, 0.0]),\n",
       " Row(id=908, features=[5.803804874420166, 2.7523231506347656, 0.0, 5.208942890167236, 3.0418801307678223, 4.535126686096191, 3.0558440685272217, 0.0]),\n",
       " Row(id=909, features=[1.455165147781372, 0.6823551654815674, 0.0, 1.2986465692520142, 0.76537024974823, 1.1416593790054321, 0.761584460735321, 0.0]),\n",
       " Row(id=910, features=[1.4544028043746948, 0.6839519143104553, 0.0, 1.3005449771881104, 0.7640078663825989, 1.1406283378601074, 0.7624296545982361, 0.0]),\n",
       " Row(id=911, features=[1.4467569589614868, 0.6965752840042114, 0.0, 1.3061981201171875, 0.7555132508277893, 1.1219607591629028, 0.7677295804023743, 0.0]),\n",
       " Row(id=912, features=[1.4572252035140991, 0.6807864904403687, 0.0, 1.2983840703964233, 0.7672122120857239, 1.145104169845581, 0.7611910104751587, 0.0]),\n",
       " Row(id=913, features=[1.4584975242614746, 0.6837419271469116, 0.0, 1.3014748096466064, 0.767175555229187, 1.144400715827942, 0.7632264494895935, 0.0]),\n",
       " Row(id=914, features=[4.3082499504089355, 2.119886875152588, 0.001136306207627058, 3.9601659774780273, 2.214446783065796, 3.341732978820801, 2.3147788047790527, 0.002138239098712802]),\n",
       " Row(id=915, features=[2.5885040760040283, 1.293235421180725, 0.02492908574640751, 2.462634563446045, 1.3109662532806396, 2.372648239135742, 2.382328987121582, 0.08549243956804276]),\n",
       " Row(id=916, features=[4.323775291442871, 2.1228420734405518, 0.0, 3.937735080718994, 2.245640754699707, 3.323472261428833, 2.31827449798584, 0.0]),\n",
       " Row(id=917, features=[1.398734211921692, 0.5779422521591187, 0.004420506302267313, 1.325059175491333, 0.7844958901405334, 1.2811479568481445, 0.7148241400718689, 0.02667250856757164]),\n",
       " Row(id=918, features=[2.7604191303253174, 1.0351191759109497, 0.012859450653195381, 2.6568238735198975, 1.6048065423965454, 2.720629930496216, 1.375361680984497, 0.07759151607751846]),\n",
       " Row(id=919, features=[5.815466403961182, 2.736316680908203, 0.0, 5.197686195373535, 3.055957078933716, 4.555831432342529, 3.0490376949310303, 0.0]),\n",
       " Row(id=920, features=[1.3851611614227295, 0.7838855385780334, 0.0, 1.3841285705566406, 0.6739746332168579, 1.027084231376648, 0.8071337938308716, 0.0]),\n",
       " Row(id=921, features=[1.4584975242614746, 0.6837419271469116, 0.0, 1.3014748096466064, 0.767175555229187, 1.144400715827942, 0.7632264494895935, 0.0]),\n",
       " Row(id=922, features=[1.403144121170044, 0.7908921837806702, 0.0, 1.3624082803726196, 0.6982346177101135, 1.0049550533294678, 0.8115401268005371, 0.0]),\n",
       " Row(id=923, features=[1.4562373161315918, 0.6812680959701538, 0.0, 1.2982856035232544, 0.7664099335670471, 1.14364755153656, 0.7612225413322449, 0.0]),\n",
       " Row(id=924, features=[1.409486174583435, 0.5856357216835022, 0.003875778056681156, 1.3183848857879639, 0.7866280674934387, 1.2708911895751953, 0.7184171676635742, 0.02338571846485138]),\n",
       " Row(id=925, features=[1.3965486288070679, 0.5496103763580322, 0.005200203973799944, 1.3240101337432861, 0.7965623140335083, 1.320197582244873, 0.7026099562644958, 0.03137705847620964]),\n",
       " Row(id=926, features=[1.403144121170044, 0.7908921837806702, 0.0, 1.3624082803726196, 0.6982346177101135, 1.0049550533294678, 0.8115401268005371, 0.0]),\n",
       " Row(id=927, features=[1.4330706596374512, 0.6881239414215088, 4.295037797419354e-05, 1.3346563577651978, 0.7568726539611816, 1.0946071147918701, 0.7673080563545227, 0.0]),\n",
       " Row(id=928, features=[1.4584975242614746, 0.6837419271469116, 0.0, 1.3014748096466064, 0.767175555229187, 1.144400715827942, 0.7632264494895935, 0.0]),\n",
       " Row(id=929, features=[1.3929013013839722, 0.7869177460670471, 0.0, 1.3749855756759644, 0.6843361258506775, 1.0177433490753174, 0.8090618252754211, 0.0]),\n",
       " Row(id=930, features=[2.8686885833740234, 1.2681193351745605, 0.0037543841172009706, 2.615321636199951, 1.5539370775222778, 2.413522243499756, 1.4803239107131958, 0.022653251886367798]),\n",
       " Row(id=931, features=[2.8181443214416504, 1.470165491104126, 0.0, 2.7053651809692383, 1.411403775215149, 2.1720833778381348, 1.568910837173462, 0.0]),\n",
       " Row(id=932, features=[1.4520024061203003, 0.6869983077049255, 0.0, 1.3009021282196045, 0.761873722076416, 1.1347588300704956, 0.7634861469268799, 0.0]),\n",
       " Row(id=933, features=[1.4376369714736938, 0.7151657938957214, 0.0, 1.3170137405395508, 0.7438744306564331, 1.0983102321624756, 0.776233434677124, 0.0]),\n",
       " Row(id=934, features=[1.4162393808364868, 0.5933205485343933, 0.0034783303271979094, 1.3155517578125, 0.7864948511123657, 1.2615729570388794, 0.7220666408538818, 0.02098759450018406]),\n",
       " Row(id=935, features=[4.221229553222656, 2.3462889194488525, 0.0, 4.07129430770874, 2.110459327697754, 3.0471458435058594, 2.4222614765167236, 0.0]),\n",
       " Row(id=936, features=[1.403144121170044, 0.7908921837806702, 0.0, 1.3624082803726196, 0.6982346177101135, 1.0049550533294678, 0.8115401268005371, 0.0]),\n",
       " Row(id=937, features=[1.4584975242614746, 0.6837419271469116, 0.0, 1.3014748096466064, 0.767175555229187, 1.144400715827942, 0.7632264494895935, 0.0]),\n",
       " Row(id=938, features=[1.403144121170044, 0.7908921837806702, 0.0, 1.3624082803726196, 0.6982346177101135, 1.0049550533294678, 0.8115401268005371, 0.0]),\n",
       " Row(id=939, features=[1.4584975242614746, 0.6837419271469116, 0.0, 1.3014748096466064, 0.767175555229187, 1.144400715827942, 0.7632264494895935, 0.0]),\n",
       " Row(id=940, features=[1.403144121170044, 0.7908921837806702, 0.0, 1.3624082803726196, 0.6982346177101135, 1.0049550533294678, 0.8115401268005371, 0.0]),\n",
       " Row(id=941, features=[1.4352600574493408, 0.6331367492675781, 0.0018983430927619338, 1.308027982711792, 0.7779790163040161, 1.209059476852417, 0.7399895191192627, 0.011454246938228607]),\n",
       " Row(id=942, features=[1.4151872396469116, 0.5898078083992004, 0.0036434743087738752, 1.317347526550293, 0.7878143787384033, 1.2676446437835693, 0.7208050489425659, 0.02198404259979725]),\n",
       " Row(id=943, features=[2.90021014213562, 1.3786360025405884, 0.0, 2.6061782836914062, 1.5188723802566528, 2.2643959522247314, 1.5289918184280396, 0.0]),\n",
       " Row(id=944, features=[1.403144121170044, 0.7908921837806702, 0.0, 1.3624082803726196, 0.6982346177101135, 1.0049550533294678, 0.8115401268005371, 0.0]),\n",
       " Row(id=945, features=[1.3965486288070679, 0.5496103763580322, 0.005200203973799944, 1.3240101337432861, 0.7965623140335083, 1.320197582244873, 0.7026099562644958, 0.03137705847620964]),\n",
       " Row(id=946, features=[4.264484882354736, 1.8103985786437988, 0.00934181734919548, 3.945157051086426, 2.3544650077819824, 3.7492287158966064, 2.1809322834014893, 0.056366775184869766]),\n",
       " Row(id=947, features=[1.4584975242614746, 0.6837419271469116, 0.0, 1.3014748096466064, 0.767175555229187, 1.144400715827942, 0.7632264494895935, 0.0]),\n",
       " Row(id=948, features=[2.7754619121551514, 1.061693549156189, 0.011848281137645245, 2.65394926071167, 1.6011030673980713, 2.689037799835205, 1.3881402015686035, 0.07149031013250351]),\n",
       " Row(id=949, features=[1.403144121170044, 0.7908921837806702, 0.0, 1.3624082803726196, 0.6982346177101135, 1.0049550533294678, 0.8115401268005371, 0.0]),\n",
       " Row(id=950, features=[1.4100390672683716, 0.5992649793624878, 0.003553840797394514, 1.3197505474090576, 0.7810283899307251, 1.2524807453155518, 0.7244376540184021, 0.021443210542201996]),\n",
       " Row(id=951, features=[2.916074275970459, 1.3626770973205566, 0.0, 2.598501205444336, 1.5351759195327759, 2.2912349700927734, 1.5234308242797852, 0.0]),\n",
       " Row(id=952, features=[1.4584975242614746, 0.6837419271469116, 0.0, 1.3014748096466064, 0.767175555229187, 1.144400715827942, 0.7632264494895935, 0.0]),\n",
       " Row(id=953, features=[1.4584975242614746, 0.6837419271469116, 0.0, 1.3014748096466064, 0.767175555229187, 1.144400715827942, 0.7632264494895935, 0.0]),\n",
       " Row(id=954, features=[2.8701305389404297, 1.2646530866622925, 0.003898536553606391, 2.617746591567993, 1.55678129196167, 2.4217607975006104, 1.4795831441879272, 0.023523040115833282]),\n",
       " Row(id=955, features=[4.25029993057251, 2.2668368816375732, 0.0, 4.031978607177734, 2.1489264965057373, 3.1492197513580322, 2.384788751602173, 0.0]),\n",
       " Row(id=956, features=[1.403144121170044, 0.7908921837806702, 0.0, 1.3624082803726196, 0.6982346177101135, 1.0049550533294678, 0.8115401268005371, 0.0]),\n",
       " Row(id=957, features=[1.4171124696731567, 0.6080845594406128, 0.0030848421156406403, 1.3157501220703125, 0.78034907579422, 1.240659236907959, 0.7283748388290405, 0.018613358959555626]),\n",
       " Row(id=958, features=[1.4584975242614746, 0.6837419271469116, 0.0, 1.3014748096466064, 0.767175555229187, 1.144400715827942, 0.7632264494895935, 0.0]),\n",
       " Row(id=959, features=[2.7867276668548584, 1.089661717414856, 0.0007062036893330514, 2.6034159660339355, 1.6869598627090454, 2.60294246673584, 1.4090124368667603, 0.04550580680370331]),\n",
       " Row(id=960, features=[2.8538880348205566, 1.2305494546890259, 0.005312032997608185, 2.626124858856201, 1.5644614696502686, 2.468515396118164, 1.4646239280700684, 0.03205181285738945]),\n",
       " Row(id=961, features=[2.7846574783325195, 1.0807021856307983, 0.005277970340102911, 2.6257362365722656, 1.6516876220703125, 2.63775634765625, 1.4020800590515137, 0.05589882656931877]),\n",
       " Row(id=962, features=[1.4584975242614746, 0.6837419271469116, 0.0, 1.3014748096466064, 0.767175555229187, 1.144400715827942, 0.7632264494895935, 0.0]),\n",
       " Row(id=963, features=[1.392929196357727, 0.5418696999549866, 0.005499276798218489, 1.3252556324005127, 0.7982226014137268, 1.3302634954452515, 0.6990941762924194, 0.033181607723236084]),\n",
       " Row(id=964, features=[1.4584975242614746, 0.6837419271469116, 0.0, 1.3014748096466064, 0.767175555229187, 1.144400715827942, 0.7632264494895935, 0.0]),\n",
       " Row(id=965, features=[1.455165147781372, 0.6823551654815674, 0.0, 1.2986465692520142, 0.76537024974823, 1.1416593790054321, 0.761584460735321, 0.0]),\n",
       " Row(id=966, features=[2.7714133262634277, 1.251671552658081, 0.017482521012425423, 2.7006776332855225, 1.4848545789718628, 2.4538519382476807, 1.4735596179962158, 0.052844684571027756]),\n",
       " Row(id=967, features=[1.3805204629898071, 0.5460082292556763, 0.005882378667593002, 1.3345853090286255, 0.7909657955169678, 1.3242926597595215, 0.7007989287376404, 0.03549317270517349]),\n",
       " Row(id=968, features=[1.403144121170044, 0.7908921837806702, 0.0, 1.3624082803726196, 0.6982346177101135, 1.0049550533294678, 0.8115401268005371, 0.0]),\n",
       " Row(id=969, features=[1.452946662902832, 0.6854695677757263, 0.0, 1.3001105785369873, 0.7629602551460266, 1.1369218826293945, 0.762835681438446, 0.0]),\n",
       " Row(id=970, features=[1.4584975242614746, 0.6837419271469116, 0.0, 1.3014748096466064, 0.767175555229187, 1.144400715827942, 0.7632264494895935, 0.0]),\n",
       " Row(id=971, features=[1.455165147781372, 0.6823551654815674, 0.0, 1.2986465692520142, 0.76537024974823, 1.1416593790054321, 0.761584460735321, 0.0]),\n",
       " Row(id=972, features=[1.441943645477295, 0.6966695785522461, 0.0, 1.3131664991378784, 0.7486183643341064, 1.1259760856628418, 0.7676392793655396, 0.0]),\n",
       " Row(id=973, features=[1.403144121170044, 0.7908921837806702, 0.0, 1.3624082803726196, 0.6982346177101135, 1.0049550533294678, 0.8115401268005371, 0.0]),\n",
       " Row(id=974, features=[2.7712512016296387, 1.0543674230575562, 0.012088985182344913, 2.653169870376587, 1.6019889116287231, 2.69624924659729, 1.384323239326477, 0.07294267416000366]),\n",
       " Row(id=975, features=[1.4584975242614746, 0.6837419271469116, 0.0, 1.3014748096466064, 0.767175555229187, 1.144400715827942, 0.7632264494895935, 0.0]),\n",
       " Row(id=976, features=[1.4315729141235352, 0.7281047105789185, 0.0, 1.3246841430664062, 0.7359626293182373, 1.0821677446365356, 0.7822232842445374, 0.0]),\n",
       " Row(id=977, features=[0.9183861017227173, 1.1777174472808838, 0.5855662226676941, 1.0780271291732788, 1.0631623268127441, 1.5664808750152588, 0.7940073609352112, 0.29949861764907837]),\n",
       " Row(id=978, features=[1.403144121170044, 0.7908921837806702, 0.0, 1.3624082803726196, 0.6982346177101135, 1.0049550533294678, 0.8115401268005371, 0.0]),\n",
       " Row(id=979, features=[1.4584975242614746, 0.6837419271469116, 0.0, 1.3014748096466064, 0.767175555229187, 1.144400715827942, 0.7632264494895935, 0.0]),\n",
       " Row(id=980, features=[5.624722003936768, 3.1172091960906982, 0.0, 5.4227824211120605, 2.8179311752319336, 4.09402322769165, 3.2208077907562256, 0.0]),\n",
       " Row(id=981, features=[2.8340418338775635, 1.2060456275939941, 0.006406063213944435, 2.6305131912231445, 1.564992904663086, 2.4951701164245605, 1.4523175954818726, 0.03865298628807068]),\n",
       " Row(id=982, features=[1.4562373161315918, 0.6812680959701538, 0.0, 1.2982856035232544, 0.7664099335670471, 1.14364755153656, 0.7612225413322449, 0.0]),\n",
       " Row(id=983, features=[1.4467569589614868, 0.6965752840042114, 0.0, 1.3061981201171875, 0.7555132508277893, 1.1219607591629028, 0.7677295804023743, 0.0]),\n",
       " Row(id=984, features=[1.4584975242614746, 0.6837419271469116, 0.0, 1.3014748096466064, 0.767175555229187, 1.144400715827942, 0.7632264494895935, 0.0]),\n",
       " Row(id=985, features=[1.4075653553009033, 0.5733293294906616, 0.004282074980437756, 1.3201020956039429, 0.7914156317710876, 1.2892216444015503, 0.7133536338806152, 0.025837238878011703]),\n",
       " Row(id=986, features=[1.4584975242614746, 0.6837419271469116, 0.0, 1.3014748096466064, 0.767175555229187, 1.144400715827942, 0.7632264494895935, 0.0]),\n",
       " Row(id=987, features=[1.455165147781372, 0.6823551654815674, 0.0, 1.2986465692520142, 0.76537024974823, 1.1416593790054321, 0.761584460735321, 0.0]),\n",
       " Row(id=988, features=[2.7454357147216797, 1.5579160451889038, 0.0, 2.796332597732544, 1.3151509761810303, 2.0830206871032715, 1.6078661680221558, 0.0]),\n",
       " Row(id=989, features=[1.403144121170044, 0.7908921837806702, 0.0, 1.3624082803726196, 0.6982346177101135, 1.0049550533294678, 0.8115401268005371, 0.0]),\n",
       " Row(id=990, features=[1.403144121170044, 0.7908921837806702, 0.0, 1.3624082803726196, 0.6982346177101135, 1.0049550533294678, 0.8115401268005371, 0.0]),\n",
       " Row(id=991, features=[2.688493013381958, 3.6058011054992676, 1.8319270610809326, 3.207350730895996, 3.197986602783203, 4.740530014038086, 2.386373281478882, 0.9371352791786194]),\n",
       " Row(id=992, features=[1.4584975242614746, 0.6837419271469116, 0.0, 1.3014748096466064, 0.767175555229187, 1.144400715827942, 0.7632264494895935, 0.0]),\n",
       " Row(id=993, features=[1.4584975242614746, 0.6837419271469116, 0.0, 1.3014748096466064, 0.767175555229187, 1.144400715827942, 0.7632264494895935, 0.0]),\n",
       " Row(id=994, features=[1.4315729141235352, 0.7281047105789185, 0.0, 1.3246841430664062, 0.7359626293182373, 1.0821677446365356, 0.7822232842445374, 0.0]),\n",
       " Row(id=995, features=[2.817498207092285, 1.5346412658691406, 0.0, 2.6996705532073975, 1.419736385345459, 2.085561513900757, 1.5974525213241577, 0.0]),\n",
       " Row(id=996, features=[1.3882157802581787, 0.7850856184959412, 0.0, 1.3805631399154663, 0.6780470013618469, 1.0234360694885254, 0.8079012036323547, 0.0]),\n",
       " Row(id=997, features=[1.4269721508026123, 0.7268546223640442, 0.0, 1.3306607007980347, 0.729605495929718, 1.0874073505401611, 0.7814075350761414, 0.0]),\n",
       " Row(id=998, features=[0.8680713176727295, 1.1455944776535034, 0.6112401485443115, 1.0772013664245605, 1.0828412771224976, 1.6416234970092773, 0.7726123929023743, 0.32387664914131165]),\n",
       " Row(id=999, features=[5.660063743591309, 2.384258985519409, 0.01372125931084156, 5.263124465942383, 3.13815975189209, 5.027773380279541, 2.8922417163848877, 0.08279150724411011]),\n",
       " Row(id=1000, features=[1.403144121170044, 0.7908921837806702, 0.0, 1.3624082803726196, 0.6982346177101135, 1.0049550533294678, 0.8115401268005371, 0.0]),\n",
       " Row(id=1001, features=[1.4584975242614746, 0.6837419271469116, 0.0, 1.3014748096466064, 0.767175555229187, 1.144400715827942, 0.7632264494895935, 0.0]),\n",
       " Row(id=1002, features=[1.4414644241333008, 0.7033721208572388, 0.0, 1.3127161264419556, 0.748558521270752, 1.1147314310073853, 0.7707523107528687, 0.0]),\n",
       " Row(id=1003, features=[1.4171124696731567, 0.6080845594406128, 0.0030848421156406403, 1.3157501220703125, 0.78034907579422, 1.240659236907959, 0.7283748388290405, 0.018613358959555626]),\n",
       " ...]"
      ]
     },
     "execution_count": 26,
     "metadata": {},
     "output_type": "execute_result"
    }
   ],
   "source": [
    "final_model.userFactors.orderBy(\"id\").collect()"
   ]
  },
  {
   "cell_type": "code",
   "execution_count": 25,
   "id": "5cf28aeb-41a4-4bf6-aa3b-af0c2db308de",
   "metadata": {},
   "outputs": [
    {
     "data": {
      "text/plain": [
       "pyspark.sql.dataframe.DataFrame"
      ]
     },
     "execution_count": 25,
     "metadata": {},
     "output_type": "execute_result"
    }
   ],
   "source": [
    "type(userFactors)"
   ]
  },
  {
   "cell_type": "code",
   "execution_count": 27,
   "id": "e7585e5b-e3b4-42f5-92f1-4c2b2d108f49",
   "metadata": {},
   "outputs": [
    {
     "name": "stdout",
     "output_type": "stream",
     "text": [
      "root\n",
      " |-- id: integer (nullable = false)\n",
      " |-- features: array (nullable = true)\n",
      " |    |-- element: float (containsNull = false)\n",
      "\n"
     ]
    }
   ],
   "source": [
    "userFactors.printSchema()"
   ]
  },
  {
   "cell_type": "code",
   "execution_count": 166,
   "id": "cafa22d4-6342-4994-8c3a-72a16876e4e2",
   "metadata": {},
   "outputs": [
    {
     "name": "stdout",
     "output_type": "stream",
     "text": [
      "+---+-----------------------------------------------------------------------------------------------+\n",
      "|id |Features                                                                                       |\n",
      "+---+-----------------------------------------------------------------------------------------------+\n",
      "|10 |[5.7924514, 2.7759025, 0.0, 5.2189054, 3.0287783, 4.501434, 3.0662427, 0.0]                    |\n",
      "|20 |[1.4584975, 0.6837419, 0.0, 1.3014748, 0.76717556, 1.1444007, 0.76322645, 0.0]                 |\n",
      "|30 |[1.3727179, 0.778958, 0.0, 1.3981663, 0.6575755, 1.0415103, 0.8039331, 0.0]                    |\n",
      "|40 |[1.4584975, 0.6837419, 0.0, 1.3014748, 0.76717556, 1.1444007, 0.76322645, 0.0]                 |\n",
      "|50 |[1.3983066, 0.5676566, 0.0046561887, 1.3234804, 0.7887948, 1.294504, 0.7101965, 0.02809457]    |\n",
      "|60 |[1.4568448, 0.6808848, 0.0, 1.2982739, 0.7669293, 1.1446061, 0.7611525, 0.0]                   |\n",
      "|70 |[1.4584975, 0.6837419, 0.0, 1.3014748, 0.76717556, 1.1444007, 0.76322645, 0.0]                 |\n",
      "|80 |[2.8445077, 1.4873915, 0.0, 2.6735387, 1.447147, 2.1287704, 1.5787518, 0.0]                    |\n",
      "|90 |[1.4167675, 0.59799725, 0.0033331928, 1.3150913, 0.7845953, 1.254645, 0.7239986, 0.020111863]  |\n",
      "|100|[1.3868777, 0.52905345, 0.0059930864, 1.3272449, 0.80092436, 1.3468246, 0.6932497, 0.036161162]|\n",
      "+---+-----------------------------------------------------------------------------------------------+\n",
      "only showing top 10 rows\n",
      "\n"
     ]
    }
   ],
   "source": [
    "userFactors.select([\"id\",\"Features\"]).show(10,truncate=False)"
   ]
  },
  {
   "cell_type": "markdown",
   "id": "1589f64a-0d7d-4508-8dbe-37ff54ca0458",
   "metadata": {},
   "source": [
    "## Calculate cosine similarity:"
   ]
  },
  {
   "cell_type": "markdown",
   "id": "4e57c89c-33b0-4005-94cb-c8e7bc86fc1f",
   "metadata": {},
   "source": [
    "### user-User Cosine Similarity code "
   ]
  },
  {
   "cell_type": "markdown",
   "id": "aaa1fcf4-f406-442a-9be1-4f6860bcdb83",
   "metadata": {},
   "source": [
    "<img src=\"https://datascience103579984.files.wordpress.com/2020/01/13-12.png\" height=\"600\" width=\"600\" />"
   ]
  },
  {
   "cell_type": "code",
   "execution_count": 57,
   "id": "76bee01e-c55e-4472-9e0e-d5bf2b0c8157",
   "metadata": {},
   "outputs": [],
   "source": [
    "def cosine_similarity(u1, u2):\n",
    "    \"\"\"Calculates cosine similarity between two user factors.\"\"\"\n",
    "    # Convert lists to DenseVectors before performing operations\n",
    "    u1_vector = Vectors.dense(u1)\n",
    "    u2_vector = Vectors.dense(u2)\n",
    "    return u1_vector.dot(u2_vector) / (u1_vector.norm(p=2) * u2_vector.norm(p=2))"
   ]
  },
  {
   "cell_type": "code",
   "execution_count": 58,
   "id": "e5da4c16-8350-4580-a7cf-b872356d231c",
   "metadata": {},
   "outputs": [
    {
     "name": "stdout",
     "output_type": "stream",
     "text": [
      "Cosine similarity between users 10 and 20: 0.9999585467003842\n"
     ]
    }
   ],
   "source": [
    "# Example usage\n",
    "user1_id = 10\n",
    "user2_id = 20\n",
    "user1_factors = userFactors.filter(userFactors.id == user1_id ).collect()[0][1]\n",
    "user2_factors = userFactors.filter(userFactors.id == user2_id ).collect()[0][1]\n",
    "# user1_factors = userFactors.to_dense().rdd.filter(lambda x: x[0] == user1_id).collect()[0][1]\n",
    "# user2_factors = userFactors.to_dense().rdd.filter(lambda x: x[0] == user2_id).collect()[0][1]\n",
    "similarity = cosine_similarity(user1_factors, user2_factors)\n",
    "print(f\"Cosine similarity between users {user1_id} and {user2_id}: {similarity}\")\n"
   ]
  },
  {
   "cell_type": "markdown",
   "id": "37946b00-6e3f-498c-91ba-d722b5785b9c",
   "metadata": {},
   "source": [
    "### User-Item Cosine Similarity code"
   ]
  },
  {
   "cell_type": "code",
   "execution_count": 59,
   "id": "c8f1a8db-172b-4122-9030-9e5c40162fc6",
   "metadata": {},
   "outputs": [
    {
     "name": "stdout",
     "output_type": "stream",
     "text": [
      "Cosine similarity between users 10 and 1: 0.9974201391852973\n"
     ]
    }
   ],
   "source": [
    "# Example usage\n",
    "user1_id = 10\n",
    "item_id = 1\n",
    "user_factors = userFactors.filter(userFactors.id == user1_id ).collect()[0][1]\n",
    "item_factors = itemFactors.filter(itemFactors.id == item_id ).collect()[0][1]\n",
    "\n",
    "user_item_similarity = cosine_similarity(user_factors, item_factors)\n",
    "print(f\"Cosine similarity between users {user1_id} and {item_id}: {user_item_similarity}\")\n"
   ]
  },
  {
   "cell_type": "markdown",
   "id": "a8f99d3c-a41b-45a5-a1f3-a754a40d86ef",
   "metadata": {},
   "source": [
    "###  Cosine Similarity of user 10 with all Loans"
   ]
  },
  {
   "cell_type": "code",
   "execution_count": 61,
   "id": "f8edb118-b30d-428a-a1b0-86de708ae480",
   "metadata": {},
   "outputs": [],
   "source": [
    "TopCosineLoanforuser10 = []\n",
    "for item in range(itemFactors.count()):\n",
    "    item_id = itemFactors.select(\"Id\").sort(\"Id\").take(itemFactors.count())[item][0]\n",
    "    user1_id = 10\n",
    "    user_factors = userFactors.filter(userFactors.id == user1_id ).collect()[0][1]\n",
    "    item_factors = itemFactors.filter(itemFactors.id == item_id ).collect()[0][1]\n",
    "    \n",
    "    \n",
    "    user_item_similarity = cosine_similarity(user_factors, item_factors)\n",
    "    TopCosineLoanforuser10.append({\"userID\":user1_id,\"LoanId\":item_id,\"CosineSimilarity\":user_item_similarity})"
   ]
  },
  {
   "cell_type": "code",
   "execution_count": 62,
   "id": "a65ec1b5-4c8a-45f3-81ec-ac03d5ebc44a",
   "metadata": {},
   "outputs": [
    {
     "data": {
      "text/plain": [
       "[{'userID': 10, 'LoanId': 6, 'CosineSimilarity': 0.9999585465921065},\n",
       " {'userID': 10, 'LoanId': 1, 'CosineSimilarity': 0.9974201391852973},\n",
       " {'userID': 10, 'LoanId': 2, 'CosineSimilarity': 0.997024833969398},\n",
       " {'userID': 10, 'LoanId': 4, 'CosineSimilarity': 0.9963134193136397},\n",
       " {'userID': 10, 'LoanId': 8, 'CosineSimilarity': 0.996119009590138},\n",
       " {'userID': 10, 'LoanId': 9, 'CosineSimilarity': 0.9940790271396324},\n",
       " {'userID': 10, 'LoanId': 17, 'CosineSimilarity': 0.9934936842714687},\n",
       " {'userID': 10, 'LoanId': 15, 'CosineSimilarity': 0.9930037834538045},\n",
       " {'userID': 10, 'LoanId': 18, 'CosineSimilarity': 0.992891723903221},\n",
       " {'userID': 10, 'LoanId': 20, 'CosineSimilarity': 0.992753702092476},\n",
       " {'userID': 10, 'LoanId': 14, 'CosineSimilarity': 0.991944012100995},\n",
       " {'userID': 10, 'LoanId': 7, 'CosineSimilarity': 0.9918822377308257},\n",
       " {'userID': 10, 'LoanId': 12, 'CosineSimilarity': 0.9888173813712304},\n",
       " {'userID': 10, 'LoanId': 19, 'CosineSimilarity': 0.9360397202134642},\n",
       " {'userID': 10, 'LoanId': 5, 'CosineSimilarity': 0.9297149557719793},\n",
       " {'userID': 10, 'LoanId': 11, 'CosineSimilarity': 0.8153013532458889},\n",
       " {'userID': 10, 'LoanId': 13, 'CosineSimilarity': 0.642525824869693},\n",
       " {'userID': 10, 'LoanId': 3, 'CosineSimilarity': 0.5437397747828782},\n",
       " {'userID': 10, 'LoanId': 10, 'CosineSimilarity': 0.4796967403879541},\n",
       " {'userID': 10, 'LoanId': 16, 'CosineSimilarity': 0.4530598108430616}]"
      ]
     },
     "execution_count": 62,
     "metadata": {},
     "output_type": "execute_result"
    }
   ],
   "source": [
    "sorted_Cosine_list = sorted(TopCosineLoanforuser10, key=operator.itemgetter('CosineSimilarity'),reverse=True)\n",
    "sorted_Cosine_list"
   ]
  },
  {
   "cell_type": "code",
   "execution_count": null,
   "id": "fba88412-ab37-40c1-8ac9-357641af74ea",
   "metadata": {},
   "outputs": [],
   "source": []
  },
  {
   "cell_type": "markdown",
   "id": "f37aa796-bc53-4cfd-a06f-7d7cf4c50d5c",
   "metadata": {},
   "source": [
    "##  Calculate centered cosine similarity:"
   ]
  },
  {
   "cell_type": "code",
   "execution_count": 43,
   "id": "276d4b2a-9d94-40cb-a7f1-2aeb64938ffc",
   "metadata": {},
   "outputs": [],
   "source": [
    "def centered_cosine_similarity(u, v):\n",
    "    \"\"\" Calculate centered cosine similarity between two vectors u and v. \"\"\"\n",
    "    # Calculate mean of u and v\n",
    "    mean_u = sum(u) / len(u)\n",
    "    mean_v = sum(v) / len(v)\n",
    "    \n",
    "    # Subtract mean from u and v\n",
    "    centered_u = Vectors.dense([x - mean_u for x in u])\n",
    "    centered_v = Vectors.dense([x - mean_v for x in v])\n",
    "    \n",
    "    # Calculate centered cosine similarity\n",
    "    dot_product = float(centered_u.dot(centered_v))\n",
    "    norm_u = float(centered_u.norm(2))\n",
    "    norm_v = float(centered_v.norm(2))\n",
    "    \n",
    "    centered_sim = dot_product / (norm_u * norm_v)\n",
    "    return centered_sim\n"
   ]
  },
  {
   "cell_type": "markdown",
   "id": "19afff63-8654-410f-b0e1-3579c0dbaf90",
   "metadata": {},
   "source": [
    "### User-User Centerd Cosine Similarity code"
   ]
  },
  {
   "cell_type": "code",
   "execution_count": 44,
   "id": "a32fbefc-c5b8-4cd0-be5e-8caf9a7a43c5",
   "metadata": {},
   "outputs": [
    {
     "name": "stdout",
     "output_type": "stream",
     "text": [
      "Centered Cosine similarity between users 10 and 20: 0.9998679429238302\n"
     ]
    }
   ],
   "source": [
    "# Example usage\n",
    "user1_id = 10\n",
    "user2_id = 20\n",
    "user1_factors = userFactors.filter(userFactors.id == user1_id ).collect()[0][1]\n",
    "user2_factors = userFactors.filter(userFactors.id == user2_id ).collect()[0][1]\n",
    "similarity = centered_cosine_similarity(user1_factors, user2_factors)\n",
    "print(f\"Centered Cosine similarity between users {user1_id} and {user2_id}: {similarity}\")\n"
   ]
  },
  {
   "cell_type": "markdown",
   "id": "af032ead-97f1-49fb-b084-2e49794a33d6",
   "metadata": {},
   "source": [
    "### User-Item Centerd Cosine Similarity code"
   ]
  },
  {
   "cell_type": "code",
   "execution_count": 45,
   "id": "44d9be35-49c5-4127-9c43-75fb2c98cbe7",
   "metadata": {},
   "outputs": [
    {
     "name": "stdout",
     "output_type": "stream",
     "text": [
      "Centered Cosine similarity between users 10 and Item 1: 0.9915912910111744\n"
     ]
    }
   ],
   "source": [
    "# Example usage\n",
    "user1_id = 10\n",
    "item_id = 1\n",
    "user2_factors = userFactors.filter(userFactors.id == user1_id ).collect()[0][1]\n",
    "item3_factors = itemFactors.filter(itemFactors.id == item_id ).collect()[0][1]\n",
    "\n",
    "user_item_similarity = centered_cosine_similarity(user2_factors, item3_factors)\n",
    "print(f\"Centered Cosine similarity between users {user1_id} and Item {item_id}: {user_item_similarity}\")\n"
   ]
  },
  {
   "cell_type": "markdown",
   "id": "371d1ad2-6233-42fa-9162-faa06c8809d2",
   "metadata": {},
   "source": [
    "### Cosine Similarity of user 10 with all Loans"
   ]
  },
  {
   "cell_type": "code",
   "execution_count": 53,
   "id": "45b22d6b-9553-4b4f-a3b5-80751b15a360",
   "metadata": {},
   "outputs": [],
   "source": [
    "topNLoanforuser10 = []\n",
    "for item in range(itemFactors.count()):\n",
    "    item_id = itemFactors.select(\"Id\").sort(\"Id\").take(itemFactors.count())[item][0]\n",
    "    user1_id = 10\n",
    "    user_factors = userFactors.filter(userFactors.id == user1_id ).collect()[0][1]\n",
    "    item_factors = itemFactors.filter(itemFactors.id == item_id ).collect()[0][1]\n",
    "    \n",
    "    \n",
    "    user_item_similarity = centered_cosine_similarity(user_factors, item_factors)\n",
    "    topNLoanforuser10.append({\"userID\":user1_id,\"LoanId\":item_id,\"CenteredSimilarity\":user_item_similarity})"
   ]
  },
  {
   "cell_type": "code",
   "execution_count": 54,
   "id": "e34d3003-bf4b-464c-8da7-b34a75136698",
   "metadata": {},
   "outputs": [],
   "source": [
    "# Import the operator module\n",
    "import operator"
   ]
  },
  {
   "cell_type": "code",
   "execution_count": 55,
   "id": "43fcd076-13d2-4667-b7ad-ffd8dc9ae04d",
   "metadata": {},
   "outputs": [
    {
     "data": {
      "text/plain": [
       "[{'userID': 10, 'LoanId': 6, 'CenteredSimilarity': 0.9998679425406234},\n",
       " {'userID': 10, 'LoanId': 1, 'CenteredSimilarity': 0.9915912910111744},\n",
       " {'userID': 10, 'LoanId': 2, 'CenteredSimilarity': 0.990320020344896},\n",
       " {'userID': 10, 'LoanId': 4, 'CenteredSimilarity': 0.9880144133660409},\n",
       " {'userID': 10, 'LoanId': 8, 'CenteredSimilarity': 0.9876226904363},\n",
       " {'userID': 10, 'LoanId': 9, 'CenteredSimilarity': 0.9810484167854919},\n",
       " {'userID': 10, 'LoanId': 17, 'CenteredSimilarity': 0.9787237190274809},\n",
       " {'userID': 10, 'LoanId': 20, 'CenteredSimilarity': 0.9778946981767085},\n",
       " {'userID': 10, 'LoanId': 15, 'CenteredSimilarity': 0.9772770700181951},\n",
       " {'userID': 10, 'LoanId': 18, 'CenteredSimilarity': 0.976882421646373},\n",
       " {'userID': 10, 'LoanId': 7, 'CenteredSimilarity': 0.9746767268583482},\n",
       " {'userID': 10, 'LoanId': 14, 'CenteredSimilarity': 0.9742615784378328},\n",
       " {'userID': 10, 'LoanId': 12, 'CenteredSimilarity': 0.9661985261736536},\n",
       " {'userID': 10, 'LoanId': 19, 'CenteredSimilarity': 0.8047799112946138},\n",
       " {'userID': 10, 'LoanId': 5, 'CenteredSimilarity': 0.7769802107920977},\n",
       " {'userID': 10, 'LoanId': 11, 'CenteredSimilarity': 0.6093973622865452},\n",
       " {'userID': 10, 'LoanId': 3, 'CenteredSimilarity': 0.16685040969362763},\n",
       " {'userID': 10, 'LoanId': 13, 'CenteredSimilarity': -0.2931643526928138},\n",
       " {'userID': 10, 'LoanId': 16, 'CenteredSimilarity': -0.3311269196522275},\n",
       " {'userID': 10, 'LoanId': 10, 'CenteredSimilarity': -0.3432629324345813}]"
      ]
     },
     "execution_count": 55,
     "metadata": {},
     "output_type": "execute_result"
    }
   ],
   "source": [
    "sorted_list = sorted(topNLoanforuser10, key=operator.itemgetter('CenteredSimilarity'),reverse=True)\n",
    "sorted_list"
   ]
  },
  {
   "cell_type": "code",
   "execution_count": 65,
   "id": "4208959e-85a9-4a9c-a0cb-be5b661f121a",
   "metadata": {},
   "outputs": [
    {
     "data": {
      "text/plain": [
       "[{'userID': 10, 'LoanId': 1, 'CenteredSimilarity': 0.9915912910111744},\n",
       " {'userID': 10, 'LoanId': 2, 'CenteredSimilarity': 0.990320020344896},\n",
       " {'userID': 10, 'LoanId': 3, 'CenteredSimilarity': 0.16685040969362763},\n",
       " {'userID': 10, 'LoanId': 4, 'CenteredSimilarity': 0.9880144133660409},\n",
       " {'userID': 10, 'LoanId': 5, 'CenteredSimilarity': 0.7769802107920977},\n",
       " {'userID': 10, 'LoanId': 6, 'CenteredSimilarity': 0.9998679425406234},\n",
       " {'userID': 10, 'LoanId': 7, 'CenteredSimilarity': 0.9746767268583482},\n",
       " {'userID': 10, 'LoanId': 8, 'CenteredSimilarity': 0.9876226904363},\n",
       " {'userID': 10, 'LoanId': 9, 'CenteredSimilarity': 0.9810484167854919},\n",
       " {'userID': 10, 'LoanId': 10, 'CenteredSimilarity': -0.3432629324345813},\n",
       " {'userID': 10, 'LoanId': 11, 'CenteredSimilarity': 0.6093973622865452},\n",
       " {'userID': 10, 'LoanId': 12, 'CenteredSimilarity': 0.9661985261736536},\n",
       " {'userID': 10, 'LoanId': 13, 'CenteredSimilarity': -0.2931643526928138},\n",
       " {'userID': 10, 'LoanId': 14, 'CenteredSimilarity': 0.9742615784378328},\n",
       " {'userID': 10, 'LoanId': 15, 'CenteredSimilarity': 0.9772770700181951},\n",
       " {'userID': 10, 'LoanId': 16, 'CenteredSimilarity': -0.3311269196522275},\n",
       " {'userID': 10, 'LoanId': 17, 'CenteredSimilarity': 0.9787237190274809},\n",
       " {'userID': 10, 'LoanId': 18, 'CenteredSimilarity': 0.976882421646373},\n",
       " {'userID': 10, 'LoanId': 19, 'CenteredSimilarity': 0.8047799112946138},\n",
       " {'userID': 10, 'LoanId': 20, 'CenteredSimilarity': 0.9778946981767085}]"
      ]
     },
     "execution_count": 65,
     "metadata": {},
     "output_type": "execute_result"
    }
   ],
   "source": [
    "sorted(topNLoanforuser10, key=operator.itemgetter('LoanId') )"
   ]
  },
  {
   "cell_type": "code",
   "execution_count": null,
   "id": "bda9c1f5-25a0-42a2-acd6-073eb86e466f",
   "metadata": {},
   "outputs": [],
   "source": []
  },
  {
   "cell_type": "code",
   "execution_count": null,
   "id": "339cd31c-5804-4f05-a949-2de67919deff",
   "metadata": {},
   "outputs": [],
   "source": []
  },
  {
   "cell_type": "code",
   "execution_count": null,
   "id": "5007cece-0b3b-4079-9e03-27b1d15032c9",
   "metadata": {},
   "outputs": [],
   "source": []
  },
  {
   "cell_type": "code",
   "execution_count": null,
   "id": "3d642ef8-ec11-4194-a4f7-1184fcd3e536",
   "metadata": {},
   "outputs": [],
   "source": []
  },
  {
   "cell_type": "code",
   "execution_count": null,
   "id": "4c06228d-a082-4a3b-9e3f-feee5a68cf8d",
   "metadata": {},
   "outputs": [],
   "source": []
  },
  {
   "cell_type": "code",
   "execution_count": null,
   "id": "ed0ef5dc-e915-4f8e-b865-b1746bf5f087",
   "metadata": {},
   "outputs": [],
   "source": []
  },
  {
   "cell_type": "code",
   "execution_count": null,
   "id": "c4547435-9941-4520-9b28-8ff839ae7ed3",
   "metadata": {},
   "outputs": [],
   "source": []
  },
  {
   "cell_type": "code",
   "execution_count": null,
   "id": "d11d5c2c-3baf-4b7b-8ef9-de0f952243b8",
   "metadata": {},
   "outputs": [],
   "source": []
  },
  {
   "cell_type": "code",
   "execution_count": null,
   "id": "7c6af000-b911-435a-8696-9633218b5770",
   "metadata": {},
   "outputs": [],
   "source": []
  },
  {
   "cell_type": "code",
   "execution_count": null,
   "id": "63416651-664b-403e-9596-9e66b2393fb0",
   "metadata": {},
   "outputs": [],
   "source": []
  },
  {
   "cell_type": "code",
   "execution_count": null,
   "id": "c68c5e5d-e5ac-4508-a423-3e330cb8f111",
   "metadata": {},
   "outputs": [],
   "source": []
  },
  {
   "cell_type": "code",
   "execution_count": null,
   "id": "256e7129-1d41-4c83-a8fe-35b3096769c5",
   "metadata": {},
   "outputs": [],
   "source": []
  },
  {
   "cell_type": "code",
   "execution_count": null,
   "id": "bd030929-f4a4-4c3c-92c5-3fb9927288d0",
   "metadata": {},
   "outputs": [],
   "source": []
  },
  {
   "cell_type": "code",
   "execution_count": null,
   "id": "d3357146-82d1-43df-866e-f1f793b5d5f7",
   "metadata": {},
   "outputs": [],
   "source": []
  },
  {
   "cell_type": "code",
   "execution_count": null,
   "id": "e91e388e-5cad-4204-ad5d-d135cdfc481a",
   "metadata": {},
   "outputs": [],
   "source": []
  },
  {
   "cell_type": "code",
   "execution_count": null,
   "id": "ba3d5312-52ec-474a-9d94-2c6c7c1e50e8",
   "metadata": {},
   "outputs": [],
   "source": []
  },
  {
   "cell_type": "code",
   "execution_count": null,
   "id": "c944b550-9463-441a-9e25-9018e50567c5",
   "metadata": {},
   "outputs": [],
   "source": []
  },
  {
   "cell_type": "code",
   "execution_count": null,
   "id": "7ec2edd5-0e51-4c5f-834e-8d55dbdc7b71",
   "metadata": {},
   "outputs": [],
   "source": []
  },
  {
   "cell_type": "code",
   "execution_count": null,
   "id": "5717f72b-7997-42c5-8832-bfd3f5e40e4c",
   "metadata": {},
   "outputs": [],
   "source": []
  },
  {
   "cell_type": "code",
   "execution_count": null,
   "id": "036d5eea-a979-4bd6-ab7b-c276c3f51380",
   "metadata": {},
   "outputs": [],
   "source": []
  },
  {
   "cell_type": "code",
   "execution_count": null,
   "id": "5f5e4e30-3372-425d-9d1d-c71cf1f10873",
   "metadata": {},
   "outputs": [],
   "source": []
  },
  {
   "cell_type": "code",
   "execution_count": null,
   "id": "abbe1e09-23b1-460f-a365-240ded79997e",
   "metadata": {},
   "outputs": [],
   "source": []
  },
  {
   "cell_type": "code",
   "execution_count": null,
   "id": "7b1fa6c2-9d42-4d95-afbe-4f98ecaa34a6",
   "metadata": {},
   "outputs": [],
   "source": []
  },
  {
   "cell_type": "code",
   "execution_count": null,
   "id": "5d54c7f1-d510-44bb-b43f-aca4d69bf48c",
   "metadata": {},
   "outputs": [],
   "source": []
  },
  {
   "cell_type": "code",
   "execution_count": null,
   "id": "28f4c194-45a6-454a-a425-04b70cce6b4b",
   "metadata": {},
   "outputs": [],
   "source": []
  },
  {
   "cell_type": "code",
   "execution_count": null,
   "id": "6d03f14c-5673-441f-9fb5-3914644d1ae3",
   "metadata": {},
   "outputs": [],
   "source": []
  },
  {
   "cell_type": "code",
   "execution_count": null,
   "id": "278c1b14-281f-4cbc-95e8-27f68fd40a4a",
   "metadata": {},
   "outputs": [],
   "source": []
  },
  {
   "cell_type": "code",
   "execution_count": null,
   "id": "e618922a-344e-4fb1-b2e2-88de635c969e",
   "metadata": {},
   "outputs": [],
   "source": []
  },
  {
   "cell_type": "code",
   "execution_count": null,
   "id": "3421dd79-d437-4c41-bc4f-cdf05411e089",
   "metadata": {},
   "outputs": [],
   "source": []
  },
  {
   "cell_type": "code",
   "execution_count": null,
   "id": "e28c76af-7617-4f97-b041-e109469ad3eb",
   "metadata": {},
   "outputs": [],
   "source": []
  },
  {
   "cell_type": "code",
   "execution_count": null,
   "id": "c829b7f0-0e63-46bb-bf15-dcec978badf9",
   "metadata": {},
   "outputs": [],
   "source": []
  },
  {
   "cell_type": "code",
   "execution_count": null,
   "id": "f9ea209a-1981-46b5-9a5f-f161bc16ff73",
   "metadata": {},
   "outputs": [],
   "source": []
  },
  {
   "cell_type": "code",
   "execution_count": null,
   "id": "2c404be4-aab7-4dfd-8711-5acb10d6fb44",
   "metadata": {},
   "outputs": [],
   "source": []
  },
  {
   "cell_type": "code",
   "execution_count": null,
   "id": "52d77289-2856-4fde-bf75-270d73bdadb7",
   "metadata": {},
   "outputs": [],
   "source": []
  },
  {
   "cell_type": "code",
   "execution_count": null,
   "id": "69ebb281-b9df-4c56-bbc5-a13c4ce7fa3d",
   "metadata": {},
   "outputs": [],
   "source": []
  },
  {
   "cell_type": "code",
   "execution_count": null,
   "id": "3c8e36af-6f95-4836-9fa2-4255f0e8c996",
   "metadata": {},
   "outputs": [],
   "source": []
  },
  {
   "cell_type": "code",
   "execution_count": null,
   "id": "c5cea054-a7e3-475e-9496-625fa922e6ac",
   "metadata": {},
   "outputs": [],
   "source": []
  },
  {
   "cell_type": "code",
   "execution_count": null,
   "id": "9551ee09-871f-4714-aca0-f1367b427cb4",
   "metadata": {},
   "outputs": [],
   "source": []
  },
  {
   "cell_type": "code",
   "execution_count": null,
   "id": "f29a6c09-6700-45f3-b5cf-6c571eadfe32",
   "metadata": {},
   "outputs": [],
   "source": []
  },
  {
   "cell_type": "code",
   "execution_count": 67,
   "id": "fc5d0e5c-4b93-41d8-a633-400380fcccbd",
   "metadata": {},
   "outputs": [
    {
     "name": "stdout",
     "output_type": "stream",
     "text": [
      "root\n",
      " |-- Id: string (nullable = true)\n",
      " |-- AccountID: string (nullable = true)\n",
      " |-- Number_Of_Loans_Granted__c: integer (nullable = true)\n",
      " |-- Num_Of_Loans_Paid__c: integer (nullable = true)\n",
      " |-- Purpose_of_Loan__c: string (nullable = true)\n",
      " |-- Total_Repayments__c: integer (nullable = true)\n",
      " |-- Amount: integer (nullable = true)\n",
      " |-- Term_in_Weeks__c: double (nullable = true)\n",
      " |-- Payment_Frequency__c: string (nullable = true)\n",
      " |-- StageName: string (nullable = true)\n",
      " |-- Applicant Age: integer (nullable = true)\n",
      " |-- summary_income: double (nullable = true)\n",
      " |-- summary_income_cv: double (nullable = true)\n",
      " |-- city: string (nullable = true)\n",
      " |-- state: string (nullable = true)\n",
      " |-- Country: string (nullable = true)\n",
      " |-- userId: integer (nullable = true)\n",
      " |-- loanId: integer (nullable = true)\n",
      " |-- count: integer (nullable = true)\n",
      " |-- LoanIdFormat: integer (nullable = true)\n",
      " |-- prediction: float (nullable = false)\n",
      "\n"
     ]
    }
   ],
   "source": [
    "predictions.printSchema()"
   ]
  },
  {
   "cell_type": "code",
   "execution_count": 68,
   "id": "24d2c7c3-8104-4b83-a3d8-2e4c3ece98ac",
   "metadata": {},
   "outputs": [
    {
     "name": "stdout",
     "output_type": "stream",
     "text": [
      "+------------+------+------+------+-------------------+-----+----------+\n",
      "|LoanIdFormat|loanId|userId|Amount|Total_Repayments__c|count|prediction|\n",
      "+------------+------+------+------+-------------------+-----+----------+\n",
      "|           1|  1859|  2366|   500|                 10|    1| 0.9933492|\n",
      "|           1| 18371|  4818|   600|                 10|    2| 1.9914738|\n",
      "|           1| 24830|  1342|   500|                 10|    1| 0.9981674|\n",
      "|           1| 39048|  1238|   500|                 10|    3|  2.984103|\n",
      "|           1| 44319| 19984|   500|                  6|    3|  2.992899|\n",
      "|           1| 44367| 16503|   300|                  6|    3| 2.9956226|\n",
      "|           1| 44446| 15846|   200|                  6|    3|  2.991486|\n",
      "|           1| 48006| 20683|   600|                 10|    1| 0.9933492|\n",
      "|           1| 49432| 18866|   500|                  6|    1| 0.9981674|\n",
      "|           1| 50698| 17420|   750|                 10|    1| 0.9965345|\n",
      "|           1| 51505| 15447|   400|                  6|    4| 3.9936872|\n",
      "+------------+------+------+------+-------------------+-----+----------+\n",
      "only showing top 11 rows\n",
      "\n"
     ]
    }
   ],
   "source": [
    "predictions.select([\"LoanIdFormat\",\"loanId\",\"userId\",\"Amount\",\"Total_Repayments__c\",\"count\",\"prediction\"]).show(11)"
   ]
  },
  {
   "cell_type": "code",
   "execution_count": 69,
   "id": "1b1cb23d-bf6b-4cbe-9240-3a6c0dad2815",
   "metadata": {},
   "outputs": [
    {
     "name": "stdout",
     "output_type": "stream",
     "text": [
      "+-------+------------------+------------------+\n",
      "|summary|        prediction|      LoanIdFormat|\n",
      "+-------+------------------+------------------+\n",
      "|  count|            111352|            111352|\n",
      "|   mean| 1.661863417419055| 4.518930957683741|\n",
      "| stddev|0.8937703516935817|2.7881530111682316|\n",
      "|    min|               0.0|                 1|\n",
      "|    max|         7.9761477|                20|\n",
      "+-------+------------------+------------------+\n",
      "\n"
     ]
    }
   ],
   "source": [
    "predictions.select(\"prediction\",\"LoanIdFormat\").describe().show()"
   ]
  },
  {
   "cell_type": "code",
   "execution_count": null,
   "id": "6947ef5d-365a-4f71-a8f9-c865c01e05eb",
   "metadata": {},
   "outputs": [],
   "source": []
  },
  {
   "cell_type": "code",
   "execution_count": null,
   "id": "8bd852bd-f5eb-4095-8b02-f255707397bc",
   "metadata": {},
   "outputs": [],
   "source": []
  },
  {
   "cell_type": "code",
   "execution_count": 70,
   "id": "d4fc2d3e-b55f-485c-a87d-ff790847e567",
   "metadata": {},
   "outputs": [],
   "source": [
    "evaluator = RegressionEvaluator(metricName='rmse', labelCol='count', predictionCol='prediction')\n",
    "error = evaluator.evaluate(predictions)"
   ]
  },
  {
   "cell_type": "code",
   "execution_count": 71,
   "id": "71839857-cdf9-4dbc-9310-f433c4b95729",
   "metadata": {},
   "outputs": [
    {
     "name": "stdout",
     "output_type": "stream",
     "text": [
      "The RMSE for the above mnodel is : 0.028842204161434074\n"
     ]
    }
   ],
   "source": [
    "print(f\"The RMSE for the above m0odel is : {error}\")  # o.463"
   ]
  },
  {
   "cell_type": "code",
   "execution_count": null,
   "id": "7e841871-6577-464c-afd2-ef42dc748376",
   "metadata": {},
   "outputs": [],
   "source": []
  },
  {
   "cell_type": "code",
   "execution_count": 98,
   "id": "2f3d2b7d-9df0-40e8-9653-b67d488fd4ae",
   "metadata": {},
   "outputs": [],
   "source": [
    "userRecommends = final_model.recommendForAllUsers(5)\n",
    "loanRecommends = final_model.recommendForAllItems(5)"
   ]
  },
  {
   "cell_type": "code",
   "execution_count": 99,
   "id": "61490ce4-2ace-47dd-9d3b-b5b0f541a3e2",
   "metadata": {},
   "outputs": [
    {
     "name": "stdout",
     "output_type": "stream",
     "text": [
      "root\n",
      " |-- LoanIdFormat: integer (nullable = false)\n",
      " |-- recommendations: array (nullable = true)\n",
      " |    |-- element: struct (containsNull = true)\n",
      " |    |    |-- userId: integer (nullable = true)\n",
      " |    |    |-- rating: float (nullable = true)\n",
      "\n"
     ]
    }
   ],
   "source": [
    "loanRecommends.printSchema()"
   ]
  },
  {
   "cell_type": "code",
   "execution_count": 100,
   "id": "cae2167c-8455-4c19-a013-dd44e4b9d333",
   "metadata": {},
   "outputs": [
    {
     "name": "stdout",
     "output_type": "stream",
     "text": [
      "+------------+----------------------------------+-------------------------------------------------------+\n",
      "|LoanIdFormat|userId                            |rating                                                 |\n",
      "+------------+----------------------------------+-------------------------------------------------------+\n",
      "|20          |[1832, 24495, 24531, 24991, 15933]|[7.950424, 7.0113587, 6.9573717, 6.0000634, 5.9925804] |\n",
      "|10          |[1832, 24713, 24608, 24303, 24495]|[8.555681, 7.465768, 7.3844924, 7.339622, 7.0376883]   |\n",
      "|1           |[1832, 24495, 24531, 15933, 24418]|[7.9761477, 7.0013914, 6.9772563, 6.0103855, 6.0089397]|\n",
      "|11          |[1832, 24495, 24531, 15933, 24418]|[9.5949135, 8.382941, 8.35992, 7.275463, 7.274435]     |\n",
      "|12          |[1832, 24495, 24531, 24991, 24301]|[7.973118, 7.0685134, 6.977419, 6.0400486, 6.019967]   |\n",
      "|2           |[1832, 24495, 24531, 15933, 24418]|[7.9706793, 7.006312, 6.973244, 6.006671, 6.005226]    |\n",
      "|13          |[1832, 24713, 24608, 24303, 24495]|[5.2179594, 4.950352, 4.901877, 4.85413, 4.555052]     |\n",
      "|3           |[1832, 24633, 24495, 24531, 14767]|[6.264384, 5.784274, 5.5393353, 5.4501143, 4.8399553]  |\n",
      "|4           |[1832, 24495, 24531, 15933, 24418]|[7.971582, 7.0008006, 6.9743223, 6.0064354, 6.004977]  |\n",
      "|14          |[1832, 24495, 24531, 24991, 15933]|[7.9580674, 7.031475, 6.965792, 6.014413, 6.0027823]   |\n",
      "+------------+----------------------------------+-------------------------------------------------------+\n",
      "only showing top 10 rows\n",
      "\n"
     ]
    }
   ],
   "source": [
    "loanRecommends.select([\"LoanIdFormat\",\"recommendations.userId\",\"recommendations.rating\"]).show(10,truncate=False)"
   ]
  },
  {
   "cell_type": "code",
   "execution_count": 101,
   "id": "bf08c18d-dae8-41f4-8595-f5922b0bcbaa",
   "metadata": {},
   "outputs": [
    {
     "name": "stdout",
     "output_type": "stream",
     "text": [
      "root\n",
      " |-- userId: integer (nullable = false)\n",
      " |-- recommendations: array (nullable = true)\n",
      " |    |-- element: struct (containsNull = true)\n",
      " |    |    |-- LoanIdFormat: integer (nullable = true)\n",
      " |    |    |-- rating: float (nullable = true)\n",
      "\n"
     ]
    }
   ],
   "source": [
    "userRecommends.printSchema()"
   ]
  },
  {
   "cell_type": "code",
   "execution_count": null,
   "id": "1fb6d6f0-ccb5-4e58-a9c3-7ca87a047794",
   "metadata": {},
   "outputs": [],
   "source": []
  },
  {
   "cell_type": "code",
   "execution_count": 102,
   "id": "a6674f96-bca8-437c-9951-cbc1c6a2fc0c",
   "metadata": {},
   "outputs": [
    {
     "name": "stdout",
     "output_type": "stream",
     "text": [
      "-RECORD 0--------------------------------------------------------------------------------------------\n",
      " userId          | 10                                                                                \n",
      " recommendations | [{11, 4.818267}, {19, 4.042764}, {5, 4.033351}, {10, 4.0070896}, {12, 3.9973161}] \n",
      "\n"
     ]
    }
   ],
   "source": [
    "userRecommends.filter(userRecommends.userId == 10 ).show(vertical=True,truncate=False)"
   ]
  },
  {
   "cell_type": "code",
   "execution_count": 103,
   "id": "fe062ea4-87e7-4f4e-9412-95c267d1d474",
   "metadata": {},
   "outputs": [
    {
     "name": "stdout",
     "output_type": "stream",
     "text": [
      "+------+-------------------+--------------------------------------------------------+\n",
      "|userId|LoanIdFormat       |rating                                                  |\n",
      "+------+-------------------+--------------------------------------------------------+\n",
      "|1     |[11, 19, 10, 5, 4] |[3.483842, 2.9951677, 2.9910934, 2.986418, 2.9808848]   |\n",
      "|6     |[11, 19, 5, 10, 12]|[1.2100239, 1.0132257, 1.0107574, 1.0031507, 1.0014443] |\n",
      "|12    |[11, 19, 5, 12, 10]|[2.4086132, 2.0269725, 2.0201576, 2.0100853, 2.0080824] |\n",
      "|13    |[11, 19, 5, 10, 12]|[1.1989177, 1.0090533, 1.006838, 1.0012228, 0.99791485] |\n",
      "|16    |[11, 19, 12, 5, 10]|[1.1825534, 1.0075336, 1.0040952, 1.0034789, 1.002596]  |\n",
      "|22    |[11, 19, 5, 10, 1] |[1.1965677, 1.0075513, 1.0053955, 1.0006418, 0.99691176]|\n",
      "|26    |[11, 19, 5, 10, 1] |[1.1896594, 1.0058196, 1.0035554, 0.99995625, 0.9963331]|\n",
      "|27    |[11, 19, 5, 10, 1] |[1.1919556, 1.0058408, 1.0038042, 1.0001444, 0.99620336]|\n",
      "|28    |[11, 10, 19, 5, 1] |[1.1703922, 0.99830914, 0.9981611, 0.996697, 0.9933492] |\n",
      "|31    |[11, 19, 12, 5, 10]|[2.3891153, 2.0231645, 2.0158007, 2.0147743, 2.007325]  |\n",
      "+------+-------------------+--------------------------------------------------------+\n",
      "only showing top 10 rows\n",
      "\n"
     ]
    }
   ],
   "source": [
    "userRecommends.select([\"userId\",\"recommendations.LoanIdFormat\",\"recommendations.rating\"]).show(10,truncate=False)"
   ]
  },
  {
   "cell_type": "code",
   "execution_count": null,
   "id": "6c43a8fb-3e0f-436e-ba38-8adf5efba30e",
   "metadata": {},
   "outputs": [],
   "source": []
  },
  {
   "cell_type": "code",
   "execution_count": null,
   "id": "1f2bc25c-5a85-45e2-b89a-d75d65a70040",
   "metadata": {},
   "outputs": [],
   "source": []
  },
  {
   "cell_type": "code",
   "execution_count": 105,
   "id": "70f7708c-9e0d-4e94-921d-4d9354ddfff9",
   "metadata": {},
   "outputs": [],
   "source": [
    "LoanRecommendation =  [{11, 4.818267}, {19, 4.042764}, {5, 4.033351}, {10, 4.0070896}, {12, 3.9973161}] "
   ]
  },
  {
   "cell_type": "code",
   "execution_count": 106,
   "id": "d3746986-f722-4a7c-9b38-eb0b29f58b07",
   "metadata": {},
   "outputs": [],
   "source": [
    "loanRecommend_user_10 = [{\"userID\":10,\"LoanId\":loanI,\"Ratings\":ratin} for loanI,ratin in LoanRecommendation]"
   ]
  },
  {
   "cell_type": "code",
   "execution_count": 107,
   "id": "1cd2003f-d376-41b2-a93e-ac9ececa4a92",
   "metadata": {},
   "outputs": [
    {
     "data": {
      "text/plain": [
       "[{'userID': 10, 'LoanId': 3.9973161, 'Ratings': 12},\n",
       " {'userID': 10, 'LoanId': 4.033351, 'Ratings': 5},\n",
       " {'userID': 10, 'LoanId': 11, 'Ratings': 4.818267},\n",
       " {'userID': 10, 'LoanId': 19, 'Ratings': 4.042764},\n",
       " {'userID': 10, 'LoanId': 10, 'Ratings': 4.0070896}]"
      ]
     },
     "execution_count": 107,
     "metadata": {},
     "output_type": "execute_result"
    }
   ],
   "source": [
    "sorted(loanRecommend_user_10, key=operator.itemgetter('Ratings'),reverse=True )"
   ]
  },
  {
   "cell_type": "code",
   "execution_count": 109,
   "id": "033322bf-b7b3-4ef5-9ab7-feb8249ba3ef",
   "metadata": {},
   "outputs": [
    {
     "data": {
      "text/plain": [
       "[{'userID': 10, 'LoanId': 11, 'Ratings': 4.818267},\n",
       " {'userID': 10, 'LoanId': 19, 'Ratings': 4.042764},\n",
       " {'userID': 10, 'LoanId': 4.033351, 'Ratings': 5},\n",
       " {'userID': 10, 'LoanId': 10, 'Ratings': 4.0070896},\n",
       " {'userID': 10, 'LoanId': 3.9973161, 'Ratings': 12}]"
      ]
     },
     "execution_count": 109,
     "metadata": {},
     "output_type": "execute_result"
    }
   ],
   "source": [
    "loanRecommend_user_10"
   ]
  },
  {
   "cell_type": "code",
   "execution_count": null,
   "id": "9b546cb9-ecdd-4922-a710-513e94c0472e",
   "metadata": {},
   "outputs": [],
   "source": []
  },
  {
   "cell_type": "code",
   "execution_count": null,
   "id": "0c9bcaa4-1bdc-41c7-9243-2ea48dbad534",
   "metadata": {},
   "outputs": [],
   "source": []
  },
  {
   "cell_type": "code",
   "execution_count": null,
   "id": "b6363316-327c-4857-9ca8-f5faead059c2",
   "metadata": {},
   "outputs": [],
   "source": []
  },
  {
   "cell_type": "code",
   "execution_count": null,
   "id": "9d5e2e17-f927-47ec-90d1-3e99bf69ccf2",
   "metadata": {},
   "outputs": [],
   "source": []
  },
  {
   "cell_type": "code",
   "execution_count": null,
   "id": "66323d0a-fcbd-40d0-a13e-6b9449a77f64",
   "metadata": {},
   "outputs": [],
   "source": []
  },
  {
   "cell_type": "code",
   "execution_count": null,
   "id": "7e719f90-aee0-453a-87d5-df0e82ae507d",
   "metadata": {},
   "outputs": [],
   "source": []
  },
  {
   "cell_type": "code",
   "execution_count": null,
   "id": "59d656cc-fa74-43fc-bcd2-9a73ff7c11ce",
   "metadata": {},
   "outputs": [],
   "source": []
  },
  {
   "cell_type": "code",
   "execution_count": null,
   "id": "d33def82-a07b-4e44-8f8e-560f0a15ffcc",
   "metadata": {},
   "outputs": [],
   "source": []
  },
  {
   "cell_type": "code",
   "execution_count": null,
   "id": "650b4b08-6081-4dc9-9e5f-b2e34a2008bc",
   "metadata": {},
   "outputs": [],
   "source": []
  },
  {
   "cell_type": "code",
   "execution_count": null,
   "id": "f2c7c001-9cd5-4715-9d50-720d5ba66e2e",
   "metadata": {},
   "outputs": [],
   "source": []
  },
  {
   "cell_type": "code",
   "execution_count": null,
   "id": "ece6e4b3-79ad-420c-8c39-e840866f075c",
   "metadata": {},
   "outputs": [],
   "source": []
  }
 ],
 "metadata": {
  "kernelspec": {
   "display_name": "Python 3 (ipykernel)",
   "language": "python",
   "name": "python3"
  },
  "language_info": {
   "codemirror_mode": {
    "name": "ipython",
    "version": 3
   },
   "file_extension": ".py",
   "mimetype": "text/x-python",
   "name": "python",
   "nbconvert_exporter": "python",
   "pygments_lexer": "ipython3",
   "version": "3.12.0"
  }
 },
 "nbformat": 4,
 "nbformat_minor": 5
}
