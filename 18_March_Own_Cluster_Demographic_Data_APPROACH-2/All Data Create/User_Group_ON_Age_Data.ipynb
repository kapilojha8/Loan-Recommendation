{
 "cells": [
  {
   "cell_type": "code",
   "execution_count": 1,
   "id": "f93aa385-db15-47f7-99a1-ede8864bdec6",
   "metadata": {},
   "outputs": [],
   "source": [
    "import pandas as pd\n",
    "import numpy as np"
   ]
  },
  {
   "cell_type": "code",
   "execution_count": 2,
   "id": "3a8b15e7-8b9e-4c9a-84e8-30a7567e42a9",
   "metadata": {},
   "outputs": [],
   "source": [
    "df = pd.read_csv(\"df_data/df_temp_cluster_Own_Loan_Amount_Condition.csv\")"
   ]
  },
  {
   "cell_type": "code",
   "execution_count": 3,
   "id": "1926931f-29a8-4029-9b66-10650b2be2d0",
   "metadata": {},
   "outputs": [
    {
     "data": {
      "text/html": [
       "<div>\n",
       "<style scoped>\n",
       "    .dataframe tbody tr th:only-of-type {\n",
       "        vertical-align: middle;\n",
       "    }\n",
       "\n",
       "    .dataframe tbody tr th {\n",
       "        vertical-align: top;\n",
       "    }\n",
       "\n",
       "    .dataframe thead th {\n",
       "        text-align: right;\n",
       "    }\n",
       "</style>\n",
       "<table border=\"1\" class=\"dataframe\">\n",
       "  <thead>\n",
       "    <tr style=\"text-align: right;\">\n",
       "      <th></th>\n",
       "      <th>Id</th>\n",
       "      <th>AccountID</th>\n",
       "      <th>Number_Of_Loans_Granted__c</th>\n",
       "      <th>Num_Of_Loans_Paid__c</th>\n",
       "      <th>Purpose_of_Loan__c</th>\n",
       "      <th>Total_Repayments__c</th>\n",
       "      <th>Amount</th>\n",
       "      <th>Term_in_Weeks__c</th>\n",
       "      <th>Payment_Frequency__c</th>\n",
       "      <th>StageName</th>\n",
       "      <th>Applicant Age</th>\n",
       "      <th>summary_income</th>\n",
       "      <th>summary_income_cv</th>\n",
       "      <th>city</th>\n",
       "      <th>state</th>\n",
       "      <th>Country</th>\n",
       "      <th>userId</th>\n",
       "      <th>loanId</th>\n",
       "      <th>count</th>\n",
       "      <th>Cluster_result</th>\n",
       "    </tr>\n",
       "  </thead>\n",
       "  <tbody>\n",
       "    <tr>\n",
       "      <th>0</th>\n",
       "      <td>0062x000002aHhMAAU</td>\n",
       "      <td>0010K00001cOB9dQAG</td>\n",
       "      <td>4</td>\n",
       "      <td>3</td>\n",
       "      <td>Elec / Gas / Water</td>\n",
       "      <td>6</td>\n",
       "      <td>150</td>\n",
       "      <td>6.571</td>\n",
       "      <td>Weekly</td>\n",
       "      <td>Loan Paid</td>\n",
       "      <td>25</td>\n",
       "      <td>1300.00</td>\n",
       "      <td>2563.49</td>\n",
       "      <td>Mount Crosby</td>\n",
       "      <td>QLD</td>\n",
       "      <td>Australia</td>\n",
       "      <td>432</td>\n",
       "      <td>82379</td>\n",
       "      <td>1</td>\n",
       "      <td>1</td>\n",
       "    </tr>\n",
       "    <tr>\n",
       "      <th>1</th>\n",
       "      <td>0062x00000AlkKWAAZ</td>\n",
       "      <td>0010K00001cPxiTQAS</td>\n",
       "      <td>3</td>\n",
       "      <td>3</td>\n",
       "      <td>Other</td>\n",
       "      <td>3</td>\n",
       "      <td>100</td>\n",
       "      <td>6.143</td>\n",
       "      <td>Fortnightly</td>\n",
       "      <td>Loan Paid</td>\n",
       "      <td>39</td>\n",
       "      <td>2708.33</td>\n",
       "      <td>2358.55</td>\n",
       "      <td>NOBLE PARK</td>\n",
       "      <td>VIC</td>\n",
       "      <td>Australia</td>\n",
       "      <td>500</td>\n",
       "      <td>260284</td>\n",
       "      <td>1</td>\n",
       "      <td>1</td>\n",
       "    </tr>\n",
       "    <tr>\n",
       "      <th>2</th>\n",
       "      <td>0062x00000AKiaQAAT</td>\n",
       "      <td>0010K00001cwvXbQAI</td>\n",
       "      <td>3</td>\n",
       "      <td>3</td>\n",
       "      <td>Living Expenses</td>\n",
       "      <td>6</td>\n",
       "      <td>100</td>\n",
       "      <td>10.714</td>\n",
       "      <td>Fortnightly</td>\n",
       "      <td>Loan Paid</td>\n",
       "      <td>54</td>\n",
       "      <td>1733.33</td>\n",
       "      <td>3217.52</td>\n",
       "      <td>Reservoir</td>\n",
       "      <td>VIC</td>\n",
       "      <td>Australia</td>\n",
       "      <td>661</td>\n",
       "      <td>226878</td>\n",
       "      <td>1</td>\n",
       "      <td>1</td>\n",
       "    </tr>\n",
       "    <tr>\n",
       "      <th>3</th>\n",
       "      <td>0062x00000CSVNwAAP</td>\n",
       "      <td>0010K00001dQ8y3QAC</td>\n",
       "      <td>4</td>\n",
       "      <td>4</td>\n",
       "      <td>Living Expenses</td>\n",
       "      <td>5</td>\n",
       "      <td>100</td>\n",
       "      <td>10.571</td>\n",
       "      <td>Fortnightly</td>\n",
       "      <td>Loan Paid</td>\n",
       "      <td>28</td>\n",
       "      <td>1733.33</td>\n",
       "      <td>2801.36</td>\n",
       "      <td>Albion</td>\n",
       "      <td>QLD</td>\n",
       "      <td>Australia</td>\n",
       "      <td>844</td>\n",
       "      <td>313319</td>\n",
       "      <td>1</td>\n",
       "      <td>1</td>\n",
       "    </tr>\n",
       "    <tr>\n",
       "      <th>4</th>\n",
       "      <td>0062x000009p7lfAAA</td>\n",
       "      <td>0010K00001dpdrcQAA</td>\n",
       "      <td>6</td>\n",
       "      <td>5</td>\n",
       "      <td>Living Expenses</td>\n",
       "      <td>6</td>\n",
       "      <td>100</td>\n",
       "      <td>6.286</td>\n",
       "      <td>Weekly</td>\n",
       "      <td>Loan Paid</td>\n",
       "      <td>25</td>\n",
       "      <td>2383.33</td>\n",
       "      <td>4935.31</td>\n",
       "      <td>Eagleby</td>\n",
       "      <td>QLD</td>\n",
       "      <td>Australia</td>\n",
       "      <td>1040</td>\n",
       "      <td>205917</td>\n",
       "      <td>1</td>\n",
       "      <td>1</td>\n",
       "    </tr>\n",
       "  </tbody>\n",
       "</table>\n",
       "</div>"
      ],
      "text/plain": [
       "                   Id           AccountID  Number_Of_Loans_Granted__c  \\\n",
       "0  0062x000002aHhMAAU  0010K00001cOB9dQAG                           4   \n",
       "1  0062x00000AlkKWAAZ  0010K00001cPxiTQAS                           3   \n",
       "2  0062x00000AKiaQAAT  0010K00001cwvXbQAI                           3   \n",
       "3  0062x00000CSVNwAAP  0010K00001dQ8y3QAC                           4   \n",
       "4  0062x000009p7lfAAA  0010K00001dpdrcQAA                           6   \n",
       "\n",
       "   Num_Of_Loans_Paid__c  Purpose_of_Loan__c  Total_Repayments__c  Amount  \\\n",
       "0                     3  Elec / Gas / Water                    6     150   \n",
       "1                     3               Other                    3     100   \n",
       "2                     3     Living Expenses                    6     100   \n",
       "3                     4     Living Expenses                    5     100   \n",
       "4                     5     Living Expenses                    6     100   \n",
       "\n",
       "   Term_in_Weeks__c Payment_Frequency__c  StageName  Applicant Age  \\\n",
       "0             6.571               Weekly  Loan Paid             25   \n",
       "1             6.143          Fortnightly  Loan Paid             39   \n",
       "2            10.714          Fortnightly  Loan Paid             54   \n",
       "3            10.571          Fortnightly  Loan Paid             28   \n",
       "4             6.286               Weekly  Loan Paid             25   \n",
       "\n",
       "   summary_income  summary_income_cv          city state    Country  userId  \\\n",
       "0         1300.00            2563.49  Mount Crosby   QLD  Australia     432   \n",
       "1         2708.33            2358.55    NOBLE PARK   VIC  Australia     500   \n",
       "2         1733.33            3217.52     Reservoir   VIC  Australia     661   \n",
       "3         1733.33            2801.36        Albion   QLD  Australia     844   \n",
       "4         2383.33            4935.31       Eagleby   QLD  Australia    1040   \n",
       "\n",
       "   loanId  count  Cluster_result  \n",
       "0   82379      1               1  \n",
       "1  260284      1               1  \n",
       "2  226878      1               1  \n",
       "3  313319      1               1  \n",
       "4  205917      1               1  "
      ]
     },
     "execution_count": 3,
     "metadata": {},
     "output_type": "execute_result"
    }
   ],
   "source": [
    "df.head()"
   ]
  },
  {
   "cell_type": "code",
   "execution_count": 4,
   "id": "d9c155fe-bad6-4b85-9ece-11edea0594c1",
   "metadata": {},
   "outputs": [
    {
     "data": {
      "text/plain": [
       "<Axes: >"
      ]
     },
     "execution_count": 4,
     "metadata": {},
     "output_type": "execute_result"
    },
    {
     "data": {
      "image/png": "[encoded data removed]",
      "text/plain": [
       "<Figure size 640x480 with 1 Axes>"
      ]
     },
     "metadata": {},
     "output_type": "display_data"
    }
   ],
   "source": [
    "df['Applicant Age'].hist()"
   ]
  },
  {
   "cell_type": "code",
   "execution_count": 6,
   "id": "9395c16e-7faa-477a-a3b4-0085c75c92c3",
   "metadata": {},
   "outputs": [
    {
     "data": {
      "text/plain": [
       "<Axes: >"
      ]
     },
     "execution_count": 6,
     "metadata": {},
     "output_type": "execute_result"
    },
    {
     "data": {
      "image/png": "[encoded data removed]",
      "text/plain": [
       "<Figure size 640x480 with 1 Axes>"
      ]
     },
     "metadata": {},
     "output_type": "display_data"
    }
   ],
   "source": [
    "df['Applicant Age'].hist(bins=15)"
   ]
  },
  {
   "cell_type": "code",
   "execution_count": 6,
   "id": "5d9d042d-75be-49a7-9ef9-8bcb8ba13533",
   "metadata": {},
   "outputs": [],
   "source": [
    "df = df[df['Applicant Age'] != 0]"
   ]
  },
  {
   "cell_type": "code",
   "execution_count": 7,
   "id": "9b9be733-dcc2-4015-b394-dd1bf9851fd6",
   "metadata": {},
   "outputs": [
    {
     "data": {
      "text/plain": [
       "Applicant Age\n",
       "32    18418\n",
       "33    17927\n",
       "31    17165\n",
       "34    17125\n",
       "38    16876\n",
       "      ...  \n",
       "82       12\n",
       "18        7\n",
       "79        6\n",
       "87        5\n",
       "78        1\n",
       "Name: count, Length: 66, dtype: int64"
      ]
     },
     "execution_count": 7,
     "metadata": {},
     "output_type": "execute_result"
    }
   ],
   "source": [
    "df['Applicant Age'].value_counts()"
   ]
  },
  {
   "cell_type": "code",
   "execution_count": 8,
   "id": "52a7460d-adcc-421c-9848-498afcebefa1",
   "metadata": {},
   "outputs": [],
   "source": [
    "AgeMapper =   [\n",
    "    {\"Cluster\" : 1, \"ClusterInfo\":{\"MinAge\":17,\"MaxAge\":22     }},\n",
    "    {\"Cluster\" : 2, \"ClusterInfo\":{\"MinAge\":22,\"MaxAge\":28     }},\n",
    "    {\"Cluster\" : 3, \"ClusterInfo\":{\"MinAge\":28,\"MaxAge\":33     }},\n",
    "    {\"Cluster\" : 4, \"ClusterInfo\":{\"MinAge\":33,\"MaxAge\":39     }},\n",
    "    {\"Cluster\" : 5, \"ClusterInfo\":{\"MinAge\":39,\"MaxAge\":44     }},\n",
    "    {\"Cluster\" : 6, \"ClusterInfo\":{\"MinAge\":44,\"MaxAge\":50     }},\n",
    "    {\"Cluster\" : 7, \"ClusterInfo\":{\"MinAge\":50,\"MaxAge\":55     }},    \n",
    "    {\"Cluster\" : 8, \"ClusterInfo\":{\"MinAge\":55,\"MaxAge\":60     }},\n",
    "    {\"Cluster\" : 9, \"ClusterInfo\":{\"MinAge\":61,\"MaxAge\":66     }},\n",
    "    {\"Cluster\" : 10,\"ClusterInfo\":{\"MinAge\":66,\"MaxAge\":72     }},\n",
    "    {\"Cluster\" : 11,\"ClusterInfo\":{\"MinAge\":72,\"MaxAge\":80     }}\n",
    "]"
   ]
  },
  {
   "cell_type": "code",
   "execution_count": 9,
   "id": "cd1ddef5-e324-4b85-9656-a212a96cbaaf",
   "metadata": {},
   "outputs": [],
   "source": [
    "dftemp = pd.DataFrame()"
   ]
  },
  {
   "cell_type": "code",
   "execution_count": null,
   "id": "8cabe876-fcd5-4a27-b9ba-77e5771dc918",
   "metadata": {},
   "outputs": [],
   "source": []
  },
  {
   "cell_type": "code",
   "execution_count": 10,
   "id": "cb3e69b3-5c74-4446-b7d5-98a45e7c7e90",
   "metadata": {},
   "outputs": [],
   "source": [
    "for cluster in AgeMapper:\n",
    "    cluster_id = cluster['Cluster'] \n",
    "    cluster_info_minAge,cluster_info_maxAge= cluster['ClusterInfo']['MinAge'], cluster['ClusterInfo']['MaxAge']\n",
    "    dfM =  df[((df['Applicant Age']>=cluster_info_minAge) & (df['Applicant Age']<cluster_info_maxAge))].copy()\n",
    "    dfM['Cluster_Group'] = cluster_id\n",
    "    dftemp = pd.concat([dftemp, dfM], ignore_index=True)\n",
    "    dfM.drop(dfM.index, inplace=True)"
   ]
  },
  {
   "cell_type": "code",
   "execution_count": 11,
   "id": "528a74e3-d6f5-4049-8859-f75faa62c184",
   "metadata": {},
   "outputs": [
    {
     "data": {
      "text/plain": [
       "(477055, 21)"
      ]
     },
     "execution_count": 11,
     "metadata": {},
     "output_type": "execute_result"
    }
   ],
   "source": [
    "dftemp.shape"
   ]
  },
  {
   "cell_type": "code",
   "execution_count": 12,
   "id": "e16454d4-5625-4eea-bf88-8b8ece12bcb2",
   "metadata": {},
   "outputs": [],
   "source": [
    "AGMin,AGMax = 66,72"
   ]
  },
  {
   "cell_type": "code",
   "execution_count": 13,
   "id": "b3b279b5-5441-48de-ac89-83baa42ddade",
   "metadata": {},
   "outputs": [
    {
     "data": {
      "text/plain": [
       "(4661, 20)"
      ]
     },
     "execution_count": 13,
     "metadata": {},
     "output_type": "execute_result"
    }
   ],
   "source": [
    "df[((df['Applicant Age']>=AGMin) & (df['Applicant Age']<AGMax))].shape"
   ]
  },
  {
   "cell_type": "code",
   "execution_count": 14,
   "id": "2700fbc9-f0af-45c7-8113-106e49381567",
   "metadata": {},
   "outputs": [
    {
     "data": {
      "text/plain": [
       "(4661, 21)"
      ]
     },
     "execution_count": 14,
     "metadata": {},
     "output_type": "execute_result"
    }
   ],
   "source": [
    "dftemp[((dftemp['Applicant Age']>=AGMin) & (dftemp['Applicant Age']<AGMax))].shape"
   ]
  },
  {
   "cell_type": "code",
   "execution_count": 15,
   "id": "9e6ca1c7-dab1-4c44-bae7-43acd131de2d",
   "metadata": {},
   "outputs": [
    {
     "data": {
      "text/plain": [
       "(481067, 20)"
      ]
     },
     "execution_count": 15,
     "metadata": {},
     "output_type": "execute_result"
    }
   ],
   "source": [
    "df.shape"
   ]
  },
  {
   "cell_type": "code",
   "execution_count": 16,
   "id": "8ba2bc01-666c-4193-a09d-fda729d5fdf5",
   "metadata": {},
   "outputs": [
    {
     "data": {
      "text/plain": [
       "4012"
      ]
     },
     "execution_count": 16,
     "metadata": {},
     "output_type": "execute_result"
    }
   ],
   "source": [
    "481067-477055"
   ]
  },
  {
   "cell_type": "code",
   "execution_count": 17,
   "id": "d2e58500-ea80-4046-9e6b-f3621c7fd7e5",
   "metadata": {},
   "outputs": [],
   "source": [
    "dftemp.to_csv(\"df_demographic_data_approrach-2_V-3.csv\",index=False)"
   ]
  },
  {
   "cell_type": "code",
   "execution_count": null,
   "id": "9ef5c29d-0a8e-4134-882b-75c31f2dda48",
   "metadata": {},
   "outputs": [],
   "source": []
  }
 ],
 "metadata": {
  "kernelspec": {
   "display_name": "Python 3 (ipykernel)",
   "language": "python",
   "name": "python3"
  },
  "language_info": {
   "codemirror_mode": {
    "name": "ipython",
    "version": 3
   },
   "file_extension": ".py",
   "mimetype": "text/x-python",
   "name": "python",
   "nbconvert_exporter": "python",
   "pygments_lexer": "ipython3",
   "version": "3.12.0"
  }
 },
 "nbformat": 4,
 "nbformat_minor": 5
}
