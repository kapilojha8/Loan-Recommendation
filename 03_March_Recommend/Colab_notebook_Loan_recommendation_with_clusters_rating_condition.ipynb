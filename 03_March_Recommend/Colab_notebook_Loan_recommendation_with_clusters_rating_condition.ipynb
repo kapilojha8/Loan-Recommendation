{
 "cells": [
  {
   "cell_type": "markdown",
   "id": "8433267c-e538-444a-8fbf-bbe8f7eab0e2",
   "metadata": {
    "id": "8433267c-e538-444a-8fbf-bbe8f7eab0e2"
   },
   "source": [
    "# Loan Recommendation System\n",
    "## POC - Proof Of Concept"
   ]
  },
  {
   "cell_type": "code",
   "execution_count": 1,
   "id": "e20dd32e-1530-42f6-bdf9-c3f5806e837b",
   "metadata": {
    "id": "e20dd32e-1530-42f6-bdf9-c3f5806e837b"
   },
   "outputs": [],
   "source": [
    "from pyspark.sql import SparkSession\n",
    "from pyspark.sql.functions import col, expr, rank, count #countDistinct\n",
    "from pyspark.sql import functions as F\n",
    "from pyspark.ml.recommendation import ALS\n",
    "from pyspark.ml.evaluation import RegressionEvaluator\n",
    "from pyspark.ml.linalg import Vectors  ##DenseMatrix\n",
    "import matplotlib.pyplot as plt\n",
    "import pandas as pd\n",
    "import numpy as np\n",
    "import operator\n",
    "import time"
   ]
  },
  {
   "cell_type": "code",
   "execution_count": 2,
   "id": "9347be3d-5e8b-40b5-a5f5-91ec804deebd",
   "metadata": {
    "id": "9347be3d-5e8b-40b5-a5f5-91ec804deebd"
   },
   "outputs": [],
   "source": [
    "# from pyspark.ml.tuning import TrainValidationSplit, ParamGridBuilder, CrossValidator\n",
    "# from pyspark.ml.feature import VectorAssembler\n",
    "# from pyspark.ml.feature import StringIndexer\n",
    "# from pyspark.ml.feature import Normalizer\n",
    "# from pyspark.sql.functions import mean\n",
    "# from pyspark.sql.window import Window\n",
    "# from pyspark.ml import Pipeline"
   ]
  },
  {
   "cell_type": "code",
   "execution_count": 3,
   "id": "7feab969-e8a3-4d26-adb0-080556999837",
   "metadata": {
    "id": "7feab969-e8a3-4d26-adb0-080556999837"
   },
   "outputs": [],
   "source": [
    "spark = SparkSession.builder.appName('loan_recommendation_with_clusters').config(\"spark.driver.memory\", \"2g\").getOrCreate()"
   ]
  },
  {
   "cell_type": "code",
   "execution_count": 4,
   "id": "c193e8d5-ed73-4ce1-8c2a-8580263c5921",
   "metadata": {
    "colab": {
     "base_uri": "https://localhost:8080/"
    },
    "id": "c193e8d5-ed73-4ce1-8c2a-8580263c5921",
    "outputId": "35bc7aa7-972b-4000-ea33-dfbd4074f696"
   },
   "outputs": [
    {
     "name": "stdout",
     "output_type": "stream",
     "text": [
      "root\n",
      " |-- Id: string (nullable = true)\n",
      " |-- AccountID: string (nullable = true)\n",
      " |-- Number_Of_Loans_Granted__c: integer (nullable = true)\n",
      " |-- Num_Of_Loans_Paid__c: integer (nullable = true)\n",
      " |-- Purpose_of_Loan__c: string (nullable = true)\n",
      " |-- Total_Repayments__c: integer (nullable = true)\n",
      " |-- Amount: integer (nullable = true)\n",
      " |-- Term_in_Weeks__c: double (nullable = true)\n",
      " |-- Payment_Frequency__c: string (nullable = true)\n",
      " |-- StageName: string (nullable = true)\n",
      " |-- Applicant Age: integer (nullable = true)\n",
      " |-- summary_income: double (nullable = true)\n",
      " |-- summary_income_cv: double (nullable = true)\n",
      " |-- city: string (nullable = true)\n",
      " |-- state: string (nullable = true)\n",
      " |-- Country: string (nullable = true)\n",
      " |-- Cluster_result: integer (nullable = true)\n",
      " |-- userId: integer (nullable = true)\n",
      " |-- loanId: integer (nullable = true)\n",
      " |-- count: integer (nullable = true)\n",
      "\n"
     ]
    }
   ],
   "source": [
    "# loans_df = spark.read.csv(\"RecommendData/df_temp_cluster_rating_condition_data.csv\", inferSchema=True, header=True)\n",
    "loans_df = spark.read.csv(\"Loan_Dataset/df_temp_cluster_rating_condition_data.csv\", inferSchema=True, header=True)\n",
    "\n",
    "loans_df.printSchema()"
   ]
  },
  {
   "cell_type": "code",
   "execution_count": 6,
   "id": "_wOkxYLVyNiw",
   "metadata": {
    "colab": {
     "base_uri": "https://localhost:8080/"
    },
    "id": "_wOkxYLVyNiw",
    "outputId": "cfcd8bbe-05c0-4c1e-a4d8-7c7d05b6ffbd"
   },
   "outputs": [
    {
     "name": "stdout",
     "output_type": "stream",
     "text": [
      "+-------+------------------+-----------------+-------------------+--------------------+------------------+\n",
      "|summary|    Cluster_result|           Amount|Total_Repayments__c|Payment_Frequency__c|             count|\n",
      "+-------+------------------+-----------------+-------------------+--------------------+------------------+\n",
      "|  count|            481071|           481071|             481071|              481071|            481071|\n",
      "|   mean| 99.84271760301493|861.5759420127174|  7.075398433911003|                NULL|1.6787376499518782|\n",
      "| stddev|103.48255516647191|809.0576736930875|  4.136543039007542|                NULL|0.8991013265350534|\n",
      "|    min|                -1|              100|                  1|         Fortnightly|                 0|\n",
      "|    max|               735|             5000|                 45|              Weekly|                 8|\n",
      "+-------+------------------+-----------------+-------------------+--------------------+------------------+\n",
      "\n"
     ]
    }
   ],
   "source": [
    "loans_df.select([\"LoanIdFormat\",\"Amount\",\"Total_Repayments__c\",\"Payment_Frequency__c\",\"count\"]).describe().show(10)"
   ]
  },
  {
   "cell_type": "code",
   "execution_count": null,
   "id": "5eed5a11-8e0a-44b3-bf4c-ba0c3ccbc428",
   "metadata": {},
   "outputs": [],
   "source": []
  },
  {
   "cell_type": "markdown",
   "id": "4bfaf097-19ab-46bc-8aaf-cc8a2a427600",
   "metadata": {
    "id": "4bfaf097-19ab-46bc-8aaf-cc8a2a427600"
   },
   "source": [
    "- Id: Likely a unique identifier for each data point.\n",
    "- AccountID: Unique identifier for an account (possibly borrower).\n",
    "- <h4>Loan-related features: </h4>\n",
    "    -> Number_Of_Loans_Granted__c: Number of loans granted to the account.\n",
    "    -> Num_Of_Loans_Paid__c: Number of loans paid by the account.\n",
    "    -> Purpose_of_Loan__c: Category of the loan purpose (e.g., mortgage, education).\n",
    "    -> Total_Repayments__c: Total amount repaid by the account.\n",
    "    -> Amount: Loan amount requested.\n",
    "    -> Term_in_Weeks__c: Loan term in weeks.\n",
    "    -> Payment_Frequency__c: Frequency of loan repayment (e.g., weekly, monthly).\n",
    "- <h4>Borrower-related features: </h4>\n",
    "    ->\n",
    "StageName: Current stage of the loan application (e.g., application, approved, rejected).    ->\n",
    "Applicant Age: Age of the loan applicant    -> .\n",
    "summary_income: Summary of applicant's incom    -> e.\n",
    "summary_income_cv: Coefficient of variation of applicant's inco- <h4>me.\n",
    "Location-related feat </h4>u    -> res:\n",
    "city: City of the appli    -> cant.\n",
    "state: State of the appl    -> icant.\n",
    "Country: Country of the ap\n",
    "\n",
    "- <h4>Additional features:</h4>\n",
    "    ->\n",
    "userId: Unique identifier for a user Account Id in Numericr).    ->\n",
    "loanId: Unique identifier for a lo (Id or loanId in Numeric)an    -> .\n",
    "counFeature related to the Ratings of the Loansnt    -> s.\n",
    "LoanIdFormat: Format of the loan(Created LoanId using Clusters)nce).plicant."
   ]
  },
  {
   "cell_type": "code",
   "execution_count": 7,
   "id": "66fda6a1-a162-4b31-9076-0a3a230f16de",
   "metadata": {
    "colab": {
     "base_uri": "https://localhost:8080/"
    },
    "id": "66fda6a1-a162-4b31-9076-0a3a230f16de",
    "outputId": "be53b169-4850-4a81-af21-8c6bc59651d8"
   },
   "outputs": [
    {
     "name": "stdout",
     "output_type": "stream",
     "text": [
      "+------------+------+-------------------+--------------------+-----+\n",
      "|LoanIdFormat|Amount|Total_Repayments__c|Payment_Frequency__c|count|\n",
      "+------------+------+-------------------+--------------------+-----+\n",
      "|           1|   500|                 10|              Weekly|    3|\n",
      "|           1|   700|                 10|              Weekly|    3|\n",
      "|           1|   800|                 10|              Weekly|    3|\n",
      "|           1|   800|                 10|              Weekly|    3|\n",
      "|           1|   800|                 10|              Weekly|    3|\n",
      "|           1|   800|                 10|              Weekly|    3|\n",
      "|           1|   800|                 10|              Weekly|    3|\n",
      "|           1|   900|                 10|              Weekly|    3|\n",
      "|           1|  1000|                 10|              Weekly|    3|\n",
      "|           1|  1000|                 10|              Weekly|    3|\n",
      "+------------+------+-------------------+--------------------+-----+\n",
      "only showing top 10 rows\n",
      "\n"
     ]
    }
   ],
   "source": [
    "loans_df.select([\"LoanIdFormat\",\"Amount\",\"Total_Repayments__c\",\"Payment_Frequency__c\",\"count\"]).show(10)"
   ]
  },
  {
   "cell_type": "markdown",
   "id": "b9c00e8d-2a22-467e-a46a-8275b07e8a1d",
   "metadata": {
    "id": "b9c00e8d-2a22-467e-a46a-8275b07e8a1d"
   },
   "source": [
    "### Aggregating the loans per user (getting all loans for each user user)"
   ]
  },
  {
   "cell_type": "code",
   "execution_count": 8,
   "id": "1f3bbcf2-2094-4a5f-a1f9-4cc11caa6ecd",
   "metadata": {
    "id": "1f3bbcf2-2094-4a5f-a1f9-4cc11caa6ecd"
   },
   "outputs": [],
   "source": [
    "user_loans = loans_df.groupby(\"userId\").agg(F.collect_set(\"LoanIdFormat\").alias(\"loans\"))"
   ]
  },
  {
   "cell_type": "code",
   "execution_count": 9,
   "id": "3c03a160-ff69-437a-b5a7-771d7ded072e",
   "metadata": {
    "id": "3c03a160-ff69-437a-b5a7-771d7ded072e"
   },
   "outputs": [],
   "source": [
    "Actual_loans_taken = user_loans.toPandas().to_dict('records')"
   ]
  },
  {
   "cell_type": "markdown",
   "id": "29df3020-fddb-4fed-8476-d5f5fdc7787e",
   "metadata": {},
   "source": [
    "### EDA - Exploratory Data Analysis "
   ]
  },
  {
   "cell_type": "markdown",
   "id": "c8e16b8f-5128-4cac-9dd5-853ae81884da",
   "metadata": {},
   "source": [
    "<img src=\"https://editor.analyticsvidhya.com/uploads/24537Zoom-EDA.png\" height=500 width=\"500\" />"
   ]
  },
  {
   "cell_type": "code",
   "execution_count": 92,
   "id": "b17fa619-e0b5-459a-aa9b-1b30dfb9b411",
   "metadata": {
    "colab": {
     "base_uri": "https://localhost:8080/"
    },
    "id": "b17fa619-e0b5-459a-aa9b-1b30dfb9b411",
    "outputId": "9d5eec1e-cd5d-4d5d-d014-488ebbf8c76a"
   },
   "outputs": [
    {
     "name": "stdout",
     "output_type": "stream",
     "text": [
      "+-------+------------------+------------------+------------------+-----------------+-------------------+--------------------------+--------------------+\n",
      "|summary|            userId|      LoanIdFormat|             count|           Amount|Total_Repayments__c|Number_Of_Loans_Granted__c|Num_Of_Loans_Paid__c|\n",
      "+-------+------------------+------------------+------------------+-----------------+-------------------+--------------------------+--------------------+\n",
      "|  count|            559151|            559151|            559151|           559151|             559151|                    559151|              559151|\n",
      "|   mean|24735.774815747445| 4.527168868516734|1.6699120631099649|823.7755990778877| 7.0393507299459355|        11.901447015206983|   11.85676856519974|\n",
      "| stddev|  15283.9297309685|2.7984778294162855| 0.895401428067646|766.2637755312184| 3.9631196080149467|         8.154409123854771|    8.27333904337744|\n",
      "|    min|                 1|                 1|                 0|              100|                  1|                         0|                   3|\n",
      "|    max|             59174|                20|                 8|             5000|                 45|                        73|                  73|\n",
      "+-------+------------------+------------------+------------------+-----------------+-------------------+--------------------------+--------------------+\n",
      "\n"
     ]
    }
   ],
   "source": [
    "loans_df.select([\"userId\",\"LoanIdFormat\",\"count\",\"Amount\",\"Total_Repayments__c\",\"Number_Of_Loans_Granted__c\",\"Num_Of_Loans_Paid__c\"]).describe().show()"
   ]
  },
  {
   "cell_type": "markdown",
   "id": "79c26c2f-a109-404a-8bed-23d9f9f2e7aa",
   "metadata": {
    "id": "879b0ed5-5a6a-4f4f-a02a-1ef3be15bd8d"
   },
   "source": [
    "#### Plotting the Frequnecy of Count(Ratings)"
   ]
  },
  {
   "cell_type": "code",
   "execution_count": 95,
   "id": "8e20cc21-d8fc-478f-ae00-442e698e0c7b",
   "metadata": {
    "colab": {
     "base_uri": "https://localhost:8080/",
     "height": 472
    },
    "id": "8e20cc21-d8fc-478f-ae00-442e698e0c7b",
    "outputId": "2b35959a-6515-4167-f6fe-77670bdf5621"
   },
   "outputs": [
    {
     "data": {
      "image/png": "[encoded data removed]",
      "text/plain": [
       "<Figure size 640x480 with 1 Axes>"
      ]
     },
     "metadata": {},
     "output_type": "display_data"
    }
   ],
   "source": [
    "hist_data  = loans_df.toPandas()\n",
    "\n",
    "hist_data['count'].hist()\n",
    "plt.xlabel(\"count\")\n",
    "plt.ylabel(\"Frequency\")\n",
    "plt.title(f\"Histogram of count\")\n",
    "plt.show()"
   ]
  },
  {
   "cell_type": "markdown",
   "id": "933367fb-a834-46ad-956d-50aa18f5dcac",
   "metadata": {},
   "source": [
    "#### Counting the No. of user & No. of Loans & No. of Explicitely Created Loan Id (Clustered Loan Id's)"
   ]
  },
  {
   "cell_type": "code",
   "execution_count": 96,
   "id": "93606394-8fb4-4d30-8235-c8e1cdb15a13",
   "metadata": {
    "colab": {
     "base_uri": "https://localhost:8080/"
    },
    "id": "93606394-8fb4-4d30-8235-c8e1cdb15a13",
    "outputId": "a22f27c8-e289-4239-c523-26008a1dbcd1"
   },
   "outputs": [
    {
     "name": "stdout",
     "output_type": "stream",
     "text": [
      "Number of unique loanId_format: 20\n",
      "Number of unique Loan Id: 407389\n"
     ]
    }
   ],
   "source": [
    "# Count the number of unique items\n",
    "num_unique_loan_id_format = loans_df.select('LoanIdFormat').distinct().count()\n",
    "print(f\"Number of unique loanId_format: {num_unique_loan_id_format}\")\n",
    "\n",
    "# Count the number of unique users\n",
    "num_unique_id = loans_df.select('Id').distinct().count()\n",
    "print(f\"Number of unique Loan Id: {num_unique_id}\")"
   ]
  },
  {
   "cell_type": "code",
   "execution_count": 97,
   "id": "aa9f871b-ee01-470a-af88-09d50dc228cb",
   "metadata": {
    "colab": {
     "base_uri": "https://localhost:8080/"
    },
    "id": "aa9f871b-ee01-470a-af88-09d50dc228cb",
    "outputId": "b65a41c3-e5d6-45f7-c51d-197262023df3"
   },
   "outputs": [
    {
     "name": "stdout",
     "output_type": "stream",
     "text": [
      "Number of unique users: 59158\n"
     ]
    }
   ],
   "source": [
    "# Count the number of unique items\n",
    "tmp = loans_df.select('userId').distinct().count()\n",
    "print(f\"Number of unique users: {tmp}\")"
   ]
  },
  {
   "cell_type": "markdown",
   "id": "d8329935-38de-4370-bb9e-3d3f584b7331",
   "metadata": {},
   "source": [
    "#### Values of count(Rating) Column."
   ]
  },
  {
   "cell_type": "code",
   "execution_count": 14,
   "id": "41d386c0-47de-457f-a0f1-4efb4f9ff850",
   "metadata": {
    "colab": {
     "base_uri": "https://localhost:8080/"
    },
    "id": "41d386c0-47de-457f-a0f1-4efb4f9ff850",
    "outputId": "d7e9b873-14c7-44f8-f496-d6fc7871cc10"
   },
   "outputs": [
    {
     "name": "stdout",
     "output_type": "stream",
     "text": [
      "Distinct values of count:\n",
      "+-----+\n",
      "|count|\n",
      "+-----+\n",
      "|    0|\n",
      "|    1|\n",
      "|    2|\n",
      "|    3|\n",
      "|    4|\n",
      "|    5|\n",
      "|    6|\n",
      "|    7|\n",
      "|    8|\n",
      "+-----+\n",
      "\n"
     ]
    }
   ],
   "source": [
    "print('Distinct values of count:')\n",
    "loans_df.select('count').distinct().orderBy(\"count\").show()"
   ]
  },
  {
   "cell_type": "markdown",
   "id": "6ea6197c-53b9-4c06-a20d-1e1f2233d371",
   "metadata": {
    "id": "6ea6197c-53b9-4c06-a20d-1e1f2233d371"
   },
   "source": [
    "### Converting the dataset into train test and validation split."
   ]
  },
  {
   "cell_type": "code",
   "execution_count": 19,
   "id": "25b7a938-17f5-460f-a3bf-78ebd6628477",
   "metadata": {
    "colab": {
     "base_uri": "https://localhost:8080/"
    },
    "id": "25b7a938-17f5-460f-a3bf-78ebd6628477",
    "outputId": "ca050fbb-ec36-449a-a158-bd295d61f4c7"
   },
   "outputs": [
    {
     "name": "stdout",
     "output_type": "stream",
     "text": [
      "+------------+-----+------+\n",
      "|LoanIdFormat|count|Amount|\n",
      "+------------+-----+------+\n",
      "|           1|    3|   500|\n",
      "|           1|    3|   700|\n",
      "|           1|    3|   800|\n",
      "|           1|    3|   800|\n",
      "|           1|    3|   800|\n",
      "|           1|    3|   800|\n",
      "|           1|    3|   800|\n",
      "|           1|    3|   900|\n",
      "|           1|    3|  1000|\n",
      "|           1|    3|  1000|\n",
      "+------------+-----+------+\n",
      "only showing top 10 rows\n",
      "\n"
     ]
    }
   ],
   "source": [
    "# we have to use 3 columns or features to put into the ALs Model.\n",
    "loans_df.select([\"LoanIdFormat\",\"count\",\"Amount\"]).show(10)"
   ]
  },
  {
   "cell_type": "code",
   "execution_count": 101,
   "id": "471dc8a3-2474-41c2-a4c2-d3f09756df0d",
   "metadata": {
    "colab": {
     "base_uri": "https://localhost:8080/"
    },
    "id": "471dc8a3-2474-41c2-a4c2-d3f09756df0d",
    "outputId": "52665e11-2fa3-44d2-a6ec-2ca780e2ed12"
   },
   "outputs": [
    {
     "data": {
      "text/plain": [
       "DataFrame[Id: string, AccountID: string, Number_Of_Loans_Granted__c: int, Num_Of_Loans_Paid__c: int, Purpose_of_Loan__c: string, Total_Repayments__c: int, Amount: int, Term_in_Weeks__c: double, Payment_Frequency__c: string, StageName: string, Applicant Age: int, summary_income: double, summary_income_cv: double, city: string, state: string, Country: string, userId: int, loanId: int, count: int, LoanIdFormat: int]"
      ]
     },
     "execution_count": 101,
     "metadata": {},
     "output_type": "execute_result"
    }
   ],
   "source": [
    "train, validation = loans_df.randomSplit([0.8, 0.2])\n",
    "# train, validation, test = loans_df.randomSplit([0.8, 0.1, 0.1])\n",
    "# # cache data\n",
    "train.cache()\n",
    "validation.cache()\n",
    "# test.cache()"
   ]
  },
  {
   "cell_type": "code",
   "execution_count": 102,
   "id": "b2ad213d-bf88-4d40-b43e-609a301116fe",
   "metadata": {
    "colab": {
     "base_uri": "https://localhost:8080/"
    },
    "id": "b2ad213d-bf88-4d40-b43e-609a301116fe",
    "outputId": "6f47e580-7040-4096-a3cd-b17a451c7b0d"
   },
   "outputs": [
    {
     "name": "stdout",
     "output_type": "stream",
     "text": [
      "+------+------+------------+-----+------+-------------------+\n",
      "|userId|loanId|LoanIdFormat|count|Amount|Total_Repayments__c|\n",
      "+------+------+------------+-----+------+-------------------+\n",
      "|   138|    14|           1|    1|  1000|                 10|\n",
      "| 25117|    33|           1|    3|   650|                 10|\n",
      "|   160|    49|           6|    3|   300|                  2|\n",
      "|   161|    50|           6|    1|   500|                  3|\n",
      "| 23844|    56|           1|    1|   700|                 10|\n",
      "|   177|    69|           6|    3|   400|                  4|\n",
      "| 25097|    90|           1|    2|   200|                 10|\n",
      "|   186|    99|           1|    1|   350|                 10|\n",
      "|     5|   110|           6|    2|   250|                  5|\n",
      "| 23556|   133|           1|    1|  1000|                 10|\n",
      "|    17|   136|           1|    2|   300|                 10|\n",
      "|    20|   145|           6|    1|   500|                  2|\n",
      "|    21|   153|           6|    2|   350|                  4|\n",
      "|    35|   172|           6|    2|   200|                  2|\n",
      "|    36|   174|           6|    1|   500|                  2|\n",
      "|    37|   175|           6|    3|   300|                  4|\n",
      "|    39|   176|           1|    3|   200|                 10|\n",
      "| 24289|   184|           1|    2|   200|                 10|\n",
      "| 25300|   194|           1|    2|   200|                 10|\n",
      "|    58|   206|           6|    3|   500|                  2|\n",
      "+------+------+------------+-----+------+-------------------+\n",
      "only showing top 20 rows\n",
      "\n"
     ]
    }
   ],
   "source": [
    "validation.select([\"userId\",\"loanId\",\"LoanIdFormat\",\"count\",\"Amount\",\"Total_Repayments__c\"]).show()"
   ]
  },
  {
   "cell_type": "code",
   "execution_count": 103,
   "id": "b4ec2ccf-e2df-4169-82d1-84b24e8cdf75",
   "metadata": {
    "colab": {
     "base_uri": "https://localhost:8080/"
    },
    "id": "b4ec2ccf-e2df-4169-82d1-84b24e8cdf75",
    "outputId": "f19eaff2-a5e0-49f3-f62e-b001cff34f4f"
   },
   "outputs": [
    {
     "name": "stdout",
     "output_type": "stream",
     "text": [
      "root\n",
      " |-- Id: string (nullable = true)\n",
      " |-- AccountID: string (nullable = true)\n",
      " |-- Number_Of_Loans_Granted__c: integer (nullable = true)\n",
      " |-- Num_Of_Loans_Paid__c: integer (nullable = true)\n",
      " |-- Purpose_of_Loan__c: string (nullable = true)\n",
      " |-- Total_Repayments__c: integer (nullable = true)\n",
      " |-- Amount: integer (nullable = true)\n",
      " |-- Term_in_Weeks__c: double (nullable = true)\n",
      " |-- Payment_Frequency__c: string (nullable = true)\n",
      " |-- StageName: string (nullable = true)\n",
      " |-- Applicant Age: integer (nullable = true)\n",
      " |-- summary_income: double (nullable = true)\n",
      " |-- summary_income_cv: double (nullable = true)\n",
      " |-- city: string (nullable = true)\n",
      " |-- state: string (nullable = true)\n",
      " |-- Country: string (nullable = true)\n",
      " |-- userId: integer (nullable = true)\n",
      " |-- loanId: integer (nullable = true)\n",
      " |-- count: integer (nullable = true)\n",
      " |-- LoanIdFormat: integer (nullable = true)\n",
      "\n"
     ]
    }
   ],
   "source": [
    "loans_df.printSchema()"
   ]
  },
  {
   "cell_type": "code",
   "execution_count": 104,
   "id": "e2226eb6-5980-4249-bd83-5f3b6862faf1",
   "metadata": {
    "id": "e2226eb6-5980-4249-bd83-5f3b6862faf1"
   },
   "outputs": [],
   "source": [
    "def train_ALS(train_data, validation_data, num_iters, reg_param, ranks):\n",
    "    \"\"\"\n",
    "    Grid Search Function to select the best model based on RMSE of hold-out data\n",
    "    \"\"\"\n",
    "    # initial\n",
    "    min_error = float('inf')\n",
    "    best_rank = -1\n",
    "    best_regularization = 0\n",
    "    best_model = None\n",
    "    for rank in ranks:\n",
    "        for reg in reg_param:\n",
    "            # Train the model using the training data\n",
    "            als_model = ALS(maxIter=num_iters,regParam=reg, rank=rank,\n",
    "                                        userCol='userId', itemCol='LoanIdFormat', ratingCol='count', seed=99,\n",
    "                           coldStartStrategy=\"drop\",nonnegative=True)\n",
    "            model = als_model.fit(train_data)\n",
    "\n",
    "            # Generate predictions on the test data\n",
    "            predictions = model.transform(validation_data)\n",
    "            predictions = predictions.withColumn(\"prediction\", expr(\"CASE WHEN prediction < 0 THEN 0 WHEN prediction > 9 THEN 9 ELSE prediction END\"))\n",
    "\n",
    "            evaluator = RegressionEvaluator(metricName='rmse', labelCol='count', predictionCol='prediction')\n",
    "            error = evaluator.evaluate(predictions)\n",
    "\n",
    "            print('{} latent factors and regularization = {}: validation RMSE is {}'.format(rank, reg, error))\n",
    "            if error < min_error:\n",
    "                min_error = error\n",
    "                best_rank = rank\n",
    "                best_regularization = reg\n",
    "                best_model = model\n",
    "    print('\\nThe best model has {} latent factors and regularization = {}'.format(best_rank, best_regularization))\n",
    "    return best_model"
   ]
  },
  {
   "cell_type": "code",
   "execution_count": 105,
   "id": "fb8832fe-fe68-4372-9d4d-294633e187b0",
   "metadata": {
    "colab": {
     "base_uri": "https://localhost:8080/"
    },
    "id": "fb8832fe-fe68-4372-9d4d-294633e187b0",
    "outputId": "3e5ff3d7-03e0-47ff-e991-54d111806a49"
   },
   "outputs": [
    {
     "name": "stdout",
     "output_type": "stream",
     "text": [
      "8 latent factors and regularization = 0.001: validation RMSE is 0.020706025067694606\n",
      "8 latent factors and regularization = 0.01: validation RMSE is 0.054385655069052796\n",
      "8 latent factors and regularization = 0.05: validation RMSE is 0.07864480544984702\n",
      "8 latent factors and regularization = 0.1: validation RMSE is 0.1014220329912908\n",
      "8 latent factors and regularization = 0.2: validation RMSE is 0.19845778299390562\n",
      "10 latent factors and regularization = 0.001: validation RMSE is 0.010387072532566972\n",
      "10 latent factors and regularization = 0.01: validation RMSE is 0.04199438998594122\n",
      "10 latent factors and regularization = 0.05: validation RMSE is 0.07019948270174567\n",
      "10 latent factors and regularization = 0.1: validation RMSE is 0.09879898783941538\n",
      "10 latent factors and regularization = 0.2: validation RMSE is 0.19882853381863105\n",
      "20 latent factors and regularization = 0.001: validation RMSE is 0.12471789546455628\n",
      "20 latent factors and regularization = 0.01: validation RMSE is 0.03702434684462637\n",
      "20 latent factors and regularization = 0.05: validation RMSE is 0.08936354391864114\n",
      "20 latent factors and regularization = 0.1: validation RMSE is 0.10639064245620809\n",
      "20 latent factors and regularization = 0.2: validation RMSE is 0.19859466316271004\n",
      "40 latent factors and regularization = 0.001: validation RMSE is 0.14346311239550133\n",
      "40 latent factors and regularization = 0.01: validation RMSE is 0.05781656281267789\n",
      "40 latent factors and regularization = 0.05: validation RMSE is 0.09038517388086653\n",
      "40 latent factors and regularization = 0.1: validation RMSE is 0.10515135572926913\n",
      "40 latent factors and regularization = 0.2: validation RMSE is 0.19865976822522952\n",
      "60 latent factors and regularization = 0.001: validation RMSE is 0.12394498743961009\n",
      "60 latent factors and regularization = 0.01: validation RMSE is 0.054774110331186114\n",
      "60 latent factors and regularization = 0.05: validation RMSE is 0.0908287472732009\n",
      "60 latent factors and regularization = 0.1: validation RMSE is 0.10532238341593474\n",
      "60 latent factors and regularization = 0.2: validation RMSE is 0.19852763288017433\n",
      "\n",
      "The best model has 10 latent factors and regularization = 0.001\n",
      "Total Runtime: 820.63 seconds\n"
     ]
    }
   ],
   "source": [
    "# hyper-param config\n",
    "num_iterations = 10\n",
    "ranks = [8, 10, 20, 40, 60]\n",
    "reg_params = [0.001, 0.01, 0.05, 0.1, 0.2]\n",
    "\n",
    "# grid search and select best model\n",
    "start_time = time.time()\n",
    "final_model = train_ALS(train, validation, num_iterations, reg_params, ranks)\n",
    "\n",
    "print ('Total Runtime: {:.2f} seconds'.format(time.time() - start_time))"
   ]
  },
  {
   "cell_type": "code",
   "execution_count": 106,
   "id": "c7cf3c57-11f2-46bd-b434-1cebf52a0c13",
   "metadata": {
    "id": "c7cf3c57-11f2-46bd-b434-1cebf52a0c13"
   },
   "outputs": [],
   "source": [
    "#OLD :  40 latent factors and regularization = 0.001\n",
    "#NEW: The best model has 8 latent factors and regularization = 0.001"
   ]
  },
  {
   "cell_type": "markdown",
   "id": "bc2b0ef2-8126-4a7e-b2c9-49851bf63c18",
   "metadata": {
    "id": "bc2b0ef2-8126-4a7e-b2c9-49851bf63c18"
   },
   "source": [
    "## Predicting the results from validation data"
   ]
  },
  {
   "cell_type": "code",
   "execution_count": 107,
   "id": "57ba7905-f3e0-4a23-8b3d-0c41ffa5d0ca",
   "metadata": {
    "id": "57ba7905-f3e0-4a23-8b3d-0c41ffa5d0ca"
   },
   "outputs": [],
   "source": [
    "predictions = final_model.transform(validation)\n",
    "# predictions = predictions.withColumn(\"prediction\", expr(\"CASE WHEN prediction < 0 THEN 0 WHEN prediction > 9 THEN 9 ELSE prediction END\"))"
   ]
  },
  {
   "cell_type": "code",
   "execution_count": 108,
   "id": "6cd93785-db30-4571-b897-8ccf3d28e6fa",
   "metadata": {
    "colab": {
     "base_uri": "https://localhost:8080/"
    },
    "id": "6cd93785-db30-4571-b897-8ccf3d28e6fa",
    "outputId": "96d1432d-747d-42dd-9a7f-928f2ac2b98e"
   },
   "outputs": [
    {
     "name": "stdout",
     "output_type": "stream",
     "text": [
      "+------+------+-----+------------+----------+\n",
      "|userId|loanId|count|LoanIdFormat|prediction|\n",
      "+------+------+-----+------------+----------+\n",
      "|    10|   932|    4|           6| 3.9845467|\n",
      "|    10| 17247|    4|           6| 3.9845467|\n",
      "|    10| 23209|    4|           6| 3.9845467|\n",
      "|    10| 24267|    4|           1| 3.9819665|\n",
      "|    10| 42894|    4|           1| 3.9819665|\n",
      "|    10|120247|    4|           1| 3.9819665|\n",
      "|    10|160635|    4|           1| 3.9819665|\n",
      "|    10|230713|    4|           1| 3.9819665|\n",
      "|    10|371513|    4|           1| 3.9819665|\n",
      "|    10|371513|    4|           6| 3.9845467|\n",
      "|    10|383859|    4|           2| 3.9786851|\n",
      "+------+------+-----+------------+----------+\n",
      "\n"
     ]
    }
   ],
   "source": [
    "predictions.filter(predictions.userId == 10).select(\"userId\", \"loanId\", \"count\", \"LoanIdFormat\", \"prediction\").show(20)"
   ]
  },
  {
   "cell_type": "code",
   "execution_count": 109,
   "id": "e19b27ef-bf27-4cfe-8e4f-b9ac81705f5c",
   "metadata": {
    "colab": {
     "base_uri": "https://localhost:8080/"
    },
    "id": "e19b27ef-bf27-4cfe-8e4f-b9ac81705f5c",
    "outputId": "2ec3419c-d13f-45c9-a87e-0e0761428e1b"
   },
   "outputs": [
    {
     "data": {
      "text/plain": [
       "111329"
      ]
     },
     "execution_count": 109,
     "metadata": {},
     "output_type": "execute_result"
    }
   ],
   "source": [
    "predictions.count()"
   ]
  },
  {
   "cell_type": "code",
   "execution_count": 110,
   "id": "067e5d6e-f081-4b75-bd3f-6d9f38b0cb17",
   "metadata": {
    "colab": {
     "base_uri": "https://localhost:8080/"
    },
    "id": "067e5d6e-f081-4b75-bd3f-6d9f38b0cb17",
    "outputId": "9cc16363-400e-4a68-8995-cddf869901e5"
   },
   "outputs": [
    {
     "data": {
      "text/plain": [
       "111859"
      ]
     },
     "execution_count": 110,
     "metadata": {},
     "output_type": "execute_result"
    }
   ],
   "source": [
    "validation.count()"
   ]
  },
  {
   "cell_type": "markdown",
   "id": "ec61d4fc-bf4d-4d22-a160-2df1e5e19246",
   "metadata": {
    "id": "ec61d4fc-bf4d-4d22-a160-2df1e5e19246"
   },
   "source": [
    "## Error Evaluation with RMSE"
   ]
  },
  {
   "cell_type": "markdown",
   "id": "e2d55e52-4dec-48df-8df2-88866b499378",
   "metadata": {
    "id": "e2d55e52-4dec-48df-8df2-88866b499378"
   },
   "source": [
    "<img src=\"https://docs.oracle.com/en/cloud/saas/planning-budgeting-cloud/pfusu/img/insights_rmse_formula.jpg\" height=\"300\" width=\"300\" />"
   ]
  },
  {
   "cell_type": "code",
   "execution_count": 111,
   "id": "5e28740c-bd7f-4213-986a-04b0b8453f48",
   "metadata": {
    "colab": {
     "base_uri": "https://localhost:8080/"
    },
    "id": "5e28740c-bd7f-4213-986a-04b0b8453f48",
    "outputId": "919fe55b-832c-41b1-b13e-c65d2061fa3b"
   },
   "outputs": [
    {
     "name": "stdout",
     "output_type": "stream",
     "text": [
      "Root Mean Squared Error (RMSE) = 0.010387072532566972\n"
     ]
    }
   ],
   "source": [
    "\n",
    "# Evaluate the model using Root Mean Squared Error (RMSE)\n",
    "evaluator = RegressionEvaluator(metricName=\"rmse\", labelCol=\"count\", predictionCol=\"prediction\")\n",
    "rmse = evaluator.evaluate(predictions)\n",
    "print(\"Root Mean Squared Error (RMSE) = \" + str(rmse))\n"
   ]
  },
  {
   "cell_type": "markdown",
   "id": "c8069530-1743-4e8b-81de-d8726a15a25e",
   "metadata": {
    "id": "c8069530-1743-4e8b-81de-d8726a15a25e"
   },
   "source": [
    "## Recommendation of N users"
   ]
  },
  {
   "cell_type": "code",
   "execution_count": 112,
   "id": "5fbbfcf7-90ab-4c5e-a5e4-d781f369fb39",
   "metadata": {
    "id": "5fbbfcf7-90ab-4c5e-a5e4-d781f369fb39"
   },
   "outputs": [],
   "source": [
    "userRecommends = final_model.recommendForAllUsers(5)\n",
    "loanRecommends = final_model.recommendForAllItems(5)"
   ]
  },
  {
   "cell_type": "code",
   "execution_count": 113,
   "id": "ba1eaaf8-ecef-43e9-9070-e70c3c6d8315",
   "metadata": {
    "colab": {
     "base_uri": "https://localhost:8080/"
    },
    "id": "ba1eaaf8-ecef-43e9-9070-e70c3c6d8315",
    "outputId": "a0e7e3d1-e16a-4114-bc65-15e9715c18a7"
   },
   "outputs": [
    {
     "name": "stdout",
     "output_type": "stream",
     "text": [
      "root\n",
      " |-- userId: integer (nullable = false)\n",
      " |-- recommendations: array (nullable = true)\n",
      " |    |-- element: struct (containsNull = true)\n",
      " |    |    |-- LoanIdFormat: integer (nullable = true)\n",
      " |    |    |-- rating: float (nullable = true)\n",
      "\n"
     ]
    }
   ],
   "source": [
    "userRecommends.printSchema()"
   ]
  },
  {
   "cell_type": "code",
   "execution_count": 114,
   "id": "e1d49ac8-fae2-43c6-97dd-016464edf5ea",
   "metadata": {
    "colab": {
     "base_uri": "https://localhost:8080/"
    },
    "id": "e1d49ac8-fae2-43c6-97dd-016464edf5ea",
    "outputId": "05f7e327-fc70-4e45-f9f3-2b3bcd5401e3"
   },
   "outputs": [
    {
     "name": "stdout",
     "output_type": "stream",
     "text": [
      "root\n",
      " |-- Id: string (nullable = true)\n",
      " |-- AccountID: string (nullable = true)\n",
      " |-- Number_Of_Loans_Granted__c: integer (nullable = true)\n",
      " |-- Num_Of_Loans_Paid__c: integer (nullable = true)\n",
      " |-- Purpose_of_Loan__c: string (nullable = true)\n",
      " |-- Total_Repayments__c: integer (nullable = true)\n",
      " |-- Amount: integer (nullable = true)\n",
      " |-- Term_in_Weeks__c: double (nullable = true)\n",
      " |-- Payment_Frequency__c: string (nullable = true)\n",
      " |-- StageName: string (nullable = true)\n",
      " |-- Applicant Age: integer (nullable = true)\n",
      " |-- summary_income: double (nullable = true)\n",
      " |-- summary_income_cv: double (nullable = true)\n",
      " |-- city: string (nullable = true)\n",
      " |-- state: string (nullable = true)\n",
      " |-- Country: string (nullable = true)\n",
      " |-- userId: integer (nullable = true)\n",
      " |-- loanId: integer (nullable = true)\n",
      " |-- count: integer (nullable = true)\n",
      " |-- LoanIdFormat: integer (nullable = true)\n",
      "\n"
     ]
    }
   ],
   "source": [
    "validation.printSchema()"
   ]
  },
  {
   "cell_type": "markdown",
   "id": "b0c44455-54f9-4bc2-834e-6a6a123cba2e",
   "metadata": {
    "id": "b0c44455-54f9-4bc2-834e-6a6a123cba2e"
   },
   "source": [
    "## ALS Model Evaluation"
   ]
  },
  {
   "cell_type": "code",
   "execution_count": 115,
   "id": "7fd677b6-2055-4995-bd1d-7367cbc3d903",
   "metadata": {
    "id": "7fd677b6-2055-4995-bd1d-7367cbc3d903"
   },
   "outputs": [],
   "source": [
    "# Assuming you have a DataFrame 'validation_data' containing the ground truth interactions\n",
    "# and a DataFrame 'recommendations' containing the top-N recommendations generated by the ALS model\n",
    "\n",
    "# Join recommendations with ground truth data to identify true positives\n",
    "true_positives = predictions.join(validation, ['userId', 'LoanIdFormat'], 'inner')"
   ]
  },
  {
   "cell_type": "code",
   "execution_count": 116,
   "id": "33526f67-bf22-491e-9aec-b02d8ae9eb9f",
   "metadata": {
    "id": "33526f67-bf22-491e-9aec-b02d8ae9eb9f"
   },
   "outputs": [],
   "source": [
    "# Calculate the number of true positives per user\n",
    "tp_per_user = true_positives.groupBy('userId').agg(expr('count(LoanIdFormat) as true_positives'))"
   ]
  },
  {
   "cell_type": "code",
   "execution_count": 117,
   "id": "1312c8e0-c174-4d01-b079-c48d12cbd582",
   "metadata": {
    "id": "1312c8e0-c174-4d01-b079-c48d12cbd582"
   },
   "outputs": [],
   "source": [
    " # Calculate the total number of relevant items per user in the ground truth data\n",
    "relevant_per_user = validation.groupBy('userId').agg(expr('count(LoanIdFormat) as relevant'))"
   ]
  },
  {
   "cell_type": "code",
   "execution_count": 118,
   "id": "331e28a0-b31f-4ca7-b426-6aaa869ca599",
   "metadata": {
    "id": "331e28a0-b31f-4ca7-b426-6aaa869ca599"
   },
   "outputs": [],
   "source": [
    "# Calculate Precision per user\n",
    "precision_per_user = tp_per_user.join(relevant_per_user, 'userId', 'inner') \\\n",
    "    .selectExpr('userId', 'true_positives / relevant as precision')"
   ]
  },
  {
   "cell_type": "code",
   "execution_count": 119,
   "id": "6a7d7e11-6e29-41a3-84b7-20b42d84e5da",
   "metadata": {
    "id": "6a7d7e11-6e29-41a3-84b7-20b42d84e5da"
   },
   "outputs": [],
   "source": [
    "# Calculate Recall per user\n",
    "recall_per_user = tp_per_user.join(relevant_per_user, 'userId', 'inner') \\\n",
    "    .selectExpr('userId', 'true_positives / relevant as recall')"
   ]
  },
  {
   "cell_type": "code",
   "execution_count": 120,
   "id": "4fa119c7-560c-4eea-83ca-246357a53682",
   "metadata": {
    "id": "4fa119c7-560c-4eea-83ca-246357a53682"
   },
   "outputs": [],
   "source": [
    "# Calculate F1-score per user\n",
    "f1_score_per_user = precision_per_user.join(recall_per_user, 'userId', 'inner') \\\n",
    "    .selectExpr('userId', '(2 * precision * recall) / (precision + recall) as f1_score')"
   ]
  },
  {
   "cell_type": "code",
   "execution_count": 121,
   "id": "a855a9fa-c9d4-4866-be4b-bbcbb1846b33",
   "metadata": {
    "id": "a855a9fa-c9d4-4866-be4b-bbcbb1846b33"
   },
   "outputs": [],
   "source": [
    "# Calculate overall Precision, Recall, and F1-score\n",
    "overall_precision = precision_per_user.agg({'precision': 'avg'}).collect()[0][0]\n",
    "overall_recall = recall_per_user.agg({'recall': 'avg'}).collect()[0][0]\n",
    "overall_f1_score = f1_score_per_user.agg({'f1_score': 'avg'}).collect()[0][0]\n"
   ]
  },
  {
   "cell_type": "code",
   "execution_count": 122,
   "id": "837dfdff-a6fa-4a8f-961c-c7eb98d16cb7",
   "metadata": {
    "colab": {
     "base_uri": "https://localhost:8080/"
    },
    "id": "837dfdff-a6fa-4a8f-961c-c7eb98d16cb7",
    "outputId": "d34ff23a-9a29-4d1b-e641-e38f8a299fbe"
   },
   "outputs": [
    {
     "name": "stdout",
     "output_type": "stream",
     "text": [
      "Overall Precision: 1.843213951292485\n",
      "Overall Recall: 1.843213951292485\n",
      "Overall F1-score: 1.8432139512925023\n"
     ]
    }
   ],
   "source": [
    "\n",
    "# Print the results\n",
    "print(\"Overall Precision:\", overall_precision)\n",
    "print(\"Overall Recall:\", overall_recall)\n",
    "print(\"Overall F1-score:\", overall_f1_score)\n"
   ]
  },
  {
   "cell_type": "code",
   "execution_count": 122,
   "id": "853c846f-1b77-4f36-b7ee-7f5ca2fb0bd6",
   "metadata": {
    "id": "853c846f-1b77-4f36-b7ee-7f5ca2fb0bd6"
   },
   "outputs": [],
   "source": []
  },
  {
   "cell_type": "markdown",
   "id": "2e334b00-3dd4-4be8-8d57-180e6e60af92",
   "metadata": {
    "id": "2e334b00-3dd4-4be8-8d57-180e6e60af92"
   },
   "source": [
    "## User Factors and Item Factors to calculate the cosine Similarity"
   ]
  },
  {
   "cell_type": "code",
   "execution_count": 123,
   "id": "d38ab8b5-cb23-4a04-93f2-741727bd1303",
   "metadata": {
    "id": "d38ab8b5-cb23-4a04-93f2-741727bd1303"
   },
   "outputs": [],
   "source": [
    "userFactors = final_model.userFactors\n",
    "itemFactors = final_model.itemFactors"
   ]
  },
  {
   "cell_type": "code",
   "execution_count": 124,
   "id": "d9d7f917-6be2-4d99-b6eb-623c0db8f71d",
   "metadata": {
    "colab": {
     "base_uri": "https://localhost:8080/"
    },
    "id": "d9d7f917-6be2-4d99-b6eb-623c0db8f71d",
    "outputId": "4ef45b4f-c004-4707-ec58-27f7e0b81973"
   },
   "outputs": [
    {
     "name": "stdout",
     "output_type": "stream",
     "text": [
      "root\n",
      " |-- id: integer (nullable = false)\n",
      " |-- features: array (nullable = true)\n",
      " |    |-- element: float (containsNull = false)\n",
      "\n"
     ]
    }
   ],
   "source": [
    "userFactors.printSchema()"
   ]
  },
  {
   "cell_type": "code",
   "execution_count": 125,
   "id": "85c66b3c-aa13-4c9b-855f-3a4b97d32658",
   "metadata": {
    "colab": {
     "base_uri": "https://localhost:8080/"
    },
    "id": "85c66b3c-aa13-4c9b-855f-3a4b97d32658",
    "outputId": "b6686d8e-0a3b-4df8-e12d-4866b8289e94"
   },
   "outputs": [
    {
     "name": "stdout",
     "output_type": "stream",
     "text": [
      "+---+-------------------------------------------------------------------------------------------------------+\n",
      "|id |features                                                                                               |\n",
      "+---+-------------------------------------------------------------------------------------------------------+\n",
      "|1  |[0.41152278, 0.68797904, 0.0, 1.8847104, 1.6111966, 3.5177104, 2.4194748, 0.0, 3.48024, 0.035209756]   |\n",
      "|2  |[0.26635957, 0.49407104, 0.0, 1.2624557, 1.0567558, 2.3362453, 1.6007545, 0.0, 2.3329155, 0.037628822] |\n",
      "|3  |[0.124904685, 0.2666729, 0.0, 0.6305488, 0.5370493, 1.146011, 0.8014987, 0.0, 1.178046, 0.028614597]   |\n",
      "|4  |[0.12503843, 0.26983488, 0.0, 0.6330847, 0.52934295, 1.1469394, 0.8008585, 0.0, 1.178747, 0.029212056] |\n",
      "|5  |[0.25293696, 0.5337611, 0.0, 1.2659857, 1.0568147, 2.3013184, 1.600736, 0.0, 2.3536904, 0.056046523]   |\n",
      "|6  |[0.12825137, 0.263192, 0.0, 0.63287205, 0.5272349, 1.1552886, 0.7997482, 0.0, 1.1744606, 0.026539823]  |\n",
      "|7  |[0.12646848, 0.26688054, 0.0, 0.63299286, 0.52840734, 1.1506592, 0.800368, 0.0, 1.1768452, 0.028023262]|\n",
      "|8  |[0.27020657, 0.4707227, 0.0, 1.258791, 1.0655049, 2.3462965, 1.6054227, 0.0, 2.3240762, 0.025076462]   |\n",
      "|9  |[0.12503843, 0.26983488, 0.0, 0.6330847, 0.52934295, 1.1469394, 0.8008585, 0.0, 1.178747, 0.029212056] |\n",
      "|10 |[0.5161984, 1.0461537, 0.0, 2.5312612, 2.10683, 4.6294312, 3.1978688, 0.0, 4.6935506, 0.10350048]      |\n",
      "+---+-------------------------------------------------------------------------------------------------------+\n",
      "only showing top 10 rows\n",
      "\n"
     ]
    }
   ],
   "source": [
    "userFactors.select(\"id\",\"features\").sort(\"id\").show(10,truncate=False)"
   ]
  },
  {
   "cell_type": "code",
   "execution_count": 126,
   "id": "6db6aaa7-c7c0-4410-ba60-07d51fa6a1bf",
   "metadata": {
    "colab": {
     "base_uri": "https://localhost:8080/"
    },
    "id": "6db6aaa7-c7c0-4410-ba60-07d51fa6a1bf",
    "outputId": "3ed2e580-1db4-4412-e211-867b43e3c796"
   },
   "outputs": [
    {
     "name": "stdout",
     "output_type": "stream",
     "text": [
      "+---+-----------------------------------------------------------------------------------------------------------------------------+\n",
      "|id |features                                                                                                                     |\n",
      "+---+-----------------------------------------------------------------------------------------------------------------------------+\n",
      "|1  |[0.03231044, 0.060838636, 0.0, 0.15280296, 0.12649998, 0.28254625, 0.19274655, 0.0, 0.28195864, 0.0053077503]                |\n",
      "|2  |[0.032821942, 0.054168675, 0.0, 0.15139672, 0.13002832, 0.28369233, 0.1944977, 0.0, 0.2796246, 0.0015188284]                 |\n",
      "|3  |[0.009798056, 0.06945352, 0.078622356, 0.06240966, 0.34229618, 0.2787929, 0.06767103, 0.15232277, 0.3183133, 0.002801399]    |\n",
      "|4  |[0.03361309, 0.05742784, 0.0, 0.15593146, 0.12523368, 0.28604463, 0.19283251, 0.0, 0.27713412, 9.212016E-4]                  |\n",
      "|5  |[0.03833395, 0.0627036, 0.0, 0.15586229, 0.12456785, 0.28474355, 0.19246183, 0.0, 0.27704784, 0.00172898]                    |\n",
      "|6  |[0.030248731, 0.06527723, 0.0, 0.15315299, 0.12805624, 0.2774624, 0.19374005, 0.0, 0.28515714, 0.007066848]                  |\n",
      "|7  |[0.030044725, 0.060908236, 0.0, 0.14957859, 0.13850378, 0.27599904, 0.19448008, 0.0, 0.28399944, 0.006245003]                |\n",
      "|8  |[0.0366263, 0.044995025, 0.0, 0.15312761, 0.1324416, 0.28216034, 0.19957463, 0.0, 0.27633452, 0.0]                           |\n",
      "|9  |[0.32550147, 0.041895423, 0.069015466, 0.12383213, 0.2390844, 0.2747337, 0.16543382, 0.057466388, 0.2585857, 0.008114739]    |\n",
      "|10 |[0.042615913, 0.06328993, 0.012059454, 0.1515382, 0.12828802, 0.28422773, 0.19131893, 0.0041145864, 0.27800632, 0.0049739396]|\n",
      "+---+-----------------------------------------------------------------------------------------------------------------------------+\n",
      "only showing top 10 rows\n",
      "\n"
     ]
    }
   ],
   "source": [
    "itemFactors.select(\"id\",\"features\").sort(\"id\").show(10,truncate=False)"
   ]
  },
  {
   "cell_type": "code",
   "execution_count": 127,
   "id": "60592c8e-a208-4fe0-b173-c1d879da2780",
   "metadata": {
    "id": "60592c8e-a208-4fe0-b173-c1d879da2780"
   },
   "outputs": [],
   "source": [
    "import math"
   ]
  },
  {
   "cell_type": "code",
   "execution_count": 128,
   "id": "5a4cc29a-e3d0-4729-944b-13c475cda0ce",
   "metadata": {
    "colab": {
     "base_uri": "https://localhost:8080/"
    },
    "id": "5a4cc29a-e3d0-4729-944b-13c475cda0ce",
    "outputId": "48f947af-524d-47e1-bbf7-4387025482b3"
   },
   "outputs": [
    {
     "name": "stdout",
     "output_type": "stream",
     "text": [
      "Recommendation :: 0.9998678962582557\n"
     ]
    }
   ],
   "source": [
    "ur1,ur2,ur3,ur4,ur5,ur6,ur7,ur8 = [2.4307725, 7.9098544, 1.2765553, 0.024636148, 2.5557365, 3.767766, 0.072329044, 0.43128264]\n",
    "ir1,ir2,ir3,ir4,ir5,ir6,ir7,ir8 = [0.10816363, 0.34584498, 0.053393964, 8.7923976E-4, 0.10868017, 0.16457365, 0.004021759, 0.024006216]\n",
    "cosineSimily = ur1*ir1 +ur2*ir2 +ur3*ir3 +ur4*ir4 +ur5*ir5 +ur6*ir6 +ur7*ir7 +ur8*ir8\n",
    "usernorm = math.sqrt(ur1**2 +ur2**2 +ur3**2 +ur4**2 +ur5**2 +ur6**2 +ur7**2 +ur8**2)\n",
    "itemnorm = math.sqrt(ir1**2 +ir2**2 +ir3**2 +ir4**2 +ir5**2 +ir6**2 +ir7**2 +ir8**2)\n",
    "\n",
    "print(\"Recommendation ::\",cosineSimily/(usernorm*itemnorm))"
   ]
  },
  {
   "cell_type": "code",
   "execution_count": 129,
   "id": "b9e752ff-3a2a-4388-8a7b-0362c18e1fbd",
   "metadata": {
    "colab": {
     "base_uri": "https://localhost:8080/"
    },
    "id": "b9e752ff-3a2a-4388-8a7b-0362c18e1fbd",
    "outputId": "c4cf2b20-5911-4878-e070-4b4ee79a945f"
   },
   "outputs": [
    {
     "name": "stdout",
     "output_type": "stream",
     "text": [
      "Recommendation :: 0.9956036270170981\n"
     ]
    }
   ],
   "source": [
    "ur1,ur2,ur3,ur4,ur5,ur6,ur7,ur8 = [2.4307725, 7.9098544, 1.2765553, 0.024636148, 2.5557365, 3.767766, 0.072329044, 0.43128264]\n",
    "ir1,ir2,ir3,ir4,ir5,ir6,ir7,ir8 = [0.112612374, 0.34390146, 0.03790004, 0.008411241, 0.09243223, 0.17332187, 0.008417915, 0.044041876]\n",
    "cosineSimily = ur1*ir1 +ur2*ir2 +ur3*ir3 +ur4*ir4 +ur5*ir5 +ur6*ir6 +ur7*ir7 +ur8*ir8\n",
    "usernorm = math.sqrt(ur1**2 +ur2**2 +ur3**2 +ur4**2 +ur5**2 +ur6**2 +ur7**2 +ur8**2)\n",
    "itemnorm = math.sqrt(ir1**2 +ir2**2 +ir3**2 +ir4**2 +ir5**2 +ir6**2 +ir7**2 +ir8**2)\n",
    "\n",
    "print(\"Recommendation ::\",cosineSimily/(usernorm*itemnorm))\n"
   ]
  },
  {
   "cell_type": "code",
   "execution_count": 129,
   "id": "06216bd5-836b-4789-ac04-459ef06cfff4",
   "metadata": {
    "id": "06216bd5-836b-4789-ac04-459ef06cfff4"
   },
   "outputs": [],
   "source": []
  },
  {
   "cell_type": "code",
   "execution_count": 129,
   "id": "7472fb6a-5956-4d2b-a3ae-0f9c823270e3",
   "metadata": {
    "id": "7472fb6a-5956-4d2b-a3ae-0f9c823270e3"
   },
   "outputs": [],
   "source": []
  },
  {
   "cell_type": "code",
   "execution_count": 129,
   "id": "7997a22c-603d-4db0-a209-5da9040e8dde",
   "metadata": {
    "id": "7997a22c-603d-4db0-a209-5da9040e8dde"
   },
   "outputs": [],
   "source": []
  },
  {
   "cell_type": "code",
   "execution_count": 129,
   "id": "43ca9bc5-379b-4d28-8833-2d3ba4ae2d74",
   "metadata": {
    "id": "43ca9bc5-379b-4d28-8833-2d3ba4ae2d74"
   },
   "outputs": [],
   "source": []
  },
  {
   "cell_type": "code",
   "execution_count": 129,
   "id": "0c6a74d8-727e-441a-93d1-c244814d858a",
   "metadata": {
    "id": "0c6a74d8-727e-441a-93d1-c244814d858a"
   },
   "outputs": [],
   "source": []
  },
  {
   "cell_type": "code",
   "execution_count": 129,
   "id": "3a1de6a9-1607-4644-84dd-b879609e9ffc",
   "metadata": {
    "id": "3a1de6a9-1607-4644-84dd-b879609e9ffc"
   },
   "outputs": [],
   "source": []
  },
  {
   "cell_type": "code",
   "execution_count": 129,
   "id": "89b7a0c6-41a4-4de7-839e-1324c9a12cb1",
   "metadata": {
    "id": "89b7a0c6-41a4-4de7-839e-1324c9a12cb1"
   },
   "outputs": [],
   "source": []
  },
  {
   "cell_type": "code",
   "execution_count": 130,
   "id": "faa3e89a-c09a-4b25-90bb-4219857e08f7",
   "metadata": {
    "colab": {
     "base_uri": "https://localhost:8080/"
    },
    "id": "faa3e89a-c09a-4b25-90bb-4219857e08f7",
    "outputId": "fdf7fbfb-256a-4772-fa4d-f8e8ab79ef91",
    "scrolled": true
   },
   "outputs": [
    {
     "data": {
      "text/plain": [
       "[Row(id=1, features=[0.411522775888443, 0.6879790425300598, 0.0, 1.884710431098938, 1.6111966371536255, 3.5177104473114014, 2.4194748401641846, 0.0, 3.4802401065826416, 0.03520975634455681]),\n",
       " Row(id=2, features=[0.2663595676422119, 0.49407103657722473, 0.0, 1.262455701828003, 1.056755781173706, 2.33624529838562, 1.6007544994354248, 0.0, 2.3329155445098877, 0.03762882202863693]),\n",
       " Row(id=3, features=[0.12490468472242355, 0.26667290925979614, 0.0, 0.6305487751960754, 0.5370492935180664, 1.1460109949111938, 0.8014987111091614, 0.0, 1.1780459880828857, 0.028614597395062447]),\n",
       " Row(id=4, features=[0.12503843009471893, 0.26983487606048584, 0.0, 0.6330847144126892, 0.5293429493904114, 1.1469393968582153, 0.8008584976196289, 0.0, 1.1787470579147339, 0.02921205572783947]),\n",
       " Row(id=5, features=[0.2529369592666626, 0.5337610840797424, 0.0, 1.2659857273101807, 1.0568146705627441, 2.301318407058716, 1.6007360219955444, 0.0, 2.3536903858184814, 0.05604652315378189]),\n",
       " Row(id=6, features=[0.12825137376785278, 0.26319199800491333, 0.0, 0.6328720450401306, 0.5272349119186401, 1.155288577079773, 0.7997481822967529, 0.0, 1.1744606494903564, 0.026539823040366173]),\n",
       " Row(id=7, features=[0.1264684796333313, 0.2668805420398712, 0.0, 0.6329928636550903, 0.5284073352813721, 1.150659203529358, 0.8003680109977722, 0.0, 1.1768451929092407, 0.028023261576890945]),\n",
       " Row(id=8, features=[0.2702065706253052, 0.4707227051258087, 0.0, 1.2587909698486328, 1.0655049085617065, 2.346296548843384, 1.6054227352142334, 0.0, 2.3240761756896973, 0.02507646195590496]),\n",
       " Row(id=9, features=[0.12503843009471893, 0.26983487606048584, 0.0, 0.6330847144126892, 0.5293429493904114, 1.1469393968582153, 0.8008584976196289, 0.0, 1.1787470579147339, 0.02921205572783947]),\n",
       " Row(id=10, features=[0.5161983966827393, 1.0461536645889282, 0.0, 2.5312612056732178, 2.106829881668091, 4.629431247711182, 3.197868824005127, 0.0, 4.6935505867004395, 0.10350047796964645]),\n",
       " Row(id=11, features=[0.38483771681785583, 0.7870320677757263, 0.0, 1.898107886314392, 1.583429217338562, 3.4661269187927246, 2.4001846313476562, 0.0, 3.522752285003662, 0.07810129970312119]),\n",
       " Row(id=12, features=[0.25336453318595886, 0.5256137251853943, 0.0, 1.2605829238891602, 1.0726344585418701, 2.3012051582336426, 1.601846694946289, 0.0, 2.351267099380493, 0.05419398099184036]),\n",
       " Row(id=13, features=[0.131336972117424, 0.2565406262874603, 0.0, 0.6344800591468811, 0.5251154899597168, 1.1635286808013916, 0.799129843711853, 0.0, 1.1689919233322144, 0.02226797491312027]),\n",
       " Row(id=14, features=[0.13209718465805054, 0.24662411212921143, 0.0, 0.6307498216629028, 0.5310994386672974, 1.1653772592544556, 0.8018582463264465, 0.0, 1.1673505306243896, 0.01809166744351387]),\n",
       " Row(id=15, features=[0.26790159940719604, 0.4983721077442169, 0.0, 1.2639214992523193, 1.0500863790512085, 2.3400826454162598, 1.5971214771270752, 0.0, 2.3324501514434814, 0.04092896357178688]),\n",
       " Row(id=16, features=[0.13033923506736755, 0.25509750843048096, 0.0, 0.629933774471283, 0.534205436706543, 1.1600635051727295, 0.7996636033058167, 0.0, 1.1706888675689697, 0.024024302139878273]),\n",
       " Row(id=17, features=[0.2678148150444031, 0.49940502643585205, 0.0, 1.2641105651855469, 1.04950749874115, 2.3398451805114746, 1.5968074798583984, 0.0, 2.3327581882476807, 0.041521716862916946]),\n",
       " Row(id=18, features=[0.1328747421503067, 0.25359076261520386, 0.0, 0.6325147151947021, 0.5241526365280151, 1.1672371625900269, 0.7980830073356628, 0.0, 1.1681852340698242, 0.022683873772621155]),\n",
       " Row(id=19, features=[0.2544543147087097, 0.5306234359741211, 0.0, 1.2658847570419312, 1.0558186769485474, 2.30526065826416, 1.6002109050750732, 0.0, 2.3516647815704346, 0.05478440970182419]),\n",
       " Row(id=20, features=[0.12503843009471893, 0.26983487606048584, 0.0, 0.6330847144126892, 0.5293429493904114, 1.1469393968582153, 0.8008584976196289, 0.0, 1.1787470579147339, 0.02921205572783947]),\n",
       " Row(id=21, features=[0.13811300694942474, 0.44389626383781433, 0.0, 0.9700939655303955, 1.1926720142364502, 2.26613712310791, 1.752443552017212, 0.0, 2.3980424404144287, 0.0407923199236393]),\n",
       " Row(id=22, features=[0.1337304264307022, 0.2518064081668854, 0.0, 0.6324396729469299, 0.523573637008667, 1.1694371700286865, 0.7977631092071533, 0.0, 1.1670050621032715, 0.02196836844086647]),\n",
       " Row(id=23, features=[0.12503843009471893, 0.26983487606048584, 0.0, 0.6330847144126892, 0.5293429493904114, 1.1469393968582153, 0.8008584976196289, 0.0, 1.1787470579147339, 0.02921205572783947]),\n",
       " Row(id=24, features=[0.13244055211544037, 0.25449511408805847, 0.0, 0.6325515508651733, 0.5244452357292175, 1.1661193370819092, 0.7982437610626221, 0.0, 1.1687815189361572, 0.023046672344207764]),\n",
       " Row(id=25, features=[0.12825137376785278, 0.26319199800491333, 0.0, 0.6328720450401306, 0.5272349119186401, 1.155288577079773, 0.7997481822967529, 0.0, 1.1744606494903564, 0.026539823040366173]),\n",
       " Row(id=26, features=[0.13250525295734406, 0.2478889524936676, 0.0, 0.6311682462692261, 0.5292465686798096, 1.1663962602615356, 0.8008525371551514, 0.0, 1.1672636270523071, 0.019041024148464203]),\n",
       " Row(id=27, features=[0.12971530854701996, 0.2601581811904907, 0.0, 0.6327665448188782, 0.5262662172317505, 1.1590816974639893, 0.7992309927940369, 0.0, 1.1724897623062134, 0.025320474058389664]),\n",
       " Row(id=28, features=[0.1337304264307022, 0.2518064081668854, 0.0, 0.6324396729469299, 0.523573637008667, 1.1694371700286865, 0.7977631092071533, 0.0, 1.1670050621032715, 0.02196836844086647]),\n",
       " Row(id=29, features=[0.12701711058616638, 0.265746146440506, 0.0, 0.6329565048217773, 0.5280473232269287, 1.1520847082138062, 0.8001783490180969, 0.0, 1.1761131286621094, 0.02756693959236145]),\n",
       " Row(id=30, features=[0.13127370178699493, 0.24414107203483582, 0.0, 0.6299149990081787, 0.5347768664360046, 1.1633116006851196, 0.8038493394851685, 0.0, 1.1675291061401367, 0.01622007042169571]),\n",
       " Row(id=31, features=[0.25797009468078613, 0.5115478038787842, 0.0, 1.2448748350143433, 1.1085556745529175, 2.2925198078155518, 1.60531747341156, 0.0, 2.352224826812744, 0.051004618406295776]),\n",
       " Row(id=32, features=[0.1288466453552246, 0.2619589865207672, 0.0, 0.6328298449516296, 0.5268417000770569, 1.156831979751587, 0.7995388507843018, 0.0, 1.1736607551574707, 0.026044156402349472]),\n",
       " Row(id=33, features=[0.12503843009471893, 0.26983487606048584, 0.0, 0.6330847144126892, 0.5293429493904114, 1.1469393968582153, 0.8008584976196289, 0.0, 1.1787470579147339, 0.02921205572783947]),\n",
       " Row(id=34, features=[0.4998909831047058, 1.0730851888656616, 0.0, 2.527329444885254, 2.132633686065674, 4.585937976837158, 3.204713821411133, 0.0, 4.713619232177734, 0.11566610634326935]),\n",
       " Row(id=35, features=[0.25007686018943787, 0.5396697521209717, 0.0, 1.2661694288253784, 1.0586858987808228, 2.2938787937164307, 1.6017169952392578, 0.0, 2.3574941158294678, 0.05842411145567894]),\n",
       " Row(id=36, features=[0.1337304264307022, 0.2518064081668854, 0.0, 0.6324396729469299, 0.523573637008667, 1.1694371700286865, 0.7977631092071533, 0.0, 1.1670050621032715, 0.02196836844086647]),\n",
       " Row(id=37, features=[0.37263980507850647, 0.666195809841156, 0.22697140276432037, 1.869680643081665, 1.6426753997802734, 3.5201666355133057, 2.386721134185791, 0.0, 3.4974234104156494, 0.05222300440073013]),\n",
       " Row(id=38, features=[0.12629440426826477, 0.2672403156757355, 0.0, 0.6330042481422424, 0.5285214185714722, 1.1502066850662231, 0.8004279732704163, 0.0, 1.1770771741867065, 0.028168009594082832]),\n",
       " Row(id=39, features=[0.40119126439094543, 0.7554192543029785, 0.0, 1.897318959236145, 1.5707210302352905, 3.5083115100860596, 2.39328932762146, 0.0, 3.5010151863098145, 0.06590510904788971]),\n",
       " Row(id=40, features=[0.12503843009471893, 0.26983487606048584, 0.0, 0.6330847144126892, 0.5293429493904114, 1.1469393968582153, 0.8008584976196289, 0.0, 1.1787470579147339, 0.02921205572783947]),\n",
       " Row(id=41, features=[0.23679521679878235, 0.5696530342102051, 0.09749643504619598, 1.1805216073989868, 1.0952750444412231, 2.280831813812256, 1.6152520179748535, 0.023818209767341614, 2.3655505180358887, 0.04726988822221756]),\n",
       " Row(id=42, features=[0.13599719107151031, 0.22444704174995422, 0.0, 0.6273099184036255, 0.538770318031311, 1.1754746437072754, 0.8058981895446777, 0.0, 1.1586201190948486, 0.006293241400271654]),\n",
       " Row(id=43, features=[0.12331712245941162, 0.1956624835729599, 0.1000448614358902, 0.6249247789382935, 0.5522733330726624, 1.1751134395599365, 0.8067912459373474, 0.0, 1.156685471534729, 0.010751625522971153]),\n",
       " Row(id=44, features=[0.13534872233867645, 0.2478581666946411, 0.0, 0.6364757418632507, 0.5223143100738525, 1.174172282218933, 0.7982487082481384, 0.0, 1.1618096828460693, 0.016745654866099358]),\n",
       " Row(id=45, features=[0.13209718465805054, 0.24662411212921143, 0.0, 0.6307498216629028, 0.5310994386672974, 1.1653772592544556, 0.8018582463264465, 0.0, 1.1673505306243896, 0.01809166744351387]),\n",
       " Row(id=46, features=[0.12503843009471893, 0.26983487606048584, 0.0, 0.6330847144126892, 0.5293429493904114, 1.1469393968582153, 0.8008584976196289, 0.0, 1.1787470579147339, 0.02921205572783947]),\n",
       " Row(id=47, features=[0.25528380274772644, 0.5289071798324585, 0.0, 1.2658283710479736, 1.0552730560302734, 2.3074142932891846, 1.5999224185943604, 0.0, 2.350555181503296, 0.05409420281648636]),\n",
       " Row(id=48, features=[0.12503843009471893, 0.26983487606048584, 0.0, 0.6330847144126892, 0.5293429493904114, 1.1469393968582153, 0.8008584976196289, 0.0, 1.1787470579147339, 0.02921205572783947]),\n",
       " Row(id=49, features=[0.1266985982656479, 0.26640477776527405, 0.0, 0.6329776644706726, 0.5282564163208008, 1.1512572765350342, 0.8002885580062866, 0.0, 1.1765382289886475, 0.027831876650452614]),\n",
       " Row(id=50, features=[0.1293659806251526, 0.251740038394928, 0.0, 0.6288872957229614, 0.538757860660553, 1.1576333045959473, 0.8021934032440186, 0.0, 1.1707959175109863, 0.021528664976358414]),\n",
       " Row(id=51, features=[0.12503843009471893, 0.26983487606048584, 0.0, 0.6330847144126892, 0.5293429493904114, 1.1469393968582153, 0.8008584976196289, 0.0, 1.1787470579147339, 0.02921205572783947]),\n",
       " Row(id=52, features=[0.1350405067205429, 0.24861109256744385, 0.0, 0.6357074975967407, 0.5225552320480347, 1.173271656036377, 0.7981574535369873, 0.0, 1.162801742553711, 0.017741115763783455]),\n",
       " Row(id=53, features=[0.12492351233959198, 0.2671128511428833, 0.0, 0.6309024095535278, 0.5359793305397034, 1.1461421251296997, 0.8014112710952759, 0.0, 1.1781456470489502, 0.028697684407234192]),\n",
       " Row(id=54, features=[0.5026994943618774, 1.0740818977355957, 0.0, 2.532177448272705, 2.115708112716675, 4.594382286071777, 3.202563524246216, 0.0, 4.711606502532959, 0.11473236232995987]),\n",
       " Row(id=55, features=[0.12503843009471893, 0.26983487606048584, 0.0, 0.6330847144126892, 0.5293429493904114, 1.1469393968582153, 0.8008584976196289, 0.0, 1.1787470579147339, 0.02921205572783947]),\n",
       " Row(id=56, features=[0.13217774033546448, 0.25504225492477417, 0.0, 0.6325734853744507, 0.5246219635009766, 1.1654421091079712, 0.7983405590057373, 0.0, 1.1691416501998901, 0.023266199976205826]),\n",
       " Row(id=57, features=[0.26286423206329346, 0.4946196973323822, 0.0, 1.26131010055542, 1.064134120941162, 2.3273465633392334, 1.604768991470337, 0.0, 2.3362081050872803, 0.03644206002354622]),\n",
       " Row(id=58, features=[0.3787097632884979, 0.7944716811180115, 0.0, 1.895790934562683, 1.5959031581878662, 3.449739933013916, 2.403735637664795, 0.0, 3.5296947956085205, 0.08124428987503052]),\n",
       " Row(id=59, features=[0.1327708512544632, 0.24972409009933472, 0.0, 0.6181483864784241, 0.5607239603996277, 1.147559404373169, 0.8029577136039734, 0.0, 1.1752078533172607, 0.023422155529260635]),\n",
       " Row(id=60, features=[0.12503843009471893, 0.26983487606048584, 0.0, 0.6330847144126892, 0.5293429493904114, 1.1469393968582153, 0.8008584976196289, 0.0, 1.1787470579147339, 0.02921205572783947]),\n",
       " Row(id=61, features=[0.1337304264307022, 0.2518064081668854, 0.0, 0.6324396729469299, 0.523573637008667, 1.1694371700286865, 0.7977631092071533, 0.0, 1.1670050621032715, 0.02196836844086647]),\n",
       " Row(id=62, features=[0.12503843009471893, 0.26983487606048584, 0.0, 0.6330847144126892, 0.5293429493904114, 1.1469393968582153, 0.8008584976196289, 0.0, 1.1787470579147339, 0.02921205572783947]),\n",
       " Row(id=63, features=[0.12503843009471893, 0.26983487606048584, 0.0, 0.6330847144126892, 0.5293429493904114, 1.1469393968582153, 0.8008584976196289, 0.0, 1.1787470579147339, 0.02921205572783947]),\n",
       " Row(id=64, features=[0.12722715735435486, 0.26531171798706055, 0.0, 0.6329423785209656, 0.5279093384742737, 1.15263032913208, 0.8001054525375366, 0.0, 1.1758323907852173, 0.027392204850912094]),\n",
       " Row(id=65, features=[0.12503843009471893, 0.26983487606048584, 0.0, 0.6330847144126892, 0.5293429493904114, 1.1469393968582153, 0.8008584976196289, 0.0, 1.1787470579147339, 0.02921205572783947]),\n",
       " Row(id=66, features=[0.1246492862701416, 0.26087290048599243, 0.0, 0.6258602142333984, 0.5510799884796143, 1.1442131996154785, 0.8025972247123718, 0.0, 1.1766610145568848, 0.02752061001956463]),\n",
       " Row(id=67, features=[0.38936805725097656, 0.7621603608131409, 0.0, 1.8635263442993164, 1.6699645519256592, 3.439234972000122, 2.4083900451660156, 0.0, 3.5274417400360107, 0.07492151111364365]),\n",
       " Row(id=68, features=[0.1300051063299179, 0.254607617855072, 0.0, 0.6216583251953125, 0.5549507141113281, 1.1467492580413818, 0.8026660680770874, 0.0, 1.1759896278381348, 0.025034090504050255]),\n",
       " Row(id=69, features=[0.3967590630054474, 0.764656662940979, 0.0, 1.8977017402648926, 1.5737141370773315, 3.49690842628479, 2.3949384689331055, 0.0, 3.507115602493286, 0.06960998475551605]),\n",
       " Row(id=70, features=[0.12503843009471893, 0.26983487606048584, 0.0, 0.6330847144126892, 0.5293429493904114, 1.1469393968582153, 0.8008584976196289, 0.0, 1.1787470579147339, 0.02921205572783947]),\n",
       " Row(id=71, features=[0.26152974367141724, 0.5159595608711243, 0.0, 1.265373706817627, 1.051135778427124, 2.323592185974121, 1.5977097749710083, 0.0, 2.3421363830566406, 0.0488908514380455]),\n",
       " Row(id=72, features=[0.1317799985408783, 0.2558698356151581, 0.0, 0.6326062083244324, 0.5248889923095703, 1.1644166707992554, 0.7984863519668579, 0.0, 1.1696856021881104, 0.023598330095410347]),\n",
       " Row(id=73, features=[0.1337304264307022, 0.2518064081668854, 0.0, 0.6324396729469299, 0.523573637008667, 1.1694371700286865, 0.7977631092071533, 0.0, 1.1670050621032715, 0.02196836844086647]),\n",
       " Row(id=74, features=[0.39103564620018005, 0.755364179611206, 0.0, 1.8876805305480957, 1.609969973564148, 3.4803810119628906, 2.4029765129089355, 0.0, 3.509819984436035, 0.0660218670964241]),\n",
       " Row(id=75, features=[0.1343679130077362, 0.2442082315683365, 0.0, 0.6310451626777649, 0.5278282165527344, 1.1711770296096802, 0.8000673055648804, 0.0, 1.164732575416565, 0.017608806490898132]),\n",
       " Row(id=76, features=[0.12939508259296417, 0.25459709763526917, 0.0, 0.6281786561012268, 0.5402407646179199, 1.1571882963180542, 0.8004040122032166, 0.0, 1.1713088750839233, 0.024303844198584557]),\n",
       " Row(id=77, features=[0.2499151974916458, 0.5358275175094604, 0.0, 1.2630910873413086, 1.0680592060089111, 2.2927587032318115, 1.602501392364502, 0.0, 2.3566505908966064, 0.057697948068380356]),\n",
       " Row(id=78, features=[0.1337304264307022, 0.2518064081668854, 0.0, 0.6324396729469299, 0.523573637008667, 1.1694371700286865, 0.7977631092071533, 0.0, 1.1670050621032715, 0.02196836844086647]),\n",
       " Row(id=79, features=[0.26031866669654846, 0.5143978595733643, 0.0, 1.2503046989440918, 1.0906455516815186, 2.2997870445251465, 1.603398084640503, 0.0, 2.351388454437256, 0.05066504701972008]),\n",
       " Row(id=80, features=[0.2650672495365143, 0.5044025182723999, 0.0, 1.2641959190368652, 1.0519148111343384, 2.332793951034546, 1.598132848739624, 0.0, 2.3363864421844482, 0.04337218776345253]),\n",
       " Row(id=81, features=[0.254974365234375, 0.5295475125312805, 0.0, 1.2658494710922241, 1.0554766654968262, 2.3066110610961914, 1.6000301837921143, 0.0, 2.3509693145751953, 0.05435169115662575]),\n",
       " Row(id=82, features=[0.1337304264307022, 0.2518064081668854, 0.0, 0.6324396729469299, 0.523573637008667, 1.1694371700286865, 0.7977631092071533, 0.0, 1.1670050621032715, 0.02196836844086647]),\n",
       " Row(id=83, features=[0.1337304264307022, 0.2518064081668854, 0.0, 0.6324396729469299, 0.523573637008667, 1.1694371700286865, 0.7977631092071533, 0.0, 1.1670050621032715, 0.02196836844086647]),\n",
       " Row(id=84, features=[0.12478320300579071, 0.26386958360671997, 0.0, 0.6282898187637329, 0.5438512563705444, 1.145160436630249, 0.8020443916320801, 0.0, 1.1773959398269653, 0.028085464611649513]),\n",
       " Row(id=85, features=[0.2539714276790619, 0.5197238922119141, 0.0, 1.2597841024398804, 1.0750536918640137, 2.3029372692108154, 1.6036180257797241, 0.0, 2.349440574645996, 0.050682369619607925]),\n",
       " Row(id=86, features=[0.25322815775871277, 0.533159077167511, 0.0, 1.265966534614563, 1.0566236972808838, 2.302075147628784, 1.6006355285644531, 0.0, 2.353302001953125, 0.05580434948205948]),\n",
       " Row(id=87, features=[0.1266985982656479, 0.26640477776527405, 0.0, 0.6329776644706726, 0.5282564163208008, 1.1512572765350342, 0.8002885580062866, 0.0, 1.1765382289886475, 0.027831876650452614]),\n",
       " Row(id=88, features=[0.375115305185318, 0.8095046877861023, 0.0, 1.8992542028427124, 1.5880287885665894, 3.4408183097839355, 2.4025754928588867, 0.0, 3.536241054534912, 0.08763616532087326]),\n",
       " Row(id=89, features=[0.1332663744688034, 0.24278004467487335, 0.0, 0.6303455829620361, 0.5313565135002136, 1.1684036254882812, 0.801988422870636, 0.0, 1.165421962738037, 0.016256321221590042]),\n",
       " Row(id=90, features=[0.1268387883901596, 0.262143611907959, 0.0, 0.6300293207168579, 0.5369642376899719, 1.1509507894515991, 0.8009264469146729, 0.0, 1.1753358840942383, 0.026896772906184196]),\n",
       " Row(id=91, features=[0.13410316407680511, 0.247370645403862, 0.0, 0.6316277980804443, 0.5260599255561829, 1.1704574823379517, 0.799111545085907, 0.0, 1.1656824350357056, 0.019422827288508415]),\n",
       " Row(id=92, features=[0.12637579441070557, 0.2670721113681793, 0.0, 0.6329989433288574, 0.528468132019043, 1.1504182815551758, 0.8003999590873718, 0.0, 1.1769686937332153, 0.028100330382585526]),\n",
       " Row(id=93, features=[0.137165367603302, 0.2375730574131012, 0.0, 0.6251562833786011, 0.5397729873657227, 1.1680655479431152, 0.8023406863212585, 0.0, 1.1655309200286865, 0.014849399216473103]),\n",
       " Row(id=94, features=[0.12503843009471893, 0.26983487606048584, 0.0, 0.6330847144126892, 0.5293429493904114, 1.1469393968582153, 0.8008584976196289, 0.0, 1.1787470579147339, 0.02921205572783947]),\n",
       " Row(id=95, features=[0.1337304264307022, 0.2518064081668854, 0.0, 0.6324396729469299, 0.523573637008667, 1.1694371700286865, 0.7977631092071533, 0.0, 1.1670050621032715, 0.02196836844086647]),\n",
       " Row(id=96, features=[0.2553791403770447, 0.5264707803726196, 0.0, 1.2641671895980835, 1.0601892471313477, 2.30729079246521, 1.600285291671753, 0.0, 2.3498668670654297, 0.053553611040115356]),\n",
       " Row(id=97, features=[0.2535076439380646, 0.5325812101364136, 0.0, 1.2659480571746826, 1.0564403533935547, 2.3028013706207275, 1.600538969039917, 0.0, 2.35292911529541, 0.05557189881801605]),\n",
       " Row(id=98, features=[0.13209718465805054, 0.24662411212921143, 0.0, 0.6307498216629028, 0.5310994386672974, 1.1653772592544556, 0.8018582463264465, 0.0, 1.1673505306243896, 0.01809166744351387]),\n",
       " Row(id=99, features=[0.12503843009471893, 0.26983487606048584, 0.0, 0.6330847144126892, 0.5293429493904114, 1.1469393968582153, 0.8008584976196289, 0.0, 1.1787470579147339, 0.02921205572783947]),\n",
       " Row(id=100, features=[0.12447096407413483, 0.2570069134235382, 0.0, 0.622705340385437, 0.5603476166725159, 1.1429389715194702, 0.8032686114311218, 0.0, 1.1756582260131836, 0.026792963966727257]),\n",
       " Row(id=101, features=[0.12478320300579071, 0.26386958360671997, 0.0, 0.6282898187637329, 0.5438512563705444, 1.145160436630249, 0.8020443916320801, 0.0, 1.1773959398269653, 0.028085464611649513]),\n",
       " Row(id=102, features=[0.25573915243148804, 0.525791585445404, 0.0, 1.2641911506652832, 1.059805989265442, 2.3082361221313477, 1.6001482009887695, 0.0, 2.3494014739990234, 0.05326757952570915]),\n",
       " Row(id=103, features=[0.12503843009471893, 0.26983487606048584, 0.0, 0.6330847144126892, 0.5293429493904114, 1.1469393968582153, 0.8008584976196289, 0.0, 1.1787470579147339, 0.02921205572783947]),\n",
       " Row(id=104, features=[0.12451118975877762, 0.2578672468662262, 0.0, 0.6234094500541687, 0.5582907795906067, 1.1432276964187622, 0.8031232357025146, 0.0, 1.1758867502212524, 0.02695479430258274]),\n",
       " Row(id=105, features=[0.12503843009471893, 0.26983487606048584, 0.0, 0.6330847144126892, 0.5293429493904114, 1.1469393968582153, 0.8008584976196289, 0.0, 1.1787470579147339, 0.02921205572783947]),\n",
       " Row(id=106, features=[0.12701711058616638, 0.265746146440506, 0.0, 0.6329565048217773, 0.5280473232269287, 1.1520847082138062, 0.8001783490180969, 0.0, 1.1761131286621094, 0.02756693959236145]),\n",
       " Row(id=107, features=[0.12503843009471893, 0.26983487606048584, 0.0, 0.6330847144126892, 0.5293429493904114, 1.1469393968582153, 0.8008584976196289, 0.0, 1.1787470579147339, 0.02921205572783947]),\n",
       " Row(id=108, features=[0.12971530854701996, 0.2601581811904907, 0.0, 0.6327665448188782, 0.5262662172317505, 1.1590816974639893, 0.7992309927940369, 0.0, 1.1724897623062134, 0.025320474058389664]),\n",
       " Row(id=109, features=[0.23171775043010712, 0.6665424704551697, 0.18762002885341644, 1.8709441423416138, 1.6356167793273926, 3.5289433002471924, 2.3838295936584473, 0.0, 3.5110745429992676, 0.0418744720518589]),\n",
       " Row(id=110, features=[0.2575147747993469, 0.5112242698669434, 0.0, 1.2445404529571533, 1.1102036237716675, 2.29205584526062, 1.6054548025131226, 0.0, 2.3520686626434326, 0.05104571953415871]),\n",
       " Row(id=111, features=[0.12701711058616638, 0.265746146440506, 0.0, 0.6329565048217773, 0.5280473232269287, 1.1520847082138062, 0.8001783490180969, 0.0, 1.1761131286621094, 0.02756693959236145]),\n",
       " Row(id=112, features=[0.127567321062088, 0.2518173158168793, 0.0, 0.6252735257148743, 0.5506922006607056, 1.1519253253936768, 0.8029160499572754, 0.0, 1.17209792137146, 0.023052742704749107]),\n",
       " Row(id=113, features=[0.13530822098255157, 0.23287653923034668, 0.0, 0.6289260387420654, 0.5341286063194275, 1.1736891269683838, 0.8034448623657227, 0.0, 1.1612699031829834, 0.011115334928035736]),\n",
       " Row(id=114, features=[0.1274871826171875, 0.26477375626564026, 0.0, 0.6329247355461121, 0.5277383327484131, 1.1533055305480957, 0.8000150918960571, 0.0, 1.1754846572875977, 0.027175845578312874]),\n",
       " Row(id=115, features=[0.3933202922344208, 0.7718084454536438, 0.0, 1.8979803323745728, 1.5760189294815063, 3.4880378246307373, 2.3961939811706543, 0.0, 3.511810064315796, 0.07248061895370483]),\n",
       " Row(id=116, features=[0.3817528486251831, 0.7763598561286926, 0.01341900136321783, 1.8608410358428955, 1.6749022006988525, 3.443932056427002, 2.3833913803100586, 0.025997942313551903, 3.532572031021118, 0.07743489742279053]),\n",
       " Row(id=117, features=[0.25163859128952026, 0.5364441871643066, 0.0, 1.2660701274871826, 1.0576651096343994, 2.2979423999786377, 1.6011826992034912, 0.0, 2.355419158935547, 0.05712605267763138]),\n",
       " Row(id=118, features=[0.3884681165218353, 0.7818801999092102, 0.0, 1.898349642753601, 1.579248309135437, 3.4754905700683594, 2.3979341983795166, 0.0, 3.5183842182159424, 0.0765262320637703]),\n",
       " Row(id=119, features=[0.26374101638793945, 0.4882899820804596, 0.0, 1.2601556777954102, 1.0750659704208374, 2.3289616107940674, 1.6054726839065552, 0.0, 2.33180832862854, 0.03289483115077019]),\n",
       " Row(id=120, features=[0.12503843009471893, 0.26983487606048584, 0.0, 0.6330847144126892, 0.5293429493904114, 1.1469393968582153, 0.8008584976196289, 0.0, 1.1787470579147339, 0.02921205572783947]),\n",
       " Row(id=121, features=[0.1266985982656479, 0.26640477776527405, 0.0, 0.6329776644706726, 0.5282564163208008, 1.1512572765350342, 0.8002885580062866, 0.0, 1.1765382289886475, 0.027831876650452614]),\n",
       " Row(id=122, features=[0.13530822098255157, 0.23287653923034668, 0.0, 0.6289260387420654, 0.5341286063194275, 1.1736891269683838, 0.8034448623657227, 0.0, 1.1612699031829834, 0.011115334928035736]),\n",
       " Row(id=123, features=[0.40019407868385315, 0.7396565675735474, 0.0, 1.8470048904418945, 1.7002249956130981, 3.441312313079834, 2.4099979400634766, 0.0, 3.5234107971191406, 0.06793749332427979]),\n",
       " Row(id=124, features=[0.2511756122112274, 0.5349480509757996, 0.0, 1.264286756515503, 1.063416838645935, 2.296329975128174, 1.6017727851867676, 0.0, 2.3554177284240723, 0.0570056289434433]),\n",
       " Row(id=125, features=[0.26056569814682007, 0.5021999478340149, 0.0, 1.2536871433258057, 1.0850412845611572, 2.311201333999634, 1.6052793264389038, 0.0, 2.343722105026245, 0.042982351034879684]),\n",
       " Row(id=126, features=[0.13217774033546448, 0.25504225492477417, 0.0, 0.6325734853744507, 0.5246219635009766, 1.1654421091079712, 0.7983405590057373, 0.0, 1.1691416501998901, 0.023266199976205826]),\n",
       " Row(id=127, features=[0.12932388484477997, 0.2609698474407196, 0.0, 0.6327953338623047, 0.5265257954597473, 1.158068299293518, 0.7993701100349426, 0.0, 1.173017978668213, 0.025646617636084557]),\n",
       " Row(id=128, features=[0.1337304264307022, 0.2518064081668854, 0.0, 0.6324396729469299, 0.523573637008667, 1.1694371700286865, 0.7977631092071533, 0.0, 1.1670050621032715, 0.02196836844086647]),\n",
       " Row(id=129, features=[0.1403520256280899, 0.21412129700183868, 0.0, 0.6294706463813782, 0.5416763424873352, 1.1741113662719727, 0.8119078278541565, 0.0, 1.1552590131759644, 0.004573871847242117]),\n",
       " Row(id=130, features=[0.40119126439094543, 0.7554192543029785, 0.0, 1.897318959236145, 1.5707210302352905, 3.5083115100860596, 2.39328932762146, 0.0, 3.5010151863098145, 0.06590510904788971]),\n",
       " Row(id=131, features=[0.13876380026340485, 0.23033814132213593, 0.0, 0.6339268684387207, 0.5358678102493286, 1.1638953685760498, 0.8111382126808167, 0.0, 1.1621685028076172, 0.015038161538541317]),\n",
       " Row(id=132, features=[0.13217774033546448, 0.25504225492477417, 0.0, 0.6325734853744507, 0.5246219635009766, 1.1654421091079712, 0.7983405590057373, 0.0, 1.1691416501998901, 0.023266199976205826]),\n",
       " Row(id=133, features=[0.13599719107151031, 0.22444704174995422, 0.0, 0.6273099184036255, 0.538770318031311, 1.1754746437072754, 0.8058981895446777, 0.0, 1.1586201190948486, 0.006293241400271654]),\n",
       " Row(id=134, features=[0.1260339468717575, 0.26574569940567017, 0.0, 0.6325902342796326, 0.5302174687385559, 1.1495670080184937, 0.8013483285903931, 0.0, 1.1769793033599854, 0.027142593637108803]),\n",
       " Row(id=135, features=[0.13228227198123932, 0.23995892703533173, 0.0, 0.629379153251648, 0.5356418490409851, 1.1659326553344727, 0.8043084740638733, 0.0, 1.1656678915023804, 0.014108942821621895]),\n",
       " Row(id=136, features=[0.1337304264307022, 0.2518064081668854, 0.0, 0.6324396729469299, 0.523573637008667, 1.1694371700286865, 0.7977631092071533, 0.0, 1.1670050621032715, 0.02196836844086647]),\n",
       " Row(id=137, features=[0.12503843009471893, 0.26983487606048584, 0.0, 0.6330847144126892, 0.5293429493904114, 1.1469393968582153, 0.8008584976196289, 0.0, 1.1787470579147339, 0.02921205572783947]),\n",
       " Row(id=138, features=[0.14286881685256958, 0.22969941794872284, 0.0, 0.6175833940505981, 0.551842987537384, 1.1677312850952148, 0.8027684688568115, 0.0, 1.1653778553009033, 0.012654214166104794]),\n",
       " Row(id=139, features=[0.25007686018943787, 0.5396697521209717, 0.0, 1.2661694288253784, 1.0586858987808228, 2.2938787937164307, 1.6017169952392578, 0.0, 2.3574941158294678, 0.05842411145567894]),\n",
       " Row(id=140, features=[0.12701711058616638, 0.265746146440506, 0.0, 0.6329565048217773, 0.5280473232269287, 1.1520847082138062, 0.8001783490180969, 0.0, 1.1761131286621094, 0.02756693959236145]),\n",
       " Row(id=141, features=[0.13357923924922943, 0.25165048241615295, 0.0, 0.6359294652938843, 0.5235455632209778, 1.1695338487625122, 0.7987339496612549, 0.0, 1.1647655963897705, 0.018882157281041145]),\n",
       " Row(id=142, features=[0.1337304264307022, 0.2518064081668854, 0.0, 0.6324396729469299, 0.523573637008667, 1.1694371700286865, 0.7977631092071533, 0.0, 1.1670050621032715, 0.02196836844086647]),\n",
       " Row(id=143, features=[0.12825137376785278, 0.26319199800491333, 0.0, 0.6328720450401306, 0.5272349119186401, 1.155288577079773, 0.7997481822967529, 0.0, 1.1744606494903564, 0.026539823040366173]),\n",
       " Row(id=144, features=[0.2762152850627899, 0.46888601779937744, 0.013594279997050762, 1.2237342596054077, 1.1238501071929932, 2.3298211097717285, 1.5774837732315063, 0.026337526738643646, 2.330454111099243, 0.028269656002521515]),\n",
       " Row(id=145, features=[0.5448057651519775, 0.9868431687355042, 0.0, 2.4857735633850098, 2.193347454071045, 4.629642963409424, 3.2055914402008057, 0.0, 4.687440395355225, 0.08418378978967667]),\n",
       " Row(id=146, features=[0.12503843009471893, 0.26983487606048584, 0.0, 0.6330847144126892, 0.5293429493904114, 1.1469393968582153, 0.8008584976196289, 0.0, 1.1787470579147339, 0.02921205572783947]),\n",
       " Row(id=147, features=[0.12768106162548065, 0.2615446150302887, 0.0, 0.6308200359344482, 0.5338867902755737, 1.1533352136611938, 0.8004413843154907, 0.0, 1.174508810043335, 0.026431797072291374]),\n",
       " Row(id=148, features=[0.2677929997444153, 0.49966442584991455, 0.0, 1.264158010482788, 1.049362063407898, 2.33978533744812, 1.5967285633087158, 0.0, 2.3328354358673096, 0.04167057201266289]),\n",
       " Row(id=149, features=[0.1337304264307022, 0.2518064081668854, 0.0, 0.6324396729469299, 0.523573637008667, 1.1694371700286865, 0.7977631092071533, 0.0, 1.1670050621032715, 0.02196836844086647]),\n",
       " Row(id=150, features=[0.1274871826171875, 0.26477375626564026, 0.0, 0.6329247355461121, 0.5277383327484131, 1.1533055305480957, 0.8000150918960571, 0.0, 1.1754846572875977, 0.027175845578312874]),\n",
       " Row(id=151, features=[0.25568732619285583, 0.5086567997932434, 0.0, 1.2421656847000122, 1.1197201013565063, 2.2898073196411133, 1.6062008142471313, 0.0, 2.3511033058166504, 0.05095823109149933]),\n",
       " Row(id=152, features=[0.25336453318595886, 0.5256137251853943, 0.0, 1.2605829238891602, 1.0726344585418701, 2.3012051582336426, 1.601846694946289, 0.0, 2.351267099380493, 0.05419398099184036]),\n",
       " Row(id=153, features=[0.14365772902965546, 0.25506335496902466, 0.0, 0.6379734873771667, 0.520882785320282, 1.1740347146987915, 0.7979943156242371, 0.0, 1.1600232124328613, 0.016158567741513252]),\n",
       " Row(id=154, features=[0.1279517561197281, 0.2574515640735626, 0.0, 0.628180205821991, 0.5414889454841614, 1.1534215211868286, 0.8009325265884399, 0.0, 1.1732107400894165, 0.02547774277627468]),\n",
       " Row(id=155, features=[0.13375377655029297, 0.24117779731750488, 0.0, 0.630174994468689, 0.5314595103263855, 1.1696618795394897, 0.8020383715629578, 0.0, 1.1646132469177246, 0.01549211423844099]),\n",
       " Row(id=156, features=[0.37771278619766235, 0.7756731510162354, 0.0, 1.8802508115768433, 1.6427547931671143, 3.4434385299682617, 2.4074463844299316, 0.0, 3.5254430770874023, 0.07786034792661667]),\n",
       " Row(id=157, features=[0.3739318549633026, 0.7822710871696472, 0.0, 1.877297043800354, 1.6540735960006714, 3.432525634765625, 2.4078524112701416, 0.0, 3.529893398284912, 0.08249640464782715]),\n",
       " Row(id=158, features=[0.12478320300579071, 0.26386958360671997, 0.0, 0.6282898187637329, 0.5438512563705444, 1.145160436630249, 0.8020443916320801, 0.0, 1.1773959398269653, 0.028085464611649513]),\n",
       " Row(id=159, features=[0.1292361468076706, 0.2611517310142517, 0.0, 0.6328017711639404, 0.5265839099884033, 1.1578410863876343, 0.7994011640548706, 0.0, 1.1731362342834473, 0.025719717144966125]),\n",
       " Row(id=160, features=[0.38209307193756104, 0.7950836420059204, 0.0, 1.8987993001937866, 1.583457350730896, 3.4589598178863525, 2.4001734256744385, 0.0, 3.526947021484375, 0.08183415234088898]),\n",
       " Row(id=161, features=[0.12493768334388733, 0.26744508743286133, 0.0, 0.631169319152832, 0.5351707935333252, 1.1462408304214478, 0.8013448715209961, 0.0, 1.178220510482788, 0.02876044064760208]),\n",
       " Row(id=162, features=[0.22551259398460388, 0.7343839406967163, 0.0, 1.4607704877853394, 1.7277460098266602, 3.3708596229553223, 2.66754412651062, 0.0, 3.613945245742798, 0.07392850518226624]),\n",
       " Row(id=163, features=[0.12615813314914703, 0.2675219774246216, 0.0, 0.633013129234314, 0.5286107063293457, 1.1498523950576782, 0.8004748821258545, 0.0, 1.1772586107254028, 0.028281319886446]),\n",
       " Row(id=164, features=[0.1337304264307022, 0.2518064081668854, 0.0, 0.6324396729469299, 0.523573637008667, 1.1694371700286865, 0.7977631092071533, 0.0, 1.1670050621032715, 0.02196836844086647]),\n",
       " Row(id=165, features=[0.128489688038826, 0.2551935911178589, 0.0, 0.6272915601730347, 0.5436388850212097, 1.1546111106872559, 0.8009257316589355, 0.0, 1.172175645828247, 0.02479369565844536]),\n",
       " Row(id=166, features=[0.3854622542858124, 0.7888477444648743, 0.06623542308807373, 1.8038941621780396, 1.7031641006469727, 3.4300286769866943, 2.4180383682250977, 0.019082920625805855, 3.545940399169922, 0.07053052634000778]),\n",
       " Row(id=167, features=[0.13477854430675507, 0.2374395877122879, 0.0, 0.6325082182884216, 0.5315730571746826, 1.1726796627044678, 0.8028486967086792, 0.0, 1.1610080003738403, 0.011393075808882713]),\n",
       " Row(id=168, features=[0.1274871826171875, 0.26477375626564026, 0.0, 0.6329247355461121, 0.5277383327484131, 1.1533055305480957, 0.8000150918960571, 0.0, 1.1754846572875977, 0.027175845578312874]),\n",
       " Row(id=169, features=[0.12640425562858582, 0.26554837822914124, 0.0, 0.6319141983985901, 0.5317041277885437, 1.150248408317566, 0.8006478548049927, 0.0, 1.1765621900558472, 0.027774861082434654]),\n",
       " Row(id=170, features=[0.1266985982656479, 0.26640477776527405, 0.0, 0.6329776644706726, 0.5282564163208008, 1.1512572765350342, 0.8002885580062866, 0.0, 1.1765382289886475, 0.027831876650452614]),\n",
       " Row(id=171, features=[0.25007686018943787, 0.5396697521209717, 0.0, 1.2661694288253784, 1.0586858987808228, 2.2938787937164307, 1.6017169952392578, 0.0, 2.3574941158294678, 0.05842411145567894]),\n",
       " Row(id=172, features=[0.12701711058616638, 0.265746146440506, 0.0, 0.6329565048217773, 0.5280473232269287, 1.1520847082138062, 0.8001783490180969, 0.0, 1.1761131286621094, 0.02756693959236145]),\n",
       " Row(id=173, features=[0.13029205799102783, 0.2536947429180145, 0.0, 0.6209661364555359, 0.5564878582954407, 1.146715760231018, 0.802764356136322, 0.0, 1.1758074760437012, 0.02478606440126896]),\n",
       " Row(id=174, features=[0.13530822098255157, 0.23287653923034668, 0.0, 0.6289260387420654, 0.5341286063194275, 1.1736891269683838, 0.8034448623657227, 0.0, 1.1612699031829834, 0.011115334928035736]),\n",
       " Row(id=175, features=[0.13110676407814026, 0.2572694718837738, 0.0, 0.6326600909233093, 0.525339663028717, 1.1626793146133423, 0.7987313270568848, 0.0, 1.1706033945083618, 0.02416020631790161]),\n",
       " Row(id=176, features=[0.13530822098255157, 0.23287653923034668, 0.0, 0.6289260387420654, 0.5341286063194275, 1.1736891269683838, 0.8034448623657227, 0.0, 1.1612699031829834, 0.011115334928035736]),\n",
       " Row(id=177, features=[0.39685356616973877, 0.7456135153770447, 0.0, 1.8936823606491089, 1.5877622365951538, 3.4974751472473145, 2.4025731086730957, 0.0, 3.5028269290924072, 0.0580226369202137]),\n",
       " Row(id=178, features=[0.12503843009471893, 0.26983487606048584, 0.0, 0.6330847144126892, 0.5293429493904114, 1.1469393968582153, 0.8008584976196289, 0.0, 1.1787470579147339, 0.02921205572783947]),\n",
       " Row(id=179, features=[0.1274871826171875, 0.26477375626564026, 0.0, 0.6329247355461121, 0.5277383327484131, 1.1533055305480957, 0.8000150918960571, 0.0, 1.1754846572875977, 0.027175845578312874]),\n",
       " Row(id=180, features=[0.12945830821990967, 0.2516460120677948, 0.0, 0.630859375, 0.5332077741622925, 1.1585701704025269, 0.8030014038085938, 0.0, 1.170838475227356, 0.020011601969599724]),\n",
       " Row(id=181, features=[0.37965264916419983, 0.7900932431221008, 0.0, 1.8915361166000366, 1.6073153018951416, 3.4509308338165283, 2.4027609825134277, 0.0, 3.527649402618408, 0.08179565519094467]),\n",
       " Row(id=182, features=[0.12503843009471893, 0.26983487606048584, 0.0, 0.6330847144126892, 0.5293429493904114, 1.1469393968582153, 0.8008584976196289, 0.0, 1.1787470579147339, 0.02921205572783947]),\n",
       " Row(id=183, features=[0.5131551027297974, 1.0066920518875122, 0.0, 2.4759886264801025, 2.26027250289917, 4.5778632164001465, 3.213745355606079, 0.0, 4.699720859527588, 0.09939102828502655]),\n",
       " Row(id=184, features=[0.13082943856716156, 0.2549160420894623, 0.0, 0.6220389008522034, 0.5526046752929688, 1.1475067138671875, 0.802462100982666, 0.0, 1.176201343536377, 0.024904510006308556]),\n",
       " Row(id=185, features=[0.1337304264307022, 0.2518064081668854, 0.0, 0.6324396729469299, 0.523573637008667, 1.1694371700286865, 0.7977631092071533, 0.0, 1.1670050621032715, 0.02196836844086647]),\n",
       " Row(id=186, features=[0.12887389957904816, 0.2593061625957489, 0.0, 0.6322773098945618, 0.5287715792655945, 1.1569502353668213, 0.8005897998809814, 0.0, 1.17305588722229, 0.02443530783057213]),\n",
       " Row(id=187, features=[0.12610052525997162, 0.2676410377025604, 0.0, 0.6330168843269348, 0.5286484360694885, 1.149702548980713, 0.8004947304725647, 0.0, 1.1773353815078735, 0.02832922339439392]),\n",
       " Row(id=188, features=[0.26082634925842285, 0.5123909115791321, 0.0, 1.2643611431121826, 1.0553772449493408, 2.321866035461426, 1.600016713142395, 0.0, 2.341989278793335, 0.046405110508203506]),\n",
       " Row(id=189, features=[0.12446512281894684, 0.2755120098590851, 0.03253285959362984, 0.606421709060669, 0.5408115386962891, 1.1553640365600586, 0.8039668202400208, 0.009372959844768047, 1.1809178590774536, 0.024183688685297966]),\n",
       " Row(id=190, features=[0.25007686018943787, 0.5396697521209717, 0.0, 1.2661694288253784, 1.0586858987808228, 2.2938787937164307, 1.6017169952392578, 0.0, 2.3574941158294678, 0.05842411145567894]),\n",
       " Row(id=191, features=[0.5203573703765869, 1.0330216884613037, 0.021098757162690163, 2.4728355407714844, 2.2132740020751953, 4.587175369262695, 3.21248459815979, 0.006078709382563829, 4.711699962615967, 0.09958302229642868]),\n",
       " Row(id=192, features=[0.12503843009471893, 0.26983487606048584, 0.0, 0.6330847144126892, 0.5293429493904114, 1.1469393968582153, 0.8008584976196289, 0.0, 1.1787470579147339, 0.02921205572783947]),\n",
       " Row(id=193, features=[0.12825137376785278, 0.26319199800491333, 0.0, 0.6328720450401306, 0.5272349119186401, 1.155288577079773, 0.7997481822967529, 0.0, 1.1744606494903564, 0.026539823040366173]),\n",
       " Row(id=194, features=[0.13110676407814026, 0.2572694718837738, 0.0, 0.6326600909233093, 0.525339663028717, 1.1626793146133423, 0.7987313270568848, 0.0, 1.1706033945083618, 0.02416020631790161]),\n",
       " Row(id=195, features=[0.13274964690208435, 0.24865670502185822, 0.0, 0.6314202547073364, 0.5281276106834412, 1.1670050621032715, 0.8002443313598633, 0.0, 1.1672120094299316, 0.019616149365901947]),\n",
       " Row(id=196, features=[0.1266985982656479, 0.26640477776527405, 0.0, 0.6329776644706726, 0.5282564163208008, 1.1512572765350342, 0.8002885580062866, 0.0, 1.1765382289886475, 0.027831876650452614]),\n",
       " Row(id=197, features=[0.12503843009471893, 0.26983487606048584, 0.0, 0.6330847144126892, 0.5293429493904114, 1.1469393968582153, 0.8008584976196289, 0.0, 1.1787470579147339, 0.02921205572783947]),\n",
       " Row(id=198, features=[0.2543777823448181, 0.5271156430244446, 0.0, 1.2631796598434448, 1.064012885093689, 2.3044512271881104, 1.6008819341659546, 0.0, 2.350843906402588, 0.054092761129140854]),\n",
       " Row(id=199, features=[0.12503843009471893, 0.26983487606048584, 0.0, 0.6330847144126892, 0.5293429493904114, 1.1469393968582153, 0.8008584976196289, 0.0, 1.1787470579147339, 0.02921205572783947]),\n",
       " Row(id=200, features=[0.12223578244447708, 0.22292321920394897, 0.08170485496520996, 0.6154919266700745, 0.567250669002533, 1.1716548204421997, 0.7865562438964844, 0.0016705828020349145, 1.1700314283370972, 0.017099494114518166]),\n",
       " Row(id=201, features=[0.12503843009471893, 0.26983487606048584, 0.0, 0.6330847144126892, 0.5293429493904114, 1.1469393968582153, 0.8008584976196289, 0.0, 1.1787470579147339, 0.02921205572783947]),\n",
       " Row(id=202, features=[0.1337304264307022, 0.2518064081668854, 0.0, 0.6324396729469299, 0.523573637008667, 1.1694371700286865, 0.7977631092071533, 0.0, 1.1670050621032715, 0.02196836844086647]),\n",
       " Row(id=203, features=[0.25864386558532715, 0.5005350112915039, 0.0, 1.257487177848816, 1.0788507461547852, 2.3152153491973877, 1.6058458089828491, 0.0, 2.3410303592681885, 0.04093281924724579]),\n",
       " Row(id=204, features=[0.13091333210468292, 0.2517155408859253, 0.0, 0.6314088702201843, 0.529930830001831, 1.1622837781906128, 0.8012275099754333, 0.0, 1.1695550680160522, 0.02068423666059971]),\n",
       " Row(id=205, features=[0.1341630071401596, 0.2466566562652588, 0.0, 0.6314965486526489, 0.5264595150947571, 1.1706204414367676, 0.7993277907371521, 0.0, 1.1654685735702515, 0.01901320368051529]),\n",
       " Row(id=206, features=[0.1266985982656479, 0.26640477776527405, 0.0, 0.6329776644706726, 0.5282564163208008, 1.1512572765350342, 0.8002885580062866, 0.0, 1.1765382289886475, 0.027831876650452614]),\n",
       " Row(id=207, features=[0.39190834760665894, 0.7709575295448303, 0.0, 1.89728844165802, 1.5798008441925049, 3.4844601154327393, 2.3982503414154053, 0.0, 3.512901544570923, 0.07134658098220825]),\n",
       " Row(id=208, features=[0.375115305185318, 0.8095046877861023, 0.0, 1.8992542028427124, 1.5880287885665894, 3.4408183097839355, 2.4025754928588867, 0.0, 3.536241054534912, 0.08763616532087326]),\n",
       " Row(id=209, features=[0.1292361468076706, 0.2611517310142517, 0.0, 0.6328017711639404, 0.5265839099884033, 1.1578410863876343, 0.7994011640548706, 0.0, 1.1731362342834473, 0.025719717144966125]),\n",
       " Row(id=210, features=[0.1337304264307022, 0.2518064081668854, 0.0, 0.6324396729469299, 0.523573637008667, 1.1694371700286865, 0.7977631092071533, 0.0, 1.1670050621032715, 0.02196836844086647]),\n",
       " Row(id=211, features=[0.13494624197483063, 0.2372594177722931, 0.0, 0.6297521591186523, 0.5316990613937378, 1.1727310419082642, 0.802148163318634, 0.0, 1.162621259689331, 0.013625524938106537]),\n",
       " Row(id=212, features=[0.12478320300579071, 0.26386958360671997, 0.0, 0.6282898187637329, 0.5438512563705444, 1.145160436630249, 0.8020443916320801, 0.0, 1.1773959398269653, 0.028085464611649513]),\n",
       " Row(id=213, features=[0.49981358647346497, 1.0712589025497437, 0.0, 2.525864362716675, 2.137083053588867, 4.585400581359863, 3.205082416534424, 0.0, 4.713212966918945, 0.1153210699558258]),\n",
       " Row(id=214, features=[0.25007686018943787, 0.5396697521209717, 0.0, 1.2661694288253784, 1.0586858987808228, 2.2938787937164307, 1.6017169952392578, 0.0, 2.3574941158294678, 0.05842411145567894]),\n",
       " Row(id=215, features=[0.12503843009471893, 0.26983487606048584, 0.0, 0.6330847144126892, 0.5293429493904114, 1.1469393968582153, 0.8008584976196289, 0.0, 1.1787470579147339, 0.02921205572783947]),\n",
       " Row(id=216, features=[0.27244049310684204, 0.4521118700504303, 0.0, 1.2556285858154297, 1.0827631950378418, 2.3429479598999023, 1.6141613721847534, 0.0, 2.3196136951446533, 0.01795039512217045]),\n",
       " Row(id=217, features=[0.4027615189552307, 0.7088549733161926, 0.0, 1.8853458166122437, 1.6089162826538086, 3.5120487213134766, 2.4090046882629395, 0.0, 3.488905191421509, 0.040129438042640686]),\n",
       " Row(id=218, features=[0.3804647922515869, 0.7984513640403748, 0.0, 1.8989086151123047, 1.5845271348953247, 3.45473051071167, 2.400738000869751, 0.0, 3.5291223526000977, 0.08318870514631271]),\n",
       " Row(id=219, features=[0.12825137376785278, 0.26319199800491333, 0.0, 0.6328720450401306, 0.5272349119186401, 1.155288577079773, 0.7997481822967529, 0.0, 1.1744606494903564, 0.026539823040366173]),\n",
       " Row(id=220, features=[0.12503843009471893, 0.26983487606048584, 0.0, 0.6330847144126892, 0.5293429493904114, 1.1469393968582153, 0.8008584976196289, 0.0, 1.1787470579147339, 0.02921205572783947]),\n",
       " Row(id=221, features=[0.25960657000541687, 0.5004436373710632, 0.0, 1.2613632678985596, 1.0670139789581299, 2.318946361541748, 1.6063287258148193, 0.0, 2.340426206588745, 0.038583677262067795]),\n",
       " Row(id=222, features=[0.249929741024971, 0.536170482635498, 0.0, 1.2633662223815918, 1.0672236680984497, 2.2928597927093506, 1.602432131767273, 0.0, 2.356727123260498, 0.0577627457678318]),\n",
       " Row(id=223, features=[0.26790159940719604, 0.4983721077442169, 0.0, 1.2639214992523193, 1.0500863790512085, 2.3400826454162598, 1.5971214771270752, 0.0, 2.3324501514434814, 0.04092896357178688]),\n",
       " Row(id=224, features=[0.12971530854701996, 0.2601581811904907, 0.0, 0.6327665448188782, 0.5262662172317505, 1.1590816974639893, 0.7992309927940369, 0.0, 1.1724897623062134, 0.025320474058389664]),\n",
       " Row(id=225, features=[0.12874236702919006, 0.2602108418941498, 0.0, 0.6313854455947876, 0.5312755107879639, 1.1562350988388062, 0.7999216318130493, 0.0, 1.1733074188232422, 0.02572634257376194]),\n",
       " Row(id=226, features=[0.12615813314914703, 0.2675219774246216, 0.0, 0.633013129234314, 0.5286107063293457, 1.1498523950576782, 0.8004748821258545, 0.0, 1.1772586107254028, 0.028281319886446]),\n",
       " Row(id=227, features=[0.27984490990638733, 0.4722784161567688, 0.0, 1.2164421081542969, 1.155171275138855, 2.298370838165283, 1.6074000597000122, 0.0, 2.345463275909424, 0.03812556713819504]),\n",
       " Row(id=228, features=[0.1278175562620163, 0.26409009099006653, 0.0, 0.6329021453857422, 0.5275208353996277, 1.1541630029678345, 0.7998999357223511, 0.0, 1.1750423908233643, 0.026900924742221832]),\n",
       " Row(id=229, features=[0.27122798562049866, 0.4583014249801636, 0.0, 1.2564328908920288, 1.0723711252212524, 2.3489763736724854, 1.6090724468231201, 0.0, 2.3202149868011475, 0.01796598732471466]),\n",
       " Row(id=230, features=[0.40570148825645447, 0.7296236157417297, 0.0, 1.8957685232162476, 1.5840399265289307, 3.5100319385528564, 2.4041740894317627, 0.0, 3.4936683177948, 0.05428905040025711]),\n",
       " Row(id=231, features=[0.1308053880929947, 0.24909380078315735, 0.0, 0.6308085322380066, 0.5321281552314758, 1.1620490550994873, 0.8024186491966248, 0.0, 1.1690667867660522, 0.019037486985325813]),\n",
       " Row(id=232, features=[0.2674608528614044, 0.5036128163337708, 0.0, 1.2648793458938599, 1.047147274017334, 2.338874340057373, 1.5955262184143066, 0.0, 2.334010124206543, 0.04393673688173294]),\n",
       " Row(id=233, features=[0.12971530854701996, 0.2601581811904907, 0.0, 0.6327665448188782, 0.5262662172317505, 1.1590816974639893, 0.7992309927940369, 0.0, 1.1724897623062134, 0.025320474058389664]),\n",
       " Row(id=234, features=[0.12494873255491257, 0.26770493388175964, 0.0, 0.6313779354095459, 0.5345381498336792, 1.146317720413208, 0.8012927174568176, 0.0, 1.1782786846160889, 0.028809525072574615]),\n",
       " Row(id=235, features=[0.2551763951778412, 0.5291294455528259, 0.0, 1.2658357620239258, 1.055343747138977, 2.307135581970215, 1.5999598503112793, 0.0, 2.350698947906494, 0.054183583706617355]),\n",
       " Row(id=236, features=[0.12825137376785278, 0.26319199800491333, 0.0, 0.6328720450401306, 0.5272349119186401, 1.155288577079773, 0.7997481822967529, 0.0, 1.1744606494903564, 0.026539823040366173]),\n",
       " Row(id=237, features=[0.3783856928348541, 0.8027492165565491, 0.0, 1.8990452289581299, 1.585890293121338, 3.449326515197754, 2.4014551639556885, 0.0, 3.5318939685821533, 0.08491771668195724]),\n",
       " Row(id=238, features=[0.2558969557285309, 0.5276381373405457, 0.0, 1.2657861709594727, 1.0548691749572754, 2.3090054988861084, 1.5997084379196167, 0.0, 2.349733829498291, 0.05358390510082245]),\n",
       " Row(id=239, features=[0.13394393026828766, 0.24365992844104767, 0.0, 0.63077712059021, 0.5291869640350342, 1.1701109409332275, 0.8008080720901489, 0.0, 1.1650004386901855, 0.017088759690523148]),\n",
       " Row(id=240, features=[0.24844498932361603, 0.5036606192588806, 0.0, 1.2368909120559692, 1.1453114748001099, 2.282283306121826, 1.6081891059875488, 0.0, 2.348440170288086, 0.05164100229740143]),\n",
       " Row(id=241, features=[0.06725168973207474, 0.26858606934547424, 0.0, 0.4849223494529724, 0.6000142693519592, 1.1141499280929565, 0.8665055632591248, 0.0, 1.2146668434143066, 0.03046315535902977]),\n",
       " Row(id=242, features=[0.06441636383533478, 0.2390790432691574, 0.0, 0.48447275161743164, 0.5782098770141602, 1.1325312852859497, 0.8780673146247864, 0.0, 1.2084604501724243, 0.02823190577328205]),\n",
       " Row(id=243, features=[0.12503843009471893, 0.26983487606048584, 0.0, 0.6330847144126892, 0.5293429493904114, 1.1469393968582153, 0.8008584976196289, 0.0, 1.1787470579147339, 0.02921205572783947]),\n",
       " Row(id=244, features=[0.12825137376785278, 0.26319199800491333, 0.0, 0.6328720450401306, 0.5272349119186401, 1.155288577079773, 0.7997481822967529, 0.0, 1.1744606494903564, 0.026539823040366173]),\n",
       " Row(id=245, features=[0.1288466453552246, 0.2619589865207672, 0.0, 0.6328298449516296, 0.5268417000770569, 1.156831979751587, 0.7995388507843018, 0.0, 1.1736607551574707, 0.026044156402349472]),\n",
       " Row(id=246, features=[0.4002164900302887, 0.7424635887145996, 0.0, 1.89421546459198, 1.5826057195663452, 3.5060641765594482, 2.3997554779052734, 0.0, 3.4990549087524414, 0.05756722390651703]),\n",
       " Row(id=247, features=[0.2603645324707031, 0.5165994167327881, 0.0, 1.2538834810256958, 1.0810413360595703, 2.3034064769744873, 1.602328896522522, 0.0, 2.3506386280059814, 0.050854235887527466]),\n",
       " Row(id=248, features=[0.14963757991790771, 0.46006104350090027, 0.0, 0.981569766998291, 1.2317147254943848, 2.2370855808258057, 1.7366327047348022, 0.0, 2.4053099155426025, 0.052747759968042374]),\n",
       " Row(id=249, features=[0.12503843009471893, 0.26983487606048584, 0.0, 0.6330847144126892, 0.5293429493904114, 1.1469393968582153, 0.8008584976196289, 0.0, 1.1787470579147339, 0.02921205572783947]),\n",
       " Row(id=250, features=[0.24335739016532898, 0.554424524307251, 0.04896852746605873, 1.2219852209091187, 1.0923423767089844, 2.290130853652954, 1.609166145324707, 0.014108198694884777, 2.366713523864746, 0.0545034185051918]),\n",
       " Row(id=251, features=[0.13110676407814026, 0.2572694718837738, 0.0, 0.6326600909233093, 0.525339663028717, 1.1626793146133423, 0.7987313270568848, 0.0, 1.1706033945083618, 0.02416020631790161]),\n",
       " Row(id=252, features=[0.1337304264307022, 0.2518064081668854, 0.0, 0.6324396729469299, 0.523573637008667, 1.1694371700286865, 0.7977631092071533, 0.0, 1.1670050621032715, 0.02196836844086647]),\n",
       " Row(id=253, features=[0.1345662772655487, 0.24183157086372375, 0.0, 0.6306050419807434, 0.5291545391082764, 1.1717129945755005, 0.8007821440696716, 0.0, 1.164014458656311, 0.01624598540365696]),\n",
       " Row(id=254, features=[0.12492351233959198, 0.2671128511428833, 0.0, 0.6309024095535278, 0.5359793305397034, 1.1461421251296997, 0.8014112710952759, 0.0, 1.1781456470489502, 0.028697684407234192]),\n",
       " Row(id=255, features=[0.13352374732494354, 0.2557992935180664, 0.0, 0.623170793056488, 0.5451859831809998, 1.1499189138412476, 0.8017920851707458, 0.0, 1.1768317222595215, 0.024456018581986427]),\n",
       " Row(id=256, features=[0.1414213329553604, 0.23154647648334503, 0.0, 0.6304766535758972, 0.5310856103897095, 1.173892855644226, 0.8085552453994751, 0.0, 1.1584481000900269, 0.008464942686259747]),\n",
       " Row(id=257, features=[0.12503843009471893, 0.26983487606048584, 0.0, 0.6330847144126892, 0.5293429493904114, 1.1469393968582153, 0.8008584976196289, 0.0, 1.1787470579147339, 0.02921205572783947]),\n",
       " Row(id=258, features=[0.13593049347400665, 0.23522531986236572, 0.0, 0.632388174533844, 0.5306352376937866, 1.1756120920181274, 0.8023069500923157, 0.0, 1.1594617366790771, 0.01058698445558548]),\n",
       " Row(id=259, features=[0.12701711058616638, 0.265746146440506, 0.0, 0.6329565048217773, 0.5280473232269287, 1.1520847082138062, 0.8001783490180969, 0.0, 1.1761131286621094, 0.02756693959236145]),\n",
       " Row(id=260, features=[0.12503843009471893, 0.26983487606048584, 0.0, 0.6330847144126892, 0.5293429493904114, 1.1469393968582153, 0.8008584976196289, 0.0, 1.1787470579147339, 0.02921205572783947]),\n",
       " Row(id=261, features=[0.12503843009471893, 0.26983487606048584, 0.0, 0.6330847144126892, 0.5293429493904114, 1.1469393968582153, 0.8008584976196289, 0.0, 1.1787470579147339, 0.02921205572783947]),\n",
       " Row(id=262, features=[0.3749581575393677, 0.8057594895362854, 0.0, 1.8962551355361938, 1.5971699953079224, 3.439730644226074, 2.403343439102173, 0.0, 3.535423517227173, 0.08692826330661774]),\n",
       " Row(id=263, features=[0.13530822098255157, 0.23287653923034668, 0.0, 0.6289260387420654, 0.5341286063194275, 1.1736891269683838, 0.8034448623657227, 0.0, 1.1612699031829834, 0.011115334928035736]),\n",
       " Row(id=264, features=[0.1292361468076706, 0.2611517310142517, 0.0, 0.6328017711639404, 0.5265839099884033, 1.1578410863876343, 0.7994011640548706, 0.0, 1.1731362342834473, 0.025719717144966125]),\n",
       " Row(id=265, features=[0.1246492862701416, 0.26087290048599243, 0.0, 0.6258602142333984, 0.5510799884796143, 1.1442131996154785, 0.8025972247123718, 0.0, 1.1766610145568848, 0.02752061001956463]),\n",
       " Row(id=266, features=[0.6769767999649048, 1.1684232950210571, 0.0, 3.1449525356292725, 2.6862263679504395, 5.851607322692871, 4.022977828979492, 0.0, 5.810884475708008, 0.057148221880197525]),\n",
       " Row(id=267, features=[0.4036988317966461, 0.7254946827888489, 0.0, 1.891815185546875, 1.587463617324829, 3.515138864517212, 2.402346611022949, 0.0, 3.4920432567596436, 0.04873795434832573]),\n",
       " Row(id=268, features=[0.12503843009471893, 0.26983487606048584, 0.0, 0.6330847144126892, 0.5293429493904114, 1.1469393968582153, 0.8008584976196289, 0.0, 1.1787470579147339, 0.02921205572783947]),\n",
       " Row(id=269, features=[0.1317799985408783, 0.2558698356151581, 0.0, 0.6326062083244324, 0.5248889923095703, 1.1644166707992554, 0.7984863519668579, 0.0, 1.1696856021881104, 0.023598330095410347]),\n",
       " Row(id=270, features=[0.12971530854701996, 0.2601581811904907, 0.0, 0.6327665448188782, 0.5262662172317505, 1.1590816974639893, 0.7992309927940369, 0.0, 1.1724897623062134, 0.025320474058389664]),\n",
       " Row(id=271, features=[0.12503843009471893, 0.26983487606048584, 0.0, 0.6330847144126892, 0.5293429493904114, 1.1469393968582153, 0.8008584976196289, 0.0, 1.1787470579147339, 0.02921205572783947]),\n",
       " Row(id=272, features=[0.12503843009471893, 0.26983487606048584, 0.0, 0.6330847144126892, 0.5293429493904114, 1.1469393968582153, 0.8008584976196289, 0.0, 1.1787470579147339, 0.02921205572783947]),\n",
       " Row(id=273, features=[0.25864776968955994, 0.5219396948814392, 0.0, 1.2655906677246094, 1.0530515909194946, 2.316136598587036, 1.5987402200698853, 0.0, 2.346035957336426, 0.05129323527216911]),\n",
       " Row(id=274, features=[0.13410316407680511, 0.247370645403862, 0.0, 0.6316277980804443, 0.5260599255561829, 1.1704574823379517, 0.799111545085907, 0.0, 1.1656824350357056, 0.019422827288508415]),\n",
       " Row(id=275, features=[0.12503843009471893, 0.26983487606048584, 0.0, 0.6330847144126892, 0.5293429493904114, 1.1469393968582153, 0.8008584976196289, 0.0, 1.1787470579147339, 0.02921205572783947]),\n",
       " Row(id=276, features=[0.12503843009471893, 0.26983487606048584, 0.0, 0.6330847144126892, 0.5293429493904114, 1.1469393968582153, 0.8008584976196289, 0.0, 1.1787470579147339, 0.02921205572783947]),\n",
       " Row(id=277, features=[0.13584734499454498, 0.24663907289505005, 0.0, 0.6377179622650146, 0.5219235420227051, 1.1756278276443481, 0.7983949780464172, 0.0, 1.1602017879486084, 0.015134450048208237]),\n",
       " Row(id=278, features=[0.1266985982656479, 0.26640477776527405, 0.0, 0.6329776644706726, 0.5282564163208008, 1.1512572765350342, 0.8002885580062866, 0.0, 1.1765382289886475, 0.027831876650452614]),\n",
       " Row(id=279, features=[0.2609177231788635, 0.5137593746185303, 0.0, 1.264685034751892, 1.0541481971740723, 2.3220744132995605, 1.5993483066558838, 0.0, 2.342207431793213, 0.04728066921234131]),\n",
       " Row(id=280, features=[0.39902564883232117, 0.7523020505905151, 0.0, 1.8958882093429565, 1.5779093503952026, 3.502880811691284, 2.3972132205963135, 0.0, 3.5023269653320312, 0.06305340677499771]),\n",
       " Row(id=281, features=[0.12655088305473328, 0.26336440443992615, 0.0, 0.6305120587348938, 0.5357717871665955, 1.1503102779388428, 0.800920307636261, 0.0, 1.175883173942566, 0.027265219017863274]),\n",
       " Row(id=282, features=[0.1337304264307022, 0.2518064081668854, 0.0, 0.6324396729469299, 0.523573637008667, 1.1694371700286865, 0.7977631092071533, 0.0, 1.1670050621032715, 0.02196836844086647]),\n",
       " Row(id=283, features=[0.25007686018943787, 0.5396697521209717, 0.0, 1.2661694288253784, 1.0586858987808228, 2.2938787937164307, 1.6017169952392578, 0.0, 2.3574941158294678, 0.05842411145567894]),\n",
       " Row(id=284, features=[0.1266985982656479, 0.26640477776527405, 0.0, 0.6329776644706726, 0.5282564163208008, 1.1512572765350342, 0.8002885580062866, 0.0, 1.1765382289886475, 0.027831876650452614]),\n",
       " Row(id=285, features=[0.1288466453552246, 0.2619589865207672, 0.0, 0.6328298449516296, 0.5268417000770569, 1.156831979751587, 0.7995388507843018, 0.0, 1.1736607551574707, 0.026044156402349472]),\n",
       " Row(id=286, features=[0.12503843009471893, 0.26983487606048584, 0.0, 0.6330847144126892, 0.5293429493904114, 1.1469393968582153, 0.8008584976196289, 0.0, 1.1787470579147339, 0.02921205572783947]),\n",
       " Row(id=287, features=[0.1337304264307022, 0.2518064081668854, 0.0, 0.6324396729469299, 0.523573637008667, 1.1694371700286865, 0.7977631092071533, 0.0, 1.1670050621032715, 0.02196836844086647]),\n",
       " Row(id=288, features=[0.12503843009471893, 0.26983487606048584, 0.0, 0.6330847144126892, 0.5293429493904114, 1.1469393968582153, 0.8008584976196289, 0.0, 1.1787470579147339, 0.02921205572783947]),\n",
       " Row(id=289, features=[0.135483980178833, 0.23073767125606537, 0.0, 0.6285195350646973, 0.5353103876113892, 1.1741496324539185, 0.8040726780891418, 0.0, 1.1606042385101318, 0.009891047142446041]),\n",
       " Row(id=290, features=[0.1264684796333313, 0.2668805420398712, 0.0, 0.6329928636550903, 0.5284073352813721, 1.150659203529358, 0.8003680109977722, 0.0, 1.1768451929092407, 0.028023261576890945]),\n",
       " Row(id=291, features=[0.25676390528678894, 0.5258432030677795, 0.0, 1.2657257318496704, 1.0542974472045898, 2.3112545013427734, 1.5994046926498413, 0.0, 2.3485708236694336, 0.052862223237752914]),\n",
       " Row(id=292, features=[0.14088188111782074, 0.23472000658512115, 0.0, 0.6208785176277161, 0.5456367135047913, 1.1681243181228638, 0.8016694188117981, 0.0, 1.165871024131775, 0.014797967858612537]),\n",
       " Row(id=293, features=[0.12503843009471893, 0.26983487606048584, 0.0, 0.6330847144126892, 0.5293429493904114, 1.1469393968582153, 0.8008584976196289, 0.0, 1.1787470579147339, 0.02921205572783947]),\n",
       " Row(id=294, features=[0.12490468472242355, 0.26667290925979614, 0.0, 0.6305487751960754, 0.5370492935180664, 1.1460109949111938, 0.8014987111091614, 0.0, 1.1780459880828857, 0.028614597395062447]),\n",
       " Row(id=295, features=[0.1317799985408783, 0.2558698356151581, 0.0, 0.6326062083244324, 0.5248889923095703, 1.1644166707992554, 0.7984863519668579, 0.0, 1.1696856021881104, 0.023598330095410347]),\n",
       " Row(id=296, features=[0.13209718465805054, 0.24662411212921143, 0.0, 0.6307498216629028, 0.5310994386672974, 1.1653772592544556, 0.8018582463264465, 0.0, 1.1673505306243896, 0.01809166744351387]),\n",
       " Row(id=297, features=[0.12503843009471893, 0.26983487606048584, 0.0, 0.6330847144126892, 0.5293429493904114, 1.1469393968582153, 0.8008584976196289, 0.0, 1.1787470579147339, 0.02921205572783947]),\n",
       " Row(id=298, features=[0.1337304264307022, 0.2518064081668854, 0.0, 0.6324396729469299, 0.523573637008667, 1.1694371700286865, 0.7977631092071533, 0.0, 1.1670050621032715, 0.02196836844086647]),\n",
       " Row(id=299, features=[0.1274871826171875, 0.26477375626564026, 0.0, 0.6329247355461121, 0.5277383327484131, 1.1533055305480957, 0.8000150918960571, 0.0, 1.1754846572875977, 0.027175845578312874]),\n",
       " Row(id=300, features=[0.38196566700935364, 0.6572510004043579, 0.24400758743286133, 1.843571662902832, 1.647638201713562, 3.5076375007629395, 2.4154000282287598, 0.0, 3.49606990814209, 0.04520744830369949]),\n",
       " Row(id=301, features=[0.06523608416318893, 0.2555457353591919, 0.0, 0.48534002900123596, 0.5890501141548157, 1.121555209159851, 0.8723951578140259, 0.0, 1.212577223777771, 0.030015256255865097]),\n",
       " Row(id=302, features=[0.26636430621147156, 0.5059000253677368, 0.0, 1.2649762630462646, 1.0478899478912354, 2.3360559940338135, 1.5959371328353882, 0.0, 2.335524082183838, 0.04485379904508591]),\n",
       " Row(id=303, features=[0.12503843009471893, 0.26983487606048584, 0.0, 0.6330847144126892, 0.5293429493904114, 1.1469393968582153, 0.8008584976196289, 0.0, 1.1787470579147339, 0.02921205572783947]),\n",
       " Row(id=304, features=[0.39556288719177246, 0.7411651015281677, 0.0, 1.8910108804702759, 1.5974371433258057, 3.4938158988952637, 2.4053778648376465, 0.0, 3.5029163360595703, 0.055707015097141266]),\n",
       " Row(id=305, features=[0.24973444640636444, 0.5316051840782166, 0.0, 1.2596967220306396, 1.0783272981643677, 2.2914986610412598, 1.6033400297164917, 0.0, 2.3556933403015137, 0.05690054967999458]),\n",
       " Row(id=306, features=[0.12487843632698059, 0.2660624086856842, 0.0, 0.6300575733184814, 0.5385327339172363, 1.1458276510238647, 0.8016191124916077, 0.0, 1.1779065132141113, 0.02849932760000229]),\n",
       " Row(id=307, features=[0.24995215237140656, 0.536700427532196, 0.0, 1.2637913227081299, 1.065932035446167, 2.293015241622925, 1.6023248434066772, 0.0, 2.356844663619995, 0.05786288157105446]),\n",
       " Row(id=308, features=[0.2259303480386734, 0.7128020524978638, 0.0, 1.5262627601623535, 1.831489086151123, 3.3583450317382812, 2.5862691402435303, 0.0, 3.603090286254883, 0.0855010598897934]),\n",
       " Row(id=309, features=[0.1345662772655487, 0.24183157086372375, 0.0, 0.6306050419807434, 0.5291545391082764, 1.1717129945755005, 0.8007821440696716, 0.0, 1.164014458656311, 0.01624598540365696]),\n",
       " Row(id=310, features=[0.12503843009471893, 0.26983487606048584, 0.0, 0.6330847144126892, 0.5293429493904114, 1.1469393968582153, 0.8008584976196289, 0.0, 1.1787470579147339, 0.02921205572783947]),\n",
       " Row(id=311, features=[0.26016974449157715, 0.5158938765525818, 0.0, 1.254563570022583, 1.0799857378005981, 2.3051602840423584, 1.6020283699035645, 0.0, 2.349552631378174, 0.050591208040714264]),\n",
       " Row(id=312, features=[0.5093259811401367, 1.0603834390640259, 0.0, 2.5317413806915283, 2.111362934112549, 4.611605167388916, 3.2002768516540527, 0.0, 4.7027716636657715, 0.10922155529260635]),\n",
       " Row(id=313, features=[0.12890268862247467, 0.24102865159511566, 0.0, 0.62204909324646, 0.559329092502594, 1.1549073457717896, 0.8049314022064209, 0.0, 1.1682239770889282, 0.018094239756464958]),\n",
       " Row(id=314, features=[0.12487843632698059, 0.2660624086856842, 0.0, 0.6300575733184814, 0.5385327339172363, 1.1458276510238647, 0.8016191124916077, 0.0, 1.1779065132141113, 0.02849932760000229]),\n",
       " Row(id=315, features=[0.1278483271598816, 0.24346831440925598, 0.0, 0.6212432980537415, 0.5623420476913452, 1.1518151760101318, 0.8047518730163574, 0.0, 1.1695901155471802, 0.019837506115436554]),\n",
       " Row(id=316, features=[0.12493768334388733, 0.26744508743286133, 0.0, 0.631169319152832, 0.5351707935333252, 1.1462408304214478, 0.8013448715209961, 0.0, 1.178220510482788, 0.02876044064760208]),\n",
       " Row(id=317, features=[0.3812178373336792, 0.792194128036499, 0.0, 1.896433711051941, 1.591549277305603, 3.4562737941741943, 2.401768922805786, 0.0, 3.5270018577575684, 0.08078811317682266]),\n",
       " Row(id=318, features=[0.3808833658695221, 0.7667840719223022, 0.0, 1.8658981323242188, 1.6760667562484741, 3.4336745738983154, 2.4091622829437256, 0.0, 3.527177333831787, 0.07780615985393524]),\n",
       " Row(id=319, features=[0.13291257619857788, 0.24917256832122803, 0.0, 0.6315886974334717, 0.5273779630661011, 1.1674102544784546, 0.7998365759849548, 0.0, 1.1671775579452515, 0.020002147182822227]),\n",
       " Row(id=320, features=[0.39695432782173157, 0.7566537261009216, 0.0, 1.8931200504302979, 1.5875391960144043, 3.4965178966522217, 2.396669864654541, 0.0, 3.505006790161133, 0.06707610189914703]),\n",
       " Row(id=321, features=[0.13055379688739777, 0.25169891119003296, 0.0, 0.6312739253044128, 0.5307415127754211, 1.1613672971725464, 0.8016670346260071, 0.0, 1.1698739528656006, 0.020518112927675247]),\n",
       " Row(id=322, features=[0.13127370178699493, 0.24414107203483582, 0.0, 0.6299149990081787, 0.5347768664360046, 1.1633116006851196, 0.8038493394851685, 0.0, 1.1675291061401367, 0.01622007042169571]),\n",
       " Row(id=323, features=[0.13494624197483063, 0.2372594177722931, 0.0, 0.6297521591186523, 0.5316990613937378, 1.1727310419082642, 0.802148163318634, 0.0, 1.162621259689331, 0.013625524938106537]),\n",
       " Row(id=324, features=[0.12503843009471893, 0.26983487606048584, 0.0, 0.6330847144126892, 0.5293429493904114, 1.1469393968582153, 0.8008584976196289, 0.0, 1.1787470579147339, 0.02921205572783947]),\n",
       " Row(id=325, features=[0.3845285177230835, 0.7814129590988159, 0.0, 1.895640254020691, 1.5915699005126953, 3.465031862258911, 2.402336597442627, 0.0, 3.521723747253418, 0.07542695850133896]),\n",
       " Row(id=326, features=[0.26391705870628357, 0.5063271522521973, 0.0, 1.2641921043395996, 1.0530405044555664, 2.329838752746582, 1.5987480878829956, 0.0, 2.3378593921661377, 0.04404596611857414]),\n",
       " Row(id=327, features=[0.13292942941188812, 0.2372698038816452, 0.0, 0.6290302872657776, 0.53619384765625, 1.167608618736267, 0.8045977354049683, 0.0, 1.1644636392593384, 0.012752254493534565]),\n",
       " Row(id=328, features=[0.37413930892944336, 0.7868819832801819, 0.0, 1.8810405731201172, 1.6429654359817505, 3.4339959621429443, 2.4070122241973877, 0.0, 3.5310378074645996, 0.08336525410413742]),\n",
       " Row(id=329, features=[0.37957102060317993, 0.7933818101882935, 0.0, 1.8938522338867188, 1.6004691123962402, 3.4512510299682617, 2.402256965637207, 0.0, 3.528564929962158, 0.08250672370195389]),\n",
       " Row(id=330, features=[0.13110676407814026, 0.2572694718837738, 0.0, 0.6326600909233093, 0.525339663028717, 1.1626793146133423, 0.7987313270568848, 0.0, 1.1706033945083618, 0.02416020631790161]),\n",
       " Row(id=331, features=[0.49823543429374695, 1.03558349609375, 0.0, 2.4969985485076904, 2.223309278488159, 4.574275493621826, 3.211785316467285, 0.0, 4.704623222351074, 0.1085934117436409]),\n",
       " Row(id=332, features=[0.12503843009471893, 0.26983487606048584, 0.0, 0.6330847144126892, 0.5293429493904114, 1.1469393968582153, 0.8008584976196289, 0.0, 1.1787470579147339, 0.02921205572783947]),\n",
       " Row(id=333, features=[0.14178365468978882, 0.23188866674900055, 0.0, 0.6174492239952087, 0.5531675219535828, 1.1645383834838867, 0.8033318519592285, 0.0, 1.1670606136322021, 0.0135178929194808]),\n",
       " Row(id=334, features=[0.13367599248886108, 0.23778921365737915, 0.0, 0.6284884810447693, 0.5491020679473877, 1.1560094356536865, 0.8087955117225647, 0.0, 1.1665102243423462, 0.018799467012286186]),\n",
       " Row(id=335, features=[0.1337304264307022, 0.2518064081668854, 0.0, 0.6324396729469299, 0.523573637008667, 1.1694371700286865, 0.7977631092071533, 0.0, 1.1670050621032715, 0.02196836844086647]),\n",
       " Row(id=336, features=[0.3877589702606201, 0.7489216327667236, 0.0, 1.8814160823822021, 1.6319870948791504, 3.4707369804382324, 2.407780170440674, 0.0, 3.5109174251556396, 0.06347005814313889]),\n",
       " Row(id=337, features=[0.1266619861125946, 0.2631640136241913, 0.0, 0.6322765946388245, 0.5307682156562805, 1.1512227058410645, 0.8016555309295654, 0.0, 1.1758607625961304, 0.025836311280727386]),\n",
       " Row(id=338, features=[0.09894329309463501, 0.25470268726348877, 0.0051851291209459305, 0.6345434784889221, 0.5132923722267151, 1.170650601387024, 0.8035640716552734, 0.0, 1.166263461112976, 0.018330181017518044]),\n",
       " Row(id=339, features=[0.12971530854701996, 0.2601581811904907, 0.0, 0.6327665448188782, 0.5262662172317505, 1.1590816974639893, 0.7992309927940369, 0.0, 1.1724897623062134, 0.025320474058389664]),\n",
       " Row(id=340, features=[0.12495339661836624, 0.2678147256374359, 0.0, 0.6314660906791687, 0.5342707633972168, 1.1463501453399658, 0.801270604133606, 0.0, 1.1783032417297363, 0.02883026748895645]),\n",
       " Row(id=341, features=[0.12814059853553772, 0.26122382283210754, 0.0, 0.6312550902366638, 0.532189130783081, 1.154634952545166, 0.8001729846000671, 0.0, 1.1740554571151733, 0.026179276406764984]),\n",
       " Row(id=342, features=[0.12971530854701996, 0.2601581811904907, 0.0, 0.6327665448188782, 0.5262662172317505, 1.1590816974639893, 0.7992309927940369, 0.0, 1.1724897623062134, 0.025320474058389664]),\n",
       " Row(id=343, features=[0.12422249466180801, 0.2518303096294403, 0.0, 0.6184454560279846, 0.5726557374000549, 1.141141653060913, 0.8040945529937744, 0.0, 1.174220085144043, 0.025820501148700714]),\n",
       " Row(id=344, features=[0.4160616397857666, 0.726309597492218, 0.022029845044016838, 1.8118274211883545, 1.7281010150909424, 3.4454002380371094, 2.413464307785034, 0.006346963346004486, 3.5264744758605957, 0.05807960033416748]),\n",
       " Row(id=345, features=[0.12726306915283203, 0.26035064458847046, 0.0, 0.6293219327926636, 0.5387032628059387, 1.1518938541412354, 0.8009319305419922, 0.0, 1.174527883529663, 0.026355000212788582]),\n",
       " Row(id=346, features=[0.12701711058616638, 0.265746146440506, 0.0, 0.6329565048217773, 0.5280473232269287, 1.1520847082138062, 0.8001783490180969, 0.0, 1.1761131286621094, 0.02756693959236145]),\n",
       " Row(id=347, features=[0.1268387883901596, 0.262143611907959, 0.0, 0.6300293207168579, 0.5369642376899719, 1.1509507894515991, 0.8009264469146729, 0.0, 1.1753358840942383, 0.026896772906184196]),\n",
       " Row(id=348, features=[0.13110676407814026, 0.2572694718837738, 0.0, 0.6326600909233093, 0.525339663028717, 1.1626793146133423, 0.7987313270568848, 0.0, 1.1706033945083618, 0.02416020631790161]),\n",
       " Row(id=349, features=[0.1337304264307022, 0.2518064081668854, 0.0, 0.6324396729469299, 0.523573637008667, 1.1694371700286865, 0.7977631092071533, 0.0, 1.1670050621032715, 0.02196836844086647]),\n",
       " Row(id=350, features=[0.12971530854701996, 0.2601581811904907, 0.0, 0.6327665448188782, 0.5262662172317505, 1.1590816974639893, 0.7992309927940369, 0.0, 1.1724897623062134, 0.025320474058389664]),\n",
       " Row(id=351, features=[0.37996339797973633, 0.7957877516746521, 0.0, 1.8981577157974243, 1.587633490562439, 3.4534964561462402, 2.4024240970611572, 0.0, 3.5289828777313232, 0.08134490251541138]),\n",
       " Row(id=352, features=[0.12701711058616638, 0.265746146440506, 0.0, 0.6329565048217773, 0.5280473232269287, 1.1520847082138062, 0.8001783490180969, 0.0, 1.1761131286621094, 0.02756693959236145]),\n",
       " Row(id=353, features=[0.23530066013336182, 0.7213005423545837, 0.0, 1.543341040611267, 1.8029545545578003, 3.3671162128448486, 2.5794734954833984, 0.0, 3.6040384769439697, 0.0855657160282135]),\n",
       " Row(id=354, features=[0.12503843009471893, 0.26983487606048584, 0.0, 0.6330847144126892, 0.5293429493904114, 1.1469393968582153, 0.8008584976196289, 0.0, 1.1787470579147339, 0.02921205572783947]),\n",
       " Row(id=355, features=[0.1343679130077362, 0.2442082315683365, 0.0, 0.6310451626777649, 0.5278282165527344, 1.1711770296096802, 0.8000673055648804, 0.0, 1.164732575416565, 0.017608806490898132]),\n",
       " Row(id=356, features=[0.12503843009471893, 0.26983487606048584, 0.0, 0.6330847144126892, 0.5293429493904114, 1.1469393968582153, 0.8008584976196289, 0.0, 1.1787470579147339, 0.02921205572783947]),\n",
       " Row(id=357, features=[0.12608234584331512, 0.2626937925815582, 0.0, 0.6293269395828247, 0.5396908521652222, 1.1488072872161865, 0.8013546466827393, 0.0, 1.1760749816894531, 0.0273167472332716]),\n",
       " Row(id=358, features=[0.1337304264307022, 0.2518064081668854, 0.0, 0.6324396729469299, 0.523573637008667, 1.1694371700286865, 0.7977631092071533, 0.0, 1.1670050621032715, 0.02196836844086647]),\n",
       " Row(id=359, features=[0.12825137376785278, 0.26319199800491333, 0.0, 0.6328720450401306, 0.5272349119186401, 1.155288577079773, 0.7997481822967529, 0.0, 1.1744606494903564, 0.026539823040366173]),\n",
       " Row(id=360, features=[0.12825137376785278, 0.26319199800491333, 0.0, 0.6328720450401306, 0.5272349119186401, 1.155288577079773, 0.7997481822967529, 0.0, 1.1744606494903564, 0.026539823040366173]),\n",
       " Row(id=361, features=[0.1337304264307022, 0.2518064081668854, 0.0, 0.6324396729469299, 0.523573637008667, 1.1694371700286865, 0.7977631092071533, 0.0, 1.1670050621032715, 0.02196836844086647]),\n",
       " Row(id=362, features=[0.12439770251512527, 0.25545650720596313, 0.0, 0.6214337944984436, 0.5640460252761841, 1.1424115896224976, 0.8035246729850769, 0.0, 1.1752389669418335, 0.0265014860779047]),\n",
       " Row(id=363, features=[0.26456454396247864, 0.47991785407066345, 0.0, 1.258758306503296, 1.0712836980819702, 2.3318653106689453, 1.6086169481277466, 0.0, 2.3313357830047607, 0.02821788564324379]),\n",
       " Row(id=364, features=[0.25209710001945496, 0.5354968309402466, 0.0, 1.266040563583374, 1.0573649406433105, 2.2991347312927246, 1.6010252237319946, 0.0, 2.354809045791626, 0.05674486979842186]),\n",
       " Row(id=365, features=[0.12503843009471893, 0.26983487606048584, 0.0, 0.6330847144126892, 0.5293429493904114, 1.1469393968582153, 0.8008584976196289, 0.0, 1.1787470579147339, 0.02921205572783947]),\n",
       " Row(id=366, features=[0.1268554925918579, 0.26066720485687256, 0.009319808334112167, 0.6209624409675598, 0.5509217977523804, 1.156727910041809, 0.7830209136009216, 0.018056174740195274, 1.1747430562973022, 0.024953607469797134]),\n",
       " Row(id=367, features=[0.12503843009471893, 0.26983487606048584, 0.0, 0.6330847144126892, 0.5293429493904114, 1.1469393968582153, 0.8008584976196289, 0.0, 1.1787470579147339, 0.02921205572783947]),\n",
       " Row(id=368, features=[0.12971530854701996, 0.2601581811904907, 0.0, 0.6327665448188782, 0.5262662172317505, 1.1590816974639893, 0.7992309927940369, 0.0, 1.1724897623062134, 0.025320474058389664]),\n",
       " Row(id=369, features=[0.1337304264307022, 0.2518064081668854, 0.0, 0.6324396729469299, 0.523573637008667, 1.1694371700286865, 0.7977631092071533, 0.0, 1.1670050621032715, 0.02196836844086647]),\n",
       " Row(id=370, features=[0.12971530854701996, 0.2601581811904907, 0.0, 0.6327665448188782, 0.5262662172317505, 1.1590816974639893, 0.7992309927940369, 0.0, 1.1724897623062134, 0.025320474058389664]),\n",
       " Row(id=371, features=[0.12503843009471893, 0.26983487606048584, 0.0, 0.6330847144126892, 0.5293429493904114, 1.1469393968582153, 0.8008584976196289, 0.0, 1.1787470579147339, 0.02921205572783947]),\n",
       " Row(id=372, features=[0.1288466453552246, 0.2619589865207672, 0.0, 0.6328298449516296, 0.5268417000770569, 1.156831979751587, 0.7995388507843018, 0.0, 1.1736607551574707, 0.026044156402349472]),\n",
       " Row(id=373, features=[0.39607372879981995, 0.7388836145401001, 0.020059635862708092, 1.870492696762085, 1.63840651512146, 3.5092642307281494, 2.3682374954223633, 0.038863491266965866, 3.5055832862854004, 0.05409952253103256]),\n",
       " Row(id=374, features=[0.12745307385921478, 0.25954973697662354, 0.0, 0.6290063261985779, 0.5394757986068726, 1.1523157358169556, 0.8009331226348877, 0.0, 1.1741652488708496, 0.026112768799066544]),\n",
       " Row(id=375, features=[0.6618064045906067, 1.2667587995529175, 0.0, 3.1614034175872803, 2.6274003982543945, 5.829695224761963, 3.9940366744995117, 0.0, 5.843018054962158, 0.11156787723302841]),\n",
       " Row(id=376, features=[0.1337304264307022, 0.2518064081668854, 0.0, 0.6324396729469299, 0.523573637008667, 1.1694371700286865, 0.7977631092071533, 0.0, 1.1670050621032715, 0.02196836844086647]),\n",
       " Row(id=377, features=[0.2508024573326111, 0.5296238660812378, 0.0, 1.2597960233688354, 1.0771387815475464, 2.294318437576294, 1.6029396057128906, 0.0, 2.354336738586426, 0.056059230118989944]),\n",
       " Row(id=378, features=[0.12503843009471893, 0.26983487606048584, 0.0, 0.6330847144126892, 0.5293429493904114, 1.1469393968582153, 0.8008584976196289, 0.0, 1.1787470579147339, 0.02921205572783947]),\n",
       " Row(id=379, features=[0.39942389726638794, 0.7528740167617798, 0.0, 1.8961517810821533, 1.576589822769165, 3.503880500793457, 2.396493673324585, 0.0, 3.502087116241455, 0.06357677280902863]),\n",
       " Row(id=380, features=[0.1282206028699875, 0.2517145872116089, 0.0, 0.6279550194740295, 0.5426599979400635, 1.1545144319534302, 0.8033321499824524, 0.0, 1.1717486381530762, 0.021399734541773796]),\n",
       " Row(id=381, features=[0.13424581289291382, 0.24566809833049774, 0.0, 0.6313145160675049, 0.5270124077796936, 1.1708457469940186, 0.7996267080307007, 0.0, 1.1651718616485596, 0.018446125090122223]),\n",
       " Row(id=382, features=[0.1337304264307022, 0.2518064081668854, 0.0, 0.6324396729469299, 0.523573637008667, 1.1694371700286865, 0.7977631092071533, 0.0, 1.1670050621032715, 0.02196836844086647]),\n",
       " Row(id=383, features=[0.12477424740791321, 0.2636721730232239, 0.0, 0.6281293034553528, 0.5443260073661804, 1.145096778869629, 0.8020797967910767, 0.0, 1.1773462295532227, 0.028048280626535416]),\n",
       " Row(id=384, features=[0.12622681260108948, 0.26172947883605957, 0.0, 0.6288231611251831, 0.5410600304603577, 1.1490657329559326, 0.8014140129089355, 0.0, 1.1757045984268188, 0.027059253305196762]),\n",
       " Row(id=385, features=[0.1337304264307022, 0.2518064081668854, 0.0, 0.6324396729469299, 0.523573637008667, 1.1694371700286865, 0.7977631092071533, 0.0, 1.1670050621032715, 0.02196836844086647]),\n",
       " Row(id=386, features=[0.12503843009471893, 0.26983487606048584, 0.0, 0.6330847144126892, 0.5293429493904114, 1.1469393968582153, 0.8008584976196289, 0.0, 1.1787470579147339, 0.02921205572783947]),\n",
       " Row(id=387, features=[0.1358412355184555, 0.24695773422718048, 0.020887082442641258, 0.6017691493034363, 0.5580641031265259, 1.157200574874878, 0.8064925074577332, 0.004930870141834021, 1.172875165939331, 0.014888693578541279]),\n",
       " Row(id=388, features=[0.5324637293815613, 1.0123522281646729, 0.0, 2.529975414276123, 2.095958948135376, 4.671430587768555, 3.1919729709625244, 0.0, 4.671412944793701, 0.08992905169725418]),\n",
       " Row(id=389, features=[0.12478320300579071, 0.26386958360671997, 0.0, 0.6282898187637329, 0.5438512563705444, 1.145160436630249, 0.8020443916320801, 0.0, 1.1773959398269653, 0.028085464611649513]),\n",
       " Row(id=390, features=[0.1246492862701416, 0.26087290048599243, 0.0, 0.6258602142333984, 0.5510799884796143, 1.1442131996154785, 0.8025972247123718, 0.0, 1.1766610145568848, 0.02752061001956463]),\n",
       " Row(id=391, features=[0.25220105051994324, 0.5352820754051208, 0.0, 1.2660337686538696, 1.057296872138977, 2.299405097961426, 1.6009894609451294, 0.0, 2.354670763015747, 0.05665844678878784]),\n",
       " Row(id=392, features=[0.2529369592666626, 0.5337610840797424, 0.0, 1.2659857273101807, 1.0568146705627441, 2.301318407058716, 1.6007360219955444, 0.0, 2.3536903858184814, 0.05604652315378189]),\n",
       " Row(id=393, features=[0.2594306170940399, 0.5203163623809814, 0.0, 1.2655330896377563, 1.052532434463501, 2.3181633949279785, 1.5984619855880737, 0.0, 2.3449795246124268, 0.05064094811677933]),\n",
       " Row(id=394, features=[0.1304292529821396, 0.25033921003341675, 0.0, 0.6182646155357361, 0.56391841173172, 1.145822286605835, 0.8032715320587158, 0.0, 1.1749577522277832, 0.02408675290644169]),\n",
       " Row(id=395, features=[0.12971530854701996, 0.2601581811904907, 0.0, 0.6327665448188782, 0.5262662172317505, 1.1590816974639893, 0.7992309927940369, 0.0, 1.1724897623062134, 0.025320474058389664]),\n",
       " Row(id=396, features=[0.24508623778820038, 0.4472711682319641, 0.16259048879146576, 1.2377163171768188, 1.1175076961517334, 2.356095314025879, 1.568952202796936, 0.0033244153019040823, 2.334599018096924, 0.03505987673997879]),\n",
       " Row(id=397, features=[0.2530389428138733, 0.5292708873748779, 0.0, 1.2628146409988403, 1.0662490129470825, 2.300868272781372, 1.6014503240585327, 0.0, 2.352473020553589, 0.05507997050881386]),\n",
       " Row(id=398, features=[0.12477424740791321, 0.2636721730232239, 0.0, 0.6281293034553528, 0.5443260073661804, 1.145096778869629, 0.8020797967910767, 0.0, 1.1773462295532227, 0.028048280626535416]),\n",
       " Row(id=399, features=[0.1337304264307022, 0.2518064081668854, 0.0, 0.6324396729469299, 0.523573637008667, 1.1694371700286865, 0.7977631092071533, 0.0, 1.1670050621032715, 0.02196836844086647]),\n",
       " Row(id=400, features=[0.25649696588516235, 0.5189581513404846, 0.0, 1.2625735998153687, 1.0644912719726562, 2.3101372718811035, 1.601830244064331, 0.0, 2.3471970558166504, 0.0497635118663311]),\n",
       " Row(id=401, features=[0.13565702736377716, 0.22862441837787628, 0.0, 0.6281155943870544, 0.536475419998169, 1.1745997667312622, 0.8046895265579224, 0.0, 1.1599421501159668, 0.00868191383779049]),\n",
       " Row(id=402, features=[0.12451118975877762, 0.2578672468662262, 0.0, 0.6234094500541687, 0.5582907795906067, 1.1432276964187622, 0.8031232357025146, 0.0, 1.1758867502212524, 0.02695479430258274]),\n",
       " Row(id=403, features=[0.1246492862701416, 0.26087290048599243, 0.0, 0.6258602142333984, 0.5510799884796143, 1.1442131996154785, 0.8025972247123718, 0.0, 1.1766610145568848, 0.02752061001956463]),\n",
       " Row(id=404, features=[0.1337304264307022, 0.2518064081668854, 0.0, 0.6324396729469299, 0.523573637008667, 1.1694371700286865, 0.7977631092071533, 0.0, 1.1670050621032715, 0.02196836844086647]),\n",
       " Row(id=405, features=[0.1337304264307022, 0.2518064081668854, 0.0, 0.6324396729469299, 0.523573637008667, 1.1694371700286865, 0.7977631092071533, 0.0, 1.1670050621032715, 0.02196836844086647]),\n",
       " Row(id=406, features=[0.1350405067205429, 0.24861109256744385, 0.0, 0.6357074975967407, 0.5225552320480347, 1.173271656036377, 0.7981574535369873, 0.0, 1.162801742553711, 0.017741115763783455]),\n",
       " Row(id=407, features=[0.12615813314914703, 0.2675219774246216, 0.0, 0.633013129234314, 0.5286107063293457, 1.1498523950576782, 0.8004748821258545, 0.0, 1.1772586107254028, 0.028281319886446]),\n",
       " Row(id=408, features=[0.375115305185318, 0.8095046877861023, 0.0, 1.8992542028427124, 1.5880287885665894, 3.4408183097839355, 2.4025754928588867, 0.0, 3.536241054534912, 0.08763616532087326]),\n",
       " Row(id=409, features=[0.12825137376785278, 0.26319199800491333, 0.0, 0.6328720450401306, 0.5272349119186401, 1.155288577079773, 0.7997481822967529, 0.0, 1.1744606494903564, 0.026539823040366173]),\n",
       " Row(id=410, features=[0.12825137376785278, 0.26319199800491333, 0.0, 0.6328720450401306, 0.5272349119186401, 1.155288577079773, 0.7997481822967529, 0.0, 1.1744606494903564, 0.026539823040366173]),\n",
       " Row(id=411, features=[0.2519170045852661, 0.5358689427375793, 0.0, 1.26605224609375, 1.0574828386306763, 2.298666477203369, 1.6010870933532715, 0.0, 2.355048894882202, 0.05689459666609764]),\n",
       " Row(id=412, features=[0.12701711058616638, 0.265746146440506, 0.0, 0.6329565048217773, 0.5280473232269287, 1.1520847082138062, 0.8001783490180969, 0.0, 1.1761131286621094, 0.02756693959236145]),\n",
       " Row(id=413, features=[0.3758246600627899, 0.7919164896011353, 0.0, 1.8872672319412231, 1.6232222318649292, 3.439912796020508, 2.405083179473877, 0.0, 3.531129837036133, 0.08372260630130768]),\n",
       " Row(id=414, features=[0.2510990798473358, 0.5294432044029236, 0.0, 1.2600977420806885, 1.075993299484253, 2.295165538787842, 1.6027663946151733, 0.0, 2.3540568351745605, 0.055901799350976944]),\n",
       " Row(id=415, features=[0.13055790960788727, 0.2584095895290375, 0.0, 0.6327028870582581, 0.525705873966217, 1.1612612009048462, 0.7989294528961182, 0.0, 1.171349048614502, 0.024618037045001984]),\n",
       " Row(id=416, features=[0.12503843009471893, 0.26983487606048584, 0.0, 0.6330847144126892, 0.5293429493904114, 1.1469393968582153, 0.8008584976196289, 0.0, 1.1787470579147339, 0.02921205572783947]),\n",
       " Row(id=417, features=[0.27138593792915344, 0.4994859993457794, 0.0, 1.2372701168060303, 1.1098169088363647, 2.2998926639556885, 1.6048531532287598, 0.0, 2.3514115810394287, 0.04549836367368698]),\n",
       " Row(id=418, features=[0.13534872233867645, 0.2478581666946411, 0.0, 0.6364757418632507, 0.5223143100738525, 1.174172282218933, 0.7982487082481384, 0.0, 1.1618096828460693, 0.016745654866099358]),\n",
       " Row(id=419, features=[0.1317799985408783, 0.2558698356151581, 0.0, 0.6326062083244324, 0.5248889923095703, 1.1644166707992554, 0.7984863519668579, 0.0, 1.1696856021881104, 0.023598330095410347]),\n",
       " Row(id=420, features=[0.39619937539100647, 0.7525200247764587, 0.0, 1.8940544128417969, 1.5864806175231934, 3.4953975677490234, 2.400184392929077, 0.0, 3.50490403175354, 0.0626193955540657]),\n",
       " Row(id=421, features=[0.16201865673065186, 0.4583858549594879, 0.0, 0.9798153042793274, 1.2108852863311768, 2.249617338180542, 1.7382729053497314, 0.0, 2.410771131515503, 0.04934677109122276]),\n",
       " Row(id=422, features=[0.25150635838508606, 0.5335313677787781, 0.0, 1.2637230157852173, 1.0648279190063477, 2.297067165374756, 1.6017873287200928, 0.0, 2.3547916412353516, 0.056579556316137314]),\n",
       " Row(id=423, features=[0.12472227960824966, 0.2624998092651367, 0.0, 0.6271803379058838, 0.5471584796905518, 1.1447302103042603, 0.8022993206977844, 0.0, 1.1770628690719604, 0.027827216312289238]),\n",
       " Row(id=424, features=[0.13216890394687653, 0.2535668611526489, 0.0, 0.632257342338562, 0.5257484912872314, 1.1654466390609741, 0.7989537715911865, 0.0, 1.1688265800476074, 0.022361038252711296]),\n",
       " Row(id=425, features=[0.12629440426826477, 0.2672403156757355, 0.0, 0.6330042481422424, 0.5285214185714722, 1.1502066850662231, 0.8004279732704163, 0.0, 1.1770771741867065, 0.028168009594082832]),\n",
       " Row(id=426, features=[0.1337304264307022, 0.2518064081668854, 0.0, 0.6324396729469299, 0.523573637008667, 1.1694371700286865, 0.7977631092071533, 0.0, 1.1670050621032715, 0.02196836844086647]),\n",
       " Row(id=427, features=[0.3743037283420563, 0.7905856966972351, 0.0, 1.8840394020080566, 1.6340198516845703, 3.4351565837860107, 2.406320810317993, 0.0, 3.531935453414917, 0.0840635895729065]),\n",
       " Row(id=428, features=[0.12503843009471893, 0.26983487606048584, 0.0, 0.6330847144126892, 0.5293429493904114, 1.1469393968582153, 0.8008584976196289, 0.0, 1.1787470579147339, 0.02921205572783947]),\n",
       " Row(id=429, features=[0.12472227960824966, 0.2624998092651367, 0.0, 0.6271803379058838, 0.5471584796905518, 1.1447302103042603, 0.8022993206977844, 0.0, 1.1770628690719604, 0.027827216312289238]),\n",
       " Row(id=430, features=[0.266706645488739, 0.49490752816200256, 0.0, 1.262758493423462, 1.0553548336029053, 2.3371126651763916, 1.5999921560287476, 0.0, 2.3327836990356445, 0.03829093649983406]),\n",
       " Row(id=431, features=[0.19267024099826813, 0.5490792393684387, 0.08229672908782959, 1.1753778457641602, 1.1100119352340698, 2.286254644393921, 1.5776171684265137, 0.043895822018384933, 2.3528192043304443, 0.04157470166683197]),\n",
       " Row(id=432, features=[0.13110676407814026, 0.2572694718837738, 0.0, 0.6326600909233093, 0.525339663028717, 1.1626793146133423, 0.7987313270568848, 0.0, 1.1706033945083618, 0.02416020631790161]),\n",
       " Row(id=433, features=[0.12492351233959198, 0.2671128511428833, 0.0, 0.6309024095535278, 0.5359793305397034, 1.1461421251296997, 0.8014112710952759, 0.0, 1.1781456470489502, 0.028697684407234192]),\n",
       " Row(id=434, features=[0.1337304264307022, 0.2518064081668854, 0.0, 0.6324396729469299, 0.523573637008667, 1.1694371700286865, 0.7977631092071533, 0.0, 1.1670050621032715, 0.02196836844086647]),\n",
       " Row(id=435, features=[0.1292361468076706, 0.2611517310142517, 0.0, 0.6328017711639404, 0.5265839099884033, 1.1578410863876343, 0.7994011640548706, 0.0, 1.1731362342834473, 0.025719717144966125]),\n",
       " Row(id=436, features=[0.13494624197483063, 0.2372594177722931, 0.0, 0.6297521591186523, 0.5316990613937378, 1.1727310419082642, 0.802148163318634, 0.0, 1.162621259689331, 0.013625525869429111]),\n",
       " Row(id=437, features=[0.12825137376785278, 0.26319199800491333, 0.0, 0.6328720450401306, 0.5272349119186401, 1.155288577079773, 0.7997481822967529, 0.0, 1.1744606494903564, 0.026539823040366173]),\n",
       " Row(id=438, features=[0.2519170045852661, 0.5358689427375793, 0.0, 1.26605224609375, 1.0574828386306763, 2.298666477203369, 1.6010870933532715, 0.0, 2.355048894882202, 0.05689459666609764]),\n",
       " Row(id=439, features=[0.5062506794929504, 1.05204439163208, 0.0, 2.5132405757904053, 2.1649715900421143, 4.588237762451172, 3.2067689895629883, 0.0, 4.7086358070373535, 0.10978179425001144]),\n",
       " Row(id=440, features=[0.12971530854701996, 0.2601581811904907, 0.0, 0.6327665448188782, 0.5262662172317505, 1.1590816974639893, 0.7992309927940369, 0.0, 1.1724897623062134, 0.025320474058389664]),\n",
       " Row(id=441, features=[0.1337304264307022, 0.2518064081668854, 0.0, 0.6324396729469299, 0.523573637008667, 1.1694371700286865, 0.7977631092071533, 0.0, 1.1670050621032715, 0.02196836844086647]),\n",
       " Row(id=442, features=[0.25007686018943787, 0.5396697521209717, 0.0, 1.2661694288253784, 1.0586858987808228, 2.2938787937164307, 1.6017169952392578, 0.0, 2.3574941158294678, 0.05842411145567894]),\n",
       " Row(id=443, features=[0.1337304264307022, 0.2518064081668854, 0.0, 0.6324396729469299, 0.523573637008667, 1.1694371700286865, 0.7977631092071533, 0.0, 1.1670050621032715, 0.02196836844086647]),\n",
       " Row(id=444, features=[0.12503843009471893, 0.26983487606048584, 0.0, 0.6330847144126892, 0.5293429493904114, 1.1469393968582153, 0.8008584976196289, 0.0, 1.1787470579147339, 0.02921205572783947]),\n",
       " Row(id=445, features=[0.12503843009471893, 0.26983487606048584, 0.0, 0.6330847144126892, 0.5293429493904114, 1.1469393968582153, 0.8008584976196289, 0.0, 1.1787470579147339, 0.02921205572783947]),\n",
       " Row(id=446, features=[0.1429063379764557, 0.2320997416973114, 0.0, 0.6162633299827576, 0.5544313192367554, 1.164307713508606, 0.8027596473693848, 0.0, 1.1675084829330444, 0.014159019105136395]),\n",
       " Row(id=447, features=[0.3853244483470917, 0.7842467427253723, 0.0, 1.8976969718933105, 1.5844416618347168, 3.4674220085144043, 2.400740146636963, 0.0, 3.52170991897583, 0.07661023736000061]),\n",
       " Row(id=448, features=[0.4000946879386902, 0.7512032985687256, 0.0, 1.8898178339004517, 1.592119812965393, 3.496598720550537, 2.3980541229248047, 0.0, 3.504981756210327, 0.06425876915454865]),\n",
       " Row(id=449, features=[0.13177505135536194, 0.24165773391723633, 0.0, 0.6264892816543579, 0.5439391136169434, 1.16350519657135, 0.8028367161750793, 0.0, 1.1662517786026, 0.017271174117922783]),\n",
       " Row(id=450, features=[0.15242797136306763, 0.4616136848926544, 0.0, 0.993279218673706, 1.1739404201507568, 2.231560230255127, 1.757258415222168, 0.0, 2.394404888153076, 0.05394662171602249]),\n",
       " Row(id=451, features=[0.2606392502784729, 0.5178084969520569, 0.0, 1.2654422521591187, 1.0517290830612183, 2.3212904930114746, 1.5980300903320312, 0.0, 2.343344211578369, 0.0496334508061409]),\n",
       " Row(id=452, features=[0.2674608528614044, 0.5036128163337708, 0.0, 1.2648793458938599, 1.047147274017334, 2.338874340057373, 1.5955262184143066, 0.0, 2.334010124206543, 0.04393673688173294]),\n",
       " Row(id=453, features=[0.3789995014667511, 0.7943835258483887, 0.0, 1.893756628036499, 1.601240634918213, 3.4497344493865967, 2.40248441696167, 0.0, 3.529279947280884, 0.08294495195150375]),\n",
       " Row(id=454, features=[0.262508749961853, 0.510128378868103, 0.0, 1.2624911069869995, 1.0589261054992676, 2.3254921436309814, 1.5980278253555298, 0.0, 2.3398547172546387, 0.04729190096259117]),\n",
       " Row(id=455, features=[0.12825137376785278, 0.26319199800491333, 0.0, 0.6328720450401306, 0.5272349119186401, 1.155288577079773, 0.7997481822967529, 0.0, 1.1744606494903564, 0.026539823040366173]),\n",
       " Row(id=456, features=[0.4025382697582245, 0.7202115654945374, 0.0, 1.8902640342712402, 1.5939915180206299, 3.512266159057617, 2.405888557434082, 0.0, 3.491913080215454, 0.04500924050807953]),\n",
       " Row(id=457, features=[0.12792138755321503, 0.26833319664001465, 0.0394841730594635, 0.5843141674995422, 0.5790441036224365, 1.1406508684158325, 0.8085797429084778, 0.011375685222446918, 1.1863149404525757, 0.02192484587430954]),\n",
       " Row(id=458, features=[0.1316256821155548, 0.2517462372779846, 0.0, 0.6316742897033691, 0.5283234119415283, 1.1640974283218384, 0.8003544807434082, 0.0, 1.1689190864562988, 0.021012557670474052]),\n",
       " Row(id=459, features=[0.1337304264307022, 0.2518064081668854, 0.0, 0.6324396729469299, 0.523573637008667, 1.1694371700286865, 0.7977631092071533, 0.0, 1.1670050621032715, 0.02196836844086647]),\n",
       " Row(id=460, features=[0.5143515467643738, 1.0444318056106567, 0.0, 2.510399103164673, 2.1616647243499756, 4.595925807952881, 3.2058303356170654, 0.0, 4.7066826820373535, 0.10612738877534866]),\n",
       " Row(id=461, features=[0.1337304264307022, 0.2518064081668854, 0.0, 0.6324396729469299, 0.523573637008667, 1.1694371700286865, 0.7977631092071533, 0.0, 1.1670050621032715, 0.02196836844086647]),\n",
       " Row(id=462, features=[0.4403339922428131, 0.6987736225128174, 0.024151865392923355, 1.7906140089035034, 1.7454495429992676, 3.4560084342956543, 2.4134397506713867, 0.006958332844078541, 3.5232648849487305, 0.046638526022434235]),\n",
       " Row(id=463, features=[0.12825137376785278, 0.26319199800491333, 0.0, 0.6328720450401306, 0.5272349119186401, 1.155288577079773, 0.7997481822967529, 0.0, 1.1744606494903564, 0.026539823040366173]),\n",
       " Row(id=464, features=[0.4905374348163605, 0.8619632124900818, 0.3822747468948364, 2.4471771717071533, 2.2996840476989746, 4.698177337646484, 3.1338820457458496, 0.007816202007234097, 4.6731343269348145, 0.060728032141923904]),\n",
       " Row(id=465, features=[0.4069710671901703, 0.68587327003479, 0.0, 1.884346842765808, 1.6094262599945068, 3.523799419403076, 2.4140684604644775, 0.0, 3.4798266887664795, 0.026045741513371468]),\n",
       " Row(id=466, features=[0.26112309098243713, 0.5138822197914124, 0.0, 1.2647857666015625, 1.0535993576049805, 2.3225953578948975, 1.5990502834320068, 0.0, 2.3420493602752686, 0.047444943338632584]),\n",
       " Row(id=467, features=[0.2585205137729645, 0.5103082060813904, 0.0, 1.2630720138549805, 1.062050461769104, 2.3160173892974854, 1.6036338806152344, 0.0, 2.3435916900634766, 0.044134046882390976]),\n",
       " Row(id=468, features=[0.3801735043525696, 0.7966831922531128, 0.0, 1.8971761465072632, 1.589989423751831, 3.453580856323242, 2.4012582302093506, 0.0, 3.5289175510406494, 0.08294267952442169]),\n",
       " Row(id=469, features=[0.13357923924922943, 0.25165048241615295, 0.0, 0.6359294652938843, 0.5235455632209778, 1.1695338487625122, 0.7987339496612549, 0.0, 1.1647655963897705, 0.018882157281041145]),\n",
       " Row(id=470, features=[0.12503843009471893, 0.26983487606048584, 0.0, 0.6330847144126892, 0.5293429493904114, 1.1469393968582153, 0.8008584976196289, 0.0, 1.1787470579147339, 0.02921205572783947]),\n",
       " Row(id=471, features=[0.12913388013839722, 0.24647697806358337, 0.0, 0.6264504790306091, 0.5464712977409363, 1.156652808189392, 0.8040109872817993, 0.0, 1.169679045677185, 0.01914438232779503]),\n",
       " Row(id=472, features=[0.12483925372362137, 0.2651573419570923, 0.0, 0.6293284296989441, 0.5407292246818542, 1.145553469657898, 0.8017956018447876, 0.0, 1.177696943283081, 0.028328482061624527]),\n",
       " Row(id=473, features=[0.14208008348941803, 0.2314784973859787, 0.0, 0.6046926379203796, 0.5794882774353027, 1.147330641746521, 0.8032560348510742, 0.0, 1.1692447662353516, 0.017708007246255875]),\n",
       " Row(id=474, features=[0.12503843009471893, 0.26983487606048584, 0.0, 0.6330847144126892, 0.5293429493904114, 1.1469393968582153, 0.8008584976196289, 0.0, 1.1787470579147339, 0.02921205572783947]),\n",
       " Row(id=475, features=[0.1337304264307022, 0.2518064081668854, 0.0, 0.6324396729469299, 0.523573637008667, 1.1694371700286865, 0.7977631092071533, 0.0, 1.1670050621032715, 0.02196836844086647]),\n",
       " Row(id=476, features=[0.12503843009471893, 0.26983487606048584, 0.0, 0.6330847144126892, 0.5293429493904114, 1.1469393968582153, 0.8008584976196289, 0.0, 1.1787470579147339, 0.02921205572783947]),\n",
       " Row(id=477, features=[0.25220105051994324, 0.5352820754051208, 0.0, 1.2660337686538696, 1.057296872138977, 2.299405097961426, 1.6009894609451294, 0.0, 2.354670763015747, 0.05665844678878784]),\n",
       " Row(id=478, features=[0.2697206735610962, 0.476591020822525, 0.0, 1.259892463684082, 1.0622466802597046, 2.345003843307495, 1.6036795377731323, 0.0, 2.3258767127990723, 0.028438379988074303]),\n",
       " Row(id=479, features=[0.1274871826171875, 0.26477375626564026, 0.0, 0.6329247355461121, 0.5277383327484131, 1.1533055305480957, 0.8000150918960571, 0.0, 1.1754846572875977, 0.027175845578312874]),\n",
       " Row(id=480, features=[0.13494624197483063, 0.2372594177722931, 0.0, 0.6297521591186523, 0.5316990613937378, 1.1727310419082642, 0.802148163318634, 0.0, 1.162621259689331, 0.013625525869429111]),\n",
       " Row(id=481, features=[0.13127370178699493, 0.24414107203483582, 0.0, 0.6299149990081787, 0.5347768664360046, 1.1633116006851196, 0.8038493394851685, 0.0, 1.1675291061401367, 0.01622007042169571]),\n",
       " Row(id=482, features=[0.13244055211544037, 0.25449511408805847, 0.0, 0.6325515508651733, 0.5244452357292175, 1.1661193370819092, 0.7982437610626221, 0.0, 1.1687815189361572, 0.023046672344207764]),\n",
       " Row(id=483, features=[0.12971530854701996, 0.2601581811904907, 0.0, 0.6327665448188782, 0.5262662172317505, 1.1590816974639893, 0.7992309927940369, 0.0, 1.1724897623062134, 0.025320474058389664]),\n",
       " Row(id=484, features=[0.12503843009471893, 0.26983487606048584, 0.0, 0.6330847144126892, 0.5293429493904114, 1.1469393968582153, 0.8008584976196289, 0.0, 1.1787470579147339, 0.02921205572783947]),\n",
       " Row(id=485, features=[0.1337304264307022, 0.2518064081668854, 0.0, 0.6324396729469299, 0.523573637008667, 1.1694371700286865, 0.7977631092071533, 0.0, 1.1670050621032715, 0.02196836844086647]),\n",
       " Row(id=486, features=[0.12503843009471893, 0.26983487606048584, 0.0, 0.6330847144126892, 0.5293429493904114, 1.1469393968582153, 0.8008584976196289, 0.0, 1.1787470579147339, 0.02921205572783947]),\n",
       " Row(id=487, features=[0.12701711058616638, 0.265746146440506, 0.0, 0.6329565048217773, 0.5280473232269287, 1.1520847082138062, 0.8001783490180969, 0.0, 1.1761131286621094, 0.02756693959236145]),\n",
       " Row(id=488, features=[0.08796703070402145, 0.21861766278743744, 0.0, 0.4842272698879242, 0.6167201995849609, 1.1257429122924805, 0.8674955368041992, 0.0, 1.2017126083374023, 0.02109519951045513]),\n",
       " Row(id=489, features=[0.375115305185318, 0.8095046877861023, 0.0, 1.8992542028427124, 1.5880287885665894, 3.4408183097839355, 2.4025754928588867, 0.0, 3.536241054534912, 0.08763616532087326]),\n",
       " Row(id=490, features=[0.3783856928348541, 0.8027492165565491, 0.0, 1.8990452289581299, 1.585890293121338, 3.449326515197754, 2.4014551639556885, 0.0, 3.5318939685821533, 0.08491771668195724]),\n",
       " Row(id=491, features=[0.12472227960824966, 0.2624998092651367, 0.0, 0.6271803379058838, 0.5471584796905518, 1.1447302103042603, 0.8022993206977844, 0.0, 1.1770628690719604, 0.027827216312289238]),\n",
       " Row(id=492, features=[0.25612497329711914, 0.5271661281585693, 0.0, 1.265770435333252, 1.0547189712524414, 2.3095972537994385, 1.5996286869049072, 0.0, 2.349428176879883, 0.05339411273598671]),\n",
       " Row(id=493, features=[0.2635599970817566, 0.5117396712303162, 0.0, 1.2652124166488647, 1.0497779846191406, 2.3288333415985107, 1.5969727039337158, 0.0, 2.3393712043762207, 0.047196660190820694]),\n",
       " Row(id=494, features=[0.25007686018943787, 0.5396697521209717, 0.0, 1.2661694288253784, 1.0586858987808228, 2.2938787937164307, 1.6017169952392578, 0.0, 2.3574941158294678, 0.05842411145567894]),\n",
       " Row(id=495, features=[0.40119126439094543, 0.7554192543029785, 0.0, 1.897318959236145, 1.5707210302352905, 3.5083115100860596, 2.39328932762146, 0.0, 3.5010151863098145, 0.06590510904788971]),\n",
       " Row(id=496, features=[0.20371198654174805, 0.4118654727935791, 0.0, 0.9628399610519409, 1.2413643598556519, 2.257444381713867, 1.7220149040222168, 0.0, 2.389350175857544, 0.031514208763837814]),\n",
       " Row(id=497, features=[0.24870175123214722, 0.5089539885520935, 0.0, 1.241256833076477, 1.1327537298202515, 2.284146547317505, 1.6073647737503052, 0.0, 2.3499372005462646, 0.052634887397289276]),\n",
       " Row(id=498, features=[0.6266172528266907, 1.3462315797805786, 0.0, 3.1653337478637695, 2.6457839012145996, 5.738406181335449, 4.003805637359619, 0.0, 5.891843318939209, 0.1448759138584137]),\n",
       " Row(id=499, features=[0.1326272040605545, 0.25410643219947815, 0.0, 0.6325358152389526, 0.5243195295333862, 1.166599988937378, 0.7981747984886169, 0.0, 1.1685253381729126, 0.022890731692314148]),\n",
       " Row(id=500, features=[0.12503843009471893, 0.26983487606048584, 0.0, 0.6330847144126892, 0.5293429493904114, 1.1469393968582153, 0.8008584976196289, 0.0, 1.1787470579147339, 0.02921205572783947]),\n",
       " Row(id=501, features=[0.1337304264307022, 0.2518064081668854, 0.0, 0.6324396729469299, 0.523573637008667, 1.1694371700286865, 0.7977631092071533, 0.0, 1.1670050621032715, 0.02196836844086647]),\n",
       " Row(id=502, features=[0.12726306915283203, 0.26035064458847046, 0.0, 0.6293219327926636, 0.5387032628059387, 1.1518938541412354, 0.8009319305419922, 0.0, 1.174527883529663, 0.026355000212788582]),\n",
       " Row(id=503, features=[0.27359887957572937, 0.48486268520355225, 0.0, 1.2547698020935059, 1.06764554977417, 2.3390936851501465, 1.6002589464187622, 0.0, 2.3316469192504883, 0.03526696190237999]),\n",
       " Row(id=504, features=[0.12825137376785278, 0.26319199800491333, 0.0, 0.6328720450401306, 0.5272349119186401, 1.155288577079773, 0.7997481822967529, 0.0, 1.1744606494903564, 0.026539823040366173]),\n",
       " Row(id=505, features=[0.2563522458076477, 0.5133188366889954, 0.0, 1.259165644645691, 1.0749772787094116, 2.3090906143188477, 1.60332453250885, 0.0, 2.3459136486053467, 0.047905828803777695]),\n",
       " Row(id=506, features=[0.12503843009471893, 0.26983487606048584, 0.0, 0.6330847144126892, 0.5293429493904114, 1.1469393968582153, 0.8008584976196289, 0.0, 1.1787470579147339, 0.02921205572783947]),\n",
       " Row(id=507, features=[0.12760725617408752, 0.25767096877098083, 0.0, 0.6299982070922852, 0.5368490815162659, 1.1532188653945923, 0.8021132349967957, 0.0, 1.1737127304077148, 0.024009915068745613]),\n",
       " Row(id=508, features=[0.25007686018943787, 0.5396697521209717, 0.0, 1.2661694288253784, 1.0586858987808228, 2.2938787937164307, 1.6017169952392578, 0.0, 2.3574941158294678, 0.05842411145567894]),\n",
       " Row(id=509, features=[0.13084907829761505, 0.2365119308233261, 0.0, 0.6235239505767822, 0.5537446141242981, 1.1605968475341797, 0.8052437901496887, 0.0, 1.165669560432434, 0.014870532788336277]),\n",
       " Row(id=510, features=[0.1393369734287262, 0.2380567044019699, 0.0, 0.6463856101036072, 0.5191335082054138, 1.185746192932129, 0.79935222864151, 0.0, 1.1488093137741089, 0.0038186742458492517]),\n",
       " Row(id=511, features=[0.3828068673610687, 0.7661305069923401, 0.0, 1.8810973167419434, 1.6360421180725098, 3.4570226669311523, 2.4057414531707764, 0.0, 3.518967628479004, 0.07348805665969849]),\n",
       " Row(id=512, features=[0.1317799985408783, 0.2558698356151581, 0.0, 0.6326062083244324, 0.5248889923095703, 1.1644166707992554, 0.7984863519668579, 0.0, 1.1696856021881104, 0.023598330095410347]),\n",
       " Row(id=513, features=[0.12503843009471893, 0.26983487606048584, 0.0, 0.6330847144126892, 0.5293429493904114, 1.1469393968582153, 0.8008584976196289, 0.0, 1.1787470579147339, 0.02921205572783947]),\n",
       " Row(id=514, features=[0.3763943910598755, 0.8006505370140076, 0.0, 1.8945789337158203, 1.6009832620620728, 3.4431076049804688, 2.4032247066497803, 0.0, 3.532970666885376, 0.0852929949760437]),\n",
       " Row(id=515, features=[0.13177505135536194, 0.24165773391723633, 0.0, 0.6264892816543579, 0.5439391136169434, 1.16350519657135, 0.8028367161750793, 0.0, 1.1662517786026, 0.017271174117922783]),\n",
       " Row(id=516, features=[0.5029343366622925, 1.0706111192703247, 0.0, 2.5299556255340576, 2.1221914291381836, 4.5944976806640625, 3.203010082244873, 0.0, 4.710545539855957, 0.11392206698656082]),\n",
       " Row(id=517, features=[0.12503843009471893, 0.26983487606048584, 0.0, 0.6330847144126892, 0.5293429493904114, 1.1469393968582153, 0.8008584976196289, 0.0, 1.1787470579147339, 0.02921205572783947]),\n",
       " Row(id=518, features=[0.13494624197483063, 0.2372594177722931, 0.0, 0.6297521591186523, 0.5316990613937378, 1.1727310419082642, 0.802148163318634, 0.0, 1.162621259689331, 0.013625524938106537]),\n",
       " Row(id=519, features=[0.13848361372947693, 0.23059888184070587, 0.0, 0.6337446570396423, 0.5329710245132446, 1.1710660457611084, 0.8072324991226196, 0.0, 1.1595181226730347, 0.012106838636100292]),\n",
       " Row(id=520, features=[0.12629440426826477, 0.2672403156757355, 0.0, 0.6330042481422424, 0.5285214185714722, 1.1502066850662231, 0.8004279732704163, 0.0, 1.1770771741867065, 0.028168009594082832]),\n",
       " Row(id=521, features=[0.1279517561197281, 0.2574515640735626, 0.0, 0.628180205821991, 0.5414889454841614, 1.1534215211868286, 0.8009325265884399, 0.0, 1.1732107400894165, 0.02547774277627468]),\n",
       " Row(id=522, features=[0.1337304264307022, 0.2518064081668854, 0.0, 0.6324396729469299, 0.523573637008667, 1.1694371700286865, 0.7977631092071533, 0.0, 1.1670050621032715, 0.02196836844086647]),\n",
       " Row(id=523, features=[0.0737086609005928, 0.2421465367078781, 0.0, 0.49923262000083923, 0.5906205773353577, 1.1232753992080688, 0.8689454793930054, 0.0, 1.2081583738327026, 0.02892983891069889]),\n",
       " Row(id=524, features=[0.2533971965312958, 0.5328095555305481, 0.0, 1.2659553289413452, 1.0565128326416016, 2.3025145530700684, 1.6005771160125732, 0.0, 2.353076457977295, 0.05566375330090523]),\n",
       " Row(id=525, features=[0.12825137376785278, 0.26319199800491333, 0.0, 0.6328720450401306, 0.5272349119186401, 1.155288577079773, 0.7997481822967529, 0.0, 1.1744606494903564, 0.026539823040366173]),\n",
       " Row(id=526, features=[0.1399928629398346, 0.2199763059616089, 0.0, 0.6307525038719177, 0.5383937358856201, 1.1728137731552124, 0.8103399276733398, 0.0, 1.1571457386016846, 0.008051582612097263]),\n",
       " Row(id=527, features=[0.6311458945274353, 1.3284339904785156, 0.0, 3.149813413619995, 2.6834940910339355, 5.733982563018799, 4.007085800170898, 0.0, 5.890074729919434, 0.14055846631526947]),\n",
       " Row(id=528, features=[0.12503843009471893, 0.26983487606048584, 0.0, 0.6330847144126892, 0.5293429493904114, 1.1469393968582153, 0.8008584976196289, 0.0, 1.1787470579147339, 0.02921205572783947]),\n",
       " Row(id=529, features=[0.2513924539089203, 0.524314820766449, 0.0, 1.2567213773727417, 1.0857456922531128, 2.295133352279663, 1.6034072637557983, 0.0, 2.3524587154388428, 0.054724808782339096]),\n",
       " Row(id=530, features=[0.24920006096363068, 0.5195845365524292, 0.0, 1.249961018562317, 1.1073532104492188, 2.2877252101898193, 1.6055786609649658, 0.0, 2.3527731895446777, 0.0546342134475708]),\n",
       " Row(id=531, features=[0.2674608528614044, 0.5036128163337708, 0.0, 1.2648793458938599, 1.047147274017334, 2.338874340057373, 1.5955262184143066, 0.0, 2.334010124206543, 0.04393673688173294]),\n",
       " Row(id=532, features=[0.12503843009471893, 0.26983487606048584, 0.0, 0.6330847144126892, 0.5293429493904114, 1.1469393968582153, 0.8008584976196289, 0.0, 1.1787470579147339, 0.02921205572783947]),\n",
       " Row(id=533, features=[0.12503843009471893, 0.26983487606048584, 0.0, 0.6330847144126892, 0.5293429493904114, 1.1469393968582153, 0.8008584976196289, 0.0, 1.1787470579147339, 0.02921205572783947]),\n",
       " Row(id=534, features=[0.13402436673641205, 0.24663425981998444, 0.0, 0.6343506574630737, 0.5263966917991638, 1.1706595420837402, 0.8000965714454651, 0.0, 1.1636897325515747, 0.016561442986130714]),\n",
       " Row(id=535, features=[0.12477424740791321, 0.2636721730232239, 0.0, 0.6281293034553528, 0.5443260073661804, 1.145096778869629, 0.8020797967910767, 0.0, 1.1773462295532227, 0.028048280626535416]),\n",
       " Row(id=536, features=[0.12825137376785278, 0.26319199800491333, 0.0, 0.6328720450401306, 0.5272349119186401, 1.155288577079773, 0.7997481822967529, 0.0, 1.1744606494903564, 0.026539823040366173]),\n",
       " Row(id=537, features=[0.12503843009471893, 0.26983487606048584, 0.0, 0.6330847144126892, 0.5293429493904114, 1.1469393968582153, 0.8008584976196289, 0.0, 1.1787470579147339, 0.02921205572783947]),\n",
       " Row(id=538, features=[0.1337304264307022, 0.2518064081668854, 0.0, 0.6324396729469299, 0.523573637008667, 1.1694371700286865, 0.7977631092071533, 0.0, 1.1670050621032715, 0.02196836844086647]),\n",
       " Row(id=539, features=[0.13742059469223022, 0.24336455762386322, 0.0, 0.613732099533081, 0.5661205053329468, 1.1494330167770386, 0.8031162023544312, 0.0, 1.1743264198303223, 0.0210801362991333]),\n",
       " Row(id=540, features=[0.36811020970344543, 0.8087243437767029, 0.07074704021215439, 1.8138821125030518, 1.6922516822814941, 3.424391031265259, 2.418017864227295, 0.020382752642035484, 3.5473520755767822, 0.07749174535274506]),\n",
       " Row(id=541, features=[0.12492351233959198, 0.2671128511428833, 0.0, 0.6309024095535278, 0.5359793305397034, 1.1461421251296997, 0.8014112710952759, 0.0, 1.1781456470489502, 0.028697684407234192]),\n",
       " Row(id=542, features=[0.12503843009471893, 0.26983487606048584, 0.0, 0.6330847144126892, 0.5293429493904114, 1.1469393968582153, 0.8008584976196289, 0.0, 1.1787470579147339, 0.02921205572783947]),\n",
       " Row(id=543, features=[0.1266985982656479, 0.26640477776527405, 0.0, 0.6329776644706726, 0.5282564163208008, 1.1512572765350342, 0.8002885580062866, 0.0, 1.1765382289886475, 0.027831876650452614]),\n",
       " Row(id=544, features=[0.1246492862701416, 0.26087290048599243, 0.0, 0.6258602142333984, 0.5510799884796143, 1.1442131996154785, 0.8025972247123718, 0.0, 1.1766610145568848, 0.02752061001956463]),\n",
       " Row(id=545, features=[0.1246492862701416, 0.26087290048599243, 0.0, 0.6258602142333984, 0.5510799884796143, 1.1442131996154785, 0.8025972247123718, 0.0, 1.1766610145568848, 0.02752061001956463]),\n",
       " Row(id=546, features=[0.5001274943351746, 1.0294785499572754, 0.0, 2.4972281455993652, 2.2214646339416504, 4.579530239105225, 3.21240234375, 0.0, 4.70168924331665, 0.10505377501249313]),\n",
       " Row(id=547, features=[0.13883236050605774, 0.25034236907958984, 0.0, 0.6361678838729858, 0.5241037607192993, 1.1699615716934204, 0.8016535639762878, 0.0, 1.1623841524124146, 0.01591784879565239]),\n",
       " Row(id=548, features=[0.13110676407814026, 0.2572694718837738, 0.0, 0.6326600909233093, 0.525339663028717, 1.1626793146133423, 0.7987313270568848, 0.0, 1.1706033945083618, 0.02416020631790161]),\n",
       " Row(id=549, features=[0.2662794291973114, 0.506076991558075, 0.0, 1.2649836540222168, 1.0479472875595093, 2.3358376026153564, 1.5959688425064087, 0.0, 2.3356409072875977, 0.04492475837469101]),\n",
       " Row(id=550, features=[0.12503843009471893, 0.26983487606048584, 0.0, 0.6330847144126892, 0.5293429493904114, 1.1469393968582153, 0.8008584976196289, 0.0, 1.1787470579147339, 0.02921205572783947]),\n",
       " Row(id=551, features=[0.12846894562244415, 0.255726158618927, 0.0, 0.631365180015564, 0.5323472619056702, 1.1559756994247437, 0.8025298714637756, 0.0, 1.1726242303848267, 0.022074276581406593]),\n",
       " Row(id=552, features=[0.13127370178699493, 0.24414107203483582, 0.0, 0.6299149990081787, 0.5347768664360046, 1.1633116006851196, 0.8038493394851685, 0.0, 1.1675291061401367, 0.01622007042169571]),\n",
       " Row(id=553, features=[0.2558270990848541, 0.5181888937950134, 0.0, 1.2637540102005005, 1.0621085166931152, 2.3089969158172607, 1.6036471128463745, 0.0, 2.347722053527832, 0.047781798988580704]),\n",
       " Row(id=554, features=[0.2431596964597702, 0.5468828082084656, 0.06206756457686424, 1.1954845190048218, 1.137655258178711, 2.2776689529418945, 1.6145293712615967, 0.017882129177451134, 2.3701040744781494, 0.05152558535337448]),\n",
       " Row(id=555, features=[0.1352180540561676, 0.2442268431186676, 0.0, 0.6341990232467651, 0.5255236625671387, 1.173709511756897, 0.7995926737785339, 0.0, 1.162084698677063, 0.015662942081689835]),\n",
       " Row(id=556, features=[0.13028915226459503, 0.25440362095832825, 0.0, 0.6317541003227234, 0.529306173324585, 1.1606478691101074, 0.8008873462677002, 0.0, 1.1707111597061157, 0.022054482251405716]),\n",
       " Row(id=557, features=[0.2677973806858063, 0.4909956157207489, 0.0, 1.2623101472854614, 1.0558351278305054, 2.3399384021759033, 1.6002423763275146, 0.0, 2.3309085369110107, 0.03638046979904175]),\n",
       " Row(id=558, features=[0.12971530854701996, 0.2601581811904907, 0.0, 0.6327665448188782, 0.5262662172317505, 1.1590816974639893, 0.7992309927940369, 0.0, 1.1724897623062134, 0.025320474058389664]),\n",
       " Row(id=559, features=[0.13158944249153137, 0.2579508125782013, 0.0, 0.6282570362091064, 0.5351370573043823, 1.1549952030181885, 0.8004285097122192, 0.0, 1.1744576692581177, 0.02484934777021408]),\n",
       " Row(id=560, features=[0.12701711058616638, 0.265746146440506, 0.0, 0.6329565048217773, 0.5280473232269287, 1.1520847082138062, 0.8001783490180969, 0.0, 1.1761131286621094, 0.02756693959236145]),\n",
       " Row(id=561, features=[0.12606123089790344, 0.26544898748397827, 0.0, 0.6313382983207703, 0.5337198376655579, 1.1492199897766113, 0.8009055852890015, 0.0, 1.1768122911453247, 0.027893489226698875]),\n",
       " Row(id=562, features=[0.2517664134502411, 0.5361801385879517, 0.0, 1.2660619020462036, 1.0575814247131348, 2.2982747554779053, 1.6011388301849365, 0.0, 2.3552491664886475, 0.05701979994773865]),\n",
       " Row(id=563, features=[0.1337304264307022, 0.2518064081668854, 0.0, 0.6324396729469299, 0.523573637008667, 1.1694371700286865, 0.7977631092071533, 0.0, 1.1670050621032715, 0.02196836844086647]),\n",
       " Row(id=564, features=[0.25980114936828613, 0.519547700881958, 0.0, 1.2655054330825806, 1.0522863864898682, 2.319122552871704, 1.5983299016952515, 0.0, 2.3444786071777344, 0.050332117825746536]),\n",
       " Row(id=565, features=[0.13805146515369415, 0.19489604234695435, 0.0, 0.6274250149726868, 0.5489067435264587, 1.1778839826583862, 0.8295544385910034, 0.0, 1.1420142650604248, 0.002813965082168579]),\n",
       " Row(id=566, features=[0.1337304264307022, 0.2518064081668854, 0.0, 0.6324396729469299, 0.523573637008667, 1.1694371700286865, 0.7977631092071533, 0.0, 1.1670050621032715, 0.02196836844086647]),\n",
       " Row(id=567, features=[0.37572383880615234, 0.7864277958869934, 0.0, 1.883038878440857, 1.6357790231704712, 3.438633918762207, 2.4060325622558594, 0.0, 3.529717445373535, 0.08263043314218521]),\n",
       " Row(id=568, features=[0.2691349983215332, 0.49508506059646606, 0.0, 1.2668604850769043, 1.049347996711731, 2.3436880111694336, 1.5975914001464844, 0.0, 2.328484535217285, 0.03684322163462639]),\n",
       " Row(id=569, features=[0.12946422398090363, 0.25406065583229065, 0.0, 0.6299576163291931, 0.5353361964225769, 1.1580445766448975, 0.8013834953308105, 0.0, 1.1712740659713745, 0.022576937451958656]),\n",
       " Row(id=570, features=[0.2498093694448471, 0.5333458185195923, 0.0, 1.2610975503921509, 1.0740985870361328, 2.2920219898223877, 1.6029974222183228, 0.0, 2.3560919761657715, 0.05722919479012489]),\n",
       " Row(id=571, features=[0.12707653641700745, 0.25613248348236084, 0.0, 0.625908613204956, 0.5488949418067932, 1.150577425956726, 0.8017228245735168, 0.0, 1.1735100746154785, 0.02555946819484234]),\n",
       " Row(id=572, features=[0.12503843009471893, 0.26983487606048584, 0.0, 0.6330847144126892, 0.5293429493904114, 1.1469393968582153, 0.8008584976196289, 0.0, 1.1787470579147339, 0.02921205572783947]),\n",
       " Row(id=573, features=[0.1274871826171875, 0.26477375626564026, 0.0, 0.6329247355461121, 0.5277383327484131, 1.1533055305480957, 0.8000150918960571, 0.0, 1.1754846572875977, 0.027175845578312874]),\n",
       " Row(id=574, features=[0.12641803920269012, 0.26046064496040344, 0.0, 0.6281615495681763, 0.5428515672683716, 1.1494076251983643, 0.8014891743659973, 0.0, 1.1752136945724487, 0.02671992965042591]),\n",
       " Row(id=575, features=[0.1317799985408783, 0.2558698356151581, 0.0, 0.6326062083244324, 0.5248889923095703, 1.1644166707992554, 0.7984863519668579, 0.0, 1.1696856021881104, 0.023598330095410347]),\n",
       " Row(id=576, features=[0.12971530854701996, 0.2601581811904907, 0.0, 0.6327665448188782, 0.5262662172317505, 1.1590816974639893, 0.7992309927940369, 0.0, 1.1724897623062134, 0.025320474058389664]),\n",
       " Row(id=577, features=[0.2648189067840576, 0.5006028413772583, 0.0, 1.2614439725875854, 1.0604925155639648, 2.3315789699554443, 1.5991642475128174, 0.0, 2.335660696029663, 0.04236793890595436]),\n",
       " Row(id=578, features=[0.1337304264307022, 0.2518064081668854, 0.0, 0.6324396729469299, 0.523573637008667, 1.1694371700286865, 0.7977631092071533, 0.0, 1.1670050621032715, 0.02196836844086647]),\n",
       " Row(id=579, features=[0.1337304264307022, 0.2518064081668854, 0.0, 0.6324396729469299, 0.523573637008667, 1.1694371700286865, 0.7977631092071533, 0.0, 1.1670050621032715, 0.02196836844086647]),\n",
       " Row(id=580, features=[0.17130054533481598, 0.5429059863090515, 0.0, 1.4898631572723389, 1.7731034755706787, 3.4262020587921143, 2.6404311656951904, 0.0, 3.569878578186035, 0.0639604926109314]),\n",
       " Row(id=581, features=[0.2492879182100296, 0.5215140581130981, 0.0, 1.2515313625335693, 1.1027157306671143, 2.2883503437042236, 1.605234980583191, 0.0, 2.353262186050415, 0.05499760061502457]),\n",
       " Row(id=582, features=[0.5000330209732056, 1.076456069946289, 0.0, 2.5300309658050537, 2.1244122982025146, 4.586922645568848, 3.2040271759033203, 0.0, 4.714361190795898, 0.11630315333604813]),\n",
       " Row(id=583, features=[0.1276979297399521, 0.2643376588821411, 0.0, 0.6329103708267212, 0.5275996327400208, 1.1538525819778442, 0.7999416589736938, 0.0, 1.1752026081085205, 0.027000481262803078]),\n",
       " Row(id=584, features=[0.14604288339614868, 0.23314405977725983, 0.0, 0.613105297088623, 0.557479202747345, 1.16376531124115, 0.80094313621521, 0.0, 1.1688072681427002, 0.01622719131410122]),\n",
       " Row(id=585, features=[0.12503843009471893, 0.26983487606048584, 0.0, 0.6330847144126892, 0.5293429493904114, 1.1469393968582153, 0.8008584976196289, 0.0, 1.1787470579147339, 0.02921205572783947]),\n",
       " Row(id=586, features=[0.12503843009471893, 0.26983487606048584, 0.0, 0.6330847144126892, 0.5293429493904114, 1.1469393968582153, 0.8008584976196289, 0.0, 1.1787470579147339, 0.02921205572783947]),\n",
       " Row(id=587, features=[0.12971530854701996, 0.2601581811904907, 0.0, 0.6327665448188782, 0.5262662172317505, 1.1590816974639893, 0.7992309927940369, 0.0, 1.1724897623062134, 0.025320474058389664]),\n",
       " Row(id=588, features=[0.1337304264307022, 0.2518064081668854, 0.0, 0.6324396729469299, 0.523573637008667, 1.1694371700286865, 0.7977631092071533, 0.0, 1.1670050621032715, 0.02196836844086647]),\n",
       " Row(id=589, features=[0.12492351233959198, 0.2671128511428833, 0.0, 0.6309024095535278, 0.5359793305397034, 1.1461421251296997, 0.8014112710952759, 0.0, 1.1781456470489502, 0.028697684407234192]),\n",
       " Row(id=590, features=[0.12503843009471893, 0.26983487606048584, 0.0, 0.6330847144126892, 0.5293429493904114, 1.1469393968582153, 0.8008584976196289, 0.0, 1.1787470579147339, 0.02921205572783947]),\n",
       " Row(id=591, features=[0.13360223174095154, 0.24421347677707672, 0.0, 0.6307741403579712, 0.5295389294624329, 1.1692365407943726, 0.8010022640228271, 0.0, 1.1654386520385742, 0.017277082428336143]),\n",
       " Row(id=592, features=[0.1337304264307022, 0.2518064081668854, 0.0, 0.6324396729469299, 0.523573637008667, 1.1694371700286865, 0.7977631092071533, 0.0, 1.1670050621032715, 0.02196836844086647]),\n",
       " Row(id=593, features=[0.13393662869930267, 0.23732344806194305, 0.0, 0.632049560546875, 0.5412176847457886, 1.1698678731918335, 0.8031649589538574, 0.0, 1.1596981287002563, 0.010909592732787132]),\n",
       " Row(id=594, features=[0.25159892439842224, 0.5191889405250549, 0.0, 1.2532105445861816, 1.0958831310272217, 2.2948191165924072, 1.6040749549865723, 0.0, 2.3508872985839844, 0.05358269810676575]),\n",
       " Row(id=595, features=[0.12434825301170349, 0.2544216513633728, 0.0, 0.6205829977989197, 0.5665088295936584, 1.1420543193817139, 0.8036914467811584, 0.0, 1.174953579902649, 0.026307040825486183]),\n",
       " Row(id=596, features=[0.12971530854701996, 0.2601581811904907, 0.0, 0.6327665448188782, 0.5262662172317505, 1.1590816974639893, 0.7992309927940369, 0.0, 1.1724897623062134, 0.025320474058389664]),\n",
       " Row(id=597, features=[0.1317799985408783, 0.2558698356151581, 0.0, 0.6326062083244324, 0.5248889923095703, 1.1644166707992554, 0.7984863519668579, 0.0, 1.1696856021881104, 0.023598330095410347]),\n",
       " Row(id=598, features=[0.2671946585178375, 0.48323237895965576, 0.0, 1.2305775880813599, 1.1372904777526855, 2.2996957302093506, 1.6080694198608398, 0.0, 2.3438796997070312, 0.04044156149029732]),\n",
       " Row(id=599, features=[0.4009045362472534, 0.7516436576843262, 0.0, 1.8992003202438354, 1.5738199949264526, 3.508025884628296, 2.395745277404785, 0.0, 3.498629093170166, 0.06119666248559952]),\n",
       " Row(id=600, features=[0.13110676407814026, 0.2572694718837738, 0.0, 0.6326600909233093, 0.525339663028717, 1.1626793146133423, 0.7987313270568848, 0.0, 1.1706033945083618, 0.02416020631790161]),\n",
       " Row(id=601, features=[0.2576932907104492, 0.5239179730415344, 0.0, 1.2656596899032593, 1.0536834001541138, 2.313663959503174, 1.5990777015686035, 0.0, 2.3473215103149414, 0.052088312804698944]),\n",
       " Row(id=602, features=[0.12595850229263306, 0.2679344713687897, 0.0, 0.633026123046875, 0.5287414193153381, 1.1493332386016846, 0.8005435466766357, 0.0, 1.177524447441101, 0.02844729833304882]),\n",
       " Row(id=603, features=[0.12503843009471893, 0.26983487606048584, 0.0, 0.6330847144126892, 0.5293429493904114, 1.1469393968582153, 0.8008584976196289, 0.0, 1.1787470579147339, 0.02921205572783947]),\n",
       " Row(id=604, features=[0.12503843009471893, 0.26983487606048584, 0.0, 0.6330847144126892, 0.5293429493904114, 1.1469393968582153, 0.8008584976196289, 0.0, 1.1787470579147339, 0.02921205572783947]),\n",
       " Row(id=605, features=[0.13110676407814026, 0.2572694718837738, 0.0, 0.6326600909233093, 0.525339663028717, 1.1626793146133423, 0.7987313270568848, 0.0, 1.1706033945083618, 0.02416020631790161]),\n",
       " Row(id=606, features=[0.13084907829761505, 0.2365119308233261, 0.0, 0.6235239505767822, 0.5537446141242981, 1.1605968475341797, 0.8052437901496887, 0.0, 1.165669560432434, 0.014870532788336277]),\n",
       " Row(id=607, features=[0.12701711058616638, 0.265746146440506, 0.0, 0.6329565048217773, 0.5280473232269287, 1.1520847082138062, 0.8001783490180969, 0.0, 1.1761131286621094, 0.02756693959236145]),\n",
       " Row(id=608, features=[0.1337304264307022, 0.2518064081668854, 0.0, 0.6324396729469299, 0.523573637008667, 1.1694371700286865, 0.7977631092071533, 0.0, 1.1670050621032715, 0.02196836844086647]),\n",
       " Row(id=609, features=[0.12825137376785278, 0.26319199800491333, 0.0, 0.6328720450401306, 0.5272349119186401, 1.155288577079773, 0.7997481822967529, 0.0, 1.1744606494903564, 0.026539823040366173]),\n",
       " Row(id=610, features=[0.25749731063842773, 0.5170276165008545, 0.0, 1.2641254663467407, 1.0592854022979736, 2.313288450241089, 1.6021254062652588, 0.0, 2.3459861278533936, 0.04779434576630592]),\n",
       " Row(id=611, features=[0.1337304264307022, 0.2518064081668854, 0.0, 0.6324396729469299, 0.523573637008667, 1.1694371700286865, 0.7977631092071533, 0.0, 1.1670050621032715, 0.02196836844086647]),\n",
       " Row(id=612, features=[0.12971530854701996, 0.2601581811904907, 0.0, 0.6327665448188782, 0.5262662172317505, 1.1590816974639893, 0.7992309927940369, 0.0, 1.1724897623062134, 0.025320474058389664]),\n",
       " Row(id=613, features=[0.2535802721977234, 0.5281496047973633, 0.0, 1.2650355100631714, 1.0596054792404175, 2.3030691146850586, 1.602263331413269, 0.0, 2.351895809173584, 0.052895739674568176]),\n",
       " Row(id=614, features=[0.4041474163532257, 0.725014328956604, 0.0, 1.893067479133606, 1.588918685913086, 3.5111467838287354, 2.4050090312957764, 0.0, 3.4928133487701416, 0.049735166132450104]),\n",
       " Row(id=615, features=[0.13110676407814026, 0.2572694718837738, 0.0, 0.6326600909233093, 0.525339663028717, 1.1626793146133423, 0.7987313270568848, 0.0, 1.1706033945083618, 0.02416020631790161]),\n",
       " Row(id=616, features=[0.2560373842716217, 0.5273474454879761, 0.0, 1.265776515007019, 1.054776668548584, 2.3093700408935547, 1.5996593236923218, 0.0, 2.34954571723938, 0.05346700921654701]),\n",
       " Row(id=617, features=[0.14020180702209473, 0.23312243819236755, 0.0, 0.6203734278678894, 0.5480876564979553, 1.1665788888931274, 0.8030611276626587, 0.0, 1.1660155057907104, 0.013530583120882511]),\n",
       " Row(id=618, features=[0.2616671025753021, 0.5156742334365845, 0.0, 1.265363097190857, 1.051044225692749, 2.3239471912384033, 1.5976601839065552, 0.0, 2.341949701309204, 0.048776280134916306]),\n",
       " Row(id=619, features=[0.12503843009471893, 0.26983487606048584, 0.0, 0.6330847144126892, 0.5293429493904114, 1.1469393968582153, 0.8008584976196289, 0.0, 1.1787470579147339, 0.02921205572783947]),\n",
       " Row(id=620, features=[0.1326272040605545, 0.25410643219947815, 0.0, 0.6325358152389526, 0.5243195295333862, 1.166599988937378, 0.7981747984886169, 0.0, 1.1685253381729126, 0.022890731692314148]),\n",
       " Row(id=621, features=[0.1317799985408783, 0.2558698356151581, 0.0, 0.6326062083244324, 0.5248889923095703, 1.1644166707992554, 0.7984863519668579, 0.0, 1.1696856021881104, 0.023598330095410347]),\n",
       " Row(id=622, features=[0.12503843009471893, 0.26983487606048584, 0.0, 0.6330847144126892, 0.5293429493904114, 1.1469393968582153, 0.8008584976196289, 0.0, 1.1787470579147339, 0.02921205572783947]),\n",
       " Row(id=623, features=[0.2676089107990265, 0.4935753643512726, 0.0, 1.2433372735977173, 1.1025320291519165, 2.3096792697906494, 1.6053098440170288, 0.0, 2.3441929817199707, 0.04155890271067619]),\n",
       " Row(id=624, features=[0.12503843009471893, 0.26983487606048584, 0.0, 0.6330847144126892, 0.5293429493904114, 1.1469393968582153, 0.8008584976196289, 0.0, 1.1787470579147339, 0.02921205572783947]),\n",
       " Row(id=625, features=[0.12629440426826477, 0.2672403156757355, 0.0, 0.6330042481422424, 0.5285214185714722, 1.1502066850662231, 0.8004279732704163, 0.0, 1.1770771741867065, 0.028168009594082832]),\n",
       " Row(id=626, features=[0.12825137376785278, 0.26319199800491333, 0.0, 0.6328720450401306, 0.5272349119186401, 1.155288577079773, 0.7997481822967529, 0.0, 1.1744606494903564, 0.026539823040366173]),\n",
       " Row(id=627, features=[0.1274871826171875, 0.26477375626564026, 0.0, 0.6329247355461121, 0.5277383327484131, 1.1533055305480957, 0.8000150918960571, 0.0, 1.1754846572875977, 0.027175845578312874]),\n",
       " Row(id=628, features=[0.12422249466180801, 0.2518303096294403, 0.0, 0.6184454560279846, 0.5726557374000549, 1.141141653060913, 0.8040945529937744, 0.0, 1.174220085144043, 0.025820501148700714]),\n",
       " Row(id=629, features=[0.12909768521785736, 0.2614387273788452, 0.0, 0.6328117847442627, 0.5266756415367126, 1.157482385635376, 0.799450159072876, 0.0, 1.1733227968215942, 0.025835057720541954]),\n",
       " Row(id=630, features=[0.12503843009471893, 0.26983487606048584, 0.0, 0.6330847144126892, 0.5293429493904114, 1.1469393968582153, 0.8008584976196289, 0.0, 1.1787470579147339, 0.02921205572783947]),\n",
       " Row(id=631, features=[0.12503843009471893, 0.26983487606048584, 0.0, 0.6330847144126892, 0.5293429493904114, 1.1469393968582153, 0.8008584976196289, 0.0, 1.1787470579147339, 0.02921205572783947]),\n",
       " Row(id=632, features=[0.26366928219795227, 0.5114288926124573, 0.0, 1.2580149173736572, 1.067540168762207, 2.3174057006835938, 1.5997192859649658, 0.0, 2.344416379928589, 0.04803541302680969]),\n",
       " Row(id=633, features=[0.12825137376785278, 0.26319199800491333, 0.0, 0.6328720450401306, 0.5272349119186401, 1.155288577079773, 0.7997481822967529, 0.0, 1.1744606494903564, 0.026539823040366173]),\n",
       " Row(id=634, features=[0.13110676407814026, 0.2572694718837738, 0.0, 0.6326600909233093, 0.525339663028717, 1.1626793146133423, 0.7987313270568848, 0.0, 1.1706033945083618, 0.02416020631790161]),\n",
       " Row(id=635, features=[0.1337304264307022, 0.2518064081668854, 0.0, 0.6324396729469299, 0.523573637008667, 1.1694371700286865, 0.7977631092071533, 0.0, 1.1670050621032715, 0.02196836844086647]),\n",
       " Row(id=636, features=[0.1248214989900589, 0.264749675989151, 0.0, 0.6289995908737183, 0.5417174696922302, 1.145429015159607, 0.8018742799758911, 0.0, 1.1776015758514404, 0.02825155109167099]),\n",
       " Row(id=637, features=[0.13076752424240112, 0.2518593966960907, 0.0, 0.6281574368476868, 0.5390880107879639, 1.1607589721679688, 0.7998962998390198, 0.0, 1.1694824695587158, 0.02318253554403782]),\n",
       " Row(id=639, features=[0.2536778151988983, 0.5283700823783875, 0.0, 1.2630834579467773, 1.0648999214172363, 2.3025999069213867, 1.6011574268341064, 0.0, 2.351728916168213, 0.054635219275951385]),\n",
       " Row(id=640, features=[0.1246492862701416, 0.26087290048599243, 0.0, 0.6258602142333984, 0.5510799884796143, 1.1442131996154785, 0.8025972247123718, 0.0, 1.1766610145568848, 0.02752061001956463]),\n",
       " Row(id=641, features=[0.12622681260108948, 0.26172947883605957, 0.0, 0.6288231611251831, 0.5410600304603577, 1.1490657329559326, 0.8014140129089355, 0.0, 1.1757045984268188, 0.027059253305196762]),\n",
       " Row(id=642, features=[0.12503843009471893, 0.26983487606048584, 0.0, 0.6330847144126892, 0.5293429493904114, 1.1469393968582153, 0.8008584976196289, 0.0, 1.1787470579147339, 0.02921205572783947]),\n",
       " Row(id=643, features=[0.12451118975877762, 0.2578672468662262, 0.0, 0.6234094500541687, 0.5582907795906067, 1.1432276964187622, 0.8031232357025146, 0.0, 1.1758867502212524, 0.02695479430258274]),\n",
       " Row(id=644, features=[0.1266985982656479, 0.26640477776527405, 0.0, 0.6329776644706726, 0.5282564163208008, 1.1512572765350342, 0.8002885580062866, 0.0, 1.1765382289886475, 0.027831876650452614]),\n",
       " Row(id=645, features=[0.375224769115448, 0.7917801737785339, 0.0, 1.88628351688385, 1.6266329288482666, 3.43810772895813, 2.405510902404785, 0.0, 3.531555652618408, 0.08393736183643341]),\n",
       " Row(id=646, features=[0.4014393389225006, 0.7511962652206421, 0.0, 1.898868203163147, 1.573013424873352, 3.5093307495117188, 2.3951852321624756, 0.0, 3.4983153343200684, 0.061506178230047226]),\n",
       " Row(id=647, features=[0.512133777141571, 1.0472681522369385, 0.0, 2.5300004482269287, 2.1149961948394775, 4.619028091430664, 3.2022833824157715, 0.0, 4.697414875030518, 0.10242215543985367]),\n",
       " Row(id=648, features=[0.12503843009471893, 0.26983487606048584, 0.0, 0.6330847144126892, 0.5293429493904114, 1.1469393968582153, 0.8008584976196289, 0.0, 1.1787470579147339, 0.02921205572783947]),\n",
       " Row(id=649, features=[0.08723508566617966, 0.31089910864830017, 0.043817318975925446, 0.982082188129425, 1.1563717126846313, 2.3082454204559326, 1.7810752391815186, 0.0, 2.3751304149627686, 0.03905175253748894]),\n",
       " Row(id=650, features=[0.3887418210506439, 0.7599442005157471, 0.0, 1.8638665676116943, 1.6709874868392944, 3.44176983833313, 2.4080896377563477, 0.0, 3.525263547897339, 0.07433387637138367]),\n",
       " Row(id=651, features=[0.26083052158355713, 0.5131062269210815, 0.0, 1.2663359642028809, 1.0599069595336914, 2.3216710090637207, 1.5996077060699463, 0.0, 2.3395097255706787, 0.045254651457071304]),\n",
       " Row(id=652, features=[0.2550678253173828, 0.5105109214782715, 0.0, 1.2518585920333862, 1.0968883037567139, 2.303556203842163, 1.603107213973999, 0.0, 2.345836639404297, 0.0503864586353302]),\n",
       " Row(id=653, features=[0.12610116600990295, 0.25183233618736267, 0.0, 0.6229627132415771, 0.5585737228393555, 1.1474783420562744, 0.803782045841217, 0.0, 1.1731493473052979, 0.023763151839375496]),\n",
       " Row(id=654, features=[0.12503843009471893, 0.26983487606048584, 0.0, 0.6330847144126892, 0.5293429493904114, 1.1469393968582153, 0.8008584976196289, 0.0, 1.1787470579147339, 0.02921205572783947]),\n",
       " Row(id=655, features=[0.12503843009471893, 0.26983487606048584, 0.0, 0.6330847144126892, 0.5293429493904114, 1.1469393968582153, 0.8008584976196289, 0.0, 1.1787470579147339, 0.02921205572783947]),\n",
       " Row(id=656, features=[0.1341630071401596, 0.2466566562652588, 0.0, 0.6314965486526489, 0.5264595150947571, 1.1706204414367676, 0.7993277907371521, 0.0, 1.1654685735702515, 0.01901320368051529]),\n",
       " Row(id=657, features=[0.38009577989578247, 0.7992143630981445, 0.0, 1.8989330530166626, 1.5847692489624023, 3.4537715911865234, 2.4008655548095703, 0.0, 3.5296146869659424, 0.0834956243634224]),\n",
       " Row(id=658, features=[0.24948355555534363, 0.5258762836456299, 0.0, 1.255070686340332, 1.0922003984451294, 2.289735794067383, 1.6044354438781738, 0.0, 2.3543388843536377, 0.055819712579250336]),\n",
       " Row(id=659, features=[0.1317799985408783, 0.2558698356151581, 0.0, 0.6326062083244324, 0.5248889923095703, 1.1644166707992554, 0.7984863519668579, 0.0, 1.1696856021881104, 0.023598330095410347]),\n",
       " Row(id=660, features=[0.38257959485054016, 0.7895236611366272, 0.0, 1.897801160812378, 1.586554765701294, 3.4603075981140137, 2.4018654823303223, 0.0, 3.525300979614258, 0.07864733785390854]),\n",
       " Row(id=661, features=[0.12825137376785278, 0.26319199800491333, 0.0, 0.6328720450401306, 0.5272349119186401, 1.155288577079773, 0.7997481822967529, 0.0, 1.1744606494903564, 0.026539823040366173]),\n",
       " Row(id=662, features=[0.135165274143219, 0.23461079597473145, 0.0, 0.6292540431022644, 0.5331684947013855, 1.1733123064041138, 0.802933394908905, 0.0, 1.1618067026138306, 0.01210837159305811]),\n",
       " Row(id=663, features=[0.1337304264307022, 0.2518064081668854, 0.0, 0.6324396729469299, 0.523573637008667, 1.1694371700286865, 0.7977631092071533, 0.0, 1.1670050621032715, 0.02196836844086647]),\n",
       " Row(id=664, features=[0.505217969417572, 1.0623159408569336, 0.0, 2.52716326713562, 2.1286351680755615, 4.5998382568359375, 3.202850818634033, 0.0, 4.706601619720459, 0.11128653585910797]),\n",
       " Row(id=665, features=[0.13589215278625488, 0.240788996219635, 0.0, 0.6349944472312927, 0.5263979434967041, 1.1756370067596436, 0.8004122376441956, 0.0, 1.1598377227783203, 0.012801911681890488]),\n",
       " Row(id=666, features=[0.1369621455669403, 0.2377394586801529, 0.0, 0.6322693228721619, 0.5298103094100952, 1.170555830001831, 0.8037698268890381, 0.0, 1.1627085208892822, 0.01635027304291725]),\n",
       " Row(id=667, features=[0.24978548288345337, 0.5327892899513245, 0.0, 1.2606499195098877, 1.0754512548446655, 2.2918550968170166, 1.6031073331832886, 0.0, 2.3559651374816895, 0.05712411180138588]),\n",
       " Row(id=668, features=[0.12503843009471893, 0.26983487606048584, 0.0, 0.6330847144126892, 0.5293429493904114, 1.1469393968582153, 0.8008584976196289, 0.0, 1.1787470579147339, 0.02921205572783947]),\n",
       " Row(id=669, features=[0.13055790960788727, 0.2584095895290375, 0.0, 0.6327028870582581, 0.525705873966217, 1.1612612009048462, 0.7989294528961182, 0.0, 1.171349048614502, 0.024618037045001984]),\n",
       " Row(id=670, features=[0.12503843009471893, 0.26983487606048584, 0.0, 0.6330847144126892, 0.5293429493904114, 1.1469393968582153, 0.8008584976196289, 0.0, 1.1787470579147339, 0.02921205572783947]),\n",
       " Row(id=671, features=[0.12971530854701996, 0.2601581811904907, 0.0, 0.6327665448188782, 0.5262662172317505, 1.1590816974639893, 0.7992309927940369, 0.0, 1.1724897623062134, 0.025320474058389664]),\n",
       " Row(id=672, features=[0.13274964690208435, 0.24865670502185822, 0.0, 0.6314202547073364, 0.5281276106834412, 1.1670050621032715, 0.8002443313598633, 0.0, 1.1672120094299316, 0.019616149365901947]),\n",
       " Row(id=673, features=[0.2623622417449951, 0.5059359669685364, 0.0, 1.2635468244552612, 1.0567971467971802, 2.32589054107666, 1.6007912158966064, 0.0, 2.3391826152801514, 0.04313036799430847]),\n",
       " Row(id=674, features=[0.3814607560634613, 0.7903937697410583, 0.0, 1.896289348602295, 1.5919511318206787, 3.456979751586914, 2.4022791385650635, 0.0, 3.5264015197753906, 0.0796799287199974]),\n",
       " Row(id=675, features=[0.38881638646125793, 0.7811579704284668, 0.0, 1.8983240127563477, 1.5790174007415771, 3.4763922691345215, 2.397810220718384, 0.0, 3.517914295196533, 0.07623602449893951]),\n",
       " Row(id=676, features=[0.12478320300579071, 0.26386958360671997, 0.0, 0.6282898187637329, 0.5438512563705444, 1.145160436630249, 0.8020443916320801, 0.0, 1.1773959398269653, 0.028085464611649513]),\n",
       " Row(id=677, features=[0.08081692457199097, 0.22184941172599792, 0.0, 0.48761916160583496, 0.6107980608940125, 1.129140853881836, 0.8745843172073364, 0.0, 1.1986312866210938, 0.017263706773519516]),\n",
       " Row(id=678, features=[0.13028915226459503, 0.25440362095832825, 0.0, 0.6317541003227234, 0.529306173324585, 1.1606478691101074, 0.8008873462677002, 0.0, 1.1707111597061157, 0.022054482251405716]),\n",
       " Row(id=679, features=[0.2561705708503723, 0.5073845982551575, 0.0, 1.2528018951416016, 1.0935218334197998, 2.3068721294403076, 1.6036193370819092, 0.0, 2.34428334236145, 0.0480390265583992]),\n",
       " Row(id=680, features=[0.12503843009471893, 0.26983487606048584, 0.0, 0.6330847144126892, 0.5293429493904114, 1.1469393968582153, 0.8008584976196289, 0.0, 1.1787470579147339, 0.02921205572783947]),\n",
       " Row(id=681, features=[0.24972957372665405, 0.5314924716949463, 0.0, 1.2596060037612915, 1.0786008834838867, 2.2914645671844482, 1.6033620834350586, 0.0, 2.3556673526763916, 0.05687927454710007]),\n",
       " Row(id=682, features=[0.25007686018943787, 0.5396697521209717, 0.0, 1.2661694288253784, 1.0586858987808228, 2.2938787937164307, 1.6017169952392578, 0.0, 2.3574941158294678, 0.05842411145567894]),\n",
       " Row(id=683, features=[0.12503843009471893, 0.26983487606048584, 0.0, 0.6330847144126892, 0.5293429493904114, 1.1469393968582153, 0.8008584976196289, 0.0, 1.1787470579147339, 0.02921205572783947]),\n",
       " Row(id=684, features=[0.12971530854701996, 0.2601581811904907, 0.0, 0.6327665448188782, 0.5262662172317505, 1.1590816974639893, 0.7992309927940369, 0.0, 1.1724897623062134, 0.025320474058389664]),\n",
       " Row(id=685, features=[0.2401747852563858, 0.4201531410217285, 0.24370886385440826, 1.2286361455917358, 1.0868754386901855, 2.345707416534424, 1.6195687055587769, 0.0, 2.3208861351013184, 0.02667992375791073]),\n",
       " Row(id=686, features=[0.13055790960788727, 0.2584095895290375, 0.0, 0.6327028870582581, 0.525705873966217, 1.1612612009048462, 0.7989294528961182, 0.0, 1.171349048614502, 0.024618037045001984]),\n",
       " Row(id=687, features=[0.1337304264307022, 0.2518064081668854, 0.0, 0.6324396729469299, 0.523573637008667, 1.1694371700286865, 0.7977631092071533, 0.0, 1.1670050621032715, 0.02196836844086647]),\n",
       " Row(id=688, features=[0.1317799985408783, 0.2558698356151581, 0.0, 0.6326062083244324, 0.5248889923095703, 1.1644166707992554, 0.7984863519668579, 0.0, 1.1696856021881104, 0.023598330095410347]),\n",
       " Row(id=689, features=[0.40095850825309753, 0.7505004405975342, 0.0, 1.896191954612732, 1.5749304294586182, 3.507810115814209, 2.3955812454223633, 0.0, 3.500150203704834, 0.06279869377613068]),\n",
       " Row(id=690, features=[0.12503843009471893, 0.26983487606048584, 0.0, 0.6330847144126892, 0.5293429493904114, 1.1469393968582153, 0.8008584976196289, 0.0, 1.1787470579147339, 0.02921205572783947]),\n",
       " Row(id=691, features=[0.25105777382850647, 0.5262090563774109, 0.0, 1.2576364278793335, 1.0833245515823364, 2.294476270675659, 1.6033272743225098, 0.0, 2.3532283306121826, 0.05525128170847893]),\n",
       " Row(id=692, features=[0.12481136620044708, 0.2645176649093628, 0.0, 0.628812313079834, 0.5422795414924622, 1.1453578472137451, 0.8019188046455383, 0.0, 1.1775469779968262, 0.028207775205373764]),\n",
       " Row(id=693, features=[0.12971530854701996, 0.2601581811904907, 0.0, 0.6327665448188782, 0.5262662172317505, 1.1590816974639893, 0.7992309927940369, 0.0, 1.1724897623062134, 0.025320474058389664]),\n",
       " Row(id=694, features=[0.37750306725502014, 0.8045729994773865, 0.0, 1.8991023302078247, 1.5864681005477905, 3.447031021118164, 2.4017584323883057, 0.0, 3.5330686569213867, 0.08565153926610947]),\n",
       " Row(id=695, features=[0.2544543147087097, 0.5306234359741211, 0.0, 1.2658847570419312, 1.0558186769485474, 2.30526065826416, 1.6002109050750732, 0.0, 2.3516647815704346, 0.05478440970182419]),\n",
       " Row(id=696, features=[0.13084907829761505, 0.2365119308233261, 0.0, 0.6235239505767822, 0.5537446141242981, 1.1605968475341797, 0.8052437901496887, 0.0, 1.165669560432434, 0.014870532788336277]),\n",
       " Row(id=697, features=[0.381258487701416, 0.7849372029304504, 0.0, 1.8921403884887695, 1.604580283164978, 3.455526113510132, 2.40344500541687, 0.0, 3.525179386138916, 0.07849463075399399]),\n",
       " Row(id=698, features=[0.12503843009471893, 0.26983487606048584, 0.0, 0.6330847144126892, 0.5293429493904114, 1.1469393968582153, 0.8008584976196289, 0.0, 1.1787470579147339, 0.02921205572783947]),\n",
       " Row(id=699, features=[0.12849824130535126, 0.2602290213108063, 0.0, 0.631041944026947, 0.5325166583061218, 1.155519723892212, 0.800091564655304, 0.0, 1.1735106706619263, 0.02582913637161255]),\n",
       " Row(id=700, features=[0.1337304264307022, 0.2518064081668854, 0.0, 0.6324396729469299, 0.523573637008667, 1.1694371700286865, 0.7977631092071533, 0.0, 1.1670050621032715, 0.02196836844086647]),\n",
       " Row(id=701, features=[0.12499064207077026, 0.26869529485702515, 0.0, 0.6321722269058228, 0.5321246385574341, 1.1466087102890015, 0.8010923266410828, 0.0, 1.178498387336731, 0.028996648266911507]),\n",
       " Row(id=702, features=[0.13110676407814026, 0.2572694718837738, 0.0, 0.6326600909233093, 0.525339663028717, 1.1626793146133423, 0.7987313270568848, 0.0, 1.1706033945083618, 0.02416020631790161]),\n",
       " Row(id=703, features=[0.12494873255491257, 0.26770493388175964, 0.0, 0.6313779354095459, 0.5345381498336792, 1.146317720413208, 0.8012927174568176, 0.0, 1.1782786846160889, 0.028809525072574615]),\n",
       " Row(id=704, features=[0.12422249466180801, 0.2518303096294403, 0.0, 0.6184454560279846, 0.5726557374000549, 1.141141653060913, 0.8040945529937744, 0.0, 1.174220085144043, 0.025820501148700714]),\n",
       " Row(id=705, features=[0.26606300473213196, 0.5065280795097351, 0.0, 1.2650023698806763, 1.048093557357788, 2.3352808952331543, 1.596049427986145, 0.0, 2.3359389305114746, 0.045105673372745514]),\n",
       " Row(id=706, features=[0.08113379776477814, 0.22590303421020508, 0.0, 0.4868767261505127, 0.6096382737159729, 1.1211163997650146, 0.866906464099884, 0.0, 1.2012797594070435, 0.0240226648747921]),\n",
       " Row(id=707, features=[0.24950693547725677, 0.5264037251472473, 0.0, 1.255497694015503, 1.090926170349121, 2.289900779724121, 1.6043367385864258, 0.0, 2.354466438293457, 0.055919162929058075]),\n",
       " Row(id=708, features=[0.1316256821155548, 0.2517462372779846, 0.0, 0.6316742897033691, 0.5283234119415283, 1.1640974283218384, 0.8003544807434082, 0.0, 1.1689190864562988, 0.021012557670474052]),\n",
       " Row(id=709, features=[0.13110676407814026, 0.2572694718837738, 0.0, 0.6326600909233093, 0.525339663028717, 1.1626793146133423, 0.7987313270568848, 0.0, 1.1706033945083618, 0.02416020631790161]),\n",
       " Row(id=710, features=[0.254974365234375, 0.5295475125312805, 0.0, 1.2658494710922241, 1.0554766654968262, 2.3066110610961914, 1.6000301837921143, 0.0, 2.3509693145751953, 0.05435169115662575]),\n",
       " Row(id=711, features=[0.13711892068386078, 0.22899694740772247, 0.0, 0.6337072253227234, 0.5322607755661011, 1.1789730787277222, 0.8037683963775635, 0.0, 1.155424952507019, 0.0054689799435436726]),\n",
       " Row(id=712, features=[0.12503843009471893, 0.26983487606048584, 0.0, 0.6330847144126892, 0.5293429493904114, 1.1469393968582153, 0.8008584976196289, 0.0, 1.1787470579147339, 0.02921205572783947]),\n",
       " Row(id=713, features=[0.1345662772655487, 0.24183157086372375, 0.0, 0.6306050419807434, 0.5291545391082764, 1.1717129945755005, 0.8007821440696716, 0.0, 1.164014458656311, 0.01624598540365696]),\n",
       " Row(id=714, features=[0.13494624197483063, 0.2372594177722931, 0.0, 0.6297521591186523, 0.5316990613937378, 1.1727310419082642, 0.802148163318634, 0.0, 1.162621259689331, 0.013625524938106537]),\n",
       " Row(id=715, features=[0.1266985982656479, 0.26640477776527405, 0.0, 0.6329776644706726, 0.5282564163208008, 1.1512572765350342, 0.8002885580062866, 0.0, 1.1765382289886475, 0.027831876650452614]),\n",
       " Row(id=716, features=[0.2569500803947449, 0.5202206969261169, 0.0, 1.2646020650863647, 1.0581035614013672, 2.311833381652832, 1.6014785766601562, 0.0, 2.347174644470215, 0.04950787127017975]),\n",
       " Row(id=718, features=[0.5162142515182495, 1.0461207628250122, 0.0, 2.5312600135803223, 2.1068193912506104, 4.629472255706787, 3.1978631019592285, 0.0, 4.69352912902832, 0.10348726809024811]),\n",
       " Row(id=719, features=[0.13631923496723175, 0.23229503631591797, 0.0, 0.6323785781860352, 0.5318623781204224, 1.176688313484192, 0.8030914068222046, 0.0, 1.1580983400344849, 0.00857124850153923]),\n",
       " Row(id=720, features=[0.12825137376785278, 0.26319199800491333, 0.0, 0.6328720450401306, 0.5272349119186401, 1.155288577079773, 0.7997481822967529, 0.0, 1.1744606494903564, 0.026539823040366173]),\n",
       " Row(id=721, features=[0.2674608528614044, 0.5036128163337708, 0.0, 1.2648793458938599, 1.047147274017334, 2.338874340057373, 1.5955262184143066, 0.0, 2.334010124206543, 0.04393673688173294]),\n",
       " Row(id=722, features=[0.2510979473590851, 0.5375610589981079, 0.0, 1.266104817390442, 1.058018684387207, 2.2965359687805176, 1.6013679504394531, 0.0, 2.356137990951538, 0.05757548287510872]),\n",
       " Row(id=723, features=[0.07741421461105347, 0.22165481746196747, 0.0, 0.4812188744544983, 0.5992598533630371, 1.1354374885559082, 0.872983455657959, 0.0, 1.2010902166366577, 0.022269507870078087]),\n",
       " Row(id=724, features=[0.12422249466180801, 0.2518303096294403, 0.0, 0.6184454560279846, 0.5726557374000549, 1.141141653060913, 0.8040945529937744, 0.0, 1.174220085144043, 0.025820501148700714]),\n",
       " Row(id=725, features=[0.12971530854701996, 0.2601581811904907, 0.0, 0.6327665448188782, 0.5262662172317505, 1.1590816974639893, 0.7992309927940369, 0.0, 1.1724897623062134, 0.025320474058389664]),\n",
       " Row(id=726, features=[0.1274871826171875, 0.26477375626564026, 0.0, 0.6329247355461121, 0.5277383327484131, 1.1533055305480957, 0.8000150918960571, 0.0, 1.1754846572875977, 0.027175845578312874]),\n",
       " Row(id=727, features=[0.12503843009471893, 0.26983487606048584, 0.0, 0.6330847144126892, 0.5293429493904114, 1.1469393968582153, 0.8008584976196289, 0.0, 1.1787470579147339, 0.02921205572783947]),\n",
       " Row(id=728, features=[0.1266985982656479, 0.26640477776527405, 0.0, 0.6329776644706726, 0.5282564163208008, 1.1512572765350342, 0.8002885580062866, 0.0, 1.1765382289886475, 0.027831876650452614]),\n",
       " Row(id=729, features=[0.124687559902668, 0.2617235779762268, 0.0, 0.6265508532524109, 0.5490305423736572, 1.144484519958496, 0.8024422526359558, 0.0, 1.1768721342086792, 0.027680909261107445]),\n",
       " Row(id=730, features=[0.1274871826171875, 0.26477375626564026, 0.0, 0.6329247355461121, 0.5277383327484131, 1.1533055305480957, 0.8000150918960571, 0.0, 1.1754846572875977, 0.027175845578312874]),\n",
       " Row(id=731, features=[0.12503843009471893, 0.26983487606048584, 0.0, 0.6330847144126892, 0.5293429493904114, 1.1469393968582153, 0.8008584976196289, 0.0, 1.1787470579147339, 0.02921205572783947]),\n",
       " Row(id=732, features=[0.13424581289291382, 0.24566809833049774, 0.0, 0.6313145160675049, 0.5270124077796936, 1.1708457469940186, 0.7996267080307007, 0.0, 1.1651718616485596, 0.018446125090122223]),\n",
       " Row(id=733, features=[0.1337304264307022, 0.2518064081668854, 0.0, 0.6324396729469299, 0.523573637008667, 1.1694371700286865, 0.7977631092071533, 0.0, 1.1670050621032715, 0.02196836844086647]),\n",
       " Row(id=734, features=[0.13599719107151031, 0.22444704174995422, 0.0, 0.6273099184036255, 0.538770318031311, 1.1754746437072754, 0.8058981895446777, 0.0, 1.1586201190948486, 0.006293241400271654]),\n",
       " Row(id=735, features=[0.1337304264307022, 0.2518064081668854, 0.0, 0.6324396729469299, 0.523573637008667, 1.1694371700286865, 0.7977631092071533, 0.0, 1.1670050621032715, 0.02196836844086647]),\n",
       " Row(id=736, features=[0.25007686018943787, 0.5396697521209717, 0.0, 1.2661694288253784, 1.0586858987808228, 2.2938787937164307, 1.6017169952392578, 0.0, 2.3574941158294678, 0.05842411145567894]),\n",
       " Row(id=737, features=[0.24944455921649933, 0.5249996185302734, 0.0, 1.2543606758117676, 1.0943169593811035, 2.2894604206085205, 1.6045986413955688, 0.0, 2.354125738143921, 0.055654432624578476]),\n",
       " Row(id=738, features=[0.12503843009471893, 0.26983487606048584, 0.0, 0.6330847144126892, 0.5293429493904114, 1.1469393968582153, 0.8008584976196289, 0.0, 1.1787470579147339, 0.02921205572783947]),\n",
       " Row(id=739, features=[0.25399839878082275, 0.5192061066627502, 0.0, 1.2567578554153442, 1.0834349393844604, 2.30195951461792, 1.602467656135559, 0.0, 2.3490653038024902, 0.05261519178748131]),\n",
       " Row(id=740, features=[0.12503843009471893, 0.26983487606048584, 0.0, 0.6330847144126892, 0.5293429493904114, 1.1469393968582153, 0.8008584976196289, 0.0, 1.1787470579147339, 0.02921205572783947]),\n",
       " Row(id=741, features=[0.3864862322807312, 0.7732210159301758, 0.0, 1.8958364725112915, 1.6007720232009888, 3.459198474884033, 2.4088451862335205, 0.0, 3.5205910205841064, 0.07441476732492447]),\n",
       " Row(id=742, features=[0.3891459107398987, 0.7804745435714722, 0.0, 1.8982996940612793, 1.578798770904541, 3.477245330810547, 2.397692918777466, 0.0, 3.5174691677093506, 0.07596142590045929]),\n",
       " Row(id=743, features=[0.12503843009471893, 0.26983487606048584, 0.0, 0.6330847144126892, 0.5293429493904114, 1.1469393968582153, 0.8008584976196289, 0.0, 1.1787470579147339, 0.02921205572783947]),\n",
       " Row(id=744, features=[0.12971530854701996, 0.2601581811904907, 0.0, 0.6327665448188782, 0.5262662172317505, 1.1590816974639893, 0.7992309927940369, 0.0, 1.1724897623062134, 0.025320474058389664]),\n",
       " Row(id=745, features=[0.14259377121925354, 0.23159590363502502, 0.0, 0.6049225330352783, 0.5825890898704529, 1.1498992443084717, 0.8038458824157715, 0.0, 1.17188560962677, 0.01753983274102211]),\n",
       " Row(id=746, features=[0.12825137376785278, 0.26319199800491333, 0.0, 0.6328720450401306, 0.5272349119186401, 1.155288577079773, 0.7997481822967529, 0.0, 1.1744606494903564, 0.026539823040366173]),\n",
       " Row(id=747, features=[0.13291257619857788, 0.24917256832122803, 0.0, 0.6315886974334717, 0.5273779630661011, 1.1674102544784546, 0.7998365759849548, 0.0, 1.1671775579452515, 0.020002147182822227]),\n",
       " Row(id=748, features=[0.2674608528614044, 0.5036128163337708, 0.0, 1.2648793458938599, 1.047147274017334, 2.338874340057373, 1.5955262184143066, 0.0, 2.334010124206543, 0.04393673688173294]),\n",
       " Row(id=749, features=[0.1274871826171875, 0.26477375626564026, 0.0, 0.6329247355461121, 0.5277383327484131, 1.1533055305480957, 0.8000150918960571, 0.0, 1.1754846572875977, 0.027175845578312874]),\n",
       " Row(id=750, features=[0.12503843009471893, 0.26983487606048584, 0.0, 0.6330847144126892, 0.5293429493904114, 1.1469393968582153, 0.8008584976196289, 0.0, 1.1787470579147339, 0.02921205572783947]),\n",
       " Row(id=751, features=[0.2653328776359558, 0.49863749742507935, 0.0, 1.2656588554382324, 1.061238169670105, 2.3263437747955322, 1.6042194366455078, 0.0, 2.335204839706421, 0.040643367916345596]),\n",
       " Row(id=752, features=[0.1288466453552246, 0.2619589865207672, 0.0, 0.6328298449516296, 0.5268417000770569, 1.156831979751587, 0.7995388507843018, 0.0, 1.1736607551574707, 0.026044156402349472]),\n",
       " Row(id=753, features=[0.12503843009471893, 0.26983487606048584, 0.0, 0.6330847144126892, 0.5293429493904114, 1.1469393968582153, 0.8008584976196289, 0.0, 1.1787470579147339, 0.02921205572783947]),\n",
       " Row(id=754, features=[0.12503843009471893, 0.26983487606048584, 0.0, 0.6330847144126892, 0.5293429493904114, 1.1469393968582153, 0.8008584976196289, 0.0, 1.1787470579147339, 0.02921205572783947]),\n",
       " Row(id=755, features=[0.37561509013175964, 0.7670588493347168, 0.0, 1.8684152364730835, 1.678339958190918, 3.4346609115600586, 2.4089698791503906, 0.0, 3.524223566055298, 0.07866988331079483]),\n",
       " Row(id=756, features=[0.25007686018943787, 0.5396697521209717, 0.0, 1.2661694288253784, 1.0586858987808228, 2.2938787937164307, 1.6017169952392578, 0.0, 2.3574941158294678, 0.05842411145567894]),\n",
       " Row(id=757, features=[0.1264684796333313, 0.2668805420398712, 0.0, 0.6329928636550903, 0.5284073352813721, 1.150659203529358, 0.8003680109977722, 0.0, 1.1768451929092407, 0.028023261576890945]),\n",
       " Row(id=758, features=[0.12487843632698059, 0.2660624086856842, 0.0, 0.6300575733184814, 0.5385327339172363, 1.1458276510238647, 0.8016191124916077, 0.0, 1.1779065132141113, 0.02849932760000229]),\n",
       " Row(id=759, features=[0.12655088305473328, 0.26336440443992615, 0.0, 0.6305120587348938, 0.5357717871665955, 1.1503102779388428, 0.800920307636261, 0.0, 1.175883173942566, 0.027265219017863274]),\n",
       " Row(id=760, features=[0.4018611013889313, 0.7355844974517822, 0.0, 1.8933292627334595, 1.5840613842010498, 3.5103394985198975, 2.400529146194458, 0.0, 3.4960074424743652, 0.0540882907807827]),\n",
       " Row(id=761, features=[0.2517664134502411, 0.5361801385879517, 0.0, 1.2660619020462036, 1.0575814247131348, 2.2982747554779053, 1.6011388301849365, 0.0, 2.3552491664886475, 0.05701979994773865]),\n",
       " Row(id=762, features=[0.3822496235370636, 0.7947597503662109, 0.0, 1.8987886905670166, 1.5833543539047241, 3.4593663215637207, 2.4001190662384033, 0.0, 3.526737689971924, 0.08170388638973236]),\n",
       " Row(id=763, features=[0.1337304264307022, 0.2518064081668854, 0.0, 0.6324396729469299, 0.523573637008667, 1.1694371700286865, 0.7977631092071533, 0.0, 1.1670050621032715, 0.02196836844086647]),\n",
       " Row(id=764, features=[0.382766991853714, 0.7912096977233887, 0.0, 1.8969212770462036, 1.588529109954834, 3.460299253463745, 2.4003782272338867, 0.0, 3.525425434112549, 0.08076261729001999]),\n",
       " Row(id=765, features=[0.12701711058616638, 0.265746146440506, 0.0, 0.6329565048217773, 0.5280473232269287, 1.1520847082138062, 0.8001783490180969, 0.0, 1.1761131286621094, 0.02756693959236145]),\n",
       " Row(id=766, features=[0.13250525295734406, 0.2478889524936676, 0.0, 0.6311682462692261, 0.5292465686798096, 1.1663962602615356, 0.8008525371551514, 0.0, 1.1672636270523071, 0.019041024148464203]),\n",
       " Row(id=767, features=[0.1337304264307022, 0.2518064081668854, 0.0, 0.6324396729469299, 0.523573637008667, 1.1694371700286865, 0.7977631092071533, 0.0, 1.1670050621032715, 0.02196836844086647]),\n",
       " Row(id=768, features=[0.1337304264307022, 0.2518064081668854, 0.0, 0.6324396729469299, 0.523573637008667, 1.1694371700286865, 0.7977631092071533, 0.0, 1.1670050621032715, 0.02196836844086647]),\n",
       " Row(id=769, features=[0.3846321403980255, 0.7894237637519836, 0.07752777636051178, 1.8014198541641235, 1.6919612884521484, 3.442046642303467, 2.4188690185546875, 0.022336332127451897, 3.542954206466675, 0.06600747257471085]),\n",
       " Row(id=770, features=[0.12503843009471893, 0.26983487606048584, 0.0, 0.6330847144126892, 0.5293429493904114, 1.1469393968582153, 0.8008584976196289, 0.0, 1.1787470579147339, 0.02921205572783947]),\n",
       " Row(id=771, features=[0.12503843009471893, 0.26983487606048584, 0.0, 0.6330847144126892, 0.5293429493904114, 1.1469393968582153, 0.8008584976196289, 0.0, 1.1787470579147339, 0.02921205572783947]),\n",
       " Row(id=772, features=[0.13031962513923645, 0.25890424847602844, 0.0, 0.6327211260795593, 0.5258645415306091, 1.1606452465057373, 0.7990150451660156, 0.0, 1.1716721057891846, 0.02481672540307045]),\n",
       " Row(id=773, features=[0.2566555440425873, 0.5216118097305298, 0.0, 1.2647886276245117, 1.057712435722351, 2.3110556602478027, 1.601263403892517, 0.0, 2.3477416038513184, 0.05023021996021271]),\n",
       " Row(id=774, features=[0.13244055211544037, 0.25449511408805847, 0.0, 0.6325515508651733, 0.5244452357292175, 1.1661193370819092, 0.7982437610626221, 0.0, 1.1687815189361572, 0.023046672344207764]),\n",
       " Row(id=775, features=[0.12503843009471893, 0.26983487606048584, 0.0, 0.6330847144126892, 0.5293429493904114, 1.1469393968582153, 0.8008584976196289, 0.0, 1.1787470579147339, 0.02921205572783947]),\n",
       " Row(id=776, features=[0.2674608528614044, 0.5036128163337708, 0.0, 1.2648793458938599, 1.047147274017334, 2.338874340057373, 1.5955262184143066, 0.0, 2.334010124206543, 0.04393673688173294]),\n",
       " Row(id=777, features=[0.379619300365448, 0.7978217601776123, 0.0, 1.8972073793411255, 1.590368628501892, 3.452139139175415, 2.4014506340026855, 0.0, 3.5296547412872314, 0.0834021046757698]),\n",
       " Row(id=778, features=[0.13276661932468414, 0.25381600856781006, 0.0, 0.6325239539146423, 0.5242255330085754, 1.1669589281082153, 0.7981231212615967, 0.0, 1.168333888053894, 0.0227742288261652]),\n",
       " Row(id=779, features=[0.13915620744228363, 0.24718131124973297, 0.0, 0.6337135434150696, 0.5259509086608887, 1.1706559658050537, 0.8021065592765808, 0.0, 1.1626204252243042, 0.015706248581409454]),\n",
       " Row(id=780, features=[0.1246492862701416, 0.26087290048599243, 0.0, 0.6258602142333984, 0.5510799884796143, 1.1442131996154785, 0.8025972247123718, 0.0, 1.1766610145568848, 0.02752061001956463]),\n",
       " Row(id=781, features=[0.25007686018943787, 0.5396697521209717, 0.0, 1.2661694288253784, 1.0586858987808228, 2.2938787937164307, 1.6017169952392578, 0.0, 2.3574941158294678, 0.05842411145567894]),\n",
       " Row(id=782, features=[0.14208008348941803, 0.2314784973859787, 0.0, 0.6046926379203796, 0.5794882774353027, 1.147330641746521, 0.8032560348510742, 0.0, 1.1692447662353516, 0.017708007246255875]),\n",
       " Row(id=783, features=[0.12469997256994247, 0.2620004117488861, 0.0, 0.6267754435539246, 0.548363208770752, 1.1445724964141846, 0.8023914694786072, 0.0, 1.1769404411315918, 0.027733083814382553]),\n",
       " Row(id=784, features=[0.2554585635662079, 0.5263574719429016, 0.0, 1.2653528451919556, 1.056800365447998, 2.307908773422241, 1.600756049156189, 0.0, 2.3498432636260986, 0.052611883729696274]),\n",
       " Row(id=785, features=[0.3745458424091339, 0.777111291885376, 0.02237614244222641, 1.8459937572479248, 1.6941347122192383, 3.4268336296081543, 2.4130899906158447, 0.006446733605116606, 3.5328822135925293, 0.07774563878774643]),\n",
       " Row(id=786, features=[0.12722715735435486, 0.26531171798706055, 0.0, 0.6329423785209656, 0.5279093384742737, 1.15263032913208, 0.8001054525375366, 0.0, 1.1758323907852173, 0.027392204850912094]),\n",
       " Row(id=787, features=[0.1337304264307022, 0.2518064081668854, 0.0, 0.6324396729469299, 0.523573637008667, 1.1694371700286865, 0.7977631092071533, 0.0, 1.1670050621032715, 0.02196836844086647]),\n",
       " Row(id=788, features=[0.12825137376785278, 0.26319199800491333, 0.0, 0.6328720450401306, 0.5272349119186401, 1.155288577079773, 0.7997481822967529, 0.0, 1.1744606494903564, 0.026539823040366173]),\n",
       " Row(id=789, features=[0.12971530854701996, 0.2601581811904907, 0.0, 0.6327665448188782, 0.5262662172317505, 1.1590816974639893, 0.7992309927940369, 0.0, 1.1724897623062134, 0.025320474058389664]),\n",
       " Row(id=790, features=[0.12701711058616638, 0.265746146440506, 0.0, 0.6329565048217773, 0.5280473232269287, 1.1520847082138062, 0.8001783490180969, 0.0, 1.1761131286621094, 0.02756693959236145]),\n",
       " Row(id=791, features=[0.13110676407814026, 0.2572694718837738, 0.0, 0.6326600909233093, 0.525339663028717, 1.1626793146133423, 0.7987313270568848, 0.0, 1.1706033945083618, 0.02416020631790161]),\n",
       " Row(id=792, features=[0.12726306915283203, 0.26035064458847046, 0.0, 0.6293219327926636, 0.5387032628059387, 1.1518938541412354, 0.8009319305419922, 0.0, 1.174527883529663, 0.026355000212788582]),\n",
       " Row(id=793, features=[0.26582515239715576, 0.49834513664245605, 0.0, 1.2631773948669434, 1.0547559261322021, 2.334820508956909, 1.5996731519699097, 0.0, 2.334355115890503, 0.040004294365644455]),\n",
       " Row(id=794, features=[0.1264684796333313, 0.2668805420398712, 0.0, 0.6329928636550903, 0.5284073352813721, 1.150659203529358, 0.8003680109977722, 0.0, 1.1768451929092407, 0.028023261576890945]),\n",
       " Row(id=795, features=[0.1274871826171875, 0.26477375626564026, 0.0, 0.6329247355461121, 0.5277383327484131, 1.1533055305480957, 0.8000150918960571, 0.0, 1.1754846572875977, 0.027175845578312874]),\n",
       " Row(id=796, features=[0.3861731290817261, 0.7634692192077637, 0.0, 1.8901525735855103, 1.6076523065567017, 3.4687280654907227, 2.4066455364227295, 0.0, 3.5161292552948, 0.0669231042265892]),\n",
       " Row(id=797, features=[0.1274871826171875, 0.26477375626564026, 0.0, 0.6329247355461121, 0.5277383327484131, 1.1533055305480957, 0.8000150918960571, 0.0, 1.1754846572875977, 0.027175845578312874]),\n",
       " Row(id=798, features=[0.1274871826171875, 0.26477375626564026, 0.0, 0.6329247355461121, 0.5277383327484131, 1.1533055305480957, 0.8000150918960571, 0.0, 1.1754846572875977, 0.027175845578312874]),\n",
       " Row(id=799, features=[0.25275158882141113, 0.5341442227363586, 0.0, 1.2659978866577148, 1.056936264038086, 2.3008365631103516, 1.6007999181747437, 0.0, 2.3539373874664307, 0.05620066076517105]),\n",
       " Row(id=800, features=[0.13494624197483063, 0.2372594177722931, 0.0, 0.6297521591186523, 0.5316990613937378, 1.1727310419082642, 0.802148163318634, 0.0, 1.162621259689331, 0.013625524938106537]),\n",
       " Row(id=801, features=[0.1337304264307022, 0.2518064081668854, 0.0, 0.6324396729469299, 0.523573637008667, 1.1694371700286865, 0.7977631092071533, 0.0, 1.1670050621032715, 0.02196836844086647]),\n",
       " Row(id=802, features=[0.12503843009471893, 0.26983487606048584, 0.0, 0.6330847144126892, 0.5293429493904114, 1.1469393968582153, 0.8008584976196289, 0.0, 1.1787470579147339, 0.02921205572783947]),\n",
       " Row(id=803, features=[0.2555795907974243, 0.5202716588973999, 0.0, 1.2515225410461426, 1.0930854082107544, 2.2930679321289062, 1.6042612791061401, 0.0, 2.35395884513855, 0.05329316481947899]),\n",
       " Row(id=804, features=[0.13271644711494446, 0.2537177503108978, 0.0, 0.6340227723121643, 0.5242031216621399, 1.167038083076477, 0.7985345721244812, 0.0, 1.1673498153686523, 0.0214348416775465]),\n",
       " Row(id=805, features=[0.2666090428829193, 0.5053896903991699, 0.0, 1.2649548053741455, 1.0477243661880493, 2.3366854190826416, 1.5958456993103027, 0.0, 2.33518648147583, 0.0446491539478302]),\n",
       " Row(id=806, features=[0.1317799985408783, 0.2558698356151581, 0.0, 0.6326062083244324, 0.5248889923095703, 1.1644166707992554, 0.7984863519668579, 0.0, 1.1696856021881104, 0.023598330095410347]),\n",
       " Row(id=807, features=[0.2729758024215698, 0.4337832033634186, 0.0, 1.256371259689331, 1.0811738967895508, 2.3513638973236084, 1.6281760931015015, 0.0, 2.306957960128784, 0.014453845098614693]),\n",
       " Row(id=808, features=[0.12655088305473328, 0.26336440443992615, 0.0, 0.6305120587348938, 0.5357717871665955, 1.1503102779388428, 0.800920307636261, 0.0, 1.175883173942566, 0.027265219017863274]),\n",
       " Row(id=809, features=[0.12971530854701996, 0.2601581811904907, 0.0, 0.6327665448188782, 0.5262662172317505, 1.1590816974639893, 0.7992309927940369, 0.0, 1.1724897623062134, 0.025320474058389664]),\n",
       " Row(id=810, features=[0.2604757249355316, 0.5205178260803223, 0.0, 1.2592869997024536, 1.0661098957061768, 2.308255195617676, 1.6007193326950073, 0.0, 2.3499135971069336, 0.051308754831552505]),\n",
       " Row(id=811, features=[0.134453684091568, 0.24318139255046844, 0.0, 0.6308552622795105, 0.5284015536308289, 1.1714091300964355, 0.8003765344619751, 0.0, 1.1644227504730225, 0.01701994612812996]),\n",
       " Row(id=812, features=[0.13407590985298157, 0.24566762149333954, 0.0, 0.6347123384475708, 0.5269296169281006, 1.1708791255950928, 0.8005366325378418, 0.0, 1.1630672216415405, 0.015544417314231396]),\n",
       " Row(id=813, features=[0.12503843009471893, 0.26983487606048584, 0.0, 0.6330847144126892, 0.5293429493904114, 1.1469393968582153, 0.8008584976196289, 0.0, 1.1787470579147339, 0.02921205572783947]),\n",
       " Row(id=814, features=[0.1478835493326187, 0.22272679209709167, 0.0, 0.6514133810997009, 0.5372642278671265, 1.171349048614502, 0.8104225993156433, 0.0021160340402275324, 1.1466023921966553, 0.011794617399573326]),\n",
       " Row(id=815, features=[0.5344170928001404, 0.9772445559501648, 0.0, 2.525061845779419, 2.1175954341888428, 4.6772141456604, 3.2042236328125, 0.0, 4.660608768463135, 0.06781485676765442]),\n",
       " Row(id=816, features=[0.12483925372362137, 0.2651573419570923, 0.0, 0.6293284296989441, 0.5407292246818542, 1.145553469657898, 0.8017956018447876, 0.0, 1.177696943283081, 0.028328482061624527]),\n",
       " Row(id=817, features=[0.12422249466180801, 0.2518303096294403, 0.0, 0.6184454560279846, 0.5726557374000549, 1.141141653060913, 0.8040945529937744, 0.0, 1.174220085144043, 0.025820501148700714]),\n",
       " Row(id=818, features=[0.13110676407814026, 0.2572694718837738, 0.0, 0.6326600909233093, 0.525339663028717, 1.1626793146133423, 0.7987313270568848, 0.0, 1.1706033945083618, 0.02416020631790161]),\n",
       " Row(id=819, features=[0.12503843009471893, 0.26983487606048584, 0.0, 0.6330847144126892, 0.5293429493904114, 1.1469393968582153, 0.8008584976196289, 0.0, 1.1787470579147339, 0.02921205572783947]),\n",
       " Row(id=820, features=[0.12503843009471893, 0.26983487606048584, 0.0, 0.6330847144126892, 0.5293429493904114, 1.1469393968582153, 0.8008584976196289, 0.0, 1.1787470579147339, 0.02921205572783947]),\n",
       " Row(id=821, features=[0.1263570934534073, 0.1946411281824112, 0.08737688511610031, 0.6150456070899963, 0.5732799172401428, 1.1830549240112305, 0.7921589612960815, 0.001786556327715516, 1.1579681634902954, 0.004503131378442049]),\n",
       " Row(id=822, features=[0.12707653641700745, 0.25613248348236084, 0.0, 0.625908613204956, 0.5488949418067932, 1.150577425956726, 0.8017228245735168, 0.0, 1.1735100746154785, 0.02555946819484234]),\n",
       " Row(id=823, features=[0.40119126439094543, 0.7554192543029785, 0.0, 1.897318959236145, 1.5707210302352905, 3.5083115100860596, 2.39328932762146, 0.0, 3.5010151863098145, 0.06590510904788971]),\n",
       " Row(id=824, features=[0.1261848509311676, 0.2649216949939728, 0.0, 0.6311290264129639, 0.53424072265625, 1.1494953632354736, 0.8009098172187805, 0.0, 1.1765779256820679, 0.02773466520011425]),\n",
       " Row(id=825, features=[0.1400994509458542, 0.22776368260383606, 0.0, 0.6289703845977783, 0.5451845526695251, 1.1684261560440063, 0.8131629228591919, 0.0, 1.155928611755371, 0.008346323855221272]),\n",
       " Row(id=826, features=[0.1288466453552246, 0.2619589865207672, 0.0, 0.6328298449516296, 0.5268417000770569, 1.156831979751587, 0.7995388507843018, 0.0, 1.1736607551574707, 0.026044156402349472]),\n",
       " Row(id=827, features=[0.12503843009471893, 0.26983487606048584, 0.0, 0.6330847144126892, 0.5293429493904114, 1.1469393968582153, 0.8008584976196289, 0.0, 1.1787470579147339, 0.02921205572783947]),\n",
       " Row(id=828, features=[0.226700097322464, 0.6053512692451477, 0.2354421466588974, 1.8693538904190063, 1.6318342685699463, 3.556635856628418, 2.3967671394348145, 0.0, 3.4872899055480957, 0.017969578504562378]),\n",
       " Row(id=829, features=[0.13430969417095184, 0.2476833164691925, 0.0, 0.6336236596107483, 0.5251135230064392, 1.171223759651184, 0.7991072535514832, 0.0, 1.16434645652771, 0.01818666234612465]),\n",
       " Row(id=830, features=[0.12503843009471893, 0.26983487606048584, 0.0, 0.6330847144126892, 0.5293429493904114, 1.1469393968582153, 0.8008584976196289, 0.0, 1.1787470579147339, 0.02921205572783947]),\n",
       " Row(id=831, features=[0.12451118975877762, 0.2578672468662262, 0.0, 0.6234094500541687, 0.5582907795906067, 1.1432276964187622, 0.8031232357025146, 0.0, 1.1758867502212524, 0.02695479430258274]),\n",
       " Row(id=832, features=[0.26685699820518494, 0.481823205947876, 0.0, 1.2600016593933105, 1.0647671222686768, 2.3376781940460205, 1.6050819158554077, 0.0, 2.3296990394592285, 0.03037594072520733]),\n",
       " Row(id=833, features=[0.1323634535074234, 0.2546556890010834, 0.0, 0.6325580477714539, 0.5244970917701721, 1.165920615196228, 0.7982721924781799, 0.0, 1.1688872575759888, 0.023111088201403618]),\n",
       " Row(id=834, features=[0.12503843009471893, 0.26983487606048584, 0.0, 0.6330847144126892, 0.5293429493904114, 1.1469393968582153, 0.8008584976196289, 0.0, 1.1787470579147339, 0.02921205572783947]),\n",
       " Row(id=835, features=[0.12503843009471893, 0.26983487606048584, 0.0, 0.6330847144126892, 0.5293429493904114, 1.1469393968582153, 0.8008584976196289, 0.0, 1.1787470579147339, 0.02921205572783947]),\n",
       " Row(id=836, features=[0.12422249466180801, 0.2518303096294403, 0.0, 0.6184454560279846, 0.5726557374000549, 1.141141653060913, 0.8040945529937744, 0.0, 1.174220085144043, 0.025820501148700714]),\n",
       " Row(id=837, features=[0.25078949332237244, 0.5347307920455933, 0.0, 1.2635605335235596, 1.0659193992614746, 2.295154333114624, 1.6020811796188354, 0.0, 2.3556723594665527, 0.05711744353175163]),\n",
       " Row(id=838, features=[0.25275158882141113, 0.5341442227363586, 0.0, 1.2659978866577148, 1.056936264038086, 2.3008365631103516, 1.6007999181747437, 0.0, 2.3539373874664307, 0.05620066076517105]),\n",
       " Row(id=839, features=[0.13110676407814026, 0.2572694718837738, 0.0, 0.6326600909233093, 0.525339663028717, 1.1626793146133423, 0.7987313270568848, 0.0, 1.1706033945083618, 0.02416020631790161]),\n",
       " Row(id=840, features=[0.12503843009471893, 0.26983487606048584, 0.0, 0.6330847144126892, 0.5293429493904114, 1.1469393968582153, 0.8008584976196289, 0.0, 1.1787470579147339, 0.02921205572783947]),\n",
       " Row(id=841, features=[0.12503843009471893, 0.26983487606048584, 0.0, 0.6330847144126892, 0.5293429493904114, 1.1469393968582153, 0.8008584976196289, 0.0, 1.1787470579147339, 0.02921205572783947]),\n",
       " Row(id=842, features=[0.1246492862701416, 0.26087290048599243, 0.0, 0.6258602142333984, 0.5510799884796143, 1.1442131996154785, 0.8025972247123718, 0.0, 1.1766610145568848, 0.02752061001956463]),\n",
       " Row(id=843, features=[0.1337304264307022, 0.2518064081668854, 0.0, 0.6324396729469299, 0.523573637008667, 1.1694371700286865, 0.7977631092071533, 0.0, 1.1670050621032715, 0.02196836844086647]),\n",
       " Row(id=844, features=[0.12503843009471893, 0.26983487606048584, 0.0, 0.6330847144126892, 0.5293429493904114, 1.1469393968582153, 0.8008584976196289, 0.0, 1.1787470579147339, 0.02921205572783947]),\n",
       " Row(id=845, features=[0.1343679130077362, 0.2442082315683365, 0.0, 0.6310451626777649, 0.5278282165527344, 1.1711770296096802, 0.8000673055648804, 0.0, 1.164732575416565, 0.017608806490898132]),\n",
       " Row(id=846, features=[0.12971530854701996, 0.2601581811904907, 0.0, 0.6327665448188782, 0.5262662172317505, 1.1590816974639893, 0.7992309927940369, 0.0, 1.1724897623062134, 0.025320474058389664]),\n",
       " Row(id=847, features=[0.2568262815475464, 0.5145893692970276, 0.0, 1.259975790977478, 1.0719887018203735, 2.3104162216186523, 1.6024112701416016, 0.0, 2.3458096981048584, 0.0486091747879982]),\n",
       " Row(id=848, features=[0.13244055211544037, 0.25449511408805847, 0.0, 0.6325515508651733, 0.5244452357292175, 1.1661193370819092, 0.7982437610626221, 0.0, 1.1687815189361572, 0.023046672344207764]),\n",
       " Row(id=849, features=[0.12726306915283203, 0.26035064458847046, 0.0, 0.6293219327926636, 0.5387032628059387, 1.1518938541412354, 0.8009319305419922, 0.0, 1.174527883529663, 0.026355000212788582]),\n",
       " Row(id=850, features=[0.13244055211544037, 0.25449511408805847, 0.0, 0.6325515508651733, 0.5244452357292175, 1.1661193370819092, 0.7982437610626221, 0.0, 1.1687815189361572, 0.023046672344207764]),\n",
       " Row(id=851, features=[0.12951096892356873, 0.26058194041252136, 0.0, 0.6327816247940063, 0.5264018177986145, 1.1585527658462524, 0.7993037104606628, 0.0, 1.1727656126022339, 0.02549074776470661]),\n",
       " Row(id=852, features=[0.2674608528614044, 0.5036128163337708, 0.0, 1.2648793458938599, 1.047147274017334, 2.338874340057373, 1.5955262184143066, 0.0, 2.334010124206543, 0.04393673688173294]),\n",
       " Row(id=853, features=[0.12503843009471893, 0.26983487606048584, 0.0, 0.6330847144126892, 0.5293429493904114, 1.1469393968582153, 0.8008584976196289, 0.0, 1.1787470579147339, 0.02921205572783947]),\n",
       " Row(id=854, features=[0.541610836982727, 1.001968264579773, 0.0, 2.5316247940063477, 2.096126079559326, 4.681657314300537, 3.1941261291503906, 0.0, 4.6620001792907715, 0.08062832057476044]),\n",
       " Row(id=855, features=[0.13472074270248413, 0.23997606337070465, 0.0, 0.6302599906921387, 0.5301883220672607, 1.1721283197402954, 0.8013380765914917, 0.0, 1.1634509563446045, 0.015182319097220898]),\n",
       " Row(id=856, features=[0.1274871826171875, 0.26477375626564026, 0.0, 0.6329247355461121, 0.5277383327484131, 1.1533055305480957, 0.8000150918960571, 0.0, 1.1754846572875977, 0.027175845578312874]),\n",
       " Row(id=857, features=[0.12825137376785278, 0.26319199800491333, 0.0, 0.6328720450401306, 0.5272349119186401, 1.155288577079773, 0.7997481822967529, 0.0, 1.1744606494903564, 0.026539823040366173]),\n",
       " Row(id=858, features=[0.1337304264307022, 0.2518064081668854, 0.0, 0.6324396729469299, 0.523573637008667, 1.1694371700286865, 0.7977631092071533, 0.0, 1.1670050621032715, 0.02196836844086647]),\n",
       " Row(id=859, features=[0.1332663744688034, 0.24278004467487335, 0.0, 0.6303455829620361, 0.5313565135002136, 1.1684036254882812, 0.801988422870636, 0.0, 1.165421962738037, 0.016256321221590042]),\n",
       " Row(id=860, features=[0.2674608528614044, 0.5036128163337708, 0.0, 1.2648793458938599, 1.047147274017334, 2.338874340057373, 1.5955262184143066, 0.0, 2.334010124206543, 0.04393673688173294]),\n",
       " Row(id=861, features=[0.2539007365703583, 0.503654956817627, 0.0, 1.2484972476959229, 1.1083205938339233, 2.3000733852386475, 1.60651433467865, 0.0, 2.345081090927124, 0.04679104685783386]),\n",
       " Row(id=862, features=[0.12942799925804138, 0.04613431915640831, 0.0, 0.6283838748931885, 0.5247927904129028, 1.1750937700271606, 0.8085469007492065, 0.0, 1.188561201095581, 0.006979034747928381]),\n",
       " Row(id=863, features=[0.12503843009471893, 0.26983487606048584, 0.0, 0.6330847144126892, 0.5293429493904114, 1.1469393968582153, 0.8008584976196289, 0.0, 1.1787470579147339, 0.02921205572783947]),\n",
       " Row(id=864, features=[0.1245669275522232, 0.25907057523727417, 0.0, 0.6243922710418701, 0.5554086565971375, 1.1436264514923096, 0.8029160499572754, 0.0, 1.1762012243270874, 0.02718123234808445]),\n",
       " Row(id=865, features=[0.13110676407814026, 0.2572694718837738, 0.0, 0.6326600909233093, 0.525339663028717, 1.1626793146133423, 0.7987313270568848, 0.0, 1.1706033945083618, 0.02416020631790161]),\n",
       " Row(id=866, features=[0.13440337777137756, 0.24646645784378052, 0.0, 0.6184742450714111, 0.5585551857948303, 1.1523936986923218, 0.8022478222846985, 0.0, 1.172818899154663, 0.022043058648705482]),\n",
       " Row(id=867, features=[0.1337304264307022, 0.2518064081668854, 0.0, 0.6324396729469299, 0.523573637008667, 1.1694371700286865, 0.7977631092071533, 0.0, 1.1670050621032715, 0.02196836844086647]),\n",
       " Row(id=868, features=[0.12451118975877762, 0.2578672468662262, 0.0, 0.6234094500541687, 0.5582907795906067, 1.1432276964187622, 0.8031232357025146, 0.0, 1.1758867502212524, 0.02695479430258274]),\n",
       " Row(id=869, features=[0.1288466453552246, 0.2619589865207672, 0.0, 0.6328298449516296, 0.5268417000770569, 1.156831979751587, 0.7995388507843018, 0.0, 1.1736607551574707, 0.026044156402349472]),\n",
       " Row(id=870, features=[0.12503843009471893, 0.26983487606048584, 0.0, 0.6330847144126892, 0.5293429493904114, 1.1469393968582153, 0.8008584976196289, 0.0, 1.1787470579147339, 0.02921205572783947]),\n",
       " Row(id=871, features=[0.12701711058616638, 0.265746146440506, 0.0, 0.6329565048217773, 0.5280473232269287, 1.1520847082138062, 0.8001783490180969, 0.0, 1.1761131286621094, 0.02756693959236145]),\n",
       " Row(id=872, features=[0.12503843009471893, 0.26983487606048584, 0.0, 0.6330847144126892, 0.5293429493904114, 1.1469393968582153, 0.8008584976196289, 0.0, 1.1787470579147339, 0.02921205572783947]),\n",
       " Row(id=873, features=[0.1274871826171875, 0.26477375626564026, 0.0, 0.6329247355461121, 0.5277383327484131, 1.1533055305480957, 0.8000150918960571, 0.0, 1.1754846572875977, 0.027175845578312874]),\n",
       " Row(id=874, features=[0.2551535367965698, 0.5264914035797119, 0.0, 1.263852596282959, 1.0613282918930054, 2.3066303730010986, 1.6004419326782227, 0.0, 2.3500559329986572, 0.053649403154850006]),\n",
       " Row(id=875, features=[0.1332663744688034, 0.24278004467487335, 0.0, 0.6303455829620361, 0.5313565135002136, 1.1684036254882812, 0.801988422870636, 0.0, 1.165421962738037, 0.016256321221590042]),\n",
       " Row(id=876, features=[0.1337304264307022, 0.2518064081668854, 0.0, 0.6324396729469299, 0.523573637008667, 1.1694371700286865, 0.7977631092071533, 0.0, 1.1670050621032715, 0.02196836844086647]),\n",
       " Row(id=877, features=[0.23000018298625946, 0.7480545043945312, 0.0, 1.4542499780654907, 1.8009965419769287, 3.36415433883667, 2.604437828063965, 0.0, 3.6342689990997314, 0.07986918091773987]),\n",
       " Row(id=878, features=[0.12503843009471893, 0.26983487606048584, 0.0, 0.6330847144126892, 0.5293429493904114, 1.1469393968582153, 0.8008584976196289, 0.0, 1.1787470579147339, 0.02921205572783947]),\n",
       " Row(id=879, features=[0.2658403515815735, 0.5069921016693115, 0.0, 1.265021562576294, 1.0482438802719116, 2.3347082138061523, 1.5961322784423828, 0.0, 2.336245536804199, 0.04529179260134697]),\n",
       " Row(id=880, features=[0.2513497471809387, 0.5370409488677979, 0.0, 1.2660887241363525, 1.0578540563583374, 2.2971911430358887, 1.601281762123108, 0.0, 2.3558032512664795, 0.057366181164979935]),\n",
       " Row(id=881, features=[0.13220562040805817, 0.42853018641471863, 0.01931409165263176, 0.9693288803100586, 1.285117745399475, 2.278820753097534, 1.6736866235733032, 0.0, 2.412224292755127, 0.045169588178396225]),\n",
       " Row(id=882, features=[0.12478320300579071, 0.26386958360671997, 0.0, 0.6282898187637329, 0.5438512563705444, 1.145160436630249, 0.8020443916320801, 0.0, 1.1773959398269653, 0.028085464611649513]),\n",
       " Row(id=883, features=[0.12825137376785278, 0.26319199800491333, 0.0, 0.6328720450401306, 0.5272349119186401, 1.155288577079773, 0.7997481822967529, 0.0, 1.1744606494903564, 0.026539823040366173]),\n",
       " Row(id=884, features=[0.277153342962265, 0.4701189696788788, 0.0, 1.2507051229476929, 1.1136451959609985, 2.3144683837890625, 1.6223024129867554, 0.0, 2.3248555660247803, 0.02974301017820835]),\n",
       " Row(id=885, features=[0.13110676407814026, 0.2572694718837738, 0.0, 0.6326600909233093, 0.525339663028717, 1.1626793146133423, 0.7987313270568848, 0.0, 1.1706033945083618, 0.02416020631790161]),\n",
       " Row(id=886, features=[0.4045810103416443, 0.7148865461349487, 0.0, 1.889838695526123, 1.593369960784912, 3.5175058841705322, 2.4055192470550537, 0.0, 3.4888153076171875, 0.04265757277607918]),\n",
       " Row(id=887, features=[0.13031962513923645, 0.25890424847602844, 0.0, 0.6327211260795593, 0.5258645415306091, 1.1606452465057373, 0.7990150451660156, 0.0, 1.1716721057891846, 0.02481672540307045]),\n",
       " Row(id=888, features=[0.25007686018943787, 0.5396697521209717, 0.0, 1.2661694288253784, 1.0586858987808228, 2.2938787937164307, 1.6017169952392578, 0.0, 2.3574941158294678, 0.05842411145567894]),\n",
       " Row(id=889, features=[0.13424581289291382, 0.24566809833049774, 0.0, 0.6313145160675049, 0.5270124077796936, 1.1708457469940186, 0.7996267080307007, 0.0, 1.1651718616485596, 0.018446125090122223]),\n",
       " Row(id=890, features=[0.1288466453552246, 0.2619589865207672, 0.0, 0.6328298449516296, 0.5268417000770569, 1.156831979751587, 0.7995388507843018, 0.0, 1.1736607551574707, 0.026044156402349472]),\n",
       " Row(id=891, features=[0.12701711058616638, 0.265746146440506, 0.0, 0.6329565048217773, 0.5280473232269287, 1.1520847082138062, 0.8001783490180969, 0.0, 1.1761131286621094, 0.02756693959236145]),\n",
       " Row(id=892, features=[0.12503843009471893, 0.26983487606048584, 0.0, 0.6330847144126892, 0.5293429493904114, 1.1469393968582153, 0.8008584976196289, 0.0, 1.1787470579147339, 0.02921205572783947]),\n",
       " Row(id=893, features=[0.13008764386177063, 0.25167664885520935, 0.0, 0.6310980916023254, 0.5317917466163635, 1.1601778268814087, 0.8022357821464539, 0.0, 1.170285701751709, 0.020302550867199898]),\n",
       " Row(id=894, features=[0.4065803289413452, 0.7333757281303406, 0.0, 1.8949159383773804, 1.5878721475601196, 3.5078413486480713, 2.406102418899536, 0.0, 3.493039608001709, 0.04811655730009079]),\n",
       " Row(id=895, features=[0.12701711058616638, 0.265746146440506, 0.0, 0.6329565048217773, 0.5280473232269287, 1.1520847082138062, 0.8001783490180969, 0.0, 1.1761131286621094, 0.02756693959236145]),\n",
       " Row(id=896, features=[0.1288466453552246, 0.2619589865207672, 0.0, 0.6328298449516296, 0.5268417000770569, 1.156831979751587, 0.7995388507843018, 0.0, 1.1736607551574707, 0.026044156402349472]),\n",
       " Row(id=897, features=[0.1268387883901596, 0.262143611907959, 0.0, 0.6300293207168579, 0.5369642376899719, 1.1509507894515991, 0.8009264469146729, 0.0, 1.1753358840942383, 0.026896772906184196]),\n",
       " Row(id=898, features=[0.1337304264307022, 0.2518064081668854, 0.0, 0.6324396729469299, 0.523573637008667, 1.1694371700286865, 0.7977631092071533, 0.0, 1.1670050621032715, 0.02196836844086647]),\n",
       " Row(id=899, features=[0.2517664134502411, 0.5361801385879517, 0.0, 1.2660619020462036, 1.0575814247131348, 2.2982747554779053, 1.6011388301849365, 0.0, 2.3552491664886475, 0.05701979994773865]),\n",
       " Row(id=900, features=[0.2674608528614044, 0.5036128163337708, 0.0, 1.2648793458938599, 1.047147274017334, 2.338874340057373, 1.5955262184143066, 0.0, 2.334010124206543, 0.04393673688173294]),\n",
       " Row(id=901, features=[0.1323305368423462, 0.2473447173833847, 0.0, 0.6309887170791626, 0.530042290687561, 1.1659603118896484, 0.801284670829773, 0.0, 1.1673007011413574, 0.018632838502526283]),\n",
       " Row(id=902, features=[0.12971530854701996, 0.2601581811904907, 0.0, 0.6327665448188782, 0.5262662172317505, 1.1590816974639893, 0.7992309927940369, 0.0, 1.1724897623062134, 0.025320474058389664]),\n",
       " Row(id=903, features=[0.12503843009471893, 0.26983487606048584, 0.0, 0.6330847144126892, 0.5293429493904114, 1.1469393968582153, 0.8008584976196289, 0.0, 1.1787470579147339, 0.02921205572783947]),\n",
       " Row(id=904, features=[0.12503843009471893, 0.26983487606048584, 0.0, 0.6330847144126892, 0.5293429493904114, 1.1469393968582153, 0.8008584976196289, 0.0, 1.1787470579147339, 0.02921205572783947]),\n",
       " Row(id=905, features=[0.1337304264307022, 0.2518064081668854, 0.0, 0.6324396729469299, 0.523573637008667, 1.1694371700286865, 0.7977631092071533, 0.0, 1.1670050621032715, 0.02196836844086647]),\n",
       " Row(id=906, features=[0.264129102230072, 0.5105556845664978, 0.0, 1.2651656866073608, 1.04939603805542, 2.330300807952881, 1.5967642068862915, 0.0, 2.3385932445526123, 0.04672147333621979]),\n",
       " Row(id=907, features=[0.12503843009471893, 0.26983487606048584, 0.0, 0.6330847144126892, 0.5293429493904114, 1.1469393968582153, 0.8008584976196289, 0.0, 1.1787470579147339, 0.02921205572783947]),\n",
       " Row(id=908, features=[0.5135923027992249, 1.0447272062301636, 0.0, 2.5300002098083496, 2.1136746406555176, 4.622802734375, 3.2015764713287354, 0.0, 4.695562839508057, 0.10150061547756195]),\n",
       " Row(id=909, features=[0.12971530854701996, 0.2601581811904907, 0.0, 0.6327665448188782, 0.5262662172317505, 1.1590816974639893, 0.7992309927940369, 0.0, 1.1724897623062134, 0.025320474058389664]),\n",
       " Row(id=910, features=[0.12784326076507568, 0.2583034634590149, 0.0, 0.6316823959350586, 0.5318015217781067, 1.1543318033218384, 0.8022288680076599, 0.0, 1.173748254776001, 0.023377617821097374]),\n",
       " Row(id=911, features=[0.12503843009471893, 0.26983487606048584, 0.0, 0.6330847144126892, 0.5293429493904114, 1.1469393968582153, 0.8008584976196289, 0.0, 1.1787470579147339, 0.02921205572783947]),\n",
       " Row(id=912, features=[0.12701711058616638, 0.265746146440506, 0.0, 0.6329565048217773, 0.5280473232269287, 1.1520847082138062, 0.8001783490180969, 0.0, 1.1761131286621094, 0.02756693959236145]),\n",
       " Row(id=913, features=[0.12503843009471893, 0.26983487606048584, 0.0, 0.6330847144126892, 0.5293429493904114, 1.1469393968582153, 0.8008584976196289, 0.0, 1.1787470579147339, 0.02921205572783947]),\n",
       " Row(id=914, features=[0.4004706144332886, 0.7328108549118042, 0.0, 1.8852242231369019, 1.6062438488006592, 3.4936275482177734, 2.407205581665039, 0.0, 3.5028843879699707, 0.05187437683343887]),\n",
       " Row(id=915, features=[0.26679080724716187, 0.48325368762016296, 0.00844358466565609, 1.2357314825057983, 1.1191506385803223, 2.3209590911865234, 1.5913113355636597, 0.01635858230292797, 2.339348793029785, 0.03517061471939087]),\n",
       " Row(id=916, features=[0.39248383045196533, 0.7735462784767151, 0.0, 1.8980458974838257, 1.5765774250030518, 3.485877275466919, 2.396496534347534, 0.0, 3.5129473209381104, 0.07317843288183212]),\n",
       " Row(id=917, features=[0.12766067683696747, 0.25386151671409607, 0.0, 0.6269431114196777, 0.5457510948181152, 1.1525875329971313, 0.8025503754615784, 0.0, 1.172610878944397, 0.023432442918419838]),\n",
       " Row(id=918, features=[0.2516932189464569, 0.5068200826644897, 0.0, 1.2469325065612793, 1.1145707368850708, 2.293816089630127, 1.607159972190857, 0.0, 2.3475379943847656, 0.048841435462236404]),\n",
       " Row(id=919, features=[0.5102768540382385, 1.0584160089492798, 0.0, 2.531676769256592, 2.1107373237609863, 4.614073753356934, 3.199946165084839, 0.0, 4.7014994621276855, 0.10843035578727722]),\n",
       " Row(id=920, features=[0.135483980178833, 0.23073767125606537, 0.0, 0.6285195350646973, 0.5353103876113892, 1.1741496324539185, 0.8040726780891418, 0.0, 1.1606042385101318, 0.009891047142446041]),\n",
       " Row(id=921, features=[0.12503843009471893, 0.26983487606048584, 0.0, 0.6330847144126892, 0.5293429493904114, 1.1469393968582153, 0.8008584976196289, 0.0, 1.1787470579147339, 0.02921205572783947]),\n",
       " Row(id=922, features=[0.1337304264307022, 0.2518064081668854, 0.0, 0.6324396729469299, 0.523573637008667, 1.1694371700286865, 0.7977631092071533, 0.0, 1.1670050621032715, 0.02196836844086647]),\n",
       " Row(id=923, features=[0.12503843009471893, 0.26983487606048584, 0.0, 0.6330847144126892, 0.5293429493904114, 1.1469393968582153, 0.8008584976196289, 0.0, 1.1787470579147339, 0.02921205572783947]),\n",
       " Row(id=924, features=[0.1274871826171875, 0.26477375626564026, 0.0, 0.6329247355461121, 0.5277383327484131, 1.1533055305480957, 0.8000150918960571, 0.0, 1.1754846572875977, 0.027175845578312874]),\n",
       " Row(id=925, features=[0.1246492862701416, 0.26087290048599243, 0.0, 0.6258602142333984, 0.5510799884796143, 1.1442131996154785, 0.8025972247123718, 0.0, 1.1766610145568848, 0.02752061001956463]),\n",
       " Row(id=926, features=[0.1337304264307022, 0.2518064081668854, 0.0, 0.6324396729469299, 0.523573637008667, 1.1694371700286865, 0.7977631092071533, 0.0, 1.1670050621032715, 0.02196836844086647]),\n",
       " Row(id=927, features=[0.13737715780735016, 0.25361818075180054, 0.0, 0.636412501335144, 0.5251944661140442, 1.1658624410629272, 0.8023565411567688, 0.0, 1.1644368171691895, 0.017072448506951332]),\n",
       " Row(id=928, features=[0.12503843009471893, 0.26983487606048584, 0.0, 0.6330847144126892, 0.5293429493904114, 1.1469393968582153, 0.8008584976196289, 0.0, 1.1787470579147339, 0.02921205572783947]),\n",
       " Row(id=929, features=[0.13494624197483063, 0.2372594177722931, 0.0, 0.6297521591186523, 0.5316990613937378, 1.1727310419082642, 0.802148163318634, 0.0, 1.162621259689331, 0.013625524938106537]),\n",
       " Row(id=930, features=[0.25336453318595886, 0.5256137251853943, 0.0, 1.2605829238891602, 1.0726344585418701, 2.3012051582336426, 1.601846694946289, 0.0, 2.351267099380493, 0.05419398099184036]),\n",
       " Row(id=931, features=[0.268404483795166, 0.4686935245990753, 0.0, 1.2602826356887817, 1.070693850517273, 2.342092752456665, 1.608954668045044, 0.0, 2.3235788345336914, 0.020947998389601707]),\n",
       " Row(id=932, features=[0.12871047854423523, 0.26224109530448914, 0.0, 0.6328396201133728, 0.5269317626953125, 1.156479001045227, 0.799586832523346, 0.0, 1.1738439798355103, 0.02615755796432495]),\n",
       " Row(id=933, features=[0.13110676407814026, 0.2572694718837738, 0.0, 0.6326600909233093, 0.525339663028717, 1.1626793146133423, 0.7987313270568848, 0.0, 1.1706033945083618, 0.02416020631790161]),\n",
       " Row(id=934, features=[0.12756086885929108, 0.2590957283973694, 0.0, 0.6288275122642517, 0.5399127006530762, 1.1525551080703735, 0.8009334206581116, 0.0, 1.1739592552185059, 0.025975408032536507]),\n",
       " Row(id=935, features=[0.39994826912879944, 0.7580122351646423, 0.0, 1.8974292278289795, 1.5715631246566772, 3.505117177963257, 2.3937556743621826, 0.0, 3.502732038497925, 0.06694473326206207]),\n",
       " Row(id=936, features=[0.1337304264307022, 0.2518064081668854, 0.0, 0.6324396729469299, 0.523573637008667, 1.1694371700286865, 0.7977631092071533, 0.0, 1.1670050621032715, 0.02196836844086647]),\n",
       " Row(id=937, features=[0.12503843009471893, 0.26983487606048584, 0.0, 0.6330847144126892, 0.5293429493904114, 1.1469393968582153, 0.8008584976196289, 0.0, 1.1787470579147339, 0.02921205572783947]),\n",
       " Row(id=938, features=[0.1337304264307022, 0.2518064081668854, 0.0, 0.6324396729469299, 0.523573637008667, 1.1694371700286865, 0.7977631092071533, 0.0, 1.1670050621032715, 0.02196836844086647]),\n",
       " Row(id=939, features=[0.12503843009471893, 0.26983487606048584, 0.0, 0.6330847144126892, 0.5293429493904114, 1.1469393968582153, 0.8008584976196289, 0.0, 1.1787470579147339, 0.02921205572783947]),\n",
       " Row(id=940, features=[0.1337304264307022, 0.2518064081668854, 0.0, 0.6324396729469299, 0.523573637008667, 1.1694371700286865, 0.7977631092071533, 0.0, 1.1670050621032715, 0.02196836844086647]),\n",
       " Row(id=941, features=[0.12587985396385193, 0.2662237286567688, 0.0, 0.6316460371017456, 0.5329523086547852, 1.1488158702850342, 0.8008987903594971, 0.0, 1.1771559715270996, 0.02812671661376953]),\n",
       " Row(id=942, features=[0.12487843632698059, 0.2660624086856842, 0.0, 0.6300575733184814, 0.5385327339172363, 1.1458276510238647, 0.8016191124916077, 0.0, 1.1779065132141113, 0.02849932760000229]),\n",
       " Row(id=943, features=[0.25830233097076416, 0.5202698707580566, 0.0, 1.2651102542877197, 1.055071234703064, 2.31528639793396, 1.5998378992080688, 0.0, 2.345980167388916, 0.05012327432632446]),\n",
       " Row(id=944, features=[0.1337304264307022, 0.2518064081668854, 0.0, 0.6324396729469299, 0.523573637008667, 1.1694371700286865, 0.7977631092071533, 0.0, 1.1670050621032715, 0.02196836844086647]),\n",
       " Row(id=945, features=[0.12422249466180801, 0.2518303096294403, 0.0, 0.6184454560279846, 0.5726557374000549, 1.141141653060913, 0.8040945529937744, 0.0, 1.174220085144043, 0.025820501148700714]),\n",
       " Row(id=946, features=[0.3746837377548218, 0.7993121147155762, 0.0, 1.891077995300293, 1.6128653287887573, 3.43782114982605, 2.4046356678009033, 0.0, 3.5339770317077637, 0.08571036905050278]),\n",
       " Row(id=947, features=[0.12503843009471893, 0.26983487606048584, 0.0, 0.6330847144126892, 0.5293429493904114, 1.1469393968582153, 0.8008584976196289, 0.0, 1.1787470579147339, 0.02921205572783947]),\n",
       " Row(id=948, features=[0.24902237951755524, 0.5157344937324524, 0.0, 1.2468189001083374, 1.1165815591812134, 2.2864553928375244, 1.6062464714050293, 0.0, 2.351773500442505, 0.05390958860516548]),\n",
       " Row(id=949, features=[0.1337304264307022, 0.2518064081668854, 0.0, 0.6324396729469299, 0.523573637008667, 1.1694371700286865, 0.7977631092071533, 0.0, 1.1670050621032715, 0.02196836844086647]),\n",
       " Row(id=950, features=[0.1286490261554718, 0.25851067900657654, 0.0, 0.6299896836280823, 0.535525381565094, 1.1556702852249146, 0.800277829170227, 0.0, 1.1729437112808228, 0.02541370689868927]),\n",
       " Row(id=951, features=[0.2529369592666626, 0.5337610840797424, 0.0, 1.2659857273101807, 1.0568146705627441, 2.301318407058716, 1.6007360219955444, 0.0, 2.3536903858184814, 0.05604652315378189]),\n",
       " Row(id=952, features=[0.12503843009471893, 0.26983487606048584, 0.0, 0.6330847144126892, 0.5293429493904114, 1.1469393968582153, 0.8008584976196289, 0.0, 1.1787470579147339, 0.02921205572783947]),\n",
       " Row(id=953, features=[0.12629440426826477, 0.2672403156757355, 0.0, 0.6330042481422424, 0.5285214185714722, 1.1502066850662231, 0.8004279732704163, 0.0, 1.1770771741867065, 0.028168009594082832]),\n",
       " Row(id=954, features=[0.25168830156326294, 0.5327528119087219, 0.0, 1.263413429260254, 1.0656015872955322, 2.2974727153778076, 1.6017948389053345, 0.0, 2.35444712638855, 0.05634532868862152]),\n",
       " Row(id=955, features=[0.40001052618026733, 0.7515905499458313, 0.0, 1.8960875272750854, 1.5762379169464111, 3.505389928817749, 2.39629864692688, 0.0, 3.5012645721435547, 0.06304951757192612]),\n",
       " Row(id=956, features=[0.13110676407814026, 0.2572694718837738, 0.0, 0.6326600909233093, 0.525339663028717, 1.1626793146133423, 0.7987313270568848, 0.0, 1.1706033945083618, 0.02416020631790161]),\n",
       " Row(id=957, features=[0.12736928462982178, 0.2625219523906708, 0.0, 0.6310871839523315, 0.5333561301231384, 1.152582049369812, 0.8004927635192871, 0.0, 1.1750112771987915, 0.026759710162878036]),\n",
       " Row(id=958, features=[0.12503843009471893, 0.26983487606048584, 0.0, 0.6330847144126892, 0.5293429493904114, 1.1469393968582153, 0.8008584976196289, 0.0, 1.1787470579147339, 0.02921205572783947]),\n",
       " Row(id=959, features=[0.2707284092903137, 0.49236464500427246, 0.0, 1.231383204460144, 1.127458930015564, 2.297222375869751, 1.606100082397461, 0.0, 2.349447011947632, 0.04423394799232483]),\n",
       " Row(id=960, features=[0.2498093694448471, 0.5333458185195923, 0.0, 1.2610975503921509, 1.0740985870361328, 2.2920219898223877, 1.6029974222183228, 0.0, 2.3560919761657715, 0.05722919479012489]),\n",
       " Row(id=961, features=[0.250712126493454, 0.5283939838409424, 0.02348286658525467, 1.2287728786468506, 1.1149545907974243, 2.286665201187134, 1.6086140871047974, 0.006765589118003845, 2.359694480895996, 0.052277009934186935]),\n",
       " Row(id=962, features=[0.12503843009471893, 0.26983487606048584, 0.0, 0.6330847144126892, 0.5293429493904114, 1.1469393968582153, 0.8008584976196289, 0.0, 1.1787470579147339, 0.02921205572783947]),\n",
       " Row(id=963, features=[0.12474177777767181, 0.26293814182281494, 0.0, 0.627535343170166, 0.5461001992225647, 1.1448678970336914, 0.8022177219390869, 0.0, 1.1771694421768188, 0.027909856289625168]),\n",
       " Row(id=964, features=[0.12503843009471893, 0.26983487606048584, 0.0, 0.6330847144126892, 0.5293429493904114, 1.1469393968582153, 0.8008584976196289, 0.0, 1.1787470579147339, 0.02921205572783947]),\n",
       " Row(id=965, features=[0.12825137376785278, 0.26319199800491333, 0.0, 0.6328720450401306, 0.5272349119186401, 1.155288577079773, 0.7997481822967529, 0.0, 1.1744606494903564, 0.026539823040366173]),\n",
       " Row(id=966, features=[0.25218990445137024, 0.5213622450828552, 0.04741431772708893, 1.2202134132385254, 1.0958251953125, 2.313260793685913, 1.6124190092086792, 0.013660418801009655, 2.352010488510132, 0.03807961568236351]),\n",
       " Row(id=967, features=[0.1292862445116043, 0.25186851620674133, 0.0, 0.6259865164756775, 0.5467607378959656, 1.1563671827316284, 0.8009016513824463, 0.0, 1.1706336736679077, 0.02378430962562561]),\n",
       " Row(id=968, features=[0.1337304264307022, 0.2518064081668854, 0.0, 0.6324396729469299, 0.523573637008667, 1.1694371700286865, 0.7977631092071533, 0.0, 1.1670050621032715, 0.02196836844086647]),\n",
       " Row(id=969, features=[0.1288466453552246, 0.2619589865207672, 0.0, 0.6328298449516296, 0.5268417000770569, 1.156831979751587, 0.7995388507843018, 0.0, 1.1736607551574707, 0.026044156402349472]),\n",
       " Row(id=970, features=[0.12503843009471893, 0.26983487606048584, 0.0, 0.6330847144126892, 0.5293429493904114, 1.1469393968582153, 0.8008584976196289, 0.0, 1.1787470579147339, 0.02921205572783947]),\n",
       " Row(id=971, features=[0.12825137376785278, 0.26319199800491333, 0.0, 0.6328720450401306, 0.5272349119186401, 1.155288577079773, 0.7997481822967529, 0.0, 1.1744606494903564, 0.026539823040366173]),\n",
       " Row(id=972, features=[0.13127370178699493, 0.24414107203483582, 0.0, 0.6299149990081787, 0.5347768664360046, 1.1633116006851196, 0.8038493394851685, 0.0, 1.1675291061401367, 0.01622007042169571]),\n",
       " Row(id=973, features=[0.1337304264307022, 0.2518064081668854, 0.0, 0.6324396729469299, 0.523573637008667, 1.1694371700286865, 0.7977631092071533, 0.0, 1.1670050621032715, 0.02196836844086647]),\n",
       " Row(id=974, features=[0.251215398311615, 0.5063796043395996, 0.0, 1.2454748153686523, 1.1190755367279053, 2.2921347618103027, 1.6073212623596191, 0.0, 2.347696542739868, 0.049260690808296204]),\n",
       " Row(id=975, features=[0.12503843009471893, 0.26983487606048584, 0.0, 0.6330847144126892, 0.5293429493904114, 1.1469393968582153, 0.8008584976196289, 0.0, 1.1787470579147339, 0.02921205572783947]),\n",
       " Row(id=976, features=[0.12825137376785278, 0.26319199800491333, 0.0, 0.6328720450401306, 0.5272349119186401, 1.155288577079773, 0.7997481822967529, 0.0, 1.1744606494903564, 0.026539823040366173]),\n",
       " Row(id=977, features=[0.0736042708158493, 0.23172403872013092, 0.0, 0.48531314730644226, 0.5970208048820496, 1.1272759437561035, 0.8733779788017273, 0.0, 1.20615553855896, 0.025875650346279144]),\n",
       " Row(id=978, features=[0.1337304264307022, 0.2518064081668854, 0.0, 0.6324396729469299, 0.523573637008667, 1.1694371700286865, 0.7977631092071533, 0.0, 1.1670050621032715, 0.02196836844086647]),\n",
       " Row(id=979, features=[0.12503843009471893, 0.26983487606048584, 0.0, 0.6330847144126892, 0.5293429493904114, 1.1469393968582153, 0.8008584976196289, 0.0, 1.1787470579147339, 0.02921205572783947]),\n",
       " Row(id=980, features=[0.535088300704956, 1.0036662817001343, 0.0, 2.53200364112854, 2.09619402885437, 4.678627967834473, 3.1928958892822266, 0.0, 4.665159702301025, 0.08336705714464188]),\n",
       " Row(id=981, features=[0.2535211741924286, 0.528861403465271, 0.0, 1.2632176876068115, 1.0646315813064575, 2.3022210597991943, 1.6011825799942017, 0.0, 2.351980447769165, 0.05480000004172325]),\n",
       " Row(id=982, features=[0.12825137376785278, 0.26319199800491333, 0.0, 0.6328720450401306, 0.5272349119186401, 1.155288577079773, 0.7997481822967529, 0.0, 1.1744606494903564, 0.026539823040366173]),\n",
       " Row(id=983, features=[0.1274871826171875, 0.26477375626564026, 0.0, 0.6329247355461121, 0.5277383327484131, 1.1533055305480957, 0.8000150918960571, 0.0, 1.1754846572875977, 0.027175845578312874]),\n",
       " Row(id=984, features=[0.1274871826171875, 0.26477375626564026, 0.0, 0.6329247355461121, 0.5277383327484131, 1.1533055305480957, 0.8000150918960571, 0.0, 1.1754846572875977, 0.027175845578312874]),\n",
       " Row(id=985, features=[0.12483925372362137, 0.2651573419570923, 0.0, 0.6293284296989441, 0.5407292246818542, 1.145553469657898, 0.8017956018447876, 0.0, 1.177696943283081, 0.028328482061624527]),\n",
       " Row(id=986, features=[0.12503843009471893, 0.26983487606048584, 0.0, 0.6330847144126892, 0.5293429493904114, 1.1469393968582153, 0.8008584976196289, 0.0, 1.1787470579147339, 0.02921205572783947]),\n",
       " Row(id=987, features=[0.12503843009471893, 0.26983487606048584, 0.0, 0.6330847144126892, 0.5293429493904114, 1.1469393968582153, 0.8008584976196289, 0.0, 1.1787470579147339, 0.02921205572783947]),\n",
       " Row(id=988, features=[0.27199438214302063, 0.44889408349990845, 0.0, 1.254619836807251, 1.077540636062622, 2.350949287414551, 1.6117963790893555, 0.0, 2.3172402381896973, 0.012586482800543308]),\n",
       " Row(id=989, features=[0.13291257619857788, 0.24917256832122803, 0.0, 0.6315886974334717, 0.5273779630661011, 1.1674102544784546, 0.7998365759849548, 0.0, 1.1671775579452515, 0.020002147182822227]),\n",
       " Row(id=990, features=[0.1337304264307022, 0.2518064081668854, 0.0, 0.6324396729469299, 0.523573637008667, 1.1694371700286865, 0.7977631092071533, 0.0, 1.1670050621032715, 0.02196836844086647]),\n",
       " Row(id=991, features=[0.21333780884742737, 0.7844142913818359, 0.0, 1.4443296194076538, 1.802925944328308, 3.3473763465881348, 2.600480318069458, 0.0, 3.63916277885437, 0.0856701210141182]),\n",
       " Row(id=992, features=[0.12503843009471893, 0.26983487606048584, 0.0, 0.6330847144126892, 0.5293429493904114, 1.1469393968582153, 0.8008584976196289, 0.0, 1.1787470579147339, 0.02921205572783947]),\n",
       " Row(id=993, features=[0.12503843009471893, 0.26983487606048584, 0.0, 0.6330847144126892, 0.5293429493904114, 1.1469393968582153, 0.8008584976196289, 0.0, 1.1787470579147339, 0.02921205572783947]),\n",
       " Row(id=994, features=[0.1317799985408783, 0.2558698356151581, 0.0, 0.6326062083244324, 0.5248889923095703, 1.1644166707992554, 0.7984863519668579, 0.0, 1.1696856021881104, 0.023598330095410347]),\n",
       " Row(id=995, features=[0.26824915409088135, 0.4923945367336273, 0.0, 1.2659621238708496, 1.053350567817688, 2.341489791870117, 1.5997706651687622, 0.0, 2.3287172317504883, 0.0348222479224205]),\n",
       " Row(id=996, features=[0.13494624197483063, 0.2372594177722931, 0.0, 0.6297521591186523, 0.5316990613937378, 1.1727310419082642, 0.802148163318634, 0.0, 1.162621259689331, 0.013625525869429111]),\n",
       " Row(id=997, features=[0.1287185549736023, 0.25444653630256653, 0.0, 0.6295211315155029, 0.5373618602752686, 1.1560430526733398, 0.8020061254501343, 0.0, 1.171999454498291, 0.022675689309835434]),\n",
       " Row(id=998, features=[0.07038130611181259, 0.2761823534965515, 0.0, 0.48204487562179565, 0.6097640991210938, 1.1098581552505493, 0.8596161007881165, 0.0, 1.2124762535095215, 0.029228616505861282]),\n",
       " Row(id=999, features=[0.5084949135780334, 1.0348845720291138, 0.0, 2.513897657394409, 2.1657874584198, 4.605592250823975, 3.206202507019043, 0.0, 4.696981430053711, 0.10256538540124893]),\n",
       " Row(id=1000, features=[0.1337304264307022, 0.2518064081668854, 0.0, 0.6324396729469299, 0.523573637008667, 1.1694371700286865, 0.7977631092071533, 0.0, 1.1670050621032715, 0.02196836844086647]),\n",
       " Row(id=1001, features=[0.12503843009471893, 0.26983487606048584, 0.0, 0.6330847144126892, 0.5293429493904114, 1.1469393968582153, 0.8008584976196289, 0.0, 1.1787470579147339, 0.02921205572783947]),\n",
       " Row(id=1002, features=[0.13079392910003662, 0.2540319561958313, 0.0, 0.6318591833114624, 0.5284631252288818, 1.1619409322738647, 0.8004303574562073, 0.0, 1.1701754331588745, 0.02204662375152111]),\n",
       " ...]"
      ]
     },
     "execution_count": 130,
     "metadata": {},
     "output_type": "execute_result"
    }
   ],
   "source": [
    "final_model.userFactors.orderBy(\"id\").collect()"
   ]
  },
  {
   "cell_type": "code",
   "execution_count": 131,
   "id": "5cf28aeb-41a4-4bf6-aa3b-af0c2db308de",
   "metadata": {
    "colab": {
     "base_uri": "https://localhost:8080/",
     "height": 187
    },
    "id": "5cf28aeb-41a4-4bf6-aa3b-af0c2db308de",
    "outputId": "b039d355-46c3-4dbf-9cc1-e554e2111a3c"
   },
   "outputs": [
    {
     "data": {
      "text/html": [
       "<div style=\"max-width:800px; border: 1px solid var(--colab-border-color);\"><style>\n",
       "      pre.function-repr-contents {\n",
       "        overflow-x: auto;\n",
       "        padding: 8px 12px;\n",
       "        max-height: 500px;\n",
       "      }\n",
       "\n",
       "      pre.function-repr-contents.function-repr-contents-collapsed {\n",
       "        cursor: pointer;\n",
       "        max-height: 100px;\n",
       "      }\n",
       "    </style>\n",
       "    <pre style=\"white-space: initial; background:\n",
       "         var(--colab-secondary-surface-color); padding: 8px 12px;\n",
       "         border-bottom: 1px solid var(--colab-border-color);\"><b>pyspark.sql.dataframe.DataFrame</b><br/>def __init__(jdf: JavaObject, sql_ctx: Union[&#x27;SQLContext&#x27;, &#x27;SparkSession&#x27;])</pre><pre class=\"function-repr-contents function-repr-contents-collapsed\" style=\"\"><a class=\"filepath\" style=\"display:none\" href=\"#\">/usr/local/lib/python3.10/dist-packages/pyspark/sql/dataframe.py</a>A distributed collection of data grouped into named columns.\n",
       "\n",
       ".. versionadded:: 1.3.0\n",
       "\n",
       ".. versionchanged:: 3.4.0\n",
       "    Supports Spark Connect.\n",
       "\n",
       "Examples\n",
       "--------\n",
       "A :class:`DataFrame` is equivalent to a relational table in Spark SQL,\n",
       "and can be created using various functions in :class:`SparkSession`:\n",
       "\n",
       "&gt;&gt;&gt; people = spark.createDataFrame([\n",
       "...     {&quot;deptId&quot;: 1, &quot;age&quot;: 40, &quot;name&quot;: &quot;Hyukjin Kwon&quot;, &quot;gender&quot;: &quot;M&quot;, &quot;salary&quot;: 50},\n",
       "...     {&quot;deptId&quot;: 1, &quot;age&quot;: 50, &quot;name&quot;: &quot;Takuya Ueshin&quot;, &quot;gender&quot;: &quot;M&quot;, &quot;salary&quot;: 100},\n",
       "...     {&quot;deptId&quot;: 2, &quot;age&quot;: 60, &quot;name&quot;: &quot;Xinrong Meng&quot;, &quot;gender&quot;: &quot;F&quot;, &quot;salary&quot;: 150},\n",
       "...     {&quot;deptId&quot;: 3, &quot;age&quot;: 20, &quot;name&quot;: &quot;Haejoon Lee&quot;, &quot;gender&quot;: &quot;M&quot;, &quot;salary&quot;: 200}\n",
       "... ])\n",
       "\n",
       "Once created, it can be manipulated using the various domain-specific-language\n",
       "(DSL) functions defined in: :class:`DataFrame`, :class:`Column`.\n",
       "\n",
       "To select a column from the :class:`DataFrame`, use the apply method:\n",
       "\n",
       "&gt;&gt;&gt; age_col = people.age\n",
       "\n",
       "A more concrete example:\n",
       "\n",
       "&gt;&gt;&gt; # To create DataFrame using SparkSession\n",
       "... department = spark.createDataFrame([\n",
       "...     {&quot;id&quot;: 1, &quot;name&quot;: &quot;PySpark&quot;},\n",
       "...     {&quot;id&quot;: 2, &quot;name&quot;: &quot;ML&quot;},\n",
       "...     {&quot;id&quot;: 3, &quot;name&quot;: &quot;Spark SQL&quot;}\n",
       "... ])\n",
       "\n",
       "&gt;&gt;&gt; people.filter(people.age &gt; 30).join(\n",
       "...     department, people.deptId == department.id).groupBy(\n",
       "...     department.name, &quot;gender&quot;).agg({&quot;salary&quot;: &quot;avg&quot;, &quot;age&quot;: &quot;max&quot;}).show()\n",
       "+-------+------+-----------+--------+\n",
       "|   name|gender|avg(salary)|max(age)|\n",
       "+-------+------+-----------+--------+\n",
       "|     ML|     F|      150.0|      60|\n",
       "|PySpark|     M|       75.0|      50|\n",
       "+-------+------+-----------+--------+\n",
       "\n",
       "Notes\n",
       "-----\n",
       "A DataFrame should only be created as described above. It should not be directly\n",
       "created via using the constructor.</pre>\n",
       "      <script>\n",
       "      if (google.colab.kernel.accessAllowed && google.colab.files && google.colab.files.view) {\n",
       "        for (const element of document.querySelectorAll('.filepath')) {\n",
       "          element.style.display = 'block'\n",
       "          element.onclick = (event) => {\n",
       "            event.preventDefault();\n",
       "            event.stopPropagation();\n",
       "            google.colab.files.view(element.textContent, 80);\n",
       "          };\n",
       "        }\n",
       "      }\n",
       "      for (const element of document.querySelectorAll('.function-repr-contents')) {\n",
       "        element.onclick = (event) => {\n",
       "          event.preventDefault();\n",
       "          event.stopPropagation();\n",
       "          element.classList.toggle('function-repr-contents-collapsed');\n",
       "        };\n",
       "      }\n",
       "      </script>\n",
       "      </div>"
      ],
      "text/plain": [
       "pyspark.sql.dataframe.DataFrame"
      ]
     },
     "execution_count": 131,
     "metadata": {},
     "output_type": "execute_result"
    }
   ],
   "source": [
    "type(userFactors)"
   ]
  },
  {
   "cell_type": "code",
   "execution_count": 132,
   "id": "e7585e5b-e3b4-42f5-92f1-4c2b2d108f49",
   "metadata": {
    "colab": {
     "base_uri": "https://localhost:8080/"
    },
    "id": "e7585e5b-e3b4-42f5-92f1-4c2b2d108f49",
    "outputId": "b1299b78-e924-463a-a6b4-eb4edb393362"
   },
   "outputs": [
    {
     "name": "stdout",
     "output_type": "stream",
     "text": [
      "root\n",
      " |-- id: integer (nullable = false)\n",
      " |-- features: array (nullable = true)\n",
      " |    |-- element: float (containsNull = false)\n",
      "\n"
     ]
    }
   ],
   "source": [
    "userFactors.printSchema()"
   ]
  },
  {
   "cell_type": "code",
   "execution_count": 133,
   "id": "cafa22d4-6342-4994-8c3a-72a16876e4e2",
   "metadata": {
    "colab": {
     "base_uri": "https://localhost:8080/"
    },
    "id": "cafa22d4-6342-4994-8c3a-72a16876e4e2",
    "outputId": "0d6406ea-af43-4dc1-bec2-35e3801c1f67"
   },
   "outputs": [
    {
     "name": "stdout",
     "output_type": "stream",
     "text": [
      "+---+-------------------------------------------------------------------------------------------------------+\n",
      "|id |Features                                                                                               |\n",
      "+---+-------------------------------------------------------------------------------------------------------+\n",
      "|10 |[0.5161984, 1.0461537, 0.0, 2.5312612, 2.10683, 4.6294312, 3.1978688, 0.0, 4.6935506, 0.10350048]      |\n",
      "|20 |[0.12503843, 0.26983488, 0.0, 0.6330847, 0.52934295, 1.1469394, 0.8008585, 0.0, 1.178747, 0.029212056] |\n",
      "|30 |[0.1312737, 0.24414107, 0.0, 0.629915, 0.53477687, 1.1633116, 0.80384934, 0.0, 1.1675291, 0.01622007]  |\n",
      "|40 |[0.12503843, 0.26983488, 0.0, 0.6330847, 0.52934295, 1.1469394, 0.8008585, 0.0, 1.178747, 0.029212056] |\n",
      "|50 |[0.12936598, 0.25174004, 0.0, 0.6288873, 0.53875786, 1.1576333, 0.8021934, 0.0, 1.1707959, 0.021528665]|\n",
      "|60 |[0.12503843, 0.26983488, 0.0, 0.6330847, 0.52934295, 1.1469394, 0.8008585, 0.0, 1.178747, 0.029212056] |\n",
      "|70 |[0.12503843, 0.26983488, 0.0, 0.6330847, 0.52934295, 1.1469394, 0.8008585, 0.0, 1.178747, 0.029212056] |\n",
      "|80 |[0.26506725, 0.5044025, 0.0, 1.2641959, 1.0519148, 2.332794, 1.5981328, 0.0, 2.3363864, 0.043372188]   |\n",
      "|90 |[0.12683879, 0.2621436, 0.0, 0.6300293, 0.53696424, 1.1509508, 0.80092645, 0.0, 1.1753359, 0.026896773]|\n",
      "|100|[0.124470964, 0.2570069, 0.0, 0.62270534, 0.5603476, 1.142939, 0.8032686, 0.0, 1.1756582, 0.026792964] |\n",
      "+---+-------------------------------------------------------------------------------------------------------+\n",
      "only showing top 10 rows\n",
      "\n"
     ]
    }
   ],
   "source": [
    "userFactors.select([\"id\",\"Features\"]).show(10,truncate=False)"
   ]
  },
  {
   "cell_type": "markdown",
   "id": "1589f64a-0d7d-4508-8dbe-37ff54ca0458",
   "metadata": {
    "id": "1589f64a-0d7d-4508-8dbe-37ff54ca0458"
   },
   "source": [
    "## Calculate cosine similarity:"
   ]
  },
  {
   "cell_type": "markdown",
   "id": "4e57c89c-33b0-4005-94cb-c8e7bc86fc1f",
   "metadata": {
    "id": "4e57c89c-33b0-4005-94cb-c8e7bc86fc1f"
   },
   "source": [
    "### user-User Cosine Similarity code"
   ]
  },
  {
   "cell_type": "markdown",
   "id": "aaa1fcf4-f406-442a-9be1-4f6860bcdb83",
   "metadata": {
    "id": "aaa1fcf4-f406-442a-9be1-4f6860bcdb83"
   },
   "source": [
    "<img src=\"https://datascience103579984.files.wordpress.com/2020/01/13-12.png\" height=\"600\" width=\"600\" />"
   ]
  },
  {
   "cell_type": "code",
   "execution_count": 134,
   "id": "76bee01e-c55e-4472-9e0e-d5bf2b0c8157",
   "metadata": {
    "id": "76bee01e-c55e-4472-9e0e-d5bf2b0c8157"
   },
   "outputs": [],
   "source": [
    "def cosine_similarity(u1, u2):\n",
    "    \"\"\"Calculates cosine similarity between two user factors.\"\"\"\n",
    "    # Convert lists to DenseVectors before performing operations\n",
    "    u1_vector = Vectors.dense(u1)\n",
    "    u2_vector = Vectors.dense(u2)\n",
    "    return u1_vector.dot(u2_vector) / (u1_vector.norm(p=2) * u2_vector.norm(p=2))"
   ]
  },
  {
   "cell_type": "code",
   "execution_count": 135,
   "id": "e5da4c16-8350-4580-a7cf-b872356d231c",
   "metadata": {
    "colab": {
     "base_uri": "https://localhost:8080/"
    },
    "id": "e5da4c16-8350-4580-a7cf-b872356d231c",
    "outputId": "939a0bc6-074c-4c33-fc7d-bc032f85579f"
   },
   "outputs": [
    {
     "name": "stdout",
     "output_type": "stream",
     "text": [
      "Cosine similarity between users 10 and 20: 0.9999706272204698\n"
     ]
    }
   ],
   "source": [
    "# Example usage\n",
    "user1_id = 10\n",
    "user2_id = 20\n",
    "user1_factors = userFactors.filter(userFactors.id == user1_id ).collect()[0][1]\n",
    "user2_factors = userFactors.filter(userFactors.id == user2_id ).collect()[0][1]\n",
    "# user1_factors = userFactors.to_dense().rdd.filter(lambda x: x[0] == user1_id).collect()[0][1]\n",
    "# user2_factors = userFactors.to_dense().rdd.filter(lambda x: x[0] == user2_id).collect()[0][1]\n",
    "similarity = cosine_similarity(user1_factors, user2_factors)\n",
    "print(f\"Cosine similarity between users {user1_id} and {user2_id}: {similarity}\")\n"
   ]
  },
  {
   "cell_type": "markdown",
   "id": "37946b00-6e3f-498c-91ba-d722b5785b9c",
   "metadata": {
    "id": "37946b00-6e3f-498c-91ba-d722b5785b9c"
   },
   "source": [
    "### User-Item Cosine Similarity code"
   ]
  },
  {
   "cell_type": "code",
   "execution_count": 137,
   "id": "c8f1a8db-172b-4122-9030-9e5c40162fc6",
   "metadata": {
    "colab": {
     "base_uri": "https://localhost:8080/"
    },
    "id": "c8f1a8db-172b-4122-9030-9e5c40162fc6",
    "outputId": "d2a833a7-6024-41d7-adbb-ed9b227dad5d"
   },
   "outputs": [
    {
     "name": "stdout",
     "output_type": "stream",
     "text": [
      "Cosine similarity between users 10 and 1: 0.9999598407335776\n"
     ]
    }
   ],
   "source": [
    "# Example usage\n",
    "user1_id = 10\n",
    "item_id = 1\n",
    "user_factors = userFactors.filter(userFactors.id == user1_id ).collect()[0][1]\n",
    "item_factors = itemFactors.filter(itemFactors.id == item_id ).collect()[0][1]\n",
    "\n",
    "user_item_similarity = cosine_similarity(user_factors, item_factors)\n",
    "print(f\"Cosine similarity between users {user1_id} and {item_id}: {user_item_similarity}\")"
   ]
  },
  {
   "cell_type": "markdown",
   "id": "a8f99d3c-a41b-45a5-a1f3-a754a40d86ef",
   "metadata": {
    "id": "a8f99d3c-a41b-45a5-a1f3-a754a40d86ef"
   },
   "source": [
    "###  Cosine Similarity of user 10 with all Loans"
   ]
  },
  {
   "cell_type": "code",
   "execution_count": 138,
   "id": "f8edb118-b30d-428a-a1b0-86de708ae480",
   "metadata": {
    "id": "f8edb118-b30d-428a-a1b0-86de708ae480"
   },
   "outputs": [],
   "source": [
    "TopCosineLoanforuser10 = []\n",
    "for item in range(itemFactors.count()):\n",
    "    item_id = itemFactors.select(\"Id\").sort(\"Id\").take(itemFactors.count())[item][0]\n",
    "    user1_id = 10\n",
    "    user_factors = userFactors.filter(userFactors.id == user1_id ).collect()[0][1]\n",
    "    item_factors = itemFactors.filter(itemFactors.id == item_id ).collect()[0][1]\n",
    "\n",
    "\n",
    "    user_item_similarity = cosine_similarity(user_factors, item_factors)\n",
    "    TopCosineLoanforuser10.append({\"userID\":user1_id,\"LoanId\":item_id,\"CosineSimilarity\":user_item_similarity})"
   ]
  },
  {
   "cell_type": "code",
   "execution_count": 139,
   "id": "a65ec1b5-4c8a-45f3-81ec-ac03d5ebc44a",
   "metadata": {
    "colab": {
     "base_uri": "https://localhost:8080/"
    },
    "id": "a65ec1b5-4c8a-45f3-81ec-ac03d5ebc44a",
    "outputId": "de66de4c-2c38-4324-8fb1-f48a7016f2d5"
   },
   "outputs": [
    {
     "data": {
      "text/plain": [
       "[{'userID': 10, 'LoanId': 6, 'CosineSimilarity': 0.9999706273465713},\n",
       " {'userID': 10, 'LoanId': 1, 'CosineSimilarity': 0.9999598407335776},\n",
       " {'userID': 10, 'LoanId': 2, 'CosineSimilarity': 0.9996885796066601},\n",
       " {'userID': 10, 'LoanId': 5, 'CosineSimilarity': 0.9996751916125634},\n",
       " {'userID': 10, 'LoanId': 7, 'CosineSimilarity': 0.9996697402782446},\n",
       " {'userID': 10, 'LoanId': 4, 'CosineSimilarity': 0.9996616732840711},\n",
       " {'userID': 10, 'LoanId': 19, 'CosineSimilarity': 0.9995216021032562},\n",
       " {'userID': 10, 'LoanId': 16, 'CosineSimilarity': 0.9992673792938848},\n",
       " {'userID': 10, 'LoanId': 10, 'CosineSimilarity': 0.9992668844119118},\n",
       " {'userID': 10, 'LoanId': 18, 'CosineSimilarity': 0.9989784432507619},\n",
       " {'userID': 10, 'LoanId': 8, 'CosineSimilarity': 0.9989064077457346},\n",
       " {'userID': 10, 'LoanId': 12, 'CosineSimilarity': 0.9989031567531845},\n",
       " {'userID': 10, 'LoanId': 11, 'CosineSimilarity': 0.998202382299212},\n",
       " {'userID': 10, 'LoanId': 20, 'CosineSimilarity': 0.9972463943575983},\n",
       " {'userID': 10, 'LoanId': 15, 'CosineSimilarity': 0.9970687612714715},\n",
       " {'userID': 10, 'LoanId': 14, 'CosineSimilarity': 0.9283514584340744},\n",
       " {'userID': 10, 'LoanId': 3, 'CosineSimilarity': 0.8374129243249776},\n",
       " {'userID': 10, 'LoanId': 9, 'CosineSimilarity': 0.8325848763607053},\n",
       " {'userID': 10, 'LoanId': 17, 'CosineSimilarity': 0.7876111007702667},\n",
       " {'userID': 10, 'LoanId': 13, 'CosineSimilarity': 0.6867132812586222}]"
      ]
     },
     "execution_count": 139,
     "metadata": {},
     "output_type": "execute_result"
    }
   ],
   "source": [
    "sorted_Cosine_list = sorted(TopCosineLoanforuser10, key=operator.itemgetter('CosineSimilarity'),reverse=True)\n",
    "sorted_Cosine_list"
   ]
  },
  {
   "cell_type": "code",
   "execution_count": 139,
   "id": "Ibci3bmAxibi",
   "metadata": {
    "id": "Ibci3bmAxibi"
   },
   "outputs": [],
   "source": [
    "df_with_new_column = df.withColumn(\"id_plus_119\", col(\"id\") + 119)"
   ]
  },
  {
   "cell_type": "markdown",
   "id": "e7acbc72-5db5-4367-9c4b-419f10a4f273",
   "metadata": {
    "id": "e7acbc72-5db5-4367-9c4b-419f10a4f273"
   },
   "source": [
    "### Cosine Similarity of first 10 users with all loans"
   ]
  },
  {
   "cell_type": "code",
   "execution_count": 151,
   "id": "UVPowXhyAjkj",
   "metadata": {
    "id": "UVPowXhyAjkj"
   },
   "outputs": [],
   "source": [
    "# Collect all user factors into a dictionary\n",
    "user_factors_dict = userFactors.select(\"id\", \"features\").rdd.collectAsMap()\n",
    "\n",
    "# Broadcast the user factors dictionary to all workers\n",
    "broadcast_user_factors = spark.sparkContext.broadcast(user_factors_dict)\n",
    "\n",
    "# Collect all item factors into a dictionary\n",
    "item_factors_dict = itemFactors.select(\"id\", \"features\").rdd.collectAsMap()\n",
    "\n",
    "# Broadcast the item factors dictionary to all workers\n",
    "broadcast_item_factors = spark.sparkContext.broadcast(item_factors_dict)"
   ]
  },
  {
   "cell_type": "code",
   "execution_count": 152,
   "id": "wP3GLSUnAzMK",
   "metadata": {
    "id": "wP3GLSUnAzMK"
   },
   "outputs": [],
   "source": [
    "# Initially the code is like this !!\n",
    "def cosine_similarity(u1, u2):\n",
    "    \"\"\"Calculates cosine similarity between two user factors.\"\"\"\n",
    "    # Convert lists to DenseVectors before performing operations\n",
    "    u1_vector = Vectors.dense(u1)\n",
    "    u2_vector = Vectors.dense(u2)\n",
    "    return u1_vector.dot(u2_vector) / (u1_vector.norm(p=2) * u2_vector.norm(p=2))"
   ]
  },
  {
   "cell_type": "markdown",
   "id": "dncZNvKBBSYS",
   "metadata": {
    "id": "dncZNvKBBSYS"
   },
   "source": [
    "def cosine_similarity(vec1, vec2):\n",
    "    dot_product = sum(v1 * v2 for v1, v2 in zip(vec1, vec2))\n",
    "    magnitude1 = sum(v ** 2 for v in vec1) ** 0.5\n",
    "    magnitude2 = sum(v ** 2 for v in vec2) ** 0.5\n",
    "    return dot_product / (magnitude1 * magnitude2)"
   ]
  },
  {
   "cell_type": "code",
   "execution_count": 157,
   "id": "yDlpr92SAjry",
   "metadata": {
    "colab": {
     "base_uri": "https://localhost:8080/"
    },
    "id": "yDlpr92SAjry",
    "outputId": "0a829487-1631-40be-84ca-0b05a845477e"
   },
   "outputs": [
    {
     "name": "stdout",
     "output_type": "stream",
     "text": [
      "The time taken to run code for 25000 users is : 0.003167028890715705 hours\n"
     ]
    }
   ],
   "source": [
    "\n",
    "\n",
    "# Initialize list to store recommendations\n",
    "CosineSilty_first10 = []\n",
    "starttime = time.time()\n",
    "Nusers = 25000\n",
    "\n",
    "# Iterate over users\n",
    "for userId in range(1, Nusers):\n",
    "    user_factors = broadcast_user_factors.value.get(userId)\n",
    "    if user_factors:\n",
    "        TopCosineLoanforuser10 = []\n",
    "        # Iterate over items\n",
    "        for item_id, item_factors in broadcast_item_factors.value.items():\n",
    "            user_item_similarity = cosine_similarity(user_factors, item_factors)\n",
    "            TopCosineLoanforuser10.append({item_id: user_item_similarity})\n",
    "\n",
    "        # Sort recommendations based on similarity\n",
    "        Recomnd_loans = sorted(TopCosineLoanforuser10, key=lambda x: list(x.values())[0], reverse=True)\n",
    "        CosineSilty_first10.append({\"UserId\": userId, \"Recommendation\": Recomnd_loans})\n",
    "\n",
    "endtime = time.time()\n",
    "runtime_hours = (endtime - starttime) / 3600\n",
    "print(f\"The time taken to run code for {Nusers} users is : {runtime_hours} hours\")"
   ]
  },
  {
   "cell_type": "code",
   "execution_count": null,
   "id": "uVUjN4bdAjyC",
   "metadata": {
    "colab": {
     "base_uri": "https://localhost:8080/"
    },
    "id": "uVUjN4bdAjyC",
    "outputId": "e14c7dbe-e643-4568-c857-ffe2b9b9eb83",
    "scrolled": true
   },
   "outputs": [],
   "source": []
  },
  {
   "cell_type": "code",
   "execution_count": 159,
   "id": "f7acc075-cb60-44d4-a35d-30fe68d886ce",
   "metadata": {
    "id": "f7acc075-cb60-44d4-a35d-30fe68d886ce"
   },
   "outputs": [],
   "source": [
    "# Define a function to extract top-N recommendations\n",
    "def extract_top_n_recommendations(recommendations_data, n=2500):\n",
    "    top_n_recommendations = [{'userId': user_recommendation['UserId'],\n",
    "                              'Recommendation': [list(rec.keys())[0] for rec in user_recommendation['Recommendation'][:n]]}\n",
    "                             for user_recommendation in recommendations_data]\n",
    "    return top_n_recommendations\n",
    "\n",
    "# Extract top-N recommendations\n",
    "starttime = time.time()\n",
    "top_n_recommendations = extract_top_n_recommendations(CosineSilty_first10, n=5)\n",
    "endtime = time.time()\n",
    "runtime_hours = (endtime - starttime) / 3600\n"
   ]
  },
  {
   "cell_type": "code",
   "execution_count": 161,
   "id": "fee9c5a0-7468-4707-944a-79fa4945a68d",
   "metadata": {
    "colab": {
     "base_uri": "https://localhost:8080/"
    },
    "id": "fee9c5a0-7468-4707-944a-79fa4945a68d",
    "outputId": "9358dca2-e67b-4916-8c28-31717c65202c",
    "scrolled": true
   },
   "outputs": [
    {
     "data": {
      "text/plain": [
       "[{'userId': 1, 'Recommendation': [2, 19, 1, 4, 16]},\n",
       " {'userId': 2, 'Recommendation': [1, 2, 4, 6, 5]},\n",
       " {'userId': 3, 'Recommendation': [6, 1, 7, 2, 5]},\n",
       " {'userId': 4, 'Recommendation': [6, 1, 7, 2, 5]},\n",
       " {'userId': 5, 'Recommendation': [6, 1, 7, 2, 5]},\n",
       " {'userId': 6, 'Recommendation': [6, 1, 7, 2, 5]},\n",
       " {'userId': 7, 'Recommendation': [6, 1, 7, 2, 5]},\n",
       " {'userId': 8, 'Recommendation': [2, 1, 4, 19, 5]},\n",
       " {'userId': 9, 'Recommendation': [6, 1, 7, 2, 5]},\n",
       " {'userId': 10, 'Recommendation': [6, 1, 2, 5, 7]},\n",
       " {'userId': 11, 'Recommendation': [6, 1, 7, 2, 5]},\n",
       " {'userId': 12, 'Recommendation': [6, 1, 7, 2, 5]},\n",
       " {'userId': 13, 'Recommendation': [1, 6, 4, 2, 5]},\n",
       " {'userId': 14, 'Recommendation': [1, 2, 6, 4, 19]},\n",
       " {'userId': 15, 'Recommendation': [1, 2, 4, 6, 5]},\n",
       " {'userId': 16, 'Recommendation': [1, 6, 2, 7, 4]},\n",
       " {'userId': 17, 'Recommendation': [1, 2, 4, 6, 5]},\n",
       " {'userId': 18, 'Recommendation': [1, 6, 4, 2, 5]},\n",
       " {'userId': 19, 'Recommendation': [6, 1, 7, 2, 5]},\n",
       " {'userId': 20, 'Recommendation': [6, 1, 7, 2, 5]},\n",
       " {'userId': 21, 'Recommendation': [12, 7, 15, 2, 11]},\n",
       " {'userId': 22, 'Recommendation': [1, 6, 4, 2, 5]},\n",
       " {'userId': 23, 'Recommendation': [6, 1, 7, 2, 5]},\n",
       " {'userId': 24, 'Recommendation': [1, 6, 2, 4, 5]},\n",
       " {'userId': 25, 'Recommendation': [6, 1, 7, 2, 5]},\n",
       " {'userId': 26, 'Recommendation': [1, 2, 6, 4, 5]},\n",
       " {'userId': 27, 'Recommendation': [1, 6, 2, 5, 4]},\n",
       " {'userId': 28, 'Recommendation': [1, 6, 4, 2, 5]},\n",
       " {'userId': 29, 'Recommendation': [6, 1, 7, 2, 5]},\n",
       " {'userId': 30, 'Recommendation': [1, 2, 6, 4, 19]},\n",
       " {'userId': 31, 'Recommendation': [7, 6, 1, 2, 19]},\n",
       " {'userId': 32, 'Recommendation': [6, 1, 2, 7, 5]},\n",
       " {'userId': 33, 'Recommendation': [6, 1, 7, 2, 5]},\n",
       " {'userId': 34, 'Recommendation': [6, 1, 7, 2, 5]},\n",
       " {'userId': 35, 'Recommendation': [6, 1, 7, 2, 5]},\n",
       " {'userId': 36, 'Recommendation': [1, 6, 4, 2, 5]},\n",
       " {'userId': 37, 'Recommendation': [10, 2, 1, 19, 4]},\n",
       " {'userId': 38, 'Recommendation': [6, 1, 7, 2, 5]},\n",
       " {'userId': 39, 'Recommendation': [1, 6, 4, 2, 5]},\n",
       " {'userId': 40, 'Recommendation': [6, 1, 7, 2, 5]},\n",
       " {'userId': 41, 'Recommendation': [6, 7, 15, 1, 10]},\n",
       " {'userId': 42, 'Recommendation': [2, 19, 4, 1, 16]},\n",
       " {'userId': 43, 'Recommendation': [10, 2, 8, 19, 16]},\n",
       " {'userId': 44, 'Recommendation': [1, 4, 2, 5, 19]},\n",
       " {'userId': 45, 'Recommendation': [1, 2, 6, 4, 19]},\n",
       " {'userId': 46, 'Recommendation': [6, 1, 7, 2, 5]},\n",
       " {'userId': 47, 'Recommendation': [6, 1, 7, 2, 5]},\n",
       " {'userId': 48, 'Recommendation': [6, 1, 7, 2, 5]},\n",
       " {'userId': 49, 'Recommendation': [6, 1, 7, 2, 5]},\n",
       " {'userId': 50, 'Recommendation': [1, 6, 2, 7, 4]},\n",
       " {'userId': 51, 'Recommendation': [6, 1, 7, 2, 5]},\n",
       " {'userId': 52, 'Recommendation': [1, 4, 2, 5, 6]},\n",
       " {'userId': 53, 'Recommendation': [6, 1, 7, 2, 5]},\n",
       " {'userId': 54, 'Recommendation': [6, 1, 7, 2, 5]},\n",
       " {'userId': 55, 'Recommendation': [6, 1, 7, 2, 5]},\n",
       " {'userId': 56, 'Recommendation': [1, 6, 2, 4, 5]},\n",
       " {'userId': 57, 'Recommendation': [1, 2, 6, 4, 19]},\n",
       " {'userId': 58, 'Recommendation': [6, 1, 7, 2, 5]},\n",
       " {'userId': 59, 'Recommendation': [7, 6, 1, 2, 12]},\n",
       " {'userId': 60, 'Recommendation': [6, 1, 7, 2, 5]},\n",
       " {'userId': 61, 'Recommendation': [1, 6, 4, 2, 5]},\n",
       " {'userId': 62, 'Recommendation': [6, 1, 7, 2, 5]},\n",
       " {'userId': 63, 'Recommendation': [6, 1, 7, 2, 5]},\n",
       " {'userId': 64, 'Recommendation': [6, 1, 7, 2, 5]},\n",
       " {'userId': 65, 'Recommendation': [6, 1, 7, 2, 5]},\n",
       " {'userId': 66, 'Recommendation': [6, 7, 1, 2, 4]},\n",
       " {'userId': 67, 'Recommendation': [7, 6, 1, 2, 19]},\n",
       " {'userId': 68, 'Recommendation': [7, 6, 1, 2, 19]},\n",
       " {'userId': 69, 'Recommendation': [1, 6, 2, 4, 5]},\n",
       " {'userId': 70, 'Recommendation': [6, 1, 7, 2, 5]},\n",
       " {'userId': 71, 'Recommendation': [1, 6, 2, 4, 5]},\n",
       " {'userId': 72, 'Recommendation': [1, 6, 2, 4, 5]},\n",
       " {'userId': 73, 'Recommendation': [1, 6, 4, 2, 5]},\n",
       " {'userId': 74, 'Recommendation': [1, 6, 2, 7, 4]},\n",
       " {'userId': 75, 'Recommendation': [1, 2, 4, 19, 6]},\n",
       " {'userId': 76, 'Recommendation': [1, 6, 7, 2, 4]},\n",
       " {'userId': 77, 'Recommendation': [6, 1, 7, 2, 5]},\n",
       " {'userId': 78, 'Recommendation': [1, 6, 4, 2, 5]},\n",
       " {'userId': 79, 'Recommendation': [6, 7, 1, 2, 4]},\n",
       " {'userId': 80, 'Recommendation': [1, 6, 2, 4, 5]},\n",
       " {'userId': 81, 'Recommendation': [6, 1, 7, 2, 5]},\n",
       " {'userId': 82, 'Recommendation': [1, 6, 4, 2, 5]},\n",
       " {'userId': 83, 'Recommendation': [1, 6, 4, 2, 5]},\n",
       " {'userId': 84, 'Recommendation': [6, 7, 1, 2, 5]},\n",
       " {'userId': 85, 'Recommendation': [6, 1, 7, 2, 4]},\n",
       " {'userId': 86, 'Recommendation': [6, 1, 7, 2, 5]},\n",
       " {'userId': 87, 'Recommendation': [6, 1, 7, 2, 5]},\n",
       " {'userId': 88, 'Recommendation': [6, 1, 7, 2, 5]},\n",
       " {'userId': 89, 'Recommendation': [1, 2, 4, 19, 6]},\n",
       " {'userId': 90, 'Recommendation': [6, 1, 7, 2, 5]},\n",
       " {'userId': 91, 'Recommendation': [1, 2, 4, 6, 5]},\n",
       " {'userId': 92, 'Recommendation': [6, 1, 7, 2, 5]},\n",
       " {'userId': 93, 'Recommendation': [2, 1, 19, 4, 6]},\n",
       " {'userId': 94, 'Recommendation': [6, 1, 7, 2, 5]},\n",
       " {'userId': 95, 'Recommendation': [1, 6, 4, 2, 5]},\n",
       " {'userId': 96, 'Recommendation': [6, 1, 7, 2, 5]},\n",
       " {'userId': 97, 'Recommendation': [6, 1, 7, 2, 5]},\n",
       " {'userId': 98, 'Recommendation': [1, 2, 6, 4, 19]},\n",
       " {'userId': 99, 'Recommendation': [6, 1, 7, 2, 5]},\n",
       " {'userId': 100, 'Recommendation': [7, 6, 1, 2, 12]},\n",
       " {'userId': 101, 'Recommendation': [6, 7, 1, 2, 5]},\n",
       " {'userId': 102, 'Recommendation': [6, 1, 7, 2, 5]},\n",
       " {'userId': 103, 'Recommendation': [6, 1, 7, 2, 5]},\n",
       " {'userId': 104, 'Recommendation': [7, 6, 1, 2, 19]},\n",
       " {'userId': 105, 'Recommendation': [6, 1, 7, 2, 5]},\n",
       " {'userId': 106, 'Recommendation': [6, 1, 7, 2, 5]},\n",
       " {'userId': 107, 'Recommendation': [6, 1, 7, 2, 5]},\n",
       " {'userId': 108, 'Recommendation': [1, 6, 2, 5, 4]},\n",
       " {'userId': 109, 'Recommendation': [2, 1, 7, 4, 6]},\n",
       " {'userId': 110, 'Recommendation': [7, 6, 1, 2, 19]},\n",
       " {'userId': 111, 'Recommendation': [6, 1, 7, 2, 5]},\n",
       " {'userId': 112, 'Recommendation': [7, 6, 1, 2, 19]},\n",
       " {'userId': 113, 'Recommendation': [2, 1, 19, 4, 5]},\n",
       " {'userId': 114, 'Recommendation': [6, 1, 7, 2, 5]},\n",
       " {'userId': 115, 'Recommendation': [1, 6, 2, 4, 5]},\n",
       " {'userId': 116, 'Recommendation': [7, 6, 1, 2, 12]},\n",
       " {'userId': 117, 'Recommendation': [6, 1, 7, 2, 5]},\n",
       " {'userId': 118, 'Recommendation': [1, 6, 2, 5, 4]},\n",
       " {'userId': 119, 'Recommendation': [1, 2, 6, 4, 19]},\n",
       " {'userId': 120, 'Recommendation': [6, 1, 7, 2, 5]},\n",
       " {'userId': 121, 'Recommendation': [6, 1, 7, 2, 5]},\n",
       " {'userId': 122, 'Recommendation': [2, 1, 19, 4, 5]},\n",
       " {'userId': 123, 'Recommendation': [7, 6, 2, 1, 12]},\n",
       " {'userId': 124, 'Recommendation': [6, 1, 7, 2, 5]},\n",
       " {'userId': 125, 'Recommendation': [1, 6, 7, 2, 4]},\n",
       " {'userId': 126, 'Recommendation': [1, 6, 2, 4, 5]},\n",
       " {'userId': 127, 'Recommendation': [6, 1, 2, 5, 4]},\n",
       " {'userId': 128, 'Recommendation': [1, 6, 4, 2, 5]},\n",
       " {'userId': 129, 'Recommendation': [2, 19, 16, 8, 4]},\n",
       " {'userId': 130, 'Recommendation': [1, 6, 4, 2, 5]},\n",
       " {'userId': 131, 'Recommendation': [2, 19, 1, 4, 16]},\n",
       " {'userId': 132, 'Recommendation': [1, 6, 2, 4, 5]},\n",
       " {'userId': 133, 'Recommendation': [2, 19, 4, 1, 16]},\n",
       " {'userId': 134, 'Recommendation': [6, 1, 7, 2, 5]},\n",
       " {'userId': 135, 'Recommendation': [1, 2, 4, 19, 6]},\n",
       " {'userId': 136, 'Recommendation': [1, 6, 4, 2, 5]},\n",
       " {'userId': 137, 'Recommendation': [6, 1, 7, 2, 5]},\n",
       " {'userId': 138, 'Recommendation': [2, 19, 1, 7, 4]},\n",
       " {'userId': 139, 'Recommendation': [6, 1, 7, 2, 5]},\n",
       " {'userId': 140, 'Recommendation': [6, 1, 7, 2, 5]},\n",
       " {'userId': 141, 'Recommendation': [1, 4, 6, 2, 5]},\n",
       " {'userId': 142, 'Recommendation': [1, 6, 4, 2, 5]},\n",
       " {'userId': 143, 'Recommendation': [6, 1, 7, 2, 5]},\n",
       " {'userId': 144, 'Recommendation': [2, 7, 12, 1, 19]},\n",
       " {'userId': 145, 'Recommendation': [1, 7, 2, 6, 19]},\n",
       " {'userId': 146, 'Recommendation': [6, 1, 7, 2, 5]},\n",
       " {'userId': 147, 'Recommendation': [6, 1, 7, 2, 5]},\n",
       " {'userId': 148, 'Recommendation': [1, 2, 4, 6, 5]},\n",
       " {'userId': 149, 'Recommendation': [1, 6, 4, 2, 5]},\n",
       " {'userId': 150, 'Recommendation': [6, 1, 7, 2, 5]},\n",
       " {'userId': 151, 'Recommendation': [7, 6, 1, 2, 12]},\n",
       " {'userId': 152, 'Recommendation': [6, 1, 7, 2, 5]},\n",
       " {'userId': 153, 'Recommendation': [1, 5, 4, 2, 6]},\n",
       " {'userId': 154, 'Recommendation': [6, 1, 7, 2, 4]},\n",
       " {'userId': 155, 'Recommendation': [1, 2, 4, 19, 6]},\n",
       " {'userId': 156, 'Recommendation': [6, 7, 1, 2, 4]},\n",
       " {'userId': 157, 'Recommendation': [7, 6, 1, 2, 4]},\n",
       " {'userId': 158, 'Recommendation': [6, 7, 1, 2, 5]},\n",
       " {'userId': 159, 'Recommendation': [6, 1, 2, 5, 4]},\n",
       " {'userId': 160, 'Recommendation': [6, 1, 7, 2, 5]},\n",
       " {'userId': 161, 'Recommendation': [6, 1, 7, 2, 5]},\n",
       " {'userId': 162, 'Recommendation': [15, 7, 12, 6, 2]},\n",
       " {'userId': 163, 'Recommendation': [6, 1, 7, 2, 5]},\n",
       " {'userId': 164, 'Recommendation': [1, 6, 4, 2, 5]},\n",
       " {'userId': 165, 'Recommendation': [6, 1, 7, 2, 4]},\n",
       " {'userId': 166, 'Recommendation': [7, 6, 1, 12, 2]},\n",
       " {'userId': 167, 'Recommendation': [2, 1, 4, 19, 5]},\n",
       " {'userId': 168, 'Recommendation': [6, 1, 7, 2, 5]},\n",
       " {'userId': 169, 'Recommendation': [6, 1, 7, 2, 5]},\n",
       " {'userId': 170, 'Recommendation': [6, 1, 7, 2, 5]},\n",
       " {'userId': 171, 'Recommendation': [6, 1, 7, 2, 5]},\n",
       " {'userId': 172, 'Recommendation': [6, 1, 7, 2, 5]},\n",
       " {'userId': 173, 'Recommendation': [7, 6, 1, 2, 19]},\n",
       " {'userId': 174, 'Recommendation': [2, 1, 19, 4, 5]},\n",
       " {'userId': 175, 'Recommendation': [1, 6, 2, 4, 5]},\n",
       " {'userId': 176, 'Recommendation': [2, 1, 19, 4, 5]},\n",
       " {'userId': 177, 'Recommendation': [1, 2, 6, 4, 5]},\n",
       " {'userId': 178, 'Recommendation': [6, 1, 7, 2, 5]},\n",
       " {'userId': 179, 'Recommendation': [6, 1, 7, 2, 5]},\n",
       " {'userId': 180, 'Recommendation': [1, 6, 2, 7, 4]},\n",
       " {'userId': 181, 'Recommendation': [6, 1, 7, 2, 5]},\n",
       " {'userId': 182, 'Recommendation': [6, 1, 7, 2, 5]},\n",
       " {'userId': 183, 'Recommendation': [7, 6, 1, 2, 12]},\n",
       " {'userId': 184, 'Recommendation': [7, 6, 1, 2, 19]},\n",
       " {'userId': 185, 'Recommendation': [1, 6, 4, 2, 5]},\n",
       " {'userId': 186, 'Recommendation': [6, 1, 2, 7, 4]},\n",
       " {'userId': 187, 'Recommendation': [6, 1, 7, 2, 5]},\n",
       " {'userId': 188, 'Recommendation': [1, 6, 2, 4, 5]},\n",
       " {'userId': 189, 'Recommendation': [6, 7, 1, 10, 2]},\n",
       " {'userId': 190, 'Recommendation': [6, 1, 7, 2, 5]},\n",
       " {'userId': 191, 'Recommendation': [7, 6, 1, 2, 19]},\n",
       " {'userId': 192, 'Recommendation': [6, 1, 7, 2, 5]},\n",
       " {'userId': 193, 'Recommendation': [6, 1, 7, 2, 5]},\n",
       " {'userId': 194, 'Recommendation': [1, 6, 2, 4, 5]},\n",
       " {'userId': 195, 'Recommendation': [1, 2, 6, 4, 5]},\n",
       " {'userId': 196, 'Recommendation': [6, 1, 7, 2, 5]},\n",
       " {'userId': 197, 'Recommendation': [6, 1, 7, 2, 5]},\n",
       " {'userId': 198, 'Recommendation': [6, 1, 7, 2, 5]},\n",
       " {'userId': 199, 'Recommendation': [6, 1, 7, 2, 5]},\n",
       " {'userId': 200, 'Recommendation': [10, 2, 7, 12, 1]},\n",
       " {'userId': 201, 'Recommendation': [6, 1, 7, 2, 5]},\n",
       " {'userId': 202, 'Recommendation': [1, 6, 4, 2, 5]},\n",
       " {'userId': 203, 'Recommendation': [1, 6, 2, 7, 4]},\n",
       " {'userId': 204, 'Recommendation': [1, 6, 2, 4, 5]},\n",
       " {'userId': 205, 'Recommendation': [1, 2, 4, 6, 5]},\n",
       " {'userId': 206, 'Recommendation': [6, 1, 7, 2, 5]},\n",
       " {'userId': 207, 'Recommendation': [1, 6, 2, 4, 5]},\n",
       " {'userId': 208, 'Recommendation': [6, 1, 7, 2, 5]},\n",
       " {'userId': 209, 'Recommendation': [6, 1, 2, 5, 4]},\n",
       " {'userId': 210, 'Recommendation': [1, 6, 4, 2, 5]},\n",
       " {'userId': 211, 'Recommendation': [2, 1, 4, 19, 5]},\n",
       " {'userId': 212, 'Recommendation': [6, 7, 1, 2, 5]},\n",
       " {'userId': 213, 'Recommendation': [6, 1, 7, 2, 5]},\n",
       " {'userId': 214, 'Recommendation': [6, 1, 7, 2, 5]},\n",
       " {'userId': 215, 'Recommendation': [6, 1, 7, 2, 5]},\n",
       " {'userId': 216, 'Recommendation': [2, 19, 1, 4, 16]},\n",
       " {'userId': 217, 'Recommendation': [2, 1, 19, 4, 5]},\n",
       " {'userId': 218, 'Recommendation': [6, 1, 7, 2, 5]},\n",
       " {'userId': 219, 'Recommendation': [6, 1, 7, 2, 5]},\n",
       " {'userId': 220, 'Recommendation': [6, 1, 7, 2, 5]},\n",
       " {'userId': 221, 'Recommendation': [1, 6, 2, 4, 7]},\n",
       " {'userId': 222, 'Recommendation': [6, 1, 7, 2, 5]},\n",
       " {'userId': 223, 'Recommendation': [1, 2, 4, 6, 5]},\n",
       " {'userId': 224, 'Recommendation': [1, 6, 2, 5, 4]},\n",
       " {'userId': 225, 'Recommendation': [6, 1, 7, 2, 5]},\n",
       " {'userId': 226, 'Recommendation': [6, 1, 7, 2, 5]},\n",
       " {'userId': 227, 'Recommendation': [7, 12, 2, 1, 6]},\n",
       " {'userId': 228, 'Recommendation': [6, 1, 7, 2, 5]},\n",
       " {'userId': 229, 'Recommendation': [2, 19, 1, 4, 16]},\n",
       " {'userId': 230, 'Recommendation': [1, 2, 4, 19, 6]},\n",
       " {'userId': 231, 'Recommendation': [1, 6, 2, 4, 19]},\n",
       " {'userId': 232, 'Recommendation': [1, 6, 4, 2, 5]},\n",
       " {'userId': 233, 'Recommendation': [1, 6, 2, 5, 4]},\n",
       " {'userId': 234, 'Recommendation': [6, 1, 7, 2, 5]},\n",
       " {'userId': 235, 'Recommendation': [6, 1, 7, 2, 5]},\n",
       " {'userId': 236, 'Recommendation': [6, 1, 7, 2, 5]},\n",
       " {'userId': 237, 'Recommendation': [6, 1, 7, 2, 5]},\n",
       " {'userId': 238, 'Recommendation': [6, 1, 7, 2, 5]},\n",
       " {'userId': 239, 'Recommendation': [1, 2, 4, 19, 6]},\n",
       " {'userId': 240, 'Recommendation': [7, 6, 1, 2, 12]},\n",
       " {'userId': 241, 'Recommendation': [15, 7, 12, 6, 2]},\n",
       " {'userId': 242, 'Recommendation': [15, 7, 12, 6, 2]},\n",
       " {'userId': 243, 'Recommendation': [6, 1, 7, 2, 5]},\n",
       " {'userId': 244, 'Recommendation': [6, 1, 7, 2, 5]},\n",
       " {'userId': 245, 'Recommendation': [6, 1, 2, 7, 5]},\n",
       " {'userId': 246, 'Recommendation': [1, 2, 4, 6, 5]},\n",
       " {'userId': 247, 'Recommendation': [6, 1, 7, 2, 4]},\n",
       " {'userId': 248, 'Recommendation': [12, 7, 15, 6, 2]},\n",
       " {'userId': 249, 'Recommendation': [6, 1, 7, 2, 5]},\n",
       " {'userId': 250, 'Recommendation': [6, 7, 1, 2, 10]},\n",
       " {'userId': 251, 'Recommendation': [1, 6, 2, 4, 5]},\n",
       " {'userId': 252, 'Recommendation': [1, 6, 4, 2, 5]},\n",
       " {'userId': 253, 'Recommendation': [1, 2, 4, 19, 5]},\n",
       " {'userId': 254, 'Recommendation': [6, 1, 7, 2, 5]},\n",
       " {'userId': 255, 'Recommendation': [6, 7, 1, 2, 19]},\n",
       " {'userId': 256, 'Recommendation': [2, 19, 4, 1, 16]},\n",
       " {'userId': 257, 'Recommendation': [6, 1, 7, 2, 5]},\n",
       " {'userId': 258, 'Recommendation': [2, 1, 4, 19, 5]},\n",
       " {'userId': 259, 'Recommendation': [6, 1, 7, 2, 5]},\n",
       " {'userId': 260, 'Recommendation': [6, 1, 7, 2, 5]},\n",
       " {'userId': 261, 'Recommendation': [6, 1, 7, 2, 5]},\n",
       " {'userId': 262, 'Recommendation': [6, 1, 7, 2, 5]},\n",
       " {'userId': 263, 'Recommendation': [2, 1, 19, 4, 5]},\n",
       " {'userId': 264, 'Recommendation': [6, 1, 2, 5, 4]},\n",
       " {'userId': 265, 'Recommendation': [6, 7, 1, 2, 4]},\n",
       " {'userId': 266, 'Recommendation': [2, 1, 19, 4, 16]},\n",
       " {'userId': 267, 'Recommendation': [1, 2, 4, 19, 5]},\n",
       " {'userId': 268, 'Recommendation': [6, 1, 7, 2, 5]},\n",
       " {'userId': 269, 'Recommendation': [1, 6, 2, 4, 5]},\n",
       " {'userId': 270, 'Recommendation': [1, 6, 2, 5, 4]},\n",
       " {'userId': 271, 'Recommendation': [6, 1, 7, 2, 5]},\n",
       " {'userId': 272, 'Recommendation': [6, 1, 7, 2, 5]},\n",
       " {'userId': 273, 'Recommendation': [6, 1, 2, 5, 4]},\n",
       " {'userId': 274, 'Recommendation': [1, 2, 4, 6, 5]},\n",
       " {'userId': 275, 'Recommendation': [6, 1, 7, 2, 5]},\n",
       " {'userId': 276, 'Recommendation': [6, 1, 7, 2, 5]},\n",
       " {'userId': 277, 'Recommendation': [1, 4, 2, 5, 19]},\n",
       " {'userId': 278, 'Recommendation': [6, 1, 7, 2, 5]},\n",
       " {'userId': 279, 'Recommendation': [1, 6, 2, 4, 5]},\n",
       " {'userId': 280, 'Recommendation': [1, 6, 2, 4, 5]},\n",
       " {'userId': 281, 'Recommendation': [6, 1, 7, 2, 5]},\n",
       " {'userId': 282, 'Recommendation': [1, 6, 4, 2, 5]},\n",
       " {'userId': 283, 'Recommendation': [6, 1, 7, 2, 5]},\n",
       " {'userId': 284, 'Recommendation': [6, 1, 7, 2, 5]},\n",
       " {'userId': 285, 'Recommendation': [6, 1, 2, 7, 5]},\n",
       " {'userId': 286, 'Recommendation': [6, 1, 7, 2, 5]},\n",
       " {'userId': 287, 'Recommendation': [1, 6, 4, 2, 5]},\n",
       " {'userId': 288, 'Recommendation': [6, 1, 7, 2, 5]},\n",
       " {'userId': 289, 'Recommendation': [2, 19, 1, 4, 16]},\n",
       " {'userId': 290, 'Recommendation': [6, 1, 7, 2, 5]},\n",
       " {'userId': 291, 'Recommendation': [6, 1, 7, 2, 5]},\n",
       " {'userId': 292, 'Recommendation': [2, 1, 19, 4, 7]},\n",
       " {'userId': 293, 'Recommendation': [6, 1, 7, 2, 5]},\n",
       " {'userId': 294, 'Recommendation': [6, 1, 7, 2, 5]},\n",
       " {'userId': 295, 'Recommendation': [1, 6, 2, 4, 5]},\n",
       " {'userId': 296, 'Recommendation': [1, 2, 6, 4, 19]},\n",
       " {'userId': 297, 'Recommendation': [6, 1, 7, 2, 5]},\n",
       " {'userId': 298, 'Recommendation': [1, 6, 4, 2, 5]},\n",
       " {'userId': 299, 'Recommendation': [6, 1, 7, 2, 5]},\n",
       " {'userId': 300, 'Recommendation': [10, 2, 19, 1, 7]},\n",
       " {'userId': 301, 'Recommendation': [15, 7, 12, 6, 2]},\n",
       " {'userId': 302, 'Recommendation': [1, 6, 4, 2, 5]},\n",
       " {'userId': 303, 'Recommendation': [6, 1, 7, 2, 5]},\n",
       " {'userId': 304, 'Recommendation': [1, 2, 6, 4, 19]},\n",
       " {'userId': 305, 'Recommendation': [6, 1, 7, 2, 5]},\n",
       " {'userId': 306, 'Recommendation': [6, 1, 7, 2, 5]},\n",
       " {'userId': 307, 'Recommendation': [6, 1, 7, 2, 5]},\n",
       " {'userId': 308, 'Recommendation': [7, 12, 15, 6, 2]},\n",
       " {'userId': 309, 'Recommendation': [1, 2, 4, 19, 5]},\n",
       " {'userId': 310, 'Recommendation': [6, 1, 7, 2, 5]},\n",
       " {'userId': 311, 'Recommendation': [6, 1, 7, 2, 4]},\n",
       " {'userId': 312, 'Recommendation': [6, 1, 7, 2, 5]},\n",
       " {'userId': 313, 'Recommendation': [7, 2, 1, 6, 19]},\n",
       " {'userId': 314, 'Recommendation': [6, 1, 7, 2, 5]},\n",
       " {'userId': 315, 'Recommendation': [7, 2, 1, 6, 12]},\n",
       " {'userId': 316, 'Recommendation': [6, 1, 7, 2, 5]},\n",
       " {'userId': 317, 'Recommendation': [6, 1, 7, 2, 5]},\n",
       " {'userId': 318, 'Recommendation': [7, 6, 1, 2, 12]},\n",
       " {'userId': 319, 'Recommendation': [1, 2, 6, 4, 5]},\n",
       " {'userId': 320, 'Recommendation': [1, 6, 2, 4, 5]},\n",
       " {'userId': 321, 'Recommendation': [1, 6, 2, 4, 5]},\n",
       " {'userId': 322, 'Recommendation': [1, 2, 6, 4, 19]},\n",
       " {'userId': 323, 'Recommendation': [2, 1, 4, 19, 5]},\n",
       " {'userId': 324, 'Recommendation': [6, 1, 7, 2, 5]},\n",
       " {'userId': 325, 'Recommendation': [6, 1, 7, 2, 5]},\n",
       " {'userId': 326, 'Recommendation': [1, 6, 2, 4, 5]},\n",
       " {'userId': 327, 'Recommendation': [2, 1, 19, 4, 6]},\n",
       " {'userId': 328, 'Recommendation': [6, 7, 1, 2, 4]},\n",
       " {'userId': 329, 'Recommendation': [6, 1, 7, 2, 5]},\n",
       " {'userId': 330, 'Recommendation': [1, 6, 2, 4, 5]},\n",
       " {'userId': 331, 'Recommendation': [7, 6, 1, 2, 19]},\n",
       " {'userId': 332, 'Recommendation': [6, 1, 7, 2, 5]},\n",
       " {'userId': 333, 'Recommendation': [2, 1, 19, 7, 12]},\n",
       " {'userId': 334, 'Recommendation': [2, 1, 7, 6, 19]},\n",
       " {'userId': 335, 'Recommendation': [1, 6, 4, 2, 5]},\n",
       " {'userId': 336, 'Recommendation': [1, 6, 7, 2, 4]},\n",
       " {'userId': 337, 'Recommendation': [6, 1, 7, 2, 5]},\n",
       " {'userId': 338, 'Recommendation': [1, 6, 4, 2, 5]},\n",
       " {'userId': 339, 'Recommendation': [1, 6, 2, 5, 4]},\n",
       " {'userId': 340, 'Recommendation': [6, 1, 7, 2, 5]},\n",
       " {'userId': 341, 'Recommendation': [6, 1, 7, 2, 5]},\n",
       " {'userId': 342, 'Recommendation': [1, 6, 2, 5, 4]},\n",
       " {'userId': 343, 'Recommendation': [7, 6, 1, 2, 12]},\n",
       " {'userId': 344, 'Recommendation': [7, 12, 2, 6, 1]},\n",
       " {'userId': 345, 'Recommendation': [6, 1, 7, 2, 4]},\n",
       " {'userId': 346, 'Recommendation': [6, 1, 7, 2, 5]},\n",
       " {'userId': 347, 'Recommendation': [6, 1, 7, 2, 5]},\n",
       " {'userId': 348, 'Recommendation': [1, 6, 2, 4, 5]},\n",
       " {'userId': 349, 'Recommendation': [1, 6, 4, 2, 5]},\n",
       " {'userId': 350, 'Recommendation': [1, 6, 2, 5, 4]},\n",
       " {'userId': 351, 'Recommendation': [6, 1, 7, 2, 5]},\n",
       " {'userId': 352, 'Recommendation': [6, 1, 7, 2, 5]},\n",
       " {'userId': 353, 'Recommendation': [7, 12, 15, 6, 2]},\n",
       " {'userId': 354, 'Recommendation': [6, 1, 7, 2, 5]},\n",
       " {'userId': 355, 'Recommendation': [1, 2, 4, 19, 6]},\n",
       " {'userId': 356, 'Recommendation': [6, 1, 7, 2, 5]},\n",
       " {'userId': 357, 'Recommendation': [6, 1, 7, 2, 5]},\n",
       " {'userId': 358, 'Recommendation': [1, 6, 4, 2, 5]},\n",
       " {'userId': 359, 'Recommendation': [6, 1, 7, 2, 5]},\n",
       " {'userId': 360, 'Recommendation': [6, 1, 7, 2, 5]},\n",
       " {'userId': 361, 'Recommendation': [1, 6, 4, 2, 5]},\n",
       " {'userId': 362, 'Recommendation': [7, 6, 1, 2, 12]},\n",
       " {'userId': 363, 'Recommendation': [1, 2, 4, 19, 6]},\n",
       " {'userId': 364, 'Recommendation': [6, 1, 7, 2, 5]},\n",
       " {'userId': 365, 'Recommendation': [6, 1, 7, 2, 5]},\n",
       " {'userId': 366, 'Recommendation': [6, 7, 1, 2, 4]},\n",
       " {'userId': 367, 'Recommendation': [6, 1, 7, 2, 5]},\n",
       " {'userId': 368, 'Recommendation': [1, 6, 2, 5, 4]},\n",
       " {'userId': 369, 'Recommendation': [1, 6, 4, 2, 5]},\n",
       " {'userId': 370, 'Recommendation': [1, 6, 2, 5, 4]},\n",
       " {'userId': 371, 'Recommendation': [6, 1, 7, 2, 5]},\n",
       " {'userId': 372, 'Recommendation': [6, 1, 2, 7, 5]},\n",
       " {'userId': 373, 'Recommendation': [1, 2, 6, 7, 4]},\n",
       " {'userId': 374, 'Recommendation': [6, 1, 7, 2, 4]},\n",
       " {'userId': 375, 'Recommendation': [1, 6, 2, 4, 5]},\n",
       " {'userId': 376, 'Recommendation': [1, 6, 4, 2, 5]},\n",
       " {'userId': 377, 'Recommendation': [6, 1, 7, 2, 5]},\n",
       " {'userId': 378, 'Recommendation': [6, 1, 7, 2, 5]},\n",
       " {'userId': 379, 'Recommendation': [1, 6, 2, 4, 5]},\n",
       " {'userId': 380, 'Recommendation': [1, 6, 7, 2, 4]},\n",
       " {'userId': 381, 'Recommendation': [1, 2, 4, 6, 5]},\n",
       " {'userId': 382, 'Recommendation': [1, 6, 4, 2, 5]},\n",
       " {'userId': 383, 'Recommendation': [6, 7, 1, 2, 5]},\n",
       " {'userId': 384, 'Recommendation': [6, 1, 7, 2, 5]},\n",
       " {'userId': 385, 'Recommendation': [1, 6, 4, 2, 5]},\n",
       " {'userId': 386, 'Recommendation': [6, 1, 7, 2, 5]},\n",
       " {'userId': 387, 'Recommendation': [7, 2, 1, 12, 6]},\n",
       " {'userId': 388, 'Recommendation': [1, 6, 4, 2, 5]},\n",
       " {'userId': 389, 'Recommendation': [6, 7, 1, 2, 5]},\n",
       " {'userId': 390, 'Recommendation': [6, 7, 1, 2, 4]},\n",
       " {'userId': 391, 'Recommendation': [6, 1, 7, 2, 5]},\n",
       " {'userId': 392, 'Recommendation': [6, 1, 7, 2, 5]},\n",
       " {'userId': 393, 'Recommendation': [1, 6, 2, 5, 4]},\n",
       " {'userId': 394, 'Recommendation': [7, 6, 1, 2, 12]},\n",
       " {'userId': 395, 'Recommendation': [1, 6, 2, 5, 4]},\n",
       " {'userId': 396, 'Recommendation': [10, 2, 1, 7, 19]},\n",
       " {'userId': 397, 'Recommendation': [6, 1, 7, 2, 5]},\n",
       " {'userId': 398, 'Recommendation': [6, 7, 1, 2, 5]},\n",
       " {'userId': 399, 'Recommendation': [1, 6, 4, 2, 5]},\n",
       " {'userId': 400, 'Recommendation': [6, 1, 7, 2, 4]},\n",
       " {'userId': 401, 'Recommendation': [2, 19, 1, 4, 16]},\n",
       " {'userId': 402, 'Recommendation': [7, 6, 1, 2, 19]},\n",
       " {'userId': 403, 'Recommendation': [6, 7, 1, 2, 4]},\n",
       " {'userId': 404, 'Recommendation': [1, 6, 4, 2, 5]},\n",
       " {'userId': 405, 'Recommendation': [1, 6, 4, 2, 5]},\n",
       " {'userId': 406, 'Recommendation': [1, 4, 2, 5, 6]},\n",
       " {'userId': 407, 'Recommendation': [6, 1, 7, 2, 5]},\n",
       " {'userId': 408, 'Recommendation': [6, 1, 7, 2, 5]},\n",
       " {'userId': 409, 'Recommendation': [6, 1, 7, 2, 5]},\n",
       " {'userId': 410, 'Recommendation': [6, 1, 7, 2, 5]},\n",
       " {'userId': 411, 'Recommendation': [6, 1, 7, 2, 5]},\n",
       " {'userId': 412, 'Recommendation': [6, 1, 7, 2, 5]},\n",
       " {'userId': 413, 'Recommendation': [6, 1, 7, 2, 5]},\n",
       " {'userId': 414, 'Recommendation': [6, 1, 7, 2, 5]},\n",
       " {'userId': 415, 'Recommendation': [1, 6, 2, 4, 5]},\n",
       " {'userId': 416, 'Recommendation': [6, 1, 7, 2, 5]},\n",
       " {'userId': 417, 'Recommendation': [7, 6, 1, 2, 19]},\n",
       " {'userId': 418, 'Recommendation': [1, 4, 2, 5, 19]},\n",
       " {'userId': 419, 'Recommendation': [1, 6, 2, 4, 5]},\n",
       " {'userId': 420, 'Recommendation': [1, 6, 2, 4, 5]},\n",
       " {'userId': 421, 'Recommendation': [12, 7, 15, 2, 6]},\n",
       " {'userId': 422, 'Recommendation': [6, 1, 7, 2, 5]},\n",
       " {'userId': 423, 'Recommendation': [6, 7, 1, 2, 5]},\n",
       " {'userId': 424, 'Recommendation': [1, 6, 2, 4, 5]},\n",
       " {'userId': 425, 'Recommendation': [6, 1, 7, 2, 5]},\n",
       " {'userId': 426, 'Recommendation': [1, 6, 4, 2, 5]},\n",
       " {'userId': 427, 'Recommendation': [6, 7, 1, 2, 5]},\n",
       " {'userId': 428, 'Recommendation': [6, 1, 7, 2, 5]},\n",
       " {'userId': 429, 'Recommendation': [6, 7, 1, 2, 5]},\n",
       " {'userId': 430, 'Recommendation': [1, 2, 4, 6, 5]},\n",
       " {'userId': 431, 'Recommendation': [7, 6, 1, 15, 2]},\n",
       " {'userId': 432, 'Recommendation': [1, 6, 2, 4, 5]},\n",
       " {'userId': 433, 'Recommendation': [6, 1, 7, 2, 5]},\n",
       " {'userId': 434, 'Recommendation': [1, 6, 4, 2, 5]},\n",
       " {'userId': 435, 'Recommendation': [6, 1, 2, 5, 4]},\n",
       " {'userId': 436, 'Recommendation': [2, 1, 4, 19, 5]},\n",
       " {'userId': 437, 'Recommendation': [6, 1, 7, 2, 5]},\n",
       " {'userId': 438, 'Recommendation': [6, 1, 7, 2, 5]},\n",
       " {'userId': 439, 'Recommendation': [6, 1, 7, 2, 5]},\n",
       " {'userId': 440, 'Recommendation': [1, 6, 2, 5, 4]},\n",
       " {'userId': 441, 'Recommendation': [1, 6, 4, 2, 5]},\n",
       " {'userId': 442, 'Recommendation': [6, 1, 7, 2, 5]},\n",
       " {'userId': 443, 'Recommendation': [1, 6, 4, 2, 5]},\n",
       " {'userId': 444, 'Recommendation': [6, 1, 7, 2, 5]},\n",
       " {'userId': 445, 'Recommendation': [6, 1, 7, 2, 5]},\n",
       " {'userId': 446, 'Recommendation': [2, 7, 1, 19, 12]},\n",
       " {'userId': 447, 'Recommendation': [6, 1, 7, 2, 5]},\n",
       " {'userId': 448, 'Recommendation': [1, 6, 2, 4, 5]},\n",
       " {'userId': 449, 'Recommendation': [1, 2, 6, 7, 19]},\n",
       " {'userId': 450, 'Recommendation': [7, 12, 15, 6, 2]},\n",
       " {'userId': 451, 'Recommendation': [1, 6, 2, 5, 4]},\n",
       " {'userId': 452, 'Recommendation': [1, 6, 4, 2, 5]},\n",
       " {'userId': 453, 'Recommendation': [6, 1, 7, 2, 5]},\n",
       " {'userId': 454, 'Recommendation': [1, 6, 2, 4, 5]},\n",
       " {'userId': 455, 'Recommendation': [6, 1, 7, 2, 5]},\n",
       " {'userId': 456, 'Recommendation': [1, 2, 4, 19, 5]},\n",
       " {'userId': 457, 'Recommendation': [7, 12, 6, 15, 1]},\n",
       " {'userId': 458, 'Recommendation': [1, 6, 2, 4, 5]},\n",
       " {'userId': 459, 'Recommendation': [1, 6, 4, 2, 5]},\n",
       " {'userId': 460, 'Recommendation': [6, 1, 7, 2, 5]},\n",
       " {'userId': 461, 'Recommendation': [1, 6, 4, 2, 5]},\n",
       " {'userId': 462, 'Recommendation': [12, 7, 2, 19, 1]},\n",
       " {'userId': 463, 'Recommendation': [6, 1, 7, 2, 5]},\n",
       " {'userId': 464, 'Recommendation': [10, 2, 12, 7, 1]},\n",
       " {'userId': 465, 'Recommendation': [2, 19, 1, 4, 16]},\n",
       " {'userId': 466, 'Recommendation': [1, 6, 2, 4, 5]},\n",
       " {'userId': 467, 'Recommendation': [1, 6, 2, 7, 4]},\n",
       " {'userId': 468, 'Recommendation': [6, 1, 7, 2, 5]},\n",
       " {'userId': 469, 'Recommendation': [1, 4, 6, 2, 5]},\n",
       " {'userId': 470, 'Recommendation': [6, 1, 7, 2, 5]},\n",
       " {'userId': 471, 'Recommendation': [1, 7, 6, 2, 19]},\n",
       " {'userId': 472, 'Recommendation': [6, 1, 7, 2, 5]},\n",
       " {'userId': 473, 'Recommendation': [12, 7, 2, 1, 19]},\n",
       " {'userId': 474, 'Recommendation': [6, 1, 7, 2, 5]},\n",
       " {'userId': 475, 'Recommendation': [1, 6, 4, 2, 5]},\n",
       " {'userId': 476, 'Recommendation': [6, 1, 7, 2, 5]},\n",
       " {'userId': 477, 'Recommendation': [6, 1, 7, 2, 5]},\n",
       " {'userId': 478, 'Recommendation': [1, 2, 4, 19, 5]},\n",
       " {'userId': 479, 'Recommendation': [6, 1, 7, 2, 5]},\n",
       " {'userId': 480, 'Recommendation': [2, 1, 4, 19, 5]},\n",
       " {'userId': 481, 'Recommendation': [1, 2, 6, 4, 19]},\n",
       " {'userId': 482, 'Recommendation': [1, 6, 2, 4, 5]},\n",
       " {'userId': 483, 'Recommendation': [1, 6, 2, 5, 4]},\n",
       " {'userId': 484, 'Recommendation': [6, 1, 7, 2, 5]},\n",
       " {'userId': 485, 'Recommendation': [1, 6, 4, 2, 5]},\n",
       " {'userId': 486, 'Recommendation': [6, 1, 7, 2, 5]},\n",
       " {'userId': 487, 'Recommendation': [6, 1, 7, 2, 5]},\n",
       " {'userId': 488, 'Recommendation': [12, 7, 15, 2, 11]},\n",
       " {'userId': 489, 'Recommendation': [6, 1, 7, 2, 5]},\n",
       " {'userId': 490, 'Recommendation': [6, 1, 7, 2, 5]},\n",
       " {'userId': 491, 'Recommendation': [6, 7, 1, 2, 5]},\n",
       " {'userId': 492, 'Recommendation': [6, 1, 7, 2, 5]},\n",
       " {'userId': 493, 'Recommendation': [1, 6, 2, 4, 5]},\n",
       " {'userId': 494, 'Recommendation': [6, 1, 7, 2, 5]},\n",
       " {'userId': 495, 'Recommendation': [1, 6, 4, 2, 5]},\n",
       " {'userId': 496, 'Recommendation': [12, 7, 15, 11, 2]},\n",
       " {'userId': 497, 'Recommendation': [7, 6, 1, 2, 12]},\n",
       " {'userId': 498, 'Recommendation': [6, 1, 7, 2, 5]},\n",
       " {'userId': 499, 'Recommendation': [1, 6, 2, 4, 5]},\n",
       " {'userId': 500, 'Recommendation': [6, 1, 7, 2, 5]},\n",
       " {'userId': 501, 'Recommendation': [1, 6, 4, 2, 5]},\n",
       " {'userId': 502, 'Recommendation': [6, 1, 7, 2, 4]},\n",
       " {'userId': 503, 'Recommendation': [1, 2, 4, 19, 6]},\n",
       " {'userId': 504, 'Recommendation': [6, 1, 7, 2, 5]},\n",
       " {'userId': 505, 'Recommendation': [6, 1, 7, 2, 4]},\n",
       " {'userId': 506, 'Recommendation': [6, 1, 7, 2, 5]},\n",
       " {'userId': 507, 'Recommendation': [6, 1, 7, 2, 4]},\n",
       " {'userId': 508, 'Recommendation': [6, 1, 7, 2, 5]},\n",
       " {'userId': 509, 'Recommendation': [2, 7, 1, 19, 6]},\n",
       " {'userId': 510, 'Recommendation': [4, 5, 2, 19, 1]},\n",
       " {'userId': 511, 'Recommendation': [6, 1, 7, 2, 4]},\n",
       " {'userId': 512, 'Recommendation': [1, 6, 2, 4, 5]},\n",
       " {'userId': 513, 'Recommendation': [6, 1, 7, 2, 5]},\n",
       " {'userId': 514, 'Recommendation': [6, 1, 7, 2, 5]},\n",
       " {'userId': 515, 'Recommendation': [1, 2, 6, 7, 19]},\n",
       " {'userId': 516, 'Recommendation': [6, 1, 7, 2, 5]},\n",
       " {'userId': 517, 'Recommendation': [6, 1, 7, 2, 5]},\n",
       " {'userId': 518, 'Recommendation': [2, 1, 4, 19, 5]},\n",
       " {'userId': 519, 'Recommendation': [2, 19, 1, 4, 16]},\n",
       " {'userId': 520, 'Recommendation': [6, 1, 7, 2, 5]},\n",
       " {'userId': 521, 'Recommendation': [6, 1, 7, 2, 4]},\n",
       " {'userId': 522, 'Recommendation': [1, 6, 4, 2, 5]},\n",
       " {'userId': 523, 'Recommendation': [7, 15, 12, 6, 2]},\n",
       " {'userId': 524, 'Recommendation': [6, 1, 7, 2, 5]},\n",
       " {'userId': 525, 'Recommendation': [6, 1, 7, 2, 5]},\n",
       " {'userId': 526, 'Recommendation': [2, 19, 16, 4, 1]},\n",
       " {'userId': 527, 'Recommendation': [6, 1, 7, 2, 5]},\n",
       " {'userId': 528, 'Recommendation': [6, 1, 7, 2, 5]},\n",
       " {'userId': 529, 'Recommendation': [6, 7, 1, 2, 5]},\n",
       " {'userId': 530, 'Recommendation': [7, 6, 1, 2, 19]},\n",
       " {'userId': 531, 'Recommendation': [1, 6, 4, 2, 5]},\n",
       " {'userId': 532, 'Recommendation': [6, 1, 7, 2, 5]},\n",
       " {'userId': 533, 'Recommendation': [6, 1, 7, 2, 5]},\n",
       " {'userId': 534, 'Recommendation': [1, 2, 4, 5, 6]},\n",
       " {'userId': 535, 'Recommendation': [6, 7, 1, 2, 5]},\n",
       " {'userId': 536, 'Recommendation': [6, 1, 7, 2, 5]},\n",
       " {'userId': 537, 'Recommendation': [6, 1, 7, 2, 5]},\n",
       " {'userId': 538, 'Recommendation': [1, 6, 4, 2, 5]},\n",
       " {'userId': 539, 'Recommendation': [7, 2, 12, 6, 1]},\n",
       " {'userId': 540, 'Recommendation': [7, 6, 1, 2, 12]},\n",
       " {'userId': 541, 'Recommendation': [6, 1, 7, 2, 5]},\n",
       " {'userId': 542, 'Recommendation': [6, 1, 7, 2, 5]},\n",
       " {'userId': 543, 'Recommendation': [6, 1, 7, 2, 5]},\n",
       " {'userId': 544, 'Recommendation': [6, 7, 1, 2, 4]},\n",
       " {'userId': 545, 'Recommendation': [6, 7, 1, 2, 4]},\n",
       " {'userId': 546, 'Recommendation': [7, 6, 1, 2, 19]},\n",
       " {'userId': 547, 'Recommendation': [1, 4, 5, 2, 6]},\n",
       " {'userId': 548, 'Recommendation': [1, 6, 2, 4, 5]},\n",
       " {'userId': 549, 'Recommendation': [1, 6, 4, 2, 5]},\n",
       " {'userId': 550, 'Recommendation': [6, 1, 7, 2, 5]},\n",
       " {'userId': 551, 'Recommendation': [1, 6, 2, 7, 4]},\n",
       " {'userId': 552, 'Recommendation': [1, 2, 6, 4, 19]},\n",
       " {'userId': 553, 'Recommendation': [6, 1, 7, 2, 4]},\n",
       " {'userId': 554, 'Recommendation': [7, 6, 1, 12, 2]},\n",
       " {'userId': 555, 'Recommendation': [1, 4, 2, 5, 19]},\n",
       " {'userId': 556, 'Recommendation': [1, 6, 2, 4, 5]},\n",
       " {'userId': 557, 'Recommendation': [1, 2, 4, 6, 5]},\n",
       " {'userId': 558, 'Recommendation': [1, 6, 2, 5, 4]},\n",
       " {'userId': 559, 'Recommendation': [6, 1, 7, 2, 5]},\n",
       " {'userId': 560, 'Recommendation': [6, 1, 7, 2, 5]},\n",
       " {'userId': 561, 'Recommendation': [6, 1, 7, 2, 5]},\n",
       " {'userId': 562, 'Recommendation': [6, 1, 7, 2, 5]},\n",
       " {'userId': 563, 'Recommendation': [1, 6, 4, 2, 5]},\n",
       " {'userId': 564, 'Recommendation': [1, 6, 2, 5, 4]},\n",
       " {'userId': 565, 'Recommendation': [8, 16, 11, 19, 2]},\n",
       " {'userId': 566, 'Recommendation': [1, 6, 4, 2, 5]},\n",
       " {'userId': 567, 'Recommendation': [6, 7, 1, 2, 5]},\n",
       " {'userId': 568, 'Recommendation': [1, 4, 2, 5, 6]},\n",
       " {'userId': 569, 'Recommendation': [1, 6, 2, 7, 4]},\n",
       " {'userId': 570, 'Recommendation': [6, 1, 7, 2, 5]},\n",
       " {'userId': 571, 'Recommendation': [6, 7, 1, 2, 4]},\n",
       " {'userId': 572, 'Recommendation': [6, 1, 7, 2, 5]},\n",
       " {'userId': 573, 'Recommendation': [6, 1, 7, 2, 5]},\n",
       " {'userId': 574, 'Recommendation': [6, 1, 7, 2, 4]},\n",
       " {'userId': 575, 'Recommendation': [1, 6, 2, 4, 5]},\n",
       " {'userId': 576, 'Recommendation': [1, 6, 2, 5, 4]},\n",
       " {'userId': 577, 'Recommendation': [1, 6, 2, 4, 5]},\n",
       " {'userId': 578, 'Recommendation': [1, 6, 4, 2, 5]},\n",
       " {'userId': 579, 'Recommendation': [1, 6, 4, 2, 5]},\n",
       " {'userId': 580, 'Recommendation': [12, 7, 11, 2, 8]},\n",
       " {'userId': 581, 'Recommendation': [7, 6, 1, 2, 4]},\n",
       " {'userId': 582, 'Recommendation': [6, 1, 7, 2, 5]},\n",
       " {'userId': 583, 'Recommendation': [6, 1, 7, 2, 5]},\n",
       " {'userId': 584, 'Recommendation': [2, 7, 1, 12, 19]},\n",
       " {'userId': 585, 'Recommendation': [6, 1, 7, 2, 5]},\n",
       " {'userId': 586, 'Recommendation': [6, 1, 7, 2, 5]},\n",
       " {'userId': 587, 'Recommendation': [1, 6, 2, 5, 4]},\n",
       " {'userId': 588, 'Recommendation': [1, 6, 4, 2, 5]},\n",
       " {'userId': 589, 'Recommendation': [6, 1, 7, 2, 5]},\n",
       " {'userId': 590, 'Recommendation': [6, 1, 7, 2, 5]},\n",
       " {'userId': 591, 'Recommendation': [1, 2, 4, 6, 19]},\n",
       " {'userId': 592, 'Recommendation': [1, 6, 4, 2, 5]},\n",
       " {'userId': 593, 'Recommendation': [2, 1, 19, 4, 5]},\n",
       " {'userId': 594, 'Recommendation': [6, 7, 1, 2, 4]},\n",
       " {'userId': 595, 'Recommendation': [7, 6, 1, 2, 12]},\n",
       " {'userId': 596, 'Recommendation': [1, 6, 2, 5, 4]},\n",
       " {'userId': 597, 'Recommendation': [1, 6, 2, 4, 5]},\n",
       " {'userId': 598, 'Recommendation': [7, 2, 12, 6, 1]},\n",
       " {'userId': 599, 'Recommendation': [1, 6, 4, 2, 5]},\n",
       " {'userId': 600, 'Recommendation': [1, 6, 2, 4, 5]},\n",
       " {'userId': 601, 'Recommendation': [6, 1, 2, 7, 5]},\n",
       " {'userId': 602, 'Recommendation': [6, 1, 7, 2, 5]},\n",
       " {'userId': 603, 'Recommendation': [6, 1, 7, 2, 5]},\n",
       " {'userId': 604, 'Recommendation': [6, 1, 7, 2, 5]},\n",
       " {'userId': 605, 'Recommendation': [1, 6, 2, 4, 5]},\n",
       " {'userId': 606, 'Recommendation': [2, 7, 1, 19, 6]},\n",
       " {'userId': 607, 'Recommendation': [6, 1, 7, 2, 5]},\n",
       " {'userId': 608, 'Recommendation': [1, 6, 4, 2, 5]},\n",
       " {'userId': 609, 'Recommendation': [6, 1, 7, 2, 5]},\n",
       " {'userId': 610, 'Recommendation': [6, 1, 2, 7, 4]},\n",
       " {'userId': 611, 'Recommendation': [1, 6, 4, 2, 5]},\n",
       " {'userId': 612, 'Recommendation': [1, 6, 2, 5, 4]},\n",
       " {'userId': 613, 'Recommendation': [6, 1, 7, 2, 5]},\n",
       " {'userId': 614, 'Recommendation': [1, 2, 4, 19, 5]},\n",
       " {'userId': 615, 'Recommendation': [1, 6, 2, 4, 5]},\n",
       " {'userId': 616, 'Recommendation': [6, 1, 7, 2, 5]},\n",
       " {'userId': 617, 'Recommendation': [2, 1, 19, 7, 4]},\n",
       " {'userId': 618, 'Recommendation': [1, 6, 2, 4, 5]},\n",
       " {'userId': 619, 'Recommendation': [6, 1, 7, 2, 5]},\n",
       " {'userId': 620, 'Recommendation': [1, 6, 2, 4, 5]},\n",
       " {'userId': 621, 'Recommendation': [1, 6, 2, 4, 5]},\n",
       " {'userId': 622, 'Recommendation': [6, 1, 7, 2, 5]},\n",
       " {'userId': 623, 'Recommendation': [7, 1, 6, 2, 19]},\n",
       " {'userId': 624, 'Recommendation': [6, 1, 7, 2, 5]},\n",
       " {'userId': 625, 'Recommendation': [6, 1, 7, 2, 5]},\n",
       " {'userId': 626, 'Recommendation': [6, 1, 7, 2, 5]},\n",
       " {'userId': 627, 'Recommendation': [6, 1, 7, 2, 5]},\n",
       " {'userId': 628, 'Recommendation': [7, 6, 1, 2, 12]},\n",
       " {'userId': 629, 'Recommendation': [6, 1, 2, 5, 7]},\n",
       " {'userId': 630, 'Recommendation': [6, 1, 7, 2, 5]},\n",
       " {'userId': 631, 'Recommendation': [6, 1, 7, 2, 5]},\n",
       " {'userId': 632, 'Recommendation': [1, 6, 2, 7, 4]},\n",
       " {'userId': 633, 'Recommendation': [6, 1, 7, 2, 5]},\n",
       " {'userId': 634, 'Recommendation': [1, 6, 2, 4, 5]},\n",
       " {'userId': 635, 'Recommendation': [1, 6, 4, 2, 5]},\n",
       " {'userId': 636, 'Recommendation': [6, 7, 1, 2, 5]},\n",
       " {'userId': 637, 'Recommendation': [1, 6, 2, 7, 4]},\n",
       " {'userId': 639, 'Recommendation': [6, 1, 7, 2, 5]},\n",
       " {'userId': 640, 'Recommendation': [6, 7, 1, 2, 4]},\n",
       " {'userId': 641, 'Recommendation': [6, 1, 7, 2, 5]},\n",
       " {'userId': 642, 'Recommendation': [6, 1, 7, 2, 5]},\n",
       " {'userId': 643, 'Recommendation': [7, 6, 1, 2, 19]},\n",
       " {'userId': 644, 'Recommendation': [6, 1, 7, 2, 5]},\n",
       " {'userId': 645, 'Recommendation': [6, 7, 1, 2, 5]},\n",
       " {'userId': 646, 'Recommendation': [1, 4, 6, 2, 5]},\n",
       " {'userId': 647, 'Recommendation': [6, 1, 7, 2, 5]},\n",
       " {'userId': 648, 'Recommendation': [6, 1, 7, 2, 5]},\n",
       " {'userId': 649, 'Recommendation': [11, 12, 7, 8, 2]},\n",
       " {'userId': 650, 'Recommendation': [7, 6, 1, 2, 19]},\n",
       " {'userId': 651, 'Recommendation': [1, 6, 2, 4, 5]},\n",
       " {'userId': 652, 'Recommendation': [6, 7, 1, 2, 4]},\n",
       " {'userId': 653, 'Recommendation': [7, 6, 1, 2, 19]},\n",
       " {'userId': 654, 'Recommendation': [6, 1, 7, 2, 5]},\n",
       " {'userId': 655, 'Recommendation': [6, 1, 7, 2, 5]},\n",
       " {'userId': 656, 'Recommendation': [1, 2, 4, 6, 5]},\n",
       " {'userId': 657, 'Recommendation': [6, 1, 7, 2, 5]},\n",
       " {'userId': 658, 'Recommendation': [6, 7, 1, 2, 5]},\n",
       " {'userId': 659, 'Recommendation': [1, 6, 2, 4, 5]},\n",
       " {'userId': 660, 'Recommendation': [6, 1, 7, 2, 5]},\n",
       " {'userId': 661, 'Recommendation': [6, 1, 7, 2, 5]},\n",
       " {'userId': 662, 'Recommendation': [2, 1, 4, 19, 5]},\n",
       " {'userId': 663, 'Recommendation': [1, 6, 4, 2, 5]},\n",
       " {'userId': 664, 'Recommendation': [6, 1, 7, 2, 5]},\n",
       " {'userId': 665, 'Recommendation': [1, 4, 2, 19, 5]},\n",
       " {'userId': 666, 'Recommendation': [1, 2, 4, 19, 5]},\n",
       " {'userId': 667, 'Recommendation': [6, 1, 7, 2, 5]},\n",
       " {'userId': 668, 'Recommendation': [6, 1, 7, 2, 5]},\n",
       " {'userId': 669, 'Recommendation': [1, 6, 2, 4, 5]},\n",
       " {'userId': 670, 'Recommendation': [6, 1, 7, 2, 5]},\n",
       " {'userId': 671, 'Recommendation': [1, 6, 2, 5, 4]},\n",
       " {'userId': 672, 'Recommendation': [1, 2, 6, 4, 5]},\n",
       " {'userId': 673, 'Recommendation': [1, 6, 2, 4, 5]},\n",
       " {'userId': 674, 'Recommendation': [6, 1, 7, 2, 5]},\n",
       " {'userId': 675, 'Recommendation': [1, 6, 2, 5, 4]},\n",
       " {'userId': 676, 'Recommendation': [6, 7, 1, 2, 5]},\n",
       " {'userId': 677, 'Recommendation': [12, 7, 15, 2, 11]},\n",
       " {'userId': 678, 'Recommendation': [1, 6, 2, 4, 5]},\n",
       " {'userId': 679, 'Recommendation': [6, 1, 7, 2, 4]},\n",
       " {'userId': 680, 'Recommendation': [6, 1, 7, 2, 5]},\n",
       " {'userId': 681, 'Recommendation': [6, 1, 7, 2, 5]},\n",
       " {'userId': 682, 'Recommendation': [6, 1, 7, 2, 5]},\n",
       " {'userId': 683, 'Recommendation': [6, 1, 7, 2, 5]},\n",
       " {'userId': 684, 'Recommendation': [1, 6, 2, 5, 4]},\n",
       " {'userId': 685, 'Recommendation': [10, 2, 19, 8, 1]},\n",
       " {'userId': 686, 'Recommendation': [1, 6, 2, 4, 5]},\n",
       " {'userId': 687, 'Recommendation': [1, 6, 4, 2, 5]},\n",
       " {'userId': 688, 'Recommendation': [1, 6, 2, 4, 5]},\n",
       " {'userId': 689, 'Recommendation': [1, 6, 2, 4, 5]},\n",
       " {'userId': 690, 'Recommendation': [6, 1, 7, 2, 5]},\n",
       " {'userId': 691, 'Recommendation': [6, 1, 7, 2, 5]},\n",
       " {'userId': 692, 'Recommendation': [6, 7, 1, 2, 5]},\n",
       " {'userId': 693, 'Recommendation': [1, 6, 2, 5, 4]},\n",
       " {'userId': 694, 'Recommendation': [6, 1, 7, 2, 5]},\n",
       " {'userId': 695, 'Recommendation': [6, 1, 7, 2, 5]},\n",
       " {'userId': 696, 'Recommendation': [2, 7, 1, 19, 6]},\n",
       " {'userId': 697, 'Recommendation': [6, 1, 7, 2, 5]},\n",
       " {'userId': 698, 'Recommendation': [6, 1, 7, 2, 5]},\n",
       " {'userId': 699, 'Recommendation': [6, 1, 7, 2, 5]},\n",
       " {'userId': 700, 'Recommendation': [1, 6, 4, 2, 5]},\n",
       " {'userId': 701, 'Recommendation': [6, 1, 7, 2, 5]},\n",
       " {'userId': 702, 'Recommendation': [1, 6, 2, 4, 5]},\n",
       " {'userId': 703, 'Recommendation': [6, 1, 7, 2, 5]},\n",
       " {'userId': 704, 'Recommendation': [7, 6, 1, 2, 12]},\n",
       " {'userId': 705, 'Recommendation': [1, 6, 4, 2, 5]},\n",
       " {'userId': 706, 'Recommendation': [12, 7, 15, 2, 6]},\n",
       " {'userId': 707, 'Recommendation': [6, 7, 1, 2, 5]},\n",
       " {'userId': 708, 'Recommendation': [1, 6, 2, 4, 5]},\n",
       " {'userId': 709, 'Recommendation': [1, 6, 2, 4, 5]},\n",
       " {'userId': 710, 'Recommendation': [6, 1, 7, 2, 5]},\n",
       " {'userId': 711, 'Recommendation': [2, 4, 19, 1, 16]},\n",
       " {'userId': 712, 'Recommendation': [6, 1, 7, 2, 5]},\n",
       " {'userId': 713, 'Recommendation': [1, 2, 4, 19, 5]},\n",
       " {'userId': 714, 'Recommendation': [2, 1, 4, 19, 5]},\n",
       " {'userId': 715, 'Recommendation': [6, 1, 7, 2, 5]},\n",
       " {'userId': 716, 'Recommendation': [6, 1, 7, 2, 5]},\n",
       " {'userId': 718, 'Recommendation': [6, 1, 2, 5, 7]},\n",
       " {'userId': 719, 'Recommendation': [2, 4, 19, 1, 5]},\n",
       " {'userId': 720, 'Recommendation': [6, 1, 7, 2, 5]},\n",
       " {'userId': 721, 'Recommendation': [1, 6, 4, 2, 5]},\n",
       " {'userId': 722, 'Recommendation': [6, 1, 7, 2, 5]},\n",
       " {'userId': 723, 'Recommendation': [12, 7, 15, 2, 11]},\n",
       " {'userId': 724, 'Recommendation': [7, 6, 1, 2, 12]},\n",
       " {'userId': 725, 'Recommendation': [1, 6, 2, 5, 4]},\n",
       " {'userId': 726, 'Recommendation': [6, 1, 7, 2, 5]},\n",
       " {'userId': 727, 'Recommendation': [6, 1, 7, 2, 5]},\n",
       " {'userId': 728, 'Recommendation': [6, 1, 7, 2, 5]},\n",
       " {'userId': 729, 'Recommendation': [6, 7, 1, 2, 4]},\n",
       " {'userId': 730, 'Recommendation': [6, 1, 7, 2, 5]},\n",
       " {'userId': 731, 'Recommendation': [6, 1, 7, 2, 5]},\n",
       " {'userId': 732, 'Recommendation': [1, 2, 4, 6, 5]},\n",
       " {'userId': 733, 'Recommendation': [1, 6, 4, 2, 5]},\n",
       " {'userId': 734, 'Recommendation': [2, 19, 4, 1, 16]},\n",
       " {'userId': 735, 'Recommendation': [1, 6, 4, 2, 5]},\n",
       " {'userId': 736, 'Recommendation': [6, 1, 7, 2, 5]},\n",
       " {'userId': 737, 'Recommendation': [6, 7, 1, 2, 5]},\n",
       " {'userId': 738, 'Recommendation': [6, 1, 7, 2, 5]},\n",
       " {'userId': 739, 'Recommendation': [6, 1, 7, 2, 4]},\n",
       " {'userId': 740, 'Recommendation': [6, 1, 7, 2, 5]},\n",
       " {'userId': 741, 'Recommendation': [6, 1, 7, 2, 4]},\n",
       " {'userId': 742, 'Recommendation': [1, 6, 2, 5, 4]},\n",
       " {'userId': 743, 'Recommendation': [6, 1, 7, 2, 5]},\n",
       " {'userId': 744, 'Recommendation': [1, 6, 2, 5, 4]},\n",
       " {'userId': 745, 'Recommendation': [12, 7, 2, 1, 19]},\n",
       " {'userId': 746, 'Recommendation': [6, 1, 7, 2, 5]},\n",
       " {'userId': 747, 'Recommendation': [1, 2, 6, 4, 5]},\n",
       " {'userId': 748, 'Recommendation': [1, 6, 4, 2, 5]},\n",
       " {'userId': 749, 'Recommendation': [6, 1, 7, 2, 5]},\n",
       " {'userId': 750, 'Recommendation': [6, 1, 7, 2, 5]},\n",
       " {'userId': 751, 'Recommendation': [1, 6, 2, 4, 5]},\n",
       " {'userId': 752, 'Recommendation': [6, 1, 2, 7, 5]},\n",
       " {'userId': 753, 'Recommendation': [6, 1, 7, 2, 5]},\n",
       " {'userId': 754, 'Recommendation': [6, 1, 7, 2, 5]},\n",
       " {'userId': 755, 'Recommendation': [7, 6, 1, 2, 12]},\n",
       " {'userId': 756, 'Recommendation': [6, 1, 7, 2, 5]},\n",
       " {'userId': 757, 'Recommendation': [6, 1, 7, 2, 5]},\n",
       " {'userId': 758, 'Recommendation': [6, 1, 7, 2, 5]},\n",
       " {'userId': 759, 'Recommendation': [6, 1, 7, 2, 5]},\n",
       " {'userId': 760, 'Recommendation': [1, 2, 4, 6, 5]},\n",
       " {'userId': 761, 'Recommendation': [6, 1, 7, 2, 5]},\n",
       " {'userId': 762, 'Recommendation': [6, 1, 7, 2, 5]},\n",
       " {'userId': 763, 'Recommendation': [1, 6, 4, 2, 5]},\n",
       " {'userId': 764, 'Recommendation': [6, 1, 7, 2, 5]},\n",
       " {'userId': 765, 'Recommendation': [6, 1, 7, 2, 5]},\n",
       " {'userId': 766, 'Recommendation': [1, 2, 6, 4, 5]},\n",
       " {'userId': 767, 'Recommendation': [1, 6, 4, 2, 5]},\n",
       " {'userId': 768, 'Recommendation': [1, 6, 4, 2, 5]},\n",
       " {'userId': 769, 'Recommendation': [7, 6, 1, 12, 2]},\n",
       " {'userId': 770, 'Recommendation': [6, 1, 7, 2, 5]},\n",
       " {'userId': 771, 'Recommendation': [6, 1, 7, 2, 5]},\n",
       " {'userId': 772, 'Recommendation': [1, 6, 2, 5, 4]},\n",
       " {'userId': 773, 'Recommendation': [6, 1, 7, 2, 5]},\n",
       " {'userId': 774, 'Recommendation': [1, 6, 2, 4, 5]},\n",
       " {'userId': 775, 'Recommendation': [6, 1, 7, 2, 5]},\n",
       " {'userId': 776, 'Recommendation': [1, 6, 4, 2, 5]},\n",
       " {'userId': 777, 'Recommendation': [6, 1, 7, 2, 5]},\n",
       " {'userId': 778, 'Recommendation': [1, 6, 4, 2, 5]},\n",
       " {'userId': 779, 'Recommendation': [1, 4, 2, 5, 19]},\n",
       " {'userId': 780, 'Recommendation': [6, 7, 1, 2, 4]},\n",
       " {'userId': 781, 'Recommendation': [6, 1, 7, 2, 5]},\n",
       " {'userId': 782, 'Recommendation': [12, 7, 2, 1, 19]},\n",
       " {'userId': 783, 'Recommendation': [6, 7, 1, 2, 4]},\n",
       " {'userId': 784, 'Recommendation': [6, 1, 7, 2, 5]},\n",
       " {'userId': 785, 'Recommendation': [7, 6, 1, 2, 12]},\n",
       " {'userId': 786, 'Recommendation': [6, 1, 7, 2, 5]},\n",
       " {'userId': 787, 'Recommendation': [1, 6, 4, 2, 5]},\n",
       " {'userId': 788, 'Recommendation': [6, 1, 7, 2, 5]},\n",
       " {'userId': 789, 'Recommendation': [1, 6, 2, 5, 4]},\n",
       " {'userId': 790, 'Recommendation': [6, 1, 7, 2, 5]},\n",
       " {'userId': 791, 'Recommendation': [1, 6, 2, 4, 5]},\n",
       " {'userId': 792, 'Recommendation': [6, 1, 7, 2, 4]},\n",
       " {'userId': 793, 'Recommendation': [1, 2, 6, 4, 5]},\n",
       " {'userId': 794, 'Recommendation': [6, 1, 7, 2, 5]},\n",
       " {'userId': 795, 'Recommendation': [6, 1, 7, 2, 5]},\n",
       " {'userId': 796, 'Recommendation': [1, 6, 7, 2, 4]},\n",
       " {'userId': 797, 'Recommendation': [6, 1, 7, 2, 5]},\n",
       " {'userId': 798, 'Recommendation': [6, 1, 7, 2, 5]},\n",
       " {'userId': 799, 'Recommendation': [6, 1, 7, 2, 5]},\n",
       " {'userId': 800, 'Recommendation': [2, 1, 4, 19, 5]},\n",
       " {'userId': 801, 'Recommendation': [1, 6, 4, 2, 5]},\n",
       " {'userId': 802, 'Recommendation': [6, 1, 7, 2, 5]},\n",
       " {'userId': 803, 'Recommendation': [6, 7, 1, 2, 5]},\n",
       " {'userId': 804, 'Recommendation': [1, 6, 4, 2, 5]},\n",
       " {'userId': 805, 'Recommendation': [1, 6, 4, 2, 5]},\n",
       " {'userId': 806, 'Recommendation': [1, 6, 2, 4, 5]},\n",
       " {'userId': 807, 'Recommendation': [2, 19, 16, 8, 4]},\n",
       " {'userId': 808, 'Recommendation': [6, 1, 7, 2, 5]},\n",
       " {'userId': 809, 'Recommendation': [1, 6, 2, 5, 4]},\n",
       " {'userId': 810, 'Recommendation': [6, 1, 7, 2, 5]},\n",
       " {'userId': 811, 'Recommendation': [1, 2, 4, 19, 5]},\n",
       " {'userId': 812, 'Recommendation': [1, 2, 4, 5, 19]},\n",
       " {'userId': 813, 'Recommendation': [6, 1, 7, 2, 5]},\n",
       " {'userId': 814, 'Recommendation': [19, 16, 2, 4, 8]},\n",
       " {'userId': 815, 'Recommendation': [1, 2, 4, 6, 19]},\n",
       " {'userId': 816, 'Recommendation': [6, 1, 7, 2, 5]},\n",
       " {'userId': 817, 'Recommendation': [7, 6, 1, 2, 12]},\n",
       " {'userId': 818, 'Recommendation': [1, 6, 2, 4, 5]},\n",
       " {'userId': 819, 'Recommendation': [6, 1, 7, 2, 5]},\n",
       " {'userId': 820, 'Recommendation': [6, 1, 7, 2, 5]},\n",
       " {'userId': 821, 'Recommendation': [2, 12, 8, 10, 19]},\n",
       " {'userId': 822, 'Recommendation': [6, 7, 1, 2, 4]},\n",
       " {'userId': 823, 'Recommendation': [1, 6, 4, 2, 5]},\n",
       " {'userId': 824, 'Recommendation': [6, 1, 7, 2, 5]},\n",
       " {'userId': 825, 'Recommendation': [2, 19, 16, 1, 4]},\n",
       " {'userId': 826, 'Recommendation': [6, 1, 2, 7, 5]},\n",
       " {'userId': 827, 'Recommendation': [6, 1, 7, 2, 5]},\n",
       " {'userId': 828, 'Recommendation': [2, 4, 1, 19, 8]},\n",
       " {'userId': 829, 'Recommendation': [1, 4, 2, 5, 6]},\n",
       " {'userId': 830, 'Recommendation': [6, 1, 7, 2, 5]},\n",
       " {'userId': 831, 'Recommendation': [7, 6, 1, 2, 19]},\n",
       " {'userId': 832, 'Recommendation': [1, 2, 4, 19, 6]},\n",
       " {'userId': 833, 'Recommendation': [1, 6, 2, 4, 5]},\n",
       " {'userId': 834, 'Recommendation': [6, 1, 7, 2, 5]},\n",
       " {'userId': 835, 'Recommendation': [6, 1, 7, 2, 5]},\n",
       " {'userId': 836, 'Recommendation': [7, 6, 1, 2, 12]},\n",
       " {'userId': 837, 'Recommendation': [6, 1, 7, 2, 5]},\n",
       " {'userId': 838, 'Recommendation': [6, 1, 7, 2, 5]},\n",
       " {'userId': 839, 'Recommendation': [1, 6, 2, 4, 5]},\n",
       " {'userId': 840, 'Recommendation': [6, 1, 7, 2, 5]},\n",
       " {'userId': 841, 'Recommendation': [6, 1, 7, 2, 5]},\n",
       " {'userId': 842, 'Recommendation': [6, 7, 1, 2, 4]},\n",
       " {'userId': 843, 'Recommendation': [1, 6, 4, 2, 5]},\n",
       " {'userId': 844, 'Recommendation': [6, 1, 7, 2, 5]},\n",
       " {'userId': 845, 'Recommendation': [1, 2, 4, 19, 6]},\n",
       " {'userId': 846, 'Recommendation': [1, 6, 2, 5, 4]},\n",
       " {'userId': 847, 'Recommendation': [6, 1, 7, 2, 4]},\n",
       " {'userId': 848, 'Recommendation': [1, 6, 2, 4, 5]},\n",
       " {'userId': 849, 'Recommendation': [6, 1, 7, 2, 4]},\n",
       " {'userId': 850, 'Recommendation': [1, 6, 2, 4, 5]},\n",
       " {'userId': 851, 'Recommendation': [1, 6, 2, 5, 4]},\n",
       " {'userId': 852, 'Recommendation': [1, 6, 4, 2, 5]},\n",
       " {'userId': 853, 'Recommendation': [6, 1, 7, 2, 5]},\n",
       " {'userId': 854, 'Recommendation': [1, 4, 2, 6, 5]},\n",
       " {'userId': 855, 'Recommendation': [1, 2, 4, 19, 5]},\n",
       " {'userId': 856, 'Recommendation': [6, 1, 7, 2, 5]},\n",
       " {'userId': 857, 'Recommendation': [6, 1, 7, 2, 5]},\n",
       " {'userId': 858, 'Recommendation': [1, 6, 4, 2, 5]},\n",
       " {'userId': 859, 'Recommendation': [1, 2, 4, 19, 6]},\n",
       " {'userId': 860, 'Recommendation': [1, 6, 4, 2, 5]},\n",
       " {'userId': 861, 'Recommendation': [7, 6, 1, 2, 19]},\n",
       " {'userId': 862, 'Recommendation': [11, 8, 20, 2, 19]},\n",
       " {'userId': 863, 'Recommendation': [6, 1, 7, 2, 5]},\n",
       " {'userId': 864, 'Recommendation': [7, 6, 1, 2, 19]},\n",
       " {'userId': 865, 'Recommendation': [1, 6, 2, 4, 5]},\n",
       " {'userId': 866, 'Recommendation': [7, 1, 6, 2, 12]},\n",
       " {'userId': 867, 'Recommendation': [1, 6, 4, 2, 5]},\n",
       " {'userId': 868, 'Recommendation': [7, 6, 1, 2, 19]},\n",
       " {'userId': 869, 'Recommendation': [6, 1, 2, 7, 5]},\n",
       " {'userId': 870, 'Recommendation': [6, 1, 7, 2, 5]},\n",
       " {'userId': 871, 'Recommendation': [6, 1, 7, 2, 5]},\n",
       " {'userId': 872, 'Recommendation': [6, 1, 7, 2, 5]},\n",
       " {'userId': 873, 'Recommendation': [6, 1, 7, 2, 5]},\n",
       " {'userId': 874, 'Recommendation': [6, 1, 7, 2, 5]},\n",
       " {'userId': 875, 'Recommendation': [1, 2, 4, 19, 6]},\n",
       " {'userId': 876, 'Recommendation': [1, 6, 4, 2, 5]},\n",
       " {'userId': 877, 'Recommendation': [15, 7, 12, 6, 2]},\n",
       " {'userId': 878, 'Recommendation': [6, 1, 7, 2, 5]},\n",
       " {'userId': 879, 'Recommendation': [1, 6, 4, 2, 5]},\n",
       " {'userId': 880, 'Recommendation': [6, 1, 7, 2, 5]},\n",
       " {'userId': 881, 'Recommendation': [12, 7, 15, 2, 11]},\n",
       " {'userId': 882, 'Recommendation': [6, 7, 1, 2, 5]},\n",
       " {'userId': 883, 'Recommendation': [6, 1, 7, 2, 5]},\n",
       " {'userId': 884, 'Recommendation': [2, 7, 19, 1, 16]},\n",
       " {'userId': 885, 'Recommendation': [1, 6, 2, 4, 5]},\n",
       " {'userId': 886, 'Recommendation': [1, 2, 4, 19, 5]},\n",
       " {'userId': 887, 'Recommendation': [1, 6, 2, 5, 4]},\n",
       " {'userId': 888, 'Recommendation': [6, 1, 7, 2, 5]},\n",
       " {'userId': 889, 'Recommendation': [1, 2, 4, 6, 5]},\n",
       " {'userId': 890, 'Recommendation': [6, 1, 2, 7, 5]},\n",
       " {'userId': 891, 'Recommendation': [6, 1, 7, 2, 5]},\n",
       " {'userId': 892, 'Recommendation': [6, 1, 7, 2, 5]},\n",
       " {'userId': 893, 'Recommendation': [1, 6, 2, 4, 7]},\n",
       " {'userId': 894, 'Recommendation': [1, 2, 4, 19, 5]},\n",
       " {'userId': 895, 'Recommendation': [6, 1, 7, 2, 5]},\n",
       " {'userId': 896, 'Recommendation': [6, 1, 2, 7, 5]},\n",
       " {'userId': 897, 'Recommendation': [6, 1, 7, 2, 5]},\n",
       " {'userId': 898, 'Recommendation': [1, 6, 4, 2, 5]},\n",
       " {'userId': 899, 'Recommendation': [6, 1, 7, 2, 5]},\n",
       " {'userId': 900, 'Recommendation': [1, 6, 4, 2, 5]},\n",
       " {'userId': 901, 'Recommendation': [1, 2, 6, 4, 5]},\n",
       " {'userId': 902, 'Recommendation': [1, 6, 2, 5, 4]},\n",
       " {'userId': 903, 'Recommendation': [6, 1, 7, 2, 5]},\n",
       " {'userId': 904, 'Recommendation': [6, 1, 7, 2, 5]},\n",
       " {'userId': 905, 'Recommendation': [1, 6, 4, 2, 5]},\n",
       " {'userId': 906, 'Recommendation': [1, 6, 2, 4, 5]},\n",
       " {'userId': 907, 'Recommendation': [6, 1, 7, 2, 5]},\n",
       " {'userId': 908, 'Recommendation': [6, 1, 7, 2, 5]},\n",
       " {'userId': 909, 'Recommendation': [1, 6, 2, 5, 4]},\n",
       " {'userId': 910, 'Recommendation': [6, 1, 7, 2, 4]},\n",
       " {'userId': 911, 'Recommendation': [6, 1, 7, 2, 5]},\n",
       " {'userId': 912, 'Recommendation': [6, 1, 7, 2, 5]},\n",
       " {'userId': 913, 'Recommendation': [6, 1, 7, 2, 5]},\n",
       " {'userId': 914, 'Recommendation': [1, 2, 6, 4, 19]},\n",
       " {'userId': 915, 'Recommendation': [7, 2, 1, 6, 12]},\n",
       " {'userId': 916, 'Recommendation': [1, 6, 2, 4, 5]},\n",
       " {'userId': 917, 'Recommendation': [6, 1, 7, 2, 4]},\n",
       " {'userId': 918, 'Recommendation': [7, 6, 1, 2, 19]},\n",
       " {'userId': 919, 'Recommendation': [6, 1, 7, 2, 5]},\n",
       " {'userId': 920, 'Recommendation': [2, 19, 1, 4, 16]},\n",
       " {'userId': 921, 'Recommendation': [6, 1, 7, 2, 5]},\n",
       " {'userId': 922, 'Recommendation': [1, 6, 4, 2, 5]},\n",
       " {'userId': 923, 'Recommendation': [6, 1, 7, 2, 5]},\n",
       " {'userId': 924, 'Recommendation': [6, 1, 7, 2, 5]},\n",
       " {'userId': 925, 'Recommendation': [6, 7, 1, 2, 4]},\n",
       " {'userId': 926, 'Recommendation': [1, 6, 4, 2, 5]},\n",
       " {'userId': 927, 'Recommendation': [1, 6, 4, 5, 2]},\n",
       " {'userId': 928, 'Recommendation': [6, 1, 7, 2, 5]},\n",
       " {'userId': 929, 'Recommendation': [2, 1, 4, 19, 5]},\n",
       " {'userId': 930, 'Recommendation': [6, 1, 7, 2, 5]},\n",
       " {'userId': 931, 'Recommendation': [2, 1, 19, 4, 5]},\n",
       " {'userId': 932, 'Recommendation': [6, 1, 2, 7, 5]},\n",
       " {'userId': 933, 'Recommendation': [1, 6, 2, 4, 5]},\n",
       " {'userId': 934, 'Recommendation': [6, 1, 7, 2, 4]},\n",
       " {'userId': 935, 'Recommendation': [1, 6, 4, 2, 5]},\n",
       " {'userId': 936, 'Recommendation': [1, 6, 4, 2, 5]},\n",
       " {'userId': 937, 'Recommendation': [6, 1, 7, 2, 5]},\n",
       " {'userId': 938, 'Recommendation': [1, 6, 4, 2, 5]},\n",
       " {'userId': 939, 'Recommendation': [6, 1, 7, 2, 5]},\n",
       " {'userId': 940, 'Recommendation': [1, 6, 4, 2, 5]},\n",
       " {'userId': 941, 'Recommendation': [6, 1, 7, 2, 5]},\n",
       " {'userId': 942, 'Recommendation': [6, 1, 7, 2, 5]},\n",
       " {'userId': 943, 'Recommendation': [6, 1, 2, 7, 5]},\n",
       " {'userId': 944, 'Recommendation': [1, 6, 4, 2, 5]},\n",
       " {'userId': 945, 'Recommendation': [7, 6, 1, 2, 12]},\n",
       " {'userId': 946, 'Recommendation': [6, 1, 7, 2, 5]},\n",
       " {'userId': 947, 'Recommendation': [6, 1, 7, 2, 5]},\n",
       " {'userId': 948, 'Recommendation': [7, 6, 1, 2, 19]},\n",
       " {'userId': 949, 'Recommendation': [1, 6, 4, 2, 5]},\n",
       " {'userId': 950, 'Recommendation': [6, 1, 7, 2, 4]},\n",
       " {'userId': 951, 'Recommendation': [6, 1, 7, 2, 5]},\n",
       " {'userId': 952, 'Recommendation': [6, 1, 7, 2, 5]},\n",
       " {'userId': 953, 'Recommendation': [6, 1, 7, 2, 5]},\n",
       " {'userId': 954, 'Recommendation': [6, 1, 7, 2, 5]},\n",
       " {'userId': 955, 'Recommendation': [1, 6, 2, 4, 5]},\n",
       " {'userId': 956, 'Recommendation': [1, 6, 2, 4, 5]},\n",
       " {'userId': 957, 'Recommendation': [6, 1, 7, 2, 5]},\n",
       " {'userId': 958, 'Recommendation': [6, 1, 7, 2, 5]},\n",
       " {'userId': 959, 'Recommendation': [7, 6, 1, 2, 12]},\n",
       " {'userId': 960, 'Recommendation': [6, 1, 7, 2, 5]},\n",
       " {'userId': 961, 'Recommendation': [7, 6, 1, 2, 12]},\n",
       " {'userId': 962, 'Recommendation': [6, 1, 7, 2, 5]},\n",
       " {'userId': 963, 'Recommendation': [6, 7, 1, 2, 5]},\n",
       " {'userId': 964, 'Recommendation': [6, 1, 7, 2, 5]},\n",
       " {'userId': 965, 'Recommendation': [6, 1, 7, 2, 5]},\n",
       " {'userId': 966, 'Recommendation': [7, 6, 1, 2, 19]},\n",
       " {'userId': 967, 'Recommendation': [1, 6, 7, 2, 4]},\n",
       " {'userId': 968, 'Recommendation': [1, 6, 4, 2, 5]},\n",
       " {'userId': 969, 'Recommendation': [6, 1, 2, 7, 5]},\n",
       " {'userId': 970, 'Recommendation': [6, 1, 7, 2, 5]},\n",
       " {'userId': 971, 'Recommendation': [6, 1, 7, 2, 5]},\n",
       " {'userId': 972, 'Recommendation': [1, 2, 6, 4, 19]},\n",
       " {'userId': 973, 'Recommendation': [1, 6, 4, 2, 5]},\n",
       " {'userId': 974, 'Recommendation': [7, 6, 1, 2, 12]},\n",
       " {'userId': 975, 'Recommendation': [6, 1, 7, 2, 5]},\n",
       " {'userId': 976, 'Recommendation': [6, 1, 7, 2, 5]},\n",
       " {'userId': 977, 'Recommendation': [12, 7, 15, 6, 2]},\n",
       " {'userId': 978, 'Recommendation': [1, 6, 4, 2, 5]},\n",
       " {'userId': 979, 'Recommendation': [6, 1, 7, 2, 5]},\n",
       " {'userId': 980, 'Recommendation': [1, 6, 4, 2, 5]},\n",
       " {'userId': 981, 'Recommendation': [6, 1, 7, 2, 5]},\n",
       " {'userId': 982, 'Recommendation': [6, 1, 7, 2, 5]},\n",
       " {'userId': 983, 'Recommendation': [6, 1, 7, 2, 5]},\n",
       " {'userId': 984, 'Recommendation': [6, 1, 7, 2, 5]},\n",
       " {'userId': 985, 'Recommendation': [6, 1, 7, 2, 5]},\n",
       " {'userId': 986, 'Recommendation': [6, 1, 7, 2, 5]},\n",
       " {'userId': 987, 'Recommendation': [6, 1, 7, 2, 5]},\n",
       " {'userId': 988, 'Recommendation': [2, 19, 4, 1, 16]},\n",
       " {'userId': 989, 'Recommendation': [1, 2, 6, 4, 5]},\n",
       " {'userId': 990, 'Recommendation': [1, 6, 4, 2, 5]},\n",
       " {'userId': 991, 'Recommendation': [15, 7, 12, 6, 2]},\n",
       " {'userId': 992, 'Recommendation': [6, 1, 7, 2, 5]},\n",
       " {'userId': 993, 'Recommendation': [6, 1, 7, 2, 5]},\n",
       " {'userId': 994, 'Recommendation': [1, 6, 2, 4, 5]},\n",
       " {'userId': 995, 'Recommendation': [1, 2, 4, 5, 6]},\n",
       " {'userId': 996, 'Recommendation': [2, 1, 4, 19, 5]},\n",
       " {'userId': 997, 'Recommendation': [1, 6, 7, 2, 4]},\n",
       " {'userId': 998, 'Recommendation': [15, 7, 12, 6, 2]},\n",
       " {'userId': 999, 'Recommendation': [6, 1, 7, 2, 4]},\n",
       " {'userId': 1000, 'Recommendation': [1, 6, 4, 2, 5]},\n",
       " {'userId': 1001, 'Recommendation': [6, 1, 7, 2, 5]},\n",
       " {'userId': 1002, 'Recommendation': [1, 6, 2, 4, 5]},\n",
       " ...]"
      ]
     },
     "execution_count": 161,
     "metadata": {},
     "output_type": "execute_result"
    }
   ],
   "source": [
    "top_n_recommendations"
   ]
  },
  {
   "cell_type": "code",
   "execution_count": 162,
   "id": "7fac40ed-13e9-471a-866d-00f27eefe5ae",
   "metadata": {
    "id": "7fac40ed-13e9-471a-866d-00f27eefe5ae"
   },
   "outputs": [],
   "source": [
    "Actual_loans_taken =  dict_lopo"
   ]
  },
  {
   "cell_type": "code",
   "execution_count": 163,
   "id": "9865826d-f3c1-46ba-8c55-5a6fa58bcf70",
   "metadata": {
    "id": "9865826d-f3c1-46ba-8c55-5a6fa58bcf70"
   },
   "outputs": [],
   "source": [
    "# Function to recommend top N loans not taken by the user\n",
    "def recommend_loans_not_taken(user_id, recommendations, actual_loans_taken, top_n):\n",
    "    taken_loans = set(actual_loans_taken.get(user_id, []))\n",
    "    recommended_loans = []\n",
    "    for rec in recommendations:\n",
    "        loan_id = list(rec.keys())[0]\n",
    "        if loan_id not in taken_loans:\n",
    "            recommended_loans.append(loan_id)\n",
    "            if len(recommended_loans) == top_n:\n",
    "                break\n",
    "    return recommended_loans\n",
    "\n",
    "# Define a dictionary to store actual loans taken by each user\n",
    "actual_loans_taken_dict = {record['userId']: record['loans'] for record in Actual_loans_taken}\n",
    "\n",
    "# Create a list to store recommendations for each user\n",
    "recommendations_for_users = []\n",
    "\n",
    "# Iterate over each user\n",
    "for rec_user in CosineSilty_first10:\n",
    "    user_id = rec_user['UserId']\n",
    "    recommendations = rec_user['Recommendation']\n",
    "    # Recommend top N loans not taken by the user\n",
    "    recommended_loans = recommend_loans_not_taken(user_id, recommendations, actual_loans_taken_dict, top_n=5)\n",
    "    recommendations_for_users.append({'UserId': user_id, 'Recommendations': recommended_loans})\n",
    "\n"
   ]
  },
  {
   "cell_type": "markdown",
   "id": "f37aa796-bc53-4cfd-a06f-7d7cf4c50d5c",
   "metadata": {
    "id": "f37aa796-bc53-4cfd-a06f-7d7cf4c50d5c"
   },
   "source": [
    "##  Calculate centered cosine similarity:"
   ]
  },
  {
   "cell_type": "code",
   "execution_count": 167,
   "id": "276d4b2a-9d94-40cb-a7f1-2aeb64938ffc",
   "metadata": {
    "id": "276d4b2a-9d94-40cb-a7f1-2aeb64938ffc"
   },
   "outputs": [],
   "source": [
    "def centered_cosine_similarity(u, v):\n",
    "    \"\"\" Calculate centered cosine similarity between two vectors u and v. \"\"\"\n",
    "    # Calculate mean of u and v\n",
    "    mean_u = sum(u) / len(u)\n",
    "    mean_v = sum(v) / len(v)\n",
    "\n",
    "    # Subtract mean from u and v\n",
    "    centered_u = Vectors.dense([x - mean_u for x in u])\n",
    "    centered_v = Vectors.dense([x - mean_v for x in v])\n",
    "\n",
    "    # Calculate centered cosine similarity\n",
    "    dot_product = float(centered_u.dot(centered_v))\n",
    "    norm_u = float(centered_u.norm(2))\n",
    "    norm_v = float(centered_v.norm(2))\n",
    "\n",
    "    centered_sim = dot_product / (norm_u * norm_v)\n",
    "    return centered_sim\n"
   ]
  },
  {
   "cell_type": "markdown",
   "id": "19afff63-8654-410f-b0e1-3579c0dbaf90",
   "metadata": {
    "id": "19afff63-8654-410f-b0e1-3579c0dbaf90"
   },
   "source": [
    "### User-User Centerd Cosine Similarity code"
   ]
  },
  {
   "cell_type": "code",
   "execution_count": 168,
   "id": "a32fbefc-c5b8-4cd0-be5e-8caf9a7a43c5",
   "metadata": {
    "colab": {
     "base_uri": "https://localhost:8080/"
    },
    "id": "a32fbefc-c5b8-4cd0-be5e-8caf9a7a43c5",
    "outputId": "641b5329-1f9f-482e-ec3e-ee687aca0934"
   },
   "outputs": [
    {
     "name": "stdout",
     "output_type": "stream",
     "text": [
      "Centered Cosine similarity between users 10 and 20: 0.9999402403372109\n"
     ]
    }
   ],
   "source": [
    "# Example usage\n",
    "user1_id = 10\n",
    "user2_id = 20\n",
    "user1_factors = userFactors.filter(userFactors.id == user1_id ).collect()[0][1]\n",
    "user2_factors = userFactors.filter(userFactors.id == user2_id ).collect()[0][1]\n",
    "similarity = centered_cosine_similarity(user1_factors, user2_factors)\n",
    "print(f\"Centered Cosine similarity between users {user1_id} and {user2_id}: {similarity}\")\n"
   ]
  },
  {
   "cell_type": "markdown",
   "id": "af032ead-97f1-49fb-b084-2e49794a33d6",
   "metadata": {
    "id": "af032ead-97f1-49fb-b084-2e49794a33d6"
   },
   "source": [
    "### User-Item Centerd Cosine Similarity code"
   ]
  },
  {
   "cell_type": "code",
   "execution_count": 169,
   "id": "44d9be35-49c5-4127-9c43-75fb2c98cbe7",
   "metadata": {
    "colab": {
     "base_uri": "https://localhost:8080/"
    },
    "id": "44d9be35-49c5-4127-9c43-75fb2c98cbe7",
    "outputId": "0b836551-00b9-4c11-9b1e-6c48494a5a6f"
   },
   "outputs": [
    {
     "name": "stdout",
     "output_type": "stream",
     "text": [
      "Centered Cosine similarity between users 10 and Item 1: 0.999919030089421\n"
     ]
    }
   ],
   "source": [
    "# Example usage\n",
    "user1_id = 10\n",
    "item_id = 1\n",
    "user2_factors = userFactors.filter(userFactors.id == user1_id ).collect()[0][1]\n",
    "item3_factors = itemFactors.filter(itemFactors.id == item_id ).collect()[0][1]\n",
    "\n",
    "user_item_similarity = centered_cosine_similarity(user2_factors, item3_factors)\n",
    "print(f\"Centered Cosine similarity between users {user1_id} and Item {item_id}: {user_item_similarity}\")\n"
   ]
  },
  {
   "cell_type": "markdown",
   "id": "371d1ad2-6233-42fa-9162-faa06c8809d2",
   "metadata": {
    "id": "371d1ad2-6233-42fa-9162-faa06c8809d2"
   },
   "source": [
    "### Cosine Similarity of user 10 with all Loans"
   ]
  },
  {
   "cell_type": "code",
   "execution_count": 170,
   "id": "45b22d6b-9553-4b4f-a3b5-80751b15a360",
   "metadata": {
    "id": "45b22d6b-9553-4b4f-a3b5-80751b15a360"
   },
   "outputs": [],
   "source": [
    "topNLoanforuser10 = []\n",
    "for item in range(itemFactors.count()):\n",
    "    item_id = itemFactors.select(\"Id\").sort(\"Id\").take(itemFactors.count())[item][0]\n",
    "    user1_id = 10\n",
    "    user_factors = userFactors.filter(userFactors.id == user1_id ).collect()[0][1]\n",
    "    item_factors = itemFactors.filter(itemFactors.id == item_id ).collect()[0][1]\n",
    "\n",
    "\n",
    "    user_item_similarity = centered_cosine_similarity(user_factors, item_factors)\n",
    "    topNLoanforuser10.append({\"userID\":user1_id,\"LoanId\":item_id,\"CenteredSimilarity\":user_item_similarity})"
   ]
  },
  {
   "cell_type": "code",
   "execution_count": 170,
   "id": "e34d3003-bf4b-464c-8da7-b34a75136698",
   "metadata": {
    "id": "e34d3003-bf4b-464c-8da7-b34a75136698"
   },
   "outputs": [],
   "source": []
  },
  {
   "cell_type": "code",
   "execution_count": 171,
   "id": "43fcd076-13d2-4667-b7ad-ffd8dc9ae04d",
   "metadata": {
    "colab": {
     "base_uri": "https://localhost:8080/"
    },
    "id": "43fcd076-13d2-4667-b7ad-ffd8dc9ae04d",
    "outputId": "ce4150cd-d676-47a9-eab9-144a306f6190"
   },
   "outputs": [
    {
     "data": {
      "text/plain": [
       "[{'userID': 10, 'LoanId': 6, 'CenteredSimilarity': 0.9999402406065981},\n",
       " {'userID': 10, 'LoanId': 1, 'CenteredSimilarity': 0.999919030089421},\n",
       " {'userID': 10, 'LoanId': 2, 'CenteredSimilarity': 0.9994108968476482},\n",
       " {'userID': 10, 'LoanId': 4, 'CenteredSimilarity': 0.9993263821998536},\n",
       " {'userID': 10, 'LoanId': 5, 'CenteredSimilarity': 0.9992980136547397},\n",
       " {'userID': 10, 'LoanId': 7, 'CenteredSimilarity': 0.9992872489158106},\n",
       " {'userID': 10, 'LoanId': 19, 'CenteredSimilarity': 0.9990274659611021},\n",
       " {'userID': 10, 'LoanId': 10, 'CenteredSimilarity': 0.9989727778694254},\n",
       " {'userID': 10, 'LoanId': 16, 'CenteredSimilarity': 0.9984485690104313},\n",
       " {'userID': 10, 'LoanId': 18, 'CenteredSimilarity': 0.9978390597058722},\n",
       " {'userID': 10, 'LoanId': 8, 'CenteredSimilarity': 0.9977784354822424},\n",
       " {'userID': 10, 'LoanId': 12, 'CenteredSimilarity': 0.997642615833819},\n",
       " {'userID': 10, 'LoanId': 11, 'CenteredSimilarity': 0.9964039818046083},\n",
       " {'userID': 10, 'LoanId': 15, 'CenteredSimilarity': 0.994473900800916},\n",
       " {'userID': 10, 'LoanId': 20, 'CenteredSimilarity': 0.9940711243108249},\n",
       " {'userID': 10, 'LoanId': 14, 'CenteredSimilarity': 0.8410442571752144},\n",
       " {'userID': 10, 'LoanId': 3, 'CenteredSimilarity': 0.6387085505479762},\n",
       " {'userID': 10, 'LoanId': 9, 'CenteredSimilarity': 0.5918840137673157},\n",
       " {'userID': 10, 'LoanId': 17, 'CenteredSimilarity': 0.517328747924687},\n",
       " {'userID': 10, 'LoanId': 13, 'CenteredSimilarity': 0.21176130804642346}]"
      ]
     },
     "execution_count": 171,
     "metadata": {},
     "output_type": "execute_result"
    }
   ],
   "source": [
    "sorted_list = sorted(topNLoanforuser10, key=operator.itemgetter('CenteredSimilarity'),reverse=True)\n",
    "sorted_list"
   ]
  },
  {
   "cell_type": "code",
   "execution_count": 172,
   "id": "4208959e-85a9-4a9c-a0cb-be5b661f121a",
   "metadata": {
    "colab": {
     "base_uri": "https://localhost:8080/"
    },
    "id": "4208959e-85a9-4a9c-a0cb-be5b661f121a",
    "outputId": "24d6b2a5-11ae-4519-b003-483a5753b1b6"
   },
   "outputs": [
    {
     "data": {
      "text/plain": [
       "[{'userID': 10, 'LoanId': 1, 'CenteredSimilarity': 0.999919030089421},\n",
       " {'userID': 10, 'LoanId': 2, 'CenteredSimilarity': 0.9994108968476482},\n",
       " {'userID': 10, 'LoanId': 3, 'CenteredSimilarity': 0.6387085505479762},\n",
       " {'userID': 10, 'LoanId': 4, 'CenteredSimilarity': 0.9993263821998536},\n",
       " {'userID': 10, 'LoanId': 5, 'CenteredSimilarity': 0.9992980136547397},\n",
       " {'userID': 10, 'LoanId': 6, 'CenteredSimilarity': 0.9999402406065981},\n",
       " {'userID': 10, 'LoanId': 7, 'CenteredSimilarity': 0.9992872489158106},\n",
       " {'userID': 10, 'LoanId': 8, 'CenteredSimilarity': 0.9977784354822424},\n",
       " {'userID': 10, 'LoanId': 9, 'CenteredSimilarity': 0.5918840137673157},\n",
       " {'userID': 10, 'LoanId': 10, 'CenteredSimilarity': 0.9989727778694254},\n",
       " {'userID': 10, 'LoanId': 11, 'CenteredSimilarity': 0.9964039818046083},\n",
       " {'userID': 10, 'LoanId': 12, 'CenteredSimilarity': 0.997642615833819},\n",
       " {'userID': 10, 'LoanId': 13, 'CenteredSimilarity': 0.21176130804642346},\n",
       " {'userID': 10, 'LoanId': 14, 'CenteredSimilarity': 0.8410442571752144},\n",
       " {'userID': 10, 'LoanId': 15, 'CenteredSimilarity': 0.994473900800916},\n",
       " {'userID': 10, 'LoanId': 16, 'CenteredSimilarity': 0.9984485690104313},\n",
       " {'userID': 10, 'LoanId': 17, 'CenteredSimilarity': 0.517328747924687},\n",
       " {'userID': 10, 'LoanId': 18, 'CenteredSimilarity': 0.9978390597058722},\n",
       " {'userID': 10, 'LoanId': 19, 'CenteredSimilarity': 0.9990274659611021},\n",
       " {'userID': 10, 'LoanId': 20, 'CenteredSimilarity': 0.9940711243108249}]"
      ]
     },
     "execution_count": 172,
     "metadata": {},
     "output_type": "execute_result"
    }
   ],
   "source": [
    "sorted(topNLoanforuser10, key=operator.itemgetter('LoanId') )"
   ]
  },
  {
   "cell_type": "code",
   "execution_count": null,
   "id": "bda9c1f5-25a0-42a2-acd6-073eb86e466f",
   "metadata": {
    "id": "bda9c1f5-25a0-42a2-acd6-073eb86e466f"
   },
   "outputs": [],
   "source": []
  },
  {
   "cell_type": "code",
   "execution_count": null,
   "id": "339cd31c-5804-4f05-a949-2de67919deff",
   "metadata": {
    "id": "339cd31c-5804-4f05-a949-2de67919deff"
   },
   "outputs": [],
   "source": []
  },
  {
   "cell_type": "code",
   "execution_count": null,
   "id": "5007cece-0b3b-4079-9e03-27b1d15032c9",
   "metadata": {
    "id": "5007cece-0b3b-4079-9e03-27b1d15032c9"
   },
   "outputs": [],
   "source": []
  },
  {
   "cell_type": "code",
   "execution_count": null,
   "id": "3d642ef8-ec11-4194-a4f7-1184fcd3e536",
   "metadata": {
    "id": "3d642ef8-ec11-4194-a4f7-1184fcd3e536"
   },
   "outputs": [],
   "source": []
  },
  {
   "cell_type": "code",
   "execution_count": null,
   "id": "4c06228d-a082-4a3b-9e3f-feee5a68cf8d",
   "metadata": {
    "id": "4c06228d-a082-4a3b-9e3f-feee5a68cf8d"
   },
   "outputs": [],
   "source": []
  },
  {
   "cell_type": "code",
   "execution_count": null,
   "id": "ed0ef5dc-e915-4f8e-b865-b1746bf5f087",
   "metadata": {
    "id": "ed0ef5dc-e915-4f8e-b865-b1746bf5f087"
   },
   "outputs": [],
   "source": []
  },
  {
   "cell_type": "code",
   "execution_count": null,
   "id": "c4547435-9941-4520-9b28-8ff839ae7ed3",
   "metadata": {
    "id": "c4547435-9941-4520-9b28-8ff839ae7ed3"
   },
   "outputs": [],
   "source": []
  },
  {
   "cell_type": "code",
   "execution_count": null,
   "id": "d11d5c2c-3baf-4b7b-8ef9-de0f952243b8",
   "metadata": {
    "id": "d11d5c2c-3baf-4b7b-8ef9-de0f952243b8"
   },
   "outputs": [],
   "source": []
  },
  {
   "cell_type": "code",
   "execution_count": null,
   "id": "7c6af000-b911-435a-8696-9633218b5770",
   "metadata": {
    "id": "7c6af000-b911-435a-8696-9633218b5770"
   },
   "outputs": [],
   "source": []
  },
  {
   "cell_type": "code",
   "execution_count": null,
   "id": "63416651-664b-403e-9596-9e66b2393fb0",
   "metadata": {
    "id": "63416651-664b-403e-9596-9e66b2393fb0"
   },
   "outputs": [],
   "source": []
  },
  {
   "cell_type": "code",
   "execution_count": null,
   "id": "c68c5e5d-e5ac-4508-a423-3e330cb8f111",
   "metadata": {
    "id": "c68c5e5d-e5ac-4508-a423-3e330cb8f111"
   },
   "outputs": [],
   "source": []
  },
  {
   "cell_type": "code",
   "execution_count": null,
   "id": "256e7129-1d41-4c83-a8fe-35b3096769c5",
   "metadata": {
    "id": "256e7129-1d41-4c83-a8fe-35b3096769c5"
   },
   "outputs": [],
   "source": []
  },
  {
   "cell_type": "code",
   "execution_count": null,
   "id": "bd030929-f4a4-4c3c-92c5-3fb9927288d0",
   "metadata": {
    "id": "bd030929-f4a4-4c3c-92c5-3fb9927288d0"
   },
   "outputs": [],
   "source": []
  },
  {
   "cell_type": "code",
   "execution_count": null,
   "id": "d3357146-82d1-43df-866e-f1f793b5d5f7",
   "metadata": {
    "id": "d3357146-82d1-43df-866e-f1f793b5d5f7"
   },
   "outputs": [],
   "source": []
  },
  {
   "cell_type": "code",
   "execution_count": null,
   "id": "e91e388e-5cad-4204-ad5d-d135cdfc481a",
   "metadata": {
    "id": "e91e388e-5cad-4204-ad5d-d135cdfc481a"
   },
   "outputs": [],
   "source": []
  },
  {
   "cell_type": "code",
   "execution_count": null,
   "id": "ba3d5312-52ec-474a-9d94-2c6c7c1e50e8",
   "metadata": {
    "id": "ba3d5312-52ec-474a-9d94-2c6c7c1e50e8"
   },
   "outputs": [],
   "source": []
  },
  {
   "cell_type": "code",
   "execution_count": null,
   "id": "c944b550-9463-441a-9e25-9018e50567c5",
   "metadata": {
    "id": "c944b550-9463-441a-9e25-9018e50567c5"
   },
   "outputs": [],
   "source": []
  },
  {
   "cell_type": "code",
   "execution_count": null,
   "id": "7ec2edd5-0e51-4c5f-834e-8d55dbdc7b71",
   "metadata": {
    "id": "7ec2edd5-0e51-4c5f-834e-8d55dbdc7b71"
   },
   "outputs": [],
   "source": []
  },
  {
   "cell_type": "code",
   "execution_count": null,
   "id": "5717f72b-7997-42c5-8832-bfd3f5e40e4c",
   "metadata": {
    "id": "5717f72b-7997-42c5-8832-bfd3f5e40e4c"
   },
   "outputs": [],
   "source": []
  },
  {
   "cell_type": "code",
   "execution_count": null,
   "id": "036d5eea-a979-4bd6-ab7b-c276c3f51380",
   "metadata": {
    "id": "036d5eea-a979-4bd6-ab7b-c276c3f51380"
   },
   "outputs": [],
   "source": []
  },
  {
   "cell_type": "code",
   "execution_count": null,
   "id": "5f5e4e30-3372-425d-9d1d-c71cf1f10873",
   "metadata": {
    "id": "5f5e4e30-3372-425d-9d1d-c71cf1f10873"
   },
   "outputs": [],
   "source": []
  },
  {
   "cell_type": "code",
   "execution_count": null,
   "id": "abbe1e09-23b1-460f-a365-240ded79997e",
   "metadata": {
    "id": "abbe1e09-23b1-460f-a365-240ded79997e"
   },
   "outputs": [],
   "source": []
  },
  {
   "cell_type": "code",
   "execution_count": null,
   "id": "7b1fa6c2-9d42-4d95-afbe-4f98ecaa34a6",
   "metadata": {
    "id": "7b1fa6c2-9d42-4d95-afbe-4f98ecaa34a6"
   },
   "outputs": [],
   "source": []
  },
  {
   "cell_type": "code",
   "execution_count": null,
   "id": "5d54c7f1-d510-44bb-b43f-aca4d69bf48c",
   "metadata": {
    "id": "5d54c7f1-d510-44bb-b43f-aca4d69bf48c"
   },
   "outputs": [],
   "source": []
  },
  {
   "cell_type": "code",
   "execution_count": null,
   "id": "28f4c194-45a6-454a-a425-04b70cce6b4b",
   "metadata": {
    "id": "28f4c194-45a6-454a-a425-04b70cce6b4b"
   },
   "outputs": [],
   "source": []
  },
  {
   "cell_type": "code",
   "execution_count": null,
   "id": "6d03f14c-5673-441f-9fb5-3914644d1ae3",
   "metadata": {
    "id": "6d03f14c-5673-441f-9fb5-3914644d1ae3"
   },
   "outputs": [],
   "source": []
  },
  {
   "cell_type": "code",
   "execution_count": null,
   "id": "278c1b14-281f-4cbc-95e8-27f68fd40a4a",
   "metadata": {
    "id": "278c1b14-281f-4cbc-95e8-27f68fd40a4a"
   },
   "outputs": [],
   "source": []
  },
  {
   "cell_type": "code",
   "execution_count": null,
   "id": "e618922a-344e-4fb1-b2e2-88de635c969e",
   "metadata": {
    "id": "e618922a-344e-4fb1-b2e2-88de635c969e"
   },
   "outputs": [],
   "source": []
  },
  {
   "cell_type": "code",
   "execution_count": null,
   "id": "3421dd79-d437-4c41-bc4f-cdf05411e089",
   "metadata": {
    "id": "3421dd79-d437-4c41-bc4f-cdf05411e089"
   },
   "outputs": [],
   "source": []
  },
  {
   "cell_type": "code",
   "execution_count": null,
   "id": "e28c76af-7617-4f97-b041-e109469ad3eb",
   "metadata": {
    "id": "e28c76af-7617-4f97-b041-e109469ad3eb"
   },
   "outputs": [],
   "source": []
  },
  {
   "cell_type": "code",
   "execution_count": null,
   "id": "c829b7f0-0e63-46bb-bf15-dcec978badf9",
   "metadata": {
    "id": "c829b7f0-0e63-46bb-bf15-dcec978badf9"
   },
   "outputs": [],
   "source": []
  },
  {
   "cell_type": "code",
   "execution_count": null,
   "id": "f9ea209a-1981-46b5-9a5f-f161bc16ff73",
   "metadata": {
    "id": "f9ea209a-1981-46b5-9a5f-f161bc16ff73"
   },
   "outputs": [],
   "source": []
  },
  {
   "cell_type": "code",
   "execution_count": null,
   "id": "2c404be4-aab7-4dfd-8711-5acb10d6fb44",
   "metadata": {
    "id": "2c404be4-aab7-4dfd-8711-5acb10d6fb44"
   },
   "outputs": [],
   "source": []
  },
  {
   "cell_type": "code",
   "execution_count": null,
   "id": "52d77289-2856-4fde-bf75-270d73bdadb7",
   "metadata": {
    "id": "52d77289-2856-4fde-bf75-270d73bdadb7"
   },
   "outputs": [],
   "source": []
  },
  {
   "cell_type": "code",
   "execution_count": null,
   "id": "69ebb281-b9df-4c56-bbc5-a13c4ce7fa3d",
   "metadata": {
    "id": "69ebb281-b9df-4c56-bbc5-a13c4ce7fa3d"
   },
   "outputs": [],
   "source": []
  },
  {
   "cell_type": "code",
   "execution_count": null,
   "id": "3c8e36af-6f95-4836-9fa2-4255f0e8c996",
   "metadata": {
    "id": "3c8e36af-6f95-4836-9fa2-4255f0e8c996"
   },
   "outputs": [],
   "source": []
  },
  {
   "cell_type": "code",
   "execution_count": null,
   "id": "c5cea054-a7e3-475e-9496-625fa922e6ac",
   "metadata": {
    "id": "c5cea054-a7e3-475e-9496-625fa922e6ac"
   },
   "outputs": [],
   "source": []
  },
  {
   "cell_type": "code",
   "execution_count": null,
   "id": "9551ee09-871f-4714-aca0-f1367b427cb4",
   "metadata": {
    "id": "9551ee09-871f-4714-aca0-f1367b427cb4"
   },
   "outputs": [],
   "source": []
  },
  {
   "cell_type": "code",
   "execution_count": null,
   "id": "f29a6c09-6700-45f3-b5cf-6c571eadfe32",
   "metadata": {
    "id": "f29a6c09-6700-45f3-b5cf-6c571eadfe32"
   },
   "outputs": [],
   "source": []
  },
  {
   "cell_type": "code",
   "execution_count": null,
   "id": "fc5d0e5c-4b93-41d8-a633-400380fcccbd",
   "metadata": {
    "id": "fc5d0e5c-4b93-41d8-a633-400380fcccbd",
    "outputId": "e3d37f1a-b785-4208-cead-3227fd9d6807"
   },
   "outputs": [
    {
     "name": "stdout",
     "output_type": "stream",
     "text": [
      "root\n",
      " |-- Id: string (nullable = true)\n",
      " |-- AccountID: string (nullable = true)\n",
      " |-- Number_Of_Loans_Granted__c: integer (nullable = true)\n",
      " |-- Num_Of_Loans_Paid__c: integer (nullable = true)\n",
      " |-- Purpose_of_Loan__c: string (nullable = true)\n",
      " |-- Total_Repayments__c: integer (nullable = true)\n",
      " |-- Amount: integer (nullable = true)\n",
      " |-- Term_in_Weeks__c: double (nullable = true)\n",
      " |-- Payment_Frequency__c: string (nullable = true)\n",
      " |-- StageName: string (nullable = true)\n",
      " |-- Applicant Age: integer (nullable = true)\n",
      " |-- summary_income: double (nullable = true)\n",
      " |-- summary_income_cv: double (nullable = true)\n",
      " |-- city: string (nullable = true)\n",
      " |-- state: string (nullable = true)\n",
      " |-- Country: string (nullable = true)\n",
      " |-- userId: integer (nullable = true)\n",
      " |-- loanId: integer (nullable = true)\n",
      " |-- count: integer (nullable = true)\n",
      " |-- LoanIdFormat: integer (nullable = true)\n",
      " |-- prediction: float (nullable = false)\n",
      "\n"
     ]
    }
   ],
   "source": [
    "predictions.printSchema()"
   ]
  },
  {
   "cell_type": "code",
   "execution_count": null,
   "id": "24d2c7c3-8104-4b83-a3d8-2e4c3ece98ac",
   "metadata": {
    "id": "24d2c7c3-8104-4b83-a3d8-2e4c3ece98ac",
    "outputId": "538b3514-c480-41f5-b5aa-f2df8649d9c5"
   },
   "outputs": [
    {
     "name": "stdout",
     "output_type": "stream",
     "text": [
      "+------------+------+------+------+-------------------+-----+----------+\n",
      "|LoanIdFormat|loanId|userId|Amount|Total_Repayments__c|count|prediction|\n",
      "+------------+------+------+------+-------------------+-----+----------+\n",
      "|           1|  1859|  2366|   500|                 10|    1| 0.9933492|\n",
      "|           1| 18371|  4818|   600|                 10|    2| 1.9914738|\n",
      "|           1| 24830|  1342|   500|                 10|    1| 0.9981674|\n",
      "|           1| 39048|  1238|   500|                 10|    3|  2.984103|\n",
      "|           1| 44319| 19984|   500|                  6|    3|  2.992899|\n",
      "|           1| 44367| 16503|   300|                  6|    3| 2.9956226|\n",
      "|           1| 44446| 15846|   200|                  6|    3|  2.991486|\n",
      "|           1| 48006| 20683|   600|                 10|    1| 0.9933492|\n",
      "|           1| 49432| 18866|   500|                  6|    1| 0.9981674|\n",
      "|           1| 50698| 17420|   750|                 10|    1| 0.9965345|\n",
      "|           1| 51505| 15447|   400|                  6|    4| 3.9936872|\n",
      "+------------+------+------+------+-------------------+-----+----------+\n",
      "only showing top 11 rows\n",
      "\n"
     ]
    }
   ],
   "source": [
    "predictions.select([\"LoanIdFormat\",\"loanId\",\"userId\",\"Amount\",\"Total_Repayments__c\",\"count\",\"prediction\"]).show(11)"
   ]
  },
  {
   "cell_type": "code",
   "execution_count": null,
   "id": "1b1cb23d-bf6b-4cbe-9240-3a6c0dad2815",
   "metadata": {
    "id": "1b1cb23d-bf6b-4cbe-9240-3a6c0dad2815",
    "outputId": "1d7cd992-9691-4bf7-e430-fed37e2ac390"
   },
   "outputs": [
    {
     "name": "stdout",
     "output_type": "stream",
     "text": [
      "+-------+------------------+------------------+\n",
      "|summary|        prediction|      LoanIdFormat|\n",
      "+-------+------------------+------------------+\n",
      "|  count|            111352|            111352|\n",
      "|   mean| 1.661863417419055| 4.518930957683741|\n",
      "| stddev|0.8937703516935817|2.7881530111682316|\n",
      "|    min|               0.0|                 1|\n",
      "|    max|         7.9761477|                20|\n",
      "+-------+------------------+------------------+\n",
      "\n"
     ]
    }
   ],
   "source": [
    "predictions.select(\"prediction\",\"LoanIdFormat\").describe().show()"
   ]
  },
  {
   "cell_type": "code",
   "execution_count": null,
   "id": "6947ef5d-365a-4f71-a8f9-c865c01e05eb",
   "metadata": {
    "id": "6947ef5d-365a-4f71-a8f9-c865c01e05eb"
   },
   "outputs": [],
   "source": []
  },
  {
   "cell_type": "code",
   "execution_count": null,
   "id": "8bd852bd-f5eb-4095-8b02-f255707397bc",
   "metadata": {
    "id": "8bd852bd-f5eb-4095-8b02-f255707397bc"
   },
   "outputs": [],
   "source": []
  },
  {
   "cell_type": "code",
   "execution_count": null,
   "id": "d4fc2d3e-b55f-485c-a87d-ff790847e567",
   "metadata": {
    "id": "d4fc2d3e-b55f-485c-a87d-ff790847e567"
   },
   "outputs": [],
   "source": [
    "evaluator = RegressionEvaluator(metricName='rmse', labelCol='count', predictionCol='prediction')\n",
    "error = evaluator.evaluate(predictions)"
   ]
  },
  {
   "cell_type": "code",
   "execution_count": null,
   "id": "71839857-cdf9-4dbc-9310-f433c4b95729",
   "metadata": {
    "id": "71839857-cdf9-4dbc-9310-f433c4b95729",
    "outputId": "17c02550-0cf2-4b4b-833f-b310e8fcd559"
   },
   "outputs": [
    {
     "name": "stdout",
     "output_type": "stream",
     "text": [
      "The RMSE for the above mnodel is : 0.028842204161434074\n"
     ]
    }
   ],
   "source": [
    "print(f\"The RMSE for the above m0odel is : {error}\")  # o.463"
   ]
  },
  {
   "cell_type": "code",
   "execution_count": null,
   "id": "7e841871-6577-464c-afd2-ef42dc748376",
   "metadata": {
    "id": "7e841871-6577-464c-afd2-ef42dc748376"
   },
   "outputs": [],
   "source": []
  },
  {
   "cell_type": "code",
   "execution_count": null,
   "id": "2f3d2b7d-9df0-40e8-9653-b67d488fd4ae",
   "metadata": {
    "id": "2f3d2b7d-9df0-40e8-9653-b67d488fd4ae"
   },
   "outputs": [],
   "source": [
    "userRecommends = final_model.recommendForAllUsers(5)\n",
    "loanRecommends = final_model.recommendForAllItems(5)"
   ]
  },
  {
   "cell_type": "code",
   "execution_count": null,
   "id": "61490ce4-2ace-47dd-9d3b-b5b0f541a3e2",
   "metadata": {
    "id": "61490ce4-2ace-47dd-9d3b-b5b0f541a3e2",
    "outputId": "6ec8f5d8-e761-47a6-c37a-5e608713cc4d"
   },
   "outputs": [
    {
     "name": "stdout",
     "output_type": "stream",
     "text": [
      "root\n",
      " |-- LoanIdFormat: integer (nullable = false)\n",
      " |-- recommendations: array (nullable = true)\n",
      " |    |-- element: struct (containsNull = true)\n",
      " |    |    |-- userId: integer (nullable = true)\n",
      " |    |    |-- rating: float (nullable = true)\n",
      "\n"
     ]
    }
   ],
   "source": [
    "loanRecommends.printSchema()"
   ]
  },
  {
   "cell_type": "code",
   "execution_count": null,
   "id": "cae2167c-8455-4c19-a013-dd44e4b9d333",
   "metadata": {
    "id": "cae2167c-8455-4c19-a013-dd44e4b9d333",
    "outputId": "f8ca8fce-abb8-45df-da8a-e4264072fd1a"
   },
   "outputs": [
    {
     "name": "stdout",
     "output_type": "stream",
     "text": [
      "+------------+----------------------------------+-------------------------------------------------------+\n",
      "|LoanIdFormat|userId                            |rating                                                 |\n",
      "+------------+----------------------------------+-------------------------------------------------------+\n",
      "|20          |[1832, 24495, 24531, 24991, 15933]|[7.950424, 7.0113587, 6.9573717, 6.0000634, 5.9925804] |\n",
      "|10          |[1832, 24713, 24608, 24303, 24495]|[8.555681, 7.465768, 7.3844924, 7.339622, 7.0376883]   |\n",
      "|1           |[1832, 24495, 24531, 15933, 24418]|[7.9761477, 7.0013914, 6.9772563, 6.0103855, 6.0089397]|\n",
      "|11          |[1832, 24495, 24531, 15933, 24418]|[9.5949135, 8.382941, 8.35992, 7.275463, 7.274435]     |\n",
      "|12          |[1832, 24495, 24531, 24991, 24301]|[7.973118, 7.0685134, 6.977419, 6.0400486, 6.019967]   |\n",
      "|2           |[1832, 24495, 24531, 15933, 24418]|[7.9706793, 7.006312, 6.973244, 6.006671, 6.005226]    |\n",
      "|13          |[1832, 24713, 24608, 24303, 24495]|[5.2179594, 4.950352, 4.901877, 4.85413, 4.555052]     |\n",
      "|3           |[1832, 24633, 24495, 24531, 14767]|[6.264384, 5.784274, 5.5393353, 5.4501143, 4.8399553]  |\n",
      "|4           |[1832, 24495, 24531, 15933, 24418]|[7.971582, 7.0008006, 6.9743223, 6.0064354, 6.004977]  |\n",
      "|14          |[1832, 24495, 24531, 24991, 15933]|[7.9580674, 7.031475, 6.965792, 6.014413, 6.0027823]   |\n",
      "+------------+----------------------------------+-------------------------------------------------------+\n",
      "only showing top 10 rows\n",
      "\n"
     ]
    }
   ],
   "source": [
    "loanRecommends.select([\"LoanIdFormat\",\"recommendations.userId\",\"recommendations.rating\"]).show(10,truncate=False)"
   ]
  },
  {
   "cell_type": "code",
   "execution_count": null,
   "id": "bf08c18d-dae8-41f4-8595-f5922b0bcbaa",
   "metadata": {
    "id": "bf08c18d-dae8-41f4-8595-f5922b0bcbaa",
    "outputId": "a06f27d7-862a-4614-9191-0bb06ef1c053"
   },
   "outputs": [
    {
     "name": "stdout",
     "output_type": "stream",
     "text": [
      "root\n",
      " |-- userId: integer (nullable = false)\n",
      " |-- recommendations: array (nullable = true)\n",
      " |    |-- element: struct (containsNull = true)\n",
      " |    |    |-- LoanIdFormat: integer (nullable = true)\n",
      " |    |    |-- rating: float (nullable = true)\n",
      "\n"
     ]
    }
   ],
   "source": [
    "userRecommends.printSchema()"
   ]
  },
  {
   "cell_type": "code",
   "execution_count": null,
   "id": "1fb6d6f0-ccb5-4e58-a9c3-7ca87a047794",
   "metadata": {
    "id": "1fb6d6f0-ccb5-4e58-a9c3-7ca87a047794"
   },
   "outputs": [],
   "source": []
  },
  {
   "cell_type": "code",
   "execution_count": null,
   "id": "a6674f96-bca8-437c-9951-cbc1c6a2fc0c",
   "metadata": {
    "id": "a6674f96-bca8-437c-9951-cbc1c6a2fc0c",
    "outputId": "bfd9bfd7-ded9-4ec4-ff6f-5d5f08ec06fa"
   },
   "outputs": [
    {
     "name": "stdout",
     "output_type": "stream",
     "text": [
      "-RECORD 0--------------------------------------------------------------------------------------------\n",
      " userId          | 10                                                                                \n",
      " recommendations | [{11, 4.818267}, {19, 4.042764}, {5, 4.033351}, {10, 4.0070896}, {12, 3.9973161}] \n",
      "\n"
     ]
    }
   ],
   "source": [
    "userRecommends.filter(userRecommends.userId == 10 ).show(vertical=True,truncate=False)"
   ]
  },
  {
   "cell_type": "code",
   "execution_count": null,
   "id": "fe062ea4-87e7-4f4e-9412-95c267d1d474",
   "metadata": {
    "id": "fe062ea4-87e7-4f4e-9412-95c267d1d474",
    "outputId": "c0358a03-4bbe-4dce-ab4d-364512278fb5"
   },
   "outputs": [
    {
     "name": "stdout",
     "output_type": "stream",
     "text": [
      "+------+-------------------+--------------------------------------------------------+\n",
      "|userId|LoanIdFormat       |rating                                                  |\n",
      "+------+-------------------+--------------------------------------------------------+\n",
      "|1     |[11, 19, 10, 5, 4] |[3.483842, 2.9951677, 2.9910934, 2.986418, 2.9808848]   |\n",
      "|6     |[11, 19, 5, 10, 12]|[1.2100239, 1.0132257, 1.0107574, 1.0031507, 1.0014443] |\n",
      "|12    |[11, 19, 5, 12, 10]|[2.4086132, 2.0269725, 2.0201576, 2.0100853, 2.0080824] |\n",
      "|13    |[11, 19, 5, 10, 12]|[1.1989177, 1.0090533, 1.006838, 1.0012228, 0.99791485] |\n",
      "|16    |[11, 19, 12, 5, 10]|[1.1825534, 1.0075336, 1.0040952, 1.0034789, 1.002596]  |\n",
      "|22    |[11, 19, 5, 10, 1] |[1.1965677, 1.0075513, 1.0053955, 1.0006418, 0.99691176]|\n",
      "|26    |[11, 19, 5, 10, 1] |[1.1896594, 1.0058196, 1.0035554, 0.99995625, 0.9963331]|\n",
      "|27    |[11, 19, 5, 10, 1] |[1.1919556, 1.0058408, 1.0038042, 1.0001444, 0.99620336]|\n",
      "|28    |[11, 10, 19, 5, 1] |[1.1703922, 0.99830914, 0.9981611, 0.996697, 0.9933492] |\n",
      "|31    |[11, 19, 12, 5, 10]|[2.3891153, 2.0231645, 2.0158007, 2.0147743, 2.007325]  |\n",
      "+------+-------------------+--------------------------------------------------------+\n",
      "only showing top 10 rows\n",
      "\n"
     ]
    }
   ],
   "source": [
    "userRecommends.select([\"userId\",\"recommendations.LoanIdFormat\",\"recommendations.rating\"]).show(10,truncate=False)"
   ]
  },
  {
   "cell_type": "code",
   "execution_count": null,
   "id": "6c43a8fb-3e0f-436e-ba38-8adf5efba30e",
   "metadata": {
    "id": "6c43a8fb-3e0f-436e-ba38-8adf5efba30e"
   },
   "outputs": [],
   "source": []
  },
  {
   "cell_type": "code",
   "execution_count": null,
   "id": "1f2bc25c-5a85-45e2-b89a-d75d65a70040",
   "metadata": {
    "id": "1f2bc25c-5a85-45e2-b89a-d75d65a70040"
   },
   "outputs": [],
   "source": []
  },
  {
   "cell_type": "code",
   "execution_count": null,
   "id": "70f7708c-9e0d-4e94-921d-4d9354ddfff9",
   "metadata": {
    "id": "70f7708c-9e0d-4e94-921d-4d9354ddfff9"
   },
   "outputs": [],
   "source": [
    "LoanRecommendation =  [{11, 4.818267}, {19, 4.042764}, {5, 4.033351}, {10, 4.0070896}, {12, 3.9973161}]"
   ]
  },
  {
   "cell_type": "code",
   "execution_count": null,
   "id": "d3746986-f722-4a7c-9b38-eb0b29f58b07",
   "metadata": {
    "id": "d3746986-f722-4a7c-9b38-eb0b29f58b07"
   },
   "outputs": [],
   "source": [
    "loanRecommend_user_10 = [{\"userID\":10,\"LoanId\":loanI,\"Ratings\":ratin} for loanI,ratin in LoanRecommendation]"
   ]
  },
  {
   "cell_type": "code",
   "execution_count": null,
   "id": "1cd2003f-d376-41b2-a93e-ac9ececa4a92",
   "metadata": {
    "id": "1cd2003f-d376-41b2-a93e-ac9ececa4a92",
    "outputId": "343f5b19-f9fd-4706-e6e2-63b38f48d8dd"
   },
   "outputs": [
    {
     "data": {
      "text/plain": [
       "[{'userID': 10, 'LoanId': 3.9973161, 'Ratings': 12},\n",
       " {'userID': 10, 'LoanId': 4.033351, 'Ratings': 5},\n",
       " {'userID': 10, 'LoanId': 11, 'Ratings': 4.818267},\n",
       " {'userID': 10, 'LoanId': 19, 'Ratings': 4.042764},\n",
       " {'userID': 10, 'LoanId': 10, 'Ratings': 4.0070896}]"
      ]
     },
     "execution_count": 107,
     "metadata": {},
     "output_type": "execute_result"
    }
   ],
   "source": [
    "sorted(loanRecommend_user_10, key=operator.itemgetter('Ratings'),reverse=True )"
   ]
  },
  {
   "cell_type": "code",
   "execution_count": null,
   "id": "033322bf-b7b3-4ef5-9ab7-feb8249ba3ef",
   "metadata": {
    "id": "033322bf-b7b3-4ef5-9ab7-feb8249ba3ef",
    "outputId": "49ea1f16-bbc6-4bab-ee36-b8373ad2357f"
   },
   "outputs": [
    {
     "data": {
      "text/plain": [
       "[{'userID': 10, 'LoanId': 11, 'Ratings': 4.818267},\n",
       " {'userID': 10, 'LoanId': 19, 'Ratings': 4.042764},\n",
       " {'userID': 10, 'LoanId': 4.033351, 'Ratings': 5},\n",
       " {'userID': 10, 'LoanId': 10, 'Ratings': 4.0070896},\n",
       " {'userID': 10, 'LoanId': 3.9973161, 'Ratings': 12}]"
      ]
     },
     "execution_count": 109,
     "metadata": {},
     "output_type": "execute_result"
    }
   ],
   "source": [
    "loanRecommend_user_10"
   ]
  },
  {
   "cell_type": "code",
   "execution_count": null,
   "id": "9b546cb9-ecdd-4922-a710-513e94c0472e",
   "metadata": {
    "id": "9b546cb9-ecdd-4922-a710-513e94c0472e"
   },
   "outputs": [],
   "source": []
  },
  {
   "cell_type": "code",
   "execution_count": null,
   "id": "0c9bcaa4-1bdc-41c7-9243-2ea48dbad534",
   "metadata": {
    "id": "0c9bcaa4-1bdc-41c7-9243-2ea48dbad534"
   },
   "outputs": [],
   "source": []
  },
  {
   "cell_type": "code",
   "execution_count": null,
   "id": "b6363316-327c-4857-9ca8-f5faead059c2",
   "metadata": {
    "id": "b6363316-327c-4857-9ca8-f5faead059c2"
   },
   "outputs": [],
   "source": []
  },
  {
   "cell_type": "code",
   "execution_count": null,
   "id": "9d5e2e17-f927-47ec-90d1-3e99bf69ccf2",
   "metadata": {
    "id": "9d5e2e17-f927-47ec-90d1-3e99bf69ccf2"
   },
   "outputs": [],
   "source": []
  },
  {
   "cell_type": "code",
   "execution_count": null,
   "id": "66323d0a-fcbd-40d0-a13e-6b9449a77f64",
   "metadata": {
    "id": "66323d0a-fcbd-40d0-a13e-6b9449a77f64"
   },
   "outputs": [],
   "source": []
  },
  {
   "cell_type": "code",
   "execution_count": null,
   "id": "7e719f90-aee0-453a-87d5-df0e82ae507d",
   "metadata": {
    "id": "7e719f90-aee0-453a-87d5-df0e82ae507d"
   },
   "outputs": [],
   "source": []
  },
  {
   "cell_type": "code",
   "execution_count": null,
   "id": "59d656cc-fa74-43fc-bcd2-9a73ff7c11ce",
   "metadata": {
    "id": "59d656cc-fa74-43fc-bcd2-9a73ff7c11ce"
   },
   "outputs": [],
   "source": []
  },
  {
   "cell_type": "code",
   "execution_count": null,
   "id": "d33def82-a07b-4e44-8f8e-560f0a15ffcc",
   "metadata": {
    "id": "d33def82-a07b-4e44-8f8e-560f0a15ffcc"
   },
   "outputs": [],
   "source": []
  },
  {
   "cell_type": "code",
   "execution_count": null,
   "id": "650b4b08-6081-4dc9-9e5f-b2e34a2008bc",
   "metadata": {
    "id": "650b4b08-6081-4dc9-9e5f-b2e34a2008bc"
   },
   "outputs": [],
   "source": []
  },
  {
   "cell_type": "code",
   "execution_count": null,
   "id": "f2c7c001-9cd5-4715-9d50-720d5ba66e2e",
   "metadata": {
    "id": "f2c7c001-9cd5-4715-9d50-720d5ba66e2e"
   },
   "outputs": [],
   "source": []
  },
  {
   "cell_type": "code",
   "execution_count": null,
   "id": "ece6e4b3-79ad-420c-8c39-e840866f075c",
   "metadata": {
    "id": "ece6e4b3-79ad-420c-8c39-e840866f075c"
   },
   "outputs": [],
   "source": []
  }
 ],
 "metadata": {
  "colab": {
   "provenance": []
  },
  "kernelspec": {
   "display_name": "Python 3 (ipykernel)",
   "language": "python",
   "name": "python3"
  },
  "language_info": {
   "codemirror_mode": {
    "name": "ipython",
    "version": 3
   },
   "file_extension": ".py",
   "mimetype": "text/x-python",
   "name": "python",
   "nbconvert_exporter": "python",
   "pygments_lexer": "ipython3",
   "version": "3.12.0"
  }
 },
 "nbformat": 4,
 "nbformat_minor": 5
}
