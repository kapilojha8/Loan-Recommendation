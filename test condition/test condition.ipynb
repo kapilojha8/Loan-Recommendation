{
 "cells": [
  {
   "cell_type": "code",
   "execution_count": 6,
   "id": "d1daa305-9531-4ae9-996b-71600382e292",
   "metadata": {},
   "outputs": [],
   "source": [
    "import pandas as pd\n",
    "import numpy as np\n"
   ]
  },
  {
   "cell_type": "code",
   "execution_count": 76,
   "id": "8d61cad3-404b-438d-b4bb-ae14d657156a",
   "metadata": {},
   "outputs": [],
   "source": [
    "df = pd.read_csv(\"usersCSV.csv\")"
   ]
  },
  {
   "cell_type": "code",
   "execution_count": 78,
   "id": "b90d2936-f88e-40d8-a02b-693192d32ba1",
   "metadata": {},
   "outputs": [
    {
     "data": {
      "text/html": [
       "<div>\n",
       "<style scoped>\n",
       "    .dataframe tbody tr th:only-of-type {\n",
       "        vertical-align: middle;\n",
       "    }\n",
       "\n",
       "    .dataframe tbody tr th {\n",
       "        vertical-align: top;\n",
       "    }\n",
       "\n",
       "    .dataframe thead th {\n",
       "        text-align: right;\n",
       "    }\n",
       "</style>\n",
       "<table border=\"1\" class=\"dataframe\">\n",
       "  <thead>\n",
       "    <tr style=\"text-align: right;\">\n",
       "      <th></th>\n",
       "      <th>Id</th>\n",
       "      <th>names</th>\n",
       "    </tr>\n",
       "  </thead>\n",
       "  <tbody>\n",
       "    <tr>\n",
       "      <th>0</th>\n",
       "      <td>A</td>\n",
       "      <td>10</td>\n",
       "    </tr>\n",
       "    <tr>\n",
       "      <th>1</th>\n",
       "      <td>B</td>\n",
       "      <td>100</td>\n",
       "    </tr>\n",
       "    <tr>\n",
       "      <th>2</th>\n",
       "      <td>R</td>\n",
       "      <td>99</td>\n",
       "    </tr>\n",
       "    <tr>\n",
       "      <th>3</th>\n",
       "      <td>C</td>\n",
       "      <td>77</td>\n",
       "    </tr>\n",
       "    <tr>\n",
       "      <th>4</th>\n",
       "      <td>K</td>\n",
       "      <td>34</td>\n",
       "    </tr>\n",
       "    <tr>\n",
       "      <th>5</th>\n",
       "      <td>D</td>\n",
       "      <td>3</td>\n",
       "    </tr>\n",
       "    <tr>\n",
       "      <th>6</th>\n",
       "      <td>E</td>\n",
       "      <td>2</td>\n",
       "    </tr>\n",
       "    <tr>\n",
       "      <th>7</th>\n",
       "      <td>M</td>\n",
       "      <td>33</td>\n",
       "    </tr>\n",
       "    <tr>\n",
       "      <th>8</th>\n",
       "      <td>N</td>\n",
       "      <td>22</td>\n",
       "    </tr>\n",
       "    <tr>\n",
       "      <th>9</th>\n",
       "      <td>o</td>\n",
       "      <td>11</td>\n",
       "    </tr>\n",
       "    <tr>\n",
       "      <th>10</th>\n",
       "      <td>z</td>\n",
       "      <td>90</td>\n",
       "    </tr>\n",
       "    <tr>\n",
       "      <th>11</th>\n",
       "      <td>F</td>\n",
       "      <td>4</td>\n",
       "    </tr>\n",
       "  </tbody>\n",
       "</table>\n",
       "</div>"
      ],
      "text/plain": [
       "   Id  names\n",
       "0   A     10\n",
       "1   B    100\n",
       "2   R     99\n",
       "3   C     77\n",
       "4   K     34\n",
       "5   D      3\n",
       "6   E      2\n",
       "7   M     33\n",
       "8   N     22\n",
       "9   o     11\n",
       "10  z     90\n",
       "11  F      4"
      ]
     },
     "execution_count": 78,
     "metadata": {},
     "output_type": "execute_result"
    }
   ],
   "source": [
    "df.head(20)"
   ]
  },
  {
   "cell_type": "code",
   "execution_count": 15,
   "id": "1ab9840b-f7ea-4fed-8cf0-13024c9e3458",
   "metadata": {},
   "outputs": [],
   "source": [
    "AccountMapperobj = {ele: count for count, ele in enumerate(sorted(list(set(df['AccountID']))), 1)}\n",
    "\n",
    "accId,accindex = [],[]\n",
    "[(accId.append(key),accindex.append(val)) for key,val in AccountMapperobj.items()]\n",
    "AccountMapperDf = pd.DataFrame({\"accountId\":accId,\n",
    "                                \"accountIndex\":accindex})\n",
    "\n",
    "AccountMapperDf.to_csv(\"AccountMapperObjDF.csv\",index=False)\n",
    "\n",
    "df['userId'] = df['AccountID'].map(AccountMapperobj)\n"
   ]
  },
  {
   "cell_type": "code",
   "execution_count": 20,
   "id": "7788dd8b-4bf3-460b-9aa7-5f1fa7836be7",
   "metadata": {},
   "outputs": [],
   "source": []
  },
  {
   "cell_type": "code",
   "execution_count": null,
   "id": "53fbd7aa-2f14-4c29-8b9e-be7a0daf440d",
   "metadata": {},
   "outputs": [],
   "source": []
  },
  {
   "cell_type": "code",
   "execution_count": 23,
   "id": "86adb628-ed1f-4b43-bb33-8ec9e35204ed",
   "metadata": {},
   "outputs": [],
   "source": [
    "loand_df = pd.read_csv(\"userandids.csv\")"
   ]
  },
  {
   "cell_type": "code",
   "execution_count": 25,
   "id": "d9c7f3e4-932b-4cb9-8e83-93b8809a9e55",
   "metadata": {},
   "outputs": [
    {
     "data": {
      "text/html": [
       "<div>\n",
       "<style scoped>\n",
       "    .dataframe tbody tr th:only-of-type {\n",
       "        vertical-align: middle;\n",
       "    }\n",
       "\n",
       "    .dataframe tbody tr th {\n",
       "        vertical-align: top;\n",
       "    }\n",
       "\n",
       "    .dataframe thead th {\n",
       "        text-align: right;\n",
       "    }\n",
       "</style>\n",
       "<table border=\"1\" class=\"dataframe\">\n",
       "  <thead>\n",
       "    <tr style=\"text-align: right;\">\n",
       "      <th></th>\n",
       "      <th>Names</th>\n",
       "      <th>Ids</th>\n",
       "    </tr>\n",
       "  </thead>\n",
       "  <tbody>\n",
       "    <tr>\n",
       "      <th>0</th>\n",
       "      <td>A</td>\n",
       "      <td>10</td>\n",
       "    </tr>\n",
       "    <tr>\n",
       "      <th>1</th>\n",
       "      <td>B</td>\n",
       "      <td>100</td>\n",
       "    </tr>\n",
       "    <tr>\n",
       "      <th>2</th>\n",
       "      <td>R</td>\n",
       "      <td>99</td>\n",
       "    </tr>\n",
       "    <tr>\n",
       "      <th>3</th>\n",
       "      <td>C</td>\n",
       "      <td>77</td>\n",
       "    </tr>\n",
       "    <tr>\n",
       "      <th>4</th>\n",
       "      <td>K</td>\n",
       "      <td>34</td>\n",
       "    </tr>\n",
       "    <tr>\n",
       "      <th>5</th>\n",
       "      <td>D</td>\n",
       "      <td>3</td>\n",
       "    </tr>\n",
       "    <tr>\n",
       "      <th>6</th>\n",
       "      <td>E</td>\n",
       "      <td>2</td>\n",
       "    </tr>\n",
       "    <tr>\n",
       "      <th>7</th>\n",
       "      <td>M</td>\n",
       "      <td>33</td>\n",
       "    </tr>\n",
       "    <tr>\n",
       "      <th>8</th>\n",
       "      <td>N</td>\n",
       "      <td>22</td>\n",
       "    </tr>\n",
       "    <tr>\n",
       "      <th>9</th>\n",
       "      <td>o</td>\n",
       "      <td>11</td>\n",
       "    </tr>\n",
       "    <tr>\n",
       "      <th>10</th>\n",
       "      <td>z</td>\n",
       "      <td>90</td>\n",
       "    </tr>\n",
       "    <tr>\n",
       "      <th>11</th>\n",
       "      <td>F</td>\n",
       "      <td>4</td>\n",
       "    </tr>\n",
       "  </tbody>\n",
       "</table>\n",
       "</div>"
      ],
      "text/plain": [
       "   Names  Ids\n",
       "0      A   10\n",
       "1      B  100\n",
       "2      R   99\n",
       "3      C   77\n",
       "4      K   34\n",
       "5      D    3\n",
       "6      E    2\n",
       "7      M   33\n",
       "8      N   22\n",
       "9      o   11\n",
       "10     z   90\n",
       "11     F    4"
      ]
     },
     "execution_count": 25,
     "metadata": {},
     "output_type": "execute_result"
    }
   ],
   "source": [
    "loand_df.head(20)"
   ]
  },
  {
   "cell_type": "code",
   "execution_count": 26,
   "id": "6efbcd35-bc81-4697-901a-2463a5362b09",
   "metadata": {},
   "outputs": [
    {
     "data": {
      "text/html": [
       "<div>\n",
       "<style scoped>\n",
       "    .dataframe tbody tr th:only-of-type {\n",
       "        vertical-align: middle;\n",
       "    }\n",
       "\n",
       "    .dataframe tbody tr th {\n",
       "        vertical-align: top;\n",
       "    }\n",
       "\n",
       "    .dataframe thead th {\n",
       "        text-align: right;\n",
       "    }\n",
       "</style>\n",
       "<table border=\"1\" class=\"dataframe\">\n",
       "  <thead>\n",
       "    <tr style=\"text-align: right;\">\n",
       "      <th></th>\n",
       "      <th>accountId</th>\n",
       "      <th>accountIndex</th>\n",
       "    </tr>\n",
       "  </thead>\n",
       "  <tbody>\n",
       "    <tr>\n",
       "      <th>0</th>\n",
       "      <td>A</td>\n",
       "      <td>1</td>\n",
       "    </tr>\n",
       "    <tr>\n",
       "      <th>1</th>\n",
       "      <td>B</td>\n",
       "      <td>2</td>\n",
       "    </tr>\n",
       "    <tr>\n",
       "      <th>2</th>\n",
       "      <td>C</td>\n",
       "      <td>3</td>\n",
       "    </tr>\n",
       "    <tr>\n",
       "      <th>3</th>\n",
       "      <td>D</td>\n",
       "      <td>4</td>\n",
       "    </tr>\n",
       "    <tr>\n",
       "      <th>4</th>\n",
       "      <td>E</td>\n",
       "      <td>5</td>\n",
       "    </tr>\n",
       "  </tbody>\n",
       "</table>\n",
       "</div>"
      ],
      "text/plain": [
       "  accountId  accountIndex\n",
       "0         A             1\n",
       "1         B             2\n",
       "2         C             3\n",
       "3         D             4\n",
       "4         E             5"
      ]
     },
     "execution_count": 26,
     "metadata": {},
     "output_type": "execute_result"
    }
   ],
   "source": [
    "df_accountmapping  = pd.read_csv(\"AccountMapperObjDF.csv\")\n",
    "df_accountmapping.head()"
   ]
  },
  {
   "cell_type": "code",
   "execution_count": 27,
   "id": "d82e2891-c8b9-4e0f-89d2-c433df39e06d",
   "metadata": {},
   "outputs": [],
   "source": [
    "# {ele: count for count, ele in enumerate(sorted(list(set(df['AccountID']))), 1) }\n",
    "accountmapping = {ele:index for ele,index in zip(df_accountmapping[\"accountId\"],df_accountmapping[\"accountIndex\"])  }"
   ]
  },
  {
   "cell_type": "code",
   "execution_count": 60,
   "id": "8fd9e825-1a5f-4b6c-b1b8-f86844d12a83",
   "metadata": {},
   "outputs": [],
   "source": [
    "prevmaxID = max(df_accountmapping['accountIndex'])"
   ]
  },
  {
   "cell_type": "code",
   "execution_count": 40,
   "id": "73eceb6a-cebf-4191-a113-f7c89d4481f6",
   "metadata": {},
   "outputs": [],
   "source": [
    "df1T = loand_df.copy()"
   ]
  },
  {
   "cell_type": "code",
   "execution_count": 42,
   "id": "a0f7a195-0ca5-4c95-b79c-0a81eca62877",
   "metadata": {},
   "outputs": [],
   "source": [
    "df1T[\"userId\"] = df1T['Names'].map(accountmapping)"
   ]
  },
  {
   "cell_type": "code",
   "execution_count": 43,
   "id": "1e05fd78-67bf-41ad-8a1c-2fd76ed25e3c",
   "metadata": {},
   "outputs": [
    {
     "data": {
      "text/html": [
       "<div>\n",
       "<style scoped>\n",
       "    .dataframe tbody tr th:only-of-type {\n",
       "        vertical-align: middle;\n",
       "    }\n",
       "\n",
       "    .dataframe tbody tr th {\n",
       "        vertical-align: top;\n",
       "    }\n",
       "\n",
       "    .dataframe thead th {\n",
       "        text-align: right;\n",
       "    }\n",
       "</style>\n",
       "<table border=\"1\" class=\"dataframe\">\n",
       "  <thead>\n",
       "    <tr style=\"text-align: right;\">\n",
       "      <th></th>\n",
       "      <th>Names</th>\n",
       "      <th>Ids</th>\n",
       "      <th>userId</th>\n",
       "    </tr>\n",
       "  </thead>\n",
       "  <tbody>\n",
       "    <tr>\n",
       "      <th>0</th>\n",
       "      <td>A</td>\n",
       "      <td>10</td>\n",
       "      <td>1.0</td>\n",
       "    </tr>\n",
       "    <tr>\n",
       "      <th>1</th>\n",
       "      <td>B</td>\n",
       "      <td>100</td>\n",
       "      <td>2.0</td>\n",
       "    </tr>\n",
       "    <tr>\n",
       "      <th>2</th>\n",
       "      <td>R</td>\n",
       "      <td>99</td>\n",
       "      <td>7.0</td>\n",
       "    </tr>\n",
       "    <tr>\n",
       "      <th>3</th>\n",
       "      <td>C</td>\n",
       "      <td>77</td>\n",
       "      <td>3.0</td>\n",
       "    </tr>\n",
       "    <tr>\n",
       "      <th>4</th>\n",
       "      <td>K</td>\n",
       "      <td>34</td>\n",
       "      <td>6.0</td>\n",
       "    </tr>\n",
       "    <tr>\n",
       "      <th>5</th>\n",
       "      <td>D</td>\n",
       "      <td>3</td>\n",
       "      <td>4.0</td>\n",
       "    </tr>\n",
       "    <tr>\n",
       "      <th>6</th>\n",
       "      <td>E</td>\n",
       "      <td>2</td>\n",
       "      <td>5.0</td>\n",
       "    </tr>\n",
       "    <tr>\n",
       "      <th>7</th>\n",
       "      <td>M</td>\n",
       "      <td>33</td>\n",
       "      <td>NaN</td>\n",
       "    </tr>\n",
       "    <tr>\n",
       "      <th>8</th>\n",
       "      <td>N</td>\n",
       "      <td>22</td>\n",
       "      <td>NaN</td>\n",
       "    </tr>\n",
       "    <tr>\n",
       "      <th>9</th>\n",
       "      <td>o</td>\n",
       "      <td>11</td>\n",
       "      <td>NaN</td>\n",
       "    </tr>\n",
       "    <tr>\n",
       "      <th>10</th>\n",
       "      <td>z</td>\n",
       "      <td>90</td>\n",
       "      <td>NaN</td>\n",
       "    </tr>\n",
       "    <tr>\n",
       "      <th>11</th>\n",
       "      <td>F</td>\n",
       "      <td>4</td>\n",
       "      <td>NaN</td>\n",
       "    </tr>\n",
       "  </tbody>\n",
       "</table>\n",
       "</div>"
      ],
      "text/plain": [
       "   Names  Ids  userId\n",
       "0      A   10     1.0\n",
       "1      B  100     2.0\n",
       "2      R   99     7.0\n",
       "3      C   77     3.0\n",
       "4      K   34     6.0\n",
       "5      D    3     4.0\n",
       "6      E    2     5.0\n",
       "7      M   33     NaN\n",
       "8      N   22     NaN\n",
       "9      o   11     NaN\n",
       "10     z   90     NaN\n",
       "11     F    4     NaN"
      ]
     },
     "execution_count": 43,
     "metadata": {},
     "output_type": "execute_result"
    }
   ],
   "source": [
    "df1T.head(20)"
   ]
  },
  {
   "cell_type": "code",
   "execution_count": 54,
   "id": "48b63ef0-f4b8-49ce-8ecf-7d22c1e5ba71",
   "metadata": {},
   "outputs": [],
   "source": [
    "# rows_with_nan = df[df[column_to_check].isna()]\n",
    "\n",
    "rows_with_nan = df1T[df1T['userId'].isnull()]"
   ]
  },
  {
   "cell_type": "code",
   "execution_count": 61,
   "id": "4fa878b8-8903-4114-ac7a-6c7afb1289ac",
   "metadata": {},
   "outputs": [
    {
     "data": {
      "text/plain": [
       "7"
      ]
     },
     "execution_count": 61,
     "metadata": {},
     "output_type": "execute_result"
    }
   ],
   "source": [
    "prevmaxID"
   ]
  },
  {
   "cell_type": "code",
   "execution_count": 69,
   "id": "570667bd-b25a-4c09-96cc-d6ab44226b27",
   "metadata": {},
   "outputs": [],
   "source": []
  },
  {
   "cell_type": "code",
   "execution_count": 70,
   "id": "f2f0ff3b-1b5f-437a-9eae-6f54304b0877",
   "metadata": {},
   "outputs": [],
   "source": [
    "AccountMapperobjTmp = {ele: count for count, ele in enumerate(sorted(list(set(rows_with_nan['Names']))), prevmaxID+1) }\n",
    "\n",
    "accountmapping.update(AccountMapperobjTmp)\n",
    "\n",
    "df1T[\"userId\"] = df1T['Names'].map(accountmapping)\n"
   ]
  },
  {
   "cell_type": "code",
   "execution_count": 74,
   "id": "42d35d01-f789-49d2-aef7-ebb25910bc05",
   "metadata": {},
   "outputs": [],
   "source": [
    "accId,accindex = [],[]\n",
    "[(accId.append(key),accindex.append(val)) for key,val in accountmapping.items()]\n",
    "AccountMapperDf = pd.DataFrame({\"accountId\":accId,\n",
    "                                \"accountIndex\":accindex})"
   ]
  },
  {
   "cell_type": "code",
   "execution_count": 75,
   "id": "cf475ba1-18cd-4fbf-9d06-e339e603c712",
   "metadata": {},
   "outputs": [
    {
     "name": "stdout",
     "output_type": "stream",
     "text": [
      "File 'AccountMapperDf.csv and LoanMapperDf.csv' deleted.\n",
      "New files 'AccountMapperDf.csv' and 'LoanMapperDf.csv' created.\n"
     ]
    }
   ],
   "source": [
    "import os\n",
    "# File path\n",
    "file_path,loan_file_path = \"AccountMapperDf.csv\",\"LoanMapperDf.csv\"\n",
    "\n",
    "# Check if the file exists\n",
    "if os.path.exists(file_path): # and os.path.exists(loan_file_path):\n",
    "    # Delete the existing file\n",
    "    os.remove(file_path)\n",
    "    # os.remove(loan_file_path)\n",
    "    print(f\"File '{file_path} and {loan_file_path}' deleted.\")\n",
    "\n",
    "AccountMapperDf.to_csv(file_path,index=False)\n",
    "# LoanMapperDf.to_csv(loan_file_path,index=False)\n",
    "\n",
    "print(f\"New files '{file_path}' and '{loan_file_path}' created.\")"
   ]
  },
  {
   "cell_type": "code",
   "execution_count": null,
   "id": "199e3e20-4869-4066-b4ce-c914e221493d",
   "metadata": {},
   "outputs": [],
   "source": []
  }
 ],
 "metadata": {
  "kernelspec": {
   "display_name": "Python 3 (ipykernel)",
   "language": "python",
   "name": "python3"
  },
  "language_info": {
   "codemirror_mode": {
    "name": "ipython",
    "version": 3
   },
   "file_extension": ".py",
   "mimetype": "text/x-python",
   "name": "python",
   "nbconvert_exporter": "python",
   "pygments_lexer": "ipython3",
   "version": "3.12.0b3"
  }
 },
 "nbformat": 4,
 "nbformat_minor": 5
}
