{
 "cells": [
  {
   "cell_type": "markdown",
   "id": "8433267c-e538-444a-8fbf-bbe8f7eab0e2",
   "metadata": {
    "id": "8433267c-e538-444a-8fbf-bbe8f7eab0e2"
   },
   "source": [
    "# Loan Recommendation System \n",
    "### Approach - 2 \n",
    "### Applicant Age and State\n",
    "## POC - Proof Of Concept"
   ]
  },
  {
   "cell_type": "raw",
   "id": "3393d7be-0421-4ea8-90c0-d6104e07c990",
   "metadata": {},
   "source": [
    "ALS training , Cosine Similarity , Centered Cosine Similarity\n",
    "Created the Clusters according to own intutuin about Loan Amount by checking the patters drawn on histogram."
   ]
  },
  {
   "attachments": {},
   "cell_type": "markdown",
   "id": "d42fa2b8-f9f5-4795-958f-e86c7453430f",
   "metadata": {},
   "source": [
    "<img src=\"./ClusteringSchema.png\" />"
   ]
  },
  {
   "cell_type": "code",
   "execution_count": 1,
   "id": "e20dd32e-1530-42f6-bdf9-c3f5806e837b",
   "metadata": {
    "id": "e20dd32e-1530-42f6-bdf9-c3f5806e837b"
   },
   "outputs": [],
   "source": [
    "from pyspark.sql import SparkSession\n",
    "from pyspark.sql.functions import col, expr, rank, count #countDistinct\n",
    "from pyspark.sql import functions as F\n",
    "from pyspark.ml.recommendation import ALS\n",
    "from pyspark.ml.evaluation import RegressionEvaluator\n",
    "from pyspark.ml.linalg import Vectors  ##DenseMatrix\n",
    "import matplotlib.pyplot as plt\n",
    "import pandas as pd\n",
    "import numpy as np\n",
    "import operator\n",
    "import time"
   ]
  },
  {
   "cell_type": "code",
   "execution_count": null,
   "id": "ec2c3dd8-7bb0-4bfb-a8bf-cd51a0fd1de3",
   "metadata": {},
   "outputs": [],
   "source": []
  },
  {
   "cell_type": "code",
   "execution_count": 2,
   "id": "7feab969-e8a3-4d26-adb0-080556999837",
   "metadata": {
    "id": "7feab969-e8a3-4d26-adb0-080556999837"
   },
   "outputs": [],
   "source": [
    "spark = SparkSession.builder.appName('loan_recommendation_with_clusters').config(\"spark.driver.memory\", \"12g\").getOrCreate()"
   ]
  },
  {
   "cell_type": "code",
   "execution_count": 3,
   "id": "c193e8d5-ed73-4ce1-8c2a-8580263c5921",
   "metadata": {
    "colab": {
     "base_uri": "https://localhost:8080/"
    },
    "id": "c193e8d5-ed73-4ce1-8c2a-8580263c5921",
    "outputId": "35bc7aa7-972b-4000-ea33-dfbd4074f696"
   },
   "outputs": [
    {
     "name": "stdout",
     "output_type": "stream",
     "text": [
      "root\n",
      " |-- Id: string (nullable = true)\n",
      " |-- AccountID: string (nullable = true)\n",
      " |-- Number_Of_Loans_Granted__c: integer (nullable = true)\n",
      " |-- Num_Of_Loans_Paid__c: integer (nullable = true)\n",
      " |-- Purpose_of_Loan__c: string (nullable = true)\n",
      " |-- Total_Repayments__c: integer (nullable = true)\n",
      " |-- Amount: integer (nullable = true)\n",
      " |-- Term_in_Weeks__c: double (nullable = true)\n",
      " |-- Payment_Frequency__c: string (nullable = true)\n",
      " |-- StageName: string (nullable = true)\n",
      " |-- Applicant Age: integer (nullable = true)\n",
      " |-- summary_income: double (nullable = true)\n",
      " |-- summary_income_cv: double (nullable = true)\n",
      " |-- city: string (nullable = true)\n",
      " |-- state: string (nullable = true)\n",
      " |-- Country: string (nullable = true)\n",
      " |-- userId: integer (nullable = true)\n",
      " |-- loanId: integer (nullable = true)\n",
      " |-- count: integer (nullable = true)\n",
      " |-- Cluster_result: integer (nullable = true)\n",
      " |-- Cluster_Group: integer (nullable = true)\n",
      "\n"
     ]
    }
   ],
   "source": [
    "# loans_df = spark.read.csv(\"RecommendData/df_temp_cluster_rating_condition_data.csv\", inferSchema=True, header=True)\n",
    "loans_df = spark.read.csv(\"Loan_Dataset/df_demographic_data_approach-2_v-5.csv\", inferSchema=True, header=True)\n",
    "\n",
    "loans_df.printSchema()"
   ]
  },
  {
   "cell_type": "code",
   "execution_count": 4,
   "id": "_wOkxYLVyNiw",
   "metadata": {
    "colab": {
     "base_uri": "https://localhost:8080/"
    },
    "id": "_wOkxYLVyNiw",
    "outputId": "cfcd8bbe-05c0-4c1e-a4d8-7c7d05b6ffbd"
   },
   "outputs": [
    {
     "name": "stdout",
     "output_type": "stream",
     "text": [
      "+-------+-----------------+-------------------+--------------------+------------------+------------------+\n",
      "|summary|           Amount|Total_Repayments__c|Payment_Frequency__c|             count|     Cluster_Group|\n",
      "+-------+-----------------+-------------------+--------------------+------------------+------------------+\n",
      "|  count|           481006|             481006|              481006|            481006|            481006|\n",
      "|   mean|861.6137844434373|  7.075683047612712|                NULL|1.6787087894953494| 33.69050905809907|\n",
      "| stddev|809.0864163552588|   4.13665257694341|                NULL|0.8990843698676179|15.860555961145188|\n",
      "|    min|              100|                  1|         Fortnightly|                 0|                 1|\n",
      "|    max|             5000|                 45|              Weekly|                 8|                88|\n",
      "+-------+-----------------+-------------------+--------------------+------------------+------------------+\n",
      "\n"
     ]
    }
   ],
   "source": [
    "loans_df.select([\"Amount\",\"Total_Repayments__c\",\"Payment_Frequency__c\",\"count\",\"Cluster_Group\"]).describe().show(10)"
   ]
  },
  {
   "cell_type": "code",
   "execution_count": 78,
   "id": "5eed5a11-8e0a-44b3-bf4c-ba0c3ccbc428",
   "metadata": {},
   "outputs": [
    {
     "name": "stdout",
     "output_type": "stream",
     "text": [
      "+-------+------------------+------------------+\n",
      "|summary|    summary_income| summary_income_cv|\n",
      "+-------+------------------+------------------+\n",
      "|  count|            481006|            481006|\n",
      "|   mean| 5685.780586499911|6108.1622303671475|\n",
      "| stddev|252863.60798053938| 16676.18337996901|\n",
      "|    min|               0.0|            -769.5|\n",
      "|    max|     8.714009417E7|         8228670.0|\n",
      "+-------+------------------+------------------+\n",
      "\n"
     ]
    }
   ],
   "source": [
    "loans_df.select([\"summary_income\",\"summary_income_cv\"]).describe().show(10)"
   ]
  },
  {
   "cell_type": "markdown",
   "id": "4bfaf097-19ab-46bc-8aaf-cc8a2a427600",
   "metadata": {
    "id": "4bfaf097-19ab-46bc-8aaf-cc8a2a427600"
   },
   "source": [
    "* Id: Likely a unique identifier for each data point.\n",
    "* AccountID: Unique identifier for an account (possibly borrower).\n",
    "* Loan-related features: \n",
    "    1. Number_Of_Loans_Granted__c: Number of loans granted to the account.\n",
    "    2. Num_Of_Loans_Paid__c: Number of loans paid by the account.\n",
    "    3. Purpose_of_Loan__c: Category of the loan purpose (e.g., mortgage, education).\n",
    "    4. Total_Repayments__c: Total amount repaid by the account.\n",
    "    5. Amount: Loan amount requested.\n",
    "    6. Term_in_Weeks__c: Loan term in weeks.\n",
    "    7. Payment_Frequency__c: Frequency of loan repayment (e.g., weekly, monthly).\n",
    "* Borrower-related features:\n",
    "    1. StageName: Current stage of the loan application (e.g., application, approved, rejected).    \n",
    "    2. Applicant Age: Age of the loan applicant    \n",
    "    3. summary_income: Summary of applicant's incom    \n",
    "    4. summary_income_cv: Coefficient of variation of applicant's income\n",
    "    5. Location-related features:\n",
    "    6. city: City of the applicant.\n",
    "    7. state: State of the applicant.\n",
    "    8. Country: Country of the applicant\n",
    "* Additional features:\n",
    "    1. userId: Unique identifier for a user Account Id in Numeric).     \n",
    "    2. loanId: Unique identifier for a lo (Id or loanId in Numeric)\n",
    "    3. counFeature related to the Ratings of the Loans.\n",
    "    4. LoanIdFormat: Format of the loan(Created LoanId using Clusters)."
   ]
  },
  {
   "cell_type": "code",
   "execution_count": 5,
   "id": "66fda6a1-a162-4b31-9076-0a3a230f16de",
   "metadata": {
    "colab": {
     "base_uri": "https://localhost:8080/"
    },
    "id": "66fda6a1-a162-4b31-9076-0a3a230f16de",
    "outputId": "be53b169-4850-4a81-af21-8c6bc59651d8"
   },
   "outputs": [
    {
     "name": "stdout",
     "output_type": "stream",
     "text": [
      "+-------------+--------------+------+-------------------+--------------------+-----+\n",
      "|Cluster_Group|Cluster_result|Amount|Total_Repayments__c|Payment_Frequency__c|count|\n",
      "+-------------+--------------+------+-------------------+--------------------+-----+\n",
      "|            1|             1|   100|                  3|         Fortnightly|    1|\n",
      "|            1|             1|   100|                  3|         Fortnightly|    1|\n",
      "|            1|             1|   150|                 10|              Weekly|    1|\n",
      "|            1|             1|   100|                  3|         Fortnightly|    1|\n",
      "|            1|             2|   200|                  5|         Fortnightly|    1|\n",
      "|            1|             2|   200|                  5|         Fortnightly|    1|\n",
      "|            1|             2|   200|                  5|         Fortnightly|    1|\n",
      "|            1|             2|   200|                  6|              Weekly|    1|\n",
      "|            1|             2|   200|                  5|         Fortnightly|    2|\n",
      "|            1|             2|   200|                  5|         Fortnightly|    2|\n",
      "+-------------+--------------+------+-------------------+--------------------+-----+\n",
      "only showing top 10 rows\n",
      "\n"
     ]
    }
   ],
   "source": [
    "loans_df.select([\"Cluster_Group\",\"Cluster_result\",\"Amount\",\"Total_Repayments__c\",\"Payment_Frequency__c\",\"count\"]).show(10)"
   ]
  },
  {
   "cell_type": "markdown",
   "id": "b9c00e8d-2a22-467e-a46a-8275b07e8a1d",
   "metadata": {
    "id": "b9c00e8d-2a22-467e-a46a-8275b07e8a1d"
   },
   "source": [
    "### Aggregating the loans per user (getting all loans for each user user)"
   ]
  },
  {
   "cell_type": "code",
   "execution_count": 6,
   "id": "1f3bbcf2-2094-4a5f-a1f9-4cc11caa6ecd",
   "metadata": {
    "id": "1f3bbcf2-2094-4a5f-a1f9-4cc11caa6ecd"
   },
   "outputs": [],
   "source": [
    "user_loans = loans_df.groupby(\"userId\").agg(F.collect_set(\"Cluster_result\").alias(\"loans\"))"
   ]
  },
  {
   "cell_type": "code",
   "execution_count": 7,
   "id": "3c03a160-ff69-437a-b5a7-771d7ded072e",
   "metadata": {
    "id": "3c03a160-ff69-437a-b5a7-771d7ded072e"
   },
   "outputs": [],
   "source": [
    "Actual_loans_taken = user_loans.toPandas().to_dict('records')"
   ]
  },
  {
   "cell_type": "markdown",
   "id": "29df3020-fddb-4fed-8476-d5f5fdc7787e",
   "metadata": {},
   "source": [
    "### EDA - Exploratory Data Analysis "
   ]
  },
  {
   "cell_type": "markdown",
   "id": "c8e16b8f-5128-4cac-9dd5-853ae81884da",
   "metadata": {},
   "source": [
    "<img src=\"https://editor.analyticsvidhya.com/uploads/24537Zoom-EDA.png\" height=500 width=\"500\" />"
   ]
  },
  {
   "cell_type": "code",
   "execution_count": 8,
   "id": "b17fa619-e0b5-459a-aa9b-1b30dfb9b411",
   "metadata": {
    "colab": {
     "base_uri": "https://localhost:8080/"
    },
    "id": "b17fa619-e0b5-459a-aa9b-1b30dfb9b411",
    "outputId": "9d5eec1e-cd5d-4d5d-d014-488ebbf8c76a"
   },
   "outputs": [
    {
     "name": "stdout",
     "output_type": "stream",
     "text": [
      "+-------+------------------+------------------+------------------+------------------+-----------------+--------------------------+--------------------+\n",
      "|summary|     Cluster_Group|            userId|    Cluster_result|             count|           Amount|Number_Of_Loans_Granted__c|Num_Of_Loans_Paid__c|\n",
      "+-------+------------------+------------------+------------------+------------------+-----------------+--------------------------+--------------------+\n",
      "|  count|            481006|            481006|            481006|            481006|           481006|                    481006|              481006|\n",
      "|   mean| 33.69050905809907| 24325.14109387409|11.569057350635958|1.6787087894953494|861.6137844434373|         11.97594832496892|  11.937333422036316|\n",
      "| stddev|15.860555961145188|15296.967890708223| 8.303411728823416|0.8990843698676179|809.0864163552588|         8.181301138039649|   8.304372921673831|\n",
      "|    min|                 1|                 1|                 1|                 0|              100|                         0|                   3|\n",
      "|    max|                88|             59174|                38|                 8|             5000|                        73|                  73|\n",
      "+-------+------------------+------------------+------------------+------------------+-----------------+--------------------------+--------------------+\n",
      "\n"
     ]
    }
   ],
   "source": [
    "loans_df.select([\"Cluster_Group\",\"userId\",\"Cluster_result\",\"count\",\"Amount\",\"Number_Of_Loans_Granted__c\",\"Num_Of_Loans_Paid__c\"]).describe().show()"
   ]
  },
  {
   "cell_type": "markdown",
   "id": "79c26c2f-a109-404a-8bed-23d9f9f2e7aa",
   "metadata": {
    "id": "879b0ed5-5a6a-4f4f-a02a-1ef3be15bd8d"
   },
   "source": [
    "#### Plotting the Frequnecy of Count(Ratings)"
   ]
  },
  {
   "cell_type": "code",
   "execution_count": 79,
   "id": "1169fb2b-a1a2-4a91-a6ab-8bb02dba3bd3",
   "metadata": {},
   "outputs": [
    {
     "data": {
      "image/png": "[encoded data removed]",
      "text/plain": [
       "<Figure size 640x480 with 1 Axes>"
      ]
     },
     "metadata": {},
     "output_type": "display_data"
    }
   ],
   "source": [
    "hist_data['summary_income'].hist()\n",
    "plt.xlabel(\"summary_income\")\n",
    "plt.ylabel(\"Frequency\")\n",
    "plt.title(f\"Histogram of count\")\n",
    "plt.show()"
   ]
  },
  {
   "cell_type": "code",
   "execution_count": 9,
   "id": "8e20cc21-d8fc-478f-ae00-442e698e0c7b",
   "metadata": {
    "colab": {
     "base_uri": "https://localhost:8080/",
     "height": 472
    },
    "id": "8e20cc21-d8fc-478f-ae00-442e698e0c7b",
    "outputId": "2b35959a-6515-4167-f6fe-77670bdf5621"
   },
   "outputs": [
    {
     "data": {
      "image/png": "[encoded data removed]",
      "text/plain": [
       "<Figure size 640x480 with 1 Axes>"
      ]
     },
     "metadata": {},
     "output_type": "display_data"
    }
   ],
   "source": [
    "hist_data  = loans_df.toPandas()\n",
    "\n",
    "hist_data['count'].hist()\n",
    "plt.xlabel(\"count\")\n",
    "plt.ylabel(\"Frequency\")\n",
    "plt.title(f\"Histogram of count\")\n",
    "plt.show()"
   ]
  },
  {
   "cell_type": "code",
   "execution_count": 10,
   "id": "c26920fa-9008-4bb7-a49f-696a18c18d75",
   "metadata": {},
   "outputs": [
    {
     "data": {
      "image/png": "[encoded data removed]",
      "text/plain": [
       "<Figure size 640x480 with 1 Axes>"
      ]
     },
     "metadata": {},
     "output_type": "display_data"
    }
   ],
   "source": [
    "hist_data['Amount'].hist(bins=30)\n",
    "plt.xlabel(\"Amount\")\n",
    "plt.ylabel(\"Frequency\")\n",
    "plt.title(f\"Histogram of count\")\n",
    "plt.show()"
   ]
  },
  {
   "cell_type": "code",
   "execution_count": 11,
   "id": "5a1f88ad-0274-45e5-a424-7f8acc28e0d3",
   "metadata": {},
   "outputs": [
    {
     "data": {
      "image/png": "[encoded data removed]",
      "text/plain": [
       "<Figure size 640x480 with 1 Axes>"
      ]
     },
     "metadata": {},
     "output_type": "display_data"
    }
   ],
   "source": [
    "hist_data['Cluster_Group'].hist(bins=30)\n",
    "plt.xlabel(\"Cluster_Group\")\n",
    "plt.ylabel(\"Frequency\")\n",
    "plt.title(f\"Histogram of count\")\n",
    "plt.show()"
   ]
  },
  {
   "cell_type": "markdown",
   "id": "933367fb-a834-46ad-956d-50aa18f5dcac",
   "metadata": {},
   "source": [
    "#### Counting the No. of user & No. of Loans & No. of Explicitely Created Loan Id (Clustered Loan Id's)"
   ]
  },
  {
   "cell_type": "code",
   "execution_count": 12,
   "id": "93606394-8fb4-4d30-8235-c8e1cdb15a13",
   "metadata": {
    "colab": {
     "base_uri": "https://localhost:8080/"
    },
    "id": "93606394-8fb4-4d30-8235-c8e1cdb15a13",
    "outputId": "a22f27c8-e289-4239-c523-26008a1dbcd1"
   },
   "outputs": [
    {
     "name": "stdout",
     "output_type": "stream",
     "text": [
      "Number of unique loanId_format: 38\n",
      "Number of unique Loan Id: 407324\n"
     ]
    }
   ],
   "source": [
    "# Count the number of unique items\n",
    "num_unique_loan_id_format = loans_df.select('Cluster_result').distinct().count()\n",
    "print(f\"Number of unique loanId_format: {num_unique_loan_id_format}\")\n",
    "\n",
    "# Count the number of unique users\n",
    "num_unique_id = loans_df.select('Id').distinct().count()\n",
    "print(f\"Number of unique Loan Id: {num_unique_id}\")"
   ]
  },
  {
   "cell_type": "code",
   "execution_count": 13,
   "id": "aa9f871b-ee01-470a-af88-09d50dc228cb",
   "metadata": {
    "colab": {
     "base_uri": "https://localhost:8080/"
    },
    "id": "aa9f871b-ee01-470a-af88-09d50dc228cb",
    "outputId": "b65a41c3-e5d6-45f7-c51d-197262023df3"
   },
   "outputs": [
    {
     "name": "stdout",
     "output_type": "stream",
     "text": [
      "Number of unique users: 59150\n"
     ]
    }
   ],
   "source": [
    "# Count the number of unique items\n",
    "tmp = loans_df.select('userId').distinct().count()\n",
    "print(f\"Number of unique users: {tmp}\")"
   ]
  },
  {
   "cell_type": "code",
   "execution_count": 14,
   "id": "6597ec0c-b9e9-4f99-95b6-503ae70a22d9",
   "metadata": {},
   "outputs": [],
   "source": [
    "# creating a temporary view of \n",
    "# Dataframe and storing it into df2\n",
    "loans_df.createOrReplaceTempView(\"df2\")"
   ]
  },
  {
   "cell_type": "code",
   "execution_count": 15,
   "id": "1933d971-c0c7-4c6f-97c8-e66396d52428",
   "metadata": {},
   "outputs": [],
   "source": [
    "# User Groups and their respective counts counts"
   ]
  },
  {
   "cell_type": "code",
   "execution_count": 16,
   "id": "3dc72a0e-5514-43da-9aaf-c0e9f043724b",
   "metadata": {},
   "outputs": [
    {
     "name": "stdout",
     "output_type": "stream",
     "text": [
      "+-------------+-----+\n",
      "|Cluster_Group|count|\n",
      "+-------------+-----+\n",
      "|           12|13080|\n",
      "|            1|  823|\n",
      "|           13| 3856|\n",
      "|            6|   74|\n",
      "|           16| 1140|\n",
      "|            3|  543|\n",
      "|           20|23374|\n",
      "|            5|  301|\n",
      "|           19|10181|\n",
      "|           15| 1227|\n",
      "|            9|13192|\n",
      "|           17|21920|\n",
      "|            4|  692|\n",
      "|            8|   69|\n",
      "|            7|  147|\n",
      "|           10| 8602|\n",
      "|           21| 5725|\n",
      "|           11| 7295|\n",
      "|           14|  892|\n",
      "|            2|  638|\n",
      "+-------------+-----+\n",
      "only showing top 20 rows\n",
      "\n"
     ]
    }
   ],
   "source": [
    " \n",
    "# using the SQL query to count all\n",
    "# distinct records and display the\n",
    "# count on the screen\n",
    "spark.sql(\"SELECT Cluster_Group, COUNT(*) AS count FROM df2 GROUP BY Cluster_Group\").show()"
   ]
  },
  {
   "cell_type": "code",
   "execution_count": 17,
   "id": "d86ec7dc-33d1-4b04-847e-019cdce8200c",
   "metadata": {},
   "outputs": [
    {
     "name": "stdout",
     "output_type": "stream",
     "text": [
      "+-------+------------------+\n",
      "|summary|     Cluster_Group|\n",
      "+-------+------------------+\n",
      "|  count|            481006|\n",
      "|   mean| 33.69050905809907|\n",
      "| stddev|15.860555961145188|\n",
      "|    min|                 1|\n",
      "|    max|                88|\n",
      "+-------+------------------+\n",
      "\n"
     ]
    }
   ],
   "source": [
    "loans_df.select(\"Cluster_Group\").describe().show()"
   ]
  },
  {
   "cell_type": "code",
   "execution_count": 18,
   "id": "ea6eb21c-271a-4976-bd54-7b6881c8f258",
   "metadata": {},
   "outputs": [
    {
     "name": "stdout",
     "output_type": "stream",
     "text": [
      "+-----+------+\n",
      "|count| count|\n",
      "+-----+------+\n",
      "|    1|264313|\n",
      "|    6|   523|\n",
      "|    3| 61952|\n",
      "|    5|  2910|\n",
      "|    4| 17975|\n",
      "|    2|133130|\n",
      "|    0|     6|\n",
      "|    7|   124|\n",
      "|    8|    73|\n",
      "+-----+------+\n",
      "\n"
     ]
    }
   ],
   "source": [
    "spark.sql(\"SELECT count, COUNT(*) AS count FROM df2 GROUP BY count\").show()"
   ]
  },
  {
   "cell_type": "code",
   "execution_count": 19,
   "id": "b950785a-5333-4707-8064-70b71ef2318a",
   "metadata": {},
   "outputs": [
    {
     "name": "stdout",
     "output_type": "stream",
     "text": [
      "+--------------+-----+\n",
      "|Cluster_result|count|\n",
      "+--------------+-----+\n",
      "|            31|  260|\n",
      "|            34|  191|\n",
      "|            28|  261|\n",
      "|            26| 2775|\n",
      "|            27| 3691|\n",
      "|            12|14659|\n",
      "|            22| 3278|\n",
      "|             1|  203|\n",
      "|            13| 4990|\n",
      "|             6|32680|\n",
      "|            16|46307|\n",
      "|             3|18546|\n",
      "|            20| 4513|\n",
      "|             5|13555|\n",
      "|            19| 4206|\n",
      "|            15| 8466|\n",
      "|            37|  434|\n",
      "|             9| 3556|\n",
      "|            17| 3636|\n",
      "|            35| 1480|\n",
      "+--------------+-----+\n",
      "only showing top 20 rows\n",
      "\n"
     ]
    }
   ],
   "source": [
    "spark.sql(\"SELECT Cluster_result, COUNT(*) AS count FROM df2 GROUP BY Cluster_result\").show()"
   ]
  },
  {
   "cell_type": "markdown",
   "id": "d8329935-38de-4370-bb9e-3d3f584b7331",
   "metadata": {},
   "source": [
    "#### Values of count(Rating) Column."
   ]
  },
  {
   "cell_type": "code",
   "execution_count": 20,
   "id": "41d386c0-47de-457f-a0f1-4efb4f9ff850",
   "metadata": {
    "colab": {
     "base_uri": "https://localhost:8080/"
    },
    "id": "41d386c0-47de-457f-a0f1-4efb4f9ff850",
    "outputId": "d7e9b873-14c7-44f8-f496-d6fc7871cc10"
   },
   "outputs": [
    {
     "name": "stdout",
     "output_type": "stream",
     "text": [
      "Distinct values of count:\n",
      "+-----+\n",
      "|count|\n",
      "+-----+\n",
      "|    0|\n",
      "|    1|\n",
      "|    2|\n",
      "|    3|\n",
      "|    4|\n",
      "|    5|\n",
      "|    6|\n",
      "|    7|\n",
      "|    8|\n",
      "+-----+\n",
      "\n"
     ]
    }
   ],
   "source": [
    "print('Distinct values of count:')\n",
    "loans_df.select('count').distinct().orderBy(\"count\").show()"
   ]
  },
  {
   "cell_type": "markdown",
   "id": "6ea6197c-53b9-4c06-a20d-1e1f2233d371",
   "metadata": {
    "id": "6ea6197c-53b9-4c06-a20d-1e1f2233d371"
   },
   "source": [
    "### Converting the dataset into train validation split."
   ]
  },
  {
   "cell_type": "code",
   "execution_count": 21,
   "id": "25b7a938-17f5-460f-a3bf-78ebd6628477",
   "metadata": {
    "colab": {
     "base_uri": "https://localhost:8080/"
    },
    "id": "25b7a938-17f5-460f-a3bf-78ebd6628477",
    "outputId": "ca050fbb-ec36-449a-a158-bd295d61f4c7"
   },
   "outputs": [
    {
     "name": "stdout",
     "output_type": "stream",
     "text": [
      "+--------------+-----+-------------+\n",
      "|Cluster_result|count|Cluster_Group|\n",
      "+--------------+-----+-------------+\n",
      "|             1|    1|            1|\n",
      "|             1|    1|            1|\n",
      "|             1|    1|            1|\n",
      "|             1|    1|            1|\n",
      "|             2|    1|            1|\n",
      "|             2|    1|            1|\n",
      "|             2|    1|            1|\n",
      "|             2|    1|            1|\n",
      "|             2|    2|            1|\n",
      "|             2|    2|            1|\n",
      "+--------------+-----+-------------+\n",
      "only showing top 10 rows\n",
      "\n"
     ]
    }
   ],
   "source": [
    "# we have to use 3 columns or features to put into the ALs Model.\n",
    "loans_df.select([\"Cluster_result\",\"count\",\"Cluster_Group\"]).show(10)"
   ]
  },
  {
   "cell_type": "code",
   "execution_count": 22,
   "id": "471dc8a3-2474-41c2-a4c2-d3f09756df0d",
   "metadata": {
    "colab": {
     "base_uri": "https://localhost:8080/"
    },
    "id": "471dc8a3-2474-41c2-a4c2-d3f09756df0d",
    "outputId": "52665e11-2fa3-44d2-a6ec-2ca780e2ed12"
   },
   "outputs": [
    {
     "data": {
      "text/plain": [
       "DataFrame[Id: string, AccountID: string, Number_Of_Loans_Granted__c: int, Num_Of_Loans_Paid__c: int, Purpose_of_Loan__c: string, Total_Repayments__c: int, Amount: int, Term_in_Weeks__c: double, Payment_Frequency__c: string, StageName: string, Applicant Age: int, summary_income: double, summary_income_cv: double, city: string, state: string, Country: string, userId: int, loanId: int, count: int, Cluster_result: int, Cluster_Group: int]"
      ]
     },
     "execution_count": 22,
     "metadata": {},
     "output_type": "execute_result"
    }
   ],
   "source": [
    "train, validation = loans_df.randomSplit([0.8, 0.2])\n",
    "train.cache()\n",
    "validation.cache()"
   ]
  },
  {
   "cell_type": "code",
   "execution_count": 23,
   "id": "b2ad213d-bf88-4d40-b43e-609a301116fe",
   "metadata": {
    "colab": {
     "base_uri": "https://localhost:8080/"
    },
    "id": "b2ad213d-bf88-4d40-b43e-609a301116fe",
    "outputId": "6f47e580-7040-4096-a3cd-b17a451c7b0d"
   },
   "outputs": [
    {
     "name": "stdout",
     "output_type": "stream",
     "text": [
      "+-------------+------+------+--------------+-----+------+-------------------+\n",
      "|Cluster_Group|userId|loanId|Cluster_result|count|Amount|Total_Repayments__c|\n",
      "+-------------+------+------+--------------+-----+------+-------------------+\n",
      "|           18| 23812|    41|             6|    2|   400|                 10|\n",
      "|           17|   161|    50|             8|    1|   500|                  3|\n",
      "|           17|   161|    50|             8|    1|   500|                  3|\n",
      "|           18|   165|    54|             8|    1|   500|                 10|\n",
      "|            9| 24489|   111|             6|    3|   400|                  2|\n",
      "|           17| 24568|   117|             4|    4|   300|                  4|\n",
      "|           20| 23462|   126|             8|    2|   500|                 10|\n",
      "|           18| 24742|   157|             4|    1|   300|                  5|\n",
      "|           17| 24806|   173|             6|    4|   400|                  2|\n",
      "|           20|    59|   211|             2|    1|   200|                  1|\n",
      "|           20|    70|   226|             2|    1|   200|                  2|\n",
      "|           14|    76|   231|             6|    1|   400|                 10|\n",
      "|           20|    92|   259|             4|    1|   300|                  4|\n",
      "|           18|    95|   268|             8|    1|   500|                 10|\n",
      "|           18| 25082|   269|             4|    1|   300|                  4|\n",
      "|            9|   118|   317|             6|    3|   400|                  5|\n",
      "|           20| 25343|   322|             5|    4|   350|                  4|\n",
      "|           21|   126|   329|             4|    1|   300|                  4|\n",
      "|           18|   195|   345|             3|    1|   250|                  5|\n",
      "|           17|   198|   348|            16|    2|  1000|                  5|\n",
      "+-------------+------+------+--------------+-----+------+-------------------+\n",
      "only showing top 20 rows\n",
      "\n"
     ]
    }
   ],
   "source": [
    "validation.select([\"Cluster_Group\",\"userId\",\"loanId\",\"Cluster_result\",\"count\",\"Amount\",\"Total_Repayments__c\"]).show()"
   ]
  },
  {
   "cell_type": "code",
   "execution_count": 24,
   "id": "b4ec2ccf-e2df-4169-82d1-84b24e8cdf75",
   "metadata": {
    "colab": {
     "base_uri": "https://localhost:8080/"
    },
    "id": "b4ec2ccf-e2df-4169-82d1-84b24e8cdf75",
    "outputId": "f19eaff2-a5e0-49f3-f62e-b001cff34f4f"
   },
   "outputs": [
    {
     "name": "stdout",
     "output_type": "stream",
     "text": [
      "root\n",
      " |-- Id: string (nullable = true)\n",
      " |-- AccountID: string (nullable = true)\n",
      " |-- Number_Of_Loans_Granted__c: integer (nullable = true)\n",
      " |-- Num_Of_Loans_Paid__c: integer (nullable = true)\n",
      " |-- Purpose_of_Loan__c: string (nullable = true)\n",
      " |-- Total_Repayments__c: integer (nullable = true)\n",
      " |-- Amount: integer (nullable = true)\n",
      " |-- Term_in_Weeks__c: double (nullable = true)\n",
      " |-- Payment_Frequency__c: string (nullable = true)\n",
      " |-- StageName: string (nullable = true)\n",
      " |-- Applicant Age: integer (nullable = true)\n",
      " |-- summary_income: double (nullable = true)\n",
      " |-- summary_income_cv: double (nullable = true)\n",
      " |-- city: string (nullable = true)\n",
      " |-- state: string (nullable = true)\n",
      " |-- Country: string (nullable = true)\n",
      " |-- userId: integer (nullable = true)\n",
      " |-- loanId: integer (nullable = true)\n",
      " |-- count: integer (nullable = true)\n",
      " |-- Cluster_result: integer (nullable = true)\n",
      " |-- Cluster_Group: integer (nullable = true)\n",
      "\n"
     ]
    }
   ],
   "source": [
    "loans_df.printSchema()"
   ]
  },
  {
   "cell_type": "code",
   "execution_count": 25,
   "id": "d5b8e385-ea9a-408f-b8fd-25e7160b8bf6",
   "metadata": {
    "id": "e2226eb6-5980-4249-bd83-5f3b6862faf1"
   },
   "outputs": [],
   "source": [
    "def train_ALS(train_data, validation_data, num_iters, reg_param, ranks):\n",
    "    \"\"\"\n",
    "    Grid Search Function to select the best model based on RMSE of hold-out data\n",
    "    \"\"\"\n",
    "    # initial\n",
    "    min_error = float('inf')\n",
    "    best_rank = -1\n",
    "    best_regularization = 0\n",
    "    best_model = None\n",
    "    for rank in ranks:\n",
    "        for reg in reg_param:\n",
    "            # Train the model using the training data\n",
    "            als_model = ALS(maxIter=num_iters,regParam=reg, rank=rank,\n",
    "                                        userCol='Cluster_Group', itemCol='Cluster_result', ratingCol='count', seed=99,\n",
    "                           coldStartStrategy=\"drop\",nonnegative=True)\n",
    "            model = als_model.fit(train_data)\n",
    "\n",
    "            # Generate predictions on the test data\n",
    "            predictions = model.transform(validation_data)\n",
    "            predictions = predictions.withColumn(\"prediction\", expr(\"CASE WHEN prediction < 0 THEN 0 WHEN prediction > 9 THEN 9 ELSE prediction END\"))\n",
    "\n",
    "            evaluator = RegressionEvaluator(metricName='rmse', labelCol='count', predictionCol='prediction')\n",
    "            error = evaluator.evaluate(predictions)\n",
    "\n",
    "            print('{} latent factors and regularization = {}: validation RMSE is {}'.format(rank, reg, error))\n",
    "            if error < min_error:\n",
    "                min_error = error\n",
    "                best_rank = rank\n",
    "                best_regularization = reg\n",
    "                best_model = model\n",
    "    print('\\nThe best model has {} latent factors and regularization = {}'.format(best_rank, best_regularization))\n",
    "    return best_model"
   ]
  },
  {
   "cell_type": "code",
   "execution_count": 26,
   "id": "dee88c45-50a4-4ad2-afd4-656ea78ff9c1",
   "metadata": {
    "colab": {
     "base_uri": "https://localhost:8080/"
    },
    "id": "fb8832fe-fe68-4372-9d4d-294633e187b0",
    "outputId": "3e5ff3d7-03e0-47ff-e991-54d111806a49"
   },
   "outputs": [
    {
     "name": "stdout",
     "output_type": "stream",
     "text": [
      "8 latent factors and regularization = 0.001: validation RMSE is 0.8631948404549146\n",
      "8 latent factors and regularization = 0.01: validation RMSE is 0.8630318870915092\n",
      "8 latent factors and regularization = 0.05: validation RMSE is 0.8667718527858383\n",
      "8 latent factors and regularization = 0.1: validation RMSE is 0.8719749979108091\n",
      "8 latent factors and regularization = 0.2: validation RMSE is 0.8886664753601575\n",
      "10 latent factors and regularization = 0.001: validation RMSE is 0.8623346969811225\n",
      "10 latent factors and regularization = 0.01: validation RMSE is 0.8624050303639864\n",
      "10 latent factors and regularization = 0.05: validation RMSE is 0.8676773747957697\n",
      "10 latent factors and regularization = 0.1: validation RMSE is 0.8727421427726082\n",
      "10 latent factors and regularization = 0.2: validation RMSE is 0.8887305739813294\n",
      "20 latent factors and regularization = 0.001: validation RMSE is 0.861497327707438\n",
      "20 latent factors and regularization = 0.01: validation RMSE is 0.8614989671082546\n",
      "20 latent factors and regularization = 0.05: validation RMSE is 0.866465986834486\n",
      "20 latent factors and regularization = 0.1: validation RMSE is 0.8717506822248117\n",
      "20 latent factors and regularization = 0.2: validation RMSE is 0.8886647786484859\n",
      "40 latent factors and regularization = 0.001: validation RMSE is 0.8620467762296944\n",
      "40 latent factors and regularization = 0.01: validation RMSE is 0.8611027450234067\n",
      "40 latent factors and regularization = 0.05: validation RMSE is 0.8660407211117487\n",
      "40 latent factors and regularization = 0.1: validation RMSE is 0.8711569907220058\n",
      "40 latent factors and regularization = 0.2: validation RMSE is 0.8885964187418653\n",
      "60 latent factors and regularization = 0.001: validation RMSE is 0.8615021276856593\n",
      "60 latent factors and regularization = 0.01: validation RMSE is 0.8610734089037843\n",
      "60 latent factors and regularization = 0.05: validation RMSE is 0.8660394055190099\n",
      "60 latent factors and regularization = 0.1: validation RMSE is 0.8713097158634551\n",
      "60 latent factors and regularization = 0.2: validation RMSE is 0.8886468096118288\n",
      "\n",
      "The best model has 60 latent factors and regularization = 0.01\n",
      "Total Runtime: 178.45 seconds\n"
     ]
    }
   ],
   "source": [
    "# hyper-param config\n",
    "num_iterations = 10\n",
    "ranks = [8, 10, 20, 40, 60]\n",
    "reg_params = [0.001, 0.01, 0.05, 0.1, 0.2]\n",
    "\n",
    "# grid search and select best model\n",
    "start_time = time.time()\n",
    "final_model = train_ALS(train, validation, num_iterations, reg_params, ranks)\n",
    "\n",
    "print ('Total Runtime: {:.2f} seconds'.format(time.time() - start_time))"
   ]
  },
  {
   "cell_type": "raw",
   "id": "3fecf41b-aafd-4e74-a2d5-7ef82cba8cc2",
   "metadata": {
    "id": "c7cf3c57-11f2-46bd-b434-1cebf52a0c13"
   },
   "source": [
    "#OLD :  40 latent factors and regularization = 0.001\n",
    "#NEW: The best model has 8 latent factors and regularization = 0.001\n",
    "03 feb : The best model has 10 latent factors and regularization = 0.001\n",
    "08 feb : The best model has 20 latent factors and regularization = 0.01\n",
    "11 feb : The best model has 20 latent factors and regularization = 0.01\n",
    "12 feb : The best model has 60 latent factors and regularization = 0.01 : validation RMSE is 0.03137979806564294\n",
    "\n",
    "\n",
    "In general, a lower RMSE value indicates better model performance, as it signifies that the model's predictions are closer to the observed values. However, there is no fixed threshold for what constitutes a \"good\" or \"ideal\" RMSE value, as it depends on factors such as the nature of the data, the complexity of the problem, and the specific requirements of the application."
   ]
  },
  {
   "cell_type": "code",
   "execution_count": null,
   "id": "c2b528f0-eec2-4227-9d7c-701fd06f07f8",
   "metadata": {},
   "outputs": [],
   "source": []
  },
  {
   "cell_type": "raw",
   "id": "ff089015-f438-4f06-a2cd-34fbad8ebdad",
   "metadata": {
    "scrolled": true
   },
   "source": [
    "final_model.save(\"Recommendation_ALS_Model_OWN_LOAN_CLUSTER_STRATEGY\")"
   ]
  },
  {
   "cell_type": "markdown",
   "id": "bc2b0ef2-8126-4a7e-b2c9-49851bf63c18",
   "metadata": {
    "id": "bc2b0ef2-8126-4a7e-b2c9-49851bf63c18"
   },
   "source": [
    "## Predicting the results from validation data"
   ]
  },
  {
   "cell_type": "code",
   "execution_count": 27,
   "id": "57ba7905-f3e0-4a23-8b3d-0c41ffa5d0ca",
   "metadata": {
    "id": "57ba7905-f3e0-4a23-8b3d-0c41ffa5d0ca"
   },
   "outputs": [],
   "source": [
    "predictions = final_model.transform(validation)\n",
    "# predictions = predictions.withColumn(\"prediction\", expr(\"CASE WHEN prediction < 0 THEN 0 WHEN prediction > 9 THEN 9 ELSE prediction END\"))"
   ]
  },
  {
   "cell_type": "code",
   "execution_count": 30,
   "id": "1a46b8e0-8a56-40ee-96dd-9f42ed2874bb",
   "metadata": {},
   "outputs": [
    {
     "name": "stdout",
     "output_type": "stream",
     "text": [
      "root\n",
      " |-- Id: string (nullable = true)\n",
      " |-- AccountID: string (nullable = true)\n",
      " |-- Number_Of_Loans_Granted__c: integer (nullable = true)\n",
      " |-- Num_Of_Loans_Paid__c: integer (nullable = true)\n",
      " |-- Purpose_of_Loan__c: string (nullable = true)\n",
      " |-- Total_Repayments__c: integer (nullable = true)\n",
      " |-- Amount: integer (nullable = true)\n",
      " |-- Term_in_Weeks__c: double (nullable = true)\n",
      " |-- Payment_Frequency__c: string (nullable = true)\n",
      " |-- StageName: string (nullable = true)\n",
      " |-- Applicant Age: integer (nullable = true)\n",
      " |-- summary_income: double (nullable = true)\n",
      " |-- summary_income_cv: double (nullable = true)\n",
      " |-- city: string (nullable = true)\n",
      " |-- state: string (nullable = true)\n",
      " |-- Country: string (nullable = true)\n",
      " |-- userId: integer (nullable = true)\n",
      " |-- loanId: integer (nullable = true)\n",
      " |-- count: integer (nullable = true)\n",
      " |-- Cluster_result: integer (nullable = true)\n",
      " |-- Cluster_Group: integer (nullable = true)\n",
      " |-- prediction: float (nullable = false)\n",
      "\n"
     ]
    }
   ],
   "source": [
    "predictions.printSchema()"
   ]
  },
  {
   "cell_type": "code",
   "execution_count": 31,
   "id": "6cd93785-db30-4571-b897-8ccf3d28e6fa",
   "metadata": {
    "colab": {
     "base_uri": "https://localhost:8080/"
    },
    "id": "6cd93785-db30-4571-b897-8ccf3d28e6fa",
    "outputId": "96d1432d-747d-42dd-9a7f-928f2ac2b98e"
   },
   "outputs": [
    {
     "name": "stdout",
     "output_type": "stream",
     "text": [
      "+-------------+--------------+----------+\n",
      "|Cluster_Group|Cluster_result|prediction|\n",
      "+-------------+--------------+----------+\n",
      "|           68|             2|  1.949957|\n",
      "|           68|             6| 1.9977096|\n",
      "|           68|             8| 2.0455227|\n",
      "|           68|             8| 2.0455227|\n",
      "|           68|             2|  1.949957|\n",
      "+-------------+--------------+----------+\n",
      "\n"
     ]
    }
   ],
   "source": [
    "predictions.filter(predictions.userId == 10).select(\"Cluster_Group\", \"Cluster_result\", \"prediction\").show(20)"
   ]
  },
  {
   "cell_type": "markdown",
   "id": "ec61d4fc-bf4d-4d22-a160-2df1e5e19246",
   "metadata": {
    "id": "ec61d4fc-bf4d-4d22-a160-2df1e5e19246"
   },
   "source": [
    "## Error Evaluation with RMSE"
   ]
  },
  {
   "cell_type": "markdown",
   "id": "e2d55e52-4dec-48df-8df2-88866b499378",
   "metadata": {
    "id": "e2d55e52-4dec-48df-8df2-88866b499378"
   },
   "source": [
    "<img src=\"https://docs.oracle.com/en/cloud/saas/planning-budgeting-cloud/pfusu/img/insights_rmse_formula.jpg\" height=\"300\" width=\"300\" />"
   ]
  },
  {
   "cell_type": "code",
   "execution_count": 32,
   "id": "5e28740c-bd7f-4213-986a-04b0b8453f48",
   "metadata": {
    "colab": {
     "base_uri": "https://localhost:8080/"
    },
    "id": "5e28740c-bd7f-4213-986a-04b0b8453f48",
    "outputId": "919fe55b-832c-41b1-b13e-c65d2061fa3b"
   },
   "outputs": [
    {
     "name": "stdout",
     "output_type": "stream",
     "text": [
      "Root Mean Squared Error (RMSE) = 0.8610734089037843\n"
     ]
    }
   ],
   "source": [
    "# Evaluate the model using Root Mean Squared Error (RMSE)\n",
    "evaluator = RegressionEvaluator(metricName=\"rmse\", labelCol=\"count\", predictionCol=\"prediction\")\n",
    "rmse = evaluator.evaluate(predictions)\n",
    "print(\"Root Mean Squared Error (RMSE) = \" + str(rmse))"
   ]
  },
  {
   "cell_type": "markdown",
   "id": "c8069530-1743-4e8b-81de-d8726a15a25e",
   "metadata": {
    "id": "c8069530-1743-4e8b-81de-d8726a15a25e"
   },
   "source": [
    "## Recommendation of N users"
   ]
  },
  {
   "cell_type": "code",
   "execution_count": 33,
   "id": "5fbbfcf7-90ab-4c5e-a5e4-d781f369fb39",
   "metadata": {
    "id": "5fbbfcf7-90ab-4c5e-a5e4-d781f369fb39"
   },
   "outputs": [],
   "source": [
    "userRecommends = final_model.recommendForAllUsers(5)\n",
    "loanRecommends = final_model.recommendForAllItems(5)"
   ]
  },
  {
   "cell_type": "code",
   "execution_count": 34,
   "id": "ba1eaaf8-ecef-43e9-9070-e70c3c6d8315",
   "metadata": {
    "colab": {
     "base_uri": "https://localhost:8080/"
    },
    "id": "ba1eaaf8-ecef-43e9-9070-e70c3c6d8315",
    "outputId": "a0e7e3d1-e16a-4114-bc65-15e9715c18a7"
   },
   "outputs": [
    {
     "name": "stdout",
     "output_type": "stream",
     "text": [
      "root\n",
      " |-- Cluster_Group: integer (nullable = false)\n",
      " |-- recommendations: array (nullable = true)\n",
      " |    |-- element: struct (containsNull = true)\n",
      " |    |    |-- Cluster_result: integer (nullable = true)\n",
      " |    |    |-- rating: float (nullable = true)\n",
      "\n"
     ]
    }
   ],
   "source": [
    "userRecommends.printSchema()"
   ]
  },
  {
   "cell_type": "code",
   "execution_count": 35,
   "id": "e1d49ac8-fae2-43c6-97dd-016464edf5ea",
   "metadata": {
    "colab": {
     "base_uri": "https://localhost:8080/"
    },
    "id": "e1d49ac8-fae2-43c6-97dd-016464edf5ea",
    "outputId": "05f7e327-fc70-4e45-f9f3-2b3bcd5401e3"
   },
   "outputs": [
    {
     "name": "stdout",
     "output_type": "stream",
     "text": [
      "root\n",
      " |-- Id: string (nullable = true)\n",
      " |-- AccountID: string (nullable = true)\n",
      " |-- Number_Of_Loans_Granted__c: integer (nullable = true)\n",
      " |-- Num_Of_Loans_Paid__c: integer (nullable = true)\n",
      " |-- Purpose_of_Loan__c: string (nullable = true)\n",
      " |-- Total_Repayments__c: integer (nullable = true)\n",
      " |-- Amount: integer (nullable = true)\n",
      " |-- Term_in_Weeks__c: double (nullable = true)\n",
      " |-- Payment_Frequency__c: string (nullable = true)\n",
      " |-- StageName: string (nullable = true)\n",
      " |-- Applicant Age: integer (nullable = true)\n",
      " |-- summary_income: double (nullable = true)\n",
      " |-- summary_income_cv: double (nullable = true)\n",
      " |-- city: string (nullable = true)\n",
      " |-- state: string (nullable = true)\n",
      " |-- Country: string (nullable = true)\n",
      " |-- userId: integer (nullable = true)\n",
      " |-- loanId: integer (nullable = true)\n",
      " |-- count: integer (nullable = true)\n",
      " |-- Cluster_result: integer (nullable = true)\n",
      " |-- Cluster_Group: integer (nullable = true)\n",
      "\n"
     ]
    }
   ],
   "source": [
    "validation.printSchema()"
   ]
  },
  {
   "cell_type": "code",
   "execution_count": 36,
   "id": "8a0d5b92-658f-4367-b041-5ce8cf534b7a",
   "metadata": {},
   "outputs": [
    {
     "data": {
      "text/plain": [
       "95939"
      ]
     },
     "execution_count": 36,
     "metadata": {},
     "output_type": "execute_result"
    }
   ],
   "source": [
    "validation.count()"
   ]
  },
  {
   "cell_type": "markdown",
   "id": "b0c44455-54f9-4bc2-834e-6a6a123cba2e",
   "metadata": {
    "id": "b0c44455-54f9-4bc2-834e-6a6a123cba2e"
   },
   "source": [
    "## ALS Model Evaluation"
   ]
  },
  {
   "cell_type": "code",
   "execution_count": 37,
   "id": "7fd677b6-2055-4995-bd1d-7367cbc3d903",
   "metadata": {
    "id": "7fd677b6-2055-4995-bd1d-7367cbc3d903"
   },
   "outputs": [],
   "source": [
    "# Assuming you have a DataFrame 'validation_data' containing the ground truth interactions\n",
    "# and a DataFrame 'recommendations' containing the top-N recommendations generated by the ALS model\n",
    "\n",
    "# Join recommendations with ground truth data to identify true positives\n",
    "true_positives = predictions.join(validation, ['Cluster_Group', 'Cluster_result'], 'inner')"
   ]
  },
  {
   "cell_type": "code",
   "execution_count": 38,
   "id": "33526f67-bf22-491e-9aec-b02d8ae9eb9f",
   "metadata": {
    "id": "33526f67-bf22-491e-9aec-b02d8ae9eb9f"
   },
   "outputs": [],
   "source": [
    "# Calculate the number of true positives per user\n",
    "tp_per_user = true_positives.groupBy('Cluster_Group').agg(expr('count(Cluster_result) as true_positives'))"
   ]
  },
  {
   "cell_type": "code",
   "execution_count": 39,
   "id": "1312c8e0-c174-4d01-b079-c48d12cbd582",
   "metadata": {
    "id": "1312c8e0-c174-4d01-b079-c48d12cbd582"
   },
   "outputs": [],
   "source": [
    " # Calculate the total number of relevant items per user in the ground truth data\n",
    "relevant_per_user = validation.groupBy('Cluster_Group').agg(expr('count(Cluster_result) as relevant'))"
   ]
  },
  {
   "cell_type": "code",
   "execution_count": 40,
   "id": "331e28a0-b31f-4ca7-b426-6aaa869ca599",
   "metadata": {
    "id": "331e28a0-b31f-4ca7-b426-6aaa869ca599"
   },
   "outputs": [],
   "source": [
    "# Calculate Precision per user\n",
    "precision_per_user = tp_per_user.join(relevant_per_user, 'Cluster_Group', 'inner') \\\n",
    "    .selectExpr('Cluster_Group', 'true_positives / relevant as precision')"
   ]
  },
  {
   "cell_type": "code",
   "execution_count": 41,
   "id": "6a7d7e11-6e29-41a3-84b7-20b42d84e5da",
   "metadata": {
    "id": "6a7d7e11-6e29-41a3-84b7-20b42d84e5da"
   },
   "outputs": [],
   "source": [
    "# Calculate Recall per user\n",
    "recall_per_user = tp_per_user.join(relevant_per_user, 'Cluster_Group', 'inner') \\\n",
    "    .selectExpr('Cluster_Group', 'true_positives / relevant as recall')"
   ]
  },
  {
   "cell_type": "code",
   "execution_count": 42,
   "id": "4fa119c7-560c-4eea-83ca-246357a53682",
   "metadata": {
    "id": "4fa119c7-560c-4eea-83ca-246357a53682"
   },
   "outputs": [],
   "source": [
    "# Calculate F1-score per user\n",
    "f1_score_per_user = precision_per_user.join(recall_per_user, 'Cluster_Group', 'inner') \\\n",
    "    .selectExpr('Cluster_Group', '(2 * precision * recall) / (precision + recall) as f1_score')"
   ]
  },
  {
   "cell_type": "code",
   "execution_count": 43,
   "id": "a855a9fa-c9d4-4866-be4b-bbcbb1846b33",
   "metadata": {
    "id": "a855a9fa-c9d4-4866-be4b-bbcbb1846b33"
   },
   "outputs": [],
   "source": [
    "# Calculate overall Precision, Recall, and F1-score\n",
    "overall_precision = precision_per_user.agg({'precision': 'avg'}).collect()[0][0]\n",
    "overall_recall = recall_per_user.agg({'recall': 'avg'}).collect()[0][0]\n",
    "overall_f1_score = f1_score_per_user.agg({'f1_score': 'avg'}).collect()[0][0]\n"
   ]
  },
  {
   "cell_type": "code",
   "execution_count": 44,
   "id": "837dfdff-a6fa-4a8f-961c-c7eb98d16cb7",
   "metadata": {
    "colab": {
     "base_uri": "https://localhost:8080/"
    },
    "id": "837dfdff-a6fa-4a8f-961c-c7eb98d16cb7",
    "outputId": "d34ff23a-9a29-4d1b-e641-e38f8a299fbe"
   },
   "outputs": [
    {
     "name": "stdout",
     "output_type": "stream",
     "text": [
      "Overall Precision: 86.78013058179398\n",
      "Overall Recall: 86.78013058179398\n",
      "Overall F1-score: 86.780130581794\n"
     ]
    }
   ],
   "source": [
    "\n",
    "# Print the results\n",
    "print(\"Overall Precision:\", overall_precision)\n",
    "print(\"Overall Recall:\", overall_recall)\n",
    "print(\"Overall F1-score:\", overall_f1_score)\n"
   ]
  },
  {
   "cell_type": "code",
   "execution_count": 45,
   "id": "853c846f-1b77-4f36-b7ee-7f5ca2fb0bd6",
   "metadata": {
    "id": "853c846f-1b77-4f36-b7ee-7f5ca2fb0bd6"
   },
   "outputs": [],
   "source": [
    "evaluator = RegressionEvaluator(metricName=\"mae\", labelCol=\"count\", predictionCol=\"prediction\")\n",
    "mae = evaluator.evaluate(predictions)"
   ]
  },
  {
   "cell_type": "code",
   "execution_count": 46,
   "id": "a9f7a090-1055-4557-acc3-c688485fa86a",
   "metadata": {},
   "outputs": [
    {
     "data": {
      "text/plain": [
       "('The Mean Absolute Error is :', 0.6835022909218127)"
      ]
     },
     "execution_count": 46,
     "metadata": {},
     "output_type": "execute_result"
    }
   ],
   "source": [
    "\"The Mean Absolute Error is :\",mae"
   ]
  },
  {
   "cell_type": "markdown",
   "id": "2e334b00-3dd4-4be8-8d57-180e6e60af92",
   "metadata": {
    "id": "2e334b00-3dd4-4be8-8d57-180e6e60af92"
   },
   "source": [
    "## User Factors and Item Factors to calculate the cosine Similarity"
   ]
  },
  {
   "cell_type": "code",
   "execution_count": 47,
   "id": "d38ab8b5-cb23-4a04-93f2-741727bd1303",
   "metadata": {
    "id": "d38ab8b5-cb23-4a04-93f2-741727bd1303"
   },
   "outputs": [],
   "source": [
    "userFactors = final_model.userFactors\n",
    "itemFactors = final_model.itemFactors"
   ]
  },
  {
   "cell_type": "code",
   "execution_count": 48,
   "id": "56ef610b-520c-48f1-8aa6-46fe79a300b9",
   "metadata": {},
   "outputs": [
    {
     "name": "stdout",
     "output_type": "stream",
     "text": [
      "88\n",
      "root\n",
      " |-- id: integer (nullable = false)\n",
      " |-- features: array (nullable = true)\n",
      " |    |-- element: float (containsNull = false)\n",
      "\n",
      "Priting the Schema of userFactors None\n"
     ]
    }
   ],
   "source": [
    "print(userFactors.count())\n",
    "print(\"Priting the Schema of userFactors\",userFactors.printSchema())"
   ]
  },
  {
   "cell_type": "code",
   "execution_count": 49,
   "id": "3c7bec83-1afa-4c12-ab98-55c2bacb73ca",
   "metadata": {},
   "outputs": [
    {
     "data": {
      "text/plain": [
       "[Row(id=4, features=[0.09122948348522186, 0.0, 0.0, 0.0789027288556099, 0.0, 0.0, 0.0, 0.0, 0.0, 0.0, 0.12343259155750275, 0.0, 0.1793815791606903, 0.0, 0.0, 0.0, 0.0, 0.09000958502292633, 0.03921256959438324, 0.10617019236087799, 0.14351870119571686, 0.14229944348335266, 0.022420503199100494, 0.0, 0.04881124570965767, 0.0, 0.0, 0.0, 0.053601790219545364, 0.0, 0.3365114629268646, 0.0, 0.047878798097372055, 0.0, 0.0, 0.0522245392203331, 0.0, 0.0, 0.0, 0.08014018833637238, 0.0, 0.0, 0.02333768829703331, 0.0, 0.0, 0.1018809825181961, 0.17544867098331451, 0.0, 0.0, 0.029297584667801857, 0.03450474143028259, 0.0, 0.0, 0.020924124866724014, 0.0, 0.057687077671289444, 0.07058975100517273, 0.11131595820188522, 0.0, 0.0])]"
      ]
     },
     "execution_count": 49,
     "metadata": {},
     "output_type": "execute_result"
    }
   ],
   "source": [
    "\n",
    "userFactors.filter(userFactors.id == 4 ).collect()"
   ]
  },
  {
   "cell_type": "code",
   "execution_count": 50,
   "id": "589e5f60-906f-476d-a4a6-da5bf2ea5cde",
   "metadata": {},
   "outputs": [
    {
     "name": "stdout",
     "output_type": "stream",
     "text": [
      "+---+--------------------------------------------------------------------------------------------------------------------------------------------------------------------------------------------------------------------------------------------------------------------------------------------------------------------------------------------------------------------------------------------------------------------------------------------------------------------------------------------------------------------------------------------------------------------------------------------------------------------------------+\n",
      "|id |features                                                                                                                                                                                                                                                                                                                                                                                                                                                                                                                                                                                                                        |\n",
      "+---+--------------------------------------------------------------------------------------------------------------------------------------------------------------------------------------------------------------------------------------------------------------------------------------------------------------------------------------------------------------------------------------------------------------------------------------------------------------------------------------------------------------------------------------------------------------------------------------------------------------------------------+\n",
      "|10 |[0.13596343, 0.0, 0.0, 0.0320594, 0.0, 0.0, 0.0, 0.0, 0.0, 0.0, 0.0, 0.0, 0.20044832, 0.02564538, 0.0, 0.0, 0.0, 1.2037501E-4, 0.13667472, 0.0, 0.047887366, 0.14811173, 0.01722979, 0.0, 0.0, 0.18066172, 0.044883158, 0.12259213, 0.0, 0.021562276, 0.24896345, 0.10039901, 0.0, 0.0, 0.0, 0.06119992, 0.0, 0.058187164, 0.0039716153, 0.04943857, 0.0094883405, 0.008382197, 0.017934633, 0.0, 0.0, 0.0, 0.18155456, 0.0, 0.0, 0.094143696, 0.026516333, 0.0, 0.06949535, 0.10882576, 0.0, 7.715163E-5, 0.019897666, 0.0, 0.0, 0.056016233]                                                                                  |\n",
      "|20 |[0.13098717, 0.0, 0.0, 0.03953425, 0.0, 0.0, 0.10542247, 0.09788919, 0.0, 0.0, 0.061451044, 0.0, 0.09083421, 0.009940544, 0.0, 0.0, 0.0, 0.053003386, 0.084455185, 6.2393764E-4, 0.015581526, 0.12697616, 0.005647092, 0.08782196, 0.09408682, 0.17773789, 0.0031052455, 0.12648124, 0.019624246, 0.11502099, 0.1790344, 0.14186154, 0.013390104, 0.0, 0.0, 0.14976208, 0.0, 0.032712117, 0.123128004, 0.17325567, 0.07831826, 0.03197056, 0.005878106, 0.045083445, 0.12297579, 0.028555203, 0.04466396, 0.0, 0.0, 0.023616152, 0.0086907735, 0.0, 0.18908547, 0.14718093, 0.0, 0.033969823, 0.037691317, 0.0, 0.0, 0.13270813]|\n",
      "|30 |[0.07667995, 0.0, 0.0, 0.18127194, 0.0, 0.0, 0.0, 0.0, 0.0, 0.0, 0.0, 0.0, 0.019775214, 0.06381645, 0.0, 0.0, 0.0, 0.027809175, 0.24483438, 0.018646114, 0.0, 7.150951E-4, 0.0057965056, 0.04115522, 0.03966665, 0.03475503, 0.034348167, 0.0, 0.07948166, 0.011431035, 0.080784515, 0.09910762, 0.056064967, 0.0, 0.0, 0.1532474, 0.0, 0.16821276, 0.26235583, 0.027856829, 0.13520016, 0.022324469, 0.0060336282, 0.0, 0.15406476, 0.30072543, 0.12562928, 0.0, 0.0, 0.0, 0.008920714, 0.0, 0.0, 0.0, 0.0, 0.017822864, 0.0, 0.20826785, 0.0, 0.07643049]                                                                     |\n",
      "|40 |[3.3990346E-4, 0.0, 0.0, 0.20369367, 0.0, 0.0, 0.0, 0.0, 0.0, 0.0, 0.05589213, 0.0, 0.06536842, 0.0, 0.0, 0.0, 0.0, 0.02113622, 0.0, 0.0, 0.0, 0.0, 0.018592754, 0.09712929, 0.2170997, 0.1821508, 0.09364651, 0.005327119, 0.0, 0.025450645, 0.25218663, 0.04230759, 0.0, 0.0, 0.0, 0.09309108, 0.0, 0.059313286, 0.16672231, 0.1516188, 0.2122245, 0.0, 0.019353352, 0.0, 0.032324377, 0.22714017, 0.14994125, 0.0, 0.0, 0.029237036, 0.028613916, 0.0, 0.015561391, 0.14206693, 0.0, 0.013546142, 0.034675434, 0.0, 0.0, 0.021593357]                                                                                        |\n",
      "|50 |[0.0, 0.0, 0.0, 0.07924209, 0.0, 0.0, 0.07678736, 0.0, 0.0, 0.0, 0.01828615, 0.0, 0.14116435, 0.19589877, 0.0, 0.0, 0.0, 0.0, 0.028442575, 0.0073658894, 0.0022100129, 0.018624103, 0.0, 0.1274315, 0.035447728, 0.3840768, 0.34209678, 0.24739483, 0.0, 0.059407637, 0.07081508, 0.14841065, 0.01407471, 0.0, 0.0, 0.17470053, 0.0, 0.0022520623, 0.15233286, 0.0, 0.36771652, 0.015380368, 0.0, 0.0, 0.0019180195, 0.13208623, 0.07585189, 0.0, 0.0, 0.06334184, 0.0, 0.0, 0.24116313, 0.0, 0.0, 0.0, 0.021645857, 0.0, 0.0, 0.1586443]                                                                                       |\n",
      "|60 |[0.046421293, 0.0, 0.0, 0.28793845, 0.0, 0.0, 0.10057866, 0.022248743, 0.0, 0.0, 0.24888165, 0.0, 0.1750937, 0.10365916, 0.0, 0.0, 0.0, 0.0, 0.24593951, 0.14998819, 0.0, 4.930742E-4, 0.0, 0.107327215, 0.08641669, 0.06302173, 0.10625302, 0.07063042, 0.0, 0.0, 0.10742809, 0.12399395, 0.0, 0.0, 0.0, 0.0, 0.0, 0.08014181, 0.14263628, 0.0, 0.09896041, 0.17525488, 0.0, 0.07326963, 0.10016541, 0.015861105, 0.41338807, 0.0, 0.0, 0.07312105, 0.0, 0.0, 0.047450747, 0.0, 0.0, 0.0, 0.07885125, 0.17926979, 0.0, 0.13112004]                                                                                             |\n",
      "|70 |[0.0, 0.0, 0.0, 0.0, 0.0, 0.0, 0.0, 0.27014604, 0.0, 0.0, 0.0, 0.0, 0.7726168, 0.0, 0.0, 0.0, 0.0, 0.0, 0.0, 0.0, 0.5404198, 0.0, 0.08052593, 0.0, 0.15713494, 0.040142138, 0.0, 0.0, 0.032582678, 0.277549, 0.0, 0.0, 0.39781433, 0.0, 0.0, 0.0, 0.0, 0.0, 0.0, 0.4293234, 0.63754195, 0.013645087, 0.0838201, 0.26771113, 0.0, 0.015546011, 0.0, 0.0, 0.0, 0.10462961, 0.12392794, 0.0, 0.12297623, 0.0, 0.0, 0.0, 0.034168668, 0.0, 0.0, 0.06686384]                                                                                                                                                                         |\n",
      "|80 |[0.0, 0.0, 0.0, 0.511897, 0.0, 0.0, 0.0, 0.22088857, 0.0, 0.0, 0.0, 0.0, 0.0, 0.0, 0.0, 0.0, 0.0, 0.0, 0.0, 1.7402133, 0.0, 0.0, 0.0, 0.0, 0.0, 0.0, 0.0, 0.0, 0.0, 0.0, 0.0, 0.0, 0.0, 0.0, 0.0, 0.0, 0.0, 0.99186444, 0.0, 0.0, 0.69878656, 0.01248317, 0.0, 0.0, 0.0, 0.0, 0.0, 0.0, 0.0, 0.0, 0.0, 0.0, 0.0, 0.0, 0.0, 0.0, 0.0, 0.17498937, 0.0, 0.0]                                                                                                                                                                                                                                                                      |\n",
      "|1  |[9.3205704E-4, 0.0, 0.0, 0.19079103, 0.0, 0.0, 0.0, 0.009837744, 0.0, 0.0, 0.0865681, 0.0, 0.0, 0.0, 0.0, 0.0, 0.0, 0.006810677, 0.054268405, 0.046649165, 0.017623063, 0.0, 0.027865306, 0.0, 0.017626394, 0.095277235, 0.018775873, 0.10408466, 0.0, 0.109134376, 0.26940528, 0.06826839, 0.0, 0.0, 0.0, 0.0, 0.0, 0.11182731, 0.030136567, 0.049240004, 0.0, 0.0, 0.029005233, 0.0, 0.0, 0.12670214, 0.16597691, 0.0, 0.0, 0.0, 0.042884197, 0.0, 0.0, 0.16911492, 0.0, 0.004364977, 0.11078791, 0.06952147, 0.0, 0.0]                                                                                                       |\n",
      "|11 |[0.0, 0.0, 0.0, 0.17162126, 0.0, 0.0, 0.0021757092, 0.04949105, 0.0, 0.0, 0.017227042, 0.0, 0.09587593, 0.0, 0.0, 0.0, 0.0, 0.0038338464, 0.096491106, 0.03420384, 0.013226474, 0.019526744, 0.015808059, 0.027098821, 0.05838439, 0.11328895, 0.08195434, 0.05905442, 0.0054074954, 0.07175951, 0.23791689, 0.10197361, 0.03261928, 0.0, 0.0, 0.0014494702, 0.0, 0.06056671, 0.03288756, 0.03860178, 0.0, 0.04971712, 0.016454741, 0.0, 0.045607854, 0.089192145, 0.17838883, 0.0, 0.0, 0.06913275, 0.024328314, 0.0, 0.046612274, 0.11456246, 0.0, 0.0024571163, 0.09377316, 0.020993354, 0.0, 0.07486521]                    |\n",
      "+---+--------------------------------------------------------------------------------------------------------------------------------------------------------------------------------------------------------------------------------------------------------------------------------------------------------------------------------------------------------------------------------------------------------------------------------------------------------------------------------------------------------------------------------------------------------------------------------------------------------------------------------+\n",
      "only showing top 10 rows\n",
      "\n"
     ]
    }
   ],
   "source": [
    "userFactors.select(\"id\",\"features\").show(10,truncate=False)"
   ]
  },
  {
   "cell_type": "code",
   "execution_count": 51,
   "id": "fbfd4eed-d924-4ce1-90da-60a592c7d522",
   "metadata": {},
   "outputs": [
    {
     "name": "stdout",
     "output_type": "stream",
     "text": [
      "+---+--------------------------------------------------------------------------------------------------------------------------------------------------------------------------------------------------------------------------------------------------------------------------------------------------------------------------------------------------------------------------------------------------------------------------------------------------------------------------------------------------------------------------------------------------------------------------------------------------------------+\n",
      "|id |features                                                                                                                                                                                                                                                                                                                                                                                                                                                                                                                                                                                                      |\n",
      "+---+--------------------------------------------------------------------------------------------------------------------------------------------------------------------------------------------------------------------------------------------------------------------------------------------------------------------------------------------------------------------------------------------------------------------------------------------------------------------------------------------------------------------------------------------------------------------------------------------------------------+\n",
      "|10 |[0.6712537, 0.0, 0.0, 0.80193955, 0.0, 0.0, 0.66957486, 0.67262, 0.0, 0.0, 0.6206671, 0.0, 0.6917133, 0.48139375, 0.0, 0.0, 0.0, 0.09732059, 0.6182504, 0.24498498, 0.5215032, 0.47153318, 0.029741969, 0.4385491, 0.5771742, 0.7236438, 0.56472373, 0.46236014, 0.19167441, 0.32532543, 0.7831505, 0.7591726, 0.3465147, 0.0, 0.0, 0.44906637, 0.0, 0.37778306, 0.47923133, 0.5838679, 0.61782694, 0.60269517, 0.030958666, 0.2906175, 0.7227921, 0.4056816, 0.49887142, 0.0, 0.0, 0.37985307, 0.045772355, 0.0, 0.71851885, 0.54198354, 0.0, 0.06237267, 0.37266228, 0.4791658, 0.0, 0.5295574]             |\n",
      "|20 |[0.6709665, 0.0, 0.0, 0.766777, 0.0, 0.0, 0.51845634, 0.39980638, 0.0, 0.0, 0.42731076, 0.0, 0.70940983, 0.62069386, 0.0, 0.0, 0.0, 0.13471366, 0.555434, 0.49714008, 0.3403819, 0.57394063, 0.0065732384, 0.34840986, 0.29897857, 0.68037504, 0.3592503, 0.44186062, 0.23280756, 0.4937765, 0.70294416, 0.86568916, 0.36537135, 0.0, 0.0, 0.5631798, 0.0, 0.3979681, 0.6148201, 0.24771887, 0.7781339, 0.7697973, 0.00684214, 0.23515725, 0.6418856, 0.46378472, 0.64950943, 0.0, 0.0, 0.27760416, 0.0101161, 0.0, 0.60298085, 0.57395643, 0.0, 0.08633787, 0.24749796, 0.37251765, 0.0, 0.52959836]         |\n",
      "|30 |[1.0307442, 0.0, 0.0, 0.8801006, 0.0, 0.0, 0.51615053, 0.29387918, 0.0, 0.0, 0.6895573, 0.0, 0.6479336, 0.41993427, 0.0, 0.0, 0.0, 0.045543067, 0.5702497, 0.33231506, 0.19388129, 0.36989906, 0.015404857, 0.32747394, 0.45884204, 0.5569909, 0.43528116, 0.50978404, 0.16988188, 0.25636402, 0.4769255, 0.8261058, 0.16071445, 0.0, 0.0, 0.2619798, 0.0, 0.6070465, 0.6422837, 0.4291704, 0.26604128, 0.41056478, 0.01603505, 0.17744032, 0.50782007, 0.46229237, 0.42784846, 0.0, 0.0, 0.43023807, 0.023707792, 0.0, 0.58361703, 0.78057694, 0.0, 0.029188499, 0.42023095, 0.5665334, 0.0, 0.35403466]     |\n",
      "|1  |[0.24714464, 0.0, 0.0, 0.7075978, 0.0, 0.0, 0.08372154, 0.26291472, 0.0, 0.0, 0.3050088, 0.0, 0.39685225, 0.09987513, 0.0, 0.0, 0.0, 0.052855846, 0.26600844, 0.0785981, 0.50099206, 0.173841, 0.07429479, 0.30784985, 0.39124608, 0.50867534, 0.2742761, 0.5364149, 0.10168408, 0.38110432, 1.0936726, 0.5859847, 0.0024675052, 0.0, 0.0, 0.27476677, 0.0, 0.17563191, 0.51903886, 0.54028887, 0.29170123, 0.0933656, 0.077334076, 0.29894957, 0.059294827, 0.42330348, 0.47429058, 0.0, 0.0, 0.3278058, 0.114338346, 0.0, 0.35590398, 0.25117356, 0.0, 0.033875253, 0.39334217, 0.12374123, 0.0, 0.35495555]|\n",
      "|11 |[0.5472235, 0.0, 0.0, 0.78495944, 0.0, 0.0, 0.5802719, 0.67334276, 0.0, 0.0, 0.6211346, 0.0, 0.8346927, 0.49961847, 0.0, 0.0, 0.0, 0.0606847, 0.76227874, 0.23134391, 0.15980229, 0.46852484, 0.029877009, 0.44236702, 0.59818614, 0.6501289, 0.5331555, 0.6111505, 0.0, 0.5231501, 0.66827357, 0.95549667, 0.25441545, 0.0, 0.0, 0.3801327, 0.0, 0.39398468, 0.4828051, 0.37644643, 0.9933276, 0.44301185, 0.03109923, 0.5200446, 0.78500646, 0.21822672, 0.5948478, 0.0, 0.0, 0.50419444, 0.045980178, 0.0, 0.6888962, 0.4480435, 0.0, 0.038892746, 0.32342356, 0.60939234, 0.0, 0.53563154]                |\n",
      "|21 |[0.64567846, 0.0, 0.0, 0.7664211, 0.0, 0.0, 0.5582055, 0.4022062, 0.0, 0.0, 0.68699235, 0.0, 0.6431758, 0.4519271, 0.0, 0.0, 0.0, 0.17340627, 0.7488628, 0.31921384, 0.30136237, 0.42565823, 0.025958465, 0.49475694, 0.53331375, 0.6181408, 0.42584085, 0.5095664, 0.20192203, 0.37189993, 0.6468805, 0.7284553, 0.3151373, 0.0, 0.0, 0.48358557, 0.0, 0.6429444, 0.68937355, 0.6166627, 0.6106688, 0.5636924, 0.027020385, 0.35468382, 0.61930686, 0.43060145, 0.71533024, 0.0, 0.0, 0.34782505, 0.039949607, 0.0, 0.7045347, 0.46044588, 0.0, 0.11113591, 0.2791452, 0.65481114, 0.0, 0.51127315]          |\n",
      "|31 |[0.36875352, 0.0, 0.0, 1.0509242, 0.0, 0.0, 0.820677, 0.6400791, 0.0, 0.0, 0.01469319, 0.0, 0.8212854, 0.45490086, 0.0, 0.0, 0.0, 0.058715988, 0.033180512, 0.5163725, 0.71664226, 0.77706367, 0.062134027, 0.4781374, 0.2259426, 0.5966989, 0.32501778, 1.0991445, 0.21714456, 0.5472506, 0.8966656, 1.2365448, 0.40331805, 0.0, 0.0, 0.5595086, 0.0, 0.87810695, 0.0, 0.20379746, 0.40115508, 0.0, 0.064675815, 0.29744902, 1.0125766, 0.58244973, 0.3797419, 0.0, 0.0, 0.7430886, 0.09562314, 0.0, 0.0, 0.33984157, 0.0, 0.03763098, 0.6554461, 0.2057054, 0.0, 0.36332262]                                |\n",
      "|2  |[0.4954519, 0.0, 0.0, 0.6904263, 0.0, 0.0, 0.5657349, 0.40958878, 0.0, 0.0, 0.46699977, 0.0, 0.5605722, 0.36269617, 0.0, 0.0, 0.0, 0.1261288, 0.5713462, 0.19902703, 0.1847612, 0.45885602, 0.026819333, 0.46023765, 0.5066733, 0.7486218, 0.4891383, 0.6501308, 0.12892337, 0.4112126, 0.8359948, 0.8369353, 0.2526933, 0.0, 0.0, 0.47652337, 0.0, 0.3927655, 0.4336223, 0.5449609, 0.35370672, 0.411823, 0.027916472, 0.20938046, 0.5433382, 0.29526135, 0.59822094, 0.0, 0.0, 0.4752915, 0.041274466, 0.0, 0.769539, 0.59830374, 0.0, 0.08083583, 0.3505982, 0.39004472, 0.0, 0.50457716]                  |\n",
      "|12 |[0.66614324, 0.0, 0.0, 0.8166922, 0.0, 0.0, 0.58859116, 0.4288043, 0.0, 0.0, 0.68184704, 0.0, 0.5517243, 0.4218594, 0.0, 0.0, 0.0, 0.12314757, 0.4999056, 0.2430257, 0.4015112, 0.3516251, 0.027600452, 0.44257018, 0.46056706, 0.7682335, 0.4711074, 0.5449641, 0.15133543, 0.34923, 0.653808, 0.9149148, 0.27491745, 0.0, 0.0, 0.4696384, 0.0, 0.39937964, 0.35136634, 0.4538931, 0.63726765, 0.38042238, 0.028729543, 0.20327981, 0.5535939, 0.43701252, 0.5657458, 0.0, 0.0, 0.3710579, 0.0424766, 0.0, 0.7162223, 0.50941724, 0.0, 0.07892515, 0.8386188, 0.6615811, 0.0, 0.5687389]                     |\n",
      "|22 |[0.56683695, 0.0, 0.0, 0.94323474, 0.0, 0.0, 0.71531445, 0.5386544, 0.0, 0.0, 0.60798615, 0.0, 0.832852, 0.536117, 0.0, 0.0, 0.0, 0.08189833, 0.47530225, 0.7542669, 0.4198555, 0.8013062, 0.008315255, 0.6986067, 0.59067017, 0.60625386, 0.33029577, 0.65478307, 0.13163772, 0.24178779, 0.8362867, 0.6449293, 0.44500768, 0.0, 0.0, 0.46083927, 0.0, 0.16631219, 0.3777407, 0.500608, 0.25768003, 0.69106424, 0.0086554205, 0.31832552, 0.73143166, 0.38841558, 0.39039046, 0.0, 0.0, 0.6153354, 0.012797028, 0.0, 0.7378808, 0.21219817, 0.0, 0.052488577, 0.36944342, 0.5350628, 0.0, 0.3807763]         |\n",
      "+---+--------------------------------------------------------------------------------------------------------------------------------------------------------------------------------------------------------------------------------------------------------------------------------------------------------------------------------------------------------------------------------------------------------------------------------------------------------------------------------------------------------------------------------------------------------------------------------------------------------------+\n",
      "only showing top 10 rows\n",
      "\n"
     ]
    }
   ],
   "source": [
    "itemFactors.select(\"id\",\"features\").show(10,truncate=False)"
   ]
  },
  {
   "cell_type": "code",
   "execution_count": null,
   "id": "9ceace9b-fff7-4555-9854-adbe1c00cf17",
   "metadata": {},
   "outputs": [],
   "source": []
  },
  {
   "cell_type": "markdown",
   "id": "1589f64a-0d7d-4508-8dbe-37ff54ca0458",
   "metadata": {
    "id": "1589f64a-0d7d-4508-8dbe-37ff54ca0458"
   },
   "source": [
    "## Calculate cosine similarity:"
   ]
  },
  {
   "cell_type": "markdown",
   "id": "aaa1fcf4-f406-442a-9be1-4f6860bcdb83",
   "metadata": {
    "id": "aaa1fcf4-f406-442a-9be1-4f6860bcdb83"
   },
   "source": [
    "<img src=\"https://datascience103579984.files.wordpress.com/2020/01/13-12.png\" height=\"600\" width=\"600\" />"
   ]
  },
  {
   "cell_type": "code",
   "execution_count": 52,
   "id": "76bee01e-c55e-4472-9e0e-d5bf2b0c8157",
   "metadata": {
    "id": "76bee01e-c55e-4472-9e0e-d5bf2b0c8157"
   },
   "outputs": [],
   "source": [
    "def cosine_similarity(u1, u2):\n",
    "    \"\"\"Calculates cosine similarity between two user factors.\"\"\"\n",
    "    # Convert lists to DenseVectors before performing operations\n",
    "    u1_vector = Vectors.dense(u1)\n",
    "    u2_vector = Vectors.dense(u2)\n",
    "    return u1_vector.dot(u2_vector) / (u1_vector.norm(p=2) * u2_vector.norm(p=2))"
   ]
  },
  {
   "cell_type": "markdown",
   "id": "4e57c89c-33b0-4005-94cb-c8e7bc86fc1f",
   "metadata": {
    "id": "4e57c89c-33b0-4005-94cb-c8e7bc86fc1f"
   },
   "source": [
    "### user-User Cosine Similarity code"
   ]
  },
  {
   "cell_type": "code",
   "execution_count": 53,
   "id": "e5da4c16-8350-4580-a7cf-b872356d231c",
   "metadata": {
    "colab": {
     "base_uri": "https://localhost:8080/"
    },
    "id": "e5da4c16-8350-4580-a7cf-b872356d231c",
    "outputId": "939a0bc6-074c-4c33-fc7d-bc032f85579f"
   },
   "outputs": [
    {
     "name": "stdout",
     "output_type": "stream",
     "text": [
      "Cosine similarity between users 1 and 2: 0.8148279651352279\n"
     ]
    }
   ],
   "source": [
    "# Example usage\n",
    "user1_id = 1\n",
    "user2_id = 2\n",
    "user1_factors = userFactors.filter(userFactors.id == user1_id ).collect()[0][1]\n",
    "user2_factors = userFactors.filter(userFactors.id == user2_id ).collect()[0][1]\n",
    "# user1_factors = userFactors.to_dense().rdd.filter(lambda x: x[0] == user1_id).collect()[0][1]\n",
    "# user2_factors = userFactors.to_dense().rdd.filter(lambda x: x[0] == user2_id).collect()[0][1]\n",
    "similarity = cosine_similarity(user1_factors, user2_factors)\n",
    "print(f\"Cosine similarity between users {user1_id} and {user2_id}: {similarity}\")\n"
   ]
  },
  {
   "cell_type": "markdown",
   "id": "37946b00-6e3f-498c-91ba-d722b5785b9c",
   "metadata": {
    "id": "37946b00-6e3f-498c-91ba-d722b5785b9c"
   },
   "source": [
    "### User-Item Cosine Similarity code"
   ]
  },
  {
   "cell_type": "code",
   "execution_count": 54,
   "id": "c8f1a8db-172b-4122-9030-9e5c40162fc6",
   "metadata": {
    "colab": {
     "base_uri": "https://localhost:8080/"
    },
    "id": "c8f1a8db-172b-4122-9030-9e5c40162fc6",
    "outputId": "d2a833a7-6024-41d7-adbb-ed9b227dad5d"
   },
   "outputs": [
    {
     "name": "stdout",
     "output_type": "stream",
     "text": [
      "Cosine similarity between users 1 and 1: 0.794982544035211\n"
     ]
    }
   ],
   "source": [
    "# Example usage\n",
    "user1_id = 1\n",
    "item_id = 1\n",
    "user_factors = userFactors.filter(userFactors.id == user1_id ).collect()[0][1]\n",
    "item_factors = itemFactors.filter(itemFactors.id == item_id ).collect()[0][1]\n",
    "\n",
    "user_item_similarity = cosine_similarity(user_factors, item_factors)\n",
    "print(f\"Cosine similarity between users {user1_id} and {item_id}: {user_item_similarity}\")"
   ]
  },
  {
   "cell_type": "markdown",
   "id": "a8f99d3c-a41b-45a5-a1f3-a754a40d86ef",
   "metadata": {
    "id": "a8f99d3c-a41b-45a5-a1f3-a754a40d86ef"
   },
   "source": [
    "###  Cosine Similarity of user 10 with all Loans"
   ]
  },
  {
   "cell_type": "code",
   "execution_count": 55,
   "id": "f8edb118-b30d-428a-a1b0-86de708ae480",
   "metadata": {
    "id": "f8edb118-b30d-428a-a1b0-86de708ae480"
   },
   "outputs": [],
   "source": [
    "TopCosineLoanforuser10 = []\n",
    "for item in range(itemFactors.count()):\n",
    "    item_id = itemFactors.select(\"Id\").sort(\"Id\").take(itemFactors.count())[item][0]\n",
    "    user1_id = 1\n",
    "    user_factors = userFactors.filter(userFactors.id == user1_id ).collect()[0][1]\n",
    "    item_factors = itemFactors.filter(itemFactors.id == item_id ).collect()[0][1]\n",
    "\n",
    "\n",
    "    user_item_similarity = cosine_similarity(user_factors, item_factors)\n",
    "    TopCosineLoanforuser10.append({\"userID\":user1_id,\"LoanId\":item_id,\"CosineSimilarity\":user_item_similarity})"
   ]
  },
  {
   "cell_type": "code",
   "execution_count": 56,
   "id": "a65ec1b5-4c8a-45f3-81ec-ac03d5ebc44a",
   "metadata": {
    "colab": {
     "base_uri": "https://localhost:8080/"
    },
    "id": "a65ec1b5-4c8a-45f3-81ec-ac03d5ebc44a",
    "outputId": "de66de4c-2c38-4324-8fb1-f48a7016f2d5"
   },
   "outputs": [
    {
     "data": {
      "text/plain": [
       "[{'userID': 1, 'LoanId': 1, 'CosineSimilarity': 0.794982544035211},\n",
       " {'userID': 1, 'LoanId': 25, 'CosineSimilarity': 0.7178857702406796},\n",
       " {'userID': 1, 'LoanId': 3, 'CosineSimilarity': 0.6929815267918324},\n",
       " {'userID': 1, 'LoanId': 2, 'CosineSimilarity': 0.6875448240047488},\n",
       " {'userID': 1, 'LoanId': 16, 'CosineSimilarity': 0.6874889420758632},\n",
       " {'userID': 1, 'LoanId': 38, 'CosineSimilarity': 0.6852612257590909},\n",
       " {'userID': 1, 'LoanId': 4, 'CosineSimilarity': 0.6800952460023181},\n",
       " {'userID': 1, 'LoanId': 12, 'CosineSimilarity': 0.676501394874476},\n",
       " {'userID': 1, 'LoanId': 24, 'CosineSimilarity': 0.6707029920688503},\n",
       " {'userID': 1, 'LoanId': 8, 'CosineSimilarity': 0.6689990888600865},\n",
       " {'userID': 1, 'LoanId': 30, 'CosineSimilarity': 0.6668485989771445},\n",
       " {'userID': 1, 'LoanId': 27, 'CosineSimilarity': 0.6623260793050937},\n",
       " {'userID': 1, 'LoanId': 5, 'CosineSimilarity': 0.6583754102135376},\n",
       " {'userID': 1, 'LoanId': 35, 'CosineSimilarity': 0.6509530370188448},\n",
       " {'userID': 1, 'LoanId': 14, 'CosineSimilarity': 0.6507409055065018},\n",
       " {'userID': 1, 'LoanId': 21, 'CosineSimilarity': 0.6491779714960847},\n",
       " {'userID': 1, 'LoanId': 31, 'CosineSimilarity': 0.63584425194797},\n",
       " {'userID': 1, 'LoanId': 6, 'CosineSimilarity': 0.6334880026353812},\n",
       " {'userID': 1, 'LoanId': 20, 'CosineSimilarity': 0.6299432654143163},\n",
       " {'userID': 1, 'LoanId': 10, 'CosineSimilarity': 0.627643549232501},\n",
       " {'userID': 1, 'LoanId': 32, 'CosineSimilarity': 0.6213300185018206},\n",
       " {'userID': 1, 'LoanId': 13, 'CosineSimilarity': 0.6213134089981984},\n",
       " {'userID': 1, 'LoanId': 18, 'CosineSimilarity': 0.6188132859083404},\n",
       " {'userID': 1, 'LoanId': 36, 'CosineSimilarity': 0.613635483980503},\n",
       " {'userID': 1, 'LoanId': 19, 'CosineSimilarity': 0.6129538851531452},\n",
       " {'userID': 1, 'LoanId': 23, 'CosineSimilarity': 0.600834625709081},\n",
       " {'userID': 1, 'LoanId': 11, 'CosineSimilarity': 0.5977469867556835},\n",
       " {'userID': 1, 'LoanId': 15, 'CosineSimilarity': 0.5893348082447143},\n",
       " {'userID': 1, 'LoanId': 7, 'CosineSimilarity': 0.5891360776821113},\n",
       " {'userID': 1, 'LoanId': 17, 'CosineSimilarity': 0.5852866500971486},\n",
       " {'userID': 1, 'LoanId': 26, 'CosineSimilarity': 0.5826920109725495},\n",
       " {'userID': 1, 'LoanId': 34, 'CosineSimilarity': 0.5799361074355548},\n",
       " {'userID': 1, 'LoanId': 22, 'CosineSimilarity': 0.5798435692375203},\n",
       " {'userID': 1, 'LoanId': 37, 'CosineSimilarity': 0.5613215430202748},\n",
       " {'userID': 1, 'LoanId': 9, 'CosineSimilarity': 0.5349828239063283},\n",
       " {'userID': 1, 'LoanId': 29, 'CosineSimilarity': 0.5110811242205576},\n",
       " {'userID': 1, 'LoanId': 28, 'CosineSimilarity': 0.4971302995827326},\n",
       " {'userID': 1, 'LoanId': 33, 'CosineSimilarity': 0.46718104042865133}]"
      ]
     },
     "execution_count": 56,
     "metadata": {},
     "output_type": "execute_result"
    }
   ],
   "source": [
    "sorted_Cosine_list = sorted(TopCosineLoanforuser10, key=operator.itemgetter('CosineSimilarity'),reverse=True)\n",
    "sorted_Cosine_list"
   ]
  },
  {
   "cell_type": "markdown",
   "id": "e7acbc72-5db5-4367-9c4b-419f10a4f273",
   "metadata": {
    "id": "e7acbc72-5db5-4367-9c4b-419f10a4f273"
   },
   "source": [
    "### Cosine Similarity of all users with all loans"
   ]
  },
  {
   "cell_type": "code",
   "execution_count": 57,
   "id": "UVPowXhyAjkj",
   "metadata": {
    "id": "UVPowXhyAjkj"
   },
   "outputs": [],
   "source": [
    "# Collect all user factors into a dictionary\n",
    "user_factors_dict = userFactors.select(\"id\", \"features\").rdd.collectAsMap()\n",
    "\n",
    "# Broadcast the user factors dictionary to all workers\n",
    "broadcast_user_factors = spark.sparkContext.broadcast(user_factors_dict)\n",
    "\n",
    "# Collect all item factors into a dictionary\n",
    "item_factors_dict = itemFactors.select(\"id\", \"features\").rdd.collectAsMap()\n",
    "\n",
    "# Broadcast the item factors dictionary to all workers\n",
    "broadcast_item_factors = spark.sparkContext.broadcast(item_factors_dict)"
   ]
  },
  {
   "cell_type": "code",
   "execution_count": 58,
   "id": "wP3GLSUnAzMK",
   "metadata": {
    "id": "wP3GLSUnAzMK"
   },
   "outputs": [],
   "source": [
    "# Initially the code is like this !!\n",
    "def cosine_similarity(u1, u2):\n",
    "    \"\"\"Calculates cosine similarity between two user group factors.\"\"\"\n",
    "    # Convert lists to DenseVectors before performing operations\n",
    "    u1_vector = Vectors.dense(u1)\n",
    "    u2_vector = Vectors.dense(u2)\n",
    "    return u1_vector.dot(u2_vector) / (u1_vector.norm(p=2) * u2_vector.norm(p=2))"
   ]
  },
  {
   "cell_type": "markdown",
   "id": "dncZNvKBBSYS",
   "metadata": {
    "id": "dncZNvKBBSYS"
   },
   "source": [
    "def cosine_similarity(vec1, vec2):\n",
    "    dot_product = sum(v1 * v2 for v1, v2 in zip(vec1, vec2))\n",
    "    magnitude1 = sum(v ** 2 for v in vec1) ** 0.5\n",
    "    magnitude2 = sum(v ** 2 for v in vec2) ** 0.5\n",
    "    return dot_product / (magnitude1 * magnitude2)"
   ]
  },
  {
   "cell_type": "code",
   "execution_count": 59,
   "id": "yDlpr92SAjry",
   "metadata": {
    "colab": {
     "base_uri": "https://localhost:8080/"
    },
    "id": "yDlpr92SAjry",
    "outputId": "0a829487-1631-40be-84ca-0b05a845477e"
   },
   "outputs": [
    {
     "name": "stdout",
     "output_type": "stream",
     "text": [
      "The time taken to run code for 88 users is : 4.0341019630432126e-05 hours\n"
     ]
    }
   ],
   "source": [
    "\n",
    "\n",
    "# Initialize list to store recommendations\n",
    "CosineSilty_first10 = []\n",
    "starttime = time.time()\n",
    "Nusers = userFactors.select(\"id\").count()\n",
    "\n",
    "# Iterate over users\n",
    "for userId in range(1, Nusers):\n",
    "    user_factors = broadcast_user_factors.value.get(userId)\n",
    "    if user_factors:\n",
    "        TopCosineLoanforuser10 = []\n",
    "        # Iterate over items\n",
    "        for item_id, item_factors in broadcast_item_factors.value.items():\n",
    "            user_item_similarity = cosine_similarity(user_factors, item_factors)\n",
    "            TopCosineLoanforuser10.append({item_id: user_item_similarity})\n",
    "\n",
    "        # Sort recommendations based on similarity\n",
    "        Recomnd_loans = sorted(TopCosineLoanforuser10, key=lambda x: list(x.values())[0], reverse=True)\n",
    "        CosineSilty_first10.append({\"UserId\": userId, \"Recommendation\": Recomnd_loans})\n",
    "\n",
    "endtime = time.time()\n",
    "runtime_hours = (endtime - starttime) / 3600\n",
    "print(f\"The time taken to run code for {Nusers} users is : {runtime_hours} hours\")"
   ]
  },
  {
   "cell_type": "code",
   "execution_count": null,
   "id": "uVUjN4bdAjyC",
   "metadata": {
    "colab": {
     "base_uri": "https://localhost:8080/"
    },
    "id": "uVUjN4bdAjyC",
    "outputId": "e14c7dbe-e643-4568-c857-ffe2b9b9eb83",
    "scrolled": true
   },
   "outputs": [],
   "source": []
  },
  {
   "cell_type": "code",
   "execution_count": 60,
   "id": "f7acc075-cb60-44d4-a35d-30fe68d886ce",
   "metadata": {
    "id": "f7acc075-cb60-44d4-a35d-30fe68d886ce"
   },
   "outputs": [],
   "source": [
    "# Define a function to extract top-N recommendations\n",
    "def extract_top_n_recommendations(recommendations_data, n=2500):\n",
    "    top_n_recommendations = [{'userId': user_recommendation['UserId'],\n",
    "                              'Recommendation': [list(rec.keys())[0] for rec in user_recommendation['Recommendation'][:n]]}\n",
    "                             for user_recommendation in recommendations_data]\n",
    "    return top_n_recommendations\n",
    "\n",
    "# Extract top-N recommendations\n",
    "starttime = time.time()\n",
    "top_n_recommendations = extract_top_n_recommendations(CosineSilty_first10, n=5)\n",
    "endtime = time.time()\n",
    "runtime_hours = (endtime - starttime) / 3600\n"
   ]
  },
  {
   "cell_type": "code",
   "execution_count": 61,
   "id": "fee9c5a0-7468-4707-944a-79fa4945a68d",
   "metadata": {
    "colab": {
     "base_uri": "https://localhost:8080/"
    },
    "id": "fee9c5a0-7468-4707-944a-79fa4945a68d",
    "outputId": "9358dca2-e67b-4916-8c28-31717c65202c",
    "scrolled": true
   },
   "outputs": [
    {
     "data": {
      "text/plain": [
       "[{'userId': 1, 'Recommendation': [1, 25, 3, 2, 16]},\n",
       " {'userId': 2, 'Recommendation': [25, 1, 16, 24, 12]},\n",
       " {'userId': 3, 'Recommendation': [1, 25, 16, 2, 4]},\n",
       " {'userId': 4, 'Recommendation': [1, 22, 25, 16, 37]},\n",
       " {'userId': 5, 'Recommendation': [1, 25, 16, 2, 4]},\n",
       " {'userId': 6, 'Recommendation': [13, 9, 18, 11, 23]},\n",
       " {'userId': 7, 'Recommendation': [1, 25, 16, 27, 20]},\n",
       " {'userId': 8, 'Recommendation': [1, 25, 16, 2, 20]},\n",
       " {'userId': 9, 'Recommendation': [4, 1, 2, 3, 5]},\n",
       " {'userId': 10, 'Recommendation': [3, 2, 25, 1, 4]},\n",
       " {'userId': 11, 'Recommendation': [1, 25, 3, 2, 8]},\n",
       " {'userId': 12, 'Recommendation': [1, 3, 2, 4, 12]},\n",
       " {'userId': 13, 'Recommendation': [10, 25, 21, 9, 16]},\n",
       " {'userId': 14, 'Recommendation': [1, 3, 2, 4, 12]},\n",
       " {'userId': 15, 'Recommendation': [8, 25, 1, 4, 16]},\n",
       " {'userId': 16, 'Recommendation': [8, 25, 5, 1, 3]},\n",
       " {'userId': 17, 'Recommendation': [4, 2, 6, 25, 16]},\n",
       " {'userId': 18, 'Recommendation': [8, 24, 25, 6, 16]},\n",
       " {'userId': 19, 'Recommendation': [5, 7, 35, 2, 6]},\n",
       " {'userId': 20, 'Recommendation': [7, 2, 6, 4, 3]},\n",
       " {'userId': 21, 'Recommendation': [9, 13, 11, 15, 31]},\n",
       " {'userId': 22, 'Recommendation': [33, 36, 35, 5, 27]},\n",
       " {'userId': 23, 'Recommendation': [23, 18, 11, 13, 9]},\n",
       " {'userId': 24, 'Recommendation': [9, 7, 3, 5, 1]},\n",
       " {'userId': 25, 'Recommendation': [16, 8, 21, 25, 24]},\n",
       " {'userId': 26, 'Recommendation': [38, 35, 7, 27, 3]},\n",
       " {'userId': 27, 'Recommendation': [2, 3, 4, 22, 14]},\n",
       " {'userId': 28, 'Recommendation': [6, 17, 20, 18, 10]},\n",
       " {'userId': 29, 'Recommendation': [34, 38, 7, 27, 35]},\n",
       " {'userId': 30, 'Recommendation': [21, 38, 27, 32, 20]},\n",
       " {'userId': 31, 'Recommendation': [23, 22, 26, 19, 28]},\n",
       " {'userId': 32, 'Recommendation': [5, 3, 1, 2, 7]},\n",
       " {'userId': 33, 'Recommendation': [10, 6, 11, 4, 20]},\n",
       " {'userId': 34, 'Recommendation': [2, 34, 31, 5, 23]},\n",
       " {'userId': 35, 'Recommendation': [36, 35, 38, 15, 24]},\n",
       " {'userId': 36, 'Recommendation': [3, 5, 2, 14, 25]},\n",
       " {'userId': 37, 'Recommendation': [9, 7, 3, 5, 1]},\n",
       " {'userId': 38, 'Recommendation': [1, 9, 16, 7, 25]},\n",
       " {'userId': 39, 'Recommendation': [5, 3, 20, 27, 21]},\n",
       " {'userId': 40, 'Recommendation': [1, 4, 38, 25, 3]},\n",
       " {'userId': 41, 'Recommendation': [19, 38, 23, 2, 35]},\n",
       " {'userId': 42, 'Recommendation': [32, 30, 27, 38, 29]},\n",
       " {'userId': 43, 'Recommendation': [29, 28, 37, 22, 27]},\n",
       " {'userId': 44, 'Recommendation': [6, 8, 10, 4, 9]},\n",
       " {'userId': 45, 'Recommendation': [33, 13, 15, 3, 37]},\n",
       " {'userId': 46, 'Recommendation': [26, 30, 18, 24, 12]},\n",
       " {'userId': 47, 'Recommendation': [18, 23, 11, 21, 12]},\n",
       " {'userId': 48, 'Recommendation': [32, 36, 34, 30, 38]},\n",
       " {'userId': 49, 'Recommendation': [26, 19, 15, 18, 13]},\n",
       " {'userId': 50, 'Recommendation': [17, 15, 3, 5, 4]},\n",
       " {'userId': 51, 'Recommendation': [21, 8, 14, 19, 25]},\n",
       " {'userId': 52, 'Recommendation': [36, 10, 24, 9, 22]},\n",
       " {'userId': 53, 'Recommendation': [12, 30, 23, 24, 26]},\n",
       " {'userId': 54, 'Recommendation': [38, 26, 34, 20, 28]},\n",
       " {'userId': 55, 'Recommendation': [29, 37, 28, 33, 27]},\n",
       " {'userId': 56, 'Recommendation': [1, 10, 14, 25, 8]},\n",
       " {'userId': 57, 'Recommendation': [30, 35, 4, 16, 2]},\n",
       " {'userId': 58, 'Recommendation': [24, 8, 21, 16, 19]},\n",
       " {'userId': 59, 'Recommendation': [3, 28, 24, 27, 5]},\n",
       " {'userId': 60, 'Recommendation': [24, 8, 21, 15, 19]},\n",
       " {'userId': 61, 'Recommendation': [29, 32, 27, 4, 9]},\n",
       " {'userId': 62, 'Recommendation': [8, 25, 24, 16, 30]},\n",
       " {'userId': 63, 'Recommendation': [28, 38, 32, 27, 37]},\n",
       " {'userId': 64, 'Recommendation': [7, 16, 9, 18, 10]},\n",
       " {'userId': 65, 'Recommendation': [34, 18, 23, 21, 30]},\n",
       " {'userId': 66, 'Recommendation': [30, 27, 29, 32, 35]},\n",
       " {'userId': 67, 'Recommendation': [24, 16, 21, 30, 19]},\n",
       " {'userId': 68, 'Recommendation': [31, 14, 22, 11, 8]},\n",
       " {'userId': 69, 'Recommendation': [23, 26, 19, 20, 29]},\n",
       " {'userId': 70, 'Recommendation': [9, 13, 11, 15, 10]},\n",
       " {'userId': 71, 'Recommendation': [33, 3, 6, 4, 5]},\n",
       " {'userId': 72, 'Recommendation': [19, 26, 30, 32, 34]},\n",
       " {'userId': 73, 'Recommendation': [23, 18, 26, 22, 13]},\n",
       " {'userId': 74, 'Recommendation': [9, 12, 13, 1, 31]},\n",
       " {'userId': 75, 'Recommendation': [1, 3, 4, 2, 6]},\n",
       " {'userId': 76, 'Recommendation': [5, 3, 15, 24, 13]},\n",
       " {'userId': 77, 'Recommendation': [23, 12, 34, 32, 13]},\n",
       " {'userId': 78, 'Recommendation': [1, 3, 5, 2, 31]},\n",
       " {'userId': 79, 'Recommendation': [1, 4, 2, 25, 31]},\n",
       " {'userId': 80, 'Recommendation': [28, 32, 27, 31, 24]},\n",
       " {'userId': 81, 'Recommendation': [11, 9, 28, 13, 10]},\n",
       " {'userId': 82, 'Recommendation': [32, 15, 13, 37, 38]},\n",
       " {'userId': 83, 'Recommendation': [16, 25, 2, 12, 10]},\n",
       " {'userId': 84, 'Recommendation': [7, 38, 9, 34, 1]},\n",
       " {'userId': 85, 'Recommendation': [30, 18, 6, 7, 26]},\n",
       " {'userId': 86, 'Recommendation': [33, 28, 17, 2, 5]},\n",
       " {'userId': 87, 'Recommendation': [2, 3, 25, 4, 16]}]"
      ]
     },
     "execution_count": 61,
     "metadata": {},
     "output_type": "execute_result"
    }
   ],
   "source": [
    "top_n_recommendations"
   ]
  },
  {
   "cell_type": "code",
   "execution_count": 62,
   "id": "9865826d-f3c1-46ba-8c55-5a6fa58bcf70",
   "metadata": {
    "id": "9865826d-f3c1-46ba-8c55-5a6fa58bcf70"
   },
   "outputs": [],
   "source": [
    "# Function to recommend top N loans not taken by the user\n",
    "def recommend_loans_not_taken(user_id, recommendations, actual_loans_taken, top_n):\n",
    "    taken_loans = set(actual_loans_taken.get(user_id, []))\n",
    "    recommended_loans = []\n",
    "    for rec in recommendations:\n",
    "        loan_id = list(rec.keys())[0]\n",
    "        if loan_id not in taken_loans:\n",
    "            recommended_loans.append(loan_id)\n",
    "            if len(recommended_loans) == top_n:\n",
    "                break\n",
    "    return recommended_loans\n",
    "\n",
    "# Define a dictionary to store actual loans taken by each user\n",
    "actual_loans_taken_dict = {record['userId']: record['loans'] for record in Actual_loans_taken}\n",
    "\n",
    "# Create a list to store recommendations for each user\n",
    "recommendations_for_users = []\n",
    "\n",
    "# Iterate over each user\n",
    "for rec_user in CosineSilty_first10:\n",
    "    user_id = rec_user['UserId']\n",
    "    recommendations = rec_user['Recommendation']\n",
    "    # Recommend top N loans not taken by the user\n",
    "    recommended_loans = recommend_loans_not_taken(user_id, recommendations, actual_loans_taken_dict, top_n=5)\n",
    "    recommendations_for_users.append({'UserId': user_id, 'Recommendations': recommended_loans})\n",
    "\n"
   ]
  },
  {
   "cell_type": "code",
   "execution_count": 63,
   "id": "94ef57ea-b190-4779-90ab-175cf477433d",
   "metadata": {
    "scrolled": true
   },
   "outputs": [
    {
     "data": {
      "text/plain": [
       "[{'UserId': 1, 'Recommendations': [1, 25, 3, 2, 38]},\n",
       " {'UserId': 2, 'Recommendations': [1, 24, 12, 2, 3]},\n",
       " {'UserId': 3, 'Recommendations': [1, 16, 2, 3, 24]},\n",
       " {'UserId': 4, 'Recommendations': [1, 22, 25, 16, 37]},\n",
       " {'UserId': 5, 'Recommendations': [1, 25, 2, 4, 20]},\n",
       " {'UserId': 6, 'Recommendations': [13, 9, 18, 11, 23]},\n",
       " {'UserId': 7, 'Recommendations': [1, 27, 20, 30, 2]},\n",
       " {'UserId': 8, 'Recommendations': [1, 2, 10, 4, 3]},\n",
       " {'UserId': 9, 'Recommendations': [4, 1, 2, 3, 5]},\n",
       " {'UserId': 10, 'Recommendations': [1, 15, 16, 20, 27]},\n",
       " {'UserId': 11, 'Recommendations': [1, 25, 5, 13, 24]},\n",
       " {'UserId': 12, 'Recommendations': [1, 3, 4, 12, 25]},\n",
       " {'UserId': 13, 'Recommendations': [10, 21, 9, 16, 7]},\n",
       " {'UserId': 14, 'Recommendations': [1, 3, 2, 4, 12]},\n",
       " {'UserId': 15, 'Recommendations': [1, 16, 20, 32, 24]},\n",
       " {'UserId': 16, 'Recommendations': [5, 1, 3, 2, 6]},\n",
       " {'UserId': 17, 'Recommendations': [25, 24, 18, 17, 14]},\n",
       " {'UserId': 18, 'Recommendations': [24, 25, 16, 12, 14]},\n",
       " {'UserId': 19, 'Recommendations': [5, 7, 35, 6, 36]},\n",
       " {'UserId': 20, 'Recommendations': [7, 2, 6, 4, 3]},\n",
       " {'UserId': 21, 'Recommendations': [9, 13, 11, 15, 31]},\n",
       " {'UserId': 22, 'Recommendations': [33, 36, 35, 27, 37]},\n",
       " {'UserId': 23, 'Recommendations': [23, 18, 11, 13, 9]},\n",
       " {'UserId': 24, 'Recommendations': [9, 7, 3, 5, 1]},\n",
       " {'UserId': 25, 'Recommendations': [16, 8, 21, 25, 24]},\n",
       " {'UserId': 26, 'Recommendations': [38, 35, 7, 27, 3]},\n",
       " {'UserId': 27, 'Recommendations': [3, 4, 22, 14, 25]},\n",
       " {'UserId': 28, 'Recommendations': [6, 17, 20, 18, 15]},\n",
       " {'UserId': 29, 'Recommendations': [34, 38, 7, 27, 35]},\n",
       " {'UserId': 30, 'Recommendations': [21, 38, 27, 32, 20]},\n",
       " {'UserId': 31, 'Recommendations': [23, 22, 26, 19, 28]},\n",
       " {'UserId': 32, 'Recommendations': [5, 3, 1, 2, 7]},\n",
       " {'UserId': 33, 'Recommendations': [10, 6, 11, 20, 25]},\n",
       " {'UserId': 34, 'Recommendations': [2, 34, 31, 5, 23]},\n",
       " {'UserId': 35, 'Recommendations': [36, 35, 38, 15, 24]},\n",
       " {'UserId': 36, 'Recommendations': [3, 5, 2, 14, 25]},\n",
       " {'UserId': 37, 'Recommendations': [9, 3, 1, 33, 27]},\n",
       " {'UserId': 38, 'Recommendations': [1, 9, 16, 7, 25]},\n",
       " {'UserId': 39, 'Recommendations': [20, 27, 21, 7, 1]},\n",
       " {'UserId': 40, 'Recommendations': [1, 4, 38, 25, 3]},\n",
       " {'UserId': 41, 'Recommendations': [19, 23, 2, 35, 18]},\n",
       " {'UserId': 42, 'Recommendations': [32, 30, 27, 38, 29]},\n",
       " {'UserId': 43, 'Recommendations': [29, 28, 37, 22, 27]},\n",
       " {'UserId': 44, 'Recommendations': [10, 4, 9, 7, 14]},\n",
       " {'UserId': 45, 'Recommendations': [33, 13, 15, 3, 37]},\n",
       " {'UserId': 46, 'Recommendations': [26, 30, 18, 24, 12]},\n",
       " {'UserId': 47, 'Recommendations': [18, 23, 11, 21, 12]},\n",
       " {'UserId': 48, 'Recommendations': [32, 36, 34, 30, 38]},\n",
       " {'UserId': 49, 'Recommendations': [26, 19, 15, 18, 13]},\n",
       " {'UserId': 50, 'Recommendations': [17, 15, 3, 5, 4]},\n",
       " {'UserId': 51, 'Recommendations': [21, 8, 14, 19, 25]},\n",
       " {'UserId': 52, 'Recommendations': [36, 24, 9, 22, 23]},\n",
       " {'UserId': 53, 'Recommendations': [12, 30, 23, 24, 26]},\n",
       " {'UserId': 54, 'Recommendations': [38, 26, 34, 20, 28]},\n",
       " {'UserId': 55, 'Recommendations': [29, 37, 28, 33, 27]},\n",
       " {'UserId': 56, 'Recommendations': [1, 10, 14, 25, 9]},\n",
       " {'UserId': 57, 'Recommendations': [30, 35, 4, 16, 2]},\n",
       " {'UserId': 58, 'Recommendations': [24, 16, 19, 22, 11]},\n",
       " {'UserId': 59, 'Recommendations': [3, 28, 27, 5, 17]},\n",
       " {'UserId': 60, 'Recommendations': [24, 21, 15, 19, 18]},\n",
       " {'UserId': 61, 'Recommendations': [29, 32, 27, 4, 9]},\n",
       " {'UserId': 62, 'Recommendations': [25, 24, 30, 12, 33]},\n",
       " {'UserId': 63, 'Recommendations': [28, 38, 32, 27, 37]},\n",
       " {'UserId': 64, 'Recommendations': [7, 16, 9, 18, 10]},\n",
       " {'UserId': 65, 'Recommendations': [34, 18, 23, 21, 30]},\n",
       " {'UserId': 66, 'Recommendations': [30, 27, 29, 32, 35]},\n",
       " {'UserId': 67, 'Recommendations': [30, 19, 25, 12, 5]},\n",
       " {'UserId': 68, 'Recommendations': [31, 14, 22, 11, 10]},\n",
       " {'UserId': 69, 'Recommendations': [23, 26, 19, 20, 29]},\n",
       " {'UserId': 70, 'Recommendations': [13, 11, 15, 10, 34]},\n",
       " {'UserId': 71, 'Recommendations': [33, 5, 27, 7, 9]},\n",
       " {'UserId': 72, 'Recommendations': [19, 26, 30, 32, 34]},\n",
       " {'UserId': 73, 'Recommendations': [23, 18, 26, 22, 13]},\n",
       " {'UserId': 74, 'Recommendations': [12, 13, 1, 31, 11]},\n",
       " {'UserId': 75, 'Recommendations': [1, 3, 4, 2, 6]},\n",
       " {'UserId': 76, 'Recommendations': [5, 3, 15, 24, 13]},\n",
       " {'UserId': 77, 'Recommendations': [23, 34, 32, 13, 18]},\n",
       " {'UserId': 78, 'Recommendations': [1, 3, 5, 31, 7]},\n",
       " {'UserId': 79, 'Recommendations': [1, 2, 31, 3, 6]},\n",
       " {'UserId': 80, 'Recommendations': [28, 32, 27, 31, 24]},\n",
       " {'UserId': 81, 'Recommendations': [11, 9, 28, 13, 10]},\n",
       " {'UserId': 82, 'Recommendations': [32, 15, 13, 37, 38]},\n",
       " {'UserId': 83, 'Recommendations': [25, 12, 10, 30, 24]},\n",
       " {'UserId': 84, 'Recommendations': [7, 38, 9, 34, 1]},\n",
       " {'UserId': 85, 'Recommendations': [30, 6, 7, 26, 24]},\n",
       " {'UserId': 86, 'Recommendations': [33, 28, 17, 27, 29]},\n",
       " {'UserId': 87, 'Recommendations': [25, 16, 5, 6, 14]}]"
      ]
     },
     "execution_count": 63,
     "metadata": {},
     "output_type": "execute_result"
    }
   ],
   "source": [
    "recommendations_for_users"
   ]
  },
  {
   "cell_type": "code",
   "execution_count": 77,
   "id": "0d27d325-3d00-4ea4-9b7f-81e33cfb9ddd",
   "metadata": {},
   "outputs": [],
   "source": [
    "pd.DataFrame(recommendations_for_users).head().to_csv(\"Export_recommendations.csv\",index=False)"
   ]
  },
  {
   "cell_type": "code",
   "execution_count": 75,
   "id": "b67369c4-7066-491e-affb-b3d50e29a6ed",
   "metadata": {},
   "outputs": [
    {
     "data": {
      "text/plain": [
       "{1: [15, 12, 30, 16, 24, 21, 18, 14, 8],\n",
       " 2: [19, 16, 13, 5, 6, 18, 10, 25, 4, 8],\n",
       " 3: [6, 10, 25, 4, 8],\n",
       " 4: [2, 3, 4],\n",
       " 5: [16, 6, 3, 10, 8],\n",
       " 6: [12, 16, 8],\n",
       " 7: [12, 16, 5, 6, 25],\n",
       " 8: [15, 12, 16, 13, 20, 24, 21, 18, 25, 8],\n",
       " 9: [6, 7],\n",
       " 10: [12, 5, 2, 6, 3, 25, 4, 8],\n",
       " 11: [15, 12, 16, 2, 17, 6, 3, 10, 4, 14, 8],\n",
       " 12: [16, 2, 17, 6, 21, 14, 8],\n",
       " 13: [2, 6, 25, 4, 8],\n",
       " 14: [16, 24, 21, 10],\n",
       " 15: [5, 2, 6, 3, 10, 25, 4, 8],\n",
       " 16: [12, 16, 25, 8],\n",
       " 17: [12, 16, 5, 2, 20, 6, 3, 10, 4, 11, 8],\n",
       " 18: [2, 6, 8],\n",
       " 19: [16, 2, 18, 10, 4, 14, 8],\n",
       " 20: [8],\n",
       " 21: [16, 5, 38, 24, 25, 22, 8, 26],\n",
       " 22: [5, 6, 3],\n",
       " 23: [5, 2],\n",
       " 24: [16, 4, 14, 8],\n",
       " 25: [12, 2, 18, 7, 4],\n",
       " 26: [18, 10, 8],\n",
       " 27: [5, 2, 6, 8],\n",
       " 28: [5, 10, 14, 8],\n",
       " 29: [2, 4],\n",
       " 30: [25, 8],\n",
       " 31: [30, 16, 24, 3, 18, 21, 10, 4, 14],\n",
       " 32: [6, 25, 4, 8],\n",
       " 33: [30, 16, 5, 4, 14],\n",
       " 34: [15, 12, 19, 6, 3, 18, 24, 10, 7, 4, 14, 11, 8],\n",
       " 35: [2, 4],\n",
       " 36: [12, 16, 8],\n",
       " 37: [38, 10, 25, 4, 11, 26, 13, 5, 20, 35, 6, 7, 14, 8, 23],\n",
       " 38: [2, 6, 3, 10, 4, 8],\n",
       " 39: [5, 2, 6, 3, 4, 8],\n",
       " 40: [16, 10, 14],\n",
       " 41: [27, 16, 38, 32, 21, 14],\n",
       " 42: [25],\n",
       " 43: [30, 16, 38, 24, 21, 36, 23],\n",
       " 44: [6, 25, 8],\n",
       " 45: [24, 4, 8],\n",
       " 46: [2],\n",
       " 47: [16, 13, 5, 6, 8],\n",
       " 48: [9, 2, 6, 4, 8],\n",
       " 49: [2, 6, 4],\n",
       " 50: [16, 21, 25, 8],\n",
       " 51: [6, 3, 4],\n",
       " 52: [12, 3, 10, 25, 8],\n",
       " 53: [15, 6, 18, 10, 14, 8],\n",
       " 54: [12, 5, 2, 6, 3, 10, 7, 4, 14, 8],\n",
       " 55: [12, 16, 6, 10, 8],\n",
       " 56: [16, 8],\n",
       " 57: [15, 6, 21, 18, 10, 25, 14, 8],\n",
       " 58: [12, 2, 6, 3, 21, 25, 4, 14, 8],\n",
       " 59: [16, 2, 24, 21, 18, 26],\n",
       " 60: [10, 4, 14, 8],\n",
       " 61: [2, 6, 10],\n",
       " 62: [16, 2, 14, 8],\n",
       " 63: [2, 6, 8],\n",
       " 64: [5, 2, 3],\n",
       " 65: [15, 2, 6, 10, 8],\n",
       " 66: [2, 25],\n",
       " 67: [15, 27, 16, 20, 24, 21, 18, 10, 4, 22, 14, 8],\n",
       " 68: [27, 17, 24, 8],\n",
       " 69: [9, 5, 2, 6, 10, 7, 4, 8],\n",
       " 70: [9, 2, 3, 8],\n",
       " 71: [2, 6, 3, 4],\n",
       " 72: [16, 13, 6, 4, 8],\n",
       " 73: [12, 9, 2, 10],\n",
       " 74: [9, 16, 17, 24, 3, 10, 25, 4, 19, 5, 6, 21, 8, 23],\n",
       " 75: [24, 8],\n",
       " 76: [16, 6, 21, 10, 22, 26],\n",
       " 77: [12, 5, 3, 21, 10, 8],\n",
       " 78: [13, 2, 10, 4, 8],\n",
       " 79: [27, 16, 21, 25, 4, 8],\n",
       " 80: [15, 12, 5, 17, 7, 4, 14, 8],\n",
       " 81: [5, 2, 6, 3, 4],\n",
       " 82: [16, 6, 8],\n",
       " 83: [16, 5, 2],\n",
       " 84: [25, 4, 8],\n",
       " 85: [15, 12, 16, 17, 21, 18, 10, 25, 4, 8],\n",
       " 86: [12, 16, 5, 2, 6, 3, 10, 7, 4, 8],\n",
       " 87: [2, 3, 4, 8],\n",
       " 88: [5, 2, 6, 3, 4, 8],\n",
       " 89: [12, 13, 10, 25],\n",
       " 90: [16, 17, 4, 11, 8],\n",
       " 91: [16, 2, 25, 4, 8],\n",
       " 92: [5, 2, 6, 4],\n",
       " 93: [12, 27, 16, 20, 17, 6, 21, 4, 8],\n",
       " 94: [16, 6, 10, 14, 8],\n",
       " 95: [5, 6, 10, 4, 8],\n",
       " 96: [12, 16, 2, 17, 6, 21, 10, 8],\n",
       " 97: [5, 2, 6, 3, 4, 8],\n",
       " 98: [16, 6, 24, 25],\n",
       " 99: [12, 2, 3, 10, 7, 4],\n",
       " 100: [19, 16, 24, 18, 11],\n",
       " 101: [16, 25, 4],\n",
       " 102: [12, 5, 2, 6, 10, 4, 14, 8, 26],\n",
       " 103: [16, 2, 6],\n",
       " 104: [6, 24, 18, 25, 4],\n",
       " 105: [2, 10, 4, 8],\n",
       " 106: [6, 3, 10, 8],\n",
       " 107: [5, 2, 4, 8],\n",
       " 108: [2, 6, 3, 8],\n",
       " 109: [15, 30, 37, 16, 32, 18, 10, 26, 12, 19, 13, 5, 21, 7, 14, 8, 23],\n",
       " 110: [12, 27, 16, 2, 17, 24, 21, 7, 8],\n",
       " 111: [15, 16, 2, 6, 10, 8],\n",
       " 112: [16, 24, 21, 25, 14],\n",
       " 113: [24, 10, 26],\n",
       " 114: [5, 2, 8],\n",
       " 115: [5, 2, 6, 3, 7, 4],\n",
       " 116: [30, 16, 2, 35, 6, 24, 36, 8],\n",
       " 117: [12, 16, 5, 10, 4, 14, 8],\n",
       " 118: [5, 2, 6, 3, 10, 7, 4, 8],\n",
       " 119: [12, 16, 20, 24, 25, 4, 14, 8],\n",
       " 120: [2, 3],\n",
       " 121: [16, 2, 10, 14, 8],\n",
       " 122: [15, 21, 18],\n",
       " 123: [15, 30, 27, 16, 24, 21, 10, 25, 8],\n",
       " 124: [15, 9, 13, 2, 3, 21, 7, 4, 14, 8],\n",
       " 125: [15, 16, 13, 6, 21, 24, 10, 25, 8, 26],\n",
       " 126: [12, 2, 6, 4, 8],\n",
       " 127: [6, 10, 11, 8],\n",
       " 128: [16],\n",
       " 129: [24, 25, 29, 26],\n",
       " 130: [15, 12, 2, 6, 10, 7, 14, 8],\n",
       " 131: [30, 16, 2, 25],\n",
       " 132: [2],\n",
       " 133: [25],\n",
       " 134: [16, 2, 6, 10, 25, 8],\n",
       " 135: [12, 20, 6, 24, 18],\n",
       " 136: [2, 14, 8],\n",
       " 137: [2, 3, 10, 4],\n",
       " 138: [12, 27, 16, 21],\n",
       " 139: [6, 10, 4, 14, 8],\n",
       " 140: [2],\n",
       " 141: [3, 25, 4, 8],\n",
       " 142: [16, 18],\n",
       " 143: [6, 7, 4, 8],\n",
       " 144: [12, 30, 37, 38, 6, 24, 18],\n",
       " 145: [15, 30, 16, 31, 2, 17, 3, 25, 4, 27, 5, 20, 6, 28, 7, 29, 8, 23],\n",
       " 146: [16, 6, 14, 8],\n",
       " 147: [15, 16, 10, 22, 8],\n",
       " 148: [12, 16, 5, 2, 6, 3, 21, 4, 14, 8],\n",
       " 149: [2, 10, 4],\n",
       " 150: [12, 5, 6, 4],\n",
       " 151: [27, 16, 17, 6, 21, 24, 22, 8],\n",
       " 152: [12, 9, 16, 2, 20, 6, 24, 25, 23],\n",
       " 153: [15, 12, 25, 11],\n",
       " 154: [21, 14, 8],\n",
       " 155: [16, 6, 21, 24, 10, 25],\n",
       " 156: [15, 12, 6, 18, 25, 4, 8, 23],\n",
       " 157: [15, 16, 24, 21, 18, 10, 25, 4, 22, 14, 8, 23],\n",
       " 158: [16, 10, 25, 22, 14],\n",
       " 159: [5, 7, 4],\n",
       " 160: [16, 5, 6, 3, 10, 7, 4, 11, 8],\n",
       " 161: [19, 16, 2, 4, 8],\n",
       " 162: [30, 37, 16, 38, 32, 24, 4, 34, 35, 6, 21, 36, 29, 8],\n",
       " 163: [2, 6, 3, 4],\n",
       " 164: [12, 16, 8],\n",
       " 165: [8, 23],\n",
       " 166: [12, 27, 30, 19, 16, 20, 35, 32, 24, 21, 25, 14],\n",
       " 167: [24, 25, 4],\n",
       " 168: [2, 4],\n",
       " 169: [2, 3, 18, 4, 8],\n",
       " 170: [2, 6, 7, 8],\n",
       " 171: [16, 5, 2, 6, 10, 4],\n",
       " 172: [15, 16, 10, 4, 11],\n",
       " 173: [30, 16, 24, 21, 10],\n",
       " 174: [24, 25, 4],\n",
       " 175: [16, 2, 8],\n",
       " 176: [12, 19, 25, 23],\n",
       " 177: [15, 12, 9, 19, 16, 20, 6, 21, 18, 10, 8],\n",
       " 178: [12, 5, 2, 6, 3],\n",
       " 179: [6, 14, 8],\n",
       " 180: [16, 6, 25, 23],\n",
       " 181: [12, 16, 13, 2, 24, 21, 18, 10, 25, 4, 14, 8],\n",
       " 182: [13, 6, 8],\n",
       " 183: [12, 27, 19, 6, 21, 18, 24, 25, 4, 22, 8, 23, 26],\n",
       " 184: [27, 19, 16, 13, 37, 17, 11],\n",
       " 185: [5, 6, 4, 8],\n",
       " 186: [15, 19, 16, 5, 14, 8],\n",
       " 187: [12, 16, 6, 10, 14, 8],\n",
       " 188: [15, 9, 16, 10, 25, 4],\n",
       " 189: [15, 16, 32, 8, 23],\n",
       " 190: [16, 5, 6, 3, 10, 4, 14, 8],\n",
       " 191: [15, 30, 16, 24, 10, 4, 26, 27, 5, 35, 6, 7, 22, 14, 8, 23],\n",
       " 192: [15, 12, 16, 3, 10, 14],\n",
       " 193: [2, 4, 8],\n",
       " 194: [6, 8],\n",
       " 195: [2, 3, 18, 4],\n",
       " 196: [16, 5, 2, 3],\n",
       " 197: [2, 4, 8],\n",
       " 198: [12, 9, 16, 5, 2, 17, 20, 6, 3, 8],\n",
       " 199: [2, 8],\n",
       " 200: [30, 2, 35, 24, 21, 10, 22, 4],\n",
       " 201: [10],\n",
       " 202: [16, 6],\n",
       " 203: [9, 19, 16, 6, 21, 18, 24, 14],\n",
       " 204: [9, 24, 4, 14, 11, 8, 23],\n",
       " 205: [17, 4, 8],\n",
       " 206: [2, 4, 8],\n",
       " 207: [12, 9, 19, 16, 13, 5, 2, 17, 6, 3, 4, 14, 8],\n",
       " 208: [5, 2, 6, 3, 7, 4],\n",
       " 209: [16, 10, 8],\n",
       " 210: [5, 2, 3, 4, 8],\n",
       " 211: [16, 18, 11, 23],\n",
       " 212: [16, 2, 25, 4],\n",
       " 213: [15, 16, 2, 24, 18, 10, 4, 12, 13, 6, 21, 14, 8, 23],\n",
       " 214: [15, 12, 9, 5, 6, 10, 8],\n",
       " 215: [6, 8],\n",
       " 216: [30, 16, 24, 21],\n",
       " 217: [15, 19, 16, 6, 21, 24, 25, 22, 8],\n",
       " 218: [15, 12, 16, 2, 6, 4, 11],\n",
       " 219: [5, 2, 4, 8],\n",
       " 220: [2, 6, 14],\n",
       " 221: [19, 5, 17, 6, 18, 7, 4, 8],\n",
       " 222: [2, 6, 24, 4, 8],\n",
       " 223: [12, 5, 2, 6, 25, 4, 14, 8],\n",
       " 224: [2, 6, 14],\n",
       " 225: [16, 25, 8],\n",
       " 226: [2, 6, 10, 4, 8],\n",
       " 227: [30, 27, 16, 31, 24, 21, 22, 14, 26],\n",
       " 228: [2, 6, 8],\n",
       " 229: [16, 20, 24, 21, 22, 23],\n",
       " 230: [15, 12, 27, 16, 24, 18, 25, 4, 14, 8],\n",
       " 231: [16, 10, 25, 8, 23],\n",
       " 232: [5, 2, 3, 4, 8],\n",
       " 233: [2, 3, 4, 8],\n",
       " 234: [2, 6, 18, 4],\n",
       " 235: [2, 6, 4, 8],\n",
       " 236: [16, 2, 3, 4, 8],\n",
       " 237: [16, 5, 2, 6, 3, 10, 7, 4, 14, 8],\n",
       " 238: [6, 7, 4, 8],\n",
       " 239: [15, 12, 16, 20, 24, 18, 4],\n",
       " 240: [16, 21, 25, 4, 22, 23],\n",
       " 241: [16, 38, 32, 24, 36, 22, 14, 8],\n",
       " 242: [12, 38, 4, 8],\n",
       " 243: [12, 6, 10, 7, 4, 11, 8],\n",
       " 244: [5, 6, 4, 8],\n",
       " 245: [15, 9, 6, 8],\n",
       " 246: [12, 16, 2, 20, 6, 3, 25, 4, 14, 8, 23],\n",
       " 247: [12, 27, 16, 13, 5, 24, 21, 8],\n",
       " 248: [30, 16, 38, 17, 24, 21, 28],\n",
       " 249: [4],\n",
       " 250: [12, 2, 35, 21],\n",
       " 251: [14, 8],\n",
       " 252: [10, 4, 8],\n",
       " 253: [16, 24, 14, 23],\n",
       " 254: [12, 20, 6, 3, 4, 11, 8],\n",
       " 255: [12, 27, 2, 25, 8],\n",
       " 256: [25, 14, 8],\n",
       " 257: [18, 8],\n",
       " 258: [19, 16, 5, 2, 24, 21, 25, 8],\n",
       " 259: [2, 6, 14],\n",
       " 260: [2, 8],\n",
       " 261: [13, 2, 8],\n",
       " 262: [12, 13, 2, 6, 10, 25, 14, 11, 8, 23],\n",
       " 263: [19, 25, 8],\n",
       " 264: [16],\n",
       " 265: [16, 25, 8],\n",
       " 266: [16, 2, 24, 18, 10, 25, 4, 26, 12, 27, 19, 5, 6, 21, 22, 8, 23],\n",
       " 267: [15, 12, 19, 16, 17, 21, 18, 10, 14, 11, 8],\n",
       " 268: [2],\n",
       " 269: [2, 10, 4],\n",
       " 270: [2, 6, 3, 4],\n",
       " 271: [13, 6, 8],\n",
       " 272: [5, 2, 6, 4, 8],\n",
       " 273: [9, 5, 2, 6, 7, 4, 8],\n",
       " 274: [17, 6, 10, 4, 14, 8],\n",
       " 275: [6, 8],\n",
       " 276: [5, 2, 4],\n",
       " 277: [16, 2, 25],\n",
       " 278: [10, 14, 8],\n",
       " 279: [12, 16, 6, 10, 25, 4, 14, 8],\n",
       " 280: [15, 12, 9, 16, 13, 17, 6, 10, 25, 4, 8],\n",
       " 281: [9, 19, 6, 4, 8],\n",
       " 282: [16, 2, 8],\n",
       " 283: [12, 6, 10, 4, 8],\n",
       " 284: [16, 2, 6, 25, 4, 8],\n",
       " 285: [16, 6, 10, 4],\n",
       " 286: [5, 2, 3],\n",
       " 287: [9, 10, 14, 8],\n",
       " 288: [7, 14, 8],\n",
       " 289: [24, 25, 8],\n",
       " 290: [2, 6, 10, 4, 8],\n",
       " 291: [6, 10, 4, 11, 8],\n",
       " 292: [27, 2, 24, 14],\n",
       " 293: [5, 6, 4],\n",
       " 294: [16, 13, 2, 17, 22, 8],\n",
       " 295: [2, 4],\n",
       " 296: [6, 24, 8],\n",
       " 297: [12, 5, 6],\n",
       " 298: [16, 6],\n",
       " 299: [12, 16, 7],\n",
       " 300: [30, 27, 16, 38, 35, 32, 24, 21, 18, 10, 14, 8, 23],\n",
       " 301: [16, 38, 17, 35, 24, 10],\n",
       " 302: [15, 9, 13, 5, 2, 8],\n",
       " 303: [6, 25, 4],\n",
       " 304: [12, 19, 16, 6, 21, 24, 10, 25, 14],\n",
       " 305: [15, 12, 9, 5, 20, 17, 10, 4, 8],\n",
       " 306: [16, 25, 14, 8, 23],\n",
       " 307: [16, 21, 8],\n",
       " 308: [16, 38, 24, 8],\n",
       " 309: [16, 25],\n",
       " 310: [2, 6, 14],\n",
       " 311: [30, 16, 13, 21, 25, 8],\n",
       " 312: [16, 5, 6, 10, 8],\n",
       " 313: [21, 25],\n",
       " 314: [13, 10, 25, 4, 8],\n",
       " 315: [24, 25],\n",
       " 316: [19, 16, 10, 8],\n",
       " 317: [15, 9, 16, 5, 2, 6, 3, 7, 4, 25, 8, 26],\n",
       " 318: [19, 16, 2, 6, 21, 24, 10, 8, 26],\n",
       " 319: [6, 10, 25, 4],\n",
       " 320: [15, 16, 24, 21, 18, 10, 7, 4, 22, 25, 14],\n",
       " 321: [6, 24, 4],\n",
       " 322: [24, 10, 25],\n",
       " 323: [19, 13, 17, 6, 8],\n",
       " 324: [2, 4],\n",
       " 325: [16, 21, 10, 25, 22, 11, 8],\n",
       " 326: [5, 2, 6, 25, 4, 8],\n",
       " 327: [17, 8],\n",
       " 328: [16, 13, 24, 10, 8],\n",
       " 329: [12, 13, 5, 6, 21, 10, 7, 25, 8],\n",
       " 330: [16, 2, 4, 14],\n",
       " 331: [15, 12, 16, 24, 21, 18, 10, 7, 22, 14, 8, 23],\n",
       " 332: [2, 4],\n",
       " 333: [30, 16, 24, 21, 14],\n",
       " 334: [27, 16, 21, 25, 8],\n",
       " 335: [12],\n",
       " 336: [12, 19, 16, 13, 24, 21, 18, 7, 8],\n",
       " 337: [2, 17, 7, 4, 8],\n",
       " 338: [37, 38, 24, 21, 25, 8],\n",
       " 339: [16, 2],\n",
       " 340: [13, 3, 21, 10, 4, 11, 8],\n",
       " 341: [16, 5, 6, 25, 4, 8],\n",
       " 342: [12, 16, 8],\n",
       " 343: [21, 25],\n",
       " 344: [30, 27, 17, 32, 24, 21, 10, 22, 14, 26],\n",
       " 345: [16, 25, 4, 8],\n",
       " 346: [5, 6, 3, 4],\n",
       " 347: [16, 18, 4, 8],\n",
       " 348: [2, 6, 7],\n",
       " 349: [19, 16, 13, 6, 10, 14],\n",
       " 350: [2, 3, 4, 8],\n",
       " 351: [9, 5, 2, 6, 3, 10, 7, 4, 25, 14, 11, 8],\n",
       " 352: [6, 10, 8],\n",
       " 353: [12, 2, 17, 38, 24, 21, 18, 14, 8, 23, 26],\n",
       " 354: [5, 2, 6, 4, 11, 8],\n",
       " 355: [5, 6, 25, 8],\n",
       " 356: [2, 6, 8],\n",
       " 357: [15, 9, 6, 24, 14],\n",
       " 358: [13, 3, 4, 8],\n",
       " 359: [2, 8],\n",
       " 360: [15, 6, 8],\n",
       " 361: [13, 10],\n",
       " 362: [16, 24, 21],\n",
       " 363: [6, 24, 10, 25, 4, 8],\n",
       " 364: [5, 2],\n",
       " 365: [12, 13, 6, 10],\n",
       " 366: [16, 38, 25, 4],\n",
       " 367: [2, 4, 8],\n",
       " 368: [2, 6, 8],\n",
       " 369: [8],\n",
       " 370: [2],\n",
       " 371: [12, 6, 10, 8],\n",
       " 372: [2, 8],\n",
       " 373: [15, 12, 38, 6, 21, 18, 24, 10, 4, 14, 8],\n",
       " 374: [16, 24, 7, 4, 22, 25],\n",
       " 375: [12, 16, 2, 6, 10, 25, 4, 14, 8],\n",
       " 376: [9, 10],\n",
       " 377: [15, 12, 16, 5, 17, 6, 21, 24, 10],\n",
       " 378: [2, 4, 8],\n",
       " 379: [15, 12, 16, 5, 6, 3, 18, 10, 7, 4, 25, 8],\n",
       " 380: [24, 18, 10, 25, 8],\n",
       " 381: [16, 25, 8],\n",
       " 382: [16, 3, 8],\n",
       " 383: [12, 16, 2, 6, 21, 8],\n",
       " 384: [12, 6, 21, 18, 7, 4, 8],\n",
       " 385: [16, 14],\n",
       " 386: [16, 8],\n",
       " 387: [15, 27, 37, 16, 38, 35, 32, 24, 23],\n",
       " 388: [12, 5, 2, 6, 3, 10, 4, 11],\n",
       " 389: [6, 24, 8],\n",
       " 390: [2, 25],\n",
       " 391: [2, 6, 7, 4, 8],\n",
       " 392: [5, 2, 3, 8],\n",
       " 393: [2, 6, 3, 4, 8],\n",
       " 394: [30, 16, 20, 21, 18],\n",
       " 395: [6, 3, 4, 8],\n",
       " 396: [30, 16, 5, 2, 32, 6, 24, 18, 4, 8],\n",
       " 397: [15, 16, 5, 2, 6, 21, 10, 7, 25, 8],\n",
       " 398: [16, 24, 10, 14, 23],\n",
       " 399: [6, 4, 14, 8],\n",
       " 400: [16, 24, 21, 25, 4, 8],\n",
       " 401: [16, 24],\n",
       " 402: [6, 25, 22, 23],\n",
       " 403: [18, 14],\n",
       " 404: [2, 6, 10, 8],\n",
       " 405: [5, 2, 6, 10, 8],\n",
       " 406: [16, 25, 4, 8],\n",
       " 407: [16, 6, 14, 8],\n",
       " 408: [2, 6, 10, 7, 4, 14, 8],\n",
       " 409: [6, 25, 8],\n",
       " 410: [16, 5, 8],\n",
       " 411: [15, 16, 5, 2, 17, 6],\n",
       " 412: [16, 6, 8],\n",
       " 413: [15, 12, 16, 5, 17, 6, 21, 18, 10, 14, 8, 23],\n",
       " 414: [12, 16, 20, 6, 21, 25, 14, 8],\n",
       " 415: [16, 25, 4, 8],\n",
       " 416: [2],\n",
       " 417: [12, 27, 30, 19, 16, 24, 10, 14, 8],\n",
       " 418: [16, 25, 8],\n",
       " 419: [2, 4],\n",
       " 420: [16, 2, 20, 6, 3, 18, 10, 25, 4],\n",
       " 421: [12, 27, 16, 31, 38, 24, 21, 14],\n",
       " 422: [12, 2, 10, 25, 8],\n",
       " 423: [18, 10, 22, 14, 8],\n",
       " 424: [15, 16, 2, 6, 25, 4, 8],\n",
       " 425: [2, 6, 3, 4],\n",
       " 426: [16, 10, 8],\n",
       " 427: [12, 19, 2, 20, 6, 21, 24, 25, 4, 8],\n",
       " 428: [2],\n",
       " 429: [15, 17, 21, 10, 4, 8, 23],\n",
       " 430: [16, 20, 18, 25, 4, 14, 8],\n",
       " 431: [16, 38, 32, 21, 10],\n",
       " 432: [1, 2, 4],\n",
       " 433: [12, 16, 13, 2, 21, 11, 8],\n",
       " 434: [2, 6, 3, 4],\n",
       " 435: [16, 6, 10, 14, 8],\n",
       " 436: [19, 16, 21],\n",
       " 437: [6, 8],\n",
       " 438: [2, 3],\n",
       " 439: [16, 2, 17, 24, 10, 25, 4, 12, 27, 19, 13, 5, 6, 21, 14, 8],\n",
       " 440: [6, 10, 4, 14],\n",
       " 441: [16, 4],\n",
       " 442: [5, 2, 6, 4],\n",
       " 443: [6, 10, 8],\n",
       " 444: [5, 6],\n",
       " 445: [16, 5, 6, 8],\n",
       " 446: [27, 21, 18, 10, 14, 8, 23],\n",
       " 447: [12, 16, 25, 4, 8],\n",
       " 448: [15, 12, 27, 16, 6, 18, 10, 7, 4, 14, 11],\n",
       " 449: [20, 6, 25],\n",
       " 450: [37, 38, 24, 21, 14, 8, 26],\n",
       " 451: [2, 6, 3, 10, 4, 14, 8],\n",
       " 452: [6, 10, 25, 14],\n",
       " 453: [12, 9, 16, 13, 2, 6, 21, 10, 25, 4, 14, 8],\n",
       " 454: [5, 2, 6, 3, 18, 4, 8],\n",
       " 455: [9, 5, 2, 10],\n",
       " 456: [15, 12, 16, 13, 20, 21, 18, 25, 14, 8],\n",
       " 457: [27, 32, 21, 10],\n",
       " 458: [16, 24, 21, 10, 14],\n",
       " 459: [5, 6, 4, 8],\n",
       " 460: [15, 30, 16, 2, 3, 18, 10, 4, 26, 12, 19, 6, 21, 8],\n",
       " 461: [5, 2, 6],\n",
       " 462: [30, 27, 17, 32, 6, 21, 24, 28, 29, 26],\n",
       " 463: [16, 8],\n",
       " 464: [30, 16, 2, 24, 3, 10, 25, 33, 27, 35, 6, 21, 14, 8],\n",
       " 465: [15, 19, 16, 5, 17, 21, 18, 7, 22, 23],\n",
       " 466: [15, 12, 16, 13, 10, 7, 25, 14],\n",
       " 467: [12, 16, 2, 6, 24, 25, 4, 8, 26],\n",
       " 468: [12, 9, 5, 2, 20, 6, 10, 7, 4, 8],\n",
       " 469: [5, 10, 25, 8],\n",
       " 470: [2, 6, 7, 8],\n",
       " 471: [16, 18, 23],\n",
       " 472: [16, 20, 17, 3],\n",
       " 473: [30, 38, 24, 21],\n",
       " 474: [12, 2, 10],\n",
       " 475: [16, 4, 8],\n",
       " 476: [2, 4, 8],\n",
       " 477: [5, 2, 6, 3, 7, 4, 8],\n",
       " 478: [15, 12, 16, 20, 24, 21, 18, 10, 8, 23],\n",
       " 479: [6, 3, 8],\n",
       " 480: [16, 25],\n",
       " 481: [2, 6, 3, 7, 4, 25],\n",
       " 482: [16, 2, 21, 10, 8],\n",
       " 483: [10, 4, 8],\n",
       " 484: [12, 10, 4],\n",
       " 485: [10, 8],\n",
       " 486: [15, 6, 10, 4, 14],\n",
       " 487: [2, 6, 7, 4, 8],\n",
       " 488: [30, 16, 38, 24],\n",
       " 489: [12, 16, 5, 10, 4, 11, 8],\n",
       " 490: [15, 5, 2, 6, 3, 4, 14, 8],\n",
       " 491: [16, 21, 23],\n",
       " 492: [12, 16, 17, 6, 10, 4, 14, 8],\n",
       " 493: [15, 12, 9, 16, 5, 2, 10, 4, 8],\n",
       " 494: [15, 12, 5, 2, 6, 3, 4, 11],\n",
       " 495: [5, 2, 6, 3, 4, 14],\n",
       " 496: [30, 16, 38, 21],\n",
       " 497: [12, 17, 24, 18, 25, 22],\n",
       " 498: [2, 3, 4],\n",
       " 499: [15, 16, 13],\n",
       " 500: [1, 7, 4],\n",
       " 501: [8],\n",
       " 502: [16, 25, 4],\n",
       " 503: [12, 27, 16, 6, 24, 18, 11, 8],\n",
       " 504: [2, 4, 8],\n",
       " 505: [15, 12, 16, 10, 25, 14, 8],\n",
       " 506: [6, 4, 11, 8],\n",
       " 507: [12, 19, 16, 13, 10, 7],\n",
       " 508: [16, 14, 8],\n",
       " 509: [30, 27, 24, 18, 25],\n",
       " 510: [24, 25, 26],\n",
       " 511: [15, 19, 16, 20, 17, 21, 18, 10, 14, 8],\n",
       " 512: [5, 3, 4, 8],\n",
       " 513: [5, 6, 7, 11],\n",
       " 514: [16, 5, 2, 6, 10, 25, 4, 14, 8],\n",
       " 515: [19, 6, 21, 8],\n",
       " 516: [16, 5, 2, 6, 3, 7, 4, 25],\n",
       " 517: [2],\n",
       " 518: [12, 2, 20, 23],\n",
       " 519: [12, 30, 16, 24, 21, 18, 8, 26],\n",
       " 520: [16, 2, 6, 4, 8],\n",
       " 521: [16, 25, 8],\n",
       " 522: [5, 4],\n",
       " 523: [12, 27, 16, 5, 38, 6, 24],\n",
       " 524: [9, 5, 2, 3, 10, 7, 4, 8],\n",
       " 525: [13, 6, 10],\n",
       " 526: [27, 16, 21, 18, 25],\n",
       " 527: [15, 16, 2, 24, 3, 10, 25, 4, 13, 5, 6, 21, 14, 29, 8],\n",
       " 528: [2, 6],\n",
       " 529: [16, 17, 21, 25, 4, 8, 23],\n",
       " 530: [16, 20, 17, 21, 18, 22, 14],\n",
       " 531: [5, 6, 3, 18, 10, 4, 11, 8],\n",
       " 532: [3, 11, 8],\n",
       " 533: [12, 16, 4, 8],\n",
       " 534: [16, 7, 25, 14],\n",
       " 535: [15, 12, 16, 2, 24, 10],\n",
       " 536: [2, 10, 4],\n",
       " 537: [24, 8],\n",
       " 538: [6, 4],\n",
       " 539: [27, 16, 21],\n",
       " 540: [12, 30, 16, 13, 34, 20, 24, 21, 29, 8],\n",
       " 541: [13, 2, 6, 24, 8],\n",
       " 542: [16, 6, 4],\n",
       " 543: [6, 3, 10, 4, 8],\n",
       " 544: [16, 25],\n",
       " 545: [24, 8],\n",
       " 546: [19, 16, 13, 2, 24, 3, 18, 21, 25, 8, 23],\n",
       " 547: [16, 25],\n",
       " 548: [15, 16, 6, 14],\n",
       " 549: [2, 6, 4],\n",
       " 550: [2, 10, 4, 8],\n",
       " 551: [9, 2, 3, 25, 4],\n",
       " 552: [25, 8],\n",
       " 553: [16, 5, 2, 6, 21, 10, 4, 8, 23],\n",
       " 554: [12, 27, 30, 16, 32, 24, 25, 22, 23],\n",
       " 555: [16, 10, 25, 8],\n",
       " 556: [25, 4, 8],\n",
       " 557: [15, 9, 19, 16, 13, 2, 17, 6, 18, 4, 14, 11, 8],\n",
       " 558: [2, 8],\n",
       " 559: [27, 16, 2, 6, 4, 8],\n",
       " 560: [6, 8],\n",
       " 561: [9, 16, 2, 18, 4, 8],\n",
       " 562: [5, 2, 4, 8],\n",
       " 563: [16, 14],\n",
       " 564: [5, 2, 6, 4, 8],\n",
       " 565: [32, 18, 25],\n",
       " 566: [12, 16, 6, 4],\n",
       " 567: [15, 16, 24, 21, 18, 8, 23],\n",
       " 568: [16, 6, 10, 25, 8],\n",
       " 569: [16, 13, 18, 25, 14, 8],\n",
       " 570: [19, 16, 13, 2, 25, 4, 8],\n",
       " 571: [16, 24, 25, 8],\n",
       " 572: [3, 4, 8],\n",
       " 573: [2, 6, 8],\n",
       " 574: [16, 5, 24, 25, 22, 14],\n",
       " 575: [2, 3, 10, 25, 14],\n",
       " 576: [2, 3, 7, 8],\n",
       " 577: [12, 19, 16, 18, 14],\n",
       " 578: [2, 10, 8],\n",
       " 579: [12, 2, 8],\n",
       " 580: [30, 16, 13, 38, 35, 24, 21, 18, 8, 23],\n",
       " 581: [15, 9, 16, 2, 20, 18, 10, 25, 22, 8, 23],\n",
       " 582: [15, 12, 16, 5, 20, 10, 4, 14, 11, 8],\n",
       " 583: [16, 13, 14, 8],\n",
       " 584: [27, 19, 8],\n",
       " 585: [2, 4],\n",
       " 586: [16, 2],\n",
       " 587: [14, 8],\n",
       " 588: [2, 4, 8],\n",
       " 589: [16, 2, 6, 24, 8],\n",
       " 590: [16],\n",
       " 591: [15, 16, 17, 21, 14, 8],\n",
       " 592: [16],\n",
       " 593: [5, 24, 25],\n",
       " 594: [16, 20, 6, 21, 18, 24, 10, 25, 14],\n",
       " 595: [19, 16, 24, 18, 25, 22],\n",
       " 596: [4, 8],\n",
       " 597: [16, 14],\n",
       " 598: [15, 12, 30, 16, 17, 32, 24, 21, 8, 23, 26],\n",
       " 599: [15, 12, 9, 16, 13, 6, 18, 10, 7, 4, 25, 11, 8],\n",
       " 600: [10, 25, 8],\n",
       " 601: [5, 2, 3, 7, 4],\n",
       " 602: [15, 2, 3, 7, 4],\n",
       " 603: [2, 8],\n",
       " 604: [2, 3, 4, 8],\n",
       " 605: [5, 2, 6, 8],\n",
       " 606: [25, 8],\n",
       " 607: [16, 5, 2, 6, 3, 10],\n",
       " 608: [15],\n",
       " 609: [5, 2, 7],\n",
       " 610: [16, 2, 6, 3, 21, 22],\n",
       " 611: [6, 4, 8],\n",
       " 612: [15, 6, 14],\n",
       " 613: [15, 2, 6, 25, 4, 8],\n",
       " 614: [12, 27, 16, 13, 5, 2, 20, 6, 18, 25, 14, 11, 8],\n",
       " 615: [10, 4, 8],\n",
       " 616: [5, 2, 3, 4],\n",
       " 617: [30, 16, 6, 24, 18, 10, 22],\n",
       " 618: [12, 2, 10, 14, 8],\n",
       " 619: [6, 4, 8],\n",
       " 620: [15, 6, 14, 8],\n",
       " 621: [16, 8],\n",
       " 622: [9, 5, 2, 3, 4],\n",
       " 623: [12, 27, 16, 20, 21, 10, 26],\n",
       " 624: [2, 3],\n",
       " 625: [2, 3, 7, 4, 8],\n",
       " 626: [19, 6, 10, 8],\n",
       " 627: [12, 16, 6, 10, 8],\n",
       " 628: [24, 18, 10, 25, 26],\n",
       " 629: [13, 6, 3, 4],\n",
       " 630: [8],\n",
       " 631: [2, 3, 8],\n",
       " 632: [15, 12, 27, 16, 2, 25, 8],\n",
       " 633: [16, 8],\n",
       " 634: [6, 10, 14],\n",
       " 635: [12, 10, 8],\n",
       " 636: [12, 16, 25],\n",
       " 637: [6, 25, 4],\n",
       " 639: [12, 16, 18, 10, 14, 11, 8],\n",
       " 640: [16, 18],\n",
       " 641: [16, 24, 21, 10, 25, 8],\n",
       " 642: [15, 25, 4],\n",
       " 643: [6, 25, 11],\n",
       " 644: [16, 2, 6, 4, 8],\n",
       " 645: [12, 19, 16, 5, 2, 24, 21, 18, 25, 4, 11, 8],\n",
       " 646: [12, 16, 13, 5, 6, 3, 18, 7, 4, 25, 11, 8],\n",
       " 647: [16, 2, 6, 3, 10, 7, 4, 25, 11, 8, 23],\n",
       " 648: [6, 10, 8],\n",
       " 649: [15, 37, 16, 38, 35, 24, 21, 10, 14, 8],\n",
       " 650: [15, 30, 16, 17, 24, 18, 25, 4, 26, 13, 20, 21, 28, 8],\n",
       " 651: [12, 9, 16, 2, 6, 28, 25, 22, 14, 11, 26, 23],\n",
       " 652: [12, 16, 24, 21, 25, 4, 8],\n",
       " 653: [16, 17, 21, 18, 25, 23],\n",
       " 654: [2],\n",
       " 655: [13, 2, 3, 7, 8],\n",
       " 656: [12, 16, 17, 6, 8],\n",
       " 657: [2, 6, 3, 4],\n",
       " 658: [15, 19, 16, 6, 24, 14, 11, 8],\n",
       " 659: [16, 5, 14],\n",
       " 660: [12, 6, 10, 25, 4, 14, 8],\n",
       " 661: [1, 2, 8],\n",
       " 662: [16, 24, 21, 8],\n",
       " 663: [16, 25, 8],\n",
       " 664: [15, 9, 2, 10, 25, 4, 11, 12, 13, 5, 20, 6, 7, 22, 14, 8],\n",
       " 665: [16, 25, 14],\n",
       " 666: [15, 30, 16, 13, 10, 25],\n",
       " 667: [12, 27, 16, 6, 21, 24, 10, 14, 8],\n",
       " 668: [5, 14],\n",
       " 669: [6, 4, 8],\n",
       " 670: [4],\n",
       " 671: [6, 4],\n",
       " 672: [16, 21, 4, 8],\n",
       " 673: [9, 16, 13, 17, 6, 21, 24, 10, 8],\n",
       " 674: [15, 12, 16, 5, 20, 17, 6, 3, 10, 25, 4, 11, 8],\n",
       " 675: [5, 2, 6, 3, 4],\n",
       " 676: [16, 13, 5, 21],\n",
       " 677: [30, 38, 35, 24, 21, 18, 28],\n",
       " 678: [2, 6, 25, 4],\n",
       " 679: [16, 20, 6, 24, 18, 25, 22, 14, 8, 26],\n",
       " 680: [16, 10, 8],\n",
       " 681: [15, 12, 17, 10, 25, 14, 11, 8, 23],\n",
       " 682: [5, 2, 6, 7, 4],\n",
       " 683: [2],\n",
       " 684: [5, 6, 7],\n",
       " 685: [27, 5, 38, 35, 32, 24, 36, 14],\n",
       " 686: [6, 10, 8],\n",
       " 687: [12, 16, 5, 14],\n",
       " 688: [2, 6, 3],\n",
       " 689: [12, 16, 2, 6, 3, 24, 4, 14, 8],\n",
       " 690: [16, 2, 4],\n",
       " 691: [16, 17, 21, 18, 10, 25, 8],\n",
       " 692: [16, 5, 17, 21, 14, 8],\n",
       " 693: [6, 25],\n",
       " 694: [5, 2, 6, 3, 10, 4, 11, 8],\n",
       " 695: [12, 5, 2, 10, 14, 8],\n",
       " 696: [15, 12, 25, 23],\n",
       " 697: [15, 9, 17, 10, 25, 11, 12, 19, 5, 6, 7, 22, 14, 8, 23],\n",
       " 698: [16, 5, 6, 7, 8],\n",
       " 699: [7, 25, 11, 8],\n",
       " 700: [6, 8],\n",
       " 701: [5, 2, 20, 3, 4, 8],\n",
       " 702: [16, 2],\n",
       " 703: [15, 16, 13, 6, 21, 10, 14],\n",
       " 704: [24, 21],\n",
       " 705: [16, 13, 4, 8],\n",
       " 706: [30, 16, 38, 24],\n",
       " 707: [15, 12, 19, 16, 17, 18, 14],\n",
       " 708: [2, 24, 4, 8],\n",
       " 709: [2, 4, 8],\n",
       " 710: [6, 10, 8],\n",
       " 711: [18, 10, 25],\n",
       " 712: [2, 6, 8],\n",
       " 713: [12, 3, 7, 25],\n",
       " 714: [16, 25, 8],\n",
       " 715: [16, 5, 2, 10, 4],\n",
       " 716: [16, 6, 25, 4, 8],\n",
       " 717: [7, 4, 8],\n",
       " 718: [12, 9, 16, 13, 5, 6, 3, 7, 4, 14, 8],\n",
       " 719: [16, 24, 21, 25],\n",
       " 720: [5, 3, 8],\n",
       " 721: [16, 8],\n",
       " 722: [5, 2, 6, 3, 7, 4, 8],\n",
       " 723: [30, 16, 38, 10, 22],\n",
       " 724: [16, 24, 8],\n",
       " 725: [5, 3],\n",
       " 726: [6, 4],\n",
       " 727: [5, 2, 10, 4],\n",
       " 728: [2],\n",
       " 729: [12, 16, 13, 2, 24, 21, 18, 7],\n",
       " 730: [10, 11, 8],\n",
       " 731: [2, 4],\n",
       " 732: [9, 16, 3, 18, 10, 25, 8],\n",
       " 733: [2, 6, 14, 8],\n",
       " 734: [10, 25],\n",
       " 735: [16, 18],\n",
       " 736: [5, 6, 7, 8],\n",
       " 737: [13, 21, 25, 22, 8],\n",
       " 738: [3, 4],\n",
       " 739: [17, 6, 25, 4, 22, 8, 23],\n",
       " 740: [16, 3, 10, 4, 14],\n",
       " 741: [15, 27, 16, 17, 6, 21, 10, 25, 14, 8],\n",
       " 742: [5, 2, 6, 3, 10, 7, 4, 8],\n",
       " 743: [12, 10],\n",
       " 744: [12, 11, 8],\n",
       " 745: [27, 24],\n",
       " 746: [2, 8],\n",
       " 747: [9, 6, 25, 11, 8],\n",
       " 748: [5, 2, 6, 3, 10, 4, 8],\n",
       " 749: [3, 4],\n",
       " 750: [12, 5, 6, 10, 14],\n",
       " 751: [15, 12, 27, 16, 21, 18, 10, 25, 4, 14, 8],\n",
       " 752: [16, 4, 8],\n",
       " 753: [6, 8],\n",
       " 754: [2, 8],\n",
       " 755: [12, 19, 16, 17, 24, 21, 18, 25, 22],\n",
       " 756: [12, 9, 16, 5, 2, 3, 4, 8],\n",
       " 757: [5, 2, 6, 10, 8],\n",
       " 758: [12, 17, 8],\n",
       " 759: [16, 6, 25],\n",
       " 760: [15, 12, 16, 13, 17, 6, 10, 14, 8],\n",
       " 761: [12, 16, 10, 4, 14, 8],\n",
       " 762: [15, 16, 2, 3, 7, 4, 8],\n",
       " 763: [2, 8],\n",
       " 764: [16, 5, 2, 6, 3, 25, 4, 14],\n",
       " 765: [2, 6, 7],\n",
       " 766: [12, 4, 23],\n",
       " 767: [2, 4, 8],\n",
       " 768: [5, 2],\n",
       " 769: [30, 27, 16, 20, 35, 32, 24, 21, 25, 14],\n",
       " 770: [5, 6, 7, 4, 14],\n",
       " 771: [9, 16, 2, 21, 10, 14, 8],\n",
       " 772: [15, 16, 8],\n",
       " 773: [25, 4, 8],\n",
       " 774: [12, 2, 4, 8],\n",
       " 775: [2],\n",
       " 776: [16, 2, 24, 4, 8],\n",
       " 777: [16, 2, 3, 10, 25, 4, 11, 12, 13, 5, 6, 7, 14, 8],\n",
       " 778: [15, 16, 6, 11, 8],\n",
       " 779: [16, 5, 25],\n",
       " 780: [12, 16, 24],\n",
       " 781: [12, 9, 2, 6, 10, 4, 14, 8],\n",
       " 782: [27, 36, 25],\n",
       " 783: [16, 6, 21, 24, 25, 14, 8],\n",
       " 784: [12, 27, 16, 6, 7, 25, 8],\n",
       " 785: [12, 30, 19, 16, 38, 35, 24, 21, 10, 14],\n",
       " 786: [16, 5, 10, 8],\n",
       " 787: [2, 3, 8],\n",
       " 788: [12, 10, 25, 11, 8],\n",
       " 789: [2, 6, 8],\n",
       " 790: [2, 6, 4],\n",
       " 791: [16, 25, 8],\n",
       " 792: [18, 14, 8],\n",
       " 793: [19, 16, 18, 10, 14, 8],\n",
       " 794: [12, 16, 21, 14, 8],\n",
       " 795: [12, 2, 6, 8],\n",
       " 796: [15, 12, 9, 16, 17, 6, 24, 18, 25, 14, 8, 23],\n",
       " 797: [2, 3, 8],\n",
       " 798: [3, 7, 4, 8],\n",
       " 799: [5, 2, 6, 4, 14, 8],\n",
       " 800: [20, 18, 22, 14, 8],\n",
       " 801: [15, 4],\n",
       " 802: [6, 3, 7, 4, 8],\n",
       " 803: [27, 19, 5, 2, 24, 3, 25, 4, 8],\n",
       " 804: [13, 5, 25, 4, 8],\n",
       " 805: [9, 5, 2, 6, 3, 7, 4, 8],\n",
       " 806: [16, 6],\n",
       " 807: [30, 16, 24, 21, 25],\n",
       " 808: [6, 3, 18, 10, 8],\n",
       " 809: [16, 2, 8],\n",
       " 810: [15, 12, 27, 16, 6, 10, 7, 14, 8],\n",
       " 811: [16, 24, 21, 8],\n",
       " 812: [13, 2, 25, 8, 26],\n",
       " 813: [12, 9, 10, 8],\n",
       " 814: [15, 34, 25, 8],\n",
       " 815: [15, 16, 2, 17, 10, 25, 12, 19, 13, 5, 20, 6, 21, 14, 23],\n",
       " 816: [15, 17, 11],\n",
       " 817: [21, 25, 26],\n",
       " 818: [2, 4, 8],\n",
       " 819: [12, 20, 4, 8],\n",
       " 820: [4, 8],\n",
       " 821: [30, 32, 24, 21, 18, 23],\n",
       " 822: [16, 24, 25],\n",
       " 823: [15, 16, 6, 10, 4, 8],\n",
       " 824: [24, 4, 8],\n",
       " 825: [27, 24, 18],\n",
       " 826: [6, 4, 8],\n",
       " 827: [4, 8],\n",
       " 828: [16, 31, 38, 17, 32, 18, 11, 12, 19, 20, 35, 21, 22, 14, 23],\n",
       " 829: [16, 18, 25, 4, 14],\n",
       " 830: [2, 4, 8],\n",
       " 831: [19, 16, 6, 21, 24],\n",
       " 832: [12, 19, 16, 5, 2, 24, 18, 25, 4, 8],\n",
       " 833: [5, 2, 3, 4],\n",
       " 834: [2, 4],\n",
       " 835: [5, 3, 4, 14, 8],\n",
       " 836: [24, 4],\n",
       " 837: [12, 9, 16, 13, 5, 6, 24, 10, 8],\n",
       " 838: [16, 2, 6, 18, 10, 14, 8],\n",
       " 839: [5, 2, 4],\n",
       " 840: [9, 10, 7, 14, 8],\n",
       " 841: [2, 6, 8],\n",
       " 842: [2, 25, 23],\n",
       " 843: [15, 12, 6],\n",
       " 844: [1, 5, 4],\n",
       " 845: [6, 21, 4, 8],\n",
       " 846: [2, 3],\n",
       " 847: [16, 20, 21, 10, 25, 22, 8],\n",
       " 848: [12, 16, 2, 8],\n",
       " 849: [16, 10, 25, 8],\n",
       " 850: [5, 6, 4],\n",
       " 851: [13, 5, 2, 6, 10, 4],\n",
       " 852: [15, 12, 9, 16, 5, 6, 8],\n",
       " 853: [5, 2, 6, 4],\n",
       " 854: [16, 5, 2, 6, 3, 10, 25, 4, 8],\n",
       " 855: [6, 10, 25, 8],\n",
       " 856: [2, 6, 4],\n",
       " 857: [16, 14, 8],\n",
       " 858: [12, 9, 3, 10, 11, 8],\n",
       " 859: [24, 3, 25, 8],\n",
       " 860: [2, 6, 3, 4],\n",
       " 861: [16, 24, 21, 18, 25, 22, 8],\n",
       " 862: [33, 30, 34, 18, 23],\n",
       " 863: [2, 4],\n",
       " 864: [16, 24, 8, 23],\n",
       " 865: [12, 4, 8],\n",
       " 866: [27, 16, 38, 6, 21, 18, 25, 22],\n",
       " 867: [2, 8],\n",
       " 868: [19, 16, 25],\n",
       " 869: [15, 12, 5, 6, 3, 10, 14, 8],\n",
       " 870: [2, 8],\n",
       " 871: [12, 6, 4],\n",
       " 872: [6, 10, 8],\n",
       " 873: [16, 2, 6],\n",
       " 874: [16, 5, 2, 3, 18, 4, 8],\n",
       " 875: [19, 2, 21, 25, 8],\n",
       " 876: [6, 11, 8],\n",
       " 877: [27, 37, 16, 38, 35, 32, 24, 21, 25, 14, 8],\n",
       " 878: [5, 2, 7],\n",
       " 879: [2, 6, 3, 4, 8],\n",
       " 880: [2, 6, 3, 7, 4, 8],\n",
       " 881: [15, 30, 16, 31, 38, 17, 24, 18, 26, 33, 34, 35, 14, 23],\n",
       " 882: [15, 16, 24],\n",
       " 883: [16, 2, 8],\n",
       " 884: [27, 16, 20, 17, 24, 21, 29, 26],\n",
       " 885: [2, 3, 8],\n",
       " 886: [12, 16, 21, 25, 8],\n",
       " 887: [16, 5, 2, 6, 10, 14, 8],\n",
       " 888: [2, 8],\n",
       " 889: [12, 16, 21, 8],\n",
       " 890: [13, 18, 25, 4, 8],\n",
       " 891: [2, 6, 4],\n",
       " 892: [2, 4],\n",
       " 893: [2, 3, 18, 4, 8],\n",
       " 894: [15, 12, 27, 16, 13, 24, 21, 10, 25, 14, 8, 23],\n",
       " 895: [2, 3, 4],\n",
       " 896: [16, 6, 4],\n",
       " 897: [16, 24, 4, 8],\n",
       " 898: [16, 10],\n",
       " 899: [2, 6, 3, 4, 8],\n",
       " 900: [2, 6, 3, 8],\n",
       " 901: [16, 21, 4],\n",
       " 902: [16, 2, 8],\n",
       " 903: [12, 4, 8],\n",
       " 904: [2, 6, 10, 25, 14],\n",
       " 905: [12],\n",
       " 906: [9, 5, 2, 6, 3, 10, 7, 4, 11, 8],\n",
       " 907: [2, 3, 4],\n",
       " 908: [15, 9, 5, 2, 20, 6, 3, 10, 7, 4, 25, 8],\n",
       " 909: [12, 2],\n",
       " 910: [6, 7, 4, 25, 8],\n",
       " 911: [14],\n",
       " 912: [2, 4, 8],\n",
       " 913: [6],\n",
       " 914: [15, 27, 16, 13, 2, 17, 24, 21, 8, 23],\n",
       " 915: [27, 37, 16, 32, 24, 21, 10, 8],\n",
       " 916: [12, 5, 2, 6, 3, 10, 7, 4, 8],\n",
       " 917: [12, 19, 21, 25, 14, 8],\n",
       " 918: [9, 19, 20, 17, 6, 21, 18, 22, 23],\n",
       " 919: [12, 6, 10, 4, 8],\n",
       " 920: [12, 18, 10, 25],\n",
       " 921: [2, 4],\n",
       " 922: [16, 4],\n",
       " 923: [7, 8],\n",
       " 924: [16, 24, 10],\n",
       " 925: [13, 18],\n",
       " 926: [15, 12, 14, 11, 8],\n",
       " 927: [12, 2, 6, 7, 25, 8],\n",
       " 928: [16, 14, 8],\n",
       " 929: [15, 21, 10, 4, 22],\n",
       " 930: [15, 16, 5, 2, 20, 6, 18, 11, 8],\n",
       " 931: [2, 6, 21, 18, 24, 25, 8],\n",
       " 932: [16, 6, 10, 4, 8],\n",
       " 933: [2, 6, 10, 7, 14, 8],\n",
       " 934: [15, 2, 24, 3, 21, 4, 8],\n",
       " 935: [12, 16, 5, 2, 6, 3, 10, 7, 4, 8],\n",
       " 936: [12, 6, 8],\n",
       " 937: [12, 10, 14, 8],\n",
       " 938: [16, 10, 14],\n",
       " 939: [10, 14, 8],\n",
       " 940: [10, 7, 4, 14, 8],\n",
       " 941: [15, 5, 17, 10, 4, 14, 11, 8],\n",
       " 942: [24, 25, 4, 8],\n",
       " 943: [16, 2, 6, 3, 25, 4, 14, 8],\n",
       " 944: [12, 6, 4],\n",
       " 945: [12, 21],\n",
       " 946: [12, 9, 16, 5, 2, 6, 21, 10, 7, 4, 22, 14, 8],\n",
       " 947: [2, 3, 4],\n",
       " 948: [16, 13, 24, 21, 18, 10, 8],\n",
       " 949: [16, 2, 6, 10, 8],\n",
       " 950: [2, 24, 8],\n",
       " 951: [2, 6, 3, 4],\n",
       " 952: [2, 8],\n",
       " 953: [5, 2, 6, 3, 4],\n",
       " 954: [12, 16, 21, 10, 11, 8],\n",
       " 955: [12, 16, 13, 5, 2, 6, 3, 21, 10, 4, 14, 8],\n",
       " 956: [12, 11, 8],\n",
       " 957: [12, 16, 18, 14],\n",
       " 958: [12, 2, 3, 4, 8],\n",
       " 959: [30, 19, 16, 13, 24, 8, 23, 26],\n",
       " 960: [15, 12, 16, 6, 21, 18, 10, 14, 8],\n",
       " 961: [27, 16, 35, 24, 21, 7, 8, 26],\n",
       " 962: [5, 2, 8],\n",
       " 963: [16, 20, 18, 10, 14],\n",
       " 964: [5, 6, 3, 7, 4, 8],\n",
       " 965: [5, 7],\n",
       " 966: [19, 16, 32, 24, 21, 14],\n",
       " 967: [25, 4],\n",
       " 968: [16, 10, 4, 8],\n",
       " 969: [5, 2, 6, 4],\n",
       " 970: [16, 6, 4],\n",
       " 971: [5, 4, 8],\n",
       " 972: [25, 8],\n",
       " 973: [3, 4],\n",
       " 974: [16, 24, 21, 25, 4, 8, 23],\n",
       " 975: [2],\n",
       " 976: [15, 12, 16, 8],\n",
       " 977: [30, 13, 38, 35, 21, 4],\n",
       " 978: [16, 6],\n",
       " 979: [10, 4, 8],\n",
       " 980: [5, 2, 6, 3, 10, 25, 4, 14, 8],\n",
       " 981: [16, 6, 24, 10, 4, 14, 26],\n",
       " 982: [15, 16, 2],\n",
       " 983: [6, 8],\n",
       " 984: [2, 6, 4, 8],\n",
       " 985: [2, 6, 25],\n",
       " 986: [6],\n",
       " 987: [16, 2, 6, 3, 7, 8],\n",
       " 988: [19],\n",
       " 989: [15, 9, 16, 18, 14],\n",
       " 990: [16, 8],\n",
       " 991: [30, 27, 19, 16, 13, 38, 35, 32, 24, 21, 36, 8],\n",
       " 992: [13, 10, 8],\n",
       " 993: [2],\n",
       " 994: [12, 5, 10, 8],\n",
       " 995: [16, 13, 5, 20, 6, 24, 10, 7, 25, 11, 8],\n",
       " 996: [25, 8],\n",
       " 997: [6, 25, 4, 8],\n",
       " 998: [38, 35, 24],\n",
       " 999: [19, 16, 20, 17, 6, 21, 18, 25],\n",
       " 1000: [16, 4, 14, 8],\n",
       " 1001: [9, 2, 10, 7, 4, 8],\n",
       " ...}"
      ]
     },
     "execution_count": 75,
     "metadata": {},
     "output_type": "execute_result"
    }
   ],
   "source": [
    "actual_loans_taken_dict"
   ]
  },
  {
   "cell_type": "code",
   "execution_count": 65,
   "id": "35b6bede-3c68-4394-9550-dae525a35ccb",
   "metadata": {},
   "outputs": [
    {
     "name": "stdout",
     "output_type": "stream",
     "text": [
      "+-------------+--------------------+-------------------------------------------------------+\n",
      "|Cluster_Group|Cluster_result      |rating                                                 |\n",
      "+-------------+--------------------+-------------------------------------------------------+\n",
      "|20           |[7, 9, 34, 33, 38]  |[2.0712118, 1.9860481, 1.97451, 1.9600447, 1.870667]   |\n",
      "|40           |[38, 34, 35, 36, 7] |[1.7941841, 1.7396492, 1.6642027, 1.6371219, 1.6335018]|\n",
      "|10           |[37, 33, 28, 15, 3] |[1.7225457, 1.7011422, 1.4975848, 1.4507886, 1.4203078]|\n",
      "|50           |[33, 17, 9, 15, 7]  |[2.6295927, 2.3879259, 2.3178267, 2.3129728, 2.2558866]|\n",
      "|80           |[28, 34, 29, 32, 37]|[3.7012384, 2.9480135, 2.9159768, 2.8480837, 2.8039248]|\n",
      "|70           |[9, 34, 28, 13, 37] |[2.9317381, 2.8367484, 2.6901827, 2.4784207, 2.4689398]|\n",
      "|60           |[37, 15, 38, 24, 23]|[2.5307095, 2.3666756, 2.3566906, 2.3422809, 2.3393006]|\n",
      "|30           |[38, 32, 34, 21, 23]|[1.817485, 1.6467685, 1.6357145, 1.6327976, 1.6182809] |\n",
      "|31           |[28, 23, 22, 19, 26]|[2.2078278, 2.187427, 1.8590742, 1.8105736, 1.8022199] |\n",
      "|81           |[28, 9, 11, 29, 34] |[2.9364884, 2.68688, 2.5648863, 2.3565345, 2.347063]   |\n",
      "+-------------+--------------------+-------------------------------------------------------+\n",
      "only showing top 10 rows\n",
      "\n"
     ]
    }
   ],
   "source": [
    "userRecommends.select([\"Cluster_Group\",\"recommendations.Cluster_result\",\"recommendations.rating\"]).show(10,truncate=False)"
   ]
  },
  {
   "cell_type": "code",
   "execution_count": 66,
   "id": "c18fbd4d-e921-46b5-9aeb-431659a4d3fd",
   "metadata": {},
   "outputs": [],
   "source": [
    "actual = [listo for listo in actual_loans_taken_dict.values()]"
   ]
  },
  {
   "cell_type": "code",
   "execution_count": 67,
   "id": "2b488d0d-bb53-4e89-9b5e-ec73b5581f30",
   "metadata": {},
   "outputs": [],
   "source": [
    "predicted = [listo['Recommendation'] for listo in top_n_recommendations]"
   ]
  },
  {
   "cell_type": "code",
   "execution_count": 68,
   "id": "27a4c8a0-2e1e-42ce-a8a6-26d968029238",
   "metadata": {},
   "outputs": [],
   "source": [
    "def average_precision_at_k(actual, predicted, k):\n",
    "    # Initialize variables\n",
    "    num_hits = 0\n",
    "    precision_at_k = 0.0\n",
    "\n",
    "    # Iterate over the predicted list up to k\n",
    "    for i, p in enumerate(predicted[:k]):\n",
    "        # Check if the predicted item at position i is in the actual list\n",
    "        if p in actual:\n",
    "            num_hits += 1\n",
    "            # Calculate precision at position i\n",
    "            precision_at_k += num_hits / (i + 1)\n",
    "\n",
    "    # Calculate average precision at k\n",
    "    if not actual:\n",
    "        return 0.0\n",
    "    else:\n",
    "        return precision_at_k / min(len(actual), k)\n",
    "\n",
    "def map_at_k(actual, predicted, k):\n",
    "    # Calculate average precision at k for each query or user\n",
    "    average_precisions = [average_precision_at_k(a, p, k) for a, p in zip(actual, predicted)]\n",
    "    \n",
    "    # Return the mean of average precision at k values\n",
    "    return sum(average_precisions) / len(average_precisions)"
   ]
  },
  {
   "cell_type": "code",
   "execution_count": 69,
   "id": "3ef73b1f-3a48-4199-9e96-0e9baa294c8b",
   "metadata": {},
   "outputs": [
    {
     "name": "stdout",
     "output_type": "stream",
     "text": [
      "MAP@5: 0.1262\n"
     ]
    }
   ],
   "source": [
    "\n",
    "k = 5\n",
    "map_at_5 = map_at_k(actual, predicted, k)\n",
    "print(\"MAP@{}: {:.4f}\".format(k, map_at_5))"
   ]
  },
  {
   "cell_type": "code",
   "execution_count": 70,
   "id": "d4e2ce6d-25b7-4cfc-9b70-77b743902200",
   "metadata": {},
   "outputs": [
    {
     "name": "stdout",
     "output_type": "stream",
     "text": [
      "MAP@3: 0.1450\n"
     ]
    }
   ],
   "source": [
    "k = 3\n",
    "map_at_3 = map_at_k(actual, predicted, k)\n",
    "print(\"MAP@{}: {:.4f}\".format(k, map_at_3))"
   ]
  },
  {
   "cell_type": "code",
   "execution_count": 71,
   "id": "a57a1ecb-d2e1-4a5c-a3a7-252abff9658c",
   "metadata": {},
   "outputs": [],
   "source": [
    "userRecomd = userRecommends.select(\"recommendations.Cluster_result\").collect() #.show(10,truncate=False)"
   ]
  },
  {
   "cell_type": "code",
   "execution_count": 72,
   "id": "d46c9ee8-9968-4d0c-985e-1a76e4f1fbad",
   "metadata": {},
   "outputs": [],
   "source": [
    "ALsRecomd = [elemt.asDict()['Cluster_result'] for elemt in userRecomd]"
   ]
  },
  {
   "cell_type": "code",
   "execution_count": 73,
   "id": "c7382062-b088-4fb3-b76c-c17b8381da5a",
   "metadata": {},
   "outputs": [
    {
     "name": "stdout",
     "output_type": "stream",
     "text": [
      "MAP@5: 0.0163\n"
     ]
    }
   ],
   "source": [
    "\n",
    "k = 5\n",
    "map_at_5 = map_at_k(actual, ALsRecomd, k)\n",
    "print(\"MAP@{}: {:.4f}\".format(k, map_at_5))"
   ]
  },
  {
   "cell_type": "code",
   "execution_count": null,
   "id": "e7cdbb10-4a42-42b5-9455-a2123c0f8eff",
   "metadata": {},
   "outputs": [],
   "source": []
  },
  {
   "cell_type": "code",
   "execution_count": null,
   "id": "c6e81957-5424-4d26-b705-46f7168ff355",
   "metadata": {},
   "outputs": [],
   "source": []
  },
  {
   "cell_type": "code",
   "execution_count": null,
   "id": "654ad84a-e18c-4510-8c06-af7d55434e63",
   "metadata": {},
   "outputs": [],
   "source": []
  },
  {
   "cell_type": "code",
   "execution_count": null,
   "id": "628f205b-3613-4abb-9310-bd45e1e03357",
   "metadata": {},
   "outputs": [],
   "source": []
  },
  {
   "cell_type": "markdown",
   "id": "f37aa796-bc53-4cfd-a06f-7d7cf4c50d5c",
   "metadata": {
    "id": "f37aa796-bc53-4cfd-a06f-7d7cf4c50d5c"
   },
   "source": [
    "##  Calculate centered cosine similarity:"
   ]
  },
  {
   "cell_type": "code",
   "execution_count": 67,
   "id": "276d4b2a-9d94-40cb-a7f1-2aeb64938ffc",
   "metadata": {
    "id": "276d4b2a-9d94-40cb-a7f1-2aeb64938ffc"
   },
   "outputs": [],
   "source": [
    "def centered_cosine_similarity(u, v):\n",
    "    \"\"\" Calculate centered cosine similarity between two vectors u and v. \"\"\"\n",
    "    # Calculate mean of u and v\n",
    "    mean_u = sum(u) / len(u)\n",
    "    mean_v = sum(v) / len(v)\n",
    "\n",
    "    # Subtract mean from u and v\n",
    "    centered_u = Vectors.dense([x - mean_u for x in u])\n",
    "    centered_v = Vectors.dense([x - mean_v for x in v])\n",
    "\n",
    "    # Calculate centered cosine similarity\n",
    "    dot_product = float(centered_u.dot(centered_v))\n",
    "    norm_u = float(centered_u.norm(2))\n",
    "    norm_v = float(centered_v.norm(2))\n",
    "\n",
    "    centered_sim = dot_product / (norm_u * norm_v)\n",
    "    return centered_sim\n"
   ]
  },
  {
   "cell_type": "markdown",
   "id": "19afff63-8654-410f-b0e1-3579c0dbaf90",
   "metadata": {
    "id": "19afff63-8654-410f-b0e1-3579c0dbaf90"
   },
   "source": [
    "### User-User Centerd Cosine Similarity code"
   ]
  },
  {
   "cell_type": "code",
   "execution_count": 68,
   "id": "a32fbefc-c5b8-4cd0-be5e-8caf9a7a43c5",
   "metadata": {
    "colab": {
     "base_uri": "https://localhost:8080/"
    },
    "id": "a32fbefc-c5b8-4cd0-be5e-8caf9a7a43c5",
    "outputId": "641b5329-1f9f-482e-ec3e-ee687aca0934"
   },
   "outputs": [
    {
     "name": "stdout",
     "output_type": "stream",
     "text": [
      "Centered Cosine similarity between users 10 and 20: 0.9958091259308894\n"
     ]
    }
   ],
   "source": [
    "# Example usage\n",
    "user1_id = 10\n",
    "user2_id = 20\n",
    "user1_factors = userFactors.filter(userFactors.id == user1_id ).collect()[0][1]\n",
    "user2_factors = userFactors.filter(userFactors.id == user2_id ).collect()[0][1]\n",
    "similarity = centered_cosine_similarity(user1_factors, user2_factors)\n",
    "print(f\"Centered Cosine similarity between users {user1_id} and {user2_id}: {similarity}\")\n"
   ]
  },
  {
   "cell_type": "markdown",
   "id": "af032ead-97f1-49fb-b084-2e49794a33d6",
   "metadata": {
    "id": "af032ead-97f1-49fb-b084-2e49794a33d6"
   },
   "source": [
    "### User-Item Centerd Cosine Similarity code"
   ]
  },
  {
   "cell_type": "code",
   "execution_count": 69,
   "id": "44d9be35-49c5-4127-9c43-75fb2c98cbe7",
   "metadata": {
    "colab": {
     "base_uri": "https://localhost:8080/"
    },
    "id": "44d9be35-49c5-4127-9c43-75fb2c98cbe7",
    "outputId": "0b836551-00b9-4c11-9b1e-6c48494a5a6f"
   },
   "outputs": [
    {
     "name": "stdout",
     "output_type": "stream",
     "text": [
      "Centered Cosine similarity between users 10 and Item 1: 0.9846653141373279\n"
     ]
    }
   ],
   "source": [
    "# Example usage\n",
    "user1_id = 10\n",
    "item_id = 1\n",
    "user2_factors = userFactors.filter(userFactors.id == user1_id ).collect()[0][1]\n",
    "item3_factors = itemFactors.filter(itemFactors.id == item_id ).collect()[0][1]\n",
    "\n",
    "user_item_similarity = centered_cosine_similarity(user2_factors, item3_factors)\n",
    "print(f\"Centered Cosine similarity between users {user1_id} and Item {item_id}: {user_item_similarity}\")\n"
   ]
  },
  {
   "cell_type": "markdown",
   "id": "371d1ad2-6233-42fa-9162-faa06c8809d2",
   "metadata": {
    "id": "371d1ad2-6233-42fa-9162-faa06c8809d2"
   },
   "source": [
    "### Centered Cosine Similarity of user 10 with all Loans"
   ]
  },
  {
   "cell_type": "code",
   "execution_count": 70,
   "id": "45b22d6b-9553-4b4f-a3b5-80751b15a360",
   "metadata": {
    "id": "45b22d6b-9553-4b4f-a3b5-80751b15a360"
   },
   "outputs": [],
   "source": [
    "topNLoanforuser10 = []\n",
    "for item in range(itemFactors.count()):\n",
    "    item_id = itemFactors.select(\"Id\").sort(\"Id\").take(itemFactors.count())[item][0]\n",
    "    user1_id = 10\n",
    "    user_factors = userFactors.filter(userFactors.id == user1_id ).collect()[0][1]\n",
    "    item_factors = itemFactors.filter(itemFactors.id == item_id ).collect()[0][1]\n",
    "\n",
    "\n",
    "    user_item_similarity = centered_cosine_similarity(user_factors, item_factors)\n",
    "    topNLoanforuser10.append({\"userID\":user1_id,\"LoanId\":item_id,\"CenteredSimilarity\":user_item_similarity})"
   ]
  },
  {
   "cell_type": "code",
   "execution_count": null,
   "id": "e34d3003-bf4b-464c-8da7-b34a75136698",
   "metadata": {
    "id": "e34d3003-bf4b-464c-8da7-b34a75136698"
   },
   "outputs": [],
   "source": []
  },
  {
   "cell_type": "code",
   "execution_count": 71,
   "id": "43fcd076-13d2-4667-b7ad-ffd8dc9ae04d",
   "metadata": {
    "colab": {
     "base_uri": "https://localhost:8080/"
    },
    "id": "43fcd076-13d2-4667-b7ad-ffd8dc9ae04d",
    "outputId": "ce4150cd-d676-47a9-eab9-144a306f6190"
   },
   "outputs": [
    {
     "data": {
      "text/plain": [
       "[{'userID': 10, 'LoanId': 3, 'CenteredSimilarity': 0.9999751517477451},\n",
       " {'userID': 10, 'LoanId': 4, 'CenteredSimilarity': 0.9996252399081585},\n",
       " {'userID': 10, 'LoanId': 5, 'CenteredSimilarity': 0.9993524436452954},\n",
       " {'userID': 10, 'LoanId': 2, 'CenteredSimilarity': 0.9993435123150312},\n",
       " {'userID': 10, 'LoanId': 7, 'CenteredSimilarity': 0.9968689838562832},\n",
       " {'userID': 10, 'LoanId': 6, 'CenteredSimilarity': 0.9961854650889006},\n",
       " {'userID': 10, 'LoanId': 8, 'CenteredSimilarity': 0.9958091262067013},\n",
       " {'userID': 10, 'LoanId': 9, 'CenteredSimilarity': 0.9921921103738105},\n",
       " {'userID': 10, 'LoanId': 25, 'CenteredSimilarity': 0.9883251622950934},\n",
       " {'userID': 10, 'LoanId': 11, 'CenteredSimilarity': 0.9872106949357707},\n",
       " {'userID': 10, 'LoanId': 10, 'CenteredSimilarity': 0.9860440617410834},\n",
       " {'userID': 10, 'LoanId': 12, 'CenteredSimilarity': 0.9850307062957183},\n",
       " {'userID': 10, 'LoanId': 1, 'CenteredSimilarity': 0.9846653141373279},\n",
       " {'userID': 10, 'LoanId': 14, 'CenteredSimilarity': 0.981785449369162},\n",
       " {'userID': 10, 'LoanId': 13, 'CenteredSimilarity': 0.9817486250975127},\n",
       " {'userID': 10, 'LoanId': 16, 'CenteredSimilarity': 0.9804982641545484},\n",
       " {'userID': 10, 'LoanId': 15, 'CenteredSimilarity': 0.9796448028997394},\n",
       " {'userID': 10, 'LoanId': 17, 'CenteredSimilarity': 0.977077954579145},\n",
       " {'userID': 10, 'LoanId': 18, 'CenteredSimilarity': 0.9729256410405002},\n",
       " {'userID': 10, 'LoanId': 20, 'CenteredSimilarity': 0.9726260460202927},\n",
       " {'userID': 10, 'LoanId': 19, 'CenteredSimilarity': 0.9692600526908777},\n",
       " {'userID': 10, 'LoanId': 21, 'CenteredSimilarity': 0.9631191535674976},\n",
       " {'userID': 10, 'LoanId': 22, 'CenteredSimilarity': 0.9587758486494766},\n",
       " {'userID': 10, 'LoanId': 28, 'CenteredSimilarity': 0.9494055211793287},\n",
       " {'userID': 10, 'LoanId': 26, 'CenteredSimilarity': 0.9488803847996157},\n",
       " {'userID': 10, 'LoanId': 29, 'CenteredSimilarity': 0.9425383949676939},\n",
       " {'userID': 10, 'LoanId': 23, 'CenteredSimilarity': 0.9424014815755941},\n",
       " {'userID': 10, 'LoanId': 31, 'CenteredSimilarity': 0.9389234349974206},\n",
       " {'userID': 10, 'LoanId': 33, 'CenteredSimilarity': 0.9379017606460857},\n",
       " {'userID': 10, 'LoanId': 27, 'CenteredSimilarity': 0.9365658273070815},\n",
       " {'userID': 10, 'LoanId': 30, 'CenteredSimilarity': 0.9298412889891267},\n",
       " {'userID': 10, 'LoanId': 24, 'CenteredSimilarity': 0.9223730896878614},\n",
       " {'userID': 10, 'LoanId': 36, 'CenteredSimilarity': 0.9167024415853037},\n",
       " {'userID': 10, 'LoanId': 32, 'CenteredSimilarity': 0.9134915043581621},\n",
       " {'userID': 10, 'LoanId': 35, 'CenteredSimilarity': 0.9028532010178227},\n",
       " {'userID': 10, 'LoanId': 34, 'CenteredSimilarity': 0.8950783567139174},\n",
       " {'userID': 10, 'LoanId': 37, 'CenteredSimilarity': 0.8905033474737468},\n",
       " {'userID': 10, 'LoanId': 38, 'CenteredSimilarity': 0.8825736654083336}]"
      ]
     },
     "execution_count": 71,
     "metadata": {},
     "output_type": "execute_result"
    }
   ],
   "source": [
    "sorted_list = sorted(topNLoanforuser10, key=operator.itemgetter('CenteredSimilarity'),reverse=True)\n",
    "sorted_list"
   ]
  },
  {
   "cell_type": "code",
   "execution_count": 72,
   "id": "4208959e-85a9-4a9c-a0cb-be5b661f121a",
   "metadata": {
    "colab": {
     "base_uri": "https://localhost:8080/"
    },
    "id": "4208959e-85a9-4a9c-a0cb-be5b661f121a",
    "outputId": "24d6b2a5-11ae-4519-b003-483a5753b1b6"
   },
   "outputs": [
    {
     "data": {
      "text/plain": [
       "[{'userID': 10, 'LoanId': 1, 'CenteredSimilarity': 0.9846653141373279},\n",
       " {'userID': 10, 'LoanId': 2, 'CenteredSimilarity': 0.9993435123150312},\n",
       " {'userID': 10, 'LoanId': 3, 'CenteredSimilarity': 0.9999751517477451},\n",
       " {'userID': 10, 'LoanId': 4, 'CenteredSimilarity': 0.9996252399081585},\n",
       " {'userID': 10, 'LoanId': 5, 'CenteredSimilarity': 0.9993524436452954},\n",
       " {'userID': 10, 'LoanId': 6, 'CenteredSimilarity': 0.9961854650889006},\n",
       " {'userID': 10, 'LoanId': 7, 'CenteredSimilarity': 0.9968689838562832},\n",
       " {'userID': 10, 'LoanId': 8, 'CenteredSimilarity': 0.9958091262067013},\n",
       " {'userID': 10, 'LoanId': 9, 'CenteredSimilarity': 0.9921921103738105},\n",
       " {'userID': 10, 'LoanId': 10, 'CenteredSimilarity': 0.9860440617410834},\n",
       " {'userID': 10, 'LoanId': 11, 'CenteredSimilarity': 0.9872106949357707},\n",
       " {'userID': 10, 'LoanId': 12, 'CenteredSimilarity': 0.9850307062957183},\n",
       " {'userID': 10, 'LoanId': 13, 'CenteredSimilarity': 0.9817486250975127},\n",
       " {'userID': 10, 'LoanId': 14, 'CenteredSimilarity': 0.981785449369162},\n",
       " {'userID': 10, 'LoanId': 15, 'CenteredSimilarity': 0.9796448028997394},\n",
       " {'userID': 10, 'LoanId': 16, 'CenteredSimilarity': 0.9804982641545484},\n",
       " {'userID': 10, 'LoanId': 17, 'CenteredSimilarity': 0.977077954579145},\n",
       " {'userID': 10, 'LoanId': 18, 'CenteredSimilarity': 0.9729256410405002},\n",
       " {'userID': 10, 'LoanId': 19, 'CenteredSimilarity': 0.9692600526908777},\n",
       " {'userID': 10, 'LoanId': 20, 'CenteredSimilarity': 0.9726260460202927},\n",
       " {'userID': 10, 'LoanId': 21, 'CenteredSimilarity': 0.9631191535674976},\n",
       " {'userID': 10, 'LoanId': 22, 'CenteredSimilarity': 0.9587758486494766},\n",
       " {'userID': 10, 'LoanId': 23, 'CenteredSimilarity': 0.9424014815755941},\n",
       " {'userID': 10, 'LoanId': 24, 'CenteredSimilarity': 0.9223730896878614},\n",
       " {'userID': 10, 'LoanId': 25, 'CenteredSimilarity': 0.9883251622950934},\n",
       " {'userID': 10, 'LoanId': 26, 'CenteredSimilarity': 0.9488803847996157},\n",
       " {'userID': 10, 'LoanId': 27, 'CenteredSimilarity': 0.9365658273070815},\n",
       " {'userID': 10, 'LoanId': 28, 'CenteredSimilarity': 0.9494055211793287},\n",
       " {'userID': 10, 'LoanId': 29, 'CenteredSimilarity': 0.9425383949676939},\n",
       " {'userID': 10, 'LoanId': 30, 'CenteredSimilarity': 0.9298412889891267},\n",
       " {'userID': 10, 'LoanId': 31, 'CenteredSimilarity': 0.9389234349974206},\n",
       " {'userID': 10, 'LoanId': 32, 'CenteredSimilarity': 0.9134915043581621},\n",
       " {'userID': 10, 'LoanId': 33, 'CenteredSimilarity': 0.9379017606460857},\n",
       " {'userID': 10, 'LoanId': 34, 'CenteredSimilarity': 0.8950783567139174},\n",
       " {'userID': 10, 'LoanId': 35, 'CenteredSimilarity': 0.9028532010178227},\n",
       " {'userID': 10, 'LoanId': 36, 'CenteredSimilarity': 0.9167024415853037},\n",
       " {'userID': 10, 'LoanId': 37, 'CenteredSimilarity': 0.8905033474737468},\n",
       " {'userID': 10, 'LoanId': 38, 'CenteredSimilarity': 0.8825736654083336}]"
      ]
     },
     "execution_count": 72,
     "metadata": {},
     "output_type": "execute_result"
    }
   ],
   "source": [
    "sorted(topNLoanforuser10, key=operator.itemgetter('LoanId') )"
   ]
  },
  {
   "cell_type": "markdown",
   "id": "f81c7feb-5cde-439c-95c1-58ceba8c153f",
   "metadata": {
    "id": "bda9c1f5-25a0-42a2-acd6-073eb86e466f"
   },
   "source": [
    "## Cosine Similarity of all users with all loans"
   ]
  },
  {
   "cell_type": "code",
   "execution_count": 73,
   "id": "339cd31c-5804-4f05-a949-2de67919deff",
   "metadata": {
    "id": "339cd31c-5804-4f05-a949-2de67919deff"
   },
   "outputs": [],
   "source": [
    "# Collect all user factors into a dictionary\n",
    "user_factors_dict = userFactors.select(\"id\", \"features\").rdd.collectAsMap()\n",
    "\n",
    "# Broadcast the user factors dictionary to all workers\n",
    "broadcast_user_factors = spark.sparkContext.broadcast(user_factors_dict)\n",
    "\n",
    "# Collect all item factors into a dictionary\n",
    "item_factors_dict = itemFactors.select(\"id\", \"features\").rdd.collectAsMap()\n",
    "\n",
    "# Broadcast the item factors dictionary to all workers\n",
    "broadcast_item_factors = spark.sparkContext.broadcast(item_factors_dict)"
   ]
  },
  {
   "cell_type": "code",
   "execution_count": 74,
   "id": "682d6dff-efa2-4ce4-8626-1561af385d48",
   "metadata": {},
   "outputs": [],
   "source": [
    "def centered_cosine_similarity(u, v):\n",
    "    \"\"\" Calculate centered cosine similarity between two vectors u and v. \"\"\"\n",
    "    # Calculate mean of u and v\n",
    "    mean_u = sum(u) / len(u)\n",
    "    mean_v = sum(v) / len(v)\n",
    "\n",
    "    # Subtract mean from u and v\n",
    "    centered_u = Vectors.dense([x - mean_u for x in u])\n",
    "    centered_v = Vectors.dense([x - mean_v for x in v])\n",
    "\n",
    "    # Calculate centered cosine similarity\n",
    "    dot_product = float(centered_u.dot(centered_v))\n",
    "    norm_u = float(centered_u.norm(2))\n",
    "    norm_v = float(centered_v.norm(2))\n",
    "\n",
    "    centered_sim = dot_product / (norm_u * norm_v)\n",
    "    return centered_sim"
   ]
  },
  {
   "cell_type": "code",
   "execution_count": 75,
   "id": "3d642ef8-ec11-4194-a4f7-1184fcd3e536",
   "metadata": {
    "id": "3d642ef8-ec11-4194-a4f7-1184fcd3e536"
   },
   "outputs": [
    {
     "name": "stdout",
     "output_type": "stream",
     "text": [
      "The time taken to run code for 25000 users is : 0.006168066263198852 hours\n"
     ]
    }
   ],
   "source": [
    "# Initialize list to store recommendations\n",
    "Centered_CosineSilty_first10 = []\n",
    "starttime = time.time()\n",
    "Nusers = 25000\n",
    "\n",
    "# Iterate over users\n",
    "for userId in range(1, Nusers):\n",
    "    user_factors = broadcast_user_factors.value.get(userId)\n",
    "    if user_factors:\n",
    "        TopCosineLoanforuser10 = []\n",
    "        # Iterate over items\n",
    "        for item_id, item_factors in broadcast_item_factors.value.items():\n",
    "            user_item_similarity = centered_cosine_similarity(user_factors, item_factors)\n",
    "            TopCosineLoanforuser10.append({item_id: user_item_similarity})\n",
    "\n",
    "        # Sort recommendations based on similarity\n",
    "        Recomnd_loans = sorted(TopCosineLoanforuser10, key=lambda x: list(x.values())[0], reverse=True)\n",
    "        Centered_CosineSilty_first10.append({\"UserId\": userId, \"Recommendation\": Recomnd_loans})\n",
    "\n",
    "endtime = time.time()\n",
    "runtime_hours = (endtime - starttime) / 3600\n",
    "print(f\"The time taken to run code for {Nusers} users is : {runtime_hours} hours\")"
   ]
  },
  {
   "cell_type": "code",
   "execution_count": null,
   "id": "4c06228d-a082-4a3b-9e3f-feee5a68cf8d",
   "metadata": {
    "id": "4c06228d-a082-4a3b-9e3f-feee5a68cf8d"
   },
   "outputs": [],
   "source": []
  },
  {
   "cell_type": "code",
   "execution_count": 76,
   "id": "ed0ef5dc-e915-4f8e-b865-b1746bf5f087",
   "metadata": {
    "id": "ed0ef5dc-e915-4f8e-b865-b1746bf5f087"
   },
   "outputs": [],
   "source": [
    "# Define a function to extract top-N recommendations\n",
    "def extract_top_n_recommendations(recommendations_data, n=2500):\n",
    "    top_n_recommendations = [{'userId': user_recommendation['UserId'],\n",
    "                              'Recommendation': [list(rec.keys())[0] for rec in user_recommendation['Recommendation'][:n]]}\n",
    "                             for user_recommendation in recommendations_data]\n",
    "    return top_n_recommendations\n",
    "\n",
    "# Extract top-N recommendations\n",
    "starttime = time.time()\n",
    "top_n_Centered_recommendations = extract_top_n_recommendations(Centered_CosineSilty_first10, n=5)\n",
    "endtime = time.time()\n",
    "runtime_hours = (endtime - starttime) / 3600\n"
   ]
  },
  {
   "cell_type": "code",
   "execution_count": null,
   "id": "c4547435-9941-4520-9b28-8ff839ae7ed3",
   "metadata": {
    "id": "c4547435-9941-4520-9b28-8ff839ae7ed3"
   },
   "outputs": [],
   "source": []
  },
  {
   "cell_type": "code",
   "execution_count": 77,
   "id": "d11d5c2c-3baf-4b7b-8ef9-de0f952243b8",
   "metadata": {
    "id": "d11d5c2c-3baf-4b7b-8ef9-de0f952243b8"
   },
   "outputs": [],
   "source": [
    "# Function to recommend top N loans not taken by the user\n",
    "def recommend_loans_not_taken(user_id, recommendations, actual_loans_taken, top_n):\n",
    "    taken_loans = set(actual_loans_taken.get(user_id, []))\n",
    "    recommended_loans = []\n",
    "    for rec in recommendations:\n",
    "        loan_id = list(rec.keys())[0]\n",
    "        if loan_id not in taken_loans:\n",
    "            recommended_loans.append(loan_id)\n",
    "            if len(recommended_loans) == top_n:\n",
    "                break\n",
    "    return recommended_loans\n",
    "\n",
    "# Define a dictionary to store actual loans taken by each user\n",
    "actual_loans_taken_dict = {record['userId']: record['loans'] for record in Actual_loans_taken}\n",
    "\n",
    "# Create a list to store recommendations for each user\n",
    "recommendations_for_users = []\n",
    "\n",
    "# Iterate over each user\n",
    "for rec_user in Centered_CosineSilty_first10:\n",
    "    user_id = rec_user['UserId']\n",
    "    recommendations = rec_user['Recommendation']\n",
    "    # Recommend top N loans not taken by the user\n",
    "    recommended_loans = recommend_loans_not_taken(user_id, recommendations, actual_loans_taken_dict, top_n=5)\n",
    "    recommendations_for_users.append({'UserId': user_id, 'Recommendations': recommended_loans})\n",
    "\n"
   ]
  },
  {
   "cell_type": "code",
   "execution_count": null,
   "id": "7c6af000-b911-435a-8696-9633218b5770",
   "metadata": {
    "id": "7c6af000-b911-435a-8696-9633218b5770"
   },
   "outputs": [],
   "source": []
  },
  {
   "cell_type": "code",
   "execution_count": 78,
   "id": "c68c5e5d-e5ac-4508-a423-3e330cb8f111",
   "metadata": {
    "id": "c68c5e5d-e5ac-4508-a423-3e330cb8f111"
   },
   "outputs": [],
   "source": [
    "def average_precision_at_k(actual, predicted, k):\n",
    "    # Initialize variables\n",
    "    num_hits = 0\n",
    "    precision_at_k = 0.0\n",
    "\n",
    "    # Iterate over the predicted list up to k\n",
    "    for i, p in enumerate(predicted[:k]):\n",
    "        # Check if the predicted item at position i is in the actual list\n",
    "        if p in actual:\n",
    "            num_hits += 1\n",
    "            # Calculate precision at position i\n",
    "            precision_at_k += num_hits / (i + 1)\n",
    "\n",
    "    # Calculate average precision at k\n",
    "    if not actual:\n",
    "        return 0.0\n",
    "    else:\n",
    "        return precision_at_k / min(len(actual), k)\n",
    "\n",
    "def map_at_k(actual, predicted, k):\n",
    "    # Calculate average precision at k for each query or user\n",
    "    average_precisions = [average_precision_at_k(a, p, k) for a, p in zip(actual, predicted)]\n",
    "    \n",
    "    # Return the mean of average precision at k values\n",
    "    return sum(average_precisions) / len(average_precisions)"
   ]
  },
  {
   "cell_type": "code",
   "execution_count": 79,
   "id": "63416651-664b-403e-9596-9e66b2393fb0",
   "metadata": {
    "id": "63416651-664b-403e-9596-9e66b2393fb0"
   },
   "outputs": [],
   "source": [
    "actual = [listo for listo in actual_loans_taken_dict.values()]\n",
    "predicted = [listo['Recommendation'] for listo in top_n_Centered_recommendations]"
   ]
  },
  {
   "cell_type": "code",
   "execution_count": 80,
   "id": "256e7129-1d41-4c83-a8fe-35b3096769c5",
   "metadata": {
    "id": "256e7129-1d41-4c83-a8fe-35b3096769c5"
   },
   "outputs": [
    {
     "name": "stdout",
     "output_type": "stream",
     "text": [
      "MAP@5: 0.1867\n"
     ]
    }
   ],
   "source": [
    "\n",
    "k = 5\n",
    "map_at_5 = map_at_k(actual, predicted, k)\n",
    "print(\"MAP@{}: {:.4f}\".format(k, map_at_5))"
   ]
  },
  {
   "cell_type": "code",
   "execution_count": null,
   "id": "bd030929-f4a4-4c3c-92c5-3fb9927288d0",
   "metadata": {
    "id": "bd030929-f4a4-4c3c-92c5-3fb9927288d0"
   },
   "outputs": [],
   "source": []
  },
  {
   "cell_type": "code",
   "execution_count": null,
   "id": "d3357146-82d1-43df-866e-f1f793b5d5f7",
   "metadata": {
    "id": "d3357146-82d1-43df-866e-f1f793b5d5f7"
   },
   "outputs": [],
   "source": []
  },
  {
   "cell_type": "code",
   "execution_count": null,
   "id": "e91e388e-5cad-4204-ad5d-d135cdfc481a",
   "metadata": {
    "id": "e91e388e-5cad-4204-ad5d-d135cdfc481a"
   },
   "outputs": [],
   "source": []
  },
  {
   "cell_type": "code",
   "execution_count": null,
   "id": "ba3d5312-52ec-474a-9d94-2c6c7c1e50e8",
   "metadata": {
    "id": "ba3d5312-52ec-474a-9d94-2c6c7c1e50e8"
   },
   "outputs": [],
   "source": []
  },
  {
   "cell_type": "code",
   "execution_count": null,
   "id": "c944b550-9463-441a-9e25-9018e50567c5",
   "metadata": {
    "id": "c944b550-9463-441a-9e25-9018e50567c5"
   },
   "outputs": [],
   "source": []
  },
  {
   "cell_type": "code",
   "execution_count": null,
   "id": "7ec2edd5-0e51-4c5f-834e-8d55dbdc7b71",
   "metadata": {
    "id": "7ec2edd5-0e51-4c5f-834e-8d55dbdc7b71"
   },
   "outputs": [],
   "source": []
  },
  {
   "cell_type": "code",
   "execution_count": null,
   "id": "5717f72b-7997-42c5-8832-bfd3f5e40e4c",
   "metadata": {
    "id": "5717f72b-7997-42c5-8832-bfd3f5e40e4c"
   },
   "outputs": [],
   "source": []
  },
  {
   "cell_type": "code",
   "execution_count": null,
   "id": "036d5eea-a979-4bd6-ab7b-c276c3f51380",
   "metadata": {
    "id": "036d5eea-a979-4bd6-ab7b-c276c3f51380"
   },
   "outputs": [],
   "source": []
  },
  {
   "cell_type": "code",
   "execution_count": null,
   "id": "5f5e4e30-3372-425d-9d1d-c71cf1f10873",
   "metadata": {
    "id": "5f5e4e30-3372-425d-9d1d-c71cf1f10873"
   },
   "outputs": [],
   "source": []
  },
  {
   "cell_type": "code",
   "execution_count": null,
   "id": "abbe1e09-23b1-460f-a365-240ded79997e",
   "metadata": {
    "id": "abbe1e09-23b1-460f-a365-240ded79997e"
   },
   "outputs": [],
   "source": []
  },
  {
   "cell_type": "code",
   "execution_count": null,
   "id": "7b1fa6c2-9d42-4d95-afbe-4f98ecaa34a6",
   "metadata": {
    "id": "7b1fa6c2-9d42-4d95-afbe-4f98ecaa34a6"
   },
   "outputs": [],
   "source": []
  },
  {
   "cell_type": "code",
   "execution_count": null,
   "id": "5d54c7f1-d510-44bb-b43f-aca4d69bf48c",
   "metadata": {
    "id": "5d54c7f1-d510-44bb-b43f-aca4d69bf48c"
   },
   "outputs": [],
   "source": []
  },
  {
   "cell_type": "code",
   "execution_count": null,
   "id": "28f4c194-45a6-454a-a425-04b70cce6b4b",
   "metadata": {
    "id": "28f4c194-45a6-454a-a425-04b70cce6b4b"
   },
   "outputs": [],
   "source": []
  },
  {
   "cell_type": "code",
   "execution_count": null,
   "id": "6d03f14c-5673-441f-9fb5-3914644d1ae3",
   "metadata": {
    "id": "6d03f14c-5673-441f-9fb5-3914644d1ae3"
   },
   "outputs": [],
   "source": []
  },
  {
   "cell_type": "code",
   "execution_count": null,
   "id": "278c1b14-281f-4cbc-95e8-27f68fd40a4a",
   "metadata": {
    "id": "278c1b14-281f-4cbc-95e8-27f68fd40a4a"
   },
   "outputs": [],
   "source": []
  },
  {
   "cell_type": "code",
   "execution_count": null,
   "id": "e618922a-344e-4fb1-b2e2-88de635c969e",
   "metadata": {
    "id": "e618922a-344e-4fb1-b2e2-88de635c969e"
   },
   "outputs": [],
   "source": []
  },
  {
   "cell_type": "code",
   "execution_count": null,
   "id": "3421dd79-d437-4c41-bc4f-cdf05411e089",
   "metadata": {
    "id": "3421dd79-d437-4c41-bc4f-cdf05411e089"
   },
   "outputs": [],
   "source": []
  },
  {
   "cell_type": "code",
   "execution_count": null,
   "id": "e28c76af-7617-4f97-b041-e109469ad3eb",
   "metadata": {
    "id": "e28c76af-7617-4f97-b041-e109469ad3eb"
   },
   "outputs": [],
   "source": []
  },
  {
   "cell_type": "code",
   "execution_count": null,
   "id": "c829b7f0-0e63-46bb-bf15-dcec978badf9",
   "metadata": {
    "id": "c829b7f0-0e63-46bb-bf15-dcec978badf9"
   },
   "outputs": [],
   "source": []
  },
  {
   "cell_type": "code",
   "execution_count": null,
   "id": "f9ea209a-1981-46b5-9a5f-f161bc16ff73",
   "metadata": {
    "id": "f9ea209a-1981-46b5-9a5f-f161bc16ff73"
   },
   "outputs": [],
   "source": []
  },
  {
   "cell_type": "code",
   "execution_count": null,
   "id": "2c404be4-aab7-4dfd-8711-5acb10d6fb44",
   "metadata": {
    "id": "2c404be4-aab7-4dfd-8711-5acb10d6fb44"
   },
   "outputs": [],
   "source": []
  },
  {
   "cell_type": "code",
   "execution_count": null,
   "id": "52d77289-2856-4fde-bf75-270d73bdadb7",
   "metadata": {
    "id": "52d77289-2856-4fde-bf75-270d73bdadb7"
   },
   "outputs": [],
   "source": []
  },
  {
   "cell_type": "code",
   "execution_count": null,
   "id": "69ebb281-b9df-4c56-bbc5-a13c4ce7fa3d",
   "metadata": {
    "id": "69ebb281-b9df-4c56-bbc5-a13c4ce7fa3d"
   },
   "outputs": [],
   "source": []
  },
  {
   "cell_type": "code",
   "execution_count": null,
   "id": "3c8e36af-6f95-4836-9fa2-4255f0e8c996",
   "metadata": {
    "id": "3c8e36af-6f95-4836-9fa2-4255f0e8c996"
   },
   "outputs": [],
   "source": []
  },
  {
   "cell_type": "code",
   "execution_count": null,
   "id": "c5cea054-a7e3-475e-9496-625fa922e6ac",
   "metadata": {
    "id": "c5cea054-a7e3-475e-9496-625fa922e6ac"
   },
   "outputs": [],
   "source": []
  },
  {
   "cell_type": "code",
   "execution_count": null,
   "id": "9551ee09-871f-4714-aca0-f1367b427cb4",
   "metadata": {
    "id": "9551ee09-871f-4714-aca0-f1367b427cb4"
   },
   "outputs": [],
   "source": []
  },
  {
   "cell_type": "code",
   "execution_count": null,
   "id": "b6363316-327c-4857-9ca8-f5faead059c2",
   "metadata": {
    "id": "b6363316-327c-4857-9ca8-f5faead059c2"
   },
   "outputs": [],
   "source": []
  },
  {
   "cell_type": "code",
   "execution_count": null,
   "id": "9d5e2e17-f927-47ec-90d1-3e99bf69ccf2",
   "metadata": {
    "id": "9d5e2e17-f927-47ec-90d1-3e99bf69ccf2"
   },
   "outputs": [],
   "source": []
  },
  {
   "cell_type": "code",
   "execution_count": null,
   "id": "66323d0a-fcbd-40d0-a13e-6b9449a77f64",
   "metadata": {
    "id": "66323d0a-fcbd-40d0-a13e-6b9449a77f64"
   },
   "outputs": [],
   "source": []
  },
  {
   "cell_type": "code",
   "execution_count": null,
   "id": "7e719f90-aee0-453a-87d5-df0e82ae507d",
   "metadata": {
    "id": "7e719f90-aee0-453a-87d5-df0e82ae507d"
   },
   "outputs": [],
   "source": []
  },
  {
   "cell_type": "code",
   "execution_count": null,
   "id": "59d656cc-fa74-43fc-bcd2-9a73ff7c11ce",
   "metadata": {
    "id": "59d656cc-fa74-43fc-bcd2-9a73ff7c11ce"
   },
   "outputs": [],
   "source": []
  },
  {
   "cell_type": "code",
   "execution_count": null,
   "id": "d33def82-a07b-4e44-8f8e-560f0a15ffcc",
   "metadata": {
    "id": "d33def82-a07b-4e44-8f8e-560f0a15ffcc"
   },
   "outputs": [],
   "source": []
  },
  {
   "cell_type": "code",
   "execution_count": null,
   "id": "650b4b08-6081-4dc9-9e5f-b2e34a2008bc",
   "metadata": {
    "id": "650b4b08-6081-4dc9-9e5f-b2e34a2008bc"
   },
   "outputs": [],
   "source": []
  },
  {
   "cell_type": "code",
   "execution_count": null,
   "id": "f2c7c001-9cd5-4715-9d50-720d5ba66e2e",
   "metadata": {
    "id": "f2c7c001-9cd5-4715-9d50-720d5ba66e2e"
   },
   "outputs": [],
   "source": []
  },
  {
   "cell_type": "code",
   "execution_count": null,
   "id": "ece6e4b3-79ad-420c-8c39-e840866f075c",
   "metadata": {
    "id": "ece6e4b3-79ad-420c-8c39-e840866f075c"
   },
   "outputs": [],
   "source": []
  }
 ],
 "metadata": {
  "colab": {
   "provenance": []
  },
  "kernelspec": {
   "display_name": "Python 3 (ipykernel)",
   "language": "python",
   "name": "python3"
  },
  "language_info": {
   "codemirror_mode": {
    "name": "ipython",
    "version": 3
   },
   "file_extension": ".py",
   "mimetype": "text/x-python",
   "name": "python",
   "nbconvert_exporter": "python",
   "pygments_lexer": "ipython3",
   "version": "3.12.0"
  }
 },
 "nbformat": 4,
 "nbformat_minor": 5
}
