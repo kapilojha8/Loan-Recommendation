{
 "cells": [
  {
   "cell_type": "code",
   "execution_count": 1,
   "id": "f93aa385-db15-47f7-99a1-ede8864bdec6",
   "metadata": {},
   "outputs": [],
   "source": [
    "import pandas as pd\n",
    "import numpy as np"
   ]
  },
  {
   "cell_type": "code",
   "execution_count": 2,
   "id": "3a8b15e7-8b9e-4c9a-84e8-30a7567e42a9",
   "metadata": {},
   "outputs": [],
   "source": [
    "df = pd.read_csv(\"df_data/df_temp_cluster_Own_Loan_Amount_Condition.csv\")"
   ]
  },
  {
   "cell_type": "code",
   "execution_count": 3,
   "id": "1926931f-29a8-4029-9b66-10650b2be2d0",
   "metadata": {},
   "outputs": [
    {
     "data": {
      "text/html": [
       "<div>\n",
       "<style scoped>\n",
       "    .dataframe tbody tr th:only-of-type {\n",
       "        vertical-align: middle;\n",
       "    }\n",
       "\n",
       "    .dataframe tbody tr th {\n",
       "        vertical-align: top;\n",
       "    }\n",
       "\n",
       "    .dataframe thead th {\n",
       "        text-align: right;\n",
       "    }\n",
       "</style>\n",
       "<table border=\"1\" class=\"dataframe\">\n",
       "  <thead>\n",
       "    <tr style=\"text-align: right;\">\n",
       "      <th></th>\n",
       "      <th>Id</th>\n",
       "      <th>AccountID</th>\n",
       "      <th>Number_Of_Loans_Granted__c</th>\n",
       "      <th>Num_Of_Loans_Paid__c</th>\n",
       "      <th>Purpose_of_Loan__c</th>\n",
       "      <th>Total_Repayments__c</th>\n",
       "      <th>Amount</th>\n",
       "      <th>Term_in_Weeks__c</th>\n",
       "      <th>Payment_Frequency__c</th>\n",
       "      <th>StageName</th>\n",
       "      <th>Applicant Age</th>\n",
       "      <th>summary_income</th>\n",
       "      <th>summary_income_cv</th>\n",
       "      <th>city</th>\n",
       "      <th>state</th>\n",
       "      <th>Country</th>\n",
       "      <th>userId</th>\n",
       "      <th>loanId</th>\n",
       "      <th>count</th>\n",
       "      <th>Cluster_result</th>\n",
       "    </tr>\n",
       "  </thead>\n",
       "  <tbody>\n",
       "    <tr>\n",
       "      <th>0</th>\n",
       "      <td>0062x000002aHhMAAU</td>\n",
       "      <td>0010K00001cOB9dQAG</td>\n",
       "      <td>4</td>\n",
       "      <td>3</td>\n",
       "      <td>Elec / Gas / Water</td>\n",
       "      <td>6</td>\n",
       "      <td>150</td>\n",
       "      <td>6.571</td>\n",
       "      <td>Weekly</td>\n",
       "      <td>Loan Paid</td>\n",
       "      <td>25</td>\n",
       "      <td>1300.00</td>\n",
       "      <td>2563.49</td>\n",
       "      <td>Mount Crosby</td>\n",
       "      <td>QLD</td>\n",
       "      <td>Australia</td>\n",
       "      <td>432</td>\n",
       "      <td>82379</td>\n",
       "      <td>1</td>\n",
       "      <td>1</td>\n",
       "    </tr>\n",
       "    <tr>\n",
       "      <th>1</th>\n",
       "      <td>0062x00000AlkKWAAZ</td>\n",
       "      <td>0010K00001cPxiTQAS</td>\n",
       "      <td>3</td>\n",
       "      <td>3</td>\n",
       "      <td>Other</td>\n",
       "      <td>3</td>\n",
       "      <td>100</td>\n",
       "      <td>6.143</td>\n",
       "      <td>Fortnightly</td>\n",
       "      <td>Loan Paid</td>\n",
       "      <td>39</td>\n",
       "      <td>2708.33</td>\n",
       "      <td>2358.55</td>\n",
       "      <td>NOBLE PARK</td>\n",
       "      <td>VIC</td>\n",
       "      <td>Australia</td>\n",
       "      <td>500</td>\n",
       "      <td>260284</td>\n",
       "      <td>1</td>\n",
       "      <td>1</td>\n",
       "    </tr>\n",
       "    <tr>\n",
       "      <th>2</th>\n",
       "      <td>0062x00000AKiaQAAT</td>\n",
       "      <td>0010K00001cwvXbQAI</td>\n",
       "      <td>3</td>\n",
       "      <td>3</td>\n",
       "      <td>Living Expenses</td>\n",
       "      <td>6</td>\n",
       "      <td>100</td>\n",
       "      <td>10.714</td>\n",
       "      <td>Fortnightly</td>\n",
       "      <td>Loan Paid</td>\n",
       "      <td>54</td>\n",
       "      <td>1733.33</td>\n",
       "      <td>3217.52</td>\n",
       "      <td>Reservoir</td>\n",
       "      <td>VIC</td>\n",
       "      <td>Australia</td>\n",
       "      <td>661</td>\n",
       "      <td>226878</td>\n",
       "      <td>1</td>\n",
       "      <td>1</td>\n",
       "    </tr>\n",
       "    <tr>\n",
       "      <th>3</th>\n",
       "      <td>0062x00000CSVNwAAP</td>\n",
       "      <td>0010K00001dQ8y3QAC</td>\n",
       "      <td>4</td>\n",
       "      <td>4</td>\n",
       "      <td>Living Expenses</td>\n",
       "      <td>5</td>\n",
       "      <td>100</td>\n",
       "      <td>10.571</td>\n",
       "      <td>Fortnightly</td>\n",
       "      <td>Loan Paid</td>\n",
       "      <td>28</td>\n",
       "      <td>1733.33</td>\n",
       "      <td>2801.36</td>\n",
       "      <td>Albion</td>\n",
       "      <td>QLD</td>\n",
       "      <td>Australia</td>\n",
       "      <td>844</td>\n",
       "      <td>313319</td>\n",
       "      <td>1</td>\n",
       "      <td>1</td>\n",
       "    </tr>\n",
       "    <tr>\n",
       "      <th>4</th>\n",
       "      <td>0062x000009p7lfAAA</td>\n",
       "      <td>0010K00001dpdrcQAA</td>\n",
       "      <td>6</td>\n",
       "      <td>5</td>\n",
       "      <td>Living Expenses</td>\n",
       "      <td>6</td>\n",
       "      <td>100</td>\n",
       "      <td>6.286</td>\n",
       "      <td>Weekly</td>\n",
       "      <td>Loan Paid</td>\n",
       "      <td>25</td>\n",
       "      <td>2383.33</td>\n",
       "      <td>4935.31</td>\n",
       "      <td>Eagleby</td>\n",
       "      <td>QLD</td>\n",
       "      <td>Australia</td>\n",
       "      <td>1040</td>\n",
       "      <td>205917</td>\n",
       "      <td>1</td>\n",
       "      <td>1</td>\n",
       "    </tr>\n",
       "  </tbody>\n",
       "</table>\n",
       "</div>"
      ],
      "text/plain": [
       "                   Id           AccountID  Number_Of_Loans_Granted__c  \\\n",
       "0  0062x000002aHhMAAU  0010K00001cOB9dQAG                           4   \n",
       "1  0062x00000AlkKWAAZ  0010K00001cPxiTQAS                           3   \n",
       "2  0062x00000AKiaQAAT  0010K00001cwvXbQAI                           3   \n",
       "3  0062x00000CSVNwAAP  0010K00001dQ8y3QAC                           4   \n",
       "4  0062x000009p7lfAAA  0010K00001dpdrcQAA                           6   \n",
       "\n",
       "   Num_Of_Loans_Paid__c  Purpose_of_Loan__c  Total_Repayments__c  Amount  \\\n",
       "0                     3  Elec / Gas / Water                    6     150   \n",
       "1                     3               Other                    3     100   \n",
       "2                     3     Living Expenses                    6     100   \n",
       "3                     4     Living Expenses                    5     100   \n",
       "4                     5     Living Expenses                    6     100   \n",
       "\n",
       "   Term_in_Weeks__c Payment_Frequency__c  StageName  Applicant Age  \\\n",
       "0             6.571               Weekly  Loan Paid             25   \n",
       "1             6.143          Fortnightly  Loan Paid             39   \n",
       "2            10.714          Fortnightly  Loan Paid             54   \n",
       "3            10.571          Fortnightly  Loan Paid             28   \n",
       "4             6.286               Weekly  Loan Paid             25   \n",
       "\n",
       "   summary_income  summary_income_cv          city state    Country  userId  \\\n",
       "0         1300.00            2563.49  Mount Crosby   QLD  Australia     432   \n",
       "1         2708.33            2358.55    NOBLE PARK   VIC  Australia     500   \n",
       "2         1733.33            3217.52     Reservoir   VIC  Australia     661   \n",
       "3         1733.33            2801.36        Albion   QLD  Australia     844   \n",
       "4         2383.33            4935.31       Eagleby   QLD  Australia    1040   \n",
       "\n",
       "   loanId  count  Cluster_result  \n",
       "0   82379      1               1  \n",
       "1  260284      1               1  \n",
       "2  226878      1               1  \n",
       "3  313319      1               1  \n",
       "4  205917      1               1  "
      ]
     },
     "execution_count": 3,
     "metadata": {},
     "output_type": "execute_result"
    }
   ],
   "source": [
    "df.head()"
   ]
  },
  {
   "cell_type": "code",
   "execution_count": 4,
   "id": "d9c155fe-bad6-4b85-9ece-11edea0594c1",
   "metadata": {},
   "outputs": [
    {
     "data": {
      "text/plain": [
       "<Axes: >"
      ]
     },
     "execution_count": 4,
     "metadata": {},
     "output_type": "execute_result"
    },
    {
     "data": {
      "image/png": "[encoded data removed]",
      "text/plain": [
       "<Figure size 640x480 with 1 Axes>"
      ]
     },
     "metadata": {},
     "output_type": "display_data"
    }
   ],
   "source": [
    "df['Applicant Age'].hist()"
   ]
  },
  {
   "cell_type": "code",
   "execution_count": 6,
   "id": "9395c16e-7faa-477a-a3b4-0085c75c92c3",
   "metadata": {},
   "outputs": [
    {
     "data": {
      "text/plain": [
       "<Axes: >"
      ]
     },
     "execution_count": 6,
     "metadata": {},
     "output_type": "execute_result"
    },
    {
     "data": {
      "image/png": "[encoded data removed]",
      "text/plain": [
       "<Figure size 640x480 with 1 Axes>"
      ]
     },
     "metadata": {},
     "output_type": "display_data"
    }
   ],
   "source": [
    "df['Applicant Age'].hist(bins=30)"
   ]
  },
  {
   "cell_type": "code",
   "execution_count": 36,
   "id": "e9098ff9-dd65-425f-8bea-2829f48d88d6",
   "metadata": {},
   "outputs": [
    {
     "data": {
      "text/plain": [
       "<Axes: >"
      ]
     },
     "execution_count": 36,
     "metadata": {},
     "output_type": "execute_result"
    },
    {
     "data": {
      "image/png": "[encoded data removed]",
      "text/plain": [
       "<Figure size 640x480 with 1 Axes>"
      ]
     },
     "metadata": {},
     "output_type": "display_data"
    }
   ],
   "source": [
    "df['state'].hist(bins=20)"
   ]
  },
  {
   "cell_type": "code",
   "execution_count": null,
   "id": "52a7460d-adcc-421c-9848-498afcebefa1",
   "metadata": {},
   "outputs": [],
   "source": []
  },
  {
   "cell_type": "code",
   "execution_count": 44,
   "id": "385d27d6-8dd8-4177-8d93-041388e39fd8",
   "metadata": {},
   "outputs": [],
   "source": [
    "mappingState = {statename:index for index,statename in enumerate(df['state'].unique(),start=1)}"
   ]
  },
  {
   "cell_type": "code",
   "execution_count": 45,
   "id": "c8b113c4-0d34-4e80-b61b-d903d2ba8b8c",
   "metadata": {},
   "outputs": [
    {
     "data": {
      "text/plain": [
       "{'QLD': 1, 'VIC': 2, 'WA': 3, 'NSW': 4, 'SA': 5, 'ACT': 6, 'TAS': 7, 'NT': 8}"
      ]
     },
     "execution_count": 45,
     "metadata": {},
     "output_type": "execute_result"
    }
   ],
   "source": [
    "mappingState"
   ]
  },
  {
   "cell_type": "code",
   "execution_count": 46,
   "id": "c1cb5c45-4023-4fda-9b84-889a5b11dd25",
   "metadata": {},
   "outputs": [],
   "source": [
    "df['usergroupCreate'] = df['state'].apply((lambda x: mappingState[x]))"
   ]
  },
  {
   "cell_type": "code",
   "execution_count": 47,
   "id": "a58570d6-43ef-41c7-8c7f-4ecf755cc787",
   "metadata": {},
   "outputs": [
    {
     "data": {
      "text/html": [
       "<div>\n",
       "<style scoped>\n",
       "    .dataframe tbody tr th:only-of-type {\n",
       "        vertical-align: middle;\n",
       "    }\n",
       "\n",
       "    .dataframe tbody tr th {\n",
       "        vertical-align: top;\n",
       "    }\n",
       "\n",
       "    .dataframe thead th {\n",
       "        text-align: right;\n",
       "    }\n",
       "</style>\n",
       "<table border=\"1\" class=\"dataframe\">\n",
       "  <thead>\n",
       "    <tr style=\"text-align: right;\">\n",
       "      <th></th>\n",
       "      <th>Id</th>\n",
       "      <th>AccountID</th>\n",
       "      <th>Number_Of_Loans_Granted__c</th>\n",
       "      <th>Num_Of_Loans_Paid__c</th>\n",
       "      <th>Purpose_of_Loan__c</th>\n",
       "      <th>Total_Repayments__c</th>\n",
       "      <th>Amount</th>\n",
       "      <th>Term_in_Weeks__c</th>\n",
       "      <th>Payment_Frequency__c</th>\n",
       "      <th>StageName</th>\n",
       "      <th>...</th>\n",
       "      <th>summary_income</th>\n",
       "      <th>summary_income_cv</th>\n",
       "      <th>city</th>\n",
       "      <th>state</th>\n",
       "      <th>Country</th>\n",
       "      <th>userId</th>\n",
       "      <th>loanId</th>\n",
       "      <th>count</th>\n",
       "      <th>Cluster_result</th>\n",
       "      <th>usergroupCreate</th>\n",
       "    </tr>\n",
       "  </thead>\n",
       "  <tbody>\n",
       "    <tr>\n",
       "      <th>0</th>\n",
       "      <td>0062x000002aHhMAAU</td>\n",
       "      <td>0010K00001cOB9dQAG</td>\n",
       "      <td>4</td>\n",
       "      <td>3</td>\n",
       "      <td>Elec / Gas / Water</td>\n",
       "      <td>6</td>\n",
       "      <td>150</td>\n",
       "      <td>6.571</td>\n",
       "      <td>Weekly</td>\n",
       "      <td>Loan Paid</td>\n",
       "      <td>...</td>\n",
       "      <td>1300.00</td>\n",
       "      <td>2563.49</td>\n",
       "      <td>Mount Crosby</td>\n",
       "      <td>QLD</td>\n",
       "      <td>Australia</td>\n",
       "      <td>432</td>\n",
       "      <td>82379</td>\n",
       "      <td>1</td>\n",
       "      <td>1</td>\n",
       "      <td>1</td>\n",
       "    </tr>\n",
       "    <tr>\n",
       "      <th>1</th>\n",
       "      <td>0062x00000AlkKWAAZ</td>\n",
       "      <td>0010K00001cPxiTQAS</td>\n",
       "      <td>3</td>\n",
       "      <td>3</td>\n",
       "      <td>Other</td>\n",
       "      <td>3</td>\n",
       "      <td>100</td>\n",
       "      <td>6.143</td>\n",
       "      <td>Fortnightly</td>\n",
       "      <td>Loan Paid</td>\n",
       "      <td>...</td>\n",
       "      <td>2708.33</td>\n",
       "      <td>2358.55</td>\n",
       "      <td>NOBLE PARK</td>\n",
       "      <td>VIC</td>\n",
       "      <td>Australia</td>\n",
       "      <td>500</td>\n",
       "      <td>260284</td>\n",
       "      <td>1</td>\n",
       "      <td>1</td>\n",
       "      <td>2</td>\n",
       "    </tr>\n",
       "    <tr>\n",
       "      <th>2</th>\n",
       "      <td>0062x00000AKiaQAAT</td>\n",
       "      <td>0010K00001cwvXbQAI</td>\n",
       "      <td>3</td>\n",
       "      <td>3</td>\n",
       "      <td>Living Expenses</td>\n",
       "      <td>6</td>\n",
       "      <td>100</td>\n",
       "      <td>10.714</td>\n",
       "      <td>Fortnightly</td>\n",
       "      <td>Loan Paid</td>\n",
       "      <td>...</td>\n",
       "      <td>1733.33</td>\n",
       "      <td>3217.52</td>\n",
       "      <td>Reservoir</td>\n",
       "      <td>VIC</td>\n",
       "      <td>Australia</td>\n",
       "      <td>661</td>\n",
       "      <td>226878</td>\n",
       "      <td>1</td>\n",
       "      <td>1</td>\n",
       "      <td>2</td>\n",
       "    </tr>\n",
       "    <tr>\n",
       "      <th>3</th>\n",
       "      <td>0062x00000CSVNwAAP</td>\n",
       "      <td>0010K00001dQ8y3QAC</td>\n",
       "      <td>4</td>\n",
       "      <td>4</td>\n",
       "      <td>Living Expenses</td>\n",
       "      <td>5</td>\n",
       "      <td>100</td>\n",
       "      <td>10.571</td>\n",
       "      <td>Fortnightly</td>\n",
       "      <td>Loan Paid</td>\n",
       "      <td>...</td>\n",
       "      <td>1733.33</td>\n",
       "      <td>2801.36</td>\n",
       "      <td>Albion</td>\n",
       "      <td>QLD</td>\n",
       "      <td>Australia</td>\n",
       "      <td>844</td>\n",
       "      <td>313319</td>\n",
       "      <td>1</td>\n",
       "      <td>1</td>\n",
       "      <td>1</td>\n",
       "    </tr>\n",
       "    <tr>\n",
       "      <th>4</th>\n",
       "      <td>0062x000009p7lfAAA</td>\n",
       "      <td>0010K00001dpdrcQAA</td>\n",
       "      <td>6</td>\n",
       "      <td>5</td>\n",
       "      <td>Living Expenses</td>\n",
       "      <td>6</td>\n",
       "      <td>100</td>\n",
       "      <td>6.286</td>\n",
       "      <td>Weekly</td>\n",
       "      <td>Loan Paid</td>\n",
       "      <td>...</td>\n",
       "      <td>2383.33</td>\n",
       "      <td>4935.31</td>\n",
       "      <td>Eagleby</td>\n",
       "      <td>QLD</td>\n",
       "      <td>Australia</td>\n",
       "      <td>1040</td>\n",
       "      <td>205917</td>\n",
       "      <td>1</td>\n",
       "      <td>1</td>\n",
       "      <td>1</td>\n",
       "    </tr>\n",
       "  </tbody>\n",
       "</table>\n",
       "<p>5 rows × 21 columns</p>\n",
       "</div>"
      ],
      "text/plain": [
       "                   Id           AccountID  Number_Of_Loans_Granted__c  \\\n",
       "0  0062x000002aHhMAAU  0010K00001cOB9dQAG                           4   \n",
       "1  0062x00000AlkKWAAZ  0010K00001cPxiTQAS                           3   \n",
       "2  0062x00000AKiaQAAT  0010K00001cwvXbQAI                           3   \n",
       "3  0062x00000CSVNwAAP  0010K00001dQ8y3QAC                           4   \n",
       "4  0062x000009p7lfAAA  0010K00001dpdrcQAA                           6   \n",
       "\n",
       "   Num_Of_Loans_Paid__c  Purpose_of_Loan__c  Total_Repayments__c  Amount  \\\n",
       "0                     3  Elec / Gas / Water                    6     150   \n",
       "1                     3               Other                    3     100   \n",
       "2                     3     Living Expenses                    6     100   \n",
       "3                     4     Living Expenses                    5     100   \n",
       "4                     5     Living Expenses                    6     100   \n",
       "\n",
       "   Term_in_Weeks__c Payment_Frequency__c  StageName  ...  summary_income  \\\n",
       "0             6.571               Weekly  Loan Paid  ...         1300.00   \n",
       "1             6.143          Fortnightly  Loan Paid  ...         2708.33   \n",
       "2            10.714          Fortnightly  Loan Paid  ...         1733.33   \n",
       "3            10.571          Fortnightly  Loan Paid  ...         1733.33   \n",
       "4             6.286               Weekly  Loan Paid  ...         2383.33   \n",
       "\n",
       "   summary_income_cv          city state    Country userId  loanId  count  \\\n",
       "0            2563.49  Mount Crosby   QLD  Australia    432   82379      1   \n",
       "1            2358.55    NOBLE PARK   VIC  Australia    500  260284      1   \n",
       "2            3217.52     Reservoir   VIC  Australia    661  226878      1   \n",
       "3            2801.36        Albion   QLD  Australia    844  313319      1   \n",
       "4            4935.31       Eagleby   QLD  Australia   1040  205917      1   \n",
       "\n",
       "   Cluster_result  usergroupCreate  \n",
       "0               1                1  \n",
       "1               1                2  \n",
       "2               1                2  \n",
       "3               1                1  \n",
       "4               1                1  \n",
       "\n",
       "[5 rows x 21 columns]"
      ]
     },
     "execution_count": 47,
     "metadata": {},
     "output_type": "execute_result"
    }
   ],
   "source": [
    "df.head()"
   ]
  },
  {
   "cell_type": "code",
   "execution_count": 48,
   "id": "d2e58500-ea80-4046-9e6b-f3621c7fd7e5",
   "metadata": {},
   "outputs": [],
   "source": [
    "df.to_csv(\"df_demographic_data_approrach-2.csv\",index=False)"
   ]
  },
  {
   "cell_type": "code",
   "execution_count": null,
   "id": "9ef5c29d-0a8e-4134-882b-75c31f2dda48",
   "metadata": {},
   "outputs": [],
   "source": []
  }
 ],
 "metadata": {
  "kernelspec": {
   "display_name": "Python 3 (ipykernel)",
   "language": "python",
   "name": "python3"
  },
  "language_info": {
   "codemirror_mode": {
    "name": "ipython",
    "version": 3
   },
   "file_extension": ".py",
   "mimetype": "text/x-python",
   "name": "python",
   "nbconvert_exporter": "python",
   "pygments_lexer": "ipython3",
   "version": "3.12.0"
  }
 },
 "nbformat": 4,
 "nbformat_minor": 5
}
