{
 "cells": [
  {
   "cell_type": "markdown",
   "id": "8433267c-e538-444a-8fbf-bbe8f7eab0e2",
   "metadata": {
    "id": "8433267c-e538-444a-8fbf-bbe8f7eab0e2"
   },
   "source": [
    "# Loan Recommendation System\n",
    "## POC - Proof Of Concept"
   ]
  },
  {
   "cell_type": "raw",
   "id": "3393d7be-0421-4ea8-90c0-d6104e07c990",
   "metadata": {},
   "source": [
    "ALS training , Cosine Similarity , Centered Cosine Similarity\n",
    "Created the Clusters according to own intutuin about Loan Amount by checking the patters drawn on histogram."
   ]
  },
  {
   "attachments": {},
   "cell_type": "markdown",
   "id": "d42fa2b8-f9f5-4795-958f-e86c7453430f",
   "metadata": {},
   "source": [
    "<img src=\"ClusterSchema.png\" />"
   ]
  },
  {
   "cell_type": "code",
   "execution_count": 1,
   "id": "e20dd32e-1530-42f6-bdf9-c3f5806e837b",
   "metadata": {
    "id": "e20dd32e-1530-42f6-bdf9-c3f5806e837b"
   },
   "outputs": [],
   "source": [
    "from pyspark.sql import SparkSession\n",
    "from pyspark.sql.functions import col, expr, rank, count #countDistinct\n",
    "from pyspark.sql import functions as F\n",
    "from pyspark.ml.recommendation import ALS\n",
    "from pyspark.ml.evaluation import RegressionEvaluator\n",
    "from pyspark.ml.linalg import Vectors  ##DenseMatrix\n",
    "import matplotlib.pyplot as plt\n",
    "import pandas as pd\n",
    "import numpy as np\n",
    "import operator\n",
    "import time"
   ]
  },
  {
   "cell_type": "code",
   "execution_count": null,
   "id": "ec2c3dd8-7bb0-4bfb-a8bf-cd51a0fd1de3",
   "metadata": {},
   "outputs": [],
   "source": []
  },
  {
   "cell_type": "code",
   "execution_count": 2,
   "id": "7feab969-e8a3-4d26-adb0-080556999837",
   "metadata": {
    "id": "7feab969-e8a3-4d26-adb0-080556999837"
   },
   "outputs": [],
   "source": [
    "spark = SparkSession.builder.appName('loan_recommendation_with_clusters').config(\"spark.driver.memory\", \"12g\").getOrCreate()"
   ]
  },
  {
   "cell_type": "code",
   "execution_count": 3,
   "id": "c193e8d5-ed73-4ce1-8c2a-8580263c5921",
   "metadata": {
    "colab": {
     "base_uri": "https://localhost:8080/"
    },
    "id": "c193e8d5-ed73-4ce1-8c2a-8580263c5921",
    "outputId": "35bc7aa7-972b-4000-ea33-dfbd4074f696"
   },
   "outputs": [
    {
     "name": "stdout",
     "output_type": "stream",
     "text": [
      "root\n",
      " |-- Id: string (nullable = true)\n",
      " |-- AccountID: string (nullable = true)\n",
      " |-- Number_Of_Loans_Granted__c: integer (nullable = true)\n",
      " |-- Num_Of_Loans_Paid__c: integer (nullable = true)\n",
      " |-- Purpose_of_Loan__c: string (nullable = true)\n",
      " |-- Total_Repayments__c: integer (nullable = true)\n",
      " |-- Amount: integer (nullable = true)\n",
      " |-- Term_in_Weeks__c: double (nullable = true)\n",
      " |-- Payment_Frequency__c: string (nullable = true)\n",
      " |-- StageName: string (nullable = true)\n",
      " |-- Applicant Age: integer (nullable = true)\n",
      " |-- summary_income: double (nullable = true)\n",
      " |-- summary_income_cv: double (nullable = true)\n",
      " |-- city: string (nullable = true)\n",
      " |-- state: string (nullable = true)\n",
      " |-- Country: string (nullable = true)\n",
      " |-- userId: integer (nullable = true)\n",
      " |-- loanId: integer (nullable = true)\n",
      " |-- count: integer (nullable = true)\n",
      " |-- Cluster_result: integer (nullable = true)\n",
      "\n"
     ]
    }
   ],
   "source": [
    "# loans_df = spark.read.csv(\"RecommendData/df_temp_cluster_rating_condition_data.csv\", inferSchema=True, header=True)\n",
    "loans_df = spark.read.csv(\"Loan_Dataset/df_temp_cluster_Own_Loan_Amount_Condition.csv\", inferSchema=True, header=True)\n",
    "\n",
    "loans_df.printSchema()"
   ]
  },
  {
   "cell_type": "code",
   "execution_count": 4,
   "id": "_wOkxYLVyNiw",
   "metadata": {
    "colab": {
     "base_uri": "https://localhost:8080/"
    },
    "id": "_wOkxYLVyNiw",
    "outputId": "cfcd8bbe-05c0-4c1e-a4d8-7c7d05b6ffbd"
   },
   "outputs": [
    {
     "name": "stdout",
     "output_type": "stream",
     "text": [
      "+-------+------------------+-----------------+-------------------+--------------------+------------------+\n",
      "|summary|    Cluster_result|           Amount|Total_Repayments__c|Payment_Frequency__c|             count|\n",
      "+-------+------------------+-----------------+-------------------+--------------------+------------------+\n",
      "|  count|            481071|           481071|             481071|              481071|            481071|\n",
      "|   mean|11.568618769370842|861.5759420127174|  7.075398433911003|                NULL|1.6787376499518782|\n",
      "| stddev| 8.303280980759853|809.0576736930908|   4.13654303900754|                NULL|0.8991013265350597|\n",
      "|    min|                 1|              100|                  1|         Fortnightly|                 0|\n",
      "|    max|                38|             5000|                 45|              Weekly|                 8|\n",
      "+-------+------------------+-----------------+-------------------+--------------------+------------------+\n",
      "\n"
     ]
    }
   ],
   "source": [
    "loans_df.select([\"Cluster_result\",\"Amount\",\"Total_Repayments__c\",\"Payment_Frequency__c\",\"count\"]).describe().show(10)"
   ]
  },
  {
   "cell_type": "code",
   "execution_count": null,
   "id": "5eed5a11-8e0a-44b3-bf4c-ba0c3ccbc428",
   "metadata": {},
   "outputs": [],
   "source": []
  },
  {
   "cell_type": "markdown",
   "id": "4bfaf097-19ab-46bc-8aaf-cc8a2a427600",
   "metadata": {
    "id": "4bfaf097-19ab-46bc-8aaf-cc8a2a427600"
   },
   "source": [
    "* Id: Likely a unique identifier for each data point.\n",
    "* AccountID: Unique identifier for an account (possibly borrower).\n",
    "* Loan-related features: \n",
    "    1. Number_Of_Loans_Granted__c: Number of loans granted to the account.\n",
    "    2. Num_Of_Loans_Paid__c: Number of loans paid by the account.\n",
    "    3. Purpose_of_Loan__c: Category of the loan purpose (e.g., mortgage, education).\n",
    "    4. Total_Repayments__c: Total amount repaid by the account.\n",
    "    5. Amount: Loan amount requested.\n",
    "    6. Term_in_Weeks__c: Loan term in weeks.\n",
    "    7. Payment_Frequency__c: Frequency of loan repayment (e.g., weekly, monthly).\n",
    "* Borrower-related features:\n",
    "    1. StageName: Current stage of the loan application (e.g., application, approved, rejected).    \n",
    "    2. Applicant Age: Age of the loan applicant    \n",
    "    3. summary_income: Summary of applicant's incom    \n",
    "    4. summary_income_cv: Coefficient of variation of applicant's income\n",
    "    5. Location-related features:\n",
    "    6. city: City of the applicant.\n",
    "    7. state: State of the applicant.\n",
    "    8. Country: Country of the applicant\n",
    "* Additional features:\n",
    "    1. userId: Unique identifier for a user Account Id in Numeric).     \n",
    "    2. loanId: Unique identifier for a lo (Id or loanId in Numeric)\n",
    "    3. counFeature related to the Ratings of the Loans.\n",
    "    4. LoanIdFormat: Format of the loan(Created LoanId using Clusters)."
   ]
  },
  {
   "cell_type": "code",
   "execution_count": 5,
   "id": "66fda6a1-a162-4b31-9076-0a3a230f16de",
   "metadata": {
    "colab": {
     "base_uri": "https://localhost:8080/"
    },
    "id": "66fda6a1-a162-4b31-9076-0a3a230f16de",
    "outputId": "be53b169-4850-4a81-af21-8c6bc59651d8"
   },
   "outputs": [
    {
     "name": "stdout",
     "output_type": "stream",
     "text": [
      "+--------------+------+-------------------+--------------------+-----+\n",
      "|Cluster_result|Amount|Total_Repayments__c|Payment_Frequency__c|count|\n",
      "+--------------+------+-------------------+--------------------+-----+\n",
      "|             1|   150|                  6|              Weekly|    1|\n",
      "|             1|   100|                  3|         Fortnightly|    1|\n",
      "|             1|   100|                  6|         Fortnightly|    1|\n",
      "|             1|   100|                  5|         Fortnightly|    1|\n",
      "|             1|   100|                  6|              Weekly|    1|\n",
      "|             1|   100|                  3|         Fortnightly|    1|\n",
      "|             1|   150|                  3|         Fortnightly|    1|\n",
      "|             1|   100|                  6|              Weekly|    1|\n",
      "|             1|   100|                 10|              Weekly|    1|\n",
      "|             1|   100|                 10|              Weekly|    1|\n",
      "+--------------+------+-------------------+--------------------+-----+\n",
      "only showing top 10 rows\n",
      "\n"
     ]
    }
   ],
   "source": [
    "loans_df.select([\"Cluster_result\",\"Amount\",\"Total_Repayments__c\",\"Payment_Frequency__c\",\"count\"]).show(10)"
   ]
  },
  {
   "cell_type": "markdown",
   "id": "b9c00e8d-2a22-467e-a46a-8275b07e8a1d",
   "metadata": {
    "id": "b9c00e8d-2a22-467e-a46a-8275b07e8a1d"
   },
   "source": [
    "### Aggregating the loans per user (getting all loans for each user user)"
   ]
  },
  {
   "cell_type": "code",
   "execution_count": 8,
   "id": "1f3bbcf2-2094-4a5f-a1f9-4cc11caa6ecd",
   "metadata": {
    "id": "1f3bbcf2-2094-4a5f-a1f9-4cc11caa6ecd"
   },
   "outputs": [],
   "source": [
    "user_loans = loans_df.groupby(\"userId\").agg(F.collect_set(\"Cluster_result\").alias(\"loans\"))"
   ]
  },
  {
   "cell_type": "code",
   "execution_count": 10,
   "id": "3c03a160-ff69-437a-b5a7-771d7ded072e",
   "metadata": {
    "id": "3c03a160-ff69-437a-b5a7-771d7ded072e"
   },
   "outputs": [],
   "source": [
    "Actual_loans_taken = user_loans.toPandas().to_dict('records')"
   ]
  },
  {
   "cell_type": "markdown",
   "id": "29df3020-fddb-4fed-8476-d5f5fdc7787e",
   "metadata": {},
   "source": [
    "### EDA - Exploratory Data Analysis "
   ]
  },
  {
   "cell_type": "markdown",
   "id": "c8e16b8f-5128-4cac-9dd5-853ae81884da",
   "metadata": {},
   "source": [
    "<img src=\"https://editor.analyticsvidhya.com/uploads/24537Zoom-EDA.png\" height=500 width=\"500\" />"
   ]
  },
  {
   "cell_type": "code",
   "execution_count": 11,
   "id": "b17fa619-e0b5-459a-aa9b-1b30dfb9b411",
   "metadata": {
    "colab": {
     "base_uri": "https://localhost:8080/"
    },
    "id": "b17fa619-e0b5-459a-aa9b-1b30dfb9b411",
    "outputId": "9d5eec1e-cd5d-4d5d-d014-488ebbf8c76a"
   },
   "outputs": [
    {
     "name": "stdout",
     "output_type": "stream",
     "text": [
      "+-------+------------------+------------------+------------------+-----------------+--------------------------+--------------------+\n",
      "|summary|            userId|    Cluster_result|             count|           Amount|Number_Of_Loans_Granted__c|Num_Of_Loans_Paid__c|\n",
      "+-------+------------------+------------------+------------------+-----------------+--------------------------+--------------------+\n",
      "|  count|            481071|            481071|            481071|           481071|                    481071|              481071|\n",
      "|   mean|24326.531557711856|11.568618769370842|1.6787376499518782|861.5759420127174|        11.976535688079306|  11.937926002606684|\n",
      "| stddev| 15297.49656622274| 8.303280980759853|0.8991013265350597|809.0576736930908|         8.181979971617142|   8.305027934063407|\n",
      "|    min|                 1|                 1|                 0|              100|                         0|                   3|\n",
      "|    max|             59174|                38|                 8|             5000|                        73|                  73|\n",
      "+-------+------------------+------------------+------------------+-----------------+--------------------------+--------------------+\n",
      "\n"
     ]
    }
   ],
   "source": [
    "loans_df.select([\"userId\",\"Cluster_result\",\"count\",\"Amount\",\"Number_Of_Loans_Granted__c\",\"Num_Of_Loans_Paid__c\"]).describe().show()"
   ]
  },
  {
   "cell_type": "markdown",
   "id": "79c26c2f-a109-404a-8bed-23d9f9f2e7aa",
   "metadata": {
    "id": "879b0ed5-5a6a-4f4f-a02a-1ef3be15bd8d"
   },
   "source": [
    "#### Plotting the Frequnecy of Count(Ratings)"
   ]
  },
  {
   "cell_type": "code",
   "execution_count": 12,
   "id": "8e20cc21-d8fc-478f-ae00-442e698e0c7b",
   "metadata": {
    "colab": {
     "base_uri": "https://localhost:8080/",
     "height": 472
    },
    "id": "8e20cc21-d8fc-478f-ae00-442e698e0c7b",
    "outputId": "2b35959a-6515-4167-f6fe-77670bdf5621"
   },
   "outputs": [
    {
     "data": {
      "image/png": "[encoded data removed]",
      "text/plain": [
       "<Figure size 640x480 with 1 Axes>"
      ]
     },
     "metadata": {},
     "output_type": "display_data"
    }
   ],
   "source": [
    "hist_data  = loans_df.toPandas()\n",
    "\n",
    "hist_data['count'].hist()\n",
    "plt.xlabel(\"count\")\n",
    "plt.ylabel(\"Frequency\")\n",
    "plt.title(f\"Histogram of count\")\n",
    "plt.show()"
   ]
  },
  {
   "cell_type": "code",
   "execution_count": 27,
   "id": "c26920fa-9008-4bb7-a49f-696a18c18d75",
   "metadata": {},
   "outputs": [
    {
     "data": {
      "image/png": "[encoded data removed]",
      "text/plain": [
       "<Figure size 640x480 with 1 Axes>"
      ]
     },
     "metadata": {},
     "output_type": "display_data"
    }
   ],
   "source": [
    "hist_data['Amount'].hist(bins=38)\n",
    "plt.xlabel(\"Amount\")\n",
    "plt.ylabel(\"Frequency\")\n",
    "plt.title(f\"Histogram of count\")\n",
    "plt.savefig(\"Histogram of Amount.png\")            \n",
    "plt.show()"
   ]
  },
  {
   "cell_type": "markdown",
   "id": "933367fb-a834-46ad-956d-50aa18f5dcac",
   "metadata": {},
   "source": [
    "#### Counting the No. of user & No. of Loans & No. of Explicitely Created Loan Id (Clustered Loan Id's)"
   ]
  },
  {
   "cell_type": "code",
   "execution_count": 14,
   "id": "93606394-8fb4-4d30-8235-c8e1cdb15a13",
   "metadata": {
    "colab": {
     "base_uri": "https://localhost:8080/"
    },
    "id": "93606394-8fb4-4d30-8235-c8e1cdb15a13",
    "outputId": "a22f27c8-e289-4239-c523-26008a1dbcd1"
   },
   "outputs": [
    {
     "name": "stdout",
     "output_type": "stream",
     "text": [
      "Number of unique loanId_format: 38\n",
      "Number of unique Loan Id: 407389\n"
     ]
    }
   ],
   "source": [
    "# Count the number of unique items\n",
    "num_unique_loan_id_format = loans_df.select('Cluster_result').distinct().count()\n",
    "print(f\"Number of unique loanId_format: {num_unique_loan_id_format}\")\n",
    "\n",
    "# Count the number of unique users\n",
    "num_unique_id = loans_df.select('Id').distinct().count()\n",
    "print(f\"Number of unique Loan Id: {num_unique_id}\")"
   ]
  },
  {
   "cell_type": "code",
   "execution_count": 15,
   "id": "aa9f871b-ee01-470a-af88-09d50dc228cb",
   "metadata": {
    "colab": {
     "base_uri": "https://localhost:8080/"
    },
    "id": "aa9f871b-ee01-470a-af88-09d50dc228cb",
    "outputId": "b65a41c3-e5d6-45f7-c51d-197262023df3"
   },
   "outputs": [
    {
     "name": "stdout",
     "output_type": "stream",
     "text": [
      "Number of unique users: 59158\n"
     ]
    }
   ],
   "source": [
    "# Count the number of unique items\n",
    "tmp = loans_df.select('userId').distinct().count()\n",
    "print(f\"Number of unique users: {tmp}\")"
   ]
  },
  {
   "cell_type": "markdown",
   "id": "d8329935-38de-4370-bb9e-3d3f584b7331",
   "metadata": {},
   "source": [
    "#### Values of count(Rating) Column."
   ]
  },
  {
   "cell_type": "code",
   "execution_count": 16,
   "id": "41d386c0-47de-457f-a0f1-4efb4f9ff850",
   "metadata": {
    "colab": {
     "base_uri": "https://localhost:8080/"
    },
    "id": "41d386c0-47de-457f-a0f1-4efb4f9ff850",
    "outputId": "d7e9b873-14c7-44f8-f496-d6fc7871cc10"
   },
   "outputs": [
    {
     "name": "stdout",
     "output_type": "stream",
     "text": [
      "Distinct values of count:\n",
      "+-----+\n",
      "|count|\n",
      "+-----+\n",
      "|    0|\n",
      "|    1|\n",
      "|    2|\n",
      "|    3|\n",
      "|    4|\n",
      "|    5|\n",
      "|    6|\n",
      "|    7|\n",
      "|    8|\n",
      "+-----+\n",
      "\n"
     ]
    }
   ],
   "source": [
    "print('Distinct values of count:')\n",
    "loans_df.select('count').distinct().orderBy(\"count\").show()"
   ]
  },
  {
   "cell_type": "markdown",
   "id": "6ea6197c-53b9-4c06-a20d-1e1f2233d371",
   "metadata": {
    "id": "6ea6197c-53b9-4c06-a20d-1e1f2233d371"
   },
   "source": [
    "### Converting the dataset into train and validation split."
   ]
  },
  {
   "cell_type": "code",
   "execution_count": 17,
   "id": "25b7a938-17f5-460f-a3bf-78ebd6628477",
   "metadata": {
    "colab": {
     "base_uri": "https://localhost:8080/"
    },
    "id": "25b7a938-17f5-460f-a3bf-78ebd6628477",
    "outputId": "ca050fbb-ec36-449a-a158-bd295d61f4c7"
   },
   "outputs": [
    {
     "name": "stdout",
     "output_type": "stream",
     "text": [
      "+--------------+-----+------+\n",
      "|Cluster_result|count|Amount|\n",
      "+--------------+-----+------+\n",
      "|             1|    1|   150|\n",
      "|             1|    1|   100|\n",
      "|             1|    1|   100|\n",
      "|             1|    1|   100|\n",
      "|             1|    1|   100|\n",
      "|             1|    1|   100|\n",
      "|             1|    1|   150|\n",
      "|             1|    1|   100|\n",
      "|             1|    1|   100|\n",
      "|             1|    1|   100|\n",
      "+--------------+-----+------+\n",
      "only showing top 10 rows\n",
      "\n"
     ]
    }
   ],
   "source": [
    "# we have to use 3 columns or features to put into the ALs Model.\n",
    "loans_df.select([\"Cluster_result\",\"count\",\"Amount\"]).show(10)"
   ]
  },
  {
   "cell_type": "code",
   "execution_count": 18,
   "id": "471dc8a3-2474-41c2-a4c2-d3f09756df0d",
   "metadata": {
    "colab": {
     "base_uri": "https://localhost:8080/"
    },
    "id": "471dc8a3-2474-41c2-a4c2-d3f09756df0d",
    "outputId": "52665e11-2fa3-44d2-a6ec-2ca780e2ed12"
   },
   "outputs": [
    {
     "data": {
      "text/plain": [
       "DataFrame[Id: string, AccountID: string, Number_Of_Loans_Granted__c: int, Num_Of_Loans_Paid__c: int, Purpose_of_Loan__c: string, Total_Repayments__c: int, Amount: int, Term_in_Weeks__c: double, Payment_Frequency__c: string, StageName: string, Applicant Age: int, summary_income: double, summary_income_cv: double, city: string, state: string, Country: string, userId: int, loanId: int, count: int, Cluster_result: int]"
      ]
     },
     "execution_count": 18,
     "metadata": {},
     "output_type": "execute_result"
    }
   ],
   "source": [
    "train, validation = loans_df.randomSplit([0.8, 0.2])\n",
    "train.cache()\n",
    "validation.cache()"
   ]
  },
  {
   "cell_type": "code",
   "execution_count": 19,
   "id": "b2ad213d-bf88-4d40-b43e-609a301116fe",
   "metadata": {
    "colab": {
     "base_uri": "https://localhost:8080/"
    },
    "id": "b2ad213d-bf88-4d40-b43e-609a301116fe",
    "outputId": "6f47e580-7040-4096-a3cd-b17a451c7b0d"
   },
   "outputs": [
    {
     "name": "stdout",
     "output_type": "stream",
     "text": [
      "+------+------+--------------+-----+------+-------------------+\n",
      "|userId|loanId|Cluster_result|count|Amount|Total_Repayments__c|\n",
      "+------+------+--------------+-----+------+-------------------+\n",
      "| 25215|     5|             2|    5|   200|                  5|\n",
      "|   150|    30|             4|    1|   300|                  2|\n",
      "| 24982|    45|             2|    3|   200|                  2|\n",
      "|   160|    49|             4|    3|   300|                  2|\n",
      "|   160|    49|             4|    3|   300|                  2|\n",
      "|   181|    81|             2|    3|   200|                  5|\n",
      "|     5|   110|             3|    2|   250|                  5|\n",
      "| 24675|   131|             2|    5|   200|                  4|\n",
      "|    17|   136|             4|    2|   300|                 10|\n",
      "| 24343|   140|             4|    1|   300|                  2|\n",
      "|    21|   153|             5|    2|   350|                  4|\n",
      "| 24742|   157|             4|    1|   300|                  5|\n",
      "| 24734|   159|             4|    1|   300|                  3|\n",
      "|    27|   164|             5|    1|   350|                  4|\n",
      "|    35|   172|             2|    2|   200|                  2|\n",
      "|    37|   175|             4|    3|   300|                  4|\n",
      "| 24777|   177|             4|    3|   300|                  4|\n",
      "| 24840|   185|             2|    1|   200|                  4|\n",
      "| 23398|   188|             2|    2|   200|                  5|\n",
      "| 24733|   210|             4|    4|   300|                  2|\n",
      "+------+------+--------------+-----+------+-------------------+\n",
      "only showing top 20 rows\n",
      "\n"
     ]
    }
   ],
   "source": [
    "validation.select([\"userId\",\"loanId\",\"Cluster_result\",\"count\",\"Amount\",\"Total_Repayments__c\"]).show()"
   ]
  },
  {
   "cell_type": "code",
   "execution_count": 20,
   "id": "b4ec2ccf-e2df-4169-82d1-84b24e8cdf75",
   "metadata": {
    "colab": {
     "base_uri": "https://localhost:8080/"
    },
    "id": "b4ec2ccf-e2df-4169-82d1-84b24e8cdf75",
    "outputId": "f19eaff2-a5e0-49f3-f62e-b001cff34f4f"
   },
   "outputs": [
    {
     "name": "stdout",
     "output_type": "stream",
     "text": [
      "root\n",
      " |-- Id: string (nullable = true)\n",
      " |-- AccountID: string (nullable = true)\n",
      " |-- Number_Of_Loans_Granted__c: integer (nullable = true)\n",
      " |-- Num_Of_Loans_Paid__c: integer (nullable = true)\n",
      " |-- Purpose_of_Loan__c: string (nullable = true)\n",
      " |-- Total_Repayments__c: integer (nullable = true)\n",
      " |-- Amount: integer (nullable = true)\n",
      " |-- Term_in_Weeks__c: double (nullable = true)\n",
      " |-- Payment_Frequency__c: string (nullable = true)\n",
      " |-- StageName: string (nullable = true)\n",
      " |-- Applicant Age: integer (nullable = true)\n",
      " |-- summary_income: double (nullable = true)\n",
      " |-- summary_income_cv: double (nullable = true)\n",
      " |-- city: string (nullable = true)\n",
      " |-- state: string (nullable = true)\n",
      " |-- Country: string (nullable = true)\n",
      " |-- userId: integer (nullable = true)\n",
      " |-- loanId: integer (nullable = true)\n",
      " |-- count: integer (nullable = true)\n",
      " |-- Cluster_result: integer (nullable = true)\n",
      "\n"
     ]
    }
   ],
   "source": [
    "loans_df.printSchema()"
   ]
  },
  {
   "cell_type": "code",
   "execution_count": 21,
   "id": "bd5cb856-9cc1-4622-9b76-9b600beb855f",
   "metadata": {},
   "outputs": [],
   "source": [
    "from pyspark.ml import Pipeline\n",
    "from pyspark.ml.recommendation import ALS\n",
    "from pyspark.ml.evaluation import RegressionEvaluator\n",
    "from pyspark.ml.tuning import CrossValidator, ParamGridBuilder"
   ]
  },
  {
   "cell_type": "code",
   "execution_count": 23,
   "id": "dc519eb6-38a4-45d7-8b5a-a0f16a0a3afc",
   "metadata": {},
   "outputs": [
    {
     "name": "stdout",
     "output_type": "stream",
     "text": [
      "Root Mean Squared Error (RMSE): 0.035893933551779986\n"
     ]
    }
   ],
   "source": [
    "# Step 1: Define the ALS model\n",
    "als = ALS(userCol='userId', itemCol='Cluster_result', ratingCol='count', seed=99,\n",
    "                           coldStartStrategy=\"drop\",nonnegative=True)\n",
    "# als = ALS(userCol=\"userId\", itemCol=\"movieId\", ratingCol=\"rating\", coldStartStrategy=\"drop\")\n",
    "\n",
    "# Step 2: Define the pipeline\n",
    "pipeline = Pipeline(stages=[als])\n",
    "\n",
    "\n",
    "# Step 3: Define the parameter grid for hyperparameter tuning\n",
    "param_grid = ParamGridBuilder() \\\n",
    "    .addGrid(als.rank,  [8, 10, 20, 30, 40, 60]) \\\n",
    "    .addGrid(als.regParam, [0.001, 0.01, 0.05, 0.1, 0.2]) \\\n",
    "    .build()\n",
    "\n",
    "# Step 4: Define the evaluator\n",
    "evaluator = RegressionEvaluator(metricName=\"rmse\", labelCol=\"count\", predictionCol=\"prediction\")\n",
    "\n",
    "# Step 5: Define the CrossValidator\n",
    "cross_validator = CrossValidator(estimator=pipeline,\n",
    "                                 estimatorParamMaps=param_grid,\n",
    "                                 evaluator=evaluator,\n",
    "                                 numFolds=10)\n",
    "\n",
    "# Step 6: Fit the CrossValidator on the training data\n",
    "final_model = cross_validator.fit(train)\n",
    "\n",
    "# Step 7: Make predictions on the test data\n",
    "predictions = final_model.transform(validation)\n",
    "\n",
    "# Step 8: Evaluate the model using RMSE\n",
    "rmse = evaluator.evaluate(predictions)\n",
    "\n",
    "print(\"Root Mean Squared Error (RMSE):\", rmse)\n"
   ]
  },
  {
   "cell_type": "raw",
   "id": "3fecf41b-aafd-4e74-a2d5-7ef82cba8cc2",
   "metadata": {
    "id": "c7cf3c57-11f2-46bd-b434-1cebf52a0c13"
   },
   "source": [
    "#OLD :  40 latent factors and regularization = 0.001\n",
    "#NEW: The best model has 8 latent factors and regularization = 0.001\n",
    "03 feb : The best model has 10 latent factors and regularization = 0.001\n",
    "08 feb : The best model has 20 latent factors and regularization = 0.01\n",
    "11 feb : The best model has 20 latent factors and regularization = 0.01\n",
    "12 feb : The best model has 60 latent factors and regularization = 0.01 : validation RMSE is 0.03137979806564294\n",
    "\n",
    "In general, a lower RMSE value indicates better model performance, as it signifies that the model's predictions are closer to the observed values. However, there is no fixed threshold for what constitutes a \"good\" or \"ideal\" RMSE value, as it depends on factors such as the nature of the data, the complexity of the problem, and the specific requirements of the application."
   ]
  },
  {
   "cell_type": "raw",
   "id": "57e9a57c-fe9f-49df-a73a-2c1fc25e9b93",
   "metadata": {
    "scrolled": true
   },
   "source": [
    "final_model.save(\"Recommendation_ALS_Model_OWN_LOAN_CLUSTER_STRATEGY\")"
   ]
  },
  {
   "cell_type": "markdown",
   "id": "bc2b0ef2-8126-4a7e-b2c9-49851bf63c18",
   "metadata": {
    "id": "bc2b0ef2-8126-4a7e-b2c9-49851bf63c18"
   },
   "source": [
    "## Predicting the results from validation data"
   ]
  },
  {
   "cell_type": "code",
   "execution_count": 25,
   "id": "57ba7905-f3e0-4a23-8b3d-0c41ffa5d0ca",
   "metadata": {
    "id": "57ba7905-f3e0-4a23-8b3d-0c41ffa5d0ca"
   },
   "outputs": [],
   "source": [
    "predictions = final_model.transform(validation)\n",
    "# predictions = predictions.withColumn(\"prediction\", expr(\"CASE WHEN prediction < 0 THEN 0 WHEN prediction > 9 THEN 9 ELSE prediction END\"))"
   ]
  },
  {
   "cell_type": "code",
   "execution_count": 26,
   "id": "6cd93785-db30-4571-b897-8ccf3d28e6fa",
   "metadata": {
    "colab": {
     "base_uri": "https://localhost:8080/"
    },
    "id": "6cd93785-db30-4571-b897-8ccf3d28e6fa",
    "outputId": "96d1432d-747d-42dd-9a7f-928f2ac2b98e"
   },
   "outputs": [
    {
     "name": "stdout",
     "output_type": "stream",
     "text": [
      "+------+------+-----+--------------+----------+\n",
      "|userId|loanId|count|Cluster_result|prediction|\n",
      "+------+------+-----+--------------+----------+\n",
      "|    10|   127|    4|             2| 3.9131937|\n",
      "|    10|  2535|    4|             2| 3.9131937|\n",
      "|    10|  4994|    4|             4| 3.9433255|\n",
      "|    10|137071|    4|             4| 3.9433255|\n",
      "|    10|150192|    4|             3| 3.9256163|\n",
      "|    10|196969|    4|             2| 3.9131937|\n",
      "|    10| 12340|    4|             6|  3.967088|\n",
      "|    10| 32216|    4|             8| 3.9780626|\n",
      "|    10|248485|    4|             8| 3.9780626|\n",
      "|    10| 42894|    4|            12| 4.0086994|\n",
      "+------+------+-----+--------------+----------+\n",
      "\n"
     ]
    }
   ],
   "source": [
    "predictions.filter(predictions.userId == 10).select(\"userId\", \"loanId\", \"count\", \"Cluster_result\", \"prediction\").show(20)"
   ]
  },
  {
   "cell_type": "markdown",
   "id": "ec61d4fc-bf4d-4d22-a160-2df1e5e19246",
   "metadata": {
    "id": "ec61d4fc-bf4d-4d22-a160-2df1e5e19246"
   },
   "source": [
    "## Error Evaluation with RMSE"
   ]
  },
  {
   "cell_type": "markdown",
   "id": "e2d55e52-4dec-48df-8df2-88866b499378",
   "metadata": {
    "id": "e2d55e52-4dec-48df-8df2-88866b499378"
   },
   "source": [
    "<img src=\"https://docs.oracle.com/en/cloud/saas/planning-budgeting-cloud/pfusu/img/insights_rmse_formula.jpg\" height=\"300\" width=\"300\" />"
   ]
  },
  {
   "cell_type": "code",
   "execution_count": 27,
   "id": "5e28740c-bd7f-4213-986a-04b0b8453f48",
   "metadata": {
    "colab": {
     "base_uri": "https://localhost:8080/"
    },
    "id": "5e28740c-bd7f-4213-986a-04b0b8453f48",
    "outputId": "919fe55b-832c-41b1-b13e-c65d2061fa3b"
   },
   "outputs": [
    {
     "name": "stdout",
     "output_type": "stream",
     "text": [
      "Root Mean Squared Error (RMSE) = 0.03137979806564294\n"
     ]
    }
   ],
   "source": [
    "# Evaluate the model using Root Mean Squared Error (RMSE)\n",
    "evaluator = RegressionEvaluator(metricName=\"rmse\", labelCol=\"count\", predictionCol=\"prediction\")\n",
    "rmse = evaluator.evaluate(predictions)\n",
    "print(\"Root Mean Squared Error (RMSE) = \" + str(rmse))"
   ]
  },
  {
   "cell_type": "markdown",
   "id": "c8069530-1743-4e8b-81de-d8726a15a25e",
   "metadata": {
    "id": "c8069530-1743-4e8b-81de-d8726a15a25e"
   },
   "source": [
    "## Recommendation of N users"
   ]
  },
  {
   "cell_type": "code",
   "execution_count": 28,
   "id": "5fbbfcf7-90ab-4c5e-a5e4-d781f369fb39",
   "metadata": {
    "id": "5fbbfcf7-90ab-4c5e-a5e4-d781f369fb39"
   },
   "outputs": [],
   "source": [
    "userRecommends = final_model.recommendForAllUsers(5)\n",
    "loanRecommends = final_model.recommendForAllItems(5)"
   ]
  },
  {
   "cell_type": "code",
   "execution_count": 29,
   "id": "ba1eaaf8-ecef-43e9-9070-e70c3c6d8315",
   "metadata": {
    "colab": {
     "base_uri": "https://localhost:8080/"
    },
    "id": "ba1eaaf8-ecef-43e9-9070-e70c3c6d8315",
    "outputId": "a0e7e3d1-e16a-4114-bc65-15e9715c18a7"
   },
   "outputs": [
    {
     "name": "stdout",
     "output_type": "stream",
     "text": [
      "root\n",
      " |-- userId: integer (nullable = false)\n",
      " |-- recommendations: array (nullable = true)\n",
      " |    |-- element: struct (containsNull = true)\n",
      " |    |    |-- Cluster_result: integer (nullable = true)\n",
      " |    |    |-- rating: float (nullable = true)\n",
      "\n"
     ]
    }
   ],
   "source": [
    "userRecommends.printSchema()"
   ]
  },
  {
   "cell_type": "code",
   "execution_count": 30,
   "id": "e1d49ac8-fae2-43c6-97dd-016464edf5ea",
   "metadata": {
    "colab": {
     "base_uri": "https://localhost:8080/"
    },
    "id": "e1d49ac8-fae2-43c6-97dd-016464edf5ea",
    "outputId": "05f7e327-fc70-4e45-f9f3-2b3bcd5401e3"
   },
   "outputs": [
    {
     "name": "stdout",
     "output_type": "stream",
     "text": [
      "root\n",
      " |-- Id: string (nullable = true)\n",
      " |-- AccountID: string (nullable = true)\n",
      " |-- Number_Of_Loans_Granted__c: integer (nullable = true)\n",
      " |-- Num_Of_Loans_Paid__c: integer (nullable = true)\n",
      " |-- Purpose_of_Loan__c: string (nullable = true)\n",
      " |-- Total_Repayments__c: integer (nullable = true)\n",
      " |-- Amount: integer (nullable = true)\n",
      " |-- Term_in_Weeks__c: double (nullable = true)\n",
      " |-- Payment_Frequency__c: string (nullable = true)\n",
      " |-- StageName: string (nullable = true)\n",
      " |-- Applicant Age: integer (nullable = true)\n",
      " |-- summary_income: double (nullable = true)\n",
      " |-- summary_income_cv: double (nullable = true)\n",
      " |-- city: string (nullable = true)\n",
      " |-- state: string (nullable = true)\n",
      " |-- Country: string (nullable = true)\n",
      " |-- userId: integer (nullable = true)\n",
      " |-- loanId: integer (nullable = true)\n",
      " |-- count: integer (nullable = true)\n",
      " |-- Cluster_result: integer (nullable = true)\n",
      "\n"
     ]
    }
   ],
   "source": [
    "validation.printSchema()"
   ]
  },
  {
   "cell_type": "code",
   "execution_count": 31,
   "id": "8a0d5b92-658f-4367-b041-5ce8cf534b7a",
   "metadata": {},
   "outputs": [
    {
     "data": {
      "text/plain": [
       "96643"
      ]
     },
     "execution_count": 31,
     "metadata": {},
     "output_type": "execute_result"
    }
   ],
   "source": [
    "validation.count()"
   ]
  },
  {
   "cell_type": "markdown",
   "id": "b0c44455-54f9-4bc2-834e-6a6a123cba2e",
   "metadata": {
    "id": "b0c44455-54f9-4bc2-834e-6a6a123cba2e"
   },
   "source": [
    "## ALS Model Evaluation"
   ]
  },
  {
   "cell_type": "code",
   "execution_count": 32,
   "id": "7fd677b6-2055-4995-bd1d-7367cbc3d903",
   "metadata": {
    "id": "7fd677b6-2055-4995-bd1d-7367cbc3d903"
   },
   "outputs": [],
   "source": [
    "# Assuming you have a DataFrame 'validation_data' containing the ground truth interactions\n",
    "# and a DataFrame 'recommendations' containing the top-N recommendations generated by the ALS model\n",
    "\n",
    "# Join recommendations with ground truth data to identify true positives\n",
    "true_positives = predictions.join(validation, ['userId', 'Cluster_result'], 'inner')"
   ]
  },
  {
   "cell_type": "code",
   "execution_count": 33,
   "id": "33526f67-bf22-491e-9aec-b02d8ae9eb9f",
   "metadata": {
    "id": "33526f67-bf22-491e-9aec-b02d8ae9eb9f"
   },
   "outputs": [],
   "source": [
    "# Calculate the number of true positives per user\n",
    "tp_per_user = true_positives.groupBy('userId').agg(expr('count(Cluster_result) as true_positives'))"
   ]
  },
  {
   "cell_type": "code",
   "execution_count": 34,
   "id": "1312c8e0-c174-4d01-b079-c48d12cbd582",
   "metadata": {
    "id": "1312c8e0-c174-4d01-b079-c48d12cbd582"
   },
   "outputs": [],
   "source": [
    " # Calculate the total number of relevant items per user in the ground truth data\n",
    "relevant_per_user = validation.groupBy('userId').agg(expr('count(Cluster_result) as relevant'))"
   ]
  },
  {
   "cell_type": "code",
   "execution_count": 35,
   "id": "331e28a0-b31f-4ca7-b426-6aaa869ca599",
   "metadata": {
    "id": "331e28a0-b31f-4ca7-b426-6aaa869ca599"
   },
   "outputs": [],
   "source": [
    "# Calculate Precision per user\n",
    "precision_per_user = tp_per_user.join(relevant_per_user, 'userId', 'inner') \\\n",
    "    .selectExpr('userId', 'true_positives / relevant as precision')"
   ]
  },
  {
   "cell_type": "code",
   "execution_count": 36,
   "id": "6a7d7e11-6e29-41a3-84b7-20b42d84e5da",
   "metadata": {
    "id": "6a7d7e11-6e29-41a3-84b7-20b42d84e5da"
   },
   "outputs": [],
   "source": [
    "# Calculate Recall per user\n",
    "recall_per_user = tp_per_user.join(relevant_per_user, 'userId', 'inner') \\\n",
    "    .selectExpr('userId', 'true_positives / relevant as recall')"
   ]
  },
  {
   "cell_type": "code",
   "execution_count": 37,
   "id": "4fa119c7-560c-4eea-83ca-246357a53682",
   "metadata": {
    "id": "4fa119c7-560c-4eea-83ca-246357a53682"
   },
   "outputs": [],
   "source": [
    "# Calculate F1-score per user\n",
    "f1_score_per_user = precision_per_user.join(recall_per_user, 'userId', 'inner') \\\n",
    "    .selectExpr('userId', '(2 * precision * recall) / (precision + recall) as f1_score')"
   ]
  },
  {
   "cell_type": "code",
   "execution_count": 38,
   "id": "a855a9fa-c9d4-4866-be4b-bbcbb1846b33",
   "metadata": {
    "id": "a855a9fa-c9d4-4866-be4b-bbcbb1846b33"
   },
   "outputs": [],
   "source": [
    "# Calculate overall Precision, Recall, and F1-score\n",
    "overall_precision = precision_per_user.agg({'precision': 'avg'}).collect()[0][0]\n",
    "overall_recall = recall_per_user.agg({'recall': 'avg'}).collect()[0][0]\n",
    "overall_f1_score = f1_score_per_user.agg({'f1_score': 'avg'}).collect()[0][0]\n"
   ]
  },
  {
   "cell_type": "code",
   "execution_count": 39,
   "id": "837dfdff-a6fa-4a8f-961c-c7eb98d16cb7",
   "metadata": {
    "colab": {
     "base_uri": "https://localhost:8080/"
    },
    "id": "837dfdff-a6fa-4a8f-961c-c7eb98d16cb7",
    "outputId": "d34ff23a-9a29-4d1b-e641-e38f8a299fbe"
   },
   "outputs": [
    {
     "name": "stdout",
     "output_type": "stream",
     "text": [
      "Overall Precision: 1.2880390991044623\n",
      "Overall Recall: 1.2880390991044623\n",
      "Overall F1-score: 1.2880390991044612\n"
     ]
    }
   ],
   "source": [
    "\n",
    "# Print the results\n",
    "print(\"Overall Precision:\", overall_precision)\n",
    "print(\"Overall Recall:\", overall_recall)\n",
    "print(\"Overall F1-score:\", overall_f1_score)\n"
   ]
  },
  {
   "cell_type": "code",
   "execution_count": 40,
   "id": "853c846f-1b77-4f36-b7ee-7f5ca2fb0bd6",
   "metadata": {
    "id": "853c846f-1b77-4f36-b7ee-7f5ca2fb0bd6"
   },
   "outputs": [],
   "source": [
    "evaluator = RegressionEvaluator(metricName=\"mae\", labelCol=\"count\", predictionCol=\"prediction\")\n",
    "mae = evaluator.evaluate(predictions)"
   ]
  },
  {
   "cell_type": "code",
   "execution_count": 41,
   "id": "a9f7a090-1055-4557-acc3-c688485fa86a",
   "metadata": {},
   "outputs": [
    {
     "data": {
      "text/plain": [
       "('The Mean Absolute Error is :', 0.022825613020757824)"
      ]
     },
     "execution_count": 41,
     "metadata": {},
     "output_type": "execute_result"
    }
   ],
   "source": [
    "\"The Mean Absolute Error is :\",mae"
   ]
  },
  {
   "cell_type": "markdown",
   "id": "2e334b00-3dd4-4be8-8d57-180e6e60af92",
   "metadata": {
    "id": "2e334b00-3dd4-4be8-8d57-180e6e60af92"
   },
   "source": [
    "## User Factors and Item Factors to calculate the cosine Similarity"
   ]
  },
  {
   "cell_type": "code",
   "execution_count": 42,
   "id": "d38ab8b5-cb23-4a04-93f2-741727bd1303",
   "metadata": {
    "id": "d38ab8b5-cb23-4a04-93f2-741727bd1303"
   },
   "outputs": [],
   "source": [
    "userFactors = final_model.userFactors\n",
    "itemFactors = final_model.itemFactors"
   ]
  },
  {
   "cell_type": "code",
   "execution_count": 43,
   "id": "56ef610b-520c-48f1-8aa6-46fe79a300b9",
   "metadata": {},
   "outputs": [
    {
     "name": "stdout",
     "output_type": "stream",
     "text": [
      "58832\n",
      "root\n",
      " |-- id: integer (nullable = false)\n",
      " |-- features: array (nullable = true)\n",
      " |    |-- element: float (containsNull = false)\n",
      "\n",
      "Priting the Schema of userFactors None\n"
     ]
    }
   ],
   "source": [
    "print(userFactors.count())\n",
    "print(\"Priting the Schema of userFactors\",userFactors.printSchema())"
   ]
  },
  {
   "cell_type": "markdown",
   "id": "1589f64a-0d7d-4508-8dbe-37ff54ca0458",
   "metadata": {
    "id": "1589f64a-0d7d-4508-8dbe-37ff54ca0458"
   },
   "source": [
    "## Calculate cosine similarity:"
   ]
  },
  {
   "cell_type": "markdown",
   "id": "4e57c89c-33b0-4005-94cb-c8e7bc86fc1f",
   "metadata": {
    "id": "4e57c89c-33b0-4005-94cb-c8e7bc86fc1f"
   },
   "source": [
    "### user-User Cosine Similarity code"
   ]
  },
  {
   "cell_type": "markdown",
   "id": "aaa1fcf4-f406-442a-9be1-4f6860bcdb83",
   "metadata": {
    "id": "aaa1fcf4-f406-442a-9be1-4f6860bcdb83"
   },
   "source": [
    "<img src=\"https://datascience103579984.files.wordpress.com/2020/01/13-12.png\" height=\"600\" width=\"600\" />"
   ]
  },
  {
   "cell_type": "code",
   "execution_count": 48,
   "id": "76bee01e-c55e-4472-9e0e-d5bf2b0c8157",
   "metadata": {
    "id": "76bee01e-c55e-4472-9e0e-d5bf2b0c8157"
   },
   "outputs": [],
   "source": [
    "def cosine_similarity(u1, u2):\n",
    "    \"\"\"Calculates cosine similarity between two user factors.\"\"\"\n",
    "    # Convert lists to DenseVectors before performing operations\n",
    "    u1_vector = Vectors.dense(u1)\n",
    "    u2_vector = Vectors.dense(u2)\n",
    "    return u1_vector.dot(u2_vector) / (u1_vector.norm(p=2) * u2_vector.norm(p=2))"
   ]
  },
  {
   "cell_type": "code",
   "execution_count": 49,
   "id": "e5da4c16-8350-4580-a7cf-b872356d231c",
   "metadata": {
    "colab": {
     "base_uri": "https://localhost:8080/"
    },
    "id": "e5da4c16-8350-4580-a7cf-b872356d231c",
    "outputId": "939a0bc6-074c-4c33-fc7d-bc032f85579f"
   },
   "outputs": [
    {
     "name": "stdout",
     "output_type": "stream",
     "text": [
      "Cosine similarity between users 10 and 20: 0.9979420048061138\n"
     ]
    }
   ],
   "source": [
    "# Example usage\n",
    "user1_id = 10\n",
    "user2_id = 20\n",
    "user1_factors = userFactors.filter(userFactors.id == user1_id ).collect()[0][1]\n",
    "user2_factors = userFactors.filter(userFactors.id == user2_id ).collect()[0][1]\n",
    "# user1_factors = userFactors.to_dense().rdd.filter(lambda x: x[0] == user1_id).collect()[0][1]\n",
    "# user2_factors = userFactors.to_dense().rdd.filter(lambda x: x[0] == user2_id).collect()[0][1]\n",
    "similarity = cosine_similarity(user1_factors, user2_factors)\n",
    "print(f\"Cosine similarity between users {user1_id} and {user2_id}: {similarity}\")\n"
   ]
  },
  {
   "cell_type": "markdown",
   "id": "37946b00-6e3f-498c-91ba-d722b5785b9c",
   "metadata": {
    "id": "37946b00-6e3f-498c-91ba-d722b5785b9c"
   },
   "source": [
    "### User-Item Cosine Similarity code"
   ]
  },
  {
   "cell_type": "code",
   "execution_count": 50,
   "id": "c8f1a8db-172b-4122-9030-9e5c40162fc6",
   "metadata": {
    "colab": {
     "base_uri": "https://localhost:8080/"
    },
    "id": "c8f1a8db-172b-4122-9030-9e5c40162fc6",
    "outputId": "d2a833a7-6024-41d7-adbb-ed9b227dad5d"
   },
   "outputs": [
    {
     "name": "stdout",
     "output_type": "stream",
     "text": [
      "Cosine similarity between users 10 and 1: 0.9924888298401526\n"
     ]
    }
   ],
   "source": [
    "# Example usage\n",
    "user1_id = 10\n",
    "item_id = 1\n",
    "user_factors = userFactors.filter(userFactors.id == user1_id ).collect()[0][1]\n",
    "item_factors = itemFactors.filter(itemFactors.id == item_id ).collect()[0][1]\n",
    "\n",
    "user_item_similarity = cosine_similarity(user_factors, item_factors)\n",
    "print(f\"Cosine similarity between users {user1_id} and {item_id}: {user_item_similarity}\")"
   ]
  },
  {
   "cell_type": "markdown",
   "id": "a8f99d3c-a41b-45a5-a1f3-a754a40d86ef",
   "metadata": {
    "id": "a8f99d3c-a41b-45a5-a1f3-a754a40d86ef"
   },
   "source": [
    "###  Cosine Similarity of user 10 with all Loans"
   ]
  },
  {
   "cell_type": "code",
   "execution_count": 51,
   "id": "f8edb118-b30d-428a-a1b0-86de708ae480",
   "metadata": {
    "id": "f8edb118-b30d-428a-a1b0-86de708ae480"
   },
   "outputs": [],
   "source": [
    "TopCosineLoanforuser10 = []\n",
    "for item in range(itemFactors.count()):\n",
    "    item_id = itemFactors.select(\"Id\").sort(\"Id\").take(itemFactors.count())[item][0]\n",
    "    user1_id = 10\n",
    "    user_factors = userFactors.filter(userFactors.id == user1_id ).collect()[0][1]\n",
    "    item_factors = itemFactors.filter(itemFactors.id == item_id ).collect()[0][1]\n",
    "\n",
    "\n",
    "    user_item_similarity = cosine_similarity(user_factors, item_factors)\n",
    "    TopCosineLoanforuser10.append({\"userID\":user1_id,\"LoanId\":item_id,\"CosineSimilarity\":user_item_similarity})"
   ]
  },
  {
   "cell_type": "code",
   "execution_count": 52,
   "id": "a65ec1b5-4c8a-45f3-81ec-ac03d5ebc44a",
   "metadata": {
    "colab": {
     "base_uri": "https://localhost:8080/"
    },
    "id": "a65ec1b5-4c8a-45f3-81ec-ac03d5ebc44a",
    "outputId": "de66de4c-2c38-4324-8fb1-f48a7016f2d5"
   },
   "outputs": [
    {
     "data": {
      "text/plain": [
       "[{'userID': 10, 'LoanId': 3, 'CosineSimilarity': 0.9999867070854686},\n",
       " {'userID': 10, 'LoanId': 4, 'CosineSimilarity': 0.9998156948845781},\n",
       " {'userID': 10, 'LoanId': 5, 'CosineSimilarity': 0.9996814326947069},\n",
       " {'userID': 10, 'LoanId': 2, 'CosineSimilarity': 0.9996760993427464},\n",
       " {'userID': 10, 'LoanId': 7, 'CosineSimilarity': 0.9984618451604321},\n",
       " {'userID': 10, 'LoanId': 6, 'CosineSimilarity': 0.9981264894606087},\n",
       " {'userID': 10, 'LoanId': 8, 'CosineSimilarity': 0.997942004939733},\n",
       " {'userID': 10, 'LoanId': 9, 'CosineSimilarity': 0.9961673507718762},\n",
       " {'userID': 10, 'LoanId': 25, 'CosineSimilarity': 0.9942626029948445},\n",
       " {'userID': 10, 'LoanId': 11, 'CosineSimilarity': 0.9937331062735268},\n",
       " {'userID': 10, 'LoanId': 10, 'CosineSimilarity': 0.9931621103375429},\n",
       " {'userID': 10, 'LoanId': 12, 'CosineSimilarity': 0.9926674872275162},\n",
       " {'userID': 10, 'LoanId': 1, 'CosineSimilarity': 0.9924888298401526},\n",
       " {'userID': 10, 'LoanId': 14, 'CosineSimilarity': 0.9910853861522451},\n",
       " {'userID': 10, 'LoanId': 13, 'CosineSimilarity': 0.9910668620206118},\n",
       " {'userID': 10, 'LoanId': 16, 'CosineSimilarity': 0.9904570099734956},\n",
       " {'userID': 10, 'LoanId': 15, 'CosineSimilarity': 0.9900442955360562},\n",
       " {'userID': 10, 'LoanId': 17, 'CosineSimilarity': 0.9887962694805565},\n",
       " {'userID': 10, 'LoanId': 18, 'CosineSimilarity': 0.9867805464377257},\n",
       " {'userID': 10, 'LoanId': 20, 'CosineSimilarity': 0.9866320737034557},\n",
       " {'userID': 10, 'LoanId': 19, 'CosineSimilarity': 0.985009321111119},\n",
       " {'userID': 10, 'LoanId': 21, 'CosineSimilarity': 0.9820437498979302},\n",
       " {'userID': 10, 'LoanId': 22, 'CosineSimilarity': 0.9799517058129384},\n",
       " {'userID': 10, 'LoanId': 28, 'CosineSimilarity': 0.9754452148226597},\n",
       " {'userID': 10, 'LoanId': 26, 'CosineSimilarity': 0.975202243547327},\n",
       " {'userID': 10, 'LoanId': 29, 'CosineSimilarity': 0.9721709374566686},\n",
       " {'userID': 10, 'LoanId': 23, 'CosineSimilarity': 0.9721100120312539},\n",
       " {'userID': 10, 'LoanId': 31, 'CosineSimilarity': 0.9704573722986587},\n",
       " {'userID': 10, 'LoanId': 33, 'CosineSimilarity': 0.969961716167521},\n",
       " {'userID': 10, 'LoanId': 27, 'CosineSimilarity': 0.9693224323986431},\n",
       " {'userID': 10, 'LoanId': 30, 'CosineSimilarity': 0.9661301646390525},\n",
       " {'userID': 10, 'LoanId': 24, 'CosineSimilarity': 0.9625864557641494},\n",
       " {'userID': 10, 'LoanId': 36, 'CosineSimilarity': 0.9598886616469683},\n",
       " {'userID': 10, 'LoanId': 32, 'CosineSimilarity': 0.95837443003765},\n",
       " {'userID': 10, 'LoanId': 35, 'CosineSimilarity': 0.9533445542083776},\n",
       " {'userID': 10, 'LoanId': 34, 'CosineSimilarity': 0.9496776823139116},\n",
       " {'userID': 10, 'LoanId': 37, 'CosineSimilarity': 0.9475082906951515},\n",
       " {'userID': 10, 'LoanId': 38, 'CosineSimilarity': 0.9437329145061382}]"
      ]
     },
     "execution_count": 52,
     "metadata": {},
     "output_type": "execute_result"
    }
   ],
   "source": [
    "sorted_Cosine_list = sorted(TopCosineLoanforuser10, key=operator.itemgetter('CosineSimilarity'),reverse=True)\n",
    "sorted_Cosine_list"
   ]
  },
  {
   "cell_type": "markdown",
   "id": "e7acbc72-5db5-4367-9c4b-419f10a4f273",
   "metadata": {
    "id": "e7acbc72-5db5-4367-9c4b-419f10a4f273"
   },
   "source": [
    "### Cosine Similarity of all users with all loans"
   ]
  },
  {
   "cell_type": "code",
   "execution_count": 53,
   "id": "UVPowXhyAjkj",
   "metadata": {
    "id": "UVPowXhyAjkj"
   },
   "outputs": [],
   "source": [
    "# Collect all user factors into a dictionary\n",
    "user_factors_dict = userFactors.select(\"id\", \"features\").rdd.collectAsMap()\n",
    "\n",
    "# Broadcast the user factors dictionary to all workers\n",
    "broadcast_user_factors = spark.sparkContext.broadcast(user_factors_dict)\n",
    "\n",
    "# Collect all item factors into a dictionary\n",
    "item_factors_dict = itemFactors.select(\"id\", \"features\").rdd.collectAsMap()\n",
    "\n",
    "# Broadcast the item factors dictionary to all workers\n",
    "broadcast_item_factors = spark.sparkContext.broadcast(item_factors_dict)"
   ]
  },
  {
   "cell_type": "code",
   "execution_count": 54,
   "id": "wP3GLSUnAzMK",
   "metadata": {
    "id": "wP3GLSUnAzMK"
   },
   "outputs": [],
   "source": [
    "# Initially the code is like this !!\n",
    "def cosine_similarity(u1, u2):\n",
    "    \"\"\"Calculates cosine similarity between two user factors.\"\"\"\n",
    "    # Convert lists to DenseVectors before performing operations\n",
    "    u1_vector = Vectors.dense(u1)\n",
    "    u2_vector = Vectors.dense(u2)\n",
    "    return u1_vector.dot(u2_vector) / (u1_vector.norm(p=2) * u2_vector.norm(p=2))"
   ]
  },
  {
   "cell_type": "markdown",
   "id": "dncZNvKBBSYS",
   "metadata": {
    "id": "dncZNvKBBSYS"
   },
   "source": [
    "def cosine_similarity(vec1, vec2):\n",
    "    dot_product = sum(v1 * v2 for v1, v2 in zip(vec1, vec2))\n",
    "    magnitude1 = sum(v ** 2 for v in vec1) ** 0.5\n",
    "    magnitude2 = sum(v ** 2 for v in vec2) ** 0.5\n",
    "    return dot_product / (magnitude1 * magnitude2)"
   ]
  },
  {
   "cell_type": "code",
   "execution_count": 55,
   "id": "yDlpr92SAjry",
   "metadata": {
    "colab": {
     "base_uri": "https://localhost:8080/"
    },
    "id": "yDlpr92SAjry",
    "outputId": "0a829487-1631-40be-84ca-0b05a845477e"
   },
   "outputs": [
    {
     "name": "stdout",
     "output_type": "stream",
     "text": [
      "The time taken to run code for 25000 users is : 0.004619852238231235 hours\n"
     ]
    }
   ],
   "source": [
    "\n",
    "\n",
    "# Initialize list to store recommendations\n",
    "CosineSilty_first10 = []\n",
    "starttime = time.time()\n",
    "Nusers = 25000\n",
    "\n",
    "# Iterate over users\n",
    "for userId in range(1, Nusers):\n",
    "    user_factors = broadcast_user_factors.value.get(userId)\n",
    "    if user_factors:\n",
    "        TopCosineLoanforuser10 = []\n",
    "        # Iterate over items\n",
    "        for item_id, item_factors in broadcast_item_factors.value.items():\n",
    "            user_item_similarity = cosine_similarity(user_factors, item_factors)\n",
    "            TopCosineLoanforuser10.append({item_id: user_item_similarity})\n",
    "\n",
    "        # Sort recommendations based on similarity\n",
    "        Recomnd_loans = sorted(TopCosineLoanforuser10, key=lambda x: list(x.values())[0], reverse=True)\n",
    "        CosineSilty_first10.append({\"UserId\": userId, \"Recommendation\": Recomnd_loans})\n",
    "\n",
    "endtime = time.time()\n",
    "runtime_hours = (endtime - starttime) / 3600\n",
    "print(f\"The time taken to run code for {Nusers} users is : {runtime_hours} hours\")"
   ]
  },
  {
   "cell_type": "code",
   "execution_count": null,
   "id": "uVUjN4bdAjyC",
   "metadata": {
    "colab": {
     "base_uri": "https://localhost:8080/"
    },
    "id": "uVUjN4bdAjyC",
    "outputId": "e14c7dbe-e643-4568-c857-ffe2b9b9eb83",
    "scrolled": true
   },
   "outputs": [],
   "source": []
  },
  {
   "cell_type": "code",
   "execution_count": 56,
   "id": "f7acc075-cb60-44d4-a35d-30fe68d886ce",
   "metadata": {
    "id": "f7acc075-cb60-44d4-a35d-30fe68d886ce"
   },
   "outputs": [],
   "source": [
    "# Define a function to extract top-N recommendations\n",
    "def extract_top_n_recommendations(recommendations_data, n=2500):\n",
    "    top_n_recommendations = [{'userId': user_recommendation['UserId'],\n",
    "                              'Recommendation': [list(rec.keys())[0] for rec in user_recommendation['Recommendation'][:n]]}\n",
    "                             for user_recommendation in recommendations_data]\n",
    "    return top_n_recommendations\n",
    "\n",
    "# Extract top-N recommendations\n",
    "starttime = time.time()\n",
    "top_n_recommendations = extract_top_n_recommendations(CosineSilty_first10, n=5)\n",
    "endtime = time.time()\n",
    "runtime_hours = (endtime - starttime) / 3600\n"
   ]
  },
  {
   "cell_type": "code",
   "execution_count": 57,
   "id": "fee9c5a0-7468-4707-944a-79fa4945a68d",
   "metadata": {
    "colab": {
     "base_uri": "https://localhost:8080/"
    },
    "id": "fee9c5a0-7468-4707-944a-79fa4945a68d",
    "outputId": "9358dca2-e67b-4916-8c28-31717c65202c",
    "scrolled": true
   },
   "outputs": [
    {
     "data": {
      "text/plain": [
       "[{'userId': 1, 'Recommendation': [14, 12, 13, 10, 16]},\n",
       " {'userId': 2, 'Recommendation': [8, 6, 9, 7, 25]},\n",
       " {'userId': 3, 'Recommendation': [6, 8, 7, 9, 5]},\n",
       " {'userId': 4, 'Recommendation': [3, 2, 4, 5, 7]},\n",
       " {'userId': 5, 'Recommendation': [6, 8, 7, 9, 5]},\n",
       " {'userId': 6, 'Recommendation': [8, 6, 7, 9, 5]},\n",
       " {'userId': 7, 'Recommendation': [9, 25, 11, 10, 12]},\n",
       " {'userId': 8, 'Recommendation': [13, 14, 12, 16, 15]},\n",
       " {'userId': 9, 'Recommendation': [6, 7, 8, 9, 5]},\n",
       " {'userId': 10, 'Recommendation': [3, 4, 5, 2, 7]},\n",
       " {'userId': 11, 'Recommendation': [3, 4, 5, 2, 7]},\n",
       " {'userId': 12, 'Recommendation': [4, 5, 3, 7, 6]},\n",
       " {'userId': 13, 'Recommendation': [5, 4, 7, 6, 8]},\n",
       " {'userId': 14, 'Recommendation': [13, 14, 16, 12, 15]},\n",
       " {'userId': 15, 'Recommendation': [3, 4, 5, 2, 7]},\n",
       " {'userId': 16, 'Recommendation': [12, 13, 14, 10, 16]},\n",
       " {'userId': 17, 'Recommendation': [4, 5, 3, 2, 7]},\n",
       " {'userId': 18, 'Recommendation': [4, 5, 3, 7, 6]},\n",
       " {'userId': 19, 'Recommendation': [5, 4, 7, 6, 8]},\n",
       " {'userId': 20, 'Recommendation': [8, 6, 7, 9, 5]},\n",
       " {'userId': 21, 'Recommendation': [8, 6, 7, 9, 5]},\n",
       " {'userId': 22, 'Recommendation': [5, 7, 4, 6, 8]},\n",
       " {'userId': 23, 'Recommendation': [3, 2, 4, 5, 7]},\n",
       " {'userId': 24, 'Recommendation': [8, 6, 7, 9, 5]},\n",
       " {'userId': 25, 'Recommendation': [3, 2, 4, 5, 7]},\n",
       " {'userId': 26, 'Recommendation': [8, 6, 7, 9, 25]},\n",
       " {'userId': 27, 'Recommendation': [4, 5, 3, 7, 6]},\n",
       " {'userId': 28, 'Recommendation': [6, 8, 7, 9, 5]},\n",
       " {'userId': 29, 'Recommendation': [2, 3, 4, 5, 7]},\n",
       " {'userId': 30, 'Recommendation': [8, 9, 6, 7, 25]},\n",
       " {'userId': 31, 'Recommendation': [17, 15, 16, 13, 14]},\n",
       " {'userId': 32, 'Recommendation': [7, 6, 8, 5, 4]},\n",
       " {'userId': 33, 'Recommendation': [7, 6, 8, 5, 4]},\n",
       " {'userId': 34, 'Recommendation': [8, 6, 7, 9, 25]},\n",
       " {'userId': 35, 'Recommendation': [2, 3, 4, 5, 7]},\n",
       " {'userId': 36, 'Recommendation': [9, 25, 11, 8, 10]},\n",
       " {'userId': 37, 'Recommendation': [7, 6, 8, 9, 5]},\n",
       " {'userId': 38, 'Recommendation': [4, 5, 3, 2, 7]},\n",
       " {'userId': 39, 'Recommendation': [4, 5, 3, 2, 7]},\n",
       " {'userId': 40, 'Recommendation': [14, 13, 12, 10, 16]},\n",
       " {'userId': 41, 'Recommendation': [22, 26, 29, 23, 28]},\n",
       " {'userId': 42, 'Recommendation': [25, 10, 11, 12, 9]},\n",
       " {'userId': 43, 'Recommendation': [20, 18, 19, 17, 21]},\n",
       " {'userId': 44, 'Recommendation': [8, 6, 7, 9, 5]},\n",
       " {'userId': 45, 'Recommendation': [5, 4, 3, 7, 6]},\n",
       " {'userId': 46, 'Recommendation': [2, 3, 4, 5, 7]},\n",
       " {'userId': 47, 'Recommendation': [9, 25, 8, 11, 6]},\n",
       " {'userId': 48, 'Recommendation': [7, 6, 8, 5, 4]},\n",
       " {'userId': 49, 'Recommendation': [2, 3, 4, 5, 7]},\n",
       " {'userId': 50, 'Recommendation': [25, 11, 9, 10, 12]},\n",
       " {'userId': 51, 'Recommendation': [3, 4, 5, 2, 7]},\n",
       " {'userId': 52, 'Recommendation': [9, 25, 11, 10, 12]},\n",
       " {'userId': 53, 'Recommendation': [9, 8, 6, 25, 11]},\n",
       " {'userId': 54, 'Recommendation': [5, 4, 7, 6, 3]},\n",
       " {'userId': 55, 'Recommendation': [9, 8, 6, 25, 11]},\n",
       " {'userId': 56, 'Recommendation': [9, 25, 11, 10, 8]},\n",
       " {'userId': 57, 'Recommendation': [9, 25, 11, 8, 10]},\n",
       " {'userId': 58, 'Recommendation': [3, 2, 4, 5, 7]},\n",
       " {'userId': 59, 'Recommendation': [8, 6, 7, 9, 25]},\n",
       " {'userId': 60, 'Recommendation': [5, 4, 7, 6, 8]},\n",
       " {'userId': 61, 'Recommendation': [3, 4, 2, 5, 7]},\n",
       " {'userId': 62, 'Recommendation': [3, 4, 5, 2, 7]},\n",
       " {'userId': 63, 'Recommendation': [5, 4, 7, 6, 8]},\n",
       " {'userId': 64, 'Recommendation': [3, 4, 5, 2, 7]},\n",
       " {'userId': 65, 'Recommendation': [3, 4, 5, 2, 7]},\n",
       " {'userId': 66, 'Recommendation': [25, 10, 11, 12, 9]},\n",
       " {'userId': 67, 'Recommendation': [9, 25, 11, 8, 10]},\n",
       " {'userId': 68, 'Recommendation': [11, 25, 9, 10, 12]},\n",
       " {'userId': 69, 'Recommendation': [7, 6, 8, 5, 4]},\n",
       " {'userId': 70, 'Recommendation': [2, 3, 4, 5, 7]},\n",
       " {'userId': 71, 'Recommendation': [3, 2, 4, 5, 7]},\n",
       " {'userId': 72, 'Recommendation': [6, 8, 7, 9, 5]},\n",
       " {'userId': 73, 'Recommendation': [4, 3, 5, 2, 7]},\n",
       " {'userId': 74, 'Recommendation': [7, 6, 8, 5, 4]},\n",
       " {'userId': 75, 'Recommendation': [9, 8, 6, 25, 7]},\n",
       " {'userId': 76, 'Recommendation': [25, 11, 10, 9, 12]},\n",
       " {'userId': 77, 'Recommendation': [7, 5, 4, 6, 8]},\n",
       " {'userId': 78, 'Recommendation': [7, 6, 8, 5, 4]},\n",
       " {'userId': 79, 'Recommendation': [7, 6, 8, 5, 4]},\n",
       " {'userId': 80, 'Recommendation': [5, 4, 7, 6, 8]},\n",
       " {'userId': 81, 'Recommendation': [4, 5, 3, 2, 7]},\n",
       " {'userId': 82, 'Recommendation': [6, 8, 7, 9, 5]},\n",
       " {'userId': 83, 'Recommendation': [3, 2, 4, 5, 7]},\n",
       " {'userId': 84, 'Recommendation': [5, 4, 7, 6, 8]},\n",
       " {'userId': 85, 'Recommendation': [9, 8, 6, 25, 11]},\n",
       " {'userId': 86, 'Recommendation': [4, 5, 3, 7, 6]},\n",
       " {'userId': 87, 'Recommendation': [3, 4, 2, 5, 7]},\n",
       " {'userId': 88, 'Recommendation': [3, 4, 2, 5, 7]},\n",
       " {'userId': 89, 'Recommendation': [10, 12, 25, 11, 14]},\n",
       " {'userId': 90, 'Recommendation': [7, 6, 8, 5, 4]},\n",
       " {'userId': 91, 'Recommendation': [3, 2, 4, 5, 7]},\n",
       " {'userId': 92, 'Recommendation': [3, 4, 5, 2, 7]},\n",
       " {'userId': 93, 'Recommendation': [6, 8, 7, 9, 5]},\n",
       " {'userId': 94, 'Recommendation': [14, 13, 16, 12, 15]},\n",
       " {'userId': 95, 'Recommendation': [9, 8, 6, 7, 25]},\n",
       " {'userId': 96, 'Recommendation': [3, 2, 4, 5, 7]},\n",
       " {'userId': 97, 'Recommendation': [4, 5, 3, 2, 7]},\n",
       " {'userId': 98, 'Recommendation': [25, 10, 11, 12, 14]},\n",
       " {'userId': 99, 'Recommendation': [3, 4, 5, 2, 7]},\n",
       " {'userId': 100, 'Recommendation': [12, 10, 14, 13, 11]},\n",
       " {'userId': 101, 'Recommendation': [7, 6, 8, 5, 4]},\n",
       " {'userId': 102, 'Recommendation': [4, 5, 3, 2, 7]},\n",
       " {'userId': 103, 'Recommendation': [4, 5, 3, 2, 7]},\n",
       " {'userId': 104, 'Recommendation': [7, 6, 8, 5, 9]},\n",
       " {'userId': 105, 'Recommendation': [3, 4, 5, 2, 7]},\n",
       " {'userId': 106, 'Recommendation': [7, 5, 6, 4, 8]},\n",
       " {'userId': 107, 'Recommendation': [5, 4, 7, 6, 3]},\n",
       " {'userId': 108, 'Recommendation': [3, 4, 5, 2, 7]},\n",
       " {'userId': 109, 'Recommendation': [9, 25, 11, 10, 12]},\n",
       " {'userId': 110, 'Recommendation': [8, 6, 7, 9, 5]},\n",
       " {'userId': 111, 'Recommendation': [7, 6, 8, 5, 4]},\n",
       " {'userId': 112, 'Recommendation': [13, 14, 12, 16, 10]},\n",
       " {'userId': 113, 'Recommendation': [13, 16, 14, 15, 17]},\n",
       " {'userId': 114, 'Recommendation': [2, 3, 4, 5, 7]},\n",
       " {'userId': 115, 'Recommendation': [3, 4, 5, 2, 7]},\n",
       " {'userId': 116, 'Recommendation': [7, 6, 8, 5, 4]},\n",
       " {'userId': 117, 'Recommendation': [8, 6, 9, 7, 25]},\n",
       " {'userId': 118, 'Recommendation': [4, 5, 3, 2, 7]},\n",
       " {'userId': 119, 'Recommendation': [9, 25, 8, 6, 11]},\n",
       " {'userId': 120, 'Recommendation': [2, 3, 4, 5, 7]},\n",
       " {'userId': 121, 'Recommendation': [5, 4, 7, 6, 8]},\n",
       " {'userId': 122, 'Recommendation': [18, 17, 20, 19, 15]},\n",
       " {'userId': 123, 'Recommendation': [16, 13, 14, 15, 17]},\n",
       " {'userId': 124, 'Recommendation': [4, 5, 3, 7, 6]},\n",
       " {'userId': 125, 'Recommendation': [9, 8, 6, 25, 11]},\n",
       " {'userId': 126, 'Recommendation': [4, 5, 3, 2, 7]},\n",
       " {'userId': 127, 'Recommendation': [8, 6, 7, 9, 25]},\n",
       " {'userId': 128, 'Recommendation': [16, 13, 15, 14, 17]},\n",
       " {'userId': 129, 'Recommendation': [25, 10, 11, 12, 9]},\n",
       " {'userId': 130, 'Recommendation': [9, 25, 11, 10, 8]},\n",
       " {'userId': 131, 'Recommendation': [4, 5, 3, 7, 6]},\n",
       " {'userId': 132, 'Recommendation': [2, 3, 4, 5, 7]},\n",
       " {'userId': 133, 'Recommendation': [25, 10, 11, 12, 9]},\n",
       " {'userId': 134, 'Recommendation': [4, 3, 5, 2, 7]},\n",
       " {'userId': 135, 'Recommendation': [8, 6, 7, 9, 25]},\n",
       " {'userId': 136, 'Recommendation': [4, 5, 3, 7, 2]},\n",
       " {'userId': 137, 'Recommendation': [3, 2, 4, 5, 7]},\n",
       " {'userId': 138, 'Recommendation': [13, 14, 16, 15, 12]},\n",
       " {'userId': 139, 'Recommendation': [7, 6, 8, 5, 4]},\n",
       " {'userId': 140, 'Recommendation': [2, 3, 4, 5, 7]},\n",
       " {'userId': 141, 'Recommendation': [4, 5, 3, 7, 6]},\n",
       " {'userId': 142, 'Recommendation': [16, 17, 15, 13, 14]},\n",
       " {'userId': 143, 'Recommendation': [5, 4, 7, 6, 8]},\n",
       " {'userId': 144, 'Recommendation': [16, 13, 14, 15, 12]},\n",
       " {'userId': 145, 'Recommendation': [3, 4, 5, 2, 7]},\n",
       " {'userId': 146, 'Recommendation': [9, 25, 11, 10, 8]},\n",
       " {'userId': 147, 'Recommendation': [9, 25, 11, 8, 10]},\n",
       " {'userId': 148, 'Recommendation': [3, 2, 4, 5, 7]},\n",
       " {'userId': 149, 'Recommendation': [10, 12, 11, 25, 14]},\n",
       " {'userId': 150, 'Recommendation': [5, 4, 3, 7, 6]},\n",
       " {'userId': 151, 'Recommendation': [25, 11, 10, 9, 12]},\n",
       " {'userId': 152, 'Recommendation': [7, 6, 5, 8, 4]},\n",
       " {'userId': 153, 'Recommendation': [10, 12, 11, 25, 14]},\n",
       " {'userId': 154, 'Recommendation': [9, 25, 8, 11, 6]},\n",
       " {'userId': 155, 'Recommendation': [9, 25, 11, 10, 12]},\n",
       " {'userId': 156, 'Recommendation': [9, 8, 6, 7, 25]},\n",
       " {'userId': 157, 'Recommendation': [9, 8, 25, 6, 11]},\n",
       " {'userId': 158, 'Recommendation': [12, 10, 14, 13, 11]},\n",
       " {'userId': 159, 'Recommendation': [5, 4, 3, 7, 6]},\n",
       " {'userId': 160, 'Recommendation': [7, 6, 8, 5, 4]},\n",
       " {'userId': 161, 'Recommendation': [3, 2, 4, 5, 7]},\n",
       " {'userId': 162, 'Recommendation': [25, 9, 10, 11, 12]},\n",
       " {'userId': 163, 'Recommendation': [3, 2, 4, 5, 7]},\n",
       " {'userId': 164, 'Recommendation': [25, 11, 10, 12, 9]},\n",
       " {'userId': 165, 'Recommendation': [8, 6, 7, 9, 5]},\n",
       " {'userId': 166, 'Recommendation': [13, 16, 14, 15, 17]},\n",
       " {'userId': 167, 'Recommendation': [7, 6, 8, 5, 4]},\n",
       " {'userId': 168, 'Recommendation': [3, 2, 4, 5, 7]},\n",
       " {'userId': 169, 'Recommendation': [3, 4, 2, 5, 7]},\n",
       " {'userId': 170, 'Recommendation': [4, 5, 3, 2, 7]},\n",
       " {'userId': 171, 'Recommendation': [4, 5, 3, 2, 7]},\n",
       " {'userId': 172, 'Recommendation': [8, 6, 9, 7, 25]},\n",
       " {'userId': 173, 'Recommendation': [13, 14, 16, 15, 12]},\n",
       " {'userId': 174, 'Recommendation': [4, 5, 3, 2, 7]},\n",
       " {'userId': 175, 'Recommendation': [4, 5, 3, 7, 6]},\n",
       " {'userId': 176, 'Recommendation': [12, 10, 25, 11, 14]},\n",
       " {'userId': 177, 'Recommendation': [9, 25, 11, 10, 12]},\n",
       " {'userId': 178, 'Recommendation': [4, 3, 5, 2, 7]},\n",
       " {'userId': 179, 'Recommendation': [8, 6, 7, 9, 5]},\n",
       " {'userId': 180, 'Recommendation': [12, 10, 25, 11, 14]},\n",
       " {'userId': 181, 'Recommendation': [9, 8, 6, 7, 25]},\n",
       " {'userId': 182, 'Recommendation': [8, 6, 9, 7, 25]},\n",
       " {'userId': 183, 'Recommendation': [25, 9, 11, 10, 12]},\n",
       " {'userId': 184, 'Recommendation': [12, 10, 11, 14, 13]},\n",
       " {'userId': 185, 'Recommendation': [7, 6, 5, 8, 4]},\n",
       " {'userId': 186, 'Recommendation': [8, 6, 7, 9, 5]},\n",
       " {'userId': 187, 'Recommendation': [9, 25, 11, 10, 12]},\n",
       " {'userId': 188, 'Recommendation': [9, 8, 25, 6, 11]},\n",
       " {'userId': 189, 'Recommendation': [9, 11, 25, 10, 12]},\n",
       " {'userId': 190, 'Recommendation': [4, 5, 3, 7, 6]},\n",
       " {'userId': 191, 'Recommendation': [7, 6, 8, 9, 5]},\n",
       " {'userId': 192, 'Recommendation': [9, 8, 6, 25, 11]},\n",
       " {'userId': 193, 'Recommendation': [3, 4, 5, 2, 7]},\n",
       " {'userId': 194, 'Recommendation': [8, 6, 7, 9, 5]},\n",
       " {'userId': 195, 'Recommendation': [2, 3, 4, 5, 7]},\n",
       " {'userId': 196, 'Recommendation': [2, 3, 4, 5, 7]},\n",
       " {'userId': 197, 'Recommendation': [3, 4, 5, 2, 7]},\n",
       " {'userId': 198, 'Recommendation': [4, 5, 7, 3, 6]},\n",
       " {'userId': 199, 'Recommendation': [2, 3, 4, 5, 7]},\n",
       " {'userId': 200, 'Recommendation': [3, 2, 4, 5, 7]},\n",
       " {'userId': 201, 'Recommendation': [10, 12, 11, 25, 14]},\n",
       " {'userId': 202, 'Recommendation': [6, 7, 8, 9, 5]},\n",
       " {'userId': 203, 'Recommendation': [9, 11, 25, 10, 12]},\n",
       " {'userId': 204, 'Recommendation': [9, 8, 6, 11, 7]},\n",
       " {'userId': 205, 'Recommendation': [7, 6, 8, 5, 4]},\n",
       " {'userId': 206, 'Recommendation': [4, 5, 3, 2, 7]},\n",
       " {'userId': 207, 'Recommendation': [5, 4, 7, 6, 8]},\n",
       " {'userId': 208, 'Recommendation': [5, 4, 3, 7, 6]},\n",
       " {'userId': 209, 'Recommendation': [9, 25, 11, 8, 10]},\n",
       " {'userId': 210, 'Recommendation': [3, 4, 2, 5, 7]},\n",
       " {'userId': 211, 'Recommendation': [14, 13, 12, 16, 15]},\n",
       " {'userId': 212, 'Recommendation': [2, 3, 4, 5, 7]},\n",
       " {'userId': 213, 'Recommendation': [7, 6, 8, 5, 9]},\n",
       " {'userId': 214, 'Recommendation': [6, 8, 7, 9, 5]},\n",
       " {'userId': 215, 'Recommendation': [8, 6, 7, 9, 5]},\n",
       " {'userId': 216, 'Recommendation': [22, 21, 26, 28, 20]},\n",
       " {'userId': 217, 'Recommendation': [25, 10, 11, 12, 9]},\n",
       " {'userId': 218, 'Recommendation': [9, 8, 6, 25, 11]},\n",
       " {'userId': 219, 'Recommendation': [3, 2, 4, 5, 7]},\n",
       " {'userId': 220, 'Recommendation': [3, 2, 4, 5, 7]},\n",
       " {'userId': 221, 'Recommendation': [7, 6, 8, 5, 4]},\n",
       " {'userId': 222, 'Recommendation': [5, 4, 7, 6, 3]},\n",
       " {'userId': 223, 'Recommendation': [4, 5, 3, 7, 6]},\n",
       " {'userId': 224, 'Recommendation': [3, 2, 4, 5, 7]},\n",
       " {'userId': 225, 'Recommendation': [25, 10, 11, 12, 14]},\n",
       " {'userId': 226, 'Recommendation': [4, 3, 5, 2, 7]},\n",
       " {'userId': 227, 'Recommendation': [21, 20, 18, 19, 22]},\n",
       " {'userId': 228, 'Recommendation': [4, 5, 3, 7, 6]},\n",
       " {'userId': 229, 'Recommendation': [20, 18, 19, 17, 21]},\n",
       " {'userId': 230, 'Recommendation': [7, 6, 8, 5, 4]},\n",
       " {'userId': 231, 'Recommendation': [9, 25, 11, 8, 10]},\n",
       " {'userId': 232, 'Recommendation': [3, 2, 4, 5, 7]},\n",
       " {'userId': 233, 'Recommendation': [3, 2, 4, 5, 7]},\n",
       " {'userId': 234, 'Recommendation': [3, 2, 4, 5, 7]},\n",
       " {'userId': 235, 'Recommendation': [4, 5, 3, 7, 2]},\n",
       " {'userId': 236, 'Recommendation': [4, 5, 3, 2, 7]},\n",
       " {'userId': 237, 'Recommendation': [3, 4, 5, 2, 7]},\n",
       " {'userId': 238, 'Recommendation': [7, 6, 8, 5, 4]},\n",
       " {'userId': 239, 'Recommendation': [9, 25, 11, 10, 8]},\n",
       " {'userId': 240, 'Recommendation': [13, 16, 12, 10, 25]},\n",
       " {'userId': 241, 'Recommendation': [10, 11, 25, 12, 14]},\n",
       " {'userId': 242, 'Recommendation': [4, 3, 5, 2, 7]},\n",
       " {'userId': 243, 'Recommendation': [6, 8, 7, 9, 5]},\n",
       " {'userId': 244, 'Recommendation': [5, 7, 4, 6, 8]},\n",
       " {'userId': 245, 'Recommendation': [8, 6, 7, 9, 25]},\n",
       " {'userId': 246, 'Recommendation': [3, 2, 4, 5, 7]},\n",
       " {'userId': 247, 'Recommendation': [9, 25, 11, 10, 8]},\n",
       " {'userId': 248, 'Recommendation': [20, 18, 19, 21, 17]},\n",
       " {'userId': 249, 'Recommendation': [4, 5, 3, 7, 6]},\n",
       " {'userId': 250, 'Recommendation': [2, 3, 4, 5, 7]},\n",
       " {'userId': 251, 'Recommendation': [14, 13, 15, 16, 12]},\n",
       " {'userId': 252, 'Recommendation': [10, 12, 11, 25, 14]},\n",
       " {'userId': 253, 'Recommendation': [16, 15, 13, 14, 17]},\n",
       " {'userId': 254, 'Recommendation': [5, 4, 7, 6, 8]},\n",
       " {'userId': 255, 'Recommendation': [9, 8, 6, 7, 25]},\n",
       " {'userId': 256, 'Recommendation': [10, 12, 25, 11, 14]},\n",
       " {'userId': 257, 'Recommendation': [8, 6, 9, 7, 25]},\n",
       " {'userId': 258, 'Recommendation': [5, 4, 7, 6, 8]},\n",
       " {'userId': 259, 'Recommendation': [3, 4, 2, 5, 7]},\n",
       " {'userId': 260, 'Recommendation': [8, 6, 7, 9, 5]},\n",
       " {'userId': 261, 'Recommendation': [3, 2, 4, 5, 7]},\n",
       " {'userId': 262, 'Recommendation': [8, 6, 7, 9, 25]},\n",
       " {'userId': 263, 'Recommendation': [8, 6, 9, 7, 25]},\n",
       " {'userId': 264, 'Recommendation': [16, 13, 15, 14, 17]},\n",
       " {'userId': 265, 'Recommendation': [12, 10, 25, 11, 14]},\n",
       " {'userId': 266, 'Recommendation': [9, 8, 6, 7, 25]},\n",
       " {'userId': 267, 'Recommendation': [12, 10, 14, 13, 11]},\n",
       " {'userId': 268, 'Recommendation': [2, 3, 4, 5, 7]},\n",
       " {'userId': 269, 'Recommendation': [3, 2, 4, 5, 7]},\n",
       " {'userId': 270, 'Recommendation': [3, 2, 4, 5, 7]},\n",
       " {'userId': 271, 'Recommendation': [6, 8, 7, 9, 5]},\n",
       " {'userId': 272, 'Recommendation': [3, 4, 5, 2, 7]},\n",
       " {'userId': 273, 'Recommendation': [3, 2, 4, 5, 7]},\n",
       " {'userId': 274, 'Recommendation': [7, 5, 4, 6, 8]},\n",
       " {'userId': 275, 'Recommendation': [6, 7, 8, 9, 5]},\n",
       " {'userId': 276, 'Recommendation': [3, 2, 4, 5, 7]},\n",
       " {'userId': 277, 'Recommendation': [3, 4, 5, 2, 7]},\n",
       " {'userId': 278, 'Recommendation': [9, 25, 11, 8, 10]},\n",
       " {'userId': 279, 'Recommendation': [6, 7, 8, 5, 9]},\n",
       " {'userId': 280, 'Recommendation': [8, 6, 7, 9, 25]},\n",
       " {'userId': 281, 'Recommendation': [5, 4, 7, 6, 8]},\n",
       " {'userId': 282, 'Recommendation': [16, 13, 15, 14, 17]},\n",
       " {'userId': 283, 'Recommendation': [8, 6, 7, 9, 5]},\n",
       " {'userId': 284, 'Recommendation': [3, 4, 5, 2, 7]},\n",
       " {'userId': 285, 'Recommendation': [7, 6, 8, 5, 4]},\n",
       " {'userId': 286, 'Recommendation': [2, 3, 4, 5, 7]},\n",
       " {'userId': 287, 'Recommendation': [9, 25, 11, 10, 12]},\n",
       " {'userId': 288, 'Recommendation': [7, 6, 8, 9, 5]},\n",
       " {'userId': 289, 'Recommendation': [25, 10, 11, 12, 9]},\n",
       " {'userId': 290, 'Recommendation': [4, 5, 3, 7, 2]},\n",
       " {'userId': 291, 'Recommendation': [8, 6, 7, 9, 5]},\n",
       " {'userId': 292, 'Recommendation': [3, 2, 4, 5, 7]},\n",
       " {'userId': 293, 'Recommendation': [5, 4, 3, 7, 6]},\n",
       " {'userId': 294, 'Recommendation': [5, 4, 7, 6, 8]},\n",
       " {'userId': 295, 'Recommendation': [3, 2, 4, 5, 7]},\n",
       " {'userId': 296, 'Recommendation': [24, 30, 36, 32, 33]},\n",
       " {'userId': 297, 'Recommendation': [7, 6, 5, 8, 4]},\n",
       " {'userId': 298, 'Recommendation': [6, 8, 7, 9, 5]},\n",
       " {'userId': 299, 'Recommendation': [9, 8, 6, 7, 25]},\n",
       " {'userId': 300, 'Recommendation': [25, 11, 10, 12, 9]},\n",
       " {'userId': 301, 'Recommendation': [10, 12, 11, 14, 13]},\n",
       " {'userId': 302, 'Recommendation': [4, 5, 3, 2, 7]},\n",
       " {'userId': 303, 'Recommendation': [25, 10, 11, 12, 9]},\n",
       " {'userId': 304, 'Recommendation': [11, 25, 10, 9, 12]},\n",
       " {'userId': 305, 'Recommendation': [8, 6, 7, 9, 25]},\n",
       " {'userId': 306, 'Recommendation': [9, 8, 6, 25, 7]},\n",
       " {'userId': 307, 'Recommendation': [9, 8, 6, 25, 7]},\n",
       " {'userId': 308, 'Recommendation': [22, 26, 23, 21, 29]},\n",
       " {'userId': 309, 'Recommendation': [12, 13, 14, 10, 16]},\n",
       " {'userId': 310, 'Recommendation': [3, 2, 4, 5, 7]},\n",
       " {'userId': 311, 'Recommendation': [25, 11, 10, 12, 9]},\n",
       " {'userId': 312, 'Recommendation': [8, 6, 7, 9, 5]},\n",
       " {'userId': 313, 'Recommendation': [25, 10, 11, 12, 9]},\n",
       " {'userId': 314, 'Recommendation': [7, 6, 8, 5, 4]},\n",
       " {'userId': 315, 'Recommendation': [16, 13, 14, 12, 25]},\n",
       " {'userId': 316, 'Recommendation': [8, 6, 7, 9, 5]},\n",
       " {'userId': 317, 'Recommendation': [5, 4, 3, 7, 6]},\n",
       " {'userId': 318, 'Recommendation': [9, 25, 8, 11, 10]},\n",
       " {'userId': 319, 'Recommendation': [7, 6, 8, 5, 4]},\n",
       " {'userId': 320, 'Recommendation': [9, 25, 11, 10, 12]},\n",
       " {'userId': 321, 'Recommendation': [7, 5, 6, 4, 8]},\n",
       " {'userId': 322, 'Recommendation': [10, 11, 12, 25, 14]},\n",
       " {'userId': 323, 'Recommendation': [9, 25, 11, 8, 6]},\n",
       " {'userId': 324, 'Recommendation': [3, 4, 2, 5, 7]},\n",
       " {'userId': 325, 'Recommendation': [25, 10, 11, 12, 14]},\n",
       " {'userId': 326, 'Recommendation': [3, 4, 5, 2, 7]},\n",
       " {'userId': 327, 'Recommendation': [9, 25, 11, 10, 8]},\n",
       " {'userId': 328, 'Recommendation': [9, 8, 25, 11, 6]},\n",
       " {'userId': 329, 'Recommendation': [7, 6, 8, 5, 9]},\n",
       " {'userId': 330, 'Recommendation': [4, 5, 3, 2, 7]},\n",
       " {'userId': 331, 'Recommendation': [10, 25, 12, 11, 14]},\n",
       " {'userId': 332, 'Recommendation': [2, 3, 4, 5, 7]},\n",
       " {'userId': 333, 'Recommendation': [20, 18, 19, 21, 17]},\n",
       " {'userId': 334, 'Recommendation': [9, 25, 11, 10, 8]},\n",
       " {'userId': 336, 'Recommendation': [10, 11, 12, 25, 14]},\n",
       " {'userId': 337, 'Recommendation': [3, 2, 4, 5, 7]},\n",
       " {'userId': 338, 'Recommendation': [13, 14, 16, 15, 12]},\n",
       " {'userId': 339, 'Recommendation': [6, 8, 7, 5, 4]},\n",
       " {'userId': 340, 'Recommendation': [7, 6, 8, 5, 4]},\n",
       " {'userId': 341, 'Recommendation': [5, 4, 7, 6, 8]},\n",
       " {'userId': 342, 'Recommendation': [8, 6, 7, 9, 25]},\n",
       " {'userId': 343, 'Recommendation': [25, 10, 12, 11, 14]},\n",
       " {'userId': 344, 'Recommendation': [22, 21, 26, 28, 20]},\n",
       " {'userId': 345, 'Recommendation': [5, 4, 7, 6, 8]},\n",
       " {'userId': 346, 'Recommendation': [4, 5, 3, 7, 6]},\n",
       " {'userId': 347, 'Recommendation': [5, 4, 3, 7, 6]},\n",
       " {'userId': 348, 'Recommendation': [3, 2, 4, 5, 7]},\n",
       " {'userId': 349, 'Recommendation': [10, 12, 11, 25, 14]},\n",
       " {'userId': 350, 'Recommendation': [3, 4, 2, 5, 7]},\n",
       " {'userId': 351, 'Recommendation': [4, 5, 3, 7, 6]},\n",
       " {'userId': 352, 'Recommendation': [6, 8, 7, 9, 5]},\n",
       " {'userId': 353, 'Recommendation': [9, 25, 8, 11, 10]},\n",
       " {'userId': 354, 'Recommendation': [4, 3, 5, 2, 7]},\n",
       " {'userId': 355, 'Recommendation': [7, 6, 8, 5, 4]},\n",
       " {'userId': 356, 'Recommendation': [4, 3, 5, 2, 7]},\n",
       " {'userId': 357, 'Recommendation': [9, 11, 25, 10, 8]},\n",
       " {'userId': 358, 'Recommendation': [4, 5, 3, 7, 6]},\n",
       " {'userId': 359, 'Recommendation': [4, 3, 5, 2, 7]},\n",
       " {'userId': 360, 'Recommendation': [9, 8, 6, 7, 25]},\n",
       " {'userId': 361, 'Recommendation': [12, 10, 14, 13, 11]},\n",
       " {'userId': 362, 'Recommendation': [21, 22, 20, 19, 18]},\n",
       " {'userId': 363, 'Recommendation': [7, 6, 8, 5, 4]},\n",
       " {'userId': 364, 'Recommendation': [2, 3, 4, 5, 7]},\n",
       " {'userId': 365, 'Recommendation': [9, 8, 6, 25, 11]},\n",
       " {'userId': 366, 'Recommendation': [7, 5, 6, 4, 8]},\n",
       " {'userId': 367, 'Recommendation': [3, 4, 5, 2, 7]},\n",
       " {'userId': 368, 'Recommendation': [3, 2, 4, 5, 7]},\n",
       " {'userId': 369, 'Recommendation': [8, 6, 7, 9, 5]},\n",
       " {'userId': 370, 'Recommendation': [2, 3, 4, 5, 7]},\n",
       " {'userId': 371, 'Recommendation': [9, 8, 6, 7, 25]},\n",
       " {'userId': 372, 'Recommendation': [4, 5, 3, 7, 6]},\n",
       " {'userId': 373, 'Recommendation': [8, 6, 7, 9, 5]},\n",
       " {'userId': 374, 'Recommendation': [7, 6, 8, 5, 4]},\n",
       " {'userId': 375, 'Recommendation': [5, 4, 7, 6, 8]},\n",
       " {'userId': 376, 'Recommendation': [10, 12, 11, 25, 14]},\n",
       " {'userId': 377, 'Recommendation': [9, 8, 6, 7, 25]},\n",
       " {'userId': 378, 'Recommendation': [3, 4, 5, 2, 7]},\n",
       " {'userId': 379, 'Recommendation': [5, 7, 4, 6, 8]},\n",
       " {'userId': 380, 'Recommendation': [9, 8, 25, 11, 6]},\n",
       " {'userId': 381, 'Recommendation': [9, 8, 6, 7, 25]},\n",
       " {'userId': 382, 'Recommendation': [4, 5, 3, 7, 6]},\n",
       " {'userId': 383, 'Recommendation': [4, 5, 3, 7, 2]},\n",
       " {'userId': 384, 'Recommendation': [7, 6, 8, 5, 4]},\n",
       " {'userId': 385, 'Recommendation': [16, 13, 14, 15, 17]},\n",
       " {'userId': 386, 'Recommendation': [8, 6, 7, 9, 25]},\n",
       " {'userId': 387, 'Recommendation': [20, 18, 19, 21, 17]},\n",
       " {'userId': 388, 'Recommendation': [3, 4, 5, 2, 7]},\n",
       " {'userId': 389, 'Recommendation': [7, 6, 8, 5, 4]},\n",
       " {'userId': 390, 'Recommendation': [25, 10, 11, 12, 9]},\n",
       " {'userId': 391, 'Recommendation': [7, 5, 6, 4, 8]},\n",
       " {'userId': 392, 'Recommendation': [3, 4, 2, 5, 7]},\n",
       " {'userId': 393, 'Recommendation': [3, 2, 4, 5, 7]},\n",
       " {'userId': 394, 'Recommendation': [17, 15, 16, 13, 14]},\n",
       " {'userId': 395, 'Recommendation': [5, 4, 7, 3, 6]},\n",
       " {'userId': 396, 'Recommendation': [4, 5, 3, 2, 7]},\n",
       " {'userId': 397, 'Recommendation': [7, 6, 8, 5, 4]},\n",
       " {'userId': 398, 'Recommendation': [12, 10, 14, 13, 16]},\n",
       " {'userId': 399, 'Recommendation': [5, 7, 4, 6, 8]},\n",
       " {'userId': 400, 'Recommendation': [8, 6, 7, 9, 25]},\n",
       " {'userId': 401, 'Recommendation': [20, 21, 18, 19, 22]},\n",
       " {'userId': 402, 'Recommendation': [16, 13, 14, 15, 17]},\n",
       " {'userId': 403, 'Recommendation': [15, 17, 16, 13, 14]},\n",
       " {'userId': 404, 'Recommendation': [5, 4, 7, 6, 8]},\n",
       " {'userId': 405, 'Recommendation': [5, 4, 7, 6, 8]},\n",
       " {'userId': 406, 'Recommendation': [9, 25, 8, 6, 11]},\n",
       " {'userId': 407, 'Recommendation': [9, 8, 6, 7, 25]},\n",
       " {'userId': 408, 'Recommendation': [5, 4, 7, 6, 3]},\n",
       " {'userId': 409, 'Recommendation': [8, 6, 7, 9, 25]},\n",
       " {'userId': 410, 'Recommendation': [7, 5, 6, 8, 4]},\n",
       " {'userId': 411, 'Recommendation': [7, 6, 8, 5, 4]},\n",
       " {'userId': 412, 'Recommendation': [9, 8, 6, 7, 25]},\n",
       " {'userId': 413, 'Recommendation': [9, 25, 11, 10, 12]},\n",
       " {'userId': 414, 'Recommendation': [25, 11, 10, 12, 9]},\n",
       " {'userId': 415, 'Recommendation': [7, 6, 8, 5, 4]},\n",
       " {'userId': 416, 'Recommendation': [2, 3, 4, 5, 7]},\n",
       " {'userId': 417, 'Recommendation': [12, 10, 11, 14, 25]},\n",
       " {'userId': 418, 'Recommendation': [8, 6, 9, 7, 25]},\n",
       " {'userId': 419, 'Recommendation': [3, 2, 4, 5, 7]},\n",
       " {'userId': 420, 'Recommendation': [5, 4, 7, 3, 6]},\n",
       " {'userId': 421, 'Recommendation': [12, 10, 14, 13, 11]},\n",
       " {'userId': 422, 'Recommendation': [2, 3, 4, 5, 7]},\n",
       " {'userId': 423, 'Recommendation': [25, 11, 9, 10, 12]},\n",
       " {'userId': 424, 'Recommendation': [5, 7, 4, 6, 8]},\n",
       " {'userId': 425, 'Recommendation': [3, 2, 4, 5, 7]},\n",
       " {'userId': 426, 'Recommendation': [9, 25, 11, 8, 10]},\n",
       " {'userId': 427, 'Recommendation': [3, 4, 5, 2, 7]},\n",
       " {'userId': 428, 'Recommendation': [2, 3, 4, 5, 7]},\n",
       " {'userId': 429, 'Recommendation': [7, 6, 8, 5, 4]},\n",
       " {'userId': 430, 'Recommendation': [9, 8, 6, 25, 7]},\n",
       " {'userId': 431, 'Recommendation': [22, 26, 23, 29, 28]},\n",
       " {'userId': 432, 'Recommendation': [2, 1, 3, 4, 5]},\n",
       " {'userId': 433, 'Recommendation': [7, 6, 8, 5, 4]},\n",
       " {'userId': 434, 'Recommendation': [3, 4, 5, 2, 7]},\n",
       " {'userId': 435, 'Recommendation': [8, 6, 9, 7, 25]},\n",
       " {'userId': 436, 'Recommendation': [17, 16, 15, 18, 13]},\n",
       " {'userId': 437, 'Recommendation': [8, 6, 7, 9, 5]},\n",
       " {'userId': 438, 'Recommendation': [2, 3, 4, 5, 7]},\n",
       " {'userId': 439, 'Recommendation': [8, 6, 7, 9, 5]},\n",
       " {'userId': 440, 'Recommendation': [5, 4, 7, 6, 8]},\n",
       " {'userId': 441, 'Recommendation': [5, 4, 7, 3, 6]},\n",
       " {'userId': 442, 'Recommendation': [4, 5, 3, 7, 2]},\n",
       " {'userId': 443, 'Recommendation': [6, 8, 7, 9, 5]},\n",
       " {'userId': 444, 'Recommendation': [5, 7, 4, 6, 8]},\n",
       " {'userId': 445, 'Recommendation': [7, 6, 8, 5, 4]},\n",
       " {'userId': 446, 'Recommendation': [12, 10, 13, 14, 25]},\n",
       " {'userId': 447, 'Recommendation': [8, 6, 9, 7, 25]},\n",
       " {'userId': 448, 'Recommendation': [9, 25, 11, 8, 6]},\n",
       " {'userId': 449, 'Recommendation': [9, 8, 25, 6, 11]},\n",
       " {'userId': 450, 'Recommendation': [13, 12, 14, 16, 10]},\n",
       " {'userId': 451, 'Recommendation': [4, 5, 3, 2, 7]},\n",
       " {'userId': 452, 'Recommendation': [25, 11, 9, 10, 12]},\n",
       " {'userId': 453, 'Recommendation': [6, 8, 7, 9, 5]},\n",
       " {'userId': 454, 'Recommendation': [4, 5, 3, 2, 7]},\n",
       " {'userId': 455, 'Recommendation': [4, 3, 5, 2, 7]},\n",
       " {'userId': 456, 'Recommendation': [12, 10, 13, 14, 11]},\n",
       " {'userId': 457, 'Recommendation': [16, 15, 17, 13, 14]},\n",
       " {'userId': 458, 'Recommendation': [14, 13, 15, 16, 12]},\n",
       " {'userId': 459, 'Recommendation': [5, 4, 7, 6, 8]},\n",
       " {'userId': 460, 'Recommendation': [4, 3, 5, 2, 7]},\n",
       " {'userId': 461, 'Recommendation': [2, 3, 4, 5, 7]},\n",
       " {'userId': 462, 'Recommendation': [21, 22, 20, 19, 18]},\n",
       " {'userId': 463, 'Recommendation': [9, 25, 11, 10, 8]},\n",
       " {'userId': 464, 'Recommendation': [4, 5, 3, 7, 2]},\n",
       " {'userId': 465, 'Recommendation': [21, 22, 20, 19, 18]},\n",
       " {'userId': 466, 'Recommendation': [10, 11, 12, 25, 14]},\n",
       " {'userId': 467, 'Recommendation': [5, 4, 7, 6, 8]},\n",
       " {'userId': 468, 'Recommendation': [7, 6, 8, 5, 4]},\n",
       " {'userId': 469, 'Recommendation': [6, 7, 8, 5, 9]},\n",
       " {'userId': 470, 'Recommendation': [3, 2, 4, 5, 7]},\n",
       " {'userId': 471, 'Recommendation': [17, 18, 20, 16, 15]},\n",
       " {'userId': 472, 'Recommendation': [4, 5, 3, 7, 6]},\n",
       " {'userId': 473, 'Recommendation': [21, 22, 28, 26, 19]},\n",
       " {'userId': 474, 'Recommendation': [4, 3, 5, 2, 7]},\n",
       " {'userId': 475, 'Recommendation': [7, 6, 8, 5, 4]},\n",
       " {'userId': 476, 'Recommendation': [4, 5, 3, 2, 7]},\n",
       " {'userId': 477, 'Recommendation': [3, 4, 5, 2, 7]},\n",
       " {'userId': 478, 'Recommendation': [16, 15, 17, 13, 14]},\n",
       " {'userId': 479, 'Recommendation': [4, 5, 3, 2, 7]},\n",
       " {'userId': 480, 'Recommendation': [16, 13, 15, 14, 17]},\n",
       " {'userId': 481, 'Recommendation': [3, 4, 2, 5, 7]},\n",
       " {'userId': 482, 'Recommendation': [5, 4, 7, 6, 8]},\n",
       " {'userId': 483, 'Recommendation': [4, 5, 3, 7, 6]},\n",
       " {'userId': 484, 'Recommendation': [7, 6, 8, 5, 4]},\n",
       " {'userId': 485, 'Recommendation': [9, 25, 11, 8, 10]},\n",
       " {'userId': 486, 'Recommendation': [6, 7, 8, 9, 5]},\n",
       " {'userId': 487, 'Recommendation': [5, 4, 3, 7, 6]},\n",
       " {'userId': 488, 'Recommendation': [21, 22, 20, 18, 19]},\n",
       " {'userId': 489, 'Recommendation': [9, 25, 11, 8, 10]},\n",
       " {'userId': 490, 'Recommendation': [3, 4, 5, 2, 7]},\n",
       " {'userId': 491, 'Recommendation': [16, 15, 13, 17, 14]},\n",
       " {'userId': 492, 'Recommendation': [9, 8, 6, 25, 7]},\n",
       " {'userId': 493, 'Recommendation': [8, 6, 7, 9, 5]},\n",
       " {'userId': 494, 'Recommendation': [3, 2, 4, 5, 7]},\n",
       " {'userId': 495, 'Recommendation': [3, 4, 2, 5, 7]},\n",
       " {'userId': 496, 'Recommendation': [24, 30, 36, 32, 33]},\n",
       " {'userId': 497, 'Recommendation': [12, 14, 13, 10, 16]},\n",
       " {'userId': 498, 'Recommendation': [2, 3, 4, 5, 7]},\n",
       " {'userId': 499, 'Recommendation': [16, 13, 15, 14, 17]},\n",
       " {'userId': 501, 'Recommendation': [8, 6, 7, 9, 5]},\n",
       " {'userId': 502, 'Recommendation': [5, 4, 7, 6, 8]},\n",
       " {'userId': 503, 'Recommendation': [9, 8, 6, 7, 25]},\n",
       " {'userId': 504, 'Recommendation': [3, 4, 2, 5, 7]},\n",
       " {'userId': 505, 'Recommendation': [25, 11, 10, 12, 9]},\n",
       " {'userId': 506, 'Recommendation': [7, 6, 8, 5, 4]},\n",
       " {'userId': 507, 'Recommendation': [10, 11, 25, 12, 14]},\n",
       " {'userId': 508, 'Recommendation': [9, 8, 6, 25, 11]},\n",
       " {'userId': 509, 'Recommendation': [16, 17, 15, 13, 14]},\n",
       " {'userId': 510, 'Recommendation': [25, 10, 11, 12, 9]},\n",
       " {'userId': 511, 'Recommendation': [13, 14, 12, 16, 10]},\n",
       " {'userId': 512, 'Recommendation': [5, 4, 7, 3, 6]},\n",
       " {'userId': 513, 'Recommendation': [7, 6, 5, 8, 4]},\n",
       " {'userId': 514, 'Recommendation': [5, 4, 7, 6, 3]},\n",
       " {'userId': 515, 'Recommendation': [8, 6, 7, 9, 25]},\n",
       " {'userId': 516, 'Recommendation': [2, 3, 4, 5, 7]},\n",
       " {'userId': 517, 'Recommendation': [2, 3, 4, 5, 7]},\n",
       " {'userId': 518, 'Recommendation': [4, 5, 3, 7, 2]},\n",
       " {'userId': 519, 'Recommendation': [10, 25, 11, 12, 14]},\n",
       " {'userId': 520, 'Recommendation': [4, 5, 3, 7, 6]},\n",
       " {'userId': 521, 'Recommendation': [8, 6, 7, 9, 25]},\n",
       " {'userId': 522, 'Recommendation': [4, 5, 3, 7, 6]},\n",
       " {'userId': 523, 'Recommendation': [8, 6, 7, 9, 5]},\n",
       " {'userId': 524, 'Recommendation': [3, 4, 2, 5, 7]},\n",
       " {'userId': 525, 'Recommendation': [9, 11, 25, 10, 12]},\n",
       " {'userId': 526, 'Recommendation': [13, 16, 14, 15, 12]},\n",
       " {'userId': 527, 'Recommendation': [3, 4, 5, 2, 7]},\n",
       " {'userId': 528, 'Recommendation': [2, 3, 4, 5, 7]},\n",
       " {'userId': 529, 'Recommendation': [25, 11, 10, 9, 12]},\n",
       " {'userId': 530, 'Recommendation': [17, 18, 20, 16, 15]},\n",
       " {'userId': 531, 'Recommendation': [4, 5, 3, 7, 6]},\n",
       " {'userId': 532, 'Recommendation': [4, 5, 3, 2, 7]},\n",
       " {'userId': 533, 'Recommendation': [8, 6, 7, 9, 5]},\n",
       " {'userId': 534, 'Recommendation': [9, 8, 25, 6, 11]},\n",
       " {'userId': 535, 'Recommendation': [8, 6, 7, 5, 9]},\n",
       " {'userId': 536, 'Recommendation': [2, 3, 4, 5, 7]},\n",
       " {'userId': 537, 'Recommendation': [8, 6, 7, 9, 5]},\n",
       " {'userId': 538, 'Recommendation': [4, 5, 3, 7, 6]},\n",
       " {'userId': 539, 'Recommendation': [16, 17, 15, 13, 14]},\n",
       " {'userId': 540, 'Recommendation': [17, 15, 16, 13, 14]},\n",
       " {'userId': 541, 'Recommendation': [3, 4, 5, 2, 7]},\n",
       " {'userId': 542, 'Recommendation': [5, 4, 7, 6, 8]},\n",
       " {'userId': 543, 'Recommendation': [4, 5, 3, 7, 6]},\n",
       " {'userId': 544, 'Recommendation': [12, 10, 25, 11, 14]},\n",
       " {'userId': 545, 'Recommendation': [8, 6, 7, 9, 5]},\n",
       " {'userId': 546, 'Recommendation': [13, 14, 12, 16, 10]},\n",
       " {'userId': 547, 'Recommendation': [12, 10, 14, 13, 25]},\n",
       " {'userId': 548, 'Recommendation': [9, 8, 25, 6, 11]},\n",
       " {'userId': 549, 'Recommendation': [3, 2, 4, 5, 7]},\n",
       " {'userId': 550, 'Recommendation': [3, 4, 5, 2, 7]},\n",
       " {'userId': 551, 'Recommendation': [3, 4, 5, 2, 7]},\n",
       " {'userId': 552, 'Recommendation': [8, 9, 6, 7, 25]},\n",
       " {'userId': 553, 'Recommendation': [5, 4, 3, 7, 6]},\n",
       " {'userId': 554, 'Recommendation': [20, 18, 19, 17, 21]},\n",
       " {'userId': 555, 'Recommendation': [12, 10, 11, 14, 13]},\n",
       " {'userId': 556, 'Recommendation': [5, 4, 3, 7, 6]},\n",
       " {'userId': 557, 'Recommendation': [5, 4, 7, 6, 8]},\n",
       " {'userId': 558, 'Recommendation': [4, 3, 5, 2, 7]},\n",
       " {'userId': 559, 'Recommendation': [4, 5, 3, 2, 7]},\n",
       " {'userId': 560, 'Recommendation': [6, 8, 7, 9, 5]},\n",
       " {'userId': 561, 'Recommendation': [4, 5, 3, 7, 6]},\n",
       " {'userId': 562, 'Recommendation': [4, 3, 5, 2, 7]},\n",
       " {'userId': 563, 'Recommendation': [16, 13, 14, 15, 17]},\n",
       " {'userId': 564, 'Recommendation': [3, 2, 4, 5, 7]},\n",
       " {'userId': 565, 'Recommendation': [10, 12, 11, 25, 14]},\n",
       " {'userId': 566, 'Recommendation': [8, 6, 7, 9, 5]},\n",
       " {'userId': 567, 'Recommendation': [9, 8, 25, 6, 11]},\n",
       " {'userId': 568, 'Recommendation': [8, 9, 6, 7, 25]},\n",
       " {'userId': 569, 'Recommendation': [12, 10, 14, 13, 16]},\n",
       " {'userId': 570, 'Recommendation': [5, 4, 7, 6, 8]},\n",
       " {'userId': 571, 'Recommendation': [9, 8, 6, 25, 11]},\n",
       " {'userId': 572, 'Recommendation': [5, 4, 7, 6, 8]},\n",
       " {'userId': 573, 'Recommendation': [4, 5, 3, 2, 7]},\n",
       " {'userId': 574, 'Recommendation': [9, 8, 6, 7, 25]},\n",
       " {'userId': 575, 'Recommendation': [4, 5, 3, 7, 6]},\n",
       " {'userId': 576, 'Recommendation': [4, 3, 5, 2, 7]},\n",
       " {'userId': 577, 'Recommendation': [16, 13, 14, 15, 17]},\n",
       " {'userId': 578, 'Recommendation': [4, 5, 3, 7, 6]},\n",
       " {'userId': 579, 'Recommendation': [2, 3, 4, 5, 7]},\n",
       " {'userId': 580, 'Recommendation': [13, 14, 16, 12, 15]},\n",
       " {'userId': 581, 'Recommendation': [8, 6, 9, 7, 25]},\n",
       " {'userId': 582, 'Recommendation': [9, 8, 6, 25, 7]},\n",
       " {'userId': 583, 'Recommendation': [9, 25, 11, 10, 8]},\n",
       " {'userId': 584, 'Recommendation': [9, 8, 6, 25, 11]},\n",
       " {'userId': 585, 'Recommendation': [2, 3, 4, 5, 7]},\n",
       " {'userId': 586, 'Recommendation': [2, 3, 4, 5, 7]},\n",
       " {'userId': 587, 'Recommendation': [8, 6, 7, 9, 5]},\n",
       " {'userId': 588, 'Recommendation': [3, 2, 4, 5, 7]},\n",
       " {'userId': 589, 'Recommendation': [2, 3, 4, 5, 7]},\n",
       " {'userId': 590, 'Recommendation': [16, 13, 15, 14, 17]},\n",
       " {'userId': 591, 'Recommendation': [12, 10, 13, 14, 11]},\n",
       " {'userId': 592, 'Recommendation': [16, 13, 15, 14, 17]},\n",
       " {'userId': 593, 'Recommendation': [5, 7, 4, 6, 8]},\n",
       " {'userId': 594, 'Recommendation': [11, 10, 12, 25, 14]},\n",
       " {'userId': 595, 'Recommendation': [17, 16, 15, 13, 14]},\n",
       " {'userId': 596, 'Recommendation': [5, 4, 7, 6, 8]},\n",
       " {'userId': 597, 'Recommendation': [13, 14, 16, 15, 17]},\n",
       " {'userId': 598, 'Recommendation': [13, 16, 14, 15, 17]},\n",
       " {'userId': 599, 'Recommendation': [9, 8, 6, 7, 25]},\n",
       " {'userId': 600, 'Recommendation': [9, 25, 8, 11, 6]},\n",
       " {'userId': 601, 'Recommendation': [3, 4, 2, 5, 7]},\n",
       " {'userId': 602, 'Recommendation': [3, 4, 5, 2, 7]},\n",
       " {'userId': 603, 'Recommendation': [2, 3, 4, 5, 7]},\n",
       " {'userId': 604, 'Recommendation': [4, 5, 3, 7, 6]},\n",
       " {'userId': 605, 'Recommendation': [3, 4, 5, 2, 7]},\n",
       " {'userId': 606, 'Recommendation': [9, 8, 25, 6, 11]},\n",
       " {'userId': 607, 'Recommendation': [3, 4, 5, 2, 7]},\n",
       " {'userId': 608, 'Recommendation': [15, 13, 14, 17, 16]},\n",
       " {'userId': 609, 'Recommendation': [3, 2, 4, 5, 7]},\n",
       " {'userId': 610, 'Recommendation': [2, 3, 4, 5, 7]},\n",
       " {'userId': 611, 'Recommendation': [7, 6, 8, 5, 4]},\n",
       " {'userId': 612, 'Recommendation': [14, 13, 15, 16, 17]},\n",
       " {'userId': 613, 'Recommendation': [4, 5, 3, 7, 6]},\n",
       " {'userId': 614, 'Recommendation': [8, 6, 7, 9, 5]},\n",
       " {'userId': 615, 'Recommendation': [7, 6, 5, 8, 4]},\n",
       " {'userId': 616, 'Recommendation': [2, 3, 4, 5, 7]},\n",
       " {'userId': 617, 'Recommendation': [11, 25, 10, 12, 9]},\n",
       " {'userId': 618, 'Recommendation': [4, 5, 3, 7, 6]},\n",
       " {'userId': 619, 'Recommendation': [7, 5, 6, 4, 8]},\n",
       " {'userId': 620, 'Recommendation': [8, 6, 7, 9, 25]},\n",
       " {'userId': 621, 'Recommendation': [9, 8, 6, 7, 25]},\n",
       " {'userId': 622, 'Recommendation': [3, 2, 4, 5, 7]},\n",
       " {'userId': 623, 'Recommendation': [16, 15, 13, 14, 17]},\n",
       " {'userId': 624, 'Recommendation': [2, 3, 4, 5, 7]},\n",
       " {'userId': 625, 'Recommendation': [4, 5, 3, 2, 7]},\n",
       " {'userId': 626, 'Recommendation': [9, 8, 6, 25, 11]},\n",
       " {'userId': 627, 'Recommendation': [9, 25, 11, 10, 8]},\n",
       " {'userId': 628, 'Recommendation': [13, 14, 16, 15, 12]},\n",
       " {'userId': 629, 'Recommendation': [4, 5, 3, 7, 2]},\n",
       " {'userId': 630, 'Recommendation': [8, 6, 7, 9, 5]},\n",
       " {'userId': 631, 'Recommendation': [4, 5, 3, 7, 6]},\n",
       " {'userId': 632, 'Recommendation': [8, 9, 6, 7, 25]},\n",
       " {'userId': 633, 'Recommendation': [9, 8, 6, 7, 25]},\n",
       " {'userId': 634, 'Recommendation': [9, 25, 11, 10, 8]},\n",
       " {'userId': 635, 'Recommendation': [9, 8, 6, 7, 25]},\n",
       " {'userId': 636, 'Recommendation': [13, 14, 12, 16, 10]},\n",
       " {'userId': 637, 'Recommendation': [5, 4, 7, 6, 8]},\n",
       " {'userId': 639, 'Recommendation': [10, 11, 25, 12, 14]},\n",
       " {'userId': 640, 'Recommendation': [18, 20, 19, 17, 15]},\n",
       " {'userId': 641, 'Recommendation': [9, 8, 25, 11, 6]},\n",
       " {'userId': 642, 'Recommendation': [5, 4, 7, 3, 6]},\n",
       " {'userId': 643, 'Recommendation': [9, 8, 6, 25, 7]},\n",
       " {'userId': 644, 'Recommendation': [3, 4, 5, 2, 7]},\n",
       " {'userId': 645, 'Recommendation': [5, 4, 7, 3, 6]},\n",
       " {'userId': 646, 'Recommendation': [7, 6, 8, 5, 4]},\n",
       " {'userId': 647, 'Recommendation': [7, 5, 6, 4, 8]},\n",
       " {'userId': 648, 'Recommendation': [8, 6, 7, 9, 25]},\n",
       " {'userId': 649, 'Recommendation': [12, 14, 10, 13, 11]},\n",
       " {'userId': 650, 'Recommendation': [8, 6, 7, 9, 5]},\n",
       " {'userId': 651, 'Recommendation': [9, 11, 25, 10, 12]},\n",
       " {'userId': 652, 'Recommendation': [8, 6, 7, 9, 25]},\n",
       " {'userId': 653, 'Recommendation': [18, 20, 17, 19, 16]},\n",
       " {'userId': 654, 'Recommendation': [2, 3, 4, 5, 7]},\n",
       " {'userId': 655, 'Recommendation': [3, 2, 4, 5, 7]},\n",
       " {'userId': 656, 'Recommendation': [9, 8, 6, 7, 25]},\n",
       " {'userId': 657, 'Recommendation': [4, 3, 5, 2, 7]},\n",
       " {'userId': 658, 'Recommendation': [9, 8, 11, 25, 6]},\n",
       " {'userId': 659, 'Recommendation': [8, 6, 7, 9, 25]},\n",
       " {'userId': 660, 'Recommendation': [8, 6, 9, 7, 25]},\n",
       " {'userId': 661, 'Recommendation': [1, 2, 3, 4, 5]},\n",
       " {'userId': 662, 'Recommendation': [9, 25, 11, 8, 10]},\n",
       " {'userId': 663, 'Recommendation': [8, 6, 7, 9, 25]},\n",
       " {'userId': 664, 'Recommendation': [5, 4, 3, 7, 6]},\n",
       " {'userId': 665, 'Recommendation': [10, 12, 25, 11, 14]},\n",
       " {'userId': 666, 'Recommendation': [12, 14, 13, 10, 16]},\n",
       " {'userId': 667, 'Recommendation': [8, 9, 6, 7, 25]},\n",
       " {'userId': 668, 'Recommendation': [5, 4, 7, 6, 8]},\n",
       " {'userId': 669, 'Recommendation': [7, 6, 8, 5, 4]},\n",
       " {'userId': 670, 'Recommendation': [4, 5, 3, 7, 6]},\n",
       " {'userId': 671, 'Recommendation': [7, 5, 6, 4, 8]},\n",
       " {'userId': 672, 'Recommendation': [7, 6, 8, 5, 4]},\n",
       " {'userId': 673, 'Recommendation': [8, 6, 9, 7, 25]},\n",
       " {'userId': 674, 'Recommendation': [4, 5, 3, 7, 2]},\n",
       " {'userId': 675, 'Recommendation': [4, 5, 3, 2, 7]},\n",
       " {'userId': 676, 'Recommendation': [8, 6, 7, 9, 5]},\n",
       " {'userId': 677, 'Recommendation': [22, 21, 28, 26, 19]},\n",
       " {'userId': 678, 'Recommendation': [4, 5, 3, 2, 7]},\n",
       " {'userId': 679, 'Recommendation': [9, 25, 11, 8, 6]},\n",
       " {'userId': 680, 'Recommendation': [16, 13, 14, 15, 17]},\n",
       " {'userId': 681, 'Recommendation': [11, 25, 9, 10, 12]},\n",
       " {'userId': 682, 'Recommendation': [5, 4, 7, 6, 8]},\n",
       " {'userId': 683, 'Recommendation': [2, 3, 4, 5, 7]},\n",
       " {'userId': 684, 'Recommendation': [7, 6, 5, 8, 4]},\n",
       " {'userId': 685, 'Recommendation': [30, 27, 33, 31, 24]},\n",
       " {'userId': 686, 'Recommendation': [6, 8, 7, 9, 5]},\n",
       " {'userId': 687, 'Recommendation': [9, 25, 11, 10, 12]},\n",
       " {'userId': 688, 'Recommendation': [2, 3, 4, 5, 7]},\n",
       " {'userId': 689, 'Recommendation': [4, 5, 3, 2, 7]},\n",
       " {'userId': 690, 'Recommendation': [2, 3, 4, 5, 7]},\n",
       " {'userId': 691, 'Recommendation': [9, 25, 11, 8, 10]},\n",
       " {'userId': 692, 'Recommendation': [8, 6, 7, 9, 25]},\n",
       " {'userId': 693, 'Recommendation': [6, 8, 7, 9, 5]},\n",
       " {'userId': 694, 'Recommendation': [5, 4, 7, 6, 8]},\n",
       " {'userId': 695, 'Recommendation': [8, 6, 7, 9, 5]},\n",
       " {'userId': 696, 'Recommendation': [10, 25, 12, 11, 14]},\n",
       " {'userId': 697, 'Recommendation': [9, 25, 11, 10, 12]},\n",
       " {'userId': 698, 'Recommendation': [7, 6, 8, 5, 4]},\n",
       " {'userId': 699, 'Recommendation': [8, 6, 7, 9, 25]},\n",
       " {'userId': 700, 'Recommendation': [8, 6, 7, 9, 5]},\n",
       " {'userId': 701, 'Recommendation': [2, 3, 4, 5, 7]},\n",
       " {'userId': 702, 'Recommendation': [2, 3, 4, 5, 7]},\n",
       " {'userId': 703, 'Recommendation': [9, 25, 11, 10, 12]},\n",
       " {'userId': 704, 'Recommendation': [22, 26, 28, 29, 21]},\n",
       " {'userId': 705, 'Recommendation': [9, 8, 6, 25, 7]},\n",
       " {'userId': 706, 'Recommendation': [20, 18, 19, 17, 21]},\n",
       " {'userId': 707, 'Recommendation': [13, 14, 15, 16, 12]},\n",
       " {'userId': 708, 'Recommendation': [3, 4, 5, 2, 7]},\n",
       " {'userId': 709, 'Recommendation': [3, 2, 4, 5, 7]},\n",
       " {'userId': 710, 'Recommendation': [8, 6, 7, 9, 5]},\n",
       " {'userId': 711, 'Recommendation': [10, 12, 25, 11, 14]},\n",
       " {'userId': 712, 'Recommendation': [4, 3, 5, 2, 7]},\n",
       " {'userId': 713, 'Recommendation': [3, 4, 5, 2, 7]},\n",
       " {'userId': 714, 'Recommendation': [8, 9, 6, 7, 25]},\n",
       " {'userId': 715, 'Recommendation': [3, 2, 4, 5, 7]},\n",
       " {'userId': 716, 'Recommendation': [8, 6, 9, 7, 25]},\n",
       " {'userId': 717, 'Recommendation': [5, 4, 7, 6, 8]},\n",
       " {'userId': 718, 'Recommendation': [5, 4, 3, 7, 6]},\n",
       " {'userId': 719, 'Recommendation': [25, 10, 11, 12, 9]},\n",
       " {'userId': 720, 'Recommendation': [5, 4, 3, 7, 6]},\n",
       " {'userId': 721, 'Recommendation': [10, 12, 25, 11, 13]},\n",
       " {'userId': 722, 'Recommendation': [3, 4, 5, 2, 7]},\n",
       " {'userId': 723, 'Recommendation': [12, 14, 10, 13, 11]},\n",
       " {'userId': 724, 'Recommendation': [9, 8, 6, 7, 25]},\n",
       " {'userId': 725, 'Recommendation': [3, 2, 4, 5, 7]},\n",
       " {'userId': 726, 'Recommendation': [5, 4, 7, 3, 6]},\n",
       " {'userId': 727, 'Recommendation': [3, 4, 5, 2, 7]},\n",
       " {'userId': 728, 'Recommendation': [2, 3, 4, 5, 7]},\n",
       " {'userId': 729, 'Recommendation': [7, 6, 8, 5, 4]},\n",
       " {'userId': 730, 'Recommendation': [11, 10, 12, 25, 14]},\n",
       " {'userId': 731, 'Recommendation': [3, 2, 4, 5, 7]},\n",
       " {'userId': 732, 'Recommendation': [7, 6, 8, 5, 4]},\n",
       " {'userId': 733, 'Recommendation': [4, 5, 3, 7, 2]},\n",
       " {'userId': 734, 'Recommendation': [25, 10, 11, 12, 14]},\n",
       " {'userId': 735, 'Recommendation': [16, 17, 15, 13, 14]},\n",
       " {'userId': 736, 'Recommendation': [7, 6, 8, 5, 4]},\n",
       " {'userId': 737, 'Recommendation': [9, 8, 6, 7, 25]},\n",
       " {'userId': 738, 'Recommendation': [4, 3, 5, 2, 7]},\n",
       " {'userId': 739, 'Recommendation': [7, 6, 8, 5, 4]},\n",
       " {'userId': 740, 'Recommendation': [4, 5, 3, 7, 2]},\n",
       " {'userId': 741, 'Recommendation': [10, 11, 25, 12, 14]},\n",
       " {'userId': 742, 'Recommendation': [4, 5, 3, 7, 2]},\n",
       " {'userId': 743, 'Recommendation': [10, 12, 11, 25, 14]},\n",
       " {'userId': 744, 'Recommendation': [11, 10, 12, 25, 14]},\n",
       " {'userId': 745, 'Recommendation': [24, 30, 36, 32, 33]},\n",
       " {'userId': 746, 'Recommendation': [3, 2, 4, 5, 7]},\n",
       " {'userId': 747, 'Recommendation': [9, 8, 6, 7, 25]},\n",
       " {'userId': 748, 'Recommendation': [3, 4, 5, 2, 7]},\n",
       " {'userId': 749, 'Recommendation': [3, 4, 5, 2, 7]},\n",
       " {'userId': 750, 'Recommendation': [8, 6, 7, 9, 25]},\n",
       " {'userId': 751, 'Recommendation': [10, 12, 11, 25, 14]},\n",
       " {'userId': 752, 'Recommendation': [5, 4, 7, 6, 8]},\n",
       " {'userId': 753, 'Recommendation': [6, 8, 7, 9, 5]},\n",
       " {'userId': 754, 'Recommendation': [2, 3, 4, 5, 7]},\n",
       " {'userId': 755, 'Recommendation': [13, 14, 16, 15, 12]},\n",
       " {'userId': 756, 'Recommendation': [5, 4, 7, 3, 6]},\n",
       " {'userId': 757, 'Recommendation': [4, 3, 5, 2, 7]},\n",
       " {'userId': 758, 'Recommendation': [9, 8, 6, 25, 11]},\n",
       " {'userId': 759, 'Recommendation': [25, 11, 10, 12, 9]},\n",
       " {'userId': 760, 'Recommendation': [12, 10, 11, 14, 13]},\n",
       " {'userId': 761, 'Recommendation': [9, 8, 25, 6, 11]},\n",
       " {'userId': 762, 'Recommendation': [3, 4, 2, 5, 7]},\n",
       " {'userId': 763, 'Recommendation': [3, 2, 4, 5, 7]},\n",
       " {'userId': 764, 'Recommendation': [3, 2, 4, 5, 7]},\n",
       " {'userId': 765, 'Recommendation': [3, 2, 4, 5, 7]},\n",
       " {'userId': 766, 'Recommendation': [23, 29, 27, 31, 33]},\n",
       " {'userId': 767, 'Recommendation': [3, 4, 5, 2, 7]},\n",
       " {'userId': 768, 'Recommendation': [2, 3, 4, 5, 7]},\n",
       " {'userId': 769, 'Recommendation': [17, 18, 20, 16, 15]},\n",
       " {'userId': 770, 'Recommendation': [5, 4, 7, 6, 8]},\n",
       " {'userId': 771, 'Recommendation': [5, 7, 4, 6, 8]},\n",
       " {'userId': 772, 'Recommendation': [9, 8, 25, 6, 11]},\n",
       " {'userId': 773, 'Recommendation': [7, 6, 8, 5, 4]},\n",
       " {'userId': 774, 'Recommendation': [3, 2, 4, 5, 7]},\n",
       " {'userId': 775, 'Recommendation': [2, 3, 4, 5, 7]},\n",
       " {'userId': 776, 'Recommendation': [4, 5, 3, 2, 7]},\n",
       " {'userId': 777, 'Recommendation': [3, 4, 5, 2, 7]},\n",
       " {'userId': 778, 'Recommendation': [9, 25, 11, 10, 8]},\n",
       " {'userId': 779, 'Recommendation': [9, 25, 8, 6, 11]},\n",
       " {'userId': 780, 'Recommendation': [16, 15, 13, 17, 14]},\n",
       " {'userId': 781, 'Recommendation': [7, 6, 8, 5, 4]},\n",
       " {'userId': 782, 'Recommendation': [30, 27, 33, 31, 24]},\n",
       " {'userId': 783, 'Recommendation': [9, 25, 11, 8, 6]},\n",
       " {'userId': 784, 'Recommendation': [8, 6, 9, 7, 25]},\n",
       " {'userId': 785, 'Recommendation': [20, 18, 19, 17, 21]},\n",
       " {'userId': 786, 'Recommendation': [9, 25, 11, 8, 10]},\n",
       " {'userId': 787, 'Recommendation': [2, 3, 4, 5, 7]},\n",
       " {'userId': 788, 'Recommendation': [9, 8, 6, 25, 7]},\n",
       " {'userId': 789, 'Recommendation': [4, 5, 3, 2, 7]},\n",
       " {'userId': 790, 'Recommendation': [3, 2, 4, 5, 7]},\n",
       " {'userId': 791, 'Recommendation': [12, 10, 25, 11, 14]},\n",
       " {'userId': 792, 'Recommendation': [9, 25, 11, 8, 10]},\n",
       " {'userId': 793, 'Recommendation': [10, 11, 25, 12, 14]},\n",
       " {'userId': 794, 'Recommendation': [10, 25, 11, 12, 14]},\n",
       " {'userId': 795, 'Recommendation': [3, 4, 2, 5, 7]},\n",
       " {'userId': 796, 'Recommendation': [11, 25, 10, 12, 9]},\n",
       " {'userId': 797, 'Recommendation': [2, 3, 4, 5, 7]},\n",
       " {'userId': 798, 'Recommendation': [7, 5, 4, 6, 8]},\n",
       " {'userId': 799, 'Recommendation': [3, 2, 4, 5, 7]},\n",
       " {'userId': 800, 'Recommendation': [9, 25, 11, 8, 10]},\n",
       " {'userId': 801, 'Recommendation': [4, 5, 3, 7, 6]},\n",
       " {'userId': 802, 'Recommendation': [4, 5, 3, 7, 6]},\n",
       " {'userId': 803, 'Recommendation': [3, 4, 5, 2, 7]},\n",
       " {'userId': 804, 'Recommendation': [7, 6, 8, 5, 4]},\n",
       " {'userId': 805, 'Recommendation': [4, 3, 5, 2, 7]},\n",
       " {'userId': 806, 'Recommendation': [25, 10, 11, 12, 9]},\n",
       " {'userId': 807, 'Recommendation': [20, 18, 17, 19, 16]},\n",
       " {'userId': 808, 'Recommendation': [5, 7, 4, 6, 8]},\n",
       " {'userId': 809, 'Recommendation': [9, 8, 6, 7, 25]},\n",
       " {'userId': 810, 'Recommendation': [6, 8, 7, 9, 5]},\n",
       " {'userId': 811, 'Recommendation': [9, 8, 6, 25, 7]},\n",
       " {'userId': 812, 'Recommendation': [9, 8, 6, 25, 7]},\n",
       " {'userId': 813, 'Recommendation': [9, 25, 11, 10, 12]},\n",
       " {'userId': 814, 'Recommendation': [9, 8, 6, 7, 11]},\n",
       " {'userId': 815, 'Recommendation': [8, 9, 6, 7, 25]},\n",
       " {'userId': 816, 'Recommendation': [14, 13, 12, 10, 15]},\n",
       " {'userId': 817, 'Recommendation': [16, 13, 14, 15, 12]},\n",
       " {'userId': 818, 'Recommendation': [4, 3, 5, 2, 7]},\n",
       " {'userId': 819, 'Recommendation': [9, 25, 8, 11, 6]},\n",
       " {'userId': 820, 'Recommendation': [5, 4, 7, 6, 8]},\n",
       " {'userId': 821, 'Recommendation': [21, 22, 20, 19, 18]},\n",
       " {'userId': 822, 'Recommendation': [12, 10, 25, 14, 13]},\n",
       " {'userId': 823, 'Recommendation': [8, 6, 7, 9, 5]},\n",
       " {'userId': 824, 'Recommendation': [4, 3, 5, 2, 7]},\n",
       " {'userId': 825, 'Recommendation': [30, 24, 27, 33, 31]},\n",
       " {'userId': 826, 'Recommendation': [5, 4, 7, 6, 8]},\n",
       " {'userId': 828, 'Recommendation': [15, 17, 16, 13, 14]},\n",
       " {'userId': 829, 'Recommendation': [25, 10, 12, 11, 13]},\n",
       " {'userId': 830, 'Recommendation': [4, 5, 3, 7, 6]},\n",
       " {'userId': 831, 'Recommendation': [13, 12, 14, 10, 16]},\n",
       " {'userId': 832, 'Recommendation': [8, 6, 7, 9, 5]},\n",
       " {'userId': 833, 'Recommendation': [3, 2, 4, 5, 7]},\n",
       " {'userId': 834, 'Recommendation': [3, 2, 4, 5, 7]},\n",
       " {'userId': 835, 'Recommendation': [5, 4, 7, 3, 6]},\n",
       " {'userId': 836, 'Recommendation': [6, 8, 7, 5, 4]},\n",
       " {'userId': 837, 'Recommendation': [8, 6, 7, 9, 5]},\n",
       " {'userId': 838, 'Recommendation': [8, 6, 7, 9, 5]},\n",
       " {'userId': 839, 'Recommendation': [3, 2, 4, 5, 7]},\n",
       " {'userId': 840, 'Recommendation': [9, 8, 6, 7, 25]},\n",
       " {'userId': 841, 'Recommendation': [4, 5, 3, 7, 6]},\n",
       " {'userId': 842, 'Recommendation': [3, 4, 2, 5, 7]},\n",
       " {'userId': 843, 'Recommendation': [8, 6, 9, 7, 25]},\n",
       " {'userId': 844, 'Recommendation': [1, 2, 3, 4, 5]},\n",
       " {'userId': 845, 'Recommendation': [5, 4, 3, 7, 6]},\n",
       " {'userId': 846, 'Recommendation': [2, 3, 4, 5, 7]},\n",
       " {'userId': 847, 'Recommendation': [25, 10, 11, 12, 14]},\n",
       " {'userId': 848, 'Recommendation': [4, 5, 3, 7, 6]},\n",
       " {'userId': 849, 'Recommendation': [9, 8, 6, 7, 25]},\n",
       " {'userId': 850, 'Recommendation': [5, 4, 7, 6, 3]},\n",
       " {'userId': 851, 'Recommendation': [5, 4, 3, 7, 6]},\n",
       " {'userId': 852, 'Recommendation': [8, 6, 7, 9, 5]},\n",
       " {'userId': 853, 'Recommendation': [4, 5, 3, 7, 6]},\n",
       " {'userId': 854, 'Recommendation': [3, 4, 5, 2, 7]},\n",
       " {'userId': 855, 'Recommendation': [9, 8, 6, 7, 25]},\n",
       " {'userId': 856, 'Recommendation': [3, 2, 4, 5, 7]},\n",
       " {'userId': 857, 'Recommendation': [9, 8, 6, 7, 25]},\n",
       " {'userId': 858, 'Recommendation': [9, 25, 11, 10, 8]},\n",
       " {'userId': 859, 'Recommendation': [5, 4, 7, 6, 8]},\n",
       " {'userId': 860, 'Recommendation': [2, 3, 4, 5, 7]},\n",
       " {'userId': 861, 'Recommendation': [25, 10, 11, 12, 9]},\n",
       " {'userId': 862, 'Recommendation': [22, 21, 26, 28, 20]},\n",
       " {'userId': 863, 'Recommendation': [2, 3, 4, 5, 7]},\n",
       " {'userId': 864, 'Recommendation': [20, 21, 18, 19, 22]},\n",
       " {'userId': 865, 'Recommendation': [7, 5, 6, 4, 8]},\n",
       " {'userId': 866, 'Recommendation': [14, 13, 15, 16, 12]},\n",
       " {'userId': 867, 'Recommendation': [4, 3, 5, 2, 7]},\n",
       " {'userId': 868, 'Recommendation': [13, 14, 12, 16, 10]},\n",
       " {'userId': 869, 'Recommendation': [6, 8, 7, 9, 5]},\n",
       " {'userId': 870, 'Recommendation': [3, 2, 4, 5, 7]},\n",
       " {'userId': 871, 'Recommendation': [5, 7, 4, 6, 8]},\n",
       " {'userId': 872, 'Recommendation': [8, 6, 7, 9, 25]},\n",
       " {'userId': 873, 'Recommendation': [4, 5, 3, 2, 7]},\n",
       " {'userId': 874, 'Recommendation': [3, 4, 5, 2, 7]},\n",
       " {'userId': 875, 'Recommendation': [9, 25, 11, 10, 8]},\n",
       " {'userId': 876, 'Recommendation': [8, 6, 7, 9, 25]},\n",
       " {'userId': 877, 'Recommendation': [9, 25, 8, 11, 6]},\n",
       " {'userId': 878, 'Recommendation': [3, 2, 4, 5, 7]},\n",
       " {'userId': 879, 'Recommendation': [3, 2, 4, 5, 7]},\n",
       " {'userId': 880, 'Recommendation': [3, 4, 5, 2, 7]},\n",
       " {'userId': 881, 'Recommendation': [20, 18, 19, 21, 17]},\n",
       " {'userId': 882, 'Recommendation': [14, 13, 15, 16, 12]},\n",
       " {'userId': 883, 'Recommendation': [4, 5, 3, 7, 2]},\n",
       " {'userId': 884, 'Recommendation': [20, 18, 19, 21, 17]},\n",
       " {'userId': 885, 'Recommendation': [3, 2, 4, 5, 7]},\n",
       " {'userId': 886, 'Recommendation': [9, 8, 6, 25, 7]},\n",
       " {'userId': 887, 'Recommendation': [3, 4, 5, 2, 7]},\n",
       " {'userId': 888, 'Recommendation': [2, 3, 4, 5, 7]},\n",
       " {'userId': 889, 'Recommendation': [9, 25, 11, 10, 12]},\n",
       " {'userId': 890, 'Recommendation': [7, 6, 8, 5, 4]},\n",
       " {'userId': 891, 'Recommendation': [3, 4, 5, 2, 7]},\n",
       " {'userId': 892, 'Recommendation': [3, 2, 4, 5, 7]},\n",
       " {'userId': 893, 'Recommendation': [3, 2, 4, 5, 7]},\n",
       " {'userId': 894, 'Recommendation': [9, 25, 11, 8, 10]},\n",
       " {'userId': 895, 'Recommendation': [2, 3, 4, 5, 7]},\n",
       " {'userId': 896, 'Recommendation': [5, 4, 3, 7, 6]},\n",
       " {'userId': 897, 'Recommendation': [5, 4, 7, 6, 8]},\n",
       " {'userId': 898, 'Recommendation': [14, 13, 12, 10, 16]},\n",
       " {'userId': 899, 'Recommendation': [4, 5, 3, 2, 7]},\n",
       " {'userId': 900, 'Recommendation': [5, 7, 4, 6, 8]},\n",
       " {'userId': 901, 'Recommendation': [7, 6, 5, 8, 4]},\n",
       " {'userId': 902, 'Recommendation': [3, 2, 4, 5, 7]},\n",
       " {'userId': 903, 'Recommendation': [5, 4, 7, 6, 3]},\n",
       " {'userId': 904, 'Recommendation': [5, 4, 7, 6, 3]},\n",
       " {'userId': 905, 'Recommendation': [12, 10, 11, 14, 13]},\n",
       " {'userId': 906, 'Recommendation': [5, 4, 7, 6, 8]},\n",
       " {'userId': 907, 'Recommendation': [3, 4, 5, 2, 7]},\n",
       " {'userId': 908, 'Recommendation': [4, 5, 3, 2, 7]},\n",
       " {'userId': 909, 'Recommendation': [2, 3, 4, 5, 7]},\n",
       " {'userId': 910, 'Recommendation': [7, 5, 6, 4, 8]},\n",
       " {'userId': 911, 'Recommendation': [14, 13, 15, 16, 12]},\n",
       " {'userId': 912, 'Recommendation': [2, 3, 4, 5, 7]},\n",
       " {'userId': 913, 'Recommendation': [6, 7, 8, 9, 5]},\n",
       " {'userId': 914, 'Recommendation': [8, 6, 7, 9, 5]},\n",
       " {'userId': 915, 'Recommendation': [16, 17, 15, 13, 14]},\n",
       " {'userId': 916, 'Recommendation': [7, 6, 8, 5, 4]},\n",
       " {'userId': 917, 'Recommendation': [25, 11, 10, 12, 9]},\n",
       " {'userId': 918, 'Recommendation': [11, 9, 25, 10, 12]},\n",
       " {'userId': 919, 'Recommendation': [8, 6, 7, 9, 5]},\n",
       " {'userId': 920, 'Recommendation': [14, 13, 12, 10, 16]},\n",
       " {'userId': 921, 'Recommendation': [3, 2, 4, 5, 7]},\n",
       " {'userId': 922, 'Recommendation': [5, 4, 7, 3, 6]},\n",
       " {'userId': 923, 'Recommendation': [6, 8, 7, 9, 5]},\n",
       " {'userId': 924, 'Recommendation': [12, 10, 14, 13, 16]},\n",
       " {'userId': 925, 'Recommendation': [13, 14, 15, 16, 12]},\n",
       " {'userId': 926, 'Recommendation': [11, 25, 9, 10, 12]},\n",
       " {'userId': 927, 'Recommendation': [2, 3, 4, 5, 7]},\n",
       " {'userId': 928, 'Recommendation': [9, 25, 11, 10, 8]},\n",
       " {'userId': 929, 'Recommendation': [7, 5, 6, 4, 8]},\n",
       " {'userId': 930, 'Recommendation': [5, 4, 7, 6, 8]},\n",
       " {'userId': 931, 'Recommendation': [8, 6, 7, 9, 25]},\n",
       " {'userId': 932, 'Recommendation': [8, 6, 9, 7, 25]},\n",
       " {'userId': 933, 'Recommendation': [5, 4, 7, 6, 8]},\n",
       " {'userId': 934, 'Recommendation': [3, 4, 2, 5, 7]},\n",
       " {'userId': 935, 'Recommendation': [5, 4, 7, 3, 6]},\n",
       " {'userId': 936, 'Recommendation': [8, 6, 9, 7, 25]},\n",
       " {'userId': 937, 'Recommendation': [9, 25, 11, 8, 10]},\n",
       " {'userId': 938, 'Recommendation': [12, 10, 14, 13, 11]},\n",
       " {'userId': 939, 'Recommendation': [11, 25, 10, 12, 9]},\n",
       " {'userId': 940, 'Recommendation': [7, 6, 8, 5, 4]},\n",
       " {'userId': 941, 'Recommendation': [8, 6, 7, 9, 25]},\n",
       " {'userId': 942, 'Recommendation': [7, 5, 4, 6, 8]},\n",
       " {'userId': 943, 'Recommendation': [4, 5, 3, 2, 7]},\n",
       " {'userId': 944, 'Recommendation': [5, 4, 7, 6, 8]},\n",
       " {'userId': 945, 'Recommendation': [13, 14, 16, 15, 12]},\n",
       " {'userId': 946, 'Recommendation': [6, 7, 8, 5, 9]},\n",
       " {'userId': 947, 'Recommendation': [3, 2, 4, 5, 7]},\n",
       " {'userId': 948, 'Recommendation': [17, 15, 16, 13, 14]},\n",
       " {'userId': 949, 'Recommendation': [3, 2, 4, 5, 7]},\n",
       " {'userId': 950, 'Recommendation': [2, 3, 4, 5, 7]},\n",
       " {'userId': 951, 'Recommendation': [3, 2, 4, 5, 7]},\n",
       " {'userId': 952, 'Recommendation': [3, 2, 4, 5, 7]},\n",
       " {'userId': 953, 'Recommendation': [3, 4, 5, 2, 7]},\n",
       " {'userId': 954, 'Recommendation': [9, 25, 11, 10, 12]},\n",
       " {'userId': 955, 'Recommendation': [5, 4, 7, 3, 6]},\n",
       " {'userId': 956, 'Recommendation': [9, 25, 11, 8, 6]},\n",
       " {'userId': 957, 'Recommendation': [13, 14, 16, 15, 12]},\n",
       " {'userId': 958, 'Recommendation': [3, 2, 4, 5, 7]},\n",
       " {'userId': 959, 'Recommendation': [25, 9, 11, 10, 12]},\n",
       " {'userId': 960, 'Recommendation': [25, 11, 10, 9, 12]},\n",
       " {'userId': 961, 'Recommendation': [16, 13, 14, 15, 17]},\n",
       " {'userId': 962, 'Recommendation': [3, 2, 4, 5, 7]},\n",
       " {'userId': 963, 'Recommendation': [16, 15, 17, 13, 14]},\n",
       " {'userId': 964, 'Recommendation': [5, 4, 7, 3, 6]},\n",
       " {'userId': 965, 'Recommendation': [5, 4, 7, 6, 3]},\n",
       " {'userId': 966, 'Recommendation': [17, 15, 16, 18, 13]},\n",
       " {'userId': 967, 'Recommendation': [25, 10, 11, 12, 9]},\n",
       " {'userId': 968, 'Recommendation': [7, 6, 5, 8, 4]},\n",
       " {'userId': 969, 'Recommendation': [4, 5, 3, 2, 7]},\n",
       " {'userId': 970, 'Recommendation': [7, 5, 6, 4, 8]},\n",
       " {'userId': 971, 'Recommendation': [5, 4, 3, 7, 6]},\n",
       " {'userId': 972, 'Recommendation': [8, 9, 6, 7, 25]},\n",
       " {'userId': 973, 'Recommendation': [3, 4, 5, 2, 7]},\n",
       " {'userId': 974, 'Recommendation': [9, 25, 11, 10, 8]},\n",
       " {'userId': 975, 'Recommendation': [2, 3, 4, 5, 7]},\n",
       " {'userId': 976, 'Recommendation': [9, 8, 6, 7, 25]},\n",
       " {'userId': 977, 'Recommendation': [8, 6, 7, 9, 25]},\n",
       " {'userId': 978, 'Recommendation': [16, 13, 15, 14, 17]},\n",
       " {'userId': 979, 'Recommendation': [9, 8, 6, 7, 25]},\n",
       " {'userId': 980, 'Recommendation': [5, 4, 7, 6, 3]},\n",
       " {'userId': 981, 'Recommendation': [6, 8, 7, 9, 5]},\n",
       " {'userId': 982, 'Recommendation': [2, 3, 4, 5, 7]},\n",
       " {'userId': 983, 'Recommendation': [8, 6, 7, 9, 5]},\n",
       " {'userId': 984, 'Recommendation': [3, 4, 5, 2, 7]},\n",
       " {'userId': 985, 'Recommendation': [8, 6, 9, 7, 25]},\n",
       " {'userId': 986, 'Recommendation': [6, 7, 8, 9, 5]},\n",
       " {'userId': 987, 'Recommendation': [4, 3, 5, 2, 7]},\n",
       " {'userId': 988, 'Recommendation': [19, 18, 20, 21, 17]},\n",
       " {'userId': 989, 'Recommendation': [16, 15, 13, 14, 17]},\n",
       " {'userId': 990, 'Recommendation': [9, 8, 6, 7, 25]},\n",
       " {'userId': 991, 'Recommendation': [16, 13, 14, 15, 12]},\n",
       " {'userId': 992, 'Recommendation': [9, 25, 11, 10, 12]},\n",
       " {'userId': 993, 'Recommendation': [2, 3, 4, 5, 7]},\n",
       " {'userId': 994, 'Recommendation': [6, 7, 8, 9, 5]},\n",
       " {'userId': 995, 'Recommendation': [9, 8, 6, 7, 25]},\n",
       " {'userId': 996, 'Recommendation': [8, 9, 6, 7, 25]},\n",
       " {'userId': 997, 'Recommendation': [7, 6, 8, 5, 4]},\n",
       " {'userId': 998, 'Recommendation': [36, 32, 24, 30, 35]},\n",
       " {'userId': 999, 'Recommendation': [16, 13, 14, 15, 17]},\n",
       " {'userId': 1000, 'Recommendation': [25, 11, 9, 10, 12]},\n",
       " {'userId': 1001, 'Recommendation': [4, 5, 3, 7, 6]},\n",
       " {'userId': 1002, 'Recommendation': [5, 4, 7, 3, 6]},\n",
       " {'userId': 1003, 'Recommendation': [7, 6, 8, 5, 4]},\n",
       " {'userId': 1004, 'Recommendation': [3, 4, 5, 2, 7]},\n",
       " ...]"
      ]
     },
     "execution_count": 57,
     "metadata": {},
     "output_type": "execute_result"
    }
   ],
   "source": [
    "top_n_recommendations"
   ]
  },
  {
   "cell_type": "code",
   "execution_count": 58,
   "id": "9865826d-f3c1-46ba-8c55-5a6fa58bcf70",
   "metadata": {
    "id": "9865826d-f3c1-46ba-8c55-5a6fa58bcf70"
   },
   "outputs": [],
   "source": [
    "# Function to recommend top N loans not taken by the user\n",
    "def recommend_loans_not_taken(user_id, recommendations, actual_loans_taken, top_n):\n",
    "    taken_loans = set(actual_loans_taken.get(user_id, []))\n",
    "    recommended_loans = []\n",
    "    for rec in recommendations:\n",
    "        loan_id = list(rec.keys())[0]\n",
    "        if loan_id not in taken_loans:\n",
    "            recommended_loans.append(loan_id)\n",
    "            if len(recommended_loans) == top_n:\n",
    "                break\n",
    "    return recommended_loans\n",
    "\n",
    "# Define a dictionary to store actual loans taken by each user\n",
    "actual_loans_taken_dict = {record['userId']: record['loans'] for record in Actual_loans_taken}\n",
    "\n",
    "# Create a list to store recommendations for each user\n",
    "recommendations_for_users = []\n",
    "\n",
    "# Iterate over each user\n",
    "for rec_user in CosineSilty_first10:\n",
    "    user_id = rec_user['UserId']\n",
    "    recommendations = rec_user['Recommendation']\n",
    "    # Recommend top N loans not taken by the user\n",
    "    recommended_loans = recommend_loans_not_taken(user_id, recommendations, actual_loans_taken_dict, top_n=5)\n",
    "    recommendations_for_users.append({'UserId': user_id, 'Recommendations': recommended_loans})\n",
    "\n"
   ]
  },
  {
   "cell_type": "code",
   "execution_count": 81,
   "id": "86d67c5e-213a-4e2a-aae0-e6bdd4eadf33",
   "metadata": {},
   "outputs": [
    {
     "data": {
      "text/plain": [
       "{1: [15, 12, 30, 16, 24, 21, 18, 14, 8],\n",
       " 3: [6, 10, 25, 4, 8],\n",
       " 5: [16, 6, 3, 10, 8],\n",
       " 6: [12, 16, 8],\n",
       " 9: [6, 7],\n",
       " 12: [16, 2, 17, 6, 21, 14, 8],\n",
       " 13: [2, 6, 25, 4, 8],\n",
       " 15: [5, 2, 6, 3, 10, 25, 4, 8],\n",
       " 16: [12, 16, 25, 8],\n",
       " 17: [12, 16, 5, 2, 20, 6, 3, 10, 4, 11, 8],\n",
       " 19: [16, 2, 18, 10, 4, 14, 8],\n",
       " 20: [8],\n",
       " 22: [5, 6, 3],\n",
       " 26: [18, 10, 8],\n",
       " 27: [5, 2, 6, 8],\n",
       " 28: [5, 10, 14, 8],\n",
       " 31: [30, 16, 24, 3, 18, 21, 10, 4, 14],\n",
       " 34: [15, 12, 19, 6, 3, 18, 24, 10, 7, 4, 14, 11, 8],\n",
       " 37: [38, 10, 25, 4, 11, 26, 13, 5, 20, 35, 6, 7, 14, 8, 23],\n",
       " 40: [16, 10, 14],\n",
       " 41: [27, 16, 38, 32, 21, 14],\n",
       " 43: [30, 16, 38, 24, 21, 36, 23],\n",
       " 44: [6, 25, 8],\n",
       " 47: [16, 13, 5, 6, 8],\n",
       " 48: [9, 2, 6, 4, 8],\n",
       " 52: [12, 3, 10, 25, 8],\n",
       " 53: [15, 6, 18, 10, 14, 8],\n",
       " 54: [12, 5, 2, 6, 3, 10, 7, 4, 14, 8],\n",
       " 57: [15, 6, 21, 18, 10, 25, 14, 8],\n",
       " 61: [2, 6, 10],\n",
       " 64: [5, 2, 3],\n",
       " 65: [15, 2, 6, 10, 8],\n",
       " 72: [16, 13, 6, 4, 8],\n",
       " 76: [16, 6, 21, 10, 22, 26],\n",
       " 78: [13, 2, 10, 4, 8],\n",
       " 81: [5, 2, 6, 3, 4],\n",
       " 85: [15, 12, 16, 17, 21, 18, 10, 25, 4, 8],\n",
       " 86: [12, 16, 5, 2, 6, 3, 10, 7, 4, 8],\n",
       " 88: [5, 2, 6, 3, 4, 8],\n",
       " 91: [16, 2, 25, 4, 8],\n",
       " 92: [5, 2, 6, 4],\n",
       " 93: [12, 27, 16, 20, 17, 6, 21, 4, 8],\n",
       " 94: [16, 6, 10, 14, 8],\n",
       " 96: [12, 16, 2, 17, 6, 21, 10, 8],\n",
       " 101: [16, 25, 4],\n",
       " 103: [16, 2, 6],\n",
       " 107: [5, 2, 4, 8],\n",
       " 108: [2, 6, 3, 8],\n",
       " 111: [15, 16, 2, 6, 10, 8],\n",
       " 112: [16, 24, 21, 25, 14],\n",
       " 115: [5, 2, 6, 3, 7, 4],\n",
       " 117: [12, 16, 5, 10, 4, 14, 8],\n",
       " 120: [2, 3],\n",
       " 122: [15, 21, 18],\n",
       " 126: [12, 2, 6, 4, 8],\n",
       " 127: [6, 10, 11, 8],\n",
       " 128: [16],\n",
       " 132: [2],\n",
       " 133: [25],\n",
       " 137: [2, 3, 10, 4],\n",
       " 139: [6, 10, 4, 14, 8],\n",
       " 140: [2],\n",
       " 142: [16, 18],\n",
       " 146: [16, 6, 14, 8],\n",
       " 148: [12, 16, 5, 2, 6, 21, 3, 4, 14, 8],\n",
       " 152: [12, 9, 16, 2, 20, 6, 24, 25, 23],\n",
       " 154: [21, 14, 8],\n",
       " 155: [16, 6, 24, 21, 10, 25],\n",
       " 157: [15, 16, 24, 21, 18, 10, 25, 4, 22, 14, 8, 23],\n",
       " 159: [5, 7, 4],\n",
       " 163: [2, 6, 3, 4],\n",
       " 164: [12, 16, 8],\n",
       " 165: [8, 23],\n",
       " 168: [2, 4],\n",
       " 169: [2, 3, 18, 4, 8],\n",
       " 177: [15, 12, 9, 19, 16, 20, 6, 21, 18, 10, 8],\n",
       " 178: [12, 5, 2, 6, 3],\n",
       " 179: [6, 14, 8],\n",
       " 182: [13, 6, 8],\n",
       " 183: [12, 27, 19, 6, 24, 18, 21, 25, 4, 22, 8, 26, 23],\n",
       " 185: [5, 6, 4, 8],\n",
       " 189: [15, 16, 32, 8, 23],\n",
       " 190: [16, 5, 6, 3, 10, 4, 14, 8],\n",
       " 191: [15, 30, 16, 24, 10, 4, 26, 27, 5, 35, 6, 7, 22, 14, 8, 23],\n",
       " 192: [15, 12, 16, 3, 10, 14],\n",
       " 193: [2, 4, 8],\n",
       " 197: [2, 4, 8],\n",
       " 202: [16, 6],\n",
       " 205: [17, 4, 8],\n",
       " 206: [2, 4, 8],\n",
       " 207: [12, 9, 19, 16, 13, 5, 2, 17, 6, 3, 4, 14, 8],\n",
       " 209: [16, 10, 8],\n",
       " 210: [5, 2, 3, 4, 8],\n",
       " 211: [16, 18, 11, 23],\n",
       " 212: [16, 2, 25, 4],\n",
       " 218: [15, 12, 16, 2, 6, 4, 11],\n",
       " 222: [2, 6, 24, 4, 8],\n",
       " 223: [12, 5, 2, 6, 25, 4, 14, 8],\n",
       " 224: [2, 6, 14],\n",
       " 225: [16, 25, 8],\n",
       " 227: [30, 27, 16, 31, 24, 21, 22, 14, 26],\n",
       " 230: [15, 12, 27, 16, 24, 18, 25, 4, 14, 8],\n",
       " 231: [16, 10, 25, 8, 23],\n",
       " 232: [5, 2, 3, 4, 8],\n",
       " 233: [2, 3, 4, 8],\n",
       " 235: [2, 6, 4, 8],\n",
       " 236: [16, 2, 3, 4, 8],\n",
       " 243: [12, 6, 10, 7, 4, 11, 8],\n",
       " 246: [12, 16, 2, 20, 6, 3, 25, 4, 14, 8, 23],\n",
       " 250: [12, 2, 35, 21],\n",
       " 251: [14, 8],\n",
       " 253: [16, 24, 14, 23],\n",
       " 255: [12, 27, 2, 25, 8],\n",
       " 257: [18, 8],\n",
       " 258: [19, 16, 5, 2, 24, 21, 25, 8],\n",
       " 259: [2, 6, 14],\n",
       " 262: [12, 13, 2, 6, 10, 25, 14, 11, 8, 23],\n",
       " 263: [19, 25, 8],\n",
       " 266: [16, 2, 24, 18, 10, 25, 4, 26, 12, 27, 19, 5, 6, 21, 22, 8, 23],\n",
       " 268: [2],\n",
       " 269: [2, 10, 4],\n",
       " 271: [13, 6, 8],\n",
       " 274: [17, 6, 10, 4, 14, 8],\n",
       " 279: [12, 16, 6, 10, 25, 4, 14, 8],\n",
       " 280: [15, 12, 9, 16, 13, 17, 6, 10, 25, 4, 8],\n",
       " 283: [12, 6, 10, 4, 8],\n",
       " 285: [16, 6, 10, 4],\n",
       " 286: [5, 2, 3],\n",
       " 291: [6, 10, 4, 11, 8],\n",
       " 292: [27, 2, 24, 14],\n",
       " 295: [2, 4],\n",
       " 296: [6, 24, 8],\n",
       " 297: [12, 5, 6],\n",
       " 299: [12, 16, 7],\n",
       " 300: [30, 27, 16, 38, 35, 32, 24, 21, 18, 10, 14, 8, 23],\n",
       " 305: [15, 12, 9, 5, 20, 17, 10, 4, 8],\n",
       " 306: [16, 25, 14, 8, 23],\n",
       " 308: [16, 38, 24, 8],\n",
       " 309: [16, 25],\n",
       " 316: [19, 16, 10, 8],\n",
       " 318: [19, 16, 2, 6, 24, 21, 10, 8, 26],\n",
       " 319: [6, 10, 25, 4],\n",
       " 321: [6, 24, 4],\n",
       " 322: [24, 10, 25],\n",
       " 324: [2, 4],\n",
       " 325: [16, 21, 10, 25, 22, 11, 8],\n",
       " 327: [17, 8],\n",
       " 328: [16, 13, 24, 10, 8],\n",
       " 329: [12, 13, 5, 6, 21, 10, 7, 25, 8],\n",
       " 330: [16, 2, 4, 14],\n",
       " 332: [2, 4],\n",
       " 333: [30, 16, 24, 21, 14],\n",
       " 336: [12, 19, 16, 13, 24, 21, 18, 7, 8],\n",
       " 339: [16, 2],\n",
       " 340: [13, 3, 21, 10, 4, 11, 8],\n",
       " 346: [5, 6, 3, 4],\n",
       " 347: [16, 18, 4, 8],\n",
       " 348: [2, 6, 7],\n",
       " 350: [2, 3, 4, 8],\n",
       " 353: [12, 2, 17, 38, 24, 21, 18, 14, 8, 26, 23],\n",
       " 355: [5, 6, 25, 8],\n",
       " 358: [13, 3, 4, 8],\n",
       " 359: [2, 8],\n",
       " 360: [15, 6, 8],\n",
       " 362: [16, 24, 21],\n",
       " 363: [6, 24, 10, 25, 4, 8],\n",
       " 366: [16, 38, 25, 4],\n",
       " 367: [2, 4, 8],\n",
       " 368: [2, 6, 8],\n",
       " 372: [2, 8],\n",
       " 374: [16, 24, 7, 4, 25, 22],\n",
       " 375: [12, 16, 2, 6, 10, 25, 4, 14, 8],\n",
       " 377: [15, 12, 16, 5, 17, 6, 24, 21, 10],\n",
       " 383: [12, 16, 2, 6, 21, 8],\n",
       " 384: [12, 6, 21, 18, 7, 4, 8],\n",
       " 385: [16, 14],\n",
       " 386: [16, 8],\n",
       " 388: [12, 5, 2, 6, 3, 10, 4, 11],\n",
       " 392: [5, 2, 3, 8],\n",
       " 397: [15, 16, 5, 2, 6, 21, 10, 7, 25, 8],\n",
       " 398: [16, 24, 10, 14, 23],\n",
       " 402: [6, 25, 22, 23],\n",
       " 406: [16, 25, 4, 8],\n",
       " 409: [6, 25, 8],\n",
       " 412: [16, 6, 8],\n",
       " 415: [16, 25, 4, 8],\n",
       " 416: [2],\n",
       " 417: [12, 30, 27, 19, 16, 24, 10, 14, 8],\n",
       " 419: [2, 4],\n",
       " 425: [2, 6, 3, 4],\n",
       " 429: [15, 17, 21, 10, 4, 8, 23],\n",
       " 430: [16, 20, 18, 25, 4, 14, 8],\n",
       " 431: [16, 38, 32, 21, 10],\n",
       " 432: [1, 2, 4],\n",
       " 435: [16, 6, 10, 14, 8],\n",
       " 436: [19, 16, 21],\n",
       " 440: [6, 10, 4, 14],\n",
       " 442: [5, 2, 6, 4],\n",
       " 444: [5, 6],\n",
       " 447: [12, 16, 25, 4, 8],\n",
       " 451: [2, 6, 3, 10, 4, 14, 8],\n",
       " 452: [6, 10, 25, 14],\n",
       " 455: [9, 5, 2, 10],\n",
       " 458: [16, 24, 21, 10, 14],\n",
       " 460: [15, 30, 16, 2, 3, 18, 10, 4, 26, 12, 19, 6, 21, 8],\n",
       " 461: [5, 2, 6],\n",
       " 462: [30, 27, 17, 32, 6, 24, 21, 28, 29, 26],\n",
       " 463: [16, 8],\n",
       " 470: [2, 6, 7, 8],\n",
       " 471: [16, 18, 23],\n",
       " 472: [16, 20, 17, 3],\n",
       " 473: [30, 38, 24, 21],\n",
       " 474: [12, 2, 10],\n",
       " 476: [2, 4, 8],\n",
       " 479: [6, 3, 8],\n",
       " 481: [2, 6, 3, 7, 4, 25],\n",
       " 484: [12, 10, 4],\n",
       " 486: [15, 6, 10, 4, 14],\n",
       " 489: [12, 16, 5, 10, 4, 11, 8],\n",
       " 491: [16, 21, 23],\n",
       " 493: [15, 12, 9, 16, 5, 2, 10, 4, 8],\n",
       " 496: [30, 16, 38, 21],\n",
       " 497: [12, 17, 24, 18, 25, 22],\n",
       " 500: [1, 7, 4],\n",
       " 501: [8],\n",
       " 502: [16, 25, 4],\n",
       " 504: [2, 4, 8],\n",
       " 505: [15, 12, 16, 10, 25, 14, 8],\n",
       " 507: [12, 19, 16, 13, 10, 7],\n",
       " 511: [15, 19, 16, 20, 17, 21, 18, 10, 14, 8],\n",
       " 512: [5, 3, 4, 8],\n",
       " 513: [5, 6, 7, 11],\n",
       " 516: [16, 5, 2, 6, 3, 7, 4, 25],\n",
       " 519: [12, 30, 16, 24, 21, 18, 8, 26],\n",
       " 523: [12, 27, 16, 5, 38, 6, 24],\n",
       " 530: [16, 20, 17, 21, 18, 22, 14],\n",
       " 531: [5, 6, 3, 18, 10, 4, 11, 8],\n",
       " 538: [6, 4],\n",
       " 539: [27, 16, 21],\n",
       " 540: [12, 30, 16, 13, 34, 20, 24, 21, 29, 8],\n",
       " 542: [16, 6, 4],\n",
       " 544: [16, 25],\n",
       " 545: [24, 8],\n",
       " 547: [16, 25],\n",
       " 548: [15, 16, 6, 14],\n",
       " 552: [25, 8],\n",
       " 553: [16, 5, 2, 6, 21, 10, 4, 8, 23],\n",
       " 554: [12, 30, 27, 16, 32, 24, 25, 22, 23],\n",
       " 556: [25, 4, 8],\n",
       " 559: [27, 16, 2, 6, 4, 8],\n",
       " 560: [6, 8],\n",
       " 563: [16, 14],\n",
       " 564: [5, 2, 6, 4, 8],\n",
       " 570: [19, 16, 13, 2, 25, 4, 8],\n",
       " 572: [3, 4, 8],\n",
       " 577: [12, 19, 16, 18, 14],\n",
       " 578: [2, 10, 8],\n",
       " 579: [12, 2, 8],\n",
       " 580: [30, 16, 13, 38, 35, 24, 21, 18, 8, 23],\n",
       " 581: [15, 9, 16, 2, 20, 18, 10, 25, 22, 8, 23],\n",
       " 582: [15, 12, 16, 5, 20, 10, 4, 14, 11, 8],\n",
       " 586: [16, 2],\n",
       " 587: [14, 8],\n",
       " 588: [2, 4, 8],\n",
       " 590: [16],\n",
       " 593: [5, 24, 25],\n",
       " 596: [4, 8],\n",
       " 597: [16, 14],\n",
       " 598: [15, 12, 30, 16, 17, 32, 24, 21, 8, 26, 23],\n",
       " 599: [15, 12, 9, 16, 13, 6, 18, 10, 7, 4, 25, 11, 8],\n",
       " 601: [5, 2, 3, 7, 4],\n",
       " 602: [15, 2, 3, 7, 4],\n",
       " 603: [2, 8],\n",
       " 604: [2, 3, 4, 8],\n",
       " 606: [25, 8],\n",
       " 607: [16, 5, 2, 6, 3, 10],\n",
       " 609: [5, 2, 7],\n",
       " 613: [15, 2, 6, 25, 4, 8],\n",
       " 615: [10, 4, 8],\n",
       " 618: [12, 2, 10, 14, 8],\n",
       " 619: [6, 4, 8],\n",
       " 620: [15, 6, 14, 8],\n",
       " 623: [12, 27, 16, 20, 21, 10, 26],\n",
       " 625: [2, 3, 7, 4, 8],\n",
       " 626: [19, 6, 10, 8],\n",
       " 631: [2, 3, 8],\n",
       " 633: [16, 8],\n",
       " 634: [6, 10, 14],\n",
       " 636: [12, 16, 25],\n",
       " 641: [16, 24, 21, 10, 25, 8],\n",
       " 642: [15, 25, 4],\n",
       " 644: [16, 2, 6, 4, 8],\n",
       " 646: [12, 16, 13, 5, 6, 3, 18, 7, 4, 25, 11, 8],\n",
       " 647: [16, 2, 6, 3, 10, 7, 4, 25, 11, 8, 23],\n",
       " 650: [15, 30, 16, 17, 24, 18, 25, 4, 26, 13, 20, 21, 28, 8],\n",
       " 654: [2],\n",
       " 659: [16, 5, 14],\n",
       " 660: [12, 6, 10, 25, 4, 14, 8],\n",
       " 663: [16, 25, 8],\n",
       " 665: [16, 25, 14],\n",
       " 666: [15, 30, 16, 13, 10, 25],\n",
       " 667: [12, 27, 16, 6, 24, 21, 10, 14, 8],\n",
       " 671: [6, 4],\n",
       " 673: [9, 16, 13, 17, 6, 24, 21, 10, 8],\n",
       " 674: [15, 12, 16, 5, 20, 17, 6, 3, 10, 25, 4, 11, 8],\n",
       " 675: [5, 2, 6, 3, 4],\n",
       " 676: [16, 13, 5, 21],\n",
       " 683: [2],\n",
       " 685: [27, 5, 38, 35, 32, 24, 36, 14],\n",
       " 686: [6, 10, 8],\n",
       " 688: [2, 6, 3],\n",
       " 689: [12, 16, 2, 6, 3, 24, 4, 14, 8],\n",
       " 692: [16, 5, 17, 21, 14, 8],\n",
       " 694: [5, 2, 6, 3, 10, 4, 11, 8],\n",
       " 696: [15, 12, 25, 23],\n",
       " 699: [7, 25, 11, 8],\n",
       " 704: [24, 21],\n",
       " 707: [15, 12, 19, 16, 17, 18, 14],\n",
       " 709: [2, 4, 8],\n",
       " 711: [18, 10, 25],\n",
       " 715: [16, 5, 2, 10, 4],\n",
       " 723: [30, 16, 38, 10, 22],\n",
       " 725: [5, 3],\n",
       " 727: [5, 2, 10, 4],\n",
       " 729: [12, 16, 13, 2, 24, 21, 18, 7],\n",
       " 731: [2, 4],\n",
       " 732: [9, 16, 3, 18, 10, 25, 8],\n",
       " 734: [10, 25],\n",
       " 737: [13, 21, 25, 22, 8],\n",
       " 738: [3, 4],\n",
       " 743: [12, 10],\n",
       " 744: [12, 11, 8],\n",
       " 747: [9, 6, 25, 11, 8],\n",
       " 748: [5, 2, 6, 3, 10, 4, 8],\n",
       " 754: [2, 8],\n",
       " 756: [12, 9, 16, 5, 2, 3, 4, 8],\n",
       " 758: [12, 17, 8],\n",
       " 760: [15, 12, 16, 13, 17, 6, 10, 14, 8],\n",
       " 762: [15, 16, 2, 3, 7, 4, 8],\n",
       " 764: [16, 5, 2, 6, 3, 25, 4, 14],\n",
       " 768: [5, 2],\n",
       " 770: [5, 6, 7, 4, 14],\n",
       " 772: [15, 16, 8],\n",
       " 774: [12, 2, 4, 8],\n",
       " 775: [2],\n",
       " 776: [16, 2, 24, 4, 8],\n",
       " 777: [16, 2, 3, 10, 25, 4, 11, 12, 13, 5, 6, 7, 14, 8],\n",
       " 780: [12, 16, 24],\n",
       " 784: [12, 27, 16, 6, 7, 25, 8],\n",
       " 787: [2, 3, 8],\n",
       " 792: [18, 14, 8],\n",
       " 796: [15, 12, 9, 16, 17, 6, 24, 18, 25, 14, 8, 23],\n",
       " 797: [2, 3, 8],\n",
       " 799: [5, 2, 6, 4, 14, 8],\n",
       " 804: [13, 5, 25, 4, 8],\n",
       " 806: [16, 6],\n",
       " 808: [6, 3, 18, 10, 8],\n",
       " 811: [16, 24, 21, 8],\n",
       " 819: [12, 20, 4, 8],\n",
       " 822: [16, 24, 25],\n",
       " 826: [6, 4, 8],\n",
       " 827: [4, 8],\n",
       " 830: [2, 4, 8],\n",
       " 831: [19, 16, 6, 24, 21],\n",
       " 833: [5, 2, 3, 4],\n",
       " 836: [24, 4],\n",
       " 839: [5, 2, 4],\n",
       " 840: [9, 10, 7, 14, 8],\n",
       " 842: [2, 25, 23],\n",
       " 843: [15, 12, 6],\n",
       " 844: [1, 5, 4],\n",
       " 845: [6, 21, 4, 8],\n",
       " 846: [2, 3],\n",
       " 847: [16, 20, 21, 10, 25, 22, 8],\n",
       " 849: [16, 10, 25, 8],\n",
       " 852: [15, 12, 9, 16, 5, 6, 8],\n",
       " 853: [5, 2, 6, 4],\n",
       " 854: [16, 5, 2, 6, 3, 10, 25, 4, 8],\n",
       " 855: [6, 10, 25, 8],\n",
       " 857: [16, 14, 8],\n",
       " 858: [12, 9, 3, 10, 11, 8],\n",
       " 860: [2, 6, 3, 4],\n",
       " 861: [16, 24, 21, 18, 25, 22, 8],\n",
       " 862: [33, 30, 34, 18, 23],\n",
       " 867: [2, 8],\n",
       " 868: [19, 16, 25],\n",
       " 871: [12, 6, 4],\n",
       " 874: [16, 5, 2, 3, 18, 4, 8],\n",
       " 875: [19, 2, 21, 25, 8],\n",
       " 876: [6, 11, 8],\n",
       " 879: [2, 6, 3, 4, 8],\n",
       " 881: [15, 30, 16, 31, 38, 17, 24, 18, 26, 33, 34, 35, 14, 23],\n",
       " 882: [15, 16, 24],\n",
       " 883: [16, 2, 8],\n",
       " 886: [12, 16, 21, 25, 8],\n",
       " 887: [16, 5, 2, 6, 10, 14, 8],\n",
       " 891: [2, 6, 4],\n",
       " 896: [16, 6, 4],\n",
       " 897: [16, 24, 4, 8],\n",
       " 898: [16, 10],\n",
       " 903: [12, 4, 8],\n",
       " 904: [2, 6, 10, 25, 14],\n",
       " 906: [9, 5, 2, 6, 3, 10, 7, 4, 11, 8],\n",
       " 908: [15, 9, 5, 2, 20, 6, 3, 10, 7, 4, 25, 8],\n",
       " 912: [2, 4, 8],\n",
       " 914: [15, 27, 16, 13, 2, 17, 24, 21, 8, 23],\n",
       " 916: [12, 5, 2, 6, 3, 10, 7, 4, 8],\n",
       " 918: [9, 19, 20, 17, 6, 21, 18, 22, 23],\n",
       " 919: [12, 6, 10, 4, 8],\n",
       " 920: [12, 18, 10, 25],\n",
       " 923: [7, 8],\n",
       " 924: [16, 24, 10],\n",
       " 925: [13, 18],\n",
       " 926: [15, 12, 14, 11, 8],\n",
       " 929: [15, 21, 10, 4, 22],\n",
       " 931: [2, 6, 24, 18, 21, 25, 8],\n",
       " 935: [12, 16, 5, 2, 6, 3, 10, 7, 4, 8],\n",
       " 936: [12, 6, 8],\n",
       " 937: [12, 10, 14, 8],\n",
       " 939: [10, 14, 8],\n",
       " 944: [12, 6, 4],\n",
       " 950: [2, 24, 8],\n",
       " 955: [12, 16, 13, 5, 2, 6, 3, 21, 10, 4, 14, 8],\n",
       " 959: [30, 19, 16, 13, 24, 8, 26, 23],\n",
       " 961: [27, 16, 35, 24, 21, 7, 8, 26],\n",
       " 966: [19, 16, 32, 24, 21, 14],\n",
       " 969: [5, 2, 6, 4],\n",
       " 970: [16, 6, 4],\n",
       " 972: [25, 8],\n",
       " 973: [3, 4],\n",
       " 974: [16, 24, 21, 25, 4, 8, 23],\n",
       " 976: [15, 12, 16, 8],\n",
       " 979: [10, 4, 8],\n",
       " 980: [5, 2, 6, 3, 10, 25, 4, 14, 8],\n",
       " 983: [6, 8],\n",
       " 984: [2, 6, 4, 8],\n",
       " 988: [19],\n",
       " 989: [15, 9, 16, 18, 14],\n",
       " 992: [13, 10, 8],\n",
       " 993: [2],\n",
       " 995: [16, 13, 5, 20, 6, 24, 10, 7, 25, 11, 8],\n",
       " 998: [38, 35, 24],\n",
       " 1002: [16, 2, 3, 7, 25, 8],\n",
       " 1005: [15, 16, 13, 17, 10, 8],\n",
       " 1008: [16, 6, 14, 8],\n",
       " 1010: [15, 16, 21],\n",
       " 1016: [2, 6, 21, 14, 8],\n",
       " 1019: [6, 11],\n",
       " 1021: [24, 25],\n",
       " 1025: [25, 14, 8],\n",
       " 1026: [30, 19, 16, 32, 24, 21, 25, 23],\n",
       " 1028: [2, 4],\n",
       " 1029: [9, 6, 4],\n",
       " 1030: [30, 9, 16, 24, 14, 26],\n",
       " 1031: [16, 2, 10],\n",
       " 1032: [16, 6, 8],\n",
       " 1034: [12, 2, 6, 3, 10, 4, 8],\n",
       " 1035: [16, 17, 6, 24, 10, 25, 29, 8, 23],\n",
       " 1045: [12, 27, 25, 8],\n",
       " 1046: [12, 16, 6, 10, 14, 8],\n",
       " 1047: [16, 3, 8],\n",
       " 1048: [13, 25, 11, 8],\n",
       " 1050: [16, 24, 25, 8, 26],\n",
       " 1051: [12, 16, 2, 6, 24, 21, 10, 14, 8],\n",
       " 1052: [5, 6, 3, 10, 4, 11, 8],\n",
       " 1055: [16, 14, 8],\n",
       " 1056: [6, 8],\n",
       " 1061: [18, 4],\n",
       " 1062: [2, 6, 8],\n",
       " 1064: [2, 4],\n",
       " 1065: [16, 20, 18, 10, 8],\n",
       " 1068: [15, 2, 6, 3, 18, 14, 8],\n",
       " 1069: [12, 30, 27, 16, 38, 35, 32, 24],\n",
       " 1073: [15, 16, 13, 20, 6, 21, 10, 7],\n",
       " 1074: [30, 16, 24, 21, 18, 25, 14],\n",
       " 1077: [15, 30, 9, 13, 24, 21, 10, 4, 11, 8, 23],\n",
       " 1082: [16, 25, 14, 11, 8],\n",
       " 1084: [5, 6, 10],\n",
       " 1085: [16, 13, 5, 6, 3, 18, 10, 25, 4, 8],\n",
       " 1087: [7, 8],\n",
       " 1088: [16, 6, 18, 10, 14],\n",
       " 1089: [5, 2, 6, 3, 7, 4],\n",
       " 1091: [12, 13, 2, 38, 21, 10, 8],\n",
       " 1093: [16, 6, 25, 4, 14, 8],\n",
       " 1100: [16, 8],\n",
       " 1108: [5, 2, 6, 4],\n",
       " 1113: [19, 16, 2, 20, 6, 25, 14, 23],\n",
       " 1114: [14],\n",
       " 1119: [16, 5, 4, 8],\n",
       " 1122: [30, 16, 38, 32, 24, 21],\n",
       " 1123: [25, 4],\n",
       " 1124: [12, 17, 24, 21],\n",
       " 1125: [16, 13, 8],\n",
       " 1127: [6],\n",
       " 1128: [16, 2, 25, 8],\n",
       " 1130: [16, 2],\n",
       " 1132: [16, 13, 21, 4, 23],\n",
       " 1133: [9, 4, 8],\n",
       " 1135: [2, 6, 10, 8],\n",
       " 1136: [6, 24, 25, 4],\n",
       " 1137: [15, 5, 2, 21, 14, 8],\n",
       " 1139: [12, 16, 25],\n",
       " 1143: [27, 16, 25],\n",
       " 1144: [16, 2, 6, 7, 4],\n",
       " 1145: [15, 16, 2, 17, 24, 18, 10, 25, 4, 12, 27, 13, 5, 20, 6, 21, 7, 14, 8],\n",
       " 1146: [12, 20, 6, 10],\n",
       " 1148: [16, 21, 10, 14],\n",
       " 1151: [16, 2, 4, 8],\n",
       " 1155: [12, 13, 6, 10],\n",
       " 1156: [16, 2, 6, 18, 14, 8],\n",
       " 1157: [17, 8],\n",
       " 1158: [16],\n",
       " 1160: [19, 17, 21, 10, 22, 8, 23],\n",
       " 1163: [2],\n",
       " 1164: [16, 25],\n",
       " 1165: [6, 3],\n",
       " 1166: [15, 12, 16, 2, 17, 6, 3, 10, 4, 14, 8],\n",
       " 1167: [12, 9, 5, 6, 10, 7, 4, 25, 14, 8],\n",
       " 1170: [16, 8],\n",
       " 1171: [12, 24, 21, 25, 14, 23],\n",
       " 1172: [2, 6, 4],\n",
       " 1175: [12, 16, 24, 10, 8],\n",
       " 1176: [25, 14],\n",
       " 1180: [2, 3, 7, 8],\n",
       " 1181: [5, 2, 6, 14],\n",
       " 1182: [5, 2, 6, 3, 7, 4, 8],\n",
       " 1183: [16, 38, 6, 25, 11, 8],\n",
       " 1186: [16, 8],\n",
       " 1189: [12, 19, 16, 2, 17, 21, 4],\n",
       " 1190: [5, 2, 6, 3, 4],\n",
       " 1191: [8],\n",
       " 1192: [2, 3, 4, 8],\n",
       " 1194: [21, 25, 14],\n",
       " 1197: [9, 21, 14],\n",
       " 1198: [16, 3, 14, 8],\n",
       " 1199: [16, 5, 2, 4, 8],\n",
       " 1201: [16, 25, 8],\n",
       " 1206: [9, 2, 4, 8],\n",
       " 1207: [12, 2, 8],\n",
       " 1208: [5, 2, 21, 10, 25, 4, 14, 8],\n",
       " 1210: [2, 6, 4, 8],\n",
       " 1212: [6, 8],\n",
       " 1215: [10, 8],\n",
       " 1216: [20, 14],\n",
       " 1218: [16, 13, 20, 18, 14, 8],\n",
       " 1219: [2, 4],\n",
       " 1220: [15, 16, 13, 17, 18, 10, 8],\n",
       " 1222: [12, 16, 21],\n",
       " 1223: [16, 14],\n",
       " 1225: [2, 4, 8],\n",
       " 1226: [16, 21, 8],\n",
       " 1227: [2, 6, 3, 10, 7, 4, 8],\n",
       " 1231: [12, 25, 8],\n",
       " 1232: [2, 6, 3, 8],\n",
       " 1235: [16, 8],\n",
       " 1238: [16, 17, 3, 10, 25, 4, 19, 13, 6, 21, 22, 14, 8, 23],\n",
       " 1240: [3, 4, 8],\n",
       " 1242: [27, 16, 24, 21, 25, 8, 23],\n",
       " 1243: [12, 9, 16, 2, 6, 24, 21, 10, 14, 8],\n",
       " 1244: [5, 2, 10, 25, 4],\n",
       " 1245: [19, 13, 10],\n",
       " 1247: [12, 11, 8],\n",
       " 1248: [16, 2, 4],\n",
       " 1249: [9, 16, 2, 3, 4, 14, 8],\n",
       " 1250: [12, 19, 5, 6, 24, 18, 10, 25, 4, 22, 14, 23],\n",
       " 1251: [16, 2, 3, 25, 4],\n",
       " 1252: [5, 2, 6, 10, 7, 4, 25, 14, 8],\n",
       " 1253: [16, 14, 11, 8],\n",
       " 1255: [15, 16, 2, 18, 14, 8],\n",
       " 1259: [30, 16, 5, 2, 25, 26],\n",
       " 1260: [2, 6, 3, 4, 8],\n",
       " 1263: [16, 11, 8],\n",
       " 1265: [12, 16, 6, 21, 18, 14],\n",
       " 1266: [16, 2, 6, 3, 7, 25, 14, 8, 26],\n",
       " 1267: [6, 10, 7, 25, 14, 8],\n",
       " 1269: [16, 10, 4, 14, 8],\n",
       " 1270: [16, 2, 21, 18, 14],\n",
       " 1271: [2, 11, 8],\n",
       " 1273: [12, 16, 6, 3, 10, 7, 4, 14, 8],\n",
       " 1274: [2, 6, 4, 8],\n",
       " 1275: [2, 8],\n",
       " 1276: [5, 2, 4, 8],\n",
       " 1280: [15, 2, 25],\n",
       " 1286: [5, 2, 4],\n",
       " 1288: [12, 16, 6, 8],\n",
       " 1290: [16, 5, 4, 8],\n",
       " 1291: [9, 2, 6, 4, 14, 8],\n",
       " 1293: [13, 2, 3, 7, 4],\n",
       " 1294: [16, 20, 17, 10, 25],\n",
       " 1295: [12, 16, 5, 2, 6, 18, 25, 4, 8],\n",
       " 1296: [16, 6, 8],\n",
       " 1298: [19, 16, 18, 10, 14, 8],\n",
       " 1299: [15, 12, 9, 13, 10, 7, 4, 11, 8],\n",
       " 1300: [13, 2, 7, 4, 8],\n",
       " 1301: [2, 6, 10, 4, 8],\n",
       " 1302: [12, 10, 25, 8],\n",
       " 1303: [12, 16, 24, 21, 25],\n",
       " 1304: [2, 6, 3, 4],\n",
       " 1306: [15, 9, 16, 17, 3, 18, 10, 25, 4, 5, 20, 28, 7, 14, 8],\n",
       " 1307: [16, 2, 10, 8],\n",
       " 1310: [2, 24, 21, 4, 8],\n",
       " 1311: [6, 10, 4, 14],\n",
       " 1314: [31, 18, 25, 23],\n",
       " 1321: [12, 16, 3, 10, 25, 8],\n",
       " 1322: [6, 21, 10, 4],\n",
       " 1323: [10, 8],\n",
       " 1324: [16, 2, 8],\n",
       " 1326: [15, 9, 19, 16, 17, 18, 25, 14, 8, 26],\n",
       " 1329: [5, 2, 3],\n",
       " 1330: [6, 25, 14],\n",
       " 1331: [12, 10, 8],\n",
       " 1332: [12, 19, 24, 18, 25, 22, 26, 23],\n",
       " 1334: [16, 6, 8],\n",
       " 1335: [5, 2, 6],\n",
       " 1339: [6, 3, 4],\n",
       " 1341: [12, 16, 13, 10, 25, 8],\n",
       " 1342: [9, 6, 8],\n",
       " 1344: [16, 25, 8],\n",
       " 1349: [5],\n",
       " 1350: [16, 8],\n",
       " 1351: [19, 16, 20, 21, 25],\n",
       " 1352: [12, 27, 16, 20, 24, 21, 10],\n",
       " 1353: [5, 2, 6, 8],\n",
       " 1355: [5, 2, 3, 4],\n",
       " 1357: [2, 3, 8],\n",
       " 1360: [2, 3, 4, 8],\n",
       " 1362: [5, 6, 8],\n",
       " 1363: [12, 27, 16, 38, 24, 18, 10, 25, 26],\n",
       " 1367: [15, 5, 35, 6, 7, 4, 25, 8],\n",
       " 1372: [3, 4, 8],\n",
       " 1375: [12, 19, 2, 6, 10, 4, 8],\n",
       " 1378: [16, 4, 14],\n",
       " 1380: [9, 2, 3],\n",
       " 1382: [16, 8],\n",
       " 1391: [17, 6, 21, 10, 4, 8],\n",
       " 1394: [12, 9, 13, 5, 6, 10, 14, 11],\n",
       " 1395: [15, 12, 16, 17, 14, 11],\n",
       " 1396: [2, 6, 8],\n",
       " 1398: [2, 3],\n",
       " 1399: [6, 8],\n",
       " 1400: [15, 12, 9, 13, 2, 6, 10, 25, 14, 11, 8],\n",
       " 1403: [12, 20, 17, 10],\n",
       " 1404: [12, 16, 2, 24, 21, 25, 4, 8],\n",
       " 1406: [24, 25, 14, 8],\n",
       " 1407: [15, 27, 16, 6, 21, 10, 25, 11, 8],\n",
       " 1410: [18, 8],\n",
       " 1415: [27, 37, 16, 13, 32, 24],\n",
       " 1417: [2, 8],\n",
       " 1418: [12, 17, 25, 8],\n",
       " 1420: [16, 5, 2, 17, 20, 6, 3, 18, 10, 14, 29, 8],\n",
       " 1425: [12, 7, 4],\n",
       " 1426: [2, 24, 3, 21, 4, 14],\n",
       " 1427: [12, 18, 7, 25, 23],\n",
       " 1434: [12, 19, 16, 6],\n",
       " 1435: [6, 3, 18, 25, 4, 8],\n",
       " 1436: [2, 4],\n",
       " 1441: [19, 16, 18, 8],\n",
       " 1444: [5, 2, 3, 4],\n",
       " 1452: [16, 21, 14],\n",
       " 1455: [9, 16, 5, 2, 3, 7, 4, 25, 11, 8],\n",
       " 1456: [2, 10, 4, 14, 8],\n",
       " 1457: [16, 10, 8],\n",
       " 1458: [19, 16, 21],\n",
       " 1460: [19, 16, 2, 3, 18, 21, 25, 8],\n",
       " 1461: [27, 16, 21, 25, 23],\n",
       " 1464: [12, 16, 17, 6, 25, 4, 8],\n",
       " 1466: [16, 24, 8],\n",
       " 1467: [9, 5, 2, 6, 3, 21, 4, 8],\n",
       " 1468: [12, 13, 6, 4, 14],\n",
       " 1469: [16, 6, 10, 8],\n",
       " 1470: [16, 18],\n",
       " 1473: [16, 24, 21, 22, 8],\n",
       " 1475: [12, 16, 2, 25, 4, 14, 8],\n",
       " 1477: [5],\n",
       " 1478: [5, 2, 4],\n",
       " 1480: [16, 10, 4],\n",
       " 1483: [12, 16, 2, 6, 3, 24, 10, 4, 8],\n",
       " 1485: [16, 2, 3],\n",
       " 1486: [16, 20, 24, 25, 22, 14],\n",
       " 1487: [12, 35, 25, 8],\n",
       " 1488: [16, 24, 21, 18],\n",
       " 1489: [12, 16, 5, 10, 14],\n",
       " 1490: [5, 3, 7, 4],\n",
       " 1491: [16, 8],\n",
       " 1493: [27, 16, 13, 18, 10, 11, 26, 23],\n",
       " 1496: [16, 6, 18, 25, 8],\n",
       " 1497: [13, 8],\n",
       " 1499: [16, 14],\n",
       " 1500: [30, 5, 25, 4],\n",
       " 1504: [16, 32, 18, 10, 25, 26, 12, 27, 20, 21, 7, 22, 29, 8, 23],\n",
       " 1505: [16, 2, 3, 8],\n",
       " 1506: [5, 2, 6, 8],\n",
       " 1507: [16, 10, 11, 8],\n",
       " 1510: [30, 25],\n",
       " 1512: [2, 6, 3, 7, 4, 8],\n",
       " 1516: [9, 13, 6, 4, 8],\n",
       " 1517: [2, 10, 7, 8],\n",
       " 1518: [5, 2, 6, 25, 4, 8],\n",
       " 1520: [6, 3, 7, 8],\n",
       " 1521: [9, 5, 2, 3, 4],\n",
       " 1522: [25, 4, 14],\n",
       " 1525: [2, 4],\n",
       " 1527: [12, 8],\n",
       " 1529: [16, 24, 21, 25, 22, 14, 8],\n",
       " 1530: [20, 24, 10, 8],\n",
       " 1533: [2, 4, 8],\n",
       " 1537: [5, 2, 3, 4, 8],\n",
       " 1538: [12, 24, 10, 14, 8],\n",
       " 1541: [2, 6, 3, 4, 8],\n",
       " 1542: [2],\n",
       " 1546: [2, 4, 8],\n",
       " 1550: [30, 38, 21, 14],\n",
       " 1551: [8],\n",
       " 1559: [12, 2, 6, 3, 4],\n",
       " 1561: [6, 10, 7, 14],\n",
       " 1564: [16, 10, 25, 14],\n",
       " 1565: [16, 8],\n",
       " 1569: [18, 8],\n",
       " 1574: [12, 16, 13, 2, 6, 8],\n",
       " 1576: [16, 13, 14],\n",
       " 1580: [25, 8],\n",
       " 1582: [16],\n",
       " 1583: [16, 38, 24],\n",
       " 1586: [5, 2, 4],\n",
       " 1588: [2, 6, 4, 8],\n",
       " 1590: [6, 4, 8],\n",
       " 1591: [2],\n",
       " 1595: [1, 2, 7, 4],\n",
       " 1597: [12, 9, 5, 2, 6, 3, 10, 7, 14, 8],\n",
       " 1599: [24, 14],\n",
       " 1600: [12, 21, 10, 8],\n",
       " 1603: [15, 12, 30, 16, 5, 2, 6, 18, 10, 4, 8],\n",
       " 1605: [30, 27, 34, 35, 24, 21, 18, 14],\n",
       " 1608: [16, 25, 8],\n",
       " 1613: [5, 2, 20, 6, 3, 18, 10, 7, 4, 25, 8],\n",
       " 1615: [2, 10, 8],\n",
       " 1616: [12, 18, 25],\n",
       " 1618: [5, 2, 3, 8],\n",
       " 1621: [5, 2, 3, 4],\n",
       " 1624: [12, 2, 6, 3, 7, 4, 8],\n",
       " 1626: [5, 2, 4],\n",
       " 1627: [15, 12, 16, 13, 2, 7, 14, 8],\n",
       " 1628: [15, 19, 16, 20, 21, 18, 10, 25, 4, 22, 14, 8, 23],\n",
       " 1632: [9, 2, 6, 3, 10, 4, 8],\n",
       " 1633: [4, 8],\n",
       " 1634: [16, 6, 10, 11, 8],\n",
       " 1635: [16, 2, 10, 25, 8],\n",
       " 1636: [9, 5, 2, 3, 10, 4, 14],\n",
       " 1641: [8],\n",
       " 1642: [5, 2, 3, 8],\n",
       " 1644: [12, 16, 10, 14, 8],\n",
       " 1645: [30, 16, 6, 24, 7, 4, 8, 23],\n",
       " 1646: [10, 8],\n",
       " 1649: [5, 6, 4, 8],\n",
       " 1650: [16, 6, 21, 10, 14, 8],\n",
       " 1651: [16, 6, 25, 4, 23],\n",
       " 1653: [30, 27, 24],\n",
       " 1654: [25, 8],\n",
       " 1659: [2, 8],\n",
       " 1663: [15, 16, 17, 24, 28, 25, 14, 23],\n",
       " 1664: [12, 2, 10, 4, 8],\n",
       " 1665: [12, 16, 18, 10, 25, 8],\n",
       " 1670: [4, 8],\n",
       " 1675: [16, 13, 24, 4],\n",
       " 1681: [16, 21, 8],\n",
       " 1682: [25],\n",
       " 1683: [27, 16, 17, 10, 11, 8, 26, 23],\n",
       " 1688: [12, 10, 8, 23],\n",
       " 1689: [12, 5, 2, 6, 3, 7, 4, 8],\n",
       " 1692: [16, 10, 8],\n",
       " 1694: [11, 8],\n",
       " 1696: [15, 12, 9, 5, 20, 17, 3, 10, 7, 22, 14, 8],\n",
       " 1697: [18, 8, 23],\n",
       " 1699: [15, 16, 13, 20, 24, 10, 7, 4, 14, 11, 8],\n",
       " 1700: [21, 8, 23],\n",
       " 1701: [15, 27, 16, 38, 24, 21],\n",
       " 1703: [5, 2, 3, 4],\n",
       " 1706: [12, 7, 8],\n",
       " 1708: [12, 16, 4, 8],\n",
       " 1711: [16, 22, 14, 8],\n",
       " 1718: [12, 5, 2, 14, 8],\n",
       " 1720: [12, 19, 16, 2, 6, 21, 18, 4, 14, 8],\n",
       " 1721: [2, 3, 4],\n",
       " 1722: [2, 8],\n",
       " 1723: [16, 2, 10],\n",
       " 1725: [2, 4],\n",
       " 1729: [2, 17, 3, 10, 4, 12, 19, 5, 20, 6, 21, 7, 22, 14],\n",
       " 1731: [16, 2, 6, 4, 11, 8],\n",
       " 1732: [16, 24, 14, 8],\n",
       " 1733: [10],\n",
       " 1736: [16, 24, 10, 25, 8],\n",
       " 1739: [9, 6, 22, 14],\n",
       " 1743: [12, 6, 10, 8],\n",
       " 1745: [2, 4, 8],\n",
       " 1747: [5, 2, 6, 3, 10, 7, 4, 8],\n",
       " 1748: [2, 6],\n",
       " 1749: [15, 9, 16, 2, 3, 18, 10, 25, 4, 12, 27, 13, 6, 21, 8, 23],\n",
       " 1750: [5, 25, 4],\n",
       " 1751: [12, 16, 2, 21, 10, 25, 8],\n",
       " 1752: [9, 13, 5, 2, 3, 10, 7, 4, 25, 8, 26],\n",
       " 1756: [2, 8],\n",
       " 1759: [15, 16, 17, 24, 18, 10, 4, 12, 19, 6, 21, 22, 14, 8],\n",
       " 1766: [12, 16, 2, 6, 10, 25, 4, 14, 8],\n",
       " 1769: [16, 5, 2, 6, 3, 10, 25, 4, 8],\n",
       " 1770: [2, 6, 3, 8],\n",
       " 1771: [5, 2, 6, 4, 8],\n",
       " 1772: [5, 10, 4, 14],\n",
       " 1773: [12, 9, 16, 5, 2, 17, 21, 18, 10, 4, 11, 8, 23],\n",
       " 1774: [15, 12, 6, 4, 8],\n",
       " 1775: [12, 16, 2, 4, 14, 8],\n",
       " 1777: [16, 13, 10, 23],\n",
       " 1778: [3, 8],\n",
       " 1781: [2, 6, 3, 4],\n",
       " 1783: [12, 16, 20, 24, 18, 25, 4, 8],\n",
       " 1785: [15, 12, 9, 19, 16, 13, 17, 10, 25],\n",
       " 1786: [15, 16, 25, 8],\n",
       " 1787: [12, 19, 2, 6, 10, 4, 8, 23],\n",
       " 1793: [7, 8],\n",
       " 1796: [12, 9, 16, 6],\n",
       " 1798: [6, 10, 8],\n",
       " 1800: [16, 5],\n",
       " 1802: [3, 8],\n",
       " 1804: [2, 6, 3, 4, 8],\n",
       " 1806: [2, 8],\n",
       " 1807: [16, 21, 25],\n",
       " 1808: [5, 6, 3, 4],\n",
       " 1811: [16, 5, 6, 8],\n",
       " 1812: [12, 4, 8],\n",
       " 1816: [13, 14, 8],\n",
       " 1818: [6, 4],\n",
       " 1820: [2, 6, 8],\n",
       " 1822: [2, 6, 4],\n",
       " 1823: [16, 14, 8],\n",
       " 1824: [30, 19, 16, 38, 35, 6, 24, 18, 10, 14],\n",
       " 1826: [10, 4, 8],\n",
       " 1827: [27, 13, 25, 22, 14, 8],\n",
       " 1828: [15, 12, 13, 6, 10, 7, 25, 14],\n",
       " 1829: [12, 27, 16, 24, 21],\n",
       " 1831: [12, 16, 17],\n",
       " 1834: [5, 8],\n",
       " 1835: [2, 3, 10, 4, 14, 8],\n",
       " 1838: [16, 5, 6, 10, 14, 8],\n",
       " 1841: [2, 6, 3, 10, 7],\n",
       " 1843: [5, 2, 6, 3, 25, 4, 8],\n",
       " 1846: [24, 14, 8],\n",
       " 1847: [16, 6, 14, 8],\n",
       " 1848: [16, 6],\n",
       " 1855: [2, 4],\n",
       " 1856: [16, 2, 21, 18, 25, 8],\n",
       " 1858: [16, 23],\n",
       " 1861: [16, 24, 8],\n",
       " 1863: [12, 6],\n",
       " 1866: [12, 5, 2, 21, 4, 11, 8],\n",
       " 1869: [16, 2, 25, 8],\n",
       " 1871: [30, 32, 25, 23],\n",
       " 1873: [16, 13, 6, 25, 8],\n",
       " 1874: [5, 2, 4],\n",
       " 1875: [30, 34, 38, 35, 32, 24],\n",
       " 1877: [6, 4],\n",
       " 1878: [2, 6, 7],\n",
       " 1884: [16, 5, 2, 6, 4],\n",
       " 1886: [15, 9, 16, 2, 3, 10, 4, 12, 13, 5, 6, 7, 14, 8],\n",
       " 1888: [5, 2, 3, 4],\n",
       " 1889: [27, 19, 16, 35, 32, 6, 24, 21, 10, 8, 23],\n",
       " 1890: [12, 16, 18, 8],\n",
       " 1892: [16, 13, 11],\n",
       " 1894: [6, 25, 11, 8],\n",
       " 1896: [5, 6, 4],\n",
       " 1899: [15, 16, 2, 3, 10, 4, 14],\n",
       " 1901: [5, 2, 6, 3, 8],\n",
       " 1902: [5, 2, 6, 3, 25, 4],\n",
       " 1903: [2, 6],\n",
       " 1904: [16, 4, 14, 8],\n",
       " 1908: [9, 16, 11, 8],\n",
       " 1913: [16, 20, 21],\n",
       " 1917: [25, 14, 8],\n",
       " 1922: [16, 25, 8],\n",
       " 1924: [16, 13, 5, 3, 21, 7, 4, 25, 11, 8],\n",
       " 1925: [16, 17, 8],\n",
       " 1927: [2, 6, 14, 8],\n",
       " 1930: [15, 13, 25, 8],\n",
       " 1934: [9, 16, 13, 2, 6, 3, 24, 21, 10, 7, 4, 14, 8],\n",
       " 1938: [25, 8],\n",
       " 1939: [2, 7, 25, 8],\n",
       " 1942: [16],\n",
       " 1944: [16, 10, 25, 14, 8],\n",
       " 1946: [12, 2, 10, 8],\n",
       " 1947: [15, 25],\n",
       " 1949: [3, 8],\n",
       " 1950: [12, 27, 19, 16, 2, 21, 10, 7, 4, 25, 22, 14, 8],\n",
       " 1951: [15, 13, 11, 8],\n",
       " 1952: [9, 2, 6, 8],\n",
       " 1955: [2, 4, 8],\n",
       " 1956: [30, 16, 38, 6, 3, 18, 24, 8],\n",
       " 1959: [27, 19, 16, 25, 23],\n",
       " 1961: [2, 6, 4, 8],\n",
       " 1966: [16, 2, 6, 21, 18, 8, 23],\n",
       " 1967: [12, 3, 10],\n",
       " 1968: [2, 3, 4],\n",
       " 1971: [12, 13, 10, 4, 14, 11, 8],\n",
       " 1973: [30, 27, 16, 13, 17, 24, 21, 18, 10, 25, 29, 8, 23],\n",
       " 1974: [27, 16, 34, 35, 24, 21, 18, 36, 14, 8],\n",
       " 1975: [6, 4],\n",
       " 1977: [15, 16, 21, 14],\n",
       " 1978: [10, 25, 14, 8],\n",
       " 1979: [5, 2, 6, 3, 4],\n",
       " 1988: [12, 16, 2, 6, 4],\n",
       " 1990: [27, 16, 24, 29],\n",
       " 1991: [16, 10, 25, 14],\n",
       " 1994: [16, 2, 8],\n",
       " 1997: [15, 16, 24, 28, 14, 29, 8, 23],\n",
       " 2003: [15, 12, 16, 13, 20, 17, 6, 10, 7, 25, 14, 11],\n",
       " 2004: [2, 8],\n",
       " 2006: [16, 25, 14],\n",
       " 2007: [12, 19, 16, 13, 2, 17, 20, 6, 3, 24, 25, 14, 8],\n",
       " 2013: [15, 21, 10, 22, 23],\n",
       " 2014: [16, 20, 17, 21, 18, 10, 22, 23],\n",
       " 2015: [16, 25, 8],\n",
       " 2018: [30, 19, 38, 29],\n",
       " 2019: [12, 2, 17, 25, 4],\n",
       " 2022: [16, 25, 8],\n",
       " 2023: [16, 8],\n",
       " 2025: [16, 20, 17, 18, 8],\n",
       " 2026: [16, 5, 4],\n",
       " 2027: [15, 12, 9],\n",
       " 2031: [16, 2, 21, 18, 10, 14],\n",
       " 2032: [19, 16, 38, 21, 4, 14],\n",
       " 2035: [16, 5, 6, 3, 18, 10, 8],\n",
       " 2036: [19, 16, 6, 14],\n",
       " 2037: [2, 6, 7, 4, 25, 14, 8],\n",
       " 2038: [2, 3, 4],\n",
       " 2040: [9, 5, 3, 4, 8],\n",
       " 2041: [5, 2, 3, 4, 8],\n",
       " 2042: [9, 2, 6, 8],\n",
       " 2044: [16, 6],\n",
       " 2045: [12, 13, 6, 10, 4, 14, 11, 8],\n",
       " 2047: [6, 8],\n",
       " 2048: [9, 16, 2, 3, 10, 4, 14, 8],\n",
       " 2051: [19, 16, 2, 6, 10, 14, 8],\n",
       " 2052: [15, 12, 16],\n",
       " 2054: [12, 16, 5, 2, 3, 25, 4, 8],\n",
       " 2056: [12, 21, 10, 25],\n",
       " 2059: [16, 24, 10, 8, 26],\n",
       " 2060: [16, 2, 25, 8],\n",
       " 2062: [16, 2, 6, 25],\n",
       " 2064: [16, 6, 10, 14, 11, 8],\n",
       " 2067: [24, 10, 4, 14, 8, 26],\n",
       " 2069: [2, 8],\n",
       " 2071: [5, 2, 7],\n",
       " 2072: [2, 6, 3, 10, 4],\n",
       " 2076: [12, 16, 20, 24, 18, 10, 25, 14, 8, 23],\n",
       " 2078: [25, 8],\n",
       " 2079: [5, 2, 3, 10, 4, 8],\n",
       " 2082: [15, 12, 16, 21, 18, 10, 14, 8],\n",
       " 2085: [12, 8],\n",
       " 2087: [12, 16, 5, 6, 3, 18, 24, 21, 10, 8],\n",
       " 2090: [19, 5, 2, 6, 3, 18, 21, 10, 25, 4],\n",
       " 2092: [12, 5, 2, 3, 10, 25, 11],\n",
       " 2094: [2, 6, 3, 4, 8],\n",
       " 2096: [12, 3, 10],\n",
       " 2102: [16, 2, 3, 10, 4, 14, 8],\n",
       " 2105: [16, 24],\n",
       " 2106: [12, 2, 4],\n",
       " 2107: [2, 8],\n",
       " 2108: [24, 21, 18, 8],\n",
       " 2109: [2, 6],\n",
       " 2113: [5, 6, 4, 8],\n",
       " 2122: [16, 20, 10, 25, 8],\n",
       " 2127: [2, 8],\n",
       " 2128: [12, 18, 8],\n",
       " 2131: [12, 2, 6, 10, 4, 8],\n",
       " 2134: [16, 6, 8],\n",
       " 2138: [16, 10, 7, 4, 25],\n",
       " 2141: [5, 6, 4],\n",
       " 2142: [16, 3, 25, 8],\n",
       " 2148: [6, 8],\n",
       " 2149: [2, 3],\n",
       " 2150: [16, 6, 10, 14, 8],\n",
       " 2153: [6, 10, 14, 11],\n",
       " 2155: [5, 14, 8],\n",
       " 2156: [15, 30, 16, 2, 17, 3, 18, 10, 4, 12, 19, 7, 14, 8, 23],\n",
       " 2157: [3, 4, 8],\n",
       " 2158: [6, 10, 7, 4, 8],\n",
       " 2161: [5, 2, 6, 3, 7, 4, 11],\n",
       " 2164: [15, 5, 4, 11, 8],\n",
       " 2168: [12, 16, 2, 21, 18, 8],\n",
       " 2169: [5, 3, 25, 4, 8],\n",
       " 2170: [13, 2, 6, 3, 8],\n",
       " 2173: [2, 6, 3],\n",
       " 2176: [2, 3, 4],\n",
       " 2177: [2, 6, 3],\n",
       " 2180: [15, 19, 16, 20, 3, 18, 21, 10, 4, 8],\n",
       " 2181: [2, 3, 4],\n",
       " 2183: [9, 16, 5, 2, 3, 21, 25, 14, 8],\n",
       " 2185: [9, 2, 6, 8],\n",
       " 2189: [2, 6, 3, 4],\n",
       " 2190: [2, 8],\n",
       " 2191: [9, 2, 10, 4],\n",
       " 2192: [19, 2, 24, 25, 4, 14],\n",
       " 2193: [17, 6, 8],\n",
       " ...}"
      ]
     },
     "execution_count": 81,
     "metadata": {},
     "output_type": "execute_result"
    }
   ],
   "source": [
    "actual_loans_taken_dict"
   ]
  },
  {
   "cell_type": "code",
   "execution_count": 59,
   "id": "94ef57ea-b190-4779-90ab-175cf477433d",
   "metadata": {},
   "outputs": [
    {
     "data": {
      "text/plain": [
       "[{'UserId': 1, 'Recommendations': [13, 10, 11, 25, 17]},\n",
       " {'UserId': 2, 'Recommendations': [9, 7, 11, 12, 14]},\n",
       " {'UserId': 3, 'Recommendations': [7, 9, 5, 11, 3]},\n",
       " {'UserId': 4, 'Recommendations': [5, 7, 6, 8, 9]},\n",
       " {'UserId': 5, 'Recommendations': [7, 9, 5, 4, 25]},\n",
       " {'UserId': 6, 'Recommendations': [6, 7, 9, 5, 4]},\n",
       " {'UserId': 7, 'Recommendations': [9, 11, 10, 8, 14]},\n",
       " {'UserId': 8, 'Recommendations': [14, 10, 11, 17, 9]},\n",
       " {'UserId': 9, 'Recommendations': [8, 9, 5, 4, 25]},\n",
       " {'UserId': 10, 'Recommendations': [7, 9, 11, 10, 1]},\n",
       " {'UserId': 11, 'Recommendations': [5, 7, 9, 25, 11]},\n",
       " {'UserId': 12, 'Recommendations': [4, 5, 3, 7, 9]},\n",
       " {'UserId': 13, 'Recommendations': [5, 7, 3, 9, 11]},\n",
       " {'UserId': 14, 'Recommendations': [13, 14, 12, 15, 17]},\n",
       " {'UserId': 15, 'Recommendations': [7, 9, 11, 12, 1]},\n",
       " {'UserId': 16, 'Recommendations': [13, 14, 10, 11, 15]},\n",
       " {'UserId': 17, 'Recommendations': [7, 9, 25, 14, 13]},\n",
       " {'UserId': 18, 'Recommendations': [4, 5, 3, 7, 9]},\n",
       " {'UserId': 19, 'Recommendations': [5, 7, 6, 3, 9]},\n",
       " {'UserId': 20, 'Recommendations': [6, 7, 9, 5, 4]},\n",
       " {'UserId': 21, 'Recommendations': [6, 7, 9, 4, 11]},\n",
       " {'UserId': 22, 'Recommendations': [7, 4, 8, 9, 2]},\n",
       " {'UserId': 23, 'Recommendations': [3, 4, 7, 6, 8]},\n",
       " {'UserId': 24, 'Recommendations': [6, 7, 9, 5, 25]},\n",
       " {'UserId': 25, 'Recommendations': [3, 5, 6, 8, 9]},\n",
       " {'UserId': 26, 'Recommendations': [6, 7, 9, 25, 11]},\n",
       " {'UserId': 27, 'Recommendations': [4, 3, 7, 9, 25]},\n",
       " {'UserId': 28, 'Recommendations': [6, 7, 9, 4, 25]},\n",
       " {'UserId': 29, 'Recommendations': [3, 5, 7, 6, 8]},\n",
       " {'UserId': 30, 'Recommendations': [9, 6, 7, 11, 10]},\n",
       " {'UserId': 31, 'Recommendations': [17, 15, 13, 20, 12]},\n",
       " {'UserId': 32, 'Recommendations': [7, 5, 9, 3, 11]},\n",
       " {'UserId': 33, 'Recommendations': [7, 6, 8, 9, 3]},\n",
       " {'UserId': 34, 'Recommendations': [9, 25, 5, 13, 16]},\n",
       " {'UserId': 35, 'Recommendations': [3, 5, 7, 6, 8]},\n",
       " {'UserId': 36, 'Recommendations': [9, 25, 11, 10, 6]},\n",
       " {'UserId': 37, 'Recommendations': [9, 3, 12, 2, 16]},\n",
       " {'UserId': 38, 'Recommendations': [5, 7, 9, 25, 11]},\n",
       " {'UserId': 39, 'Recommendations': [7, 9, 25, 11, 10]},\n",
       " {'UserId': 40, 'Recommendations': [13, 12, 15, 11, 25]},\n",
       " {'UserId': 41, 'Recommendations': [22, 26, 29, 23, 28]},\n",
       " {'UserId': 42, 'Recommendations': [10, 11, 12, 9, 14]},\n",
       " {'UserId': 43, 'Recommendations': [20, 18, 19, 17, 15]},\n",
       " {'UserId': 44, 'Recommendations': [7, 9, 5, 4, 11]},\n",
       " {'UserId': 45, 'Recommendations': [5, 3, 7, 6, 2]},\n",
       " {'UserId': 46, 'Recommendations': [3, 4, 5, 7, 6]},\n",
       " {'UserId': 47, 'Recommendations': [9, 25, 11, 10, 12]},\n",
       " {'UserId': 48, 'Recommendations': [7, 5, 3, 25, 11]},\n",
       " {'UserId': 49, 'Recommendations': [3, 5, 7, 8, 9]},\n",
       " {'UserId': 50, 'Recommendations': [11, 9, 10, 12, 14]},\n",
       " {'UserId': 51, 'Recommendations': [5, 2, 7, 8, 9]},\n",
       " {'UserId': 52, 'Recommendations': [9, 11, 6, 7, 14]},\n",
       " {'UserId': 53, 'Recommendations': [9, 25, 11, 7, 12]},\n",
       " {'UserId': 54, 'Recommendations': [9, 25, 11, 13, 16]},\n",
       " {'UserId': 55, 'Recommendations': [9, 25, 11, 7, 14]},\n",
       " {'UserId': 56, 'Recommendations': [9, 25, 11, 10, 12]},\n",
       " {'UserId': 57, 'Recommendations': [9, 11, 12, 7, 13]},\n",
       " {'UserId': 58, 'Recommendations': [5, 7, 9, 1, 11]},\n",
       " {'UserId': 59, 'Recommendations': [8, 6, 7, 9, 25]},\n",
       " {'UserId': 60, 'Recommendations': [5, 7, 6, 3, 9]},\n",
       " {'UserId': 61, 'Recommendations': [3, 4, 5, 7, 8]},\n",
       " {'UserId': 62, 'Recommendations': [3, 4, 5, 7, 6]},\n",
       " {'UserId': 63, 'Recommendations': [5, 4, 7, 3, 9]},\n",
       " {'UserId': 64, 'Recommendations': [4, 7, 6, 8, 9]},\n",
       " {'UserId': 65, 'Recommendations': [3, 4, 5, 7, 9]},\n",
       " {'UserId': 66, 'Recommendations': [10, 11, 12, 9, 14]},\n",
       " {'UserId': 67, 'Recommendations': [9, 25, 11, 6, 12]},\n",
       " {'UserId': 68, 'Recommendations': [11, 25, 9, 10, 12]},\n",
       " {'UserId': 69, 'Recommendations': [3, 25, 11, 12, 14]},\n",
       " {'UserId': 70, 'Recommendations': [4, 5, 7, 6, 1]},\n",
       " {'UserId': 71, 'Recommendations': [5, 7, 8, 9, 25]},\n",
       " {'UserId': 72, 'Recommendations': [7, 9, 5, 25, 11]},\n",
       " {'UserId': 73, 'Recommendations': [4, 3, 5, 7, 6]},\n",
       " {'UserId': 74, 'Recommendations': [7, 11, 2, 12, 14]},\n",
       " {'UserId': 75, 'Recommendations': [9, 6, 25, 7, 11]},\n",
       " {'UserId': 76, 'Recommendations': [25, 11, 9, 12, 14]},\n",
       " {'UserId': 77, 'Recommendations': [7, 4, 6, 9, 2]},\n",
       " {'UserId': 78, 'Recommendations': [7, 6, 5, 9, 3]},\n",
       " {'UserId': 79, 'Recommendations': [7, 6, 5, 9, 3]},\n",
       " {'UserId': 80, 'Recommendations': [6, 3, 9, 2, 25]},\n",
       " {'UserId': 81, 'Recommendations': [7, 8, 9, 25, 11]},\n",
       " {'UserId': 82, 'Recommendations': [7, 9, 5, 4, 25]},\n",
       " {'UserId': 83, 'Recommendations': [3, 4, 7, 6, 8]},\n",
       " {'UserId': 84, 'Recommendations': [5, 7, 6, 3, 2]},\n",
       " {'UserId': 85, 'Recommendations': [9, 6, 11, 7, 14]},\n",
       " {'UserId': 86, 'Recommendations': [9, 25, 11, 14, 13]},\n",
       " {'UserId': 87, 'Recommendations': [5, 7, 6, 9, 25]},\n",
       " {'UserId': 88, 'Recommendations': [7, 9, 25, 11, 10]},\n",
       " {'UserId': 89, 'Recommendations': [11, 14, 16, 15, 9]},\n",
       " {'UserId': 90, 'Recommendations': [7, 6, 5, 9, 3]},\n",
       " {'UserId': 91, 'Recommendations': [3, 5, 7, 6, 9]},\n",
       " {'UserId': 92, 'Recommendations': [3, 7, 8, 9, 25]},\n",
       " {'UserId': 93, 'Recommendations': [7, 9, 5, 25, 11]},\n",
       " {'UserId': 94, 'Recommendations': [13, 12, 15, 17, 11]},\n",
       " {'UserId': 95, 'Recommendations': [9, 7, 25, 11, 12]},\n",
       " {'UserId': 96, 'Recommendations': [3, 4, 5, 7, 9]},\n",
       " {'UserId': 97, 'Recommendations': [7, 9, 25, 11, 10]},\n",
       " {'UserId': 98, 'Recommendations': [10, 11, 12, 14, 13]},\n",
       " {'UserId': 99, 'Recommendations': [5, 6, 8, 9, 25]},\n",
       " {'UserId': 100, 'Recommendations': [12, 10, 14, 13, 15]},\n",
       " {'UserId': 101, 'Recommendations': [7, 6, 8, 5, 9]},\n",
       " {'UserId': 102, 'Recommendations': [3, 7, 9, 25, 11]},\n",
       " {'UserId': 103, 'Recommendations': [4, 5, 3, 7, 8]},\n",
       " {'UserId': 104, 'Recommendations': [7, 8, 5, 9, 3]},\n",
       " {'UserId': 105, 'Recommendations': [3, 5, 7, 6, 9]},\n",
       " {'UserId': 106, 'Recommendations': [7, 5, 4, 9, 2]},\n",
       " {'UserId': 107, 'Recommendations': [7, 6, 3, 9, 25]},\n",
       " {'UserId': 108, 'Recommendations': [4, 5, 7, 9, 25]},\n",
       " {'UserId': 109, 'Recommendations': [9, 25, 11, 6, 17]},\n",
       " {'UserId': 110, 'Recommendations': [6, 9, 5, 25, 4]},\n",
       " {'UserId': 111, 'Recommendations': [7, 5, 4, 9, 3]},\n",
       " {'UserId': 112, 'Recommendations': [13, 12, 10, 15, 11]},\n",
       " {'UserId': 113, 'Recommendations': [13, 16, 14, 15, 17]},\n",
       " {'UserId': 114, 'Recommendations': [3, 4, 7, 6, 9]},\n",
       " {'UserId': 115, 'Recommendations': [8, 9, 25, 11, 10]},\n",
       " {'UserId': 116, 'Recommendations': [7, 5, 4, 9, 3]},\n",
       " {'UserId': 117, 'Recommendations': [6, 9, 7, 25, 11]},\n",
       " {'UserId': 118, 'Recommendations': [9, 25, 11, 12, 14]},\n",
       " {'UserId': 119, 'Recommendations': [9, 6, 11, 10, 7]},\n",
       " {'UserId': 120, 'Recommendations': [4, 5, 7, 6, 8]},\n",
       " {'UserId': 121, 'Recommendations': [5, 4, 7, 6, 3]},\n",
       " {'UserId': 122, 'Recommendations': [17, 20, 19, 16, 13]},\n",
       " {'UserId': 123, 'Recommendations': [13, 14, 17, 12, 18]},\n",
       " {'UserId': 124, 'Recommendations': [5, 6, 25, 11, 10]},\n",
       " {'UserId': 125, 'Recommendations': [9, 11, 7, 12, 14]},\n",
       " {'UserId': 126, 'Recommendations': [5, 3, 7, 9, 25]},\n",
       " {'UserId': 127, 'Recommendations': [7, 9, 25, 5, 4]},\n",
       " {'UserId': 128, 'Recommendations': [13, 15, 14, 17, 12]},\n",
       " {'UserId': 129, 'Recommendations': [10, 11, 12, 9, 14]},\n",
       " {'UserId': 130, 'Recommendations': [9, 25, 11, 13, 16]},\n",
       " {'UserId': 131, 'Recommendations': [4, 5, 3, 7, 6]},\n",
       " {'UserId': 132, 'Recommendations': [3, 4, 5, 7, 6]},\n",
       " {'UserId': 133, 'Recommendations': [10, 11, 12, 9, 14]},\n",
       " {'UserId': 134, 'Recommendations': [4, 3, 5, 7, 9]},\n",
       " {'UserId': 135, 'Recommendations': [8, 7, 9, 25, 11]},\n",
       " {'UserId': 136, 'Recommendations': [4, 5, 3, 7, 6]},\n",
       " {'UserId': 137, 'Recommendations': [5, 7, 6, 8, 9]},\n",
       " {'UserId': 138, 'Recommendations': [13, 14, 15, 17, 10]},\n",
       " {'UserId': 139, 'Recommendations': [7, 5, 9, 3, 25]},\n",
       " {'UserId': 140, 'Recommendations': [3, 4, 5, 7, 6]},\n",
       " {'UserId': 141, 'Recommendations': [5, 7, 6, 2, 9]},\n",
       " {'UserId': 142, 'Recommendations': [17, 15, 13, 14, 20]},\n",
       " {'UserId': 143, 'Recommendations': [5, 3, 9, 2, 25]},\n",
       " {'UserId': 144, 'Recommendations': [16, 13, 14, 15, 10]},\n",
       " {'UserId': 145, 'Recommendations': [9, 11, 10, 12, 14]},\n",
       " {'UserId': 146, 'Recommendations': [9, 25, 11, 10, 12]},\n",
       " {'UserId': 147, 'Recommendations': [9, 25, 11, 6, 12]},\n",
       " {'UserId': 148, 'Recommendations': [7, 9, 1, 25, 11]},\n",
       " {'UserId': 149, 'Recommendations': [12, 11, 25, 14, 13]},\n",
       " {'UserId': 150, 'Recommendations': [3, 7, 8, 2, 9]},\n",
       " {'UserId': 151, 'Recommendations': [25, 11, 10, 9, 12]},\n",
       " {'UserId': 152, 'Recommendations': [7, 5, 8, 4, 3]},\n",
       " {'UserId': 153, 'Recommendations': [10, 14, 13, 16, 9]},\n",
       " {'UserId': 154, 'Recommendations': [9, 25, 11, 6, 10]},\n",
       " {'UserId': 155, 'Recommendations': [9, 11, 12, 8, 14]},\n",
       " {'UserId': 156, 'Recommendations': [9, 7, 11, 10, 5]},\n",
       " {'UserId': 157, 'Recommendations': [9, 6, 11, 7, 12]},\n",
       " {'UserId': 158, 'Recommendations': [12, 13, 11, 15, 17]},\n",
       " {'UserId': 159, 'Recommendations': [3, 6, 8, 2, 9]},\n",
       " {'UserId': 160, 'Recommendations': [9, 25, 2, 12, 14]},\n",
       " {'UserId': 161, 'Recommendations': [3, 5, 7, 6, 9]},\n",
       " {'UserId': 162, 'Recommendations': [25, 9, 10, 11, 12]},\n",
       " {'UserId': 163, 'Recommendations': [5, 7, 8, 9, 1]},\n",
       " {'UserId': 164, 'Recommendations': [25, 11, 10, 9, 14]},\n",
       " {'UserId': 165, 'Recommendations': [6, 7, 9, 5, 25]},\n",
       " {'UserId': 166, 'Recommendations': [13, 15, 17, 10, 18]},\n",
       " {'UserId': 167, 'Recommendations': [7, 6, 8, 5, 9]},\n",
       " {'UserId': 168, 'Recommendations': [3, 5, 7, 6, 8]},\n",
       " {'UserId': 169, 'Recommendations': [5, 7, 6, 9, 25]},\n",
       " {'UserId': 170, 'Recommendations': [4, 5, 3, 9, 25]},\n",
       " {'UserId': 171, 'Recommendations': [3, 7, 8, 9, 25]},\n",
       " {'UserId': 172, 'Recommendations': [8, 6, 9, 7, 25]},\n",
       " {'UserId': 173, 'Recommendations': [13, 14, 15, 12, 17]},\n",
       " {'UserId': 174, 'Recommendations': [5, 3, 2, 7, 6]},\n",
       " {'UserId': 175, 'Recommendations': [4, 5, 3, 7, 6]},\n",
       " {'UserId': 176, 'Recommendations': [10, 11, 14, 13, 16]},\n",
       " {'UserId': 177, 'Recommendations': [25, 11, 7, 14, 13]},\n",
       " {'UserId': 178, 'Recommendations': [4, 7, 8, 9, 25]},\n",
       " {'UserId': 179, 'Recommendations': [7, 9, 5, 25, 4]},\n",
       " {'UserId': 180, 'Recommendations': [12, 10, 11, 14, 13]},\n",
       " {'UserId': 181, 'Recommendations': [9, 6, 7, 11, 5]},\n",
       " {'UserId': 182, 'Recommendations': [9, 7, 25, 11, 10]},\n",
       " {'UserId': 183, 'Recommendations': [9, 11, 10, 13, 14]},\n",
       " {'UserId': 184, 'Recommendations': [12, 10, 14, 25, 15]},\n",
       " {'UserId': 185, 'Recommendations': [7, 9, 3, 25, 2]},\n",
       " {'UserId': 186, 'Recommendations': [6, 7, 9, 4, 25]},\n",
       " {'UserId': 187, 'Recommendations': [9, 25, 11, 13, 7]},\n",
       " {'UserId': 188, 'Recommendations': [8, 6, 11, 7, 12]},\n",
       " {'UserId': 189, 'Recommendations': [9, 11, 25, 10, 12]},\n",
       " {'UserId': 190, 'Recommendations': [7, 2, 9, 25, 11]},\n",
       " {'UserId': 191, 'Recommendations': [9, 25, 11, 3, 12]},\n",
       " {'UserId': 192, 'Recommendations': [9, 8, 6, 25, 11]},\n",
       " {'UserId': 193, 'Recommendations': [3, 5, 7, 6, 9]},\n",
       " {'UserId': 194, 'Recommendations': [7, 9, 5, 4, 25]},\n",
       " {'UserId': 195, 'Recommendations': [5, 7, 6, 8, 1]},\n",
       " {'UserId': 196, 'Recommendations': [4, 7, 6, 8, 9]},\n",
       " {'UserId': 197, 'Recommendations': [3, 5, 7, 6, 9]},\n",
       " {'UserId': 198, 'Recommendations': [4, 7, 25, 11, 10]},\n",
       " {'UserId': 199, 'Recommendations': [3, 4, 5, 7, 6]},\n",
       " {'UserId': 200, 'Recommendations': [3, 5, 7, 6, 8]},\n",
       " {'UserId': 201, 'Recommendations': [12, 11, 25, 14, 13]},\n",
       " {'UserId': 202, 'Recommendations': [7, 8, 9, 5, 4]},\n",
       " {'UserId': 203, 'Recommendations': [11, 25, 10, 12, 8]},\n",
       " {'UserId': 204, 'Recommendations': [6, 7, 25, 10, 12]},\n",
       " {'UserId': 205, 'Recommendations': [7, 6, 5, 9, 3]},\n",
       " {'UserId': 206, 'Recommendations': [5, 3, 7, 6, 9]},\n",
       " {'UserId': 207, 'Recommendations': [7, 25, 11, 10, 15]},\n",
       " {'UserId': 208, 'Recommendations': [8, 9, 25, 11, 10]},\n",
       " {'UserId': 209, 'Recommendations': [9, 25, 11, 6, 12]},\n",
       " {'UserId': 210, 'Recommendations': [7, 6, 9, 25, 11]},\n",
       " {'UserId': 211, 'Recommendations': [14, 13, 12, 15, 10]},\n",
       " {'UserId': 212, 'Recommendations': [3, 5, 7, 6, 8]},\n",
       " {'UserId': 213, 'Recommendations': [7, 5, 9, 25, 3]},\n",
       " {'UserId': 214, 'Recommendations': [7, 4, 25, 11, 3]},\n",
       " {'UserId': 215, 'Recommendations': [7, 9, 5, 4, 25]},\n",
       " {'UserId': 216, 'Recommendations': [22, 26, 28, 20, 19]},\n",
       " {'UserId': 217, 'Recommendations': [10, 11, 12, 9, 14]},\n",
       " {'UserId': 218, 'Recommendations': [9, 8, 25, 7, 10]},\n",
       " {'UserId': 219, 'Recommendations': [3, 7, 6, 9, 1]},\n",
       " {'UserId': 220, 'Recommendations': [3, 4, 5, 7, 8]},\n",
       " {'UserId': 221, 'Recommendations': [9, 3, 25, 11, 10]},\n",
       " {'UserId': 222, 'Recommendations': [5, 7, 3, 9, 25]},\n",
       " {'UserId': 223, 'Recommendations': [3, 7, 9, 11, 10]},\n",
       " {'UserId': 224, 'Recommendations': [3, 4, 5, 7, 8]},\n",
       " {'UserId': 225, 'Recommendations': [10, 11, 12, 14, 13]},\n",
       " {'UserId': 226, 'Recommendations': [3, 5, 7, 9, 25]},\n",
       " {'UserId': 227, 'Recommendations': [20, 18, 19, 17, 28]},\n",
       " {'UserId': 228, 'Recommendations': [4, 5, 3, 7, 9]},\n",
       " {'UserId': 229, 'Recommendations': [18, 19, 17, 15, 13]},\n",
       " {'UserId': 230, 'Recommendations': [7, 6, 5, 9, 3]},\n",
       " {'UserId': 231, 'Recommendations': [9, 11, 6, 12, 7]},\n",
       " {'UserId': 232, 'Recommendations': [7, 6, 9, 25, 1]},\n",
       " {'UserId': 233, 'Recommendations': [5, 7, 6, 9, 1]},\n",
       " {'UserId': 234, 'Recommendations': [3, 5, 7, 8, 9]},\n",
       " {'UserId': 235, 'Recommendations': [5, 3, 7, 9, 25]},\n",
       " {'UserId': 236, 'Recommendations': [5, 7, 6, 9, 25]},\n",
       " {'UserId': 237, 'Recommendations': [9, 25, 11, 12, 1]},\n",
       " {'UserId': 238, 'Recommendations': [5, 9, 3, 25, 11]},\n",
       " {'UserId': 239, 'Recommendations': [9, 25, 11, 10, 8]},\n",
       " {'UserId': 240, 'Recommendations': [13, 12, 10, 14, 15]},\n",
       " {'UserId': 241, 'Recommendations': [10, 11, 25, 12, 13]},\n",
       " {'UserId': 242, 'Recommendations': [3, 5, 2, 7, 6]},\n",
       " {'UserId': 243, 'Recommendations': [9, 5, 25, 3, 14]},\n",
       " {'UserId': 244, 'Recommendations': [7, 3, 9, 2, 25]},\n",
       " {'UserId': 245, 'Recommendations': [7, 25, 5, 11, 4]},\n",
       " {'UserId': 246, 'Recommendations': [5, 7, 9, 1, 11]},\n",
       " {'UserId': 247, 'Recommendations': [9, 25, 11, 10, 6]},\n",
       " {'UserId': 248, 'Recommendations': [20, 18, 19, 22, 15]},\n",
       " {'UserId': 249, 'Recommendations': [5, 3, 7, 6, 2]},\n",
       " {'UserId': 250, 'Recommendations': [3, 4, 5, 7, 6]},\n",
       " {'UserId': 251, 'Recommendations': [13, 15, 16, 12, 17]},\n",
       " {'UserId': 252, 'Recommendations': [12, 11, 25, 14, 13]},\n",
       " {'UserId': 253, 'Recommendations': [15, 13, 17, 12, 18]},\n",
       " {'UserId': 254, 'Recommendations': [5, 7, 9, 2, 25]},\n",
       " {'UserId': 255, 'Recommendations': [9, 6, 7, 11, 10]},\n",
       " {'UserId': 256, 'Recommendations': [10, 12, 11, 13, 16]},\n",
       " {'UserId': 257, 'Recommendations': [6, 9, 7, 25, 11]},\n",
       " {'UserId': 258, 'Recommendations': [4, 7, 6, 3, 9]},\n",
       " {'UserId': 259, 'Recommendations': [3, 4, 5, 7, 8]},\n",
       " {'UserId': 260, 'Recommendations': [6, 7, 9, 5, 4]},\n",
       " {'UserId': 261, 'Recommendations': [3, 4, 5, 7, 6]},\n",
       " {'UserId': 262, 'Recommendations': [7, 9, 5, 4, 3]},\n",
       " {'UserId': 263, 'Recommendations': [6, 9, 7, 11, 10]},\n",
       " {'UserId': 264, 'Recommendations': [13, 15, 14, 17, 12]},\n",
       " {'UserId': 265, 'Recommendations': [12, 10, 11, 14, 13]},\n",
       " {'UserId': 266, 'Recommendations': [9, 7, 11, 14, 13]},\n",
       " {'UserId': 267, 'Recommendations': [13, 25, 9, 20, 6]},\n",
       " {'UserId': 268, 'Recommendations': [3, 4, 5, 7, 6]},\n",
       " {'UserId': 269, 'Recommendations': [3, 5, 7, 6, 8]},\n",
       " {'UserId': 270, 'Recommendations': [5, 7, 8, 9, 25]},\n",
       " {'UserId': 271, 'Recommendations': [7, 9, 5, 4, 25]},\n",
       " {'UserId': 272, 'Recommendations': [3, 7, 9, 25, 11]},\n",
       " {'UserId': 273, 'Recommendations': [3, 1, 25, 11, 10]},\n",
       " {'UserId': 274, 'Recommendations': [7, 5, 3, 9, 2]},\n",
       " {'UserId': 275, 'Recommendations': [7, 9, 5, 4, 25]},\n",
       " {'UserId': 276, 'Recommendations': [3, 7, 6, 8, 9]},\n",
       " {'UserId': 277, 'Recommendations': [3, 4, 5, 7, 6]},\n",
       " {'UserId': 278, 'Recommendations': [9, 25, 11, 6, 12]},\n",
       " {'UserId': 279, 'Recommendations': [7, 5, 9, 3, 11]},\n",
       " {'UserId': 280, 'Recommendations': [7, 5, 11, 14, 3]},\n",
       " {'UserId': 281, 'Recommendations': [5, 7, 3, 2, 25]},\n",
       " {'UserId': 282, 'Recommendations': [13, 15, 14, 17, 12]},\n",
       " {'UserId': 283, 'Recommendations': [7, 9, 5, 25, 11]},\n",
       " {'UserId': 284, 'Recommendations': [3, 5, 7, 9, 11]},\n",
       " {'UserId': 285, 'Recommendations': [7, 8, 5, 9, 3]},\n",
       " {'UserId': 286, 'Recommendations': [4, 7, 6, 8, 9]},\n",
       " {'UserId': 287, 'Recommendations': [25, 11, 12, 6, 13]},\n",
       " {'UserId': 288, 'Recommendations': [6, 9, 5, 4, 25]},\n",
       " {'UserId': 289, 'Recommendations': [10, 11, 12, 9, 14]},\n",
       " {'UserId': 290, 'Recommendations': [5, 3, 7, 9, 25]},\n",
       " {'UserId': 291, 'Recommendations': [7, 9, 5, 25, 12]},\n",
       " {'UserId': 292, 'Recommendations': [3, 4, 5, 7, 6]},\n",
       " {'UserId': 293, 'Recommendations': [3, 7, 8, 2, 9]},\n",
       " {'UserId': 294, 'Recommendations': [5, 4, 7, 6, 3]},\n",
       " {'UserId': 295, 'Recommendations': [3, 5, 7, 6, 8]},\n",
       " {'UserId': 296, 'Recommendations': [30, 36, 32, 33, 27]},\n",
       " {'UserId': 297, 'Recommendations': [7, 8, 4, 9, 3]},\n",
       " {'UserId': 298, 'Recommendations': [8, 7, 9, 5, 4]},\n",
       " {'UserId': 299, 'Recommendations': [9, 8, 6, 25, 11]},\n",
       " {'UserId': 300, 'Recommendations': [25, 11, 12, 9, 13]},\n",
       " {'UserId': 301, 'Recommendations': [12, 11, 14, 13, 25]},\n",
       " {'UserId': 302, 'Recommendations': [4, 3, 7, 6, 25]},\n",
       " {'UserId': 303, 'Recommendations': [10, 11, 12, 9, 14]},\n",
       " {'UserId': 304, 'Recommendations': [11, 9, 13, 8, 15]},\n",
       " {'UserId': 305, 'Recommendations': [6, 7, 25, 11, 14]},\n",
       " {'UserId': 306, 'Recommendations': [9, 6, 7, 11, 10]},\n",
       " {'UserId': 307, 'Recommendations': [9, 6, 25, 7, 11]},\n",
       " {'UserId': 308, 'Recommendations': [22, 26, 23, 21, 29]},\n",
       " {'UserId': 309, 'Recommendations': [12, 13, 14, 10, 11]},\n",
       " {'UserId': 310, 'Recommendations': [3, 4, 5, 7, 8]},\n",
       " {'UserId': 311, 'Recommendations': [11, 10, 12, 9, 14]},\n",
       " {'UserId': 312, 'Recommendations': [7, 9, 4, 25, 11]},\n",
       " {'UserId': 313, 'Recommendations': [10, 11, 12, 9, 14]},\n",
       " {'UserId': 314, 'Recommendations': [7, 6, 5, 9, 3]},\n",
       " {'UserId': 315, 'Recommendations': [16, 13, 14, 12, 10]},\n",
       " {'UserId': 316, 'Recommendations': [6, 7, 9, 5, 4]},\n",
       " {'UserId': 317, 'Recommendations': [11, 10, 12, 14, 13]},\n",
       " {'UserId': 318, 'Recommendations': [9, 25, 11, 12, 7]},\n",
       " {'UserId': 319, 'Recommendations': [7, 8, 5, 9, 3]},\n",
       " {'UserId': 320, 'Recommendations': [9, 11, 12, 8, 6]},\n",
       " {'UserId': 321, 'Recommendations': [7, 5, 8, 3, 9]},\n",
       " {'UserId': 322, 'Recommendations': [11, 12, 14, 13, 16]},\n",
       " {'UserId': 323, 'Recommendations': [9, 25, 11, 10, 12]},\n",
       " {'UserId': 324, 'Recommendations': [3, 5, 7, 6, 8]},\n",
       " {'UserId': 325, 'Recommendations': [12, 14, 13, 9, 15]},\n",
       " {'UserId': 326, 'Recommendations': [3, 7, 9, 11, 10]},\n",
       " {'UserId': 327, 'Recommendations': [9, 25, 11, 10, 12]},\n",
       " {'UserId': 328, 'Recommendations': [9, 25, 11, 6, 7]},\n",
       " {'UserId': 329, 'Recommendations': [9, 4, 11, 3, 2]},\n",
       " {'UserId': 330, 'Recommendations': [5, 3, 7, 6, 8]},\n",
       " {'UserId': 331, 'Recommendations': [25, 11, 13, 9, 17]},\n",
       " {'UserId': 332, 'Recommendations': [3, 5, 7, 6, 8]},\n",
       " {'UserId': 333, 'Recommendations': [20, 18, 19, 17, 22]},\n",
       " {'UserId': 334, 'Recommendations': [9, 11, 10, 12, 6]},\n",
       " {'UserId': 336, 'Recommendations': [10, 11, 25, 14, 9]},\n",
       " {'UserId': 337, 'Recommendations': [3, 5, 6, 9, 25]},\n",
       " {'UserId': 338, 'Recommendations': [13, 14, 16, 15, 12]},\n",
       " {'UserId': 339, 'Recommendations': [6, 8, 7, 5, 4]},\n",
       " {'UserId': 340, 'Recommendations': [7, 6, 5, 9, 25]},\n",
       " {'UserId': 341, 'Recommendations': [7, 3, 9, 2, 11]},\n",
       " {'UserId': 342, 'Recommendations': [6, 7, 9, 25, 11]},\n",
       " {'UserId': 343, 'Recommendations': [10, 12, 11, 14, 13]},\n",
       " {'UserId': 344, 'Recommendations': [28, 20, 19, 18, 29]},\n",
       " {'UserId': 345, 'Recommendations': [5, 7, 6, 3, 9]},\n",
       " {'UserId': 346, 'Recommendations': [7, 2, 8, 9, 25]},\n",
       " {'UserId': 347, 'Recommendations': [5, 3, 7, 6, 2]},\n",
       " {'UserId': 348, 'Recommendations': [3, 4, 5, 8, 9]},\n",
       " {'UserId': 349, 'Recommendations': [12, 11, 25, 15, 9]},\n",
       " {'UserId': 350, 'Recommendations': [5, 7, 6, 9, 25]},\n",
       " {'UserId': 351, 'Recommendations': [12, 13, 16, 15, 17]},\n",
       " {'UserId': 352, 'Recommendations': [7, 9, 5, 4, 25]},\n",
       " {'UserId': 353, 'Recommendations': [9, 25, 11, 10, 6]},\n",
       " {'UserId': 354, 'Recommendations': [3, 7, 9, 25, 10]},\n",
       " {'UserId': 355, 'Recommendations': [7, 4, 9, 3, 11]},\n",
       " {'UserId': 356, 'Recommendations': [4, 3, 5, 7, 9]},\n",
       " {'UserId': 357, 'Recommendations': [11, 25, 10, 8, 12]},\n",
       " {'UserId': 358, 'Recommendations': [5, 7, 6, 2, 9]},\n",
       " {'UserId': 359, 'Recommendations': [4, 3, 5, 7, 6]},\n",
       " {'UserId': 360, 'Recommendations': [9, 7, 25, 11, 10]},\n",
       " {'UserId': 361, 'Recommendations': [12, 14, 11, 16, 15]},\n",
       " {'UserId': 362, 'Recommendations': [22, 20, 19, 18, 28]},\n",
       " {'UserId': 363, 'Recommendations': [7, 5, 9, 3, 11]},\n",
       " {'UserId': 364, 'Recommendations': [3, 4, 7, 6, 8]},\n",
       " {'UserId': 365, 'Recommendations': [9, 8, 25, 11, 7]},\n",
       " {'UserId': 366, 'Recommendations': [7, 5, 6, 8, 3]},\n",
       " {'UserId': 367, 'Recommendations': [3, 5, 7, 6, 9]},\n",
       " {'UserId': 368, 'Recommendations': [3, 4, 5, 7, 9]},\n",
       " {'UserId': 369, 'Recommendations': [6, 7, 9, 5, 4]},\n",
       " {'UserId': 370, 'Recommendations': [3, 4, 5, 7, 6]},\n",
       " {'UserId': 371, 'Recommendations': [9, 7, 25, 11, 5]},\n",
       " {'UserId': 372, 'Recommendations': [4, 5, 3, 7, 6]},\n",
       " {'UserId': 373, 'Recommendations': [7, 9, 5, 25, 11]},\n",
       " {'UserId': 374, 'Recommendations': [6, 8, 5, 9, 3]},\n",
       " {'UserId': 375, 'Recommendations': [5, 7, 3, 9, 11]},\n",
       " {'UserId': 376, 'Recommendations': [12, 11, 25, 14, 13]},\n",
       " {'UserId': 377, 'Recommendations': [9, 8, 7, 25, 11]},\n",
       " {'UserId': 378, 'Recommendations': [3, 5, 7, 6, 9]},\n",
       " {'UserId': 379, 'Recommendations': [9, 2, 11, 14, 13]},\n",
       " {'UserId': 380, 'Recommendations': [9, 11, 6, 7, 12]},\n",
       " {'UserId': 381, 'Recommendations': [9, 6, 7, 11, 10]},\n",
       " {'UserId': 382, 'Recommendations': [4, 5, 7, 6, 2]},\n",
       " {'UserId': 383, 'Recommendations': [4, 5, 3, 7, 9]},\n",
       " {'UserId': 384, 'Recommendations': [5, 9, 3, 25, 11]},\n",
       " {'UserId': 385, 'Recommendations': [13, 15, 17, 12, 10]},\n",
       " {'UserId': 386, 'Recommendations': [6, 7, 9, 25, 11]},\n",
       " {'UserId': 387, 'Recommendations': [20, 18, 19, 21, 17]},\n",
       " {'UserId': 388, 'Recommendations': [7, 8, 9, 25, 1]},\n",
       " {'UserId': 389, 'Recommendations': [7, 5, 4, 9, 3]},\n",
       " {'UserId': 390, 'Recommendations': [10, 11, 12, 9, 14]},\n",
       " {'UserId': 391, 'Recommendations': [5, 3, 9, 25, 11]},\n",
       " {'UserId': 392, 'Recommendations': [4, 7, 6, 9, 25]},\n",
       " {'UserId': 393, 'Recommendations': [5, 7, 9, 1, 25]},\n",
       " {'UserId': 394, 'Recommendations': [17, 15, 13, 14, 19]},\n",
       " {'UserId': 395, 'Recommendations': [5, 7, 2, 9, 25]},\n",
       " {'UserId': 396, 'Recommendations': [3, 7, 9, 25, 11]},\n",
       " {'UserId': 397, 'Recommendations': [4, 9, 3, 11, 12]},\n",
       " {'UserId': 398, 'Recommendations': [12, 13, 11, 15, 25]},\n",
       " {'UserId': 399, 'Recommendations': [5, 7, 3, 9, 2]},\n",
       " {'UserId': 400, 'Recommendations': [6, 7, 9, 5, 11]},\n",
       " {'UserId': 401, 'Recommendations': [20, 21, 18, 19, 22]},\n",
       " {'UserId': 402, 'Recommendations': [16, 13, 14, 15, 17]},\n",
       " {'UserId': 403, 'Recommendations': [15, 17, 16, 13, 12]},\n",
       " {'UserId': 404, 'Recommendations': [5, 4, 7, 3, 9]},\n",
       " {'UserId': 405, 'Recommendations': [4, 7, 3, 9, 25]},\n",
       " {'UserId': 406, 'Recommendations': [9, 6, 11, 10, 7]},\n",
       " {'UserId': 407, 'Recommendations': [9, 7, 25, 11, 10]},\n",
       " {'UserId': 408, 'Recommendations': [5, 3, 9, 25, 11]},\n",
       " {'UserId': 409, 'Recommendations': [7, 9, 5, 11, 4]},\n",
       " {'UserId': 410, 'Recommendations': [7, 6, 4, 3, 9]},\n",
       " {'UserId': 411, 'Recommendations': [7, 8, 4, 9, 3]},\n",
       " {'UserId': 412, 'Recommendations': [9, 7, 25, 11, 10]},\n",
       " {'UserId': 413, 'Recommendations': [9, 25, 11, 13, 7]},\n",
       " {'UserId': 414, 'Recommendations': [11, 10, 9, 13, 15]},\n",
       " {'UserId': 415, 'Recommendations': [7, 6, 5, 9, 3]},\n",
       " {'UserId': 416, 'Recommendations': [3, 4, 5, 7, 6]},\n",
       " {'UserId': 417, 'Recommendations': [11, 25, 13, 15, 17]},\n",
       " {'UserId': 418, 'Recommendations': [6, 9, 7, 11, 10]},\n",
       " {'UserId': 419, 'Recommendations': [3, 5, 7, 6, 8]},\n",
       " {'UserId': 420, 'Recommendations': [5, 7, 8, 9, 11]},\n",
       " {'UserId': 421, 'Recommendations': [10, 13, 11, 15, 25]},\n",
       " {'UserId': 422, 'Recommendations': [3, 4, 5, 7, 6]},\n",
       " {'UserId': 423, 'Recommendations': [25, 11, 9, 12, 13]},\n",
       " {'UserId': 424, 'Recommendations': [5, 7, 3, 9, 11]},\n",
       " {'UserId': 425, 'Recommendations': [5, 7, 8, 9, 1]},\n",
       " {'UserId': 426, 'Recommendations': [9, 25, 11, 6, 12]},\n",
       " {'UserId': 427, 'Recommendations': [3, 5, 7, 9, 11]},\n",
       " {'UserId': 428, 'Recommendations': [3, 4, 5, 7, 6]},\n",
       " {'UserId': 429, 'Recommendations': [7, 6, 5, 9, 3]},\n",
       " {'UserId': 430, 'Recommendations': [9, 6, 7, 11, 10]},\n",
       " {'UserId': 431, 'Recommendations': [22, 26, 23, 29, 28]},\n",
       " {'UserId': 432, 'Recommendations': [3, 5, 7, 6, 8]},\n",
       " {'UserId': 433, 'Recommendations': [7, 6, 5, 4, 9]},\n",
       " {'UserId': 434, 'Recommendations': [5, 7, 8, 9, 25]},\n",
       " {'UserId': 435, 'Recommendations': [9, 7, 25, 11, 5]},\n",
       " {'UserId': 436, 'Recommendations': [17, 15, 18, 13, 20]},\n",
       " {'UserId': 437, 'Recommendations': [7, 9, 5, 4, 25]},\n",
       " {'UserId': 438, 'Recommendations': [4, 5, 7, 6, 8]},\n",
       " {'UserId': 439, 'Recommendations': [7, 9, 11, 3, 15]},\n",
       " {'UserId': 440, 'Recommendations': [5, 7, 8, 3, 9]},\n",
       " {'UserId': 441, 'Recommendations': [5, 7, 3, 6, 8]},\n",
       " {'UserId': 442, 'Recommendations': [3, 7, 8, 9, 25]},\n",
       " {'UserId': 443, 'Recommendations': [7, 9, 5, 4, 25]},\n",
       " {'UserId': 444, 'Recommendations': [7, 4, 8, 3, 9]},\n",
       " {'UserId': 445, 'Recommendations': [7, 4, 9, 3, 25]},\n",
       " {'UserId': 446, 'Recommendations': [12, 13, 25, 16, 11]},\n",
       " {'UserId': 447, 'Recommendations': [6, 9, 7, 11, 5]},\n",
       " {'UserId': 448, 'Recommendations': [9, 25, 8, 13, 17]},\n",
       " {'UserId': 449, 'Recommendations': [9, 8, 11, 10, 7]},\n",
       " {'UserId': 450, 'Recommendations': [13, 12, 16, 10, 25]},\n",
       " {'UserId': 451, 'Recommendations': [5, 7, 9, 25, 11]},\n",
       " {'UserId': 452, 'Recommendations': [11, 9, 12, 13, 8]},\n",
       " {'UserId': 453, 'Recommendations': [7, 5, 11, 3, 15]},\n",
       " {'UserId': 454, 'Recommendations': [7, 9, 25, 11, 10]},\n",
       " {'UserId': 455, 'Recommendations': [4, 3, 7, 6, 8]},\n",
       " {'UserId': 456, 'Recommendations': [10, 11, 17, 9, 19]},\n",
       " {'UserId': 457, 'Recommendations': [16, 15, 17, 13, 14]},\n",
       " {'UserId': 458, 'Recommendations': [13, 15, 12, 17, 11]},\n",
       " {'UserId': 459, 'Recommendations': [7, 3, 9, 2, 25]},\n",
       " {'UserId': 460, 'Recommendations': [5, 7, 9, 25, 11]},\n",
       " {'UserId': 461, 'Recommendations': [3, 4, 7, 8, 9]},\n",
       " {'UserId': 462, 'Recommendations': [22, 20, 19, 18, 16]},\n",
       " {'UserId': 463, 'Recommendations': [9, 25, 11, 10, 12]},\n",
       " {'UserId': 464, 'Recommendations': [4, 5, 7, 9, 11]},\n",
       " {'UserId': 465, 'Recommendations': [20, 28, 26, 13, 14]},\n",
       " {'UserId': 466, 'Recommendations': [11, 9, 17, 8, 18]},\n",
       " {'UserId': 467, 'Recommendations': [5, 7, 3, 9, 11]},\n",
       " {'UserId': 468, 'Recommendations': [3, 25, 11, 14, 13]},\n",
       " {'UserId': 469, 'Recommendations': [6, 7, 9, 4, 11]},\n",
       " {'UserId': 470, 'Recommendations': [3, 4, 5, 9, 25]},\n",
       " {'UserId': 471, 'Recommendations': [17, 20, 15, 13, 19]},\n",
       " {'UserId': 472, 'Recommendations': [4, 5, 7, 6, 8]},\n",
       " {'UserId': 473, 'Recommendations': [22, 28, 26, 19, 20]},\n",
       " {'UserId': 474, 'Recommendations': [4, 3, 5, 7, 6]},\n",
       " {'UserId': 475, 'Recommendations': [7, 6, 5, 9, 3]},\n",
       " {'UserId': 476, 'Recommendations': [5, 3, 7, 6, 9]},\n",
       " {'UserId': 477, 'Recommendations': [9, 25, 11, 10, 12]},\n",
       " {'UserId': 478, 'Recommendations': [17, 13, 14, 19, 11]},\n",
       " {'UserId': 479, 'Recommendations': [4, 5, 2, 7, 9]},\n",
       " {'UserId': 480, 'Recommendations': [13, 15, 14, 17, 12]},\n",
       " {'UserId': 481, 'Recommendations': [5, 8, 9, 11, 10]},\n",
       " {'UserId': 482, 'Recommendations': [5, 4, 7, 6, 3]},\n",
       " {'UserId': 483, 'Recommendations': [5, 3, 7, 6, 2]},\n",
       " {'UserId': 484, 'Recommendations': [7, 6, 8, 5, 9]},\n",
       " {'UserId': 485, 'Recommendations': [9, 25, 11, 6, 12]},\n",
       " {'UserId': 486, 'Recommendations': [7, 8, 9, 5, 25]},\n",
       " {'UserId': 487, 'Recommendations': [5, 3, 9, 25, 11]},\n",
       " {'UserId': 488, 'Recommendations': [21, 22, 20, 18, 19]},\n",
       " {'UserId': 489, 'Recommendations': [9, 25, 6, 7, 14]},\n",
       " {'UserId': 490, 'Recommendations': [7, 9, 25, 11, 10]},\n",
       " {'UserId': 491, 'Recommendations': [15, 13, 17, 14, 18]},\n",
       " {'UserId': 492, 'Recommendations': [9, 25, 7, 11, 13]},\n",
       " {'UserId': 493, 'Recommendations': [6, 7, 25, 11, 3]},\n",
       " {'UserId': 494, 'Recommendations': [7, 8, 9, 25, 1]},\n",
       " {'UserId': 495, 'Recommendations': [7, 8, 9, 25, 11]},\n",
       " {'UserId': 496, 'Recommendations': [24, 36, 32, 33, 27]},\n",
       " {'UserId': 497, 'Recommendations': [14, 13, 10, 16, 15]},\n",
       " {'UserId': 498, 'Recommendations': [5, 7, 6, 8, 1]},\n",
       " {'UserId': 499, 'Recommendations': [14, 17, 12, 10, 18]},\n",
       " {'UserId': 501, 'Recommendations': [6, 7, 9, 5, 4]},\n",
       " {'UserId': 502, 'Recommendations': [5, 7, 6, 8, 3]},\n",
       " {'UserId': 503, 'Recommendations': [9, 7, 25, 10, 5]},\n",
       " {'UserId': 504, 'Recommendations': [3, 5, 7, 6, 9]},\n",
       " {'UserId': 505, 'Recommendations': [11, 9, 13, 6, 17]},\n",
       " {'UserId': 506, 'Recommendations': [7, 5, 9, 3, 25]},\n",
       " {'UserId': 507, 'Recommendations': [11, 25, 14, 9, 15]},\n",
       " {'UserId': 508, 'Recommendations': [9, 6, 25, 11, 7]},\n",
       " {'UserId': 509, 'Recommendations': [16, 17, 15, 13, 14]},\n",
       " {'UserId': 510, 'Recommendations': [10, 11, 12, 9, 14]},\n",
       " {'UserId': 511, 'Recommendations': [13, 12, 11, 25, 9]},\n",
       " {'UserId': 512, 'Recommendations': [7, 6, 2, 9, 25]},\n",
       " {'UserId': 513, 'Recommendations': [8, 4, 9, 3, 25]},\n",
       " {'UserId': 514, 'Recommendations': [7, 3, 9, 11, 12]},\n",
       " {'UserId': 515, 'Recommendations': [7, 9, 25, 5, 11]},\n",
       " {'UserId': 516, 'Recommendations': [8, 1, 9, 11, 10]},\n",
       " {'UserId': 517, 'Recommendations': [3, 4, 5, 7, 6]},\n",
       " {'UserId': 518, 'Recommendations': [4, 5, 3, 7, 6]},\n",
       " {'UserId': 519, 'Recommendations': [10, 25, 11, 14, 13]},\n",
       " {'UserId': 520, 'Recommendations': [5, 3, 7, 9, 25]},\n",
       " {'UserId': 521, 'Recommendations': [6, 7, 9, 11, 5]},\n",
       " {'UserId': 522, 'Recommendations': [3, 7, 6, 8, 2]},\n",
       " {'UserId': 523, 'Recommendations': [8, 7, 9, 4, 25]},\n",
       " {'UserId': 524, 'Recommendations': [6, 25, 11, 1, 12]},\n",
       " {'UserId': 525, 'Recommendations': [9, 11, 25, 12, 8]},\n",
       " {'UserId': 526, 'Recommendations': [13, 14, 15, 12, 17]},\n",
       " {'UserId': 527, 'Recommendations': [7, 9, 11, 12, 1]},\n",
       " {'UserId': 528, 'Recommendations': [3, 4, 5, 7, 8]},\n",
       " {'UserId': 529, 'Recommendations': [11, 10, 9, 12, 14]},\n",
       " {'UserId': 530, 'Recommendations': [15, 13, 19, 12, 10]},\n",
       " {'UserId': 531, 'Recommendations': [7, 2, 9, 25, 12]},\n",
       " {'UserId': 532, 'Recommendations': [4, 5, 2, 7, 6]},\n",
       " {'UserId': 533, 'Recommendations': [6, 7, 9, 5, 25]},\n",
       " {'UserId': 534, 'Recommendations': [9, 8, 6, 11, 10]},\n",
       " {'UserId': 535, 'Recommendations': [8, 6, 7, 5, 9]},\n",
       " {'UserId': 536, 'Recommendations': [3, 5, 7, 6, 8]},\n",
       " {'UserId': 537, 'Recommendations': [6, 7, 9, 5, 4]},\n",
       " {'UserId': 538, 'Recommendations': [5, 3, 7, 2, 8]},\n",
       " {'UserId': 539, 'Recommendations': [17, 15, 13, 14, 18]},\n",
       " {'UserId': 540, 'Recommendations': [17, 15, 14, 18, 19]},\n",
       " {'UserId': 541, 'Recommendations': [3, 4, 5, 7, 9]},\n",
       " {'UserId': 542, 'Recommendations': [5, 7, 8, 3, 9]},\n",
       " {'UserId': 543, 'Recommendations': [5, 7, 2, 9, 25]},\n",
       " {'UserId': 544, 'Recommendations': [12, 10, 11, 14, 13]},\n",
       " {'UserId': 545, 'Recommendations': [6, 7, 9, 5, 4]},\n",
       " {'UserId': 546, 'Recommendations': [14, 12, 10, 15, 11]},\n",
       " {'UserId': 547, 'Recommendations': [12, 10, 14, 13, 11]},\n",
       " {'UserId': 548, 'Recommendations': [9, 8, 25, 11, 10]},\n",
       " {'UserId': 549, 'Recommendations': [3, 5, 7, 8, 9]},\n",
       " {'UserId': 550, 'Recommendations': [3, 5, 7, 6, 9]},\n",
       " {'UserId': 551, 'Recommendations': [5, 7, 6, 8, 11]},\n",
       " {'UserId': 552, 'Recommendations': [9, 6, 7, 11, 10]},\n",
       " {'UserId': 553, 'Recommendations': [3, 7, 9, 25, 11]},\n",
       " {'UserId': 554, 'Recommendations': [20, 18, 19, 17, 21]},\n",
       " {'UserId': 555, 'Recommendations': [12, 11, 14, 13, 15]},\n",
       " {'UserId': 556, 'Recommendations': [5, 3, 7, 6, 2]},\n",
       " {'UserId': 557, 'Recommendations': [5, 7, 3, 25, 10]},\n",
       " {'UserId': 558, 'Recommendations': [4, 3, 5, 7, 6]},\n",
       " {'UserId': 559, 'Recommendations': [5, 3, 7, 9, 25]},\n",
       " {'UserId': 560, 'Recommendations': [7, 9, 5, 4, 25]},\n",
       " {'UserId': 561, 'Recommendations': [5, 3, 7, 6, 25]},\n",
       " {'UserId': 562, 'Recommendations': [3, 7, 6, 9, 25]},\n",
       " {'UserId': 563, 'Recommendations': [13, 15, 17, 12, 10]},\n",
       " {'UserId': 564, 'Recommendations': [3, 7, 9, 25, 1]},\n",
       " {'UserId': 565, 'Recommendations': [10, 12, 11, 14, 13]},\n",
       " {'UserId': 566, 'Recommendations': [8, 7, 9, 5, 25]},\n",
       " {'UserId': 567, 'Recommendations': [9, 25, 6, 11, 10]},\n",
       " {'UserId': 568, 'Recommendations': [9, 7, 11, 12, 5]},\n",
       " {'UserId': 569, 'Recommendations': [12, 10, 11, 15, 17]},\n",
       " {'UserId': 570, 'Recommendations': [5, 7, 6, 3, 9]},\n",
       " {'UserId': 571, 'Recommendations': [9, 6, 11, 7, 10]},\n",
       " {'UserId': 572, 'Recommendations': [5, 7, 6, 9, 2]},\n",
       " {'UserId': 573, 'Recommendations': [4, 5, 3, 7, 9]},\n",
       " {'UserId': 574, 'Recommendations': [9, 8, 6, 7, 11]},\n",
       " {'UserId': 575, 'Recommendations': [4, 5, 7, 6, 8]},\n",
       " {'UserId': 576, 'Recommendations': [4, 5, 6, 9, 25]},\n",
       " {'UserId': 577, 'Recommendations': [13, 15, 17, 10, 11]},\n",
       " {'UserId': 578, 'Recommendations': [4, 5, 3, 7, 6]},\n",
       " {'UserId': 579, 'Recommendations': [3, 4, 5, 7, 6]},\n",
       " {'UserId': 580, 'Recommendations': [14, 12, 15, 10, 17]},\n",
       " {'UserId': 581, 'Recommendations': [6, 7, 11, 5, 12]},\n",
       " {'UserId': 582, 'Recommendations': [9, 6, 25, 7, 13]},\n",
       " {'UserId': 583, 'Recommendations': [9, 25, 11, 10, 12]},\n",
       " {'UserId': 584, 'Recommendations': [9, 6, 25, 11, 7]},\n",
       " {'UserId': 585, 'Recommendations': [3, 5, 7, 6, 8]},\n",
       " {'UserId': 586, 'Recommendations': [3, 4, 5, 7, 6]},\n",
       " {'UserId': 587, 'Recommendations': [6, 7, 9, 5, 4]},\n",
       " {'UserId': 588, 'Recommendations': [3, 5, 7, 6, 9]},\n",
       " {'UserId': 589, 'Recommendations': [3, 4, 5, 7, 9]},\n",
       " {'UserId': 590, 'Recommendations': [13, 15, 14, 17, 12]},\n",
       " {'UserId': 591, 'Recommendations': [12, 10, 13, 11, 25]},\n",
       " {'UserId': 592, 'Recommendations': [13, 15, 14, 17, 12]},\n",
       " {'UserId': 593, 'Recommendations': [7, 4, 6, 8, 3]},\n",
       " {'UserId': 594, 'Recommendations': [11, 12, 13, 9, 15]},\n",
       " {'UserId': 595, 'Recommendations': [17, 15, 13, 14, 20]},\n",
       " {'UserId': 596, 'Recommendations': [5, 7, 6, 3, 9]},\n",
       " {'UserId': 597, 'Recommendations': [13, 15, 17, 12, 10]},\n",
       " {'UserId': 598, 'Recommendations': [13, 14, 10, 11, 25]},\n",
       " {'UserId': 599, 'Recommendations': [5, 14, 17, 3, 20]},\n",
       " {'UserId': 600, 'Recommendations': [9, 11, 6, 12, 7]},\n",
       " {'UserId': 601, 'Recommendations': [6, 8, 9, 25, 11]},\n",
       " {'UserId': 602, 'Recommendations': [5, 6, 8, 9, 25]},\n",
       " {'UserId': 603, 'Recommendations': [3, 4, 5, 7, 6]},\n",
       " {'UserId': 604, 'Recommendations': [5, 7, 6, 9, 25]},\n",
       " {'UserId': 605, 'Recommendations': [3, 4, 7, 9, 25]},\n",
       " {'UserId': 606, 'Recommendations': [9, 6, 11, 10, 7]},\n",
       " {'UserId': 607, 'Recommendations': [4, 7, 8, 9, 25]},\n",
       " {'UserId': 608, 'Recommendations': [13, 14, 17, 16, 12]},\n",
       " {'UserId': 609, 'Recommendations': [3, 4, 6, 8, 9]},\n",
       " {'UserId': 610, 'Recommendations': [4, 5, 7, 8, 1]},\n",
       " {'UserId': 611, 'Recommendations': [7, 5, 9, 3, 25]},\n",
       " {'UserId': 612, 'Recommendations': [13, 16, 17, 12, 10]},\n",
       " {'UserId': 613, 'Recommendations': [5, 3, 7, 9, 11]},\n",
       " {'UserId': 614, 'Recommendations': [7, 9, 4, 10, 3]},\n",
       " {'UserId': 615, 'Recommendations': [7, 6, 5, 9, 3]},\n",
       " {'UserId': 616, 'Recommendations': [7, 6, 8, 9, 1]},\n",
       " {'UserId': 617, 'Recommendations': [11, 25, 12, 9, 14]},\n",
       " {'UserId': 618, 'Recommendations': [4, 5, 3, 7, 6]},\n",
       " {'UserId': 619, 'Recommendations': [7, 5, 3, 9, 2]},\n",
       " {'UserId': 620, 'Recommendations': [7, 9, 25, 5, 11]},\n",
       " {'UserId': 621, 'Recommendations': [9, 6, 7, 25, 11]},\n",
       " {'UserId': 622, 'Recommendations': [7, 6, 8, 25, 11]},\n",
       " {'UserId': 623, 'Recommendations': [15, 13, 14, 17, 18]},\n",
       " {'UserId': 624, 'Recommendations': [4, 5, 7, 6, 8]},\n",
       " {'UserId': 625, 'Recommendations': [5, 6, 9, 25, 11]},\n",
       " {'UserId': 626, 'Recommendations': [9, 25, 11, 7, 12]},\n",
       " {'UserId': 627, 'Recommendations': [9, 25, 11, 7, 14]},\n",
       " {'UserId': 628, 'Recommendations': [13, 14, 16, 15, 12]},\n",
       " {'UserId': 629, 'Recommendations': [5, 7, 2, 8, 9]},\n",
       " {'UserId': 630, 'Recommendations': [6, 7, 9, 5, 4]},\n",
       " {'UserId': 631, 'Recommendations': [4, 5, 7, 6, 9]},\n",
       " {'UserId': 632, 'Recommendations': [9, 6, 7, 11, 10]},\n",
       " {'UserId': 633, 'Recommendations': [9, 6, 7, 25, 11]},\n",
       " {'UserId': 634, 'Recommendations': [9, 25, 11, 8, 12]},\n",
       " {'UserId': 635, 'Recommendations': [9, 6, 7, 25, 11]},\n",
       " {'UserId': 636, 'Recommendations': [13, 14, 10, 15, 11]},\n",
       " {'UserId': 637, 'Recommendations': [5, 7, 8, 3, 9]},\n",
       " {'UserId': 639, 'Recommendations': [25, 13, 9, 15, 17]},\n",
       " {'UserId': 640, 'Recommendations': [20, 19, 17, 15, 21]},\n",
       " {'UserId': 641, 'Recommendations': [9, 11, 6, 7, 12]},\n",
       " {'UserId': 642, 'Recommendations': [5, 7, 3, 6, 8]},\n",
       " {'UserId': 643, 'Recommendations': [9, 8, 7, 10, 12]},\n",
       " {'UserId': 644, 'Recommendations': [3, 5, 7, 9, 25]},\n",
       " {'UserId': 645, 'Recommendations': [7, 3, 6, 9, 10]},\n",
       " {'UserId': 646, 'Recommendations': [9, 10, 2, 14, 15]},\n",
       " {'UserId': 647, 'Recommendations': [5, 9, 12, 14, 13]},\n",
       " {'UserId': 648, 'Recommendations': [7, 9, 25, 11, 5]},\n",
       " {'UserId': 649, 'Recommendations': [12, 13, 11, 25, 17]},\n",
       " {'UserId': 650, 'Recommendations': [6, 7, 9, 5, 11]},\n",
       " {'UserId': 651, 'Recommendations': [10, 8, 7, 13, 15]},\n",
       " {'UserId': 652, 'Recommendations': [6, 7, 9, 5, 11]},\n",
       " {'UserId': 653, 'Recommendations': [20, 19, 15, 13, 14]},\n",
       " {'UserId': 654, 'Recommendations': [3, 4, 5, 7, 6]},\n",
       " {'UserId': 655, 'Recommendations': [4, 5, 6, 9, 1]},\n",
       " {'UserId': 656, 'Recommendations': [9, 7, 25, 11, 10]},\n",
       " {'UserId': 657, 'Recommendations': [5, 7, 8, 9, 25]},\n",
       " {'UserId': 658, 'Recommendations': [9, 25, 10, 7, 12]},\n",
       " {'UserId': 659, 'Recommendations': [8, 6, 7, 9, 25]},\n",
       " {'UserId': 660, 'Recommendations': [9, 7, 11, 5, 13]},\n",
       " {'UserId': 661, 'Recommendations': [3, 4, 5, 7, 6]},\n",
       " {'UserId': 662, 'Recommendations': [9, 25, 11, 10, 6]},\n",
       " {'UserId': 663, 'Recommendations': [6, 7, 9, 5, 11]},\n",
       " {'UserId': 664, 'Recommendations': [3, 16, 17, 18, 1]},\n",
       " {'UserId': 665, 'Recommendations': [10, 12, 11, 13, 15]},\n",
       " {'UserId': 666, 'Recommendations': [12, 14, 11, 17, 18]},\n",
       " {'UserId': 667, 'Recommendations': [9, 7, 25, 11, 5]},\n",
       " {'UserId': 668, 'Recommendations': [4, 7, 6, 8, 3]},\n",
       " {'UserId': 669, 'Recommendations': [7, 5, 9, 3, 25]},\n",
       " {'UserId': 670, 'Recommendations': [5, 3, 7, 6, 2]},\n",
       " {'UserId': 671, 'Recommendations': [7, 5, 8, 3, 9]},\n",
       " {'UserId': 672, 'Recommendations': [7, 6, 5, 9, 3]},\n",
       " {'UserId': 673, 'Recommendations': [7, 25, 11, 5, 12]},\n",
       " {'UserId': 674, 'Recommendations': [7, 2, 9, 14, 13]},\n",
       " {'UserId': 675, 'Recommendations': [7, 8, 9, 25, 11]},\n",
       " {'UserId': 676, 'Recommendations': [8, 6, 7, 9, 25]},\n",
       " {'UserId': 677, 'Recommendations': [22, 26, 19, 20, 29]},\n",
       " {'UserId': 678, 'Recommendations': [5, 3, 7, 8, 9]},\n",
       " {'UserId': 679, 'Recommendations': [9, 11, 10, 12, 7]},\n",
       " {'UserId': 680, 'Recommendations': [13, 14, 15, 17, 12]},\n",
       " {'UserId': 681, 'Recommendations': [9, 13, 16, 6, 7]},\n",
       " {'UserId': 682, 'Recommendations': [8, 3, 9, 25, 11]},\n",
       " {'UserId': 683, 'Recommendations': [3, 4, 5, 7, 6]},\n",
       " {'UserId': 684, 'Recommendations': [8, 4, 9, 3, 25]},\n",
       " {'UserId': 685, 'Recommendations': [30, 33, 31, 23, 29]},\n",
       " {'UserId': 686, 'Recommendations': [7, 9, 5, 25, 11]},\n",
       " {'UserId': 687, 'Recommendations': [9, 25, 11, 10, 8]},\n",
       " {'UserId': 688, 'Recommendations': [4, 5, 7, 8, 1]},\n",
       " {'UserId': 689, 'Recommendations': [5, 7, 9, 25, 11]},\n",
       " {'UserId': 690, 'Recommendations': [3, 5, 7, 6, 8]},\n",
       " {'UserId': 691, 'Recommendations': [9, 11, 6, 12, 7]},\n",
       " {'UserId': 692, 'Recommendations': [6, 7, 9, 25, 11]},\n",
       " {'UserId': 693, 'Recommendations': [8, 7, 9, 5, 11]},\n",
       " {'UserId': 694, 'Recommendations': [7, 9, 25, 12, 14]},\n",
       " {'UserId': 695, 'Recommendations': [6, 7, 9, 25, 4]},\n",
       " {'UserId': 696, 'Recommendations': [10, 11, 14, 13, 16]},\n",
       " {'UserId': 697, 'Recommendations': [13, 16, 4, 18, 20]},\n",
       " {'UserId': 698, 'Recommendations': [4, 9, 3, 25, 11]},\n",
       " {'UserId': 699, 'Recommendations': [6, 9, 5, 10, 4]},\n",
       " {'UserId': 700, 'Recommendations': [7, 9, 5, 4, 25]},\n",
       " {'UserId': 701, 'Recommendations': [7, 6, 9, 1, 25]},\n",
       " {'UserId': 702, 'Recommendations': [3, 4, 5, 7, 6]},\n",
       " {'UserId': 703, 'Recommendations': [9, 25, 11, 12, 8]},\n",
       " {'UserId': 704, 'Recommendations': [22, 26, 28, 29, 23]},\n",
       " {'UserId': 705, 'Recommendations': [9, 6, 25, 7, 11]},\n",
       " {'UserId': 706, 'Recommendations': [20, 18, 19, 17, 21]},\n",
       " {'UserId': 707, 'Recommendations': [13, 10, 11, 25, 20]},\n",
       " {'UserId': 708, 'Recommendations': [3, 5, 7, 6, 9]},\n",
       " {'UserId': 709, 'Recommendations': [3, 5, 7, 6, 9]},\n",
       " {'UserId': 710, 'Recommendations': [7, 9, 5, 25, 4]},\n",
       " {'UserId': 711, 'Recommendations': [12, 11, 14, 13, 16]},\n",
       " {'UserId': 712, 'Recommendations': [4, 3, 5, 7, 9]},\n",
       " {'UserId': 713, 'Recommendations': [4, 5, 2, 6, 8]},\n",
       " {'UserId': 714, 'Recommendations': [9, 6, 7, 11, 10]},\n",
       " {'UserId': 715, 'Recommendations': [3, 7, 6, 8, 9]},\n",
       " {'UserId': 716, 'Recommendations': [9, 7, 11, 10, 5]},\n",
       " {'UserId': 717, 'Recommendations': [5, 6, 3, 9, 2]},\n",
       " {'UserId': 718, 'Recommendations': [2, 25, 11, 10, 15]},\n",
       " {'UserId': 719, 'Recommendations': [10, 11, 12, 9, 14]},\n",
       " {'UserId': 720, 'Recommendations': [4, 7, 6, 2, 9]},\n",
       " {'UserId': 721, 'Recommendations': [10, 12, 25, 11, 13]},\n",
       " {'UserId': 722, 'Recommendations': [9, 25, 11, 10, 12]},\n",
       " {'UserId': 723, 'Recommendations': [12, 14, 13, 11, 15]},\n",
       " {'UserId': 724, 'Recommendations': [9, 6, 7, 25, 11]},\n",
       " {'UserId': 725, 'Recommendations': [2, 4, 7, 6, 8]},\n",
       " {'UserId': 726, 'Recommendations': [5, 7, 3, 8, 2]},\n",
       " {'UserId': 727, 'Recommendations': [3, 7, 6, 8, 9]},\n",
       " {'UserId': 728, 'Recommendations': [3, 4, 5, 7, 6]},\n",
       " {'UserId': 729, 'Recommendations': [6, 8, 5, 4, 9]},\n",
       " {'UserId': 730, 'Recommendations': [12, 25, 14, 13, 9]},\n",
       " {'UserId': 731, 'Recommendations': [3, 5, 7, 6, 8]},\n",
       " {'UserId': 732, 'Recommendations': [7, 6, 5, 4, 11]},\n",
       " {'UserId': 733, 'Recommendations': [4, 5, 3, 7, 9]},\n",
       " {'UserId': 734, 'Recommendations': [11, 12, 14, 13, 9]},\n",
       " {'UserId': 735, 'Recommendations': [17, 15, 13, 14, 20]},\n",
       " {'UserId': 736, 'Recommendations': [4, 9, 3, 25, 11]},\n",
       " {'UserId': 737, 'Recommendations': [9, 6, 7, 11, 10]},\n",
       " {'UserId': 738, 'Recommendations': [5, 2, 7, 6, 8]},\n",
       " {'UserId': 739, 'Recommendations': [7, 5, 9, 3, 11]},\n",
       " {'UserId': 740, 'Recommendations': [5, 7, 2, 6, 8]},\n",
       " {'UserId': 741, 'Recommendations': [11, 12, 13, 9, 18]},\n",
       " {'UserId': 742, 'Recommendations': [9, 25, 11, 12, 14]},\n",
       " {'UserId': 743, 'Recommendations': [11, 25, 14, 13, 16]},\n",
       " {'UserId': 744, 'Recommendations': [10, 25, 14, 9, 13]},\n",
       " {'UserId': 745, 'Recommendations': [30, 36, 32, 33, 31]},\n",
       " {'UserId': 746, 'Recommendations': [3, 4, 5, 7, 6]},\n",
       " {'UserId': 747, 'Recommendations': [7, 10, 12, 5, 14]},\n",
       " {'UserId': 748, 'Recommendations': [7, 9, 25, 11, 12]},\n",
       " {'UserId': 749, 'Recommendations': [5, 2, 7, 6, 8]},\n",
       " {'UserId': 750, 'Recommendations': [8, 7, 9, 25, 11]},\n",
       " {'UserId': 751, 'Recommendations': [11, 13, 9, 17, 6]},\n",
       " {'UserId': 752, 'Recommendations': [5, 7, 6, 3, 9]},\n",
       " {'UserId': 753, 'Recommendations': [7, 9, 5, 4, 25]},\n",
       " {'UserId': 754, 'Recommendations': [3, 4, 5, 7, 6]},\n",
       " {'UserId': 755, 'Recommendations': [13, 14, 15, 10, 11]},\n",
       " {'UserId': 756, 'Recommendations': [7, 6, 25, 11, 10]},\n",
       " {'UserId': 757, 'Recommendations': [4, 3, 7, 9, 25]},\n",
       " {'UserId': 758, 'Recommendations': [9, 6, 25, 11, 7]},\n",
       " {'UserId': 759, 'Recommendations': [11, 10, 12, 9, 14]},\n",
       " {'UserId': 760, 'Recommendations': [11, 25, 9, 18, 20]},\n",
       " {'UserId': 761, 'Recommendations': [9, 25, 6, 11, 7]},\n",
       " {'UserId': 762, 'Recommendations': [5, 6, 9, 25, 11]},\n",
       " {'UserId': 763, 'Recommendations': [3, 4, 5, 7, 6]},\n",
       " {'UserId': 764, 'Recommendations': [7, 8, 9, 11, 1]},\n",
       " {'UserId': 765, 'Recommendations': [3, 4, 5, 8, 9]},\n",
       " {'UserId': 766, 'Recommendations': [29, 27, 31, 33, 26]},\n",
       " {'UserId': 767, 'Recommendations': [3, 5, 7, 6, 9]},\n",
       " {'UserId': 768, 'Recommendations': [3, 4, 7, 6, 8]},\n",
       " {'UserId': 769, 'Recommendations': [17, 18, 15, 13, 19]},\n",
       " {'UserId': 770, 'Recommendations': [8, 3, 9, 2, 25]},\n",
       " {'UserId': 771, 'Recommendations': [5, 7, 4, 6, 3]},\n",
       " {'UserId': 772, 'Recommendations': [9, 25, 6, 11, 10]},\n",
       " {'UserId': 773, 'Recommendations': [7, 6, 5, 9, 3]},\n",
       " {'UserId': 774, 'Recommendations': [3, 5, 7, 6, 9]},\n",
       " {'UserId': 775, 'Recommendations': [3, 4, 5, 7, 6]},\n",
       " {'UserId': 776, 'Recommendations': [5, 3, 7, 6, 9]},\n",
       " {'UserId': 777, 'Recommendations': [9, 1, 15, 17, 18]},\n",
       " {'UserId': 778, 'Recommendations': [9, 25, 10, 12, 7]},\n",
       " {'UserId': 779, 'Recommendations': [9, 8, 6, 11, 10]},\n",
       " {'UserId': 780, 'Recommendations': [15, 13, 17, 14, 18]},\n",
       " {'UserId': 781, 'Recommendations': [7, 5, 3, 25, 11]},\n",
       " {'UserId': 782, 'Recommendations': [30, 33, 31, 24, 23]},\n",
       " {'UserId': 783, 'Recommendations': [9, 11, 10, 12, 7]},\n",
       " {'UserId': 784, 'Recommendations': [9, 11, 5, 10, 4]},\n",
       " {'UserId': 785, 'Recommendations': [20, 18, 17, 15, 13]},\n",
       " {'UserId': 786, 'Recommendations': [9, 25, 11, 6, 12]},\n",
       " {'UserId': 787, 'Recommendations': [4, 5, 7, 6, 9]},\n",
       " {'UserId': 788, 'Recommendations': [9, 6, 7, 14, 13]},\n",
       " {'UserId': 789, 'Recommendations': [4, 5, 3, 7, 9]},\n",
       " {'UserId': 790, 'Recommendations': [3, 5, 7, 8, 9]},\n",
       " {'UserId': 791, 'Recommendations': [12, 10, 11, 14, 13]},\n",
       " {'UserId': 792, 'Recommendations': [9, 25, 11, 10, 6]},\n",
       " {'UserId': 793, 'Recommendations': [11, 25, 12, 13, 9]},\n",
       " {'UserId': 794, 'Recommendations': [10, 25, 11, 13, 9]},\n",
       " {'UserId': 795, 'Recommendations': [3, 4, 5, 7, 9]},\n",
       " {'UserId': 796, 'Recommendations': [11, 10, 13, 7, 20]},\n",
       " {'UserId': 797, 'Recommendations': [4, 5, 7, 6, 9]},\n",
       " {'UserId': 798, 'Recommendations': [5, 6, 9, 2, 25]},\n",
       " {'UserId': 799, 'Recommendations': [3, 7, 9, 1, 25]},\n",
       " {'UserId': 800, 'Recommendations': [9, 25, 11, 10, 6]},\n",
       " {'UserId': 801, 'Recommendations': [5, 3, 7, 6, 2]},\n",
       " {'UserId': 802, 'Recommendations': [5, 2, 9, 25, 11]},\n",
       " {'UserId': 803, 'Recommendations': [7, 6, 9, 11, 10]},\n",
       " {'UserId': 804, 'Recommendations': [7, 6, 9, 3, 11]},\n",
       " {'UserId': 805, 'Recommendations': [25, 11, 10, 12, 14]},\n",
       " {'UserId': 806, 'Recommendations': [25, 10, 11, 12, 9]},\n",
       " {'UserId': 807, 'Recommendations': [20, 18, 17, 19, 15]},\n",
       " {'UserId': 808, 'Recommendations': [5, 7, 4, 9, 2]},\n",
       " {'UserId': 809, 'Recommendations': [9, 6, 7, 25, 11]},\n",
       " {'UserId': 810, 'Recommendations': [9, 5, 4, 25, 11]},\n",
       " {'UserId': 811, 'Recommendations': [9, 6, 25, 7, 11]},\n",
       " {'UserId': 812, 'Recommendations': [9, 6, 7, 11, 10]},\n",
       " {'UserId': 813, 'Recommendations': [25, 11, 6, 7, 14]},\n",
       " {'UserId': 814, 'Recommendations': [9, 6, 7, 11, 10]},\n",
       " {'UserId': 815, 'Recommendations': [8, 9, 7, 11, 4]},\n",
       " {'UserId': 816, 'Recommendations': [14, 13, 12, 10, 16]},\n",
       " {'UserId': 817, 'Recommendations': [16, 13, 14, 15, 12]},\n",
       " {'UserId': 818, 'Recommendations': [3, 5, 7, 6, 9]},\n",
       " {'UserId': 819, 'Recommendations': [9, 25, 11, 6, 10]},\n",
       " {'UserId': 820, 'Recommendations': [5, 7, 6, 3, 9]},\n",
       " {'UserId': 821, 'Recommendations': [22, 20, 19, 28, 26]},\n",
       " {'UserId': 822, 'Recommendations': [12, 10, 14, 13, 11]},\n",
       " {'UserId': 823, 'Recommendations': [7, 9, 5, 25, 11]},\n",
       " {'UserId': 824, 'Recommendations': [3, 5, 2, 7, 6]},\n",
       " {'UserId': 825, 'Recommendations': [30, 33, 31, 36, 23]},\n",
       " {'UserId': 826, 'Recommendations': [5, 7, 3, 9, 2]},\n",
       " {'UserId': 828, 'Recommendations': [15, 13, 10, 25, 9]},\n",
       " {'UserId': 829, 'Recommendations': [10, 12, 11, 13, 9]},\n",
       " {'UserId': 830, 'Recommendations': [5, 3, 7, 6, 9]},\n",
       " {'UserId': 831, 'Recommendations': [13, 12, 14, 10, 15]},\n",
       " {'UserId': 832, 'Recommendations': [6, 7, 9, 11, 10]},\n",
       " {'UserId': 833, 'Recommendations': [7, 6, 8, 9, 1]},\n",
       " {'UserId': 834, 'Recommendations': [3, 5, 7, 6, 8]},\n",
       " {'UserId': 835, 'Recommendations': [7, 6, 2, 9, 25]},\n",
       " {'UserId': 836, 'Recommendations': [6, 8, 7, 5, 9]},\n",
       " {'UserId': 837, 'Recommendations': [7, 25, 11, 4, 14]},\n",
       " {'UserId': 838, 'Recommendations': [7, 9, 5, 25, 4]},\n",
       " {'UserId': 839, 'Recommendations': [3, 7, 6, 8, 9]},\n",
       " {'UserId': 840, 'Recommendations': [6, 25, 11, 12, 5]},\n",
       " {'UserId': 841, 'Recommendations': [4, 5, 3, 7, 9]},\n",
       " {'UserId': 842, 'Recommendations': [3, 4, 5, 7, 6]},\n",
       " {'UserId': 843, 'Recommendations': [8, 9, 7, 25, 11]},\n",
       " {'UserId': 844, 'Recommendations': [2, 3, 7, 6, 8]},\n",
       " {'UserId': 845, 'Recommendations': [5, 3, 7, 2, 9]},\n",
       " {'UserId': 846, 'Recommendations': [4, 5, 7, 6, 8]},\n",
       " {'UserId': 847, 'Recommendations': [11, 12, 14, 13, 9]},\n",
       " {'UserId': 848, 'Recommendations': [4, 5, 3, 7, 6]},\n",
       " {'UserId': 849, 'Recommendations': [9, 6, 7, 11, 12]},\n",
       " {'UserId': 850, 'Recommendations': [7, 3, 8, 2, 9]},\n",
       " {'UserId': 851, 'Recommendations': [3, 7, 8, 9, 25]},\n",
       " {'UserId': 852, 'Recommendations': [7, 4, 25, 11, 10]},\n",
       " {'UserId': 853, 'Recommendations': [3, 7, 8, 9, 25]},\n",
       " {'UserId': 854, 'Recommendations': [7, 9, 11, 12, 1]},\n",
       " {'UserId': 855, 'Recommendations': [9, 7, 11, 12, 5]},\n",
       " {'UserId': 856, 'Recommendations': [3, 5, 7, 8, 9]},\n",
       " {'UserId': 857, 'Recommendations': [9, 6, 7, 25, 11]},\n",
       " {'UserId': 858, 'Recommendations': [25, 6, 7, 14, 13]},\n",
       " {'UserId': 859, 'Recommendations': [5, 4, 7, 6, 9]},\n",
       " {'UserId': 860, 'Recommendations': [5, 7, 8, 9, 1]},\n",
       " {'UserId': 861, 'Recommendations': [10, 11, 12, 9, 14]},\n",
       " {'UserId': 862, 'Recommendations': [22, 21, 26, 28, 20]},\n",
       " {'UserId': 863, 'Recommendations': [3, 5, 7, 6, 8]},\n",
       " {'UserId': 864, 'Recommendations': [20, 21, 18, 19, 22]},\n",
       " {'UserId': 865, 'Recommendations': [7, 5, 6, 3, 9]},\n",
       " {'UserId': 866, 'Recommendations': [14, 13, 15, 12, 10]},\n",
       " {'UserId': 867, 'Recommendations': [4, 3, 5, 7, 6]},\n",
       " {'UserId': 868, 'Recommendations': [13, 14, 12, 10, 15]},\n",
       " {'UserId': 869, 'Recommendations': [7, 9, 4, 25, 11]},\n",
       " {'UserId': 870, 'Recommendations': [3, 4, 5, 7, 6]},\n",
       " {'UserId': 871, 'Recommendations': [5, 7, 8, 3, 9]},\n",
       " {'UserId': 872, 'Recommendations': [7, 9, 25, 11, 5]},\n",
       " {'UserId': 873, 'Recommendations': [4, 5, 3, 7, 8]},\n",
       " {'UserId': 874, 'Recommendations': [7, 6, 9, 25, 11]},\n",
       " {'UserId': 875, 'Recommendations': [9, 11, 10, 12, 6]},\n",
       " {'UserId': 876, 'Recommendations': [7, 9, 25, 5, 10]},\n",
       " {'UserId': 877, 'Recommendations': [9, 11, 6, 10, 12]},\n",
       " {'UserId': 878, 'Recommendations': [3, 4, 6, 8, 9]},\n",
       " {'UserId': 879, 'Recommendations': [5, 7, 9, 25, 1]},\n",
       " {'UserId': 880, 'Recommendations': [5, 9, 25, 11, 10]},\n",
       " {'UserId': 881, 'Recommendations': [20, 19, 21, 22, 13]},\n",
       " {'UserId': 882, 'Recommendations': [14, 13, 12, 10, 17]},\n",
       " {'UserId': 883, 'Recommendations': [4, 5, 3, 7, 6]},\n",
       " {'UserId': 884, 'Recommendations': [18, 19, 15, 22, 13]},\n",
       " {'UserId': 885, 'Recommendations': [4, 5, 7, 6, 9]},\n",
       " {'UserId': 886, 'Recommendations': [9, 6, 7, 11, 10]},\n",
       " {'UserId': 887, 'Recommendations': [3, 4, 7, 9, 25]},\n",
       " {'UserId': 888, 'Recommendations': [3, 4, 5, 7, 6]},\n",
       " {'UserId': 889, 'Recommendations': [9, 25, 11, 10, 6]},\n",
       " {'UserId': 890, 'Recommendations': [7, 6, 5, 9, 3]},\n",
       " {'UserId': 891, 'Recommendations': [3, 5, 7, 8, 9]},\n",
       " {'UserId': 892, 'Recommendations': [3, 5, 7, 6, 8]},\n",
       " {'UserId': 893, 'Recommendations': [5, 7, 6, 9, 25]},\n",
       " {'UserId': 894, 'Recommendations': [9, 11, 6, 7, 17]},\n",
       " {'UserId': 895, 'Recommendations': [5, 7, 6, 8, 1]},\n",
       " {'UserId': 896, 'Recommendations': [5, 3, 7, 8, 2]},\n",
       " {'UserId': 897, 'Recommendations': [5, 7, 6, 3, 9]},\n",
       " {'UserId': 898, 'Recommendations': [14, 13, 12, 15, 11]},\n",
       " {'UserId': 899, 'Recommendations': [5, 7, 9, 25, 11]},\n",
       " {'UserId': 900, 'Recommendations': [5, 7, 4, 9, 25]},\n",
       " {'UserId': 901, 'Recommendations': [7, 6, 5, 8, 9]},\n",
       " {'UserId': 902, 'Recommendations': [3, 4, 5, 7, 6]},\n",
       " {'UserId': 903, 'Recommendations': [5, 7, 6, 3, 2]},\n",
       " {'UserId': 904, 'Recommendations': [5, 4, 7, 3, 8]},\n",
       " {'UserId': 905, 'Recommendations': [10, 11, 14, 13, 25]},\n",
       " {'UserId': 906, 'Recommendations': [25, 12, 14, 13, 16]},\n",
       " {'UserId': 907, 'Recommendations': [5, 7, 6, 8, 9]},\n",
       " {'UserId': 908, 'Recommendations': [11, 12, 14, 13, 16]},\n",
       " {'UserId': 909, 'Recommendations': [3, 4, 5, 7, 6]},\n",
       " {'UserId': 910, 'Recommendations': [5, 3, 9, 2, 11]},\n",
       " {'UserId': 911, 'Recommendations': [13, 15, 16, 12, 17]},\n",
       " {'UserId': 912, 'Recommendations': [3, 5, 7, 6, 9]},\n",
       " {'UserId': 913, 'Recommendations': [7, 8, 9, 5, 4]},\n",
       " {'UserId': 914, 'Recommendations': [6, 7, 9, 5, 4]},\n",
       " {'UserId': 915, 'Recommendations': [17, 15, 13, 14, 18]},\n",
       " {'UserId': 916, 'Recommendations': [9, 25, 11, 14, 13]},\n",
       " {'UserId': 917, 'Recommendations': [11, 10, 9, 13, 16]},\n",
       " {'UserId': 918, 'Recommendations': [11, 25, 10, 12, 14]},\n",
       " {'UserId': 919, 'Recommendations': [7, 9, 5, 25, 11]},\n",
       " {'UserId': 920, 'Recommendations': [14, 13, 16, 15, 11]},\n",
       " {'UserId': 921, 'Recommendations': [3, 5, 7, 6, 8]},\n",
       " {'UserId': 922, 'Recommendations': [5, 7, 3, 6, 8]},\n",
       " {'UserId': 923, 'Recommendations': [6, 9, 5, 4, 25]},\n",
       " {'UserId': 924, 'Recommendations': [12, 14, 13, 11, 15]},\n",
       " {'UserId': 925, 'Recommendations': [14, 15, 16, 12, 17]},\n",
       " {'UserId': 926, 'Recommendations': [25, 9, 10, 13, 16]},\n",
       " {'UserId': 927, 'Recommendations': [3, 4, 5, 9, 1]},\n",
       " {'UserId': 928, 'Recommendations': [9, 25, 11, 10, 12]},\n",
       " {'UserId': 929, 'Recommendations': [7, 5, 6, 8, 3]},\n",
       " {'UserId': 930, 'Recommendations': [4, 7, 3, 9, 25]},\n",
       " {'UserId': 931, 'Recommendations': [7, 9, 5, 11, 4]},\n",
       " {'UserId': 932, 'Recommendations': [9, 7, 25, 11, 12]},\n",
       " {'UserId': 933, 'Recommendations': [5, 4, 3, 9, 25]},\n",
       " {'UserId': 934, 'Recommendations': [5, 7, 6, 9, 25]},\n",
       " {'UserId': 935, 'Recommendations': [9, 25, 11, 14, 13]},\n",
       " {'UserId': 936, 'Recommendations': [9, 7, 25, 11, 10]},\n",
       " {'UserId': 937, 'Recommendations': [9, 25, 11, 6, 7]},\n",
       " {'UserId': 938, 'Recommendations': [12, 13, 11, 15, 25]},\n",
       " {'UserId': 939, 'Recommendations': [11, 25, 12, 9, 13]},\n",
       " {'UserId': 940, 'Recommendations': [6, 5, 9, 25, 3]},\n",
       " {'UserId': 941, 'Recommendations': [6, 7, 9, 25, 12]},\n",
       " {'UserId': 942, 'Recommendations': [7, 5, 6, 3, 9]},\n",
       " {'UserId': 943, 'Recommendations': [5, 7, 9, 11, 10]},\n",
       " {'UserId': 944, 'Recommendations': [5, 7, 8, 3, 9]},\n",
       " {'UserId': 945, 'Recommendations': [13, 14, 16, 15, 17]},\n",
       " {'UserId': 946, 'Recommendations': [25, 11, 3, 13, 15]},\n",
       " {'UserId': 947, 'Recommendations': [5, 7, 6, 8, 9]},\n",
       " {'UserId': 948, 'Recommendations': [17, 15, 14, 20, 19]},\n",
       " {'UserId': 949, 'Recommendations': [3, 4, 5, 7, 9]},\n",
       " {'UserId': 950, 'Recommendations': [3, 4, 5, 7, 6]},\n",
       " {'UserId': 951, 'Recommendations': [5, 7, 8, 9, 1]},\n",
       " {'UserId': 952, 'Recommendations': [3, 4, 5, 7, 6]},\n",
       " {'UserId': 953, 'Recommendations': [7, 8, 9, 25, 11]},\n",
       " {'UserId': 954, 'Recommendations': [9, 25, 6, 14, 13]},\n",
       " {'UserId': 955, 'Recommendations': [7, 9, 25, 11, 15]},\n",
       " {'UserId': 956, 'Recommendations': [9, 25, 6, 10, 7]},\n",
       " {'UserId': 957, 'Recommendations': [13, 15, 17, 10, 11]},\n",
       " {'UserId': 958, 'Recommendations': [5, 7, 6, 9, 1]},\n",
       " {'UserId': 959, 'Recommendations': [25, 9, 11, 10, 12]},\n",
       " {'UserId': 960, 'Recommendations': [25, 11, 9, 13, 7]},\n",
       " {'UserId': 961, 'Recommendations': [13, 14, 15, 17, 12]},\n",
       " {'UserId': 962, 'Recommendations': [3, 4, 7, 6, 9]},\n",
       " {'UserId': 963, 'Recommendations': [15, 17, 13, 12, 19]},\n",
       " {'UserId': 964, 'Recommendations': [2, 9, 25, 11, 10]},\n",
       " {'UserId': 965, 'Recommendations': [4, 6, 3, 8, 2]},\n",
       " {'UserId': 966, 'Recommendations': [17, 15, 18, 13, 20]},\n",
       " {'UserId': 967, 'Recommendations': [10, 11, 12, 9, 14]},\n",
       " {'UserId': 968, 'Recommendations': [7, 6, 5, 9, 3]},\n",
       " {'UserId': 969, 'Recommendations': [3, 7, 8, 9, 25]},\n",
       " {'UserId': 970, 'Recommendations': [7, 5, 8, 3, 9]},\n",
       " {'UserId': 971, 'Recommendations': [3, 7, 6, 2, 9]},\n",
       " {'UserId': 972, 'Recommendations': [9, 6, 7, 11, 10]},\n",
       " {'UserId': 973, 'Recommendations': [5, 2, 7, 6, 8]},\n",
       " {'UserId': 974, 'Recommendations': [9, 11, 10, 12, 6]},\n",
       " {'UserId': 975, 'Recommendations': [3, 4, 5, 7, 6]},\n",
       " {'UserId': 976, 'Recommendations': [9, 6, 7, 25, 11]},\n",
       " {'UserId': 977, 'Recommendations': [8, 6, 7, 9, 25]},\n",
       " {'UserId': 978, 'Recommendations': [13, 15, 14, 17, 12]},\n",
       " {'UserId': 979, 'Recommendations': [9, 6, 7, 25, 11]},\n",
       " {'UserId': 980, 'Recommendations': [7, 9, 11, 12, 13]},\n",
       " {'UserId': 981, 'Recommendations': [8, 7, 9, 5, 25]},\n",
       " {'UserId': 982, 'Recommendations': [3, 4, 5, 7, 6]},\n",
       " {'UserId': 983, 'Recommendations': [7, 9, 5, 4, 25]},\n",
       " {'UserId': 984, 'Recommendations': [3, 5, 7, 9, 25]},\n",
       " {'UserId': 985, 'Recommendations': [8, 9, 7, 11, 10]},\n",
       " {'UserId': 986, 'Recommendations': [7, 8, 9, 5, 4]},\n",
       " {'UserId': 987, 'Recommendations': [4, 5, 9, 25, 11]},\n",
       " {'UserId': 988, 'Recommendations': [18, 20, 21, 17, 15]},\n",
       " {'UserId': 989, 'Recommendations': [13, 17, 12, 10, 20]},\n",
       " {'UserId': 990, 'Recommendations': [9, 6, 7, 25, 11]},\n",
       " {'UserId': 991, 'Recommendations': [14, 15, 12, 17, 10]},\n",
       " {'UserId': 992, 'Recommendations': [9, 25, 11, 12, 6]},\n",
       " {'UserId': 993, 'Recommendations': [3, 4, 5, 7, 6]},\n",
       " {'UserId': 994, 'Recommendations': [6, 7, 9, 4, 25]},\n",
       " {'UserId': 995, 'Recommendations': [9, 12, 14, 4, 15]},\n",
       " {'UserId': 996, 'Recommendations': [9, 6, 7, 11, 10]},\n",
       " {'UserId': 997, 'Recommendations': [7, 5, 9, 3, 11]},\n",
       " {'UserId': 998, 'Recommendations': [36, 32, 30, 33, 27]},\n",
       " {'UserId': 999, 'Recommendations': [13, 14, 15, 12, 10]},\n",
       " {'UserId': 1000, 'Recommendations': [25, 11, 9, 10, 12]},\n",
       " {'UserId': 1001, 'Recommendations': [5, 3, 6, 25, 11]},\n",
       " {'UserId': 1002, 'Recommendations': [5, 4, 6, 9, 11]},\n",
       " {'UserId': 1003, 'Recommendations': [6, 8, 5, 4, 11]},\n",
       " {'UserId': 1004, 'Recommendations': [3, 5, 7, 6, 8]},\n",
       " ...]"
      ]
     },
     "execution_count": 59,
     "metadata": {},
     "output_type": "execute_result"
    }
   ],
   "source": [
    "recommendations_for_users"
   ]
  },
  {
   "cell_type": "code",
   "execution_count": 90,
   "id": "35b6bede-3c68-4394-9550-dae525a35ccb",
   "metadata": {},
   "outputs": [
    {
     "name": "stdout",
     "output_type": "stream",
     "text": [
      "+------+--------------------+-------------------------------------------------------+\n",
      "|userId|Cluster_result      |rating                                                 |\n",
      "+------+--------------------+-------------------------------------------------------+\n",
      "|1     |[38, 37, 35, 36, 34]|[3.0354345, 3.026924, 3.023729, 3.02069, 3.0198197]    |\n",
      "|6     |[38, 37, 36, 35, 33]|[1.0216187, 1.0194496, 1.0192949, 1.0191927, 1.0183234]|\n",
      "|12    |[38, 36, 37, 33, 35]|[2.024205, 2.0212004, 2.020596, 2.0203755, 2.0203145]  |\n",
      "|13    |[38, 36, 33, 37, 35]|[1.0187738, 1.017325, 1.0169692, 1.0169305, 1.0168515] |\n",
      "|16    |[38, 37, 35, 36, 34]|[1.02128, 1.0183824, 1.0172148, 1.0160935, 1.0160298]  |\n",
      "|22    |[38, 36, 33, 37, 35]|[1.0218852, 1.020424, 1.0200554, 1.0199949, 1.0199525] |\n",
      "|26    |[38, 37, 36, 35, 33]|[1.0170398, 1.0148207, 1.0145209, 1.0145079, 1.0133983]|\n",
      "|27    |[38, 36, 33, 37, 35]|[1.0196977, 1.0185685, 1.0184395, 1.0179611, 1.0179579]|\n",
      "|28    |[38, 37, 36, 35, 33]|[1.0183209, 1.0162293, 1.0161551, 1.0159893, 1.0152707]|\n",
      "|31    |[38, 37, 35, 34, 36]|[2.0256417, 2.0194957, 2.0166898, 2.014421, 2.0138183] |\n",
      "+------+--------------------+-------------------------------------------------------+\n",
      "only showing top 10 rows\n",
      "\n"
     ]
    }
   ],
   "source": [
    "userRecommends.select([\"userId\",\"recommendations.Cluster_result\",\"recommendations.rating\"]).show(10,truncate=False)"
   ]
  },
  {
   "cell_type": "code",
   "execution_count": 60,
   "id": "c18fbd4d-e921-46b5-9aeb-431659a4d3fd",
   "metadata": {},
   "outputs": [],
   "source": [
    "actual = [listo for listo in actual_loans_taken_dict.values()]"
   ]
  },
  {
   "cell_type": "code",
   "execution_count": 61,
   "id": "2b488d0d-bb53-4e89-9b5e-ec73b5581f30",
   "metadata": {},
   "outputs": [],
   "source": [
    "predicted = [listo['Recommendation'] for listo in top_n_recommendations]"
   ]
  },
  {
   "cell_type": "code",
   "execution_count": 62,
   "id": "27a4c8a0-2e1e-42ce-a8a6-26d968029238",
   "metadata": {},
   "outputs": [],
   "source": [
    "def average_precision_at_k(actual, predicted, k):\n",
    "    # Initialize variables\n",
    "    num_hits = 0\n",
    "    precision_at_k = 0.0\n",
    "\n",
    "    # Iterate over the predicted list up to k\n",
    "    for i, p in enumerate(predicted[:k]):\n",
    "        # Check if the predicted item at position i is in the actual list\n",
    "        if p in actual:\n",
    "            num_hits += 1\n",
    "            # Calculate precision at position i\n",
    "            precision_at_k += num_hits / (i + 1)\n",
    "\n",
    "    # Calculate average precision at k\n",
    "    if not actual:\n",
    "        return 0.0\n",
    "    else:\n",
    "        return precision_at_k / min(len(actual), k)\n",
    "\n",
    "def map_at_k(actual, predicted, k):\n",
    "    # Calculate average precision at k for each query or user\n",
    "    average_precisions = [average_precision_at_k(a, p, k) for a, p in zip(actual, predicted)]\n",
    "    \n",
    "    # Return the mean of average precision at k values\n",
    "    return sum(average_precisions) / len(average_precisions)"
   ]
  },
  {
   "cell_type": "code",
   "execution_count": 63,
   "id": "3ef73b1f-3a48-4199-9e96-0e9baa294c8b",
   "metadata": {},
   "outputs": [
    {
     "name": "stdout",
     "output_type": "stream",
     "text": [
      "MAP@5: 0.1865\n"
     ]
    }
   ],
   "source": [
    "\n",
    "k = 5\n",
    "map_at_5 = map_at_k(actual, predicted, k)\n",
    "print(\"MAP@{}: {:.4f}\".format(k, map_at_5))"
   ]
  },
  {
   "cell_type": "code",
   "execution_count": null,
   "id": "d4e2ce6d-25b7-4cfc-9b70-77b743902200",
   "metadata": {},
   "outputs": [],
   "source": []
  },
  {
   "cell_type": "code",
   "execution_count": 64,
   "id": "a57a1ecb-d2e1-4a5c-a3a7-252abff9658c",
   "metadata": {},
   "outputs": [],
   "source": [
    "userRecomd = userRecommends.select(\"recommendations.Cluster_result\").collect() #.show(10,truncate=False)"
   ]
  },
  {
   "cell_type": "code",
   "execution_count": 65,
   "id": "d46c9ee8-9968-4d0c-985e-1a76e4f1fbad",
   "metadata": {},
   "outputs": [],
   "source": [
    "ALsRecomd = [elemt.asDict()['Cluster_result'] for elemt in userRecomd]"
   ]
  },
  {
   "cell_type": "code",
   "execution_count": 66,
   "id": "c7382062-b088-4fb3-b76c-c17b8381da5a",
   "metadata": {},
   "outputs": [
    {
     "name": "stdout",
     "output_type": "stream",
     "text": [
      "MAP@5: 0.0091\n"
     ]
    }
   ],
   "source": [
    "\n",
    "k = 5\n",
    "map_at_5 = map_at_k(actual, ALsRecomd, k)\n",
    "print(\"MAP@{}: {:.4f}\".format(k, map_at_5))"
   ]
  },
  {
   "cell_type": "code",
   "execution_count": null,
   "id": "e7cdbb10-4a42-42b5-9455-a2123c0f8eff",
   "metadata": {},
   "outputs": [],
   "source": []
  },
  {
   "cell_type": "code",
   "execution_count": null,
   "id": "c6e81957-5424-4d26-b705-46f7168ff355",
   "metadata": {},
   "outputs": [],
   "source": []
  },
  {
   "cell_type": "code",
   "execution_count": null,
   "id": "628f205b-3613-4abb-9310-bd45e1e03357",
   "metadata": {},
   "outputs": [],
   "source": []
  },
  {
   "cell_type": "markdown",
   "id": "f37aa796-bc53-4cfd-a06f-7d7cf4c50d5c",
   "metadata": {
    "id": "f37aa796-bc53-4cfd-a06f-7d7cf4c50d5c"
   },
   "source": [
    "##  Calculate centered cosine similarity:"
   ]
  },
  {
   "cell_type": "code",
   "execution_count": 67,
   "id": "276d4b2a-9d94-40cb-a7f1-2aeb64938ffc",
   "metadata": {
    "id": "276d4b2a-9d94-40cb-a7f1-2aeb64938ffc"
   },
   "outputs": [],
   "source": [
    "def centered_cosine_similarity(u, v):\n",
    "    \"\"\" Calculate centered cosine similarity between two vectors u and v. \"\"\"\n",
    "    # Calculate mean of u and v\n",
    "    mean_u = sum(u) / len(u)\n",
    "    mean_v = sum(v) / len(v)\n",
    "\n",
    "    # Subtract mean from u and v\n",
    "    centered_u = Vectors.dense([x - mean_u for x in u])\n",
    "    centered_v = Vectors.dense([x - mean_v for x in v])\n",
    "\n",
    "    # Calculate centered cosine similarity\n",
    "    dot_product = float(centered_u.dot(centered_v))\n",
    "    norm_u = float(centered_u.norm(2))\n",
    "    norm_v = float(centered_v.norm(2))\n",
    "\n",
    "    centered_sim = dot_product / (norm_u * norm_v)\n",
    "    return centered_sim\n"
   ]
  },
  {
   "cell_type": "markdown",
   "id": "19afff63-8654-410f-b0e1-3579c0dbaf90",
   "metadata": {
    "id": "19afff63-8654-410f-b0e1-3579c0dbaf90"
   },
   "source": [
    "### User-User Centerd Cosine Similarity code"
   ]
  },
  {
   "cell_type": "code",
   "execution_count": 68,
   "id": "a32fbefc-c5b8-4cd0-be5e-8caf9a7a43c5",
   "metadata": {
    "colab": {
     "base_uri": "https://localhost:8080/"
    },
    "id": "a32fbefc-c5b8-4cd0-be5e-8caf9a7a43c5",
    "outputId": "641b5329-1f9f-482e-ec3e-ee687aca0934"
   },
   "outputs": [
    {
     "name": "stdout",
     "output_type": "stream",
     "text": [
      "Centered Cosine similarity between users 10 and 20: 0.9958091259308894\n"
     ]
    }
   ],
   "source": [
    "# Example usage\n",
    "user1_id = 10\n",
    "user2_id = 20\n",
    "user1_factors = userFactors.filter(userFactors.id == user1_id ).collect()[0][1]\n",
    "user2_factors = userFactors.filter(userFactors.id == user2_id ).collect()[0][1]\n",
    "similarity = centered_cosine_similarity(user1_factors, user2_factors)\n",
    "print(f\"Centered Cosine similarity between users {user1_id} and {user2_id}: {similarity}\")\n"
   ]
  },
  {
   "cell_type": "markdown",
   "id": "af032ead-97f1-49fb-b084-2e49794a33d6",
   "metadata": {
    "id": "af032ead-97f1-49fb-b084-2e49794a33d6"
   },
   "source": [
    "### User-Item Centerd Cosine Similarity code"
   ]
  },
  {
   "cell_type": "code",
   "execution_count": 69,
   "id": "44d9be35-49c5-4127-9c43-75fb2c98cbe7",
   "metadata": {
    "colab": {
     "base_uri": "https://localhost:8080/"
    },
    "id": "44d9be35-49c5-4127-9c43-75fb2c98cbe7",
    "outputId": "0b836551-00b9-4c11-9b1e-6c48494a5a6f"
   },
   "outputs": [
    {
     "name": "stdout",
     "output_type": "stream",
     "text": [
      "Centered Cosine similarity between users 10 and Item 1: 0.9846653141373279\n"
     ]
    }
   ],
   "source": [
    "# Example usage\n",
    "user1_id = 10\n",
    "item_id = 1\n",
    "user2_factors = userFactors.filter(userFactors.id == user1_id ).collect()[0][1]\n",
    "item3_factors = itemFactors.filter(itemFactors.id == item_id ).collect()[0][1]\n",
    "\n",
    "user_item_similarity = centered_cosine_similarity(user2_factors, item3_factors)\n",
    "print(f\"Centered Cosine similarity between users {user1_id} and Item {item_id}: {user_item_similarity}\")\n"
   ]
  },
  {
   "cell_type": "markdown",
   "id": "371d1ad2-6233-42fa-9162-faa06c8809d2",
   "metadata": {
    "id": "371d1ad2-6233-42fa-9162-faa06c8809d2"
   },
   "source": [
    "### Centered Cosine Similarity of user 10 with all Loans"
   ]
  },
  {
   "cell_type": "code",
   "execution_count": 70,
   "id": "45b22d6b-9553-4b4f-a3b5-80751b15a360",
   "metadata": {
    "id": "45b22d6b-9553-4b4f-a3b5-80751b15a360"
   },
   "outputs": [],
   "source": [
    "topNLoanforuser10 = []\n",
    "for item in range(itemFactors.count()):\n",
    "    item_id = itemFactors.select(\"Id\").sort(\"Id\").take(itemFactors.count())[item][0]\n",
    "    user1_id = 10\n",
    "    user_factors = userFactors.filter(userFactors.id == user1_id ).collect()[0][1]\n",
    "    item_factors = itemFactors.filter(itemFactors.id == item_id ).collect()[0][1]\n",
    "\n",
    "\n",
    "    user_item_similarity = centered_cosine_similarity(user_factors, item_factors)\n",
    "    topNLoanforuser10.append({\"userID\":user1_id,\"LoanId\":item_id,\"CenteredSimilarity\":user_item_similarity})"
   ]
  },
  {
   "cell_type": "code",
   "execution_count": null,
   "id": "e34d3003-bf4b-464c-8da7-b34a75136698",
   "metadata": {
    "id": "e34d3003-bf4b-464c-8da7-b34a75136698"
   },
   "outputs": [],
   "source": []
  },
  {
   "cell_type": "code",
   "execution_count": 71,
   "id": "43fcd076-13d2-4667-b7ad-ffd8dc9ae04d",
   "metadata": {
    "colab": {
     "base_uri": "https://localhost:8080/"
    },
    "id": "43fcd076-13d2-4667-b7ad-ffd8dc9ae04d",
    "outputId": "ce4150cd-d676-47a9-eab9-144a306f6190"
   },
   "outputs": [
    {
     "data": {
      "text/plain": [
       "[{'userID': 10, 'LoanId': 3, 'CenteredSimilarity': 0.9999751517477451},\n",
       " {'userID': 10, 'LoanId': 4, 'CenteredSimilarity': 0.9996252399081585},\n",
       " {'userID': 10, 'LoanId': 5, 'CenteredSimilarity': 0.9993524436452954},\n",
       " {'userID': 10, 'LoanId': 2, 'CenteredSimilarity': 0.9993435123150312},\n",
       " {'userID': 10, 'LoanId': 7, 'CenteredSimilarity': 0.9968689838562832},\n",
       " {'userID': 10, 'LoanId': 6, 'CenteredSimilarity': 0.9961854650889006},\n",
       " {'userID': 10, 'LoanId': 8, 'CenteredSimilarity': 0.9958091262067013},\n",
       " {'userID': 10, 'LoanId': 9, 'CenteredSimilarity': 0.9921921103738105},\n",
       " {'userID': 10, 'LoanId': 25, 'CenteredSimilarity': 0.9883251622950934},\n",
       " {'userID': 10, 'LoanId': 11, 'CenteredSimilarity': 0.9872106949357707},\n",
       " {'userID': 10, 'LoanId': 10, 'CenteredSimilarity': 0.9860440617410834},\n",
       " {'userID': 10, 'LoanId': 12, 'CenteredSimilarity': 0.9850307062957183},\n",
       " {'userID': 10, 'LoanId': 1, 'CenteredSimilarity': 0.9846653141373279},\n",
       " {'userID': 10, 'LoanId': 14, 'CenteredSimilarity': 0.981785449369162},\n",
       " {'userID': 10, 'LoanId': 13, 'CenteredSimilarity': 0.9817486250975127},\n",
       " {'userID': 10, 'LoanId': 16, 'CenteredSimilarity': 0.9804982641545484},\n",
       " {'userID': 10, 'LoanId': 15, 'CenteredSimilarity': 0.9796448028997394},\n",
       " {'userID': 10, 'LoanId': 17, 'CenteredSimilarity': 0.977077954579145},\n",
       " {'userID': 10, 'LoanId': 18, 'CenteredSimilarity': 0.9729256410405002},\n",
       " {'userID': 10, 'LoanId': 20, 'CenteredSimilarity': 0.9726260460202927},\n",
       " {'userID': 10, 'LoanId': 19, 'CenteredSimilarity': 0.9692600526908777},\n",
       " {'userID': 10, 'LoanId': 21, 'CenteredSimilarity': 0.9631191535674976},\n",
       " {'userID': 10, 'LoanId': 22, 'CenteredSimilarity': 0.9587758486494766},\n",
       " {'userID': 10, 'LoanId': 28, 'CenteredSimilarity': 0.9494055211793287},\n",
       " {'userID': 10, 'LoanId': 26, 'CenteredSimilarity': 0.9488803847996157},\n",
       " {'userID': 10, 'LoanId': 29, 'CenteredSimilarity': 0.9425383949676939},\n",
       " {'userID': 10, 'LoanId': 23, 'CenteredSimilarity': 0.9424014815755941},\n",
       " {'userID': 10, 'LoanId': 31, 'CenteredSimilarity': 0.9389234349974206},\n",
       " {'userID': 10, 'LoanId': 33, 'CenteredSimilarity': 0.9379017606460857},\n",
       " {'userID': 10, 'LoanId': 27, 'CenteredSimilarity': 0.9365658273070815},\n",
       " {'userID': 10, 'LoanId': 30, 'CenteredSimilarity': 0.9298412889891267},\n",
       " {'userID': 10, 'LoanId': 24, 'CenteredSimilarity': 0.9223730896878614},\n",
       " {'userID': 10, 'LoanId': 36, 'CenteredSimilarity': 0.9167024415853037},\n",
       " {'userID': 10, 'LoanId': 32, 'CenteredSimilarity': 0.9134915043581621},\n",
       " {'userID': 10, 'LoanId': 35, 'CenteredSimilarity': 0.9028532010178227},\n",
       " {'userID': 10, 'LoanId': 34, 'CenteredSimilarity': 0.8950783567139174},\n",
       " {'userID': 10, 'LoanId': 37, 'CenteredSimilarity': 0.8905033474737468},\n",
       " {'userID': 10, 'LoanId': 38, 'CenteredSimilarity': 0.8825736654083336}]"
      ]
     },
     "execution_count": 71,
     "metadata": {},
     "output_type": "execute_result"
    }
   ],
   "source": [
    "sorted_list = sorted(topNLoanforuser10, key=operator.itemgetter('CenteredSimilarity'),reverse=True)\n",
    "sorted_list"
   ]
  },
  {
   "cell_type": "code",
   "execution_count": 72,
   "id": "4208959e-85a9-4a9c-a0cb-be5b661f121a",
   "metadata": {
    "colab": {
     "base_uri": "https://localhost:8080/"
    },
    "id": "4208959e-85a9-4a9c-a0cb-be5b661f121a",
    "outputId": "24d6b2a5-11ae-4519-b003-483a5753b1b6"
   },
   "outputs": [
    {
     "data": {
      "text/plain": [
       "[{'userID': 10, 'LoanId': 1, 'CenteredSimilarity': 0.9846653141373279},\n",
       " {'userID': 10, 'LoanId': 2, 'CenteredSimilarity': 0.9993435123150312},\n",
       " {'userID': 10, 'LoanId': 3, 'CenteredSimilarity': 0.9999751517477451},\n",
       " {'userID': 10, 'LoanId': 4, 'CenteredSimilarity': 0.9996252399081585},\n",
       " {'userID': 10, 'LoanId': 5, 'CenteredSimilarity': 0.9993524436452954},\n",
       " {'userID': 10, 'LoanId': 6, 'CenteredSimilarity': 0.9961854650889006},\n",
       " {'userID': 10, 'LoanId': 7, 'CenteredSimilarity': 0.9968689838562832},\n",
       " {'userID': 10, 'LoanId': 8, 'CenteredSimilarity': 0.9958091262067013},\n",
       " {'userID': 10, 'LoanId': 9, 'CenteredSimilarity': 0.9921921103738105},\n",
       " {'userID': 10, 'LoanId': 10, 'CenteredSimilarity': 0.9860440617410834},\n",
       " {'userID': 10, 'LoanId': 11, 'CenteredSimilarity': 0.9872106949357707},\n",
       " {'userID': 10, 'LoanId': 12, 'CenteredSimilarity': 0.9850307062957183},\n",
       " {'userID': 10, 'LoanId': 13, 'CenteredSimilarity': 0.9817486250975127},\n",
       " {'userID': 10, 'LoanId': 14, 'CenteredSimilarity': 0.981785449369162},\n",
       " {'userID': 10, 'LoanId': 15, 'CenteredSimilarity': 0.9796448028997394},\n",
       " {'userID': 10, 'LoanId': 16, 'CenteredSimilarity': 0.9804982641545484},\n",
       " {'userID': 10, 'LoanId': 17, 'CenteredSimilarity': 0.977077954579145},\n",
       " {'userID': 10, 'LoanId': 18, 'CenteredSimilarity': 0.9729256410405002},\n",
       " {'userID': 10, 'LoanId': 19, 'CenteredSimilarity': 0.9692600526908777},\n",
       " {'userID': 10, 'LoanId': 20, 'CenteredSimilarity': 0.9726260460202927},\n",
       " {'userID': 10, 'LoanId': 21, 'CenteredSimilarity': 0.9631191535674976},\n",
       " {'userID': 10, 'LoanId': 22, 'CenteredSimilarity': 0.9587758486494766},\n",
       " {'userID': 10, 'LoanId': 23, 'CenteredSimilarity': 0.9424014815755941},\n",
       " {'userID': 10, 'LoanId': 24, 'CenteredSimilarity': 0.9223730896878614},\n",
       " {'userID': 10, 'LoanId': 25, 'CenteredSimilarity': 0.9883251622950934},\n",
       " {'userID': 10, 'LoanId': 26, 'CenteredSimilarity': 0.9488803847996157},\n",
       " {'userID': 10, 'LoanId': 27, 'CenteredSimilarity': 0.9365658273070815},\n",
       " {'userID': 10, 'LoanId': 28, 'CenteredSimilarity': 0.9494055211793287},\n",
       " {'userID': 10, 'LoanId': 29, 'CenteredSimilarity': 0.9425383949676939},\n",
       " {'userID': 10, 'LoanId': 30, 'CenteredSimilarity': 0.9298412889891267},\n",
       " {'userID': 10, 'LoanId': 31, 'CenteredSimilarity': 0.9389234349974206},\n",
       " {'userID': 10, 'LoanId': 32, 'CenteredSimilarity': 0.9134915043581621},\n",
       " {'userID': 10, 'LoanId': 33, 'CenteredSimilarity': 0.9379017606460857},\n",
       " {'userID': 10, 'LoanId': 34, 'CenteredSimilarity': 0.8950783567139174},\n",
       " {'userID': 10, 'LoanId': 35, 'CenteredSimilarity': 0.9028532010178227},\n",
       " {'userID': 10, 'LoanId': 36, 'CenteredSimilarity': 0.9167024415853037},\n",
       " {'userID': 10, 'LoanId': 37, 'CenteredSimilarity': 0.8905033474737468},\n",
       " {'userID': 10, 'LoanId': 38, 'CenteredSimilarity': 0.8825736654083336}]"
      ]
     },
     "execution_count": 72,
     "metadata": {},
     "output_type": "execute_result"
    }
   ],
   "source": [
    "sorted(topNLoanforuser10, key=operator.itemgetter('LoanId') )"
   ]
  },
  {
   "cell_type": "markdown",
   "id": "f81c7feb-5cde-439c-95c1-58ceba8c153f",
   "metadata": {
    "id": "bda9c1f5-25a0-42a2-acd6-073eb86e466f"
   },
   "source": [
    "## Cosine Similarity of all users with all loans"
   ]
  },
  {
   "cell_type": "code",
   "execution_count": 73,
   "id": "339cd31c-5804-4f05-a949-2de67919deff",
   "metadata": {
    "id": "339cd31c-5804-4f05-a949-2de67919deff"
   },
   "outputs": [],
   "source": [
    "# Collect all user factors into a dictionary\n",
    "user_factors_dict = userFactors.select(\"id\", \"features\").rdd.collectAsMap()\n",
    "\n",
    "# Broadcast the user factors dictionary to all workers\n",
    "broadcast_user_factors = spark.sparkContext.broadcast(user_factors_dict)\n",
    "\n",
    "# Collect all item factors into a dictionary\n",
    "item_factors_dict = itemFactors.select(\"id\", \"features\").rdd.collectAsMap()\n",
    "\n",
    "# Broadcast the item factors dictionary to all workers\n",
    "broadcast_item_factors = spark.sparkContext.broadcast(item_factors_dict)"
   ]
  },
  {
   "cell_type": "code",
   "execution_count": 74,
   "id": "682d6dff-efa2-4ce4-8626-1561af385d48",
   "metadata": {},
   "outputs": [],
   "source": [
    "def centered_cosine_similarity(u, v):\n",
    "    \"\"\" Calculate centered cosine similarity between two vectors u and v. \"\"\"\n",
    "    # Calculate mean of u and v\n",
    "    mean_u = sum(u) / len(u)\n",
    "    mean_v = sum(v) / len(v)\n",
    "\n",
    "    # Subtract mean from u and v\n",
    "    centered_u = Vectors.dense([x - mean_u for x in u])\n",
    "    centered_v = Vectors.dense([x - mean_v for x in v])\n",
    "\n",
    "    # Calculate centered cosine similarity\n",
    "    dot_product = float(centered_u.dot(centered_v))\n",
    "    norm_u = float(centered_u.norm(2))\n",
    "    norm_v = float(centered_v.norm(2))\n",
    "\n",
    "    centered_sim = dot_product / (norm_u * norm_v)\n",
    "    return centered_sim"
   ]
  },
  {
   "cell_type": "code",
   "execution_count": 75,
   "id": "3d642ef8-ec11-4194-a4f7-1184fcd3e536",
   "metadata": {
    "id": "3d642ef8-ec11-4194-a4f7-1184fcd3e536"
   },
   "outputs": [
    {
     "name": "stdout",
     "output_type": "stream",
     "text": [
      "The time taken to run code for 25000 users is : 0.006168066263198852 hours\n"
     ]
    }
   ],
   "source": [
    "# Initialize list to store recommendations\n",
    "Centered_CosineSilty_first10 = []\n",
    "starttime = time.time()\n",
    "Nusers = 25000\n",
    "\n",
    "# Iterate over users\n",
    "for userId in range(1, Nusers):\n",
    "    user_factors = broadcast_user_factors.value.get(userId)\n",
    "    if user_factors:\n",
    "        TopCosineLoanforuser10 = []\n",
    "        # Iterate over items\n",
    "        for item_id, item_factors in broadcast_item_factors.value.items():\n",
    "            user_item_similarity = centered_cosine_similarity(user_factors, item_factors)\n",
    "            TopCosineLoanforuser10.append({item_id: user_item_similarity})\n",
    "\n",
    "        # Sort recommendations based on similarity\n",
    "        Recomnd_loans = sorted(TopCosineLoanforuser10, key=lambda x: list(x.values())[0], reverse=True)\n",
    "        Centered_CosineSilty_first10.append({\"UserId\": userId, \"Recommendation\": Recomnd_loans})\n",
    "\n",
    "endtime = time.time()\n",
    "runtime_hours = (endtime - starttime) / 3600\n",
    "print(f\"The time taken to run code for {Nusers} users is : {runtime_hours} hours\")"
   ]
  },
  {
   "cell_type": "code",
   "execution_count": null,
   "id": "4c06228d-a082-4a3b-9e3f-feee5a68cf8d",
   "metadata": {
    "id": "4c06228d-a082-4a3b-9e3f-feee5a68cf8d"
   },
   "outputs": [],
   "source": []
  },
  {
   "cell_type": "code",
   "execution_count": 76,
   "id": "ed0ef5dc-e915-4f8e-b865-b1746bf5f087",
   "metadata": {
    "id": "ed0ef5dc-e915-4f8e-b865-b1746bf5f087"
   },
   "outputs": [],
   "source": [
    "# Define a function to extract top-N recommendations\n",
    "def extract_top_n_recommendations(recommendations_data, n=2500):\n",
    "    top_n_recommendations = [{'userId': user_recommendation['UserId'],\n",
    "                              'Recommendation': [list(rec.keys())[0] for rec in user_recommendation['Recommendation'][:n]]}\n",
    "                             for user_recommendation in recommendations_data]\n",
    "    return top_n_recommendations\n",
    "\n",
    "# Extract top-N recommendations\n",
    "starttime = time.time()\n",
    "top_n_Centered_recommendations = extract_top_n_recommendations(Centered_CosineSilty_first10, n=5)\n",
    "endtime = time.time()\n",
    "runtime_hours = (endtime - starttime) / 3600\n"
   ]
  },
  {
   "cell_type": "code",
   "execution_count": null,
   "id": "c4547435-9941-4520-9b28-8ff839ae7ed3",
   "metadata": {
    "id": "c4547435-9941-4520-9b28-8ff839ae7ed3"
   },
   "outputs": [],
   "source": []
  },
  {
   "cell_type": "code",
   "execution_count": 77,
   "id": "d11d5c2c-3baf-4b7b-8ef9-de0f952243b8",
   "metadata": {
    "id": "d11d5c2c-3baf-4b7b-8ef9-de0f952243b8"
   },
   "outputs": [],
   "source": [
    "# Function to recommend top N loans not taken by the user\n",
    "def recommend_loans_not_taken(user_id, recommendations, actual_loans_taken, top_n):\n",
    "    taken_loans = set(actual_loans_taken.get(user_id, []))\n",
    "    recommended_loans = []\n",
    "    for rec in recommendations:\n",
    "        loan_id = list(rec.keys())[0]\n",
    "        if loan_id not in taken_loans:\n",
    "            recommended_loans.append(loan_id)\n",
    "            if len(recommended_loans) == top_n:\n",
    "                break\n",
    "    return recommended_loans\n",
    "\n",
    "# Define a dictionary to store actual loans taken by each user\n",
    "actual_loans_taken_dict = {record['userId']: record['loans'] for record in Actual_loans_taken}\n",
    "\n",
    "# Create a list to store recommendations for each user\n",
    "recommendations_for_users = []\n",
    "\n",
    "# Iterate over each user\n",
    "for rec_user in Centered_CosineSilty_first10:\n",
    "    user_id = rec_user['UserId']\n",
    "    recommendations = rec_user['Recommendation']\n",
    "    # Recommend top N loans not taken by the user\n",
    "    recommended_loans = recommend_loans_not_taken(user_id, recommendations, actual_loans_taken_dict, top_n=5)\n",
    "    recommendations_for_users.append({'UserId': user_id, 'Recommendations': recommended_loans})\n",
    "\n"
   ]
  },
  {
   "cell_type": "code",
   "execution_count": null,
   "id": "7c6af000-b911-435a-8696-9633218b5770",
   "metadata": {
    "id": "7c6af000-b911-435a-8696-9633218b5770"
   },
   "outputs": [],
   "source": []
  },
  {
   "cell_type": "code",
   "execution_count": 78,
   "id": "c68c5e5d-e5ac-4508-a423-3e330cb8f111",
   "metadata": {
    "id": "c68c5e5d-e5ac-4508-a423-3e330cb8f111"
   },
   "outputs": [],
   "source": [
    "def average_precision_at_k(actual, predicted, k):\n",
    "    # Initialize variables\n",
    "    num_hits = 0\n",
    "    precision_at_k = 0.0\n",
    "\n",
    "    # Iterate over the predicted list up to k\n",
    "    for i, p in enumerate(predicted[:k]):\n",
    "        # Check if the predicted item at position i is in the actual list\n",
    "        if p in actual:\n",
    "            num_hits += 1\n",
    "            # Calculate precision at position i\n",
    "            precision_at_k += num_hits / (i + 1)\n",
    "\n",
    "    # Calculate average precision at k\n",
    "    if not actual:\n",
    "        return 0.0\n",
    "    else:\n",
    "        return precision_at_k / min(len(actual), k)\n",
    "\n",
    "def map_at_k(actual, predicted, k):\n",
    "    # Calculate average precision at k for each query or user\n",
    "    average_precisions = [average_precision_at_k(a, p, k) for a, p in zip(actual, predicted)]\n",
    "    \n",
    "    # Return the mean of average precision at k values\n",
    "    return sum(average_precisions) / len(average_precisions)"
   ]
  },
  {
   "cell_type": "code",
   "execution_count": 79,
   "id": "63416651-664b-403e-9596-9e66b2393fb0",
   "metadata": {
    "id": "63416651-664b-403e-9596-9e66b2393fb0"
   },
   "outputs": [],
   "source": [
    "actual = [listo for listo in actual_loans_taken_dict.values()]\n",
    "predicted = [listo['Recommendation'] for listo in top_n_Centered_recommendations]"
   ]
  },
  {
   "cell_type": "code",
   "execution_count": 80,
   "id": "256e7129-1d41-4c83-a8fe-35b3096769c5",
   "metadata": {
    "id": "256e7129-1d41-4c83-a8fe-35b3096769c5"
   },
   "outputs": [
    {
     "name": "stdout",
     "output_type": "stream",
     "text": [
      "MAP@5: 0.1867\n"
     ]
    }
   ],
   "source": [
    "\n",
    "k = 5\n",
    "map_at_5 = map_at_k(actual, predicted, k)\n",
    "print(\"MAP@{}: {:.4f}\".format(k, map_at_5))"
   ]
  },
  {
   "cell_type": "code",
   "execution_count": null,
   "id": "bd030929-f4a4-4c3c-92c5-3fb9927288d0",
   "metadata": {
    "id": "bd030929-f4a4-4c3c-92c5-3fb9927288d0"
   },
   "outputs": [],
   "source": []
  },
  {
   "cell_type": "code",
   "execution_count": null,
   "id": "d3357146-82d1-43df-866e-f1f793b5d5f7",
   "metadata": {
    "id": "d3357146-82d1-43df-866e-f1f793b5d5f7"
   },
   "outputs": [],
   "source": []
  },
  {
   "cell_type": "code",
   "execution_count": null,
   "id": "e91e388e-5cad-4204-ad5d-d135cdfc481a",
   "metadata": {
    "id": "e91e388e-5cad-4204-ad5d-d135cdfc481a"
   },
   "outputs": [],
   "source": []
  },
  {
   "cell_type": "code",
   "execution_count": null,
   "id": "ba3d5312-52ec-474a-9d94-2c6c7c1e50e8",
   "metadata": {
    "id": "ba3d5312-52ec-474a-9d94-2c6c7c1e50e8"
   },
   "outputs": [],
   "source": []
  },
  {
   "cell_type": "code",
   "execution_count": null,
   "id": "c944b550-9463-441a-9e25-9018e50567c5",
   "metadata": {
    "id": "c944b550-9463-441a-9e25-9018e50567c5"
   },
   "outputs": [],
   "source": []
  },
  {
   "cell_type": "code",
   "execution_count": null,
   "id": "7ec2edd5-0e51-4c5f-834e-8d55dbdc7b71",
   "metadata": {
    "id": "7ec2edd5-0e51-4c5f-834e-8d55dbdc7b71"
   },
   "outputs": [],
   "source": []
  },
  {
   "cell_type": "code",
   "execution_count": null,
   "id": "5717f72b-7997-42c5-8832-bfd3f5e40e4c",
   "metadata": {
    "id": "5717f72b-7997-42c5-8832-bfd3f5e40e4c"
   },
   "outputs": [],
   "source": []
  },
  {
   "cell_type": "code",
   "execution_count": null,
   "id": "036d5eea-a979-4bd6-ab7b-c276c3f51380",
   "metadata": {
    "id": "036d5eea-a979-4bd6-ab7b-c276c3f51380"
   },
   "outputs": [],
   "source": []
  },
  {
   "cell_type": "code",
   "execution_count": null,
   "id": "5f5e4e30-3372-425d-9d1d-c71cf1f10873",
   "metadata": {
    "id": "5f5e4e30-3372-425d-9d1d-c71cf1f10873"
   },
   "outputs": [],
   "source": []
  },
  {
   "cell_type": "code",
   "execution_count": null,
   "id": "abbe1e09-23b1-460f-a365-240ded79997e",
   "metadata": {
    "id": "abbe1e09-23b1-460f-a365-240ded79997e"
   },
   "outputs": [],
   "source": []
  },
  {
   "cell_type": "code",
   "execution_count": null,
   "id": "7b1fa6c2-9d42-4d95-afbe-4f98ecaa34a6",
   "metadata": {
    "id": "7b1fa6c2-9d42-4d95-afbe-4f98ecaa34a6"
   },
   "outputs": [],
   "source": []
  },
  {
   "cell_type": "code",
   "execution_count": null,
   "id": "5d54c7f1-d510-44bb-b43f-aca4d69bf48c",
   "metadata": {
    "id": "5d54c7f1-d510-44bb-b43f-aca4d69bf48c"
   },
   "outputs": [],
   "source": []
  },
  {
   "cell_type": "code",
   "execution_count": null,
   "id": "28f4c194-45a6-454a-a425-04b70cce6b4b",
   "metadata": {
    "id": "28f4c194-45a6-454a-a425-04b70cce6b4b"
   },
   "outputs": [],
   "source": []
  },
  {
   "cell_type": "code",
   "execution_count": null,
   "id": "6d03f14c-5673-441f-9fb5-3914644d1ae3",
   "metadata": {
    "id": "6d03f14c-5673-441f-9fb5-3914644d1ae3"
   },
   "outputs": [],
   "source": []
  },
  {
   "cell_type": "code",
   "execution_count": null,
   "id": "278c1b14-281f-4cbc-95e8-27f68fd40a4a",
   "metadata": {
    "id": "278c1b14-281f-4cbc-95e8-27f68fd40a4a"
   },
   "outputs": [],
   "source": []
  },
  {
   "cell_type": "code",
   "execution_count": null,
   "id": "e618922a-344e-4fb1-b2e2-88de635c969e",
   "metadata": {
    "id": "e618922a-344e-4fb1-b2e2-88de635c969e"
   },
   "outputs": [],
   "source": []
  },
  {
   "cell_type": "code",
   "execution_count": null,
   "id": "3421dd79-d437-4c41-bc4f-cdf05411e089",
   "metadata": {
    "id": "3421dd79-d437-4c41-bc4f-cdf05411e089"
   },
   "outputs": [],
   "source": []
  },
  {
   "cell_type": "code",
   "execution_count": null,
   "id": "e28c76af-7617-4f97-b041-e109469ad3eb",
   "metadata": {
    "id": "e28c76af-7617-4f97-b041-e109469ad3eb"
   },
   "outputs": [],
   "source": []
  },
  {
   "cell_type": "code",
   "execution_count": null,
   "id": "c829b7f0-0e63-46bb-bf15-dcec978badf9",
   "metadata": {
    "id": "c829b7f0-0e63-46bb-bf15-dcec978badf9"
   },
   "outputs": [],
   "source": []
  },
  {
   "cell_type": "code",
   "execution_count": null,
   "id": "f9ea209a-1981-46b5-9a5f-f161bc16ff73",
   "metadata": {
    "id": "f9ea209a-1981-46b5-9a5f-f161bc16ff73"
   },
   "outputs": [],
   "source": []
  },
  {
   "cell_type": "code",
   "execution_count": null,
   "id": "2c404be4-aab7-4dfd-8711-5acb10d6fb44",
   "metadata": {
    "id": "2c404be4-aab7-4dfd-8711-5acb10d6fb44"
   },
   "outputs": [],
   "source": []
  },
  {
   "cell_type": "code",
   "execution_count": null,
   "id": "52d77289-2856-4fde-bf75-270d73bdadb7",
   "metadata": {
    "id": "52d77289-2856-4fde-bf75-270d73bdadb7"
   },
   "outputs": [],
   "source": []
  },
  {
   "cell_type": "code",
   "execution_count": null,
   "id": "69ebb281-b9df-4c56-bbc5-a13c4ce7fa3d",
   "metadata": {
    "id": "69ebb281-b9df-4c56-bbc5-a13c4ce7fa3d"
   },
   "outputs": [],
   "source": []
  },
  {
   "cell_type": "code",
   "execution_count": null,
   "id": "3c8e36af-6f95-4836-9fa2-4255f0e8c996",
   "metadata": {
    "id": "3c8e36af-6f95-4836-9fa2-4255f0e8c996"
   },
   "outputs": [],
   "source": []
  },
  {
   "cell_type": "code",
   "execution_count": null,
   "id": "c5cea054-a7e3-475e-9496-625fa922e6ac",
   "metadata": {
    "id": "c5cea054-a7e3-475e-9496-625fa922e6ac"
   },
   "outputs": [],
   "source": []
  },
  {
   "cell_type": "code",
   "execution_count": null,
   "id": "9551ee09-871f-4714-aca0-f1367b427cb4",
   "metadata": {
    "id": "9551ee09-871f-4714-aca0-f1367b427cb4"
   },
   "outputs": [],
   "source": []
  },
  {
   "cell_type": "code",
   "execution_count": null,
   "id": "f29a6c09-6700-45f3-b5cf-6c571eadfe32",
   "metadata": {
    "id": "f29a6c09-6700-45f3-b5cf-6c571eadfe32"
   },
   "outputs": [],
   "source": []
  },
  {
   "cell_type": "code",
   "execution_count": null,
   "id": "fc5d0e5c-4b93-41d8-a633-400380fcccbd",
   "metadata": {
    "id": "fc5d0e5c-4b93-41d8-a633-400380fcccbd",
    "outputId": "e3d37f1a-b785-4208-cead-3227fd9d6807"
   },
   "outputs": [
    {
     "name": "stdout",
     "output_type": "stream",
     "text": [
      "root\n",
      " |-- Id: string (nullable = true)\n",
      " |-- AccountID: string (nullable = true)\n",
      " |-- Number_Of_Loans_Granted__c: integer (nullable = true)\n",
      " |-- Num_Of_Loans_Paid__c: integer (nullable = true)\n",
      " |-- Purpose_of_Loan__c: string (nullable = true)\n",
      " |-- Total_Repayments__c: integer (nullable = true)\n",
      " |-- Amount: integer (nullable = true)\n",
      " |-- Term_in_Weeks__c: double (nullable = true)\n",
      " |-- Payment_Frequency__c: string (nullable = true)\n",
      " |-- StageName: string (nullable = true)\n",
      " |-- Applicant Age: integer (nullable = true)\n",
      " |-- summary_income: double (nullable = true)\n",
      " |-- summary_income_cv: double (nullable = true)\n",
      " |-- city: string (nullable = true)\n",
      " |-- state: string (nullable = true)\n",
      " |-- Country: string (nullable = true)\n",
      " |-- userId: integer (nullable = true)\n",
      " |-- loanId: integer (nullable = true)\n",
      " |-- count: integer (nullable = true)\n",
      " |-- LoanIdFormat: integer (nullable = true)\n",
      " |-- prediction: float (nullable = false)\n",
      "\n"
     ]
    }
   ],
   "source": [
    "predictions.printSchema()"
   ]
  },
  {
   "cell_type": "code",
   "execution_count": null,
   "id": "24d2c7c3-8104-4b83-a3d8-2e4c3ece98ac",
   "metadata": {
    "id": "24d2c7c3-8104-4b83-a3d8-2e4c3ece98ac",
    "outputId": "538b3514-c480-41f5-b5aa-f2df8649d9c5"
   },
   "outputs": [
    {
     "name": "stdout",
     "output_type": "stream",
     "text": [
      "+------------+------+------+------+-------------------+-----+----------+\n",
      "|LoanIdFormat|loanId|userId|Amount|Total_Repayments__c|count|prediction|\n",
      "+------------+------+------+------+-------------------+-----+----------+\n",
      "|           1|  1859|  2366|   500|                 10|    1| 0.9933492|\n",
      "|           1| 18371|  4818|   600|                 10|    2| 1.9914738|\n",
      "|           1| 24830|  1342|   500|                 10|    1| 0.9981674|\n",
      "|           1| 39048|  1238|   500|                 10|    3|  2.984103|\n",
      "|           1| 44319| 19984|   500|                  6|    3|  2.992899|\n",
      "|           1| 44367| 16503|   300|                  6|    3| 2.9956226|\n",
      "|           1| 44446| 15846|   200|                  6|    3|  2.991486|\n",
      "|           1| 48006| 20683|   600|                 10|    1| 0.9933492|\n",
      "|           1| 49432| 18866|   500|                  6|    1| 0.9981674|\n",
      "|           1| 50698| 17420|   750|                 10|    1| 0.9965345|\n",
      "|           1| 51505| 15447|   400|                  6|    4| 3.9936872|\n",
      "+------------+------+------+------+-------------------+-----+----------+\n",
      "only showing top 11 rows\n",
      "\n"
     ]
    }
   ],
   "source": [
    "predictions.select([\"LoanIdFormat\",\"loanId\",\"userId\",\"Amount\",\"Total_Repayments__c\",\"count\",\"prediction\"]).show(11)"
   ]
  },
  {
   "cell_type": "code",
   "execution_count": null,
   "id": "1b1cb23d-bf6b-4cbe-9240-3a6c0dad2815",
   "metadata": {
    "id": "1b1cb23d-bf6b-4cbe-9240-3a6c0dad2815",
    "outputId": "1d7cd992-9691-4bf7-e430-fed37e2ac390"
   },
   "outputs": [
    {
     "name": "stdout",
     "output_type": "stream",
     "text": [
      "+-------+------------------+------------------+\n",
      "|summary|        prediction|      LoanIdFormat|\n",
      "+-------+------------------+------------------+\n",
      "|  count|            111352|            111352|\n",
      "|   mean| 1.661863417419055| 4.518930957683741|\n",
      "| stddev|0.8937703516935817|2.7881530111682316|\n",
      "|    min|               0.0|                 1|\n",
      "|    max|         7.9761477|                20|\n",
      "+-------+------------------+------------------+\n",
      "\n"
     ]
    }
   ],
   "source": [
    "predictions.select(\"prediction\",\"LoanIdFormat\").describe().show()"
   ]
  },
  {
   "cell_type": "code",
   "execution_count": null,
   "id": "6947ef5d-365a-4f71-a8f9-c865c01e05eb",
   "metadata": {
    "id": "6947ef5d-365a-4f71-a8f9-c865c01e05eb"
   },
   "outputs": [],
   "source": []
  },
  {
   "cell_type": "code",
   "execution_count": null,
   "id": "8bd852bd-f5eb-4095-8b02-f255707397bc",
   "metadata": {
    "id": "8bd852bd-f5eb-4095-8b02-f255707397bc"
   },
   "outputs": [],
   "source": []
  },
  {
   "cell_type": "code",
   "execution_count": null,
   "id": "d4fc2d3e-b55f-485c-a87d-ff790847e567",
   "metadata": {
    "id": "d4fc2d3e-b55f-485c-a87d-ff790847e567"
   },
   "outputs": [],
   "source": [
    "evaluator = RegressionEvaluator(metricName='rmse', labelCol='count', predictionCol='prediction')\n",
    "error = evaluator.evaluate(predictions)"
   ]
  },
  {
   "cell_type": "code",
   "execution_count": null,
   "id": "71839857-cdf9-4dbc-9310-f433c4b95729",
   "metadata": {
    "id": "71839857-cdf9-4dbc-9310-f433c4b95729",
    "outputId": "17c02550-0cf2-4b4b-833f-b310e8fcd559"
   },
   "outputs": [
    {
     "name": "stdout",
     "output_type": "stream",
     "text": [
      "The RMSE for the above mnodel is : 0.028842204161434074\n"
     ]
    }
   ],
   "source": [
    "print(f\"The RMSE for the above m0odel is : {error}\")  # o.463"
   ]
  },
  {
   "cell_type": "code",
   "execution_count": null,
   "id": "7e841871-6577-464c-afd2-ef42dc748376",
   "metadata": {
    "id": "7e841871-6577-464c-afd2-ef42dc748376"
   },
   "outputs": [],
   "source": []
  },
  {
   "cell_type": "code",
   "execution_count": 82,
   "id": "2f3d2b7d-9df0-40e8-9653-b67d488fd4ae",
   "metadata": {
    "id": "2f3d2b7d-9df0-40e8-9653-b67d488fd4ae"
   },
   "outputs": [],
   "source": [
    "userRecommends = final_model.recommendForAllUsers(5)\n",
    "loanRecommends = final_model.recommendForAllItems(5)"
   ]
  },
  {
   "cell_type": "code",
   "execution_count": 83,
   "id": "61490ce4-2ace-47dd-9d3b-b5b0f541a3e2",
   "metadata": {
    "id": "61490ce4-2ace-47dd-9d3b-b5b0f541a3e2",
    "outputId": "6ec8f5d8-e761-47a6-c37a-5e608713cc4d"
   },
   "outputs": [
    {
     "name": "stdout",
     "output_type": "stream",
     "text": [
      "root\n",
      " |-- Cluster_result: integer (nullable = false)\n",
      " |-- recommendations: array (nullable = true)\n",
      " |    |-- element: struct (containsNull = true)\n",
      " |    |    |-- userId: integer (nullable = true)\n",
      " |    |    |-- rating: float (nullable = true)\n",
      "\n"
     ]
    }
   ],
   "source": [
    "loanRecommends.printSchema()"
   ]
  },
  {
   "cell_type": "code",
   "execution_count": 85,
   "id": "cae2167c-8455-4c19-a013-dd44e4b9d333",
   "metadata": {
    "id": "cae2167c-8455-4c19-a013-dd44e4b9d333",
    "outputId": "f8ca8fce-abb8-45df-da8a-e4264072fd1a"
   },
   "outputs": [
    {
     "name": "stdout",
     "output_type": "stream",
     "text": [
      "+--------------+----------------------------------+-----------------------------------------------------+\n",
      "|Cluster_result|userId                            |rating                                               |\n",
      "+--------------+----------------------------------+-----------------------------------------------------+\n",
      "|20            |[1832, 24531, 24495, 1901, 15933] |[8.037345, 7.0303893, 6.9618297, 6.0687914, 6.061984]|\n",
      "|10            |[1832, 24531, 24495, 1901, 15933] |[7.9840136, 6.9863443, 6.891858, 6.03245, 6.0197334] |\n",
      "|30            |[1832, 24531, 24495, 15933, 1901] |[8.094451, 7.077286, 7.0510645, 6.109497, 6.108026]  |\n",
      "|31            |[1832, 24531, 24495, 1901, 15933] |[8.086526, 7.0709996, 7.037193, 6.102946, 6.102759]  |\n",
      "|1             |[1832, 24531, 24495, 1901, 24301] |[7.656377, 6.719294, 6.5001936, 5.8180833, 5.7863135]|\n",
      "|21            |[1832, 24531, 24495, 1901, 15933] |[8.04624, 7.036546, 6.982675, 6.07297, 6.069698]     |\n",
      "|11            |[1832, 24531, 24495, 1901, 15933] |[7.981061, 6.9840183, 6.8864784, 6.030591, 6.0172353]|\n",
      "|12            |[1832, 24531, 24495, 1901, 15933] |[7.995796, 6.9963675, 6.9042287, 6.040883, 6.0287595]|\n",
      "|22            |[1832, 24531, 24495, 1901, 15933] |[8.0512495, 7.0408974, 6.990972, 6.0769176, 6.074098]|\n",
      "|32            |[1832, 24531, 24495, 24418, 15933]|[8.088905, 7.072345, 7.054375, 6.1073346, 6.106599]  |\n",
      "+--------------+----------------------------------+-----------------------------------------------------+\n",
      "only showing top 10 rows\n",
      "\n"
     ]
    }
   ],
   "source": [
    "loanRecommends.select([\"Cluster_result\",\"recommendations.userId\",\"recommendations.rating\"]).show(10,truncate=False)"
   ]
  },
  {
   "cell_type": "code",
   "execution_count": 86,
   "id": "bf08c18d-dae8-41f4-8595-f5922b0bcbaa",
   "metadata": {
    "id": "bf08c18d-dae8-41f4-8595-f5922b0bcbaa",
    "outputId": "a06f27d7-862a-4614-9191-0bb06ef1c053"
   },
   "outputs": [
    {
     "name": "stdout",
     "output_type": "stream",
     "text": [
      "root\n",
      " |-- userId: integer (nullable = false)\n",
      " |-- recommendations: array (nullable = true)\n",
      " |    |-- element: struct (containsNull = true)\n",
      " |    |    |-- Cluster_result: integer (nullable = true)\n",
      " |    |    |-- rating: float (nullable = true)\n",
      "\n"
     ]
    }
   ],
   "source": [
    "userRecommends.printSchema()"
   ]
  },
  {
   "cell_type": "code",
   "execution_count": null,
   "id": "1fb6d6f0-ccb5-4e58-a9c3-7ca87a047794",
   "metadata": {
    "id": "1fb6d6f0-ccb5-4e58-a9c3-7ca87a047794"
   },
   "outputs": [],
   "source": []
  },
  {
   "cell_type": "code",
   "execution_count": 87,
   "id": "a6674f96-bca8-437c-9951-cbc1c6a2fc0c",
   "metadata": {
    "id": "a6674f96-bca8-437c-9951-cbc1c6a2fc0c",
    "outputId": "bfd9bfd7-ded9-4ec4-ff6f-5d5f08ec06fa"
   },
   "outputs": [
    {
     "name": "stdout",
     "output_type": "stream",
     "text": [
      "-RECORD 0------------------------------------------------------------------------------------------\n",
      " userId          | 10                                                                              \n",
      " recommendations | [{38, 4.06807}, {33, 4.0665574}, {36, 4.065596}, {35, 4.06229}, {37, 4.061898}] \n",
      "\n"
     ]
    }
   ],
   "source": [
    "userRecommends.filter(userRecommends.userId == 10 ).show(vertical=True,truncate=False)"
   ]
  },
  {
   "cell_type": "code",
   "execution_count": 89,
   "id": "fe062ea4-87e7-4f4e-9412-95c267d1d474",
   "metadata": {
    "id": "fe062ea4-87e7-4f4e-9412-95c267d1d474",
    "outputId": "c0358a03-4bbe-4dce-ab4d-364512278fb5"
   },
   "outputs": [
    {
     "name": "stdout",
     "output_type": "stream",
     "text": [
      "+------+--------------------+-------------------------------------------------------+\n",
      "|userId|Cluster_result      |rating                                                 |\n",
      "+------+--------------------+-------------------------------------------------------+\n",
      "|1     |[38, 37, 35, 36, 34]|[3.0354345, 3.026924, 3.023729, 3.02069, 3.0198197]    |\n",
      "|6     |[38, 37, 36, 35, 33]|[1.0216187, 1.0194496, 1.0192949, 1.0191927, 1.0183234]|\n",
      "|12    |[38, 36, 37, 33, 35]|[2.024205, 2.0212004, 2.020596, 2.0203755, 2.0203145]  |\n",
      "|13    |[38, 36, 33, 37, 35]|[1.0187738, 1.017325, 1.0169692, 1.0169305, 1.0168515] |\n",
      "|16    |[38, 37, 35, 36, 34]|[1.02128, 1.0183824, 1.0172148, 1.0160935, 1.0160298]  |\n",
      "|22    |[38, 36, 33, 37, 35]|[1.0218852, 1.020424, 1.0200554, 1.0199949, 1.0199525] |\n",
      "|26    |[38, 37, 36, 35, 33]|[1.0170398, 1.0148207, 1.0145209, 1.0145079, 1.0133983]|\n",
      "|27    |[38, 36, 33, 37, 35]|[1.0196977, 1.0185685, 1.0184395, 1.0179611, 1.0179579]|\n",
      "|28    |[38, 37, 36, 35, 33]|[1.0183209, 1.0162293, 1.0161551, 1.0159893, 1.0152707]|\n",
      "|31    |[38, 37, 35, 34, 36]|[2.0256417, 2.0194957, 2.0166898, 2.014421, 2.0138183] |\n",
      "+------+--------------------+-------------------------------------------------------+\n",
      "only showing top 10 rows\n",
      "\n"
     ]
    }
   ],
   "source": [
    "userRecommends.select([\"userId\",\"recommendations.Cluster_result\",\"recommendations.rating\"]).show(10,truncate=False)"
   ]
  },
  {
   "cell_type": "code",
   "execution_count": null,
   "id": "6c43a8fb-3e0f-436e-ba38-8adf5efba30e",
   "metadata": {
    "id": "6c43a8fb-3e0f-436e-ba38-8adf5efba30e"
   },
   "outputs": [],
   "source": []
  },
  {
   "cell_type": "code",
   "execution_count": null,
   "id": "1f2bc25c-5a85-45e2-b89a-d75d65a70040",
   "metadata": {
    "id": "1f2bc25c-5a85-45e2-b89a-d75d65a70040"
   },
   "outputs": [],
   "source": []
  },
  {
   "cell_type": "code",
   "execution_count": null,
   "id": "70f7708c-9e0d-4e94-921d-4d9354ddfff9",
   "metadata": {
    "id": "70f7708c-9e0d-4e94-921d-4d9354ddfff9"
   },
   "outputs": [],
   "source": [
    "LoanRecommendation =  [{11, 4.818267}, {19, 4.042764}, {5, 4.033351}, {10, 4.0070896}, {12, 3.9973161}]"
   ]
  },
  {
   "cell_type": "code",
   "execution_count": null,
   "id": "d3746986-f722-4a7c-9b38-eb0b29f58b07",
   "metadata": {
    "id": "d3746986-f722-4a7c-9b38-eb0b29f58b07"
   },
   "outputs": [],
   "source": [
    "loanRecommend_user_10 = [{\"userID\":10,\"LoanId\":loanI,\"Ratings\":ratin} for loanI,ratin in LoanRecommendation]"
   ]
  },
  {
   "cell_type": "code",
   "execution_count": null,
   "id": "1cd2003f-d376-41b2-a93e-ac9ececa4a92",
   "metadata": {
    "id": "1cd2003f-d376-41b2-a93e-ac9ececa4a92",
    "outputId": "343f5b19-f9fd-4706-e6e2-63b38f48d8dd"
   },
   "outputs": [
    {
     "data": {
      "text/plain": [
       "[{'userID': 10, 'LoanId': 3.9973161, 'Ratings': 12},\n",
       " {'userID': 10, 'LoanId': 4.033351, 'Ratings': 5},\n",
       " {'userID': 10, 'LoanId': 11, 'Ratings': 4.818267},\n",
       " {'userID': 10, 'LoanId': 19, 'Ratings': 4.042764},\n",
       " {'userID': 10, 'LoanId': 10, 'Ratings': 4.0070896}]"
      ]
     },
     "execution_count": 107,
     "metadata": {},
     "output_type": "execute_result"
    }
   ],
   "source": [
    "sorted(loanRecommend_user_10, key=operator.itemgetter('Ratings'),reverse=True )"
   ]
  },
  {
   "cell_type": "code",
   "execution_count": null,
   "id": "033322bf-b7b3-4ef5-9ab7-feb8249ba3ef",
   "metadata": {
    "id": "033322bf-b7b3-4ef5-9ab7-feb8249ba3ef",
    "outputId": "49ea1f16-bbc6-4bab-ee36-b8373ad2357f"
   },
   "outputs": [
    {
     "data": {
      "text/plain": [
       "[{'userID': 10, 'LoanId': 11, 'Ratings': 4.818267},\n",
       " {'userID': 10, 'LoanId': 19, 'Ratings': 4.042764},\n",
       " {'userID': 10, 'LoanId': 4.033351, 'Ratings': 5},\n",
       " {'userID': 10, 'LoanId': 10, 'Ratings': 4.0070896},\n",
       " {'userID': 10, 'LoanId': 3.9973161, 'Ratings': 12}]"
      ]
     },
     "execution_count": 109,
     "metadata": {},
     "output_type": "execute_result"
    }
   ],
   "source": [
    "loanRecommend_user_10"
   ]
  },
  {
   "cell_type": "code",
   "execution_count": null,
   "id": "9b546cb9-ecdd-4922-a710-513e94c0472e",
   "metadata": {
    "id": "9b546cb9-ecdd-4922-a710-513e94c0472e"
   },
   "outputs": [],
   "source": []
  },
  {
   "cell_type": "code",
   "execution_count": null,
   "id": "0c9bcaa4-1bdc-41c7-9243-2ea48dbad534",
   "metadata": {
    "id": "0c9bcaa4-1bdc-41c7-9243-2ea48dbad534"
   },
   "outputs": [],
   "source": []
  },
  {
   "cell_type": "code",
   "execution_count": null,
   "id": "b6363316-327c-4857-9ca8-f5faead059c2",
   "metadata": {
    "id": "b6363316-327c-4857-9ca8-f5faead059c2"
   },
   "outputs": [],
   "source": []
  },
  {
   "cell_type": "code",
   "execution_count": null,
   "id": "9d5e2e17-f927-47ec-90d1-3e99bf69ccf2",
   "metadata": {
    "id": "9d5e2e17-f927-47ec-90d1-3e99bf69ccf2"
   },
   "outputs": [],
   "source": []
  },
  {
   "cell_type": "code",
   "execution_count": null,
   "id": "66323d0a-fcbd-40d0-a13e-6b9449a77f64",
   "metadata": {
    "id": "66323d0a-fcbd-40d0-a13e-6b9449a77f64"
   },
   "outputs": [],
   "source": []
  },
  {
   "cell_type": "code",
   "execution_count": null,
   "id": "7e719f90-aee0-453a-87d5-df0e82ae507d",
   "metadata": {
    "id": "7e719f90-aee0-453a-87d5-df0e82ae507d"
   },
   "outputs": [],
   "source": []
  },
  {
   "cell_type": "code",
   "execution_count": null,
   "id": "59d656cc-fa74-43fc-bcd2-9a73ff7c11ce",
   "metadata": {
    "id": "59d656cc-fa74-43fc-bcd2-9a73ff7c11ce"
   },
   "outputs": [],
   "source": []
  },
  {
   "cell_type": "code",
   "execution_count": null,
   "id": "d33def82-a07b-4e44-8f8e-560f0a15ffcc",
   "metadata": {
    "id": "d33def82-a07b-4e44-8f8e-560f0a15ffcc"
   },
   "outputs": [],
   "source": []
  },
  {
   "cell_type": "code",
   "execution_count": null,
   "id": "650b4b08-6081-4dc9-9e5f-b2e34a2008bc",
   "metadata": {
    "id": "650b4b08-6081-4dc9-9e5f-b2e34a2008bc"
   },
   "outputs": [],
   "source": []
  },
  {
   "cell_type": "code",
   "execution_count": null,
   "id": "f2c7c001-9cd5-4715-9d50-720d5ba66e2e",
   "metadata": {
    "id": "f2c7c001-9cd5-4715-9d50-720d5ba66e2e"
   },
   "outputs": [],
   "source": []
  },
  {
   "cell_type": "code",
   "execution_count": null,
   "id": "ece6e4b3-79ad-420c-8c39-e840866f075c",
   "metadata": {
    "id": "ece6e4b3-79ad-420c-8c39-e840866f075c"
   },
   "outputs": [],
   "source": []
  }
 ],
 "metadata": {
  "colab": {
   "provenance": []
  },
  "kernelspec": {
   "display_name": "Python 3 (ipykernel)",
   "language": "python",
   "name": "python3"
  },
  "language_info": {
   "codemirror_mode": {
    "name": "ipython",
    "version": 3
   },
   "file_extension": ".py",
   "mimetype": "text/x-python",
   "name": "python",
   "nbconvert_exporter": "python",
   "pygments_lexer": "ipython3",
   "version": "3.12.0"
  }
 },
 "nbformat": 4,
 "nbformat_minor": 5
}
