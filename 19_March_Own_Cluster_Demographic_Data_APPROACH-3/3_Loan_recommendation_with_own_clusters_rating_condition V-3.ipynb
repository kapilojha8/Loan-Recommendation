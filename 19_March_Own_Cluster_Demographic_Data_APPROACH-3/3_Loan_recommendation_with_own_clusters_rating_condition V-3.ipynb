{
 "cells": [
  {
   "cell_type": "markdown",
   "id": "8433267c-e538-444a-8fbf-bbe8f7eab0e2",
   "metadata": {
    "id": "8433267c-e538-444a-8fbf-bbe8f7eab0e2"
   },
   "source": [
    "# Loan Recommendation System \n",
    "# Approach - 2 \n",
    "## POC - Proof Of Concept"
   ]
  },
  {
   "cell_type": "raw",
   "id": "3393d7be-0421-4ea8-90c0-d6104e07c990",
   "metadata": {},
   "source": [
    "ALS training , Cosine Similarity , Centered Cosine Similarity\n",
    "Created the Clusters according to own intutuin about Loan Amount by checking the patters drawn on histogram."
   ]
  },
  {
   "attachments": {},
   "cell_type": "markdown",
   "id": "d42fa2b8-f9f5-4795-958f-e86c7453430f",
   "metadata": {},
   "source": [
    "<img src=\"ClusterSchema.png\" />"
   ]
  },
  {
   "cell_type": "code",
   "execution_count": 2,
   "id": "e20dd32e-1530-42f6-bdf9-c3f5806e837b",
   "metadata": {
    "id": "e20dd32e-1530-42f6-bdf9-c3f5806e837b"
   },
   "outputs": [],
   "source": [
    "from pyspark.sql import SparkSession\n",
    "from pyspark.sql.functions import col, expr, rank, count #countDistinct\n",
    "from pyspark.sql import functions as F\n",
    "from pyspark.ml.recommendation import ALS\n",
    "from pyspark.ml.evaluation import RegressionEvaluator\n",
    "from pyspark.ml.linalg import Vectors  ##DenseMatrix\n",
    "import matplotlib.pyplot as plt\n",
    "import pandas as pd\n",
    "import numpy as np\n",
    "import operator\n",
    "import time"
   ]
  },
  {
   "cell_type": "code",
   "execution_count": null,
   "id": "ec2c3dd8-7bb0-4bfb-a8bf-cd51a0fd1de3",
   "metadata": {},
   "outputs": [],
   "source": []
  },
  {
   "cell_type": "code",
   "execution_count": 3,
   "id": "7feab969-e8a3-4d26-adb0-080556999837",
   "metadata": {
    "id": "7feab969-e8a3-4d26-adb0-080556999837"
   },
   "outputs": [],
   "source": [
    "spark = SparkSession.builder.appName('loan_recommendation_with_clusters').config(\"spark.driver.memory\", \"12g\").getOrCreate()"
   ]
  },
  {
   "cell_type": "code",
   "execution_count": 4,
   "id": "c193e8d5-ed73-4ce1-8c2a-8580263c5921",
   "metadata": {
    "colab": {
     "base_uri": "https://localhost:8080/"
    },
    "id": "c193e8d5-ed73-4ce1-8c2a-8580263c5921",
    "outputId": "35bc7aa7-972b-4000-ea33-dfbd4074f696"
   },
   "outputs": [
    {
     "name": "stdout",
     "output_type": "stream",
     "text": [
      "root\n",
      " |-- Id: string (nullable = true)\n",
      " |-- AccountID: string (nullable = true)\n",
      " |-- Number_Of_Loans_Granted__c: integer (nullable = true)\n",
      " |-- Num_Of_Loans_Paid__c: integer (nullable = true)\n",
      " |-- Purpose_of_Loan__c: string (nullable = true)\n",
      " |-- Total_Repayments__c: integer (nullable = true)\n",
      " |-- Amount: integer (nullable = true)\n",
      " |-- Term_in_Weeks__c: double (nullable = true)\n",
      " |-- Payment_Frequency__c: string (nullable = true)\n",
      " |-- StageName: string (nullable = true)\n",
      " |-- Applicant Age: integer (nullable = true)\n",
      " |-- summary_income: double (nullable = true)\n",
      " |-- summary_income_cv: double (nullable = true)\n",
      " |-- city: string (nullable = true)\n",
      " |-- state: string (nullable = true)\n",
      " |-- Country: string (nullable = true)\n",
      " |-- userId: integer (nullable = true)\n",
      " |-- loanId: integer (nullable = true)\n",
      " |-- count: integer (nullable = true)\n",
      " |-- Cluster_result: integer (nullable = true)\n",
      " |-- Cluster_Group: integer (nullable = true)\n",
      "\n"
     ]
    }
   ],
   "source": [
    "# loans_df = spark.read.csv(\"RecommendData/df_temp_cluster_rating_condition_data.csv\", inferSchema=True, header=True)\n",
    "loans_df = spark.read.csv(\"Loan_Dataset/df_demographic_data_approrach-2_V-3.csv\", inferSchema=True, header=True)\n",
    "\n",
    "loans_df.printSchema()"
   ]
  },
  {
   "cell_type": "code",
   "execution_count": 8,
   "id": "_wOkxYLVyNiw",
   "metadata": {
    "colab": {
     "base_uri": "https://localhost:8080/"
    },
    "id": "_wOkxYLVyNiw",
    "outputId": "cfcd8bbe-05c0-4c1e-a4d8-7c7d05b6ffbd"
   },
   "outputs": [
    {
     "name": "stdout",
     "output_type": "stream",
     "text": [
      "+-------+-----------------+-------------------+--------------------+------------------+------------------+\n",
      "|summary|           Amount|Total_Repayments__c|Payment_Frequency__c|             count|     Cluster_Group|\n",
      "+-------+-----------------+-------------------+--------------------+------------------+------------------+\n",
      "|  count|           477055|             477055|              477055|            477055|            477055|\n",
      "|   mean| 861.086143107189|  7.077596922786681|                NULL|1.6787079057970256| 4.807672071354456|\n",
      "| stddev|809.0345512261636|  4.138158271816722|                NULL|0.9003499221145996|1.9419656955246842|\n",
      "|    min|              100|                  1|         Fortnightly|                 0|                 1|\n",
      "|    max|             5000|                 45|              Weekly|                 8|                11|\n",
      "+-------+-----------------+-------------------+--------------------+------------------+------------------+\n",
      "\n"
     ]
    }
   ],
   "source": [
    "loans_df.select([\"Amount\",\"Total_Repayments__c\",\"Payment_Frequency__c\",\"count\",\"Cluster_Group\"]).describe().show(10)"
   ]
  },
  {
   "cell_type": "code",
   "execution_count": null,
   "id": "5eed5a11-8e0a-44b3-bf4c-ba0c3ccbc428",
   "metadata": {},
   "outputs": [],
   "source": []
  },
  {
   "cell_type": "markdown",
   "id": "4bfaf097-19ab-46bc-8aaf-cc8a2a427600",
   "metadata": {
    "id": "4bfaf097-19ab-46bc-8aaf-cc8a2a427600"
   },
   "source": [
    "* Id: Likely a unique identifier for each data point.\n",
    "* AccountID: Unique identifier for an account (possibly borrower).\n",
    "* Loan-related features: \n",
    "    1. Number_Of_Loans_Granted__c: Number of loans granted to the account.\n",
    "    2. Num_Of_Loans_Paid__c: Number of loans paid by the account.\n",
    "    3. Purpose_of_Loan__c: Category of the loan purpose (e.g., mortgage, education).\n",
    "    4. Total_Repayments__c: Total amount repaid by the account.\n",
    "    5. Amount: Loan amount requested.\n",
    "    6. Term_in_Weeks__c: Loan term in weeks.\n",
    "    7. Payment_Frequency__c: Frequency of loan repayment (e.g., weekly, monthly).\n",
    "* Borrower-related features:\n",
    "    1. StageName: Current stage of the loan application (e.g., application, approved, rejected).    \n",
    "    2. Applicant Age: Age of the loan applicant    \n",
    "    3. summary_income: Summary of applicant's incom    \n",
    "    4. summary_income_cv: Coefficient of variation of applicant's income\n",
    "    5. Location-related features:\n",
    "    6. city: City of the applicant.\n",
    "    7. state: State of the applicant.\n",
    "    8. Country: Country of the applicant\n",
    "* Additional features:\n",
    "    1. userId: Unique identifier for a user Account Id in Numeric).     \n",
    "    2. loanId: Unique identifier for a lo (Id or loanId in Numeric)\n",
    "    3. counFeature related to the Ratings of the Loans.\n",
    "    4. LoanIdFormat: Format of the loan(Created LoanId using Clusters)."
   ]
  },
  {
   "cell_type": "code",
   "execution_count": 9,
   "id": "66fda6a1-a162-4b31-9076-0a3a230f16de",
   "metadata": {
    "colab": {
     "base_uri": "https://localhost:8080/"
    },
    "id": "66fda6a1-a162-4b31-9076-0a3a230f16de",
    "outputId": "be53b169-4850-4a81-af21-8c6bc59651d8"
   },
   "outputs": [
    {
     "name": "stdout",
     "output_type": "stream",
     "text": [
      "+-------------+--------------+------+-------------------+--------------------+-----+\n",
      "|Cluster_Group|Cluster_result|Amount|Total_Repayments__c|Payment_Frequency__c|count|\n",
      "+-------------+--------------+------+-------------------+--------------------+-----+\n",
      "|            1|             1|   100|                  6|              Weekly|    1|\n",
      "|            1|             1|   100|                  3|         Fortnightly|    1|\n",
      "|            1|             1|   100|                  3|         Fortnightly|    1|\n",
      "|            1|             1|   150|                  3|         Fortnightly|    1|\n",
      "|            1|             1|   100|                  3|         Fortnightly|    1|\n",
      "|            1|             1|   150|                 10|              Weekly|    1|\n",
      "|            1|             1|   100|                  6|              Weekly|    1|\n",
      "|            1|             1|   100|                  3|         Fortnightly|    1|\n",
      "|            1|             2|   200|                  3|         Fortnightly|    1|\n",
      "|            1|             2|   200|                  3|         Fortnightly|    1|\n",
      "+-------------+--------------+------+-------------------+--------------------+-----+\n",
      "only showing top 10 rows\n",
      "\n"
     ]
    }
   ],
   "source": [
    "loans_df.select([\"Cluster_Group\",\"Cluster_result\",\"Amount\",\"Total_Repayments__c\",\"Payment_Frequency__c\",\"count\"]).show(10)"
   ]
  },
  {
   "cell_type": "markdown",
   "id": "b9c00e8d-2a22-467e-a46a-8275b07e8a1d",
   "metadata": {
    "id": "b9c00e8d-2a22-467e-a46a-8275b07e8a1d"
   },
   "source": [
    "### Aggregating the loans per user (getting all loans for each user user)"
   ]
  },
  {
   "cell_type": "code",
   "execution_count": 10,
   "id": "1f3bbcf2-2094-4a5f-a1f9-4cc11caa6ecd",
   "metadata": {
    "id": "1f3bbcf2-2094-4a5f-a1f9-4cc11caa6ecd"
   },
   "outputs": [],
   "source": [
    "user_loans = loans_df.groupby(\"userId\").agg(F.collect_set(\"Cluster_result\").alias(\"loans\"))"
   ]
  },
  {
   "cell_type": "code",
   "execution_count": 11,
   "id": "3c03a160-ff69-437a-b5a7-771d7ded072e",
   "metadata": {
    "id": "3c03a160-ff69-437a-b5a7-771d7ded072e"
   },
   "outputs": [],
   "source": [
    "Actual_loans_taken = user_loans.toPandas().to_dict('records')"
   ]
  },
  {
   "cell_type": "markdown",
   "id": "29df3020-fddb-4fed-8476-d5f5fdc7787e",
   "metadata": {},
   "source": [
    "### EDA - Exploratory Data Analysis "
   ]
  },
  {
   "cell_type": "markdown",
   "id": "c8e16b8f-5128-4cac-9dd5-853ae81884da",
   "metadata": {},
   "source": [
    "<img src=\"https://editor.analyticsvidhya.com/uploads/24537Zoom-EDA.png\" height=500 width=\"500\" />"
   ]
  },
  {
   "cell_type": "code",
   "execution_count": 13,
   "id": "b17fa619-e0b5-459a-aa9b-1b30dfb9b411",
   "metadata": {
    "colab": {
     "base_uri": "https://localhost:8080/"
    },
    "id": "b17fa619-e0b5-459a-aa9b-1b30dfb9b411",
    "outputId": "9d5eec1e-cd5d-4d5d-d014-488ebbf8c76a"
   },
   "outputs": [
    {
     "name": "stdout",
     "output_type": "stream",
     "text": [
      "+-------+------------------+------------------+-----------------+------------------+-----------------+--------------------------+--------------------+\n",
      "|summary|     Cluster_Group|            userId|   Cluster_result|             count|           Amount|Number_Of_Loans_Granted__c|Num_Of_Loans_Paid__c|\n",
      "+-------+------------------+------------------+-----------------+------------------+-----------------+--------------------------+--------------------+\n",
      "|  count|            477055|            477055|           477055|            477055|           477055|                    477055|              477055|\n",
      "|   mean| 4.807672071354456|24327.947192671705|11.56178637683286|1.6787079057970256| 861.086143107189|        11.977491064971543|  11.937413925019127|\n",
      "| stddev|1.9419656955246842|15298.881686613546| 8.30279183207504|0.9003499221145996|809.0345512261636|         8.190257284475846|    8.31394345430114|\n",
      "|    min|                 1|                 1|                1|                 0|              100|                         0|                   3|\n",
      "|    max|                11|             59174|               38|                 8|             5000|                        73|                  73|\n",
      "+-------+------------------+------------------+-----------------+------------------+-----------------+--------------------------+--------------------+\n",
      "\n"
     ]
    }
   ],
   "source": [
    "loans_df.select([\"Cluster_Group\",\"userId\",\"Cluster_result\",\"count\",\"Amount\",\"Number_Of_Loans_Granted__c\",\"Num_Of_Loans_Paid__c\"]).describe().show()"
   ]
  },
  {
   "cell_type": "markdown",
   "id": "79c26c2f-a109-404a-8bed-23d9f9f2e7aa",
   "metadata": {
    "id": "879b0ed5-5a6a-4f4f-a02a-1ef3be15bd8d"
   },
   "source": [
    "#### Plotting the Frequnecy of Count(Ratings)"
   ]
  },
  {
   "cell_type": "code",
   "execution_count": 14,
   "id": "8e20cc21-d8fc-478f-ae00-442e698e0c7b",
   "metadata": {
    "colab": {
     "base_uri": "https://localhost:8080/",
     "height": 472
    },
    "id": "8e20cc21-d8fc-478f-ae00-442e698e0c7b",
    "outputId": "2b35959a-6515-4167-f6fe-77670bdf5621"
   },
   "outputs": [
    {
     "data": {
      "image/png": "[encoded data removed]",
      "text/plain": [
       "<Figure size 640x480 with 1 Axes>"
      ]
     },
     "metadata": {},
     "output_type": "display_data"
    }
   ],
   "source": [
    "hist_data  = loans_df.toPandas()\n",
    "\n",
    "hist_data['count'].hist()\n",
    "plt.xlabel(\"count\")\n",
    "plt.ylabel(\"Frequency\")\n",
    "plt.title(f\"Histogram of count\")\n",
    "plt.show()"
   ]
  },
  {
   "cell_type": "code",
   "execution_count": 15,
   "id": "c26920fa-9008-4bb7-a49f-696a18c18d75",
   "metadata": {},
   "outputs": [
    {
     "data": {
      "image/png": "[encoded data removed]",
      "text/plain": [
       "<Figure size 640x480 with 1 Axes>"
      ]
     },
     "metadata": {},
     "output_type": "display_data"
    }
   ],
   "source": [
    "hist_data['Amount'].hist(bins=30)\n",
    "plt.xlabel(\"Amount\")\n",
    "plt.ylabel(\"Frequency\")\n",
    "plt.title(f\"Histogram of count\")\n",
    "plt.show()"
   ]
  },
  {
   "cell_type": "code",
   "execution_count": 16,
   "id": "5a1f88ad-0274-45e5-a424-7f8acc28e0d3",
   "metadata": {},
   "outputs": [
    {
     "data": {
      "image/png": "[encoded data removed]",
      "text/plain": [
       "<Figure size 640x480 with 1 Axes>"
      ]
     },
     "metadata": {},
     "output_type": "display_data"
    }
   ],
   "source": [
    "hist_data['Cluster_Group'].hist(bins=30)\n",
    "plt.xlabel(\"Cluster_Group\")\n",
    "plt.ylabel(\"Frequency\")\n",
    "plt.title(f\"Histogram of count\")\n",
    "plt.show()"
   ]
  },
  {
   "cell_type": "markdown",
   "id": "933367fb-a834-46ad-956d-50aa18f5dcac",
   "metadata": {},
   "source": [
    "#### Counting the No. of user & No. of Loans & No. of Explicitely Created Loan Id (Clustered Loan Id's)"
   ]
  },
  {
   "cell_type": "code",
   "execution_count": 17,
   "id": "93606394-8fb4-4d30-8235-c8e1cdb15a13",
   "metadata": {
    "colab": {
     "base_uri": "https://localhost:8080/"
    },
    "id": "93606394-8fb4-4d30-8235-c8e1cdb15a13",
    "outputId": "a22f27c8-e289-4239-c523-26008a1dbcd1"
   },
   "outputs": [
    {
     "name": "stdout",
     "output_type": "stream",
     "text": [
      "Number of unique loanId_format: 38\n",
      "Number of unique Loan Id: 404122\n"
     ]
    }
   ],
   "source": [
    "# Count the number of unique items\n",
    "num_unique_loan_id_format = loans_df.select('Cluster_result').distinct().count()\n",
    "print(f\"Number of unique loanId_format: {num_unique_loan_id_format}\")\n",
    "\n",
    "# Count the number of unique users\n",
    "num_unique_id = loans_df.select('Id').distinct().count()\n",
    "print(f\"Number of unique Loan Id: {num_unique_id}\")"
   ]
  },
  {
   "cell_type": "code",
   "execution_count": 18,
   "id": "aa9f871b-ee01-470a-af88-09d50dc228cb",
   "metadata": {
    "colab": {
     "base_uri": "https://localhost:8080/"
    },
    "id": "aa9f871b-ee01-470a-af88-09d50dc228cb",
    "outputId": "b65a41c3-e5d6-45f7-c51d-197262023df3"
   },
   "outputs": [
    {
     "name": "stdout",
     "output_type": "stream",
     "text": [
      "Number of unique users: 58698\n"
     ]
    }
   ],
   "source": [
    "# Count the number of unique items\n",
    "tmp = loans_df.select('userId').distinct().count()\n",
    "print(f\"Number of unique users: {tmp}\")"
   ]
  },
  {
   "cell_type": "code",
   "execution_count": 19,
   "id": "6597ec0c-b9e9-4f99-95b6-503ae70a22d9",
   "metadata": {},
   "outputs": [],
   "source": [
    "# creating a temporary view of \n",
    "# Dataframe and storing it into df2\n",
    "loans_df.createOrReplaceTempView(\"df2\")"
   ]
  },
  {
   "cell_type": "code",
   "execution_count": 20,
   "id": "1933d971-c0c7-4c6f-97c8-e66396d52428",
   "metadata": {},
   "outputs": [],
   "source": [
    "# User Groups and their respective counts counts"
   ]
  },
  {
   "cell_type": "code",
   "execution_count": 22,
   "id": "3dc72a0e-5514-43da-9aaf-c0e9f043724b",
   "metadata": {},
   "outputs": [
    {
     "name": "stdout",
     "output_type": "stream",
     "text": [
      "+-------------+------+\n",
      "|Cluster_Group| count|\n",
      "+-------------+------+\n",
      "|            1|  3287|\n",
      "|            3| 82232|\n",
      "|            2| 49284|\n",
      "|            5| 77201|\n",
      "|            4|100164|\n",
      "|            6| 70822|\n",
      "|            9| 14643|\n",
      "|            8| 27480|\n",
      "|            7| 46237|\n",
      "|           10|  4661|\n",
      "|           11|  1044|\n",
      "+-------------+------+\n",
      "\n"
     ]
    }
   ],
   "source": [
    " \n",
    "# using the SQL query to count all\n",
    "# distinct records and display the\n",
    "# count on the screen\n",
    "spark.sql(\"SELECT Cluster_Group, COUNT(*) AS count FROM df2 GROUP BY Cluster_Group\").show()"
   ]
  },
  {
   "cell_type": "code",
   "execution_count": 23,
   "id": "ea6eb21c-271a-4976-bd54-7b6881c8f258",
   "metadata": {},
   "outputs": [
    {
     "name": "stdout",
     "output_type": "stream",
     "text": [
      "+-----+------+\n",
      "|count| count|\n",
      "+-----+------+\n",
      "|    1|262492|\n",
      "|    6|   523|\n",
      "|    3| 61542|\n",
      "|    5|  2910|\n",
      "|    4| 17904|\n",
      "|    2|131481|\n",
      "|    7|   124|\n",
      "|    0|     6|\n",
      "|    8|    73|\n",
      "+-----+------+\n",
      "\n"
     ]
    }
   ],
   "source": [
    "spark.sql(\"SELECT count, COUNT(*) AS count FROM df2 GROUP BY count\").show()"
   ]
  },
  {
   "cell_type": "code",
   "execution_count": 24,
   "id": "b950785a-5333-4707-8064-70b71ef2318a",
   "metadata": {},
   "outputs": [
    {
     "name": "stdout",
     "output_type": "stream",
     "text": [
      "+--------------+-----+\n",
      "|Cluster_result|count|\n",
      "+--------------+-----+\n",
      "|            31|  257|\n",
      "|            34|  188|\n",
      "|            28|  259|\n",
      "|            26| 2741|\n",
      "|            27| 3648|\n",
      "|            12|14552|\n",
      "|            22| 3254|\n",
      "|             1|  202|\n",
      "|            13| 4940|\n",
      "|             6|32437|\n",
      "|            16|45885|\n",
      "|             3|18419|\n",
      "|            20| 4472|\n",
      "|             5|13457|\n",
      "|            19| 4155|\n",
      "|            15| 8363|\n",
      "|            37|  429|\n",
      "|             9| 3537|\n",
      "|            17| 3605|\n",
      "|            35| 1461|\n",
      "+--------------+-----+\n",
      "only showing top 20 rows\n",
      "\n"
     ]
    }
   ],
   "source": [
    "spark.sql(\"SELECT Cluster_result, COUNT(*) AS count FROM df2 GROUP BY Cluster_result\").show()"
   ]
  },
  {
   "cell_type": "markdown",
   "id": "d8329935-38de-4370-bb9e-3d3f584b7331",
   "metadata": {},
   "source": [
    "#### Values of count(Rating) Column."
   ]
  },
  {
   "cell_type": "code",
   "execution_count": 25,
   "id": "41d386c0-47de-457f-a0f1-4efb4f9ff850",
   "metadata": {
    "colab": {
     "base_uri": "https://localhost:8080/"
    },
    "id": "41d386c0-47de-457f-a0f1-4efb4f9ff850",
    "outputId": "d7e9b873-14c7-44f8-f496-d6fc7871cc10"
   },
   "outputs": [
    {
     "name": "stdout",
     "output_type": "stream",
     "text": [
      "Distinct values of count:\n",
      "+-----+\n",
      "|count|\n",
      "+-----+\n",
      "|    0|\n",
      "|    1|\n",
      "|    2|\n",
      "|    3|\n",
      "|    4|\n",
      "|    5|\n",
      "|    6|\n",
      "|    7|\n",
      "|    8|\n",
      "+-----+\n",
      "\n"
     ]
    }
   ],
   "source": [
    "print('Distinct values of count:')\n",
    "loans_df.select('count').distinct().orderBy(\"count\").show()"
   ]
  },
  {
   "cell_type": "markdown",
   "id": "6ea6197c-53b9-4c06-a20d-1e1f2233d371",
   "metadata": {
    "id": "6ea6197c-53b9-4c06-a20d-1e1f2233d371"
   },
   "source": [
    "### Converting the dataset into train validation split."
   ]
  },
  {
   "cell_type": "code",
   "execution_count": 27,
   "id": "25b7a938-17f5-460f-a3bf-78ebd6628477",
   "metadata": {
    "colab": {
     "base_uri": "https://localhost:8080/"
    },
    "id": "25b7a938-17f5-460f-a3bf-78ebd6628477",
    "outputId": "ca050fbb-ec36-449a-a158-bd295d61f4c7"
   },
   "outputs": [
    {
     "name": "stdout",
     "output_type": "stream",
     "text": [
      "+--------------+-----+-------------+\n",
      "|Cluster_result|count|Cluster_Group|\n",
      "+--------------+-----+-------------+\n",
      "|             1|    1|            1|\n",
      "|             1|    1|            1|\n",
      "|             1|    1|            1|\n",
      "|             1|    1|            1|\n",
      "|             1|    1|            1|\n",
      "|             1|    1|            1|\n",
      "|             1|    1|            1|\n",
      "|             1|    1|            1|\n",
      "|             2|    1|            1|\n",
      "|             2|    1|            1|\n",
      "+--------------+-----+-------------+\n",
      "only showing top 10 rows\n",
      "\n"
     ]
    }
   ],
   "source": [
    "# we have to use 3 columns or features to put into the ALs Model.\n",
    "loans_df.select([\"Cluster_result\",\"count\",\"Cluster_Group\"]).show(10)"
   ]
  },
  {
   "cell_type": "code",
   "execution_count": 28,
   "id": "471dc8a3-2474-41c2-a4c2-d3f09756df0d",
   "metadata": {
    "colab": {
     "base_uri": "https://localhost:8080/"
    },
    "id": "471dc8a3-2474-41c2-a4c2-d3f09756df0d",
    "outputId": "52665e11-2fa3-44d2-a6ec-2ca780e2ed12"
   },
   "outputs": [
    {
     "data": {
      "text/plain": [
       "DataFrame[Id: string, AccountID: string, Number_Of_Loans_Granted__c: int, Num_Of_Loans_Paid__c: int, Purpose_of_Loan__c: string, Total_Repayments__c: int, Amount: int, Term_in_Weeks__c: double, Payment_Frequency__c: string, StageName: string, Applicant Age: int, summary_income: double, summary_income_cv: double, city: string, state: string, Country: string, userId: int, loanId: int, count: int, Cluster_result: int, Cluster_Group: int]"
      ]
     },
     "execution_count": 28,
     "metadata": {},
     "output_type": "execute_result"
    }
   ],
   "source": [
    "train, validation = loans_df.randomSplit([0.8, 0.2])\n",
    "train.cache()\n",
    "validation.cache()"
   ]
  },
  {
   "cell_type": "code",
   "execution_count": 29,
   "id": "b2ad213d-bf88-4d40-b43e-609a301116fe",
   "metadata": {
    "colab": {
     "base_uri": "https://localhost:8080/"
    },
    "id": "b2ad213d-bf88-4d40-b43e-609a301116fe",
    "outputId": "6f47e580-7040-4096-a3cd-b17a451c7b0d"
   },
   "outputs": [
    {
     "name": "stdout",
     "output_type": "stream",
     "text": [
      "+-------------+------+------+--------------+-----+------+-------------------+\n",
      "|Cluster_Group|userId|loanId|Cluster_result|count|Amount|Total_Repayments__c|\n",
      "+-------------+------+------+--------------+-----+------+-------------------+\n",
      "|            2| 23942|    26|            12|    3|   700|                  5|\n",
      "|            3|   149|    29|             2|    1|   200|                 10|\n",
      "|            3|   161|    50|             8|    1|   500|                  3|\n",
      "|            3| 24477|   108|             7|    5|   450|                  2|\n",
      "|            3| 23462|   126|             8|    2|   500|                 10|\n",
      "|            3| 23462|   126|             8|    2|   500|                 10|\n",
      "|            3|    31|   169|             3|    2|   250|                  1|\n",
      "|            3|    41|   178|            14|    2|   800|                  4|\n",
      "|            3| 23398|   188|             2|    2|   200|                  5|\n",
      "|            3| 24391|   201|             2|    1|   200|                  4|\n",
      "|            3| 24533|   214|            10|    4|   600|                  2|\n",
      "|            3| 23952|   222|             2|    2|   200|                  5|\n",
      "|            3| 23737|   227|             4|    2|   300|                  3|\n",
      "|            3| 25082|   269|             4|    1|   300|                  4|\n",
      "|            3|   104|   279|             6|    1|   400|                  4|\n",
      "|            3| 24828|   298|             2|    5|   200|                  2|\n",
      "|            3| 25343|   322|             5|    4|   350|                  4|\n",
      "|            3| 23546|   328|            12|    1|   700|                 10|\n",
      "|            3| 23501|   367|             4|    1|   300|                 10|\n",
      "|            3| 23707|   379|             2|    1|   200|                 10|\n",
      "+-------------+------+------+--------------+-----+------+-------------------+\n",
      "only showing top 20 rows\n",
      "\n"
     ]
    }
   ],
   "source": [
    "validation.select([\"Cluster_Group\",\"userId\",\"loanId\",\"Cluster_result\",\"count\",\"Amount\",\"Total_Repayments__c\"]).show()"
   ]
  },
  {
   "cell_type": "code",
   "execution_count": 30,
   "id": "b4ec2ccf-e2df-4169-82d1-84b24e8cdf75",
   "metadata": {
    "colab": {
     "base_uri": "https://localhost:8080/"
    },
    "id": "b4ec2ccf-e2df-4169-82d1-84b24e8cdf75",
    "outputId": "f19eaff2-a5e0-49f3-f62e-b001cff34f4f"
   },
   "outputs": [
    {
     "name": "stdout",
     "output_type": "stream",
     "text": [
      "root\n",
      " |-- Id: string (nullable = true)\n",
      " |-- AccountID: string (nullable = true)\n",
      " |-- Number_Of_Loans_Granted__c: integer (nullable = true)\n",
      " |-- Num_Of_Loans_Paid__c: integer (nullable = true)\n",
      " |-- Purpose_of_Loan__c: string (nullable = true)\n",
      " |-- Total_Repayments__c: integer (nullable = true)\n",
      " |-- Amount: integer (nullable = true)\n",
      " |-- Term_in_Weeks__c: double (nullable = true)\n",
      " |-- Payment_Frequency__c: string (nullable = true)\n",
      " |-- StageName: string (nullable = true)\n",
      " |-- Applicant Age: integer (nullable = true)\n",
      " |-- summary_income: double (nullable = true)\n",
      " |-- summary_income_cv: double (nullable = true)\n",
      " |-- city: string (nullable = true)\n",
      " |-- state: string (nullable = true)\n",
      " |-- Country: string (nullable = true)\n",
      " |-- userId: integer (nullable = true)\n",
      " |-- loanId: integer (nullable = true)\n",
      " |-- count: integer (nullable = true)\n",
      " |-- Cluster_result: integer (nullable = true)\n",
      " |-- Cluster_Group: integer (nullable = true)\n",
      "\n"
     ]
    }
   ],
   "source": [
    "loans_df.printSchema()"
   ]
  },
  {
   "cell_type": "code",
   "execution_count": 32,
   "id": "d5b8e385-ea9a-408f-b8fd-25e7160b8bf6",
   "metadata": {
    "id": "e2226eb6-5980-4249-bd83-5f3b6862faf1"
   },
   "outputs": [],
   "source": [
    "def train_ALS(train_data, validation_data, num_iters, reg_param, ranks):\n",
    "    \"\"\"\n",
    "    Grid Search Function to select the best model based on RMSE of hold-out data\n",
    "    \"\"\"\n",
    "    # initial\n",
    "    min_error = float('inf')\n",
    "    best_rank = -1\n",
    "    best_regularization = 0\n",
    "    best_model = None\n",
    "    for rank in ranks:\n",
    "        for reg in reg_param:\n",
    "            # Train the model using the training data\n",
    "            als_model = ALS(maxIter=num_iters,regParam=reg, rank=rank,\n",
    "                                        userCol='Cluster_Group', itemCol='Cluster_result', ratingCol='count', seed=99,\n",
    "                           coldStartStrategy=\"drop\",nonnegative=True)\n",
    "            model = als_model.fit(train_data)\n",
    "\n",
    "            # Generate predictions on the test data\n",
    "            predictions = model.transform(validation_data)\n",
    "            predictions = predictions.withColumn(\"prediction\", expr(\"CASE WHEN prediction < 0 THEN 0 WHEN prediction > 9 THEN 9 ELSE prediction END\"))\n",
    "\n",
    "            evaluator = RegressionEvaluator(metricName='rmse', labelCol='count', predictionCol='prediction')\n",
    "            error = evaluator.evaluate(predictions)\n",
    "\n",
    "            print('{} latent factors and regularization = {}: validation RMSE is {}'.format(rank, reg, error))\n",
    "            if error < min_error:\n",
    "                min_error = error\n",
    "                best_rank = rank\n",
    "                best_regularization = reg\n",
    "                best_model = model\n",
    "    print('\\nThe best model has {} latent factors and regularization = {}'.format(best_rank, best_regularization))\n",
    "    return best_model"
   ]
  },
  {
   "cell_type": "code",
   "execution_count": 33,
   "id": "dee88c45-50a4-4ad2-afd4-656ea78ff9c1",
   "metadata": {
    "colab": {
     "base_uri": "https://localhost:8080/"
    },
    "id": "fb8832fe-fe68-4372-9d4d-294633e187b0",
    "outputId": "3e5ff3d7-03e0-47ff-e991-54d111806a49"
   },
   "outputs": [
    {
     "name": "stdout",
     "output_type": "stream",
     "text": [
      "8 latent factors and regularization = 0.001: validation RMSE is 0.8796292214136551\n",
      "8 latent factors and regularization = 0.01: validation RMSE is 0.8797088068006153\n",
      "8 latent factors and regularization = 0.05: validation RMSE is 0.8812924882101534\n",
      "8 latent factors and regularization = 0.1: validation RMSE is 0.885679436532401\n",
      "8 latent factors and regularization = 0.2: validation RMSE is 0.903659465361714\n",
      "10 latent factors and regularization = 0.001: validation RMSE is 0.8796316837170337\n",
      "10 latent factors and regularization = 0.01: validation RMSE is 0.8796573550542411\n",
      "10 latent factors and regularization = 0.05: validation RMSE is 0.8812415664063938\n",
      "10 latent factors and regularization = 0.1: validation RMSE is 0.8855711035555278\n",
      "10 latent factors and regularization = 0.2: validation RMSE is 0.9036142667723303\n",
      "20 latent factors and regularization = 0.001: validation RMSE is 0.8796479459777231\n",
      "20 latent factors and regularization = 0.01: validation RMSE is 0.8796438664853292\n",
      "20 latent factors and regularization = 0.05: validation RMSE is 0.881223715657719\n",
      "20 latent factors and regularization = 0.1: validation RMSE is 0.8855845624668657\n",
      "20 latent factors and regularization = 0.2: validation RMSE is 0.9036545093526456\n",
      "40 latent factors and regularization = 0.001: validation RMSE is 0.8796396939477668\n",
      "40 latent factors and regularization = 0.01: validation RMSE is 0.8796371017537409\n",
      "40 latent factors and regularization = 0.05: validation RMSE is 0.881196073403673\n",
      "40 latent factors and regularization = 0.1: validation RMSE is 0.885469175831444\n",
      "40 latent factors and regularization = 0.2: validation RMSE is 0.9035838461305246\n",
      "60 latent factors and regularization = 0.001: validation RMSE is 0.8796390060673553\n",
      "60 latent factors and regularization = 0.01: validation RMSE is 0.8796395789833186\n",
      "60 latent factors and regularization = 0.05: validation RMSE is 0.8811749752274701\n",
      "60 latent factors and regularization = 0.1: validation RMSE is 0.8854083004913761\n",
      "60 latent factors and regularization = 0.2: validation RMSE is 0.9035761939651538\n",
      "\n",
      "The best model has 8 latent factors and regularization = 0.001\n",
      "Total Runtime: 142.50 seconds\n"
     ]
    }
   ],
   "source": [
    "# hyper-param config\n",
    "num_iterations = 10\n",
    "ranks = [8, 10, 20, 40, 60]\n",
    "reg_params = [0.001, 0.01, 0.05, 0.1, 0.2]\n",
    "\n",
    "# grid search and select best model\n",
    "start_time = time.time()\n",
    "final_model = train_ALS(train, validation, num_iterations, reg_params, ranks)\n",
    "\n",
    "print ('Total Runtime: {:.2f} seconds'.format(time.time() - start_time))"
   ]
  },
  {
   "cell_type": "raw",
   "id": "3fecf41b-aafd-4e74-a2d5-7ef82cba8cc2",
   "metadata": {
    "id": "c7cf3c57-11f2-46bd-b434-1cebf52a0c13"
   },
   "source": [
    "#OLD :  40 latent factors and regularization = 0.001\n",
    "#NEW: The best model has 8 latent factors and regularization = 0.001\n",
    "03 feb : The best model has 10 latent factors and regularization = 0.001\n",
    "08 feb : The best model has 20 latent factors and regularization = 0.01\n",
    "11 feb : The best model has 20 latent factors and regularization = 0.01\n",
    "12 feb : The best model has 60 latent factors and regularization = 0.01 : validation RMSE is 0.03137979806564294\n",
    "\n",
    "\n",
    "In general, a lower RMSE value indicates better model performance, as it signifies that the model's predictions are closer to the observed values. However, there is no fixed threshold for what constitutes a \"good\" or \"ideal\" RMSE value, as it depends on factors such as the nature of the data, the complexity of the problem, and the specific requirements of the application."
   ]
  },
  {
   "cell_type": "code",
   "execution_count": null,
   "id": "c2b528f0-eec2-4227-9d7c-701fd06f07f8",
   "metadata": {},
   "outputs": [],
   "source": []
  },
  {
   "cell_type": "raw",
   "id": "ff089015-f438-4f06-a2cd-34fbad8ebdad",
   "metadata": {
    "scrolled": true
   },
   "source": [
    "final_model.save(\"Recommendation_ALS_Model_OWN_LOAN_CLUSTER_STRATEGY\")"
   ]
  },
  {
   "cell_type": "markdown",
   "id": "bc2b0ef2-8126-4a7e-b2c9-49851bf63c18",
   "metadata": {
    "id": "bc2b0ef2-8126-4a7e-b2c9-49851bf63c18"
   },
   "source": [
    "## Predicting the results from validation data"
   ]
  },
  {
   "cell_type": "code",
   "execution_count": 37,
   "id": "57ba7905-f3e0-4a23-8b3d-0c41ffa5d0ca",
   "metadata": {
    "id": "57ba7905-f3e0-4a23-8b3d-0c41ffa5d0ca"
   },
   "outputs": [],
   "source": [
    "predictions = final_model.transform(validation)\n",
    "# predictions = predictions.withColumn(\"prediction\", expr(\"CASE WHEN prediction < 0 THEN 0 WHEN prediction > 9 THEN 9 ELSE prediction END\"))"
   ]
  },
  {
   "cell_type": "code",
   "execution_count": 39,
   "id": "6cd93785-db30-4571-b897-8ccf3d28e6fa",
   "metadata": {
    "colab": {
     "base_uri": "https://localhost:8080/"
    },
    "id": "6cd93785-db30-4571-b897-8ccf3d28e6fa",
    "outputId": "96d1432d-747d-42dd-9a7f-928f2ac2b98e"
   },
   "outputs": [
    {
     "name": "stdout",
     "output_type": "stream",
     "text": [
      "+---------------+--------------+----------+\n",
      "|usergroupCreate|Cluster_result|prediction|\n",
      "+---------------+--------------+----------+\n",
      "|              4|             2| 1.7807857|\n",
      "|              4|             2| 1.7807857|\n",
      "|              4|             3| 1.9077768|\n",
      "|              4|             2| 1.7807857|\n",
      "|              4|             2| 1.7807857|\n",
      "|              4|             6| 1.8719528|\n",
      "|              4|             8| 1.8735499|\n",
      "|              4|             8| 1.8735499|\n",
      "|              4|            12| 1.8589125|\n",
      "+---------------+--------------+----------+\n",
      "\n"
     ]
    }
   ],
   "source": [
    "predictions.filter(predictions.userId == 10).select(\"usergroupCreate\", \"Cluster_result\", \"prediction\").show(20)"
   ]
  },
  {
   "cell_type": "markdown",
   "id": "ec61d4fc-bf4d-4d22-a160-2df1e5e19246",
   "metadata": {
    "id": "ec61d4fc-bf4d-4d22-a160-2df1e5e19246"
   },
   "source": [
    "## Error Evaluation with RMSE"
   ]
  },
  {
   "cell_type": "markdown",
   "id": "e2d55e52-4dec-48df-8df2-88866b499378",
   "metadata": {
    "id": "e2d55e52-4dec-48df-8df2-88866b499378"
   },
   "source": [
    "<img src=\"https://docs.oracle.com/en/cloud/saas/planning-budgeting-cloud/pfusu/img/insights_rmse_formula.jpg\" height=\"300\" width=\"300\" />"
   ]
  },
  {
   "cell_type": "code",
   "execution_count": 40,
   "id": "5e28740c-bd7f-4213-986a-04b0b8453f48",
   "metadata": {
    "colab": {
     "base_uri": "https://localhost:8080/"
    },
    "id": "5e28740c-bd7f-4213-986a-04b0b8453f48",
    "outputId": "919fe55b-832c-41b1-b13e-c65d2061fa3b"
   },
   "outputs": [
    {
     "name": "stdout",
     "output_type": "stream",
     "text": [
      "Root Mean Squared Error (RMSE) = 0.880596604310158\n"
     ]
    }
   ],
   "source": [
    "# Evaluate the model using Root Mean Squared Error (RMSE)\n",
    "evaluator = RegressionEvaluator(metricName=\"rmse\", labelCol=\"count\", predictionCol=\"prediction\")\n",
    "rmse = evaluator.evaluate(predictions)\n",
    "print(\"Root Mean Squared Error (RMSE) = \" + str(rmse))"
   ]
  },
  {
   "cell_type": "markdown",
   "id": "c8069530-1743-4e8b-81de-d8726a15a25e",
   "metadata": {
    "id": "c8069530-1743-4e8b-81de-d8726a15a25e"
   },
   "source": [
    "## Recommendation of N users"
   ]
  },
  {
   "cell_type": "code",
   "execution_count": 41,
   "id": "5fbbfcf7-90ab-4c5e-a5e4-d781f369fb39",
   "metadata": {
    "id": "5fbbfcf7-90ab-4c5e-a5e4-d781f369fb39"
   },
   "outputs": [],
   "source": [
    "userRecommends = final_model.recommendForAllUsers(5)\n",
    "loanRecommends = final_model.recommendForAllItems(5)"
   ]
  },
  {
   "cell_type": "code",
   "execution_count": 42,
   "id": "ba1eaaf8-ecef-43e9-9070-e70c3c6d8315",
   "metadata": {
    "colab": {
     "base_uri": "https://localhost:8080/"
    },
    "id": "ba1eaaf8-ecef-43e9-9070-e70c3c6d8315",
    "outputId": "a0e7e3d1-e16a-4114-bc65-15e9715c18a7"
   },
   "outputs": [
    {
     "name": "stdout",
     "output_type": "stream",
     "text": [
      "root\n",
      " |-- usergroupCreate: integer (nullable = false)\n",
      " |-- recommendations: array (nullable = true)\n",
      " |    |-- element: struct (containsNull = true)\n",
      " |    |    |-- Cluster_result: integer (nullable = true)\n",
      " |    |    |-- rating: float (nullable = true)\n",
      "\n"
     ]
    }
   ],
   "source": [
    "userRecommends.printSchema()"
   ]
  },
  {
   "cell_type": "code",
   "execution_count": 43,
   "id": "e1d49ac8-fae2-43c6-97dd-016464edf5ea",
   "metadata": {
    "colab": {
     "base_uri": "https://localhost:8080/"
    },
    "id": "e1d49ac8-fae2-43c6-97dd-016464edf5ea",
    "outputId": "05f7e327-fc70-4e45-f9f3-2b3bcd5401e3"
   },
   "outputs": [
    {
     "name": "stdout",
     "output_type": "stream",
     "text": [
      "root\n",
      " |-- Id: string (nullable = true)\n",
      " |-- AccountID: string (nullable = true)\n",
      " |-- Number_Of_Loans_Granted__c: integer (nullable = true)\n",
      " |-- Num_Of_Loans_Paid__c: integer (nullable = true)\n",
      " |-- Purpose_of_Loan__c: string (nullable = true)\n",
      " |-- Total_Repayments__c: integer (nullable = true)\n",
      " |-- Amount: integer (nullable = true)\n",
      " |-- Term_in_Weeks__c: double (nullable = true)\n",
      " |-- Payment_Frequency__c: string (nullable = true)\n",
      " |-- StageName: string (nullable = true)\n",
      " |-- Applicant Age: integer (nullable = true)\n",
      " |-- summary_income: double (nullable = true)\n",
      " |-- summary_income_cv: double (nullable = true)\n",
      " |-- city: string (nullable = true)\n",
      " |-- state: string (nullable = true)\n",
      " |-- Country: string (nullable = true)\n",
      " |-- userId: integer (nullable = true)\n",
      " |-- loanId: integer (nullable = true)\n",
      " |-- count: integer (nullable = true)\n",
      " |-- Cluster_result: integer (nullable = true)\n",
      " |-- usergroupCreate: integer (nullable = true)\n",
      "\n"
     ]
    }
   ],
   "source": [
    "validation.printSchema()"
   ]
  },
  {
   "cell_type": "code",
   "execution_count": 44,
   "id": "8a0d5b92-658f-4367-b041-5ce8cf534b7a",
   "metadata": {},
   "outputs": [
    {
     "data": {
      "text/plain": [
       "95944"
      ]
     },
     "execution_count": 44,
     "metadata": {},
     "output_type": "execute_result"
    }
   ],
   "source": [
    "validation.count()"
   ]
  },
  {
   "cell_type": "markdown",
   "id": "b0c44455-54f9-4bc2-834e-6a6a123cba2e",
   "metadata": {
    "id": "b0c44455-54f9-4bc2-834e-6a6a123cba2e"
   },
   "source": [
    "## ALS Model Evaluation"
   ]
  },
  {
   "cell_type": "code",
   "execution_count": 58,
   "id": "7fd677b6-2055-4995-bd1d-7367cbc3d903",
   "metadata": {
    "id": "7fd677b6-2055-4995-bd1d-7367cbc3d903"
   },
   "outputs": [],
   "source": [
    "# Assuming you have a DataFrame 'validation_data' containing the ground truth interactions\n",
    "# and a DataFrame 'recommendations' containing the top-N recommendations generated by the ALS model\n",
    "\n",
    "# Join recommendations with ground truth data to identify true positives\n",
    "true_positives = predictions.join(validation, ['usergroupCreate', 'Cluster_result'], 'inner')"
   ]
  },
  {
   "cell_type": "code",
   "execution_count": 59,
   "id": "33526f67-bf22-491e-9aec-b02d8ae9eb9f",
   "metadata": {
    "id": "33526f67-bf22-491e-9aec-b02d8ae9eb9f"
   },
   "outputs": [],
   "source": [
    "# Calculate the number of true positives per user\n",
    "tp_per_user = true_positives.groupBy('usergroupCreate').agg(expr('count(Cluster_result) as true_positives'))"
   ]
  },
  {
   "cell_type": "code",
   "execution_count": 60,
   "id": "1312c8e0-c174-4d01-b079-c48d12cbd582",
   "metadata": {
    "id": "1312c8e0-c174-4d01-b079-c48d12cbd582"
   },
   "outputs": [],
   "source": [
    " # Calculate the total number of relevant items per user in the ground truth data\n",
    "relevant_per_user = validation.groupBy('usergroupCreate').agg(expr('count(Cluster_result) as relevant'))"
   ]
  },
  {
   "cell_type": "code",
   "execution_count": 62,
   "id": "331e28a0-b31f-4ca7-b426-6aaa869ca599",
   "metadata": {
    "id": "331e28a0-b31f-4ca7-b426-6aaa869ca599"
   },
   "outputs": [],
   "source": [
    "# Calculate Precision per user\n",
    "precision_per_user = tp_per_user.join(relevant_per_user, 'usergroupCreate', 'inner') \\\n",
    "    .selectExpr('usergroupCreate', 'true_positives / relevant as precision')"
   ]
  },
  {
   "cell_type": "code",
   "execution_count": 63,
   "id": "6a7d7e11-6e29-41a3-84b7-20b42d84e5da",
   "metadata": {
    "id": "6a7d7e11-6e29-41a3-84b7-20b42d84e5da"
   },
   "outputs": [],
   "source": [
    "# Calculate Recall per user\n",
    "recall_per_user = tp_per_user.join(relevant_per_user, 'usergroupCreate', 'inner') \\\n",
    "    .selectExpr('usergroupCreate', 'true_positives / relevant as recall')"
   ]
  },
  {
   "cell_type": "code",
   "execution_count": 64,
   "id": "4fa119c7-560c-4eea-83ca-246357a53682",
   "metadata": {
    "id": "4fa119c7-560c-4eea-83ca-246357a53682"
   },
   "outputs": [],
   "source": [
    "# Calculate F1-score per user\n",
    "f1_score_per_user = precision_per_user.join(recall_per_user, 'usergroupCreate', 'inner') \\\n",
    "    .selectExpr('usergroupCreate', '(2 * precision * recall) / (precision + recall) as f1_score')"
   ]
  },
  {
   "cell_type": "code",
   "execution_count": 65,
   "id": "a855a9fa-c9d4-4866-be4b-bbcbb1846b33",
   "metadata": {
    "id": "a855a9fa-c9d4-4866-be4b-bbcbb1846b33"
   },
   "outputs": [],
   "source": [
    "# Calculate overall Precision, Recall, and F1-score\n",
    "overall_precision = precision_per_user.agg({'precision': 'avg'}).collect()[0][0]\n",
    "overall_recall = recall_per_user.agg({'recall': 'avg'}).collect()[0][0]\n",
    "overall_f1_score = f1_score_per_user.agg({'f1_score': 'avg'}).collect()[0][0]\n"
   ]
  },
  {
   "cell_type": "code",
   "execution_count": 66,
   "id": "837dfdff-a6fa-4a8f-961c-c7eb98d16cb7",
   "metadata": {
    "colab": {
     "base_uri": "https://localhost:8080/"
    },
    "id": "837dfdff-a6fa-4a8f-961c-c7eb98d16cb7",
    "outputId": "d34ff23a-9a29-4d1b-e641-e38f8a299fbe"
   },
   "outputs": [
    {
     "name": "stdout",
     "output_type": "stream",
     "text": [
      "Overall Precision: 929.3433970924417\n",
      "Overall Recall: 929.3433970924417\n",
      "Overall F1-score: 929.3433970924418\n"
     ]
    }
   ],
   "source": [
    "\n",
    "# Print the results\n",
    "print(\"Overall Precision:\", overall_precision)\n",
    "print(\"Overall Recall:\", overall_recall)\n",
    "print(\"Overall F1-score:\", overall_f1_score)\n"
   ]
  },
  {
   "cell_type": "code",
   "execution_count": 67,
   "id": "853c846f-1b77-4f36-b7ee-7f5ca2fb0bd6",
   "metadata": {
    "id": "853c846f-1b77-4f36-b7ee-7f5ca2fb0bd6"
   },
   "outputs": [],
   "source": [
    "evaluator = RegressionEvaluator(metricName=\"mae\", labelCol=\"count\", predictionCol=\"prediction\")\n",
    "mae = evaluator.evaluate(predictions)"
   ]
  },
  {
   "cell_type": "code",
   "execution_count": 68,
   "id": "a9f7a090-1055-4557-acc3-c688485fa86a",
   "metadata": {},
   "outputs": [
    {
     "data": {
      "text/plain": [
       "('The Mean Absolute Error is :', 0.7051579730927989)"
      ]
     },
     "execution_count": 68,
     "metadata": {},
     "output_type": "execute_result"
    }
   ],
   "source": [
    "\"The Mean Absolute Error is :\",mae"
   ]
  },
  {
   "cell_type": "markdown",
   "id": "2e334b00-3dd4-4be8-8d57-180e6e60af92",
   "metadata": {
    "id": "2e334b00-3dd4-4be8-8d57-180e6e60af92"
   },
   "source": [
    "## User Factors and Item Factors to calculate the cosine Similarity"
   ]
  },
  {
   "cell_type": "code",
   "execution_count": 69,
   "id": "d38ab8b5-cb23-4a04-93f2-741727bd1303",
   "metadata": {
    "id": "d38ab8b5-cb23-4a04-93f2-741727bd1303"
   },
   "outputs": [],
   "source": [
    "userFactors = final_model.userFactors\n",
    "itemFactors = final_model.itemFactors"
   ]
  },
  {
   "cell_type": "code",
   "execution_count": 70,
   "id": "56ef610b-520c-48f1-8aa6-46fe79a300b9",
   "metadata": {},
   "outputs": [
    {
     "name": "stdout",
     "output_type": "stream",
     "text": [
      "8\n",
      "root\n",
      " |-- id: integer (nullable = false)\n",
      " |-- features: array (nullable = true)\n",
      " |    |-- element: float (containsNull = false)\n",
      "\n",
      "Priting the Schema of userFactors None\n"
     ]
    }
   ],
   "source": [
    "print(userFactors.count())\n",
    "print(\"Priting the Schema of userFactors\",userFactors.printSchema())"
   ]
  },
  {
   "cell_type": "code",
   "execution_count": 72,
   "id": "3c7bec83-1afa-4c12-ab98-55c2bacb73ca",
   "metadata": {},
   "outputs": [
    {
     "data": {
      "text/plain": [
       "[Row(id=4, features=[0.0, 0.11932894587516785, 0.0, 0.0, 0.0, 0.0008733168360777199, 0.11637958884239197, 0.26093804836273193, 0.29018399119377136, 0.06533939391374588])]"
      ]
     },
     "execution_count": 72,
     "metadata": {},
     "output_type": "execute_result"
    }
   ],
   "source": [
    "\n",
    "userFactors.filter(userFactors.id == 4 ).collect()"
   ]
  },
  {
   "cell_type": "code",
   "execution_count": 74,
   "id": "589e5f60-906f-476d-a4a6-da5bf2ea5cde",
   "metadata": {},
   "outputs": [
    {
     "name": "stdout",
     "output_type": "stream",
     "text": [
      "+---+------------------------------------------------------------------------------------------------------+\n",
      "|id |features                                                                                              |\n",
      "+---+------------------------------------------------------------------------------------------------------+\n",
      "|1  |[0.10207652, 0.0, 0.0, 0.0, 0.028071277, 0.217461, 0.0, 0.20388243, 0.27029592, 3.6434052E-4]         |\n",
      "|2  |[0.1090944, 0.05858941, 0.0, 0.0, 0.05580347, 0.0, 0.0, 0.027221724, 0.32275096, 0.20567515]          |\n",
      "|3  |[0.0, 0.121066555, 0.0, 0.0, 0.18417068, 0.04563323, 0.1560713, 0.0, 0.34213224, 0.0]                 |\n",
      "|4  |[0.0, 0.119328946, 0.0, 0.0, 0.0, 8.7331684E-4, 0.11637959, 0.26093805, 0.290184, 0.065339394]        |\n",
      "|5  |[0.058896516, 0.070902, 0.0, 0.0, 0.1048939, 0.20820643, 0.20759, 0.056931816, 0.03224951, 0.37312073]|\n",
      "|6  |[0.055335354, 0.26035395, 0.0, 0.0, 0.7056479, 0.04746375, 0.0, 0.35699084, 0.0, 0.07413496]          |\n",
      "|7  |[0.72662395, 0.0, 0.0, 0.0, 0.13683021, 0.0, 0.5934717, 0.010290969, 0.0, 0.0]                        |\n",
      "|8  |[0.38679308, 0.6264062, 0.0, 0.0, 0.0, 0.21689028, 0.0, 0.0, 0.084333785, 0.0]                        |\n",
      "+---+------------------------------------------------------------------------------------------------------+\n",
      "\n"
     ]
    }
   ],
   "source": [
    "userFactors.select(\"id\",\"features\").show(10,truncate=False)"
   ]
  },
  {
   "cell_type": "code",
   "execution_count": 73,
   "id": "fbfd4eed-d924-4ce1-90da-60a592c7d522",
   "metadata": {},
   "outputs": [
    {
     "name": "stdout",
     "output_type": "stream",
     "text": [
      "+---+-----------------------------------------------------------------------------------------------------+\n",
      "|id |features                                                                                             |\n",
      "+---+-----------------------------------------------------------------------------------------------------+\n",
      "|10 |[1.0506967, 1.0377316, 0.0, 0.0, 0.5584275, 1.1679243, 1.0880078, 2.4268227, 3.3939633, 1.6737078]   |\n",
      "|20 |[1.2366269, 0.6668619, 0.0, 0.0, 0.5444139, 0.8700933, 1.3070961, 2.3319182, 3.2417717, 1.8243557]   |\n",
      "|30 |[1.268503, 0.877252, 0.0, 0.0, 0.6327881, 1.1561329, 0.69284576, 2.0294447, 3.0912063, 1.7711663]    |\n",
      "|1  |[0.85906637, 1.4773526, 0.0, 0.0, 0.15889955, 1.4398404, 0.6260075, 0.93376863, 2.086219, 1.0415007] |\n",
      "|11 |[1.2201872, 0.6199579, 0.0, 0.0, 0.27705252, 1.2503427, 1.5591296, 2.460763, 3.409021, 1.8289618]    |\n",
      "|21 |[1.2936139, 0.9649519, 0.0, 0.0, 0.5394421, 1.468302, 1.1203814, 2.4098449, 3.229811, 1.6454054]     |\n",
      "|31 |[0.81581944, 1.8065608, 0.0, 0.0, 0.35085073, 1.088431, 1.1892308, 1.6422961, 3.343913, 1.8861243]   |\n",
      "|2  |[0.96150094, 0.8971666, 0.0, 0.0, 0.42742947, 1.10726, 0.91342324, 2.0533867, 3.2000067, 1.5619898]  |\n",
      "|12 |[1.1856047, 0.84192413, 0.0, 0.0, 0.42711, 1.1087854, 0.9970522, 2.1956809, 3.236742, 1.9781996]     |\n",
      "|22 |[0.97835594, 0.46662408, 0.0, 0.0, 0.6784903, 0.99237454, 1.2553416, 2.0125258, 3.7349591, 1.2235951]|\n",
      "+---+-----------------------------------------------------------------------------------------------------+\n",
      "only showing top 10 rows\n",
      "\n"
     ]
    }
   ],
   "source": [
    "itemFactors.select(\"id\",\"features\").show(10,truncate=False)"
   ]
  },
  {
   "cell_type": "code",
   "execution_count": null,
   "id": "9ceace9b-fff7-4555-9854-adbe1c00cf17",
   "metadata": {},
   "outputs": [],
   "source": []
  },
  {
   "cell_type": "markdown",
   "id": "1589f64a-0d7d-4508-8dbe-37ff54ca0458",
   "metadata": {
    "id": "1589f64a-0d7d-4508-8dbe-37ff54ca0458"
   },
   "source": [
    "## Calculate cosine similarity:"
   ]
  },
  {
   "cell_type": "markdown",
   "id": "aaa1fcf4-f406-442a-9be1-4f6860bcdb83",
   "metadata": {
    "id": "aaa1fcf4-f406-442a-9be1-4f6860bcdb83"
   },
   "source": [
    "<img src=\"https://datascience103579984.files.wordpress.com/2020/01/13-12.png\" height=\"600\" width=\"600\" />"
   ]
  },
  {
   "cell_type": "code",
   "execution_count": 75,
   "id": "76bee01e-c55e-4472-9e0e-d5bf2b0c8157",
   "metadata": {
    "id": "76bee01e-c55e-4472-9e0e-d5bf2b0c8157"
   },
   "outputs": [],
   "source": [
    "def cosine_similarity(u1, u2):\n",
    "    \"\"\"Calculates cosine similarity between two user factors.\"\"\"\n",
    "    # Convert lists to DenseVectors before performing operations\n",
    "    u1_vector = Vectors.dense(u1)\n",
    "    u2_vector = Vectors.dense(u2)\n",
    "    return u1_vector.dot(u2_vector) / (u1_vector.norm(p=2) * u2_vector.norm(p=2))"
   ]
  },
  {
   "cell_type": "markdown",
   "id": "4e57c89c-33b0-4005-94cb-c8e7bc86fc1f",
   "metadata": {
    "id": "4e57c89c-33b0-4005-94cb-c8e7bc86fc1f"
   },
   "source": [
    "### user-User Cosine Similarity code"
   ]
  },
  {
   "cell_type": "code",
   "execution_count": 76,
   "id": "e5da4c16-8350-4580-a7cf-b872356d231c",
   "metadata": {
    "colab": {
     "base_uri": "https://localhost:8080/"
    },
    "id": "e5da4c16-8350-4580-a7cf-b872356d231c",
    "outputId": "939a0bc6-074c-4c33-fc7d-bc032f85579f"
   },
   "outputs": [
    {
     "name": "stdout",
     "output_type": "stream",
     "text": [
      "Cosine similarity between users 1 and 2: 0.623353425685165\n"
     ]
    }
   ],
   "source": [
    "# Example usage\n",
    "user1_id = 1\n",
    "user2_id = 2\n",
    "user1_factors = userFactors.filter(userFactors.id == user1_id ).collect()[0][1]\n",
    "user2_factors = userFactors.filter(userFactors.id == user2_id ).collect()[0][1]\n",
    "# user1_factors = userFactors.to_dense().rdd.filter(lambda x: x[0] == user1_id).collect()[0][1]\n",
    "# user2_factors = userFactors.to_dense().rdd.filter(lambda x: x[0] == user2_id).collect()[0][1]\n",
    "similarity = cosine_similarity(user1_factors, user2_factors)\n",
    "print(f\"Cosine similarity between users {user1_id} and {user2_id}: {similarity}\")\n"
   ]
  },
  {
   "cell_type": "markdown",
   "id": "37946b00-6e3f-498c-91ba-d722b5785b9c",
   "metadata": {
    "id": "37946b00-6e3f-498c-91ba-d722b5785b9c"
   },
   "source": [
    "### User-Item Cosine Similarity code"
   ]
  },
  {
   "cell_type": "code",
   "execution_count": 77,
   "id": "c8f1a8db-172b-4122-9030-9e5c40162fc6",
   "metadata": {
    "colab": {
     "base_uri": "https://localhost:8080/"
    },
    "id": "c8f1a8db-172b-4122-9030-9e5c40162fc6",
    "outputId": "d2a833a7-6024-41d7-adbb-ed9b227dad5d"
   },
   "outputs": [
    {
     "name": "stdout",
     "output_type": "stream",
     "text": [
      "Cosine similarity between users 1 and 1: 0.8143035069669178\n"
     ]
    }
   ],
   "source": [
    "# Example usage\n",
    "user1_id = 1\n",
    "item_id = 1\n",
    "user_factors = userFactors.filter(userFactors.id == user1_id ).collect()[0][1]\n",
    "item_factors = itemFactors.filter(itemFactors.id == item_id ).collect()[0][1]\n",
    "\n",
    "user_item_similarity = cosine_similarity(user_factors, item_factors)\n",
    "print(f\"Cosine similarity between users {user1_id} and {item_id}: {user_item_similarity}\")"
   ]
  },
  {
   "cell_type": "markdown",
   "id": "a8f99d3c-a41b-45a5-a1f3-a754a40d86ef",
   "metadata": {
    "id": "a8f99d3c-a41b-45a5-a1f3-a754a40d86ef"
   },
   "source": [
    "###  Cosine Similarity of user 10 with all Loans"
   ]
  },
  {
   "cell_type": "code",
   "execution_count": 78,
   "id": "f8edb118-b30d-428a-a1b0-86de708ae480",
   "metadata": {
    "id": "f8edb118-b30d-428a-a1b0-86de708ae480"
   },
   "outputs": [],
   "source": [
    "TopCosineLoanforuser10 = []\n",
    "for item in range(itemFactors.count()):\n",
    "    item_id = itemFactors.select(\"Id\").sort(\"Id\").take(itemFactors.count())[item][0]\n",
    "    user1_id = 1\n",
    "    user_factors = userFactors.filter(userFactors.id == user1_id ).collect()[0][1]\n",
    "    item_factors = itemFactors.filter(itemFactors.id == item_id ).collect()[0][1]\n",
    "\n",
    "\n",
    "    user_item_similarity = cosine_similarity(user_factors, item_factors)\n",
    "    TopCosineLoanforuser10.append({\"userID\":user1_id,\"LoanId\":item_id,\"CosineSimilarity\":user_item_similarity})"
   ]
  },
  {
   "cell_type": "code",
   "execution_count": 79,
   "id": "a65ec1b5-4c8a-45f3-81ec-ac03d5ebc44a",
   "metadata": {
    "colab": {
     "base_uri": "https://localhost:8080/"
    },
    "id": "a65ec1b5-4c8a-45f3-81ec-ac03d5ebc44a",
    "outputId": "de66de4c-2c38-4324-8fb1-f48a7016f2d5"
   },
   "outputs": [
    {
     "data": {
      "text/plain": [
       "[{'userID': 1, 'LoanId': 19, 'CosineSimilarity': 0.8776531556618067},\n",
       " {'userID': 1, 'LoanId': 21, 'CosineSimilarity': 0.8758911055323454},\n",
       " {'userID': 1, 'LoanId': 27, 'CosineSimilarity': 0.8751143293753244},\n",
       " {'userID': 1, 'LoanId': 4, 'CosineSimilarity': 0.8690645747610348},\n",
       " {'userID': 1, 'LoanId': 22, 'CosineSimilarity': 0.8665435683775703},\n",
       " {'userID': 1, 'LoanId': 14, 'CosineSimilarity': 0.8662491779207898},\n",
       " {'userID': 1, 'LoanId': 16, 'CosineSimilarity': 0.8662477276301079},\n",
       " {'userID': 1, 'LoanId': 15, 'CosineSimilarity': 0.861866123093482},\n",
       " {'userID': 1, 'LoanId': 2, 'CosineSimilarity': 0.8602333329627471},\n",
       " {'userID': 1, 'LoanId': 6, 'CosineSimilarity': 0.8597760996643419},\n",
       " {'userID': 1, 'LoanId': 24, 'CosineSimilarity': 0.8565389389188246},\n",
       " {'userID': 1, 'LoanId': 30, 'CosineSimilarity': 0.8563701742208709},\n",
       " {'userID': 1, 'LoanId': 18, 'CosineSimilarity': 0.8562518067254814},\n",
       " {'userID': 1, 'LoanId': 10, 'CosineSimilarity': 0.8559761999510244},\n",
       " {'userID': 1, 'LoanId': 25, 'CosineSimilarity': 0.8559426070513202},\n",
       " {'userID': 1, 'LoanId': 8, 'CosineSimilarity': 0.8526050431647799},\n",
       " {'userID': 1, 'LoanId': 17, 'CosineSimilarity': 0.8520061573750434},\n",
       " {'userID': 1, 'LoanId': 23, 'CosineSimilarity': 0.8462063100707518},\n",
       " {'userID': 1, 'LoanId': 11, 'CosineSimilarity': 0.8460552238632738},\n",
       " {'userID': 1, 'LoanId': 32, 'CosineSimilarity': 0.8406934744375205},\n",
       " {'userID': 1, 'LoanId': 3, 'CosineSimilarity': 0.8403964792786619},\n",
       " {'userID': 1, 'LoanId': 12, 'CosineSimilarity': 0.8374165078811081},\n",
       " {'userID': 1, 'LoanId': 35, 'CosineSimilarity': 0.8343408877225365},\n",
       " {'userID': 1, 'LoanId': 5, 'CosineSimilarity': 0.8328590161603863},\n",
       " {'userID': 1, 'LoanId': 13, 'CosineSimilarity': 0.8288677012464021},\n",
       " {'userID': 1, 'LoanId': 20, 'CosineSimilarity': 0.8254954981819339},\n",
       " {'userID': 1, 'LoanId': 38, 'CosineSimilarity': 0.8248088778330246},\n",
       " {'userID': 1, 'LoanId': 7, 'CosineSimilarity': 0.8235377102910777},\n",
       " {'userID': 1, 'LoanId': 9, 'CosineSimilarity': 0.8203582602372458},\n",
       " {'userID': 1, 'LoanId': 26, 'CosineSimilarity': 0.8169328603164456},\n",
       " {'userID': 1, 'LoanId': 1, 'CosineSimilarity': 0.8143035069669178},\n",
       " {'userID': 1, 'LoanId': 37, 'CosineSimilarity': 0.7954905879596277},\n",
       " {'userID': 1, 'LoanId': 31, 'CosineSimilarity': 0.7684174330844812},\n",
       " {'userID': 1, 'LoanId': 36, 'CosineSimilarity': 0.743089781640511},\n",
       " {'userID': 1, 'LoanId': 29, 'CosineSimilarity': 0.6657109318953724},\n",
       " {'userID': 1, 'LoanId': 34, 'CosineSimilarity': 0.6328298437428866},\n",
       " {'userID': 1, 'LoanId': 33, 'CosineSimilarity': 0.6282116439968958},\n",
       " {'userID': 1, 'LoanId': 28, 'CosineSimilarity': 0.5695227649964699}]"
      ]
     },
     "execution_count": 79,
     "metadata": {},
     "output_type": "execute_result"
    }
   ],
   "source": [
    "sorted_Cosine_list = sorted(TopCosineLoanforuser10, key=operator.itemgetter('CosineSimilarity'),reverse=True)\n",
    "sorted_Cosine_list"
   ]
  },
  {
   "cell_type": "markdown",
   "id": "e7acbc72-5db5-4367-9c4b-419f10a4f273",
   "metadata": {
    "id": "e7acbc72-5db5-4367-9c4b-419f10a4f273"
   },
   "source": [
    "### Cosine Similarity of all users with all loans"
   ]
  },
  {
   "cell_type": "code",
   "execution_count": 80,
   "id": "UVPowXhyAjkj",
   "metadata": {
    "id": "UVPowXhyAjkj"
   },
   "outputs": [],
   "source": [
    "# Collect all user factors into a dictionary\n",
    "user_factors_dict = userFactors.select(\"id\", \"features\").rdd.collectAsMap()\n",
    "\n",
    "# Broadcast the user factors dictionary to all workers\n",
    "broadcast_user_factors = spark.sparkContext.broadcast(user_factors_dict)\n",
    "\n",
    "# Collect all item factors into a dictionary\n",
    "item_factors_dict = itemFactors.select(\"id\", \"features\").rdd.collectAsMap()\n",
    "\n",
    "# Broadcast the item factors dictionary to all workers\n",
    "broadcast_item_factors = spark.sparkContext.broadcast(item_factors_dict)"
   ]
  },
  {
   "cell_type": "code",
   "execution_count": 82,
   "id": "wP3GLSUnAzMK",
   "metadata": {
    "id": "wP3GLSUnAzMK"
   },
   "outputs": [],
   "source": [
    "# Initially the code is like this !!\n",
    "def cosine_similarity(u1, u2):\n",
    "    \"\"\"Calculates cosine similarity between two user group factors.\"\"\"\n",
    "    # Convert lists to DenseVectors before performing operations\n",
    "    u1_vector = Vectors.dense(u1)\n",
    "    u2_vector = Vectors.dense(u2)\n",
    "    return u1_vector.dot(u2_vector) / (u1_vector.norm(p=2) * u2_vector.norm(p=2))"
   ]
  },
  {
   "cell_type": "markdown",
   "id": "dncZNvKBBSYS",
   "metadata": {
    "id": "dncZNvKBBSYS"
   },
   "source": [
    "def cosine_similarity(vec1, vec2):\n",
    "    dot_product = sum(v1 * v2 for v1, v2 in zip(vec1, vec2))\n",
    "    magnitude1 = sum(v ** 2 for v in vec1) ** 0.5\n",
    "    magnitude2 = sum(v ** 2 for v in vec2) ** 0.5\n",
    "    return dot_product / (magnitude1 * magnitude2)"
   ]
  },
  {
   "cell_type": "code",
   "execution_count": 83,
   "id": "yDlpr92SAjry",
   "metadata": {
    "colab": {
     "base_uri": "https://localhost:8080/"
    },
    "id": "yDlpr92SAjry",
    "outputId": "0a829487-1631-40be-84ca-0b05a845477e"
   },
   "outputs": [
    {
     "name": "stdout",
     "output_type": "stream",
     "text": [
      "The time taken to run code for 8 users is : 3.108706739213732e-05 hours\n"
     ]
    }
   ],
   "source": [
    "\n",
    "\n",
    "# Initialize list to store recommendations\n",
    "CosineSilty_first10 = []\n",
    "starttime = time.time()\n",
    "Nusers = userFactors.select(\"id\").count()\n",
    "\n",
    "# Iterate over users\n",
    "for userId in range(1, Nusers):\n",
    "    user_factors = broadcast_user_factors.value.get(userId)\n",
    "    if user_factors:\n",
    "        TopCosineLoanforuser10 = []\n",
    "        # Iterate over items\n",
    "        for item_id, item_factors in broadcast_item_factors.value.items():\n",
    "            user_item_similarity = cosine_similarity(user_factors, item_factors)\n",
    "            TopCosineLoanforuser10.append({item_id: user_item_similarity})\n",
    "\n",
    "        # Sort recommendations based on similarity\n",
    "        Recomnd_loans = sorted(TopCosineLoanforuser10, key=lambda x: list(x.values())[0], reverse=True)\n",
    "        CosineSilty_first10.append({\"UserId\": userId, \"Recommendation\": Recomnd_loans})\n",
    "\n",
    "endtime = time.time()\n",
    "runtime_hours = (endtime - starttime) / 3600\n",
    "print(f\"The time taken to run code for {Nusers} users is : {runtime_hours} hours\")"
   ]
  },
  {
   "cell_type": "code",
   "execution_count": null,
   "id": "uVUjN4bdAjyC",
   "metadata": {
    "colab": {
     "base_uri": "https://localhost:8080/"
    },
    "id": "uVUjN4bdAjyC",
    "outputId": "e14c7dbe-e643-4568-c857-ffe2b9b9eb83",
    "scrolled": true
   },
   "outputs": [],
   "source": []
  },
  {
   "cell_type": "code",
   "execution_count": 84,
   "id": "f7acc075-cb60-44d4-a35d-30fe68d886ce",
   "metadata": {
    "id": "f7acc075-cb60-44d4-a35d-30fe68d886ce"
   },
   "outputs": [],
   "source": [
    "# Define a function to extract top-N recommendations\n",
    "def extract_top_n_recommendations(recommendations_data, n=2500):\n",
    "    top_n_recommendations = [{'userId': user_recommendation['UserId'],\n",
    "                              'Recommendation': [list(rec.keys())[0] for rec in user_recommendation['Recommendation'][:n]]}\n",
    "                             for user_recommendation in recommendations_data]\n",
    "    return top_n_recommendations\n",
    "\n",
    "# Extract top-N recommendations\n",
    "starttime = time.time()\n",
    "top_n_recommendations = extract_top_n_recommendations(CosineSilty_first10, n=5)\n",
    "endtime = time.time()\n",
    "runtime_hours = (endtime - starttime) / 3600\n"
   ]
  },
  {
   "cell_type": "code",
   "execution_count": 85,
   "id": "fee9c5a0-7468-4707-944a-79fa4945a68d",
   "metadata": {
    "colab": {
     "base_uri": "https://localhost:8080/"
    },
    "id": "fee9c5a0-7468-4707-944a-79fa4945a68d",
    "outputId": "9358dca2-e67b-4916-8c28-31717c65202c",
    "scrolled": true
   },
   "outputs": [
    {
     "data": {
      "text/plain": [
       "[{'userId': 1, 'Recommendation': [19, 21, 27, 4, 22]},\n",
       " {'userId': 2, 'Recommendation': [38, 32, 36, 34, 35]},\n",
       " {'userId': 3, 'Recommendation': [28, 29, 36, 26, 22]},\n",
       " {'userId': 4, 'Recommendation': [10, 14, 26, 17, 24]},\n",
       " {'userId': 5, 'Recommendation': [34, 33, 9, 38, 7]},\n",
       " {'userId': 6, 'Recommendation': [26, 35, 9, 30, 10]},\n",
       " {'userId': 7, 'Recommendation': [37, 23, 18, 29, 27]}]"
      ]
     },
     "execution_count": 85,
     "metadata": {},
     "output_type": "execute_result"
    }
   ],
   "source": [
    "top_n_recommendations"
   ]
  },
  {
   "cell_type": "code",
   "execution_count": 86,
   "id": "9865826d-f3c1-46ba-8c55-5a6fa58bcf70",
   "metadata": {
    "id": "9865826d-f3c1-46ba-8c55-5a6fa58bcf70"
   },
   "outputs": [],
   "source": [
    "# Function to recommend top N loans not taken by the user\n",
    "def recommend_loans_not_taken(user_id, recommendations, actual_loans_taken, top_n):\n",
    "    taken_loans = set(actual_loans_taken.get(user_id, []))\n",
    "    recommended_loans = []\n",
    "    for rec in recommendations:\n",
    "        loan_id = list(rec.keys())[0]\n",
    "        if loan_id not in taken_loans:\n",
    "            recommended_loans.append(loan_id)\n",
    "            if len(recommended_loans) == top_n:\n",
    "                break\n",
    "    return recommended_loans\n",
    "\n",
    "# Define a dictionary to store actual loans taken by each user\n",
    "actual_loans_taken_dict = {record['userId']: record['loans'] for record in Actual_loans_taken}\n",
    "\n",
    "# Create a list to store recommendations for each user\n",
    "recommendations_for_users = []\n",
    "\n",
    "# Iterate over each user\n",
    "for rec_user in CosineSilty_first10:\n",
    "    user_id = rec_user['UserId']\n",
    "    recommendations = rec_user['Recommendation']\n",
    "    # Recommend top N loans not taken by the user\n",
    "    recommended_loans = recommend_loans_not_taken(user_id, recommendations, actual_loans_taken_dict, top_n=5)\n",
    "    recommendations_for_users.append({'UserId': user_id, 'Recommendations': recommended_loans})\n",
    "\n"
   ]
  },
  {
   "cell_type": "code",
   "execution_count": 87,
   "id": "94ef57ea-b190-4779-90ab-175cf477433d",
   "metadata": {
    "scrolled": true
   },
   "outputs": [
    {
     "data": {
      "text/plain": [
       "[{'UserId': 1, 'Recommendations': [19, 27, 4, 22, 2]},\n",
       " {'UserId': 2, 'Recommendations': [38, 32, 36, 34, 35]},\n",
       " {'UserId': 3, 'Recommendations': [28, 29, 36, 26, 22]},\n",
       " {'UserId': 4, 'Recommendations': [10, 14, 26, 17, 24]},\n",
       " {'UserId': 5, 'Recommendations': [34, 33, 9, 38, 7]},\n",
       " {'UserId': 6, 'Recommendations': [26, 35, 9, 30, 10]},\n",
       " {'UserId': 7, 'Recommendations': [37, 23, 18, 29, 27]}]"
      ]
     },
     "execution_count": 87,
     "metadata": {},
     "output_type": "execute_result"
    }
   ],
   "source": [
    "recommendations_for_users"
   ]
  },
  {
   "cell_type": "code",
   "execution_count": 89,
   "id": "35b6bede-3c68-4394-9550-dae525a35ccb",
   "metadata": {},
   "outputs": [
    {
     "name": "stdout",
     "output_type": "stream",
     "text": [
      "+---------------+--------------------+-------------------------------------------------------+\n",
      "|usergroupCreate|Cluster_result      |rating                                                 |\n",
      "+---------------+--------------------+-------------------------------------------------------+\n",
      "|1              |[37, 38, 23, 19, 15]|[2.09591, 1.9629982, 1.9424946, 1.9259887, 1.9165204]  |\n",
      "|2              |[34, 33, 38, 28, 36]|[2.308336, 2.2677622, 2.0962982, 2.0527663, 2.0213308] |\n",
      "|3              |[28, 29, 33, 36, 34]|[2.9547825, 2.027616, 1.9847913, 1.9625924, 1.8524644] |\n",
      "|4              |[33, 37, 28, 36, 23]|[2.3961504, 2.2683902, 2.1664627, 2.1403346, 2.0904214]|\n",
      "|5              |[34, 33, 38, 9, 29] |[2.4857097, 2.2139468, 1.9051964, 1.8546066, 1.8474553]|\n",
      "|6              |[26, 37, 35, 34, 9] |[2.213233, 2.1475747, 2.1098497, 1.9940197, 1.9702077] |\n",
      "|7              |[37, 28, 33, 23, 29]|[3.451158, 2.6375997, 2.3643117, 2.2874115, 2.1118584] |\n",
      "|8              |[37, 34, 36, 31, 38]|[2.3919487, 2.323258, 2.2765365, 1.9652691, 1.9454465] |\n",
      "+---------------+--------------------+-------------------------------------------------------+\n",
      "\n"
     ]
    }
   ],
   "source": [
    "userRecommends.select([\"usergroupCreate\",\"recommendations.Cluster_result\",\"recommendations.rating\"]).show(10,truncate=False)"
   ]
  },
  {
   "cell_type": "code",
   "execution_count": 90,
   "id": "c18fbd4d-e921-46b5-9aeb-431659a4d3fd",
   "metadata": {},
   "outputs": [],
   "source": [
    "actual = [listo for listo in actual_loans_taken_dict.values()]"
   ]
  },
  {
   "cell_type": "code",
   "execution_count": 91,
   "id": "2b488d0d-bb53-4e89-9b5e-ec73b5581f30",
   "metadata": {},
   "outputs": [],
   "source": [
    "predicted = [listo['Recommendation'] for listo in top_n_recommendations]"
   ]
  },
  {
   "cell_type": "code",
   "execution_count": 92,
   "id": "27a4c8a0-2e1e-42ce-a8a6-26d968029238",
   "metadata": {},
   "outputs": [],
   "source": [
    "def average_precision_at_k(actual, predicted, k):\n",
    "    # Initialize variables\n",
    "    num_hits = 0\n",
    "    precision_at_k = 0.0\n",
    "\n",
    "    # Iterate over the predicted list up to k\n",
    "    for i, p in enumerate(predicted[:k]):\n",
    "        # Check if the predicted item at position i is in the actual list\n",
    "        if p in actual:\n",
    "            num_hits += 1\n",
    "            # Calculate precision at position i\n",
    "            precision_at_k += num_hits / (i + 1)\n",
    "\n",
    "    # Calculate average precision at k\n",
    "    if not actual:\n",
    "        return 0.0\n",
    "    else:\n",
    "        return precision_at_k / min(len(actual), k)\n",
    "\n",
    "def map_at_k(actual, predicted, k):\n",
    "    # Calculate average precision at k for each query or user\n",
    "    average_precisions = [average_precision_at_k(a, p, k) for a, p in zip(actual, predicted)]\n",
    "    \n",
    "    # Return the mean of average precision at k values\n",
    "    return sum(average_precisions) / len(average_precisions)"
   ]
  },
  {
   "cell_type": "code",
   "execution_count": 94,
   "id": "3ef73b1f-3a48-4199-9e96-0e9baa294c8b",
   "metadata": {},
   "outputs": [
    {
     "name": "stdout",
     "output_type": "stream",
     "text": [
      "MAP@5: 0.0286\n"
     ]
    }
   ],
   "source": [
    "\n",
    "k = 5\n",
    "map_at_5 = map_at_k(actual, predicted, k)\n",
    "print(\"MAP@{}: {:.4f}\".format(k, map_at_5))"
   ]
  },
  {
   "cell_type": "code",
   "execution_count": 96,
   "id": "d4e2ce6d-25b7-4cfc-9b70-77b743902200",
   "metadata": {},
   "outputs": [
    {
     "name": "stdout",
     "output_type": "stream",
     "text": [
      "MAP@3: 0.0238\n"
     ]
    }
   ],
   "source": [
    "k = 3\n",
    "map_at_3 = map_at_k(actual, predicted, k)\n",
    "print(\"MAP@{}: {:.4f}\".format(k, map_at_3))"
   ]
  },
  {
   "cell_type": "code",
   "execution_count": 97,
   "id": "a57a1ecb-d2e1-4a5c-a3a7-252abff9658c",
   "metadata": {},
   "outputs": [],
   "source": [
    "userRecomd = userRecommends.select(\"recommendations.Cluster_result\").collect() #.show(10,truncate=False)"
   ]
  },
  {
   "cell_type": "code",
   "execution_count": 98,
   "id": "d46c9ee8-9968-4d0c-985e-1a76e4f1fbad",
   "metadata": {},
   "outputs": [],
   "source": [
    "ALsRecomd = [elemt.asDict()['Cluster_result'] for elemt in userRecomd]"
   ]
  },
  {
   "cell_type": "code",
   "execution_count": 99,
   "id": "c7382062-b088-4fb3-b76c-c17b8381da5a",
   "metadata": {},
   "outputs": [
    {
     "name": "stdout",
     "output_type": "stream",
     "text": [
      "MAP@5: 0.0050\n"
     ]
    }
   ],
   "source": [
    "\n",
    "k = 5\n",
    "map_at_5 = map_at_k(actual, ALsRecomd, k)\n",
    "print(\"MAP@{}: {:.4f}\".format(k, map_at_5))"
   ]
  },
  {
   "cell_type": "code",
   "execution_count": null,
   "id": "e7cdbb10-4a42-42b5-9455-a2123c0f8eff",
   "metadata": {},
   "outputs": [],
   "source": []
  },
  {
   "cell_type": "code",
   "execution_count": null,
   "id": "c6e81957-5424-4d26-b705-46f7168ff355",
   "metadata": {},
   "outputs": [],
   "source": []
  },
  {
   "cell_type": "code",
   "execution_count": null,
   "id": "654ad84a-e18c-4510-8c06-af7d55434e63",
   "metadata": {},
   "outputs": [],
   "source": []
  },
  {
   "cell_type": "code",
   "execution_count": null,
   "id": "628f205b-3613-4abb-9310-bd45e1e03357",
   "metadata": {},
   "outputs": [],
   "source": []
  },
  {
   "cell_type": "markdown",
   "id": "f37aa796-bc53-4cfd-a06f-7d7cf4c50d5c",
   "metadata": {
    "id": "f37aa796-bc53-4cfd-a06f-7d7cf4c50d5c"
   },
   "source": [
    "##  Calculate centered cosine similarity:"
   ]
  },
  {
   "cell_type": "code",
   "execution_count": 67,
   "id": "276d4b2a-9d94-40cb-a7f1-2aeb64938ffc",
   "metadata": {
    "id": "276d4b2a-9d94-40cb-a7f1-2aeb64938ffc"
   },
   "outputs": [],
   "source": [
    "def centered_cosine_similarity(u, v):\n",
    "    \"\"\" Calculate centered cosine similarity between two vectors u and v. \"\"\"\n",
    "    # Calculate mean of u and v\n",
    "    mean_u = sum(u) / len(u)\n",
    "    mean_v = sum(v) / len(v)\n",
    "\n",
    "    # Subtract mean from u and v\n",
    "    centered_u = Vectors.dense([x - mean_u for x in u])\n",
    "    centered_v = Vectors.dense([x - mean_v for x in v])\n",
    "\n",
    "    # Calculate centered cosine similarity\n",
    "    dot_product = float(centered_u.dot(centered_v))\n",
    "    norm_u = float(centered_u.norm(2))\n",
    "    norm_v = float(centered_v.norm(2))\n",
    "\n",
    "    centered_sim = dot_product / (norm_u * norm_v)\n",
    "    return centered_sim\n"
   ]
  },
  {
   "cell_type": "markdown",
   "id": "19afff63-8654-410f-b0e1-3579c0dbaf90",
   "metadata": {
    "id": "19afff63-8654-410f-b0e1-3579c0dbaf90"
   },
   "source": [
    "### User-User Centerd Cosine Similarity code"
   ]
  },
  {
   "cell_type": "code",
   "execution_count": 68,
   "id": "a32fbefc-c5b8-4cd0-be5e-8caf9a7a43c5",
   "metadata": {
    "colab": {
     "base_uri": "https://localhost:8080/"
    },
    "id": "a32fbefc-c5b8-4cd0-be5e-8caf9a7a43c5",
    "outputId": "641b5329-1f9f-482e-ec3e-ee687aca0934"
   },
   "outputs": [
    {
     "name": "stdout",
     "output_type": "stream",
     "text": [
      "Centered Cosine similarity between users 10 and 20: 0.9958091259308894\n"
     ]
    }
   ],
   "source": [
    "# Example usage\n",
    "user1_id = 10\n",
    "user2_id = 20\n",
    "user1_factors = userFactors.filter(userFactors.id == user1_id ).collect()[0][1]\n",
    "user2_factors = userFactors.filter(userFactors.id == user2_id ).collect()[0][1]\n",
    "similarity = centered_cosine_similarity(user1_factors, user2_factors)\n",
    "print(f\"Centered Cosine similarity between users {user1_id} and {user2_id}: {similarity}\")\n"
   ]
  },
  {
   "cell_type": "markdown",
   "id": "af032ead-97f1-49fb-b084-2e49794a33d6",
   "metadata": {
    "id": "af032ead-97f1-49fb-b084-2e49794a33d6"
   },
   "source": [
    "### User-Item Centerd Cosine Similarity code"
   ]
  },
  {
   "cell_type": "code",
   "execution_count": 69,
   "id": "44d9be35-49c5-4127-9c43-75fb2c98cbe7",
   "metadata": {
    "colab": {
     "base_uri": "https://localhost:8080/"
    },
    "id": "44d9be35-49c5-4127-9c43-75fb2c98cbe7",
    "outputId": "0b836551-00b9-4c11-9b1e-6c48494a5a6f"
   },
   "outputs": [
    {
     "name": "stdout",
     "output_type": "stream",
     "text": [
      "Centered Cosine similarity between users 10 and Item 1: 0.9846653141373279\n"
     ]
    }
   ],
   "source": [
    "# Example usage\n",
    "user1_id = 10\n",
    "item_id = 1\n",
    "user2_factors = userFactors.filter(userFactors.id == user1_id ).collect()[0][1]\n",
    "item3_factors = itemFactors.filter(itemFactors.id == item_id ).collect()[0][1]\n",
    "\n",
    "user_item_similarity = centered_cosine_similarity(user2_factors, item3_factors)\n",
    "print(f\"Centered Cosine similarity between users {user1_id} and Item {item_id}: {user_item_similarity}\")\n"
   ]
  },
  {
   "cell_type": "markdown",
   "id": "371d1ad2-6233-42fa-9162-faa06c8809d2",
   "metadata": {
    "id": "371d1ad2-6233-42fa-9162-faa06c8809d2"
   },
   "source": [
    "### Centered Cosine Similarity of user 10 with all Loans"
   ]
  },
  {
   "cell_type": "code",
   "execution_count": 70,
   "id": "45b22d6b-9553-4b4f-a3b5-80751b15a360",
   "metadata": {
    "id": "45b22d6b-9553-4b4f-a3b5-80751b15a360"
   },
   "outputs": [],
   "source": [
    "topNLoanforuser10 = []\n",
    "for item in range(itemFactors.count()):\n",
    "    item_id = itemFactors.select(\"Id\").sort(\"Id\").take(itemFactors.count())[item][0]\n",
    "    user1_id = 10\n",
    "    user_factors = userFactors.filter(userFactors.id == user1_id ).collect()[0][1]\n",
    "    item_factors = itemFactors.filter(itemFactors.id == item_id ).collect()[0][1]\n",
    "\n",
    "\n",
    "    user_item_similarity = centered_cosine_similarity(user_factors, item_factors)\n",
    "    topNLoanforuser10.append({\"userID\":user1_id,\"LoanId\":item_id,\"CenteredSimilarity\":user_item_similarity})"
   ]
  },
  {
   "cell_type": "code",
   "execution_count": null,
   "id": "e34d3003-bf4b-464c-8da7-b34a75136698",
   "metadata": {
    "id": "e34d3003-bf4b-464c-8da7-b34a75136698"
   },
   "outputs": [],
   "source": []
  },
  {
   "cell_type": "code",
   "execution_count": 71,
   "id": "43fcd076-13d2-4667-b7ad-ffd8dc9ae04d",
   "metadata": {
    "colab": {
     "base_uri": "https://localhost:8080/"
    },
    "id": "43fcd076-13d2-4667-b7ad-ffd8dc9ae04d",
    "outputId": "ce4150cd-d676-47a9-eab9-144a306f6190"
   },
   "outputs": [
    {
     "data": {
      "text/plain": [
       "[{'userID': 10, 'LoanId': 3, 'CenteredSimilarity': 0.9999751517477451},\n",
       " {'userID': 10, 'LoanId': 4, 'CenteredSimilarity': 0.9996252399081585},\n",
       " {'userID': 10, 'LoanId': 5, 'CenteredSimilarity': 0.9993524436452954},\n",
       " {'userID': 10, 'LoanId': 2, 'CenteredSimilarity': 0.9993435123150312},\n",
       " {'userID': 10, 'LoanId': 7, 'CenteredSimilarity': 0.9968689838562832},\n",
       " {'userID': 10, 'LoanId': 6, 'CenteredSimilarity': 0.9961854650889006},\n",
       " {'userID': 10, 'LoanId': 8, 'CenteredSimilarity': 0.9958091262067013},\n",
       " {'userID': 10, 'LoanId': 9, 'CenteredSimilarity': 0.9921921103738105},\n",
       " {'userID': 10, 'LoanId': 25, 'CenteredSimilarity': 0.9883251622950934},\n",
       " {'userID': 10, 'LoanId': 11, 'CenteredSimilarity': 0.9872106949357707},\n",
       " {'userID': 10, 'LoanId': 10, 'CenteredSimilarity': 0.9860440617410834},\n",
       " {'userID': 10, 'LoanId': 12, 'CenteredSimilarity': 0.9850307062957183},\n",
       " {'userID': 10, 'LoanId': 1, 'CenteredSimilarity': 0.9846653141373279},\n",
       " {'userID': 10, 'LoanId': 14, 'CenteredSimilarity': 0.981785449369162},\n",
       " {'userID': 10, 'LoanId': 13, 'CenteredSimilarity': 0.9817486250975127},\n",
       " {'userID': 10, 'LoanId': 16, 'CenteredSimilarity': 0.9804982641545484},\n",
       " {'userID': 10, 'LoanId': 15, 'CenteredSimilarity': 0.9796448028997394},\n",
       " {'userID': 10, 'LoanId': 17, 'CenteredSimilarity': 0.977077954579145},\n",
       " {'userID': 10, 'LoanId': 18, 'CenteredSimilarity': 0.9729256410405002},\n",
       " {'userID': 10, 'LoanId': 20, 'CenteredSimilarity': 0.9726260460202927},\n",
       " {'userID': 10, 'LoanId': 19, 'CenteredSimilarity': 0.9692600526908777},\n",
       " {'userID': 10, 'LoanId': 21, 'CenteredSimilarity': 0.9631191535674976},\n",
       " {'userID': 10, 'LoanId': 22, 'CenteredSimilarity': 0.9587758486494766},\n",
       " {'userID': 10, 'LoanId': 28, 'CenteredSimilarity': 0.9494055211793287},\n",
       " {'userID': 10, 'LoanId': 26, 'CenteredSimilarity': 0.9488803847996157},\n",
       " {'userID': 10, 'LoanId': 29, 'CenteredSimilarity': 0.9425383949676939},\n",
       " {'userID': 10, 'LoanId': 23, 'CenteredSimilarity': 0.9424014815755941},\n",
       " {'userID': 10, 'LoanId': 31, 'CenteredSimilarity': 0.9389234349974206},\n",
       " {'userID': 10, 'LoanId': 33, 'CenteredSimilarity': 0.9379017606460857},\n",
       " {'userID': 10, 'LoanId': 27, 'CenteredSimilarity': 0.9365658273070815},\n",
       " {'userID': 10, 'LoanId': 30, 'CenteredSimilarity': 0.9298412889891267},\n",
       " {'userID': 10, 'LoanId': 24, 'CenteredSimilarity': 0.9223730896878614},\n",
       " {'userID': 10, 'LoanId': 36, 'CenteredSimilarity': 0.9167024415853037},\n",
       " {'userID': 10, 'LoanId': 32, 'CenteredSimilarity': 0.9134915043581621},\n",
       " {'userID': 10, 'LoanId': 35, 'CenteredSimilarity': 0.9028532010178227},\n",
       " {'userID': 10, 'LoanId': 34, 'CenteredSimilarity': 0.8950783567139174},\n",
       " {'userID': 10, 'LoanId': 37, 'CenteredSimilarity': 0.8905033474737468},\n",
       " {'userID': 10, 'LoanId': 38, 'CenteredSimilarity': 0.8825736654083336}]"
      ]
     },
     "execution_count": 71,
     "metadata": {},
     "output_type": "execute_result"
    }
   ],
   "source": [
    "sorted_list = sorted(topNLoanforuser10, key=operator.itemgetter('CenteredSimilarity'),reverse=True)\n",
    "sorted_list"
   ]
  },
  {
   "cell_type": "code",
   "execution_count": 72,
   "id": "4208959e-85a9-4a9c-a0cb-be5b661f121a",
   "metadata": {
    "colab": {
     "base_uri": "https://localhost:8080/"
    },
    "id": "4208959e-85a9-4a9c-a0cb-be5b661f121a",
    "outputId": "24d6b2a5-11ae-4519-b003-483a5753b1b6"
   },
   "outputs": [
    {
     "data": {
      "text/plain": [
       "[{'userID': 10, 'LoanId': 1, 'CenteredSimilarity': 0.9846653141373279},\n",
       " {'userID': 10, 'LoanId': 2, 'CenteredSimilarity': 0.9993435123150312},\n",
       " {'userID': 10, 'LoanId': 3, 'CenteredSimilarity': 0.9999751517477451},\n",
       " {'userID': 10, 'LoanId': 4, 'CenteredSimilarity': 0.9996252399081585},\n",
       " {'userID': 10, 'LoanId': 5, 'CenteredSimilarity': 0.9993524436452954},\n",
       " {'userID': 10, 'LoanId': 6, 'CenteredSimilarity': 0.9961854650889006},\n",
       " {'userID': 10, 'LoanId': 7, 'CenteredSimilarity': 0.9968689838562832},\n",
       " {'userID': 10, 'LoanId': 8, 'CenteredSimilarity': 0.9958091262067013},\n",
       " {'userID': 10, 'LoanId': 9, 'CenteredSimilarity': 0.9921921103738105},\n",
       " {'userID': 10, 'LoanId': 10, 'CenteredSimilarity': 0.9860440617410834},\n",
       " {'userID': 10, 'LoanId': 11, 'CenteredSimilarity': 0.9872106949357707},\n",
       " {'userID': 10, 'LoanId': 12, 'CenteredSimilarity': 0.9850307062957183},\n",
       " {'userID': 10, 'LoanId': 13, 'CenteredSimilarity': 0.9817486250975127},\n",
       " {'userID': 10, 'LoanId': 14, 'CenteredSimilarity': 0.981785449369162},\n",
       " {'userID': 10, 'LoanId': 15, 'CenteredSimilarity': 0.9796448028997394},\n",
       " {'userID': 10, 'LoanId': 16, 'CenteredSimilarity': 0.9804982641545484},\n",
       " {'userID': 10, 'LoanId': 17, 'CenteredSimilarity': 0.977077954579145},\n",
       " {'userID': 10, 'LoanId': 18, 'CenteredSimilarity': 0.9729256410405002},\n",
       " {'userID': 10, 'LoanId': 19, 'CenteredSimilarity': 0.9692600526908777},\n",
       " {'userID': 10, 'LoanId': 20, 'CenteredSimilarity': 0.9726260460202927},\n",
       " {'userID': 10, 'LoanId': 21, 'CenteredSimilarity': 0.9631191535674976},\n",
       " {'userID': 10, 'LoanId': 22, 'CenteredSimilarity': 0.9587758486494766},\n",
       " {'userID': 10, 'LoanId': 23, 'CenteredSimilarity': 0.9424014815755941},\n",
       " {'userID': 10, 'LoanId': 24, 'CenteredSimilarity': 0.9223730896878614},\n",
       " {'userID': 10, 'LoanId': 25, 'CenteredSimilarity': 0.9883251622950934},\n",
       " {'userID': 10, 'LoanId': 26, 'CenteredSimilarity': 0.9488803847996157},\n",
       " {'userID': 10, 'LoanId': 27, 'CenteredSimilarity': 0.9365658273070815},\n",
       " {'userID': 10, 'LoanId': 28, 'CenteredSimilarity': 0.9494055211793287},\n",
       " {'userID': 10, 'LoanId': 29, 'CenteredSimilarity': 0.9425383949676939},\n",
       " {'userID': 10, 'LoanId': 30, 'CenteredSimilarity': 0.9298412889891267},\n",
       " {'userID': 10, 'LoanId': 31, 'CenteredSimilarity': 0.9389234349974206},\n",
       " {'userID': 10, 'LoanId': 32, 'CenteredSimilarity': 0.9134915043581621},\n",
       " {'userID': 10, 'LoanId': 33, 'CenteredSimilarity': 0.9379017606460857},\n",
       " {'userID': 10, 'LoanId': 34, 'CenteredSimilarity': 0.8950783567139174},\n",
       " {'userID': 10, 'LoanId': 35, 'CenteredSimilarity': 0.9028532010178227},\n",
       " {'userID': 10, 'LoanId': 36, 'CenteredSimilarity': 0.9167024415853037},\n",
       " {'userID': 10, 'LoanId': 37, 'CenteredSimilarity': 0.8905033474737468},\n",
       " {'userID': 10, 'LoanId': 38, 'CenteredSimilarity': 0.8825736654083336}]"
      ]
     },
     "execution_count": 72,
     "metadata": {},
     "output_type": "execute_result"
    }
   ],
   "source": [
    "sorted(topNLoanforuser10, key=operator.itemgetter('LoanId') )"
   ]
  },
  {
   "cell_type": "markdown",
   "id": "f81c7feb-5cde-439c-95c1-58ceba8c153f",
   "metadata": {
    "id": "bda9c1f5-25a0-42a2-acd6-073eb86e466f"
   },
   "source": [
    "## Cosine Similarity of all users with all loans"
   ]
  },
  {
   "cell_type": "code",
   "execution_count": 73,
   "id": "339cd31c-5804-4f05-a949-2de67919deff",
   "metadata": {
    "id": "339cd31c-5804-4f05-a949-2de67919deff"
   },
   "outputs": [],
   "source": [
    "# Collect all user factors into a dictionary\n",
    "user_factors_dict = userFactors.select(\"id\", \"features\").rdd.collectAsMap()\n",
    "\n",
    "# Broadcast the user factors dictionary to all workers\n",
    "broadcast_user_factors = spark.sparkContext.broadcast(user_factors_dict)\n",
    "\n",
    "# Collect all item factors into a dictionary\n",
    "item_factors_dict = itemFactors.select(\"id\", \"features\").rdd.collectAsMap()\n",
    "\n",
    "# Broadcast the item factors dictionary to all workers\n",
    "broadcast_item_factors = spark.sparkContext.broadcast(item_factors_dict)"
   ]
  },
  {
   "cell_type": "code",
   "execution_count": 74,
   "id": "682d6dff-efa2-4ce4-8626-1561af385d48",
   "metadata": {},
   "outputs": [],
   "source": [
    "def centered_cosine_similarity(u, v):\n",
    "    \"\"\" Calculate centered cosine similarity between two vectors u and v. \"\"\"\n",
    "    # Calculate mean of u and v\n",
    "    mean_u = sum(u) / len(u)\n",
    "    mean_v = sum(v) / len(v)\n",
    "\n",
    "    # Subtract mean from u and v\n",
    "    centered_u = Vectors.dense([x - mean_u for x in u])\n",
    "    centered_v = Vectors.dense([x - mean_v for x in v])\n",
    "\n",
    "    # Calculate centered cosine similarity\n",
    "    dot_product = float(centered_u.dot(centered_v))\n",
    "    norm_u = float(centered_u.norm(2))\n",
    "    norm_v = float(centered_v.norm(2))\n",
    "\n",
    "    centered_sim = dot_product / (norm_u * norm_v)\n",
    "    return centered_sim"
   ]
  },
  {
   "cell_type": "code",
   "execution_count": 75,
   "id": "3d642ef8-ec11-4194-a4f7-1184fcd3e536",
   "metadata": {
    "id": "3d642ef8-ec11-4194-a4f7-1184fcd3e536"
   },
   "outputs": [
    {
     "name": "stdout",
     "output_type": "stream",
     "text": [
      "The time taken to run code for 25000 users is : 0.006168066263198852 hours\n"
     ]
    }
   ],
   "source": [
    "# Initialize list to store recommendations\n",
    "Centered_CosineSilty_first10 = []\n",
    "starttime = time.time()\n",
    "Nusers = 25000\n",
    "\n",
    "# Iterate over users\n",
    "for userId in range(1, Nusers):\n",
    "    user_factors = broadcast_user_factors.value.get(userId)\n",
    "    if user_factors:\n",
    "        TopCosineLoanforuser10 = []\n",
    "        # Iterate over items\n",
    "        for item_id, item_factors in broadcast_item_factors.value.items():\n",
    "            user_item_similarity = centered_cosine_similarity(user_factors, item_factors)\n",
    "            TopCosineLoanforuser10.append({item_id: user_item_similarity})\n",
    "\n",
    "        # Sort recommendations based on similarity\n",
    "        Recomnd_loans = sorted(TopCosineLoanforuser10, key=lambda x: list(x.values())[0], reverse=True)\n",
    "        Centered_CosineSilty_first10.append({\"UserId\": userId, \"Recommendation\": Recomnd_loans})\n",
    "\n",
    "endtime = time.time()\n",
    "runtime_hours = (endtime - starttime) / 3600\n",
    "print(f\"The time taken to run code for {Nusers} users is : {runtime_hours} hours\")"
   ]
  },
  {
   "cell_type": "code",
   "execution_count": null,
   "id": "4c06228d-a082-4a3b-9e3f-feee5a68cf8d",
   "metadata": {
    "id": "4c06228d-a082-4a3b-9e3f-feee5a68cf8d"
   },
   "outputs": [],
   "source": []
  },
  {
   "cell_type": "code",
   "execution_count": 76,
   "id": "ed0ef5dc-e915-4f8e-b865-b1746bf5f087",
   "metadata": {
    "id": "ed0ef5dc-e915-4f8e-b865-b1746bf5f087"
   },
   "outputs": [],
   "source": [
    "# Define a function to extract top-N recommendations\n",
    "def extract_top_n_recommendations(recommendations_data, n=2500):\n",
    "    top_n_recommendations = [{'userId': user_recommendation['UserId'],\n",
    "                              'Recommendation': [list(rec.keys())[0] for rec in user_recommendation['Recommendation'][:n]]}\n",
    "                             for user_recommendation in recommendations_data]\n",
    "    return top_n_recommendations\n",
    "\n",
    "# Extract top-N recommendations\n",
    "starttime = time.time()\n",
    "top_n_Centered_recommendations = extract_top_n_recommendations(Centered_CosineSilty_first10, n=5)\n",
    "endtime = time.time()\n",
    "runtime_hours = (endtime - starttime) / 3600\n"
   ]
  },
  {
   "cell_type": "code",
   "execution_count": null,
   "id": "c4547435-9941-4520-9b28-8ff839ae7ed3",
   "metadata": {
    "id": "c4547435-9941-4520-9b28-8ff839ae7ed3"
   },
   "outputs": [],
   "source": []
  },
  {
   "cell_type": "code",
   "execution_count": 77,
   "id": "d11d5c2c-3baf-4b7b-8ef9-de0f952243b8",
   "metadata": {
    "id": "d11d5c2c-3baf-4b7b-8ef9-de0f952243b8"
   },
   "outputs": [],
   "source": [
    "# Function to recommend top N loans not taken by the user\n",
    "def recommend_loans_not_taken(user_id, recommendations, actual_loans_taken, top_n):\n",
    "    taken_loans = set(actual_loans_taken.get(user_id, []))\n",
    "    recommended_loans = []\n",
    "    for rec in recommendations:\n",
    "        loan_id = list(rec.keys())[0]\n",
    "        if loan_id not in taken_loans:\n",
    "            recommended_loans.append(loan_id)\n",
    "            if len(recommended_loans) == top_n:\n",
    "                break\n",
    "    return recommended_loans\n",
    "\n",
    "# Define a dictionary to store actual loans taken by each user\n",
    "actual_loans_taken_dict = {record['userId']: record['loans'] for record in Actual_loans_taken}\n",
    "\n",
    "# Create a list to store recommendations for each user\n",
    "recommendations_for_users = []\n",
    "\n",
    "# Iterate over each user\n",
    "for rec_user in Centered_CosineSilty_first10:\n",
    "    user_id = rec_user['UserId']\n",
    "    recommendations = rec_user['Recommendation']\n",
    "    # Recommend top N loans not taken by the user\n",
    "    recommended_loans = recommend_loans_not_taken(user_id, recommendations, actual_loans_taken_dict, top_n=5)\n",
    "    recommendations_for_users.append({'UserId': user_id, 'Recommendations': recommended_loans})\n",
    "\n"
   ]
  },
  {
   "cell_type": "code",
   "execution_count": null,
   "id": "7c6af000-b911-435a-8696-9633218b5770",
   "metadata": {
    "id": "7c6af000-b911-435a-8696-9633218b5770"
   },
   "outputs": [],
   "source": []
  },
  {
   "cell_type": "code",
   "execution_count": 78,
   "id": "c68c5e5d-e5ac-4508-a423-3e330cb8f111",
   "metadata": {
    "id": "c68c5e5d-e5ac-4508-a423-3e330cb8f111"
   },
   "outputs": [],
   "source": [
    "def average_precision_at_k(actual, predicted, k):\n",
    "    # Initialize variables\n",
    "    num_hits = 0\n",
    "    precision_at_k = 0.0\n",
    "\n",
    "    # Iterate over the predicted list up to k\n",
    "    for i, p in enumerate(predicted[:k]):\n",
    "        # Check if the predicted item at position i is in the actual list\n",
    "        if p in actual:\n",
    "            num_hits += 1\n",
    "            # Calculate precision at position i\n",
    "            precision_at_k += num_hits / (i + 1)\n",
    "\n",
    "    # Calculate average precision at k\n",
    "    if not actual:\n",
    "        return 0.0\n",
    "    else:\n",
    "        return precision_at_k / min(len(actual), k)\n",
    "\n",
    "def map_at_k(actual, predicted, k):\n",
    "    # Calculate average precision at k for each query or user\n",
    "    average_precisions = [average_precision_at_k(a, p, k) for a, p in zip(actual, predicted)]\n",
    "    \n",
    "    # Return the mean of average precision at k values\n",
    "    return sum(average_precisions) / len(average_precisions)"
   ]
  },
  {
   "cell_type": "code",
   "execution_count": 79,
   "id": "63416651-664b-403e-9596-9e66b2393fb0",
   "metadata": {
    "id": "63416651-664b-403e-9596-9e66b2393fb0"
   },
   "outputs": [],
   "source": [
    "actual = [listo for listo in actual_loans_taken_dict.values()]\n",
    "predicted = [listo['Recommendation'] for listo in top_n_Centered_recommendations]"
   ]
  },
  {
   "cell_type": "code",
   "execution_count": 80,
   "id": "256e7129-1d41-4c83-a8fe-35b3096769c5",
   "metadata": {
    "id": "256e7129-1d41-4c83-a8fe-35b3096769c5"
   },
   "outputs": [
    {
     "name": "stdout",
     "output_type": "stream",
     "text": [
      "MAP@5: 0.1867\n"
     ]
    }
   ],
   "source": [
    "\n",
    "k = 5\n",
    "map_at_5 = map_at_k(actual, predicted, k)\n",
    "print(\"MAP@{}: {:.4f}\".format(k, map_at_5))"
   ]
  },
  {
   "cell_type": "code",
   "execution_count": null,
   "id": "bd030929-f4a4-4c3c-92c5-3fb9927288d0",
   "metadata": {
    "id": "bd030929-f4a4-4c3c-92c5-3fb9927288d0"
   },
   "outputs": [],
   "source": []
  },
  {
   "cell_type": "code",
   "execution_count": null,
   "id": "d3357146-82d1-43df-866e-f1f793b5d5f7",
   "metadata": {
    "id": "d3357146-82d1-43df-866e-f1f793b5d5f7"
   },
   "outputs": [],
   "source": []
  },
  {
   "cell_type": "code",
   "execution_count": null,
   "id": "e91e388e-5cad-4204-ad5d-d135cdfc481a",
   "metadata": {
    "id": "e91e388e-5cad-4204-ad5d-d135cdfc481a"
   },
   "outputs": [],
   "source": []
  },
  {
   "cell_type": "code",
   "execution_count": null,
   "id": "ba3d5312-52ec-474a-9d94-2c6c7c1e50e8",
   "metadata": {
    "id": "ba3d5312-52ec-474a-9d94-2c6c7c1e50e8"
   },
   "outputs": [],
   "source": []
  },
  {
   "cell_type": "code",
   "execution_count": null,
   "id": "c944b550-9463-441a-9e25-9018e50567c5",
   "metadata": {
    "id": "c944b550-9463-441a-9e25-9018e50567c5"
   },
   "outputs": [],
   "source": []
  },
  {
   "cell_type": "code",
   "execution_count": null,
   "id": "7ec2edd5-0e51-4c5f-834e-8d55dbdc7b71",
   "metadata": {
    "id": "7ec2edd5-0e51-4c5f-834e-8d55dbdc7b71"
   },
   "outputs": [],
   "source": []
  },
  {
   "cell_type": "code",
   "execution_count": null,
   "id": "5717f72b-7997-42c5-8832-bfd3f5e40e4c",
   "metadata": {
    "id": "5717f72b-7997-42c5-8832-bfd3f5e40e4c"
   },
   "outputs": [],
   "source": []
  },
  {
   "cell_type": "code",
   "execution_count": null,
   "id": "036d5eea-a979-4bd6-ab7b-c276c3f51380",
   "metadata": {
    "id": "036d5eea-a979-4bd6-ab7b-c276c3f51380"
   },
   "outputs": [],
   "source": []
  },
  {
   "cell_type": "code",
   "execution_count": null,
   "id": "5f5e4e30-3372-425d-9d1d-c71cf1f10873",
   "metadata": {
    "id": "5f5e4e30-3372-425d-9d1d-c71cf1f10873"
   },
   "outputs": [],
   "source": []
  },
  {
   "cell_type": "code",
   "execution_count": null,
   "id": "abbe1e09-23b1-460f-a365-240ded79997e",
   "metadata": {
    "id": "abbe1e09-23b1-460f-a365-240ded79997e"
   },
   "outputs": [],
   "source": []
  },
  {
   "cell_type": "code",
   "execution_count": null,
   "id": "7b1fa6c2-9d42-4d95-afbe-4f98ecaa34a6",
   "metadata": {
    "id": "7b1fa6c2-9d42-4d95-afbe-4f98ecaa34a6"
   },
   "outputs": [],
   "source": []
  },
  {
   "cell_type": "code",
   "execution_count": null,
   "id": "5d54c7f1-d510-44bb-b43f-aca4d69bf48c",
   "metadata": {
    "id": "5d54c7f1-d510-44bb-b43f-aca4d69bf48c"
   },
   "outputs": [],
   "source": []
  },
  {
   "cell_type": "code",
   "execution_count": null,
   "id": "28f4c194-45a6-454a-a425-04b70cce6b4b",
   "metadata": {
    "id": "28f4c194-45a6-454a-a425-04b70cce6b4b"
   },
   "outputs": [],
   "source": []
  },
  {
   "cell_type": "code",
   "execution_count": null,
   "id": "6d03f14c-5673-441f-9fb5-3914644d1ae3",
   "metadata": {
    "id": "6d03f14c-5673-441f-9fb5-3914644d1ae3"
   },
   "outputs": [],
   "source": []
  },
  {
   "cell_type": "code",
   "execution_count": null,
   "id": "278c1b14-281f-4cbc-95e8-27f68fd40a4a",
   "metadata": {
    "id": "278c1b14-281f-4cbc-95e8-27f68fd40a4a"
   },
   "outputs": [],
   "source": []
  },
  {
   "cell_type": "code",
   "execution_count": null,
   "id": "e618922a-344e-4fb1-b2e2-88de635c969e",
   "metadata": {
    "id": "e618922a-344e-4fb1-b2e2-88de635c969e"
   },
   "outputs": [],
   "source": []
  },
  {
   "cell_type": "code",
   "execution_count": null,
   "id": "3421dd79-d437-4c41-bc4f-cdf05411e089",
   "metadata": {
    "id": "3421dd79-d437-4c41-bc4f-cdf05411e089"
   },
   "outputs": [],
   "source": []
  },
  {
   "cell_type": "code",
   "execution_count": null,
   "id": "e28c76af-7617-4f97-b041-e109469ad3eb",
   "metadata": {
    "id": "e28c76af-7617-4f97-b041-e109469ad3eb"
   },
   "outputs": [],
   "source": []
  },
  {
   "cell_type": "code",
   "execution_count": null,
   "id": "c829b7f0-0e63-46bb-bf15-dcec978badf9",
   "metadata": {
    "id": "c829b7f0-0e63-46bb-bf15-dcec978badf9"
   },
   "outputs": [],
   "source": []
  },
  {
   "cell_type": "code",
   "execution_count": null,
   "id": "f9ea209a-1981-46b5-9a5f-f161bc16ff73",
   "metadata": {
    "id": "f9ea209a-1981-46b5-9a5f-f161bc16ff73"
   },
   "outputs": [],
   "source": []
  },
  {
   "cell_type": "code",
   "execution_count": null,
   "id": "2c404be4-aab7-4dfd-8711-5acb10d6fb44",
   "metadata": {
    "id": "2c404be4-aab7-4dfd-8711-5acb10d6fb44"
   },
   "outputs": [],
   "source": []
  },
  {
   "cell_type": "code",
   "execution_count": null,
   "id": "52d77289-2856-4fde-bf75-270d73bdadb7",
   "metadata": {
    "id": "52d77289-2856-4fde-bf75-270d73bdadb7"
   },
   "outputs": [],
   "source": []
  },
  {
   "cell_type": "code",
   "execution_count": null,
   "id": "69ebb281-b9df-4c56-bbc5-a13c4ce7fa3d",
   "metadata": {
    "id": "69ebb281-b9df-4c56-bbc5-a13c4ce7fa3d"
   },
   "outputs": [],
   "source": []
  },
  {
   "cell_type": "code",
   "execution_count": null,
   "id": "3c8e36af-6f95-4836-9fa2-4255f0e8c996",
   "metadata": {
    "id": "3c8e36af-6f95-4836-9fa2-4255f0e8c996"
   },
   "outputs": [],
   "source": []
  },
  {
   "cell_type": "code",
   "execution_count": null,
   "id": "c5cea054-a7e3-475e-9496-625fa922e6ac",
   "metadata": {
    "id": "c5cea054-a7e3-475e-9496-625fa922e6ac"
   },
   "outputs": [],
   "source": []
  },
  {
   "cell_type": "code",
   "execution_count": null,
   "id": "9551ee09-871f-4714-aca0-f1367b427cb4",
   "metadata": {
    "id": "9551ee09-871f-4714-aca0-f1367b427cb4"
   },
   "outputs": [],
   "source": []
  },
  {
   "cell_type": "code",
   "execution_count": null,
   "id": "b6363316-327c-4857-9ca8-f5faead059c2",
   "metadata": {
    "id": "b6363316-327c-4857-9ca8-f5faead059c2"
   },
   "outputs": [],
   "source": []
  },
  {
   "cell_type": "code",
   "execution_count": null,
   "id": "9d5e2e17-f927-47ec-90d1-3e99bf69ccf2",
   "metadata": {
    "id": "9d5e2e17-f927-47ec-90d1-3e99bf69ccf2"
   },
   "outputs": [],
   "source": []
  },
  {
   "cell_type": "code",
   "execution_count": null,
   "id": "66323d0a-fcbd-40d0-a13e-6b9449a77f64",
   "metadata": {
    "id": "66323d0a-fcbd-40d0-a13e-6b9449a77f64"
   },
   "outputs": [],
   "source": []
  },
  {
   "cell_type": "code",
   "execution_count": null,
   "id": "7e719f90-aee0-453a-87d5-df0e82ae507d",
   "metadata": {
    "id": "7e719f90-aee0-453a-87d5-df0e82ae507d"
   },
   "outputs": [],
   "source": []
  },
  {
   "cell_type": "code",
   "execution_count": null,
   "id": "59d656cc-fa74-43fc-bcd2-9a73ff7c11ce",
   "metadata": {
    "id": "59d656cc-fa74-43fc-bcd2-9a73ff7c11ce"
   },
   "outputs": [],
   "source": []
  },
  {
   "cell_type": "code",
   "execution_count": null,
   "id": "d33def82-a07b-4e44-8f8e-560f0a15ffcc",
   "metadata": {
    "id": "d33def82-a07b-4e44-8f8e-560f0a15ffcc"
   },
   "outputs": [],
   "source": []
  },
  {
   "cell_type": "code",
   "execution_count": null,
   "id": "650b4b08-6081-4dc9-9e5f-b2e34a2008bc",
   "metadata": {
    "id": "650b4b08-6081-4dc9-9e5f-b2e34a2008bc"
   },
   "outputs": [],
   "source": []
  },
  {
   "cell_type": "code",
   "execution_count": null,
   "id": "f2c7c001-9cd5-4715-9d50-720d5ba66e2e",
   "metadata": {
    "id": "f2c7c001-9cd5-4715-9d50-720d5ba66e2e"
   },
   "outputs": [],
   "source": []
  },
  {
   "cell_type": "code",
   "execution_count": null,
   "id": "ece6e4b3-79ad-420c-8c39-e840866f075c",
   "metadata": {
    "id": "ece6e4b3-79ad-420c-8c39-e840866f075c"
   },
   "outputs": [],
   "source": []
  }
 ],
 "metadata": {
  "colab": {
   "provenance": []
  },
  "kernelspec": {
   "display_name": "Python 3 (ipykernel)",
   "language": "python",
   "name": "python3"
  },
  "language_info": {
   "codemirror_mode": {
    "name": "ipython",
    "version": 3
   },
   "file_extension": ".py",
   "mimetype": "text/x-python",
   "name": "python",
   "nbconvert_exporter": "python",
   "pygments_lexer": "ipython3",
   "version": "3.12.0"
  }
 },
 "nbformat": 4,
 "nbformat_minor": 5
}
