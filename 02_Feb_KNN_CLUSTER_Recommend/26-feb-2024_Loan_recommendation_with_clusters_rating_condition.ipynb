{
 "cells": [
  {
   "cell_type": "markdown",
   "id": "8433267c-e538-444a-8fbf-bbe8f7eab0e2",
   "metadata": {},
   "source": [
    "# Loan Recommendation System\n",
    "## POC - Proof Of Concept"
   ]
  },
  {
   "cell_type": "code",
   "execution_count": 66,
   "id": "e20dd32e-1530-42f6-bdf9-c3f5806e837b",
   "metadata": {},
   "outputs": [],
   "source": [
    "from pyspark.sql import SparkSession\n",
    "from pyspark.sql.functions import col, expr, rank, countDistinct, count\n",
    "from pyspark.sql.window import Window\n",
    "from pyspark.sql import functions as F\n",
    "from pyspark.ml.recommendation import ALS\n",
    "from pyspark.ml.evaluation import RegressionEvaluator\n",
    "from pyspark.ml.feature import StringIndexer\n",
    "from pyspark.ml.tuning import TrainValidationSplit, ParamGridBuilder, CrossValidator\n",
    "import pandas as pd\n",
    "import matplotlib.pyplot as plt\n",
    "import time"
   ]
  },
  {
   "cell_type": "code",
   "execution_count": 2,
   "id": "9347be3d-5e8b-40b5-a5f5-91ec804deebd",
   "metadata": {},
   "outputs": [],
   "source": [
    "from pyspark.sql.functions import mean\n",
    "from pyspark.ml.feature import Normalizer\n",
    "from pyspark.ml.feature import VectorAssembler\n",
    "from pyspark.ml.linalg import Vectors, DenseMatrix\n",
    "from pyspark.ml import Pipeline "
   ]
  },
  {
   "cell_type": "code",
   "execution_count": 3,
   "id": "7feab969-e8a3-4d26-adb0-080556999837",
   "metadata": {},
   "outputs": [],
   "source": [
    "spark = SparkSession.builder.appName('loan_recommendation_with_clusters').config(\"spark.driver.memory\", \"2g\").getOrCreate()"
   ]
  },
  {
   "cell_type": "code",
   "execution_count": null,
   "id": "b8baeb64-b787-4ce9-8e19-9d5657040308",
   "metadata": {},
   "outputs": [],
   "source": []
  },
  {
   "cell_type": "code",
   "execution_count": 6,
   "id": "867605ca-18ec-48d8-8109-8871e4118aa6",
   "metadata": {},
   "outputs": [
    {
     "data": {
      "text/html": [
       "\n",
       "            <div>\n",
       "                <p><b>SparkSession - in-memory</b></p>\n",
       "                \n",
       "        <div>\n",
       "            <p><b>SparkContext</b></p>\n",
       "\n",
       "            <p><a href=\"http://MR-23:4041\">Spark UI</a></p>\n",
       "\n",
       "            <dl>\n",
       "              <dt>Version</dt>\n",
       "                <dd><code>v3.5.0</code></dd>\n",
       "              <dt>Master</dt>\n",
       "                <dd><code>local[*]</code></dd>\n",
       "              <dt>AppName</dt>\n",
       "                <dd><code>loan_recommendation_with_clusters</code></dd>\n",
       "            </dl>\n",
       "        </div>\n",
       "        \n",
       "            </div>\n",
       "        "
      ],
      "text/plain": [
       "<pyspark.sql.session.SparkSession at 0x2761e3a6f30>"
      ]
     },
     "execution_count": 6,
     "metadata": {},
     "output_type": "execute_result"
    }
   ],
   "source": [
    "spark"
   ]
  },
  {
   "cell_type": "code",
   "execution_count": 7,
   "id": "c193e8d5-ed73-4ce1-8c2a-8580263c5921",
   "metadata": {},
   "outputs": [
    {
     "name": "stdout",
     "output_type": "stream",
     "text": [
      "root\n",
      " |-- Id: string (nullable = true)\n",
      " |-- AccountID: string (nullable = true)\n",
      " |-- Number_Of_Loans_Granted__c: integer (nullable = true)\n",
      " |-- Num_Of_Loans_Paid__c: integer (nullable = true)\n",
      " |-- Purpose_of_Loan__c: string (nullable = true)\n",
      " |-- Total_Repayments__c: integer (nullable = true)\n",
      " |-- Amount: integer (nullable = true)\n",
      " |-- Term_in_Weeks__c: double (nullable = true)\n",
      " |-- Payment_Frequency__c: string (nullable = true)\n",
      " |-- StageName: string (nullable = true)\n",
      " |-- Applicant Age: integer (nullable = true)\n",
      " |-- summary_income: double (nullable = true)\n",
      " |-- summary_income_cv: double (nullable = true)\n",
      " |-- city: string (nullable = true)\n",
      " |-- state: string (nullable = true)\n",
      " |-- Country: string (nullable = true)\n",
      " |-- userId: integer (nullable = true)\n",
      " |-- loanId: integer (nullable = true)\n",
      " |-- count: integer (nullable = true)\n",
      " |-- LoanIdFormat: integer (nullable = true)\n",
      "\n"
     ]
    }
   ],
   "source": [
    "loans_df = spark.read.csv(\"Loan_Dataset/df_temp_cluster_rating_condition_data.csv\", inferSchema=True, header=True)\n",
    "loans_df.printSchema()"
   ]
  },
  {
   "cell_type": "markdown",
   "id": "4bfaf097-19ab-46bc-8aaf-cc8a2a427600",
   "metadata": {},
   "source": [
    "- Id: Likely a unique identifier for each data point.\n",
    "- AccountID: Unique identifier for an account (possibly borrower).\n",
    "- <h4>Loan-related features: </h4> \n",
    "    -> Number_Of_Loans_Granted__c: Number of loans granted to the account.\n",
    "    -> Num_Of_Loans_Paid__c: Number of loans paid by the account.\n",
    "    -> Purpose_of_Loan__c: Category of the loan purpose (e.g., mortgage, education).\n",
    "    -> Total_Repayments__c: Total amount repaid by the account.\n",
    "    -> Amount: Loan amount requested.\n",
    "    -> Term_in_Weeks__c: Loan term in weeks.\n",
    "    -> Payment_Frequency__c: Frequency of loan repayment (e.g., weekly, monthly).\n",
    "- <h4>Borrower-related features: </h4>\r",
    "    -> \n",
    "StageName: Current stage of the loan application (e.g., application, approved, rejected).    -> \r\n",
    "Applicant Age: Age of the loan applicant    -> .\r\n",
    "summary_income: Summary of applicant's incom    -> e.\r\n",
    "summary_income_cv: Coefficient of variation of applicant's inco- <h4>me.\r\n",
    "Location-related feat </h4>u    -> res:\r\n",
    "city: City of the appli    -> cant.\r\n",
    "state: State of the appl    -> icant.\r\n",
    "Country: Country of the ap\n",
    "\n",
    "- <h4>Additional features:</h4>\r",
    "    -> \n",
    "userId: Unique identifier for a user Account Id in Numericr).    -> \r\n",
    "loanId: Unique identifier for a lo (Id or loanId in Numeric)an    -> .\r\n",
    "counFeature related to the Ratings of the Loansnt    -> s.\r\n",
    "LoanIdFormat: Format of the loan(Created LoanId using Clusters)nce).plicant."
   ]
  },
  {
   "cell_type": "code",
   "execution_count": 8,
   "id": "66fda6a1-a162-4b31-9076-0a3a230f16de",
   "metadata": {},
   "outputs": [
    {
     "name": "stdout",
     "output_type": "stream",
     "text": [
      "+------------+------+-------------------+--------------------+-----+\n",
      "|LoanIdFormat|Amount|Total_Repayments__c|Payment_Frequency__c|count|\n",
      "+------------+------+-------------------+--------------------+-----+\n",
      "|           1|   500|                 10|              Weekly|    3|\n",
      "|           1|   700|                 10|              Weekly|    3|\n",
      "|           1|   800|                 10|              Weekly|    3|\n",
      "|           1|   800|                 10|              Weekly|    3|\n",
      "|           1|   800|                 10|              Weekly|    3|\n",
      "|           1|   800|                 10|              Weekly|    3|\n",
      "|           1|   800|                 10|              Weekly|    3|\n",
      "|           1|   900|                 10|              Weekly|    3|\n",
      "|           1|  1000|                 10|              Weekly|    3|\n",
      "|           1|  1000|                 10|              Weekly|    3|\n",
      "+------------+------+-------------------+--------------------+-----+\n",
      "only showing top 10 rows\n",
      "\n"
     ]
    }
   ],
   "source": [
    "loans_df.select([\"LoanIdFormat\",\"Amount\",\"Total_Repayments__c\",\"Payment_Frequency__c\",\"count\"]).show(10)"
   ]
  },
  {
   "cell_type": "code",
   "execution_count": 9,
   "id": "b17fa619-e0b5-459a-aa9b-1b30dfb9b411",
   "metadata": {},
   "outputs": [
    {
     "name": "stdout",
     "output_type": "stream",
     "text": [
      "+-------+------------------+------------------+------------------+-----------------+-------------------+--------------------------+--------------------+\n",
      "|summary|            userId|      LoanIdFormat|             count|           Amount|Total_Repayments__c|Number_Of_Loans_Granted__c|Num_Of_Loans_Paid__c|\n",
      "+-------+------------------+------------------+------------------+-----------------+-------------------+--------------------------+--------------------+\n",
      "|  count|            559151|            559151|            559151|           559151|             559151|                    559151|              559151|\n",
      "|   mean|24735.774815747445| 4.527168868516734|1.6699120631099649|823.7755990778877| 7.0393507299459355|        11.901447015206983|   11.85676856519974|\n",
      "| stddev|15283.929730968575|2.7984778294163046|0.8954014280676444|766.2637755312196| 3.9631196080149786|         8.154409123854771|   8.273339043377455|\n",
      "|    min|                 1|                 1|                 0|              100|                  1|                         0|                   3|\n",
      "|    max|             59174|                20|                 8|             5000|                 45|                        73|                  73|\n",
      "+-------+------------------+------------------+------------------+-----------------+-------------------+--------------------------+--------------------+\n",
      "\n"
     ]
    }
   ],
   "source": [
    "loans_df.select([\"userId\",\"LoanIdFormat\",\"count\",\"Amount\",\"Total_Repayments__c\",\"Number_Of_Loans_Granted__c\",\"Num_Of_Loans_Paid__c\"]).describe().show()"
   ]
  },
  {
   "cell_type": "markdown",
   "id": "8178f86f-5511-4399-b49f-01dc250b8f9c",
   "metadata": {},
   "source": [
    "### Aggregating the loans per user (getting all loans for each user user)¶"
   ]
  },
  {
   "cell_type": "code",
   "execution_count": 68,
   "id": "8f0c6a25-528d-4960-92ec-eccd1624b5ff",
   "metadata": {},
   "outputs": [],
   "source": [
    "user_loans = loans_df.groupby(\"userId\").agg(F.collect_set(\"LoanIdFormat\").alias(\"loans\"))"
   ]
  },
  {
   "cell_type": "code",
   "execution_count": 69,
   "id": "d633e69c-7bdb-4871-9341-459a3318b8b1",
   "metadata": {},
   "outputs": [],
   "source": [
    "Actual_loans_taken = user_loans.toPandas().to_dict('records')"
   ]
  },
  {
   "cell_type": "code",
   "execution_count": 10,
   "id": "aff3ab50-da66-4a88-ab6e-64da2d8ec778",
   "metadata": {
    "scrolled": true
   },
   "outputs": [
    {
     "name": "stdout",
     "output_type": "stream",
     "text": [
      "-RECORD 0------------------------------------------\n",
      " Id                         | 0062x00000DsEQcAAN   \n",
      " AccountID                  | 0010K00001ayVHPQA2   \n",
      " Number_Of_Loans_Granted__c | 27                   \n",
      " Num_Of_Loans_Paid__c       | 27                   \n",
      " Purpose_of_Loan__c         | Furniture or Appl... \n",
      " Total_Repayments__c        | 10                   \n",
      " Amount                     | 500                  \n",
      " Term_in_Weeks__c           | 10.143               \n",
      " Payment_Frequency__c       | Weekly               \n",
      " StageName                  | Loan Paid            \n",
      " Applicant Age              | 55                   \n",
      " summary_income             | 2166.67              \n",
      " summary_income_cv          | 5750.7               \n",
      " city                       | Jimboomba            \n",
      " state                      | QLD                  \n",
      " Country                    | Australia            \n",
      " userId                     | 1                    \n",
      " loanId                     | 385865               \n",
      " count                      | 3                    \n",
      " LoanIdFormat               | 1                    \n",
      "-RECORD 1------------------------------------------\n",
      " Id                         | 0062x00000471C0AAI   \n",
      " AccountID                  | 0010K00001ayVHPQA2   \n",
      " Number_Of_Loans_Granted__c | 27                   \n",
      " Num_Of_Loans_Paid__c       | 27                   \n",
      " Purpose_of_Loan__c         | Furniture or Appl... \n",
      " Total_Repayments__c        | 10                   \n",
      " Amount                     | 700                  \n",
      " Term_in_Weeks__c           | 10.0                 \n",
      " Payment_Frequency__c       | Weekly               \n",
      " StageName                  | Loan Paid            \n",
      " Applicant Age              | 55                   \n",
      " summary_income             | 2166.67              \n",
      " summary_income_cv          | 3901.44              \n",
      " city                       | Jimboomba            \n",
      " state                      | QLD                  \n",
      " Country                    | Australia            \n",
      " userId                     | 1                    \n",
      " loanId                     | 96163                \n",
      " count                      | 3                    \n",
      " LoanIdFormat               | 1                    \n",
      "-RECORD 2------------------------------------------\n",
      " Id                         | 0060K00000QSYfLQAX   \n",
      " AccountID                  | 0010K00001ayVHPQA2   \n",
      " Number_Of_Loans_Granted__c | 27                   \n",
      " Num_Of_Loans_Paid__c       | 27                   \n",
      " Purpose_of_Loan__c         | Vehicle Expenses     \n",
      " Total_Repayments__c        | 10                   \n",
      " Amount                     | 800                  \n",
      " Term_in_Weeks__c           | 10.0                 \n",
      " Payment_Frequency__c       | Weekly               \n",
      " StageName                  | Loan Paid            \n",
      " Applicant Age              | 55                   \n",
      " summary_income             | 2166.67              \n",
      " summary_income_cv          | 0.0                  \n",
      " city                       | Jimboomba            \n",
      " state                      | QLD                  \n",
      " Country                    | Australia            \n",
      " userId                     | 1                    \n",
      " loanId                     | 102                  \n",
      " count                      | 3                    \n",
      " LoanIdFormat               | 1                    \n",
      "-RECORD 3------------------------------------------\n",
      " Id                         | 0060K00000SvU4QQAV   \n",
      " AccountID                  | 0010K00001ayVHPQA2   \n",
      " Number_Of_Loans_Granted__c | 27                   \n",
      " Num_Of_Loans_Paid__c       | 27                   \n",
      " Purpose_of_Loan__c         | Furniture or Appl... \n",
      " Total_Repayments__c        | 10                   \n",
      " Amount                     | 800                  \n",
      " Term_in_Weeks__c           | 10.0                 \n",
      " Payment_Frequency__c       | Weekly               \n",
      " StageName                  | Loan Paid            \n",
      " Applicant Age              | 55                   \n",
      " summary_income             | 2166.67              \n",
      " summary_income_cv          | 0.0                  \n",
      " city                       | Jimboomba            \n",
      " state                      | QLD                  \n",
      " Country                    | Australia            \n",
      " userId                     | 1                    \n",
      " loanId                     | 10278                \n",
      " count                      | 3                    \n",
      " LoanIdFormat               | 1                    \n",
      "-RECORD 4------------------------------------------\n",
      " Id                         | 0060K00000S81TeQAJ   \n",
      " AccountID                  | 0010K00001ayVHPQA2   \n",
      " Number_Of_Loans_Granted__c | 27                   \n",
      " Num_Of_Loans_Paid__c       | 27                   \n",
      " Purpose_of_Loan__c         | Vehicle Expenses     \n",
      " Total_Repayments__c        | 10                   \n",
      " Amount                     | 800                  \n",
      " Term_in_Weeks__c           | 10.0                 \n",
      " Payment_Frequency__c       | Weekly               \n",
      " StageName                  | Loan Paid            \n",
      " Applicant Age              | 55                   \n",
      " summary_income             | 2166.67              \n",
      " summary_income_cv          | 0.0                  \n",
      " city                       | Jimboomba            \n",
      " state                      | QLD                  \n",
      " Country                    | Australia            \n",
      " userId                     | 1                    \n",
      " loanId                     | 6480                 \n",
      " count                      | 3                    \n",
      " LoanIdFormat               | 1                    \n",
      "-RECORD 5------------------------------------------\n",
      " Id                         | 0060K00000RVz9FQAT   \n",
      " AccountID                  | 0010K00001ayVHPQA2   \n",
      " Number_Of_Loans_Granted__c | 27                   \n",
      " Num_Of_Loans_Paid__c       | 27                   \n",
      " Purpose_of_Loan__c         | Vehicle Expenses     \n",
      " Total_Repayments__c        | 10                   \n",
      " Amount                     | 800                  \n",
      " Term_in_Weeks__c           | 9.857                \n",
      " Payment_Frequency__c       | Weekly               \n",
      " StageName                  | Loan Paid            \n",
      " Applicant Age              | 55                   \n",
      " summary_income             | 2166.67              \n",
      " summary_income_cv          | 0.0                  \n",
      " city                       | Jimboomba            \n",
      " state                      | QLD                  \n",
      " Country                    | Australia            \n",
      " userId                     | 1                    \n",
      " loanId                     | 4856                 \n",
      " count                      | 3                    \n",
      " LoanIdFormat               | 1                    \n",
      "-RECORD 6------------------------------------------\n",
      " Id                         | 0060K00000RSm5eQAD   \n",
      " AccountID                  | 0010K00001ayVHPQA2   \n",
      " Number_Of_Loans_Granted__c | 27                   \n",
      " Num_Of_Loans_Paid__c       | 27                   \n",
      " Purpose_of_Loan__c         | Repay Existing Debt  \n",
      " Total_Repayments__c        | 10                   \n",
      " Amount                     | 800                  \n",
      " Term_in_Weeks__c           | 10.0                 \n",
      " Payment_Frequency__c       | Weekly               \n",
      " StageName                  | Loan Paid            \n",
      " Applicant Age              | 55                   \n",
      " summary_income             | 2166.67              \n",
      " summary_income_cv          | 0.0                  \n",
      " city                       | Jimboomba            \n",
      " state                      | QLD                  \n",
      " Country                    | Australia            \n",
      " userId                     | 1                    \n",
      " loanId                     | 2664                 \n",
      " count                      | 3                    \n",
      " LoanIdFormat               | 1                    \n",
      "-RECORD 7------------------------------------------\n",
      " Id                         | 0062x000005U1CbAAK   \n",
      " AccountID                  | 0010K00001ayVHPQA2   \n",
      " Number_Of_Loans_Granted__c | 27                   \n",
      " Num_Of_Loans_Paid__c       | 27                   \n",
      " Purpose_of_Loan__c         | Vehicle Expenses     \n",
      " Total_Repayments__c        | 10                   \n",
      " Amount                     | 900                  \n",
      " Term_in_Weeks__c           | 9.857                \n",
      " Payment_Frequency__c       | Weekly               \n",
      " StageName                  | Loan Paid            \n",
      " Applicant Age              | 55                   \n",
      " summary_income             | 2166.67              \n",
      " summary_income_cv          | 3337.99              \n",
      " city                       | Jimboomba            \n",
      " state                      | QLD                  \n",
      " Country                    | Australia            \n",
      " userId                     | 1                    \n",
      " loanId                     | 111498               \n",
      " count                      | 3                    \n",
      " LoanIdFormat               | 1                    \n",
      "-RECORD 8------------------------------------------\n",
      " Id                         | 0060K00000U7781QAB   \n",
      " AccountID                  | 0010K00001ayVHPQA2   \n",
      " Number_Of_Loans_Granted__c | 27                   \n",
      " Num_Of_Loans_Paid__c       | 27                   \n",
      " Purpose_of_Loan__c         | Vehicle Expenses     \n",
      " Total_Repayments__c        | 10                   \n",
      " Amount                     | 1000                 \n",
      " Term_in_Weeks__c           | 10.0                 \n",
      " Payment_Frequency__c       | Weekly               \n",
      " StageName                  | Loan Paid            \n",
      " Applicant Age              | 55                   \n",
      " summary_income             | 2166.67              \n",
      " summary_income_cv          | 0.0                  \n",
      " city                       | Jimboomba            \n",
      " state                      | QLD                  \n",
      " Country                    | Australia            \n",
      " userId                     | 1                    \n",
      " loanId                     | 13633                \n",
      " count                      | 3                    \n",
      " LoanIdFormat               | 1                    \n",
      "-RECORD 9------------------------------------------\n",
      " Id                         | 0060K00000YZwv8QAD   \n",
      " AccountID                  | 0010K00001ayVHPQA2   \n",
      " Number_Of_Loans_Granted__c | 27                   \n",
      " Num_Of_Loans_Paid__c       | 27                   \n",
      " Purpose_of_Loan__c         | Furniture or Appl... \n",
      " Total_Repayments__c        | 10                   \n",
      " Amount                     | 1000                 \n",
      " Term_in_Weeks__c           | 10.0                 \n",
      " Payment_Frequency__c       | Weekly               \n",
      " StageName                  | Loan Paid            \n",
      " Applicant Age              | 55                   \n",
      " summary_income             | 2166.67              \n",
      " summary_income_cv          | 3074.46              \n",
      " city                       | Jimboomba            \n",
      " state                      | QLD                  \n",
      " Country                    | Australia            \n",
      " userId                     | 1                    \n",
      " loanId                     | 52404                \n",
      " count                      | 3                    \n",
      " LoanIdFormat               | 1                    \n",
      "-RECORD 10-----------------------------------------\n",
      " Id                         | 0062x0000070YprAAE   \n",
      " AccountID                  | 0010K00001ayVHjQAM   \n",
      " Number_Of_Loans_Granted__c | 15                   \n",
      " Num_Of_Loans_Paid__c       | 15                   \n",
      " Purpose_of_Loan__c         | Vehicle Expenses     \n",
      " Total_Repayments__c        | 10                   \n",
      " Amount                     | 300                  \n",
      " Term_in_Weeks__c           | 9.857                \n",
      " Payment_Frequency__c       | Weekly               \n",
      " StageName                  | Loan Paid            \n",
      " Applicant Age              | 36                   \n",
      " summary_income             | 6066.67              \n",
      " summary_income_cv          | 5176.26              \n",
      " city                       | Brisbane             \n",
      " state                      | QLD                  \n",
      " Country                    | Australia            \n",
      " userId                     | 2                    \n",
      " loanId                     | 133877               \n",
      " count                      | 2                    \n",
      " LoanIdFormat               | 1                    \n",
      "-RECORD 11-----------------------------------------\n",
      " Id                         | 0062x00000732K5AAI   \n",
      " AccountID                  | 0010K00001ayVHjQAM   \n",
      " Number_Of_Loans_Granted__c | 15                   \n",
      " Num_Of_Loans_Paid__c       | 15                   \n",
      " Purpose_of_Loan__c         | Home Maintenance ... \n",
      " Total_Repayments__c        | 10                   \n",
      " Amount                     | 350                  \n",
      " Term_in_Weeks__c           | 10.0                 \n",
      " Payment_Frequency__c       | Weekly               \n",
      " StageName                  | Loan Paid            \n",
      " Applicant Age              | 36                   \n",
      " summary_income             | 6066.67              \n",
      " summary_income_cv          | 5056.75              \n",
      " city                       | Brisbane             \n",
      " state                      | QLD                  \n",
      " Country                    | Australia            \n",
      " userId                     | 2                    \n",
      " loanId                     | 139276               \n",
      " count                      | 2                    \n",
      " LoanIdFormat               | 1                    \n",
      "-RECORD 12-----------------------------------------\n",
      " Id                         | 0062x000009032NAAQ   \n",
      " AccountID                  | 0010K00001ayVHjQAM   \n",
      " Number_Of_Loans_Granted__c | 15                   \n",
      " Num_Of_Loans_Paid__c       | 15                   \n",
      " Purpose_of_Loan__c         | Vehicle Expenses     \n",
      " Total_Repayments__c        | 10                   \n",
      " Amount                     | 400                  \n",
      " Term_in_Weeks__c           | 9.857                \n",
      " Payment_Frequency__c       | Weekly               \n",
      " StageName                  | Loan Paid            \n",
      " Applicant Age              | 36                   \n",
      " summary_income             | 6066.67              \n",
      " summary_income_cv          | 4921.72              \n",
      " city                       | Brisbane             \n",
      " state                      | QLD                  \n",
      " Country                    | Australia            \n",
      " userId                     | 2                    \n",
      " loanId                     | 168095               \n",
      " count                      | 2                    \n",
      " LoanIdFormat               | 1                    \n",
      "-RECORD 13-----------------------------------------\n",
      " Id                         | 0060K00000RVsZZQA1   \n",
      " AccountID                  | 0010K00001ayVHjQAM   \n",
      " Number_Of_Loans_Granted__c | 15                   \n",
      " Num_Of_Loans_Paid__c       | 15                   \n",
      " Purpose_of_Loan__c         | Furniture or Appl... \n",
      " Total_Repayments__c        | 10                   \n",
      " Amount                     | 600                  \n",
      " Term_in_Weeks__c           | 10.0                 \n",
      " Payment_Frequency__c       | Weekly               \n",
      " StageName                  | Loan Paid            \n",
      " Applicant Age              | 36                   \n",
      " summary_income             | 6066.67              \n",
      " summary_income_cv          | 0.0                  \n",
      " city                       | Brisbane             \n",
      " state                      | QLD                  \n",
      " Country                    | Australia            \n",
      " userId                     | 2                    \n",
      " loanId                     | 4760                 \n",
      " count                      | 2                    \n",
      " LoanIdFormat               | 1                    \n",
      "-RECORD 14-----------------------------------------\n",
      " Id                         | 0062x00000BHhsjAAD   \n",
      " AccountID                  | 0010K00001ayVHjQAM   \n",
      " Number_Of_Loans_Granted__c | 15                   \n",
      " Num_Of_Loans_Paid__c       | 15                   \n",
      " Purpose_of_Loan__c         | Vehicle Expenses     \n",
      " Total_Repayments__c        | 14                   \n",
      " Amount                     | 600                  \n",
      " Term_in_Weeks__c           | 14.0                 \n",
      " Payment_Frequency__c       | Weekly               \n",
      " StageName                  | Loan Paid            \n",
      " Applicant Age              | 36                   \n",
      " summary_income             | 6066.67              \n",
      " summary_income_cv          | 4245.5               \n",
      " city                       | Brisbane             \n",
      " state                      | QLD                  \n",
      " Country                    | Australia            \n",
      " userId                     | 2                    \n",
      " loanId                     | 286173               \n",
      " count                      | 2                    \n",
      " LoanIdFormat               | 1                    \n",
      "-RECORD 15-----------------------------------------\n",
      " Id                         | 0062x00000AdqkVAAR   \n",
      " AccountID                  | 0010K00001ayVHjQAM   \n",
      " Number_Of_Loans_Granted__c | 15                   \n",
      " Num_Of_Loans_Paid__c       | 15                   \n",
      " Purpose_of_Loan__c         | Home Maintenance ... \n",
      " Total_Repayments__c        | 14                   \n",
      " Amount                     | 600                  \n",
      " Term_in_Weeks__c           | 14.0                 \n",
      " Payment_Frequency__c       | Weekly               \n",
      " StageName                  | Loan Paid            \n",
      " Applicant Age              | 36                   \n",
      " summary_income             | 6066.67              \n",
      " summary_income_cv          | 5219.93              \n",
      " city                       | Brisbane             \n",
      " state                      | QLD                  \n",
      " Country                    | Australia            \n",
      " userId                     | 2                    \n",
      " loanId                     | 243982               \n",
      " count                      | 2                    \n",
      " LoanIdFormat               | 1                    \n",
      "-RECORD 16-----------------------------------------\n",
      " Id                         | 0062x00000A8CaFAAV   \n",
      " AccountID                  | 0010K00001ayVHjQAM   \n",
      " Number_Of_Loans_Granted__c | 15                   \n",
      " Num_Of_Loans_Paid__c       | 15                   \n",
      " Purpose_of_Loan__c         | Vehicle Expenses     \n",
      " Total_Repayments__c        | 14                   \n",
      " Amount                     | 600                  \n",
      " Term_in_Weeks__c           | 13.714               \n",
      " Payment_Frequency__c       | Weekly               \n",
      " StageName                  | Loan Paid            \n",
      " Applicant Age              | 36                   \n",
      " summary_income             | 6066.67              \n",
      " summary_income_cv          | 5062.59              \n",
      " city                       | Brisbane             \n",
      " state                      | QLD                  \n",
      " Country                    | Australia            \n",
      " userId                     | 2                    \n",
      " loanId                     | 212486               \n",
      " count                      | 2                    \n",
      " LoanIdFormat               | 1                    \n",
      "-RECORD 17-----------------------------------------\n",
      " Id                         | 0062x000009Fjw5AAC   \n",
      " AccountID                  | 0010K00001ayVHjQAM   \n",
      " Number_Of_Loans_Granted__c | 15                   \n",
      " Num_Of_Loans_Paid__c       | 15                   \n",
      " Purpose_of_Loan__c         | Home Maintenance ... \n",
      " Total_Repayments__c        | 14                   \n",
      " Amount                     | 600                  \n",
      " Term_in_Weeks__c           | 13.857               \n",
      " Payment_Frequency__c       | Weekly               \n",
      " StageName                  | Loan Paid            \n",
      " Applicant Age              | 36                   \n",
      " summary_income             | 6066.67              \n",
      " summary_income_cv          | 4720.26              \n",
      " city                       | Brisbane             \n",
      " state                      | QLD                  \n",
      " Country                    | Australia            \n",
      " userId                     | 2                    \n",
      " loanId                     | 185505               \n",
      " count                      | 2                    \n",
      " LoanIdFormat               | 1                    \n",
      "-RECORD 18-----------------------------------------\n",
      " Id                         | 0060K00000S7sobQAB   \n",
      " AccountID                  | 0010K00001ayVHjQAM   \n",
      " Number_Of_Loans_Granted__c | 15                   \n",
      " Num_Of_Loans_Paid__c       | 15                   \n",
      " Purpose_of_Loan__c         | Furniture or Appl... \n",
      " Total_Repayments__c        | 10                   \n",
      " Amount                     | 600                  \n",
      " Term_in_Weeks__c           | 10.143               \n",
      " Payment_Frequency__c       | Weekly               \n",
      " StageName                  | Loan Paid            \n",
      " Applicant Age              | 36                   \n",
      " summary_income             | 6066.67              \n",
      " summary_income_cv          | 0.0                  \n",
      " city                       | Brisbane             \n",
      " state                      | QLD                  \n",
      " Country                    | Australia            \n",
      " userId                     | 2                    \n",
      " loanId                     | 6324                 \n",
      " count                      | 2                    \n",
      " LoanIdFormat               | 1                    \n",
      "-RECORD 19-----------------------------------------\n",
      " Id                         | 0062x00000BBnydAAD   \n",
      " AccountID                  | 0010K00001ayVHjQAM   \n",
      " Number_Of_Loans_Granted__c | 15                   \n",
      " Num_Of_Loans_Paid__c       | 15                   \n",
      " Purpose_of_Loan__c         | Vehicle Expenses     \n",
      " Total_Repayments__c        | 10                   \n",
      " Amount                     | 1000                 \n",
      " Term_in_Weeks__c           | 10.714               \n",
      " Payment_Frequency__c       | Weekly               \n",
      " StageName                  | Loan Paid            \n",
      " Applicant Age              | 36                   \n",
      " summary_income             | 6066.67              \n",
      " summary_income_cv          | 4294.75              \n",
      " city                       | Brisbane             \n",
      " state                      | QLD                  \n",
      " Country                    | Australia            \n",
      " userId                     | 2                    \n",
      " loanId                     | 282397               \n",
      " count                      | 2                    \n",
      " LoanIdFormat               | 1                    \n",
      "only showing top 20 rows\n",
      "\n"
     ]
    }
   ],
   "source": [
    "loans_df.show(vertical=True)"
   ]
  },
  {
   "cell_type": "code",
   "execution_count": 11,
   "id": "879b0ed5-5a6a-4f4f-a02a-1ef3be15bd8d",
   "metadata": {},
   "outputs": [],
   "source": [
    "hist_data  = loans_df.toPandas()"
   ]
  },
  {
   "cell_type": "code",
   "execution_count": 12,
   "id": "8e20cc21-d8fc-478f-ae00-442e698e0c7b",
   "metadata": {},
   "outputs": [
    {
     "data": {
      "image/png": "[encoded data removed]",
      "text/plain": [
       "<Figure size 640x480 with 1 Axes>"
      ]
     },
     "metadata": {},
     "output_type": "display_data"
    }
   ],
   "source": [
    "hist_data['count'].hist()\n",
    "plt.xlabel(\"count\")\n",
    "plt.ylabel(\"Frequency\")\n",
    "plt.title(f\"Histogram of count\")\n",
    "plt.show()"
   ]
  },
  {
   "cell_type": "code",
   "execution_count": null,
   "id": "bf7ad932-9155-41cc-b30b-97711374a062",
   "metadata": {},
   "outputs": [],
   "source": []
  },
  {
   "cell_type": "code",
   "execution_count": null,
   "id": "30bb8db5-e183-44d9-b3f7-b9b3647bfb14",
   "metadata": {},
   "outputs": [],
   "source": []
  },
  {
   "cell_type": "code",
   "execution_count": 13,
   "id": "93606394-8fb4-4d30-8235-c8e1cdb15a13",
   "metadata": {},
   "outputs": [
    {
     "name": "stdout",
     "output_type": "stream",
     "text": [
      "Number of unique loanId_format: 20\n",
      "Number of unique Loan Id: 407389\n"
     ]
    }
   ],
   "source": [
    "# Count the number of unique items\n",
    "num_unique_loan_id_format = loans_df.select('LoanIdFormat').distinct().count()\n",
    "print(f\"Number of unique loanId_format: {num_unique_loan_id_format}\")\n",
    "\n",
    "# Count the number of unique users\n",
    "num_unique_id = loans_df.select('Id').distinct().count()\n",
    "print(f\"Number of unique Loan Id: {num_unique_id}\")"
   ]
  },
  {
   "cell_type": "code",
   "execution_count": 14,
   "id": "aa9f871b-ee01-470a-af88-09d50dc228cb",
   "metadata": {},
   "outputs": [
    {
     "name": "stdout",
     "output_type": "stream",
     "text": [
      "Number of unique users: 59158\n"
     ]
    }
   ],
   "source": [
    "# Count the number of unique items\n",
    "tmp = loans_df.select('userId').distinct().count()\n",
    "print(f\"Number of unique users: {tmp}\")\n",
    "\n",
    "# Count the number of unique users\n",
    "# tmp = ratings_df.select('movieId').distinct().count()\n",
    "# print(f\"Number of unique movies: {tmp}\")"
   ]
  },
  {
   "cell_type": "code",
   "execution_count": 15,
   "id": "41d386c0-47de-457f-a0f1-4efb4f9ff850",
   "metadata": {},
   "outputs": [
    {
     "name": "stdout",
     "output_type": "stream",
     "text": [
      "Distinct values of count:\n",
      "[Row(count=0), Row(count=1), Row(count=2), Row(count=3), Row(count=4), Row(count=5), Row(count=6), Row(count=7), Row(count=8)]\n"
     ]
    }
   ],
   "source": [
    "print('Distinct values of count:')\n",
    "print(sorted(loans_df.select('count').distinct().collect()))"
   ]
  },
  {
   "cell_type": "code",
   "execution_count": 16,
   "id": "18f5bc8b-ee99-490a-89e0-8a319deb255f",
   "metadata": {},
   "outputs": [
    {
     "name": "stdout",
     "output_type": "stream",
     "text": [
      "+-----+\n",
      "|count|\n",
      "+-----+\n",
      "|    1|\n",
      "|    6|\n",
      "|    3|\n",
      "|    5|\n",
      "|    4|\n",
      "|    8|\n",
      "|    7|\n",
      "|    2|\n",
      "|    0|\n",
      "+-----+\n",
      "\n"
     ]
    }
   ],
   "source": [
    "# distinct values of the rating\n",
    "loans_df.select(\"count\").distinct().show()"
   ]
  },
  {
   "cell_type": "markdown",
   "id": "67ad89af-06f7-4fac-b6bb-9d0ec842ed04",
   "metadata": {},
   "source": [
    "========================================================================================================"
   ]
  },
  {
   "cell_type": "markdown",
   "id": "6ea6197c-53b9-4c06-a20d-1e1f2233d371",
   "metadata": {},
   "source": [
    "Converting the dataset into train test and validation split."
   ]
  },
  {
   "cell_type": "code",
   "execution_count": 17,
   "id": "25b7a938-17f5-460f-a3bf-78ebd6628477",
   "metadata": {},
   "outputs": [
    {
     "name": "stdout",
     "output_type": "stream",
     "text": [
      "+------------+-----+------+\n",
      "|LoanIdFormat|count|Amount|\n",
      "+------------+-----+------+\n",
      "|           1|    3|   500|\n",
      "|           1|    3|   700|\n",
      "|           1|    3|   800|\n",
      "|           1|    3|   800|\n",
      "|           1|    3|   800|\n",
      "|           1|    3|   800|\n",
      "|           1|    3|   800|\n",
      "|           1|    3|   900|\n",
      "|           1|    3|  1000|\n",
      "|           1|    3|  1000|\n",
      "+------------+-----+------+\n",
      "only showing top 10 rows\n",
      "\n"
     ]
    }
   ],
   "source": [
    "loans_df.select([\"LoanIdFormat\",\"count\",\"Amount\"]).show(10)"
   ]
  },
  {
   "cell_type": "code",
   "execution_count": 18,
   "id": "471dc8a3-2474-41c2-a4c2-d3f09756df0d",
   "metadata": {},
   "outputs": [
    {
     "data": {
      "text/plain": [
       "DataFrame[Id: string, AccountID: string, Number_Of_Loans_Granted__c: int, Num_Of_Loans_Paid__c: int, Purpose_of_Loan__c: string, Total_Repayments__c: int, Amount: int, Term_in_Weeks__c: double, Payment_Frequency__c: string, StageName: string, Applicant Age: int, summary_income: double, summary_income_cv: double, city: string, state: string, Country: string, userId: int, loanId: int, count: int, LoanIdFormat: int]"
      ]
     },
     "execution_count": 18,
     "metadata": {},
     "output_type": "execute_result"
    }
   ],
   "source": [
    "train, validation = loans_df.randomSplit([0.8, 0.2])\n",
    "# train, validation, test = loans_df.randomSplit([0.8, 0.1, 0.1])\n",
    "# # cache data\n",
    "train.cache()\n",
    "validation.cache()\n",
    "# test.cache()"
   ]
  },
  {
   "cell_type": "code",
   "execution_count": 19,
   "id": "b2ad213d-bf88-4d40-b43e-609a301116fe",
   "metadata": {},
   "outputs": [
    {
     "name": "stdout",
     "output_type": "stream",
     "text": [
      "+------+------+------------+-----+------+-------------------+\n",
      "|userId|loanId|LoanIdFormat|count|Amount|Total_Repayments__c|\n",
      "+------+------+------------+-----+------+-------------------+\n",
      "| 23515|    37|           1|    3|   700|                 10|\n",
      "| 23722|    52|           1|    1|   800|                 10|\n",
      "| 23844|    56|           1|    1|   700|                 10|\n",
      "| 23601|    65|           1|    1|   600|                 10|\n",
      "|   186|    99|           1|    1|   350|                 10|\n",
      "| 24458|   113|           1|    2|   450|                 10|\n",
      "| 24289|   184|           1|    2|   200|                 10|\n",
      "| 24831|   252|           1|    1|  1000|                 10|\n",
      "| 25043|   253|           1|    2|   400|                 10|\n",
      "| 23833|   258|           1|    3|   550|                 10|\n",
      "|    95|   268|           1|    1|   500|                 10|\n",
      "| 24975|   289|           1|    2|   200|                 10|\n",
      "| 23319|   327|           1|    2|   250|                 10|\n",
      "| 23546|   328|           1|    1|   700|                 10|\n",
      "| 24876|   385|           1|    3|   600|                 10|\n",
      "| 23837|   391|           1|    1|   200|                 10|\n",
      "|   229|   412|           1|    2|  1000|                 10|\n",
      "| 23440|   416|           1|    2|   250|                 10|\n",
      "|   274|   472|           1|    1|   300|                 10|\n",
      "|   298|   513|           1|    1|   400|                 10|\n",
      "+------+------+------------+-----+------+-------------------+\n",
      "only showing top 20 rows\n",
      "\n"
     ]
    }
   ],
   "source": [
    "validation.select([\"userId\",\"loanId\",\"LoanIdFormat\",\"count\",\"Amount\",\"Total_Repayments__c\"]).show()"
   ]
  },
  {
   "cell_type": "code",
   "execution_count": 20,
   "id": "b4ec2ccf-e2df-4169-82d1-84b24e8cdf75",
   "metadata": {},
   "outputs": [
    {
     "name": "stdout",
     "output_type": "stream",
     "text": [
      "root\n",
      " |-- Id: string (nullable = true)\n",
      " |-- AccountID: string (nullable = true)\n",
      " |-- Number_Of_Loans_Granted__c: integer (nullable = true)\n",
      " |-- Num_Of_Loans_Paid__c: integer (nullable = true)\n",
      " |-- Purpose_of_Loan__c: string (nullable = true)\n",
      " |-- Total_Repayments__c: integer (nullable = true)\n",
      " |-- Amount: integer (nullable = true)\n",
      " |-- Term_in_Weeks__c: double (nullable = true)\n",
      " |-- Payment_Frequency__c: string (nullable = true)\n",
      " |-- StageName: string (nullable = true)\n",
      " |-- Applicant Age: integer (nullable = true)\n",
      " |-- summary_income: double (nullable = true)\n",
      " |-- summary_income_cv: double (nullable = true)\n",
      " |-- city: string (nullable = true)\n",
      " |-- state: string (nullable = true)\n",
      " |-- Country: string (nullable = true)\n",
      " |-- userId: integer (nullable = true)\n",
      " |-- loanId: integer (nullable = true)\n",
      " |-- count: integer (nullable = true)\n",
      " |-- LoanIdFormat: integer (nullable = true)\n",
      "\n"
     ]
    }
   ],
   "source": [
    "loans_df.printSchema()"
   ]
  },
  {
   "cell_type": "code",
   "execution_count": 21,
   "id": "e2226eb6-5980-4249-bd83-5f3b6862faf1",
   "metadata": {},
   "outputs": [],
   "source": [
    "def train_ALS(train_data, validation_data, num_iters, reg_param, ranks):\n",
    "    \"\"\"\n",
    "    Grid Search Function to select the best model based on RMSE of hold-out data\n",
    "    \"\"\"\n",
    "    # initial\n",
    "    min_error = float('inf')\n",
    "    best_rank = -1\n",
    "    best_regularization = 0\n",
    "    best_model = None\n",
    "    for rank in ranks:\n",
    "        for reg in reg_param:\n",
    "            # Train the model using the training data\n",
    "            als_model = ALS(maxIter=num_iters,regParam=reg, rank=rank,\n",
    "                                        userCol='userId', itemCol='LoanIdFormat', ratingCol='count', seed=99,\n",
    "                           coldStartStrategy=\"drop\",nonnegative=True)\n",
    "            model = als_model.fit(train_data)\n",
    "            \n",
    "            # Generate predictions on the test data\n",
    "            predictions = model.transform(validation_data)\n",
    "            predictions = predictions.withColumn(\"prediction\", expr(\"CASE WHEN prediction < 0 THEN 0 WHEN prediction > 9 THEN 9 ELSE prediction END\"))\n",
    "            \n",
    "            evaluator = RegressionEvaluator(metricName='rmse', labelCol='count', predictionCol='prediction')\n",
    "            error = evaluator.evaluate(predictions)\n",
    "            \n",
    "            print('{} latent factors and regularization = {}: validation RMSE is {}'.format(rank, reg, error))\n",
    "            if error < min_error:\n",
    "                min_error = error\n",
    "                best_rank = rank\n",
    "                best_regularization = reg\n",
    "                best_model = model\n",
    "    print('\\nThe best model has {} latent factors and regularization = {}'.format(best_rank, best_regularization))\n",
    "    return best_model"
   ]
  },
  {
   "cell_type": "code",
   "execution_count": 22,
   "id": "fb8832fe-fe68-4372-9d4d-294633e187b0",
   "metadata": {},
   "outputs": [
    {
     "name": "stdout",
     "output_type": "stream",
     "text": [
      "8 latent factors and regularization = 0.001: validation RMSE is 0.012937124622129256\n",
      "8 latent factors and regularization = 0.01: validation RMSE is 0.050933549062445974\n",
      "8 latent factors and regularization = 0.05: validation RMSE is 0.07633936701223833\n",
      "8 latent factors and regularization = 0.1: validation RMSE is 0.09729289649130228\n",
      "8 latent factors and regularization = 0.2: validation RMSE is 0.19778619772391207\n",
      "10 latent factors and regularization = 0.001: validation RMSE is 0.04959422859404009\n",
      "10 latent factors and regularization = 0.01: validation RMSE is 0.02166912112830898\n",
      "10 latent factors and regularization = 0.05: validation RMSE is 0.06139648709525339\n",
      "10 latent factors and regularization = 0.1: validation RMSE is 0.09342881980157451\n",
      "10 latent factors and regularization = 0.2: validation RMSE is 0.1984996700104884\n",
      "20 latent factors and regularization = 0.001: validation RMSE is 0.07537289705585688\n",
      "20 latent factors and regularization = 0.01: validation RMSE is 0.05149001014351458\n",
      "20 latent factors and regularization = 0.05: validation RMSE is 0.09223604194403798\n",
      "20 latent factors and regularization = 0.1: validation RMSE is 0.11137144880197355\n",
      "20 latent factors and regularization = 0.2: validation RMSE is 0.19820742141896389\n",
      "40 latent factors and regularization = 0.001: validation RMSE is 0.1491737537288046\n",
      "40 latent factors and regularization = 0.01: validation RMSE is 0.04908852461687336\n",
      "40 latent factors and regularization = 0.05: validation RMSE is 0.09015440337870799\n",
      "40 latent factors and regularization = 0.1: validation RMSE is 0.10623642815060648\n",
      "40 latent factors and regularization = 0.2: validation RMSE is 0.19797805404782098\n",
      "60 latent factors and regularization = 0.001: validation RMSE is 0.10949334118608582\n",
      "60 latent factors and regularization = 0.01: validation RMSE is 0.050733039295205035\n",
      "60 latent factors and regularization = 0.05: validation RMSE is 0.09104310259998298\n",
      "60 latent factors and regularization = 0.1: validation RMSE is 0.106843396337421\n",
      "60 latent factors and regularization = 0.2: validation RMSE is 0.19785928579199263\n",
      "\n",
      "The best model has 8 latent factors and regularization = 0.001\n",
      "Total Runtime: 268.03 seconds\n"
     ]
    }
   ],
   "source": [
    "# hyper-param config\n",
    "num_iterations = 10\n",
    "ranks = [8, 10, 20, 40, 60]\n",
    "reg_params = [0.001, 0.01, 0.05, 0.1, 0.2]\n",
    "\n",
    "# grid search and select best model\n",
    "start_time = time.time()\n",
    "final_model = train_ALS(train, validation, num_iterations, reg_params, ranks)\n",
    "\n",
    "print ('Total Runtime: {:.2f} seconds'.format(time.time() - start_time))"
   ]
  },
  {
   "cell_type": "code",
   "execution_count": 23,
   "id": "c7cf3c57-11f2-46bd-b434-1cebf52a0c13",
   "metadata": {},
   "outputs": [],
   "source": [
    "#OLD :  40 latent factors and regularization = 0.001\n",
    "#NEW: The best model has 8 latent factors and regularization = 0.001"
   ]
  },
  {
   "cell_type": "markdown",
   "id": "bc2b0ef2-8126-4a7e-b2c9-49851bf63c18",
   "metadata": {},
   "source": [
    "## Predicting the results from validation data"
   ]
  },
  {
   "cell_type": "code",
   "execution_count": 24,
   "id": "57ba7905-f3e0-4a23-8b3d-0c41ffa5d0ca",
   "metadata": {},
   "outputs": [],
   "source": [
    "predictions = final_model.transform(validation)\n",
    "# predictions = predictions.withColumn(\"prediction\", expr(\"CASE WHEN prediction < 0 THEN 0 WHEN prediction > 9 THEN 9 ELSE prediction END\"))"
   ]
  },
  {
   "cell_type": "code",
   "execution_count": 25,
   "id": "6cd93785-db30-4571-b897-8ccf3d28e6fa",
   "metadata": {},
   "outputs": [
    {
     "name": "stdout",
     "output_type": "stream",
     "text": [
      "+------+------+-----+------------+----------+\n",
      "|userId|loanId|count|LoanIdFormat|prediction|\n",
      "+------+------+-----+------------+----------+\n",
      "|    10| 68823|    4|           1| 3.9756207|\n",
      "|    10|196969|    4|           1| 3.9756207|\n",
      "|    10|270162|    4|           1| 3.9756207|\n",
      "|    10|371513|    4|           1| 3.9756207|\n",
      "|    10|  4994|    4|           6| 3.9778917|\n",
      "|    10| 13864|    4|           6| 3.9778917|\n",
      "+------+------+-----+------------+----------+\n",
      "\n"
     ]
    }
   ],
   "source": [
    "predictions.filter(predictions.userId == 10).select(\"userId\", \"loanId\", \"count\", \"LoanIdFormat\", \"prediction\").show(20)"
   ]
  },
  {
   "cell_type": "code",
   "execution_count": 26,
   "id": "e19b27ef-bf27-4cfe-8e4f-b9ac81705f5c",
   "metadata": {},
   "outputs": [
    {
     "data": {
      "text/plain": [
       "111461"
      ]
     },
     "execution_count": 26,
     "metadata": {},
     "output_type": "execute_result"
    }
   ],
   "source": [
    "predictions.count()"
   ]
  },
  {
   "cell_type": "code",
   "execution_count": 27,
   "id": "067e5d6e-f081-4b75-bd3f-6d9f38b0cb17",
   "metadata": {},
   "outputs": [
    {
     "data": {
      "text/plain": [
       "111965"
      ]
     },
     "execution_count": 27,
     "metadata": {},
     "output_type": "execute_result"
    }
   ],
   "source": [
    "validation.count()"
   ]
  },
  {
   "cell_type": "markdown",
   "id": "ec61d4fc-bf4d-4d22-a160-2df1e5e19246",
   "metadata": {},
   "source": [
    "## Error Evaluation with RMSE"
   ]
  },
  {
   "cell_type": "markdown",
   "id": "e2d55e52-4dec-48df-8df2-88866b499378",
   "metadata": {},
   "source": [
    "<img src=\"https://docs.oracle.com/en/cloud/saas/planning-budgeting-cloud/pfusu/img/insights_rmse_formula.jpg\" height=\"300\" width=\"300\" />"
   ]
  },
  {
   "cell_type": "code",
   "execution_count": 28,
   "id": "5e28740c-bd7f-4213-986a-04b0b8453f48",
   "metadata": {},
   "outputs": [
    {
     "name": "stdout",
     "output_type": "stream",
     "text": [
      "Root Mean Squared Error (RMSE) = 0.012937124622129256\n"
     ]
    }
   ],
   "source": [
    " \n",
    "# Evaluate the model using Root Mean Squared Error (RMSE)\n",
    "evaluator = RegressionEvaluator(metricName=\"rmse\", labelCol=\"count\", predictionCol=\"prediction\")\n",
    "rmse = evaluator.evaluate(predictions)\n",
    "print(\"Root Mean Squared Error (RMSE) = \" + str(rmse))\n"
   ]
  },
  {
   "cell_type": "markdown",
   "id": "c8069530-1743-4e8b-81de-d8726a15a25e",
   "metadata": {},
   "source": [
    "## Recommendation of N users"
   ]
  },
  {
   "cell_type": "code",
   "execution_count": 29,
   "id": "5fbbfcf7-90ab-4c5e-a5e4-d781f369fb39",
   "metadata": {},
   "outputs": [],
   "source": [
    "userRecommends = final_model.recommendForAllUsers(5)\n",
    "loanRecommends = final_model.recommendForAllItems(5)"
   ]
  },
  {
   "cell_type": "code",
   "execution_count": 30,
   "id": "ba1eaaf8-ecef-43e9-9070-e70c3c6d8315",
   "metadata": {},
   "outputs": [
    {
     "name": "stdout",
     "output_type": "stream",
     "text": [
      "root\n",
      " |-- userId: integer (nullable = false)\n",
      " |-- recommendations: array (nullable = true)\n",
      " |    |-- element: struct (containsNull = true)\n",
      " |    |    |-- LoanIdFormat: integer (nullable = true)\n",
      " |    |    |-- rating: float (nullable = true)\n",
      "\n"
     ]
    }
   ],
   "source": [
    "userRecommends.printSchema()"
   ]
  },
  {
   "cell_type": "code",
   "execution_count": 31,
   "id": "e1d49ac8-fae2-43c6-97dd-016464edf5ea",
   "metadata": {},
   "outputs": [
    {
     "name": "stdout",
     "output_type": "stream",
     "text": [
      "root\n",
      " |-- Id: string (nullable = true)\n",
      " |-- AccountID: string (nullable = true)\n",
      " |-- Number_Of_Loans_Granted__c: integer (nullable = true)\n",
      " |-- Num_Of_Loans_Paid__c: integer (nullable = true)\n",
      " |-- Purpose_of_Loan__c: string (nullable = true)\n",
      " |-- Total_Repayments__c: integer (nullable = true)\n",
      " |-- Amount: integer (nullable = true)\n",
      " |-- Term_in_Weeks__c: double (nullable = true)\n",
      " |-- Payment_Frequency__c: string (nullable = true)\n",
      " |-- StageName: string (nullable = true)\n",
      " |-- Applicant Age: integer (nullable = true)\n",
      " |-- summary_income: double (nullable = true)\n",
      " |-- summary_income_cv: double (nullable = true)\n",
      " |-- city: string (nullable = true)\n",
      " |-- state: string (nullable = true)\n",
      " |-- Country: string (nullable = true)\n",
      " |-- userId: integer (nullable = true)\n",
      " |-- loanId: integer (nullable = true)\n",
      " |-- count: integer (nullable = true)\n",
      " |-- LoanIdFormat: integer (nullable = true)\n",
      "\n"
     ]
    }
   ],
   "source": [
    "validation.printSchema()"
   ]
  },
  {
   "cell_type": "markdown",
   "id": "b0c44455-54f9-4bc2-834e-6a6a123cba2e",
   "metadata": {},
   "source": [
    "## ALS Model Evaluation"
   ]
  },
  {
   "cell_type": "code",
   "execution_count": 32,
   "id": "6e348c3f-d520-4018-bcd8-d6d4e52e7b09",
   "metadata": {},
   "outputs": [],
   "source": [
    "from pyspark.sql.functions import col, expr"
   ]
  },
  {
   "cell_type": "code",
   "execution_count": 33,
   "id": "7fd677b6-2055-4995-bd1d-7367cbc3d903",
   "metadata": {},
   "outputs": [],
   "source": [
    "# Assuming you have a DataFrame 'validation_data' containing the ground truth interactions\n",
    "# and a DataFrame 'recommendations' containing the top-N recommendations generated by the ALS model\n",
    "\n",
    "# Join recommendations with ground truth data to identify true positives\n",
    "true_positives = predictions.join(validation, ['userId', 'LoanIdFormat'], 'inner')"
   ]
  },
  {
   "cell_type": "code",
   "execution_count": 34,
   "id": "33526f67-bf22-491e-9aec-b02d8ae9eb9f",
   "metadata": {},
   "outputs": [],
   "source": [
    "# Calculate the number of true positives per user\n",
    "tp_per_user = true_positives.groupBy('userId').agg(expr('count(LoanIdFormat) as true_positives'))"
   ]
  },
  {
   "cell_type": "code",
   "execution_count": 35,
   "id": "1312c8e0-c174-4d01-b079-c48d12cbd582",
   "metadata": {},
   "outputs": [],
   "source": [
    " # Calculate the total number of relevant items per user in the ground truth data\n",
    "relevant_per_user = validation.groupBy('userId').agg(expr('count(LoanIdFormat) as relevant'))"
   ]
  },
  {
   "cell_type": "code",
   "execution_count": 36,
   "id": "331e28a0-b31f-4ca7-b426-6aaa869ca599",
   "metadata": {},
   "outputs": [],
   "source": [
    "# Calculate Precision per user\n",
    "precision_per_user = tp_per_user.join(relevant_per_user, 'userId', 'inner') \\\n",
    "    .selectExpr('userId', 'true_positives / relevant as precision')"
   ]
  },
  {
   "cell_type": "code",
   "execution_count": 37,
   "id": "6a7d7e11-6e29-41a3-84b7-20b42d84e5da",
   "metadata": {},
   "outputs": [],
   "source": [
    "# Calculate Recall per user\n",
    "recall_per_user = tp_per_user.join(relevant_per_user, 'userId', 'inner') \\\n",
    "    .selectExpr('userId', 'true_positives / relevant as recall')"
   ]
  },
  {
   "cell_type": "code",
   "execution_count": 38,
   "id": "4fa119c7-560c-4eea-83ca-246357a53682",
   "metadata": {},
   "outputs": [],
   "source": [
    "# Calculate F1-score per user\n",
    "f1_score_per_user = precision_per_user.join(recall_per_user, 'userId', 'inner') \\\n",
    "    .selectExpr('userId', '(2 * precision * recall) / (precision + recall) as f1_score')"
   ]
  },
  {
   "cell_type": "code",
   "execution_count": 39,
   "id": "a855a9fa-c9d4-4866-be4b-bbcbb1846b33",
   "metadata": {},
   "outputs": [],
   "source": [
    "# Calculate overall Precision, Recall, and F1-score\n",
    "overall_precision = precision_per_user.agg({'precision': 'avg'}).collect()[0][0]\n",
    "overall_recall = recall_per_user.agg({'recall': 'avg'}).collect()[0][0]\n",
    "overall_f1_score = f1_score_per_user.agg({'f1_score': 'avg'}).collect()[0][0]\n"
   ]
  },
  {
   "cell_type": "code",
   "execution_count": 40,
   "id": "837dfdff-a6fa-4a8f-961c-c7eb98d16cb7",
   "metadata": {},
   "outputs": [
    {
     "name": "stdout",
     "output_type": "stream",
     "text": [
      "Overall Precision: 1.8412396212810629\n",
      "Overall Recall: 1.8412396212810629\n",
      "Overall F1-score: 1.8412396212810802\n"
     ]
    }
   ],
   "source": [
    "\n",
    "# Print the results\n",
    "print(\"Overall Precision:\", overall_precision)\n",
    "print(\"Overall Recall:\", overall_recall)\n",
    "print(\"Overall F1-score:\", overall_f1_score)\n"
   ]
  },
  {
   "cell_type": "code",
   "execution_count": null,
   "id": "853c846f-1b77-4f36-b7ee-7f5ca2fb0bd6",
   "metadata": {},
   "outputs": [],
   "source": []
  },
  {
   "cell_type": "markdown",
   "id": "2e334b00-3dd4-4be8-8d57-180e6e60af92",
   "metadata": {},
   "source": [
    "## User Factors and Item Factors to calculate the cosine Similarity"
   ]
  },
  {
   "cell_type": "code",
   "execution_count": 41,
   "id": "d38ab8b5-cb23-4a04-93f2-741727bd1303",
   "metadata": {},
   "outputs": [],
   "source": [
    "userFactors = final_model.userFactors\n",
    "itemFactors = final_model.itemFactors"
   ]
  },
  {
   "cell_type": "code",
   "execution_count": 42,
   "id": "e7585e5b-e3b4-42f5-92f1-4c2b2d108f49",
   "metadata": {},
   "outputs": [
    {
     "name": "stdout",
     "output_type": "stream",
     "text": [
      "root\n",
      " |-- id: integer (nullable = false)\n",
      " |-- features: array (nullable = true)\n",
      " |    |-- element: float (containsNull = false)\n",
      "\n"
     ]
    }
   ],
   "source": [
    "userFactors.printSchema()"
   ]
  },
  {
   "cell_type": "code",
   "execution_count": 43,
   "id": "cafa22d4-6342-4994-8c3a-72a16876e4e2",
   "metadata": {},
   "outputs": [
    {
     "name": "stdout",
     "output_type": "stream",
     "text": [
      "+---+------------------------------------------------------------------------------------------------+\n",
      "|id |Features                                                                                        |\n",
      "+---+------------------------------------------------------------------------------------------------+\n",
      "|10 |[0.9581449, 3.192441, 4.54543, 7.3011003, 2.7185254, 0.12014717, 0.001578205, 0.1461944]        |\n",
      "|20 |[0.22901839, 0.8187388, 1.1340045, 1.8232843, 0.6648415, 0.03510927, 0.0, 0.0307664]            |\n",
      "|30 |[0.2609801, 0.7707764, 1.1288944, 1.8289481, 0.7079715, 0.017045103, 0.005176256, 0.042354356]  |\n",
      "|40 |[0.22901839, 0.8187388, 1.1340045, 1.8232843, 0.6648415, 0.03510927, 0.0, 0.0307664]            |\n",
      "|50 |[0.25470343, 0.78115815, 1.1251354, 1.827645, 0.70651823, 0.01652176, 0.0018497412, 0.032913897]|\n",
      "|60 |[0.23470937, 0.8067877, 1.1359364, 1.8243833, 0.6729415, 0.032506987, 0.0, 0.0342161]           |\n",
      "|70 |[0.22901839, 0.8187388, 1.1340045, 1.8232843, 0.6648415, 0.03510927, 0.0, 0.0307664]            |\n",
      "|80 |[0.49716598, 1.5621667, 2.274926, 3.6533914, 1.3843786, 0.050977178, 0.0019605774, 0.082335435] |\n",
      "|90 |[0.24017419, 0.8016461, 1.1301897, 1.8253748, 0.684635, 0.026377967, 0.0, 0.030600494]          |\n",
      "|100|[0.25218925, 0.7900204, 1.1170102, 1.8269205, 0.710311, 0.01277214, 0.0, 0.022535548]           |\n",
      "+---+------------------------------------------------------------------------------------------------+\n",
      "only showing top 10 rows\n",
      "\n"
     ]
    }
   ],
   "source": [
    "userFactors.select([\"id\",\"Features\"]).show(10,truncate=False)"
   ]
  },
  {
   "cell_type": "markdown",
   "id": "1589f64a-0d7d-4508-8dbe-37ff54ca0458",
   "metadata": {},
   "source": [
    "## Calculate cosine similarity:"
   ]
  },
  {
   "cell_type": "markdown",
   "id": "4e57c89c-33b0-4005-94cb-c8e7bc86fc1f",
   "metadata": {},
   "source": [
    "### user-User Cosine Similarity code "
   ]
  },
  {
   "cell_type": "markdown",
   "id": "aaa1fcf4-f406-442a-9be1-4f6860bcdb83",
   "metadata": {},
   "source": [
    "<img src=\"https://datascience103579984.files.wordpress.com/2020/01/13-12.png\" height=\"600\" width=\"600\" />"
   ]
  },
  {
   "cell_type": "code",
   "execution_count": 44,
   "id": "76bee01e-c55e-4472-9e0e-d5bf2b0c8157",
   "metadata": {},
   "outputs": [],
   "source": [
    "def cosine_similarity(u1, u2):\n",
    "    \"\"\"Calculates cosine similarity between two user factors.\"\"\"\n",
    "    # Convert lists to DenseVectors before performing operations\n",
    "    u1_vector = Vectors.dense(u1)\n",
    "    u2_vector = Vectors.dense(u2)\n",
    "    return u1_vector.dot(u2_vector) / (u1_vector.norm(p=2) * u2_vector.norm(p=2))"
   ]
  },
  {
   "cell_type": "code",
   "execution_count": 45,
   "id": "e5da4c16-8350-4580-a7cf-b872356d231c",
   "metadata": {},
   "outputs": [
    {
     "name": "stdout",
     "output_type": "stream",
     "text": [
      "Cosine similarity between users 10 and 20: 0.9999287995585844\n"
     ]
    }
   ],
   "source": [
    "# Example usage\n",
    "user1_id = 10\n",
    "user2_id = 20\n",
    "user1_factors = userFactors.filter(userFactors.id == user1_id ).collect()[0][1]\n",
    "user2_factors = userFactors.filter(userFactors.id == user2_id ).collect()[0][1]\n",
    "# user1_factors = userFactors.to_dense().rdd.filter(lambda x: x[0] == user1_id).collect()[0][1]\n",
    "# user2_factors = userFactors.to_dense().rdd.filter(lambda x: x[0] == user2_id).collect()[0][1]\n",
    "similarity = cosine_similarity(user1_factors, user2_factors)\n",
    "print(f\"Cosine similarity between users {user1_id} and {user2_id}: {similarity}\")\n"
   ]
  },
  {
   "cell_type": "markdown",
   "id": "37946b00-6e3f-498c-91ba-d722b5785b9c",
   "metadata": {},
   "source": [
    "### User-Item Cosine Similarity code"
   ]
  },
  {
   "cell_type": "code",
   "execution_count": 46,
   "id": "c8f1a8db-172b-4122-9030-9e5c40162fc6",
   "metadata": {},
   "outputs": [
    {
     "name": "stdout",
     "output_type": "stream",
     "text": [
      "Cosine similarity between users 10 and 1: 0.9999504672265569\n"
     ]
    }
   ],
   "source": [
    "# Example usage\n",
    "user1_id = 10\n",
    "item_id = 1\n",
    "user_factors = userFactors.filter(userFactors.id == user1_id ).collect()[0][1]\n",
    "item_factors = itemFactors.filter(itemFactors.id == item_id ).collect()[0][1]\n",
    "\n",
    "user_item_similarity = cosine_similarity(user_factors, item_factors)\n",
    "print(f\"Cosine similarity between users {user1_id} and {item_id}: {user_item_similarity}\")\n"
   ]
  },
  {
   "cell_type": "markdown",
   "id": "a8f99d3c-a41b-45a5-a1f3-a754a40d86ef",
   "metadata": {},
   "source": [
    "###  Cosine Similarity of user 10 with all Loans"
   ]
  },
  {
   "cell_type": "code",
   "execution_count": 47,
   "id": "f8edb118-b30d-428a-a1b0-86de708ae480",
   "metadata": {},
   "outputs": [],
   "source": [
    "TopCosineLoanforuser10 = []\n",
    "for item in range(itemFactors.count()):\n",
    "    item_id = itemFactors.select(\"Id\").sort(\"Id\").take(itemFactors.count())[item][0]\n",
    "    user1_id = 10\n",
    "    user_factors = userFactors.filter(userFactors.id == user1_id ).collect()[0][1]\n",
    "    item_factors = itemFactors.filter(itemFactors.id == item_id ).collect()[0][1]\n",
    "    \n",
    "    \n",
    "    user_item_similarity = cosine_similarity(user_factors, item_factors)\n",
    "    TopCosineLoanforuser10.append({\"userID\":user1_id,\"LoanId\":item_id,\"CosineSimilarity\":user_item_similarity})"
   ]
  },
  {
   "cell_type": "code",
   "execution_count": 49,
   "id": "e3027138-23af-4836-beaf-2cd38d7b5a19",
   "metadata": {},
   "outputs": [],
   "source": [
    "import operator"
   ]
  },
  {
   "cell_type": "code",
   "execution_count": 50,
   "id": "a65ec1b5-4c8a-45f3-81ec-ac03d5ebc44a",
   "metadata": {},
   "outputs": [
    {
     "data": {
      "text/plain": [
       "[{'userID': 10, 'LoanId': 1, 'CosineSimilarity': 0.9999504672265569},\n",
       " {'userID': 10, 'LoanId': 6, 'CosineSimilarity': 0.9999287994545193},\n",
       " {'userID': 10, 'LoanId': 7, 'CosineSimilarity': 0.9994599574025389},\n",
       " {'userID': 10, 'LoanId': 9, 'CosineSimilarity': 0.999299320206466},\n",
       " {'userID': 10, 'LoanId': 4, 'CosineSimilarity': 0.9991921128223066},\n",
       " {'userID': 10, 'LoanId': 3, 'CosineSimilarity': 0.9991060019277567},\n",
       " {'userID': 10, 'LoanId': 5, 'CosineSimilarity': 0.9990450845465627},\n",
       " {'userID': 10, 'LoanId': 16, 'CosineSimilarity': 0.9990292505660257},\n",
       " {'userID': 10, 'LoanId': 11, 'CosineSimilarity': 0.998938687097469},\n",
       " {'userID': 10, 'LoanId': 8, 'CosineSimilarity': 0.9989019170662072},\n",
       " {'userID': 10, 'LoanId': 14, 'CosineSimilarity': 0.998890172705074},\n",
       " {'userID': 10, 'LoanId': 2, 'CosineSimilarity': 0.9987753274611886},\n",
       " {'userID': 10, 'LoanId': 12, 'CosineSimilarity': 0.9985581609775114},\n",
       " {'userID': 10, 'LoanId': 19, 'CosineSimilarity': 0.9984063298037468},\n",
       " {'userID': 10, 'LoanId': 20, 'CosineSimilarity': 0.9980276594950048},\n",
       " {'userID': 10, 'LoanId': 15, 'CosineSimilarity': 0.996229085310392},\n",
       " {'userID': 10, 'LoanId': 18, 'CosineSimilarity': 0.9961551927847463},\n",
       " {'userID': 10, 'LoanId': 10, 'CosineSimilarity': 0.9958450390624725},\n",
       " {'userID': 10, 'LoanId': 17, 'CosineSimilarity': 0.7204221107928104},\n",
       " {'userID': 10, 'LoanId': 13, 'CosineSimilarity': 0.6972903996130344}]"
      ]
     },
     "execution_count": 50,
     "metadata": {},
     "output_type": "execute_result"
    }
   ],
   "source": [
    "sorted_Cosine_list = sorted(TopCosineLoanforuser10, key=operator.itemgetter('CosineSimilarity'),reverse=True)\n",
    "sorted_Cosine_list"
   ]
  },
  {
   "cell_type": "code",
   "execution_count": null,
   "id": "fba88412-ab37-40c1-8ac9-357641af74ea",
   "metadata": {},
   "outputs": [],
   "source": []
  },
  {
   "cell_type": "markdown",
   "id": "f37aa796-bc53-4cfd-a06f-7d7cf4c50d5c",
   "metadata": {},
   "source": [
    "##  Calculate centered cosine similarity:"
   ]
  },
  {
   "cell_type": "code",
   "execution_count": 51,
   "id": "276d4b2a-9d94-40cb-a7f1-2aeb64938ffc",
   "metadata": {},
   "outputs": [],
   "source": [
    "def centered_cosine_similarity(u, v):\n",
    "    \"\"\" Calculate centered cosine similarity between two vectors u and v. \"\"\"\n",
    "    # Calculate mean of u and v\n",
    "    mean_u = sum(u) / len(u)\n",
    "    mean_v = sum(v) / len(v)\n",
    "    \n",
    "    # Subtract mean from u and v\n",
    "    centered_u = Vectors.dense([x - mean_u for x in u])\n",
    "    centered_v = Vectors.dense([x - mean_v for x in v])\n",
    "    \n",
    "    # Calculate centered cosine similarity\n",
    "    dot_product = float(centered_u.dot(centered_v))\n",
    "    norm_u = float(centered_u.norm(2))\n",
    "    norm_v = float(centered_v.norm(2))\n",
    "    \n",
    "    centered_sim = dot_product / (norm_u * norm_v)\n",
    "    return centered_sim\n"
   ]
  },
  {
   "cell_type": "markdown",
   "id": "19afff63-8654-410f-b0e1-3579c0dbaf90",
   "metadata": {},
   "source": [
    "### User-User Centerd Cosine Similarity code"
   ]
  },
  {
   "cell_type": "code",
   "execution_count": 52,
   "id": "a32fbefc-c5b8-4cd0-be5e-8caf9a7a43c5",
   "metadata": {},
   "outputs": [
    {
     "name": "stdout",
     "output_type": "stream",
     "text": [
      "Centered Cosine similarity between users 10 and 20: 0.9998643610135634\n"
     ]
    }
   ],
   "source": [
    "# Example usage\n",
    "user1_id = 10\n",
    "user2_id = 20\n",
    "user1_factors = userFactors.filter(userFactors.id == user1_id ).collect()[0][1]\n",
    "user2_factors = userFactors.filter(userFactors.id == user2_id ).collect()[0][1]\n",
    "similarity = centered_cosine_similarity(user1_factors, user2_factors)\n",
    "print(f\"Centered Cosine similarity between users {user1_id} and {user2_id}: {similarity}\")\n"
   ]
  },
  {
   "cell_type": "markdown",
   "id": "af032ead-97f1-49fb-b084-2e49794a33d6",
   "metadata": {},
   "source": [
    "### User-Item Centerd Cosine Similarity code"
   ]
  },
  {
   "cell_type": "code",
   "execution_count": 53,
   "id": "44d9be35-49c5-4127-9c43-75fb2c98cbe7",
   "metadata": {},
   "outputs": [
    {
     "name": "stdout",
     "output_type": "stream",
     "text": [
      "Centered Cosine similarity between users 10 and Item 1: 0.9999047977332826\n"
     ]
    }
   ],
   "source": [
    "# Example usage\n",
    "user1_id = 10\n",
    "item_id = 1\n",
    "user2_factors = userFactors.filter(userFactors.id == user1_id ).collect()[0][1]\n",
    "item3_factors = itemFactors.filter(itemFactors.id == item_id ).collect()[0][1]\n",
    "\n",
    "user_item_similarity = centered_cosine_similarity(user2_factors, item3_factors)\n",
    "print(f\"Centered Cosine similarity between users {user1_id} and Item {item_id}: {user_item_similarity}\")\n"
   ]
  },
  {
   "cell_type": "markdown",
   "id": "371d1ad2-6233-42fa-9162-faa06c8809d2",
   "metadata": {},
   "source": [
    "### Cosine Similarity of user 10 with all Loans"
   ]
  },
  {
   "cell_type": "code",
   "execution_count": 54,
   "id": "45b22d6b-9553-4b4f-a3b5-80751b15a360",
   "metadata": {},
   "outputs": [],
   "source": [
    "topNLoanforuser10 = []\n",
    "for item in range(itemFactors.count()):\n",
    "    item_id = itemFactors.select(\"Id\").sort(\"Id\").take(itemFactors.count())[item][0]\n",
    "    user1_id = 10\n",
    "    user_factors = userFactors.filter(userFactors.id == user1_id ).collect()[0][1]\n",
    "    item_factors = itemFactors.filter(itemFactors.id == item_id ).collect()[0][1]\n",
    "    \n",
    "    \n",
    "    user_item_similarity = centered_cosine_similarity(user_factors, item_factors)\n",
    "    topNLoanforuser10.append({\"userID\":user1_id,\"LoanId\":item_id,\"CenteredSimilarity\":user_item_similarity})"
   ]
  },
  {
   "cell_type": "code",
   "execution_count": 55,
   "id": "e34d3003-bf4b-464c-8da7-b34a75136698",
   "metadata": {},
   "outputs": [],
   "source": [
    "# Import the operator module\n",
    "import operator"
   ]
  },
  {
   "cell_type": "code",
   "execution_count": 56,
   "id": "43fcd076-13d2-4667-b7ad-ffd8dc9ae04d",
   "metadata": {},
   "outputs": [
    {
     "data": {
      "text/plain": [
       "[{'userID': 10, 'LoanId': 1, 'CenteredSimilarity': 0.9999047977332826},\n",
       " {'userID': 10, 'LoanId': 6, 'CenteredSimilarity': 0.9998643608054378},\n",
       " {'userID': 10, 'LoanId': 7, 'CenteredSimilarity': 0.9989621563479066},\n",
       " {'userID': 10, 'LoanId': 9, 'CenteredSimilarity': 0.9986758500514171},\n",
       " {'userID': 10, 'LoanId': 4, 'CenteredSimilarity': 0.9984685643194371},\n",
       " {'userID': 10, 'LoanId': 3, 'CenteredSimilarity': 0.9983618795125254},\n",
       " {'userID': 10, 'LoanId': 5, 'CenteredSimilarity': 0.9981485391638203},\n",
       " {'userID': 10, 'LoanId': 16, 'CenteredSimilarity': 0.9981087104726665},\n",
       " {'userID': 10, 'LoanId': 11, 'CenteredSimilarity': 0.9980127544575598},\n",
       " {'userID': 10, 'LoanId': 14, 'CenteredSimilarity': 0.9978739101759401},\n",
       " {'userID': 10, 'LoanId': 8, 'CenteredSimilarity': 0.99786344501052},\n",
       " {'userID': 10, 'LoanId': 2, 'CenteredSimilarity': 0.997640716810169},\n",
       " {'userID': 10, 'LoanId': 12, 'CenteredSimilarity': 0.9974189179134068},\n",
       " {'userID': 10, 'LoanId': 19, 'CenteredSimilarity': 0.9969089287640538},\n",
       " {'userID': 10, 'LoanId': 20, 'CenteredSimilarity': 0.9968069236353047},\n",
       " {'userID': 10, 'LoanId': 15, 'CenteredSimilarity': 0.9948163008950862},\n",
       " {'userID': 10, 'LoanId': 18, 'CenteredSimilarity': 0.9927059699743346},\n",
       " {'userID': 10, 'LoanId': 10, 'CenteredSimilarity': 0.9918849075660491},\n",
       " {'userID': 10, 'LoanId': 17, 'CenteredSimilarity': 0.44685757763628936},\n",
       " {'userID': 10, 'LoanId': 13, 'CenteredSimilarity': 0.3485126929718231}]"
      ]
     },
     "execution_count": 56,
     "metadata": {},
     "output_type": "execute_result"
    }
   ],
   "source": [
    "sorted_list = sorted(topNLoanforuser10, key=operator.itemgetter('CenteredSimilarity'),reverse=True)\n",
    "sorted_list"
   ]
  },
  {
   "cell_type": "code",
   "execution_count": 57,
   "id": "4208959e-85a9-4a9c-a0cb-be5b661f121a",
   "metadata": {},
   "outputs": [
    {
     "data": {
      "text/plain": [
       "[{'userID': 10, 'LoanId': 1, 'CenteredSimilarity': 0.9999047977332826},\n",
       " {'userID': 10, 'LoanId': 2, 'CenteredSimilarity': 0.997640716810169},\n",
       " {'userID': 10, 'LoanId': 3, 'CenteredSimilarity': 0.9983618795125254},\n",
       " {'userID': 10, 'LoanId': 4, 'CenteredSimilarity': 0.9984685643194371},\n",
       " {'userID': 10, 'LoanId': 5, 'CenteredSimilarity': 0.9981485391638203},\n",
       " {'userID': 10, 'LoanId': 6, 'CenteredSimilarity': 0.9998643608054378},\n",
       " {'userID': 10, 'LoanId': 7, 'CenteredSimilarity': 0.9989621563479066},\n",
       " {'userID': 10, 'LoanId': 8, 'CenteredSimilarity': 0.99786344501052},\n",
       " {'userID': 10, 'LoanId': 9, 'CenteredSimilarity': 0.9986758500514171},\n",
       " {'userID': 10, 'LoanId': 10, 'CenteredSimilarity': 0.9918849075660491},\n",
       " {'userID': 10, 'LoanId': 11, 'CenteredSimilarity': 0.9980127544575598},\n",
       " {'userID': 10, 'LoanId': 12, 'CenteredSimilarity': 0.9974189179134068},\n",
       " {'userID': 10, 'LoanId': 13, 'CenteredSimilarity': 0.3485126929718231},\n",
       " {'userID': 10, 'LoanId': 14, 'CenteredSimilarity': 0.9978739101759401},\n",
       " {'userID': 10, 'LoanId': 15, 'CenteredSimilarity': 0.9948163008950862},\n",
       " {'userID': 10, 'LoanId': 16, 'CenteredSimilarity': 0.9981087104726665},\n",
       " {'userID': 10, 'LoanId': 17, 'CenteredSimilarity': 0.44685757763628936},\n",
       " {'userID': 10, 'LoanId': 18, 'CenteredSimilarity': 0.9927059699743346},\n",
       " {'userID': 10, 'LoanId': 19, 'CenteredSimilarity': 0.9969089287640538},\n",
       " {'userID': 10, 'LoanId': 20, 'CenteredSimilarity': 0.9968069236353047}]"
      ]
     },
     "execution_count": 57,
     "metadata": {},
     "output_type": "execute_result"
    }
   ],
   "source": [
    "sorted(topNLoanforuser10, key=operator.itemgetter('LoanId') )"
   ]
  },
  {
   "cell_type": "code",
   "execution_count": 60,
   "id": "bda9c1f5-25a0-42a2-acd6-073eb86e466f",
   "metadata": {},
   "outputs": [],
   "source": [
    "# Collect all user factors into a dictionary\n",
    "user_factors_dict = userFactors.select(\"id\", \"features\").rdd.collectAsMap()\n",
    "\n",
    "# Broadcast the user factors dictionary to all workers\n",
    "broadcast_user_factors = spark.sparkContext.broadcast(user_factors_dict)\n",
    "\n",
    "# Collect all item factors into a dictionary\n",
    "item_factors_dict = itemFactors.select(\"id\", \"features\").rdd.collectAsMap()\n",
    "\n",
    "# Broadcast the item factors dictionary to all workers\n",
    "broadcast_item_factors = spark.sparkContext.broadcast(item_factors_dict)"
   ]
  },
  {
   "cell_type": "code",
   "execution_count": 61,
   "id": "339cd31c-5804-4f05-a949-2de67919deff",
   "metadata": {},
   "outputs": [],
   "source": [
    "# Initially the code is like this !!\n",
    "def cosine_similarity(u1, u2):\n",
    "    \"\"\"Calculates cosine similarity between two user factors.\"\"\"\n",
    "    # Convert lists to DenseVectors before performing operations\n",
    "    u1_vector = Vectors.dense(u1)\n",
    "    u2_vector = Vectors.dense(u2)\n",
    "    return u1_vector.dot(u2_vector) / (u1_vector.norm(p=2) * u2_vector.norm(p=2))"
   ]
  },
  {
   "cell_type": "code",
   "execution_count": 62,
   "id": "5007cece-0b3b-4079-9e03-27b1d15032c9",
   "metadata": {},
   "outputs": [
    {
     "name": "stdout",
     "output_type": "stream",
     "text": [
      "The time taken to run code for 25000 users is : 0.0018413013882107206 hours\n"
     ]
    }
   ],
   "source": [
    "\n",
    "\n",
    "# Initialize list to store recommendations\n",
    "CosineSilty_first10 = []\n",
    "starttime = time.time()\n",
    "Nusers = 25000\n",
    "\n",
    "# Iterate over users\n",
    "for userId in range(1, Nusers):\n",
    "    user_factors = broadcast_user_factors.value.get(userId)\n",
    "    if user_factors:\n",
    "        TopCosineLoanforuser10 = []\n",
    "        # Iterate over items\n",
    "        for item_id, item_factors in broadcast_item_factors.value.items():\n",
    "            user_item_similarity = cosine_similarity(user_factors, item_factors)\n",
    "            TopCosineLoanforuser10.append({item_id: user_item_similarity})\n",
    "\n",
    "        # Sort recommendations based on similarity\n",
    "        Recomnd_loans = sorted(TopCosineLoanforuser10, key=lambda x: list(x.values())[0], reverse=True)\n",
    "        CosineSilty_first10.append({\"UserId\": userId, \"Recommendation\": Recomnd_loans})\n",
    "\n",
    "endtime = time.time()\n",
    "runtime_hours = (endtime - starttime) / 3600\n",
    "print(f\"The time taken to run code for {Nusers} users is : {runtime_hours} hours\")"
   ]
  },
  {
   "cell_type": "code",
   "execution_count": 63,
   "id": "3d642ef8-ec11-4194-a4f7-1184fcd3e536",
   "metadata": {},
   "outputs": [],
   "source": [
    "# Define a function to extract top-N recommendations\n",
    "def extract_top_n_recommendations(recommendations_data, n=2500):\n",
    "    top_n_recommendations = [{'userId': user_recommendation['UserId'],\n",
    "                              'Recommendation': [list(rec.keys())[0] for rec in user_recommendation['Recommendation'][:n]]}\n",
    "                             for user_recommendation in recommendations_data]\n",
    "    return top_n_recommendations\n",
    "\n",
    "# Extract top-N recommendations\n",
    "starttime = time.time()\n",
    "top_n_recommendations = extract_top_n_recommendations(CosineSilty_first10, n=5)\n",
    "endtime = time.time()\n",
    "runtime_hours = (endtime - starttime) / 3600\n"
   ]
  },
  {
   "cell_type": "code",
   "execution_count": null,
   "id": "4c06228d-a082-4a3b-9e3f-feee5a68cf8d",
   "metadata": {},
   "outputs": [],
   "source": []
  },
  {
   "cell_type": "code",
   "execution_count": 70,
   "id": "ed0ef5dc-e915-4f8e-b865-b1746bf5f087",
   "metadata": {},
   "outputs": [],
   "source": [
    "# Function to recommend top N loans not taken by the user\n",
    "def recommend_loans_not_taken(user_id, recommendations, actual_loans_taken, top_n):\n",
    "    taken_loans = set(actual_loans_taken.get(user_id, []))\n",
    "    recommended_loans = []\n",
    "    for rec in recommendations:\n",
    "        loan_id = list(rec.keys())[0]\n",
    "        if loan_id not in taken_loans:\n",
    "            recommended_loans.append(loan_id)\n",
    "            if len(recommended_loans) == top_n:\n",
    "                break\n",
    "    return recommended_loans\n",
    "\n",
    "# Define a dictionary to store actual loans taken by each user\n",
    "actual_loans_taken_dict = {record['userId']: record['loans'] for record in Actual_loans_taken}\n",
    "\n",
    "# Create a list to store recommendations for each user\n",
    "recommendations_for_users = []\n",
    "\n",
    "# Iterate over each user\n",
    "for rec_user in CosineSilty_first10:\n",
    "    user_id = rec_user['UserId']\n",
    "    recommendations = rec_user['Recommendation']\n",
    "    # Recommend top N loans not taken by the user\n",
    "    recommended_loans = recommend_loans_not_taken(user_id, recommendations, actual_loans_taken_dict, top_n=5)\n",
    "    recommendations_for_users.append({'UserId': user_id, 'Recommendations': recommended_loans})\n",
    "\n"
   ]
  },
  {
   "cell_type": "code",
   "execution_count": 71,
   "id": "c4547435-9941-4520-9b28-8ff839ae7ed3",
   "metadata": {},
   "outputs": [],
   "source": [
    "actual = [listo for listo in actual_loans_taken_dict.values()]"
   ]
  },
  {
   "cell_type": "code",
   "execution_count": 72,
   "id": "d8f65b65-fab1-469f-8f5c-159153dad995",
   "metadata": {},
   "outputs": [],
   "source": [
    "predicted = [listo['Recommendation'] for listo in top_n_recommendations]"
   ]
  },
  {
   "cell_type": "code",
   "execution_count": 73,
   "id": "d11d5c2c-3baf-4b7b-8ef9-de0f952243b8",
   "metadata": {},
   "outputs": [],
   "source": [
    "def average_precision_at_k(actual, predicted, k):\n",
    "    # Initialize variables\n",
    "    num_hits = 0\n",
    "    precision_at_k = 0.0\n",
    "\n",
    "    # Iterate over the predicted list up to k\n",
    "    for i, p in enumerate(predicted[:k]):\n",
    "        # Check if the predicted item at position i is in the actual list\n",
    "        if p in actual:\n",
    "            num_hits += 1\n",
    "            # Calculate precision at position i\n",
    "            precision_at_k += num_hits / (i + 1)\n",
    "\n",
    "    # Calculate average precision at k\n",
    "    if not actual:\n",
    "        return 0.0\n",
    "    else:\n",
    "        return precision_at_k / min(len(actual), k)\n",
    "\n",
    "def map_at_k(actual, predicted, k):\n",
    "    # Calculate average precision at k for each query or user\n",
    "    average_precisions = [average_precision_at_k(a, p, k) for a, p in zip(actual, predicted)]\n",
    "    \n",
    "    # Return the mean of average precision at k values\n",
    "    return sum(average_precisions) / len(average_precisions)"
   ]
  },
  {
   "cell_type": "code",
   "execution_count": 76,
   "id": "7c6af000-b911-435a-8696-9633218b5770",
   "metadata": {},
   "outputs": [
    {
     "name": "stdout",
     "output_type": "stream",
     "text": [
      "MAP@5: 0.7026\n"
     ]
    }
   ],
   "source": [
    "k = 5\n",
    "map_at_5 = map_at_k(actual, predicted, k)\n",
    "print(\"MAP@{}: {:.4f}\".format(k, map_at_5))"
   ]
  },
  {
   "cell_type": "code",
   "execution_count": null,
   "id": "63416651-664b-403e-9596-9e66b2393fb0",
   "metadata": {},
   "outputs": [],
   "source": []
  },
  {
   "cell_type": "code",
   "execution_count": null,
   "id": "c68c5e5d-e5ac-4508-a423-3e330cb8f111",
   "metadata": {},
   "outputs": [],
   "source": []
  },
  {
   "cell_type": "code",
   "execution_count": null,
   "id": "256e7129-1d41-4c83-a8fe-35b3096769c5",
   "metadata": {},
   "outputs": [],
   "source": []
  },
  {
   "cell_type": "code",
   "execution_count": null,
   "id": "bd030929-f4a4-4c3c-92c5-3fb9927288d0",
   "metadata": {},
   "outputs": [],
   "source": []
  },
  {
   "cell_type": "code",
   "execution_count": null,
   "id": "d3357146-82d1-43df-866e-f1f793b5d5f7",
   "metadata": {},
   "outputs": [],
   "source": []
  },
  {
   "cell_type": "code",
   "execution_count": null,
   "id": "e91e388e-5cad-4204-ad5d-d135cdfc481a",
   "metadata": {},
   "outputs": [],
   "source": []
  },
  {
   "cell_type": "code",
   "execution_count": null,
   "id": "ba3d5312-52ec-474a-9d94-2c6c7c1e50e8",
   "metadata": {},
   "outputs": [],
   "source": []
  },
  {
   "cell_type": "code",
   "execution_count": null,
   "id": "c944b550-9463-441a-9e25-9018e50567c5",
   "metadata": {},
   "outputs": [],
   "source": []
  },
  {
   "cell_type": "code",
   "execution_count": null,
   "id": "7ec2edd5-0e51-4c5f-834e-8d55dbdc7b71",
   "metadata": {},
   "outputs": [],
   "source": []
  },
  {
   "cell_type": "code",
   "execution_count": null,
   "id": "5717f72b-7997-42c5-8832-bfd3f5e40e4c",
   "metadata": {},
   "outputs": [],
   "source": []
  },
  {
   "cell_type": "code",
   "execution_count": null,
   "id": "036d5eea-a979-4bd6-ab7b-c276c3f51380",
   "metadata": {},
   "outputs": [],
   "source": []
  },
  {
   "cell_type": "code",
   "execution_count": null,
   "id": "5f5e4e30-3372-425d-9d1d-c71cf1f10873",
   "metadata": {},
   "outputs": [],
   "source": []
  },
  {
   "cell_type": "code",
   "execution_count": null,
   "id": "abbe1e09-23b1-460f-a365-240ded79997e",
   "metadata": {},
   "outputs": [],
   "source": []
  },
  {
   "cell_type": "code",
   "execution_count": null,
   "id": "7b1fa6c2-9d42-4d95-afbe-4f98ecaa34a6",
   "metadata": {},
   "outputs": [],
   "source": []
  },
  {
   "cell_type": "code",
   "execution_count": null,
   "id": "5d54c7f1-d510-44bb-b43f-aca4d69bf48c",
   "metadata": {},
   "outputs": [],
   "source": []
  },
  {
   "cell_type": "code",
   "execution_count": null,
   "id": "28f4c194-45a6-454a-a425-04b70cce6b4b",
   "metadata": {},
   "outputs": [],
   "source": []
  },
  {
   "cell_type": "code",
   "execution_count": null,
   "id": "6d03f14c-5673-441f-9fb5-3914644d1ae3",
   "metadata": {},
   "outputs": [],
   "source": []
  },
  {
   "cell_type": "code",
   "execution_count": null,
   "id": "278c1b14-281f-4cbc-95e8-27f68fd40a4a",
   "metadata": {},
   "outputs": [],
   "source": []
  },
  {
   "cell_type": "code",
   "execution_count": null,
   "id": "e618922a-344e-4fb1-b2e2-88de635c969e",
   "metadata": {},
   "outputs": [],
   "source": []
  },
  {
   "cell_type": "code",
   "execution_count": null,
   "id": "3421dd79-d437-4c41-bc4f-cdf05411e089",
   "metadata": {},
   "outputs": [],
   "source": []
  },
  {
   "cell_type": "code",
   "execution_count": null,
   "id": "e28c76af-7617-4f97-b041-e109469ad3eb",
   "metadata": {},
   "outputs": [],
   "source": []
  },
  {
   "cell_type": "code",
   "execution_count": null,
   "id": "c829b7f0-0e63-46bb-bf15-dcec978badf9",
   "metadata": {},
   "outputs": [],
   "source": []
  },
  {
   "cell_type": "code",
   "execution_count": null,
   "id": "f9ea209a-1981-46b5-9a5f-f161bc16ff73",
   "metadata": {},
   "outputs": [],
   "source": []
  },
  {
   "cell_type": "code",
   "execution_count": null,
   "id": "2c404be4-aab7-4dfd-8711-5acb10d6fb44",
   "metadata": {},
   "outputs": [],
   "source": []
  },
  {
   "cell_type": "code",
   "execution_count": null,
   "id": "52d77289-2856-4fde-bf75-270d73bdadb7",
   "metadata": {},
   "outputs": [],
   "source": []
  }
 ],
 "metadata": {
  "kernelspec": {
   "display_name": "Python 3 (ipykernel)",
   "language": "python",
   "name": "python3"
  },
  "language_info": {
   "codemirror_mode": {
    "name": "ipython",
    "version": 3
   },
   "file_extension": ".py",
   "mimetype": "text/x-python",
   "name": "python",
   "nbconvert_exporter": "python",
   "pygments_lexer": "ipython3",
   "version": "3.12.0"
  }
 },
 "nbformat": 4,
 "nbformat_minor": 5
}
