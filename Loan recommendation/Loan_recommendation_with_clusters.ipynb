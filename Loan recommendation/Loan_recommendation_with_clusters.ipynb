{
 "cells": [
  {
   "cell_type": "code",
   "execution_count": 1,
   "id": "e20dd32e-1530-42f6-bdf9-c3f5806e837b",
   "metadata": {},
   "outputs": [],
   "source": [
    "from pyspark.sql import SparkSession\n",
    "from pyspark.sql.functions import col, expr, rank, countDistinct, count\n",
    "from pyspark.sql.window import Window\n",
    "from pyspark.ml.recommendation import ALS\n",
    "from pyspark.ml.evaluation import RegressionEvaluator\n",
    "from pyspark.ml.feature import StringIndexer\n",
    "from pyspark.ml.tuning import TrainValidationSplit, ParamGridBuilder, CrossValidator\n",
    "import pandas as pd\n",
    "import time"
   ]
  },
  {
   "cell_type": "code",
   "execution_count": 13,
   "id": "96968f64-3e19-4e0f-915b-a7342bccb9c3",
   "metadata": {},
   "outputs": [],
   "source": [
    "import matplotlib.pyplot as plt"
   ]
  },
  {
   "cell_type": "code",
   "execution_count": 2,
   "id": "7feab969-e8a3-4d26-adb0-080556999837",
   "metadata": {},
   "outputs": [],
   "source": [
    "spark = SparkSession.builder.appName('loan_recommendation_with_clusters').config(\"spark.driver.memory\", \"15g\").getOrCreate()"
   ]
  },
  {
   "cell_type": "code",
   "execution_count": 3,
   "id": "867605ca-18ec-48d8-8109-8871e4118aa6",
   "metadata": {},
   "outputs": [
    {
     "data": {
      "text/html": [
       "\n",
       "            <div>\n",
       "                <p><b>SparkSession - in-memory</b></p>\n",
       "                \n",
       "        <div>\n",
       "            <p><b>SparkContext</b></p>\n",
       "\n",
       "            <p><a href=\"http://DESKTOP-5PNHV38:4041\">Spark UI</a></p>\n",
       "\n",
       "            <dl>\n",
       "              <dt>Version</dt>\n",
       "                <dd><code>v3.5.0</code></dd>\n",
       "              <dt>Master</dt>\n",
       "                <dd><code>local[*]</code></dd>\n",
       "              <dt>AppName</dt>\n",
       "                <dd><code>loan_recommendation_with_clusters</code></dd>\n",
       "            </dl>\n",
       "        </div>\n",
       "        \n",
       "            </div>\n",
       "        "
      ],
      "text/plain": [
       "<pyspark.sql.session.SparkSession at 0x1c43be93230>"
      ]
     },
     "execution_count": 3,
     "metadata": {},
     "output_type": "execute_result"
    }
   ],
   "source": [
    "spark"
   ]
  },
  {
   "cell_type": "code",
   "execution_count": 23,
   "id": "c193e8d5-ed73-4ce1-8c2a-8580263c5921",
   "metadata": {},
   "outputs": [
    {
     "name": "stdout",
     "output_type": "stream",
     "text": [
      "root\n",
      " |-- Contact__c: string (nullable = true)\n",
      " |-- Min_IT_Loan_ID__c: integer (nullable = true)\n",
      " |-- Opp_Number__c: integer (nullable = true)\n",
      " |-- Id: string (nullable = true)\n",
      " |-- AccountID: string (nullable = true)\n",
      " |-- Number_Of_Loans_Granted__c: integer (nullable = true)\n",
      " |-- Num_Of_Loans_Paid__c: integer (nullable = true)\n",
      " |-- Purpose_of_Loan__c: string (nullable = true)\n",
      " |-- Total_Repayments__c: integer (nullable = true)\n",
      " |-- Amount: integer (nullable = true)\n",
      " |-- Term_in_Weeks__c: double (nullable = true)\n",
      " |-- Payment_Frequency__c: string (nullable = true)\n",
      " |-- StageName: string (nullable = true)\n",
      " |-- userId: integer (nullable = true)\n",
      " |-- loanId: integer (nullable = true)\n",
      " |-- count: integer (nullable = true)\n",
      " |-- LoanIdFormat: integer (nullable = true)\n",
      "\n"
     ]
    }
   ],
   "source": [
    "loans_df = spark.read.csv(\"Loan_Dataset/df_temp_cluster.csv\", inferSchema=True, header=True)\n",
    "loans_df.printSchema()"
   ]
  },
  {
   "cell_type": "code",
   "execution_count": 24,
   "id": "66fda6a1-a162-4b31-9076-0a3a230f16de",
   "metadata": {},
   "outputs": [
    {
     "name": "stdout",
     "output_type": "stream",
     "text": [
      "+------------+------+-------------------+--------------------+-----+\n",
      "|LoanIdFormat|Amount|Total_Repayments__c|Payment_Frequency__c|count|\n",
      "+------------+------+-------------------+--------------------+-----+\n",
      "|           1|  2000|                  5|         Fortnightly|    0|\n",
      "|           1|  2050|                  8|         Fortnightly|    0|\n",
      "|           1|  2050|                  8|         Fortnightly|    2|\n",
      "|           1|  2500|                 10|         Fortnightly|    2|\n",
      "|           1|  1600|                  7|         Fortnightly|    4|\n",
      "|           1|  2000|                  3|         Fortnightly|   56|\n",
      "|           1|  2050|                  8|         Fortnightly|   53|\n",
      "|           1|  1500|                  7|         Fortnightly|   44|\n",
      "|           1|  1300|                  7|         Fortnightly|   46|\n",
      "|           1|  1500|                 10|         Fortnightly|   45|\n",
      "+------------+------+-------------------+--------------------+-----+\n",
      "only showing top 10 rows\n",
      "\n"
     ]
    }
   ],
   "source": [
    "loans_df.select([\"LoanIdFormat\",\"Amount\",\"Total_Repayments__c\",\"Payment_Frequency__c\",\"count\"]).show(10)"
   ]
  },
  {
   "cell_type": "code",
   "execution_count": 25,
   "id": "b17fa619-e0b5-459a-aa9b-1b30dfb9b411",
   "metadata": {},
   "outputs": [
    {
     "name": "stdout",
     "output_type": "stream",
     "text": [
      "+-------+------------------+------------------+------------------+-------------------+--------------------------+--------------------+\n",
      "|summary|      LoanIdFormat|             count|            Amount|Total_Repayments__c|Number_Of_Loans_Granted__c|Num_Of_Loans_Paid__c|\n",
      "+-------+------------------+------------------+------------------+-------------------+--------------------------+--------------------+\n",
      "|  count|              5010|              5010|              5010|               5010|                      5010|                5010|\n",
      "|   mean| 8.197604790419161|16.642115768463075|1337.9241516966067| 10.216167664670659|        22.779041916167664|  19.710578842315368|\n",
      "| stddev|7.5725066595349535|11.943178454402434|1060.9889851020196|  5.706869110532655|        12.770361468751108|  12.253513797420753|\n",
      "|    min|                 1|                -4|               200|                  3|                         6|                   4|\n",
      "|    max|                44|                69|              5000|                 40|                        73|                  71|\n",
      "+-------+------------------+------------------+------------------+-------------------+--------------------------+--------------------+\n",
      "\n"
     ]
    }
   ],
   "source": [
    "loans_df.select([\"LoanIdFormat\",\"count\",\"Amount\",\"Total_Repayments__c\",\"Number_Of_Loans_Granted__c\",\"Num_Of_Loans_Paid__c\"]).describe().show()"
   ]
  },
  {
   "cell_type": "code",
   "execution_count": 26,
   "id": "aff3ab50-da66-4a88-ab6e-64da2d8ec778",
   "metadata": {
    "scrolled": true
   },
   "outputs": [
    {
     "name": "stdout",
     "output_type": "stream",
     "text": [
      "-RECORD 0------------------------------------------\n",
      " Contact__c                 | 0032x00000TC3rzAAD   \n",
      " Min_IT_Loan_ID__c          | 847887               \n",
      " Opp_Number__c              | 4548477              \n",
      " Id                         | 0062x00000D8l3XAAR   \n",
      " AccountID                  | 0012x00000cx1cOAAQ   \n",
      " Number_Of_Loans_Granted__c | 10                   \n",
      " Num_Of_Loans_Paid__c       | 5                    \n",
      " Purpose_of_Loan__c         | Travel Expenses      \n",
      " Total_Repayments__c        | 5                    \n",
      " Amount                     | 2000                 \n",
      " Term_in_Weeks__c           | 8.857                \n",
      " Payment_Frequency__c       | Fortnightly          \n",
      " StageName                  | Loan Paid            \n",
      " userId                     | 884                  \n",
      " loanId                     | 116                  \n",
      " count                      | 0                    \n",
      " LoanIdFormat               | 1                    \n",
      "-RECORD 1------------------------------------------\n",
      " Contact__c                 | 0032x00000d2Py7AAE   \n",
      " Min_IT_Loan_ID__c          | 908169               \n",
      " Opp_Number__c              | 5061612              \n",
      " Id                         | 0062x00000DYwSGAA1   \n",
      " AccountID                  | 0012x00000SIDYKAA5   \n",
      " Number_Of_Loans_Granted__c | 10                   \n",
      " Num_Of_Loans_Paid__c       | 5                    \n",
      " Purpose_of_Loan__c         | Vehicle Expenses     \n",
      " Total_Repayments__c        | 8                    \n",
      " Amount                     | 2050                 \n",
      " Term_in_Weeks__c           | 16.0                 \n",
      " Payment_Frequency__c       | Fortnightly          \n",
      " StageName                  | Loan Paid            \n",
      " userId                     | 2025                 \n",
      " loanId                     | 1606                 \n",
      " count                      | 0                    \n",
      " LoanIdFormat               | 1                    \n",
      "-RECORD 2------------------------------------------\n",
      " Contact__c                 | 0032x00000Xa0AaAAJ   \n",
      " Min_IT_Loan_ID__c          | 5173114              \n",
      " Opp_Number__c              | 6783507              \n",
      " Id                         | 0062x00000Ez5v4AAB   \n",
      " AccountID                  | 0012x00000hYT2nAAG   \n",
      " Number_Of_Loans_Granted__c | 6                    \n",
      " Num_Of_Loans_Paid__c       | 4                    \n",
      " Purpose_of_Loan__c         | Other Expenses       \n",
      " Total_Repayments__c        | 8                    \n",
      " Amount                     | 2050                 \n",
      " Term_in_Weeks__c           | 15.429               \n",
      " Payment_Frequency__c       | Fortnightly          \n",
      " StageName                  | Loan Paid            \n",
      " userId                     | 2391                 \n",
      " loanId                     | 4318                 \n",
      " count                      | 2                    \n",
      " LoanIdFormat               | 1                    \n",
      "-RECORD 3------------------------------------------\n",
      " Contact__c                 | 0032x00000XZ95UAAT   \n",
      " Min_IT_Loan_ID__c          | 980873               \n",
      " Opp_Number__c              | 5617845              \n",
      " Id                         | 0062x00000E52eHAAR   \n",
      " AccountID                  | 0012x00000hXkbyAAC   \n",
      " Number_Of_Loans_Granted__c | 8                    \n",
      " Num_Of_Loans_Paid__c       | 5                    \n",
      " Purpose_of_Loan__c         | Medical Expenses     \n",
      " Total_Repayments__c        | 10                   \n",
      " Amount                     | 2500                 \n",
      " Term_in_Weeks__c           | 19.0                 \n",
      " Payment_Frequency__c       | Fortnightly          \n",
      " StageName                  | Loan Paid            \n",
      " userId                     | 1335                 \n",
      " loanId                     | 1384                 \n",
      " count                      | 2                    \n",
      " LoanIdFormat               | 1                    \n",
      "-RECORD 4------------------------------------------\n",
      " Contact__c                 | 0032x00000WFSA3AAP   \n",
      " Min_IT_Loan_ID__c          | 804882               \n",
      " Opp_Number__c              | 4164421              \n",
      " Id                         | 0062x00000CkflhAAB   \n",
      " AccountID                  | 0010K000021F2DWQA0   \n",
      " Number_Of_Loans_Granted__c | 12                   \n",
      " Num_Of_Loans_Paid__c       | 8                    \n",
      " Purpose_of_Loan__c         | Living Expenses      \n",
      " Total_Repayments__c        | 7                    \n",
      " Amount                     | 1600                 \n",
      " Term_in_Weeks__c           | 12.571               \n",
      " Payment_Frequency__c       | Fortnightly          \n",
      " StageName                  | Loan Paid            \n",
      " userId                     | 201                  \n",
      " loanId                     | 1810                 \n",
      " count                      | 4                    \n",
      " LoanIdFormat               | 1                    \n",
      "-RECORD 5------------------------------------------\n",
      " Contact__c                 | 00328000019uspzAAA   \n",
      " Min_IT_Loan_ID__c          | 912402               \n",
      " Opp_Number__c              | 5105400              \n",
      " Id                         | 0062x00000DZexPAAT   \n",
      " AccountID                  | 0012800001SDU3DAAX   \n",
      " Number_Of_Loans_Granted__c | 62                   \n",
      " Num_Of_Loans_Paid__c       | 59                   \n",
      " Purpose_of_Loan__c         | Vehicle Expenses     \n",
      " Total_Repayments__c        | 3                    \n",
      " Amount                     | 2000                 \n",
      " Term_in_Weeks__c           | 5.857                \n",
      " Payment_Frequency__c       | Fortnightly          \n",
      " StageName                  | Loan Paid            \n",
      " userId                     | 862                  \n",
      " loanId                     | 2591                 \n",
      " count                      | 56                   \n",
      " LoanIdFormat               | 1                    \n",
      "-RECORD 6------------------------------------------\n",
      " Contact__c                 | 00328000019urlNAAQ   \n",
      " Min_IT_Loan_ID__c          | 990798               \n",
      " Opp_Number__c              | 5863886              \n",
      " Id                         | 0062x00000ECEizAAH   \n",
      " AccountID                  | 0012800001SDTJgAAP   \n",
      " Number_Of_Loans_Granted__c | 57                   \n",
      " Num_Of_Loans_Paid__c       | 55                   \n",
      " Purpose_of_Loan__c         | Veterinary Expenses  \n",
      " Total_Repayments__c        | 8                    \n",
      " Amount                     | 2050                 \n",
      " Term_in_Weeks__c           | 14.714               \n",
      " Payment_Frequency__c       | Fortnightly          \n",
      " StageName                  | Loan Paid            \n",
      " userId                     | 2360                 \n",
      " loanId                     | 2718                 \n",
      " count                      | 53                   \n",
      " LoanIdFormat               | 1                    \n",
      "-RECORD 7------------------------------------------\n",
      " Contact__c                 | 0032800001DrlTXAAZ   \n",
      " Min_IT_Loan_ID__c          | 832534               \n",
      " Opp_Number__c              | 4408411              \n",
      " Id                         | 0062x00000D1k0tAAB   \n",
      " AccountID                  | 0012800001VofatAAB   \n",
      " Number_Of_Loans_Granted__c | 50                   \n",
      " Num_Of_Loans_Paid__c       | 47                   \n",
      " Purpose_of_Loan__c         | Vehicle Expenses     \n",
      " Total_Repayments__c        | 7                    \n",
      " Amount                     | 1500                 \n",
      " Term_in_Weeks__c           | 14.143               \n",
      " Payment_Frequency__c       | Fortnightly          \n",
      " StageName                  | Loan Paid            \n",
      " userId                     | 2792                 \n",
      " loanId                     | 2628                 \n",
      " count                      | 44                   \n",
      " LoanIdFormat               | 1                    \n",
      "-RECORD 8------------------------------------------\n",
      " Contact__c                 | 0032800001DrlTXAAZ   \n",
      " Min_IT_Loan_ID__c          | 853230               \n",
      " Opp_Number__c              | 4595560              \n",
      " Id                         | 0062x00000D9j1DAAR   \n",
      " AccountID                  | 0012800001VofatAAB   \n",
      " Number_Of_Loans_Granted__c | 50                   \n",
      " Num_Of_Loans_Paid__c       | 48                   \n",
      " Purpose_of_Loan__c         | Home Maintenance ... \n",
      " Total_Repayments__c        | 7                    \n",
      " Amount                     | 1300                 \n",
      " Term_in_Weeks__c           | 14.143               \n",
      " Payment_Frequency__c       | Fortnightly          \n",
      " StageName                  | Loan Paid            \n",
      " userId                     | 2792                 \n",
      " loanId                     | 4539                 \n",
      " count                      | 46                   \n",
      " LoanIdFormat               | 1                    \n",
      "-RECORD 9------------------------------------------\n",
      " Contact__c                 | 00328000019uswzAAA   \n",
      " Min_IT_Loan_ID__c          | 1011646              \n",
      " Opp_Number__c              | 6277685              \n",
      " Id                         | 0062x00000EbDlxAAF   \n",
      " AccountID                  | 0012800001SDU9yAAH   \n",
      " Number_Of_Loans_Granted__c | 49                   \n",
      " Num_Of_Loans_Paid__c       | 47                   \n",
      " Purpose_of_Loan__c         | Travel Expenses      \n",
      " Total_Repayments__c        | 10                   \n",
      " Amount                     | 1500                 \n",
      " Term_in_Weeks__c           | 19.429               \n",
      " Payment_Frequency__c       | Fortnightly          \n",
      " StageName                  | Loan Paid            \n",
      " userId                     | 2098                 \n",
      " loanId                     | 2458                 \n",
      " count                      | 45                   \n",
      " LoanIdFormat               | 1                    \n",
      "-RECORD 10-----------------------------------------\n",
      " Contact__c                 | 00328000019uswzAAA   \n",
      " Min_IT_Loan_ID__c          | 927036               \n",
      " Opp_Number__c              | 5253618              \n",
      " Id                         | 0062x00000Dse1vAAB   \n",
      " AccountID                  | 0012800001SDU9yAAH   \n",
      " Number_Of_Loans_Granted__c | 49                   \n",
      " Num_Of_Loans_Paid__c       | 44                   \n",
      " Purpose_of_Loan__c         | Furniture or Appl... \n",
      " Total_Repayments__c        | 8                    \n",
      " Amount                     | 2050                 \n",
      " Term_in_Weeks__c           | 15.857               \n",
      " Payment_Frequency__c       | Fortnightly          \n",
      " StageName                  | Loan Paid            \n",
      " userId                     | 2098                 \n",
      " loanId                     | 1997                 \n",
      " count                      | 39                   \n",
      " LoanIdFormat               | 1                    \n",
      "-RECORD 11-----------------------------------------\n",
      " Contact__c                 | 00328000019uswzAAA   \n",
      " Min_IT_Loan_ID__c          | 854826               \n",
      " Opp_Number__c              | 4607715              \n",
      " Id                         | 0062x00000D9zJPAAZ   \n",
      " AccountID                  | 0012800001SDU9yAAH   \n",
      " Number_Of_Loans_Granted__c | 49                   \n",
      " Num_Of_Loans_Paid__c       | 42                   \n",
      " Purpose_of_Loan__c         | Vehicle Expenses     \n",
      " Total_Repayments__c        | 7                    \n",
      " Amount                     | 1900                 \n",
      " Term_in_Weeks__c           | 13.857               \n",
      " Payment_Frequency__c       | Fortnightly          \n",
      " StageName                  | Loan Paid            \n",
      " userId                     | 2098                 \n",
      " loanId                     | 1194                 \n",
      " count                      | 35                   \n",
      " LoanIdFormat               | 1                    \n",
      "-RECORD 12-----------------------------------------\n",
      " Contact__c                 | 00328000019ut8KAAQ   \n",
      " Min_IT_Loan_ID__c          | 925954               \n",
      " Opp_Number__c              | 5244059              \n",
      " Id                         | 0062x00000DsUWAAA3   \n",
      " AccountID                  | 0012800001SDULPAA5   \n",
      " Number_Of_Loans_Granted__c | 48                   \n",
      " Num_Of_Loans_Paid__c       | 46                   \n",
      " Purpose_of_Loan__c         | Travel Expenses      \n",
      " Total_Repayments__c        | 8                    \n",
      " Amount                     | 2050                 \n",
      " Term_in_Weeks__c           | 15.0                 \n",
      " Payment_Frequency__c       | Fortnightly          \n",
      " StageName                  | Loan Paid            \n",
      " userId                     | 2441                 \n",
      " loanId                     | 4231                 \n",
      " count                      | 44                   \n",
      " LoanIdFormat               | 1                    \n",
      "-RECORD 13-----------------------------------------\n",
      " Contact__c                 | 00328000015Si7QAAS   \n",
      " Min_IT_Loan_ID__c          | 834315               \n",
      " Opp_Number__c              | 4423771              \n",
      " Id                         | 0062x00000D21Y1AAJ   \n",
      " AccountID                  | 0012800001MwUDDAA3   \n",
      " Number_Of_Loans_Granted__c | 47                   \n",
      " Num_Of_Loans_Paid__c       | 43                   \n",
      " Purpose_of_Loan__c         | Travel Expenses      \n",
      " Total_Repayments__c        | 7                    \n",
      " Amount                     | 1900                 \n",
      " Term_in_Weeks__c           | 14.0                 \n",
      " Payment_Frequency__c       | Fortnightly          \n",
      " StageName                  | Loan Paid            \n",
      " userId                     | 1009                 \n",
      " loanId                     | 125                  \n",
      " count                      | 39                   \n",
      " LoanIdFormat               | 1                    \n",
      "-RECORD 14-----------------------------------------\n",
      " Contact__c                 | 00328000019ut1DAAQ   \n",
      " Min_IT_Loan_ID__c          | 931763               \n",
      " Opp_Number__c              | 5321019              \n",
      " Id                         | 0062x00000DtVn0AAF   \n",
      " AccountID                  | 0012800001SDUE7AAP   \n",
      " Number_Of_Loans_Granted__c | 47                   \n",
      " Num_Of_Loans_Paid__c       | 45                   \n",
      " Purpose_of_Loan__c         | Life Event Expenses  \n",
      " Total_Repayments__c        | 8                    \n",
      " Amount                     | 2050                 \n",
      " Term_in_Weeks__c           | 15.714               \n",
      " Payment_Frequency__c       | Fortnightly          \n",
      " StageName                  | Loan Paid            \n",
      " userId                     | 831                  \n",
      " loanId                     | 90                   \n",
      " count                      | 43                   \n",
      " LoanIdFormat               | 1                    \n",
      "-RECORD 15-----------------------------------------\n",
      " Contact__c                 | 00328000015Si7QAAS   \n",
      " Min_IT_Loan_ID__c          | 881922               \n",
      " Opp_Number__c              | 4815791              \n",
      " Id                         | 0062x00000DI5G1AAL   \n",
      " AccountID                  | 0012800001MwUDDAA3   \n",
      " Number_Of_Loans_Granted__c | 47                   \n",
      " Num_Of_Loans_Paid__c       | 44                   \n",
      " Purpose_of_Loan__c         | Other Expenses       \n",
      " Total_Repayments__c        | 7                    \n",
      " Amount                     | 1900                 \n",
      " Term_in_Weeks__c           | 13.429               \n",
      " Payment_Frequency__c       | Fortnightly          \n",
      " StageName                  | Loan Paid            \n",
      " userId                     | 1009                 \n",
      " loanId                     | 4187                 \n",
      " count                      | 41                   \n",
      " LoanIdFormat               | 1                    \n",
      "-RECORD 16-----------------------------------------\n",
      " Contact__c                 | 0030K00001PWjWsQAL   \n",
      " Min_IT_Loan_ID__c          | 947412               \n",
      " Opp_Number__c              | 5551468              \n",
      " Id                         | 0062x00000E4E7wAAF   \n",
      " AccountID                  | 0010K00001feCQ6QAM   \n",
      " Number_Of_Loans_Granted__c | 46                   \n",
      " Num_Of_Loans_Paid__c       | 43                   \n",
      " Purpose_of_Loan__c         | Life Event Expenses  \n",
      " Total_Repayments__c        | 7                    \n",
      " Amount                     | 1400                 \n",
      " Term_in_Weeks__c           | 13.857               \n",
      " Payment_Frequency__c       | Fortnightly          \n",
      " StageName                  | Loan Paid            \n",
      " userId                     | 1235                 \n",
      " loanId                     | 1024                 \n",
      " count                      | 40                   \n",
      " LoanIdFormat               | 1                    \n",
      "-RECORD 17-----------------------------------------\n",
      " Contact__c                 | 0030K00001PWjWsQAL   \n",
      " Min_IT_Loan_ID__c          | 899660               \n",
      " Opp_Number__c              | 4977140              \n",
      " Id                         | 0062x00000DXVA8AAP   \n",
      " AccountID                  | 0010K00001feCQ6QAM   \n",
      " Number_Of_Loans_Granted__c | 46                   \n",
      " Num_Of_Loans_Paid__c       | 42                   \n",
      " Purpose_of_Loan__c         | Living Expenses      \n",
      " Total_Repayments__c        | 7                    \n",
      " Amount                     | 1500                 \n",
      " Term_in_Weeks__c           | 13.714               \n",
      " Payment_Frequency__c       | Fortnightly          \n",
      " StageName                  | Loan Paid            \n",
      " userId                     | 1235                 \n",
      " loanId                     | 4354                 \n",
      " count                      | 38                   \n",
      " LoanIdFormat               | 1                    \n",
      "-RECORD 18-----------------------------------------\n",
      " Contact__c                 | 0030K00001PWjWsQAL   \n",
      " Min_IT_Loan_ID__c          | 843345               \n",
      " Opp_Number__c              | 4502875              \n",
      " Id                         | 0062x00000D7r9XAAR   \n",
      " AccountID                  | 0010K00001feCQ6QAM   \n",
      " Number_Of_Loans_Granted__c | 46                   \n",
      " Num_Of_Loans_Paid__c       | 41                   \n",
      " Purpose_of_Loan__c         | Medical Expenses     \n",
      " Total_Repayments__c        | 7                    \n",
      " Amount                     | 1600                 \n",
      " Term_in_Weeks__c           | 14.143               \n",
      " Payment_Frequency__c       | Fortnightly          \n",
      " StageName                  | Loan Paid            \n",
      " userId                     | 1235                 \n",
      " loanId                     | 63                   \n",
      " count                      | 36                   \n",
      " LoanIdFormat               | 1                    \n",
      "-RECORD 19-----------------------------------------\n",
      " Contact__c                 | 0030K00001sDukgQAC   \n",
      " Min_IT_Loan_ID__c          | 5161932              \n",
      " Opp_Number__c              | 5227576              \n",
      " Id                         | 0062x00000DsD8XAAV   \n",
      " AccountID                  | 0010K0000242mNcQAI   \n",
      " Number_Of_Loans_Granted__c | 45                   \n",
      " Num_Of_Loans_Paid__c       | 43                   \n",
      " Purpose_of_Loan__c         | Vehicle Expenses     \n",
      " Total_Repayments__c        | 7                    \n",
      " Amount                     | 2000                 \n",
      " Term_in_Weeks__c           | 14.143               \n",
      " Payment_Frequency__c       | Fortnightly          \n",
      " StageName                  | Loan Paid            \n",
      " userId                     | 1830                 \n",
      " loanId                     | 2669                 \n",
      " count                      | 41                   \n",
      " LoanIdFormat               | 1                    \n",
      "only showing top 20 rows\n",
      "\n"
     ]
    }
   ],
   "source": [
    "loans_df.show(vertical=True)"
   ]
  },
  {
   "cell_type": "code",
   "execution_count": 8,
   "id": "93606394-8fb4-4d30-8235-c8e1cdb15a13",
   "metadata": {},
   "outputs": [
    {
     "name": "stdout",
     "output_type": "stream",
     "text": [
      "Number of unique loanId_format: 27\n",
      "Number of unique Loan Id: 4571\n"
     ]
    }
   ],
   "source": [
    "# Count the number of unique items\n",
    "num_unique_loan_id_format = loans_df.select('LoanIdFormat').distinct().count()\n",
    "print(f\"Number of unique loanId_format: {num_unique_loan_id_format}\")\n",
    "\n",
    "# Count the number of unique users\n",
    "num_unique_id = loans_df.select('Id').distinct().count()\n",
    "print(f\"Number of unique Loan Id: {num_unique_id}\")"
   ]
  },
  {
   "cell_type": "code",
   "execution_count": 9,
   "id": "aa9f871b-ee01-470a-af88-09d50dc228cb",
   "metadata": {},
   "outputs": [
    {
     "name": "stdout",
     "output_type": "stream",
     "text": [
      "Number of unique users: 2864\n"
     ]
    }
   ],
   "source": [
    "# Count the number of unique items\n",
    "tmp = loans_df.select('userId').distinct().count()\n",
    "print(f\"Number of unique users: {tmp}\")\n",
    "\n",
    "# Count the number of unique users\n",
    "# tmp = ratings_df.select('movieId').distinct().count()\n",
    "# print(f\"Number of unique movies: {tmp}\")"
   ]
  },
  {
   "cell_type": "code",
   "execution_count": 10,
   "id": "18f5bc8b-ee99-490a-89e0-8a319deb255f",
   "metadata": {},
   "outputs": [
    {
     "name": "stdout",
     "output_type": "stream",
     "text": [
      "+-----+\n",
      "|count|\n",
      "+-----+\n",
      "|   31|\n",
      "|   65|\n",
      "|   53|\n",
      "|   34|\n",
      "|   -1|\n",
      "|   28|\n",
      "|   27|\n",
      "|   26|\n",
      "|   44|\n",
      "|   12|\n",
      "|   22|\n",
      "|   47|\n",
      "|    1|\n",
      "|   52|\n",
      "|   13|\n",
      "|   16|\n",
      "|    6|\n",
      "|    3|\n",
      "|   40|\n",
      "|   20|\n",
      "+-----+\n",
      "only showing top 20 rows\n",
      "\n"
     ]
    }
   ],
   "source": [
    "# distinct values of the rating\n",
    "loans_df.select(\"count\").distinct().show()"
   ]
  },
  {
   "cell_type": "markdown",
   "id": "67ad89af-06f7-4fac-b6bb-9d0ec842ed04",
   "metadata": {},
   "source": [
    "========================================================================================================"
   ]
  },
  {
   "cell_type": "markdown",
   "id": "6ea6197c-53b9-4c06-a20d-1e1f2233d371",
   "metadata": {},
   "source": [
    "Converting the dataset into train test and validation split."
   ]
  },
  {
   "cell_type": "code",
   "execution_count": 11,
   "id": "06409684-e1e3-412d-85ae-765c1469c6fd",
   "metadata": {},
   "outputs": [],
   "source": [
    "# sc = spark.sparkContext"
   ]
  },
  {
   "cell_type": "code",
   "execution_count": 12,
   "id": "25b7a938-17f5-460f-a3bf-78ebd6628477",
   "metadata": {},
   "outputs": [
    {
     "name": "stdout",
     "output_type": "stream",
     "text": [
      "+------------+-----+------+\n",
      "|LoanIdFormat|count|Amount|\n",
      "+------------+-----+------+\n",
      "|           1|    0|  2000|\n",
      "|           1|    0|  2050|\n",
      "|           1|    2|  2050|\n",
      "|           1|    2|  2500|\n",
      "|           1|    4|  1600|\n",
      "|           1|   56|  2000|\n",
      "|           1|   53|  2050|\n",
      "|           1|   44|  1500|\n",
      "|           1|   46|  1300|\n",
      "|           1|   45|  1500|\n",
      "+------------+-----+------+\n",
      "only showing top 10 rows\n",
      "\n"
     ]
    }
   ],
   "source": [
    "loans_df.select([\"LoanIdFormat\",\"count\",\"Amount\"]).show(10)"
   ]
  },
  {
   "cell_type": "code",
   "execution_count": 14,
   "id": "471dc8a3-2474-41c2-a4c2-d3f09756df0d",
   "metadata": {},
   "outputs": [
    {
     "data": {
      "text/plain": [
       "DataFrame[Contact__c: string, Min_IT_Loan_ID__c: int, Opp_Number__c: int, Id: string, AccountID: string, Number_Of_Loans_Granted__c: int, Num_Of_Loans_Paid__c: int, Purpose_of_Loan__c: string, Total_Repayments__c: int, Amount: int, Term_in_Weeks__c: double, Payment_Frequency__c: string, StageName: string, userId: int, loanId: int, count: int, LoanIdFormat: int]"
      ]
     },
     "execution_count": 14,
     "metadata": {},
     "output_type": "execute_result"
    }
   ],
   "source": [
    "train, validation = loans_df.randomSplit([0.8, 0.2])\n",
    "# train, validation, test = loans_df.randomSplit([0.8, 0.1, 0.1])\n",
    "# # cache data\n",
    "train.cache()\n",
    "validation.cache()\n",
    "# test.cache()"
   ]
  },
  {
   "cell_type": "code",
   "execution_count": 16,
   "id": "b2ad213d-bf88-4d40-b43e-609a301116fe",
   "metadata": {},
   "outputs": [
    {
     "name": "stdout",
     "output_type": "stream",
     "text": [
      "+------+------+------------+-----+------+-------------------+\n",
      "|userId|loanId|LoanIdFormat|count|Amount|Total_Repayments__c|\n",
      "+------+------+------------+-----+------+-------------------+\n",
      "|  2030|  2807|           5|   30|   300|                 10|\n",
      "|  1184|  2785|           4|   19|  1000|                  9|\n",
      "|   170|  1888|           1|   21|  2050|                  8|\n",
      "|    34|  3703|           1|   25|  2050|                  8|\n",
      "|  2071|  2408|          17|   23|  1500|                 16|\n",
      "|  1044|   214|           4|   -4|   500|                  5|\n",
      "|  2773|  4212|          21|   23|  3000|                  5|\n",
      "|   796|  1345|          17|   17|  2050|                 16|\n",
      "|   990|  3863|          17|   32|  2050|                 16|\n",
      "|   990|  3832|           8|   34|  1000|                 14|\n",
      "|   990|  2384|          14|   38|  2050|                 26|\n",
      "|   791|   766|          29|   19|  5000|                 17|\n",
      "|  1775|  1914|           8|    0|   400|                 14|\n",
      "|   326|  1991|          17|   35|  2050|                 16|\n",
      "|   326|  3448|           5|   39|   500|                 10|\n",
      "|   326|  3375|          17|   41|  2050|                 16|\n",
      "|   326|  2917|           5|   43|   500|                  6|\n",
      "|   387|  2882|           5|   27|   700|                  7|\n",
      "|   187|  2608|           1|   29|  2050|                 10|\n",
      "|   448|  2904|           1|   34|  2050|                  8|\n",
      "+------+------+------------+-----+------+-------------------+\n",
      "only showing top 20 rows\n",
      "\n"
     ]
    }
   ],
   "source": [
    "validation.select([\"userId\",\"loanId\",\"LoanIdFormat\",\"count\",\"Amount\",\"Total_Repayments__c\"]).show()"
   ]
  },
  {
   "cell_type": "code",
   "execution_count": 14,
   "id": "b4ec2ccf-e2df-4169-82d1-84b24e8cdf75",
   "metadata": {},
   "outputs": [
    {
     "name": "stdout",
     "output_type": "stream",
     "text": [
      "root\n",
      " |-- Contact__c: string (nullable = true)\n",
      " |-- Min_IT_Loan_ID__c: integer (nullable = true)\n",
      " |-- Opp_Number__c: integer (nullable = true)\n",
      " |-- Id: string (nullable = true)\n",
      " |-- AccountID: string (nullable = true)\n",
      " |-- Number_Of_Loans_Granted__c: integer (nullable = true)\n",
      " |-- Num_Of_Loans_Paid__c: integer (nullable = true)\n",
      " |-- Purpose_of_Loan__c: string (nullable = true)\n",
      " |-- Total_Repayments__c: integer (nullable = true)\n",
      " |-- Amount: integer (nullable = true)\n",
      " |-- Term_in_Weeks__c: double (nullable = true)\n",
      " |-- Payment_Frequency__c: string (nullable = true)\n",
      " |-- StageName: string (nullable = true)\n",
      " |-- userId: integer (nullable = true)\n",
      " |-- loanId: integer (nullable = true)\n",
      " |-- count: integer (nullable = true)\n",
      " |-- LoanIdFormat: integer (nullable = true)\n",
      "\n"
     ]
    }
   ],
   "source": [
    "loans_df.printSchema()"
   ]
  },
  {
   "cell_type": "code",
   "execution_count": 15,
   "id": "e2226eb6-5980-4249-bd83-5f3b6862faf1",
   "metadata": {},
   "outputs": [],
   "source": [
    "def train_ALS(train_data, validation_data, num_iters, reg_param, ranks):\n",
    "    \"\"\"\n",
    "    Grid Search Function to select the best model based on RMSE of hold-out data\n",
    "    \"\"\"\n",
    "    # initial\n",
    "    min_error = float('inf')\n",
    "    best_rank = -1\n",
    "    best_regularization = 0\n",
    "    best_model = None\n",
    "    for rank in ranks:\n",
    "        for reg in reg_param:\n",
    "            # Train the model using the training data\n",
    "            als_model = ALS(maxIter=num_iters,regParam=reg, rank=rank,\n",
    "                                        userCol='userId', itemCol='loanId', ratingCol='count', seed=99)\n",
    "            model = als_model.fit(train_data)\n",
    "            \n",
    "            # Generate predictions on the test data\n",
    "            predictions = model.transform(validation_data)\n",
    "            predictions = predictions.withColumn(\"prediction\", expr(\"CASE WHEN prediction < 1 THEN 1 WHEN prediction > 65 THEN 65 ELSE prediction END\"))\n",
    "            \n",
    "            evaluator = RegressionEvaluator(metricName='rmse', labelCol='count', predictionCol='prediction')\n",
    "            error = evaluator.evaluate(predictions)\n",
    "            \n",
    "            print('{} latent factors and regularization = {}: validation RMSE is {}'.format(rank, reg, error))\n",
    "            if error < min_error:\n",
    "                min_error = error\n",
    "                best_rank = rank\n",
    "                best_regularization = reg\n",
    "                best_model = model\n",
    "    print('\\nThe best model has {} latent factors and regularization = {}'.format(best_rank, best_regularization))\n",
    "    return best_model"
   ]
  },
  {
   "cell_type": "code",
   "execution_count": 16,
   "id": "fb8832fe-fe68-4372-9d4d-294633e187b0",
   "metadata": {},
   "outputs": [
    {
     "name": "stdout",
     "output_type": "stream",
     "text": [
      "8 latent factors and regularization = 0.001: validation RMSE is 46.81493100431321\n",
      "8 latent factors and regularization = 0.01: validation RMSE is 46.81493101264122\n",
      "8 latent factors and regularization = 0.05: validation RMSE is 46.814931448667615\n",
      "8 latent factors and regularization = 0.1: validation RMSE is 46.814933848323875\n",
      "8 latent factors and regularization = 0.2: validation RMSE is 46.81494850973385\n",
      "10 latent factors and regularization = 0.001: validation RMSE is 46.814931004313195\n",
      "10 latent factors and regularization = 0.01: validation RMSE is 46.81493101264118\n",
      "10 latent factors and regularization = 0.05: validation RMSE is 46.814931448669604\n",
      "10 latent factors and regularization = 0.1: validation RMSE is 46.814933848322106\n",
      "10 latent factors and regularization = 0.2: validation RMSE is 46.81494850974927\n",
      "20 latent factors and regularization = 0.001: validation RMSE is 46.81493100431318\n",
      "20 latent factors and regularization = 0.01: validation RMSE is 46.81493101264079\n",
      "20 latent factors and regularization = 0.05: validation RMSE is 46.81493144866941\n",
      "20 latent factors and regularization = 0.1: validation RMSE is 46.81493384832382\n",
      "20 latent factors and regularization = 0.2: validation RMSE is 46.81494850970638\n",
      "40 latent factors and regularization = 0.001: validation RMSE is 46.81493100431316\n",
      "40 latent factors and regularization = 0.01: validation RMSE is 46.81493101264069\n",
      "40 latent factors and regularization = 0.05: validation RMSE is 46.81493144866887\n",
      "40 latent factors and regularization = 0.1: validation RMSE is 46.814933848330966\n",
      "40 latent factors and regularization = 0.2: validation RMSE is 46.81494850973519\n",
      "60 latent factors and regularization = 0.001: validation RMSE is 46.814931004313124\n",
      "60 latent factors and regularization = 0.01: validation RMSE is 46.814931012640955\n",
      "60 latent factors and regularization = 0.05: validation RMSE is 46.81493144866854\n",
      "60 latent factors and regularization = 0.1: validation RMSE is 46.81493384831712\n",
      "60 latent factors and regularization = 0.2: validation RMSE is 46.814948509728566\n",
      "\n",
      "The best model has 60 latent factors and regularization = 0.001\n",
      "Total Runtime: 327.79 seconds\n"
     ]
    }
   ],
   "source": [
    "# hyper-param config\n",
    "num_iterations = 10\n",
    "ranks = [8, 10, 20, 40, 60]\n",
    "reg_params = [0.001, 0.01, 0.05, 0.1, 0.2]\n",
    "\n",
    "# grid search and select best model\n",
    "start_time = time.time()\n",
    "final_model = train_ALS(train, validation, num_iterations, reg_params, ranks)\n",
    "\n",
    "print ('Total Runtime: {:.2f} seconds'.format(time.time() - start_time))"
   ]
  },
  {
   "cell_type": "code",
   "execution_count": 20,
   "id": "c7cf3c57-11f2-46bd-b434-1cebf52a0c13",
   "metadata": {},
   "outputs": [],
   "source": [
    "# 40 latent factors and regularization = 0.001"
   ]
  },
  {
   "cell_type": "code",
   "execution_count": null,
   "id": "b0ea77f2-852c-4fb9-8523-f8c98386655c",
   "metadata": {},
   "outputs": [],
   "source": [
    " "
   ]
  },
  {
   "cell_type": "code",
   "execution_count": 31,
   "id": "57ba7905-f3e0-4a23-8b3d-0c41ffa5d0ca",
   "metadata": {},
   "outputs": [],
   "source": [
    "predictions = final_model.transform(validation)\n",
    "# predictions = predictions.withColumn(\"prediction\", expr(\"CASE WHEN prediction < 1 THEN 1 WHEN prediction > 65 THEN 65 ELSE prediction END\"))"
   ]
  },
  {
   "cell_type": "code",
   "execution_count": 32,
   "id": "fc5d0e5c-4b93-41d8-a633-400380fcccbd",
   "metadata": {},
   "outputs": [
    {
     "name": "stdout",
     "output_type": "stream",
     "text": [
      "root\n",
      " |-- Contact__c: string (nullable = true)\n",
      " |-- Min_IT_Loan_ID__c: integer (nullable = true)\n",
      " |-- Opp_Number__c: integer (nullable = true)\n",
      " |-- Id: string (nullable = true)\n",
      " |-- AccountID: string (nullable = true)\n",
      " |-- Number_Of_Loans_Granted__c: integer (nullable = true)\n",
      " |-- Num_Of_Loans_Paid__c: integer (nullable = true)\n",
      " |-- Purpose_of_Loan__c: string (nullable = true)\n",
      " |-- Total_Repayments__c: integer (nullable = true)\n",
      " |-- Amount: integer (nullable = true)\n",
      " |-- Term_in_Weeks__c: double (nullable = true)\n",
      " |-- Payment_Frequency__c: string (nullable = true)\n",
      " |-- StageName: string (nullable = true)\n",
      " |-- userId: integer (nullable = true)\n",
      " |-- loanId: integer (nullable = true)\n",
      " |-- count: integer (nullable = true)\n",
      " |-- LoanIdFormat: integer (nullable = true)\n",
      " |-- prediction: float (nullable = false)\n",
      "\n"
     ]
    }
   ],
   "source": [
    "predictions.printSchema()"
   ]
  },
  {
   "cell_type": "code",
   "execution_count": 33,
   "id": "24d2c7c3-8104-4b83-a3d8-2e4c3ece98ac",
   "metadata": {},
   "outputs": [
    {
     "name": "stdout",
     "output_type": "stream",
     "text": [
      "+------------+------+------+------+-------------------+-----+----------+\n",
      "|LoanIdFormat|loanId|userId|Amount|Total_Repayments__c|count|prediction|\n",
      "+------------+------+------+------+-------------------+-----+----------+\n",
      "|          17|  2748|   990|  1500|                 14|   30|       NaN|\n",
      "|           2|  1496|  2071|  1750|                  7|   17|       NaN|\n",
      "|           5|  1628|    33|  1000|                 10|   26| 25.999958|\n",
      "|          17|  1991|   326|  2050|                 16|   35|       NaN|\n",
      "|           1|  2298|  1926|  2500|                  8|   25|       NaN|\n",
      "|          38|   130|  2837|  3000|                 24|   19|       NaN|\n",
      "|           5|  2807|  2030|   300|                 10|   30|       NaN|\n",
      "|           8|  2807|  2030|   300|                 10|   30|       NaN|\n",
      "|           1|  3455|  1114|  2050|                  8|   28|       NaN|\n",
      "|           1|  3113|    34|  2050|                  8|   27| 26.999956|\n",
      "|          17|  2897|   326|  2050|                 16|   37|       NaN|\n",
      "+------------+------+------+------+-------------------+-----+----------+\n",
      "only showing top 11 rows\n",
      "\n"
     ]
    }
   ],
   "source": [
    "predictions.select([\"LoanIdFormat\",\"loanId\",\"userId\",\"Amount\",\"Total_Repayments__c\",\"count\",\"prediction\"]).show(11)"
   ]
  },
  {
   "cell_type": "code",
   "execution_count": 34,
   "id": "b0147d25-61eb-481f-a2dc-e754f74540cb",
   "metadata": {},
   "outputs": [
    {
     "name": "stdout",
     "output_type": "stream",
     "text": [
      "+----------+-----+\n",
      "|prediction|count|\n",
      "+----------+-----+\n",
      "|  0.998999|    2|\n",
      "|0.99899906|    1|\n",
      "| 1.9994923|    1|\n",
      "| 1.9994924|    1|\n",
      "| 2.9993901|    1|\n",
      "| 2.9993904|    1|\n",
      "| 2.9996605|    1|\n",
      "| 2.9996612|    1|\n",
      "| 3.9997454|    1|\n",
      "| 3.9997458|    1|\n",
      "| 4.9997005|    1|\n",
      "|  4.999796|    1|\n",
      "|  4.999797|    1|\n",
      "| 5.9998307|    1|\n",
      "|  5.999888|    1|\n",
      "| 5.9999084|    1|\n",
      "| 7.9998727|    1|\n",
      "|   8.99986|    1|\n",
      "| 8.9998865|    1|\n",
      "|  8.999887|    1|\n",
      "|  9.999851|    1|\n",
      "| 11.999915|    1|\n",
      "| 12.999924|    1|\n",
      "| 12.999947|    1|\n",
      "| 15.999958|    1|\n",
      "|  16.99995|    1|\n",
      "| 20.999939|    2|\n",
      "| 21.999952|    1|\n",
      "| 21.999958|    1|\n",
      "| 21.999964|    1|\n",
      "| 23.999954|    1|\n",
      "| 24.999935|    1|\n",
      "| 24.999964|    1|\n",
      "| 25.999958|    2|\n",
      "| 25.999962|    1|\n",
      "| 25.999964|    1|\n",
      "| 26.999956|    1|\n",
      "| 26.999958|    1|\n",
      "| 28.999952|    1|\n",
      "| 28.999962|    1|\n",
      "| 28.999973|    1|\n",
      "| 29.999954|    2|\n",
      "| 29.999958|    1|\n",
      "| 32.999966|    1|\n",
      "| 34.999947|    1|\n",
      "| 34.999958|    1|\n",
      "|  35.99996|    1|\n",
      "| 43.999977|    1|\n",
      "| 47.999973|    1|\n",
      "|       NaN|  415|\n",
      "+----------+-----+\n",
      "\n"
     ]
    }
   ],
   "source": [
    "predictions.groupBy(predictions.prediction).count().sort(predictions.prediction).show(50)"
   ]
  },
  {
   "cell_type": "code",
   "execution_count": 38,
   "id": "1b1cb23d-bf6b-4cbe-9240-3a6c0dad2815",
   "metadata": {},
   "outputs": [
    {
     "name": "stdout",
     "output_type": "stream",
     "text": [
      "+-------+-----------------+------------------+------------------+\n",
      "|summary|     LoanIdFormat|                Id|            Amount|\n",
      "+-------+-----------------+------------------+------------------+\n",
      "|  count|              468|               468|               468|\n",
      "|   mean|8.352564102564102|              NULL|1425.2136752136753|\n",
      "| stddev|7.453040269388324|              NULL|   1100.9509989081|\n",
      "|    min|                1|0062x00000CRBlQAAX|               200|\n",
      "|    max|               38|0062x00000FJxpLAAT|              5000|\n",
      "+-------+-----------------+------------------+------------------+\n",
      "\n"
     ]
    }
   ],
   "source": [
    "validation.select(\"LoanIdFormat\",\"Id\",\"Amount\").describe().show()"
   ]
  },
  {
   "cell_type": "code",
   "execution_count": null,
   "id": "6947ef5d-365a-4f71-a8f9-c865c01e05eb",
   "metadata": {},
   "outputs": [],
   "source": []
  },
  {
   "cell_type": "code",
   "execution_count": null,
   "id": "8bd852bd-f5eb-4095-8b02-f255707397bc",
   "metadata": {},
   "outputs": [],
   "source": []
  },
  {
   "cell_type": "code",
   "execution_count": 21,
   "id": "d4fc2d3e-b55f-485c-a87d-ff790847e567",
   "metadata": {},
   "outputs": [],
   "source": [
    "evaluator = RegressionEvaluator(metricName='rmse', labelCol='rating', predictionCol='prediction')\n",
    "error = evaluator.evaluate(predictions)"
   ]
  },
  {
   "cell_type": "code",
   "execution_count": 23,
   "id": "71839857-cdf9-4dbc-9310-f433c4b95729",
   "metadata": {},
   "outputs": [
    {
     "name": "stdout",
     "output_type": "stream",
     "text": [
      "The RMSE for the above mnodel is : 0.850732304490565\n"
     ]
    }
   ],
   "source": [
    "print(f\"The RMSE for the above mnodel is : {error}\")"
   ]
  },
  {
   "cell_type": "code",
   "execution_count": 24,
   "id": "7e841871-6577-464c-afd2-ef42dc748376",
   "metadata": {},
   "outputs": [
    {
     "name": "stdout",
     "output_type": "stream",
     "text": [
      "+------+---------------------------------+----------+\n",
      "|userId|title                            |prediction|\n",
      "+------+---------------------------------+----------+\n",
      "|148   |NeverEnding Story III, The (1994)|1.0       |\n",
      "|148   |Safe (1995)                      |2.24905   |\n",
      "|148   |Body Snatchers (1993)            |1.9846423 |\n",
      "|148   |Dave (1993)                      |2.358632  |\n",
      "|148   |In the Line of Fire (1993)       |2.491284  |\n",
      "|148   |Batman (1989)                    |2.3913064 |\n",
      "|148   |My Fair Lady (1964)              |2.5859952 |\n",
      "|148   |Roman Holiday (1953)             |2.7362595 |\n",
      "|148   |Wizard of Oz, The (1939)         |2.747697  |\n",
      "|148   |Gone with the Wind (1939)        |2.7169576 |\n",
      "+------+---------------------------------+----------+\n",
      "only showing top 10 rows\n",
      "\n"
     ]
    }
   ],
   "source": [
    "predictions.join(movies_df,\"movieId\").select(\"userId\",\"title\",\"prediction\").show(10,truncate=False)"
   ]
  },
  {
   "cell_type": "code",
   "execution_count": 25,
   "id": "2f3d2b7d-9df0-40e8-9653-b67d488fd4ae",
   "metadata": {},
   "outputs": [],
   "source": [
    "userRecommends = final_model.recommendForAllUsers(5)\n",
    "movieRecommends = final_model.recommendForAllItems(5)"
   ]
  },
  {
   "cell_type": "code",
   "execution_count": 26,
   "id": "61490ce4-2ace-47dd-9d3b-b5b0f541a3e2",
   "metadata": {},
   "outputs": [
    {
     "name": "stdout",
     "output_type": "stream",
     "text": [
      "root\n",
      " |-- movieId: integer (nullable = false)\n",
      " |-- recommendations: array (nullable = true)\n",
      " |    |-- element: struct (containsNull = true)\n",
      " |    |    |-- userId: integer (nullable = true)\n",
      " |    |    |-- rating: float (nullable = true)\n",
      "\n"
     ]
    }
   ],
   "source": [
    "movieRecommends.printSchema()"
   ]
  },
  {
   "cell_type": "code",
   "execution_count": 27,
   "id": "cae2167c-8455-4c19-a013-dd44e4b9d333",
   "metadata": {},
   "outputs": [
    {
     "name": "stdout",
     "output_type": "stream",
     "text": [
      "+-------+--------------------+--------------------+\n",
      "|movieId|              userId|              rating|\n",
      "+-------+--------------------+--------------------+\n",
      "|      1|[275, 6415, 5082,...|[5.1801147, 5.176...|\n",
      "|     12|[2860, 540, 2624,...|[4.404322, 4.2132...|\n",
      "|     13|[6285, 6195, 8787...|[4.942979, 4.8070...|\n",
      "|     22|[7318, 3178, 6707...|[4.813835, 4.7732...|\n",
      "|     26|[3208, 6707, 9768...|[4.539195, 4.4994...|\n",
      "|     27|[1277, 6230, 5120...|[4.79809, 4.78447...|\n",
      "|     28|[6707, 6066, 2072...|[4.9017997, 4.802...|\n",
      "|     31|[1713, 4908, 3804...|[4.843358, 4.7032...|\n",
      "|     34|[6195, 6628, 7094...|[5.0688567, 5.059...|\n",
      "|     44|[7030, 7318, 4194...|[4.433797, 4.3552...|\n",
      "+-------+--------------------+--------------------+\n",
      "only showing top 10 rows\n",
      "\n"
     ]
    }
   ],
   "source": [
    "movieRecommends.select([\"movieId\",\"recommendations.userId\",\"recommendations.rating\"]).show(10)"
   ]
  },
  {
   "cell_type": "code",
   "execution_count": 28,
   "id": "bf08c18d-dae8-41f4-8595-f5922b0bcbaa",
   "metadata": {},
   "outputs": [
    {
     "name": "stdout",
     "output_type": "stream",
     "text": [
      "root\n",
      " |-- userId: integer (nullable = false)\n",
      " |-- recommendations: array (nullable = true)\n",
      " |    |-- element: struct (containsNull = true)\n",
      " |    |    |-- movieId: integer (nullable = true)\n",
      " |    |    |-- rating: float (nullable = true)\n",
      "\n"
     ]
    }
   ],
   "source": [
    "userRecommends.printSchema()"
   ]
  },
  {
   "cell_type": "code",
   "execution_count": 30,
   "id": "fe062ea4-87e7-4f4e-9412-95c267d1d474",
   "metadata": {},
   "outputs": [
    {
     "name": "stdout",
     "output_type": "stream",
     "text": [
      "+------+----------------------------------------+-------------------------------------------------------+\n",
      "|userId|movieId                                 |rating                                                 |\n",
      "+------+----------------------------------------+-------------------------------------------------------+\n",
      "|1     |[176887, 92954, 192025, 192015, 134879] |[5.1432505, 5.060037, 5.035781, 5.035781, 5.035781]    |\n",
      "|12    |[134236, 176887, 136495, 5365, 32139]   |[5.1536174, 5.1192183, 4.9322424, 4.932063, 4.8875637] |\n",
      "|13    |[107361, 170799, 26424, 176887, 171715] |[6.030097, 5.835145, 5.792248, 5.7379646, 5.6894727]   |\n",
      "|22    |[179297, 139327, 107361, 26424, 37257]  |[4.811372, 4.811372, 4.8074174, 4.7039056, 4.685463]   |\n",
      "|26    |[179297, 139327, 26424, 66854, 107361]  |[5.3037553, 5.3037553, 5.2357116, 5.189636, 5.1757894] |\n",
      "|27    |[107361, 179297, 139327, 192001, 171363]|[5.2407384, 5.149643, 5.149643, 5.013967, 5.013967]    |\n",
      "|28    |[107361, 102323, 134236, 26424, 60201]  |[4.9782133, 4.854079, 4.7150745, 4.639204, 4.634448]   |\n",
      "|31    |[77736, 102323, 192025, 192015, 134879] |[4.0984044, 3.9432387, 3.7562068, 3.7562068, 3.7562068]|\n",
      "|34    |[26424, 179297, 139327, 270366, 102323] |[4.9835396, 4.917852, 4.917852, 4.862189, 4.7577186]   |\n",
      "|44    |[37257, 107361, 179297, 139327, 170635] |[4.9329205, 4.711753, 4.6896987, 4.6896987, 4.667669]  |\n",
      "+------+----------------------------------------+-------------------------------------------------------+\n",
      "only showing top 10 rows\n",
      "\n"
     ]
    }
   ],
   "source": [
    "userRecommends.select([\"userId\",\"recommendations.movieId\",\"recommendations.rating\"]).show(10,truncate=False)"
   ]
  },
  {
   "cell_type": "code",
   "execution_count": null,
   "id": "6c43a8fb-3e0f-436e-ba38-8adf5efba30e",
   "metadata": {},
   "outputs": [],
   "source": []
  },
  {
   "cell_type": "code",
   "execution_count": 36,
   "id": "506f48ec-bf35-468a-9836-17ac00c01137",
   "metadata": {},
   "outputs": [
    {
     "name": "stdout",
     "output_type": "stream",
     "text": [
      "-RECORD 0---------------------------------------------------------------------------------------------------------\n",
      " movieId         | 59315                                                                                          \n",
      " recommendations | [{5668, 5.1048603}, {7034, 5.0878706}, {7251, 5.0698075}, {5424, 5.052721}, {5120, 5.0273542}] \n",
      "\n"
     ]
    }
   ],
   "source": [
    "movieRecommends.filter(movieRecommends.movieId == 59315 ).show(vertical=True,truncate=False)"
   ]
  },
  {
   "cell_type": "code",
   "execution_count": null,
   "id": "e5eff537-a3c1-4443-9c65-21c96030e522",
   "metadata": {},
   "outputs": [],
   "source": [
    "{5668, 5.1048603}, ==> White Oleander (2002)\n",
    "{7034, 5.0878706}, ==> Show Me Love (Fucking Ã…mÃ¥l) (1998)\n",
    "{7251, 5.0698075}, ==> Where the Day Takes You (1992)\n",
    "{5424, 5.052721},  ==> Harvard Man (2001)\n",
    "{5120, 5.0273542}  ==> Sleuth (1972)"
   ]
  },
  {
   "cell_type": "code",
   "execution_count": null,
   "id": "1f2bc25c-5a85-45e2-b89a-d75d65a70040",
   "metadata": {},
   "outputs": [],
   "source": []
  },
  {
   "cell_type": "code",
   "execution_count": null,
   "id": "70f7708c-9e0d-4e94-921d-4d9354ddfff9",
   "metadata": {},
   "outputs": [],
   "source": []
  },
  {
   "cell_type": "code",
   "execution_count": null,
   "id": "d3746986-f722-4a7c-9b38-eb0b29f58b07",
   "metadata": {},
   "outputs": [],
   "source": []
  },
  {
   "cell_type": "code",
   "execution_count": null,
   "id": "1cd2003f-d376-41b2-a93e-ac9ececa4a92",
   "metadata": {},
   "outputs": [],
   "source": []
  },
  {
   "cell_type": "code",
   "execution_count": null,
   "id": "033322bf-b7b3-4ef5-9ab7-feb8249ba3ef",
   "metadata": {},
   "outputs": [],
   "source": []
  },
  {
   "cell_type": "code",
   "execution_count": null,
   "id": "9b546cb9-ecdd-4922-a710-513e94c0472e",
   "metadata": {},
   "outputs": [],
   "source": []
  },
  {
   "cell_type": "code",
   "execution_count": null,
   "id": "0c9bcaa4-1bdc-41c7-9243-2ea48dbad534",
   "metadata": {},
   "outputs": [],
   "source": []
  },
  {
   "cell_type": "code",
   "execution_count": null,
   "id": "b6363316-327c-4857-9ca8-f5faead059c2",
   "metadata": {},
   "outputs": [],
   "source": []
  },
  {
   "cell_type": "code",
   "execution_count": null,
   "id": "9d5e2e17-f927-47ec-90d1-3e99bf69ccf2",
   "metadata": {},
   "outputs": [],
   "source": []
  },
  {
   "cell_type": "code",
   "execution_count": null,
   "id": "66323d0a-fcbd-40d0-a13e-6b9449a77f64",
   "metadata": {},
   "outputs": [],
   "source": []
  },
  {
   "cell_type": "code",
   "execution_count": null,
   "id": "7e719f90-aee0-453a-87d5-df0e82ae507d",
   "metadata": {},
   "outputs": [],
   "source": []
  },
  {
   "cell_type": "code",
   "execution_count": null,
   "id": "59d656cc-fa74-43fc-bcd2-9a73ff7c11ce",
   "metadata": {},
   "outputs": [],
   "source": []
  },
  {
   "cell_type": "code",
   "execution_count": null,
   "id": "d33def82-a07b-4e44-8f8e-560f0a15ffcc",
   "metadata": {},
   "outputs": [],
   "source": []
  },
  {
   "cell_type": "code",
   "execution_count": null,
   "id": "650b4b08-6081-4dc9-9e5f-b2e34a2008bc",
   "metadata": {},
   "outputs": [],
   "source": []
  },
  {
   "cell_type": "code",
   "execution_count": null,
   "id": "f2c7c001-9cd5-4715-9d50-720d5ba66e2e",
   "metadata": {},
   "outputs": [],
   "source": []
  },
  {
   "cell_type": "code",
   "execution_count": null,
   "id": "fc93743b-4f9b-445e-ad88-359faef40b14",
   "metadata": {},
   "outputs": [],
   "source": [
    "# # For example, 30% of items will be masked\n",
    "# percent_items_to_mask = 0.3 \n",
    "# # Determine the number of items to mask for each user\n",
    "# df_rec_final = df_rec_filtered.withColumn(\"num_items_to_mask\", (col(\"num_items\") * percent_items_to_mask).cast(\"int\"))\n",
    "# # Masks items for each user\n",
    "# df_rec_final = df_rec_final.withColumn(\"item_rank\", rank().over(user_window))\n",
    "\n",
    "# # Create a StringIndexer model to index the user ID column\n",
    "# indexer_user = StringIndexer(inputCol='userId', outputCol='userIndex').setHandleInvalid(\"keep\")\n",
    "# indexer_item = StringIndexer(inputCol='itemId', outputCol='itemIndex').setHandleInvalid(\"keep\")\n",
    "\n",
    "# # Fit the indexer model to the data and transform the DataFrame\n",
    "# df_rec_final = indexer_user.fit(df_rec_final).transform(df_rec_final)\n",
    "# df_rec_final = indexer_item.fit(df_rec_final).transform(df_rec_final)\n",
    "\n",
    "# # Convert the userIndex column to integer type\n",
    "# df_rec_final = df_rec_final.withColumn('userIndex', df_rec_final['userIndex'].cast('integer'))\\\n",
    "#                .withColumn('itemIndex', df_rec_final['itemIndex'].cast('integer'))\n",
    "\n",
    "# train_df_rec = df_rec_final.filter(col(\"item_rank\") > col(\"num_items_to_mask\"))\n",
    "# test_df_rec = df_rec_final.filter(col(\"item_rank\") <= col(\"num_items_to_mask\"))"
   ]
  },
  {
   "cell_type": "code",
   "execution_count": 9,
   "id": "e1b2843f-61d6-42bf-8730-2ceb384e382e",
   "metadata": {},
   "outputs": [],
   "source": [
    "training_df, validation_df = ratings_df.randomSplit([.8,.2])"
   ]
  },
  {
   "cell_type": "code",
   "execution_count": 12,
   "id": "042c7928-94b7-4743-a232-392aa20173f1",
   "metadata": {},
   "outputs": [],
   "source": [
    "# Configure the ALS model\n",
    "als = ALS(userCol='userId', itemCol='movieId', ratingCol='rating',\n",
    "          coldStartStrategy='drop', nonnegative=True)\n",
    "\n",
    "param_grid = ParamGridBuilder()\\\n",
    "             .addGrid(als.rank, [1, 4, 10, 20, 30])\\\n",
    "             .addGrid(als.maxIter, [10 ,12,18,20])\\\n",
    "             .addGrid(als.regParam, [0.001, 0.01, .05, .15])\\\n",
    "             .build()\n",
    "evaluator = RegressionEvaluator(metricName='rmse', labelCol='rating', predictionCol='prediction')\n",
    "\n",
    "cv = CrossValidator(\n",
    "        estimator=als,\n",
    "        estimatorParamMaps=param_grid,\n",
    "        evaluator=evaluator,\n",
    "        numFolds=3)"
   ]
  },
  {
   "cell_type": "code",
   "execution_count": 13,
   "id": "5e683bcc-6fcb-447a-bed9-b2657075346c",
   "metadata": {},
   "outputs": [
    {
     "name": "stdout",
     "output_type": "stream",
     "text": [
      "rank:  1\n",
      "MaxIter:  20\n",
      "RegParam:  0.01\n"
     ]
    }
   ],
   "source": [
    "model = cv.fit(training_df)\n",
    "\n",
    "best_model = model.bestModel\n",
    "print('rank: ', best_model.rank)\n",
    "print('MaxIter: ', best_model._java_obj.parent().getMaxIter())\n",
    "print('RegParam: ', best_model._java_obj.parent().getRegParam())"
   ]
  },
  {
   "cell_type": "code",
   "execution_count": 16,
   "id": "f273cace-8604-4535-9a9d-e0d75b8787ad",
   "metadata": {},
   "outputs": [
    {
     "name": "stdout",
     "output_type": "stream",
     "text": [
      "Root Mean Squared Error (RMSE): 0.8744795298421134\n"
     ]
    }
   ],
   "source": [
    "# Train the model using the training data\n",
    "als_using_best_params = ALS(maxIter = best_model._java_obj.parent().getMaxIter(),regParam = best_model._java_obj.parent().getRegParam(),rank = best_model.rank,\n",
    "        userCol='userId', itemCol='movieId', ratingCol='rating',\n",
    "          coldStartStrategy='drop', nonnegative=True)\n",
    "model = als_using_best_params.fit(training_df)\n",
    "\n",
    "# Generate predictions on the test data\n",
    "predictions = best_model.transform(validation_df)\n",
    "predictions = predictions.withColumn(\"prediction\", expr(\"CASE WHEN prediction < 1 THEN 1 WHEN prediction > 5 THEN 5 ELSE prediction END\"))\n",
    "\n",
    "evaluator = RegressionEvaluator(metricName='rmse', labelCol='rating', predictionCol='prediction')\n",
    "rmse = evaluator.evaluate(predictions)\n",
    "print(f'Root Mean Squared Error (RMSE): {rmse}')"
   ]
  },
  {
   "cell_type": "code",
   "execution_count": 34,
   "id": "df974746-f89f-4696-9598-83a1a9aa1c04",
   "metadata": {},
   "outputs": [
    {
     "name": "stdout",
     "output_type": "stream",
     "text": [
      "+------+-------+------+----------+----------+\n",
      "|userId|movieId|rating| timestamp|prediction|\n",
      "+------+-------+------+----------+----------+\n",
      "|   322|   1580|   3.5|1217676294|  3.068567|\n",
      "|   593|   1580|   1.5|1181007882|  3.054487|\n",
      "|   597|   1580|   3.0| 941558308| 3.8594012|\n",
      "|   597|   2366|   5.0| 941729029|  3.914689|\n",
      "|   368|   2366|   4.0| 975828914| 2.9883285|\n",
      "|   368|   3918|   2.0| 971273835| 3.6173298|\n",
      "|   115|   1645|   4.0| 957648208| 3.6923604|\n",
      "|   385|   1238|   3.0| 865026050|  4.028213|\n",
      "|   183|   1580|   4.0| 992331667|  3.525297|\n",
      "|   436|    471|   3.0| 833530187| 3.5021195|\n",
      "+------+-------+------+----------+----------+\n",
      "only showing top 10 rows\n",
      "\n"
     ]
    }
   ],
   "source": [
    "predictions.show(10)"
   ]
  },
  {
   "cell_type": "code",
   "execution_count": 37,
   "id": "8dd0e209-ecb8-4a55-a2b4-224ffea506f8",
   "metadata": {},
   "outputs": [
    {
     "name": "stdout",
     "output_type": "stream",
     "text": [
      "+------+--------------------------------+----------+\n",
      "|userId|title                           |prediction|\n",
      "+------+--------------------------------+----------+\n",
      "|322   |Men in Black (a.k.a. MIB) (1997)|3.068567  |\n",
      "|593   |Men in Black (a.k.a. MIB) (1997)|3.054487  |\n",
      "|597   |Men in Black (a.k.a. MIB) (1997)|3.8594012 |\n",
      "|597   |King Kong (1933)                |3.914689  |\n",
      "|368   |King Kong (1933)                |2.9883285 |\n",
      "|368   |Hellbound: Hellraiser II (1988) |3.6173298 |\n",
      "|115   |The Devil's Advocate (1997)     |3.6923604 |\n",
      "|385   |Local Hero (1983)               |4.028213  |\n",
      "|183   |Men in Black (a.k.a. MIB) (1997)|3.525297  |\n",
      "|436   |Hudsucker Proxy, The (1994)     |3.5021195 |\n",
      "+------+--------------------------------+----------+\n",
      "only showing top 10 rows\n",
      "\n"
     ]
    }
   ],
   "source": [
    "predictions.join(movies_df,\"movieId\").select(\"userId\",\"title\",\"prediction\").show(10,truncate=False)"
   ]
  },
  {
   "cell_type": "code",
   "execution_count": 38,
   "id": "60252fc1-09fc-4f04-b534-3d4871e93536",
   "metadata": {},
   "outputs": [
    {
     "name": "stdout",
     "output_type": "stream",
     "text": [
      "+------+-------+------+----------+----------+\n",
      "|userId|movieId|rating| timestamp|prediction|\n",
      "+------+-------+------+----------+----------+\n",
      "|   322|   1580|   3.5|1217676294|  3.068567|\n",
      "|   593|   1580|   1.5|1181007882|  3.054487|\n",
      "|   597|   1580|   3.0| 941558308| 3.8594012|\n",
      "|   597|   2366|   5.0| 941729029|  3.914689|\n",
      "|   368|   2366|   4.0| 975828914| 2.9883285|\n",
      "|   368|   3918|   2.0| 971273835| 3.6173298|\n",
      "|   115|   1645|   4.0| 957648208| 3.6923604|\n",
      "|   385|   1238|   3.0| 865026050|  4.028213|\n",
      "|   183|   1580|   4.0| 992331667|  3.525297|\n",
      "|   436|    471|   3.0| 833530187| 3.5021195|\n",
      "+------+-------+------+----------+----------+\n",
      "only showing top 10 rows\n",
      "\n"
     ]
    }
   ],
   "source": [
    "+"
   ]
  },
  {
   "cell_type": "code",
   "execution_count": null,
   "id": "17e18c55-1601-4b17-b6dc-57800a0c12bf",
   "metadata": {},
   "outputs": [],
   "source": []
  },
  {
   "cell_type": "code",
   "execution_count": null,
   "id": "178b10e9-b7c9-4bba-9ecc-d440a0121994",
   "metadata": {},
   "outputs": [],
   "source": []
  },
  {
   "cell_type": "code",
   "execution_count": 27,
   "id": "f5d99235-2358-4b4f-a372-f45062cb2fd1",
   "metadata": {},
   "outputs": [],
   "source": [
    "userRecommends = model.recommendForAllUsers(5)\n",
    "movieRecommends = model.recommendForAllItems(5)"
   ]
  },
  {
   "cell_type": "code",
   "execution_count": 30,
   "id": "290e070b-ca79-4728-a718-b54a114c28f3",
   "metadata": {},
   "outputs": [
    {
     "name": "stdout",
     "output_type": "stream",
     "text": [
      "+------+-----------------------------------------------------------------------------------------------+\n",
      "|userId|recommendations                                                                                |\n",
      "+------+-----------------------------------------------------------------------------------------------+\n",
      "|1     |[{6835, 10.826822}, {5746, 10.826822}, {5181, 10.826822}, {7899, 9.74414}, {5764, 9.74414}]    |\n",
      "|2     |[{6835, 8.613483}, {5746, 8.613483}, {5181, 8.613483}, {7899, 7.752135}, {5764, 7.752135}]     |\n",
      "|3     |[{6835, 4.9506826}, {5746, 4.9506826}, {5181, 4.9506826}, {7899, 4.4556146}, {5764, 4.4556146}]|\n",
      "|4     |[{6835, 8.38581}, {5746, 8.38581}, {5181, 8.38581}, {7899, 7.547229}, {5764, 7.547229}]        |\n",
      "|5     |[{6835, 8.882423}, {5746, 8.882423}, {5181, 8.882423}, {7899, 7.994181}, {5764, 7.994181}]     |\n",
      "|6     |[{6835, 9.649032}, {5746, 9.649032}, {5181, 9.649032}, {7899, 8.684129}, {5764, 8.684129}]     |\n",
      "|7     |[{6835, 8.051511}, {5746, 8.051511}, {5181, 8.051511}, {7899, 7.246359}, {5764, 7.246359}]     |\n",
      "|8     |[{6835, 9.043954}, {5746, 9.043954}, {5181, 9.043954}, {7899, 8.139559}, {5764, 8.139559}]     |\n",
      "|9     |[{6835, 8.963494}, {5746, 8.963494}, {5181, 8.963494}, {7899, 8.067144}, {5764, 8.067144}]     |\n",
      "|10    |[{6835, 8.018471}, {5746, 8.018471}, {5181, 8.018471}, {7899, 7.216624}, {5764, 7.216624}]     |\n",
      "+------+-----------------------------------------------------------------------------------------------+\n",
      "only showing top 10 rows\n",
      "\n"
     ]
    }
   ],
   "source": [
    "userRecommends.select([\"userId\",\"recommendations\"]).show(10,truncate=False)"
   ]
  },
  {
   "cell_type": "code",
   "execution_count": 33,
   "id": "d13528e6-295b-44d0-8804-9eea5c3dbd7f",
   "metadata": {},
   "outputs": [
    {
     "name": "stdout",
     "output_type": "stream",
     "text": [
      "+-------+---------------------+\n",
      "|movieId|userID               |\n",
      "+-------+---------------------+\n",
      "|1      |[53, 43, 276, 12, 93]|\n",
      "|12     |[53, 43, 276, 12, 93]|\n",
      "|13     |[53, 43, 276, 12, 93]|\n",
      "|22     |[53, 43, 276, 12, 93]|\n",
      "|26     |[53, 43, 276, 12, 93]|\n",
      "|27     |[53, 43, 276, 12, 93]|\n",
      "|28     |[53, 43, 276, 12, 93]|\n",
      "|31     |[53, 43, 276, 12, 93]|\n",
      "|34     |[53, 43, 276, 12, 93]|\n",
      "|44     |[53, 43, 276, 12, 93]|\n",
      "+-------+---------------------+\n",
      "only showing top 10 rows\n",
      "\n"
     ]
    }
   ],
   "source": [
    "movieRecommends.select([\"movieId\",\"recommendations.userId\"]).show(10,truncate=False)"
   ]
  },
  {
   "cell_type": "code",
   "execution_count": null,
   "id": "f5992195-37e4-4f03-87c2-a4dd1d23e4fa",
   "metadata": {},
   "outputs": [],
   "source": []
  },
  {
   "cell_type": "code",
   "execution_count": null,
   "id": "04152596-1f0a-46dc-8ba1-88706c954011",
   "metadata": {},
   "outputs": [],
   "source": []
  },
  {
   "cell_type": "code",
   "execution_count": null,
   "id": "dd1b24de-e439-49fc-94ba-bb61c3a3ccde",
   "metadata": {},
   "outputs": [],
   "source": []
  },
  {
   "cell_type": "code",
   "execution_count": null,
   "id": "7dc06d9c-3815-423f-8cb2-f29d74509b61",
   "metadata": {},
   "outputs": [],
   "source": []
  },
  {
   "cell_type": "code",
   "execution_count": null,
   "id": "710503d3-3bb8-469f-b911-61420cf73037",
   "metadata": {},
   "outputs": [],
   "source": []
  },
  {
   "cell_type": "code",
   "execution_count": null,
   "id": "acf80f9f-a69e-4621-8806-9c566fc2760a",
   "metadata": {},
   "outputs": [],
   "source": []
  },
  {
   "cell_type": "code",
   "execution_count": null,
   "id": "9b6507a2-9e7d-4773-bcf8-944b9a32e994",
   "metadata": {},
   "outputs": [],
   "source": []
  },
  {
   "cell_type": "code",
   "execution_count": null,
   "id": "9662120d-cf62-4625-a356-c54e17f02e9c",
   "metadata": {},
   "outputs": [],
   "source": []
  },
  {
   "cell_type": "code",
   "execution_count": null,
   "id": "064b797b-516a-4c67-bb91-b410c5d2f269",
   "metadata": {},
   "outputs": [],
   "source": []
  },
  {
   "cell_type": "code",
   "execution_count": null,
   "id": "af855611-69bc-472c-9e7e-f7bccdd6da2a",
   "metadata": {},
   "outputs": [],
   "source": []
  },
  {
   "cell_type": "code",
   "execution_count": null,
   "id": "46d2fab2-1ad0-4960-bd5d-33e86e815e98",
   "metadata": {},
   "outputs": [],
   "source": []
  },
  {
   "cell_type": "code",
   "execution_count": null,
   "id": "3d46a85e-678a-494f-a1da-ada6ceeacfa4",
   "metadata": {},
   "outputs": [],
   "source": []
  },
  {
   "cell_type": "code",
   "execution_count": null,
   "id": "a8136dba-9546-4250-95cc-572f5396258c",
   "metadata": {},
   "outputs": [],
   "source": []
  },
  {
   "cell_type": "code",
   "execution_count": null,
   "id": "5f674f51-ee08-4f17-85ae-e45a113145eb",
   "metadata": {},
   "outputs": [],
   "source": []
  },
  {
   "cell_type": "code",
   "execution_count": null,
   "id": "7acb6099-abb6-4cff-9e49-3eeb104578c4",
   "metadata": {},
   "outputs": [],
   "source": []
  },
  {
   "cell_type": "code",
   "execution_count": null,
   "id": "dcba036f-b1e9-461b-8242-00098fae6275",
   "metadata": {},
   "outputs": [],
   "source": []
  },
  {
   "cell_type": "code",
   "execution_count": null,
   "id": "0ba217e9-9090-4a73-9485-71c92c28419a",
   "metadata": {},
   "outputs": [],
   "source": []
  },
  {
   "cell_type": "code",
   "execution_count": null,
   "id": "22529ea9-b51f-4a38-b3ee-d40eb5c77d89",
   "metadata": {},
   "outputs": [],
   "source": []
  },
  {
   "cell_type": "code",
   "execution_count": null,
   "id": "2909cdce-0035-4a3d-9689-ab4c7872bb70",
   "metadata": {},
   "outputs": [],
   "source": []
  },
  {
   "cell_type": "code",
   "execution_count": null,
   "id": "21ae7ac8-4a44-433e-9543-3116b5500f77",
   "metadata": {},
   "outputs": [],
   "source": []
  },
  {
   "cell_type": "code",
   "execution_count": null,
   "id": "2866ce89-53b6-4825-b53d-9391a4866636",
   "metadata": {},
   "outputs": [],
   "source": []
  },
  {
   "cell_type": "code",
   "execution_count": null,
   "id": "3f83e0bf-1fe3-4625-88a1-26fb9eb94606",
   "metadata": {},
   "outputs": [],
   "source": []
  },
  {
   "cell_type": "code",
   "execution_count": null,
   "id": "3acabc90-3214-497e-872b-5c64f60f2d86",
   "metadata": {},
   "outputs": [],
   "source": []
  },
  {
   "cell_type": "code",
   "execution_count": null,
   "id": "89c5689f-94af-462a-b715-11e8476d126e",
   "metadata": {},
   "outputs": [],
   "source": []
  },
  {
   "cell_type": "code",
   "execution_count": null,
   "id": "85bae612-7516-4974-b713-c1dfc13ee362",
   "metadata": {},
   "outputs": [],
   "source": []
  },
  {
   "cell_type": "code",
   "execution_count": null,
   "id": "ece6e4b3-79ad-420c-8c39-e840866f075c",
   "metadata": {},
   "outputs": [],
   "source": []
  }
 ],
 "metadata": {
  "kernelspec": {
   "display_name": "Python 3 (ipykernel)",
   "language": "python",
   "name": "python3"
  },
  "language_info": {
   "codemirror_mode": {
    "name": "ipython",
    "version": 3
   },
   "file_extension": ".py",
   "mimetype": "text/x-python",
   "name": "python",
   "nbconvert_exporter": "python",
   "pygments_lexer": "ipython3",
   "version": "3.12.0b3"
  }
 },
 "nbformat": 4,
 "nbformat_minor": 5
}
