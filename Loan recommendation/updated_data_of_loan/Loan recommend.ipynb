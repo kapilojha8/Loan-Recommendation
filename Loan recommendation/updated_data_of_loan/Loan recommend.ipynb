{
 "cells": [
  {
   "cell_type": "code",
   "execution_count": 1,
   "id": "e20dd32e-1530-42f6-bdf9-c3f5806e837b",
   "metadata": {},
   "outputs": [],
   "source": [
    "from pyspark.sql import SparkSession\n",
    "from pyspark.sql.functions import col, expr, rank, countDistinct, count\n",
    "from pyspark.sql.window import Window\n",
    "from pyspark.ml.recommendation import ALS\n",
    "from pyspark.ml.evaluation import RegressionEvaluator\n",
    "from pyspark.ml.feature import StringIndexer\n",
    "from pyspark.ml.tuning import TrainValidationSplit, ParamGridBuilder, CrossValidator\n",
    "import pandas as pd\n",
    "import matplotlib.pyplot as plt\n",
    "import time"
   ]
  },
  {
   "cell_type": "code",
   "execution_count": 2,
   "id": "7feab969-e8a3-4d26-adb0-080556999837",
   "metadata": {},
   "outputs": [
    {
     "name": "stderr",
     "output_type": "stream",
     "text": [
      "Setting default log level to \"WARN\".\n",
      "To adjust logging level use sc.setLogLevel(newLevel). For SparkR, use setLogLevel(newLevel).\n",
      "24/01/08 14:30:15 WARN NativeCodeLoader: Unable to load native-hadoop library for your platform... using builtin-java classes where applicable\n"
     ]
    }
   ],
   "source": [
    "#creating the sparksesson object\n",
    "spark = SparkSession.builder.appName('loan_recommendation_with_clusters').config(\"spark.driver.memory\", \"15g\").getOrCreate()"
   ]
  },
  {
   "cell_type": "code",
   "execution_count": 3,
   "id": "867605ca-18ec-48d8-8109-8871e4118aa6",
   "metadata": {},
   "outputs": [
    {
     "data": {
      "text/html": [
       "\n",
       "            <div>\n",
       "                <p><b>SparkSession - in-memory</b></p>\n",
       "                \n",
       "        <div>\n",
       "            <p><b>SparkContext</b></p>\n",
       "\n",
       "            <p><a href=\"http://mr-62:4040\">Spark UI</a></p>\n",
       "\n",
       "            <dl>\n",
       "              <dt>Version</dt>\n",
       "                <dd><code>v3.5.0</code></dd>\n",
       "              <dt>Master</dt>\n",
       "                <dd><code>local[*]</code></dd>\n",
       "              <dt>AppName</dt>\n",
       "                <dd><code>loan_recommendation_with_clusters</code></dd>\n",
       "            </dl>\n",
       "        </div>\n",
       "        \n",
       "            </div>\n",
       "        "
      ],
      "text/plain": [
       "<pyspark.sql.session.SparkSession at 0x7feb7d4890a0>"
      ]
     },
     "execution_count": 3,
     "metadata": {},
     "output_type": "execute_result"
    }
   ],
   "source": [
    "# printing the spark object to view spark config and getting url for spark UI (if needed)\n",
    "spark"
   ]
  },
  {
   "cell_type": "code",
   "execution_count": 4,
   "id": "c193e8d5-ed73-4ce1-8c2a-8580263c5921",
   "metadata": {},
   "outputs": [
    {
     "name": "stdout",
     "output_type": "stream",
     "text": [
      "root\n",
      " |-- Min_IT_Loan_ID__c: double (nullable = true)\n",
      " |-- Opp_Number__c: double (nullable = true)\n",
      " |-- Id: string (nullable = true)\n",
      " |-- AccountID: string (nullable = true)\n",
      " |-- Number_Of_Loans_Granted__c: double (nullable = true)\n",
      " |-- Num_Of_Loans_Paid__c: double (nullable = true)\n",
      " |-- Purpose_of_Loan__c: string (nullable = true)\n",
      " |-- Total_Repayments__c: double (nullable = true)\n",
      " |-- Amount: double (nullable = true)\n",
      " |-- Term_in_Weeks__c: double (nullable = true)\n",
      " |-- Payment_Frequency__c: string (nullable = true)\n",
      " |-- StageName: string (nullable = true)\n",
      " |-- Applicant Age: double (nullable = true)\n",
      " |-- userId: integer (nullable = true)\n",
      " |-- loanId: integer (nullable = true)\n",
      " |-- count: integer (nullable = true)\n",
      " |-- LoanIdFormat: integer (nullable = true)\n",
      "\n"
     ]
    }
   ],
   "source": [
    "# importing the csv file using the spark object\n",
    "loans_df = spark.read.csv(\"df_data/df_created_.csv\", inferSchema=True, header=True)\n",
    "# printing the schema(like DB structure) of imported csv dataset. \n",
    "loans_df.printSchema()"
   ]
  },
  {
   "cell_type": "code",
   "execution_count": 5,
   "id": "66fda6a1-a162-4b31-9076-0a3a230f16de",
   "metadata": {},
   "outputs": [
    {
     "name": "stdout",
     "output_type": "stream",
     "text": [
      "+------------+------+-------------------+--------------------+-----+\n",
      "|LoanIdFormat|Amount|Total_Repayments__c|Payment_Frequency__c|count|\n",
      "+------------+------+-------------------+--------------------+-----+\n",
      "|           1|1250.0|                4.0|             Monthly|    0|\n",
      "|           1|2050.0|                5.0|             Monthly|    5|\n",
      "|           1|2050.0|                4.0|             Monthly|    5|\n",
      "|           1|2050.0|                5.0|             Monthly|    5|\n",
      "|           1|2000.0|                2.0|             Monthly|    5|\n",
      "|           1|2050.0|                4.0|             Monthly|    5|\n",
      "|           1|2000.0|                4.0|             Monthly|    4|\n",
      "|           1|2050.0|                4.0|             Monthly|    4|\n",
      "|           1|2100.0|                4.0|             Monthly|    4|\n",
      "|           1|2050.0|                5.0|             Monthly|    4|\n",
      "+------------+------+-------------------+--------------------+-----+\n",
      "only showing top 10 rows\n",
      "\n"
     ]
    }
   ],
   "source": [
    "# printing the first 10 rows of the selected columns i.e.\"LoanIdFormat\",\"Amount\",\"Total_Repayments__c\",\"Payment_Frequency__c\",\"count\"\n",
    "loans_df.select([\"LoanIdFormat\",\"Amount\",\"Total_Repayments__c\",\"Payment_Frequency__c\",\"count\"]).show(10)"
   ]
  },
  {
   "cell_type": "code",
   "execution_count": 6,
   "id": "b17fa619-e0b5-459a-aa9b-1b30dfb9b411",
   "metadata": {},
   "outputs": [
    {
     "name": "stderr",
     "output_type": "stream",
     "text": [
      "24/01/08 14:31:13 WARN SparkStringUtils: Truncated the string representation of a plan since it was too large. This behavior can be adjusted by setting 'spark.sql.debug.maxToStringFields'.\n"
     ]
    },
    {
     "name": "stdout",
     "output_type": "stream",
     "text": [
      "+-------+------------------+------------------+-----------------+-------------------+--------------------------+--------------------+\n",
      "|summary|      LoanIdFormat|             count|           Amount|Total_Repayments__c|Number_Of_Loans_Granted__c|Num_Of_Loans_Paid__c|\n",
      "+-------+------------------+------------------+-----------------+-------------------+--------------------------+--------------------+\n",
      "|  count|             17079|             17079|            17079|              17079|                     17079|               17079|\n",
      "|   mean|14.728731190350723|1.3821066807190117|1857.020317348791| 11.395222202705076|         13.64113823994379|  11.025001463785935|\n",
      "| stddev|13.210237567953197|0.9665433779775973|1450.436334960087|  7.472509833818936|         9.490984548297364|    9.27097352040766|\n",
      "|    min|                 1|                 0|            100.0|                1.0|                       5.0|                 3.0|\n",
      "|    max|                60|                 7|           5000.0|               40.0|                      74.0|                71.0|\n",
      "+-------+------------------+------------------+-----------------+-------------------+--------------------------+--------------------+\n",
      "\n"
     ]
    }
   ],
   "source": [
    "# printing the description of few columns to get their insight desc. \n",
    "#      like \n",
    "#          no.of rows, \n",
    "#          mean of the value of column, \n",
    "#          standard deviation value, \n",
    "#          min and max values in columns\n",
    "loans_df.select([\"LoanIdFormat\",\"count\",\"Amount\",\"Total_Repayments__c\",\"Number_Of_Loans_Granted__c\",\"Num_Of_Loans_Paid__c\"]).describe().show()"
   ]
  },
  {
   "cell_type": "markdown",
   "id": "6f4a2dff-26c8-431c-9dcd-1e191b12add0",
   "metadata": {
    "scrolled": true
   },
   "source": [
    "### Plotting the histogram to view that is our counts(rating) were distributed in binomial or normal distribution"
   ]
  },
  {
   "cell_type": "code",
   "execution_count": 7,
   "id": "879b0ed5-5a6a-4f4f-a02a-1ef3be15bd8d",
   "metadata": {},
   "outputs": [],
   "source": [
    "# converting the spark dataframe into the pandas dataframe to print the \n",
    "hist_data  = loans_df.select(\"count\").toPandas()"
   ]
  },
  {
   "cell_type": "code",
   "execution_count": 8,
   "id": "8e20cc21-d8fc-478f-ae00-442e698e0c7b",
   "metadata": {},
   "outputs": [
    {
     "data": {
      "image/png": "[encoded data removed]",
      "text/plain": [
       "<Figure size 640x480 with 1 Axes>"
      ]
     },
     "metadata": {},
     "output_type": "display_data"
    }
   ],
   "source": [
    "# Creating the histograms for the column \"count\" \n",
    "hist_data['count'].hist()\n",
    "plt.xlabel(\"count\")\n",
    "plt.ylabel(\"Frequency\")\n",
    "plt.title(f\"Histogram of count\")\n",
    "plt.show()"
   ]
  },
  {
   "cell_type": "markdown",
   "id": "fd9835e4-2ea1-4270-bdfb-875fdd70e507",
   "metadata": {},
   "source": [
    "######"
   ]
  },
  {
   "cell_type": "markdown",
   "id": "bd1815af-9dfb-43f8-ae83-b4fe9598faa1",
   "metadata": {},
   "source": [
    "#### from the above histogram we see that data count(ratings) of loans is not normally distributed"
   ]
  },
  {
   "cell_type": "code",
   "execution_count": 9,
   "id": "93606394-8fb4-4d30-8235-c8e1cdb15a13",
   "metadata": {},
   "outputs": [
    {
     "name": "stdout",
     "output_type": "stream",
     "text": [
      "Number of unique loanId_format(created using cluster technique): 43\n",
      "Number of unique Loan Id: 10576\n"
     ]
    }
   ],
   "source": [
    "# Count the number of unique loan items (created using cluster technique)\n",
    "num_unique_loan_id_format = loans_df.select('LoanIdFormat').distinct().count()\n",
    "print(f\"Number of unique loanId_format(created using cluster technique): {num_unique_loan_id_format}\")\n",
    "\n",
    "# Count the number of unique loan id's\n",
    "num_unique_id = loans_df.select('Id').distinct().count()\n",
    "print(f\"Number of unique Loan Id: {num_unique_id}\")"
   ]
  },
  {
   "cell_type": "code",
   "execution_count": 10,
   "id": "aa9f871b-ee01-470a-af88-09d50dc228cb",
   "metadata": {},
   "outputs": [
    {
     "name": "stdout",
     "output_type": "stream",
     "text": [
      "Number of unique users: 8179\n"
     ]
    }
   ],
   "source": [
    "# Count the number of unique users\n",
    "tmp = loans_df.select('userId').distinct().count()\n",
    "print(f\"Number of unique users: {tmp}\")\n"
   ]
  },
  {
   "cell_type": "code",
   "execution_count": 11,
   "id": "18f5bc8b-ee99-490a-89e0-8a319deb255f",
   "metadata": {},
   "outputs": [
    {
     "name": "stdout",
     "output_type": "stream",
     "text": [
      "+-----+\n",
      "|count|\n",
      "+-----+\n",
      "|    1|\n",
      "|    6|\n",
      "|    3|\n",
      "|    5|\n",
      "|    4|\n",
      "|    7|\n",
      "|    2|\n",
      "|    0|\n",
      "+-----+\n",
      "\n"
     ]
    }
   ],
   "source": [
    "# distinct values of the rating\n",
    "loans_df.select(\"count\").distinct().show()"
   ]
  },
  {
   "cell_type": "markdown",
   "id": "67ad89af-06f7-4fac-b6bb-9d0ec842ed04",
   "metadata": {},
   "source": [
    "========================================================================================================"
   ]
  },
  {
   "cell_type": "markdown",
   "id": "6ea6197c-53b9-4c06-a20d-1e1f2233d371",
   "metadata": {},
   "source": [
    "Converting the dataset into train test and validation split."
   ]
  },
  {
   "cell_type": "code",
   "execution_count": null,
   "id": "06409684-e1e3-412d-85ae-765c1469c6fd",
   "metadata": {},
   "outputs": [],
   "source": []
  },
  {
   "cell_type": "code",
   "execution_count": 12,
   "id": "25b7a938-17f5-460f-a3bf-78ebd6628477",
   "metadata": {},
   "outputs": [
    {
     "name": "stdout",
     "output_type": "stream",
     "text": [
      "+------------+-----+------+\n",
      "|LoanIdFormat|count|Amount|\n",
      "+------------+-----+------+\n",
      "|           1|    0|1250.0|\n",
      "|           1|    5|2050.0|\n",
      "|           1|    5|2050.0|\n",
      "|           1|    5|2050.0|\n",
      "|           1|    5|2000.0|\n",
      "|           1|    5|2050.0|\n",
      "|           1|    4|2000.0|\n",
      "|           1|    4|2050.0|\n",
      "|           1|    4|2100.0|\n",
      "|           1|    4|2050.0|\n",
      "+------------+-----+------+\n",
      "only showing top 10 rows\n",
      "\n"
     ]
    }
   ],
   "source": [
    "# just taking a look of dataset by selecting 3 columns \"LoanIdFormat\",\"count\",\"Amount\"  and showing its 10 rows\n",
    "loans_df.select([\"LoanIdFormat\",\"count\",\"Amount\"]).show(10)"
   ]
  },
  {
   "cell_type": "code",
   "execution_count": 13,
   "id": "471dc8a3-2474-41c2-a4c2-d3f09756df0d",
   "metadata": {},
   "outputs": [
    {
     "data": {
      "text/plain": [
       "DataFrame[Min_IT_Loan_ID__c: double, Opp_Number__c: double, Id: string, AccountID: string, Number_Of_Loans_Granted__c: double, Num_Of_Loans_Paid__c: double, Purpose_of_Loan__c: string, Total_Repayments__c: double, Amount: double, Term_in_Weeks__c: double, Payment_Frequency__c: string, StageName: string, Applicant Age: double, userId: int, loanId: int, count: int, LoanIdFormat: int]"
      ]
     },
     "execution_count": 13,
     "metadata": {},
     "output_type": "execute_result"
    }
   ],
   "source": [
    "# breaking the dataframe into train and validation using randomsplit method we are converting it into the ratio of 80%,20%\n",
    "train, validation = loans_df.randomSplit([0.8, 0.2])\n",
    "# train, validation, test = loans_df.randomSplit([0.8, 0.1, 0.1])\n",
    "# # cache data\n",
    "train.cache()\n",
    "validation.cache()\n",
    "# test.cache()"
   ]
  },
  {
   "cell_type": "code",
   "execution_count": 14,
   "id": "b4ec2ccf-e2df-4169-82d1-84b24e8cdf75",
   "metadata": {},
   "outputs": [
    {
     "name": "stdout",
     "output_type": "stream",
     "text": [
      "root\n",
      " |-- Min_IT_Loan_ID__c: double (nullable = true)\n",
      " |-- Opp_Number__c: double (nullable = true)\n",
      " |-- Id: string (nullable = true)\n",
      " |-- AccountID: string (nullable = true)\n",
      " |-- Number_Of_Loans_Granted__c: double (nullable = true)\n",
      " |-- Num_Of_Loans_Paid__c: double (nullable = true)\n",
      " |-- Purpose_of_Loan__c: string (nullable = true)\n",
      " |-- Total_Repayments__c: double (nullable = true)\n",
      " |-- Amount: double (nullable = true)\n",
      " |-- Term_in_Weeks__c: double (nullable = true)\n",
      " |-- Payment_Frequency__c: string (nullable = true)\n",
      " |-- StageName: string (nullable = true)\n",
      " |-- Applicant Age: double (nullable = true)\n",
      " |-- userId: integer (nullable = true)\n",
      " |-- loanId: integer (nullable = true)\n",
      " |-- count: integer (nullable = true)\n",
      " |-- LoanIdFormat: integer (nullable = true)\n",
      "\n"
     ]
    }
   ],
   "source": [
    "# printing the dataframe schema of loans_df\n",
    "loans_df.printSchema()"
   ]
  },
  {
   "cell_type": "code",
   "execution_count": 15,
   "id": "e2226eb6-5980-4249-bd83-5f3b6862faf1",
   "metadata": {},
   "outputs": [],
   "source": [
    "# creating the als model and priting the rmse to continuesly checking the error in model\n",
    "def train_ALS(train_data, validation_data, num_iters, reg_param, ranks):\n",
    "    \"\"\"\n",
    "    Grid Search Function to select the best model based on RMSE of hold-out data\n",
    "    \"\"\"\n",
    "    # initial\n",
    "    min_error = float('inf')\n",
    "    best_rank = -1\n",
    "    best_regularization = 0\n",
    "    best_model = None\n",
    "    for rank in ranks:\n",
    "        for reg in reg_param:\n",
    "            # Train the model using the training data\n",
    "            als_model = ALS(maxIter=num_iters,regParam=reg, rank=rank,\n",
    "                                        userCol='userId', itemCol='LoanIdFormat', ratingCol='count', seed=42,\n",
    "                           coldStartStrategy=\"drop\",nonnegative=True)\n",
    "            model = als_model.fit(train_data)\n",
    "            \n",
    "            # Generate predictions on the test data\n",
    "            predictions = model.transform(validation_data)\n",
    "            predictions = predictions.withColumn(\"prediction\", expr(\"CASE WHEN prediction < 0 THEN 0 WHEN prediction > 9 THEN 9 ELSE prediction END\"))\n",
    "            \n",
    "            evaluator = RegressionEvaluator(metricName='rmse', labelCol='count', predictionCol='prediction')\n",
    "            error = evaluator.evaluate(predictions)\n",
    "            \n",
    "            print('{} latent factors and regularization = {}: validation RMSE is {}'.format(rank, reg, error))\n",
    "            if error < min_error:\n",
    "                min_error = error\n",
    "                best_rank = rank\n",
    "                best_regularization = reg\n",
    "                best_model = model\n",
    "    print('\\nThe best model has {} latent factors and regularization = {}'.format(best_rank, best_regularization))\n",
    "    return best_model"
   ]
  },
  {
   "cell_type": "code",
   "execution_count": 16,
   "id": "fb8832fe-fe68-4372-9d4d-294633e187b0",
   "metadata": {},
   "outputs": [
    {
     "name": "stderr",
     "output_type": "stream",
     "text": [
      "24/01/08 14:31:52 WARN InstanceBuilder: Failed to load implementation from:dev.ludovic.netlib.blas.JNIBLAS\n"
     ]
    },
    {
     "name": "stdout",
     "output_type": "stream",
     "text": [
      "8 latent factors and regularization = 0.001: validation RMSE is 0.6098706548715608\n",
      "8 latent factors and regularization = 0.01: validation RMSE is 0.44249295611761486\n",
      "8 latent factors and regularization = 0.05: validation RMSE is 0.34518033666772624\n",
      "8 latent factors and regularization = 0.1: validation RMSE is 0.32916890436177315\n",
      "8 latent factors and regularization = 0.2: validation RMSE is 0.3740259378780205\n",
      "10 latent factors and regularization = 0.001: validation RMSE is 0.6048671506795882\n",
      "10 latent factors and regularization = 0.01: validation RMSE is 0.4724790383915554\n",
      "10 latent factors and regularization = 0.05: validation RMSE is 0.35334296711425717\n",
      "10 latent factors and regularization = 0.1: validation RMSE is 0.3356788470171454\n",
      "10 latent factors and regularization = 0.2: validation RMSE is 0.3787991184937949\n",
      "20 latent factors and regularization = 0.001: validation RMSE is 0.5736683456421454\n",
      "20 latent factors and regularization = 0.01: validation RMSE is 0.4659381586600664\n",
      "20 latent factors and regularization = 0.05: validation RMSE is 0.3493979537125945\n",
      "20 latent factors and regularization = 0.1: validation RMSE is 0.33318691736140615\n",
      "20 latent factors and regularization = 0.2: validation RMSE is 0.37583259349172204\n",
      "40 latent factors and regularization = 0.001: validation RMSE is 0.5191076122141383\n",
      "40 latent factors and regularization = 0.01: validation RMSE is 0.42720556039480856\n",
      "40 latent factors and regularization = 0.05: validation RMSE is 0.34906004736195595\n",
      "40 latent factors and regularization = 0.1: validation RMSE is 0.33456064954209347\n",
      "40 latent factors and regularization = 0.2: validation RMSE is 0.3776957813161427\n",
      "60 latent factors and regularization = 0.001: validation RMSE is 0.49240740098043584\n",
      "60 latent factors and regularization = 0.01: validation RMSE is 0.39986267083460386\n",
      "60 latent factors and regularization = 0.05: validation RMSE is 0.34845432394188264\n",
      "60 latent factors and regularization = 0.1: validation RMSE is 0.335777382134454\n",
      "60 latent factors and regularization = 0.2: validation RMSE is 0.3777801666079576\n",
      "\n",
      "The best model has 8 latent factors and regularization = 0.1\n",
      "Total Runtime: 49.68 seconds\n"
     ]
    }
   ],
   "source": [
    "# hyper-param config\n",
    "num_iterations = 10\n",
    "ranks = [8, 10, 20, 40, 60]\n",
    "reg_params = [0.001, 0.01, 0.05, 0.1, 0.2]\n",
    "\n",
    "# train the ALS mode using grid search and select best model\n",
    "start_time = time.time()\n",
    "final_model = train_ALS(train, validation, num_iterations, reg_params, ranks)\n",
    "\n",
    "print ('Total Runtime: {:.2f} seconds'.format(time.time() - start_time))"
   ]
  },
  {
   "cell_type": "code",
   "execution_count": 17,
   "id": "fc5d0e5c-4b93-41d8-a633-400380fcccbd",
   "metadata": {},
   "outputs": [
    {
     "name": "stdout",
     "output_type": "stream",
     "text": [
      "root\n",
      " |-- Min_IT_Loan_ID__c: double (nullable = true)\n",
      " |-- Opp_Number__c: double (nullable = true)\n",
      " |-- Id: string (nullable = true)\n",
      " |-- AccountID: string (nullable = true)\n",
      " |-- Number_Of_Loans_Granted__c: double (nullable = true)\n",
      " |-- Num_Of_Loans_Paid__c: double (nullable = true)\n",
      " |-- Purpose_of_Loan__c: string (nullable = true)\n",
      " |-- Total_Repayments__c: double (nullable = true)\n",
      " |-- Amount: double (nullable = true)\n",
      " |-- Term_in_Weeks__c: double (nullable = true)\n",
      " |-- Payment_Frequency__c: string (nullable = true)\n",
      " |-- StageName: string (nullable = true)\n",
      " |-- Applicant Age: double (nullable = true)\n",
      " |-- userId: integer (nullable = true)\n",
      " |-- loanId: integer (nullable = true)\n",
      " |-- count: integer (nullable = true)\n",
      " |-- LoanIdFormat: integer (nullable = true)\n",
      " |-- prediction: float (nullable = false)\n",
      "\n"
     ]
    }
   ],
   "source": [
    "# predicting the prdiction for the validation dataset to further compare our results \n",
    "predictions = final_model.transform(validation)\n",
    "# also printing the schema of predictions \n",
    "predictions.printSchema()"
   ]
  },
  {
   "cell_type": "code",
   "execution_count": 18,
   "id": "24d2c7c3-8104-4b83-a3d8-2e4c3ece98ac",
   "metadata": {},
   "outputs": [
    {
     "name": "stdout",
     "output_type": "stream",
     "text": [
      "+------------+------+------+------+-------------------+-----+----------+\n",
      "|LoanIdFormat|loanId|userId|Amount|Total_Repayments__c|count|prediction|\n",
      "+------------+------+------+------+-------------------+-----+----------+\n",
      "|          48|  6940|  8592|5000.0|               24.0|    0|       0.0|\n",
      "|          11|  7657|  1580| 500.0|                5.0|    1| 0.9269398|\n",
      "|          45| 12881|  5300|4000.0|               16.0|    2| 0.6666484|\n",
      "|          11|  4062|  1580| 500.0|                8.0|    1| 0.9269398|\n",
      "|           8| 13220|  7240| 500.0|                8.0|    1| 0.9398522|\n",
      "|           6| 13295|  9900|2050.0|               16.0|    0|       0.0|\n",
      "|           6|  4308|   833|2100.0|               16.0|    1| 0.9440525|\n",
      "|          11|  4550|   496| 500.0|                7.0|    2| 1.8704993|\n",
      "|          11|  4550|   496| 500.0|                7.0|    2| 1.8704993|\n",
      "|           2|  4660|  2999|2000.0|                7.0|    0|0.73764795|\n",
      "|           2|  5934|   243|2050.0|                8.0|    2| 1.6971035|\n",
      "|          40|  6442|  4190|3500.0|                4.0|    1|0.92312634|\n",
      "|          45|  8573|  4158|3500.0|               16.0|    1|  0.803948|\n",
      "|          32|  9253|  4161|5000.0|                8.0|    2|  1.838364|\n",
      "|           8|  9584|   243|1200.0|               12.0|    2| 1.6728877|\n",
      "|          20|  9763|  7417|4500.0|               12.0|    1| 0.9414696|\n",
      "|          20| 11074|  7417|5000.0|               12.0|    1| 0.9414696|\n",
      "|           9| 13222| 10081| 500.0|               10.0|    0|       0.0|\n",
      "|          11| 13281|  8803| 500.0|                7.0|    1| 0.9352496|\n",
      "|           8|  4427|  2811| 400.0|               10.0|    1|  0.936692|\n",
      "|           2|  4447|  2580|2100.0|                8.0|    1| 0.9422652|\n",
      "|           6| 13894| 10121|2050.0|               16.0|    1| 0.9440525|\n",
      "|          11|  1874|   540| 500.0|                7.0|    3|  2.805749|\n",
      "|           1|  3277|  1322|1500.0|                3.0|    3| 2.8016264|\n",
      "|           9| 13191|  8407|1200.0|               14.0|    1|0.92339724|\n",
      "+------------+------+------+------+-------------------+-----+----------+\n",
      "only showing top 25 rows\n",
      "\n"
     ]
    }
   ],
   "source": [
    "# printing the 25 rows with these columns \"LoanIdFormat\",\"loanId\",\"userId\",\"Amount\",\"Total_Repayments__c\",\"count\",\"prediction\" \n",
    "predictions.select([\"LoanIdFormat\",\"loanId\",\"userId\",\"Amount\",\"Total_Repayments__c\",\"count\",\"prediction\"]).show(25)"
   ]
  },
  {
   "cell_type": "code",
   "execution_count": 19,
   "id": "bdb00e11-f6b9-413d-8623-653fdaab5ce7",
   "metadata": {},
   "outputs": [
    {
     "name": "stdout",
     "output_type": "stream",
     "text": [
      "+------------+------+------+------+-------------------+-----+----------+\n",
      "|LoanIdFormat|loanId|userId|Amount|Total_Repayments__c|count|prediction|\n",
      "+------------+------+------+------+-------------------+-----+----------+\n",
      "|          11|  7657|  1580| 500.0|                5.0|    1| 0.9269398|\n",
      "|          11|  4062|  1580| 500.0|                8.0|    1| 0.9269398|\n",
      "|           8| 13220|  7240| 500.0|                8.0|    1| 0.9398522|\n",
      "|           6|  4308|   833|2100.0|               16.0|    1| 0.9440525|\n",
      "|          40|  6442|  4190|3500.0|                4.0|    1|0.92312634|\n",
      "|          45|  8573|  4158|3500.0|               16.0|    1|  0.803948|\n",
      "|          20|  9763|  7417|4500.0|               12.0|    1| 0.9414696|\n",
      "|          20| 11074|  7417|5000.0|               12.0|    1| 0.9414696|\n",
      "|          11| 13281|  8803| 500.0|                7.0|    1| 0.9352496|\n",
      "|           8|  4427|  2811| 400.0|               10.0|    1|  0.936692|\n",
      "|           2|  4447|  2580|2100.0|                8.0|    1| 0.9422652|\n",
      "|           6| 13894| 10121|2050.0|               16.0|    1| 0.9440525|\n",
      "|           9| 13191|  8407|1200.0|               14.0|    1|0.92339724|\n",
      "|           5|  4317|  2572|2050.0|               12.0|    1|0.93621355|\n",
      "|          11|  4320|  2821| 400.0|                7.0|    1|0.93416274|\n",
      "|          11|  4471|  2821| 300.0|                5.0|    1|0.93416274|\n",
      "|          11|  4471|  2821| 300.0|                5.0|    1|0.93416274|\n",
      "|           8| 13718|  2821| 500.0|               10.0|    1| 0.9378545|\n",
      "|           8| 13718|  2821| 500.0|               10.0|    1| 0.9378545|\n",
      "|          30|  5907|  8650|1550.0|               24.0|    1| 0.9316794|\n",
      "|          11|  4203|  2259| 500.0|                8.0|    1|0.92555934|\n",
      "|          11|  4203|  2259| 500.0|                8.0|    1|0.92555934|\n",
      "|           9| 13834|  2025| 500.0|               10.0|    1| 0.9400372|\n",
      "|          10|  6086|  4383| 650.0|                6.0|    1| 1.0660723|\n",
      "|          11| 13107|  8501| 750.0|                7.0|    1| 0.9352496|\n",
      "+------------+------+------+------+-------------------+-----+----------+\n",
      "only showing top 25 rows\n",
      "\n"
     ]
    }
   ],
   "source": [
    "# printing the rows having the count column = 1 \n",
    "predictions.filter(predictions[\"count\"] == 1).select([\"LoanIdFormat\",\"loanId\",\"userId\",\"Amount\",\"Total_Repayments__c\",\"count\",\"prediction\"]).show(25)"
   ]
  },
  {
   "cell_type": "code",
   "execution_count": 20,
   "id": "b0147d25-61eb-481f-a2dc-e754f74540cb",
   "metadata": {},
   "outputs": [
    {
     "name": "stdout",
     "output_type": "stream",
     "text": [
      "+----------+-----+\n",
      "|prediction|count|\n",
      "+----------+-----+\n",
      "|       0.0|  117|\n",
      "|0.15140757|    1|\n",
      "|0.16094153|    1|\n",
      "|0.17221467|    1|\n",
      "|0.19338702|    1|\n",
      "|0.21979342|    2|\n",
      "|0.23560703|    1|\n",
      "|0.24083233|    1|\n",
      "|0.24275893|    1|\n",
      "|0.26183456|    1|\n",
      "|0.28541967|    2|\n",
      "|0.30006102|    1|\n",
      "| 0.3054843|    1|\n",
      "|0.31921825|    1|\n",
      "|0.32104948|    1|\n",
      "|0.32743114|    1|\n",
      "| 0.3437095|    1|\n",
      "|  0.347981|    1|\n",
      "|0.36293164|    1|\n",
      "|0.36448207|    2|\n",
      "|0.38553223|    1|\n",
      "|0.40746307|    1|\n",
      "|0.43449497|    1|\n",
      "| 0.4444648|    1|\n",
      "| 0.4520946|    1|\n",
      "|0.45999876|    1|\n",
      "|0.46128076|    2|\n",
      "| 0.4640014|    1|\n",
      "|0.46693772|    1|\n",
      "| 0.4676248|    1|\n",
      "|0.46810678|    2|\n",
      "| 0.4707348|    1|\n",
      "|0.48395893|    1|\n",
      "|0.48470622|    1|\n",
      "| 0.4885902|    1|\n",
      "|0.51025593|    1|\n",
      "| 0.5179157|    1|\n",
      "|0.53820133|    1|\n",
      "| 0.5389248|    2|\n",
      "|0.54319805|    1|\n",
      "|0.54360384|    4|\n",
      "|0.55235684|    1|\n",
      "|0.55354685|    3|\n",
      "|0.55709505|    4|\n",
      "| 0.5653591|    2|\n",
      "| 0.5655438|    1|\n",
      "|0.57183266|    2|\n",
      "| 0.5792737|    1|\n",
      "|0.57955647|    1|\n",
      "|0.58630574|    4|\n",
      "+----------+-----+\n",
      "only showing top 50 rows\n",
      "\n"
     ]
    }
   ],
   "source": [
    "# printing the predictions which are grouped by the predictions.prediction  and then been counted and sorted\n",
    "predictions.groupBy(predictions.prediction).count().sort(predictions.prediction).show(50)"
   ]
  },
  {
   "cell_type": "code",
   "execution_count": 21,
   "id": "1b1cb23d-bf6b-4cbe-9240-3a6c0dad2815",
   "metadata": {},
   "outputs": [
    {
     "name": "stdout",
     "output_type": "stream",
     "text": [
      "+-------+------------------+------------------+\n",
      "|summary|        prediction|      LoanIdFormat|\n",
      "+-------+------------------+------------------+\n",
      "|  count|              2268|              2268|\n",
      "|   mean|  1.36372655529588|15.329805996472663|\n",
      "| stddev|0.9025637698516951| 13.53280751307686|\n",
      "|    min|               0.0|                 1|\n",
      "|    max|          4.987998|                60|\n",
      "+-------+------------------+------------------+\n",
      "\n"
     ]
    }
   ],
   "source": [
    "# describing the predictions dataframe.\n",
    "predictions.select(\"prediction\",\"LoanIdFormat\").describe().show()"
   ]
  },
  {
   "cell_type": "code",
   "execution_count": null,
   "id": "6947ef5d-365a-4f71-a8f9-c865c01e05eb",
   "metadata": {},
   "outputs": [],
   "source": []
  },
  {
   "cell_type": "code",
   "execution_count": null,
   "id": "8bd852bd-f5eb-4095-8b02-f255707397bc",
   "metadata": {},
   "outputs": [],
   "source": []
  },
  {
   "cell_type": "code",
   "execution_count": 22,
   "id": "d4fc2d3e-b55f-485c-a87d-ff790847e567",
   "metadata": {},
   "outputs": [],
   "source": [
    "# applying the RegressionEvaluator and calculating the RMSE Error.\n",
    "evaluator = RegressionEvaluator(metricName='rmse', labelCol='count', predictionCol='prediction')\n",
    "error = evaluator.evaluate(predictions)"
   ]
  },
  {
   "cell_type": "code",
   "execution_count": 29,
   "id": "71839857-cdf9-4dbc-9310-f433c4b95729",
   "metadata": {},
   "outputs": [
    {
     "name": "stdout",
     "output_type": "stream",
     "text": [
      "The RMSE for the above mnodel is : 0.32916890436177315\n"
     ]
    }
   ],
   "source": [
    "# The current Error int model is 0.32 \n",
    "print(f\"The RMSE for the above mnodel is : {error}\")"
   ]
  },
  {
   "cell_type": "code",
   "execution_count": null,
   "id": "7e841871-6577-464c-afd2-ef42dc748376",
   "metadata": {},
   "outputs": [],
   "source": []
  },
  {
   "cell_type": "code",
   "execution_count": 24,
   "id": "2f3d2b7d-9df0-40e8-9653-b67d488fd4ae",
   "metadata": {},
   "outputs": [],
   "source": [
    "userRecommends = final_model.recommendForAllUsers(5)\n",
    "loanRecommends = final_model.recommendForAllItems(5)"
   ]
  },
  {
   "cell_type": "code",
   "execution_count": 25,
   "id": "61490ce4-2ace-47dd-9d3b-b5b0f541a3e2",
   "metadata": {},
   "outputs": [
    {
     "name": "stdout",
     "output_type": "stream",
     "text": [
      "root\n",
      " |-- LoanIdFormat: integer (nullable = false)\n",
      " |-- recommendations: array (nullable = true)\n",
      " |    |-- element: struct (containsNull = true)\n",
      " |    |    |-- userId: integer (nullable = true)\n",
      " |    |    |-- rating: float (nullable = true)\n",
      "\n"
     ]
    }
   ],
   "source": [
    "loanRecommends.printSchema()"
   ]
  },
  {
   "cell_type": "code",
   "execution_count": 26,
   "id": "cae2167c-8455-4c19-a013-dd44e4b9d333",
   "metadata": {},
   "outputs": [
    {
     "name": "stdout",
     "output_type": "stream",
     "text": [
      "+------------+-----------------------------+-------------------------------------------------------+\n",
      "|LoanIdFormat|userId                       |rating                                                 |\n",
      "+------------+-----------------------------+-------------------------------------------------------+\n",
      "|20          |[103, 1157, 1119, 1135, 1041]|[5.7448735, 5.6164837, 5.386318, 4.878138, 4.6188884]  |\n",
      "|40          |[1119, 103, 1157, 1319, 1195]|[5.543774, 4.813971, 4.529651, 4.1789823, 3.9635503]   |\n",
      "|10          |[146, 103, 1157, 1138, 1103] |[4.577943, 3.973205, 3.9213161, 3.690246, 3.5139546]   |\n",
      "|60          |[103, 1157, 1119, 683, 1103] |[4.6026087, 4.4345584, 4.2404823, 3.8305702, 3.7627208]|\n",
      "|30          |[103, 1157, 1119, 683, 106]  |[5.367736, 5.063975, 4.7354274, 4.4805274, 4.285919]   |\n",
      "|31          |[1119, 1157, 103, 1135, 1237]|[5.2877893, 4.678157, 4.6301265, 4.307131, 4.137315]   |\n",
      "|1           |[146, 37, 103, 1157, 539]    |[4.6647596, 4.5137315, 4.354322, 4.3258753, 3.9689705] |\n",
      "|41          |[1119, 103, 1157, 1135, 1195]|[5.5324, 5.453048, 5.0472393, 4.366117, 4.350412]      |\n",
      "|51          |[103, 1157, 1119, 683, 106]  |[4.8886538, 4.727971, 4.325762, 3.9665387, 3.9424589]  |\n",
      "|21          |[103, 1119, 1157, 106, 683]  |[5.180723, 5.102586, 4.476353, 4.1895676, 4.1670165]   |\n",
      "+------------+-----------------------------+-------------------------------------------------------+\n",
      "only showing top 10 rows\n",
      "\n"
     ]
    },
    {
     "name": "stderr",
     "output_type": "stream",
     "text": [
      "\r",
      "[Stage 2928:=================================================>   (93 + 4) / 100]\r",
      "\r",
      "                                                                                \r"
     ]
    }
   ],
   "source": [
    "loanRecommends.select([\"LoanIdFormat\",\"recommendations.userId\",\"recommendations.rating\"]).show(10,truncate=False)"
   ]
  },
  {
   "cell_type": "code",
   "execution_count": 27,
   "id": "bf08c18d-dae8-41f4-8595-f5922b0bcbaa",
   "metadata": {},
   "outputs": [
    {
     "name": "stdout",
     "output_type": "stream",
     "text": [
      "root\n",
      " |-- userId: integer (nullable = false)\n",
      " |-- recommendations: array (nullable = true)\n",
      " |    |-- element: struct (containsNull = true)\n",
      " |    |    |-- LoanIdFormat: integer (nullable = true)\n",
      " |    |    |-- rating: float (nullable = true)\n",
      "\n"
     ]
    }
   ],
   "source": [
    "userRecommends.printSchema()"
   ]
  },
  {
   "cell_type": "code",
   "execution_count": 28,
   "id": "fe062ea4-87e7-4f4e-9412-95c267d1d474",
   "metadata": {},
   "outputs": [
    {
     "name": "stderr",
     "output_type": "stream",
     "text": [
      "[Stage 2977:==========================================>          (80 + 4) / 100]\r"
     ]
    },
    {
     "name": "stdout",
     "output_type": "stream",
     "text": [
      "+------+--------------------+-----------------------------------------------------------+\n",
      "|userId|LoanIdFormat        |rating                                                     |\n",
      "+------+--------------------+-----------------------------------------------------------+\n",
      "|1     |[3, 2, 51, 24, 29]  |[1.9949927, 1.8836088, 1.8757503, 1.8472228, 1.7957728]    |\n",
      "|12    |[60, 57, 54, 48, 45]|[0.0, 0.0, 0.0, 0.0, 0.0]                                  |\n",
      "|13    |[3, 11, 8, 2, 29]   |[1.9896698, 1.8704994, 1.859191, 1.8560055, 1.8143655]     |\n",
      "|22    |[21, 6, 9, 11, 51]  |[2.334106, 2.0562449, 2.0454564, 2.0017724, 1.9772518]     |\n",
      "|26    |[20, 26, 6, 5, 41]  |[2.9187407, 2.8707922, 2.7893574, 2.7843223, 2.7380717]    |\n",
      "|27    |[9, 6, 12, 3, 8]    |[0.62669146, 0.620904, 0.6047225, 0.5928287, 0.56612486]   |\n",
      "|28    |[12, 6, 9, 32, 39]  |[4.2800727, 4.0733447, 3.8145173, 3.7045434, 3.6552496]    |\n",
      "|31    |[6, 12, 9, 3, 8]    |[2.8457656, 2.8267455, 2.8143127, 2.6687398, 2.560497]     |\n",
      "|44    |[3, 2, 26, 38, 29]  |[0.8134378, 0.78269154, 0.7661334, 0.7631903, 0.75837]     |\n",
      "|47    |[3, 2, 8, 29, 11]   |[2.8111897, 2.7414963, 2.5656333, 2.548487, 2.544106]      |\n",
      "|52    |[3, 11, 8, 2, 29]   |[1.9896698, 1.8704994, 1.859191, 1.8560055, 1.8143655]     |\n",
      "|53    |[6, 12, 9, 20, 26]  |[1.6520919, 1.5648084, 1.5207324, 1.4595286, 1.4409856]    |\n",
      "|65    |[3, 2, 26, 29, 20]  |[3.4275484, 3.3897989, 3.3881264, 3.241881, 3.2063947]     |\n",
      "|76    |[3, 8, 2, 11, 29]   |[0.8462078, 0.79070026, 0.78348, 0.77704966, 0.77328277]   |\n",
      "|78    |[3, 26, 6, 29, 20]  |[2.9571877, 2.926388, 2.873636, 2.8506427, 2.8407605]      |\n",
      "|81    |[33, 1, 25, 2, 44]  |[4.2904415, 3.7355018, 3.3696153, 3.1426759, 3.1007907]    |\n",
      "|85    |[3, 26, 38, 2, 29]  |[0.96058846, 0.9345858, 0.934509, 0.90813327, 0.9069776]   |\n",
      "|91    |[6, 54, 41, 20, 40] |[0.96254295, 0.9034109, 0.8875995, 0.88475347, 0.8700557]  |\n",
      "|93    |[9, 6, 12, 3, 8]    |[2.8201118, 2.7940679, 2.721251, 2.6677294, 2.547562]      |\n",
      "|103   |[6, 9, 12, 3, 8]    |[6.6215997, 6.5698805, 6.414846, 6.186445, 5.975919]       |\n",
      "|108   |[9, 6, 12, 3, 8]    |[3.3825326, 3.3543315, 3.2602816, 3.227189, 3.0782304]     |\n",
      "|111   |[2, 3, 29, 8, 11]   |[1.8845304, 1.8775982, 1.6953992, 1.6861223, 1.6549113]    |\n",
      "|115   |[26, 20, 5, 6, 29]  |[2.9367092, 2.926883, 2.8086405, 2.688136, 2.6583416]      |\n",
      "|126   |[3, 11, 8, 2, 29]   |[2.9845047, 2.8057492, 2.7887862, 2.7840083, 2.7215483]    |\n",
      "|128   |[26, 2, 20, 3, 29]  |[2.9043794, 2.8425286, 2.8424828, 2.8320532, 2.7825098]    |\n",
      "|133   |[20, 26, 6, 5, 41]  |[3.6532478, 3.5217352, 3.497816, 3.462502, 3.4148715]      |\n",
      "|137   |[3, 8, 2, 11, 29]   |[1.0064408, 0.9404276, 0.9338079, 0.93038505, 0.9191596]   |\n",
      "|140   |[6, 12, 9, 20, 26]  |[2.8321576, 2.6825283, 2.6069698, 2.502049, 2.470261]      |\n",
      "|146   |[33, 2, 1, 10, 3]   |[5.884028, 4.725962, 4.6647596, 4.577943, 4.5142317]       |\n",
      "|157   |[51, 3, 24, 2, 26]  |[3.4339733, 3.2880764, 3.2632794, 3.2296004, 3.2213402]    |\n",
      "|182   |[6, 9, 12, 3, 8]    |[3.8142722, 3.710628, 3.6729183, 3.4752338, 3.4023056]     |\n",
      "|183   |[2, 3, 29, 8, 11]   |[2.8267956, 2.8163974, 2.543099, 2.5291836, 2.482367]      |\n",
      "|185   |[6, 12, 9, 20, 26]  |[2.8321576, 2.6825283, 2.6069698, 2.502049, 2.470261]      |\n",
      "|190   |[26, 20, 5, 29, 3]  |[2.8329182, 2.6617916, 2.5641296, 2.4676027, 2.460817]     |\n",
      "|193   |[3, 2, 8, 11, 29]   |[3.030021, 2.8349872, 2.8190706, 2.7809367, 2.764291]      |\n",
      "|206   |[2, 3, 29, 8, 11]   |[2.8267956, 2.8163974, 2.543099, 2.5291836, 2.482367]      |\n",
      "|210   |[6, 9, 12, 3, 8]    |[2.8607042, 2.782971, 2.754689, 2.6064255, 2.5517292]      |\n",
      "|211   |[26, 20, 5, 6, 29]  |[2.9367092, 2.926883, 2.8086405, 2.688136, 2.6583416]      |\n",
      "|212   |[2, 3, 29, 8, 11]   |[2.4865358, 2.4776604, 2.2323918, 2.2219489, 2.1816418]    |\n",
      "|218   |[33, 1, 25, 2, 44]  |[2.1452208, 1.8677509, 1.6848077, 1.5713379, 1.5503954]    |\n",
      "|232   |[3, 2, 8, 11, 29]   |[3.8582664, 3.6622567, 3.5652297, 3.5166419, 3.5125835]    |\n",
      "|233   |[2, 3, 29, 8, 11]   |[2.8267956, 2.8163974, 2.543099, 2.5291836, 2.482367]      |\n",
      "|236   |[6, 54, 12, 40, 41] |[2.866888, 2.7966151, 2.753291, 2.7125473, 2.6366608]      |\n",
      "|243   |[26, 20, 5, 6, 29]  |[1.9578061, 1.9512554, 1.8724271, 1.7920909, 1.772228]     |\n",
      "|246   |[42, 9, 32, 6, 33]  |[1.8521469, 1.423642, 1.315078, 1.3083014, 1.2924652]      |\n",
      "|255   |[21, 6, 9, 11, 51]  |[2.8009272, 2.467494, 2.4545476, 2.402127, 2.372702]       |\n",
      "|259   |[26, 2, 20, 3, 29]  |[2.9043794, 2.8425286, 2.8424828, 2.8320532, 2.7825098]    |\n",
      "|271   |[39, 3, 12, 6, 8]   |[0.93895805, 0.88118553, 0.87095946, 0.8602599, 0.84750116]|\n",
      "|280   |[3, 11, 8, 2, 29]   |[0.9948349, 0.9352497, 0.9295955, 0.9280028, 0.90718275]   |\n",
      "|285   |[2, 3, 29, 8, 11]   |[2.8267956, 2.8163974, 2.543099, 2.5291836, 2.482367]      |\n",
      "+------+--------------------+-----------------------------------------------------------+\n",
      "only showing top 50 rows\n",
      "\n"
     ]
    },
    {
     "name": "stderr",
     "output_type": "stream",
     "text": [
      "\r",
      "[Stage 2977:==================================================>  (96 + 4) / 100]\r",
      "\r",
      "                                                                                \r"
     ]
    }
   ],
   "source": [
    "userRecommends.select([\"userId\",\"recommendations.LoanIdFormat\",\"recommendations.rating\"]).show(50,truncate=False)"
   ]
  },
  {
   "cell_type": "code",
   "execution_count": null,
   "id": "6c43a8fb-3e0f-436e-ba38-8adf5efba30e",
   "metadata": {},
   "outputs": [],
   "source": [
    "userID                         = 182  \n",
    "loanID                         = [6, 12, 9, 3, 2]  \n",
    "loan_rating_prediction_percent = [3.7991424, 3.7227712, 3.715703, 3.7005975, 3.5835078]\n",
    "\n",
    "\n",
    "Loan amount = 2050, 1000\n",
    "Total_Repayments__c = 16, 10\n",
    "applicanfiformat = 6, 9\n",
    "\n",
    "6 -->  [11\t19],[1200 2300]\n",
    "9 -->  [8   18],[150  1350]\n",
    "\n",
    "\n"
   ]
  },
  {
   "cell_type": "code",
   "execution_count": null,
   "id": "336df7b9-6af2-4fd4-a2ef-0f3eb0c72f85",
   "metadata": {},
   "outputs": [],
   "source": [
    "userID                             = 133\n",
    "loanID                             = [33, 20, 5, 41, 32]\n",
    "loan_rating_prediction_percent     = [3.8928864, 3.7150927, 3.5364568, 3.4744163, 3.4208148] \n",
    "\n",
    "loan amount =  4500, 4400, 4450, 4400\n",
    "Total repayment = 14 8 \n",
    "\n",
    "33  [4 8]   [500]\n",
    "20  [12 18] [4500 5000]\n",
    "\n"
   ]
  },
  {
   "cell_type": "code",
   "execution_count": 35,
   "id": "506f48ec-bf35-468a-9836-17ac00c01137",
   "metadata": {},
   "outputs": [],
   "source": [
    "# loanRecommends.filter(loanRecommends.loanId == 59315 ).show(vertical=True,truncate=False)"
   ]
  },
  {
   "cell_type": "code",
   "execution_count": null,
   "id": "d5483917-57d1-4fcc-bef5-c0ec018ad938",
   "metadata": {},
   "outputs": [],
   "source": []
  },
  {
   "cell_type": "code",
   "execution_count": null,
   "id": "e27fa713-556b-40bc-a115-aefe20861456",
   "metadata": {},
   "outputs": [],
   "source": []
  },
  {
   "cell_type": "code",
   "execution_count": null,
   "id": "e5eff537-a3c1-4443-9c65-21c96030e522",
   "metadata": {},
   "outputs": [],
   "source": [
    "# this is created using the understaing of concept and code available on web (*** may contain some errors)\n",
    "# Function to calculate MAP@K\n",
    "def calculate_map_at_k(predictions, ground_truth, k):\n",
    "    # Inner join to get the predicted ratings for relevant items\n",
    "    joined_df = predictions.join(ground_truth, on=\"userId\")\n",
    "    # Sort recommendations by predicted rating in descending order\n",
    "    window_spec = Window().partitionBy(\"userId\").orderBy(col(\"count\").desc())\n",
    "    sorted_predictions = joined_df.select(\n",
    "        \"userId\",\n",
    "        \"loanId\",\n",
    "        \"prediction\",\n",
    "        expr(\"ROW_NUMBER() OVER (PARTITION BY userId ORDER BY count DESC) AS rank\")\n",
    "    ).filter(col(\"rank\") <= k)\n",
    "    # Calculate precision at each position\n",
    "    precision_at_k = sorted_predictions.withColumn(\n",
    "        \"relevant_at_k\", expr(\"CASE WHEN loanId IN (loanId) THEN (prediction) ELSE 0 END\")\n",
    "    ).groupBy(\"userId\").agg(expr(f\"SUM(relevant_at_k) / {k} AS precision_at_k\"))\n",
    "    # Calculate MAP@K\n",
    "    map_at_k = precision_at_k.agg(expr(\"SUM(precision_at_k) / COUNT(userId) AS map_at_k\")).collect()[0][\"map_at_k\"]\n",
    "    return map_at_k"
   ]
  },
  {
   "cell_type": "code",
   "execution_count": 25,
   "id": "1f2bc25c-5a85-45e2-b89a-d75d65a70040",
   "metadata": {},
   "outputs": [
    {
     "name": "stdout",
     "output_type": "stream",
     "text": [
      "MAP@4: 1.13766222328483\n"
     ]
    }
   ],
   "source": [
    "# Caling the map@k fucntion for k = 4 and k = 5 to evaluate the model\n",
    "map_at_4 = calculate_map_at_k(predictions.select(\"Id\",\"AccountID\",\"prediction\",\"LoanIdFormat\",\"userId\"), loans_df, k=4)\n",
    "print(f\"MAP@4: {map_at_4}\")"
   ]
  },
  {
   "cell_type": "code",
   "execution_count": 27,
   "id": "d3746986-f722-4a7c-9b38-eb0b29f58b07",
   "metadata": {},
   "outputs": [
    {
     "name": "stdout",
     "output_type": "stream",
     "text": [
      "MAP@5: 1.2443166616047456\n"
     ]
    }
   ],
   "source": [
    "map_at_3 = calculate_map_at_k(predictions.select(\"Id\",\"AccountID\",\"prediction\",\"LoanIdFormat\",\"userId\"), loans_df, k=3)\n",
    "print(f\"MAP@5: {map_at_3}\")"
   ]
  },
  {
   "cell_type": "code",
   "execution_count": 26,
   "id": "70f7708c-9e0d-4e94-921d-4d9354ddfff9",
   "metadata": {},
   "outputs": [
    {
     "name": "stdout",
     "output_type": "stream",
     "text": [
      "MAP@5: 1.0187143448191534\n"
     ]
    }
   ],
   "source": [
    "map_at_5 = calculate_map_at_k(predictions.select(\"Id\",\"AccountID\",\"prediction\",\"LoanIdFormat\",\"userId\"), loans_df, k=5)\n",
    "print(f\"MAP@5: {map_at_5}\")"
   ]
  },
  {
   "cell_type": "code",
   "execution_count": null,
   "id": "1cd2003f-d376-41b2-a93e-ac9ececa4a92",
   "metadata": {},
   "outputs": [],
   "source": []
  },
  {
   "cell_type": "code",
   "execution_count": null,
   "id": "033322bf-b7b3-4ef5-9ab7-feb8249ba3ef",
   "metadata": {},
   "outputs": [],
   "source": []
  },
  {
   "cell_type": "code",
   "execution_count": null,
   "id": "9b546cb9-ecdd-4922-a710-513e94c0472e",
   "metadata": {},
   "outputs": [],
   "source": []
  },
  {
   "cell_type": "code",
   "execution_count": null,
   "id": "0c9bcaa4-1bdc-41c7-9243-2ea48dbad534",
   "metadata": {},
   "outputs": [],
   "source": []
  },
  {
   "cell_type": "code",
   "execution_count": null,
   "id": "b6363316-327c-4857-9ca8-f5faead059c2",
   "metadata": {},
   "outputs": [],
   "source": []
  },
  {
   "cell_type": "code",
   "execution_count": null,
   "id": "9d5e2e17-f927-47ec-90d1-3e99bf69ccf2",
   "metadata": {},
   "outputs": [],
   "source": []
  }
 ],
 "metadata": {
  "kernelspec": {
   "display_name": "Python 3 (ipykernel)",
   "language": "python",
   "name": "python3"
  },
  "language_info": {
   "codemirror_mode": {
    "name": "ipython",
    "version": 3
   },
   "file_extension": ".py",
   "mimetype": "text/x-python",
   "name": "python",
   "nbconvert_exporter": "python",
   "pygments_lexer": "ipython3",
   "version": "3.12.0"
  }
 },
 "nbformat": 4,
 "nbformat_minor": 5
}
