{
 "cells": [
  {
   "cell_type": "code",
   "execution_count": null,
   "id": "5fd13dc5-63cc-48d9-8edf-4b092658e3d5",
   "metadata": {},
   "outputs": [],
   "source": []
  },
  {
   "cell_type": "code",
   "execution_count": null,
   "id": "96dd5b55-5584-485d-8a04-65ecf3e768e7",
   "metadata": {},
   "outputs": [],
   "source": []
  },
  {
   "cell_type": "code",
   "execution_count": 1,
   "id": "e20dd32e-1530-42f6-bdf9-c3f5806e837b",
   "metadata": {},
   "outputs": [],
   "source": [
    "from pyspark.sql import SparkSession\n",
    "from pyspark.sql.functions import col, expr, rank, countDistinct, count\n",
    "from pyspark.sql.window import Window\n",
    "from pyspark.ml.recommendation import ALS\n",
    "from pyspark.ml.evaluation import RegressionEvaluator\n",
    "from pyspark.ml.feature import StringIndexer\n",
    "from pyspark.ml.tuning import TrainValidationSplit, ParamGridBuilder, CrossValidator\n",
    "import pandas as pd\n",
    "import matplotlib.pyplot as plt\n",
    "import time"
   ]
  },
  {
   "cell_type": "code",
   "execution_count": 34,
   "id": "9347be3d-5e8b-40b5-a5f5-91ec804deebd",
   "metadata": {},
   "outputs": [],
   "source": [
    "from pyspark.sql.functions import mean\n",
    "from pyspark.ml.feature import Normalizer\n",
    "from pyspark.ml.linalg import Vectors\n",
    "from pyspark.ml import Pipeline "
   ]
  },
  {
   "cell_type": "code",
   "execution_count": 2,
   "id": "7feab969-e8a3-4d26-adb0-080556999837",
   "metadata": {},
   "outputs": [],
   "source": [
    "spark = SparkSession.builder.appName('loan_recommendation_with_clusters').config(\"spark.driver.memory\", \"15g\").getOrCreate()"
   ]
  },
  {
   "cell_type": "code",
   "execution_count": 3,
   "id": "867605ca-18ec-48d8-8109-8871e4118aa6",
   "metadata": {},
   "outputs": [
    {
     "data": {
      "text/html": [
       "\n",
       "            <div>\n",
       "                <p><b>SparkSession - in-memory</b></p>\n",
       "                \n",
       "        <div>\n",
       "            <p><b>SparkContext</b></p>\n",
       "\n",
       "            <p><a href=\"http://MR-23:4040\">Spark UI</a></p>\n",
       "\n",
       "            <dl>\n",
       "              <dt>Version</dt>\n",
       "                <dd><code>v3.5.0</code></dd>\n",
       "              <dt>Master</dt>\n",
       "                <dd><code>local[*]</code></dd>\n",
       "              <dt>AppName</dt>\n",
       "                <dd><code>loan_recommendation_with_clusters</code></dd>\n",
       "            </dl>\n",
       "        </div>\n",
       "        \n",
       "            </div>\n",
       "        "
      ],
      "text/plain": [
       "<pyspark.sql.session.SparkSession at 0x195b1161a30>"
      ]
     },
     "execution_count": 3,
     "metadata": {},
     "output_type": "execute_result"
    }
   ],
   "source": [
    "spark"
   ]
  },
  {
   "cell_type": "code",
   "execution_count": 5,
   "id": "c193e8d5-ed73-4ce1-8c2a-8580263c5921",
   "metadata": {},
   "outputs": [
    {
     "name": "stdout",
     "output_type": "stream",
     "text": [
      "root\n",
      " |-- Id: string (nullable = true)\n",
      " |-- AccountID: string (nullable = true)\n",
      " |-- Number_Of_Loans_Granted__c: integer (nullable = true)\n",
      " |-- Num_Of_Loans_Paid__c: integer (nullable = true)\n",
      " |-- Purpose_of_Loan__c: string (nullable = true)\n",
      " |-- Total_Repayments__c: integer (nullable = true)\n",
      " |-- Amount: integer (nullable = true)\n",
      " |-- Term_in_Weeks__c: double (nullable = true)\n",
      " |-- Payment_Frequency__c: string (nullable = true)\n",
      " |-- StageName: string (nullable = true)\n",
      " |-- Applicant Age: integer (nullable = true)\n",
      " |-- summary_income: double (nullable = true)\n",
      " |-- summary_income_cv: double (nullable = true)\n",
      " |-- city: string (nullable = true)\n",
      " |-- state: string (nullable = true)\n",
      " |-- Country: string (nullable = true)\n",
      " |-- userId: integer (nullable = true)\n",
      " |-- loanId: integer (nullable = true)\n",
      " |-- count: integer (nullable = true)\n",
      " |-- LoanIdFormat: integer (nullable = true)\n",
      "\n"
     ]
    }
   ],
   "source": [
    "loans_df = spark.read.csv(\"Loan_Dataset/df_temp_cluster_rating_condition_data.csv\", inferSchema=True, header=True)\n",
    "loans_df.printSchema()"
   ]
  },
  {
   "cell_type": "code",
   "execution_count": 6,
   "id": "66fda6a1-a162-4b31-9076-0a3a230f16de",
   "metadata": {},
   "outputs": [
    {
     "name": "stdout",
     "output_type": "stream",
     "text": [
      "+------------+------+-------------------+--------------------+-----+\n",
      "|LoanIdFormat|Amount|Total_Repayments__c|Payment_Frequency__c|count|\n",
      "+------------+------+-------------------+--------------------+-----+\n",
      "|           1|   500|                 10|              Weekly|    3|\n",
      "|           1|   700|                 10|              Weekly|    3|\n",
      "|           1|   800|                 10|              Weekly|    3|\n",
      "|           1|   800|                 10|              Weekly|    3|\n",
      "|           1|   800|                 10|              Weekly|    3|\n",
      "|           1|   800|                 10|              Weekly|    3|\n",
      "|           1|   800|                 10|              Weekly|    3|\n",
      "|           1|   900|                 10|              Weekly|    3|\n",
      "|           1|  1000|                 10|              Weekly|    3|\n",
      "|           1|  1000|                 10|              Weekly|    3|\n",
      "+------------+------+-------------------+--------------------+-----+\n",
      "only showing top 10 rows\n",
      "\n"
     ]
    }
   ],
   "source": [
    "loans_df.select([\"LoanIdFormat\",\"Amount\",\"Total_Repayments__c\",\"Payment_Frequency__c\",\"count\"]).show(10)"
   ]
  },
  {
   "cell_type": "code",
   "execution_count": 7,
   "id": "b17fa619-e0b5-459a-aa9b-1b30dfb9b411",
   "metadata": {},
   "outputs": [
    {
     "name": "stdout",
     "output_type": "stream",
     "text": [
      "+-------+------------------+------------------+------------------+-----------------+-------------------+--------------------------+--------------------+\n",
      "|summary|            userId|      LoanIdFormat|             count|           Amount|Total_Repayments__c|Number_Of_Loans_Granted__c|Num_Of_Loans_Paid__c|\n",
      "+-------+------------------+------------------+------------------+-----------------+-------------------+--------------------------+--------------------+\n",
      "|  count|            559151|            559151|            559151|           559151|             559151|                    559151|              559151|\n",
      "|   mean|24735.774815747445| 4.527168868516734|1.6699120631099649|823.7755990778877| 7.0393507299459355|        11.901447015206983|   11.85676856519974|\n",
      "| stddev|15283.929730968575|2.7984778294163046|0.8954014280676444|766.2637755312196| 3.9631196080149786|         8.154409123854771|   8.273339043377455|\n",
      "|    min|                 1|                 1|                 0|              100|                  1|                         0|                   3|\n",
      "|    max|             59174|                20|                 8|             5000|                 45|                        73|                  73|\n",
      "+-------+------------------+------------------+------------------+-----------------+-------------------+--------------------------+--------------------+\n",
      "\n"
     ]
    }
   ],
   "source": [
    "loans_df.select([\"userId\",\"LoanIdFormat\",\"count\",\"Amount\",\"Total_Repayments__c\",\"Number_Of_Loans_Granted__c\",\"Num_Of_Loans_Paid__c\"]).describe().show()"
   ]
  },
  {
   "cell_type": "code",
   "execution_count": 8,
   "id": "aff3ab50-da66-4a88-ab6e-64da2d8ec778",
   "metadata": {
    "scrolled": true
   },
   "outputs": [
    {
     "name": "stdout",
     "output_type": "stream",
     "text": [
      "-RECORD 0------------------------------------------\n",
      " Id                         | 0062x00000DsEQcAAN   \n",
      " AccountID                  | 0010K00001ayVHPQA2   \n",
      " Number_Of_Loans_Granted__c | 27                   \n",
      " Num_Of_Loans_Paid__c       | 27                   \n",
      " Purpose_of_Loan__c         | Furniture or Appl... \n",
      " Total_Repayments__c        | 10                   \n",
      " Amount                     | 500                  \n",
      " Term_in_Weeks__c           | 10.143               \n",
      " Payment_Frequency__c       | Weekly               \n",
      " StageName                  | Loan Paid            \n",
      " Applicant Age              | 55                   \n",
      " summary_income             | 2166.67              \n",
      " summary_income_cv          | 5750.7               \n",
      " city                       | Jimboomba            \n",
      " state                      | QLD                  \n",
      " Country                    | Australia            \n",
      " userId                     | 1                    \n",
      " loanId                     | 385865               \n",
      " count                      | 3                    \n",
      " LoanIdFormat               | 1                    \n",
      "-RECORD 1------------------------------------------\n",
      " Id                         | 0062x00000471C0AAI   \n",
      " AccountID                  | 0010K00001ayVHPQA2   \n",
      " Number_Of_Loans_Granted__c | 27                   \n",
      " Num_Of_Loans_Paid__c       | 27                   \n",
      " Purpose_of_Loan__c         | Furniture or Appl... \n",
      " Total_Repayments__c        | 10                   \n",
      " Amount                     | 700                  \n",
      " Term_in_Weeks__c           | 10.0                 \n",
      " Payment_Frequency__c       | Weekly               \n",
      " StageName                  | Loan Paid            \n",
      " Applicant Age              | 55                   \n",
      " summary_income             | 2166.67              \n",
      " summary_income_cv          | 3901.44              \n",
      " city                       | Jimboomba            \n",
      " state                      | QLD                  \n",
      " Country                    | Australia            \n",
      " userId                     | 1                    \n",
      " loanId                     | 96163                \n",
      " count                      | 3                    \n",
      " LoanIdFormat               | 1                    \n",
      "-RECORD 2------------------------------------------\n",
      " Id                         | 0060K00000QSYfLQAX   \n",
      " AccountID                  | 0010K00001ayVHPQA2   \n",
      " Number_Of_Loans_Granted__c | 27                   \n",
      " Num_Of_Loans_Paid__c       | 27                   \n",
      " Purpose_of_Loan__c         | Vehicle Expenses     \n",
      " Total_Repayments__c        | 10                   \n",
      " Amount                     | 800                  \n",
      " Term_in_Weeks__c           | 10.0                 \n",
      " Payment_Frequency__c       | Weekly               \n",
      " StageName                  | Loan Paid            \n",
      " Applicant Age              | 55                   \n",
      " summary_income             | 2166.67              \n",
      " summary_income_cv          | 0.0                  \n",
      " city                       | Jimboomba            \n",
      " state                      | QLD                  \n",
      " Country                    | Australia            \n",
      " userId                     | 1                    \n",
      " loanId                     | 102                  \n",
      " count                      | 3                    \n",
      " LoanIdFormat               | 1                    \n",
      "-RECORD 3------------------------------------------\n",
      " Id                         | 0060K00000SvU4QQAV   \n",
      " AccountID                  | 0010K00001ayVHPQA2   \n",
      " Number_Of_Loans_Granted__c | 27                   \n",
      " Num_Of_Loans_Paid__c       | 27                   \n",
      " Purpose_of_Loan__c         | Furniture or Appl... \n",
      " Total_Repayments__c        | 10                   \n",
      " Amount                     | 800                  \n",
      " Term_in_Weeks__c           | 10.0                 \n",
      " Payment_Frequency__c       | Weekly               \n",
      " StageName                  | Loan Paid            \n",
      " Applicant Age              | 55                   \n",
      " summary_income             | 2166.67              \n",
      " summary_income_cv          | 0.0                  \n",
      " city                       | Jimboomba            \n",
      " state                      | QLD                  \n",
      " Country                    | Australia            \n",
      " userId                     | 1                    \n",
      " loanId                     | 10278                \n",
      " count                      | 3                    \n",
      " LoanIdFormat               | 1                    \n",
      "-RECORD 4------------------------------------------\n",
      " Id                         | 0060K00000S81TeQAJ   \n",
      " AccountID                  | 0010K00001ayVHPQA2   \n",
      " Number_Of_Loans_Granted__c | 27                   \n",
      " Num_Of_Loans_Paid__c       | 27                   \n",
      " Purpose_of_Loan__c         | Vehicle Expenses     \n",
      " Total_Repayments__c        | 10                   \n",
      " Amount                     | 800                  \n",
      " Term_in_Weeks__c           | 10.0                 \n",
      " Payment_Frequency__c       | Weekly               \n",
      " StageName                  | Loan Paid            \n",
      " Applicant Age              | 55                   \n",
      " summary_income             | 2166.67              \n",
      " summary_income_cv          | 0.0                  \n",
      " city                       | Jimboomba            \n",
      " state                      | QLD                  \n",
      " Country                    | Australia            \n",
      " userId                     | 1                    \n",
      " loanId                     | 6480                 \n",
      " count                      | 3                    \n",
      " LoanIdFormat               | 1                    \n",
      "-RECORD 5------------------------------------------\n",
      " Id                         | 0060K00000RVz9FQAT   \n",
      " AccountID                  | 0010K00001ayVHPQA2   \n",
      " Number_Of_Loans_Granted__c | 27                   \n",
      " Num_Of_Loans_Paid__c       | 27                   \n",
      " Purpose_of_Loan__c         | Vehicle Expenses     \n",
      " Total_Repayments__c        | 10                   \n",
      " Amount                     | 800                  \n",
      " Term_in_Weeks__c           | 9.857                \n",
      " Payment_Frequency__c       | Weekly               \n",
      " StageName                  | Loan Paid            \n",
      " Applicant Age              | 55                   \n",
      " summary_income             | 2166.67              \n",
      " summary_income_cv          | 0.0                  \n",
      " city                       | Jimboomba            \n",
      " state                      | QLD                  \n",
      " Country                    | Australia            \n",
      " userId                     | 1                    \n",
      " loanId                     | 4856                 \n",
      " count                      | 3                    \n",
      " LoanIdFormat               | 1                    \n",
      "-RECORD 6------------------------------------------\n",
      " Id                         | 0060K00000RSm5eQAD   \n",
      " AccountID                  | 0010K00001ayVHPQA2   \n",
      " Number_Of_Loans_Granted__c | 27                   \n",
      " Num_Of_Loans_Paid__c       | 27                   \n",
      " Purpose_of_Loan__c         | Repay Existing Debt  \n",
      " Total_Repayments__c        | 10                   \n",
      " Amount                     | 800                  \n",
      " Term_in_Weeks__c           | 10.0                 \n",
      " Payment_Frequency__c       | Weekly               \n",
      " StageName                  | Loan Paid            \n",
      " Applicant Age              | 55                   \n",
      " summary_income             | 2166.67              \n",
      " summary_income_cv          | 0.0                  \n",
      " city                       | Jimboomba            \n",
      " state                      | QLD                  \n",
      " Country                    | Australia            \n",
      " userId                     | 1                    \n",
      " loanId                     | 2664                 \n",
      " count                      | 3                    \n",
      " LoanIdFormat               | 1                    \n",
      "-RECORD 7------------------------------------------\n",
      " Id                         | 0062x000005U1CbAAK   \n",
      " AccountID                  | 0010K00001ayVHPQA2   \n",
      " Number_Of_Loans_Granted__c | 27                   \n",
      " Num_Of_Loans_Paid__c       | 27                   \n",
      " Purpose_of_Loan__c         | Vehicle Expenses     \n",
      " Total_Repayments__c        | 10                   \n",
      " Amount                     | 900                  \n",
      " Term_in_Weeks__c           | 9.857                \n",
      " Payment_Frequency__c       | Weekly               \n",
      " StageName                  | Loan Paid            \n",
      " Applicant Age              | 55                   \n",
      " summary_income             | 2166.67              \n",
      " summary_income_cv          | 3337.99              \n",
      " city                       | Jimboomba            \n",
      " state                      | QLD                  \n",
      " Country                    | Australia            \n",
      " userId                     | 1                    \n",
      " loanId                     | 111498               \n",
      " count                      | 3                    \n",
      " LoanIdFormat               | 1                    \n",
      "-RECORD 8------------------------------------------\n",
      " Id                         | 0060K00000U7781QAB   \n",
      " AccountID                  | 0010K00001ayVHPQA2   \n",
      " Number_Of_Loans_Granted__c | 27                   \n",
      " Num_Of_Loans_Paid__c       | 27                   \n",
      " Purpose_of_Loan__c         | Vehicle Expenses     \n",
      " Total_Repayments__c        | 10                   \n",
      " Amount                     | 1000                 \n",
      " Term_in_Weeks__c           | 10.0                 \n",
      " Payment_Frequency__c       | Weekly               \n",
      " StageName                  | Loan Paid            \n",
      " Applicant Age              | 55                   \n",
      " summary_income             | 2166.67              \n",
      " summary_income_cv          | 0.0                  \n",
      " city                       | Jimboomba            \n",
      " state                      | QLD                  \n",
      " Country                    | Australia            \n",
      " userId                     | 1                    \n",
      " loanId                     | 13633                \n",
      " count                      | 3                    \n",
      " LoanIdFormat               | 1                    \n",
      "-RECORD 9------------------------------------------\n",
      " Id                         | 0060K00000YZwv8QAD   \n",
      " AccountID                  | 0010K00001ayVHPQA2   \n",
      " Number_Of_Loans_Granted__c | 27                   \n",
      " Num_Of_Loans_Paid__c       | 27                   \n",
      " Purpose_of_Loan__c         | Furniture or Appl... \n",
      " Total_Repayments__c        | 10                   \n",
      " Amount                     | 1000                 \n",
      " Term_in_Weeks__c           | 10.0                 \n",
      " Payment_Frequency__c       | Weekly               \n",
      " StageName                  | Loan Paid            \n",
      " Applicant Age              | 55                   \n",
      " summary_income             | 2166.67              \n",
      " summary_income_cv          | 3074.46              \n",
      " city                       | Jimboomba            \n",
      " state                      | QLD                  \n",
      " Country                    | Australia            \n",
      " userId                     | 1                    \n",
      " loanId                     | 52404                \n",
      " count                      | 3                    \n",
      " LoanIdFormat               | 1                    \n",
      "-RECORD 10-----------------------------------------\n",
      " Id                         | 0062x0000070YprAAE   \n",
      " AccountID                  | 0010K00001ayVHjQAM   \n",
      " Number_Of_Loans_Granted__c | 15                   \n",
      " Num_Of_Loans_Paid__c       | 15                   \n",
      " Purpose_of_Loan__c         | Vehicle Expenses     \n",
      " Total_Repayments__c        | 10                   \n",
      " Amount                     | 300                  \n",
      " Term_in_Weeks__c           | 9.857                \n",
      " Payment_Frequency__c       | Weekly               \n",
      " StageName                  | Loan Paid            \n",
      " Applicant Age              | 36                   \n",
      " summary_income             | 6066.67              \n",
      " summary_income_cv          | 5176.26              \n",
      " city                       | Brisbane             \n",
      " state                      | QLD                  \n",
      " Country                    | Australia            \n",
      " userId                     | 2                    \n",
      " loanId                     | 133877               \n",
      " count                      | 2                    \n",
      " LoanIdFormat               | 1                    \n",
      "-RECORD 11-----------------------------------------\n",
      " Id                         | 0062x00000732K5AAI   \n",
      " AccountID                  | 0010K00001ayVHjQAM   \n",
      " Number_Of_Loans_Granted__c | 15                   \n",
      " Num_Of_Loans_Paid__c       | 15                   \n",
      " Purpose_of_Loan__c         | Home Maintenance ... \n",
      " Total_Repayments__c        | 10                   \n",
      " Amount                     | 350                  \n",
      " Term_in_Weeks__c           | 10.0                 \n",
      " Payment_Frequency__c       | Weekly               \n",
      " StageName                  | Loan Paid            \n",
      " Applicant Age              | 36                   \n",
      " summary_income             | 6066.67              \n",
      " summary_income_cv          | 5056.75              \n",
      " city                       | Brisbane             \n",
      " state                      | QLD                  \n",
      " Country                    | Australia            \n",
      " userId                     | 2                    \n",
      " loanId                     | 139276               \n",
      " count                      | 2                    \n",
      " LoanIdFormat               | 1                    \n",
      "-RECORD 12-----------------------------------------\n",
      " Id                         | 0062x000009032NAAQ   \n",
      " AccountID                  | 0010K00001ayVHjQAM   \n",
      " Number_Of_Loans_Granted__c | 15                   \n",
      " Num_Of_Loans_Paid__c       | 15                   \n",
      " Purpose_of_Loan__c         | Vehicle Expenses     \n",
      " Total_Repayments__c        | 10                   \n",
      " Amount                     | 400                  \n",
      " Term_in_Weeks__c           | 9.857                \n",
      " Payment_Frequency__c       | Weekly               \n",
      " StageName                  | Loan Paid            \n",
      " Applicant Age              | 36                   \n",
      " summary_income             | 6066.67              \n",
      " summary_income_cv          | 4921.72              \n",
      " city                       | Brisbane             \n",
      " state                      | QLD                  \n",
      " Country                    | Australia            \n",
      " userId                     | 2                    \n",
      " loanId                     | 168095               \n",
      " count                      | 2                    \n",
      " LoanIdFormat               | 1                    \n",
      "-RECORD 13-----------------------------------------\n",
      " Id                         | 0060K00000RVsZZQA1   \n",
      " AccountID                  | 0010K00001ayVHjQAM   \n",
      " Number_Of_Loans_Granted__c | 15                   \n",
      " Num_Of_Loans_Paid__c       | 15                   \n",
      " Purpose_of_Loan__c         | Furniture or Appl... \n",
      " Total_Repayments__c        | 10                   \n",
      " Amount                     | 600                  \n",
      " Term_in_Weeks__c           | 10.0                 \n",
      " Payment_Frequency__c       | Weekly               \n",
      " StageName                  | Loan Paid            \n",
      " Applicant Age              | 36                   \n",
      " summary_income             | 6066.67              \n",
      " summary_income_cv          | 0.0                  \n",
      " city                       | Brisbane             \n",
      " state                      | QLD                  \n",
      " Country                    | Australia            \n",
      " userId                     | 2                    \n",
      " loanId                     | 4760                 \n",
      " count                      | 2                    \n",
      " LoanIdFormat               | 1                    \n",
      "-RECORD 14-----------------------------------------\n",
      " Id                         | 0062x00000BHhsjAAD   \n",
      " AccountID                  | 0010K00001ayVHjQAM   \n",
      " Number_Of_Loans_Granted__c | 15                   \n",
      " Num_Of_Loans_Paid__c       | 15                   \n",
      " Purpose_of_Loan__c         | Vehicle Expenses     \n",
      " Total_Repayments__c        | 14                   \n",
      " Amount                     | 600                  \n",
      " Term_in_Weeks__c           | 14.0                 \n",
      " Payment_Frequency__c       | Weekly               \n",
      " StageName                  | Loan Paid            \n",
      " Applicant Age              | 36                   \n",
      " summary_income             | 6066.67              \n",
      " summary_income_cv          | 4245.5               \n",
      " city                       | Brisbane             \n",
      " state                      | QLD                  \n",
      " Country                    | Australia            \n",
      " userId                     | 2                    \n",
      " loanId                     | 286173               \n",
      " count                      | 2                    \n",
      " LoanIdFormat               | 1                    \n",
      "-RECORD 15-----------------------------------------\n",
      " Id                         | 0062x00000AdqkVAAR   \n",
      " AccountID                  | 0010K00001ayVHjQAM   \n",
      " Number_Of_Loans_Granted__c | 15                   \n",
      " Num_Of_Loans_Paid__c       | 15                   \n",
      " Purpose_of_Loan__c         | Home Maintenance ... \n",
      " Total_Repayments__c        | 14                   \n",
      " Amount                     | 600                  \n",
      " Term_in_Weeks__c           | 14.0                 \n",
      " Payment_Frequency__c       | Weekly               \n",
      " StageName                  | Loan Paid            \n",
      " Applicant Age              | 36                   \n",
      " summary_income             | 6066.67              \n",
      " summary_income_cv          | 5219.93              \n",
      " city                       | Brisbane             \n",
      " state                      | QLD                  \n",
      " Country                    | Australia            \n",
      " userId                     | 2                    \n",
      " loanId                     | 243982               \n",
      " count                      | 2                    \n",
      " LoanIdFormat               | 1                    \n",
      "-RECORD 16-----------------------------------------\n",
      " Id                         | 0062x00000A8CaFAAV   \n",
      " AccountID                  | 0010K00001ayVHjQAM   \n",
      " Number_Of_Loans_Granted__c | 15                   \n",
      " Num_Of_Loans_Paid__c       | 15                   \n",
      " Purpose_of_Loan__c         | Vehicle Expenses     \n",
      " Total_Repayments__c        | 14                   \n",
      " Amount                     | 600                  \n",
      " Term_in_Weeks__c           | 13.714               \n",
      " Payment_Frequency__c       | Weekly               \n",
      " StageName                  | Loan Paid            \n",
      " Applicant Age              | 36                   \n",
      " summary_income             | 6066.67              \n",
      " summary_income_cv          | 5062.59              \n",
      " city                       | Brisbane             \n",
      " state                      | QLD                  \n",
      " Country                    | Australia            \n",
      " userId                     | 2                    \n",
      " loanId                     | 212486               \n",
      " count                      | 2                    \n",
      " LoanIdFormat               | 1                    \n",
      "-RECORD 17-----------------------------------------\n",
      " Id                         | 0062x000009Fjw5AAC   \n",
      " AccountID                  | 0010K00001ayVHjQAM   \n",
      " Number_Of_Loans_Granted__c | 15                   \n",
      " Num_Of_Loans_Paid__c       | 15                   \n",
      " Purpose_of_Loan__c         | Home Maintenance ... \n",
      " Total_Repayments__c        | 14                   \n",
      " Amount                     | 600                  \n",
      " Term_in_Weeks__c           | 13.857               \n",
      " Payment_Frequency__c       | Weekly               \n",
      " StageName                  | Loan Paid            \n",
      " Applicant Age              | 36                   \n",
      " summary_income             | 6066.67              \n",
      " summary_income_cv          | 4720.26              \n",
      " city                       | Brisbane             \n",
      " state                      | QLD                  \n",
      " Country                    | Australia            \n",
      " userId                     | 2                    \n",
      " loanId                     | 185505               \n",
      " count                      | 2                    \n",
      " LoanIdFormat               | 1                    \n",
      "-RECORD 18-----------------------------------------\n",
      " Id                         | 0060K00000S7sobQAB   \n",
      " AccountID                  | 0010K00001ayVHjQAM   \n",
      " Number_Of_Loans_Granted__c | 15                   \n",
      " Num_Of_Loans_Paid__c       | 15                   \n",
      " Purpose_of_Loan__c         | Furniture or Appl... \n",
      " Total_Repayments__c        | 10                   \n",
      " Amount                     | 600                  \n",
      " Term_in_Weeks__c           | 10.143               \n",
      " Payment_Frequency__c       | Weekly               \n",
      " StageName                  | Loan Paid            \n",
      " Applicant Age              | 36                   \n",
      " summary_income             | 6066.67              \n",
      " summary_income_cv          | 0.0                  \n",
      " city                       | Brisbane             \n",
      " state                      | QLD                  \n",
      " Country                    | Australia            \n",
      " userId                     | 2                    \n",
      " loanId                     | 6324                 \n",
      " count                      | 2                    \n",
      " LoanIdFormat               | 1                    \n",
      "-RECORD 19-----------------------------------------\n",
      " Id                         | 0062x00000BBnydAAD   \n",
      " AccountID                  | 0010K00001ayVHjQAM   \n",
      " Number_Of_Loans_Granted__c | 15                   \n",
      " Num_Of_Loans_Paid__c       | 15                   \n",
      " Purpose_of_Loan__c         | Vehicle Expenses     \n",
      " Total_Repayments__c        | 10                   \n",
      " Amount                     | 1000                 \n",
      " Term_in_Weeks__c           | 10.714               \n",
      " Payment_Frequency__c       | Weekly               \n",
      " StageName                  | Loan Paid            \n",
      " Applicant Age              | 36                   \n",
      " summary_income             | 6066.67              \n",
      " summary_income_cv          | 4294.75              \n",
      " city                       | Brisbane             \n",
      " state                      | QLD                  \n",
      " Country                    | Australia            \n",
      " userId                     | 2                    \n",
      " loanId                     | 282397               \n",
      " count                      | 2                    \n",
      " LoanIdFormat               | 1                    \n",
      "only showing top 20 rows\n",
      "\n"
     ]
    }
   ],
   "source": [
    "loans_df.show(vertical=True)"
   ]
  },
  {
   "cell_type": "code",
   "execution_count": 9,
   "id": "879b0ed5-5a6a-4f4f-a02a-1ef3be15bd8d",
   "metadata": {},
   "outputs": [],
   "source": [
    "hist_data  = loans_df.toPandas()"
   ]
  },
  {
   "cell_type": "code",
   "execution_count": 10,
   "id": "8e20cc21-d8fc-478f-ae00-442e698e0c7b",
   "metadata": {},
   "outputs": [
    {
     "data": {
      "image/png": "[encoded data removed]",
      "text/plain": [
       "<Figure size 640x480 with 1 Axes>"
      ]
     },
     "metadata": {},
     "output_type": "display_data"
    }
   ],
   "source": [
    "hist_data['count'].hist()\n",
    "plt.xlabel(\"count\")\n",
    "plt.ylabel(\"Frequency\")\n",
    "plt.title(f\"Histogram of count\")\n",
    "plt.show()"
   ]
  },
  {
   "cell_type": "code",
   "execution_count": null,
   "id": "bf7ad932-9155-41cc-b30b-97711374a062",
   "metadata": {},
   "outputs": [],
   "source": []
  },
  {
   "cell_type": "code",
   "execution_count": null,
   "id": "30bb8db5-e183-44d9-b3f7-b9b3647bfb14",
   "metadata": {},
   "outputs": [],
   "source": []
  },
  {
   "cell_type": "code",
   "execution_count": 11,
   "id": "93606394-8fb4-4d30-8235-c8e1cdb15a13",
   "metadata": {},
   "outputs": [
    {
     "name": "stdout",
     "output_type": "stream",
     "text": [
      "Number of unique loanId_format: 20\n",
      "Number of unique Loan Id: 407389\n"
     ]
    }
   ],
   "source": [
    "# Count the number of unique items\n",
    "num_unique_loan_id_format = loans_df.select('LoanIdFormat').distinct().count()\n",
    "print(f\"Number of unique loanId_format: {num_unique_loan_id_format}\")\n",
    "\n",
    "# Count the number of unique users\n",
    "num_unique_id = loans_df.select('Id').distinct().count()\n",
    "print(f\"Number of unique Loan Id: {num_unique_id}\")"
   ]
  },
  {
   "cell_type": "code",
   "execution_count": 12,
   "id": "aa9f871b-ee01-470a-af88-09d50dc228cb",
   "metadata": {},
   "outputs": [
    {
     "name": "stdout",
     "output_type": "stream",
     "text": [
      "Number of unique users: 59158\n"
     ]
    }
   ],
   "source": [
    "# Count the number of unique items\n",
    "tmp = loans_df.select('userId').distinct().count()\n",
    "print(f\"Number of unique users: {tmp}\")\n",
    "\n",
    "# Count the number of unique users\n",
    "# tmp = ratings_df.select('movieId').distinct().count()\n",
    "# print(f\"Number of unique movies: {tmp}\")"
   ]
  },
  {
   "cell_type": "code",
   "execution_count": 13,
   "id": "18f5bc8b-ee99-490a-89e0-8a319deb255f",
   "metadata": {},
   "outputs": [
    {
     "name": "stdout",
     "output_type": "stream",
     "text": [
      "+-----+\n",
      "|count|\n",
      "+-----+\n",
      "|    1|\n",
      "|    6|\n",
      "|    3|\n",
      "|    5|\n",
      "|    4|\n",
      "|    8|\n",
      "|    7|\n",
      "|    2|\n",
      "|    0|\n",
      "+-----+\n",
      "\n"
     ]
    }
   ],
   "source": [
    "# distinct values of the rating\n",
    "loans_df.select(\"count\").distinct().show()"
   ]
  },
  {
   "cell_type": "markdown",
   "id": "67ad89af-06f7-4fac-b6bb-9d0ec842ed04",
   "metadata": {},
   "source": [
    "========================================================================================================"
   ]
  },
  {
   "cell_type": "markdown",
   "id": "6ea6197c-53b9-4c06-a20d-1e1f2233d371",
   "metadata": {},
   "source": [
    "Converting the dataset into train test and validation split."
   ]
  },
  {
   "cell_type": "code",
   "execution_count": 15,
   "id": "25b7a938-17f5-460f-a3bf-78ebd6628477",
   "metadata": {},
   "outputs": [
    {
     "name": "stdout",
     "output_type": "stream",
     "text": [
      "+------------+-----+------+\n",
      "|LoanIdFormat|count|Amount|\n",
      "+------------+-----+------+\n",
      "|           1|    3|   500|\n",
      "|           1|    3|   700|\n",
      "|           1|    3|   800|\n",
      "|           1|    3|   800|\n",
      "|           1|    3|   800|\n",
      "|           1|    3|   800|\n",
      "|           1|    3|   800|\n",
      "|           1|    3|   900|\n",
      "|           1|    3|  1000|\n",
      "|           1|    3|  1000|\n",
      "+------------+-----+------+\n",
      "only showing top 10 rows\n",
      "\n"
     ]
    }
   ],
   "source": [
    "loans_df.select([\"LoanIdFormat\",\"count\",\"Amount\"]).show(10)"
   ]
  },
  {
   "cell_type": "code",
   "execution_count": 16,
   "id": "471dc8a3-2474-41c2-a4c2-d3f09756df0d",
   "metadata": {},
   "outputs": [
    {
     "data": {
      "text/plain": [
       "DataFrame[Id: string, AccountID: string, Number_Of_Loans_Granted__c: int, Num_Of_Loans_Paid__c: int, Purpose_of_Loan__c: string, Total_Repayments__c: int, Amount: int, Term_in_Weeks__c: double, Payment_Frequency__c: string, StageName: string, Applicant Age: int, summary_income: double, summary_income_cv: double, city: string, state: string, Country: string, userId: int, loanId: int, count: int, LoanIdFormat: int]"
      ]
     },
     "execution_count": 16,
     "metadata": {},
     "output_type": "execute_result"
    }
   ],
   "source": [
    "train, validation = loans_df.randomSplit([0.8, 0.2])\n",
    "# train, validation, test = loans_df.randomSplit([0.8, 0.1, 0.1])\n",
    "# # cache data\n",
    "train.cache()\n",
    "validation.cache()\n",
    "# test.cache()"
   ]
  },
  {
   "cell_type": "code",
   "execution_count": 17,
   "id": "b2ad213d-bf88-4d40-b43e-609a301116fe",
   "metadata": {},
   "outputs": [
    {
     "name": "stdout",
     "output_type": "stream",
     "text": [
      "+------+------+------------+-----+------+-------------------+\n",
      "|userId|loanId|LoanIdFormat|count|Amount|Total_Repayments__c|\n",
      "+------+------+------------+-----+------+-------------------+\n",
      "|   130|     6|           1|    3|   400|                 10|\n",
      "| 25117|    33|           1|    3|   650|                 10|\n",
      "| 23722|    52|           1|    1|   800|                 10|\n",
      "| 25097|    90|           1|    2|   200|                 10|\n",
      "|   186|    99|           1|    1|   350|                 10|\n",
      "| 25245|   190|           1|    1|   850|                 10|\n",
      "|    76|   231|           1|    1|   400|                 10|\n",
      "| 25043|   253|           1|    2|   400|                 10|\n",
      "| 24094|   254|           1|    1|  1000|                 10|\n",
      "| 24945|   286|           1|    1|   500|                 10|\n",
      "| 24975|   289|           1|    2|   200|                 10|\n",
      "| 24267|   291|           1|    3|   200|                 10|\n",
      "| 25279|   323|           1|    1|   500|                 10|\n",
      "| 23319|   327|           1|    2|   250|                 10|\n",
      "| 23435|   364|           1|    2|   250|                 10|\n",
      "| 24703|   370|           1|    4|   900|                 10|\n",
      "|   205|   375|           1|    1|   300|                 10|\n",
      "| 25273|   387|           1|    2|   250|                 10|\n",
      "| 23813|   398|           1|    1|   200|                 10|\n",
      "|   232|   414|           1|    2|   500|                 10|\n",
      "+------+------+------------+-----+------+-------------------+\n",
      "only showing top 20 rows\n",
      "\n"
     ]
    }
   ],
   "source": [
    "validation.select([\"userId\",\"loanId\",\"LoanIdFormat\",\"count\",\"Amount\",\"Total_Repayments__c\"]).show()"
   ]
  },
  {
   "cell_type": "code",
   "execution_count": 18,
   "id": "b4ec2ccf-e2df-4169-82d1-84b24e8cdf75",
   "metadata": {},
   "outputs": [
    {
     "name": "stdout",
     "output_type": "stream",
     "text": [
      "root\n",
      " |-- Id: string (nullable = true)\n",
      " |-- AccountID: string (nullable = true)\n",
      " |-- Number_Of_Loans_Granted__c: integer (nullable = true)\n",
      " |-- Num_Of_Loans_Paid__c: integer (nullable = true)\n",
      " |-- Purpose_of_Loan__c: string (nullable = true)\n",
      " |-- Total_Repayments__c: integer (nullable = true)\n",
      " |-- Amount: integer (nullable = true)\n",
      " |-- Term_in_Weeks__c: double (nullable = true)\n",
      " |-- Payment_Frequency__c: string (nullable = true)\n",
      " |-- StageName: string (nullable = true)\n",
      " |-- Applicant Age: integer (nullable = true)\n",
      " |-- summary_income: double (nullable = true)\n",
      " |-- summary_income_cv: double (nullable = true)\n",
      " |-- city: string (nullable = true)\n",
      " |-- state: string (nullable = true)\n",
      " |-- Country: string (nullable = true)\n",
      " |-- userId: integer (nullable = true)\n",
      " |-- loanId: integer (nullable = true)\n",
      " |-- count: integer (nullable = true)\n",
      " |-- LoanIdFormat: integer (nullable = true)\n",
      "\n"
     ]
    }
   ],
   "source": [
    "loans_df.printSchema()"
   ]
  },
  {
   "cell_type": "code",
   "execution_count": 19,
   "id": "e2226eb6-5980-4249-bd83-5f3b6862faf1",
   "metadata": {},
   "outputs": [],
   "source": [
    "def train_ALS(train_data, validation_data, num_iters, reg_param, ranks):\n",
    "    \"\"\"\n",
    "    Grid Search Function to select the best model based on RMSE of hold-out data\n",
    "    \"\"\"\n",
    "    # initial\n",
    "    min_error = float('inf')\n",
    "    best_rank = -1\n",
    "    best_regularization = 0\n",
    "    best_model = None\n",
    "    for rank in ranks:\n",
    "        for reg in reg_param:\n",
    "            # Train the model using the training data\n",
    "            als_model = ALS(maxIter=num_iters,regParam=reg, rank=rank,\n",
    "                                        userCol='userId', itemCol='LoanIdFormat', ratingCol='count', seed=99,\n",
    "                           coldStartStrategy=\"drop\",nonnegative=True)\n",
    "            model = als_model.fit(train_data)\n",
    "            \n",
    "            # Generate predictions on the test data\n",
    "            predictions = model.transform(validation_data)\n",
    "            predictions = predictions.withColumn(\"prediction\", expr(\"CASE WHEN prediction < 0 THEN 0 WHEN prediction > 9 THEN 9 ELSE prediction END\"))\n",
    "            \n",
    "            evaluator = RegressionEvaluator(metricName='rmse', labelCol='count', predictionCol='prediction')\n",
    "            error = evaluator.evaluate(predictions)\n",
    "            \n",
    "            print('{} latent factors and regularization = {}: validation RMSE is {}'.format(rank, reg, error))\n",
    "            if error < min_error:\n",
    "                min_error = error\n",
    "                best_rank = rank\n",
    "                best_regularization = reg\n",
    "                best_model = model\n",
    "    print('\\nThe best model has {} latent factors and regularization = {}'.format(best_rank, best_regularization))\n",
    "    return best_model"
   ]
  },
  {
   "cell_type": "code",
   "execution_count": 20,
   "id": "fb8832fe-fe68-4372-9d4d-294633e187b0",
   "metadata": {},
   "outputs": [
    {
     "name": "stdout",
     "output_type": "stream",
     "text": [
      "8 latent factors and regularization = 0.001: validation RMSE is 0.020444812351840813\n",
      "8 latent factors and regularization = 0.01: validation RMSE is 0.025620431301841107\n",
      "8 latent factors and regularization = 0.05: validation RMSE is 0.08053144305623325\n",
      "8 latent factors and regularization = 0.1: validation RMSE is 0.10213915589542055\n",
      "8 latent factors and regularization = 0.2: validation RMSE is 0.19814911852343314\n",
      "10 latent factors and regularization = 0.001: validation RMSE is 0.03799510096152451\n",
      "10 latent factors and regularization = 0.01: validation RMSE is 0.055210625986972184\n",
      "10 latent factors and regularization = 0.05: validation RMSE is 0.07669887253088171\n",
      "10 latent factors and regularization = 0.1: validation RMSE is 0.09638429111410064\n",
      "10 latent factors and regularization = 0.2: validation RMSE is 0.19804733602596913\n",
      "20 latent factors and regularization = 0.001: validation RMSE is 0.10375543458238233\n",
      "20 latent factors and regularization = 0.01: validation RMSE is 0.03498082529906885\n",
      "20 latent factors and regularization = 0.05: validation RMSE is 0.08803085299239126\n",
      "20 latent factors and regularization = 0.1: validation RMSE is 0.10380119556929465\n",
      "20 latent factors and regularization = 0.2: validation RMSE is 0.1981514924089491\n",
      "40 latent factors and regularization = 0.001: validation RMSE is 0.10572718918144895\n",
      "40 latent factors and regularization = 0.01: validation RMSE is 0.051679104358536836\n",
      "40 latent factors and regularization = 0.05: validation RMSE is 0.09203430594445665\n",
      "40 latent factors and regularization = 0.1: validation RMSE is 0.11022480236840308\n",
      "40 latent factors and regularization = 0.2: validation RMSE is 0.19823906236518749\n",
      "60 latent factors and regularization = 0.001: validation RMSE is 0.12123486986877394\n",
      "60 latent factors and regularization = 0.01: validation RMSE is 0.050658593573788574\n",
      "60 latent factors and regularization = 0.05: validation RMSE is 0.09153354661117928\n",
      "60 latent factors and regularization = 0.1: validation RMSE is 0.10861445000667698\n",
      "60 latent factors and regularization = 0.2: validation RMSE is 0.19814093173825947\n",
      "\n",
      "The best model has 8 latent factors and regularization = 0.001\n",
      "Total Runtime: 391.55 seconds\n"
     ]
    }
   ],
   "source": [
    "# hyper-param config\n",
    "num_iterations = 10\n",
    "ranks = [8, 10, 20, 40, 60]\n",
    "reg_params = [0.001, 0.01, 0.05, 0.1, 0.2]\n",
    "\n",
    "# grid search and select best model\n",
    "start_time = time.time()\n",
    "final_model = train_ALS(train, validation, num_iterations, reg_params, ranks)\n",
    "\n",
    "print ('Total Runtime: {:.2f} seconds'.format(time.time() - start_time))"
   ]
  },
  {
   "cell_type": "code",
   "execution_count": 20,
   "id": "c7cf3c57-11f2-46bd-b434-1cebf52a0c13",
   "metadata": {},
   "outputs": [],
   "source": [
    "#OLD :  40 latent factors and regularization = 0.001\n",
    "#NEW: The best model has 8 latent factors and regularization = 0.001"
   ]
  },
  {
   "cell_type": "code",
   "execution_count": null,
   "id": "b0ea77f2-852c-4fb9-8523-f8c98386655c",
   "metadata": {},
   "outputs": [],
   "source": [
    " "
   ]
  },
  {
   "cell_type": "code",
   "execution_count": 21,
   "id": "57ba7905-f3e0-4a23-8b3d-0c41ffa5d0ca",
   "metadata": {},
   "outputs": [],
   "source": [
    "predictions = final_model.transform(validation)\n",
    "# predictions = predictions.withColumn(\"prediction\", expr(\"CASE WHEN prediction < 0 THEN 0 WHEN prediction > 9 THEN 9 ELSE prediction END\"))"
   ]
  },
  {
   "cell_type": "code",
   "execution_count": null,
   "id": "6cd93785-db30-4571-b897-8ccf3d28e6fa",
   "metadata": {},
   "outputs": [],
   "source": []
  },
  {
   "cell_type": "code",
   "execution_count": null,
   "id": "5e28740c-bd7f-4213-986a-04b0b8453f48",
   "metadata": {},
   "outputs": [],
   "source": [
    " \n",
    "# Evaluate the model using Root Mean Squared Error (RMSE)\n",
    "evaluator = RegressionEvaluator(metricName=\"rmse\", labelCol=\"rating\", predictionCol=\"prediction\")\n",
    "rmse = evaluator.evaluate(predictions)\n",
    "print(\"Root Mean Squared Error (RMSE) = \" + str(rmse))\n"
   ]
  },
  {
   "cell_type": "code",
   "execution_count": null,
   "id": "c6126443-493a-4f43-9c2c-a3ce31b2d77a",
   "metadata": {},
   "outputs": [],
   "source": []
  },
  {
   "cell_type": "code",
   "execution_count": null,
   "id": "3582bb9e-34ae-4cf5-a0ce-9f09954e4095",
   "metadata": {},
   "outputs": [],
   "source": [
    "root\n",
    " |-- Id: string (nullable = true)\n",
    " |-- AccountID: string (nullable = true)\n",
    " |-- Number_Of_Loans_Granted__c: integer (nullable = true)\n",
    " |-- Num_Of_Loans_Paid__c: integer (nullable = true)\n",
    " |-- Purpose_of_Loan__c: string (nullable = true)\n",
    " |-- Total_Repayments__c: integer (nullable = true)\n",
    " |-- Amount: integer (nullable = true)\n",
    " |-- Term_in_Weeks__c: double (nullable = true)\n",
    " |-- Payment_Frequency__c: string (nullable = true)\n",
    " |-- StageName: string (nullable = true)\n",
    " |-- Applicant Age: integer (nullable = true)\n",
    " |-- summary_income: double (nullable = true)\n",
    " |-- summary_income_cv: double (nullable = true)\n",
    " |-- city: string (nullable = true)\n",
    " |-- state: string (nullable = true)\n",
    " |-- Country: string (nullable = true)\n",
    " |-- userId: integer (nullable = true)\n",
    " |-- loanId: integer (nullable = true)\n",
    " |-- count: integer (nullable = true)\n",
    " |-- LoanIdFormat: integer (nullable = true)\n",
    " |-- prediction: float (nullable = false)"
   ]
  },
  {
   "cell_type": "code",
   "execution_count": 46,
   "id": "efc1f24f-40d6-452b-a727-dd925239dd65",
   "metadata": {},
   "outputs": [],
   "source": [
    "from pyspark.ml.feature import VectorAssembler\n",
    "from pyspark.ml.linalg import Vectors\n",
    "\n",
    "# Assuming 'features' is an array column containing floats\n",
    "assembler = VectorAssembler(inputCols=[\"userId\", \"loanId\", \"count\", \"LoanIdFormat\"], outputCol=\"features_vector\")\n",
    "df_assembled = assembler.transform(loans_df)"
   ]
  },
  {
   "cell_type": "code",
   "execution_count": 50,
   "id": "a4198ca2-846d-4140-a4c4-d99e833ddc04",
   "metadata": {},
   "outputs": [
    {
     "data": {
      "text/plain": [
       "DataFrame[Id: string, AccountID: string, Number_Of_Loans_Granted__c: int, Num_Of_Loans_Paid__c: int, Purpose_of_Loan__c: string, Total_Repayments__c: int, Amount: int, Term_in_Weeks__c: double, Payment_Frequency__c: string, StageName: string, Applicant Age: int, summary_income: double, summary_income_cv: double, city: string, state: string, Country: string, userId: int, loanId: int, count: int, LoanIdFormat: int, features_vector: vector]"
      ]
     },
     "execution_count": 50,
     "metadata": {},
     "output_type": "execute_result"
    }
   ],
   "source": [
    "df_assembled"
   ]
  },
  {
   "cell_type": "code",
   "execution_count": 49,
   "id": "7c0d093f-b72e-40d8-bf51-e5599c31a680",
   "metadata": {},
   "outputs": [
    {
     "ename": "IllegalArgumentException",
     "evalue": "requirement failed: Input type must be struct<type:tinyint,size:int,indices:array<int>,values:array<double>> but got int.",
     "output_type": "error",
     "traceback": [
      "\u001b[1;31m---------------------------------------------------------------------------\u001b[0m",
      "\u001b[1;31mIllegalArgumentException\u001b[0m                  Traceback (most recent call last)",
      "Cell \u001b[1;32mIn[49], line 2\u001b[0m\n\u001b[0;32m      1\u001b[0m user_normalizer \u001b[38;5;241m=\u001b[39m Normalizer(inputCol\u001b[38;5;241m=\u001b[39m\u001b[38;5;124m\"\u001b[39m\u001b[38;5;124muserId\u001b[39m\u001b[38;5;124m\"\u001b[39m , outputCol\u001b[38;5;241m=\u001b[39m\u001b[38;5;124m\"\u001b[39m\u001b[38;5;124mnormalized_features\u001b[39m\u001b[38;5;124m\"\u001b[39m, p\u001b[38;5;241m=\u001b[39m\u001b[38;5;241m2.0\u001b[39m)\n\u001b[1;32m----> 2\u001b[0m user_normalized \u001b[38;5;241m=\u001b[39m \u001b[43muser_normalizer\u001b[49m\u001b[38;5;241;43m.\u001b[39;49m\u001b[43mtransform\u001b[49m\u001b[43m(\u001b[49m\u001b[43mdf_assembled\u001b[49m\u001b[43m)\u001b[49m\n",
      "File \u001b[1;32m~\\AppData\\Local\\Programs\\Python\\Python312\\Lib\\site-packages\\pyspark\\ml\\base.py:262\u001b[0m, in \u001b[0;36mTransformer.transform\u001b[1;34m(self, dataset, params)\u001b[0m\n\u001b[0;32m    260\u001b[0m         \u001b[38;5;28;01mreturn\u001b[39;00m \u001b[38;5;28mself\u001b[39m\u001b[38;5;241m.\u001b[39mcopy(params)\u001b[38;5;241m.\u001b[39m_transform(dataset)\n\u001b[0;32m    261\u001b[0m     \u001b[38;5;28;01melse\u001b[39;00m:\n\u001b[1;32m--> 262\u001b[0m         \u001b[38;5;28;01mreturn\u001b[39;00m \u001b[38;5;28;43mself\u001b[39;49m\u001b[38;5;241;43m.\u001b[39;49m\u001b[43m_transform\u001b[49m\u001b[43m(\u001b[49m\u001b[43mdataset\u001b[49m\u001b[43m)\u001b[49m\n\u001b[0;32m    263\u001b[0m \u001b[38;5;28;01melse\u001b[39;00m:\n\u001b[0;32m    264\u001b[0m     \u001b[38;5;28;01mraise\u001b[39;00m \u001b[38;5;167;01mTypeError\u001b[39;00m(\u001b[38;5;124m\"\u001b[39m\u001b[38;5;124mParams must be a param map but got \u001b[39m\u001b[38;5;132;01m%s\u001b[39;00m\u001b[38;5;124m.\u001b[39m\u001b[38;5;124m\"\u001b[39m \u001b[38;5;241m%\u001b[39m \u001b[38;5;28mtype\u001b[39m(params))\n",
      "File \u001b[1;32m~\\AppData\\Local\\Programs\\Python\\Python312\\Lib\\site-packages\\pyspark\\ml\\wrapper.py:398\u001b[0m, in \u001b[0;36mJavaTransformer._transform\u001b[1;34m(self, dataset)\u001b[0m\n\u001b[0;32m    395\u001b[0m \u001b[38;5;28;01massert\u001b[39;00m \u001b[38;5;28mself\u001b[39m\u001b[38;5;241m.\u001b[39m_java_obj \u001b[38;5;129;01mis\u001b[39;00m \u001b[38;5;129;01mnot\u001b[39;00m \u001b[38;5;28;01mNone\u001b[39;00m\n\u001b[0;32m    397\u001b[0m \u001b[38;5;28mself\u001b[39m\u001b[38;5;241m.\u001b[39m_transfer_params_to_java()\n\u001b[1;32m--> 398\u001b[0m \u001b[38;5;28;01mreturn\u001b[39;00m DataFrame(\u001b[38;5;28;43mself\u001b[39;49m\u001b[38;5;241;43m.\u001b[39;49m\u001b[43m_java_obj\u001b[49m\u001b[38;5;241;43m.\u001b[39;49m\u001b[43mtransform\u001b[49m\u001b[43m(\u001b[49m\u001b[43mdataset\u001b[49m\u001b[38;5;241;43m.\u001b[39;49m\u001b[43m_jdf\u001b[49m\u001b[43m)\u001b[49m, dataset\u001b[38;5;241m.\u001b[39msparkSession)\n",
      "File \u001b[1;32m~\\AppData\\Local\\Programs\\Python\\Python312\\Lib\\site-packages\\py4j\\java_gateway.py:1322\u001b[0m, in \u001b[0;36mJavaMember.__call__\u001b[1;34m(self, *args)\u001b[0m\n\u001b[0;32m   1316\u001b[0m command \u001b[38;5;241m=\u001b[39m proto\u001b[38;5;241m.\u001b[39mCALL_COMMAND_NAME \u001b[38;5;241m+\u001b[39m\\\n\u001b[0;32m   1317\u001b[0m     \u001b[38;5;28mself\u001b[39m\u001b[38;5;241m.\u001b[39mcommand_header \u001b[38;5;241m+\u001b[39m\\\n\u001b[0;32m   1318\u001b[0m     args_command \u001b[38;5;241m+\u001b[39m\\\n\u001b[0;32m   1319\u001b[0m     proto\u001b[38;5;241m.\u001b[39mEND_COMMAND_PART\n\u001b[0;32m   1321\u001b[0m answer \u001b[38;5;241m=\u001b[39m \u001b[38;5;28mself\u001b[39m\u001b[38;5;241m.\u001b[39mgateway_client\u001b[38;5;241m.\u001b[39msend_command(command)\n\u001b[1;32m-> 1322\u001b[0m return_value \u001b[38;5;241m=\u001b[39m \u001b[43mget_return_value\u001b[49m\u001b[43m(\u001b[49m\n\u001b[0;32m   1323\u001b[0m \u001b[43m    \u001b[49m\u001b[43manswer\u001b[49m\u001b[43m,\u001b[49m\u001b[43m \u001b[49m\u001b[38;5;28;43mself\u001b[39;49m\u001b[38;5;241;43m.\u001b[39;49m\u001b[43mgateway_client\u001b[49m\u001b[43m,\u001b[49m\u001b[43m \u001b[49m\u001b[38;5;28;43mself\u001b[39;49m\u001b[38;5;241;43m.\u001b[39;49m\u001b[43mtarget_id\u001b[49m\u001b[43m,\u001b[49m\u001b[43m \u001b[49m\u001b[38;5;28;43mself\u001b[39;49m\u001b[38;5;241;43m.\u001b[39;49m\u001b[43mname\u001b[49m\u001b[43m)\u001b[49m\n\u001b[0;32m   1325\u001b[0m \u001b[38;5;28;01mfor\u001b[39;00m temp_arg \u001b[38;5;129;01min\u001b[39;00m temp_args:\n\u001b[0;32m   1326\u001b[0m     \u001b[38;5;28;01mif\u001b[39;00m \u001b[38;5;28mhasattr\u001b[39m(temp_arg, \u001b[38;5;124m\"\u001b[39m\u001b[38;5;124m_detach\u001b[39m\u001b[38;5;124m\"\u001b[39m):\n",
      "File \u001b[1;32m~\\AppData\\Local\\Programs\\Python\\Python312\\Lib\\site-packages\\pyspark\\errors\\exceptions\\captured.py:185\u001b[0m, in \u001b[0;36mcapture_sql_exception.<locals>.deco\u001b[1;34m(*a, **kw)\u001b[0m\n\u001b[0;32m    181\u001b[0m converted \u001b[38;5;241m=\u001b[39m convert_exception(e\u001b[38;5;241m.\u001b[39mjava_exception)\n\u001b[0;32m    182\u001b[0m \u001b[38;5;28;01mif\u001b[39;00m \u001b[38;5;129;01mnot\u001b[39;00m \u001b[38;5;28misinstance\u001b[39m(converted, UnknownException):\n\u001b[0;32m    183\u001b[0m     \u001b[38;5;66;03m# Hide where the exception came from that shows a non-Pythonic\u001b[39;00m\n\u001b[0;32m    184\u001b[0m     \u001b[38;5;66;03m# JVM exception message.\u001b[39;00m\n\u001b[1;32m--> 185\u001b[0m     \u001b[38;5;28;01mraise\u001b[39;00m converted \u001b[38;5;28;01mfrom\u001b[39;00m \u001b[38;5;28;01mNone\u001b[39;00m\n\u001b[0;32m    186\u001b[0m \u001b[38;5;28;01melse\u001b[39;00m:\n\u001b[0;32m    187\u001b[0m     \u001b[38;5;28;01mraise\u001b[39;00m\n",
      "\u001b[1;31mIllegalArgumentException\u001b[0m: requirement failed: Input type must be struct<type:tinyint,size:int,indices:array<int>,values:array<double>> but got int."
     ]
    }
   ],
   "source": [
    "user_normalizer = Normalizer(inputCol=\"userId\" , outputCol=\"normalized_features\", p=2.0)\n",
    "user_normalized = user_normalizer.transform(df_assembled)"
   ]
  },
  {
   "cell_type": "code",
   "execution_count": 43,
   "id": "2ad44df4-9709-4010-95b5-808e6484b92b",
   "metadata": {},
   "outputs": [
    {
     "data": {
      "text/plain": [
       "DataFrame[id: int, features: array<float>]"
      ]
     },
     "execution_count": 43,
     "metadata": {},
     "output_type": "execute_result"
    }
   ],
   "source": [
    "DataFrame[Id: string, AccountID: string, Number_Of_Loans_Granted__c: int, Num_Of_Loans_Paid__c: int, Purpose_of_Loan__c: string,\n",
    "Total_Repayments__c: int, Amount: int, Term_in_Weeks__c: double, Payment_Frequency__c: string, StageName: string, Applicant Age:\n",
    "int, summary_income: double, summary_income_cv: double, city: string, state: string, Country: string, userId: int, loanId: int, \n",
    "count: int, LoanIdFormat: int, features_vector: vector]\n",
    "Selection deleted\n"
   ]
  },
  {
   "cell_type": "code",
   "execution_count": 54,
   "id": "ee7803be-acd4-462c-abb4-99ecc09b4e29",
   "metadata": {},
   "outputs": [
    {
     "ename": "Py4JJavaError",
     "evalue": "An error occurred while calling o3480.withColumn.\n: java.lang.RuntimeException: java.io.FileNotFoundException: java.io.FileNotFoundException: HADOOP_HOME and hadoop.home.dir are unset. -see https://wiki.apache.org/hadoop/WindowsProblems\r\n\tat org.apache.hadoop.util.Shell.getWinUtilsPath(Shell.java:735)\r\n\tat org.apache.hadoop.util.Shell.getSetPermissionCommand(Shell.java:270)\r\n\tat org.apache.hadoop.util.Shell.getSetPermissionCommand(Shell.java:286)\r\n\tat org.apache.hadoop.fs.RawLocalFileSystem.setPermission(RawLocalFileSystem.java:978)\r\n\tat org.apache.hadoop.fs.RawLocalFileSystem.mkOneDirWithMode(RawLocalFileSystem.java:660)\r\n\tat org.apache.hadoop.fs.RawLocalFileSystem.mkdirsWithOptionalPermission(RawLocalFileSystem.java:700)\r\n\tat org.apache.hadoop.fs.RawLocalFileSystem.mkdirs(RawLocalFileSystem.java:672)\r\n\tat org.apache.hadoop.fs.RawLocalFileSystem.mkdirsWithOptionalPermission(RawLocalFileSystem.java:699)\r\n\tat org.apache.hadoop.fs.RawLocalFileSystem.mkdirs(RawLocalFileSystem.java:672)\r\n\tat org.apache.hadoop.fs.RawLocalFileSystem.mkdirsWithOptionalPermission(RawLocalFileSystem.java:699)\r\n\tat org.apache.hadoop.fs.RawLocalFileSystem.mkdirs(RawLocalFileSystem.java:672)\r\n\tat org.apache.hadoop.fs.ChecksumFileSystem.mkdirs(ChecksumFileSystem.java:788)\r\n\tat org.apache.spark.sql.catalyst.catalog.InMemoryCatalog.liftedTree1$1(InMemoryCatalog.scala:122)\r\n\tat org.apache.spark.sql.catalyst.catalog.InMemoryCatalog.createDatabase(InMemoryCatalog.scala:119)\r\n\tat org.apache.spark.sql.internal.SharedState.externalCatalog$lzycompute(SharedState.scala:159)\r\n\tat org.apache.spark.sql.internal.SharedState.externalCatalog(SharedState.scala:140)\r\n\tat org.apache.spark.sql.internal.BaseSessionStateBuilder.$anonfun$catalog$1(BaseSessionStateBuilder.scala:154)\r\n\tat org.apache.spark.sql.catalyst.catalog.SessionCatalog.externalCatalog$lzycompute(SessionCatalog.scala:122)\r\n\tat org.apache.spark.sql.catalyst.catalog.SessionCatalog.externalCatalog(SessionCatalog.scala:122)\r\n\tat org.apache.spark.sql.catalyst.catalog.SessionCatalog.databaseExists(SessionCatalog.scala:319)\r\n\tat org.apache.spark.sql.catalyst.catalog.SessionCatalog.isPersistentFunction(SessionCatalog.scala:1579)\r\n\tat org.apache.spark.sql.execution.datasources.v2.V2SessionCatalog.functionExists(V2SessionCatalog.scala:367)\r\n\tat org.apache.spark.sql.catalyst.analysis.Analyzer$LookupFunctions$$anonfun$apply$20.applyOrElse(Analyzer.scala:2009)\r\n\tat org.apache.spark.sql.catalyst.analysis.Analyzer$LookupFunctions$$anonfun$apply$20.applyOrElse(Analyzer.scala:2000)\r\n\tat org.apache.spark.sql.catalyst.trees.TreeNode.$anonfun$transformDownWithPruning$1(TreeNode.scala:461)\r\n\tat org.apache.spark.sql.catalyst.trees.CurrentOrigin$.withOrigin(origin.scala:76)\r\n\tat org.apache.spark.sql.catalyst.trees.TreeNode.transformDownWithPruning(TreeNode.scala:461)\r\n\tat org.apache.spark.sql.catalyst.trees.TreeNode.$anonfun$transformDownWithPruning$3(TreeNode.scala:466)\r\n\tat org.apache.spark.sql.catalyst.trees.UnaryLike.mapChildren(TreeNode.scala:1215)\r\n\tat org.apache.spark.sql.catalyst.trees.UnaryLike.mapChildren$(TreeNode.scala:1214)\r\n\tat org.apache.spark.sql.catalyst.expressions.UnaryExpression.mapChildren(Expression.scala:533)\r\n\tat org.apache.spark.sql.catalyst.trees.TreeNode.transformDownWithPruning(TreeNode.scala:466)\r\n\tat org.apache.spark.sql.catalyst.plans.QueryPlan.$anonfun$transformExpressionsDownWithPruning$1(QueryPlan.scala:167)\r\n\tat org.apache.spark.sql.catalyst.plans.QueryPlan.$anonfun$mapExpressions$1(QueryPlan.scala:208)\r\n\tat org.apache.spark.sql.catalyst.trees.CurrentOrigin$.withOrigin(origin.scala:76)\r\n\tat org.apache.spark.sql.catalyst.plans.QueryPlan.transformExpression$1(QueryPlan.scala:208)\r\n\tat org.apache.spark.sql.catalyst.plans.QueryPlan.recursiveTransform$1(QueryPlan.scala:219)\r\n\tat org.apache.spark.sql.catalyst.plans.QueryPlan.$anonfun$mapExpressions$3(QueryPlan.scala:224)\r\n\tat scala.collection.TraversableLike.$anonfun$map$1(TraversableLike.scala:286)\r\n\tat scala.collection.mutable.ResizableArray.foreach(ResizableArray.scala:62)\r\n\tat scala.collection.mutable.ResizableArray.foreach$(ResizableArray.scala:55)\r\n\tat scala.collection.mutable.ArrayBuffer.foreach(ArrayBuffer.scala:49)\r\n\tat scala.collection.TraversableLike.map(TraversableLike.scala:286)\r\n\tat scala.collection.TraversableLike.map$(TraversableLike.scala:279)\r\n\tat scala.collection.AbstractTraversable.map(Traversable.scala:108)\r\n\tat org.apache.spark.sql.catalyst.plans.QueryPlan.recursiveTransform$1(QueryPlan.scala:224)\r\n\tat org.apache.spark.sql.catalyst.plans.QueryPlan.$anonfun$mapExpressions$4(QueryPlan.scala:229)\r\n\tat org.apache.spark.sql.catalyst.trees.TreeNode.mapProductIterator(TreeNode.scala:304)\r\n\tat org.apache.spark.sql.catalyst.plans.QueryPlan.mapExpressions(QueryPlan.scala:229)\r\n\tat org.apache.spark.sql.catalyst.plans.QueryPlan.transformExpressionsDownWithPruning(QueryPlan.scala:167)\r\n\tat org.apache.spark.sql.catalyst.plans.QueryPlan.transformExpressionsWithPruning(QueryPlan.scala:138)\r\n\tat org.apache.spark.sql.catalyst.plans.logical.AnalysisHelper$$anonfun$resolveExpressionsWithPruning$1.applyOrElse(AnalysisHelper.scala:245)\r\n\tat org.apache.spark.sql.catalyst.plans.logical.AnalysisHelper$$anonfun$resolveExpressionsWithPruning$1.applyOrElse(AnalysisHelper.scala:244)\r\n\tat org.apache.spark.sql.catalyst.plans.logical.AnalysisHelper.$anonfun$resolveOperatorsDownWithPruning$2(AnalysisHelper.scala:170)\r\n\tat org.apache.spark.sql.catalyst.trees.CurrentOrigin$.withOrigin(origin.scala:76)\r\n\tat org.apache.spark.sql.catalyst.plans.logical.AnalysisHelper.$anonfun$resolveOperatorsDownWithPruning$1(AnalysisHelper.scala:170)\r\n\tat org.apache.spark.sql.catalyst.plans.logical.AnalysisHelper$.allowInvokingTransformsInAnalyzer(AnalysisHelper.scala:323)\r\n\tat org.apache.spark.sql.catalyst.plans.logical.AnalysisHelper.resolveOperatorsDownWithPruning(AnalysisHelper.scala:168)\r\n\tat org.apache.spark.sql.catalyst.plans.logical.AnalysisHelper.resolveOperatorsDownWithPruning$(AnalysisHelper.scala:164)\r\n\tat org.apache.spark.sql.catalyst.plans.logical.LogicalPlan.resolveOperatorsDownWithPruning(LogicalPlan.scala:32)\r\n\tat org.apache.spark.sql.catalyst.plans.logical.AnalysisHelper.resolveOperatorsWithPruning(AnalysisHelper.scala:99)\r\n\tat org.apache.spark.sql.catalyst.plans.logical.AnalysisHelper.resolveOperatorsWithPruning$(AnalysisHelper.scala:96)\r\n\tat org.apache.spark.sql.catalyst.plans.logical.LogicalPlan.resolveOperatorsWithPruning(LogicalPlan.scala:32)\r\n\tat org.apache.spark.sql.catalyst.plans.logical.AnalysisHelper.resolveExpressionsWithPruning(AnalysisHelper.scala:244)\r\n\tat org.apache.spark.sql.catalyst.plans.logical.AnalysisHelper.resolveExpressionsWithPruning$(AnalysisHelper.scala:242)\r\n\tat org.apache.spark.sql.catalyst.plans.logical.LogicalPlan.resolveExpressionsWithPruning(LogicalPlan.scala:32)\r\n\tat org.apache.spark.sql.catalyst.analysis.Analyzer$LookupFunctions$.apply(Analyzer.scala:2000)\r\n\tat org.apache.spark.sql.catalyst.analysis.Analyzer$LookupFunctions$.apply(Analyzer.scala:1996)\r\n\tat org.apache.spark.sql.catalyst.rules.RuleExecutor.$anonfun$execute$2(RuleExecutor.scala:222)\r\n\tat scala.collection.IndexedSeqOptimized.foldLeft(IndexedSeqOptimized.scala:60)\r\n\tat scala.collection.IndexedSeqOptimized.foldLeft$(IndexedSeqOptimized.scala:68)\r\n\tat scala.collection.mutable.WrappedArray.foldLeft(WrappedArray.scala:38)\r\n\tat org.apache.spark.sql.catalyst.rules.RuleExecutor.$anonfun$execute$1(RuleExecutor.scala:219)\r\n\tat org.apache.spark.sql.catalyst.rules.RuleExecutor.$anonfun$execute$1$adapted(RuleExecutor.scala:211)\r\n\tat scala.collection.immutable.List.foreach(List.scala:431)\r\n\tat org.apache.spark.sql.catalyst.rules.RuleExecutor.execute(RuleExecutor.scala:211)\r\n\tat org.apache.spark.sql.catalyst.analysis.Analyzer.org$apache$spark$sql$catalyst$analysis$Analyzer$$executeSameContext(Analyzer.scala:226)\r\n\tat org.apache.spark.sql.catalyst.analysis.Analyzer.$anonfun$execute$1(Analyzer.scala:222)\r\n\tat org.apache.spark.sql.catalyst.analysis.AnalysisContext$.withNewAnalysisContext(Analyzer.scala:173)\r\n\tat org.apache.spark.sql.catalyst.analysis.Analyzer.execute(Analyzer.scala:222)\r\n\tat org.apache.spark.sql.catalyst.analysis.Analyzer.execute(Analyzer.scala:188)\r\n\tat org.apache.spark.sql.catalyst.rules.RuleExecutor.$anonfun$executeAndTrack$1(RuleExecutor.scala:182)\r\n\tat org.apache.spark.sql.catalyst.QueryPlanningTracker$.withTracker(QueryPlanningTracker.scala:89)\r\n\tat org.apache.spark.sql.catalyst.rules.RuleExecutor.executeAndTrack(RuleExecutor.scala:182)\r\n\tat org.apache.spark.sql.catalyst.analysis.Analyzer.$anonfun$executeAndCheck$1(Analyzer.scala:209)\r\n\tat org.apache.spark.sql.catalyst.plans.logical.AnalysisHelper$.markInAnalyzer(AnalysisHelper.scala:330)\r\n\tat org.apache.spark.sql.catalyst.analysis.Analyzer.executeAndCheck(Analyzer.scala:208)\r\n\tat org.apache.spark.sql.execution.QueryExecution.$anonfun$analyzed$1(QueryExecution.scala:77)\r\n\tat org.apache.spark.sql.catalyst.QueryPlanningTracker.measurePhase(QueryPlanningTracker.scala:138)\r\n\tat org.apache.spark.sql.execution.QueryExecution.$anonfun$executePhase$2(QueryExecution.scala:219)\r\n\tat org.apache.spark.sql.execution.QueryExecution$.withInternalError(QueryExecution.scala:546)\r\n\tat org.apache.spark.sql.execution.QueryExecution.$anonfun$executePhase$1(QueryExecution.scala:219)\r\n\tat org.apache.spark.sql.SparkSession.withActive(SparkSession.scala:900)\r\n\tat org.apache.spark.sql.execution.QueryExecution.executePhase(QueryExecution.scala:218)\r\n\tat org.apache.spark.sql.execution.QueryExecution.analyzed$lzycompute(QueryExecution.scala:77)\r\n\tat org.apache.spark.sql.execution.QueryExecution.analyzed(QueryExecution.scala:74)\r\n\tat org.apache.spark.sql.execution.QueryExecution.assertAnalyzed(QueryExecution.scala:66)\r\n\tat org.apache.spark.sql.Dataset$.$anonfun$ofRows$1(Dataset.scala:91)\r\n\tat org.apache.spark.sql.SparkSession.withActive(SparkSession.scala:900)\r\n\tat org.apache.spark.sql.Dataset$.ofRows(Dataset.scala:89)\r\n\tat org.apache.spark.sql.Dataset.withPlan(Dataset.scala:4363)\r\n\tat org.apache.spark.sql.Dataset.select(Dataset.scala:1541)\r\n\tat org.apache.spark.sql.Dataset.withColumns(Dataset.scala:2782)\r\n\tat org.apache.spark.sql.Dataset.withColumn(Dataset.scala:2721)\r\n\tat sun.reflect.GeneratedMethodAccessor143.invoke(Unknown Source)\r\n\tat sun.reflect.DelegatingMethodAccessorImpl.invoke(DelegatingMethodAccessorImpl.java:43)\r\n\tat java.lang.reflect.Method.invoke(Method.java:498)\r\n\tat py4j.reflection.MethodInvoker.invoke(MethodInvoker.java:244)\r\n\tat py4j.reflection.ReflectionEngine.invoke(ReflectionEngine.java:374)\r\n\tat py4j.Gateway.invoke(Gateway.java:282)\r\n\tat py4j.commands.AbstractCommand.invokeMethod(AbstractCommand.java:132)\r\n\tat py4j.commands.CallCommand.execute(CallCommand.java:79)\r\n\tat py4j.ClientServerConnection.waitForCommands(ClientServerConnection.java:182)\r\n\tat py4j.ClientServerConnection.run(ClientServerConnection.java:106)\r\n\tat java.lang.Thread.run(Thread.java:748)\r\nCaused by: java.io.FileNotFoundException: java.io.FileNotFoundException: HADOOP_HOME and hadoop.home.dir are unset. -see https://wiki.apache.org/hadoop/WindowsProblems\r\n\tat org.apache.hadoop.util.Shell.fileNotFoundException(Shell.java:547)\r\n\tat org.apache.hadoop.util.Shell.getHadoopHomeDir(Shell.java:568)\r\n\tat org.apache.hadoop.util.Shell.getQualifiedBin(Shell.java:591)\r\n\tat org.apache.hadoop.util.Shell.<clinit>(Shell.java:688)\r\n\tat org.apache.hadoop.util.StringUtils.<clinit>(StringUtils.java:79)\r\n\tat org.apache.hadoop.conf.Configuration.getTimeDurationHelper(Configuration.java:1907)\r\n\tat org.apache.hadoop.conf.Configuration.getTimeDuration(Configuration.java:1867)\r\n\tat org.apache.hadoop.conf.Configuration.getTimeDuration(Configuration.java:1840)\r\n\tat org.apache.hadoop.util.ShutdownHookManager.getShutdownTimeout(ShutdownHookManager.java:183)\r\n\tat org.apache.hadoop.util.ShutdownHookManager$HookEntry.<init>(ShutdownHookManager.java:207)\r\n\tat org.apache.hadoop.util.ShutdownHookManager.addShutdownHook(ShutdownHookManager.java:304)\r\n\tat org.apache.spark.util.SparkShutdownHookManager.install(ShutdownHookManager.scala:181)\r\n\tat org.apache.spark.util.ShutdownHookManager$.shutdownHooks$lzycompute(ShutdownHookManager.scala:50)\r\n\tat org.apache.spark.util.ShutdownHookManager$.shutdownHooks(ShutdownHookManager.scala:48)\r\n\tat org.apache.spark.util.ShutdownHookManager$.addShutdownHook(ShutdownHookManager.scala:153)\r\n\tat org.apache.spark.util.ShutdownHookManager$.<init>(ShutdownHookManager.scala:58)\r\n\tat org.apache.spark.util.ShutdownHookManager$.<clinit>(ShutdownHookManager.scala)\r\n\tat org.apache.spark.util.Utils$.createTempDir(Utils.scala:242)\r\n\tat org.apache.spark.util.SparkFileUtils.createTempDir(SparkFileUtils.scala:103)\r\n\tat org.apache.spark.util.SparkFileUtils.createTempDir$(SparkFileUtils.scala:102)\r\n\tat org.apache.spark.util.Utils$.createTempDir(Utils.scala:94)\r\n\tat org.apache.spark.deploy.SparkSubmit.prepareSubmitEnvironment(SparkSubmit.scala:372)\r\n\tat org.apache.spark.deploy.SparkSubmit.org$apache$spark$deploy$SparkSubmit$$runMain(SparkSubmit.scala:964)\r\n\tat org.apache.spark.deploy.SparkSubmit.doRunMain$1(SparkSubmit.scala:194)\r\n\tat org.apache.spark.deploy.SparkSubmit.submit(SparkSubmit.scala:217)\r\n\tat org.apache.spark.deploy.SparkSubmit.doSubmit(SparkSubmit.scala:91)\r\n\tat org.apache.spark.deploy.SparkSubmit$$anon$2.doSubmit(SparkSubmit.scala:1120)\r\n\tat org.apache.spark.deploy.SparkSubmit$.main(SparkSubmit.scala:1129)\r\n\tat org.apache.spark.deploy.SparkSubmit.main(SparkSubmit.scala)\r\nCaused by: java.io.FileNotFoundException: HADOOP_HOME and hadoop.home.dir are unset.\r\n\tat org.apache.hadoop.util.Shell.checkHadoopHomeInner(Shell.java:467)\r\n\tat org.apache.hadoop.util.Shell.checkHadoopHome(Shell.java:438)\r\n\tat org.apache.hadoop.util.Shell.<clinit>(Shell.java:515)\r\n\t... 25 more\r\n",
     "output_type": "error",
     "traceback": [
      "\u001b[1;31m---------------------------------------------------------------------------\u001b[0m",
      "\u001b[1;31mPy4JJavaError\u001b[0m                             Traceback (most recent call last)",
      "Cell \u001b[1;32mIn[54], line 7\u001b[0m\n\u001b[0;32m      3\u001b[0m user_features \u001b[38;5;241m=\u001b[39m loans_df\u001b[38;5;241m.\u001b[39mselect(\u001b[38;5;124m\"\u001b[39m\u001b[38;5;124mLoanIdFormat\u001b[39m\u001b[38;5;124m\"\u001b[39m, \u001b[38;5;124m\"\u001b[39m\u001b[38;5;124muserId\u001b[39m\u001b[38;5;124m\"\u001b[39m)\u001b[38;5;241m.\u001b[39mwithColumnRenamed(\u001b[38;5;124m\"\u001b[39m\u001b[38;5;124mid\u001b[39m\u001b[38;5;124m\"\u001b[39m, \u001b[38;5;124m\"\u001b[39m\u001b[38;5;124muser_id\u001b[39m\u001b[38;5;124m\"\u001b[39m)\n\u001b[0;32m      5\u001b[0m user_similarity \u001b[38;5;241m=\u001b[39m user_features\u001b[38;5;241m.\u001b[39malias(\u001b[38;5;124m\"\u001b[39m\u001b[38;5;124mu1\u001b[39m\u001b[38;5;124m\"\u001b[39m)\u001b[38;5;241m.\u001b[39mcrossJoin(user_features\u001b[38;5;241m.\u001b[39malias(\u001b[38;5;124m\"\u001b[39m\u001b[38;5;124mu2\u001b[39m\u001b[38;5;124m\"\u001b[39m))\n\u001b[1;32m----> 7\u001b[0m user_similarity \u001b[38;5;241m=\u001b[39m \u001b[43muser_similarity\u001b[49m\u001b[38;5;241;43m.\u001b[39;49m\u001b[43mwithColumn\u001b[49m\u001b[43m(\u001b[49m\n\u001b[0;32m      8\u001b[0m \u001b[43m    \u001b[49m\u001b[38;5;124;43m\"\u001b[39;49m\u001b[38;5;124;43mcosine_similarity\u001b[39;49m\u001b[38;5;124;43m\"\u001b[39;49m\u001b[43m,\u001b[49m\n\u001b[0;32m      9\u001b[0m \u001b[43m   \u001b[49m\u001b[43mexpr\u001b[49m\u001b[43m(\u001b[49m\u001b[38;5;124;43m\"\u001b[39;49m\u001b[38;5;124;43mdot(u1.normalized_features, u2.normalized_features)\u001b[39;49m\u001b[38;5;124;43m\"\u001b[39;49m\u001b[43m)\u001b[49m\n\u001b[0;32m     10\u001b[0m \u001b[43m)\u001b[49m\n",
      "File \u001b[1;32m~\\AppData\\Local\\Programs\\Python\\Python312\\Lib\\site-packages\\pyspark\\sql\\dataframe.py:5170\u001b[0m, in \u001b[0;36mDataFrame.withColumn\u001b[1;34m(self, colName, col)\u001b[0m\n\u001b[0;32m   5165\u001b[0m \u001b[38;5;28;01mif\u001b[39;00m \u001b[38;5;129;01mnot\u001b[39;00m \u001b[38;5;28misinstance\u001b[39m(col, Column):\n\u001b[0;32m   5166\u001b[0m     \u001b[38;5;28;01mraise\u001b[39;00m PySparkTypeError(\n\u001b[0;32m   5167\u001b[0m         error_class\u001b[38;5;241m=\u001b[39m\u001b[38;5;124m\"\u001b[39m\u001b[38;5;124mNOT_COLUMN\u001b[39m\u001b[38;5;124m\"\u001b[39m,\n\u001b[0;32m   5168\u001b[0m         message_parameters\u001b[38;5;241m=\u001b[39m{\u001b[38;5;124m\"\u001b[39m\u001b[38;5;124marg_name\u001b[39m\u001b[38;5;124m\"\u001b[39m: \u001b[38;5;124m\"\u001b[39m\u001b[38;5;124mcol\u001b[39m\u001b[38;5;124m\"\u001b[39m, \u001b[38;5;124m\"\u001b[39m\u001b[38;5;124marg_type\u001b[39m\u001b[38;5;124m\"\u001b[39m: \u001b[38;5;28mtype\u001b[39m(col)\u001b[38;5;241m.\u001b[39m\u001b[38;5;18m__name__\u001b[39m},\n\u001b[0;32m   5169\u001b[0m     )\n\u001b[1;32m-> 5170\u001b[0m \u001b[38;5;28;01mreturn\u001b[39;00m DataFrame(\u001b[38;5;28;43mself\u001b[39;49m\u001b[38;5;241;43m.\u001b[39;49m\u001b[43m_jdf\u001b[49m\u001b[38;5;241;43m.\u001b[39;49m\u001b[43mwithColumn\u001b[49m\u001b[43m(\u001b[49m\u001b[43mcolName\u001b[49m\u001b[43m,\u001b[49m\u001b[43m \u001b[49m\u001b[43mcol\u001b[49m\u001b[38;5;241;43m.\u001b[39;49m\u001b[43m_jc\u001b[49m\u001b[43m)\u001b[49m, \u001b[38;5;28mself\u001b[39m\u001b[38;5;241m.\u001b[39msparkSession)\n",
      "File \u001b[1;32m~\\AppData\\Local\\Programs\\Python\\Python312\\Lib\\site-packages\\py4j\\java_gateway.py:1322\u001b[0m, in \u001b[0;36mJavaMember.__call__\u001b[1;34m(self, *args)\u001b[0m\n\u001b[0;32m   1316\u001b[0m command \u001b[38;5;241m=\u001b[39m proto\u001b[38;5;241m.\u001b[39mCALL_COMMAND_NAME \u001b[38;5;241m+\u001b[39m\\\n\u001b[0;32m   1317\u001b[0m     \u001b[38;5;28mself\u001b[39m\u001b[38;5;241m.\u001b[39mcommand_header \u001b[38;5;241m+\u001b[39m\\\n\u001b[0;32m   1318\u001b[0m     args_command \u001b[38;5;241m+\u001b[39m\\\n\u001b[0;32m   1319\u001b[0m     proto\u001b[38;5;241m.\u001b[39mEND_COMMAND_PART\n\u001b[0;32m   1321\u001b[0m answer \u001b[38;5;241m=\u001b[39m \u001b[38;5;28mself\u001b[39m\u001b[38;5;241m.\u001b[39mgateway_client\u001b[38;5;241m.\u001b[39msend_command(command)\n\u001b[1;32m-> 1322\u001b[0m return_value \u001b[38;5;241m=\u001b[39m \u001b[43mget_return_value\u001b[49m\u001b[43m(\u001b[49m\n\u001b[0;32m   1323\u001b[0m \u001b[43m    \u001b[49m\u001b[43manswer\u001b[49m\u001b[43m,\u001b[49m\u001b[43m \u001b[49m\u001b[38;5;28;43mself\u001b[39;49m\u001b[38;5;241;43m.\u001b[39;49m\u001b[43mgateway_client\u001b[49m\u001b[43m,\u001b[49m\u001b[43m \u001b[49m\u001b[38;5;28;43mself\u001b[39;49m\u001b[38;5;241;43m.\u001b[39;49m\u001b[43mtarget_id\u001b[49m\u001b[43m,\u001b[49m\u001b[43m \u001b[49m\u001b[38;5;28;43mself\u001b[39;49m\u001b[38;5;241;43m.\u001b[39;49m\u001b[43mname\u001b[49m\u001b[43m)\u001b[49m\n\u001b[0;32m   1325\u001b[0m \u001b[38;5;28;01mfor\u001b[39;00m temp_arg \u001b[38;5;129;01min\u001b[39;00m temp_args:\n\u001b[0;32m   1326\u001b[0m     \u001b[38;5;28;01mif\u001b[39;00m \u001b[38;5;28mhasattr\u001b[39m(temp_arg, \u001b[38;5;124m\"\u001b[39m\u001b[38;5;124m_detach\u001b[39m\u001b[38;5;124m\"\u001b[39m):\n",
      "File \u001b[1;32m~\\AppData\\Local\\Programs\\Python\\Python312\\Lib\\site-packages\\pyspark\\errors\\exceptions\\captured.py:179\u001b[0m, in \u001b[0;36mcapture_sql_exception.<locals>.deco\u001b[1;34m(*a, **kw)\u001b[0m\n\u001b[0;32m    177\u001b[0m \u001b[38;5;28;01mdef\u001b[39;00m \u001b[38;5;21mdeco\u001b[39m(\u001b[38;5;241m*\u001b[39ma: Any, \u001b[38;5;241m*\u001b[39m\u001b[38;5;241m*\u001b[39mkw: Any) \u001b[38;5;241m-\u001b[39m\u001b[38;5;241m>\u001b[39m Any:\n\u001b[0;32m    178\u001b[0m     \u001b[38;5;28;01mtry\u001b[39;00m:\n\u001b[1;32m--> 179\u001b[0m         \u001b[38;5;28;01mreturn\u001b[39;00m \u001b[43mf\u001b[49m\u001b[43m(\u001b[49m\u001b[38;5;241;43m*\u001b[39;49m\u001b[43ma\u001b[49m\u001b[43m,\u001b[49m\u001b[43m \u001b[49m\u001b[38;5;241;43m*\u001b[39;49m\u001b[38;5;241;43m*\u001b[39;49m\u001b[43mkw\u001b[49m\u001b[43m)\u001b[49m\n\u001b[0;32m    180\u001b[0m     \u001b[38;5;28;01mexcept\u001b[39;00m Py4JJavaError \u001b[38;5;28;01mas\u001b[39;00m e:\n\u001b[0;32m    181\u001b[0m         converted \u001b[38;5;241m=\u001b[39m convert_exception(e\u001b[38;5;241m.\u001b[39mjava_exception)\n",
      "File \u001b[1;32m~\\AppData\\Local\\Programs\\Python\\Python312\\Lib\\site-packages\\py4j\\protocol.py:326\u001b[0m, in \u001b[0;36mget_return_value\u001b[1;34m(answer, gateway_client, target_id, name)\u001b[0m\n\u001b[0;32m    324\u001b[0m value \u001b[38;5;241m=\u001b[39m OUTPUT_CONVERTER[\u001b[38;5;28mtype\u001b[39m](answer[\u001b[38;5;241m2\u001b[39m:], gateway_client)\n\u001b[0;32m    325\u001b[0m \u001b[38;5;28;01mif\u001b[39;00m answer[\u001b[38;5;241m1\u001b[39m] \u001b[38;5;241m==\u001b[39m REFERENCE_TYPE:\n\u001b[1;32m--> 326\u001b[0m     \u001b[38;5;28;01mraise\u001b[39;00m Py4JJavaError(\n\u001b[0;32m    327\u001b[0m         \u001b[38;5;124m\"\u001b[39m\u001b[38;5;124mAn error occurred while calling \u001b[39m\u001b[38;5;132;01m{0}\u001b[39;00m\u001b[38;5;132;01m{1}\u001b[39;00m\u001b[38;5;132;01m{2}\u001b[39;00m\u001b[38;5;124m.\u001b[39m\u001b[38;5;130;01m\\n\u001b[39;00m\u001b[38;5;124m\"\u001b[39m\u001b[38;5;241m.\u001b[39m\n\u001b[0;32m    328\u001b[0m         \u001b[38;5;28mformat\u001b[39m(target_id, \u001b[38;5;124m\"\u001b[39m\u001b[38;5;124m.\u001b[39m\u001b[38;5;124m\"\u001b[39m, name), value)\n\u001b[0;32m    329\u001b[0m \u001b[38;5;28;01melse\u001b[39;00m:\n\u001b[0;32m    330\u001b[0m     \u001b[38;5;28;01mraise\u001b[39;00m Py4JError(\n\u001b[0;32m    331\u001b[0m         \u001b[38;5;124m\"\u001b[39m\u001b[38;5;124mAn error occurred while calling \u001b[39m\u001b[38;5;132;01m{0}\u001b[39;00m\u001b[38;5;132;01m{1}\u001b[39;00m\u001b[38;5;132;01m{2}\u001b[39;00m\u001b[38;5;124m. Trace:\u001b[39m\u001b[38;5;130;01m\\n\u001b[39;00m\u001b[38;5;132;01m{3}\u001b[39;00m\u001b[38;5;130;01m\\n\u001b[39;00m\u001b[38;5;124m\"\u001b[39m\u001b[38;5;241m.\u001b[39m\n\u001b[0;32m    332\u001b[0m         \u001b[38;5;28mformat\u001b[39m(target_id, \u001b[38;5;124m\"\u001b[39m\u001b[38;5;124m.\u001b[39m\u001b[38;5;124m\"\u001b[39m, name, value))\n",
      "\u001b[1;31mPy4JJavaError\u001b[0m: An error occurred while calling o3480.withColumn.\n: java.lang.RuntimeException: java.io.FileNotFoundException: java.io.FileNotFoundException: HADOOP_HOME and hadoop.home.dir are unset. -see https://wiki.apache.org/hadoop/WindowsProblems\r\n\tat org.apache.hadoop.util.Shell.getWinUtilsPath(Shell.java:735)\r\n\tat org.apache.hadoop.util.Shell.getSetPermissionCommand(Shell.java:270)\r\n\tat org.apache.hadoop.util.Shell.getSetPermissionCommand(Shell.java:286)\r\n\tat org.apache.hadoop.fs.RawLocalFileSystem.setPermission(RawLocalFileSystem.java:978)\r\n\tat org.apache.hadoop.fs.RawLocalFileSystem.mkOneDirWithMode(RawLocalFileSystem.java:660)\r\n\tat org.apache.hadoop.fs.RawLocalFileSystem.mkdirsWithOptionalPermission(RawLocalFileSystem.java:700)\r\n\tat org.apache.hadoop.fs.RawLocalFileSystem.mkdirs(RawLocalFileSystem.java:672)\r\n\tat org.apache.hadoop.fs.RawLocalFileSystem.mkdirsWithOptionalPermission(RawLocalFileSystem.java:699)\r\n\tat org.apache.hadoop.fs.RawLocalFileSystem.mkdirs(RawLocalFileSystem.java:672)\r\n\tat org.apache.hadoop.fs.RawLocalFileSystem.mkdirsWithOptionalPermission(RawLocalFileSystem.java:699)\r\n\tat org.apache.hadoop.fs.RawLocalFileSystem.mkdirs(RawLocalFileSystem.java:672)\r\n\tat org.apache.hadoop.fs.ChecksumFileSystem.mkdirs(ChecksumFileSystem.java:788)\r\n\tat org.apache.spark.sql.catalyst.catalog.InMemoryCatalog.liftedTree1$1(InMemoryCatalog.scala:122)\r\n\tat org.apache.spark.sql.catalyst.catalog.InMemoryCatalog.createDatabase(InMemoryCatalog.scala:119)\r\n\tat org.apache.spark.sql.internal.SharedState.externalCatalog$lzycompute(SharedState.scala:159)\r\n\tat org.apache.spark.sql.internal.SharedState.externalCatalog(SharedState.scala:140)\r\n\tat org.apache.spark.sql.internal.BaseSessionStateBuilder.$anonfun$catalog$1(BaseSessionStateBuilder.scala:154)\r\n\tat org.apache.spark.sql.catalyst.catalog.SessionCatalog.externalCatalog$lzycompute(SessionCatalog.scala:122)\r\n\tat org.apache.spark.sql.catalyst.catalog.SessionCatalog.externalCatalog(SessionCatalog.scala:122)\r\n\tat org.apache.spark.sql.catalyst.catalog.SessionCatalog.databaseExists(SessionCatalog.scala:319)\r\n\tat org.apache.spark.sql.catalyst.catalog.SessionCatalog.isPersistentFunction(SessionCatalog.scala:1579)\r\n\tat org.apache.spark.sql.execution.datasources.v2.V2SessionCatalog.functionExists(V2SessionCatalog.scala:367)\r\n\tat org.apache.spark.sql.catalyst.analysis.Analyzer$LookupFunctions$$anonfun$apply$20.applyOrElse(Analyzer.scala:2009)\r\n\tat org.apache.spark.sql.catalyst.analysis.Analyzer$LookupFunctions$$anonfun$apply$20.applyOrElse(Analyzer.scala:2000)\r\n\tat org.apache.spark.sql.catalyst.trees.TreeNode.$anonfun$transformDownWithPruning$1(TreeNode.scala:461)\r\n\tat org.apache.spark.sql.catalyst.trees.CurrentOrigin$.withOrigin(origin.scala:76)\r\n\tat org.apache.spark.sql.catalyst.trees.TreeNode.transformDownWithPruning(TreeNode.scala:461)\r\n\tat org.apache.spark.sql.catalyst.trees.TreeNode.$anonfun$transformDownWithPruning$3(TreeNode.scala:466)\r\n\tat org.apache.spark.sql.catalyst.trees.UnaryLike.mapChildren(TreeNode.scala:1215)\r\n\tat org.apache.spark.sql.catalyst.trees.UnaryLike.mapChildren$(TreeNode.scala:1214)\r\n\tat org.apache.spark.sql.catalyst.expressions.UnaryExpression.mapChildren(Expression.scala:533)\r\n\tat org.apache.spark.sql.catalyst.trees.TreeNode.transformDownWithPruning(TreeNode.scala:466)\r\n\tat org.apache.spark.sql.catalyst.plans.QueryPlan.$anonfun$transformExpressionsDownWithPruning$1(QueryPlan.scala:167)\r\n\tat org.apache.spark.sql.catalyst.plans.QueryPlan.$anonfun$mapExpressions$1(QueryPlan.scala:208)\r\n\tat org.apache.spark.sql.catalyst.trees.CurrentOrigin$.withOrigin(origin.scala:76)\r\n\tat org.apache.spark.sql.catalyst.plans.QueryPlan.transformExpression$1(QueryPlan.scala:208)\r\n\tat org.apache.spark.sql.catalyst.plans.QueryPlan.recursiveTransform$1(QueryPlan.scala:219)\r\n\tat org.apache.spark.sql.catalyst.plans.QueryPlan.$anonfun$mapExpressions$3(QueryPlan.scala:224)\r\n\tat scala.collection.TraversableLike.$anonfun$map$1(TraversableLike.scala:286)\r\n\tat scala.collection.mutable.ResizableArray.foreach(ResizableArray.scala:62)\r\n\tat scala.collection.mutable.ResizableArray.foreach$(ResizableArray.scala:55)\r\n\tat scala.collection.mutable.ArrayBuffer.foreach(ArrayBuffer.scala:49)\r\n\tat scala.collection.TraversableLike.map(TraversableLike.scala:286)\r\n\tat scala.collection.TraversableLike.map$(TraversableLike.scala:279)\r\n\tat scala.collection.AbstractTraversable.map(Traversable.scala:108)\r\n\tat org.apache.spark.sql.catalyst.plans.QueryPlan.recursiveTransform$1(QueryPlan.scala:224)\r\n\tat org.apache.spark.sql.catalyst.plans.QueryPlan.$anonfun$mapExpressions$4(QueryPlan.scala:229)\r\n\tat org.apache.spark.sql.catalyst.trees.TreeNode.mapProductIterator(TreeNode.scala:304)\r\n\tat org.apache.spark.sql.catalyst.plans.QueryPlan.mapExpressions(QueryPlan.scala:229)\r\n\tat org.apache.spark.sql.catalyst.plans.QueryPlan.transformExpressionsDownWithPruning(QueryPlan.scala:167)\r\n\tat org.apache.spark.sql.catalyst.plans.QueryPlan.transformExpressionsWithPruning(QueryPlan.scala:138)\r\n\tat org.apache.spark.sql.catalyst.plans.logical.AnalysisHelper$$anonfun$resolveExpressionsWithPruning$1.applyOrElse(AnalysisHelper.scala:245)\r\n\tat org.apache.spark.sql.catalyst.plans.logical.AnalysisHelper$$anonfun$resolveExpressionsWithPruning$1.applyOrElse(AnalysisHelper.scala:244)\r\n\tat org.apache.spark.sql.catalyst.plans.logical.AnalysisHelper.$anonfun$resolveOperatorsDownWithPruning$2(AnalysisHelper.scala:170)\r\n\tat org.apache.spark.sql.catalyst.trees.CurrentOrigin$.withOrigin(origin.scala:76)\r\n\tat org.apache.spark.sql.catalyst.plans.logical.AnalysisHelper.$anonfun$resolveOperatorsDownWithPruning$1(AnalysisHelper.scala:170)\r\n\tat org.apache.spark.sql.catalyst.plans.logical.AnalysisHelper$.allowInvokingTransformsInAnalyzer(AnalysisHelper.scala:323)\r\n\tat org.apache.spark.sql.catalyst.plans.logical.AnalysisHelper.resolveOperatorsDownWithPruning(AnalysisHelper.scala:168)\r\n\tat org.apache.spark.sql.catalyst.plans.logical.AnalysisHelper.resolveOperatorsDownWithPruning$(AnalysisHelper.scala:164)\r\n\tat org.apache.spark.sql.catalyst.plans.logical.LogicalPlan.resolveOperatorsDownWithPruning(LogicalPlan.scala:32)\r\n\tat org.apache.spark.sql.catalyst.plans.logical.AnalysisHelper.resolveOperatorsWithPruning(AnalysisHelper.scala:99)\r\n\tat org.apache.spark.sql.catalyst.plans.logical.AnalysisHelper.resolveOperatorsWithPruning$(AnalysisHelper.scala:96)\r\n\tat org.apache.spark.sql.catalyst.plans.logical.LogicalPlan.resolveOperatorsWithPruning(LogicalPlan.scala:32)\r\n\tat org.apache.spark.sql.catalyst.plans.logical.AnalysisHelper.resolveExpressionsWithPruning(AnalysisHelper.scala:244)\r\n\tat org.apache.spark.sql.catalyst.plans.logical.AnalysisHelper.resolveExpressionsWithPruning$(AnalysisHelper.scala:242)\r\n\tat org.apache.spark.sql.catalyst.plans.logical.LogicalPlan.resolveExpressionsWithPruning(LogicalPlan.scala:32)\r\n\tat org.apache.spark.sql.catalyst.analysis.Analyzer$LookupFunctions$.apply(Analyzer.scala:2000)\r\n\tat org.apache.spark.sql.catalyst.analysis.Analyzer$LookupFunctions$.apply(Analyzer.scala:1996)\r\n\tat org.apache.spark.sql.catalyst.rules.RuleExecutor.$anonfun$execute$2(RuleExecutor.scala:222)\r\n\tat scala.collection.IndexedSeqOptimized.foldLeft(IndexedSeqOptimized.scala:60)\r\n\tat scala.collection.IndexedSeqOptimized.foldLeft$(IndexedSeqOptimized.scala:68)\r\n\tat scala.collection.mutable.WrappedArray.foldLeft(WrappedArray.scala:38)\r\n\tat org.apache.spark.sql.catalyst.rules.RuleExecutor.$anonfun$execute$1(RuleExecutor.scala:219)\r\n\tat org.apache.spark.sql.catalyst.rules.RuleExecutor.$anonfun$execute$1$adapted(RuleExecutor.scala:211)\r\n\tat scala.collection.immutable.List.foreach(List.scala:431)\r\n\tat org.apache.spark.sql.catalyst.rules.RuleExecutor.execute(RuleExecutor.scala:211)\r\n\tat org.apache.spark.sql.catalyst.analysis.Analyzer.org$apache$spark$sql$catalyst$analysis$Analyzer$$executeSameContext(Analyzer.scala:226)\r\n\tat org.apache.spark.sql.catalyst.analysis.Analyzer.$anonfun$execute$1(Analyzer.scala:222)\r\n\tat org.apache.spark.sql.catalyst.analysis.AnalysisContext$.withNewAnalysisContext(Analyzer.scala:173)\r\n\tat org.apache.spark.sql.catalyst.analysis.Analyzer.execute(Analyzer.scala:222)\r\n\tat org.apache.spark.sql.catalyst.analysis.Analyzer.execute(Analyzer.scala:188)\r\n\tat org.apache.spark.sql.catalyst.rules.RuleExecutor.$anonfun$executeAndTrack$1(RuleExecutor.scala:182)\r\n\tat org.apache.spark.sql.catalyst.QueryPlanningTracker$.withTracker(QueryPlanningTracker.scala:89)\r\n\tat org.apache.spark.sql.catalyst.rules.RuleExecutor.executeAndTrack(RuleExecutor.scala:182)\r\n\tat org.apache.spark.sql.catalyst.analysis.Analyzer.$anonfun$executeAndCheck$1(Analyzer.scala:209)\r\n\tat org.apache.spark.sql.catalyst.plans.logical.AnalysisHelper$.markInAnalyzer(AnalysisHelper.scala:330)\r\n\tat org.apache.spark.sql.catalyst.analysis.Analyzer.executeAndCheck(Analyzer.scala:208)\r\n\tat org.apache.spark.sql.execution.QueryExecution.$anonfun$analyzed$1(QueryExecution.scala:77)\r\n\tat org.apache.spark.sql.catalyst.QueryPlanningTracker.measurePhase(QueryPlanningTracker.scala:138)\r\n\tat org.apache.spark.sql.execution.QueryExecution.$anonfun$executePhase$2(QueryExecution.scala:219)\r\n\tat org.apache.spark.sql.execution.QueryExecution$.withInternalError(QueryExecution.scala:546)\r\n\tat org.apache.spark.sql.execution.QueryExecution.$anonfun$executePhase$1(QueryExecution.scala:219)\r\n\tat org.apache.spark.sql.SparkSession.withActive(SparkSession.scala:900)\r\n\tat org.apache.spark.sql.execution.QueryExecution.executePhase(QueryExecution.scala:218)\r\n\tat org.apache.spark.sql.execution.QueryExecution.analyzed$lzycompute(QueryExecution.scala:77)\r\n\tat org.apache.spark.sql.execution.QueryExecution.analyzed(QueryExecution.scala:74)\r\n\tat org.apache.spark.sql.execution.QueryExecution.assertAnalyzed(QueryExecution.scala:66)\r\n\tat org.apache.spark.sql.Dataset$.$anonfun$ofRows$1(Dataset.scala:91)\r\n\tat org.apache.spark.sql.SparkSession.withActive(SparkSession.scala:900)\r\n\tat org.apache.spark.sql.Dataset$.ofRows(Dataset.scala:89)\r\n\tat org.apache.spark.sql.Dataset.withPlan(Dataset.scala:4363)\r\n\tat org.apache.spark.sql.Dataset.select(Dataset.scala:1541)\r\n\tat org.apache.spark.sql.Dataset.withColumns(Dataset.scala:2782)\r\n\tat org.apache.spark.sql.Dataset.withColumn(Dataset.scala:2721)\r\n\tat sun.reflect.GeneratedMethodAccessor143.invoke(Unknown Source)\r\n\tat sun.reflect.DelegatingMethodAccessorImpl.invoke(DelegatingMethodAccessorImpl.java:43)\r\n\tat java.lang.reflect.Method.invoke(Method.java:498)\r\n\tat py4j.reflection.MethodInvoker.invoke(MethodInvoker.java:244)\r\n\tat py4j.reflection.ReflectionEngine.invoke(ReflectionEngine.java:374)\r\n\tat py4j.Gateway.invoke(Gateway.java:282)\r\n\tat py4j.commands.AbstractCommand.invokeMethod(AbstractCommand.java:132)\r\n\tat py4j.commands.CallCommand.execute(CallCommand.java:79)\r\n\tat py4j.ClientServerConnection.waitForCommands(ClientServerConnection.java:182)\r\n\tat py4j.ClientServerConnection.run(ClientServerConnection.java:106)\r\n\tat java.lang.Thread.run(Thread.java:748)\r\nCaused by: java.io.FileNotFoundException: java.io.FileNotFoundException: HADOOP_HOME and hadoop.home.dir are unset. -see https://wiki.apache.org/hadoop/WindowsProblems\r\n\tat org.apache.hadoop.util.Shell.fileNotFoundException(Shell.java:547)\r\n\tat org.apache.hadoop.util.Shell.getHadoopHomeDir(Shell.java:568)\r\n\tat org.apache.hadoop.util.Shell.getQualifiedBin(Shell.java:591)\r\n\tat org.apache.hadoop.util.Shell.<clinit>(Shell.java:688)\r\n\tat org.apache.hadoop.util.StringUtils.<clinit>(StringUtils.java:79)\r\n\tat org.apache.hadoop.conf.Configuration.getTimeDurationHelper(Configuration.java:1907)\r\n\tat org.apache.hadoop.conf.Configuration.getTimeDuration(Configuration.java:1867)\r\n\tat org.apache.hadoop.conf.Configuration.getTimeDuration(Configuration.java:1840)\r\n\tat org.apache.hadoop.util.ShutdownHookManager.getShutdownTimeout(ShutdownHookManager.java:183)\r\n\tat org.apache.hadoop.util.ShutdownHookManager$HookEntry.<init>(ShutdownHookManager.java:207)\r\n\tat org.apache.hadoop.util.ShutdownHookManager.addShutdownHook(ShutdownHookManager.java:304)\r\n\tat org.apache.spark.util.SparkShutdownHookManager.install(ShutdownHookManager.scala:181)\r\n\tat org.apache.spark.util.ShutdownHookManager$.shutdownHooks$lzycompute(ShutdownHookManager.scala:50)\r\n\tat org.apache.spark.util.ShutdownHookManager$.shutdownHooks(ShutdownHookManager.scala:48)\r\n\tat org.apache.spark.util.ShutdownHookManager$.addShutdownHook(ShutdownHookManager.scala:153)\r\n\tat org.apache.spark.util.ShutdownHookManager$.<init>(ShutdownHookManager.scala:58)\r\n\tat org.apache.spark.util.ShutdownHookManager$.<clinit>(ShutdownHookManager.scala)\r\n\tat org.apache.spark.util.Utils$.createTempDir(Utils.scala:242)\r\n\tat org.apache.spark.util.SparkFileUtils.createTempDir(SparkFileUtils.scala:103)\r\n\tat org.apache.spark.util.SparkFileUtils.createTempDir$(SparkFileUtils.scala:102)\r\n\tat org.apache.spark.util.Utils$.createTempDir(Utils.scala:94)\r\n\tat org.apache.spark.deploy.SparkSubmit.prepareSubmitEnvironment(SparkSubmit.scala:372)\r\n\tat org.apache.spark.deploy.SparkSubmit.org$apache$spark$deploy$SparkSubmit$$runMain(SparkSubmit.scala:964)\r\n\tat org.apache.spark.deploy.SparkSubmit.doRunMain$1(SparkSubmit.scala:194)\r\n\tat org.apache.spark.deploy.SparkSubmit.submit(SparkSubmit.scala:217)\r\n\tat org.apache.spark.deploy.SparkSubmit.doSubmit(SparkSubmit.scala:91)\r\n\tat org.apache.spark.deploy.SparkSubmit$$anon$2.doSubmit(SparkSubmit.scala:1120)\r\n\tat org.apache.spark.deploy.SparkSubmit$.main(SparkSubmit.scala:1129)\r\n\tat org.apache.spark.deploy.SparkSubmit.main(SparkSubmit.scala)\r\nCaused by: java.io.FileNotFoundException: HADOOP_HOME and hadoop.home.dir are unset.\r\n\tat org.apache.hadoop.util.Shell.checkHadoopHomeInner(Shell.java:467)\r\n\tat org.apache.hadoop.util.Shell.checkHadoopHome(Shell.java:438)\r\n\tat org.apache.hadoop.util.Shell.<clinit>(Shell.java:515)\r\n\t... 25 more\r\n"
     ]
    }
   ],
   "source": [
    " \n",
    "# Calculate cosine similarity between users using Normalizer and dot product\n",
    "\n",
    "user_features = loans_df.select(\"LoanIdFormat\", \"userId\").withColumnRenamed(\"id\", \"user_id\")\n",
    " \n",
    "user_similarity = user_features.alias(\"u1\").crossJoin(user_features.alias(\"u2\"))\n",
    " \n",
    "user_similarity = user_similarity.withColumn(\n",
    "    \"cosine_similarity\",\n",
    "   expr(\"dot(u1.normalized_features, u2.normalized_features)\")\n",
    ")\n"
   ]
  },
  {
   "cell_type": "code",
   "execution_count": 55,
   "id": "3b28c0d6-5068-49fa-906e-1b2d8ba24fd0",
   "metadata": {},
   "outputs": [],
   "source": [
    "# Centered cosine similarity\n",
    "avg_rating = loans_df.select(mean(\"count\")).collect()[0][0]\n",
    " "
   ]
  },
  {
   "cell_type": "code",
   "execution_count": 58,
   "id": "abc25076-a299-4195-9cd4-dc375335450b",
   "metadata": {},
   "outputs": [
    {
     "ename": "Py4JJavaError",
     "evalue": "An error occurred while calling o3480.withColumn.\n: java.lang.RuntimeException: java.io.FileNotFoundException: java.io.FileNotFoundException: HADOOP_HOME and hadoop.home.dir are unset. -see https://wiki.apache.org/hadoop/WindowsProblems\r\n\tat org.apache.hadoop.util.Shell.getWinUtilsPath(Shell.java:735)\r\n\tat org.apache.hadoop.util.Shell.getSetPermissionCommand(Shell.java:270)\r\n\tat org.apache.hadoop.util.Shell.getSetPermissionCommand(Shell.java:286)\r\n\tat org.apache.hadoop.fs.RawLocalFileSystem.setPermission(RawLocalFileSystem.java:978)\r\n\tat org.apache.hadoop.fs.RawLocalFileSystem.mkOneDirWithMode(RawLocalFileSystem.java:660)\r\n\tat org.apache.hadoop.fs.RawLocalFileSystem.mkdirsWithOptionalPermission(RawLocalFileSystem.java:700)\r\n\tat org.apache.hadoop.fs.RawLocalFileSystem.mkdirs(RawLocalFileSystem.java:672)\r\n\tat org.apache.hadoop.fs.RawLocalFileSystem.mkdirsWithOptionalPermission(RawLocalFileSystem.java:699)\r\n\tat org.apache.hadoop.fs.RawLocalFileSystem.mkdirs(RawLocalFileSystem.java:672)\r\n\tat org.apache.hadoop.fs.ChecksumFileSystem.mkdirs(ChecksumFileSystem.java:788)\r\n\tat org.apache.spark.sql.catalyst.catalog.InMemoryCatalog.liftedTree1$1(InMemoryCatalog.scala:122)\r\n\tat org.apache.spark.sql.catalyst.catalog.InMemoryCatalog.createDatabase(InMemoryCatalog.scala:119)\r\n\tat org.apache.spark.sql.internal.SharedState.externalCatalog$lzycompute(SharedState.scala:159)\r\n\tat org.apache.spark.sql.internal.SharedState.externalCatalog(SharedState.scala:140)\r\n\tat org.apache.spark.sql.internal.BaseSessionStateBuilder.$anonfun$catalog$1(BaseSessionStateBuilder.scala:154)\r\n\tat org.apache.spark.sql.catalyst.catalog.SessionCatalog.externalCatalog$lzycompute(SessionCatalog.scala:122)\r\n\tat org.apache.spark.sql.catalyst.catalog.SessionCatalog.externalCatalog(SessionCatalog.scala:122)\r\n\tat org.apache.spark.sql.catalyst.catalog.SessionCatalog.databaseExists(SessionCatalog.scala:319)\r\n\tat org.apache.spark.sql.catalyst.catalog.SessionCatalog.isPersistentFunction(SessionCatalog.scala:1579)\r\n\tat org.apache.spark.sql.execution.datasources.v2.V2SessionCatalog.functionExists(V2SessionCatalog.scala:367)\r\n\tat org.apache.spark.sql.catalyst.analysis.Analyzer$LookupFunctions$$anonfun$apply$20.applyOrElse(Analyzer.scala:2009)\r\n\tat org.apache.spark.sql.catalyst.analysis.Analyzer$LookupFunctions$$anonfun$apply$20.applyOrElse(Analyzer.scala:2000)\r\n\tat org.apache.spark.sql.catalyst.trees.TreeNode.$anonfun$transformDownWithPruning$1(TreeNode.scala:461)\r\n\tat org.apache.spark.sql.catalyst.trees.CurrentOrigin$.withOrigin(origin.scala:76)\r\n\tat org.apache.spark.sql.catalyst.trees.TreeNode.transformDownWithPruning(TreeNode.scala:461)\r\n\tat org.apache.spark.sql.catalyst.trees.TreeNode.$anonfun$transformDownWithPruning$3(TreeNode.scala:466)\r\n\tat org.apache.spark.sql.catalyst.trees.BinaryLike.mapChildren(TreeNode.scala:1241)\r\n\tat org.apache.spark.sql.catalyst.trees.BinaryLike.mapChildren$(TreeNode.scala:1240)\r\n\tat org.apache.spark.sql.catalyst.expressions.BinaryExpression.mapChildren(Expression.scala:653)\r\n\tat org.apache.spark.sql.catalyst.trees.TreeNode.transformDownWithPruning(TreeNode.scala:466)\r\n\tat org.apache.spark.sql.catalyst.trees.TreeNode.$anonfun$transformDownWithPruning$3(TreeNode.scala:466)\r\n\tat org.apache.spark.sql.catalyst.trees.BinaryLike.mapChildren(TreeNode.scala:1243)\r\n\tat org.apache.spark.sql.catalyst.trees.BinaryLike.mapChildren$(TreeNode.scala:1240)\r\n\tat org.apache.spark.sql.catalyst.expressions.BinaryExpression.mapChildren(Expression.scala:653)\r\n\tat org.apache.spark.sql.catalyst.trees.TreeNode.transformDownWithPruning(TreeNode.scala:466)\r\n\tat org.apache.spark.sql.catalyst.trees.TreeNode.$anonfun$transformDownWithPruning$3(TreeNode.scala:466)\r\n\tat org.apache.spark.sql.catalyst.trees.UnaryLike.mapChildren(TreeNode.scala:1215)\r\n\tat org.apache.spark.sql.catalyst.trees.UnaryLike.mapChildren$(TreeNode.scala:1214)\r\n\tat org.apache.spark.sql.catalyst.expressions.UnaryExpression.mapChildren(Expression.scala:533)\r\n\tat org.apache.spark.sql.catalyst.trees.TreeNode.transformDownWithPruning(TreeNode.scala:466)\r\n\tat org.apache.spark.sql.catalyst.plans.QueryPlan.$anonfun$transformExpressionsDownWithPruning$1(QueryPlan.scala:167)\r\n\tat org.apache.spark.sql.catalyst.plans.QueryPlan.$anonfun$mapExpressions$1(QueryPlan.scala:208)\r\n\tat org.apache.spark.sql.catalyst.trees.CurrentOrigin$.withOrigin(origin.scala:76)\r\n\tat org.apache.spark.sql.catalyst.plans.QueryPlan.transformExpression$1(QueryPlan.scala:208)\r\n\tat org.apache.spark.sql.catalyst.plans.QueryPlan.recursiveTransform$1(QueryPlan.scala:219)\r\n\tat org.apache.spark.sql.catalyst.plans.QueryPlan.$anonfun$mapExpressions$3(QueryPlan.scala:224)\r\n\tat scala.collection.TraversableLike.$anonfun$map$1(TraversableLike.scala:286)\r\n\tat scala.collection.mutable.ResizableArray.foreach(ResizableArray.scala:62)\r\n\tat scala.collection.mutable.ResizableArray.foreach$(ResizableArray.scala:55)\r\n\tat scala.collection.mutable.ArrayBuffer.foreach(ArrayBuffer.scala:49)\r\n\tat scala.collection.TraversableLike.map(TraversableLike.scala:286)\r\n\tat scala.collection.TraversableLike.map$(TraversableLike.scala:279)\r\n\tat scala.collection.AbstractTraversable.map(Traversable.scala:108)\r\n\tat org.apache.spark.sql.catalyst.plans.QueryPlan.recursiveTransform$1(QueryPlan.scala:224)\r\n\tat org.apache.spark.sql.catalyst.plans.QueryPlan.$anonfun$mapExpressions$4(QueryPlan.scala:229)\r\n\tat org.apache.spark.sql.catalyst.trees.TreeNode.mapProductIterator(TreeNode.scala:304)\r\n\tat org.apache.spark.sql.catalyst.plans.QueryPlan.mapExpressions(QueryPlan.scala:229)\r\n\tat org.apache.spark.sql.catalyst.plans.QueryPlan.transformExpressionsDownWithPruning(QueryPlan.scala:167)\r\n\tat org.apache.spark.sql.catalyst.plans.QueryPlan.transformExpressionsWithPruning(QueryPlan.scala:138)\r\n\tat org.apache.spark.sql.catalyst.plans.logical.AnalysisHelper$$anonfun$resolveExpressionsWithPruning$1.applyOrElse(AnalysisHelper.scala:245)\r\n\tat org.apache.spark.sql.catalyst.plans.logical.AnalysisHelper$$anonfun$resolveExpressionsWithPruning$1.applyOrElse(AnalysisHelper.scala:244)\r\n\tat org.apache.spark.sql.catalyst.plans.logical.AnalysisHelper.$anonfun$resolveOperatorsDownWithPruning$2(AnalysisHelper.scala:170)\r\n\tat org.apache.spark.sql.catalyst.trees.CurrentOrigin$.withOrigin(origin.scala:76)\r\n\tat org.apache.spark.sql.catalyst.plans.logical.AnalysisHelper.$anonfun$resolveOperatorsDownWithPruning$1(AnalysisHelper.scala:170)\r\n\tat org.apache.spark.sql.catalyst.plans.logical.AnalysisHelper$.allowInvokingTransformsInAnalyzer(AnalysisHelper.scala:323)\r\n\tat org.apache.spark.sql.catalyst.plans.logical.AnalysisHelper.resolveOperatorsDownWithPruning(AnalysisHelper.scala:168)\r\n\tat org.apache.spark.sql.catalyst.plans.logical.AnalysisHelper.resolveOperatorsDownWithPruning$(AnalysisHelper.scala:164)\r\n\tat org.apache.spark.sql.catalyst.plans.logical.LogicalPlan.resolveOperatorsDownWithPruning(LogicalPlan.scala:32)\r\n\tat org.apache.spark.sql.catalyst.plans.logical.AnalysisHelper.resolveOperatorsWithPruning(AnalysisHelper.scala:99)\r\n\tat org.apache.spark.sql.catalyst.plans.logical.AnalysisHelper.resolveOperatorsWithPruning$(AnalysisHelper.scala:96)\r\n\tat org.apache.spark.sql.catalyst.plans.logical.LogicalPlan.resolveOperatorsWithPruning(LogicalPlan.scala:32)\r\n\tat org.apache.spark.sql.catalyst.plans.logical.AnalysisHelper.resolveExpressionsWithPruning(AnalysisHelper.scala:244)\r\n\tat org.apache.spark.sql.catalyst.plans.logical.AnalysisHelper.resolveExpressionsWithPruning$(AnalysisHelper.scala:242)\r\n\tat org.apache.spark.sql.catalyst.plans.logical.LogicalPlan.resolveExpressionsWithPruning(LogicalPlan.scala:32)\r\n\tat org.apache.spark.sql.catalyst.analysis.Analyzer$LookupFunctions$.apply(Analyzer.scala:2000)\r\n\tat org.apache.spark.sql.catalyst.analysis.Analyzer$LookupFunctions$.apply(Analyzer.scala:1996)\r\n\tat org.apache.spark.sql.catalyst.rules.RuleExecutor.$anonfun$execute$2(RuleExecutor.scala:222)\r\n\tat scala.collection.IndexedSeqOptimized.foldLeft(IndexedSeqOptimized.scala:60)\r\n\tat scala.collection.IndexedSeqOptimized.foldLeft$(IndexedSeqOptimized.scala:68)\r\n\tat scala.collection.mutable.WrappedArray.foldLeft(WrappedArray.scala:38)\r\n\tat org.apache.spark.sql.catalyst.rules.RuleExecutor.$anonfun$execute$1(RuleExecutor.scala:219)\r\n\tat org.apache.spark.sql.catalyst.rules.RuleExecutor.$anonfun$execute$1$adapted(RuleExecutor.scala:211)\r\n\tat scala.collection.immutable.List.foreach(List.scala:431)\r\n\tat org.apache.spark.sql.catalyst.rules.RuleExecutor.execute(RuleExecutor.scala:211)\r\n\tat org.apache.spark.sql.catalyst.analysis.Analyzer.org$apache$spark$sql$catalyst$analysis$Analyzer$$executeSameContext(Analyzer.scala:226)\r\n\tat org.apache.spark.sql.catalyst.analysis.Analyzer.$anonfun$execute$1(Analyzer.scala:222)\r\n\tat org.apache.spark.sql.catalyst.analysis.AnalysisContext$.withNewAnalysisContext(Analyzer.scala:173)\r\n\tat org.apache.spark.sql.catalyst.analysis.Analyzer.execute(Analyzer.scala:222)\r\n\tat org.apache.spark.sql.catalyst.analysis.Analyzer.execute(Analyzer.scala:188)\r\n\tat org.apache.spark.sql.catalyst.rules.RuleExecutor.$anonfun$executeAndTrack$1(RuleExecutor.scala:182)\r\n\tat org.apache.spark.sql.catalyst.QueryPlanningTracker$.withTracker(QueryPlanningTracker.scala:89)\r\n\tat org.apache.spark.sql.catalyst.rules.RuleExecutor.executeAndTrack(RuleExecutor.scala:182)\r\n\tat org.apache.spark.sql.catalyst.analysis.Analyzer.$anonfun$executeAndCheck$1(Analyzer.scala:209)\r\n\tat org.apache.spark.sql.catalyst.plans.logical.AnalysisHelper$.markInAnalyzer(AnalysisHelper.scala:330)\r\n\tat org.apache.spark.sql.catalyst.analysis.Analyzer.executeAndCheck(Analyzer.scala:208)\r\n\tat org.apache.spark.sql.execution.QueryExecution.$anonfun$analyzed$1(QueryExecution.scala:77)\r\n\tat org.apache.spark.sql.catalyst.QueryPlanningTracker.measurePhase(QueryPlanningTracker.scala:138)\r\n\tat org.apache.spark.sql.execution.QueryExecution.$anonfun$executePhase$2(QueryExecution.scala:219)\r\n\tat org.apache.spark.sql.execution.QueryExecution$.withInternalError(QueryExecution.scala:546)\r\n\tat org.apache.spark.sql.execution.QueryExecution.$anonfun$executePhase$1(QueryExecution.scala:219)\r\n\tat org.apache.spark.sql.SparkSession.withActive(SparkSession.scala:900)\r\n\tat org.apache.spark.sql.execution.QueryExecution.executePhase(QueryExecution.scala:218)\r\n\tat org.apache.spark.sql.execution.QueryExecution.analyzed$lzycompute(QueryExecution.scala:77)\r\n\tat org.apache.spark.sql.execution.QueryExecution.analyzed(QueryExecution.scala:74)\r\n\tat org.apache.spark.sql.execution.QueryExecution.assertAnalyzed(QueryExecution.scala:66)\r\n\tat org.apache.spark.sql.Dataset$.$anonfun$ofRows$1(Dataset.scala:91)\r\n\tat org.apache.spark.sql.SparkSession.withActive(SparkSession.scala:900)\r\n\tat org.apache.spark.sql.Dataset$.ofRows(Dataset.scala:89)\r\n\tat org.apache.spark.sql.Dataset.withPlan(Dataset.scala:4363)\r\n\tat org.apache.spark.sql.Dataset.select(Dataset.scala:1541)\r\n\tat org.apache.spark.sql.Dataset.withColumns(Dataset.scala:2782)\r\n\tat org.apache.spark.sql.Dataset.withColumn(Dataset.scala:2721)\r\n\tat sun.reflect.GeneratedMethodAccessor143.invoke(Unknown Source)\r\n\tat sun.reflect.DelegatingMethodAccessorImpl.invoke(DelegatingMethodAccessorImpl.java:43)\r\n\tat java.lang.reflect.Method.invoke(Method.java:498)\r\n\tat py4j.reflection.MethodInvoker.invoke(MethodInvoker.java:244)\r\n\tat py4j.reflection.ReflectionEngine.invoke(ReflectionEngine.java:374)\r\n\tat py4j.Gateway.invoke(Gateway.java:282)\r\n\tat py4j.commands.AbstractCommand.invokeMethod(AbstractCommand.java:132)\r\n\tat py4j.commands.CallCommand.execute(CallCommand.java:79)\r\n\tat py4j.ClientServerConnection.waitForCommands(ClientServerConnection.java:182)\r\n\tat py4j.ClientServerConnection.run(ClientServerConnection.java:106)\r\n\tat java.lang.Thread.run(Thread.java:748)\r\nCaused by: java.io.FileNotFoundException: java.io.FileNotFoundException: HADOOP_HOME and hadoop.home.dir are unset. -see https://wiki.apache.org/hadoop/WindowsProblems\r\n\tat org.apache.hadoop.util.Shell.fileNotFoundException(Shell.java:547)\r\n\tat org.apache.hadoop.util.Shell.getHadoopHomeDir(Shell.java:568)\r\n\tat org.apache.hadoop.util.Shell.getQualifiedBin(Shell.java:591)\r\n\tat org.apache.hadoop.util.Shell.<clinit>(Shell.java:688)\r\n\tat org.apache.hadoop.util.StringUtils.<clinit>(StringUtils.java:79)\r\n\tat org.apache.hadoop.conf.Configuration.getTimeDurationHelper(Configuration.java:1907)\r\n\tat org.apache.hadoop.conf.Configuration.getTimeDuration(Configuration.java:1867)\r\n\tat org.apache.hadoop.conf.Configuration.getTimeDuration(Configuration.java:1840)\r\n\tat org.apache.hadoop.util.ShutdownHookManager.getShutdownTimeout(ShutdownHookManager.java:183)\r\n\tat org.apache.hadoop.util.ShutdownHookManager$HookEntry.<init>(ShutdownHookManager.java:207)\r\n\tat org.apache.hadoop.util.ShutdownHookManager.addShutdownHook(ShutdownHookManager.java:304)\r\n\tat org.apache.spark.util.SparkShutdownHookManager.install(ShutdownHookManager.scala:181)\r\n\tat org.apache.spark.util.ShutdownHookManager$.shutdownHooks$lzycompute(ShutdownHookManager.scala:50)\r\n\tat org.apache.spark.util.ShutdownHookManager$.shutdownHooks(ShutdownHookManager.scala:48)\r\n\tat org.apache.spark.util.ShutdownHookManager$.addShutdownHook(ShutdownHookManager.scala:153)\r\n\tat org.apache.spark.util.ShutdownHookManager$.<init>(ShutdownHookManager.scala:58)\r\n\tat org.apache.spark.util.ShutdownHookManager$.<clinit>(ShutdownHookManager.scala)\r\n\tat org.apache.spark.util.Utils$.createTempDir(Utils.scala:242)\r\n\tat org.apache.spark.util.SparkFileUtils.createTempDir(SparkFileUtils.scala:103)\r\n\tat org.apache.spark.util.SparkFileUtils.createTempDir$(SparkFileUtils.scala:102)\r\n\tat org.apache.spark.util.Utils$.createTempDir(Utils.scala:94)\r\n\tat org.apache.spark.deploy.SparkSubmit.prepareSubmitEnvironment(SparkSubmit.scala:372)\r\n\tat org.apache.spark.deploy.SparkSubmit.org$apache$spark$deploy$SparkSubmit$$runMain(SparkSubmit.scala:964)\r\n\tat org.apache.spark.deploy.SparkSubmit.doRunMain$1(SparkSubmit.scala:194)\r\n\tat org.apache.spark.deploy.SparkSubmit.submit(SparkSubmit.scala:217)\r\n\tat org.apache.spark.deploy.SparkSubmit.doSubmit(SparkSubmit.scala:91)\r\n\tat org.apache.spark.deploy.SparkSubmit$$anon$2.doSubmit(SparkSubmit.scala:1120)\r\n\tat org.apache.spark.deploy.SparkSubmit$.main(SparkSubmit.scala:1129)\r\n\tat org.apache.spark.deploy.SparkSubmit.main(SparkSubmit.scala)\r\nCaused by: java.io.FileNotFoundException: HADOOP_HOME and hadoop.home.dir are unset.\r\n\tat org.apache.hadoop.util.Shell.checkHadoopHomeInner(Shell.java:467)\r\n\tat org.apache.hadoop.util.Shell.checkHadoopHome(Shell.java:438)\r\n\tat org.apache.hadoop.util.Shell.<clinit>(Shell.java:515)\r\n\t... 25 more\r\n",
     "output_type": "error",
     "traceback": [
      "\u001b[1;31m---------------------------------------------------------------------------\u001b[0m",
      "\u001b[1;31mPy4JJavaError\u001b[0m                             Traceback (most recent call last)",
      "Cell \u001b[1;32mIn[58], line 1\u001b[0m\n\u001b[1;32m----> 1\u001b[0m user_similarity_centered \u001b[38;5;241m=\u001b[39m \u001b[43muser_similarity\u001b[49m\u001b[38;5;241;43m.\u001b[39;49m\u001b[43mwithColumn\u001b[49m\u001b[43m(\u001b[49m\n\u001b[0;32m      2\u001b[0m \u001b[43m    \u001b[49m\u001b[38;5;124;43m\"\u001b[39;49m\u001b[38;5;124;43mcentered_cosine_similarity\u001b[39;49m\u001b[38;5;124;43m\"\u001b[39;49m\u001b[43m,\u001b[49m\n\u001b[0;32m      3\u001b[0m \u001b[43m    \u001b[49m\u001b[43mexpr\u001b[49m\u001b[43m(\u001b[49m\u001b[38;5;124;43m\"\u001b[39;49m\u001b[38;5;124;43mcosine_similarity / (norm(u1.normalized_features, 2) * norm(u2.normalized_features, 2))\u001b[39;49m\u001b[38;5;124;43m\"\u001b[39;49m\u001b[43m)\u001b[49m\n\u001b[0;32m      4\u001b[0m \u001b[43m)\u001b[49m\n\u001b[0;32m      6\u001b[0m user_similarity_centered\u001b[38;5;241m.\u001b[39mshow()\n\u001b[0;32m      8\u001b[0m \u001b[38;5;66;03m# Note: This example demonstrates user-user similarity. You can adapt the code for item-item similarity as well.  \u001b[39;00m\n",
      "File \u001b[1;32m~\\AppData\\Local\\Programs\\Python\\Python312\\Lib\\site-packages\\pyspark\\sql\\dataframe.py:5170\u001b[0m, in \u001b[0;36mDataFrame.withColumn\u001b[1;34m(self, colName, col)\u001b[0m\n\u001b[0;32m   5165\u001b[0m \u001b[38;5;28;01mif\u001b[39;00m \u001b[38;5;129;01mnot\u001b[39;00m \u001b[38;5;28misinstance\u001b[39m(col, Column):\n\u001b[0;32m   5166\u001b[0m     \u001b[38;5;28;01mraise\u001b[39;00m PySparkTypeError(\n\u001b[0;32m   5167\u001b[0m         error_class\u001b[38;5;241m=\u001b[39m\u001b[38;5;124m\"\u001b[39m\u001b[38;5;124mNOT_COLUMN\u001b[39m\u001b[38;5;124m\"\u001b[39m,\n\u001b[0;32m   5168\u001b[0m         message_parameters\u001b[38;5;241m=\u001b[39m{\u001b[38;5;124m\"\u001b[39m\u001b[38;5;124marg_name\u001b[39m\u001b[38;5;124m\"\u001b[39m: \u001b[38;5;124m\"\u001b[39m\u001b[38;5;124mcol\u001b[39m\u001b[38;5;124m\"\u001b[39m, \u001b[38;5;124m\"\u001b[39m\u001b[38;5;124marg_type\u001b[39m\u001b[38;5;124m\"\u001b[39m: \u001b[38;5;28mtype\u001b[39m(col)\u001b[38;5;241m.\u001b[39m\u001b[38;5;18m__name__\u001b[39m},\n\u001b[0;32m   5169\u001b[0m     )\n\u001b[1;32m-> 5170\u001b[0m \u001b[38;5;28;01mreturn\u001b[39;00m DataFrame(\u001b[38;5;28;43mself\u001b[39;49m\u001b[38;5;241;43m.\u001b[39;49m\u001b[43m_jdf\u001b[49m\u001b[38;5;241;43m.\u001b[39;49m\u001b[43mwithColumn\u001b[49m\u001b[43m(\u001b[49m\u001b[43mcolName\u001b[49m\u001b[43m,\u001b[49m\u001b[43m \u001b[49m\u001b[43mcol\u001b[49m\u001b[38;5;241;43m.\u001b[39;49m\u001b[43m_jc\u001b[49m\u001b[43m)\u001b[49m, \u001b[38;5;28mself\u001b[39m\u001b[38;5;241m.\u001b[39msparkSession)\n",
      "File \u001b[1;32m~\\AppData\\Local\\Programs\\Python\\Python312\\Lib\\site-packages\\py4j\\java_gateway.py:1322\u001b[0m, in \u001b[0;36mJavaMember.__call__\u001b[1;34m(self, *args)\u001b[0m\n\u001b[0;32m   1316\u001b[0m command \u001b[38;5;241m=\u001b[39m proto\u001b[38;5;241m.\u001b[39mCALL_COMMAND_NAME \u001b[38;5;241m+\u001b[39m\\\n\u001b[0;32m   1317\u001b[0m     \u001b[38;5;28mself\u001b[39m\u001b[38;5;241m.\u001b[39mcommand_header \u001b[38;5;241m+\u001b[39m\\\n\u001b[0;32m   1318\u001b[0m     args_command \u001b[38;5;241m+\u001b[39m\\\n\u001b[0;32m   1319\u001b[0m     proto\u001b[38;5;241m.\u001b[39mEND_COMMAND_PART\n\u001b[0;32m   1321\u001b[0m answer \u001b[38;5;241m=\u001b[39m \u001b[38;5;28mself\u001b[39m\u001b[38;5;241m.\u001b[39mgateway_client\u001b[38;5;241m.\u001b[39msend_command(command)\n\u001b[1;32m-> 1322\u001b[0m return_value \u001b[38;5;241m=\u001b[39m \u001b[43mget_return_value\u001b[49m\u001b[43m(\u001b[49m\n\u001b[0;32m   1323\u001b[0m \u001b[43m    \u001b[49m\u001b[43manswer\u001b[49m\u001b[43m,\u001b[49m\u001b[43m \u001b[49m\u001b[38;5;28;43mself\u001b[39;49m\u001b[38;5;241;43m.\u001b[39;49m\u001b[43mgateway_client\u001b[49m\u001b[43m,\u001b[49m\u001b[43m \u001b[49m\u001b[38;5;28;43mself\u001b[39;49m\u001b[38;5;241;43m.\u001b[39;49m\u001b[43mtarget_id\u001b[49m\u001b[43m,\u001b[49m\u001b[43m \u001b[49m\u001b[38;5;28;43mself\u001b[39;49m\u001b[38;5;241;43m.\u001b[39;49m\u001b[43mname\u001b[49m\u001b[43m)\u001b[49m\n\u001b[0;32m   1325\u001b[0m \u001b[38;5;28;01mfor\u001b[39;00m temp_arg \u001b[38;5;129;01min\u001b[39;00m temp_args:\n\u001b[0;32m   1326\u001b[0m     \u001b[38;5;28;01mif\u001b[39;00m \u001b[38;5;28mhasattr\u001b[39m(temp_arg, \u001b[38;5;124m\"\u001b[39m\u001b[38;5;124m_detach\u001b[39m\u001b[38;5;124m\"\u001b[39m):\n",
      "File \u001b[1;32m~\\AppData\\Local\\Programs\\Python\\Python312\\Lib\\site-packages\\pyspark\\errors\\exceptions\\captured.py:179\u001b[0m, in \u001b[0;36mcapture_sql_exception.<locals>.deco\u001b[1;34m(*a, **kw)\u001b[0m\n\u001b[0;32m    177\u001b[0m \u001b[38;5;28;01mdef\u001b[39;00m \u001b[38;5;21mdeco\u001b[39m(\u001b[38;5;241m*\u001b[39ma: Any, \u001b[38;5;241m*\u001b[39m\u001b[38;5;241m*\u001b[39mkw: Any) \u001b[38;5;241m-\u001b[39m\u001b[38;5;241m>\u001b[39m Any:\n\u001b[0;32m    178\u001b[0m     \u001b[38;5;28;01mtry\u001b[39;00m:\n\u001b[1;32m--> 179\u001b[0m         \u001b[38;5;28;01mreturn\u001b[39;00m \u001b[43mf\u001b[49m\u001b[43m(\u001b[49m\u001b[38;5;241;43m*\u001b[39;49m\u001b[43ma\u001b[49m\u001b[43m,\u001b[49m\u001b[43m \u001b[49m\u001b[38;5;241;43m*\u001b[39;49m\u001b[38;5;241;43m*\u001b[39;49m\u001b[43mkw\u001b[49m\u001b[43m)\u001b[49m\n\u001b[0;32m    180\u001b[0m     \u001b[38;5;28;01mexcept\u001b[39;00m Py4JJavaError \u001b[38;5;28;01mas\u001b[39;00m e:\n\u001b[0;32m    181\u001b[0m         converted \u001b[38;5;241m=\u001b[39m convert_exception(e\u001b[38;5;241m.\u001b[39mjava_exception)\n",
      "File \u001b[1;32m~\\AppData\\Local\\Programs\\Python\\Python312\\Lib\\site-packages\\py4j\\protocol.py:326\u001b[0m, in \u001b[0;36mget_return_value\u001b[1;34m(answer, gateway_client, target_id, name)\u001b[0m\n\u001b[0;32m    324\u001b[0m value \u001b[38;5;241m=\u001b[39m OUTPUT_CONVERTER[\u001b[38;5;28mtype\u001b[39m](answer[\u001b[38;5;241m2\u001b[39m:], gateway_client)\n\u001b[0;32m    325\u001b[0m \u001b[38;5;28;01mif\u001b[39;00m answer[\u001b[38;5;241m1\u001b[39m] \u001b[38;5;241m==\u001b[39m REFERENCE_TYPE:\n\u001b[1;32m--> 326\u001b[0m     \u001b[38;5;28;01mraise\u001b[39;00m Py4JJavaError(\n\u001b[0;32m    327\u001b[0m         \u001b[38;5;124m\"\u001b[39m\u001b[38;5;124mAn error occurred while calling \u001b[39m\u001b[38;5;132;01m{0}\u001b[39;00m\u001b[38;5;132;01m{1}\u001b[39;00m\u001b[38;5;132;01m{2}\u001b[39;00m\u001b[38;5;124m.\u001b[39m\u001b[38;5;130;01m\\n\u001b[39;00m\u001b[38;5;124m\"\u001b[39m\u001b[38;5;241m.\u001b[39m\n\u001b[0;32m    328\u001b[0m         \u001b[38;5;28mformat\u001b[39m(target_id, \u001b[38;5;124m\"\u001b[39m\u001b[38;5;124m.\u001b[39m\u001b[38;5;124m\"\u001b[39m, name), value)\n\u001b[0;32m    329\u001b[0m \u001b[38;5;28;01melse\u001b[39;00m:\n\u001b[0;32m    330\u001b[0m     \u001b[38;5;28;01mraise\u001b[39;00m Py4JError(\n\u001b[0;32m    331\u001b[0m         \u001b[38;5;124m\"\u001b[39m\u001b[38;5;124mAn error occurred while calling \u001b[39m\u001b[38;5;132;01m{0}\u001b[39;00m\u001b[38;5;132;01m{1}\u001b[39;00m\u001b[38;5;132;01m{2}\u001b[39;00m\u001b[38;5;124m. Trace:\u001b[39m\u001b[38;5;130;01m\\n\u001b[39;00m\u001b[38;5;132;01m{3}\u001b[39;00m\u001b[38;5;130;01m\\n\u001b[39;00m\u001b[38;5;124m\"\u001b[39m\u001b[38;5;241m.\u001b[39m\n\u001b[0;32m    332\u001b[0m         \u001b[38;5;28mformat\u001b[39m(target_id, \u001b[38;5;124m\"\u001b[39m\u001b[38;5;124m.\u001b[39m\u001b[38;5;124m\"\u001b[39m, name, value))\n",
      "\u001b[1;31mPy4JJavaError\u001b[0m: An error occurred while calling o3480.withColumn.\n: java.lang.RuntimeException: java.io.FileNotFoundException: java.io.FileNotFoundException: HADOOP_HOME and hadoop.home.dir are unset. -see https://wiki.apache.org/hadoop/WindowsProblems\r\n\tat org.apache.hadoop.util.Shell.getWinUtilsPath(Shell.java:735)\r\n\tat org.apache.hadoop.util.Shell.getSetPermissionCommand(Shell.java:270)\r\n\tat org.apache.hadoop.util.Shell.getSetPermissionCommand(Shell.java:286)\r\n\tat org.apache.hadoop.fs.RawLocalFileSystem.setPermission(RawLocalFileSystem.java:978)\r\n\tat org.apache.hadoop.fs.RawLocalFileSystem.mkOneDirWithMode(RawLocalFileSystem.java:660)\r\n\tat org.apache.hadoop.fs.RawLocalFileSystem.mkdirsWithOptionalPermission(RawLocalFileSystem.java:700)\r\n\tat org.apache.hadoop.fs.RawLocalFileSystem.mkdirs(RawLocalFileSystem.java:672)\r\n\tat org.apache.hadoop.fs.RawLocalFileSystem.mkdirsWithOptionalPermission(RawLocalFileSystem.java:699)\r\n\tat org.apache.hadoop.fs.RawLocalFileSystem.mkdirs(RawLocalFileSystem.java:672)\r\n\tat org.apache.hadoop.fs.ChecksumFileSystem.mkdirs(ChecksumFileSystem.java:788)\r\n\tat org.apache.spark.sql.catalyst.catalog.InMemoryCatalog.liftedTree1$1(InMemoryCatalog.scala:122)\r\n\tat org.apache.spark.sql.catalyst.catalog.InMemoryCatalog.createDatabase(InMemoryCatalog.scala:119)\r\n\tat org.apache.spark.sql.internal.SharedState.externalCatalog$lzycompute(SharedState.scala:159)\r\n\tat org.apache.spark.sql.internal.SharedState.externalCatalog(SharedState.scala:140)\r\n\tat org.apache.spark.sql.internal.BaseSessionStateBuilder.$anonfun$catalog$1(BaseSessionStateBuilder.scala:154)\r\n\tat org.apache.spark.sql.catalyst.catalog.SessionCatalog.externalCatalog$lzycompute(SessionCatalog.scala:122)\r\n\tat org.apache.spark.sql.catalyst.catalog.SessionCatalog.externalCatalog(SessionCatalog.scala:122)\r\n\tat org.apache.spark.sql.catalyst.catalog.SessionCatalog.databaseExists(SessionCatalog.scala:319)\r\n\tat org.apache.spark.sql.catalyst.catalog.SessionCatalog.isPersistentFunction(SessionCatalog.scala:1579)\r\n\tat org.apache.spark.sql.execution.datasources.v2.V2SessionCatalog.functionExists(V2SessionCatalog.scala:367)\r\n\tat org.apache.spark.sql.catalyst.analysis.Analyzer$LookupFunctions$$anonfun$apply$20.applyOrElse(Analyzer.scala:2009)\r\n\tat org.apache.spark.sql.catalyst.analysis.Analyzer$LookupFunctions$$anonfun$apply$20.applyOrElse(Analyzer.scala:2000)\r\n\tat org.apache.spark.sql.catalyst.trees.TreeNode.$anonfun$transformDownWithPruning$1(TreeNode.scala:461)\r\n\tat org.apache.spark.sql.catalyst.trees.CurrentOrigin$.withOrigin(origin.scala:76)\r\n\tat org.apache.spark.sql.catalyst.trees.TreeNode.transformDownWithPruning(TreeNode.scala:461)\r\n\tat org.apache.spark.sql.catalyst.trees.TreeNode.$anonfun$transformDownWithPruning$3(TreeNode.scala:466)\r\n\tat org.apache.spark.sql.catalyst.trees.BinaryLike.mapChildren(TreeNode.scala:1241)\r\n\tat org.apache.spark.sql.catalyst.trees.BinaryLike.mapChildren$(TreeNode.scala:1240)\r\n\tat org.apache.spark.sql.catalyst.expressions.BinaryExpression.mapChildren(Expression.scala:653)\r\n\tat org.apache.spark.sql.catalyst.trees.TreeNode.transformDownWithPruning(TreeNode.scala:466)\r\n\tat org.apache.spark.sql.catalyst.trees.TreeNode.$anonfun$transformDownWithPruning$3(TreeNode.scala:466)\r\n\tat org.apache.spark.sql.catalyst.trees.BinaryLike.mapChildren(TreeNode.scala:1243)\r\n\tat org.apache.spark.sql.catalyst.trees.BinaryLike.mapChildren$(TreeNode.scala:1240)\r\n\tat org.apache.spark.sql.catalyst.expressions.BinaryExpression.mapChildren(Expression.scala:653)\r\n\tat org.apache.spark.sql.catalyst.trees.TreeNode.transformDownWithPruning(TreeNode.scala:466)\r\n\tat org.apache.spark.sql.catalyst.trees.TreeNode.$anonfun$transformDownWithPruning$3(TreeNode.scala:466)\r\n\tat org.apache.spark.sql.catalyst.trees.UnaryLike.mapChildren(TreeNode.scala:1215)\r\n\tat org.apache.spark.sql.catalyst.trees.UnaryLike.mapChildren$(TreeNode.scala:1214)\r\n\tat org.apache.spark.sql.catalyst.expressions.UnaryExpression.mapChildren(Expression.scala:533)\r\n\tat org.apache.spark.sql.catalyst.trees.TreeNode.transformDownWithPruning(TreeNode.scala:466)\r\n\tat org.apache.spark.sql.catalyst.plans.QueryPlan.$anonfun$transformExpressionsDownWithPruning$1(QueryPlan.scala:167)\r\n\tat org.apache.spark.sql.catalyst.plans.QueryPlan.$anonfun$mapExpressions$1(QueryPlan.scala:208)\r\n\tat org.apache.spark.sql.catalyst.trees.CurrentOrigin$.withOrigin(origin.scala:76)\r\n\tat org.apache.spark.sql.catalyst.plans.QueryPlan.transformExpression$1(QueryPlan.scala:208)\r\n\tat org.apache.spark.sql.catalyst.plans.QueryPlan.recursiveTransform$1(QueryPlan.scala:219)\r\n\tat org.apache.spark.sql.catalyst.plans.QueryPlan.$anonfun$mapExpressions$3(QueryPlan.scala:224)\r\n\tat scala.collection.TraversableLike.$anonfun$map$1(TraversableLike.scala:286)\r\n\tat scala.collection.mutable.ResizableArray.foreach(ResizableArray.scala:62)\r\n\tat scala.collection.mutable.ResizableArray.foreach$(ResizableArray.scala:55)\r\n\tat scala.collection.mutable.ArrayBuffer.foreach(ArrayBuffer.scala:49)\r\n\tat scala.collection.TraversableLike.map(TraversableLike.scala:286)\r\n\tat scala.collection.TraversableLike.map$(TraversableLike.scala:279)\r\n\tat scala.collection.AbstractTraversable.map(Traversable.scala:108)\r\n\tat org.apache.spark.sql.catalyst.plans.QueryPlan.recursiveTransform$1(QueryPlan.scala:224)\r\n\tat org.apache.spark.sql.catalyst.plans.QueryPlan.$anonfun$mapExpressions$4(QueryPlan.scala:229)\r\n\tat org.apache.spark.sql.catalyst.trees.TreeNode.mapProductIterator(TreeNode.scala:304)\r\n\tat org.apache.spark.sql.catalyst.plans.QueryPlan.mapExpressions(QueryPlan.scala:229)\r\n\tat org.apache.spark.sql.catalyst.plans.QueryPlan.transformExpressionsDownWithPruning(QueryPlan.scala:167)\r\n\tat org.apache.spark.sql.catalyst.plans.QueryPlan.transformExpressionsWithPruning(QueryPlan.scala:138)\r\n\tat org.apache.spark.sql.catalyst.plans.logical.AnalysisHelper$$anonfun$resolveExpressionsWithPruning$1.applyOrElse(AnalysisHelper.scala:245)\r\n\tat org.apache.spark.sql.catalyst.plans.logical.AnalysisHelper$$anonfun$resolveExpressionsWithPruning$1.applyOrElse(AnalysisHelper.scala:244)\r\n\tat org.apache.spark.sql.catalyst.plans.logical.AnalysisHelper.$anonfun$resolveOperatorsDownWithPruning$2(AnalysisHelper.scala:170)\r\n\tat org.apache.spark.sql.catalyst.trees.CurrentOrigin$.withOrigin(origin.scala:76)\r\n\tat org.apache.spark.sql.catalyst.plans.logical.AnalysisHelper.$anonfun$resolveOperatorsDownWithPruning$1(AnalysisHelper.scala:170)\r\n\tat org.apache.spark.sql.catalyst.plans.logical.AnalysisHelper$.allowInvokingTransformsInAnalyzer(AnalysisHelper.scala:323)\r\n\tat org.apache.spark.sql.catalyst.plans.logical.AnalysisHelper.resolveOperatorsDownWithPruning(AnalysisHelper.scala:168)\r\n\tat org.apache.spark.sql.catalyst.plans.logical.AnalysisHelper.resolveOperatorsDownWithPruning$(AnalysisHelper.scala:164)\r\n\tat org.apache.spark.sql.catalyst.plans.logical.LogicalPlan.resolveOperatorsDownWithPruning(LogicalPlan.scala:32)\r\n\tat org.apache.spark.sql.catalyst.plans.logical.AnalysisHelper.resolveOperatorsWithPruning(AnalysisHelper.scala:99)\r\n\tat org.apache.spark.sql.catalyst.plans.logical.AnalysisHelper.resolveOperatorsWithPruning$(AnalysisHelper.scala:96)\r\n\tat org.apache.spark.sql.catalyst.plans.logical.LogicalPlan.resolveOperatorsWithPruning(LogicalPlan.scala:32)\r\n\tat org.apache.spark.sql.catalyst.plans.logical.AnalysisHelper.resolveExpressionsWithPruning(AnalysisHelper.scala:244)\r\n\tat org.apache.spark.sql.catalyst.plans.logical.AnalysisHelper.resolveExpressionsWithPruning$(AnalysisHelper.scala:242)\r\n\tat org.apache.spark.sql.catalyst.plans.logical.LogicalPlan.resolveExpressionsWithPruning(LogicalPlan.scala:32)\r\n\tat org.apache.spark.sql.catalyst.analysis.Analyzer$LookupFunctions$.apply(Analyzer.scala:2000)\r\n\tat org.apache.spark.sql.catalyst.analysis.Analyzer$LookupFunctions$.apply(Analyzer.scala:1996)\r\n\tat org.apache.spark.sql.catalyst.rules.RuleExecutor.$anonfun$execute$2(RuleExecutor.scala:222)\r\n\tat scala.collection.IndexedSeqOptimized.foldLeft(IndexedSeqOptimized.scala:60)\r\n\tat scala.collection.IndexedSeqOptimized.foldLeft$(IndexedSeqOptimized.scala:68)\r\n\tat scala.collection.mutable.WrappedArray.foldLeft(WrappedArray.scala:38)\r\n\tat org.apache.spark.sql.catalyst.rules.RuleExecutor.$anonfun$execute$1(RuleExecutor.scala:219)\r\n\tat org.apache.spark.sql.catalyst.rules.RuleExecutor.$anonfun$execute$1$adapted(RuleExecutor.scala:211)\r\n\tat scala.collection.immutable.List.foreach(List.scala:431)\r\n\tat org.apache.spark.sql.catalyst.rules.RuleExecutor.execute(RuleExecutor.scala:211)\r\n\tat org.apache.spark.sql.catalyst.analysis.Analyzer.org$apache$spark$sql$catalyst$analysis$Analyzer$$executeSameContext(Analyzer.scala:226)\r\n\tat org.apache.spark.sql.catalyst.analysis.Analyzer.$anonfun$execute$1(Analyzer.scala:222)\r\n\tat org.apache.spark.sql.catalyst.analysis.AnalysisContext$.withNewAnalysisContext(Analyzer.scala:173)\r\n\tat org.apache.spark.sql.catalyst.analysis.Analyzer.execute(Analyzer.scala:222)\r\n\tat org.apache.spark.sql.catalyst.analysis.Analyzer.execute(Analyzer.scala:188)\r\n\tat org.apache.spark.sql.catalyst.rules.RuleExecutor.$anonfun$executeAndTrack$1(RuleExecutor.scala:182)\r\n\tat org.apache.spark.sql.catalyst.QueryPlanningTracker$.withTracker(QueryPlanningTracker.scala:89)\r\n\tat org.apache.spark.sql.catalyst.rules.RuleExecutor.executeAndTrack(RuleExecutor.scala:182)\r\n\tat org.apache.spark.sql.catalyst.analysis.Analyzer.$anonfun$executeAndCheck$1(Analyzer.scala:209)\r\n\tat org.apache.spark.sql.catalyst.plans.logical.AnalysisHelper$.markInAnalyzer(AnalysisHelper.scala:330)\r\n\tat org.apache.spark.sql.catalyst.analysis.Analyzer.executeAndCheck(Analyzer.scala:208)\r\n\tat org.apache.spark.sql.execution.QueryExecution.$anonfun$analyzed$1(QueryExecution.scala:77)\r\n\tat org.apache.spark.sql.catalyst.QueryPlanningTracker.measurePhase(QueryPlanningTracker.scala:138)\r\n\tat org.apache.spark.sql.execution.QueryExecution.$anonfun$executePhase$2(QueryExecution.scala:219)\r\n\tat org.apache.spark.sql.execution.QueryExecution$.withInternalError(QueryExecution.scala:546)\r\n\tat org.apache.spark.sql.execution.QueryExecution.$anonfun$executePhase$1(QueryExecution.scala:219)\r\n\tat org.apache.spark.sql.SparkSession.withActive(SparkSession.scala:900)\r\n\tat org.apache.spark.sql.execution.QueryExecution.executePhase(QueryExecution.scala:218)\r\n\tat org.apache.spark.sql.execution.QueryExecution.analyzed$lzycompute(QueryExecution.scala:77)\r\n\tat org.apache.spark.sql.execution.QueryExecution.analyzed(QueryExecution.scala:74)\r\n\tat org.apache.spark.sql.execution.QueryExecution.assertAnalyzed(QueryExecution.scala:66)\r\n\tat org.apache.spark.sql.Dataset$.$anonfun$ofRows$1(Dataset.scala:91)\r\n\tat org.apache.spark.sql.SparkSession.withActive(SparkSession.scala:900)\r\n\tat org.apache.spark.sql.Dataset$.ofRows(Dataset.scala:89)\r\n\tat org.apache.spark.sql.Dataset.withPlan(Dataset.scala:4363)\r\n\tat org.apache.spark.sql.Dataset.select(Dataset.scala:1541)\r\n\tat org.apache.spark.sql.Dataset.withColumns(Dataset.scala:2782)\r\n\tat org.apache.spark.sql.Dataset.withColumn(Dataset.scala:2721)\r\n\tat sun.reflect.GeneratedMethodAccessor143.invoke(Unknown Source)\r\n\tat sun.reflect.DelegatingMethodAccessorImpl.invoke(DelegatingMethodAccessorImpl.java:43)\r\n\tat java.lang.reflect.Method.invoke(Method.java:498)\r\n\tat py4j.reflection.MethodInvoker.invoke(MethodInvoker.java:244)\r\n\tat py4j.reflection.ReflectionEngine.invoke(ReflectionEngine.java:374)\r\n\tat py4j.Gateway.invoke(Gateway.java:282)\r\n\tat py4j.commands.AbstractCommand.invokeMethod(AbstractCommand.java:132)\r\n\tat py4j.commands.CallCommand.execute(CallCommand.java:79)\r\n\tat py4j.ClientServerConnection.waitForCommands(ClientServerConnection.java:182)\r\n\tat py4j.ClientServerConnection.run(ClientServerConnection.java:106)\r\n\tat java.lang.Thread.run(Thread.java:748)\r\nCaused by: java.io.FileNotFoundException: java.io.FileNotFoundException: HADOOP_HOME and hadoop.home.dir are unset. -see https://wiki.apache.org/hadoop/WindowsProblems\r\n\tat org.apache.hadoop.util.Shell.fileNotFoundException(Shell.java:547)\r\n\tat org.apache.hadoop.util.Shell.getHadoopHomeDir(Shell.java:568)\r\n\tat org.apache.hadoop.util.Shell.getQualifiedBin(Shell.java:591)\r\n\tat org.apache.hadoop.util.Shell.<clinit>(Shell.java:688)\r\n\tat org.apache.hadoop.util.StringUtils.<clinit>(StringUtils.java:79)\r\n\tat org.apache.hadoop.conf.Configuration.getTimeDurationHelper(Configuration.java:1907)\r\n\tat org.apache.hadoop.conf.Configuration.getTimeDuration(Configuration.java:1867)\r\n\tat org.apache.hadoop.conf.Configuration.getTimeDuration(Configuration.java:1840)\r\n\tat org.apache.hadoop.util.ShutdownHookManager.getShutdownTimeout(ShutdownHookManager.java:183)\r\n\tat org.apache.hadoop.util.ShutdownHookManager$HookEntry.<init>(ShutdownHookManager.java:207)\r\n\tat org.apache.hadoop.util.ShutdownHookManager.addShutdownHook(ShutdownHookManager.java:304)\r\n\tat org.apache.spark.util.SparkShutdownHookManager.install(ShutdownHookManager.scala:181)\r\n\tat org.apache.spark.util.ShutdownHookManager$.shutdownHooks$lzycompute(ShutdownHookManager.scala:50)\r\n\tat org.apache.spark.util.ShutdownHookManager$.shutdownHooks(ShutdownHookManager.scala:48)\r\n\tat org.apache.spark.util.ShutdownHookManager$.addShutdownHook(ShutdownHookManager.scala:153)\r\n\tat org.apache.spark.util.ShutdownHookManager$.<init>(ShutdownHookManager.scala:58)\r\n\tat org.apache.spark.util.ShutdownHookManager$.<clinit>(ShutdownHookManager.scala)\r\n\tat org.apache.spark.util.Utils$.createTempDir(Utils.scala:242)\r\n\tat org.apache.spark.util.SparkFileUtils.createTempDir(SparkFileUtils.scala:103)\r\n\tat org.apache.spark.util.SparkFileUtils.createTempDir$(SparkFileUtils.scala:102)\r\n\tat org.apache.spark.util.Utils$.createTempDir(Utils.scala:94)\r\n\tat org.apache.spark.deploy.SparkSubmit.prepareSubmitEnvironment(SparkSubmit.scala:372)\r\n\tat org.apache.spark.deploy.SparkSubmit.org$apache$spark$deploy$SparkSubmit$$runMain(SparkSubmit.scala:964)\r\n\tat org.apache.spark.deploy.SparkSubmit.doRunMain$1(SparkSubmit.scala:194)\r\n\tat org.apache.spark.deploy.SparkSubmit.submit(SparkSubmit.scala:217)\r\n\tat org.apache.spark.deploy.SparkSubmit.doSubmit(SparkSubmit.scala:91)\r\n\tat org.apache.spark.deploy.SparkSubmit$$anon$2.doSubmit(SparkSubmit.scala:1120)\r\n\tat org.apache.spark.deploy.SparkSubmit$.main(SparkSubmit.scala:1129)\r\n\tat org.apache.spark.deploy.SparkSubmit.main(SparkSubmit.scala)\r\nCaused by: java.io.FileNotFoundException: HADOOP_HOME and hadoop.home.dir are unset.\r\n\tat org.apache.hadoop.util.Shell.checkHadoopHomeInner(Shell.java:467)\r\n\tat org.apache.hadoop.util.Shell.checkHadoopHome(Shell.java:438)\r\n\tat org.apache.hadoop.util.Shell.<clinit>(Shell.java:515)\r\n\t... 25 more\r\n"
     ]
    }
   ],
   "source": [
    "user_similarity_centered = user_similarity.withColumn(\n",
    "    \"centered_cosine_similarity\",\n",
    "    expr(\"cosine_similarity / (norm(u1.normalized_features, 2) * norm(u2.normalized_features, 2))\")\n",
    ")\n",
    " \n",
    "user_similarity_centered.show()\n",
    " \n",
    "# Note: This example demonstrates user-user similarity. You can adapt the code for item-item similarity as well.  "
   ]
  },
  {
   "cell_type": "code",
   "execution_count": null,
   "id": "4bacb5d4-536f-487b-a88f-3ee193c49ba2",
   "metadata": {},
   "outputs": [],
   "source": []
  },
  {
   "cell_type": "code",
   "execution_count": null,
   "id": "aad658b9-7d06-4714-bb59-bf5f0878a274",
   "metadata": {},
   "outputs": [],
   "source": []
  },
  {
   "cell_type": "code",
   "execution_count": null,
   "id": "b6f20241-0421-4412-addf-2c7873b5aba8",
   "metadata": {},
   "outputs": [],
   "source": []
  },
  {
   "cell_type": "code",
   "execution_count": null,
   "id": "71b9e2a2-9b92-4bd2-b5fd-c2eb83930505",
   "metadata": {},
   "outputs": [],
   "source": []
  },
  {
   "cell_type": "code",
   "execution_count": null,
   "id": "3c7fb4c6-678f-4ba2-ba2e-4429d97358c0",
   "metadata": {},
   "outputs": [],
   "source": []
  },
  {
   "cell_type": "code",
   "execution_count": null,
   "id": "f29a6c09-6700-45f3-b5cf-6c571eadfe32",
   "metadata": {},
   "outputs": [],
   "source": []
  },
  {
   "cell_type": "code",
   "execution_count": 22,
   "id": "fc5d0e5c-4b93-41d8-a633-400380fcccbd",
   "metadata": {},
   "outputs": [
    {
     "name": "stdout",
     "output_type": "stream",
     "text": [
      "root\n",
      " |-- Id: string (nullable = true)\n",
      " |-- AccountID: string (nullable = true)\n",
      " |-- Number_Of_Loans_Granted__c: integer (nullable = true)\n",
      " |-- Num_Of_Loans_Paid__c: integer (nullable = true)\n",
      " |-- Purpose_of_Loan__c: string (nullable = true)\n",
      " |-- Total_Repayments__c: integer (nullable = true)\n",
      " |-- Amount: integer (nullable = true)\n",
      " |-- Term_in_Weeks__c: double (nullable = true)\n",
      " |-- Payment_Frequency__c: string (nullable = true)\n",
      " |-- StageName: string (nullable = true)\n",
      " |-- Applicant Age: integer (nullable = true)\n",
      " |-- summary_income: double (nullable = true)\n",
      " |-- summary_income_cv: double (nullable = true)\n",
      " |-- city: string (nullable = true)\n",
      " |-- state: string (nullable = true)\n",
      " |-- Country: string (nullable = true)\n",
      " |-- userId: integer (nullable = true)\n",
      " |-- loanId: integer (nullable = true)\n",
      " |-- count: integer (nullable = true)\n",
      " |-- LoanIdFormat: integer (nullable = true)\n",
      " |-- prediction: float (nullable = false)\n",
      "\n"
     ]
    }
   ],
   "source": [
    "predictions.printSchema()"
   ]
  },
  {
   "cell_type": "code",
   "execution_count": 23,
   "id": "24d2c7c3-8104-4b83-a3d8-2e4c3ece98ac",
   "metadata": {},
   "outputs": [
    {
     "name": "stdout",
     "output_type": "stream",
     "text": [
      "+------------+------+------+------+-------------------+-----+----------+\n",
      "|LoanIdFormat|loanId|userId|Amount|Total_Repayments__c|count|prediction|\n",
      "+------------+------+------+------+-------------------+-----+----------+\n",
      "|           1|  1447|   833|   200|                 10|    1| 0.9927087|\n",
      "|           1|  1859|  2366|   500|                 10|    1|0.99272466|\n",
      "|           1|  4283|   833|   200|                 10|    1| 0.9927087|\n",
      "|           1|  4283|   833|   200|                 10|    1| 0.9927087|\n",
      "|           1|  6365|  3749|   400|                 10|    1| 0.9927638|\n",
      "|           1| 11509|  3749|  1000|                 10|    1| 0.9927638|\n",
      "|           1| 11799|   148|   250|                 10|    2| 1.9854532|\n",
      "|           1| 18371|  4818|   600|                 10|    2| 1.9854676|\n",
      "|           1| 23404| 12027|   400|                 10|    1|0.99272466|\n",
      "|           1| 30328|  1238|   250|                 10|    3| 2.9783304|\n",
      "|           1| 30328|  1238|   250|                 10|    3| 2.9783304|\n",
      "+------------+------+------+------+-------------------+-----+----------+\n",
      "only showing top 11 rows\n",
      "\n"
     ]
    }
   ],
   "source": [
    "predictions.select([\"LoanIdFormat\",\"loanId\",\"userId\",\"Amount\",\"Total_Repayments__c\",\"count\",\"prediction\"]).show(11)"
   ]
  },
  {
   "cell_type": "code",
   "execution_count": 23,
   "id": "b0147d25-61eb-481f-a2dc-e754f74540cb",
   "metadata": {},
   "outputs": [
    {
     "name": "stdout",
     "output_type": "stream",
     "text": [
      "+----------+-----+\n",
      "|prediction|count|\n",
      "+----------+-----+\n",
      "|       0.0|    6|\n",
      "| 0.4780522|    1|\n",
      "| 0.6373373|    1|\n",
      "| 0.6584665|    1|\n",
      "|  0.689326|    1|\n",
      "| 0.7128293|    1|\n",
      "|0.75508547|    1|\n",
      "|0.76943505|    1|\n",
      "|0.77362174|    1|\n",
      "| 0.8119633|    1|\n",
      "|0.81252056|    1|\n",
      "| 0.8148231|    1|\n",
      "|0.83843994|    1|\n",
      "|0.83859515|    1|\n",
      "|0.84813917|    6|\n",
      "|0.86054224|    1|\n",
      "|0.86565226|    1|\n",
      "| 0.8848132|    1|\n",
      "| 0.8869176|    1|\n",
      "| 0.8922921|    2|\n",
      "| 0.9077615|    1|\n",
      "| 0.9114744|    1|\n",
      "| 0.9121581|    1|\n",
      "| 0.9121731|    2|\n",
      "|0.91401196|    1|\n",
      "| 0.9189796|    1|\n",
      "| 0.9232255|   27|\n",
      "|0.92810667|    1|\n",
      "|0.92925423|    1|\n",
      "| 0.9297418|    2|\n",
      "|0.93299097|    4|\n",
      "|0.93397653|    4|\n",
      "| 0.9352826|    5|\n",
      "| 0.9358399|    1|\n",
      "| 0.9369781|    2|\n",
      "|0.93700665|   21|\n",
      "| 0.9409862|    1|\n",
      "|  0.942026|    6|\n",
      "| 0.9465314|    1|\n",
      "| 0.9476901|    1|\n",
      "|  0.949451|    1|\n",
      "| 0.9601713|    1|\n",
      "|0.96408415|    7|\n",
      "|0.97204447|    1|\n",
      "| 0.9905545|    1|\n",
      "|  1.010535|    3|\n",
      "| 1.0361874|    1|\n",
      "| 1.0374606|    1|\n",
      "|  1.047809|    1|\n",
      "|  1.054086|    1|\n",
      "+----------+-----+\n",
      "only showing top 50 rows\n",
      "\n"
     ]
    }
   ],
   "source": [
    "predictions.groupBy(predictions.prediction).count().sort(predictions.prediction).show(50)"
   ]
  },
  {
   "cell_type": "code",
   "execution_count": 24,
   "id": "1b1cb23d-bf6b-4cbe-9240-3a6c0dad2815",
   "metadata": {},
   "outputs": [
    {
     "name": "stdout",
     "output_type": "stream",
     "text": [
      "+-------+------------------+------------------+\n",
      "|summary|        prediction|      LoanIdFormat|\n",
      "+-------+------------------+------------------+\n",
      "|  count|            110762|            110762|\n",
      "|   mean|1.6592763887953046| 4.523500839638143|\n",
      "| stddev|0.8900132734018381|2.7998824460256815|\n",
      "|    min|        0.27527267|                 1|\n",
      "|    max|         7.9435873|                20|\n",
      "+-------+------------------+------------------+\n",
      "\n"
     ]
    }
   ],
   "source": [
    "predictions.select(\"prediction\",\"LoanIdFormat\").describe().show()"
   ]
  },
  {
   "cell_type": "code",
   "execution_count": null,
   "id": "6947ef5d-365a-4f71-a8f9-c865c01e05eb",
   "metadata": {},
   "outputs": [],
   "source": []
  },
  {
   "cell_type": "code",
   "execution_count": null,
   "id": "8bd852bd-f5eb-4095-8b02-f255707397bc",
   "metadata": {},
   "outputs": [],
   "source": []
  },
  {
   "cell_type": "code",
   "execution_count": 25,
   "id": "d4fc2d3e-b55f-485c-a87d-ff790847e567",
   "metadata": {},
   "outputs": [],
   "source": [
    "evaluator = RegressionEvaluator(metricName='rmse', labelCol='count', predictionCol='prediction')\n",
    "error = evaluator.evaluate(predictions)"
   ]
  },
  {
   "cell_type": "code",
   "execution_count": 26,
   "id": "71839857-cdf9-4dbc-9310-f433c4b95729",
   "metadata": {},
   "outputs": [
    {
     "name": "stdout",
     "output_type": "stream",
     "text": [
      "The RMSE for the above mnodel is : 0.020444812351840813\n"
     ]
    }
   ],
   "source": [
    "print(f\"The RMSE for the above mnodel is : {error}\")  # o.463"
   ]
  },
  {
   "cell_type": "code",
   "execution_count": null,
   "id": "7e841871-6577-464c-afd2-ef42dc748376",
   "metadata": {},
   "outputs": [],
   "source": []
  },
  {
   "cell_type": "code",
   "execution_count": 27,
   "id": "2f3d2b7d-9df0-40e8-9653-b67d488fd4ae",
   "metadata": {},
   "outputs": [],
   "source": [
    "userRecommends = final_model.recommendForAllUsers(5)\n",
    "loanRecommends = final_model.recommendForAllItems(5)"
   ]
  },
  {
   "cell_type": "code",
   "execution_count": 28,
   "id": "61490ce4-2ace-47dd-9d3b-b5b0f541a3e2",
   "metadata": {},
   "outputs": [
    {
     "name": "stdout",
     "output_type": "stream",
     "text": [
      "root\n",
      " |-- LoanIdFormat: integer (nullable = false)\n",
      " |-- recommendations: array (nullable = true)\n",
      " |    |-- element: struct (containsNull = true)\n",
      " |    |    |-- userId: integer (nullable = true)\n",
      " |    |    |-- rating: float (nullable = true)\n",
      "\n"
     ]
    }
   ],
   "source": [
    "loanRecommends.printSchema()"
   ]
  },
  {
   "cell_type": "code",
   "execution_count": 29,
   "id": "cae2167c-8455-4c19-a013-dd44e4b9d333",
   "metadata": {},
   "outputs": [
    {
     "name": "stdout",
     "output_type": "stream",
     "text": [
      "+------------+----------------------------------+-------------------------------------------------------+\n",
      "|LoanIdFormat|userId                            |rating                                                 |\n",
      "+------------+----------------------------------+-------------------------------------------------------+\n",
      "|20          |[1832, 24531, 24495, 25243, 24364]|[7.925859, 6.93368, 6.897699, 5.949613, 5.948376]      |\n",
      "|10          |[1832, 24531, 24495, 25243, 24364]|[7.943282, 6.9493465, 6.9234138, 5.962423, 5.9613705]  |\n",
      "|1           |[1832, 24531, 24495, 24364, 25243]|[7.9422646, 6.9486647, 6.925728, 5.9587727, 5.9584146] |\n",
      "|11          |[1832, 24531, 24495, 25243, 24364]|[7.929284, 6.936657, 6.900826, 5.9548006, 5.953773]    |\n",
      "|12          |[1832, 24531, 24495, 24633, 30796]|[7.9482226, 6.9548264, 6.951849, 5.965371, 5.962574]   |\n",
      "|2           |[1832, 24531, 24495, 25243, 24364]|[7.940413, 6.9467936, 6.919386, 5.960266, 5.960021]    |\n",
      "|13          |[1832, 24495, 24531, 24713, 24608]|[5.7865367, 5.0946417, 5.0587287, 4.9884152, 4.972638] |\n",
      "|3           |[1832, 24531, 24495, 24364, 25243]|[7.95235, 6.95837, 6.952184, 5.9646697, 5.963507]      |\n",
      "|4           |[1832, 24531, 24495, 25243, 24364]|[7.9289966, 6.9363832, 6.8998227, 5.9551706, 5.9546113]|\n",
      "|14          |[1832, 24531, 24495, 24364, 25243]|[7.9465656, 6.952481, 6.931186, 5.9631968, 5.962983]   |\n",
      "+------------+----------------------------------+-------------------------------------------------------+\n",
      "only showing top 10 rows\n",
      "\n"
     ]
    }
   ],
   "source": [
    "loanRecommends.select([\"LoanIdFormat\",\"recommendations.userId\",\"recommendations.rating\"]).show(10,truncate=False)"
   ]
  },
  {
   "cell_type": "code",
   "execution_count": 30,
   "id": "bf08c18d-dae8-41f4-8595-f5922b0bcbaa",
   "metadata": {},
   "outputs": [
    {
     "name": "stdout",
     "output_type": "stream",
     "text": [
      "root\n",
      " |-- userId: integer (nullable = false)\n",
      " |-- recommendations: array (nullable = true)\n",
      " |    |-- element: struct (containsNull = true)\n",
      " |    |    |-- LoanIdFormat: integer (nullable = true)\n",
      " |    |    |-- rating: float (nullable = true)\n",
      "\n"
     ]
    }
   ],
   "source": [
    "userRecommends.printSchema()"
   ]
  },
  {
   "cell_type": "code",
   "execution_count": 31,
   "id": "fe062ea4-87e7-4f4e-9412-95c267d1d474",
   "metadata": {},
   "outputs": [
    {
     "name": "stdout",
     "output_type": "stream",
     "text": [
      "+------+------------------+-----------------------------------------------------------+\n",
      "|userId|LoanIdFormat      |rating                                                     |\n",
      "+------+------------------+-----------------------------------------------------------+\n",
      "|1     |[10, 8, 3, 14, 12]|[2.9811091, 2.9807904, 2.980191, 2.9799118, 2.9789734]     |\n",
      "|6     |[3, 7, 12, 6, 8]  |[0.99395484, 0.9936038, 0.99342227, 0.99326104, 0.99238056]|\n",
      "|12    |[3, 7, 12, 6, 8]  |[1.9876392, 1.98745, 1.9870634, 1.9860642, 1.9834268]      |\n",
      "|13    |[3, 12, 7, 6, 8]  |[0.99418116, 0.99351645, 0.9934004, 0.9933137, 0.9933035]  |\n",
      "|16    |[3, 12, 8, 7, 14] |[0.99412996, 0.9937981, 0.99337596, 0.99325854, 0.99317884]|\n",
      "|22    |[3, 12, 7, 6, 8]  |[0.99409443, 0.99357677, 0.99351203, 0.99326074, 0.9929124]|\n",
      "|26    |[3, 8, 12, 14, 10]|[0.9939673, 0.9935692, 0.99345833, 0.9933308, 0.9930572]   |\n",
      "|27    |[3, 12, 7, 8, 6]  |[0.99407005, 0.9935667, 0.99326724, 0.99326193, 0.9931031] |\n",
      "|28    |[3, 8, 14, 10, 12]|[0.99346983, 0.99346447, 0.9932265, 0.9930822, 0.9929975]  |\n",
      "|31    |[7, 12, 3, 6, 8]  |[1.9866652, 1.9866084, 1.9858973, 1.98365, 1.9793448]      |\n",
      "+------+------------------+-----------------------------------------------------------+\n",
      "only showing top 10 rows\n",
      "\n"
     ]
    }
   ],
   "source": [
    "userRecommends.select([\"userId\",\"recommendations.LoanIdFormat\",\"recommendations.rating\"]).show(10,truncate=False)"
   ]
  },
  {
   "cell_type": "code",
   "execution_count": null,
   "id": "6c43a8fb-3e0f-436e-ba38-8adf5efba30e",
   "metadata": {},
   "outputs": [],
   "source": []
  },
  {
   "cell_type": "code",
   "execution_count": 33,
   "id": "506f48ec-bf35-468a-9836-17ac00c01137",
   "metadata": {},
   "outputs": [
    {
     "name": "stdout",
     "output_type": "stream",
     "text": [
      "-RECORD 0------------------------------------------------------------------------------------------------------------\n",
      " LoanIdFormat    | 10                                                                                                \n",
      " recommendations | [{1832, 7.943282}, {24531, 6.9493465}, {24495, 6.9234138}, {25243, 5.962423}, {24364, 5.9613705}] \n",
      "\n"
     ]
    }
   ],
   "source": [
    "loanRecommends.filter(loanRecommends.LoanIdFormat == 10 ).show(vertical=True,truncate=False)"
   ]
  },
  {
   "cell_type": "code",
   "execution_count": null,
   "id": "1f2bc25c-5a85-45e2-b89a-d75d65a70040",
   "metadata": {},
   "outputs": [],
   "source": []
  },
  {
   "cell_type": "code",
   "execution_count": null,
   "id": "70f7708c-9e0d-4e94-921d-4d9354ddfff9",
   "metadata": {},
   "outputs": [],
   "source": []
  },
  {
   "cell_type": "code",
   "execution_count": null,
   "id": "d3746986-f722-4a7c-9b38-eb0b29f58b07",
   "metadata": {},
   "outputs": [],
   "source": []
  },
  {
   "cell_type": "code",
   "execution_count": null,
   "id": "1cd2003f-d376-41b2-a93e-ac9ececa4a92",
   "metadata": {},
   "outputs": [],
   "source": []
  },
  {
   "cell_type": "code",
   "execution_count": null,
   "id": "033322bf-b7b3-4ef5-9ab7-feb8249ba3ef",
   "metadata": {},
   "outputs": [],
   "source": []
  },
  {
   "cell_type": "code",
   "execution_count": null,
   "id": "9b546cb9-ecdd-4922-a710-513e94c0472e",
   "metadata": {},
   "outputs": [],
   "source": []
  },
  {
   "cell_type": "code",
   "execution_count": null,
   "id": "0c9bcaa4-1bdc-41c7-9243-2ea48dbad534",
   "metadata": {},
   "outputs": [],
   "source": []
  },
  {
   "cell_type": "code",
   "execution_count": null,
   "id": "b6363316-327c-4857-9ca8-f5faead059c2",
   "metadata": {},
   "outputs": [],
   "source": []
  },
  {
   "cell_type": "code",
   "execution_count": null,
   "id": "9d5e2e17-f927-47ec-90d1-3e99bf69ccf2",
   "metadata": {},
   "outputs": [],
   "source": []
  },
  {
   "cell_type": "code",
   "execution_count": null,
   "id": "66323d0a-fcbd-40d0-a13e-6b9449a77f64",
   "metadata": {},
   "outputs": [],
   "source": []
  },
  {
   "cell_type": "code",
   "execution_count": null,
   "id": "7e719f90-aee0-453a-87d5-df0e82ae507d",
   "metadata": {},
   "outputs": [],
   "source": []
  },
  {
   "cell_type": "code",
   "execution_count": null,
   "id": "59d656cc-fa74-43fc-bcd2-9a73ff7c11ce",
   "metadata": {},
   "outputs": [],
   "source": []
  },
  {
   "cell_type": "code",
   "execution_count": null,
   "id": "d33def82-a07b-4e44-8f8e-560f0a15ffcc",
   "metadata": {},
   "outputs": [],
   "source": []
  },
  {
   "cell_type": "code",
   "execution_count": null,
   "id": "650b4b08-6081-4dc9-9e5f-b2e34a2008bc",
   "metadata": {},
   "outputs": [],
   "source": []
  },
  {
   "cell_type": "code",
   "execution_count": null,
   "id": "f2c7c001-9cd5-4715-9d50-720d5ba66e2e",
   "metadata": {},
   "outputs": [],
   "source": []
  },
  {
   "cell_type": "code",
   "execution_count": null,
   "id": "fc93743b-4f9b-445e-ad88-359faef40b14",
   "metadata": {},
   "outputs": [],
   "source": [
    "# # For example, 30% of items will be masked\n",
    "# percent_items_to_mask = 0.3 \n",
    "# # Determine the number of items to mask for each user\n",
    "# df_rec_final = df_rec_filtered.withColumn(\"num_items_to_mask\", (col(\"num_items\") * percent_items_to_mask).cast(\"int\"))\n",
    "# # Masks items for each user\n",
    "# df_rec_final = df_rec_final.withColumn(\"item_rank\", rank().over(user_window))\n",
    "\n",
    "# # Create a StringIndexer model to index the user ID column\n",
    "# indexer_user = StringIndexer(inputCol='userId', outputCol='userIndex').setHandleInvalid(\"keep\")\n",
    "# indexer_item = StringIndexer(inputCol='itemId', outputCol='itemIndex').setHandleInvalid(\"keep\")\n",
    "\n",
    "# # Fit the indexer model to the data and transform the DataFrame\n",
    "# df_rec_final = indexer_user.fit(df_rec_final).transform(df_rec_final)\n",
    "# df_rec_final = indexer_item.fit(df_rec_final).transform(df_rec_final)\n",
    "\n",
    "# # Convert the userIndex column to integer type\n",
    "# df_rec_final = df_rec_final.withColumn('userIndex', df_rec_final['userIndex'].cast('integer'))\\\n",
    "#                .withColumn('itemIndex', df_rec_final['itemIndex'].cast('integer'))\n",
    "\n",
    "# train_df_rec = df_rec_final.filter(col(\"item_rank\") > col(\"num_items_to_mask\"))\n",
    "# test_df_rec = df_rec_final.filter(col(\"item_rank\") <= col(\"num_items_to_mask\"))"
   ]
  },
  {
   "cell_type": "code",
   "execution_count": 9,
   "id": "e1b2843f-61d6-42bf-8730-2ceb384e382e",
   "metadata": {},
   "outputs": [],
   "source": [
    "training_df, validation_df = ratings_df.randomSplit([.8,.2])"
   ]
  },
  {
   "cell_type": "code",
   "execution_count": 12,
   "id": "042c7928-94b7-4743-a232-392aa20173f1",
   "metadata": {},
   "outputs": [],
   "source": [
    "# Configure the ALS model\n",
    "als = ALS(userCol='userId', itemCol='movieId', ratingCol='rating',\n",
    "          coldStartStrategy='drop', nonnegative=True)\n",
    "\n",
    "param_grid = ParamGridBuilder()\\\n",
    "             .addGrid(als.rank, [1, 4, 10, 20, 30])\\\n",
    "             .addGrid(als.maxIter, [10 ,12,18,20])\\\n",
    "             .addGrid(als.regParam, [0.001, 0.01, .05, .15])\\\n",
    "             .build()\n",
    "evaluator = RegressionEvaluator(metricName='rmse', labelCol='rating', predictionCol='prediction')\n",
    "\n",
    "cv = CrossValidator(\n",
    "        estimator=als,\n",
    "        estimatorParamMaps=param_grid,\n",
    "        evaluator=evaluator,\n",
    "        numFolds=3)"
   ]
  },
  {
   "cell_type": "code",
   "execution_count": 13,
   "id": "5e683bcc-6fcb-447a-bed9-b2657075346c",
   "metadata": {},
   "outputs": [
    {
     "name": "stdout",
     "output_type": "stream",
     "text": [
      "rank:  1\n",
      "MaxIter:  20\n",
      "RegParam:  0.01\n"
     ]
    }
   ],
   "source": [
    "model = cv.fit(training_df)\n",
    "\n",
    "best_model = model.bestModel\n",
    "print('rank: ', best_model.rank)\n",
    "print('MaxIter: ', best_model._java_obj.parent().getMaxIter())\n",
    "print('RegParam: ', best_model._java_obj.parent().getRegParam())"
   ]
  },
  {
   "cell_type": "code",
   "execution_count": 16,
   "id": "f273cace-8604-4535-9a9d-e0d75b8787ad",
   "metadata": {},
   "outputs": [
    {
     "name": "stdout",
     "output_type": "stream",
     "text": [
      "Root Mean Squared Error (RMSE): 0.8744795298421134\n"
     ]
    }
   ],
   "source": [
    "# Train the model using the training data\n",
    "als_using_best_params = ALS(maxIter = best_model._java_obj.parent().getMaxIter(),regParam = best_model._java_obj.parent().getRegParam(),rank = best_model.rank,\n",
    "        userCol='userId', itemCol='movieId', ratingCol='rating',\n",
    "          coldStartStrategy='drop', nonnegative=True)\n",
    "model = als_using_best_params.fit(training_df)\n",
    "\n",
    "# Generate predictions on the test data\n",
    "predictions = best_model.transform(validation_df)\n",
    "predictions = predictions.withColumn(\"prediction\", expr(\"CASE WHEN prediction < 1 THEN 1 WHEN prediction > 5 THEN 5 ELSE prediction END\"))\n",
    "\n",
    "evaluator = RegressionEvaluator(metricName='rmse', labelCol='rating', predictionCol='prediction')\n",
    "rmse = evaluator.evaluate(predictions)\n",
    "print(f'Root Mean Squared Error (RMSE): {rmse}')"
   ]
  },
  {
   "cell_type": "code",
   "execution_count": 34,
   "id": "df974746-f89f-4696-9598-83a1a9aa1c04",
   "metadata": {},
   "outputs": [
    {
     "name": "stdout",
     "output_type": "stream",
     "text": [
      "+------+-------+------+----------+----------+\n",
      "|userId|movieId|rating| timestamp|prediction|\n",
      "+------+-------+------+----------+----------+\n",
      "|   322|   1580|   3.5|1217676294|  3.068567|\n",
      "|   593|   1580|   1.5|1181007882|  3.054487|\n",
      "|   597|   1580|   3.0| 941558308| 3.8594012|\n",
      "|   597|   2366|   5.0| 941729029|  3.914689|\n",
      "|   368|   2366|   4.0| 975828914| 2.9883285|\n",
      "|   368|   3918|   2.0| 971273835| 3.6173298|\n",
      "|   115|   1645|   4.0| 957648208| 3.6923604|\n",
      "|   385|   1238|   3.0| 865026050|  4.028213|\n",
      "|   183|   1580|   4.0| 992331667|  3.525297|\n",
      "|   436|    471|   3.0| 833530187| 3.5021195|\n",
      "+------+-------+------+----------+----------+\n",
      "only showing top 10 rows\n",
      "\n"
     ]
    }
   ],
   "source": [
    "predictions.show(10)"
   ]
  },
  {
   "cell_type": "code",
   "execution_count": 37,
   "id": "8dd0e209-ecb8-4a55-a2b4-224ffea506f8",
   "metadata": {},
   "outputs": [
    {
     "name": "stdout",
     "output_type": "stream",
     "text": [
      "+------+--------------------------------+----------+\n",
      "|userId|title                           |prediction|\n",
      "+------+--------------------------------+----------+\n",
      "|322   |Men in Black (a.k.a. MIB) (1997)|3.068567  |\n",
      "|593   |Men in Black (a.k.a. MIB) (1997)|3.054487  |\n",
      "|597   |Men in Black (a.k.a. MIB) (1997)|3.8594012 |\n",
      "|597   |King Kong (1933)                |3.914689  |\n",
      "|368   |King Kong (1933)                |2.9883285 |\n",
      "|368   |Hellbound: Hellraiser II (1988) |3.6173298 |\n",
      "|115   |The Devil's Advocate (1997)     |3.6923604 |\n",
      "|385   |Local Hero (1983)               |4.028213  |\n",
      "|183   |Men in Black (a.k.a. MIB) (1997)|3.525297  |\n",
      "|436   |Hudsucker Proxy, The (1994)     |3.5021195 |\n",
      "+------+--------------------------------+----------+\n",
      "only showing top 10 rows\n",
      "\n"
     ]
    }
   ],
   "source": [
    "predictions.join(movies_df,\"movieId\").select(\"userId\",\"title\",\"prediction\").show(10,truncate=False)"
   ]
  },
  {
   "cell_type": "code",
   "execution_count": 38,
   "id": "60252fc1-09fc-4f04-b534-3d4871e93536",
   "metadata": {},
   "outputs": [
    {
     "name": "stdout",
     "output_type": "stream",
     "text": [
      "+------+-------+------+----------+----------+\n",
      "|userId|movieId|rating| timestamp|prediction|\n",
      "+------+-------+------+----------+----------+\n",
      "|   322|   1580|   3.5|1217676294|  3.068567|\n",
      "|   593|   1580|   1.5|1181007882|  3.054487|\n",
      "|   597|   1580|   3.0| 941558308| 3.8594012|\n",
      "|   597|   2366|   5.0| 941729029|  3.914689|\n",
      "|   368|   2366|   4.0| 975828914| 2.9883285|\n",
      "|   368|   3918|   2.0| 971273835| 3.6173298|\n",
      "|   115|   1645|   4.0| 957648208| 3.6923604|\n",
      "|   385|   1238|   3.0| 865026050|  4.028213|\n",
      "|   183|   1580|   4.0| 992331667|  3.525297|\n",
      "|   436|    471|   3.0| 833530187| 3.5021195|\n",
      "+------+-------+------+----------+----------+\n",
      "only showing top 10 rows\n",
      "\n"
     ]
    }
   ],
   "source": [
    "+"
   ]
  },
  {
   "cell_type": "code",
   "execution_count": null,
   "id": "17e18c55-1601-4b17-b6dc-57800a0c12bf",
   "metadata": {},
   "outputs": [],
   "source": []
  },
  {
   "cell_type": "code",
   "execution_count": null,
   "id": "178b10e9-b7c9-4bba-9ecc-d440a0121994",
   "metadata": {},
   "outputs": [],
   "source": []
  },
  {
   "cell_type": "code",
   "execution_count": 27,
   "id": "f5d99235-2358-4b4f-a372-f45062cb2fd1",
   "metadata": {},
   "outputs": [],
   "source": [
    "userRecommends = model.recommendForAllUsers(5)\n",
    "movieRecommends = model.recommendForAllItems(5)"
   ]
  },
  {
   "cell_type": "code",
   "execution_count": 30,
   "id": "290e070b-ca79-4728-a718-b54a114c28f3",
   "metadata": {},
   "outputs": [
    {
     "name": "stdout",
     "output_type": "stream",
     "text": [
      "+------+-----------------------------------------------------------------------------------------------+\n",
      "|userId|recommendations                                                                                |\n",
      "+------+-----------------------------------------------------------------------------------------------+\n",
      "|1     |[{6835, 10.826822}, {5746, 10.826822}, {5181, 10.826822}, {7899, 9.74414}, {5764, 9.74414}]    |\n",
      "|2     |[{6835, 8.613483}, {5746, 8.613483}, {5181, 8.613483}, {7899, 7.752135}, {5764, 7.752135}]     |\n",
      "|3     |[{6835, 4.9506826}, {5746, 4.9506826}, {5181, 4.9506826}, {7899, 4.4556146}, {5764, 4.4556146}]|\n",
      "|4     |[{6835, 8.38581}, {5746, 8.38581}, {5181, 8.38581}, {7899, 7.547229}, {5764, 7.547229}]        |\n",
      "|5     |[{6835, 8.882423}, {5746, 8.882423}, {5181, 8.882423}, {7899, 7.994181}, {5764, 7.994181}]     |\n",
      "|6     |[{6835, 9.649032}, {5746, 9.649032}, {5181, 9.649032}, {7899, 8.684129}, {5764, 8.684129}]     |\n",
      "|7     |[{6835, 8.051511}, {5746, 8.051511}, {5181, 8.051511}, {7899, 7.246359}, {5764, 7.246359}]     |\n",
      "|8     |[{6835, 9.043954}, {5746, 9.043954}, {5181, 9.043954}, {7899, 8.139559}, {5764, 8.139559}]     |\n",
      "|9     |[{6835, 8.963494}, {5746, 8.963494}, {5181, 8.963494}, {7899, 8.067144}, {5764, 8.067144}]     |\n",
      "|10    |[{6835, 8.018471}, {5746, 8.018471}, {5181, 8.018471}, {7899, 7.216624}, {5764, 7.216624}]     |\n",
      "+------+-----------------------------------------------------------------------------------------------+\n",
      "only showing top 10 rows\n",
      "\n"
     ]
    }
   ],
   "source": [
    "userRecommends.select([\"userId\",\"recommendations\"]).show(10,truncate=False)"
   ]
  },
  {
   "cell_type": "code",
   "execution_count": 33,
   "id": "d13528e6-295b-44d0-8804-9eea5c3dbd7f",
   "metadata": {},
   "outputs": [
    {
     "name": "stdout",
     "output_type": "stream",
     "text": [
      "+-------+---------------------+\n",
      "|movieId|userID               |\n",
      "+-------+---------------------+\n",
      "|1      |[53, 43, 276, 12, 93]|\n",
      "|12     |[53, 43, 276, 12, 93]|\n",
      "|13     |[53, 43, 276, 12, 93]|\n",
      "|22     |[53, 43, 276, 12, 93]|\n",
      "|26     |[53, 43, 276, 12, 93]|\n",
      "|27     |[53, 43, 276, 12, 93]|\n",
      "|28     |[53, 43, 276, 12, 93]|\n",
      "|31     |[53, 43, 276, 12, 93]|\n",
      "|34     |[53, 43, 276, 12, 93]|\n",
      "|44     |[53, 43, 276, 12, 93]|\n",
      "+-------+---------------------+\n",
      "only showing top 10 rows\n",
      "\n"
     ]
    }
   ],
   "source": [
    "movieRecommends.select([\"movieId\",\"recommendations.userId\"]).show(10,truncate=False)"
   ]
  },
  {
   "cell_type": "code",
   "execution_count": null,
   "id": "f5992195-37e4-4f03-87c2-a4dd1d23e4fa",
   "metadata": {},
   "outputs": [],
   "source": []
  },
  {
   "cell_type": "code",
   "execution_count": null,
   "id": "04152596-1f0a-46dc-8ba1-88706c954011",
   "metadata": {},
   "outputs": [],
   "source": []
  },
  {
   "cell_type": "code",
   "execution_count": null,
   "id": "dd1b24de-e439-49fc-94ba-bb61c3a3ccde",
   "metadata": {},
   "outputs": [],
   "source": []
  },
  {
   "cell_type": "code",
   "execution_count": null,
   "id": "7dc06d9c-3815-423f-8cb2-f29d74509b61",
   "metadata": {},
   "outputs": [],
   "source": []
  },
  {
   "cell_type": "code",
   "execution_count": null,
   "id": "710503d3-3bb8-469f-b911-61420cf73037",
   "metadata": {},
   "outputs": [],
   "source": []
  },
  {
   "cell_type": "code",
   "execution_count": null,
   "id": "acf80f9f-a69e-4621-8806-9c566fc2760a",
   "metadata": {},
   "outputs": [],
   "source": []
  },
  {
   "cell_type": "code",
   "execution_count": null,
   "id": "9b6507a2-9e7d-4773-bcf8-944b9a32e994",
   "metadata": {},
   "outputs": [],
   "source": []
  },
  {
   "cell_type": "code",
   "execution_count": null,
   "id": "9662120d-cf62-4625-a356-c54e17f02e9c",
   "metadata": {},
   "outputs": [],
   "source": []
  },
  {
   "cell_type": "code",
   "execution_count": null,
   "id": "064b797b-516a-4c67-bb91-b410c5d2f269",
   "metadata": {},
   "outputs": [],
   "source": []
  },
  {
   "cell_type": "code",
   "execution_count": null,
   "id": "af855611-69bc-472c-9e7e-f7bccdd6da2a",
   "metadata": {},
   "outputs": [],
   "source": []
  },
  {
   "cell_type": "code",
   "execution_count": null,
   "id": "46d2fab2-1ad0-4960-bd5d-33e86e815e98",
   "metadata": {},
   "outputs": [],
   "source": []
  },
  {
   "cell_type": "code",
   "execution_count": null,
   "id": "3d46a85e-678a-494f-a1da-ada6ceeacfa4",
   "metadata": {},
   "outputs": [],
   "source": []
  },
  {
   "cell_type": "code",
   "execution_count": null,
   "id": "a8136dba-9546-4250-95cc-572f5396258c",
   "metadata": {},
   "outputs": [],
   "source": []
  },
  {
   "cell_type": "code",
   "execution_count": null,
   "id": "5f674f51-ee08-4f17-85ae-e45a113145eb",
   "metadata": {},
   "outputs": [],
   "source": []
  },
  {
   "cell_type": "code",
   "execution_count": null,
   "id": "7acb6099-abb6-4cff-9e49-3eeb104578c4",
   "metadata": {},
   "outputs": [],
   "source": []
  },
  {
   "cell_type": "code",
   "execution_count": null,
   "id": "dcba036f-b1e9-461b-8242-00098fae6275",
   "metadata": {},
   "outputs": [],
   "source": []
  },
  {
   "cell_type": "code",
   "execution_count": null,
   "id": "0ba217e9-9090-4a73-9485-71c92c28419a",
   "metadata": {},
   "outputs": [],
   "source": []
  },
  {
   "cell_type": "code",
   "execution_count": null,
   "id": "22529ea9-b51f-4a38-b3ee-d40eb5c77d89",
   "metadata": {},
   "outputs": [],
   "source": []
  },
  {
   "cell_type": "code",
   "execution_count": null,
   "id": "2909cdce-0035-4a3d-9689-ab4c7872bb70",
   "metadata": {},
   "outputs": [],
   "source": []
  },
  {
   "cell_type": "code",
   "execution_count": null,
   "id": "21ae7ac8-4a44-433e-9543-3116b5500f77",
   "metadata": {},
   "outputs": [],
   "source": [
    "from pyspark.sql import SparkSession\n",
    "from pyspark.ml.evaluation import RegressionEvaluator\n",
    "from pyspark.ml.recommendation import ALS\n",
    "from pyspark.sql.functions import col\n",
    "from pyspark.sql.functions import mean\n",
    "from pyspark.ml.feature import Normalizer\n",
    "from pyspark.ml.linalg import Vectors\n",
    "from pyspark.ml import Pipeline\n",
    " \n",
    "# Create a Spark session\n",
    "spark = SparkSession.builder.appName(\"ALSExample\").getOrCreate()\n",
    " \n",
    "# Sample data for user-item interactions\n",
    "data = [(0, 0, 4.0), (0, 1, 2.0), (1, 1, 3.0), (1, 2, 4.0), (2, 0, 1.0), (2, 2, 5.0)]\n",
    " \n",
    "# Create a DataFrame with columns 'user', 'item', and 'rating'\n",
    "df = spark.createDataFrame(data, [\"user\", \"item\", \"rating\"])\n",
    " \n",
    "# Split the data into training and testing sets\n",
    "(training, test) = df.randomSplit([0.8, 0.2])\n",
    " \n",
    "# Build the ALS model\n",
    "als = ALS(maxIter=5, regParam=0.01, userCol=\"user\", itemCol=\"item\", ratingCol=\"rating\", coldStartStrategy=\"drop\")\n",
    "model = als.fit(training)\n",
    " \n",
    "# Generate predictions on the test set\n",
    "predictions = model.transform(test)\n",
    " \n",
    "# Evaluate the model using Root Mean Squared Error (RMSE)\n",
    "evaluator = RegressionEvaluator(metricName=\"rmse\", labelCol=\"rating\", predictionCol=\"prediction\")\n",
    "rmse = evaluator.evaluate(predictions)\n",
    "print(\"Root Mean Squared Error (RMSE) = \" + str(rmse))\n",
    " \n",
    "# Calculate cosine similarity between users using Normalizer and dot product\n",
    "user_normalizer = Normalizer(inputCol=\"features\", outputCol=\"normalized_features\", p=2.0)\n",
    "user_normalized = user_normalizer.transform(model.userFactors)\n",
    " \n",
    "user_features = user_normalized.select(\"id\", \"normalized_features\").withColumnRenamed(\"id\", \"user_id\")\n",
    " \n",
    "user_similarity = user_features.alias(\"u1\").crossJoin(user_features.alias(\"u2\"))\n",
    " \n",
    "user_similarity = user_similarity.withColumn(\n",
    "    \"cosine_similarity\",\n",
    "    col(\"u1.normalized_features\").dot(col(\"u2.normalized_features\"))\n",
    ")\n",
    " \n",
    "# Centered cosine similarity\n",
    "avg_rating = df.select(mean(\"rating\")).collect()[0][0]\n",
    " \n",
    "user_similarity_centered = user_similarity.withColumn(\n",
    "    \"centered_cosine_similarity\",\n",
    "    col(\"cosine_similarity\") / (col(\"u1.normalized_features\").norm(2) * col(\"u2.normalized_features\").norm(2))\n",
    ")\n",
    " \n",
    "user_similarity_centered.show()\n",
    " \n",
    "# Note: This example demonstrates user-user similarity. You can adapt the code for item-item similarity as well."
   ]
  },
  {
   "cell_type": "code",
   "execution_count": null,
   "id": "2866ce89-53b6-4825-b53d-9391a4866636",
   "metadata": {},
   "outputs": [],
   "source": []
  },
  {
   "cell_type": "code",
   "execution_count": null,
   "id": "3f83e0bf-1fe3-4625-88a1-26fb9eb94606",
   "metadata": {},
   "outputs": [],
   "source": []
  },
  {
   "cell_type": "code",
   "execution_count": null,
   "id": "3acabc90-3214-497e-872b-5c64f60f2d86",
   "metadata": {},
   "outputs": [],
   "source": []
  },
  {
   "cell_type": "code",
   "execution_count": null,
   "id": "89c5689f-94af-462a-b715-11e8476d126e",
   "metadata": {},
   "outputs": [],
   "source": []
  },
  {
   "cell_type": "code",
   "execution_count": null,
   "id": "85bae612-7516-4974-b713-c1dfc13ee362",
   "metadata": {},
   "outputs": [],
   "source": []
  },
  {
   "cell_type": "code",
   "execution_count": null,
   "id": "ece6e4b3-79ad-420c-8c39-e840866f075c",
   "metadata": {},
   "outputs": [],
   "source": []
  }
 ],
 "metadata": {
  "kernelspec": {
   "display_name": "Python 3 (ipykernel)",
   "language": "python",
   "name": "python3"
  },
  "language_info": {
   "codemirror_mode": {
    "name": "ipython",
    "version": 3
   },
   "file_extension": ".py",
   "mimetype": "text/x-python",
   "name": "python",
   "nbconvert_exporter": "python",
   "pygments_lexer": "ipython3",
   "version": "3.12.0"
  }
 },
 "nbformat": 4,
 "nbformat_minor": 5
}
