{
 "cells": [
  {
   "cell_type": "code",
   "execution_count": 1,
   "id": "858601d7-d254-4b88-b0bc-d74ec2e91e25",
   "metadata": {},
   "outputs": [],
   "source": [
    "from pyspark.sql import SparkSession\n",
    "from pyspark.sql import SQLContext\n",
    "from pyspark.sql.functions import udf, col, when\n",
    "from pyspark.ml.recommendation import ALS\n",
    "from pyspark.ml.evaluation import RegressionEvaluator\n",
    "from pyspark.ml.tuning import ParamGridBuilder,CrossValidator\n",
    "import numpy as np\n",
    "from IPython.display import Image\n",
    "from IPython.display import display"
   ]
  },
  {
   "cell_type": "code",
   "execution_count": 43,
   "id": "43856f86-2863-455f-92e9-9c88eb446e9d",
   "metadata": {},
   "outputs": [],
   "source": [
    "from pyspark.sql.functions import expr\n",
    "from pyspark.sql.window import Window"
   ]
  },
  {
   "cell_type": "code",
   "execution_count": 2,
   "id": "08909833-9e79-46e3-9849-6fc115546d55",
   "metadata": {},
   "outputs": [],
   "source": [
    "spark  = SparkSession.builder.appName(\"Loan Recommendation\").getOrCreate()"
   ]
  },
  {
   "cell_type": "code",
   "execution_count": 3,
   "id": "f65d2694-a825-4c51-93b6-e8f3581ecefc",
   "metadata": {},
   "outputs": [
    {
     "name": "stderr",
     "output_type": "stream",
     "text": [
      "C:\\Users\\Lenovo\\AppData\\Local\\Programs\\Python\\Python312\\Lib\\site-packages\\pyspark\\sql\\context.py:113: FutureWarning: Deprecated in 3.0.0. Use SparkSession.builder.getOrCreate() instead.\n",
      "  warnings.warn(\n"
     ]
    }
   ],
   "source": [
    "sc = spark.sparkContext\n",
    "sqlContext = SQLContext(sc)"
   ]
  },
  {
   "cell_type": "code",
   "execution_count": 4,
   "id": "9e8cfde4-3d02-47fa-9d8d-78cf4f4884ec",
   "metadata": {},
   "outputs": [
    {
     "name": "stdout",
     "output_type": "stream",
     "text": [
      "root\n",
      " |-- Contact__c: string (nullable = true)\n",
      " |-- Min_IT_Loan_ID__c: integer (nullable = true)\n",
      " |-- Opp_Number__c: integer (nullable = true)\n",
      " |-- Id: string (nullable = true)\n",
      " |-- AccountID: string (nullable = true)\n",
      " |-- Number_Of_Loans_Granted__c: integer (nullable = true)\n",
      " |-- Num_Of_Loans_Paid__c: double (nullable = true)\n",
      " |-- Purpose_of_Loan__c: string (nullable = true)\n",
      " |-- Total_Repayments__c: integer (nullable = true)\n",
      " |-- Amount: integer (nullable = true)\n",
      " |-- Term_in_Weeks__c: double (nullable = true)\n",
      " |-- Payment_Frequency__c: string (nullable = true)\n",
      " |-- StageName: string (nullable = true)\n",
      " |-- userId: integer (nullable = true)\n",
      " |-- loanId: integer (nullable = true)\n",
      " |-- count: double (nullable = true)\n",
      " |-- LoanIdFormat: integer (nullable = true)\n",
      "\n"
     ]
    }
   ],
   "source": [
    "loans_df = spark.read.csv(\"Loan_recommedation_demo_version.csv\",inferSchema = True, header=True)\n",
    "loans_df.printSchema()"
   ]
  },
  {
   "cell_type": "code",
   "execution_count": 5,
   "id": "93a7bf7e-7551-4852-af0b-ec4590e97c64",
   "metadata": {},
   "outputs": [
    {
     "name": "stdout",
     "output_type": "stream",
     "text": [
      "+------------------+-----------------+-------------+------------------+------------------+--------------------------+--------------------+-------------------+-------------------+------+----------------+--------------------+---------+------+------+-----+------------+\n",
      "|        Contact__c|Min_IT_Loan_ID__c|Opp_Number__c|                Id|         AccountID|Number_Of_Loans_Granted__c|Num_Of_Loans_Paid__c| Purpose_of_Loan__c|Total_Repayments__c|Amount|Term_in_Weeks__c|Payment_Frequency__c|StageName|userId|loanId|count|LoanIdFormat|\n",
      "+------------------+-----------------+-------------+------------------+------------------+--------------------------+--------------------+-------------------+-------------------+------+----------------+--------------------+---------+------+------+-----+------------+\n",
      "|0032x000003RvgkAAC|          5145623|      4369500|0062x00000D178JAAR|0012x000004VG7MAAW|                         7|                 4.0|Relocation Expenses|                  2|   200|           6.857|             Monthly|Loan Paid|  1641|    35|  1.0|           1|\n",
      "|0032x00000HGNewAAH|          5145612|      4369281|0062x00000D16ulAAB|0012x00000NwrGSAAZ|                        10|                 6.0|Veterinary Expenses|                  2|   200|           6.857|             Monthly|Loan Paid|  1632|  3609|  2.0|           1|\n",
      "|0030K00001QYaZ1QAL|           835107|      4430711|0062x00000D2AEoAAN|0010K00001g7iB1QAI|                        52|                49.0|   Vehicle Expenses|                 14|   200|          13.714|              Weekly|Loan Paid|  1211|   323| 46.0|           2|\n",
      "|0032x0000042fZ6AAI|           895326|      4933131|0062x00000DWjAvAAL|0012x000005TO9PAAW|                        51|                44.0|    Living Expenses|                 10|   200|           9.714|              Weekly|Loan Paid|  1635|   578| 37.0|           2|\n",
      "|00328000019usxHAAQ|           846768|      4535369|0062x00000D8UMiAAN|0012800001SDUAGAA5|                        40|                36.0|    Living Expenses|                 14|   200|          14.143|              Weekly|Loan Paid|   513|    93| 32.0|           2|\n",
      "|0032x000002dnJnAAI|          5146609|      4427529|0062x00000D273xAAB|0012x000003EuYaAAK|                        39|                33.0|    Living Expenses|                  6|   200|           5.714|              Weekly|Loan Paid|   574|  3264| 27.0|           2|\n",
      "|00328000019usveAAA|           851969|      4585885|0062x00000D9VSJAA3|0012800001SDU8dAAH|                        38|                37.0|   Medical Expenses|                 14|   200|          14.286|              Weekly|Loan Paid|  2796|  2873| 36.0|           2|\n",
      "|0032800001J3F2pAAF|          1032588|      6662857|0062x00000ExRVFAA3|0012800001Zs6BrAAJ|                        32|                31.0|     Child Expenses|                 10|   200|          10.143|              Weekly|Loan Paid|  1250|  3927| 30.0|           2|\n",
      "|0032800001J3F2pAAF|           946271|      5531968|0062x00000E40DmAAJ|0012800001Zs6BrAAJ|                        32|                29.0|     Child Expenses|                  6|   200|           6.143|              Weekly|Loan Paid|  1250|  2267| 26.0|           2|\n",
      "|0030K00001PGFtBQAX|           999785|      6027923|0062x00000EEfiSAAT|0010K00001eyrOfQAI|                        30|                28.0|     Other Expenses|                 10|   200|           9.857|              Weekly|Loan Paid|   823|  1908| 26.0|           2|\n",
      "+------------------+-----------------+-------------+------------------+------------------+--------------------------+--------------------+-------------------+-------------------+------+----------------+--------------------+---------+------+------+-----+------------+\n",
      "only showing top 10 rows\n",
      "\n"
     ]
    }
   ],
   "source": [
    "loans_df.show(10)"
   ]
  },
  {
   "cell_type": "code",
   "execution_count": 6,
   "id": "506ca8ca-8005-4d23-875f-5a2bb14f7cd1",
   "metadata": {},
   "outputs": [],
   "source": [
    "# users_df = spark.read.csv(\"MovieLens/movies.csv\",inferSchema = True, header=True)\n",
    "# users_df.printSchema()"
   ]
  },
  {
   "cell_type": "code",
   "execution_count": 10,
   "id": "17ad987e-9ce3-465a-a3dc-d285d9b00402",
   "metadata": {},
   "outputs": [
    {
     "name": "stdout",
     "output_type": "stream",
     "text": [
      "root\n",
      " |-- Contact__c: string (nullable = true)\n",
      " |-- Min_IT_Loan_ID__c: integer (nullable = true)\n",
      " |-- Opp_Number__c: integer (nullable = true)\n",
      " |-- Id: string (nullable = true)\n",
      " |-- AccountID: string (nullable = true)\n",
      " |-- Number_Of_Loans_Granted__c: integer (nullable = true)\n",
      " |-- Num_Of_Loans_Paid__c: double (nullable = true)\n",
      " |-- Purpose_of_Loan__c: string (nullable = true)\n",
      " |-- Total_Repayments__c: integer (nullable = true)\n",
      " |-- Amount: integer (nullable = true)\n",
      " |-- Term_in_Weeks__c: double (nullable = true)\n",
      " |-- Payment_Frequency__c: string (nullable = true)\n",
      " |-- StageName: string (nullable = true)\n",
      " |-- userId: integer (nullable = true)\n",
      " |-- loanId: integer (nullable = true)\n",
      " |-- count: double (nullable = true)\n",
      " |-- LoanIdFormat: integer (nullable = true)\n",
      "\n"
     ]
    }
   ],
   "source": [
    "loans_df.printSchema()"
   ]
  },
  {
   "cell_type": "code",
   "execution_count": 7,
   "id": "2c65b7a7-66d7-4f20-b01d-e71c0ac9d7f2",
   "metadata": {},
   "outputs": [],
   "source": [
    "# links_df = spark.read.csv(\"MovieLens/links.csv\",inferSchema = True, header=True)\n",
    "# links_df.printSchema()"
   ]
  },
  {
   "cell_type": "code",
   "execution_count": 8,
   "id": "6a302a09-32af-4179-938d-36cbfc73a72c",
   "metadata": {},
   "outputs": [],
   "source": [
    "training_df, validation_df = loans_df.randomSplit([.8,.2])"
   ]
  },
  {
   "cell_type": "code",
   "execution_count": 9,
   "id": "4b4ad22f-b2a7-4736-ad73-74c8c3694b53",
   "metadata": {},
   "outputs": [],
   "source": [
    "iterations = 10\n",
    "regularization_parameter = 0.1\n",
    "rank = 4\n",
    "error = []\n",
    "err = 0"
   ]
  },
  {
   "cell_type": "code",
   "execution_count": 12,
   "id": "2a882064-2b76-4922-9078-36cdfd4a6d07",
   "metadata": {},
   "outputs": [
    {
     "name": "stdout",
     "output_type": "stream",
     "text": [
      "Root-mean-Square-error = 1.518451769232758\n"
     ]
    }
   ],
   "source": [
    "als = ALS(maxIter = iterations,regParam = regularization_parameter,rank = rank, userCol=\"userId\",itemCol=\"LoanIdFormat\",ratingCol=\"count\")\n",
    "model = als.fit(training_df)\n",
    "predictions = model.transform(validation_df)\n",
    "new_predictions = predictions.filter(col('prediction') != np.nan)\n",
    "evaluator = RegressionEvaluator(metricName=\"rmse\", labelCol=\"count\", predictionCol=\"prediction\")\n",
    "rmse = evaluator.evaluate(new_predictions)\n",
    "print(\"Root-mean-Square-error = \"+ str(rmse))"
   ]
  },
  {
   "cell_type": "code",
   "execution_count": 18,
   "id": "31017897-e103-46d4-959b-7b5f0390c02f",
   "metadata": {},
   "outputs": [
    {
     "name": "stdout",
     "output_type": "stream",
     "text": [
      "+------------------+------------------+------+--------------------+--------------------+------+-----+------------+----------+\n",
      "|                Id|         AccountID|Amount|Num_Of_Loans_Paid__c|  Purpose_of_Loan__c|userId|count|LoanIdFormat|prediction|\n",
      "+------------------+------------------+------+--------------------+--------------------+------+-----+------------+----------+\n",
      "|0062x00000Ew6DbAAJ|0010K000023zUJ8QAM|  2500|                18.0|Furniture or Appl...|  2484| 16.0|         496| 15.873513|\n",
      "|0062x00000D7qkTAAR|0010K000022k8DdQAI|  1000|                22.0|    Vehicle Expenses|   436| 17.0|         148| 16.929253|\n",
      "|0062x00000EysRaAAJ|0010K00001zFWRjQAO|  2300|                18.0| Veterinary Expenses|  1019| 17.0|         471| 16.984049|\n",
      "|0062x00000DFcmYAAT|0010K0000260MIYQA2|  1000|                24.0|     Travel Expenses|  2150| 19.0|         148|  19.03993|\n",
      "|0062x00000D1GuIAAV|0012800001SmREKAA3|   900|                14.0|    Medical Expenses|  2030| 10.0|         148|   9.96293|\n",
      "|0062x00000CRfXYAA1|0012800001SDTziAAH|  1000|                35.0|Home Maintenance ...|  1614| 31.0|         148| 30.877657|\n",
      "|0062x00000D18iEAAR|0010K00001g6wPZQAY|  1000|                 4.0|Vehicle registration|  2098|  2.0|         148| 1.9927776|\n",
      "|0062x00000EzLRjAAN|0010K00001ze5fNQAQ|  2300|                 6.0|     Living Expenses|  1753|  4.0|         471|  4.000879|\n",
      "|0062x00000D1E8GAAV|0012x00000G2sEYAAZ|  1000|                 7.0| Life Event Expenses|   656|  2.0|         148|  1.992495|\n",
      "|0062x00000Ew6DbAAJ|0010K000023zUJ8QAM|  2500|                18.0|Furniture or Appl...|  2484| 16.0|         496| 15.873513|\n",
      "|0062x00000EysRaAAJ|0010K00001zFWRjQAO|  2300|                18.0| Veterinary Expenses|  1019| 17.0|         471| 16.984049|\n",
      "|0062x00000EeYrWAAV|0012x00000TupicAAB|  2250|                 5.0|     Living Expenses|  1749|  1.0|         471|0.96428704|\n",
      "|0062x00000EyZCMAA3|0012x00000MjJZlAAN|  2250|                 8.0|      Other Expenses|   544|  7.0|         463|  6.999315|\n",
      "|0062x00000E5qErAAJ|0012800001SDUIyAAP|  2600|                26.0| Life Event Expenses|   936| 24.0|         496| 22.809305|\n",
      "|0062x00000E6w74AAB|0010K00002438TEQAY|  2350|                31.0|     Travel Expenses|    17| 29.0|         471| 28.619457|\n",
      "|0062x00000EO4Y8AAL|0012800001QCqQJAA1|  2500|                27.0|     Travel Expenses|   733| 25.0|         496| 22.768505|\n",
      "|0062x00000D181OAAR|0010K00002ATsgpQAD|  1000|                 5.0|    Vehicle Expenses|  2547|  4.0|         148| 3.9862564|\n",
      "|0062x00000Edyz1AAB|0012x00000BFZc5AAH|  2250|                 5.0|      Other Expenses|   241|  2.0|         471| 1.9995726|\n",
      "|0062x00000CR03LAAT|0010K00001cQWDjQAO|  1000|                42.0|Furniture or Appl...|  2756| 37.0|         148| 36.588615|\n",
      "|0062x00000D0zJFAAZ|0012x000003DZyxAAG|  2300|                11.0|    Vehicle Expenses|  1784|  9.0|         471|  8.998515|\n",
      "+------------------+------------------+------+--------------------+--------------------+------+-----+------------+----------+\n",
      "only showing top 20 rows\n",
      "\n"
     ]
    }
   ],
   "source": [
    "new_predictions.select([\"Id\",\"AccountID\",\"Amount\",\"Num_Of_Loans_Paid__c\",\"Purpose_of_Loan__c\",\"userId\",\"count\" ,\"LoanIdFormat\",\"prediction\"]).show()"
   ]
  },
  {
   "cell_type": "code",
   "execution_count": 13,
   "id": "2a0b7e1f-67e1-44a9-9daa-a5f544de86bf",
   "metadata": {},
   "outputs": [
    {
     "name": "stdout",
     "output_type": "stream",
     "text": [
      "+------------------+-----------------+-------------+------------------+------------------+--------------------------+--------------------+--------------------+-------------------+------+----------------+--------------------+---------+------+------+-----+------------+----------+\n",
      "|        Contact__c|Min_IT_Loan_ID__c|Opp_Number__c|                Id|         AccountID|Number_Of_Loans_Granted__c|Num_Of_Loans_Paid__c|  Purpose_of_Loan__c|Total_Repayments__c|Amount|Term_in_Weeks__c|Payment_Frequency__c|StageName|userId|loanId|count|LoanIdFormat|prediction|\n",
      "+------------------+-----------------+-------------+------------------+------------------+--------------------------+--------------------+--------------------+-------------------+------+----------------+--------------------+---------+------+------+-----+------------+----------+\n",
      "|0030K00001sAYZzQAO|          1027125|      6560979|0062x00000Ew6DbAAJ|0010K000023zUJ8QAM|                        20|                18.0|Furniture or Appl...|                  4|  2500|            17.0|             Monthly|Loan Paid|  2484|  3573| 16.0|         496| 15.873513|\n",
      "|0030K00001qFamaQAC|          5147888|      4502587|0062x00000D7qkTAAR|0010K000022k8DdQAI|                        27|                22.0|    Vehicle Expenses|                  4|  1000|          16.714|             Monthly|Loan Paid|   436|  1350| 17.0|         148| 16.929253|\n",
      "|0030K00001lQaKwQAK|          1037455|      6769066|0062x00000EysRaAAJ|0010K00001zFWRjQAO|                        19|                18.0| Veterinary Expenses|                  8|  2300|          14.571|         Fortnightly|Loan Paid|  1019|  3656| 17.0|         471| 16.984049|\n",
      "|0032x000002dc0fAAA|          5151677|      4678403|0062x00000DFcmYAAT|0010K0000260MIYQA2|                        29|                24.0|     Travel Expenses|                  5|  1000|          17.429|             Monthly|Loan Paid|  2150|   235| 19.0|         148|  19.03993|\n",
      "|0032800001A4y5EAAR|           829508|      4379514|0062x00000D1GuIAAV|0012800001SmREKAA3|                        18|                14.0|    Medical Expenses|                  4|   900|          15.143|             Monthly|Loan Paid|  2030|  4185| 10.0|         148|   9.96293|\n",
      "|00328000019usQRAAY|           771164|      3855131|0062x00000CRfXYAA1|0012800001SDTziAAH|                        39|                35.0|Home Maintenance ...|                  4|  1000|          17.286|             Monthly|Loan Paid|  1614|   266| 31.0|         148| 30.877657|\n",
      "|0030K00001QCeX1QAL|           828294|      4371129|0062x00000D18iEAAR|0010K00001g6wPZQAY|                         6|                 4.0|Vehicle registration|                  4|  1000|          15.286|             Monthly|Loan Paid|  2098|  3437|  2.0|         148| 1.9927776|\n",
      "|0030K00001mTGqvQAG|          1039056|      6802042|0062x00000EzLRjAAN|0010K00001ze5fNQAQ|                         8|                 6.0|     Living Expenses|                  8|  2300|          16.143|         Fortnightly|Loan Paid|  1753|  4410|  4.0|         471|  4.000879|\n",
      "|0032x00000B5DV2AAN|           828730|      4376533|0062x00000D1E8GAAV|0012x00000G2sEYAAZ|                        12|                 7.0| Life Event Expenses|                  4|  1000|          15.143|             Monthly|Loan Paid|   656|  4017|  2.0|         148|  1.992495|\n",
      "|0030K00001sAYZzQAO|          1027125|      6560979|0062x00000Ew6DbAAJ|0010K000023zUJ8QAM|                        20|                18.0|Furniture or Appl...|                  4|  2500|            17.0|             Monthly|Loan Paid|  2484|  3573| 16.0|         496| 15.873513|\n",
      "+------------------+-----------------+-------------+------------------+------------------+--------------------------+--------------------+--------------------+-------------------+------+----------------+--------------------+---------+------+------+-----+------------+----------+\n",
      "only showing top 10 rows\n",
      "\n"
     ]
    }
   ],
   "source": [
    "new_predictions.show(10)"
   ]
  },
  {
   "cell_type": "code",
   "execution_count": 19,
   "id": "270f8e0a-bb5b-4057-9b5f-2c51b5928c2b",
   "metadata": {},
   "outputs": [],
   "source": [
    "movieRecommends = model.recommendForAllItems(3)"
   ]
  },
  {
   "cell_type": "code",
   "execution_count": 28,
   "id": "301fe569-3a7e-4d0d-8656-29621670c4b7",
   "metadata": {},
   "outputs": [
    {
     "name": "stdout",
     "output_type": "stream",
     "text": [
      "+------------+-----------------+\n",
      "|LoanIdFormat|userId           |\n",
      "+------------+-----------------+\n",
      "|1           |[1635, 651, 1211]|\n",
      "|2           |[997, 1401, 651] |\n",
      "|3           |[709, 2085, 695] |\n",
      "|4           |[1635, 651, 1211]|\n",
      "|5           |[997, 1401, 651] |\n",
      "|6           |[709, 2085, 695] |\n",
      "|7           |[1635, 651, 1211]|\n",
      "|8           |[997, 1401, 695] |\n",
      "|9           |[709, 2085, 1543]|\n",
      "|10          |[1635, 651, 1211]|\n",
      "+------------+-----------------+\n",
      "only showing top 10 rows\n",
      "\n"
     ]
    }
   ],
   "source": [
    "movieRecommends.select(\"LoanIdFormat\",\"recommendations.userId\").show(10,False)"
   ]
  },
  {
   "cell_type": "code",
   "execution_count": 29,
   "id": "2f4203fa-83f8-4710-8620-7c6473c667e8",
   "metadata": {},
   "outputs": [],
   "source": [
    "userRecommends = model.recommendForAllUsers(3)"
   ]
  },
  {
   "cell_type": "code",
   "execution_count": 35,
   "id": "098ae5a3-acec-4b48-a19e-e95ef9c0cb5e",
   "metadata": {},
   "outputs": [
    {
     "data": {
      "text/plain": [
       "StructType([StructField('userId', IntegerType(), False), StructField('recommendations', ArrayType(StructType([StructField('LoanIdFormat', IntegerType(), True), StructField('rating', FloatType(), True)]), True), True)])"
      ]
     },
     "execution_count": 35,
     "metadata": {},
     "output_type": "execute_result"
    }
   ],
   "source": [
    "userRecommends.schema"
   ]
  },
  {
   "cell_type": "code",
   "execution_count": 37,
   "id": "b675110b-c0a1-4db4-8de3-a78631264bea",
   "metadata": {},
   "outputs": [
    {
     "name": "stdout",
     "output_type": "stream",
     "text": [
      "+------+---------------+\n",
      "|userId|LoanIdFormat   |\n",
      "+------+---------------+\n",
      "|1     |[535, 553, 550]|\n",
      "|3     |[628, 625, 622]|\n",
      "|5     |[830, 827, 818]|\n",
      "|6     |[358, 343, 364]|\n",
      "|12    |[30, 29, 28]   |\n",
      "|13    |[819, 801, 822]|\n",
      "|16    |[819, 801, 822]|\n",
      "|19    |[819, 801, 822]|\n",
      "|20    |[628, 625, 622]|\n",
      "|22    |[184, 169, 193]|\n",
      "+------+---------------+\n",
      "only showing top 10 rows\n",
      "\n"
     ]
    }
   ],
   "source": [
    "userRecommends.select(\"userId\",\"recommendations.LoanIdFormat\").show(10,False)"
   ]
  },
  {
   "cell_type": "code",
   "execution_count": 42,
   "id": "2ed2fe4a-e7de-433e-8648-dd0921f82762",
   "metadata": {},
   "outputs": [
    {
     "data": {
      "text/plain": [
       "DataFrame[userId: int, recommendations: array<struct<LoanIdFormat:int,rating:float>>]"
      ]
     },
     "execution_count": 42,
     "metadata": {},
     "output_type": "execute_result"
    }
   ],
   "source": []
  },
  {
   "cell_type": "code",
   "execution_count": 14,
   "id": "e265f644-dbec-4496-99e1-cd5859726b4f",
   "metadata": {},
   "outputs": [
    {
     "name": "stdout",
     "output_type": "stream",
     "text": [
      "+------------------+-----------------+-------------+------------------+------------------+--------------------------+--------------------+------------------+-------------------+------+----------------+--------------------+---------+------+------+-----+------------+----------+\n",
      "|        Contact__c|Min_IT_Loan_ID__c|Opp_Number__c|                Id|         AccountID|Number_Of_Loans_Granted__c|Num_Of_Loans_Paid__c|Purpose_of_Loan__c|Total_Repayments__c|Amount|Term_in_Weeks__c|Payment_Frequency__c|StageName|userId|loanId|count|LoanIdFormat|prediction|\n",
      "+------------------+-----------------+-------------+------------------+------------------+--------------------------+--------------------+------------------+-------------------+------+----------------+--------------------+---------+------+------+-----+------------+----------+\n",
      "|0030K00001JVbSpQAL|           907654|      5059066|0062x00000DYsyxAAD|0010K00001ayVHPQA2|                        29|                24.0|    Other Expenses|                 24|  3000|          25.857|              Weekly|Loan Paid|   668|  4116| 19.0|         593| 18.877747|\n",
      "|0030K00001JVbSpQAL|           907654|      5059066|0062x00000DYsyxAAD|0010K00001ayVHPQA2|                        29|                24.0|    Other Expenses|                 24|  3000|          25.857|              Weekly|Loan Paid|   668|  4116| 19.0|         593| 18.877747|\n",
      "|0030K00001JVbSpQAL|           907654|      5059066|0062x00000DYsyxAAD|0010K00001ayVHPQA2|                        29|                24.0|    Other Expenses|                 24|  3000|          25.857|              Weekly|Loan Paid|   668|  4116| 19.0|         587| 18.905663|\n",
      "|0030K00001JVbSpQAL|           907654|      5059066|0062x00000DYsyxAAD|0010K00001ayVHPQA2|                        29|                24.0|    Other Expenses|                 24|  3000|          25.857|              Weekly|Loan Paid|   668|  4116| 19.0|         602|  18.93985|\n",
      "|0030K00001JVbSpQAL|           907654|      5059066|0062x00000DYsyxAAD|0010K00001ayVHPQA2|                        29|                24.0|    Other Expenses|                 24|  3000|          25.857|              Weekly|Loan Paid|   668|  4116| 19.0|         599|  18.91067|\n",
      "|0030K00001JVbSpQAL|           907654|      5059066|0062x00000DYsyxAAD|0010K00001ayVHPQA2|                        29|                24.0|    Other Expenses|                 24|  3000|          25.857|              Weekly|Loan Paid|   668|  4116| 19.0|         572| 18.884716|\n",
      "|0030K00001JVbSpQAL|           907654|      5059066|0062x00000DYsyxAAD|0010K00001ayVHPQA2|                        29|                24.0|    Other Expenses|                 24|  3000|          25.857|              Weekly|Loan Paid|   668|  4116| 19.0|         590| 18.918877|\n",
      "|0030K00001JVbSpQAL|           907654|      5059066|0062x00000DYsyxAAD|0010K00001ayVHPQA2|                        29|                24.0|    Other Expenses|                 24|  3000|          25.857|              Weekly|Loan Paid|   668|  4116| 19.0|         590| 18.918877|\n",
      "|0030K00001JVbSpQAL|           907654|      5059066|0062x00000DYsyxAAD|0010K00001ayVHPQA2|                        29|                24.0|    Other Expenses|                 24|  3000|          25.857|              Weekly|Loan Paid|   668|  4116| 19.0|         608| 18.910358|\n",
      "|0030K00001JVbSpQAL|           907654|      5059066|0062x00000DYsyxAAD|0010K00001ayVHPQA2|                        29|                24.0|    Other Expenses|                 24|  3000|          25.857|              Weekly|Loan Paid|   668|  4116| 19.0|         566| 18.953238|\n",
      "+------------------+-----------------+-------------+------------------+------------------+--------------------------+--------------------+------------------+-------------------+------+----------------+--------------------+---------+------+------+-----+------------+----------+\n",
      "only showing top 10 rows\n",
      "\n"
     ]
    }
   ],
   "source": [
    "predictions.show(10)"
   ]
  },
  {
   "cell_type": "code",
   "execution_count": 113,
   "id": "02b0b2cf-d139-4333-a851-b7c2d3f98a7b",
   "metadata": {},
   "outputs": [],
   "source": [
    "def apk(actual, predicted, k=10):\n",
    "    \"\"\"\n",
    "    Computes the average precision at k.\n",
    "    This function computes the average prescision at k between two lists of\n",
    "    items.\n",
    "    Parameters\n",
    "    ----------\n",
    "    actual : list\n",
    "             A list of elements that are to be predicted (order doesn't matter)\n",
    "    predicted : list\n",
    "                A list of predicted elements (order does matter)\n",
    "    k : int, optional\n",
    "        The maximum number of predicted elements\n",
    "    Returns\n",
    "    -------\n",
    "    score : double\n",
    "            The average precision at k over the input lists\n",
    "    \"\"\"\n",
    "    if not actual:\n",
    "        return 0.0\n",
    "\n",
    "    # if len(predicted)>k:\n",
    "    #     predicted = predicted[:k]\n",
    "\n",
    "    score = 0.0\n",
    "    num_hits = 0.0\n",
    "\n",
    "    for i,p in enumerate(predicted):\n",
    "        # first condition checks whether it is valid prediction\n",
    "        # second condition checks if prediction is not repeated\n",
    "        if p in actual and p not in predicted[:i]:\n",
    "            num_hits += 1.0\n",
    "            score += num_hits / (i+1.0)\n",
    "            \n",
    "    return score / min(len(actual), k)\n",
    "\n",
    "def mapk(actual, predicted, k=10):\n",
    "    \"\"\"\n",
    "    Computes the mean average precision at k.\n",
    "    This function computes the mean average prescision at k between two lists\n",
    "    of lists of items.\n",
    "    Parameters\n",
    "    ----------\n",
    "    actual : list\n",
    "             A list of lists of elements that are to be predicted \n",
    "             (order doesn't matter in the lists)\n",
    "    predicted : list\n",
    "                A list of lists of predicted elements\n",
    "                (order matters in the lists)\n",
    "    k : int, optional\n",
    "        The maximum number of predicted elements\n",
    "    Returns\n",
    "    -------\n",
    "    score : double\n",
    "            The mean average precision at k over the input lists\n",
    "    \"\"\"\n",
    "    return np.mean([apk(a,p,k) for a,p in zip(actual, predicted)])"
   ]
  },
  {
   "cell_type": "code",
   "execution_count": 112,
   "id": "3ed1919d-9880-47c5-9b7e-f6d8b0f4515c",
   "metadata": {},
   "outputs": [
    {
     "ename": "TypeError",
     "evalue": "'float' object is not iterable",
     "output_type": "error",
     "traceback": [
      "\u001b[1;31m---------------------------------------------------------------------------\u001b[0m",
      "\u001b[1;31mTypeError\u001b[0m                                 Traceback (most recent call last)",
      "Cell \u001b[1;32mIn[112], line 4\u001b[0m\n\u001b[0;32m      1\u001b[0m count_list \u001b[38;5;241m=\u001b[39m new_predictions\u001b[38;5;241m.\u001b[39mselect(\u001b[38;5;124m\"\u001b[39m\u001b[38;5;124mcount\u001b[39m\u001b[38;5;124m\"\u001b[39m)\u001b[38;5;241m.\u001b[39mtoPandas()[\u001b[38;5;124m\"\u001b[39m\u001b[38;5;124mcount\u001b[39m\u001b[38;5;124m\"\u001b[39m]\u001b[38;5;241m.\u001b[39mtolist()\n\u001b[0;32m      2\u001b[0m prediction_list \u001b[38;5;241m=\u001b[39m  new_predictions\u001b[38;5;241m.\u001b[39mselect(\u001b[38;5;124m\"\u001b[39m\u001b[38;5;124mprediction\u001b[39m\u001b[38;5;124m\"\u001b[39m)\u001b[38;5;241m.\u001b[39mtoPandas()[\u001b[38;5;124m\"\u001b[39m\u001b[38;5;124mprediction\u001b[39m\u001b[38;5;124m\"\u001b[39m]\u001b[38;5;241m.\u001b[39mtolist()\n\u001b[1;32m----> 4\u001b[0m \u001b[43mmapk\u001b[49m\u001b[43m(\u001b[49m\u001b[43mcount_list\u001b[49m\u001b[43m,\u001b[49m\u001b[43mprediction_list\u001b[49m\u001b[43m,\u001b[49m\u001b[38;5;241;43m3\u001b[39;49m\u001b[43m \u001b[49m\u001b[43m)\u001b[49m\n",
      "Cell \u001b[1;32mIn[111], line 57\u001b[0m, in \u001b[0;36mmapk\u001b[1;34m(actual, predicted, k)\u001b[0m\n\u001b[0;32m     37\u001b[0m \u001b[38;5;28;01mdef\u001b[39;00m \u001b[38;5;21mmapk\u001b[39m(actual, predicted, k\u001b[38;5;241m=\u001b[39m\u001b[38;5;241m10\u001b[39m):\n\u001b[0;32m     38\u001b[0m \u001b[38;5;250m    \u001b[39m\u001b[38;5;124;03m\"\"\"\u001b[39;00m\n\u001b[0;32m     39\u001b[0m \u001b[38;5;124;03m    Computes the mean average precision at k.\u001b[39;00m\n\u001b[0;32m     40\u001b[0m \u001b[38;5;124;03m    This function computes the mean average prescision at k between two lists\u001b[39;00m\n\u001b[1;32m   (...)\u001b[0m\n\u001b[0;32m     55\u001b[0m \u001b[38;5;124;03m            The mean average precision at k over the input lists\u001b[39;00m\n\u001b[0;32m     56\u001b[0m \u001b[38;5;124;03m    \"\"\"\u001b[39;00m\n\u001b[1;32m---> 57\u001b[0m     \u001b[38;5;28;01mreturn\u001b[39;00m np\u001b[38;5;241m.\u001b[39mmean([\u001b[43mapk\u001b[49m\u001b[43m(\u001b[49m\u001b[43ma\u001b[49m\u001b[43m,\u001b[49m\u001b[43mp\u001b[49m\u001b[43m,\u001b[49m\u001b[43mk\u001b[49m\u001b[43m)\u001b[49m \u001b[38;5;28;01mfor\u001b[39;00m a,p \u001b[38;5;129;01min\u001b[39;00m \u001b[38;5;28mzip\u001b[39m(actual, predicted)])\n",
      "Cell \u001b[1;32mIn[111], line 28\u001b[0m, in \u001b[0;36mapk\u001b[1;34m(actual, predicted, k)\u001b[0m\n\u001b[0;32m     25\u001b[0m score \u001b[38;5;241m=\u001b[39m \u001b[38;5;241m0.0\u001b[39m\n\u001b[0;32m     26\u001b[0m num_hits \u001b[38;5;241m=\u001b[39m \u001b[38;5;241m0.0\u001b[39m\n\u001b[1;32m---> 28\u001b[0m \u001b[38;5;28;01mfor\u001b[39;00m i,p \u001b[38;5;129;01min\u001b[39;00m \u001b[38;5;28;43menumerate\u001b[39;49m\u001b[43m(\u001b[49m\u001b[43mpredicted\u001b[49m\u001b[43m)\u001b[49m:\n\u001b[0;32m     29\u001b[0m     \u001b[38;5;66;03m# first condition checks whether it is valid prediction\u001b[39;00m\n\u001b[0;32m     30\u001b[0m     \u001b[38;5;66;03m# second condition checks if prediction is not repeated\u001b[39;00m\n\u001b[0;32m     31\u001b[0m     \u001b[38;5;28;01mif\u001b[39;00m p \u001b[38;5;129;01min\u001b[39;00m actual \u001b[38;5;129;01mand\u001b[39;00m p \u001b[38;5;129;01mnot\u001b[39;00m \u001b[38;5;129;01min\u001b[39;00m predicted[:i]:\n\u001b[0;32m     32\u001b[0m         num_hits \u001b[38;5;241m+\u001b[39m\u001b[38;5;241m=\u001b[39m \u001b[38;5;241m1.0\u001b[39m\n",
      "\u001b[1;31mTypeError\u001b[0m: 'float' object is not iterable"
     ]
    }
   ],
   "source": [
    "count_list = new_predictions.select(\"count\").toPandas()[\"count\"].tolist()\n",
    "prediction_list =  new_predictions.select(\"prediction\").toPandas()[\"prediction\"].tolist()\n",
    "\n",
    "mapk(count_list,prediction_list,3 )"
   ]
  },
  {
   "cell_type": "code",
   "execution_count": null,
   "id": "443282ec-43d9-4f56-826d-dde22b20e975",
   "metadata": {},
   "outputs": [],
   "source": []
  },
  {
   "cell_type": "code",
   "execution_count": null,
   "id": "571ec37c-74a4-4430-ba59-4302082af7b5",
   "metadata": {},
   "outputs": [],
   "source": []
  },
  {
   "cell_type": "code",
   "execution_count": 115,
   "id": "7ce10d53-0113-4e65-8195-e44522c868f9",
   "metadata": {},
   "outputs": [
    {
     "name": "stdout",
     "output_type": "stream",
     "text": [
      "+------------------+-----------------+-------------+------------------+------------------+--------------------------+--------------------+--------------------+-------------------+------+----------------+--------------------+---------+------+------+-----+------------+----------+\n",
      "|        Contact__c|Min_IT_Loan_ID__c|Opp_Number__c|                Id|         AccountID|Number_Of_Loans_Granted__c|Num_Of_Loans_Paid__c|  Purpose_of_Loan__c|Total_Repayments__c|Amount|Term_in_Weeks__c|Payment_Frequency__c|StageName|userId|loanId|count|LoanIdFormat|prediction|\n",
      "+------------------+-----------------+-------------+------------------+------------------+--------------------------+--------------------+--------------------+-------------------+------+----------------+--------------------+---------+------+------+-----+------------+----------+\n",
      "|0030K00001sAYZzQAO|          1027125|      6560979|0062x00000Ew6DbAAJ|0010K000023zUJ8QAM|                        20|                18.0|Furniture or Appl...|                  4|  2500|            17.0|             Monthly|Loan Paid|  2484|  3573| 16.0|         496| 15.873513|\n",
      "|0030K00001qFamaQAC|          5147888|      4502587|0062x00000D7qkTAAR|0010K000022k8DdQAI|                        27|                22.0|    Vehicle Expenses|                  4|  1000|          16.714|             Monthly|Loan Paid|   436|  1350| 17.0|         148| 16.929253|\n",
      "|0030K00001lQaKwQAK|          1037455|      6769066|0062x00000EysRaAAJ|0010K00001zFWRjQAO|                        19|                18.0| Veterinary Expenses|                  8|  2300|          14.571|         Fortnightly|Loan Paid|  1019|  3656| 17.0|         471| 16.984049|\n",
      "|0032x000002dc0fAAA|          5151677|      4678403|0062x00000DFcmYAAT|0010K0000260MIYQA2|                        29|                24.0|     Travel Expenses|                  5|  1000|          17.429|             Monthly|Loan Paid|  2150|   235| 19.0|         148|  19.03993|\n",
      "|0032800001A4y5EAAR|           829508|      4379514|0062x00000D1GuIAAV|0012800001SmREKAA3|                        18|                14.0|    Medical Expenses|                  4|   900|          15.143|             Monthly|Loan Paid|  2030|  4185| 10.0|         148|   9.96293|\n",
      "+------------------+-----------------+-------------+------------------+------------------+--------------------------+--------------------+--------------------+-------------------+------+----------------+--------------------+---------+------+------+-----+------------+----------+\n",
      "only showing top 5 rows\n",
      "\n"
     ]
    }
   ],
   "source": [
    "new_predictions.show(5)"
   ]
  },
  {
   "cell_type": "code",
   "execution_count": 131,
   "id": "21adc65d-0040-4e24-a409-043005351139",
   "metadata": {},
   "outputs": [],
   "source": [
    "# Function to calculate MAP@K\n",
    "def calculate_map_at_k(predictions, ground_truth, k):\n",
    "    # Inner join to get the predicted ratings for relevant items\n",
    "    joined_df = predictions.join(ground_truth, on=\"userId\")\n",
    "    # Sort recommendations by predicted rating in descending order\n",
    "    window_spec = Window().partitionBy(\"userId\").orderBy(col(\"count\").desc())\n",
    "    sorted_predictions = joined_df.select(\n",
    "        \"userId\",\n",
    "        \"loanId\",\n",
    "        \"prediction\",\n",
    "        expr(\"ROW_NUMBER() OVER (PARTITION BY userId ORDER BY count DESC) AS rank\")\n",
    "    ).filter(col(\"rank\") <= k)\n",
    "    print(sorted_predictions.show(10))\n",
    "    # Calculate precision at each position\n",
    "    precision_at_k = sorted_predictions.withColumn(\n",
    "        \"relevant_at_k\", expr(\"CASE WHEN loanId IN (loanId) THEN (prediction) ELSE 0 END\")\n",
    "    ).groupBy(\"userId\").agg(expr(f\"SUM(relevant_at_k) / {k} AS precision_at_k\"))\n",
    "    print(precision_at_k.show(3))\n",
    "    # Calculate MAP@K\n",
    "    map_at_k = precision_at_k.agg(expr(\"SUM(precision_at_k) / COUNT(userId) AS map_at_k\")).collect()[0][\"map_at_k\"]\n",
    "    print(\"map at k \",map_at_k)\n",
    "    return map_at_k"
   ]
  },
  {
   "cell_type": "code",
   "execution_count": 132,
   "id": "6a7c3e46-3561-4f92-97dc-79a2d7f152ec",
   "metadata": {},
   "outputs": [
    {
     "name": "stdout",
     "output_type": "stream",
     "text": [
      "+------+------+----------+----+\n",
      "|userId|loanId|prediction|rank|\n",
      "+------+------+----------+----+\n",
      "|     1|   757| 4.9824653|   1|\n",
      "|     1|   757| 4.9746227|   2|\n",
      "|     1|   757| 4.9824653|   3|\n",
      "|     2|  2248| 6.9537015|   1|\n",
      "|     2|  2248| 6.9573073|   2|\n",
      "|     2|  2248| 6.9537015|   3|\n",
      "|     3|  2521| 3.9583652|   1|\n",
      "|     3|  2521| 3.9486866|   2|\n",
      "|     3|  2521| 3.9583652|   3|\n",
      "|     4|  4166| 24.773582|   1|\n",
      "+------+------+----------+----+\n",
      "only showing top 10 rows\n",
      "\n",
      "None\n",
      "+------+------------------+\n",
      "|userId|    precision_at_k|\n",
      "+------+------------------+\n",
      "|     1| 4.979851086934407|\n",
      "|     2| 6.961169083913167|\n",
      "|     3|3.9515560468037925|\n",
      "+------+------------------+\n",
      "only showing top 3 rows\n",
      "\n",
      "None\n",
      "map at k  11.771399787381077\n",
      "MAP@3: 11.771399787381077\n"
     ]
    }
   ],
   "source": [
    "map_at_3 = calculate_map_at_k(new_predictions.select(\"Id\",\"AccountID\",\"prediction\",\"LoanIdFormat\",\"userId\"), loans_df, k=3)\n",
    "print(f\"MAP@3: {map_at_3}\")"
   ]
  },
  {
   "cell_type": "code",
   "execution_count": 65,
   "id": "24797084-d431-48bd-8e12-9ec10cef8c40",
   "metadata": {},
   "outputs": [],
   "source": [
    "from pyspark.sql import functions as F\n",
    "from pyspark.ml.evaluation import RegressionEvaluator\n",
    "from pyspark.ml.recommendation import ALS\n",
    " \n",
    "def calculate_mapk(predictions, k):\n",
    "    # Group by user\n",
    "    user_recs = predictions.groupBy('userId').agg(F.collect_list('prediction').alias('predictions'))\n",
    "    # Calculate average precision for each user\n",
    "    user_avgs = user_recs.rdd.map(lambda row: (row[0], avg_precision(row[1], k))).collect()\n",
    "    # Calculate MAP@K\n",
    "    mapk = sum([user_avg for (_, user_avg) in user_avgs]) / len(user_avgs)\n",
    "    return mapk\n",
    "def avg_precision(predictions, k):\n",
    "    # Sort predictions\n",
    "    sorted_preds = sorted(predictions, reverse=True)\n",
    "    # Initialize counters\n",
    "    num_hits, sum_precs = 0, 0.0\n",
    "    # Calculate average precision\n",
    "    for i, pred in enumerate(sorted_preds):\n",
    "        if pred == 1:\n",
    "            num_hits += 1\n",
    "            sum_precs += num_hits / (i+1)\n",
    "    return sum_precs / min(len(sorted_preds), k)"
   ]
  },
  {
   "cell_type": "code",
   "execution_count": null,
   "id": "7e4252ac-30f7-446f-b3ed-a2eec0aad7dd",
   "metadata": {},
   "outputs": [],
   "source": [
    " "
   ]
  },
  {
   "cell_type": "code",
   "execution_count": null,
   "id": "235458aa-72a1-4a29-b2d9-ce570aa2c991",
   "metadata": {},
   "outputs": [],
   "source": []
  },
  {
   "cell_type": "code",
   "execution_count": 32,
   "id": "783c773f-bb4b-48a3-a1eb-1722a911965a",
   "metadata": {},
   "outputs": [
    {
     "data": {
      "text/plain": [
       "StructType([StructField('userId', IntegerType(), False), StructField('recommendations', ArrayType(StructType([StructField('movieId', IntegerType(), True), StructField('rating', FloatType(), True)]), True), True)])"
      ]
     },
     "execution_count": 32,
     "metadata": {},
     "output_type": "execute_result"
    }
   ],
   "source": [
    "userRecommends.schema"
   ]
  },
  {
   "cell_type": "code",
   "execution_count": null,
   "id": "1961e4ea-87cb-475f-a05b-2ebe2e42a7b7",
   "metadata": {},
   "outputs": [],
   "source": []
  },
  {
   "cell_type": "code",
   "execution_count": 35,
   "id": "92ac5cff-89bb-4de1-958c-a8ca262bc5f8",
   "metadata": {},
   "outputs": [
    {
     "name": "stdout",
     "output_type": "stream",
     "text": [
      "+------+--------------------------------------+\n",
      "|userId|movieID                               |\n",
      "+------+--------------------------------------+\n",
      "|1     |[170355, 3379, 33649, 60943, 59018]   |\n",
      "|2     |[3567, 5075, 141718, 72171, 60943]    |\n",
      "|3     |[74754, 99764, 26865, 148881, 3837]   |\n",
      "|4     |[25825, 3567, 127108, 7834, 7841]     |\n",
      "|5     |[89904, 170355, 3379, 174053, 7815]   |\n",
      "|6     |[82, 87234, 3925, 42730, 6732]        |\n",
      "|7     |[25771, 8477, 148881, 74754, 87234]   |\n",
      "|8     |[60943, 59018, 170355, 3379, 174053]  |\n",
      "|9     |[112804, 60943, 59018, 106100, 174053]|\n",
      "|10    |[112804, 90888, 82, 51931, 2316]      |\n",
      "+------+--------------------------------------+\n",
      "only showing top 10 rows\n",
      "\n"
     ]
    }
   ],
   "source": [
    "userRecommends.select(\"userId\",\"recommendations.movieID\").show(10,False)"
   ]
  },
  {
   "cell_type": "code",
   "execution_count": null,
   "id": "c1cf0773-6451-4bbc-ab07-a139b394ab9e",
   "metadata": {},
   "outputs": [],
   "source": []
  },
  {
   "cell_type": "code",
   "execution_count": null,
   "id": "23bf9137-2629-4705-a73d-a87374218e10",
   "metadata": {},
   "outputs": [],
   "source": []
  },
  {
   "cell_type": "code",
   "execution_count": null,
   "id": "dcf37fb3-cd16-4213-aaeb-b8e8456f1298",
   "metadata": {},
   "outputs": [],
   "source": []
  },
  {
   "cell_type": "code",
   "execution_count": null,
   "id": "277b275e-ff16-47e2-ab8f-f620306c01db",
   "metadata": {},
   "outputs": [],
   "source": []
  },
  {
   "cell_type": "code",
   "execution_count": null,
   "id": "f506513f-ceb6-430b-abbf-f62ef272ae1d",
   "metadata": {},
   "outputs": [],
   "source": []
  },
  {
   "cell_type": "code",
   "execution_count": null,
   "id": "92553515-9388-45de-8783-4eb215cd19a8",
   "metadata": {},
   "outputs": [],
   "source": []
  },
  {
   "cell_type": "code",
   "execution_count": null,
   "id": "b97446ac-fe38-4229-80f8-583f36ba212d",
   "metadata": {},
   "outputs": [],
   "source": []
  },
  {
   "cell_type": "code",
   "execution_count": null,
   "id": "ec9e1196-dedf-4a1a-829d-7409b90267c0",
   "metadata": {},
   "outputs": [],
   "source": []
  },
  {
   "cell_type": "code",
   "execution_count": null,
   "id": "665414a5-7d18-4cd5-b5f5-cf8d4918303e",
   "metadata": {},
   "outputs": [],
   "source": []
  },
  {
   "cell_type": "code",
   "execution_count": null,
   "id": "4d0c1a40-1b82-453b-9104-ccd9916baacc",
   "metadata": {},
   "outputs": [],
   "source": [
    "lls = ALS(maxIter = iterations,regParam = regularization_parameter,rank = rank, userCol=\"userId\",itemCol=\"movieId\",ratingCol=\"rating\")\n",
    "paramGrid = ParamGridBuilder().addGrid(lls.regParam[0.1,0.01,0.18])\\\n",
    "                              .addGrid(lls.rank, range(4,10))\\\n",
    "                              .build()\n",
    "evaluator = RegressionEvaluator(metricName=\"rmse\", labelCol=\"rating\", predictionCol=\"prediction\")\n",
    "crossval = CrossValidator(estimator = lls,\n",
    "                          estimatorParamMaps = paramGrid,\n",
    "                          evaluator = evaluator,\n",
    "                          numfolds = 5)\n",
    "\n",
    "cvModel = crossVal.fit(training_df)\n"
   ]
  }
 ],
 "metadata": {
  "kernelspec": {
   "display_name": "Python 3 (ipykernel)",
   "language": "python",
   "name": "python3"
  },
  "language_info": {
   "codemirror_mode": {
    "name": "ipython",
    "version": 3
   },
   "file_extension": ".py",
   "mimetype": "text/x-python",
   "name": "python",
   "nbconvert_exporter": "python",
   "pygments_lexer": "ipython3",
   "version": "3.12.0b3"
  }
 },
 "nbformat": 4,
 "nbformat_minor": 5
}
