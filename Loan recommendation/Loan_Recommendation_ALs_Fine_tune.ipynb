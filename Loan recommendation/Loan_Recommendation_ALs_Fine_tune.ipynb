{
 "cells": [
  {
   "cell_type": "code",
   "execution_count": 2,
   "id": "858601d7-d254-4b88-b0bc-d74ec2e91e25",
   "metadata": {},
   "outputs": [],
   "source": [
    "from pyspark.sql import SparkSession\n",
    "from pyspark.sql import SQLContext\n",
    "from pyspark.sql.functions import udf, col, when\n",
    "from pyspark.ml.recommendation import ALS\n",
    "from pyspark.ml.evaluation import RegressionEvaluator\n",
    "from pyspark.ml.tuning import ParamGridBuilder,CrossValidator, TrainValidationSplit\n",
    "import numpy as np\n",
    "from IPython.display import Image\n",
    "from IPython.display import display"
   ]
  },
  {
   "cell_type": "code",
   "execution_count": 3,
   "id": "43856f86-2863-455f-92e9-9c88eb446e9d",
   "metadata": {},
   "outputs": [],
   "source": [
    "from pyspark.sql.functions import expr\n",
    "from pyspark.sql.window import Window"
   ]
  },
  {
   "cell_type": "code",
   "execution_count": 4,
   "id": "08909833-9e79-46e3-9849-6fc115546d55",
   "metadata": {},
   "outputs": [],
   "source": [
    "spark  = SparkSession.builder.appName(\"Loan Recommendation Fine Tunning using hyperparameters_2\").getOrCreate()"
   ]
  },
  {
   "cell_type": "code",
   "execution_count": 5,
   "id": "496b41c0-5650-47c8-8c9d-42fc0e0b5db8",
   "metadata": {},
   "outputs": [
    {
     "data": {
      "text/html": [
       "\n",
       "            <div>\n",
       "                <p><b>SparkSession - in-memory</b></p>\n",
       "                \n",
       "        <div>\n",
       "            <p><b>SparkContext</b></p>\n",
       "\n",
       "            <p><a href=\"http://DESKTOP-5PNHV38:4041\">Spark UI</a></p>\n",
       "\n",
       "            <dl>\n",
       "              <dt>Version</dt>\n",
       "                <dd><code>v3.5.0</code></dd>\n",
       "              <dt>Master</dt>\n",
       "                <dd><code>local[*]</code></dd>\n",
       "              <dt>AppName</dt>\n",
       "                <dd><code>Loan Recommendation Fine Tunning using hyperparameters_2</code></dd>\n",
       "            </dl>\n",
       "        </div>\n",
       "        \n",
       "            </div>\n",
       "        "
      ],
      "text/plain": [
       "<pyspark.sql.session.SparkSession at 0x25d3bed3680>"
      ]
     },
     "execution_count": 5,
     "metadata": {},
     "output_type": "execute_result"
    }
   ],
   "source": [
    "spark"
   ]
  },
  {
   "cell_type": "code",
   "execution_count": 6,
   "id": "9e8cfde4-3d02-47fa-9d8d-78cf4f4884ec",
   "metadata": {},
   "outputs": [
    {
     "name": "stdout",
     "output_type": "stream",
     "text": [
      "root\n",
      " |-- Contact__c: string (nullable = true)\n",
      " |-- Min_IT_Loan_ID__c: integer (nullable = true)\n",
      " |-- Opp_Number__c: integer (nullable = true)\n",
      " |-- Id: string (nullable = true)\n",
      " |-- AccountID: string (nullable = true)\n",
      " |-- Number_Of_Loans_Granted__c: integer (nullable = true)\n",
      " |-- Num_Of_Loans_Paid__c: double (nullable = true)\n",
      " |-- Purpose_of_Loan__c: string (nullable = true)\n",
      " |-- Total_Repayments__c: integer (nullable = true)\n",
      " |-- Amount: integer (nullable = true)\n",
      " |-- Term_in_Weeks__c: double (nullable = true)\n",
      " |-- Payment_Frequency__c: string (nullable = true)\n",
      " |-- StageName: string (nullable = true)\n",
      " |-- userId: integer (nullable = true)\n",
      " |-- loanId: integer (nullable = true)\n",
      " |-- count: double (nullable = true)\n",
      " |-- LoanIdFormat: integer (nullable = true)\n",
      "\n"
     ]
    }
   ],
   "source": [
    "loans_df = spark.read.csv(\"Loan_recommedation_demo_version.csv\",inferSchema = True, header=True)\n",
    "loans_df.printSchema()"
   ]
  },
  {
   "cell_type": "code",
   "execution_count": 7,
   "id": "93a7bf7e-7551-4852-af0b-ec4590e97c64",
   "metadata": {},
   "outputs": [
    {
     "name": "stdout",
     "output_type": "stream",
     "text": [
      "+------------------+-----------------+-------------+------------------+------------------+--------------------------+--------------------+-------------------+-------------------+------+----------------+--------------------+---------+------+------+-----+------------+\n",
      "|        Contact__c|Min_IT_Loan_ID__c|Opp_Number__c|                Id|         AccountID|Number_Of_Loans_Granted__c|Num_Of_Loans_Paid__c| Purpose_of_Loan__c|Total_Repayments__c|Amount|Term_in_Weeks__c|Payment_Frequency__c|StageName|userId|loanId|count|LoanIdFormat|\n",
      "+------------------+-----------------+-------------+------------------+------------------+--------------------------+--------------------+-------------------+-------------------+------+----------------+--------------------+---------+------+------+-----+------------+\n",
      "|0032x000003RvgkAAC|          5145623|      4369500|0062x00000D178JAAR|0012x000004VG7MAAW|                         7|                 4.0|Relocation Expenses|                  2|   200|           6.857|             Monthly|Loan Paid|  1641|    35|  1.0|           1|\n",
      "|0032x00000HGNewAAH|          5145612|      4369281|0062x00000D16ulAAB|0012x00000NwrGSAAZ|                        10|                 6.0|Veterinary Expenses|                  2|   200|           6.857|             Monthly|Loan Paid|  1632|  3609|  2.0|           1|\n",
      "|0030K00001QYaZ1QAL|           835107|      4430711|0062x00000D2AEoAAN|0010K00001g7iB1QAI|                        52|                49.0|   Vehicle Expenses|                 14|   200|          13.714|              Weekly|Loan Paid|  1211|   323| 46.0|           2|\n",
      "|0032x0000042fZ6AAI|           895326|      4933131|0062x00000DWjAvAAL|0012x000005TO9PAAW|                        51|                44.0|    Living Expenses|                 10|   200|           9.714|              Weekly|Loan Paid|  1635|   578| 37.0|           2|\n",
      "|00328000019usxHAAQ|           846768|      4535369|0062x00000D8UMiAAN|0012800001SDUAGAA5|                        40|                36.0|    Living Expenses|                 14|   200|          14.143|              Weekly|Loan Paid|   513|    93| 32.0|           2|\n",
      "|0032x000002dnJnAAI|          5146609|      4427529|0062x00000D273xAAB|0012x000003EuYaAAK|                        39|                33.0|    Living Expenses|                  6|   200|           5.714|              Weekly|Loan Paid|   574|  3264| 27.0|           2|\n",
      "|00328000019usveAAA|           851969|      4585885|0062x00000D9VSJAA3|0012800001SDU8dAAH|                        38|                37.0|   Medical Expenses|                 14|   200|          14.286|              Weekly|Loan Paid|  2796|  2873| 36.0|           2|\n",
      "|0032800001J3F2pAAF|          1032588|      6662857|0062x00000ExRVFAA3|0012800001Zs6BrAAJ|                        32|                31.0|     Child Expenses|                 10|   200|          10.143|              Weekly|Loan Paid|  1250|  3927| 30.0|           2|\n",
      "|0032800001J3F2pAAF|           946271|      5531968|0062x00000E40DmAAJ|0012800001Zs6BrAAJ|                        32|                29.0|     Child Expenses|                  6|   200|           6.143|              Weekly|Loan Paid|  1250|  2267| 26.0|           2|\n",
      "|0030K00001PGFtBQAX|           999785|      6027923|0062x00000EEfiSAAT|0010K00001eyrOfQAI|                        30|                28.0|     Other Expenses|                 10|   200|           9.857|              Weekly|Loan Paid|   823|  1908| 26.0|           2|\n",
      "+------------------+-----------------+-------------+------------------+------------------+--------------------------+--------------------+-------------------+-------------------+------+----------------+--------------------+---------+------+------+-----+------------+\n",
      "only showing top 10 rows\n",
      "\n"
     ]
    }
   ],
   "source": [
    "loans_df.show(10)"
   ]
  },
  {
   "cell_type": "code",
   "execution_count": 8,
   "id": "f1c611ad-a198-4926-a339-5ad6a4c08e94",
   "metadata": {},
   "outputs": [
    {
     "data": {
      "text/plain": [
       "['Contact__c',\n",
       " 'Min_IT_Loan_ID__c',\n",
       " 'Opp_Number__c',\n",
       " 'Id',\n",
       " 'AccountID',\n",
       " 'Number_Of_Loans_Granted__c',\n",
       " 'Num_Of_Loans_Paid__c',\n",
       " 'Purpose_of_Loan__c',\n",
       " 'Total_Repayments__c',\n",
       " 'Amount',\n",
       " 'Term_in_Weeks__c',\n",
       " 'Payment_Frequency__c',\n",
       " 'StageName',\n",
       " 'userId',\n",
       " 'loanId',\n",
       " 'count',\n",
       " 'LoanIdFormat']"
      ]
     },
     "execution_count": 8,
     "metadata": {},
     "output_type": "execute_result"
    }
   ],
   "source": [
    "loans_df.columns"
   ]
  },
  {
   "cell_type": "code",
   "execution_count": 9,
   "id": "17ad987e-9ce3-465a-a3dc-d285d9b00402",
   "metadata": {},
   "outputs": [
    {
     "name": "stdout",
     "output_type": "stream",
     "text": [
      "root\n",
      " |-- Contact__c: string (nullable = true)\n",
      " |-- Min_IT_Loan_ID__c: integer (nullable = true)\n",
      " |-- Opp_Number__c: integer (nullable = true)\n",
      " |-- Id: string (nullable = true)\n",
      " |-- AccountID: string (nullable = true)\n",
      " |-- Number_Of_Loans_Granted__c: integer (nullable = true)\n",
      " |-- Num_Of_Loans_Paid__c: double (nullable = true)\n",
      " |-- Purpose_of_Loan__c: string (nullable = true)\n",
      " |-- Total_Repayments__c: integer (nullable = true)\n",
      " |-- Amount: integer (nullable = true)\n",
      " |-- Term_in_Weeks__c: double (nullable = true)\n",
      " |-- Payment_Frequency__c: string (nullable = true)\n",
      " |-- StageName: string (nullable = true)\n",
      " |-- userId: integer (nullable = true)\n",
      " |-- loanId: integer (nullable = true)\n",
      " |-- count: double (nullable = true)\n",
      " |-- LoanIdFormat: integer (nullable = true)\n",
      "\n"
     ]
    }
   ],
   "source": [
    "loans_df.printSchema()"
   ]
  },
  {
   "cell_type": "code",
   "execution_count": 10,
   "id": "5cb265e2-4f6f-40fc-b8b5-d1f451922ab8",
   "metadata": {},
   "outputs": [
    {
     "name": "stdout",
     "output_type": "stream",
     "text": [
      "+------------------+-----------------+-------------+------------------+------------------+--------------------------+--------------------+--------------------+-------------------+------+----------------+--------------------+---------+------+------+-----+------------+\n",
      "|        Contact__c|Min_IT_Loan_ID__c|Opp_Number__c|                Id|         AccountID|Number_Of_Loans_Granted__c|Num_Of_Loans_Paid__c|  Purpose_of_Loan__c|Total_Repayments__c|Amount|Term_in_Weeks__c|Payment_Frequency__c|StageName|userId|loanId|count|LoanIdFormat|\n",
      "+------------------+-----------------+-------------+------------------+------------------+--------------------------+--------------------+--------------------+-------------------+------+----------------+--------------------+---------+------+------+-----+------------+\n",
      "|0032x000003RvgkAAC|          5145623|      4369500|0062x00000D178JAAR|0012x000004VG7MAAW|                         7|                 4.0| Relocation Expenses|                  2|   200|           6.857|             Monthly|Loan Paid|  1641|    35|  1.0|           1|\n",
      "|0032x00000HGNewAAH|          5145612|      4369281|0062x00000D16ulAAB|0012x00000NwrGSAAZ|                        10|                 6.0| Veterinary Expenses|                  2|   200|           6.857|             Monthly|Loan Paid|  1632|  3609|  2.0|           1|\n",
      "|0030K00001QYaZ1QAL|           835107|      4430711|0062x00000D2AEoAAN|0010K00001g7iB1QAI|                        52|                49.0|    Vehicle Expenses|                 14|   200|          13.714|              Weekly|Loan Paid|  1211|   323| 46.0|           2|\n",
      "|0032x0000042fZ6AAI|           895326|      4933131|0062x00000DWjAvAAL|0012x000005TO9PAAW|                        51|                44.0|     Living Expenses|                 10|   200|           9.714|              Weekly|Loan Paid|  1635|   578| 37.0|           2|\n",
      "|00328000019usxHAAQ|           846768|      4535369|0062x00000D8UMiAAN|0012800001SDUAGAA5|                        40|                36.0|     Living Expenses|                 14|   200|          14.143|              Weekly|Loan Paid|   513|    93| 32.0|           2|\n",
      "|0032x000002dnJnAAI|          5146609|      4427529|0062x00000D273xAAB|0012x000003EuYaAAK|                        39|                33.0|     Living Expenses|                  6|   200|           5.714|              Weekly|Loan Paid|   574|  3264| 27.0|           2|\n",
      "|00328000019usveAAA|           851969|      4585885|0062x00000D9VSJAA3|0012800001SDU8dAAH|                        38|                37.0|    Medical Expenses|                 14|   200|          14.286|              Weekly|Loan Paid|  2796|  2873| 36.0|           2|\n",
      "|0032800001J3F2pAAF|          1032588|      6662857|0062x00000ExRVFAA3|0012800001Zs6BrAAJ|                        32|                31.0|      Child Expenses|                 10|   200|          10.143|              Weekly|Loan Paid|  1250|  3927| 30.0|           2|\n",
      "|0032800001J3F2pAAF|           946271|      5531968|0062x00000E40DmAAJ|0012800001Zs6BrAAJ|                        32|                29.0|      Child Expenses|                  6|   200|           6.143|              Weekly|Loan Paid|  1250|  2267| 26.0|           2|\n",
      "|0030K00001PGFtBQAX|           999785|      6027923|0062x00000EEfiSAAT|0010K00001eyrOfQAI|                        30|                28.0|      Other Expenses|                 10|   200|           9.857|              Weekly|Loan Paid|   823|  1908| 26.0|           2|\n",
      "|0030K00001zzd6vQAA|           853334|      4595925|0062x00000D9jkqAAB|0010K000027zFhTQAU|                        30|                23.0|    Medical Expenses|                 10|   200|            10.0|              Weekly|Loan Paid|  1040|  1778| 16.0|           2|\n",
      "|0030K00001uYGG5QAO|          5165109|      5497908|0062x00000E3YlhAAF|0010K000025xbGaQAI|                        29|                28.0|     Living Expenses|                  6|   200|           6.429|              Weekly|Loan Paid|  1486|   790| 27.0|           2|\n",
      "|0032x000001l32XAAQ|          5161398|      5186884|0062x00000Drih3AAB|0012x000002c4OsAAI|                        29|                27.0|     Living Expenses|                  6|   200|             6.0|              Weekly|Loan Paid|   507|  1215| 25.0|           2|\n",
      "|0030K0000268DwjQAE|          5157618|      4956818|0062x00000DX9MbAAL|0010K00002BU4fZQAT|                        28|                27.0|    Medical Expenses|                 10|   200|          10.286|              Weekly|Loan Paid|  2652|  3665| 26.0|           2|\n",
      "|0032x000002dbcdAAA|           937149|      5400052|0062x00000DUtwDAAT|0012x000003EknwAAC|                        27|                24.0| Veterinary Expenses|                  6|   200|           6.857|              Weekly|Loan Paid|  1566|  1314| 21.0|           2|\n",
      "|0032x000002dbcdAAA|           908555|      5067364|0062x00000DZ0HiAAL|0012x000003EknwAAC|                        27|                23.0|    Medical Expenses|                  8|   200|           7.714|              Weekly|Loan Paid|  1566|  3206| 19.0|           2|\n",
      "|0032x000002dbcdAAA|           854843|      4607879|0062x00000D9zUhAAJ|0012x000003EknwAAC|                        27|                22.0| Veterinary Expenses|                 14|   200|          13.857|              Weekly|Loan Paid|  1566|  3685| 17.0|           2|\n",
      "|0030K00001nYvKiQAK|          5149478|      4575350|0062x00000D9I5HAAV|0010K000021E92QQAS|                        27|                25.0| Life Event Expenses|                  6|   200|           5.571|              Weekly|Loan Paid|   531|   158| 23.0|           2|\n",
      "|0032x0000042fZ6AAI|           793455|      4036693|0062x00000Ci18kAAB|0012x000005TO9PAAW|                        51|                41.0|     Living Expenses|                  7|   200|           7.429|              Weekly|Loan Paid|  1635|   698| 31.0|           2|\n",
      "|0032x000002db0PAAQ|          5139137|      4019668|0062x00000ChfdWAAR|0012x000003EkGYAA0|                        47|                42.0|Furniture or Appl...|                 10|   200|            10.0|              Weekly|Loan Paid|    83|  2986| 37.0|           2|\n",
      "+------------------+-----------------+-------------+------------------+------------------+--------------------------+--------------------+--------------------+-------------------+------+----------------+--------------------+---------+------+------+-----+------------+\n",
      "only showing top 20 rows\n",
      "\n"
     ]
    }
   ],
   "source": [
    "loans_df.show()"
   ]
  },
  {
   "cell_type": "code",
   "execution_count": 11,
   "id": "b5726962-4ca1-43e5-9d3e-ed69755b4ae6",
   "metadata": {},
   "outputs": [
    {
     "name": "stdout",
     "output_type": "stream",
     "text": [
      "+-------+------------------+------------------+------------------+\n",
      "|summary|            userId|      LoanIdFormat|             count|\n",
      "+-------+------------------+------------------+------------------+\n",
      "|  count|            259818|            259818|            259818|\n",
      "|   mean|1434.1488503490905| 253.8277101663472| 16.81876159465472|\n",
      "| stddev| 822.0854160334718|183.84693824058843|11.972384814549685|\n",
      "|    min|                 1|                 1|              -4.0|\n",
      "|    max|              2880|               894|              69.0|\n",
      "+-------+------------------+------------------+------------------+\n",
      "\n"
     ]
    }
   ],
   "source": [
    "loans_df.describe([\"userId\",\"LoanIdFormat\",\"count\"]).show()"
   ]
  },
  {
   "cell_type": "code",
   "execution_count": 12,
   "id": "22bba09f-9332-49b9-81af-3b7229226146",
   "metadata": {},
   "outputs": [
    {
     "data": {
      "text/plain": [
       "['Contact__c',\n",
       " 'Min_IT_Loan_ID__c',\n",
       " 'Opp_Number__c',\n",
       " 'Id',\n",
       " 'AccountID',\n",
       " 'Number_Of_Loans_Granted__c',\n",
       " 'Num_Of_Loans_Paid__c',\n",
       " 'Purpose_of_Loan__c',\n",
       " 'Total_Repayments__c',\n",
       " 'Amount',\n",
       " 'Term_in_Weeks__c',\n",
       " 'Payment_Frequency__c',\n",
       " 'StageName',\n",
       " 'userId',\n",
       " 'loanId',\n",
       " 'count',\n",
       " 'LoanIdFormat']"
      ]
     },
     "execution_count": 12,
     "metadata": {},
     "output_type": "execute_result"
    }
   ],
   "source": [
    "loans_df.columns"
   ]
  },
  {
   "cell_type": "code",
   "execution_count": 13,
   "id": "8d2ce6ea-74a0-4864-90b8-1d71913ab607",
   "metadata": {},
   "outputs": [],
   "source": [
    "# loans_df = loans_df.filter(loans_df.Amount < 500)"
   ]
  },
  {
   "cell_type": "code",
   "execution_count": 14,
   "id": "c4a2599c-f8c6-4650-82b5-4de3d5e2acdc",
   "metadata": {},
   "outputs": [],
   "source": [
    "# loans_df = loans_df.limit(100)"
   ]
  },
  {
   "cell_type": "code",
   "execution_count": 15,
   "id": "2ec4a8bc-6e53-4daa-aa0d-66dcf90280f3",
   "metadata": {},
   "outputs": [
    {
     "name": "stdout",
     "output_type": "stream",
     "text": [
      "+-------+-----------------+------------------+------------------+\n",
      "|summary|           userId|      LoanIdFormat|             count|\n",
      "+-------+-----------------+------------------+------------------+\n",
      "|  count|              100|               100|               100|\n",
      "|   mean|          1474.35|              2.52|             19.51|\n",
      "| stddev|755.7210668018198|0.5408560367835911|10.839969995112966|\n",
      "|    min|               83|                 1|              -2.0|\n",
      "|    max|             2880|                 3|              48.0|\n",
      "+-------+-----------------+------------------+------------------+\n",
      "\n"
     ]
    }
   ],
   "source": [
    "loans_df.select([\"userId\",\"LoanIdFormat\",\"count\"]).describe().show()"
   ]
  },
  {
   "cell_type": "code",
   "execution_count": 16,
   "id": "6a302a09-32af-4179-938d-36cbfc73a72c",
   "metadata": {},
   "outputs": [],
   "source": [
    "training_df, validation_df = loans_df.randomSplit([.8,.2])"
   ]
  },
  {
   "cell_type": "code",
   "execution_count": 17,
   "id": "a5cd3337-dcbf-4c3a-94e2-f800401f8916",
   "metadata": {},
   "outputs": [
    {
     "name": "stdout",
     "output_type": "stream",
     "text": [
      "+-------+------------------+------------------+------------------+\n",
      "|summary|            userId|      LoanIdFormat|             count|\n",
      "+-------+------------------+------------------+------------------+\n",
      "|  count|                82|                82|                82|\n",
      "|   mean|1448.1829268292684|               2.5|20.341463414634145|\n",
      "| stddev| 755.9479394193197|0.5499719409228702|10.744185349277656|\n",
      "|    min|                83|                 1|               1.0|\n",
      "|    max|              2880|                 3|              48.0|\n",
      "+-------+------------------+------------------+------------------+\n",
      "\n"
     ]
    }
   ],
   "source": [
    "training_df.select([\"userId\",\"LoanIdFormat\",\"count\"]).describe().show()"
   ]
  },
  {
   "cell_type": "code",
   "execution_count": 18,
   "id": "cdc35887-02c8-42ee-8b0f-9b81a6d545ff",
   "metadata": {},
   "outputs": [
    {
     "name": "stdout",
     "output_type": "stream",
     "text": [
      "+------------------+-----------------+-------------+------------------+------------------+--------------------------+--------------------+--------------------+-------------------+------+----------------+--------------------+---------+------+------+-----+------------+\n",
      "|        Contact__c|Min_IT_Loan_ID__c|Opp_Number__c|                Id|         AccountID|Number_Of_Loans_Granted__c|Num_Of_Loans_Paid__c|  Purpose_of_Loan__c|Total_Repayments__c|Amount|Term_in_Weeks__c|Payment_Frequency__c|StageName|userId|loanId|count|LoanIdFormat|\n",
      "+------------------+-----------------+-------------+------------------+------------------+--------------------------+--------------------+--------------------+-------------------+------+----------------+--------------------+---------+------+------+-----+------------+\n",
      "|0030K00001M9CHaQAN|           801951|      4131426|0062x00000CjySyAAJ|0010K00001cOXFpQAO|                        36|                33.0|     Living Expenses|                  5|   200|          10.429|         Fortnightly|Loan Paid|  1740|   109| 30.0|           3|\n",
      "|0030K00001O5Lu4QAF|           845877|      4524939|0062x00000D8IF7AAN|0010K00001dppcsQAA|                        27|                26.0|    Vehicle Expenses|                  5|   200|           8.714|         Fortnightly|Loan Paid|  2716|  4225| 25.0|           3|\n",
      "|0030K00001OP5U4QAL|           774748|      3884643|0062x00000CSIygAAH|0010K00001eHeiyQAC|                        36|                28.0|     Living Expenses|                  7|   200|          12.857|         Fortnightly|Loan Paid|  1629|  2976| 20.0|           3|\n",
      "|0030K00001PGFtBQAX|           999785|      6027923|0062x00000EEfiSAAT|0010K00001eyrOfQAI|                        30|                28.0|      Other Expenses|                 10|   200|           9.857|              Weekly|Loan Paid|   823|  1908| 26.0|           2|\n",
      "|0030K00001QYaZ1QAL|           835107|      4430711|0062x00000D2AEoAAN|0010K00001g7iB1QAI|                        52|                49.0|    Vehicle Expenses|                 14|   200|          13.714|              Weekly|Loan Paid|  1211|   323| 46.0|           2|\n",
      "|0030K00001UKD4RQAX|           840132|      4473056|0062x00000D7ES3AAN|0010K00001jN1TCQA0|                        27|                18.0|     Living Expenses|                  5|   200|           9.857|         Fortnightly|Loan Paid|  1190|  4279|  9.0|           3|\n",
      "|0030K00001UKD4RQAX|           913959|      5119349|0062x00000DZrQVAA1|0010K00001jN1TCQA0|                        27|                23.0|     Living Expenses|                  5|   200|           9.571|         Fortnightly|Loan Paid|  1190|  1753| 19.0|           3|\n",
      "|0030K00001dBqQpQAK|          5140352|      4080443|0062x00000CixTLAAZ|0010K000020GPe6QAG|                        34|                29.0|    Vehicle Expenses|                  3|   200|           5.571|         Fortnightly|Loan Paid|  1664|  4109| 24.0|           3|\n",
      "|0030K00001dBqQpQAK|          5146065|      4394263|0062x00000D1WKgAAN|0010K000020GPe6QAG|                        34|                30.0|      Child Expenses|                  3|   200|           4.857|         Fortnightly|Loan Paid|  1664|   271| 26.0|           3|\n",
      "|0030K00001dBqQpQAK|          5151655|      4674095|0062x00000DFY8eAAH|0010K000020GPe6QAG|                        34|                31.0|      Child Expenses|                  7|   200|          13.571|         Fortnightly|Loan Paid|  1664|   859| 28.0|           3|\n",
      "|0030K00001lSeXxQAK|           828306|      4373183|0062x00000D1AxMAAV|0010K00001zHR3RQAW|                         8|                 6.0|Furniture or Appl...|                 10|   200|            10.0|              Weekly|Loan Paid|   381|  3893|  4.0|           2|\n",
      "|0030K00001mkSjSQAU|          5163371|      5365572|0062x00000Du1LFAAZ|0010K000020HvEmQAK|                        34|                32.0|     Living Expenses|                  7|   200|            14.0|         Fortnightly|Loan Paid|  2811|  1185| 30.0|           3|\n",
      "|0030K00001nVGP1QAO|          5150758|      4621099|0062x00000DAFm8AAH|0010K000020IWDHQA4|                        30|                27.0|    Vehicle Expenses|                  7|   200|          14.429|         Fortnightly|Loan Paid|  2087|  1921| 24.0|           3|\n",
      "|0030K00001nYKZ7QAO|          5149051|      4556153|0062x00000D8vAEAAZ|0010K000021DfAnQAK|                        29|                25.0|    Vehicle Expenses|                  3|   200|           4.857|         Fortnightly|Loan Paid|   551|  2896| 21.0|           3|\n",
      "|0030K00001nYKZ7QAO|          5154095|      4774192|0062x00000DHKdHAAX|0010K000021DfAnQAK|                        29|                26.0|    Vehicle Expenses|                  6|   200|            12.0|         Fortnightly|Loan Paid|   551|  2832| 23.0|           3|\n",
      "|0030K00001nYKZ7QAO|          5163588|      5386318|0062x00000DUjD2AAL|0010K000021DfAnQAK|                        29|                27.0|    Vehicle Expenses|                  5|   200|           9.857|         Fortnightly|Loan Paid|   551|   970| 25.0|           3|\n",
      "|0030K00001nYvKiQAK|          5149478|      4575350|0062x00000D9I5HAAV|0010K000021E92QQAS|                        27|                25.0| Life Event Expenses|                  6|   200|           5.571|              Weekly|Loan Paid|   531|   158| 23.0|           2|\n",
      "|0030K00001pxuujQAA|          5136006|      3856658|0062x00000CRi8MAAT|0010K000022MgkgQAC|                        34|                28.0|      Child Expenses|                  5|   200|          10.143|         Fortnightly|Loan Paid|  1059|  1490| 22.0|           3|\n",
      "|0030K00001pzC2nQAE|          5151680|      4678581|0062x00000DFclNAAT|0010K000022NyyhQAC|                        27|                25.0|     Living Expenses|                  7|   200|          14.143|         Fortnightly|Loan Paid|  2006|   864| 23.0|           3|\n",
      "|0030K00001qDkaeQAC|          5161409|      5187323|0062x00000DriZyAAJ|0010K000022ihcKQAQ|                        52|                47.0|    Medical Expenses|                  5|   200|           9.857|         Fortnightly|Loan Paid|   695|  2017| 42.0|           3|\n",
      "+------------------+-----------------+-------------+------------------+------------------+--------------------------+--------------------+--------------------+-------------------+------+----------------+--------------------+---------+------+------+-----+------------+\n",
      "only showing top 20 rows\n",
      "\n"
     ]
    }
   ],
   "source": [
    "training_df.show()"
   ]
  },
  {
   "cell_type": "code",
   "execution_count": null,
   "id": "ef863173-b5e0-4699-a35a-9bfacd62972e",
   "metadata": {},
   "outputs": [],
   "source": []
  },
  {
   "cell_type": "code",
   "execution_count": 19,
   "id": "f724c50a-50dd-4699-aee0-218a60a4d5ff",
   "metadata": {},
   "outputs": [],
   "source": [
    "lls = ALS(userCol=\"userId\", itemCol=\"LoanIdFormat\", ratingCol=\"count\",coldStartStrategy=\"drop\", nonnegative=True)\n",
    "paramGrid = ParamGridBuilder().addGrid(lls.regParam,[0.1,0.01,0.18,0.17,0.19])\\\n",
    "                              .addGrid(lls.rank, [3,4,5,7,10,12,13,14])\\\n",
    "                              .addGrid(lls.maxIter,[10,15,18,22])\\\n",
    "                              .build()\n",
    "evaluator = RegressionEvaluator(metricName=\"rmse\", labelCol=\"count\", predictionCol=\"prediction\")\n",
    "train_val_split = TrainValidationSplit(estimator = lls,\n",
    "                          estimatorParamMaps = paramGrid,\n",
    "                          evaluator = evaluator)"
   ]
  },
  {
   "cell_type": "code",
   "execution_count": 20,
   "id": "522ae8d8-f30a-48a4-8d5c-5e7ae72e8d67",
   "metadata": {},
   "outputs": [
    {
     "ename": "Py4JJavaError",
     "evalue": "An error occurred while calling o1026.fit.\n: org.apache.spark.SparkException: Job 41 cancelled because SparkContext was shut down\r\n\tat org.apache.spark.scheduler.DAGScheduler.$anonfun$cleanUpAfterSchedulerStop$1(DAGScheduler.scala:1248)\r\n\tat org.apache.spark.scheduler.DAGScheduler.$anonfun$cleanUpAfterSchedulerStop$1$adapted(DAGScheduler.scala:1246)\r\n\tat scala.collection.mutable.HashSet.foreach(HashSet.scala:79)\r\n\tat org.apache.spark.scheduler.DAGScheduler.cleanUpAfterSchedulerStop(DAGScheduler.scala:1246)\r\n\tat org.apache.spark.scheduler.DAGSchedulerEventProcessLoop.onStop(DAGScheduler.scala:3075)\r\n\tat org.apache.spark.util.EventLoop.stop(EventLoop.scala:84)\r\n\tat org.apache.spark.scheduler.DAGScheduler.$anonfun$stop$3(DAGScheduler.scala:2961)\r\n\tat org.apache.spark.util.Utils$.tryLogNonFatalError(Utils.scala:1375)\r\n\tat org.apache.spark.scheduler.DAGScheduler.stop(DAGScheduler.scala:2961)\r\n\tat org.apache.spark.SparkContext.$anonfun$stop$12(SparkContext.scala:2263)\r\n\tat org.apache.spark.util.Utils$.tryLogNonFatalError(Utils.scala:1375)\r\n\tat org.apache.spark.SparkContext.stop(SparkContext.scala:2263)\r\n\tat org.apache.spark.SparkContext.stop(SparkContext.scala:2216)\r\n\tat org.apache.spark.SparkContext.$anonfun$new$34(SparkContext.scala:686)\r\n\tat org.apache.spark.util.SparkShutdownHook.run(ShutdownHookManager.scala:214)\r\n\tat org.apache.spark.util.SparkShutdownHookManager.$anonfun$runAll$2(ShutdownHookManager.scala:188)\r\n\tat scala.runtime.java8.JFunction0$mcV$sp.apply(JFunction0$mcV$sp.java:23)\r\n\tat org.apache.spark.util.Utils$.logUncaughtExceptions(Utils.scala:1928)\r\n\tat org.apache.spark.util.SparkShutdownHookManager.$anonfun$runAll$1(ShutdownHookManager.scala:188)\r\n\tat scala.runtime.java8.JFunction0$mcV$sp.apply(JFunction0$mcV$sp.java:23)\r\n\tat scala.util.Try$.apply(Try.scala:213)\r\n\tat org.apache.spark.util.SparkShutdownHookManager.runAll(ShutdownHookManager.scala:188)\r\n\tat org.apache.spark.util.SparkShutdownHookManager$$anon$2.run(ShutdownHookManager.scala:178)\r\n\tat java.util.concurrent.Executors$RunnableAdapter.call(Executors.java:511)\r\n\tat java.util.concurrent.FutureTask.run(FutureTask.java:266)\r\n\tat java.util.concurrent.ThreadPoolExecutor.runWorker(ThreadPoolExecutor.java:1149)\r\n\tat java.util.concurrent.ThreadPoolExecutor$Worker.run(ThreadPoolExecutor.java:624)\r\n\tat java.lang.Thread.run(Thread.java:750)\r\n\tat org.apache.spark.scheduler.DAGScheduler.runJob(DAGScheduler.scala:984)\r\n\tat org.apache.spark.SparkContext.runJob(SparkContext.scala:2398)\r\n\tat org.apache.spark.SparkContext.runJob(SparkContext.scala:2419)\r\n\tat org.apache.spark.SparkContext.runJob(SparkContext.scala:2438)\r\n\tat org.apache.spark.SparkContext.runJob(SparkContext.scala:2463)\r\n\tat org.apache.spark.rdd.RDD.count(RDD.scala:1293)\r\n\tat org.apache.spark.ml.recommendation.ALS$.train(ALS.scala:1090)\r\n\tat org.apache.spark.ml.recommendation.ALS.$anonfun$fit$1(ALS.scala:737)\r\n\tat org.apache.spark.ml.util.Instrumentation$.$anonfun$instrumented$1(Instrumentation.scala:191)\r\n\tat scala.util.Try$.apply(Try.scala:213)\r\n\tat org.apache.spark.ml.util.Instrumentation$.instrumented(Instrumentation.scala:191)\r\n\tat org.apache.spark.ml.recommendation.ALS.fit(ALS.scala:714)\r\n\tat sun.reflect.NativeMethodAccessorImpl.invoke0(Native Method)\r\n\tat sun.reflect.NativeMethodAccessorImpl.invoke(NativeMethodAccessorImpl.java:62)\r\n\tat sun.reflect.DelegatingMethodAccessorImpl.invoke(DelegatingMethodAccessorImpl.java:43)\r\n\tat java.lang.reflect.Method.invoke(Method.java:498)\r\n\tat py4j.reflection.MethodInvoker.invoke(MethodInvoker.java:244)\r\n\tat py4j.reflection.ReflectionEngine.invoke(ReflectionEngine.java:374)\r\n\tat py4j.Gateway.invoke(Gateway.java:282)\r\n\tat py4j.commands.AbstractCommand.invokeMethod(AbstractCommand.java:132)\r\n\tat py4j.commands.CallCommand.execute(CallCommand.java:79)\r\n\tat py4j.ClientServerConnection.waitForCommands(ClientServerConnection.java:182)\r\n\tat py4j.ClientServerConnection.run(ClientServerConnection.java:106)\r\n\tat java.lang.Thread.run(Thread.java:750)\r\n",
     "output_type": "error",
     "traceback": [
      "\u001b[1;31m---------------------------------------------------------------------------\u001b[0m",
      "\u001b[1;31mPy4JJavaError\u001b[0m                             Traceback (most recent call last)",
      "Cell \u001b[1;32mIn[20], line 2\u001b[0m\n\u001b[0;32m      1\u001b[0m \u001b[38;5;66;03m# fit ALS model to training data\u001b[39;00m\n\u001b[1;32m----> 2\u001b[0m tvsModel \u001b[38;5;241m=\u001b[39m \u001b[43mtrain_val_split\u001b[49m\u001b[38;5;241;43m.\u001b[39;49m\u001b[43mfit\u001b[49m\u001b[43m(\u001b[49m\u001b[43mloans_df\u001b[49m\u001b[43m)\u001b[49m\n\u001b[0;32m      3\u001b[0m \u001b[38;5;66;03m# extract the best model from the tunning excercise using ParamGridBuilder\u001b[39;00m\n\u001b[0;32m      4\u001b[0m best_model  \u001b[38;5;241m=\u001b[39m tvsmodel\u001b[38;5;241m.\u001b[39mbestModel\n",
      "File \u001b[1;32m~\\AppData\\Local\\Programs\\Python\\Python312\\Lib\\site-packages\\pyspark\\ml\\base.py:205\u001b[0m, in \u001b[0;36mEstimator.fit\u001b[1;34m(self, dataset, params)\u001b[0m\n\u001b[0;32m    203\u001b[0m         \u001b[38;5;28;01mreturn\u001b[39;00m \u001b[38;5;28mself\u001b[39m\u001b[38;5;241m.\u001b[39mcopy(params)\u001b[38;5;241m.\u001b[39m_fit(dataset)\n\u001b[0;32m    204\u001b[0m     \u001b[38;5;28;01melse\u001b[39;00m:\n\u001b[1;32m--> 205\u001b[0m         \u001b[38;5;28;01mreturn\u001b[39;00m \u001b[38;5;28;43mself\u001b[39;49m\u001b[38;5;241;43m.\u001b[39;49m\u001b[43m_fit\u001b[49m\u001b[43m(\u001b[49m\u001b[43mdataset\u001b[49m\u001b[43m)\u001b[49m\n\u001b[0;32m    206\u001b[0m \u001b[38;5;28;01melse\u001b[39;00m:\n\u001b[0;32m    207\u001b[0m     \u001b[38;5;28;01mraise\u001b[39;00m \u001b[38;5;167;01mTypeError\u001b[39;00m(\n\u001b[0;32m    208\u001b[0m         \u001b[38;5;124m\"\u001b[39m\u001b[38;5;124mParams must be either a param map or a list/tuple of param maps, \u001b[39m\u001b[38;5;124m\"\u001b[39m\n\u001b[0;32m    209\u001b[0m         \u001b[38;5;124m\"\u001b[39m\u001b[38;5;124mbut got \u001b[39m\u001b[38;5;132;01m%s\u001b[39;00m\u001b[38;5;124m.\u001b[39m\u001b[38;5;124m\"\u001b[39m \u001b[38;5;241m%\u001b[39m \u001b[38;5;28mtype\u001b[39m(params)\n\u001b[0;32m    210\u001b[0m     )\n",
      "File \u001b[1;32m~\\AppData\\Local\\Programs\\Python\\Python312\\Lib\\site-packages\\pyspark\\ml\\tuning.py:1464\u001b[0m, in \u001b[0;36mTrainValidationSplit._fit\u001b[1;34m(self, dataset)\u001b[0m\n\u001b[0;32m   1462\u001b[0m pool \u001b[38;5;241m=\u001b[39m ThreadPool(processes\u001b[38;5;241m=\u001b[39m\u001b[38;5;28mmin\u001b[39m(\u001b[38;5;28mself\u001b[39m\u001b[38;5;241m.\u001b[39mgetParallelism(), numModels))\n\u001b[0;32m   1463\u001b[0m metrics \u001b[38;5;241m=\u001b[39m [\u001b[38;5;28;01mNone\u001b[39;00m] \u001b[38;5;241m*\u001b[39m numModels\n\u001b[1;32m-> 1464\u001b[0m \u001b[43m\u001b[49m\u001b[38;5;28;43;01mfor\u001b[39;49;00m\u001b[43m \u001b[49m\u001b[43mj\u001b[49m\u001b[43m,\u001b[49m\u001b[43m \u001b[49m\u001b[43mmetric\u001b[49m\u001b[43m,\u001b[49m\u001b[43m \u001b[49m\u001b[43msubModel\u001b[49m\u001b[43m \u001b[49m\u001b[38;5;129;43;01min\u001b[39;49;00m\u001b[43m \u001b[49m\u001b[43mpool\u001b[49m\u001b[38;5;241;43m.\u001b[39;49m\u001b[43mimap_unordered\u001b[49m\u001b[43m(\u001b[49m\u001b[38;5;28;43;01mlambda\u001b[39;49;00m\u001b[43m \u001b[49m\u001b[43mf\u001b[49m\u001b[43m:\u001b[49m\u001b[43m \u001b[49m\u001b[43mf\u001b[49m\u001b[43m(\u001b[49m\u001b[43m)\u001b[49m\u001b[43m,\u001b[49m\u001b[43m \u001b[49m\u001b[43mtasks\u001b[49m\u001b[43m)\u001b[49m\u001b[43m:\u001b[49m\n\u001b[0;32m   1465\u001b[0m \u001b[43m    \u001b[49m\u001b[43mmetrics\u001b[49m\u001b[43m[\u001b[49m\u001b[43mj\u001b[49m\u001b[43m]\u001b[49m\u001b[43m \u001b[49m\u001b[38;5;241;43m=\u001b[39;49m\u001b[43m \u001b[49m\u001b[43mmetric\u001b[49m\n\u001b[0;32m   1466\u001b[0m \u001b[43m    \u001b[49m\u001b[38;5;28;43;01mif\u001b[39;49;00m\u001b[43m \u001b[49m\u001b[43mcollectSubModelsParam\u001b[49m\u001b[43m:\u001b[49m\n",
      "File \u001b[1;32m~\\AppData\\Local\\Programs\\Python\\Python312\\Lib\\multiprocessing\\pool.py:873\u001b[0m, in \u001b[0;36mIMapIterator.next\u001b[1;34m(self, timeout)\u001b[0m\n\u001b[0;32m    871\u001b[0m \u001b[38;5;28;01mif\u001b[39;00m success:\n\u001b[0;32m    872\u001b[0m     \u001b[38;5;28;01mreturn\u001b[39;00m value\n\u001b[1;32m--> 873\u001b[0m \u001b[38;5;28;01mraise\u001b[39;00m value\n",
      "File \u001b[1;32m~\\AppData\\Local\\Programs\\Python\\Python312\\Lib\\multiprocessing\\pool.py:125\u001b[0m, in \u001b[0;36mworker\u001b[1;34m(inqueue, outqueue, initializer, initargs, maxtasks, wrap_exception)\u001b[0m\n\u001b[0;32m    123\u001b[0m job, i, func, args, kwds \u001b[38;5;241m=\u001b[39m task\n\u001b[0;32m    124\u001b[0m \u001b[38;5;28;01mtry\u001b[39;00m:\n\u001b[1;32m--> 125\u001b[0m     result \u001b[38;5;241m=\u001b[39m (\u001b[38;5;28;01mTrue\u001b[39;00m, \u001b[43mfunc\u001b[49m\u001b[43m(\u001b[49m\u001b[38;5;241;43m*\u001b[39;49m\u001b[43margs\u001b[49m\u001b[43m,\u001b[49m\u001b[43m \u001b[49m\u001b[38;5;241;43m*\u001b[39;49m\u001b[38;5;241;43m*\u001b[39;49m\u001b[43mkwds\u001b[49m\u001b[43m)\u001b[49m)\n\u001b[0;32m    126\u001b[0m \u001b[38;5;28;01mexcept\u001b[39;00m \u001b[38;5;167;01mException\u001b[39;00m \u001b[38;5;28;01mas\u001b[39;00m e:\n\u001b[0;32m    127\u001b[0m     \u001b[38;5;28;01mif\u001b[39;00m wrap_exception \u001b[38;5;129;01mand\u001b[39;00m func \u001b[38;5;129;01mis\u001b[39;00m \u001b[38;5;129;01mnot\u001b[39;00m _helper_reraises_exception:\n",
      "File \u001b[1;32m~\\AppData\\Local\\Programs\\Python\\Python312\\Lib\\site-packages\\pyspark\\ml\\tuning.py:1464\u001b[0m, in \u001b[0;36mTrainValidationSplit._fit.<locals>.<lambda>\u001b[1;34m(f)\u001b[0m\n\u001b[0;32m   1462\u001b[0m pool \u001b[38;5;241m=\u001b[39m ThreadPool(processes\u001b[38;5;241m=\u001b[39m\u001b[38;5;28mmin\u001b[39m(\u001b[38;5;28mself\u001b[39m\u001b[38;5;241m.\u001b[39mgetParallelism(), numModels))\n\u001b[0;32m   1463\u001b[0m metrics \u001b[38;5;241m=\u001b[39m [\u001b[38;5;28;01mNone\u001b[39;00m] \u001b[38;5;241m*\u001b[39m numModels\n\u001b[1;32m-> 1464\u001b[0m \u001b[38;5;28;01mfor\u001b[39;00m j, metric, subModel \u001b[38;5;129;01min\u001b[39;00m pool\u001b[38;5;241m.\u001b[39mimap_unordered(\u001b[38;5;28;01mlambda\u001b[39;00m f: \u001b[43mf\u001b[49m\u001b[43m(\u001b[49m\u001b[43m)\u001b[49m, tasks):\n\u001b[0;32m   1465\u001b[0m     metrics[j] \u001b[38;5;241m=\u001b[39m metric\n\u001b[0;32m   1466\u001b[0m     \u001b[38;5;28;01mif\u001b[39;00m collectSubModelsParam:\n",
      "File \u001b[1;32m~\\AppData\\Local\\Programs\\Python\\Python312\\Lib\\site-packages\\pyspark\\util.py:342\u001b[0m, in \u001b[0;36minheritable_thread_target.<locals>.wrapped\u001b[1;34m(*args, **kwargs)\u001b[0m\n\u001b[0;32m    340\u001b[0m \u001b[38;5;28;01massert\u001b[39;00m SparkContext\u001b[38;5;241m.\u001b[39m_active_spark_context \u001b[38;5;129;01mis\u001b[39;00m \u001b[38;5;129;01mnot\u001b[39;00m \u001b[38;5;28;01mNone\u001b[39;00m\n\u001b[0;32m    341\u001b[0m SparkContext\u001b[38;5;241m.\u001b[39m_active_spark_context\u001b[38;5;241m.\u001b[39m_jsc\u001b[38;5;241m.\u001b[39msc()\u001b[38;5;241m.\u001b[39msetLocalProperties(properties)\n\u001b[1;32m--> 342\u001b[0m \u001b[38;5;28;01mreturn\u001b[39;00m \u001b[43mf\u001b[49m\u001b[43m(\u001b[49m\u001b[38;5;241;43m*\u001b[39;49m\u001b[43margs\u001b[49m\u001b[43m,\u001b[49m\u001b[43m \u001b[49m\u001b[38;5;241;43m*\u001b[39;49m\u001b[38;5;241;43m*\u001b[39;49m\u001b[43mkwargs\u001b[49m\u001b[43m)\u001b[49m\n",
      "File \u001b[1;32m~\\AppData\\Local\\Programs\\Python\\Python312\\Lib\\site-packages\\pyspark\\ml\\tuning.py:113\u001b[0m, in \u001b[0;36m_parallelFitTasks.<locals>.singleTask\u001b[1;34m()\u001b[0m\n\u001b[0;32m    112\u001b[0m \u001b[38;5;28;01mdef\u001b[39;00m \u001b[38;5;21msingleTask\u001b[39m() \u001b[38;5;241m-\u001b[39m\u001b[38;5;241m>\u001b[39m Tuple[\u001b[38;5;28mint\u001b[39m, \u001b[38;5;28mfloat\u001b[39m, Transformer]:\n\u001b[1;32m--> 113\u001b[0m     index, model \u001b[38;5;241m=\u001b[39m \u001b[38;5;28;43mnext\u001b[39;49m\u001b[43m(\u001b[49m\u001b[43mmodelIter\u001b[49m\u001b[43m)\u001b[49m\n\u001b[0;32m    114\u001b[0m     \u001b[38;5;66;03m# TODO: duplicate evaluator to take extra params from input\u001b[39;00m\n\u001b[0;32m    115\u001b[0m     \u001b[38;5;66;03m#  Note: Supporting tuning params in evaluator need update method\u001b[39;00m\n\u001b[0;32m    116\u001b[0m     \u001b[38;5;66;03m#  `MetaAlgorithmReadWrite.getAllNestedStages`, make it return\u001b[39;00m\n\u001b[0;32m    117\u001b[0m     \u001b[38;5;66;03m#  all nested stages and evaluators\u001b[39;00m\n\u001b[0;32m    118\u001b[0m     metric \u001b[38;5;241m=\u001b[39m eva\u001b[38;5;241m.\u001b[39mevaluate(model\u001b[38;5;241m.\u001b[39mtransform(validation, epm[index]))\n",
      "File \u001b[1;32m~\\AppData\\Local\\Programs\\Python\\Python312\\Lib\\site-packages\\pyspark\\ml\\base.py:98\u001b[0m, in \u001b[0;36m_FitMultipleIterator.__next__\u001b[1;34m(self)\u001b[0m\n\u001b[0;32m     96\u001b[0m         \u001b[38;5;28;01mraise\u001b[39;00m \u001b[38;5;167;01mStopIteration\u001b[39;00m(\u001b[38;5;124m\"\u001b[39m\u001b[38;5;124mNo models remaining.\u001b[39m\u001b[38;5;124m\"\u001b[39m)\n\u001b[0;32m     97\u001b[0m     \u001b[38;5;28mself\u001b[39m\u001b[38;5;241m.\u001b[39mcounter \u001b[38;5;241m+\u001b[39m\u001b[38;5;241m=\u001b[39m \u001b[38;5;241m1\u001b[39m\n\u001b[1;32m---> 98\u001b[0m \u001b[38;5;28;01mreturn\u001b[39;00m index, \u001b[38;5;28;43mself\u001b[39;49m\u001b[38;5;241;43m.\u001b[39;49m\u001b[43mfitSingleModel\u001b[49m\u001b[43m(\u001b[49m\u001b[43mindex\u001b[49m\u001b[43m)\u001b[49m\n",
      "File \u001b[1;32m~\\AppData\\Local\\Programs\\Python\\Python312\\Lib\\site-packages\\pyspark\\ml\\base.py:156\u001b[0m, in \u001b[0;36mEstimator.fitMultiple.<locals>.fitSingleModel\u001b[1;34m(index)\u001b[0m\n\u001b[0;32m    155\u001b[0m \u001b[38;5;28;01mdef\u001b[39;00m \u001b[38;5;21mfitSingleModel\u001b[39m(index: \u001b[38;5;28mint\u001b[39m) \u001b[38;5;241m-\u001b[39m\u001b[38;5;241m>\u001b[39m M:\n\u001b[1;32m--> 156\u001b[0m     \u001b[38;5;28;01mreturn\u001b[39;00m \u001b[43mestimator\u001b[49m\u001b[38;5;241;43m.\u001b[39;49m\u001b[43mfit\u001b[49m\u001b[43m(\u001b[49m\u001b[43mdataset\u001b[49m\u001b[43m,\u001b[49m\u001b[43m \u001b[49m\u001b[43mparamMaps\u001b[49m\u001b[43m[\u001b[49m\u001b[43mindex\u001b[49m\u001b[43m]\u001b[49m\u001b[43m)\u001b[49m\n",
      "File \u001b[1;32m~\\AppData\\Local\\Programs\\Python\\Python312\\Lib\\site-packages\\pyspark\\ml\\base.py:203\u001b[0m, in \u001b[0;36mEstimator.fit\u001b[1;34m(self, dataset, params)\u001b[0m\n\u001b[0;32m    201\u001b[0m \u001b[38;5;28;01melif\u001b[39;00m \u001b[38;5;28misinstance\u001b[39m(params, \u001b[38;5;28mdict\u001b[39m):\n\u001b[0;32m    202\u001b[0m     \u001b[38;5;28;01mif\u001b[39;00m params:\n\u001b[1;32m--> 203\u001b[0m         \u001b[38;5;28;01mreturn\u001b[39;00m \u001b[38;5;28;43mself\u001b[39;49m\u001b[38;5;241;43m.\u001b[39;49m\u001b[43mcopy\u001b[49m\u001b[43m(\u001b[49m\u001b[43mparams\u001b[49m\u001b[43m)\u001b[49m\u001b[38;5;241;43m.\u001b[39;49m\u001b[43m_fit\u001b[49m\u001b[43m(\u001b[49m\u001b[43mdataset\u001b[49m\u001b[43m)\u001b[49m\n\u001b[0;32m    204\u001b[0m     \u001b[38;5;28;01melse\u001b[39;00m:\n\u001b[0;32m    205\u001b[0m         \u001b[38;5;28;01mreturn\u001b[39;00m \u001b[38;5;28mself\u001b[39m\u001b[38;5;241m.\u001b[39m_fit(dataset)\n",
      "File \u001b[1;32m~\\AppData\\Local\\Programs\\Python\\Python312\\Lib\\site-packages\\pyspark\\ml\\wrapper.py:381\u001b[0m, in \u001b[0;36mJavaEstimator._fit\u001b[1;34m(self, dataset)\u001b[0m\n\u001b[0;32m    380\u001b[0m \u001b[38;5;28;01mdef\u001b[39;00m \u001b[38;5;21m_fit\u001b[39m(\u001b[38;5;28mself\u001b[39m, dataset: DataFrame) \u001b[38;5;241m-\u001b[39m\u001b[38;5;241m>\u001b[39m JM:\n\u001b[1;32m--> 381\u001b[0m     java_model \u001b[38;5;241m=\u001b[39m \u001b[38;5;28;43mself\u001b[39;49m\u001b[38;5;241;43m.\u001b[39;49m\u001b[43m_fit_java\u001b[49m\u001b[43m(\u001b[49m\u001b[43mdataset\u001b[49m\u001b[43m)\u001b[49m\n\u001b[0;32m    382\u001b[0m     model \u001b[38;5;241m=\u001b[39m \u001b[38;5;28mself\u001b[39m\u001b[38;5;241m.\u001b[39m_create_model(java_model)\n\u001b[0;32m    383\u001b[0m     \u001b[38;5;28;01mreturn\u001b[39;00m \u001b[38;5;28mself\u001b[39m\u001b[38;5;241m.\u001b[39m_copyValues(model)\n",
      "File \u001b[1;32m~\\AppData\\Local\\Programs\\Python\\Python312\\Lib\\site-packages\\pyspark\\ml\\wrapper.py:378\u001b[0m, in \u001b[0;36mJavaEstimator._fit_java\u001b[1;34m(self, dataset)\u001b[0m\n\u001b[0;32m    375\u001b[0m \u001b[38;5;28;01massert\u001b[39;00m \u001b[38;5;28mself\u001b[39m\u001b[38;5;241m.\u001b[39m_java_obj \u001b[38;5;129;01mis\u001b[39;00m \u001b[38;5;129;01mnot\u001b[39;00m \u001b[38;5;28;01mNone\u001b[39;00m\n\u001b[0;32m    377\u001b[0m \u001b[38;5;28mself\u001b[39m\u001b[38;5;241m.\u001b[39m_transfer_params_to_java()\n\u001b[1;32m--> 378\u001b[0m \u001b[38;5;28;01mreturn\u001b[39;00m \u001b[38;5;28;43mself\u001b[39;49m\u001b[38;5;241;43m.\u001b[39;49m\u001b[43m_java_obj\u001b[49m\u001b[38;5;241;43m.\u001b[39;49m\u001b[43mfit\u001b[49m\u001b[43m(\u001b[49m\u001b[43mdataset\u001b[49m\u001b[38;5;241;43m.\u001b[39;49m\u001b[43m_jdf\u001b[49m\u001b[43m)\u001b[49m\n",
      "File \u001b[1;32m~\\AppData\\Local\\Programs\\Python\\Python312\\Lib\\site-packages\\py4j\\java_gateway.py:1322\u001b[0m, in \u001b[0;36mJavaMember.__call__\u001b[1;34m(self, *args)\u001b[0m\n\u001b[0;32m   1316\u001b[0m command \u001b[38;5;241m=\u001b[39m proto\u001b[38;5;241m.\u001b[39mCALL_COMMAND_NAME \u001b[38;5;241m+\u001b[39m\\\n\u001b[0;32m   1317\u001b[0m     \u001b[38;5;28mself\u001b[39m\u001b[38;5;241m.\u001b[39mcommand_header \u001b[38;5;241m+\u001b[39m\\\n\u001b[0;32m   1318\u001b[0m     args_command \u001b[38;5;241m+\u001b[39m\\\n\u001b[0;32m   1319\u001b[0m     proto\u001b[38;5;241m.\u001b[39mEND_COMMAND_PART\n\u001b[0;32m   1321\u001b[0m answer \u001b[38;5;241m=\u001b[39m \u001b[38;5;28mself\u001b[39m\u001b[38;5;241m.\u001b[39mgateway_client\u001b[38;5;241m.\u001b[39msend_command(command)\n\u001b[1;32m-> 1322\u001b[0m return_value \u001b[38;5;241m=\u001b[39m \u001b[43mget_return_value\u001b[49m\u001b[43m(\u001b[49m\n\u001b[0;32m   1323\u001b[0m \u001b[43m    \u001b[49m\u001b[43manswer\u001b[49m\u001b[43m,\u001b[49m\u001b[43m \u001b[49m\u001b[38;5;28;43mself\u001b[39;49m\u001b[38;5;241;43m.\u001b[39;49m\u001b[43mgateway_client\u001b[49m\u001b[43m,\u001b[49m\u001b[43m \u001b[49m\u001b[38;5;28;43mself\u001b[39;49m\u001b[38;5;241;43m.\u001b[39;49m\u001b[43mtarget_id\u001b[49m\u001b[43m,\u001b[49m\u001b[43m \u001b[49m\u001b[38;5;28;43mself\u001b[39;49m\u001b[38;5;241;43m.\u001b[39;49m\u001b[43mname\u001b[49m\u001b[43m)\u001b[49m\n\u001b[0;32m   1325\u001b[0m \u001b[38;5;28;01mfor\u001b[39;00m temp_arg \u001b[38;5;129;01min\u001b[39;00m temp_args:\n\u001b[0;32m   1326\u001b[0m     \u001b[38;5;28;01mif\u001b[39;00m \u001b[38;5;28mhasattr\u001b[39m(temp_arg, \u001b[38;5;124m\"\u001b[39m\u001b[38;5;124m_detach\u001b[39m\u001b[38;5;124m\"\u001b[39m):\n",
      "File \u001b[1;32m~\\AppData\\Local\\Programs\\Python\\Python312\\Lib\\site-packages\\pyspark\\errors\\exceptions\\captured.py:179\u001b[0m, in \u001b[0;36mcapture_sql_exception.<locals>.deco\u001b[1;34m(*a, **kw)\u001b[0m\n\u001b[0;32m    177\u001b[0m \u001b[38;5;28;01mdef\u001b[39;00m \u001b[38;5;21mdeco\u001b[39m(\u001b[38;5;241m*\u001b[39ma: Any, \u001b[38;5;241m*\u001b[39m\u001b[38;5;241m*\u001b[39mkw: Any) \u001b[38;5;241m-\u001b[39m\u001b[38;5;241m>\u001b[39m Any:\n\u001b[0;32m    178\u001b[0m     \u001b[38;5;28;01mtry\u001b[39;00m:\n\u001b[1;32m--> 179\u001b[0m         \u001b[38;5;28;01mreturn\u001b[39;00m \u001b[43mf\u001b[49m\u001b[43m(\u001b[49m\u001b[38;5;241;43m*\u001b[39;49m\u001b[43ma\u001b[49m\u001b[43m,\u001b[49m\u001b[43m \u001b[49m\u001b[38;5;241;43m*\u001b[39;49m\u001b[38;5;241;43m*\u001b[39;49m\u001b[43mkw\u001b[49m\u001b[43m)\u001b[49m\n\u001b[0;32m    180\u001b[0m     \u001b[38;5;28;01mexcept\u001b[39;00m Py4JJavaError \u001b[38;5;28;01mas\u001b[39;00m e:\n\u001b[0;32m    181\u001b[0m         converted \u001b[38;5;241m=\u001b[39m convert_exception(e\u001b[38;5;241m.\u001b[39mjava_exception)\n",
      "File \u001b[1;32m~\\AppData\\Local\\Programs\\Python\\Python312\\Lib\\site-packages\\py4j\\protocol.py:326\u001b[0m, in \u001b[0;36mget_return_value\u001b[1;34m(answer, gateway_client, target_id, name)\u001b[0m\n\u001b[0;32m    324\u001b[0m value \u001b[38;5;241m=\u001b[39m OUTPUT_CONVERTER[\u001b[38;5;28mtype\u001b[39m](answer[\u001b[38;5;241m2\u001b[39m:], gateway_client)\n\u001b[0;32m    325\u001b[0m \u001b[38;5;28;01mif\u001b[39;00m answer[\u001b[38;5;241m1\u001b[39m] \u001b[38;5;241m==\u001b[39m REFERENCE_TYPE:\n\u001b[1;32m--> 326\u001b[0m     \u001b[38;5;28;01mraise\u001b[39;00m Py4JJavaError(\n\u001b[0;32m    327\u001b[0m         \u001b[38;5;124m\"\u001b[39m\u001b[38;5;124mAn error occurred while calling \u001b[39m\u001b[38;5;132;01m{0}\u001b[39;00m\u001b[38;5;132;01m{1}\u001b[39;00m\u001b[38;5;132;01m{2}\u001b[39;00m\u001b[38;5;124m.\u001b[39m\u001b[38;5;130;01m\\n\u001b[39;00m\u001b[38;5;124m\"\u001b[39m\u001b[38;5;241m.\u001b[39m\n\u001b[0;32m    328\u001b[0m         \u001b[38;5;28mformat\u001b[39m(target_id, \u001b[38;5;124m\"\u001b[39m\u001b[38;5;124m.\u001b[39m\u001b[38;5;124m\"\u001b[39m, name), value)\n\u001b[0;32m    329\u001b[0m \u001b[38;5;28;01melse\u001b[39;00m:\n\u001b[0;32m    330\u001b[0m     \u001b[38;5;28;01mraise\u001b[39;00m Py4JError(\n\u001b[0;32m    331\u001b[0m         \u001b[38;5;124m\"\u001b[39m\u001b[38;5;124mAn error occurred while calling \u001b[39m\u001b[38;5;132;01m{0}\u001b[39;00m\u001b[38;5;132;01m{1}\u001b[39;00m\u001b[38;5;132;01m{2}\u001b[39;00m\u001b[38;5;124m. Trace:\u001b[39m\u001b[38;5;130;01m\\n\u001b[39;00m\u001b[38;5;132;01m{3}\u001b[39;00m\u001b[38;5;130;01m\\n\u001b[39;00m\u001b[38;5;124m\"\u001b[39m\u001b[38;5;241m.\u001b[39m\n\u001b[0;32m    332\u001b[0m         \u001b[38;5;28mformat\u001b[39m(target_id, \u001b[38;5;124m\"\u001b[39m\u001b[38;5;124m.\u001b[39m\u001b[38;5;124m\"\u001b[39m, name, value))\n",
      "\u001b[1;31mPy4JJavaError\u001b[0m: An error occurred while calling o1026.fit.\n: org.apache.spark.SparkException: Job 41 cancelled because SparkContext was shut down\r\n\tat org.apache.spark.scheduler.DAGScheduler.$anonfun$cleanUpAfterSchedulerStop$1(DAGScheduler.scala:1248)\r\n\tat org.apache.spark.scheduler.DAGScheduler.$anonfun$cleanUpAfterSchedulerStop$1$adapted(DAGScheduler.scala:1246)\r\n\tat scala.collection.mutable.HashSet.foreach(HashSet.scala:79)\r\n\tat org.apache.spark.scheduler.DAGScheduler.cleanUpAfterSchedulerStop(DAGScheduler.scala:1246)\r\n\tat org.apache.spark.scheduler.DAGSchedulerEventProcessLoop.onStop(DAGScheduler.scala:3075)\r\n\tat org.apache.spark.util.EventLoop.stop(EventLoop.scala:84)\r\n\tat org.apache.spark.scheduler.DAGScheduler.$anonfun$stop$3(DAGScheduler.scala:2961)\r\n\tat org.apache.spark.util.Utils$.tryLogNonFatalError(Utils.scala:1375)\r\n\tat org.apache.spark.scheduler.DAGScheduler.stop(DAGScheduler.scala:2961)\r\n\tat org.apache.spark.SparkContext.$anonfun$stop$12(SparkContext.scala:2263)\r\n\tat org.apache.spark.util.Utils$.tryLogNonFatalError(Utils.scala:1375)\r\n\tat org.apache.spark.SparkContext.stop(SparkContext.scala:2263)\r\n\tat org.apache.spark.SparkContext.stop(SparkContext.scala:2216)\r\n\tat org.apache.spark.SparkContext.$anonfun$new$34(SparkContext.scala:686)\r\n\tat org.apache.spark.util.SparkShutdownHook.run(ShutdownHookManager.scala:214)\r\n\tat org.apache.spark.util.SparkShutdownHookManager.$anonfun$runAll$2(ShutdownHookManager.scala:188)\r\n\tat scala.runtime.java8.JFunction0$mcV$sp.apply(JFunction0$mcV$sp.java:23)\r\n\tat org.apache.spark.util.Utils$.logUncaughtExceptions(Utils.scala:1928)\r\n\tat org.apache.spark.util.SparkShutdownHookManager.$anonfun$runAll$1(ShutdownHookManager.scala:188)\r\n\tat scala.runtime.java8.JFunction0$mcV$sp.apply(JFunction0$mcV$sp.java:23)\r\n\tat scala.util.Try$.apply(Try.scala:213)\r\n\tat org.apache.spark.util.SparkShutdownHookManager.runAll(ShutdownHookManager.scala:188)\r\n\tat org.apache.spark.util.SparkShutdownHookManager$$anon$2.run(ShutdownHookManager.scala:178)\r\n\tat java.util.concurrent.Executors$RunnableAdapter.call(Executors.java:511)\r\n\tat java.util.concurrent.FutureTask.run(FutureTask.java:266)\r\n\tat java.util.concurrent.ThreadPoolExecutor.runWorker(ThreadPoolExecutor.java:1149)\r\n\tat java.util.concurrent.ThreadPoolExecutor$Worker.run(ThreadPoolExecutor.java:624)\r\n\tat java.lang.Thread.run(Thread.java:750)\r\n\tat org.apache.spark.scheduler.DAGScheduler.runJob(DAGScheduler.scala:984)\r\n\tat org.apache.spark.SparkContext.runJob(SparkContext.scala:2398)\r\n\tat org.apache.spark.SparkContext.runJob(SparkContext.scala:2419)\r\n\tat org.apache.spark.SparkContext.runJob(SparkContext.scala:2438)\r\n\tat org.apache.spark.SparkContext.runJob(SparkContext.scala:2463)\r\n\tat org.apache.spark.rdd.RDD.count(RDD.scala:1293)\r\n\tat org.apache.spark.ml.recommendation.ALS$.train(ALS.scala:1090)\r\n\tat org.apache.spark.ml.recommendation.ALS.$anonfun$fit$1(ALS.scala:737)\r\n\tat org.apache.spark.ml.util.Instrumentation$.$anonfun$instrumented$1(Instrumentation.scala:191)\r\n\tat scala.util.Try$.apply(Try.scala:213)\r\n\tat org.apache.spark.ml.util.Instrumentation$.instrumented(Instrumentation.scala:191)\r\n\tat org.apache.spark.ml.recommendation.ALS.fit(ALS.scala:714)\r\n\tat sun.reflect.NativeMethodAccessorImpl.invoke0(Native Method)\r\n\tat sun.reflect.NativeMethodAccessorImpl.invoke(NativeMethodAccessorImpl.java:62)\r\n\tat sun.reflect.DelegatingMethodAccessorImpl.invoke(DelegatingMethodAccessorImpl.java:43)\r\n\tat java.lang.reflect.Method.invoke(Method.java:498)\r\n\tat py4j.reflection.MethodInvoker.invoke(MethodInvoker.java:244)\r\n\tat py4j.reflection.ReflectionEngine.invoke(ReflectionEngine.java:374)\r\n\tat py4j.Gateway.invoke(Gateway.java:282)\r\n\tat py4j.commands.AbstractCommand.invokeMethod(AbstractCommand.java:132)\r\n\tat py4j.commands.CallCommand.execute(CallCommand.java:79)\r\n\tat py4j.ClientServerConnection.waitForCommands(ClientServerConnection.java:182)\r\n\tat py4j.ClientServerConnection.run(ClientServerConnection.java:106)\r\n\tat java.lang.Thread.run(Thread.java:750)\r\n"
     ]
    },
    {
     "name": "stderr",
     "output_type": "stream",
     "text": [
      "ERROR:root:Exception while sending command.\n",
      "Traceback (most recent call last):\n",
      "  File \"C:\\Users\\Lenovo\\AppData\\Local\\Programs\\Python\\Python312\\Lib\\site-packages\\py4j\\clientserver.py\", line 511, in send_command\n",
      "    answer = smart_decode(self.stream.readline()[:-1])\n",
      "                          ^^^^^^^^^^^^^^^^^^^^^^\n",
      "  File \"C:\\Users\\Lenovo\\AppData\\Local\\Programs\\Python\\Python312\\Lib\\socket.py\", line 707, in readinto\n",
      "    return self._sock.recv_into(b)\n",
      "           ^^^^^^^^^^^^^^^^^^^^^^^\n",
      "ConnectionResetError: [WinError 10054] An existing connection was forcibly closed by the remote host\n",
      "\n",
      "During handling of the above exception, another exception occurred:\n",
      "\n",
      "Traceback (most recent call last):\n",
      "  File \"C:\\Users\\Lenovo\\AppData\\Local\\Programs\\Python\\Python312\\Lib\\site-packages\\py4j\\java_gateway.py\", line 1038, in send_command\n",
      "    response = connection.send_command(command)\n",
      "               ^^^^^^^^^^^^^^^^^^^^^^^^^^^^^^^^\n",
      "  File \"C:\\Users\\Lenovo\\AppData\\Local\\Programs\\Python\\Python312\\Lib\\site-packages\\py4j\\clientserver.py\", line 539, in send_command\n",
      "    raise Py4JNetworkError(\n",
      "py4j.protocol.Py4JNetworkError: Error while sending or receiving\n",
      "ERROR:root:Exception while sending command.\n",
      "Traceback (most recent call last):\n",
      "  File \"C:\\Users\\Lenovo\\AppData\\Local\\Programs\\Python\\Python312\\Lib\\site-packages\\pyspark\\errors\\exceptions\\captured.py\", line 179, in deco\n",
      "    return f(*a, **kw)\n",
      "           ^^^^^^^^^^^\n",
      "  File \"C:\\Users\\Lenovo\\AppData\\Local\\Programs\\Python\\Python312\\Lib\\site-packages\\py4j\\protocol.py\", line 326, in get_return_value\n",
      "    raise Py4JJavaError(\n",
      "py4j.protocol.Py4JJavaError: <exception str() failed>\n",
      "\n",
      "During handling of the above exception, another exception occurred:\n",
      "\n",
      "Traceback (most recent call last):\n",
      "  File \"C:\\Users\\Lenovo\\AppData\\Local\\Programs\\Python\\Python312\\Lib\\site-packages\\py4j\\clientserver.py\", line 511, in send_command\n",
      "    answer = smart_decode(self.stream.readline()[:-1])\n",
      "                          ^^^^^^^^^^^^^^^^^^^^^^\n",
      "  File \"C:\\Users\\Lenovo\\AppData\\Local\\Programs\\Python\\Python312\\Lib\\socket.py\", line 707, in readinto\n",
      "    return self._sock.recv_into(b)\n",
      "           ^^^^^^^^^^^^^^^^^^^^^^^\n",
      "ConnectionResetError: [WinError 10054] An existing connection was forcibly closed by the remote host\n",
      "\n",
      "During handling of the above exception, another exception occurred:\n",
      "\n",
      "Traceback (most recent call last):\n",
      "  File \"C:\\Users\\Lenovo\\AppData\\Local\\Programs\\Python\\Python312\\Lib\\site-packages\\py4j\\java_gateway.py\", line 1038, in send_command\n",
      "    response = connection.send_command(command)\n",
      "               ^^^^^^^^^^^^^^^^^^^^^^^^^^^^^^^^\n",
      "  File \"C:\\Users\\Lenovo\\AppData\\Local\\Programs\\Python\\Python312\\Lib\\site-packages\\py4j\\clientserver.py\", line 539, in send_command\n",
      "    raise Py4JNetworkError(\n",
      "py4j.protocol.Py4JNetworkError: Error while sending or receiving\n"
     ]
    }
   ],
   "source": [
    "# fit ALS model to training data\n",
    "tvsModel = train_val_split.fit(loans_df)\n",
    "# extract the best model from the tunning excercise using ParamGridBuilder\n",
    "best_model  = tvsmodel.bestModel"
   ]
  },
  {
   "cell_type": "code",
   "execution_count": null,
   "id": "a7d69786-8f83-44e9-8469-fa5524c1c066",
   "metadata": {},
   "outputs": [],
   "source": []
  },
  {
   "cell_type": "code",
   "execution_count": null,
   "id": "381e30cf-6f0c-419a-9834-7fcbde0307b5",
   "metadata": {},
   "outputs": [],
   "source": [
    "from pyspark.ml.evaluation import RegressionEvaluator\n",
    "from pyspark.ml.recommendation import ALS\n",
    "from pyspark.ml.tuning import ParamGridBuilder, CrossValidator\n",
    "from pyspark.sql import SparkSession\n",
    "\n",
    "# Create a Spark session\n",
    "spark = SparkSession.builder.appName(\"ALSExample\").getOrCreate()\n",
    "\n",
    "# Assuming you have a DataFrame 'ratings' with columns: 'userId', 'movieId', 'rating'\n",
    "# Replace 'ratings' with your actual DataFrame\n",
    "ratings = ...\n",
    "\n",
    "# Create an ALS instance\n",
    "als = ALS(userCol=\"userId\", itemCol=\"movieId\", ratingCol=\"rating\", coldStartStrategy=\"drop\")\n",
    "\n",
    "# Define the parameter grid to search for the best parameters\n",
    "param_grid = ParamGridBuilder() \\\n",
    "    .addGrid(als.rank, [10, 20, 30]) \\\n",
    "    .addGrid(als.maxIter, [5, 10, 15]) \\\n",
    "    .addGrid(als.regParam, [0.01, 0.1, 1.0]) \\\n",
    "    .build()\n",
    "\n",
    "# Define an evaluator\n",
    "evaluator = RegressionEvaluator(metricName=\"rmse\", labelCol=\"rating\", predictionCol=\"prediction\")\n",
    "\n",
    "# Create a CrossValidator\n",
    "cross_validator = CrossValidator(estimator=als,\n",
    "                               estimatorParamMaps=param_grid,\n",
    "                               evaluator=evaluator,\n",
    "                               numFolds=5)  # Specify the number of folds for cross-validation\n",
    "\n",
    "# Run cross-validation and choose the best set of parameters\n",
    "cv_model = cross_validator.fit(ratings)\n",
    "\n",
    "# Get the best model from cross-validation\n",
    "best_model = cv_model.bestModel\n",
    "\n",
    "# Print the best parameters\n",
    "print(\"Best Rank:\", best_model.rank)\n",
    "print(\"Best Max Iteration:\", best_model._java_obj.parent().getMaxIter())\n",
    "print(\"Best Regularization Parameter:\", best_model._java_obj.parent().getRegParam())\n",
    "\n",
    "# Perform predictions with the best model\n",
    "predictions = best_model.transform(ratings)\n",
    "\n",
    "# Evaluate the performance of the best model\n",
    "rmse = evaluator.evaluate(predictions)\n",
    "print(\"Root Mean Squared Error (RMSE) on test data:\", rmse)\n"
   ]
  },
  {
   "cell_type": "code",
   "execution_count": null,
   "id": "f8a5c041-9109-4b08-aa27-3a499f5451e4",
   "metadata": {},
   "outputs": [],
   "source": []
  },
  {
   "cell_type": "code",
   "execution_count": null,
   "id": "2123ece2-d783-41db-955b-d2648be68b06",
   "metadata": {},
   "outputs": [],
   "source": []
  },
  {
   "cell_type": "code",
   "execution_count": null,
   "id": "e2fa14bf-a6b2-474f-8ac6-a14f97d557e5",
   "metadata": {},
   "outputs": [],
   "source": []
  },
  {
   "cell_type": "code",
   "execution_count": null,
   "id": "acd305ac-d3fb-4260-a90c-8227b936a083",
   "metadata": {},
   "outputs": [],
   "source": []
  },
  {
   "cell_type": "code",
   "execution_count": 19,
   "id": "4b4ad22f-b2a7-4736-ad73-74c8c3694b53",
   "metadata": {},
   "outputs": [],
   "source": [
    "iterations = 10\n",
    "regularization_parameter = 0.1\n",
    "rank = 4\n",
    "error = []\n",
    "err = 0"
   ]
  },
  {
   "cell_type": "code",
   "execution_count": 20,
   "id": "2a882064-2b76-4922-9078-36cdfd4a6d07",
   "metadata": {},
   "outputs": [
    {
     "name": "stdout",
     "output_type": "stream",
     "text": [
      "Root-mean-Square-error = 3.1238672977695003\n"
     ]
    }
   ],
   "source": [
    "als = ALS(maxIter = iterations,regParam = regularization_parameter,rank = rank, userCol=\"userId\",itemCol=\"LoanIdFormat\",ratingCol=\"count\", coldStartStrategy=\"drop\",nonnegative=True)\n",
    "model = als.fit(training_df)\n",
    "predictions = model.transform(validation_df)\n",
    "new_predictions = predictions.filter(col('prediction') != np.nan)\n",
    "evaluator = RegressionEvaluator(metricName=\"rmse\", labelCol=\"count\", predictionCol=\"prediction\")\n",
    "rmse = evaluator.evaluate(new_predictions)\n",
    "print(\"Root-mean-Square-error = \"+ str(rmse))"
   ]
  },
  {
   "cell_type": "code",
   "execution_count": 21,
   "id": "31017897-e103-46d4-959b-7b5f0390c02f",
   "metadata": {},
   "outputs": [
    {
     "name": "stdout",
     "output_type": "stream",
     "text": [
      "+------------------+------------------+------+--------------------+------------------+------+-----+------------+----------+\n",
      "|                Id|         AccountID|Amount|Num_Of_Loans_Paid__c|Purpose_of_Loan__c|userId|count|LoanIdFormat|prediction|\n",
      "+------------------+------------------+------+--------------------+------------------+------+-----+------------+----------+\n",
      "|0062x00000D8G4aAAF|0010K00001jN1TCQA0|   200|                20.0|   Living Expenses|  1190| 13.0|           3| 13.973488|\n",
      "|0062x00000DFB2xAAH|0010K00001jN1TCQA0|   200|                21.0|   Living Expenses|  1190| 15.0|           3| 13.973488|\n",
      "|0062x00000DA1BDAA1|0012x000003E9qvAAC|   200|                26.0|  Medical Expenses|  1314| 23.0|           3| 25.950764|\n",
      "|0062x00000CU0RqAAL|0012x000005SQ99AAG|   200|                23.0|  Vehicle Expenses|   826| 13.0|           3|  18.96402|\n",
      "|0062x00000CiLOwAAN|0012x000005SQ99AAG|   200|                24.0|  Vehicle Expenses|   826| 15.0|           3|  18.96402|\n",
      "|0062x00000D7mStAAJ|0012x000005SQ99AAG|   200|                26.0|  Vehicle Expenses|   826| 19.0|           3|  18.96402|\n",
      "|0062x00000CUMSTAA5|0010K000027ziExQAI|   200|                35.0|   Living Expenses|  2476| 29.0|           2| 26.486609|\n",
      "+------------------+------------------+------+--------------------+------------------+------+-----+------------+----------+\n",
      "\n"
     ]
    }
   ],
   "source": [
    "new_predictions.select([\"Id\",\"AccountID\",\"Amount\",\"Num_Of_Loans_Paid__c\",\"Purpose_of_Loan__c\",\"userId\",\"count\" ,\"LoanIdFormat\",\"prediction\"]).show()"
   ]
  },
  {
   "cell_type": "code",
   "execution_count": 22,
   "id": "2a0b7e1f-67e1-44a9-9daa-a5f544de86bf",
   "metadata": {},
   "outputs": [
    {
     "name": "stdout",
     "output_type": "stream",
     "text": [
      "+------------------+-----------------+-------------+------------------+------------------+--------------------------+--------------------+------------------+-------------------+------+----------------+--------------------+---------+------+------+-----+------------+----------+\n",
      "|        Contact__c|Min_IT_Loan_ID__c|Opp_Number__c|                Id|         AccountID|Number_Of_Loans_Granted__c|Num_Of_Loans_Paid__c|Purpose_of_Loan__c|Total_Repayments__c|Amount|Term_in_Weeks__c|Payment_Frequency__c|StageName|userId|loanId|count|LoanIdFormat|prediction|\n",
      "+------------------+-----------------+-------------+------------------+------------------+--------------------------+--------------------+------------------+-------------------+------+----------------+--------------------+---------+------+------+-----+------------+----------+\n",
      "|0030K00001UKD4RQAX|           845497|      4523195|0062x00000D8G4aAAF|0010K00001jN1TCQA0|                        27|                20.0|   Living Expenses|                  5|   200|           8.714|         Fortnightly|Loan Paid|  1190|  2302| 13.0|           3| 13.973488|\n",
      "|0030K00001UKD4RQAX|           861596|      4654320|0062x00000DFB2xAAH|0010K00001jN1TCQA0|                        27|                21.0|   Living Expenses|                  7|   200|          13.857|         Fortnightly|Loan Paid|  1190|  1087| 15.0|           3| 13.973488|\n",
      "|0032x000002cN6xAAE|          5150405|      4609048|0062x00000DA1BDAA1|0012x000003E9qvAAC|                        29|                26.0|  Medical Expenses|                  7|   200|          13.857|         Fortnightly|Loan Paid|  1314|  2483| 23.0|           3| 25.950764|\n",
      "|0032x0000041tkdAAA|          5138237|      3967336|0062x00000CU0RqAAL|0012x000005SQ99AAG|                        33|                23.0|  Vehicle Expenses|                  3|   200|             6.0|         Fortnightly|Loan Paid|   826|  2244| 13.0|           3|  18.96402|\n",
      "|0032x0000041tkdAAA|          5139622|      4050916|0062x00000CiLOwAAN|0012x000005SQ99AAG|                        33|                24.0|  Vehicle Expenses|                  3|   200|           6.143|         Fortnightly|Loan Paid|   826|  1920| 15.0|           3|  18.96402|\n",
      "|0032x0000041tkdAAA|          5147783|      4499729|0062x00000D7mStAAJ|0012x000005SQ99AAG|                        33|                26.0|  Vehicle Expenses|                  3|   200|           5.143|         Fortnightly|Loan Paid|   826|   249| 19.0|           3|  18.96402|\n",
      "|0030K0000200FlxQAE|          5138568|      3986235|0062x00000CUMSTAA5|0010K000027ziExQAI|                        41|                35.0|   Living Expenses|                  6|   200|           6.429|              Weekly|Loan Paid|  2476|   289| 29.0|           2| 26.486609|\n",
      "+------------------+-----------------+-------------+------------------+------------------+--------------------------+--------------------+------------------+-------------------+------+----------------+--------------------+---------+------+------+-----+------------+----------+\n",
      "\n"
     ]
    }
   ],
   "source": [
    "new_predictions.show(10)"
   ]
  },
  {
   "cell_type": "code",
   "execution_count": 19,
   "id": "270f8e0a-bb5b-4057-9b5f-2c51b5928c2b",
   "metadata": {},
   "outputs": [],
   "source": [
    "movieRecommends = model.recommendForAllItems(3)"
   ]
  },
  {
   "cell_type": "code",
   "execution_count": 28,
   "id": "301fe569-3a7e-4d0d-8656-29621670c4b7",
   "metadata": {},
   "outputs": [
    {
     "name": "stdout",
     "output_type": "stream",
     "text": [
      "+------------+-----------------+\n",
      "|LoanIdFormat|userId           |\n",
      "+------------+-----------------+\n",
      "|1           |[1635, 651, 1211]|\n",
      "|2           |[997, 1401, 651] |\n",
      "|3           |[709, 2085, 695] |\n",
      "|4           |[1635, 651, 1211]|\n",
      "|5           |[997, 1401, 651] |\n",
      "|6           |[709, 2085, 695] |\n",
      "|7           |[1635, 651, 1211]|\n",
      "|8           |[997, 1401, 695] |\n",
      "|9           |[709, 2085, 1543]|\n",
      "|10          |[1635, 651, 1211]|\n",
      "+------------+-----------------+\n",
      "only showing top 10 rows\n",
      "\n"
     ]
    }
   ],
   "source": [
    "movieRecommends.select(\"LoanIdFormat\",\"recommendations.userId\").show(10,False)"
   ]
  },
  {
   "cell_type": "code",
   "execution_count": 29,
   "id": "2f4203fa-83f8-4710-8620-7c6473c667e8",
   "metadata": {},
   "outputs": [],
   "source": [
    "userRecommends = model.recommendForAllUsers(3)"
   ]
  },
  {
   "cell_type": "code",
   "execution_count": 35,
   "id": "098ae5a3-acec-4b48-a19e-e95ef9c0cb5e",
   "metadata": {},
   "outputs": [
    {
     "data": {
      "text/plain": [
       "StructType([StructField('userId', IntegerType(), False), StructField('recommendations', ArrayType(StructType([StructField('LoanIdFormat', IntegerType(), True), StructField('rating', FloatType(), True)]), True), True)])"
      ]
     },
     "execution_count": 35,
     "metadata": {},
     "output_type": "execute_result"
    }
   ],
   "source": [
    "userRecommends.schema"
   ]
  },
  {
   "cell_type": "code",
   "execution_count": 37,
   "id": "b675110b-c0a1-4db4-8de3-a78631264bea",
   "metadata": {},
   "outputs": [
    {
     "name": "stdout",
     "output_type": "stream",
     "text": [
      "+------+---------------+\n",
      "|userId|LoanIdFormat   |\n",
      "+------+---------------+\n",
      "|1     |[535, 553, 550]|\n",
      "|3     |[628, 625, 622]|\n",
      "|5     |[830, 827, 818]|\n",
      "|6     |[358, 343, 364]|\n",
      "|12    |[30, 29, 28]   |\n",
      "|13    |[819, 801, 822]|\n",
      "|16    |[819, 801, 822]|\n",
      "|19    |[819, 801, 822]|\n",
      "|20    |[628, 625, 622]|\n",
      "|22    |[184, 169, 193]|\n",
      "+------+---------------+\n",
      "only showing top 10 rows\n",
      "\n"
     ]
    }
   ],
   "source": [
    "userRecommends.select(\"userId\",\"recommendations.LoanIdFormat\").show(10,False)"
   ]
  },
  {
   "cell_type": "code",
   "execution_count": 42,
   "id": "2ed2fe4a-e7de-433e-8648-dd0921f82762",
   "metadata": {},
   "outputs": [
    {
     "data": {
      "text/plain": [
       "DataFrame[userId: int, recommendations: array<struct<LoanIdFormat:int,rating:float>>]"
      ]
     },
     "execution_count": 42,
     "metadata": {},
     "output_type": "execute_result"
    }
   ],
   "source": []
  },
  {
   "cell_type": "code",
   "execution_count": 14,
   "id": "e265f644-dbec-4496-99e1-cd5859726b4f",
   "metadata": {},
   "outputs": [
    {
     "name": "stdout",
     "output_type": "stream",
     "text": [
      "+------------------+-----------------+-------------+------------------+------------------+--------------------------+--------------------+------------------+-------------------+------+----------------+--------------------+---------+------+------+-----+------------+----------+\n",
      "|        Contact__c|Min_IT_Loan_ID__c|Opp_Number__c|                Id|         AccountID|Number_Of_Loans_Granted__c|Num_Of_Loans_Paid__c|Purpose_of_Loan__c|Total_Repayments__c|Amount|Term_in_Weeks__c|Payment_Frequency__c|StageName|userId|loanId|count|LoanIdFormat|prediction|\n",
      "+------------------+-----------------+-------------+------------------+------------------+--------------------------+--------------------+------------------+-------------------+------+----------------+--------------------+---------+------+------+-----+------------+----------+\n",
      "|0030K00001JVbSpQAL|           907654|      5059066|0062x00000DYsyxAAD|0010K00001ayVHPQA2|                        29|                24.0|    Other Expenses|                 24|  3000|          25.857|              Weekly|Loan Paid|   668|  4116| 19.0|         593| 18.877747|\n",
      "|0030K00001JVbSpQAL|           907654|      5059066|0062x00000DYsyxAAD|0010K00001ayVHPQA2|                        29|                24.0|    Other Expenses|                 24|  3000|          25.857|              Weekly|Loan Paid|   668|  4116| 19.0|         593| 18.877747|\n",
      "|0030K00001JVbSpQAL|           907654|      5059066|0062x00000DYsyxAAD|0010K00001ayVHPQA2|                        29|                24.0|    Other Expenses|                 24|  3000|          25.857|              Weekly|Loan Paid|   668|  4116| 19.0|         587| 18.905663|\n",
      "|0030K00001JVbSpQAL|           907654|      5059066|0062x00000DYsyxAAD|0010K00001ayVHPQA2|                        29|                24.0|    Other Expenses|                 24|  3000|          25.857|              Weekly|Loan Paid|   668|  4116| 19.0|         602|  18.93985|\n",
      "|0030K00001JVbSpQAL|           907654|      5059066|0062x00000DYsyxAAD|0010K00001ayVHPQA2|                        29|                24.0|    Other Expenses|                 24|  3000|          25.857|              Weekly|Loan Paid|   668|  4116| 19.0|         599|  18.91067|\n",
      "|0030K00001JVbSpQAL|           907654|      5059066|0062x00000DYsyxAAD|0010K00001ayVHPQA2|                        29|                24.0|    Other Expenses|                 24|  3000|          25.857|              Weekly|Loan Paid|   668|  4116| 19.0|         572| 18.884716|\n",
      "|0030K00001JVbSpQAL|           907654|      5059066|0062x00000DYsyxAAD|0010K00001ayVHPQA2|                        29|                24.0|    Other Expenses|                 24|  3000|          25.857|              Weekly|Loan Paid|   668|  4116| 19.0|         590| 18.918877|\n",
      "|0030K00001JVbSpQAL|           907654|      5059066|0062x00000DYsyxAAD|0010K00001ayVHPQA2|                        29|                24.0|    Other Expenses|                 24|  3000|          25.857|              Weekly|Loan Paid|   668|  4116| 19.0|         590| 18.918877|\n",
      "|0030K00001JVbSpQAL|           907654|      5059066|0062x00000DYsyxAAD|0010K00001ayVHPQA2|                        29|                24.0|    Other Expenses|                 24|  3000|          25.857|              Weekly|Loan Paid|   668|  4116| 19.0|         608| 18.910358|\n",
      "|0030K00001JVbSpQAL|           907654|      5059066|0062x00000DYsyxAAD|0010K00001ayVHPQA2|                        29|                24.0|    Other Expenses|                 24|  3000|          25.857|              Weekly|Loan Paid|   668|  4116| 19.0|         566| 18.953238|\n",
      "+------------------+-----------------+-------------+------------------+------------------+--------------------------+--------------------+------------------+-------------------+------+----------------+--------------------+---------+------+------+-----+------------+----------+\n",
      "only showing top 10 rows\n",
      "\n"
     ]
    }
   ],
   "source": [
    "predictions.show(10)"
   ]
  },
  {
   "cell_type": "code",
   "execution_count": 113,
   "id": "02b0b2cf-d139-4333-a851-b7c2d3f98a7b",
   "metadata": {},
   "outputs": [],
   "source": [
    "def apk(actual, predicted, k=10):\n",
    "    \"\"\"\n",
    "    Computes the average precision at k.\n",
    "    This function computes the average prescision at k between two lists of\n",
    "    items.\n",
    "    Parameters\n",
    "    ----------\n",
    "    actual : list\n",
    "             A list of elements that are to be predicted (order doesn't matter)\n",
    "    predicted : list\n",
    "                A list of predicted elements (order does matter)\n",
    "    k : int, optional\n",
    "        The maximum number of predicted elements\n",
    "    Returns\n",
    "    -------\n",
    "    score : double\n",
    "            The average precision at k over the input lists\n",
    "    \"\"\"\n",
    "    if not actual:\n",
    "        return 0.0\n",
    "\n",
    "    # if len(predicted)>k:\n",
    "    #     predicted = predicted[:k]\n",
    "\n",
    "    score = 0.0\n",
    "    num_hits = 0.0\n",
    "\n",
    "    for i,p in enumerate(predicted):\n",
    "        # first condition checks whether it is valid prediction\n",
    "        # second condition checks if prediction is not repeated\n",
    "        if p in actual and p not in predicted[:i]:\n",
    "            num_hits += 1.0\n",
    "            score += num_hits / (i+1.0)\n",
    "            \n",
    "    return score / min(len(actual), k)\n",
    "\n",
    "def mapk(actual, predicted, k=10):\n",
    "    \"\"\"\n",
    "    Computes the mean average precision at k.\n",
    "    This function computes the mean average prescision at k between two lists\n",
    "    of lists of items.\n",
    "    Parameters\n",
    "    ----------\n",
    "    actual : list\n",
    "             A list of lists of elements that are to be predicted \n",
    "             (order doesn't matter in the lists)\n",
    "    predicted : list\n",
    "                A list of lists of predicted elements\n",
    "                (order matters in the lists)\n",
    "    k : int, optional\n",
    "        The maximum number of predicted elements\n",
    "    Returns\n",
    "    -------\n",
    "    score : double\n",
    "            The mean average precision at k over the input lists\n",
    "    \"\"\"\n",
    "    return np.mean([apk(a,p,k) for a,p in zip(actual, predicted)])"
   ]
  },
  {
   "cell_type": "code",
   "execution_count": 112,
   "id": "3ed1919d-9880-47c5-9b7e-f6d8b0f4515c",
   "metadata": {},
   "outputs": [
    {
     "ename": "TypeError",
     "evalue": "'float' object is not iterable",
     "output_type": "error",
     "traceback": [
      "\u001b[1;31m---------------------------------------------------------------------------\u001b[0m",
      "\u001b[1;31mTypeError\u001b[0m                                 Traceback (most recent call last)",
      "Cell \u001b[1;32mIn[112], line 4\u001b[0m\n\u001b[0;32m      1\u001b[0m count_list \u001b[38;5;241m=\u001b[39m new_predictions\u001b[38;5;241m.\u001b[39mselect(\u001b[38;5;124m\"\u001b[39m\u001b[38;5;124mcount\u001b[39m\u001b[38;5;124m\"\u001b[39m)\u001b[38;5;241m.\u001b[39mtoPandas()[\u001b[38;5;124m\"\u001b[39m\u001b[38;5;124mcount\u001b[39m\u001b[38;5;124m\"\u001b[39m]\u001b[38;5;241m.\u001b[39mtolist()\n\u001b[0;32m      2\u001b[0m prediction_list \u001b[38;5;241m=\u001b[39m  new_predictions\u001b[38;5;241m.\u001b[39mselect(\u001b[38;5;124m\"\u001b[39m\u001b[38;5;124mprediction\u001b[39m\u001b[38;5;124m\"\u001b[39m)\u001b[38;5;241m.\u001b[39mtoPandas()[\u001b[38;5;124m\"\u001b[39m\u001b[38;5;124mprediction\u001b[39m\u001b[38;5;124m\"\u001b[39m]\u001b[38;5;241m.\u001b[39mtolist()\n\u001b[1;32m----> 4\u001b[0m \u001b[43mmapk\u001b[49m\u001b[43m(\u001b[49m\u001b[43mcount_list\u001b[49m\u001b[43m,\u001b[49m\u001b[43mprediction_list\u001b[49m\u001b[43m,\u001b[49m\u001b[38;5;241;43m3\u001b[39;49m\u001b[43m \u001b[49m\u001b[43m)\u001b[49m\n",
      "Cell \u001b[1;32mIn[111], line 57\u001b[0m, in \u001b[0;36mmapk\u001b[1;34m(actual, predicted, k)\u001b[0m\n\u001b[0;32m     37\u001b[0m \u001b[38;5;28;01mdef\u001b[39;00m \u001b[38;5;21mmapk\u001b[39m(actual, predicted, k\u001b[38;5;241m=\u001b[39m\u001b[38;5;241m10\u001b[39m):\n\u001b[0;32m     38\u001b[0m \u001b[38;5;250m    \u001b[39m\u001b[38;5;124;03m\"\"\"\u001b[39;00m\n\u001b[0;32m     39\u001b[0m \u001b[38;5;124;03m    Computes the mean average precision at k.\u001b[39;00m\n\u001b[0;32m     40\u001b[0m \u001b[38;5;124;03m    This function computes the mean average prescision at k between two lists\u001b[39;00m\n\u001b[1;32m   (...)\u001b[0m\n\u001b[0;32m     55\u001b[0m \u001b[38;5;124;03m            The mean average precision at k over the input lists\u001b[39;00m\n\u001b[0;32m     56\u001b[0m \u001b[38;5;124;03m    \"\"\"\u001b[39;00m\n\u001b[1;32m---> 57\u001b[0m     \u001b[38;5;28;01mreturn\u001b[39;00m np\u001b[38;5;241m.\u001b[39mmean([\u001b[43mapk\u001b[49m\u001b[43m(\u001b[49m\u001b[43ma\u001b[49m\u001b[43m,\u001b[49m\u001b[43mp\u001b[49m\u001b[43m,\u001b[49m\u001b[43mk\u001b[49m\u001b[43m)\u001b[49m \u001b[38;5;28;01mfor\u001b[39;00m a,p \u001b[38;5;129;01min\u001b[39;00m \u001b[38;5;28mzip\u001b[39m(actual, predicted)])\n",
      "Cell \u001b[1;32mIn[111], line 28\u001b[0m, in \u001b[0;36mapk\u001b[1;34m(actual, predicted, k)\u001b[0m\n\u001b[0;32m     25\u001b[0m score \u001b[38;5;241m=\u001b[39m \u001b[38;5;241m0.0\u001b[39m\n\u001b[0;32m     26\u001b[0m num_hits \u001b[38;5;241m=\u001b[39m \u001b[38;5;241m0.0\u001b[39m\n\u001b[1;32m---> 28\u001b[0m \u001b[38;5;28;01mfor\u001b[39;00m i,p \u001b[38;5;129;01min\u001b[39;00m \u001b[38;5;28;43menumerate\u001b[39;49m\u001b[43m(\u001b[49m\u001b[43mpredicted\u001b[49m\u001b[43m)\u001b[49m:\n\u001b[0;32m     29\u001b[0m     \u001b[38;5;66;03m# first condition checks whether it is valid prediction\u001b[39;00m\n\u001b[0;32m     30\u001b[0m     \u001b[38;5;66;03m# second condition checks if prediction is not repeated\u001b[39;00m\n\u001b[0;32m     31\u001b[0m     \u001b[38;5;28;01mif\u001b[39;00m p \u001b[38;5;129;01min\u001b[39;00m actual \u001b[38;5;129;01mand\u001b[39;00m p \u001b[38;5;129;01mnot\u001b[39;00m \u001b[38;5;129;01min\u001b[39;00m predicted[:i]:\n\u001b[0;32m     32\u001b[0m         num_hits \u001b[38;5;241m+\u001b[39m\u001b[38;5;241m=\u001b[39m \u001b[38;5;241m1.0\u001b[39m\n",
      "\u001b[1;31mTypeError\u001b[0m: 'float' object is not iterable"
     ]
    }
   ],
   "source": [
    "count_list = new_predictions.select(\"count\").toPandas()[\"count\"].tolist()\n",
    "prediction_list =  new_predictions.select(\"prediction\").toPandas()[\"prediction\"].tolist()\n",
    "\n",
    "mapk(count_list,prediction_list,3 )"
   ]
  },
  {
   "cell_type": "code",
   "execution_count": null,
   "id": "443282ec-43d9-4f56-826d-dde22b20e975",
   "metadata": {},
   "outputs": [],
   "source": []
  },
  {
   "cell_type": "code",
   "execution_count": null,
   "id": "571ec37c-74a4-4430-ba59-4302082af7b5",
   "metadata": {},
   "outputs": [],
   "source": []
  },
  {
   "cell_type": "code",
   "execution_count": 115,
   "id": "7ce10d53-0113-4e65-8195-e44522c868f9",
   "metadata": {},
   "outputs": [
    {
     "name": "stdout",
     "output_type": "stream",
     "text": [
      "+------------------+-----------------+-------------+------------------+------------------+--------------------------+--------------------+--------------------+-------------------+------+----------------+--------------------+---------+------+------+-----+------------+----------+\n",
      "|        Contact__c|Min_IT_Loan_ID__c|Opp_Number__c|                Id|         AccountID|Number_Of_Loans_Granted__c|Num_Of_Loans_Paid__c|  Purpose_of_Loan__c|Total_Repayments__c|Amount|Term_in_Weeks__c|Payment_Frequency__c|StageName|userId|loanId|count|LoanIdFormat|prediction|\n",
      "+------------------+-----------------+-------------+------------------+------------------+--------------------------+--------------------+--------------------+-------------------+------+----------------+--------------------+---------+------+------+-----+------------+----------+\n",
      "|0030K00001sAYZzQAO|          1027125|      6560979|0062x00000Ew6DbAAJ|0010K000023zUJ8QAM|                        20|                18.0|Furniture or Appl...|                  4|  2500|            17.0|             Monthly|Loan Paid|  2484|  3573| 16.0|         496| 15.873513|\n",
      "|0030K00001qFamaQAC|          5147888|      4502587|0062x00000D7qkTAAR|0010K000022k8DdQAI|                        27|                22.0|    Vehicle Expenses|                  4|  1000|          16.714|             Monthly|Loan Paid|   436|  1350| 17.0|         148| 16.929253|\n",
      "|0030K00001lQaKwQAK|          1037455|      6769066|0062x00000EysRaAAJ|0010K00001zFWRjQAO|                        19|                18.0| Veterinary Expenses|                  8|  2300|          14.571|         Fortnightly|Loan Paid|  1019|  3656| 17.0|         471| 16.984049|\n",
      "|0032x000002dc0fAAA|          5151677|      4678403|0062x00000DFcmYAAT|0010K0000260MIYQA2|                        29|                24.0|     Travel Expenses|                  5|  1000|          17.429|             Monthly|Loan Paid|  2150|   235| 19.0|         148|  19.03993|\n",
      "|0032800001A4y5EAAR|           829508|      4379514|0062x00000D1GuIAAV|0012800001SmREKAA3|                        18|                14.0|    Medical Expenses|                  4|   900|          15.143|             Monthly|Loan Paid|  2030|  4185| 10.0|         148|   9.96293|\n",
      "+------------------+-----------------+-------------+------------------+------------------+--------------------------+--------------------+--------------------+-------------------+------+----------------+--------------------+---------+------+------+-----+------------+----------+\n",
      "only showing top 5 rows\n",
      "\n"
     ]
    }
   ],
   "source": [
    "new_predictions.show(5)"
   ]
  },
  {
   "cell_type": "code",
   "execution_count": 131,
   "id": "21adc65d-0040-4e24-a409-043005351139",
   "metadata": {},
   "outputs": [],
   "source": [
    "# Function to calculate MAP@K\n",
    "def calculate_map_at_k(predictions, ground_truth, k):\n",
    "    # Inner join to get the predicted ratings for relevant items\n",
    "    joined_df = predictions.join(ground_truth, on=\"userId\")\n",
    "    # Sort recommendations by predicted rating in descending order\n",
    "    window_spec = Window().partitionBy(\"userId\").orderBy(col(\"count\").desc())\n",
    "    sorted_predictions = joined_df.select(\n",
    "        \"userId\",\n",
    "        \"loanId\",\n",
    "        \"prediction\",\n",
    "        expr(\"ROW_NUMBER() OVER (PARTITION BY userId ORDER BY count DESC) AS rank\")\n",
    "    ).filter(col(\"rank\") <= k)\n",
    "    print(sorted_predictions.show(10))\n",
    "    # Calculate precision at each position\n",
    "    precision_at_k = sorted_predictions.withColumn(\n",
    "        \"relevant_at_k\", expr(\"CASE WHEN loanId IN (loanId) THEN (prediction) ELSE 0 END\")\n",
    "    ).groupBy(\"userId\").agg(expr(f\"SUM(relevant_at_k) / {k} AS precision_at_k\"))\n",
    "    print(precision_at_k.show(3))\n",
    "    # Calculate MAP@K\n",
    "    map_at_k = precision_at_k.agg(expr(\"SUM(precision_at_k) / COUNT(userId) AS map_at_k\")).collect()[0][\"map_at_k\"]\n",
    "    print(\"map at k \",map_at_k)\n",
    "    return map_at_k"
   ]
  },
  {
   "cell_type": "code",
   "execution_count": 132,
   "id": "6a7c3e46-3561-4f92-97dc-79a2d7f152ec",
   "metadata": {},
   "outputs": [
    {
     "name": "stdout",
     "output_type": "stream",
     "text": [
      "+------+------+----------+----+\n",
      "|userId|loanId|prediction|rank|\n",
      "+------+------+----------+----+\n",
      "|     1|   757| 4.9824653|   1|\n",
      "|     1|   757| 4.9746227|   2|\n",
      "|     1|   757| 4.9824653|   3|\n",
      "|     2|  2248| 6.9537015|   1|\n",
      "|     2|  2248| 6.9573073|   2|\n",
      "|     2|  2248| 6.9537015|   3|\n",
      "|     3|  2521| 3.9583652|   1|\n",
      "|     3|  2521| 3.9486866|   2|\n",
      "|     3|  2521| 3.9583652|   3|\n",
      "|     4|  4166| 24.773582|   1|\n",
      "+------+------+----------+----+\n",
      "only showing top 10 rows\n",
      "\n",
      "None\n",
      "+------+------------------+\n",
      "|userId|    precision_at_k|\n",
      "+------+------------------+\n",
      "|     1| 4.979851086934407|\n",
      "|     2| 6.961169083913167|\n",
      "|     3|3.9515560468037925|\n",
      "+------+------------------+\n",
      "only showing top 3 rows\n",
      "\n",
      "None\n",
      "map at k  11.771399787381077\n",
      "MAP@3: 11.771399787381077\n"
     ]
    }
   ],
   "source": [
    "map_at_3 = calculate_map_at_k(new_predictions.select(\"Id\",\"AccountID\",\"prediction\",\"LoanIdFormat\",\"userId\"), loans_df, k=3)\n",
    "print(f\"MAP@3: {map_at_3}\")"
   ]
  },
  {
   "cell_type": "code",
   "execution_count": 65,
   "id": "24797084-d431-48bd-8e12-9ec10cef8c40",
   "metadata": {},
   "outputs": [],
   "source": [
    "from pyspark.sql import functions as F\n",
    "from pyspark.ml.evaluation import RegressionEvaluator\n",
    "from pyspark.ml.recommendation import ALS\n",
    " \n",
    "def calculate_mapk(predictions, k):\n",
    "    # Group by user\n",
    "    user_recs = predictions.groupBy('userId').agg(F.collect_list('prediction').alias('predictions'))\n",
    "    # Calculate average precision for each user\n",
    "    user_avgs = user_recs.rdd.map(lambda row: (row[0], avg_precision(row[1], k))).collect()\n",
    "    # Calculate MAP@K\n",
    "    mapk = sum([user_avg for (_, user_avg) in user_avgs]) / len(user_avgs)\n",
    "    return mapk\n",
    "def avg_precision(predictions, k):\n",
    "    # Sort predictions\n",
    "    sorted_preds = sorted(predictions, reverse=True)\n",
    "    # Initialize counters\n",
    "    num_hits, sum_precs = 0, 0.0\n",
    "    # Calculate average precision\n",
    "    for i, pred in enumerate(sorted_preds):\n",
    "        if pred == 1:\n",
    "            num_hits += 1\n",
    "            sum_precs += num_hits / (i+1)\n",
    "    return sum_precs / min(len(sorted_preds), k)"
   ]
  },
  {
   "cell_type": "code",
   "execution_count": null,
   "id": "7e4252ac-30f7-446f-b3ed-a2eec0aad7dd",
   "metadata": {},
   "outputs": [],
   "source": [
    " "
   ]
  },
  {
   "cell_type": "code",
   "execution_count": null,
   "id": "235458aa-72a1-4a29-b2d9-ce570aa2c991",
   "metadata": {},
   "outputs": [],
   "source": []
  },
  {
   "cell_type": "code",
   "execution_count": 32,
   "id": "783c773f-bb4b-48a3-a1eb-1722a911965a",
   "metadata": {},
   "outputs": [
    {
     "data": {
      "text/plain": [
       "StructType([StructField('userId', IntegerType(), False), StructField('recommendations', ArrayType(StructType([StructField('movieId', IntegerType(), True), StructField('rating', FloatType(), True)]), True), True)])"
      ]
     },
     "execution_count": 32,
     "metadata": {},
     "output_type": "execute_result"
    }
   ],
   "source": [
    "userRecommends.schema"
   ]
  },
  {
   "cell_type": "code",
   "execution_count": null,
   "id": "1961e4ea-87cb-475f-a05b-2ebe2e42a7b7",
   "metadata": {},
   "outputs": [],
   "source": []
  },
  {
   "cell_type": "code",
   "execution_count": 35,
   "id": "92ac5cff-89bb-4de1-958c-a8ca262bc5f8",
   "metadata": {},
   "outputs": [
    {
     "name": "stdout",
     "output_type": "stream",
     "text": [
      "+------+--------------------------------------+\n",
      "|userId|movieID                               |\n",
      "+------+--------------------------------------+\n",
      "|1     |[170355, 3379, 33649, 60943, 59018]   |\n",
      "|2     |[3567, 5075, 141718, 72171, 60943]    |\n",
      "|3     |[74754, 99764, 26865, 148881, 3837]   |\n",
      "|4     |[25825, 3567, 127108, 7834, 7841]     |\n",
      "|5     |[89904, 170355, 3379, 174053, 7815]   |\n",
      "|6     |[82, 87234, 3925, 42730, 6732]        |\n",
      "|7     |[25771, 8477, 148881, 74754, 87234]   |\n",
      "|8     |[60943, 59018, 170355, 3379, 174053]  |\n",
      "|9     |[112804, 60943, 59018, 106100, 174053]|\n",
      "|10    |[112804, 90888, 82, 51931, 2316]      |\n",
      "+------+--------------------------------------+\n",
      "only showing top 10 rows\n",
      "\n"
     ]
    }
   ],
   "source": [
    "userRecommends.select(\"userId\",\"recommendations.movieID\").show(10,False)"
   ]
  },
  {
   "cell_type": "code",
   "execution_count": null,
   "id": "c1cf0773-6451-4bbc-ab07-a139b394ab9e",
   "metadata": {},
   "outputs": [],
   "source": []
  },
  {
   "cell_type": "code",
   "execution_count": null,
   "id": "23bf9137-2629-4705-a73d-a87374218e10",
   "metadata": {},
   "outputs": [],
   "source": []
  },
  {
   "cell_type": "code",
   "execution_count": null,
   "id": "dcf37fb3-cd16-4213-aaeb-b8e8456f1298",
   "metadata": {},
   "outputs": [],
   "source": []
  },
  {
   "cell_type": "code",
   "execution_count": null,
   "id": "277b275e-ff16-47e2-ab8f-f620306c01db",
   "metadata": {},
   "outputs": [],
   "source": []
  },
  {
   "cell_type": "code",
   "execution_count": null,
   "id": "f506513f-ceb6-430b-abbf-f62ef272ae1d",
   "metadata": {},
   "outputs": [],
   "source": []
  },
  {
   "cell_type": "code",
   "execution_count": null,
   "id": "92553515-9388-45de-8783-4eb215cd19a8",
   "metadata": {},
   "outputs": [],
   "source": []
  },
  {
   "cell_type": "code",
   "execution_count": null,
   "id": "b97446ac-fe38-4229-80f8-583f36ba212d",
   "metadata": {},
   "outputs": [],
   "source": []
  },
  {
   "cell_type": "code",
   "execution_count": null,
   "id": "ec9e1196-dedf-4a1a-829d-7409b90267c0",
   "metadata": {},
   "outputs": [],
   "source": []
  },
  {
   "cell_type": "code",
   "execution_count": null,
   "id": "665414a5-7d18-4cd5-b5f5-cf8d4918303e",
   "metadata": {},
   "outputs": [],
   "source": []
  },
  {
   "cell_type": "code",
   "execution_count": null,
   "id": "4d0c1a40-1b82-453b-9104-ccd9916baacc",
   "metadata": {},
   "outputs": [],
   "source": []
  },
  {
   "cell_type": "code",
   "execution_count": null,
   "id": "1a94ac07-3ae6-4896-a2b6-034b730d782d",
   "metadata": {},
   "outputs": [],
   "source": []
  },
  {
   "cell_type": "code",
   "execution_count": null,
   "id": "170db358-796f-4f37-aaf4-05a7d4ac9c5b",
   "metadata": {},
   "outputs": [],
   "source": []
  }
 ],
 "metadata": {
  "kernelspec": {
   "display_name": "Python 3 (ipykernel)",
   "language": "python",
   "name": "python3"
  },
  "language_info": {
   "codemirror_mode": {
    "name": "ipython",
    "version": 3
   },
   "file_extension": ".py",
   "mimetype": "text/x-python",
   "name": "python",
   "nbconvert_exporter": "python",
   "pygments_lexer": "ipython3",
   "version": "3.12.0b3"
  }
 },
 "nbformat": 4,
 "nbformat_minor": 5
}
