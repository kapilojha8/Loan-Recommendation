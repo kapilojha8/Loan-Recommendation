{
 "cells": [
  {
   "cell_type": "code",
   "execution_count": 1,
   "id": "e20dd32e-1530-42f6-bdf9-c3f5806e837b",
   "metadata": {},
   "outputs": [],
   "source": [
    "from pyspark.sql import SparkSession\n",
    "from pyspark.sql.functions import col, expr, rank, countDistinct, count\n",
    "from pyspark.sql.window import Window\n",
    "from pyspark.ml.recommendation import ALS\n",
    "from pyspark.ml.evaluation import RegressionEvaluator\n",
    "from pyspark.ml.feature import StringIndexer\n",
    "from pyspark.ml.tuning import TrainValidationSplit, ParamGridBuilder, CrossValidator\n",
    "import pandas as pd\n",
    "import matplotlib.pyplot as plt\n",
    "import time"
   ]
  },
  {
   "cell_type": "code",
   "execution_count": 2,
   "id": "7feab969-e8a3-4d26-adb0-080556999837",
   "metadata": {},
   "outputs": [],
   "source": [
    "spark = SparkSession.builder.appName('loan_recommendation_with_clusters').config(\"spark.driver.memory\", \"15g\").getOrCreate()"
   ]
  },
  {
   "cell_type": "code",
   "execution_count": 3,
   "id": "867605ca-18ec-48d8-8109-8871e4118aa6",
   "metadata": {},
   "outputs": [
    {
     "data": {
      "text/html": [
       "\n",
       "            <div>\n",
       "                <p><b>SparkSession - in-memory</b></p>\n",
       "                \n",
       "        <div>\n",
       "            <p><b>SparkContext</b></p>\n",
       "\n",
       "            <p><a href=\"http://DESKTOP-5PNHV38:4040\">Spark UI</a></p>\n",
       "\n",
       "            <dl>\n",
       "              <dt>Version</dt>\n",
       "                <dd><code>v3.5.0</code></dd>\n",
       "              <dt>Master</dt>\n",
       "                <dd><code>local[*]</code></dd>\n",
       "              <dt>AppName</dt>\n",
       "                <dd><code>loan_recommendation_with_clusters</code></dd>\n",
       "            </dl>\n",
       "        </div>\n",
       "        \n",
       "            </div>\n",
       "        "
      ],
      "text/plain": [
       "<pyspark.sql.session.SparkSession at 0x2a56e0e0650>"
      ]
     },
     "execution_count": 3,
     "metadata": {},
     "output_type": "execute_result"
    }
   ],
   "source": [
    "spark"
   ]
  },
  {
   "cell_type": "code",
   "execution_count": 4,
   "id": "c193e8d5-ed73-4ce1-8c2a-8580263c5921",
   "metadata": {},
   "outputs": [
    {
     "name": "stdout",
     "output_type": "stream",
     "text": [
      "root\n",
      " |-- Min_IT_Loan_ID__c: integer (nullable = true)\n",
      " |-- Opp_Number__c: integer (nullable = true)\n",
      " |-- Id: string (nullable = true)\n",
      " |-- AccountID: string (nullable = true)\n",
      " |-- Number_Of_Loans_Granted__c: integer (nullable = true)\n",
      " |-- Num_Of_Loans_Paid__c: double (nullable = true)\n",
      " |-- Purpose_of_Loan__c: string (nullable = true)\n",
      " |-- Total_Repayments__c: integer (nullable = true)\n",
      " |-- Amount: integer (nullable = true)\n",
      " |-- Term_in_Weeks__c: double (nullable = true)\n",
      " |-- Payment_Frequency__c: string (nullable = true)\n",
      " |-- StageName: string (nullable = true)\n",
      " |-- userId: integer (nullable = true)\n",
      " |-- loanId: integer (nullable = true)\n",
      " |-- count: integer (nullable = true)\n",
      " |-- LoanIdFormat: integer (nullable = true)\n",
      "\n"
     ]
    }
   ],
   "source": [
    "loans_df = spark.read.csv(\"df_data/df_temp_cluster_rating_condition_data.csv\", inferSchema=True, header=True)\n",
    "loans_df.printSchema()"
   ]
  },
  {
   "cell_type": "code",
   "execution_count": 5,
   "id": "66fda6a1-a162-4b31-9076-0a3a230f16de",
   "metadata": {},
   "outputs": [
    {
     "name": "stdout",
     "output_type": "stream",
     "text": [
      "+------------+------+-------------------+--------------------+-----+\n",
      "|LoanIdFormat|Amount|Total_Repayments__c|Payment_Frequency__c|count|\n",
      "+------------+------+-------------------+--------------------+-----+\n",
      "|           1|  2000|                 10|              Weekly|    4|\n",
      "|           1|  2000|                 10|              Weekly|    5|\n",
      "|           1|  2000|                  6|              Weekly|    4|\n",
      "|           1|  1400|                 10|              Weekly|    4|\n",
      "|           1|  2050|                 10|              Weekly|    4|\n",
      "|           1|  2000|                 10|              Weekly|    4|\n",
      "|           1|  1500|                 10|              Weekly|    4|\n",
      "|           1|  2000|                 10|              Weekly|    3|\n",
      "|           1|  2050|                  8|              Weekly|    3|\n",
      "|           1|  2050|                 10|              Weekly|    3|\n",
      "+------------+------+-------------------+--------------------+-----+\n",
      "only showing top 10 rows\n",
      "\n"
     ]
    }
   ],
   "source": [
    "loans_df.select([\"LoanIdFormat\",\"Amount\",\"Total_Repayments__c\",\"Payment_Frequency__c\",\"count\"]).show(10)"
   ]
  },
  {
   "cell_type": "code",
   "execution_count": 6,
   "id": "b17fa619-e0b5-459a-aa9b-1b30dfb9b411",
   "metadata": {},
   "outputs": [
    {
     "name": "stdout",
     "output_type": "stream",
     "text": [
      "+-------+-----------------+------------------+------------------+-------------------+--------------------------+--------------------+\n",
      "|summary|     LoanIdFormat|             count|            Amount|Total_Repayments__c|Number_Of_Loans_Granted__c|Num_Of_Loans_Paid__c|\n",
      "+-------+-----------------+------------------+------------------+-------------------+--------------------------+--------------------+\n",
      "|  count|             5010|              5010|              5010|               5010|                      5010|                5010|\n",
      "|   mean|8.827544910179641| 2.208982035928144|1337.9241516966067| 10.216167664670659|        22.779041916167664|  19.710578842315368|\n",
      "| stddev|7.092703867623567|1.2238231995977518|1060.9889851020196|   5.70686911053265|        12.770361468751116|  12.253513797420762|\n",
      "|    min|                1|                 0|               200|                  3|                         6|                 4.0|\n",
      "|    max|               43|                 7|              5000|                 40|                        73|                71.0|\n",
      "+-------+-----------------+------------------+------------------+-------------------+--------------------------+--------------------+\n",
      "\n"
     ]
    }
   ],
   "source": [
    "loans_df.select([\"LoanIdFormat\",\"count\",\"Amount\",\"Total_Repayments__c\",\"Number_Of_Loans_Granted__c\",\"Num_Of_Loans_Paid__c\"]).describe().show()"
   ]
  },
  {
   "cell_type": "code",
   "execution_count": 7,
   "id": "aff3ab50-da66-4a88-ab6e-64da2d8ec778",
   "metadata": {
    "scrolled": true
   },
   "outputs": [
    {
     "name": "stdout",
     "output_type": "stream",
     "text": [
      "-RECORD 0------------------------------------------\n",
      " Min_IT_Loan_ID__c          | 872195               \n",
      " Opp_Number__c              | 4736264              \n",
      " Id                         | 0062x00000DGh5bAAD   \n",
      " AccountID                  | 0012800001Z5quwAAB   \n",
      " Number_Of_Loans_Granted__c | 50                   \n",
      " Num_Of_Loans_Paid__c       | 44.0                 \n",
      " Purpose_of_Loan__c         | Vehicle Expenses     \n",
      " Total_Repayments__c        | 10                   \n",
      " Amount                     | 2000                 \n",
      " Term_in_Weeks__c           | 9.857                \n",
      " Payment_Frequency__c       | Weekly               \n",
      " StageName                  | Loan Paid            \n",
      " userId                     | 1319                 \n",
      " loanId                     | 1985                 \n",
      " count                      | 4                    \n",
      " LoanIdFormat               | 1                    \n",
      "-RECORD 1------------------------------------------\n",
      " Min_IT_Loan_ID__c          | 5155270              \n",
      " Opp_Number__c              | 4833598              \n",
      " Id                         | 0062x00000DIRQxAAP   \n",
      " AccountID                  | 0010K000026N8lUQAS   \n",
      " Number_Of_Loans_Granted__c | 48                   \n",
      " Num_Of_Loans_Paid__c       | 46.0                 \n",
      " Purpose_of_Loan__c         | Travel Expenses      \n",
      " Total_Repayments__c        | 10                   \n",
      " Amount                     | 2000                 \n",
      " Term_in_Weeks__c           | 9.857                \n",
      " Payment_Frequency__c       | Weekly               \n",
      " StageName                  | Loan Paid            \n",
      " userId                     | 797                  \n",
      " loanId                     | 2147                 \n",
      " count                      | 5                    \n",
      " LoanIdFormat               | 1                    \n",
      "-RECORD 2------------------------------------------\n",
      " Min_IT_Loan_ID__c          | 911400               \n",
      " Opp_Number__c              | 5095196              \n",
      " Id                         | 0062x00000DZUOCAA5   \n",
      " AccountID                  | 0012800001SDTBIAA5   \n",
      " Number_Of_Loans_Granted__c | 43                   \n",
      " Num_Of_Loans_Paid__c       | 39.0                 \n",
      " Purpose_of_Loan__c         | Living Expenses      \n",
      " Total_Repayments__c        | 6                    \n",
      " Amount                     | 2000                 \n",
      " Term_in_Weeks__c           | 6.0                  \n",
      " Payment_Frequency__c       | Weekly               \n",
      " StageName                  | Loan Paid            \n",
      " userId                     | 1090                 \n",
      " loanId                     | 2598                 \n",
      " count                      | 4                    \n",
      " LoanIdFormat               | 1                    \n",
      "-RECORD 3------------------------------------------\n",
      " Min_IT_Loan_ID__c          | 5157393              \n",
      " Opp_Number__c              | 4942438              \n",
      " Id                         | 0062x00000DWsO3AAL   \n",
      " AccountID                  | 0010K000029H14BQAS   \n",
      " Number_Of_Loans_Granted__c | 41                   \n",
      " Num_Of_Loans_Paid__c       | 37.0                 \n",
      " Purpose_of_Loan__c         | Life Event Expenses  \n",
      " Total_Repayments__c        | 10                   \n",
      " Amount                     | 1400                 \n",
      " Term_in_Weeks__c           | 10.143               \n",
      " Payment_Frequency__c       | Weekly               \n",
      " StageName                  | Loan Paid            \n",
      " userId                     | 884                  \n",
      " loanId                     | 2411                 \n",
      " count                      | 4                    \n",
      " LoanIdFormat               | 1                    \n",
      "-RECORD 4------------------------------------------\n",
      " Min_IT_Loan_ID__c          | 877335               \n",
      " Opp_Number__c              | 4776137              \n",
      " Id                         | 0062x00000DHOd7AAH   \n",
      " AccountID                  | 0010K00001xksnkQAA   \n",
      " Number_Of_Loans_Granted__c | 39                   \n",
      " Num_Of_Loans_Paid__c       | 35.0                 \n",
      " Purpose_of_Loan__c         | Home Maintenance ... \n",
      " Total_Repayments__c        | 10                   \n",
      " Amount                     | 2050                 \n",
      " Term_in_Weeks__c           | 10.143               \n",
      " Payment_Frequency__c       | Weekly               \n",
      " StageName                  | Loan Paid            \n",
      " userId                     | 438                  \n",
      " loanId                     | 2053                 \n",
      " count                      | 4                    \n",
      " LoanIdFormat               | 1                    \n",
      "-RECORD 5------------------------------------------\n",
      " Min_IT_Loan_ID__c          | 5159089              \n",
      " Opp_Number__c              | 5054966              \n",
      " Id                         | 0062x00000DYpBaAAL   \n",
      " AccountID                  | 0010K00002805chQAA   \n",
      " Number_Of_Loans_Granted__c | 38                   \n",
      " Num_Of_Loans_Paid__c       | 35.0                 \n",
      " Purpose_of_Loan__c         | Living Expenses      \n",
      " Total_Repayments__c        | 10                   \n",
      " Amount                     | 2000                 \n",
      " Term_in_Weeks__c           | 9.857                \n",
      " Payment_Frequency__c       | Weekly               \n",
      " StageName                  | Loan Paid            \n",
      " userId                     | 847                  \n",
      " loanId                     | 2544                 \n",
      " count                      | 4                    \n",
      " LoanIdFormat               | 1                    \n",
      "-RECORD 6------------------------------------------\n",
      " Min_IT_Loan_ID__c          | 5155136              \n",
      " Opp_Number__c              | 4826048              \n",
      " Id                         | 0062x00000DIIhyAAH   \n",
      " AccountID                  | 0010K000022pFX7QAM   \n",
      " Number_Of_Loans_Granted__c | 37                   \n",
      " Num_Of_Loans_Paid__c       | 34.0                 \n",
      " Purpose_of_Loan__c         | Vehicle Expenses     \n",
      " Total_Repayments__c        | 10                   \n",
      " Amount                     | 1500                 \n",
      " Term_in_Weeks__c           | 10.0                 \n",
      " Payment_Frequency__c       | Weekly               \n",
      " StageName                  | Loan Paid            \n",
      " userId                     | 681                  \n",
      " loanId                     | 2121                 \n",
      " count                      | 4                    \n",
      " LoanIdFormat               | 1                    \n",
      "-RECORD 7------------------------------------------\n",
      " Min_IT_Loan_ID__c          | 897515               \n",
      " Opp_Number__c              | 4955382              \n",
      " Id                         | 0062x00000DX76cAAD   \n",
      " AccountID                  | 0010K00001eGonQQAS   \n",
      " Number_Of_Loans_Granted__c | 33                   \n",
      " Num_Of_Loans_Paid__c       | 28.0                 \n",
      " Purpose_of_Loan__c         | Home Maintenance ... \n",
      " Total_Repayments__c        | 10                   \n",
      " Amount                     | 2000                 \n",
      " Term_in_Weeks__c           | 10.0                 \n",
      " Payment_Frequency__c       | Weekly               \n",
      " StageName                  | Loan Paid            \n",
      " userId                     | 63                   \n",
      " loanId                     | 2432                 \n",
      " count                      | 3                    \n",
      " LoanIdFormat               | 1                    \n",
      "-RECORD 8------------------------------------------\n",
      " Min_IT_Loan_ID__c          | 846492               \n",
      " Opp_Number__c              | 4534121              \n",
      " Id                         | 0062x00000D8SYmAAN   \n",
      " AccountID                  | 0010K000022izS0QAI   \n",
      " Number_Of_Loans_Granted__c | 31                   \n",
      " Num_Of_Loans_Paid__c       | 29.0                 \n",
      " Purpose_of_Loan__c         | Travel Expenses      \n",
      " Total_Repayments__c        | 8                    \n",
      " Amount                     | 2050                 \n",
      " Term_in_Weeks__c           | 8.286                \n",
      " Payment_Frequency__c       | Weekly               \n",
      " StageName                  | Loan Paid            \n",
      " userId                     | 660                  \n",
      " loanId                     | 1601                 \n",
      " count                      | 3                    \n",
      " LoanIdFormat               | 1                    \n",
      "-RECORD 9------------------------------------------\n",
      " Min_IT_Loan_ID__c          | 832904               \n",
      " Opp_Number__c              | 4410238              \n",
      " Id                         | 0062x00000D1m5dAAB   \n",
      " AccountID                  | 0010K00001sZkdJQAS   \n",
      " Number_Of_Loans_Granted__c | 30                   \n",
      " Num_Of_Loans_Paid__c       | 28.0                 \n",
      " Purpose_of_Loan__c         | Home Maintenance ... \n",
      " Total_Repayments__c        | 10                   \n",
      " Amount                     | 2050                 \n",
      " Term_in_Weeks__c           | 10.143               \n",
      " Payment_Frequency__c       | Weekly               \n",
      " StageName                  | Loan Paid            \n",
      " userId                     | 309                  \n",
      " loanId                     | 1369                 \n",
      " count                      | 3                    \n",
      " LoanIdFormat               | 1                    \n",
      "-RECORD 10-----------------------------------------\n",
      " Min_IT_Loan_ID__c          | 911749               \n",
      " Opp_Number__c              | 5100105              \n",
      " Id                         | 0062x00000DZYoJAAX   \n",
      " AccountID                  | 0010K00001wUKuIQAW   \n",
      " Number_Of_Loans_Granted__c | 29                   \n",
      " Num_Of_Loans_Paid__c       | 28.0                 \n",
      " Purpose_of_Loan__c         | Vehicle Expenses     \n",
      " Total_Repayments__c        | 6                    \n",
      " Amount                     | 1600                 \n",
      " Term_in_Weeks__c           | 6.143                \n",
      " Payment_Frequency__c       | Weekly               \n",
      " StageName                  | Loan Paid            \n",
      " userId                     | 401                  \n",
      " loanId                     | 2610                 \n",
      " count                      | 3                    \n",
      " LoanIdFormat               | 1                    \n",
      "-RECORD 11-----------------------------------------\n",
      " Min_IT_Loan_ID__c          | 994476               \n",
      " Opp_Number__c              | 5925670              \n",
      " Id                         | 0062x00000ED9WNAA1   \n",
      " AccountID                  | 0012x00000NRVufAAH   \n",
      " Number_Of_Loans_Granted__c | 28                   \n",
      " Num_Of_Loans_Paid__c       | 24.0                 \n",
      " Purpose_of_Loan__c         | Living Expenses      \n",
      " Total_Repayments__c        | 8                    \n",
      " Amount                     | 2050                 \n",
      " Term_in_Weeks__c           | 9.429                \n",
      " Payment_Frequency__c       | Weekly               \n",
      " StageName                  | Loan Paid            \n",
      " userId                     | 2189                 \n",
      " loanId                     | 3136                 \n",
      " count                      | 3                    \n",
      " LoanIdFormat               | 1                    \n",
      "-RECORD 12-----------------------------------------\n",
      " Min_IT_Loan_ID__c          | 5158437              \n",
      " Opp_Number__c              | 5004544              \n",
      " Id                         | 0062x00000DXyZCAA1   \n",
      " AccountID                  | 0012x000002alWVAAY   \n",
      " Number_Of_Loans_Granted__c | 28                   \n",
      " Num_Of_Loans_Paid__c       | 24.0                 \n",
      " Purpose_of_Loan__c         | Vehicle Expenses     \n",
      " Total_Repayments__c        | 8                    \n",
      " Amount                     | 2000                 \n",
      " Term_in_Weeks__c           | 8.143                \n",
      " Payment_Frequency__c       | Weekly               \n",
      " StageName                  | Loan Paid            \n",
      " userId                     | 1367                 \n",
      " loanId                     | 2478                 \n",
      " count                      | 3                    \n",
      " LoanIdFormat               | 1                    \n",
      "-RECORD 13-----------------------------------------\n",
      " Min_IT_Loan_ID__c          | 5154298              \n",
      " Opp_Number__c              | 4783102              \n",
      " Id                         | 0062x00000DHWbVAAX   \n",
      " AccountID                  | 0012x000003DEfZAAW   \n",
      " Number_Of_Loans_Granted__c | 28                   \n",
      " Num_Of_Loans_Paid__c       | 24.0                 \n",
      " Purpose_of_Loan__c         | Furniture or Appl... \n",
      " Total_Repayments__c        | 10                   \n",
      " Amount                     | 1500                 \n",
      " Term_in_Weeks__c           | 10.857               \n",
      " Payment_Frequency__c       | Weekly               \n",
      " StageName                  | Loan Paid            \n",
      " userId                     | 1479                 \n",
      " loanId                     | 2068                 \n",
      " count                      | 3                    \n",
      " LoanIdFormat               | 1                    \n",
      "-RECORD 14-----------------------------------------\n",
      " Min_IT_Loan_ID__c          | 5173688              \n",
      " Opp_Number__c              | 6895299              \n",
      " Id                         | 0062x00000F1SA9AAN   \n",
      " AccountID                  | 0012x00000BFelXAAT   \n",
      " Number_Of_Loans_Granted__c | 27                   \n",
      " Num_Of_Loans_Paid__c       | 24.0                 \n",
      " Purpose_of_Loan__c         | Vehicle Expenses     \n",
      " Total_Repayments__c        | 10                   \n",
      " Amount                     | 2050                 \n",
      " Term_in_Weeks__c           | 9.714                \n",
      " Payment_Frequency__c       | Weekly               \n",
      " StageName                  | Loan Paid            \n",
      " userId                     | 1628                 \n",
      " loanId                     | 4343                 \n",
      " count                      | 3                    \n",
      " LoanIdFormat               | 1                    \n",
      "-RECORD 15-----------------------------------------\n",
      " Min_IT_Loan_ID__c          | 902564               \n",
      " Opp_Number__c              | 5008073              \n",
      " Id                         | 0062x00000DY12QAAT   \n",
      " AccountID                  | 0012800001IzG58AAF   \n",
      " Number_Of_Loans_Granted__c | 27                   \n",
      " Num_Of_Loans_Paid__c       | 23.0                 \n",
      " Purpose_of_Loan__c         | Travel Expenses      \n",
      " Total_Repayments__c        | 8                    \n",
      " Amount                     | 1950                 \n",
      " Term_in_Weeks__c           | 7.857                \n",
      " Payment_Frequency__c       | Weekly               \n",
      " StageName                  | Loan Paid            \n",
      " userId                     | 1014                 \n",
      " loanId                     | 2482                 \n",
      " count                      | 2                    \n",
      " LoanIdFormat               | 1                    \n",
      "-RECORD 16-----------------------------------------\n",
      " Min_IT_Loan_ID__c          | 5156153              \n",
      " Opp_Number__c              | 4881598              \n",
      " Id                         | 0062x00000DJIZ1AAP   \n",
      " AccountID                  | 0012x000005SvFiAAK   \n",
      " Number_Of_Loans_Granted__c | 27                   \n",
      " Num_Of_Loans_Paid__c       | 24.0                 \n",
      " Purpose_of_Loan__c         | Home Maintenance ... \n",
      " Total_Repayments__c        | 11                   \n",
      " Amount                     | 2000                 \n",
      " Term_in_Weeks__c           | 10.714               \n",
      " Payment_Frequency__c       | Weekly               \n",
      " StageName                  | Loan Paid            \n",
      " userId                     | 1566                 \n",
      " loanId                     | 2221                 \n",
      " count                      | 3                    \n",
      " LoanIdFormat               | 1                    \n",
      "-RECORD 17-----------------------------------------\n",
      " Min_IT_Loan_ID__c          | 854734               \n",
      " Opp_Number__c              | 4607002              \n",
      " Id                         | 0062x00000D9yYsAAJ   \n",
      " AccountID                  | 0010K00001b0I8rQAE   \n",
      " Number_Of_Loans_Granted__c | 27                   \n",
      " Num_Of_Loans_Paid__c       | 22.0                 \n",
      " Purpose_of_Loan__c         | Veterinary Expenses  \n",
      " Total_Repayments__c        | 7                    \n",
      " Amount                     | 1750                 \n",
      " Term_in_Weeks__c           | 7.857                \n",
      " Payment_Frequency__c       | Weekly               \n",
      " StageName                  | Loan Paid            \n",
      " userId                     | 6                    \n",
      " loanId                     | 1762                 \n",
      " count                      | 2                    \n",
      " LoanIdFormat               | 1                    \n",
      "-RECORD 18-----------------------------------------\n",
      " Min_IT_Loan_ID__c          | 5149859              \n",
      " Opp_Number__c              | 4592138              \n",
      " Id                         | 0062x00000D9dchAAB   \n",
      " AccountID                  | 0012x00000BFelXAAT   \n",
      " Number_Of_Loans_Granted__c | 27                   \n",
      " Num_Of_Loans_Paid__c       | 21.0                 \n",
      " Purpose_of_Loan__c         | Vehicle Expenses     \n",
      " Total_Repayments__c        | 10                   \n",
      " Amount                     | 2000                 \n",
      " Term_in_Weeks__c           | 10.0                 \n",
      " Payment_Frequency__c       | Weekly               \n",
      " StageName                  | Loan Paid            \n",
      " userId                     | 1628                 \n",
      " loanId                     | 1707                 \n",
      " count                      | 2                    \n",
      " LoanIdFormat               | 1                    \n",
      "-RECORD 19-----------------------------------------\n",
      " Min_IT_Loan_ID__c          | 840731               \n",
      " Opp_Number__c              | 4478797              \n",
      " Id                         | 0062x00000D7KZpAAN   \n",
      " AccountID                  | 0012800001SDTuHAAX   \n",
      " Number_Of_Loans_Granted__c | 27                   \n",
      " Num_Of_Loans_Paid__c       | 25.0                 \n",
      " Purpose_of_Loan__c         | Furniture or Appl... \n",
      " Total_Repayments__c        | 7                    \n",
      " Amount                     | 1500                 \n",
      " Term_in_Weeks__c           | 8.0                  \n",
      " Payment_Frequency__c       | Weekly               \n",
      " StageName                  | Loan Paid            \n",
      " userId                     | 1112                 \n",
      " loanId                     | 1496                 \n",
      " count                      | 3                    \n",
      " LoanIdFormat               | 1                    \n",
      "only showing top 20 rows\n",
      "\n"
     ]
    }
   ],
   "source": [
    "loans_df.show(vertical=True)"
   ]
  },
  {
   "cell_type": "code",
   "execution_count": 8,
   "id": "879b0ed5-5a6a-4f4f-a02a-1ef3be15bd8d",
   "metadata": {},
   "outputs": [],
   "source": [
    "hist_data  = loans_df.toPandas()"
   ]
  },
  {
   "cell_type": "code",
   "execution_count": 9,
   "id": "8e20cc21-d8fc-478f-ae00-442e698e0c7b",
   "metadata": {},
   "outputs": [
    {
     "data": {
      "image/png": "[encoded data removed]",
      "text/plain": [
       "<Figure size 640x480 with 1 Axes>"
      ]
     },
     "metadata": {},
     "output_type": "display_data"
    }
   ],
   "source": [
    "hist_data['count'].hist()\n",
    "plt.xlabel(\"count\")\n",
    "plt.ylabel(\"Frequency\")\n",
    "plt.title(f\"Histogram of count\")\n",
    "plt.show()"
   ]
  },
  {
   "cell_type": "code",
   "execution_count": null,
   "id": "bf7ad932-9155-41cc-b30b-97711374a062",
   "metadata": {},
   "outputs": [],
   "source": []
  },
  {
   "cell_type": "code",
   "execution_count": null,
   "id": "30bb8db5-e183-44d9-b3f7-b9b3647bfb14",
   "metadata": {},
   "outputs": [],
   "source": []
  },
  {
   "cell_type": "code",
   "execution_count": 10,
   "id": "93606394-8fb4-4d30-8235-c8e1cdb15a13",
   "metadata": {},
   "outputs": [
    {
     "name": "stdout",
     "output_type": "stream",
     "text": [
      "Number of unique loanId_format: 27\n",
      "Number of unique Loan Id: 4571\n"
     ]
    }
   ],
   "source": [
    "# Count the number of unique items\n",
    "num_unique_loan_id_format = loans_df.select('LoanIdFormat').distinct().count()\n",
    "print(f\"Number of unique loanId_format: {num_unique_loan_id_format}\")\n",
    "\n",
    "# Count the number of unique users\n",
    "num_unique_id = loans_df.select('Id').distinct().count()\n",
    "print(f\"Number of unique Loan Id: {num_unique_id}\")"
   ]
  },
  {
   "cell_type": "code",
   "execution_count": 11,
   "id": "aa9f871b-ee01-470a-af88-09d50dc228cb",
   "metadata": {},
   "outputs": [
    {
     "name": "stdout",
     "output_type": "stream",
     "text": [
      "Number of unique users: 2864\n"
     ]
    }
   ],
   "source": [
    "# Count the number of unique items\n",
    "tmp = loans_df.select('userId').distinct().count()\n",
    "print(f\"Number of unique users: {tmp}\")\n",
    "\n",
    "# Count the number of unique users\n",
    "# tmp = ratings_df.select('movieId').distinct().count()\n",
    "# print(f\"Number of unique movies: {tmp}\")"
   ]
  },
  {
   "cell_type": "code",
   "execution_count": 12,
   "id": "18f5bc8b-ee99-490a-89e0-8a319deb255f",
   "metadata": {},
   "outputs": [
    {
     "name": "stdout",
     "output_type": "stream",
     "text": [
      "+-----+\n",
      "|count|\n",
      "+-----+\n",
      "|    1|\n",
      "|    6|\n",
      "|    3|\n",
      "|    5|\n",
      "|    4|\n",
      "|    7|\n",
      "|    2|\n",
      "|    0|\n",
      "+-----+\n",
      "\n"
     ]
    }
   ],
   "source": [
    "# distinct values of the rating\n",
    "loans_df.select(\"count\").distinct().show()"
   ]
  },
  {
   "cell_type": "markdown",
   "id": "67ad89af-06f7-4fac-b6bb-9d0ec842ed04",
   "metadata": {},
   "source": [
    "========================================================================================================"
   ]
  },
  {
   "cell_type": "markdown",
   "id": "6ea6197c-53b9-4c06-a20d-1e1f2233d371",
   "metadata": {},
   "source": [
    "Converting the dataset into train test and validation split."
   ]
  },
  {
   "cell_type": "code",
   "execution_count": 13,
   "id": "06409684-e1e3-412d-85ae-765c1469c6fd",
   "metadata": {},
   "outputs": [],
   "source": [
    "# sc = spark.sparkContext"
   ]
  },
  {
   "cell_type": "code",
   "execution_count": 14,
   "id": "25b7a938-17f5-460f-a3bf-78ebd6628477",
   "metadata": {},
   "outputs": [
    {
     "name": "stdout",
     "output_type": "stream",
     "text": [
      "+------------+-----+------+\n",
      "|LoanIdFormat|count|Amount|\n",
      "+------------+-----+------+\n",
      "|           1|    4|  2000|\n",
      "|           1|    5|  2000|\n",
      "|           1|    4|  2000|\n",
      "|           1|    4|  1400|\n",
      "|           1|    4|  2050|\n",
      "|           1|    4|  2000|\n",
      "|           1|    4|  1500|\n",
      "|           1|    3|  2000|\n",
      "|           1|    3|  2050|\n",
      "|           1|    3|  2050|\n",
      "+------------+-----+------+\n",
      "only showing top 10 rows\n",
      "\n"
     ]
    }
   ],
   "source": [
    "loans_df.select([\"LoanIdFormat\",\"count\",\"Amount\"]).show(10)"
   ]
  },
  {
   "cell_type": "code",
   "execution_count": 15,
   "id": "471dc8a3-2474-41c2-a4c2-d3f09756df0d",
   "metadata": {},
   "outputs": [
    {
     "data": {
      "text/plain": [
       "DataFrame[Min_IT_Loan_ID__c: int, Opp_Number__c: int, Id: string, AccountID: string, Number_Of_Loans_Granted__c: int, Num_Of_Loans_Paid__c: double, Purpose_of_Loan__c: string, Total_Repayments__c: int, Amount: int, Term_in_Weeks__c: double, Payment_Frequency__c: string, StageName: string, userId: int, loanId: int, count: int, LoanIdFormat: int]"
      ]
     },
     "execution_count": 15,
     "metadata": {},
     "output_type": "execute_result"
    }
   ],
   "source": [
    "train, validation = loans_df.randomSplit([0.8, 0.2])\n",
    "# train, validation, test = loans_df.randomSplit([0.8, 0.1, 0.1])\n",
    "# # cache data\n",
    "train.cache()\n",
    "validation.cache()\n",
    "# test.cache()"
   ]
  },
  {
   "cell_type": "code",
   "execution_count": 16,
   "id": "b2ad213d-bf88-4d40-b43e-609a301116fe",
   "metadata": {},
   "outputs": [
    {
     "name": "stdout",
     "output_type": "stream",
     "text": [
      "+------+------+------------+-----+------+-------------------+\n",
      "|userId|loanId|LoanIdFormat|count|Amount|Total_Repayments__c|\n",
      "+------+------+------------+-----+------+-------------------+\n",
      "|  1090|     6|          16|    3|  1700|                 14|\n",
      "|  1284|    10|           3|    5|  2000|                  7|\n",
      "|  1162|    13|          16|    3|  2300|                 16|\n",
      "|   121|    22|           2|    3|  1950|                  3|\n",
      "|   112|    29|           3|    3|  1300|                  7|\n",
      "|   112|    29|           6|    3|  1300|                  7|\n",
      "|  1138|    30|           5|    4|  1000|                  4|\n",
      "|  1145|    54|           3|    4|  1500|                  7|\n",
      "|  1130|    51|          16|    4|  2100|                 16|\n",
      "|   361|    59|           3|    3|  1850|                  7|\n",
      "|   146|    60|           5|    4|  1200|                  4|\n",
      "|  1024|    73|           3|    4|  2000|                  7|\n",
      "|  1571|    74|           4|    3|   350|                 10|\n",
      "|  1048|    75|          23|    3|  5000|                  4|\n",
      "|   511|    78|           7|    3|  1200|                 14|\n",
      "|  1314|    88|           6|    3|  1100|                  7|\n",
      "|  1204|    91|          28|    5|  4800|                 16|\n",
      "|    66|    93|           6|    3|   800|                  7|\n",
      "|    58|    95|           7|    3|   400|                 14|\n",
      "|  1134|    96|           6|    3|   350|                  5|\n",
      "+------+------+------------+-----+------+-------------------+\n",
      "only showing top 20 rows\n",
      "\n"
     ]
    }
   ],
   "source": [
    "validation.select([\"userId\",\"loanId\",\"LoanIdFormat\",\"count\",\"Amount\",\"Total_Repayments__c\"]).show()"
   ]
  },
  {
   "cell_type": "code",
   "execution_count": 17,
   "id": "b4ec2ccf-e2df-4169-82d1-84b24e8cdf75",
   "metadata": {},
   "outputs": [
    {
     "name": "stdout",
     "output_type": "stream",
     "text": [
      "root\n",
      " |-- Min_IT_Loan_ID__c: integer (nullable = true)\n",
      " |-- Opp_Number__c: integer (nullable = true)\n",
      " |-- Id: string (nullable = true)\n",
      " |-- AccountID: string (nullable = true)\n",
      " |-- Number_Of_Loans_Granted__c: integer (nullable = true)\n",
      " |-- Num_Of_Loans_Paid__c: double (nullable = true)\n",
      " |-- Purpose_of_Loan__c: string (nullable = true)\n",
      " |-- Total_Repayments__c: integer (nullable = true)\n",
      " |-- Amount: integer (nullable = true)\n",
      " |-- Term_in_Weeks__c: double (nullable = true)\n",
      " |-- Payment_Frequency__c: string (nullable = true)\n",
      " |-- StageName: string (nullable = true)\n",
      " |-- userId: integer (nullable = true)\n",
      " |-- loanId: integer (nullable = true)\n",
      " |-- count: integer (nullable = true)\n",
      " |-- LoanIdFormat: integer (nullable = true)\n",
      "\n"
     ]
    }
   ],
   "source": [
    "loans_df.printSchema()"
   ]
  },
  {
   "cell_type": "code",
   "execution_count": 18,
   "id": "e2226eb6-5980-4249-bd83-5f3b6862faf1",
   "metadata": {},
   "outputs": [],
   "source": [
    "def train_ALS(train_data, validation_data, num_iters, reg_param, ranks):\n",
    "    \"\"\"\n",
    "    Grid Search Function to select the best model based on RMSE of hold-out data\n",
    "    \"\"\"\n",
    "    # initial\n",
    "    min_error = float('inf')\n",
    "    best_rank = -1\n",
    "    best_regularization = 0\n",
    "    best_model = None\n",
    "    for rank in ranks:\n",
    "        for reg in reg_param:\n",
    "            # Train the model using the training data\n",
    "            als_model = ALS(maxIter=num_iters,regParam=reg, rank=rank,\n",
    "                                        userCol='userId', itemCol='LoanIdFormat', ratingCol='count', seed=99,\n",
    "                           coldStartStrategy=\"drop\",nonnegative=True)\n",
    "            model = als_model.fit(train_data)\n",
    "            \n",
    "            # Generate predictions on the test data\n",
    "            predictions = model.transform(validation_data)\n",
    "            predictions = predictions.withColumn(\"prediction\", expr(\"CASE WHEN prediction < 0 THEN 0 WHEN prediction > 9 THEN 9 ELSE prediction END\"))\n",
    "            \n",
    "            evaluator = RegressionEvaluator(metricName='rmse', labelCol='count', predictionCol='prediction')\n",
    "            error = evaluator.evaluate(predictions)\n",
    "            \n",
    "            print('{} latent factors and regularization = {}: validation RMSE is {}'.format(rank, reg, error))\n",
    "            if error < min_error:\n",
    "                min_error = error\n",
    "                best_rank = rank\n",
    "                best_regularization = reg\n",
    "                best_model = model\n",
    "    print('\\nThe best model has {} latent factors and regularization = {}'.format(best_rank, best_regularization))\n",
    "    return best_model"
   ]
  },
  {
   "cell_type": "code",
   "execution_count": 19,
   "id": "fb8832fe-fe68-4372-9d4d-294633e187b0",
   "metadata": {},
   "outputs": [
    {
     "name": "stdout",
     "output_type": "stream",
     "text": [
      "8 latent factors and regularization = 0.001: validation RMSE is 1.0770222319300322\n",
      "8 latent factors and regularization = 0.01: validation RMSE is 0.8025233240201263\n",
      "8 latent factors and regularization = 0.05: validation RMSE is 0.527522726170566\n",
      "8 latent factors and regularization = 0.1: validation RMSE is 0.46882131290797485\n",
      "8 latent factors and regularization = 0.2: validation RMSE is 0.4874931815414786\n",
      "10 latent factors and regularization = 0.001: validation RMSE is 1.3328241475799896\n",
      "10 latent factors and regularization = 0.01: validation RMSE is 0.9039259654210019\n",
      "10 latent factors and regularization = 0.05: validation RMSE is 0.5515210594510861\n",
      "10 latent factors and regularization = 0.1: validation RMSE is 0.4794185060601832\n",
      "10 latent factors and regularization = 0.2: validation RMSE is 0.49036725712159\n",
      "20 latent factors and regularization = 0.001: validation RMSE is 0.8269294752310039\n",
      "20 latent factors and regularization = 0.01: validation RMSE is 0.6629257898098959\n",
      "20 latent factors and regularization = 0.05: validation RMSE is 0.5195271273184483\n",
      "20 latent factors and regularization = 0.1: validation RMSE is 0.476095886164591\n",
      "20 latent factors and regularization = 0.2: validation RMSE is 0.48958602371105286\n",
      "40 latent factors and regularization = 0.001: validation RMSE is 0.8280496707291646\n",
      "40 latent factors and regularization = 0.01: validation RMSE is 0.5900794796559278\n",
      "40 latent factors and regularization = 0.05: validation RMSE is 0.510027116369254\n",
      "40 latent factors and regularization = 0.1: validation RMSE is 0.47658916165888837\n",
      "40 latent factors and regularization = 0.2: validation RMSE is 0.4898141678617077\n",
      "60 latent factors and regularization = 0.001: validation RMSE is 0.6984461761337022\n",
      "60 latent factors and regularization = 0.01: validation RMSE is 0.5237160599987724\n",
      "60 latent factors and regularization = 0.05: validation RMSE is 0.5026116419231674\n",
      "60 latent factors and regularization = 0.1: validation RMSE is 0.4763124664780129\n",
      "60 latent factors and regularization = 0.2: validation RMSE is 0.492054783758611\n",
      "\n",
      "The best model has 8 latent factors and regularization = 0.1\n",
      "Total Runtime: 228.38 seconds\n"
     ]
    }
   ],
   "source": [
    "# hyper-param config\n",
    "num_iterations = 10\n",
    "ranks = [8, 10, 20, 40, 60]\n",
    "reg_params = [0.001, 0.01, 0.05, 0.1, 0.2]\n",
    "\n",
    "# grid search and select best model\n",
    "start_time = time.time()\n",
    "final_model = train_ALS(train, validation, num_iterations, reg_params, ranks)\n",
    "\n",
    "print ('Total Runtime: {:.2f} seconds'.format(time.time() - start_time))"
   ]
  },
  {
   "cell_type": "code",
   "execution_count": 20,
   "id": "c7cf3c57-11f2-46bd-b434-1cebf52a0c13",
   "metadata": {},
   "outputs": [],
   "source": [
    "# 40 latent factors and regularization = 0.001"
   ]
  },
  {
   "cell_type": "code",
   "execution_count": null,
   "id": "b0ea77f2-852c-4fb9-8523-f8c98386655c",
   "metadata": {},
   "outputs": [],
   "source": [
    " "
   ]
  },
  {
   "cell_type": "code",
   "execution_count": 21,
   "id": "57ba7905-f3e0-4a23-8b3d-0c41ffa5d0ca",
   "metadata": {},
   "outputs": [],
   "source": [
    "predictions = final_model.transform(validation)\n",
    "# predictions = predictions.withColumn(\"prediction\", expr(\"CASE WHEN prediction < 0 THEN 0 WHEN prediction > 9 THEN 9 ELSE prediction END\"))"
   ]
  },
  {
   "cell_type": "code",
   "execution_count": 22,
   "id": "fc5d0e5c-4b93-41d8-a633-400380fcccbd",
   "metadata": {},
   "outputs": [
    {
     "name": "stdout",
     "output_type": "stream",
     "text": [
      "root\n",
      " |-- Min_IT_Loan_ID__c: integer (nullable = true)\n",
      " |-- Opp_Number__c: integer (nullable = true)\n",
      " |-- Id: string (nullable = true)\n",
      " |-- AccountID: string (nullable = true)\n",
      " |-- Number_Of_Loans_Granted__c: integer (nullable = true)\n",
      " |-- Num_Of_Loans_Paid__c: double (nullable = true)\n",
      " |-- Purpose_of_Loan__c: string (nullable = true)\n",
      " |-- Total_Repayments__c: integer (nullable = true)\n",
      " |-- Amount: integer (nullable = true)\n",
      " |-- Term_in_Weeks__c: double (nullable = true)\n",
      " |-- Payment_Frequency__c: string (nullable = true)\n",
      " |-- StageName: string (nullable = true)\n",
      " |-- userId: integer (nullable = true)\n",
      " |-- loanId: integer (nullable = true)\n",
      " |-- count: integer (nullable = true)\n",
      " |-- LoanIdFormat: integer (nullable = true)\n",
      " |-- prediction: float (nullable = false)\n",
      "\n"
     ]
    }
   ],
   "source": [
    "predictions.printSchema()"
   ]
  },
  {
   "cell_type": "code",
   "execution_count": 23,
   "id": "24d2c7c3-8104-4b83-a3d8-2e4c3ece98ac",
   "metadata": {},
   "outputs": [
    {
     "name": "stdout",
     "output_type": "stream",
     "text": [
      "+------------+------+------+------+-------------------+-----+----------+\n",
      "|LoanIdFormat|loanId|userId|Amount|Total_Repayments__c|count|prediction|\n",
      "+------------+------+------+------+-------------------+-----+----------+\n",
      "|           3|   949|   858|  2000|                  7|    3|   2.83584|\n",
      "|           3|  2721|  1460|  2000|                  7|    3|  2.735635|\n",
      "|           6|  2915|   540|   500|                  5|    3|  2.834497|\n",
      "|           2|  3190|   897|  2050|                  5|    3|  2.851729|\n",
      "|           7|  1836|    31|   600|                 14|    3| 2.8237472|\n",
      "|           2|  2127|  1322|  2050|                  5|    3|  2.851729|\n",
      "|          13|  2644|  1270|  2200|                 20|    3| 2.8713784|\n",
      "|           6|  4471|  2821|   300|                  5|    1| 0.9448323|\n",
      "|           7|  3776|  2025|   200|                 12|    1| 0.9455326|\n",
      "|           6|  2392|   808|   800|                  3|    3|  2.834497|\n",
      "|           6|  2423|   580|   750|                  7|    3|  2.834497|\n",
      "+------------+------+------+------+-------------------+-----+----------+\n",
      "only showing top 11 rows\n",
      "\n"
     ]
    }
   ],
   "source": [
    "predictions.select([\"LoanIdFormat\",\"loanId\",\"userId\",\"Amount\",\"Total_Repayments__c\",\"count\",\"prediction\"]).show(11)"
   ]
  },
  {
   "cell_type": "code",
   "execution_count": 24,
   "id": "b0147d25-61eb-481f-a2dc-e754f74540cb",
   "metadata": {},
   "outputs": [
    {
     "name": "stdout",
     "output_type": "stream",
     "text": [
      "+----------+-----+\n",
      "|prediction|count|\n",
      "+----------+-----+\n",
      "|       0.0|    5|\n",
      "| 0.5921786|    1|\n",
      "| 0.6478725|    2|\n",
      "| 0.6785413|    1|\n",
      "| 0.7150632|    1|\n",
      "|0.74645513|    1|\n",
      "|0.76945287|    1|\n",
      "| 0.7736292|    1|\n",
      "| 0.8274406|    1|\n",
      "| 0.8385402|    1|\n",
      "| 0.8388414|    1|\n",
      "| 0.8418969|    1|\n",
      "|0.86428094|    1|\n",
      "| 0.8674216|    2|\n",
      "| 0.8692427|    7|\n",
      "|0.88774854|    1|\n",
      "|0.90373975|    1|\n",
      "| 0.9094535|    1|\n",
      "|0.91187835|    1|\n",
      "|0.91335565|    2|\n",
      "|0.91818106|    1|\n",
      "|0.92455125|    1|\n",
      "| 0.9386798|    1|\n",
      "|  0.941249|   21|\n",
      "|0.94442457|   17|\n",
      "| 0.9448323|    4|\n",
      "| 0.9455326|    3|\n",
      "|0.94635594|    2|\n",
      "| 0.9465364|    2|\n",
      "| 0.9471648|    1|\n",
      "|0.95057636|    1|\n",
      "|0.95306194|    1|\n",
      "|0.95530623|    3|\n",
      "| 0.9582224|    1|\n",
      "| 0.9682547|    1|\n",
      "|0.97168016|    1|\n",
      "| 0.9736835|    1|\n",
      "| 1.0104185|    5|\n",
      "| 1.1580828|    1|\n",
      "| 1.2016971|    1|\n",
      "| 1.2578104|    1|\n",
      "| 1.4183185|    1|\n",
      "| 1.6761374|    1|\n",
      "| 1.7233112|    1|\n",
      "| 1.7463152|    2|\n",
      "|  1.782915|    1|\n",
      "|  1.882498|    5|\n",
      "| 1.8888491|    3|\n",
      "| 1.8896646|    1|\n",
      "| 1.8910652|    2|\n",
      "+----------+-----+\n",
      "only showing top 50 rows\n",
      "\n"
     ]
    }
   ],
   "source": [
    "predictions.groupBy(predictions.prediction).count().sort(predictions.prediction).show(50)"
   ]
  },
  {
   "cell_type": "code",
   "execution_count": 25,
   "id": "1b1cb23d-bf6b-4cbe-9240-3a6c0dad2815",
   "metadata": {},
   "outputs": [
    {
     "name": "stdout",
     "output_type": "stream",
     "text": [
      "+-------+------------------+-----------------+\n",
      "|summary|        prediction|     LoanIdFormat|\n",
      "+-------+------------------+-----------------+\n",
      "|  count|               581|              581|\n",
      "|   mean|2.5976984482418857|8.586919104991393|\n",
      "| stddev|1.0085238253190267|6.719613672341118|\n",
      "|    min|               0.0|                1|\n",
      "|    max|          6.679113|               37|\n",
      "+-------+------------------+-----------------+\n",
      "\n"
     ]
    }
   ],
   "source": [
    "predictions.select(\"prediction\",\"LoanIdFormat\").describe().show()"
   ]
  },
  {
   "cell_type": "code",
   "execution_count": null,
   "id": "6947ef5d-365a-4f71-a8f9-c865c01e05eb",
   "metadata": {},
   "outputs": [],
   "source": []
  },
  {
   "cell_type": "code",
   "execution_count": null,
   "id": "8bd852bd-f5eb-4095-8b02-f255707397bc",
   "metadata": {},
   "outputs": [],
   "source": []
  },
  {
   "cell_type": "code",
   "execution_count": 26,
   "id": "d4fc2d3e-b55f-485c-a87d-ff790847e567",
   "metadata": {},
   "outputs": [],
   "source": [
    "evaluator = RegressionEvaluator(metricName='rmse', labelCol='count', predictionCol='prediction')\n",
    "error = evaluator.evaluate(predictions)"
   ]
  },
  {
   "cell_type": "code",
   "execution_count": 27,
   "id": "71839857-cdf9-4dbc-9310-f433c4b95729",
   "metadata": {},
   "outputs": [
    {
     "name": "stdout",
     "output_type": "stream",
     "text": [
      "The RMSE for the above mnodel is : 0.46882131290797485\n"
     ]
    }
   ],
   "source": [
    "print(f\"The RMSE for the above mnodel is : {error}\")"
   ]
  },
  {
   "cell_type": "code",
   "execution_count": null,
   "id": "7e841871-6577-464c-afd2-ef42dc748376",
   "metadata": {},
   "outputs": [],
   "source": []
  },
  {
   "cell_type": "code",
   "execution_count": 28,
   "id": "2f3d2b7d-9df0-40e8-9653-b67d488fd4ae",
   "metadata": {},
   "outputs": [],
   "source": [
    "userRecommends = final_model.recommendForAllUsers(5)\n",
    "loanRecommends = final_model.recommendForAllItems(5)"
   ]
  },
  {
   "cell_type": "code",
   "execution_count": 29,
   "id": "61490ce4-2ace-47dd-9d3b-b5b0f541a3e2",
   "metadata": {},
   "outputs": [
    {
     "name": "stdout",
     "output_type": "stream",
     "text": [
      "root\n",
      " |-- LoanIdFormat: integer (nullable = false)\n",
      " |-- recommendations: array (nullable = true)\n",
      " |    |-- element: struct (containsNull = true)\n",
      " |    |    |-- userId: integer (nullable = true)\n",
      " |    |    |-- rating: float (nullable = true)\n",
      "\n"
     ]
    }
   ],
   "source": [
    "loanRecommends.printSchema()"
   ]
  },
  {
   "cell_type": "code",
   "execution_count": 30,
   "id": "cae2167c-8455-4c19-a013-dd44e4b9d333",
   "metadata": {},
   "outputs": [
    {
     "name": "stdout",
     "output_type": "stream",
     "text": [
      "+------------+------------------------------+-------------------------------------------------------+\n",
      "|LoanIdFormat|userId                        |rating                                                 |\n",
      "+------------+------------------------------+-------------------------------------------------------+\n",
      "|20          |[1157, 1168, 1219, 103, 1119] |[4.499613, 3.906828, 3.7642965, 3.6192799, 3.5131187]  |\n",
      "|40          |[103, 1157, 1168, 1103, 683]  |[5.8770437, 5.616664, 5.4493914, 5.3740706, 5.2649093] |\n",
      "|10          |[103, 1168, 1157, 146, 106]   |[5.6706486, 5.3289933, 5.1810503, 4.916543, 4.9083853] |\n",
      "|30          |[1157, 1103, 103, 1284, 1166] |[6.501194, 5.9616733, 5.94357, 5.62871, 5.62871]       |\n",
      "|31          |[1168, 103, 1119, 106, 1013]  |[6.397545, 6.10162, 5.5110016, 4.857497, 4.334978]     |\n",
      "|1           |[103, 1168, 1157, 1119, 106]  |[6.1580677, 6.042989, 5.319733, 5.047728, 4.9205675]   |\n",
      "|21          |[1157, 1103, 1284, 1166, 1263]|[5.3761177, 4.9704947, 4.7037063, 4.7037063, 4.7010827]|\n",
      "|12          |[1157, 103, 1103, 1168, 1284] |[5.744987, 5.428649, 5.1832895, 5.123897, 4.869411]    |\n",
      "|2           |[103, 1168, 1157, 146, 1206]  |[5.5272894, 5.385803, 4.9362483, 4.8534536, 4.7528815] |\n",
      "|13          |[103, 1168, 106, 1157, 1119]  |[6.684263, 6.4406967, 5.5609517, 5.2670755, 5.0685897] |\n",
      "+------------+------------------------------+-------------------------------------------------------+\n",
      "only showing top 10 rows\n",
      "\n"
     ]
    }
   ],
   "source": [
    "loanRecommends.select([\"LoanIdFormat\",\"recommendations.userId\",\"recommendations.rating\"]).show(10,truncate=False)"
   ]
  },
  {
   "cell_type": "code",
   "execution_count": 31,
   "id": "378ae665-00b1-476d-a3b0-cda1de9698e3",
   "metadata": {},
   "outputs": [],
   "source": [
    "# loanRecommends.filter(loanRecommends['']).select([\"LoanIdFormat\",\"recommendations.userId\",\"recommendations.rating\"]).show(10,truncate=False)"
   ]
  },
  {
   "cell_type": "code",
   "execution_count": 32,
   "id": "bf08c18d-dae8-41f4-8595-f5922b0bcbaa",
   "metadata": {},
   "outputs": [
    {
     "name": "stdout",
     "output_type": "stream",
     "text": [
      "root\n",
      " |-- userId: integer (nullable = false)\n",
      " |-- recommendations: array (nullable = true)\n",
      " |    |-- element: struct (containsNull = true)\n",
      " |    |    |-- LoanIdFormat: integer (nullable = true)\n",
      " |    |    |-- rating: float (nullable = true)\n",
      "\n"
     ]
    }
   ],
   "source": [
    "userRecommends.printSchema()"
   ]
  },
  {
   "cell_type": "code",
   "execution_count": 35,
   "id": "fe062ea4-87e7-4f4e-9412-95c267d1d474",
   "metadata": {},
   "outputs": [
    {
     "name": "stdout",
     "output_type": "stream",
     "text": [
      "+------+--------------------+---------------------------------------------------------+\n",
      "|userId|LoanIdFormat        |rating                                                   |\n",
      "+------+--------------------+---------------------------------------------------------+\n",
      "|3     |[23, 27, 13, 16, 30]|[1.2580154, 1.0961709, 1.0103939, 0.98357594, 0.97828877]|\n",
      "|5     |[23, 27, 13, 16, 30]|[2.461672, 2.18268, 1.9956981, 1.960734, 1.9201549]      |\n",
      "|6     |[23, 27, 13, 16, 4] |[3.2253132, 2.653228, 2.5038433, 2.4772832, 2.4182558]   |\n",
      "|9     |[23, 27, 13, 16, 30]|[3.7486992, 3.2053785, 3.0174234, 2.9349818, 2.874092]   |\n",
      "|13    |[23, 27, 30, 40, 9] |[2.4199972, 2.394536, 2.175098, 2.060182, 2.020837]      |\n",
      "|15    |[27, 23, 30, 12, 3] |[3.6660874, 3.3004975, 3.2619295, 2.8800993, 2.849822]   |\n",
      "|16    |[27, 23, 30, 12, 40]|[4.9299016, 4.5451207, 4.052986, 3.8362134, 3.8261964]   |\n",
      "|17    |[23, 27, 13, 30, 16]|[3.7853613, 3.35779, 3.0338457, 2.9836323, 2.955611]     |\n",
      "|19    |[23, 16, 37, 27, 13]|[2.4467688, 2.2263708, 2.1676574, 2.162742, 2.146899]    |\n",
      "|26    |[27, 23, 30, 12, 3] |[3.6660874, 3.3004975, 3.2619295, 2.8800993, 2.849822]   |\n",
      "|27    |[23, 13, 27, 16, 4] |[0.83286107, 0.6734645, 0.6493199, 0.647754, 0.6401379]  |\n",
      "|28    |[23, 13, 27, 16, 37]|[4.9090953, 4.534697, 4.457918, 4.3303037, 4.2915134]    |\n",
      "|31    |[23, 27, 13, 16, 30]|[3.7486992, 3.2053785, 3.0174234, 2.9349818, 2.874092]   |\n",
      "|37    |[27, 23, 2, 10, 13] |[4.9043446, 4.587659, 4.2779865, 4.1190615, 4.0009823]   |\n",
      "|40    |[23, 27, 13, 30, 16]|[3.6007917, 3.230246, 2.964745, 2.8814175, 2.8482203]    |\n",
      "|41    |[23, 27, 30, 18, 37]|[4.203501, 4.125214, 3.864209, 3.4766269, 3.2837703]     |\n",
      "|43    |[27, 23, 30, 12, 3] |[3.6660874, 3.3004975, 3.2619295, 2.8800993, 2.849822]   |\n",
      "|47    |[23, 27, 30, 40, 9] |[3.6299958, 3.5918036, 3.262647, 3.090273, 3.0312552]    |\n",
      "|52    |[23, 27, 30, 40, 9] |[2.4199972, 2.394536, 2.175098, 2.060182, 2.020837]      |\n",
      "|53    |[23, 16, 37, 27, 13]|[2.0972302, 1.9083179, 1.8579922, 1.8537787, 1.8401991]  |\n",
      "|54    |[23, 16, 37, 31, 13]|[3.0147924, 2.8763385, 2.855486, 2.825395, 2.7302902]    |\n",
      "|57    |[27, 23, 30, 12, 3] |[1.2220292, 1.1001657, 1.0873098, 0.9600331, 0.9499407]  |\n",
      "|61    |[23, 27, 30, 40, 9] |[3.6299958, 3.5918036, 3.262647, 3.090273, 3.0312552]    |\n",
      "|64    |[23, 16, 37, 27, 13]|[2.0972302, 1.9083179, 1.8579922, 1.8537787, 1.8401991]  |\n",
      "|65    |[27, 23, 30, 12, 3] |[4.311899, 3.925354, 3.8438687, 3.3834329, 3.3456554]    |\n",
      "|76    |[23, 27, 30, 40, 9] |[1.1655691, 1.1605462, 1.0535268, 0.99673694, 0.98128384]|\n",
      "|78    |[23, 27, 30, 40, 9] |[3.6299958, 3.5918036, 3.262647, 3.090273, 3.0312552]    |\n",
      "|85    |[43, 40, 37, 34, 31]|[0.0, 0.0, 0.0, 0.0, 0.0]                                |\n",
      "|86    |[27, 23, 30, 40, 28]|[4.995677, 4.7697215, 4.4908276, 4.062771, 3.9952497]    |\n",
      "|88    |[27, 30, 23, 24, 21]|[3.442333, 3.2722738, 3.157891, 2.8813238, 2.8307285]    |\n",
      "|92    |[23, 27, 30, 40, 9] |[1.2099986, 1.197268, 1.087549, 1.030091, 1.0104185]     |\n",
      "|93    |[23, 27, 13, 16, 30]|[3.7740462, 3.2885125, 3.0311816, 2.9507277, 2.9348662]  |\n",
      "|94    |[27, 23, 30, 40, 28]|[4.5371413, 4.250845, 4.0649633, 3.6214867, 3.57535]     |\n",
      "|96    |[23, 27, 30, 40, 9] |[5.4059, 5.308886, 4.8292117, 4.6018043, 4.5179677]      |\n",
      "|101   |[23, 27, 13, 30, 16]|[1.261787, 1.1192633, 1.0112818, 0.9945441, 0.98520374]  |\n",
      "|103   |[23, 27, 13, 16, 37]|[7.6189466, 6.8914814, 6.684263, 6.5439997, 6.456488]    |\n",
      "|107   |[23, 27, 30, 40, 9] |[4.8399944, 4.789072, 4.350196, 4.120364, 4.041674]      |\n",
      "|108   |[23, 27, 30, 13, 18]|[4.3654995, 3.9518824, 3.5267186, 3.4696221, 3.3839405]  |\n",
      "|111   |[27, 23, 30, 12, 3] |[2.4440584, 2.2003314, 2.1746197, 1.9200662, 1.8998814]  |\n",
      "|112   |[27, 23, 30, 12, 3] |[4.4110208, 3.97609, 3.9255736, 3.4648657, 3.4281895]    |\n",
      "|115   |[27, 23, 30, 12, 3] |[3.6660874, 3.3004975, 3.2619295, 2.8800993, 2.849822]   |\n",
      "|117   |[23, 27, 13, 16, 37]|[3.1943226, 2.9760585, 2.9058952, 2.841023, 2.831923]    |\n",
      "|120   |[27, 21, 23, 30, 40]|[1.0332623, 0.95697063, 0.9331234, 0.824139, 0.7856663]  |\n",
      "|126   |[23, 27, 30, 40, 9] |[3.6299958, 3.5918036, 3.262647, 3.090273, 3.0312552]    |\n",
      "|127   |[23, 27, 13, 30, 16]|[3.4294903, 3.0555952, 2.7471693, 2.7122004, 2.6768482]  |\n",
      "|128   |[27, 23, 30, 40, 28]|[3.7195196, 3.5686357, 3.3586802, 3.0067158, 2.9620636]  |\n",
      "|132   |[23, 27, 13, 30, 16]|[1.261787, 1.1192633, 1.0112818, 0.9945441, 0.98520374]  |\n",
      "|133   |[30, 24, 27, 23, 18]|[3.6649284, 3.2840097, 3.2508812, 3.171325, 2.68924]     |\n",
      "|137   |[23, 27, 30, 40, 9] |[1.2099986, 1.197268, 1.087549, 1.030091, 1.0104185]     |\n",
      "|139   |[23, 16, 37, 27, 13]|[3.1458454, 2.8624773, 2.7869883, 2.780668, 2.7602985]   |\n",
      "+------+--------------------+---------------------------------------------------------+\n",
      "only showing top 50 rows\n",
      "\n"
     ]
    }
   ],
   "source": [
    "userRecommends.select([\"userId\",\"recommendations.LoanIdFormat\",\"recommendations.rating\"]).show(50,truncate=False)"
   ]
  },
  {
   "cell_type": "code",
   "execution_count": 36,
   "id": "3b675405-9f9d-4da6-a108-c4f241c381b8",
   "metadata": {},
   "outputs": [
    {
     "name": "stdout",
     "output_type": "stream",
     "text": [
      "+------+--------------------+------------------------------------------------------+\n",
      "|userId|LoanIdFormat        |rating                                                |\n",
      "+------+--------------------+------------------------------------------------------+\n",
      "|182   |[23, 27, 16, 13, 37]|[4.3327036, 3.8358905, 3.6890879, 3.6526358, 3.577213]|\n",
      "+------+--------------------+------------------------------------------------------+\n",
      "\n"
     ]
    }
   ],
   "source": [
    "userRecommends.filter(userRecommends['userId']==182).select([\"userId\",\"recommendations.LoanIdFormat\",\"recommendations.rating\"]).show(10,truncate=False)"
   ]
  },
  {
   "cell_type": "code",
   "execution_count": 38,
   "id": "6c43a8fb-3e0f-436e-ba38-8adf5efba30e",
   "metadata": {},
   "outputs": [
    {
     "name": "stdout",
     "output_type": "stream",
     "text": [
      "+------+------------------+\n",
      "|userId|AccountID         |\n",
      "+------+------------------+\n",
      "|182   |0010K00001jLiLnQAK|\n",
      "|182   |0010K00001jLiLnQAK|\n",
      "|182   |0010K00001jLiLnQAK|\n",
      "|182   |0010K00001jLiLnQAK|\n",
      "+------+------------------+\n",
      "\n"
     ]
    }
   ],
   "source": [
    "loans_df.filter(loans_df['userId']==182).select([\"userId\",\"AccountID\"]).show(10,truncate=False)"
   ]
  },
  {
   "cell_type": "code",
   "execution_count": null,
   "id": "506f48ec-bf35-468a-9836-17ac00c01137",
   "metadata": {},
   "outputs": [],
   "source": []
  },
  {
   "cell_type": "code",
   "execution_count": null,
   "id": "e5eff537-a3c1-4443-9c65-21c96030e522",
   "metadata": {},
   "outputs": [],
   "source": [
    " "
   ]
  },
  {
   "cell_type": "code",
   "execution_count": null,
   "id": "1f2bc25c-5a85-45e2-b89a-d75d65a70040",
   "metadata": {},
   "outputs": [],
   "source": []
  },
  {
   "cell_type": "code",
   "execution_count": null,
   "id": "70f7708c-9e0d-4e94-921d-4d9354ddfff9",
   "metadata": {},
   "outputs": [],
   "source": []
  },
  {
   "cell_type": "code",
   "execution_count": null,
   "id": "d3746986-f722-4a7c-9b38-eb0b29f58b07",
   "metadata": {},
   "outputs": [],
   "source": []
  },
  {
   "cell_type": "code",
   "execution_count": null,
   "id": "1cd2003f-d376-41b2-a93e-ac9ececa4a92",
   "metadata": {},
   "outputs": [],
   "source": []
  },
  {
   "cell_type": "code",
   "execution_count": null,
   "id": "033322bf-b7b3-4ef5-9ab7-feb8249ba3ef",
   "metadata": {},
   "outputs": [],
   "source": []
  },
  {
   "cell_type": "code",
   "execution_count": null,
   "id": "9b546cb9-ecdd-4922-a710-513e94c0472e",
   "metadata": {},
   "outputs": [],
   "source": []
  },
  {
   "cell_type": "code",
   "execution_count": null,
   "id": "0c9bcaa4-1bdc-41c7-9243-2ea48dbad534",
   "metadata": {},
   "outputs": [],
   "source": []
  },
  {
   "cell_type": "code",
   "execution_count": null,
   "id": "b6363316-327c-4857-9ca8-f5faead059c2",
   "metadata": {},
   "outputs": [],
   "source": []
  },
  {
   "cell_type": "code",
   "execution_count": null,
   "id": "9d5e2e17-f927-47ec-90d1-3e99bf69ccf2",
   "metadata": {},
   "outputs": [],
   "source": []
  },
  {
   "cell_type": "code",
   "execution_count": null,
   "id": "66323d0a-fcbd-40d0-a13e-6b9449a77f64",
   "metadata": {},
   "outputs": [],
   "source": []
  },
  {
   "cell_type": "code",
   "execution_count": null,
   "id": "7e719f90-aee0-453a-87d5-df0e82ae507d",
   "metadata": {},
   "outputs": [],
   "source": []
  },
  {
   "cell_type": "code",
   "execution_count": null,
   "id": "59d656cc-fa74-43fc-bcd2-9a73ff7c11ce",
   "metadata": {},
   "outputs": [],
   "source": []
  },
  {
   "cell_type": "code",
   "execution_count": null,
   "id": "d33def82-a07b-4e44-8f8e-560f0a15ffcc",
   "metadata": {},
   "outputs": [],
   "source": []
  },
  {
   "cell_type": "code",
   "execution_count": null,
   "id": "650b4b08-6081-4dc9-9e5f-b2e34a2008bc",
   "metadata": {},
   "outputs": [],
   "source": []
  },
  {
   "cell_type": "code",
   "execution_count": null,
   "id": "f2c7c001-9cd5-4715-9d50-720d5ba66e2e",
   "metadata": {},
   "outputs": [],
   "source": []
  },
  {
   "cell_type": "code",
   "execution_count": null,
   "id": "7acb6099-abb6-4cff-9e49-3eeb104578c4",
   "metadata": {},
   "outputs": [],
   "source": []
  },
  {
   "cell_type": "code",
   "execution_count": null,
   "id": "dcba036f-b1e9-461b-8242-00098fae6275",
   "metadata": {},
   "outputs": [],
   "source": []
  },
  {
   "cell_type": "code",
   "execution_count": null,
   "id": "0ba217e9-9090-4a73-9485-71c92c28419a",
   "metadata": {},
   "outputs": [],
   "source": []
  },
  {
   "cell_type": "code",
   "execution_count": null,
   "id": "22529ea9-b51f-4a38-b3ee-d40eb5c77d89",
   "metadata": {},
   "outputs": [],
   "source": []
  },
  {
   "cell_type": "code",
   "execution_count": null,
   "id": "2909cdce-0035-4a3d-9689-ab4c7872bb70",
   "metadata": {},
   "outputs": [],
   "source": []
  },
  {
   "cell_type": "code",
   "execution_count": null,
   "id": "21ae7ac8-4a44-433e-9543-3116b5500f77",
   "metadata": {},
   "outputs": [],
   "source": []
  },
  {
   "cell_type": "code",
   "execution_count": null,
   "id": "2866ce89-53b6-4825-b53d-9391a4866636",
   "metadata": {},
   "outputs": [],
   "source": []
  },
  {
   "cell_type": "code",
   "execution_count": null,
   "id": "3f83e0bf-1fe3-4625-88a1-26fb9eb94606",
   "metadata": {},
   "outputs": [],
   "source": []
  },
  {
   "cell_type": "code",
   "execution_count": null,
   "id": "3acabc90-3214-497e-872b-5c64f60f2d86",
   "metadata": {},
   "outputs": [],
   "source": []
  },
  {
   "cell_type": "code",
   "execution_count": null,
   "id": "89c5689f-94af-462a-b715-11e8476d126e",
   "metadata": {},
   "outputs": [],
   "source": []
  },
  {
   "cell_type": "code",
   "execution_count": null,
   "id": "85bae612-7516-4974-b713-c1dfc13ee362",
   "metadata": {},
   "outputs": [],
   "source": []
  },
  {
   "cell_type": "code",
   "execution_count": null,
   "id": "ece6e4b3-79ad-420c-8c39-e840866f075c",
   "metadata": {},
   "outputs": [],
   "source": []
  }
 ],
 "metadata": {
  "kernelspec": {
   "display_name": "Python 3 (ipykernel)",
   "language": "python",
   "name": "python3"
  },
  "language_info": {
   "codemirror_mode": {
    "name": "ipython",
    "version": 3
   },
   "file_extension": ".py",
   "mimetype": "text/x-python",
   "name": "python",
   "nbconvert_exporter": "python",
   "pygments_lexer": "ipython3",
   "version": "3.8.10"
  }
 },
 "nbformat": 4,
 "nbformat_minor": 5
}
